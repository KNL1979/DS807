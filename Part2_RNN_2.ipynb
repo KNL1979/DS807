{
  "cells": [
    {
      "cell_type": "markdown",
      "metadata": {
        "id": "view-in-github",
        "colab_type": "text"
      },
      "source": [
        "<a href=\"https://colab.research.google.com/github/KNL1979/DS807/blob/main/Part2_RNN_2.ipynb\" target=\"_parent\"><img src=\"https://colab.research.google.com/assets/colab-badge.svg\" alt=\"Open In Colab\"/></a>"
      ]
    },
    {
      "cell_type": "markdown",
      "metadata": {
        "id": "JcYTcb4y8ZzH"
      },
      "source": [
        "## Loading libraries"
      ]
    },
    {
      "cell_type": "code",
      "source": [
        "!pip install wandb -Uq"
      ],
      "metadata": {
        "id": "jjYezjWoPinI"
      },
      "execution_count": null,
      "outputs": []
    },
    {
      "cell_type": "code",
      "execution_count": null,
      "metadata": {
        "id": "s83J-JX47akn"
      },
      "outputs": [],
      "source": [
        "import tensorflow as tf\n",
        "\n",
        "import wandb\n",
        "from wandb.keras import WandbCallback, WandbMetricsLogger\n",
        "\n",
        "import pandas as pd\n",
        "#import requests\n",
        "#import random\n",
        "import gzip\n",
        "import json\n",
        "import io\n",
        "import os\n",
        "import numpy as np\n",
        "import matplotlib.pyplot as plt\n",
        "#import seaborn as sns\n",
        "\n",
        "from sklearn.metrics import accuracy_score, f1_score, precision_score, recall_score, classification_report, confusion_matrix, ConfusionMatrixDisplay\n",
        "from sklearn.metrics import precision_recall_fscore_support as score\n",
        "\n",
        "from sklearn.model_selection import train_test_split"
      ]
    },
    {
      "cell_type": "code",
      "source": [
        "import psutil"
      ],
      "metadata": {
        "id": "GlIPnvbhLKKB"
      },
      "execution_count": null,
      "outputs": []
    },
    {
      "cell_type": "code",
      "source": [
        "print('RAM Used (GB):', psutil.virtual_memory()[3]/1000000000)\n",
        "psutil.virtual_memory()[2]"
      ],
      "metadata": {
        "colab": {
          "base_uri": "https://localhost:8080/"
        },
        "id": "5m76M43HLRWE",
        "outputId": "16e7391e-4c3a-4918-cd52-3dcc6bdb254d"
      },
      "execution_count": null,
      "outputs": [
        {
          "output_type": "stream",
          "name": "stdout",
          "text": [
            "RAM Used (GB): 1.058914304\n"
          ]
        },
        {
          "output_type": "execute_result",
          "data": {
            "text/plain": [
              "3.0"
            ]
          },
          "metadata": {},
          "execution_count": 4
        }
      ]
    },
    {
      "cell_type": "markdown",
      "source": [
        "# Setting up with Google Drive"
      ],
      "metadata": {
        "id": "PWcj1Ompp73g"
      }
    },
    {
      "cell_type": "code",
      "execution_count": null,
      "metadata": {
        "colab": {
          "base_uri": "https://localhost:8080/"
        },
        "id": "A0tvCSQbE3oB",
        "outputId": "2fe24067-bde8-4c9d-b8e4-9c76aa9695dd"
      },
      "outputs": [
        {
          "output_type": "stream",
          "name": "stdout",
          "text": [
            "Drive already mounted at /content/gdrive; to attempt to forcibly remount, call drive.mount(\"/content/gdrive\", force_remount=True).\n"
          ]
        }
      ],
      "source": [
        "# Mount your google drive where you've saved your assignment folder\n",
        "from google.colab import drive\n",
        "drive.mount('/content/gdrive')"
      ]
    },
    {
      "cell_type": "code",
      "execution_count": null,
      "metadata": {
        "colab": {
          "base_uri": "https://localhost:8080/"
        },
        "id": "L8jPR7o6E4kE",
        "outputId": "64671382-9be3-402e-b578-b125f4b42c00"
      },
      "outputs": [
        {
          "output_type": "stream",
          "name": "stdout",
          "text": [
            "/content/gdrive/.shortcut-targets-by-id/1osKmyrDLORFSpes1mwrU-W7OXM-to6bK/AML_Exam/Problem2\n"
          ]
        }
      ],
      "source": [
        "# Replace '------' with the path such that \"DM890_assignment_1\" is your working directory\n",
        "%cd '/content/gdrive/My Drive/AML_Exam/Problem2'"
      ]
    },
    {
      "cell_type": "markdown",
      "metadata": {
        "id": "1jFc8n0zaNYx"
      },
      "source": [
        "# Function to sample the data, and data paths"
      ]
    },
    {
      "cell_type": "code",
      "execution_count": null,
      "metadata": {
        "id": "jwuGmNz6xH05"
      },
      "outputs": [],
      "source": [
        "def dataset_name(file_path):\n",
        "  dataset_name = os.path.splitext(os.path.basename(file_path))[0].replace('_5.json', '')\n",
        "  return dataset_name"
      ]
    },
    {
      "cell_type": "code",
      "source": [
        "def loading_gz(file_path, printing = False, load_all = False, max_load_samples = np.inf, max_samples_per_cat = 2000):\n",
        "  my_keys = ['overall', 'reviewText', 'summary']\n",
        "  with gzip.open(file_path, 'rt', encoding='utf-8') as g:\n",
        "          # Initialize an empty list to store sampled rows\n",
        "          sampled_data = []\n",
        "          for i, line in enumerate(g):\n",
        "              if printing:\n",
        "                if i % 1000 == 0:\n",
        "                    print(i)\n",
        "              data = json.loads(line)\n",
        "              sampled_data.append({k: data[k] for k in my_keys & data.keys()})\n",
        "              if i > max_load_samples:\n",
        "                break\n",
        "          sampled_data = pd.DataFrame(sampled_data)\n",
        "          sampled_data.dropna(inplace = True)\n",
        "\n",
        "          if load_all:\n",
        "            return sampled_data\n",
        "\n",
        "          nMax = sampled_data.groupby('overall').count().min()[0] * 3\n",
        "          #my_max = min(nMax, 2000)\n",
        "          res = sampled_data.groupby('overall').apply(lambda x: x.sample(n = min(nMax, len(x), max_samples_per_cat))).reset_index(drop = True)\n",
        "\n",
        "          return res.sample(frac=1)\n"
      ],
      "metadata": {
        "id": "ngTUMbIjzrCO"
      },
      "execution_count": null,
      "outputs": []
    },
    {
      "cell_type": "code",
      "source": [
        "# List of file paths for your 29 datasets\n",
        "file_paths_train = [\n",
        "    '/content/gdrive/My Drive/AML_Exam/Problem2/data/Arts_Crafts_and_Sewing_5.json.gz',\n",
        "    '/content/gdrive/My Drive/AML_Exam/Problem2/data/Prime_Pantry_5.json.gz'\n",
        "]\n",
        "\n",
        "path_val  = '/content/gdrive/My Drive/AML_Exam/Problem2/data/All_Beauty_5.json.gz'\n",
        "\n",
        "path_test = '/content/gdrive/My Drive/AML_Exam/Problem2/data/Luxury_Beauty_5.json.gz'\n",
        "\n",
        "data_path_dict = {dataset_name(k):k for k in file_paths_train}\n"
      ],
      "metadata": {
        "id": "h6ABWCfqNgab"
      },
      "execution_count": null,
      "outputs": []
    },
    {
      "cell_type": "markdown",
      "source": [
        "# Loading data"
      ],
      "metadata": {
        "id": "A4XOPkW5K8Ow"
      }
    },
    {
      "cell_type": "code",
      "source": [
        "device_name = tf.test.gpu_device_name()\n",
        "if device_name != '/device:GPU:0':\n",
        "  raise SystemError('GPU device not found')\n",
        "print('Found GPU at: {}'.format(device_name))"
      ],
      "metadata": {
        "colab": {
          "base_uri": "https://localhost:8080/"
        },
        "id": "aw8WnDQ0QIw3",
        "outputId": "3d07886c-8a07-4b1b-d7c4-22482b81684a"
      },
      "execution_count": null,
      "outputs": [
        {
          "output_type": "stream",
          "name": "stdout",
          "text": [
            "Found GPU at: /device:GPU:0\n"
          ]
        }
      ]
    },
    {
      "cell_type": "markdown",
      "source": [
        "## Defining Encoding function"
      ],
      "metadata": {
        "id": "Kigt2Q2_C3s5"
      }
    },
    {
      "cell_type": "code",
      "source": [
        "def my_encoder(x_train, x_test = None, MAX_VOCAB_SIZE = 1000, OUTPUT_LENGTH = None):\n",
        "  encoder = tf.keras.layers.TextVectorization(max_tokens=MAX_VOCAB_SIZE, output_sequence_length = OUTPUT_LENGTH)\n",
        "  encoder.adapt(x_train)\n",
        "  # vocab = np.array(encoder.get_vocabulary())\n",
        "\n",
        "  encoded_x = encoder(x_train)\n",
        "\n",
        "  if not pd.isnull(x_test).all():\n",
        "    encoded_x_test = encoder(x_test)\n",
        "    return encoded_x, encoded_x_test\n",
        "  else:\n",
        "    return encoded_x"
      ],
      "metadata": {
        "id": "K8oH16GvWhZy"
      },
      "execution_count": null,
      "outputs": []
    },
    {
      "cell_type": "code",
      "source": [
        "data_path_dict"
      ],
      "metadata": {
        "colab": {
          "base_uri": "https://localhost:8080/"
        },
        "id": "QvstnqYRyuYC",
        "outputId": "eef9d1a9-47c1-4b64-c0bd-dadc0c344ae1"
      },
      "execution_count": null,
      "outputs": [
        {
          "output_type": "execute_result",
          "data": {
            "text/plain": [
              "{'Arts_Crafts_and_Sewing': '/content/gdrive/My Drive/AML_Exam/Problem2/data/Arts_Crafts_and_Sewing_5.json.gz',\n",
              " 'Prime_Pantry': '/content/gdrive/My Drive/AML_Exam/Problem2/data/Prime_Pantry_5.json.gz'}"
            ]
          },
          "metadata": {},
          "execution_count": 14
        }
      ]
    },
    {
      "cell_type": "markdown",
      "source": [
        "# Function for builder RNN models"
      ],
      "metadata": {
        "id": "twyqAmwmla2e"
      }
    },
    {
      "cell_type": "code",
      "source": [
        "def model_builder(vocab_size, review_length, embedding_size, RNN_LAYERS: list):\n",
        "    model = tf.keras.models.Sequential()\n",
        "\n",
        "    model.add(tf.keras.layers.Embedding(input_dim = vocab_size, output_dim = embedding_size))\n",
        "\n",
        "    def my_RNN(rnn_dict):\n",
        "      if rnn_dict['rnn_type'] == 'LSTM':\n",
        "        layer = tf.keras.layers.LSTM(rnn_dict['width'], return_sequences = rnn_dict['return_seq'])\n",
        "      elif rnn_dict['rnn_type'] == 'GRU':\n",
        "        layer = tf.keras.layers.GRU(rnn_dict['width'], return_sequences = rnn_dict['return_seq'])\n",
        "      if rnn_dict['bi'] == True:\n",
        "        return tf.keras.layers.Bidirectional(layer, merge_mode = rnn_dict['bi_merge'])\n",
        "      else:\n",
        "        return layer\n",
        "\n",
        "    for layer in RNN_LAYERS:\n",
        "      model.add(my_RNN(layer))\n",
        "\n",
        "    model.add(tf.keras.layers.Dense(5, activation='softmax'))\n",
        "\n",
        "    return model\n",
        "\n"
      ],
      "metadata": {
        "id": "_GPQ830uAAUD"
      },
      "execution_count": null,
      "outputs": []
    },
    {
      "cell_type": "code",
      "source": [
        "RNN_layers_1 = [\n",
        "    {'rnn_type': 'LSTM',\n",
        "     'width': 128,\n",
        "     'return_seq' : True ,\n",
        "     'bi': True,\n",
        "     'bi_merge': 'concat'},\n",
        "    {'rnn_type': 'LSTM',\n",
        "     'width': 128,\n",
        "     'return_seq' : True ,\n",
        "     'bi': True,\n",
        "     'bi_merge': 'sum'},\n",
        "    {'rnn_type': 'LSTM',\n",
        "     'width': 32,\n",
        "     'return_seq' : False,\n",
        "     'bi': False\n",
        "    }]\n",
        "\n",
        "RNN_layers_2 = [\n",
        "    {'rnn_type': 'LSTM',\n",
        "     'width': 128,\n",
        "     'return_seq' : True ,\n",
        "     'bi': True,\n",
        "     'bi_merge': 'sum'},\n",
        "    {'rnn_type': 'LSTM',\n",
        "     'width': 128,\n",
        "     'return_seq' : True ,\n",
        "     'bi': True,\n",
        "     'bi_merge': 'concat'},\n",
        "    {'rnn_type': 'LSTM',\n",
        "     'width': 32,\n",
        "     'return_seq' : False,\n",
        "     'bi': False\n",
        "    }]\n",
        "\n",
        "\n",
        "RNN_layers_3 = [\n",
        "    {'rnn_type': 'LSTM',\n",
        "     'width': 256,\n",
        "     'return_seq' : True ,\n",
        "     'bi': False},\n",
        "    {'rnn_type': 'LSTM',\n",
        "     'width': 32,\n",
        "     'return_seq' : True,\n",
        "     'bi': False},\n",
        "    {'rnn_type': 'LSTM',\n",
        "     'width': 16,\n",
        "     'return_seq' : False,\n",
        "     'bi': False\n",
        "    }]\n",
        "\n",
        "\n",
        "\n",
        "RNN_layers_4 = [\n",
        "    {'rnn_type': 'GRU',\n",
        "     'width': 256,\n",
        "     'return_seq' : True ,\n",
        "     'bi': False},\n",
        "    {'rnn_type': 'GRU',\n",
        "     'width': 32,\n",
        "     'return_seq' : True,\n",
        "     'bi': False},\n",
        "    {'rnn_type': 'GRU',\n",
        "     'width': 16,\n",
        "     'return_seq' : False,\n",
        "     'bi': False\n",
        "    }]\n",
        "\n",
        "\n",
        "RNN_dict = {'model_1': RNN_layers_1, 'model_2': RNN_layers_2, 'model_3': RNN_layers_3, 'model_4': RNN_layers_4}\n",
        "\n",
        "#RNN_layers = [['LSTM', 200, True , False], ['LSTM', 2, False , False]]\n",
        "print(model_builder(1500, 100, 128, RNN_dict['model_1']).summary())\n",
        "print(model_builder(1500, 100, 128, RNN_dict['model_2']).summary())\n",
        "print(model_builder(1500, 100, 128, RNN_dict['model_3']).summary())\n",
        "print(model_builder(1500, 100, 128, RNN_dict['model_4']).summary())"
      ],
      "metadata": {
        "colab": {
          "base_uri": "https://localhost:8080/"
        },
        "id": "rr5KuxPWQJGC",
        "outputId": "7db8c8ff-66e9-4e52-c0eb-ce964d8a812e"
      },
      "execution_count": null,
      "outputs": [
        {
          "output_type": "stream",
          "name": "stdout",
          "text": [
            "Model: \"sequential\"\n",
            "_________________________________________________________________\n",
            " Layer (type)                Output Shape              Param #   \n",
            "=================================================================\n",
            " embedding (Embedding)       (None, None, 128)         192000    \n",
            "                                                                 \n",
            " bidirectional (Bidirection  (None, None, 256)         263168    \n",
            " al)                                                             \n",
            "                                                                 \n",
            " bidirectional_1 (Bidirecti  (None, None, 128)         394240    \n",
            " onal)                                                           \n",
            "                                                                 \n",
            " lstm_2 (LSTM)               (None, 32)                20608     \n",
            "                                                                 \n",
            " dense (Dense)               (None, 5)                 165       \n",
            "                                                                 \n",
            "=================================================================\n",
            "Total params: 870181 (3.32 MB)\n",
            "Trainable params: 870181 (3.32 MB)\n",
            "Non-trainable params: 0 (0.00 Byte)\n",
            "_________________________________________________________________\n",
            "None\n",
            "Model: \"sequential_1\"\n",
            "_________________________________________________________________\n",
            " Layer (type)                Output Shape              Param #   \n",
            "=================================================================\n",
            " embedding_1 (Embedding)     (None, None, 128)         192000    \n",
            "                                                                 \n",
            " bidirectional_2 (Bidirecti  (None, None, 128)         263168    \n",
            " onal)                                                           \n",
            "                                                                 \n",
            " bidirectional_3 (Bidirecti  (None, None, 256)         263168    \n",
            " onal)                                                           \n",
            "                                                                 \n",
            " lstm_5 (LSTM)               (None, 32)                36992     \n",
            "                                                                 \n",
            " dense_1 (Dense)             (None, 5)                 165       \n",
            "                                                                 \n",
            "=================================================================\n",
            "Total params: 755493 (2.88 MB)\n",
            "Trainable params: 755493 (2.88 MB)\n",
            "Non-trainable params: 0 (0.00 Byte)\n",
            "_________________________________________________________________\n",
            "None\n",
            "Model: \"sequential_2\"\n",
            "_________________________________________________________________\n",
            " Layer (type)                Output Shape              Param #   \n",
            "=================================================================\n",
            " embedding_2 (Embedding)     (None, None, 128)         192000    \n",
            "                                                                 \n",
            " lstm_6 (LSTM)               (None, None, 256)         394240    \n",
            "                                                                 \n",
            " lstm_7 (LSTM)               (None, None, 32)          36992     \n",
            "                                                                 \n",
            " lstm_8 (LSTM)               (None, 16)                3136      \n",
            "                                                                 \n",
            " dense_2 (Dense)             (None, 5)                 85        \n",
            "                                                                 \n",
            "=================================================================\n",
            "Total params: 626453 (2.39 MB)\n",
            "Trainable params: 626453 (2.39 MB)\n",
            "Non-trainable params: 0 (0.00 Byte)\n",
            "_________________________________________________________________\n",
            "None\n",
            "Model: \"sequential_3\"\n",
            "_________________________________________________________________\n",
            " Layer (type)                Output Shape              Param #   \n",
            "=================================================================\n",
            " embedding_3 (Embedding)     (None, None, 128)         192000    \n",
            "                                                                 \n",
            " gru (GRU)                   (None, None, 256)         296448    \n",
            "                                                                 \n",
            " gru_1 (GRU)                 (None, None, 32)          27840     \n",
            "                                                                 \n",
            " gru_2 (GRU)                 (None, 16)                2400      \n",
            "                                                                 \n",
            " dense_3 (Dense)             (None, 5)                 85        \n",
            "                                                                 \n",
            "=================================================================\n",
            "Total params: 518773 (1.98 MB)\n",
            "Trainable params: 518773 (1.98 MB)\n",
            "Non-trainable params: 0 (0.00 Byte)\n",
            "_________________________________________________________________\n",
            "None\n"
          ]
        }
      ]
    },
    {
      "cell_type": "markdown",
      "source": [
        "# WANDB initialization"
      ],
      "metadata": {
        "id": "wrNSbeIhPYNk"
      }
    },
    {
      "cell_type": "code",
      "source": [
        "train_name = 'Prime_Pantry'\n",
        "load_train = loading_gz(data_path_dict[train_name], max_load_samples = 2000000, max_samples_per_cat=50000)\n",
        "x_train = load_train['reviewText']\n",
        "y_train = tf.one_hot(load_train['overall']-1,5) #the minus 1 is to adjust for the output of the model being [0,4]\n",
        "\n",
        "load_val = loading_gz(path_val, load_all=True)\n",
        "x_val = load_val['reviewText']\n",
        "y_val = tf.one_hot(load_val['overall']-1,5) #the minus 1 is to adjust for the output of the model being [0,4]\n",
        "\n",
        "encoded_train, encoded_val  = my_encoder(x_train, x_val, MAX_VOCAB_SIZE = 1500, OUTPUT_LENGTH = 100)"
      ],
      "metadata": {
        "id": "x4wk5ZrH0Jzr"
      },
      "execution_count": null,
      "outputs": []
    },
    {
      "cell_type": "code",
      "source": [
        "#wandb.login()\n",
        "os.environ[\"WANDB_API_KEY\"] = \"f1dd10d2eaa5cc353bbe282583f7fc58b9b6c733\"\n",
        "sweep_navn = \"ModelTest_4\""
      ],
      "metadata": {
        "id": "f-wEhuJtPeB9"
      },
      "execution_count": null,
      "outputs": []
    },
    {
      "cell_type": "code",
      "source": [
        "# Configure the sweep – specify the parameters to search through, the search strategy, the optimization metric et all.\n",
        "sweep_config = {\n",
        "    'name': sweep_navn,\n",
        "    'method': 'grid', #grid, random\n",
        "    'metric': {\n",
        "        'name': 'loss',\n",
        "        'goal': 'minimize'\n",
        "    },\n",
        "    'parameters': {\n",
        "        #'training_set_name': {'values': list(data_path_dict.keys())},\n",
        "        'embedding_size': {'values': [32,64,128,256]},\n",
        "        #'RNN_layer_width':  {'values': [32, 64, 128]},\n",
        "        'RNN_layer_model': {'values': list(RNN_dict.keys())},\n",
        "        #'vocab_size': {'values': [500,1000,1500,2000]},\n",
        "        #'review_length': {'values': [None, 50, 100, 150, 200]},\n",
        "        #'epochs': {'values': [20]},\n",
        "        #'batch_size': {'values': [64]},\n",
        "        #'dropout': {'values': [0.0, 0.1, 0.2, 0.3, 0.4, 0.5]},\n",
        "        #'learning_rate': {'values': [0.0075]},\n",
        "        #'optimizer': {'values': ['adam', 'SGD']},\n",
        "        #'activation': {'values': ['relu']},\n",
        "    }\n",
        "}\n",
        "\n",
        "sweep_id = wandb.sweep(sweep_config, project=\"RNN_preliminary_tests\", entity='coffeegang')"
      ],
      "metadata": {
        "colab": {
          "base_uri": "https://localhost:8080/"
        },
        "id": "1t615gKwQH98",
        "outputId": "1e799841-a351-4c3a-e656-bc71289bfd1d"
      },
      "execution_count": null,
      "outputs": [
        {
          "output_type": "stream",
          "name": "stdout",
          "text": [
            "Create sweep with ID: r8db3smm\n",
            "Sweep URL: https://wandb.ai/coffeegang/RNN_preliminary_tests/sweeps/r8db3smm\n"
          ]
        }
      ]
    },
    {
      "cell_type": "markdown",
      "source": [
        "## Setting up RNN with gpu"
      ],
      "metadata": {
        "id": "DDxal2M8L6hk"
      }
    },
    {
      "cell_type": "code",
      "source": [
        "def train_model():\n",
        "  config_defaults = {\n",
        "    #'training_set_name': '',\n",
        "    'vocab_size': 1500,\n",
        "    'review_length': 100,\n",
        "    'RNN_layer_model': 'model_1',\n",
        "    #'embedding_size': 128,\n",
        "    #'RNN_layer_width': 64,\n",
        "    #'RNN_layer_type': 'LSTM',\n",
        "    #'train_size': int(50000/5),\n",
        "    'epochs': 50,\n",
        "    'batch_size': 64,\n",
        "    'learning_rate': 0.0075,\n",
        "    'optimizer': 'adam',\n",
        "    #'validation_split': 0.3,\n",
        "  }\n",
        "\n",
        "  with tf.device('/gpu:0'):\n",
        "    # Initialize a new wandb run\n",
        "    wandb.init(config=config_defaults)\n",
        "\n",
        "    # Config is a variable that holds and saves hyperparameters and inputs\n",
        "    config = wandb.config\n",
        "\n",
        "\n",
        "    model = model_builder(config.vocab_size, config.review_length, config.embedding_size, RNN_dict[config.RNN_layer_model])\n",
        "\n",
        "    optimizer = tf.keras.optimizers.Adam(learning_rate = config.learning_rate)\n",
        "\n",
        "    model.compile(\n",
        "        loss = \"categorical_crossentropy\",\n",
        "        optimizer = optimizer,\n",
        "        metrics = [tf.keras.metrics.CategoricalAccuracy(),\n",
        "                   tf.keras.metrics.Precision(),\n",
        "                   tf.keras.metrics.Recall(),\n",
        "                   tf.keras.metrics.F1Score()\n",
        "                   ]+[tf.keras.metrics.Precision(class_id= x, name = f\"Precision_{x}\") for x in range(5)] +[tf.keras.metrics.Recall(class_id= x, name = f\"Recall_{x}\") for x in range(5)]\n",
        "                   ,\n",
        "        )\n",
        "\n",
        "\n",
        "    wandb.log({\"train_set\": train_name, \"size_train\": len(x_train), 'rnn_layer_model': RNN_dict[config.RNN_layer_model]})\n",
        "\n",
        "    model.fit(encoded_train, y_train,\n",
        "              epochs = config.epochs,\n",
        "              batch_size = config.batch_size,\n",
        "              validation_data=(encoded_val, y_val),\n",
        "              callbacks=[WandbCallback(save_model = False),\n",
        "                          tf.keras.callbacks.EarlyStopping(\n",
        "                              monitor=\"loss\",\n",
        "                              #min_delta=0.01,\n",
        "                              patience=3,\n",
        "                              #mode=\"max\"\n",
        "                          )])"
      ],
      "metadata": {
        "id": "rXmqeygSC3DJ"
      },
      "execution_count": null,
      "outputs": []
    },
    {
      "cell_type": "code",
      "source": [
        "wandb.agent(sweep_id, train_model)"
      ],
      "metadata": {
        "colab": {
          "base_uri": "https://localhost:8080/",
          "height": 1000,
          "referenced_widgets": [
            "f8a19d18dbbc4460b9c765eb72019ec4",
            "242a9b1990064ac1a306d94aa7cd1a8a",
            "409ddc06dd05467383d9a92b9e6d3db2",
            "a2d1bc7f3c5a4f5d9d63aba1aed692ae",
            "0967f9b0be304541be296e586537e8ac",
            "61f027bcaf9348e5a741525f07e8c32e",
            "5634b3e814d14fbf9b5ff6822bb10cfa",
            "ba176442bb1045199ce470d96f7c556a",
            "3082793037cc48298195e1312e2c9985",
            "27b792311e304bbca828b59b0a9d1311",
            "fce317f0b72e422c91fab252bf3e416a",
            "d6badfbb37064f89891f7218c0a35827",
            "f16f71a1a7af49f5844501b2cf5e5af5",
            "a2fdb44daf684b6c9065ab282600c401",
            "b1d470ef15e848a68017ee19a9896810",
            "faf2dc9af7cd4c428319951c44ceab2d",
            "892504368d0249829c77bc4fdc56d50e",
            "ab874c5b9d5c4439b564cc83ed82bf19",
            "bd59d9b2d41a4c5fa06418390ed5629a",
            "169843af951241b7be1a8abf34288d40",
            "a2b1fd6e7b064ea6be156a8904a1ef2e",
            "29e69ebdd58e4d2ea599c04aab704f6b",
            "a25a8e1cd5df495eb6a804e192d580e0",
            "05294cccb1d248949021f72d6fd85b26",
            "5747a9e8a8b94d06bdd08a8b30c75407",
            "0ee01ecf691a4b2e915c7b3b66469af5",
            "9ee144ad3b3e4ce69b7ad7849c0bd4ff",
            "bdddfba55f98424fb98d826b8826c2f2",
            "d4247a4e39ac4a6b822364166756e2ca",
            "30749fa4c87c47a08a783f44323f0ba1",
            "d11f7a3839f84e93894e381d7a484f39",
            "b4da0176dcaf4cef9a88982b6e728386",
            "b3e2bcd3f4b14f77a79afeda4b26e486",
            "35ef9f0c225041b1aa37a33907be59a5",
            "75eeb0ef67244ec9b69c7245185ae22a",
            "20dffbe38f29412c93f145ebf54a41b4",
            "a085969f5f3d49859a7703e26be66081",
            "60dcdce6387346babbbc8c92262be485",
            "fff7083f20644bf2b96f93c9e0716de2",
            "a209bdba11364dc18cfbe5aa81e28207",
            "593bbccf67b046a8ae680e937d5df36a",
            "5ac3295b99b94c7e823bb3dffd1c9ad1",
            "a3195a10f13942e180e0011b6835ebb7",
            "06ba18b20dec4aeb822a8c1b1965926e",
            "4b457754d4344eebb10af104ef5183e6",
            "3bd3ba656de24a68a52edd979d9d1664",
            "9fe0f9b322d7471caaa8864fb85a1a53",
            "5b78ff810f9b49dfba6b38d8bcde1a0c",
            "311ec9d7d7ce4f3982dee09311241395",
            "d3cd30ff60ec4f5c977fb31fa5e1e57b",
            "8094332a61bb4cbfab76614114450450",
            "fc4e4c1a31c446fa854389bf8fbb2af3",
            "a0f96506621048af84d888f778cd1544",
            "05eadd8cdb9143df9a150e8333eb3a78",
            "6d3ab24b661c47eba1a200da3c0690aa",
            "eaa6417299c14d27b9833970d792af4b",
            "85f46a77b1454d43a87cd81b8e29ad73",
            "9f3e7117578e4944bcc46010679285a2",
            "22ef174ab4c4498eac50f8021a5033bd",
            "7d382be59ea047d6beaf7322bce9a23f",
            "c81619dead6c43ed95ca64f1b7b220ad",
            "3585b527b90b4db78c061503bd9c0b86",
            "092bde3b156e4d2bb6be3cf95ec6e435",
            "982b67b3c90741939985bbce7db2fc13",
            "31c2db33c6e0426c8f7feab803d99329",
            "12a4d4ad810f4fb79e029253d1855928",
            "650a23a8378a488d815bf6d458635d21",
            "edf2323b85a144fdbe62ba19d08f515d",
            "6834f6f9f2b84fc3ac2687098bb97847",
            "02600d3e6cba42678813b771763b62bd",
            "0823a8cb90c040e8a818e1bf1b65d8fd",
            "317d080727e64d72a6dd8bc06e00d8d2",
            "5f90d36ca24e423badf92abc24d3a58e",
            "e3065ec2c047484ca7af6e10c0a46899",
            "94e9dbe7c35b46dd93bba09525bc6a1a",
            "3cd4481e5072403ba25a384c27382c60",
            "6f52a4da161146b09dc4bc3efa8b5313",
            "b5337bcbfb2f4d7ba12206801717f13a",
            "3a6878ca416941eba91217457d37533c",
            "fc78bb99a899428a95970acc2a76ceda",
            "35a7be792df14a88be17e638d45debad",
            "210d34d6c0664fb49d679557c746c57b",
            "cc65d626a4a34c44b1bfc51251c17a7f",
            "f55083af70724ac798de64fbfc55a0c2",
            "fbbbffbe2fe0410aa8c3821e6d1966ab",
            "1285bda4ee5541d29a34ceffef4a795f",
            "d53968aa0efc48c8bb1083b5e3536426",
            "d363cdec42c64eb39244f3515d0a094d",
            "1e402a69fb5b439dbc4cbda8cd7a3704",
            "d9bf0ba0ec7d4feab399b54f42506ed5",
            "8a9987548a4549bea68ae57ac530a984",
            "a38b3bc17e8c4f468a1b4981c3565115",
            "dcbe615305574e79be8c78b09aa41a10",
            "443eb81bf8ab40e0aabac65623bd4fc5",
            "dad0cd20cf0540d29397d0c8145df779",
            "a16bf222d7ba41e28799dbc4f113a6c3",
            "337acd90830143aa850cc6bb2f2e8065",
            "f67dbdadcfbd4de18e536a977a16c2e3",
            "16258960616e4571b93d0a4580bb0686",
            "a8faa8aa216d4dc69b4c90624a52a0d2",
            "23bb1a28829748e0a8eb96daa5368c25",
            "9cd683830bd7432b91a7265e527f6571",
            "169287e4cce7471fac20efdab60bc2f3",
            "fc99485d5e294e60b9860934a29dc538",
            "7a236dac35f8416283a68b21517b4beb",
            "7857ec87144c4b67abcda110f63de4af",
            "796def938bcf4db78fc9d906df71c3f0",
            "fedb98a8a0b14749b32ac9443b35b1ff",
            "15a2e17049bf40e384d46c649f6c1159",
            "f6cddcf26f154c709a25d28ebe37db65",
            "96678e95c17148ebaeb26b56d31f1102",
            "6115faf4af874b109e2fa5561e2c9d6e",
            "1069f65feb864df0901dfaacf4e7ea25",
            "1f23af12a35c4e87ab8a8a0aeef0caac",
            "a2d4a37684424d068f4f706226f3b0d3",
            "3c4b9308eeb44042a7b8d20f3175bef8",
            "9b1cde6517a9473d99b687514bda3e7e",
            "af429abd5390403fa15bdf6b54cf1f4c",
            "444683ef7dbd41c78f4425f795e01452",
            "719797c686ca44ad918b8c52e9d0e87c",
            "e2d60b5a0753487596f3e623b6f218b6",
            "c9dffa1570b84133a180ad1c286a5fa8",
            "66a9aa6a1bfb484589f85614ef0281e9",
            "6d3a294c60bf44dfb910d5a7cc2af03f",
            "3eec716715c14e6890f12fc1d3318e2a",
            "6a476b18fac548dc8cd44d86b455d256",
            "14c7c3f0903f430c8e25fc99171a0bc6",
            "c84f5cde01d8450db02d220d05e85c4a"
          ]
        },
        "id": "yvEkpSUZeAPT",
        "outputId": "3fcdf5ed-c64b-4bc6-a89e-12e6bfc66289"
      },
      "execution_count": null,
      "outputs": [
        {
          "output_type": "stream",
          "name": "stderr",
          "text": [
            "\u001b[34m\u001b[1mwandb\u001b[0m: Agent Starting Run: tieadk91 with config:\n",
            "\u001b[34m\u001b[1mwandb\u001b[0m: \tRNN_layer_model: model_1\n",
            "\u001b[34m\u001b[1mwandb\u001b[0m: \tembedding_size: 32\n",
            "\u001b[34m\u001b[1mwandb\u001b[0m: Currently logged in as: \u001b[33maksel\u001b[0m (\u001b[33mcoffeegang\u001b[0m). Use \u001b[1m`wandb login --relogin`\u001b[0m to force relogin\n"
          ]
        },
        {
          "output_type": "display_data",
          "data": {
            "text/plain": [
              "<IPython.core.display.HTML object>"
            ],
            "text/html": [
              "Tracking run with wandb version 0.16.2"
            ]
          },
          "metadata": {}
        },
        {
          "output_type": "display_data",
          "data": {
            "text/plain": [
              "<IPython.core.display.HTML object>"
            ],
            "text/html": [
              "Run data is saved locally in <code>/content/gdrive/.shortcut-targets-by-id/1osKmyrDLORFSpes1mwrU-W7OXM-to6bK/AML_Exam/Problem2/wandb/run-20240129_162258-tieadk91</code>"
            ]
          },
          "metadata": {}
        },
        {
          "output_type": "display_data",
          "data": {
            "text/plain": [
              "<IPython.core.display.HTML object>"
            ],
            "text/html": [
              "Syncing run <strong><a href='https://wandb.ai/coffeegang/RNN_preliminary_tests/runs/tieadk91' target=\"_blank\">zany-sweep-1</a></strong> to <a href='https://wandb.ai/coffeegang/RNN_preliminary_tests' target=\"_blank\">Weights & Biases</a> (<a href='https://wandb.me/run' target=\"_blank\">docs</a>)<br/>Sweep page: <a href='https://wandb.ai/coffeegang/RNN_preliminary_tests/sweeps/r8db3smm' target=\"_blank\">https://wandb.ai/coffeegang/RNN_preliminary_tests/sweeps/r8db3smm</a>"
            ]
          },
          "metadata": {}
        },
        {
          "output_type": "display_data",
          "data": {
            "text/plain": [
              "<IPython.core.display.HTML object>"
            ],
            "text/html": [
              " View project at <a href='https://wandb.ai/coffeegang/RNN_preliminary_tests' target=\"_blank\">https://wandb.ai/coffeegang/RNN_preliminary_tests</a>"
            ]
          },
          "metadata": {}
        },
        {
          "output_type": "display_data",
          "data": {
            "text/plain": [
              "<IPython.core.display.HTML object>"
            ],
            "text/html": [
              " View sweep at <a href='https://wandb.ai/coffeegang/RNN_preliminary_tests/sweeps/r8db3smm' target=\"_blank\">https://wandb.ai/coffeegang/RNN_preliminary_tests/sweeps/r8db3smm</a>"
            ]
          },
          "metadata": {}
        },
        {
          "output_type": "display_data",
          "data": {
            "text/plain": [
              "<IPython.core.display.HTML object>"
            ],
            "text/html": [
              " View run at <a href='https://wandb.ai/coffeegang/RNN_preliminary_tests/runs/tieadk91' target=\"_blank\">https://wandb.ai/coffeegang/RNN_preliminary_tests/runs/tieadk91</a>"
            ]
          },
          "metadata": {}
        },
        {
          "output_type": "stream",
          "name": "stdout",
          "text": [
            "Epoch 1/50\n",
            "556/556 [==============================] - 55s 82ms/step - loss: 1.5035 - categorical_accuracy: 0.2923 - precision: 0.1333 - recall: 5.6305e-05 - f1_score: 0.1936 - Precision_0: 0.1333 - Precision_1: 0.0000e+00 - Precision_2: 0.0000e+00 - Precision_3: 0.0000e+00 - Precision_4: 0.0000e+00 - Recall_0: 6.1520e-04 - Recall_1: 0.0000e+00 - Recall_2: 0.0000e+00 - Recall_3: 0.0000e+00 - Recall_4: 0.0000e+00 - val_loss: 1.2928 - val_categorical_accuracy: 0.7165 - val_precision: 0.0000e+00 - val_recall: 0.0000e+00 - val_f1_score: 0.1876 - val_Precision_0: 0.0000e+00 - val_Precision_1: 0.0000e+00 - val_Precision_2: 0.0000e+00 - val_Precision_3: 0.0000e+00 - val_Precision_4: 0.0000e+00 - val_Recall_0: 0.0000e+00 - val_Recall_1: 0.0000e+00 - val_Recall_2: 0.0000e+00 - val_Recall_3: 0.0000e+00 - val_Recall_4: 0.0000e+00\n",
            "Epoch 2/50\n",
            "556/556 [==============================] - 23s 41ms/step - loss: 1.4186 - categorical_accuracy: 0.3686 - precision: 0.4889 - recall: 0.0266 - f1_score: 0.2343 - Precision_0: 0.0000e+00 - Precision_1: 0.0000e+00 - Precision_2: 0.0000e+00 - Precision_3: 0.0000e+00 - Precision_4: 0.4889 - Recall_0: 0.0000e+00 - Recall_1: 0.0000e+00 - Recall_2: 0.0000e+00 - Recall_3: 0.0000e+00 - Recall_4: 0.0969 - val_loss: 1.1795 - val_categorical_accuracy: 0.6486 - val_precision: 0.9653 - val_recall: 0.4978 - val_f1_score: 0.1982 - val_Precision_0: 0.0000e+00 - val_Precision_1: 0.0000e+00 - val_Precision_2: 0.0000e+00 - val_Precision_3: 0.0000e+00 - val_Precision_4: 0.9653 - val_Recall_0: 0.0000e+00 - val_Recall_1: 0.0000e+00 - val_Recall_2: 0.0000e+00 - val_Recall_3: 0.0000e+00 - val_Recall_4: 0.5643\n",
            "Epoch 3/50\n",
            "556/556 [==============================] - 18s 32ms/step - loss: 1.2485 - categorical_accuracy: 0.4509 - precision: 0.6177 - recall: 0.1416 - f1_score: 0.2958 - Precision_0: 0.0000e+00 - Precision_1: 0.0000e+00 - Precision_2: 0.0000e+00 - Precision_3: 0.4631 - Precision_4: 0.6206 - Recall_0: 0.0000e+00 - Recall_1: 0.0000e+00 - Recall_2: 0.0000e+00 - Recall_3: 0.0071 - Recall_4: 0.5088 - val_loss: 0.8413 - val_categorical_accuracy: 0.6604 - val_precision: 0.9703 - val_recall: 0.5522 - val_f1_score: 0.2379 - val_Precision_0: 0.0000e+00 - val_Precision_1: 0.0000e+00 - val_Precision_2: 0.0000e+00 - val_Precision_3: 0.0000e+00 - val_Precision_4: 0.9703 - val_Recall_0: 0.0000e+00 - val_Recall_1: 0.0000e+00 - val_Recall_2: 0.0000e+00 - val_Recall_3: 0.0000e+00 - val_Recall_4: 0.6260\n",
            "Epoch 4/50\n",
            "556/556 [==============================] - 17s 31ms/step - loss: 1.1684 - categorical_accuracy: 0.4868 - precision: 0.6400 - recall: 0.1697 - f1_score: 0.3838 - Precision_0: 0.5403 - Precision_1: 0.0000e+00 - Precision_2: 0.3949 - Precision_3: 0.4927 - Precision_4: 0.6687 - Recall_0: 0.0763 - Recall_1: 0.0000e+00 - Recall_2: 0.0068 - Recall_3: 0.0484 - Recall_4: 0.5380 - val_loss: 0.9784 - val_categorical_accuracy: 0.5465 - val_precision: 0.9727 - val_recall: 0.4883 - val_f1_score: 0.2962 - val_Precision_0: 0.7000 - val_Precision_1: 0.0000e+00 - val_Precision_2: 0.0000e+00 - val_Precision_3: 0.0000e+00 - val_Precision_4: 0.9769 - val_Recall_0: 0.2435 - val_Recall_1: 0.0000e+00 - val_Recall_2: 0.0000e+00 - val_Recall_3: 0.0000e+00 - val_Recall_4: 0.5475\n",
            "Epoch 5/50\n",
            "556/556 [==============================] - 16s 30ms/step - loss: 1.1266 - categorical_accuracy: 0.5137 - precision: 0.6081 - recall: 0.2556 - f1_score: 0.4332 - Precision_0: 0.5714 - Precision_1: 0.0000e+00 - Precision_2: 0.5101 - Precision_3: 0.5014 - Precision_4: 0.6802 - Recall_0: 0.2498 - Recall_1: 0.0000e+00 - Recall_2: 0.1805 - Recall_3: 0.1075 - Recall_4: 0.5717 - val_loss: 1.0390 - val_categorical_accuracy: 0.5377 - val_precision: 0.8185 - val_recall: 0.4725 - val_f1_score: 0.3156 - val_Precision_0: 1.0000 - val_Precision_1: 0.0000e+00 - val_Precision_2: 0.0606 - val_Precision_3: 0.0000e+00 - val_Precision_4: 0.9780 - val_Recall_0: 0.0957 - val_Recall_1: 0.0000e+00 - val_Recall_2: 0.2936 - val_Recall_3: 0.0000e+00 - val_Recall_4: 0.5264\n",
            "Epoch 6/50\n",
            "556/556 [==============================] - 17s 31ms/step - loss: 1.0895 - categorical_accuracy: 0.5285 - precision: 0.6118 - recall: 0.3399 - f1_score: 0.4704 - Precision_0: 0.6277 - Precision_1: 0.0000e+00 - Precision_2: 0.5613 - Precision_3: 0.5271 - Precision_4: 0.6806 - Recall_0: 0.3008 - Recall_1: 0.0000e+00 - Recall_2: 0.3712 - Recall_3: 0.1962 - Recall_4: 0.5949 - val_loss: 0.8477 - val_categorical_accuracy: 0.6539 - val_precision: 0.7973 - val_recall: 0.5969 - val_f1_score: 0.3209 - val_Precision_0: 0.6562 - val_Precision_1: 0.0000e+00 - val_Precision_2: 0.2478 - val_Precision_3: 0.1436 - val_Precision_4: 0.9733 - val_Recall_0: 0.1826 - val_Recall_1: 0.0000e+00 - val_Recall_2: 0.2569 - val_Recall_3: 0.3133 - val_Recall_4: 0.6437\n",
            "Epoch 7/50\n",
            "556/556 [==============================] - 16s 29ms/step - loss: 1.0447 - categorical_accuracy: 0.5483 - precision: 0.6276 - recall: 0.3983 - f1_score: 0.4987 - Precision_0: 0.6627 - Precision_1: 0.0000e+00 - Precision_2: 0.6011 - Precision_3: 0.5502 - Precision_4: 0.6892 - Recall_0: 0.3427 - Recall_1: 0.0000e+00 - Recall_2: 0.4072 - Recall_3: 0.3250 - Recall_4: 0.6311 - val_loss: 0.8960 - val_categorical_accuracy: 0.6298 - val_precision: 0.8404 - val_recall: 0.5098 - val_f1_score: 0.3518 - val_Precision_0: 0.8421 - val_Precision_1: 0.0000e+00 - val_Precision_2: 0.1439 - val_Precision_3: 0.1554 - val_Precision_4: 0.9810 - val_Recall_0: 0.1391 - val_Recall_1: 0.0000e+00 - val_Recall_2: 0.1835 - val_Recall_3: 0.1867 - val_Recall_4: 0.5568\n",
            "Epoch 8/50\n",
            "556/556 [==============================] - 16s 28ms/step - loss: 1.0112 - categorical_accuracy: 0.5695 - precision: 0.6394 - recall: 0.4295 - f1_score: 0.5282 - Precision_0: 0.6746 - Precision_1: 0.0000e+00 - Precision_2: 0.6192 - Precision_3: 0.5663 - Precision_4: 0.6965 - Recall_0: 0.3916 - Recall_1: 0.0000e+00 - Recall_2: 0.4554 - Recall_3: 0.3581 - Recall_4: 0.6503 - val_loss: 1.0031 - val_categorical_accuracy: 0.5916 - val_precision: 0.6605 - val_recall: 0.5212 - val_f1_score: 0.3137 - val_Precision_0: 0.6889 - val_Precision_1: 0.0000e+00 - val_Precision_2: 0.1992 - val_Precision_3: 0.1167 - val_Precision_4: 0.9785 - val_Recall_0: 0.2696 - val_Recall_1: 0.0000e+00 - val_Recall_2: 0.4679 - val_Recall_3: 0.4518 - val_Recall_4: 0.5408\n",
            "Epoch 9/50\n",
            "556/556 [==============================] - 16s 29ms/step - loss: 0.9811 - categorical_accuracy: 0.5824 - precision: 0.6535 - recall: 0.4592 - f1_score: 0.5491 - Precision_0: 0.7127 - Precision_1: 0.0000e+00 - Precision_2: 0.6408 - Precision_3: 0.5807 - Precision_4: 0.7044 - Recall_0: 0.4097 - Recall_1: 0.0000e+00 - Recall_2: 0.4928 - Recall_3: 0.4041 - Recall_4: 0.6716 - val_loss: 0.8222 - val_categorical_accuracy: 0.7188 - val_precision: 0.8617 - val_recall: 0.6503 - val_f1_score: 0.3956 - val_Precision_0: 0.5325 - val_Precision_1: 0.0000e+00 - val_Precision_2: 0.1902 - val_Precision_3: 0.1460 - val_Precision_4: 0.9672 - val_Recall_0: 0.3565 - val_Recall_1: 0.0000e+00 - val_Recall_2: 0.2844 - val_Recall_3: 0.1386 - val_Recall_4: 0.7118\n",
            "Epoch 10/50\n",
            "556/556 [==============================] - 16s 29ms/step - loss: 0.9667 - categorical_accuracy: 0.5865 - precision: 0.6570 - recall: 0.4601 - f1_score: 0.5544 - Precision_0: 0.7240 - Precision_1: 0.2500 - Precision_2: 0.6473 - Precision_3: 0.5826 - Precision_4: 0.7032 - Recall_0: 0.4180 - Recall_1: 2.7337e-04 - Recall_2: 0.5063 - Recall_3: 0.3898 - Recall_4: 0.6736 - val_loss: 0.9268 - val_categorical_accuracy: 0.6494 - val_precision: 0.7402 - val_recall: 0.5737 - val_f1_score: 0.3792 - val_Precision_0: 0.3083 - val_Precision_1: 0.0000e+00 - val_Precision_2: 0.1500 - val_Precision_3: 0.1328 - val_Precision_4: 0.9813 - val_Recall_0: 0.3565 - val_Recall_1: 0.0000e+00 - val_Recall_2: 0.2202 - val_Recall_3: 0.3584 - val_Recall_4: 0.6107\n",
            "Epoch 11/50\n",
            "556/556 [==============================] - 16s 30ms/step - loss: 0.9435 - categorical_accuracy: 0.6011 - precision: 0.6663 - recall: 0.4810 - f1_score: 0.5747 - Precision_0: 0.7312 - Precision_1: 0.4607 - Precision_2: 0.6602 - Precision_3: 0.5875 - Precision_4: 0.7196 - Recall_0: 0.4777 - Recall_1: 0.0112 - Recall_2: 0.5202 - Recall_3: 0.4302 - Recall_4: 0.6726 - val_loss: 0.9605 - val_categorical_accuracy: 0.5976 - val_precision: 0.7056 - val_recall: 0.5459 - val_f1_score: 0.3579 - val_Precision_0: 0.3162 - val_Precision_1: 0.0000e+00 - val_Precision_2: 0.1802 - val_Precision_3: 0.1331 - val_Precision_4: 0.9790 - val_Recall_0: 0.3739 - val_Recall_1: 0.0000e+00 - val_Recall_2: 0.3670 - val_Recall_3: 0.4006 - val_Recall_4: 0.5723\n",
            "Epoch 12/50\n",
            "556/556 [==============================] - 16s 29ms/step - loss: 0.9174 - categorical_accuracy: 0.6136 - precision: 0.6719 - recall: 0.5072 - f1_score: 0.5917 - Precision_0: 0.7464 - Precision_1: 0.5000 - Precision_2: 0.6639 - Precision_3: 0.5997 - Precision_4: 0.7240 - Recall_0: 0.5134 - Recall_1: 0.0372 - Recall_2: 0.5522 - Recall_3: 0.4606 - Recall_4: 0.6863 - val_loss: 0.8141 - val_categorical_accuracy: 0.6522 - val_precision: 0.7602 - val_recall: 0.6005 - val_f1_score: 0.3436 - val_Precision_0: 0.3803 - val_Precision_1: 0.0000e+00 - val_Precision_2: 0.1786 - val_Precision_3: 0.1351 - val_Precision_4: 0.9726 - val_Recall_0: 0.2348 - val_Recall_1: 0.0000e+00 - val_Recall_2: 0.2752 - val_Recall_3: 0.3434 - val_Recall_4: 0.6439\n",
            "Epoch 13/50\n",
            "556/556 [==============================] - 17s 30ms/step - loss: 0.9008 - categorical_accuracy: 0.6214 - precision: 0.6789 - recall: 0.5214 - f1_score: 0.5991 - Precision_0: 0.7560 - Precision_1: 0.4979 - Precision_2: 0.6712 - Precision_3: 0.6122 - Precision_4: 0.7299 - Recall_0: 0.5260 - Recall_1: 0.0651 - Recall_2: 0.5564 - Recall_3: 0.4780 - Recall_4: 0.7016 - val_loss: 0.9221 - val_categorical_accuracy: 0.6254 - val_precision: 0.7040 - val_recall: 0.5887 - val_f1_score: 0.2893 - val_Precision_0: 0.3103 - val_Precision_1: 0.0000e+00 - val_Precision_2: 0.1235 - val_Precision_3: 0.1328 - val_Precision_4: 0.9784 - val_Recall_0: 0.1565 - val_Recall_1: 0.0000e+00 - val_Recall_2: 0.3670 - val_Recall_3: 0.4217 - val_Recall_4: 0.6247\n",
            "Epoch 14/50\n",
            "556/556 [==============================] - 16s 30ms/step - loss: 0.8894 - categorical_accuracy: 0.6282 - precision: 0.6846 - recall: 0.5239 - f1_score: 0.6084 - Precision_0: 0.7710 - Precision_1: 0.4657 - Precision_2: 0.6810 - Precision_3: 0.6181 - Precision_4: 0.7350 - Recall_0: 0.5343 - Recall_1: 0.0779 - Recall_2: 0.5616 - Recall_3: 0.4774 - Recall_4: 0.6991 - val_loss: 0.9835 - val_categorical_accuracy: 0.6168 - val_precision: 0.7204 - val_recall: 0.5752 - val_f1_score: 0.3265 - val_Precision_0: 0.3306 - val_Precision_1: 0.2222 - val_Precision_2: 0.1269 - val_Precision_3: 0.1552 - val_Precision_4: 0.9766 - val_Recall_0: 0.3565 - val_Recall_1: 0.1562 - val_Recall_2: 0.3028 - val_Recall_3: 0.4217 - val_Recall_4: 0.6038\n",
            "Epoch 15/50\n",
            "556/556 [==============================] - 16s 29ms/step - loss: 0.8647 - categorical_accuracy: 0.6418 - precision: 0.6884 - recall: 0.5532 - f1_score: 0.6241 - Precision_0: 0.7711 - Precision_1: 0.5094 - Precision_2: 0.6908 - Precision_3: 0.6300 - Precision_4: 0.7428 - Recall_0: 0.5595 - Recall_1: 0.2075 - Recall_2: 0.5813 - Recall_3: 0.5002 - Recall_4: 0.7075 - val_loss: 0.8970 - val_categorical_accuracy: 0.6646 - val_precision: 0.7560 - val_recall: 0.6267 - val_f1_score: 0.3155 - val_Precision_0: 0.3267 - val_Precision_1: 0.0000e+00 - val_Precision_2: 0.1594 - val_Precision_3: 0.1148 - val_Precision_4: 0.9693 - val_Recall_0: 0.4261 - val_Recall_1: 0.0000e+00 - val_Recall_2: 0.3670 - val_Recall_3: 0.2530 - val_Recall_4: 0.6732\n",
            "Epoch 16/50\n",
            "556/556 [==============================] - 16s 29ms/step - loss: 0.8427 - categorical_accuracy: 0.6532 - precision: 0.6962 - recall: 0.5798 - f1_score: 0.6352 - Precision_0: 0.7866 - Precision_1: 0.5437 - Precision_2: 0.7012 - Precision_3: 0.6440 - Precision_4: 0.7430 - Recall_0: 0.5758 - Recall_1: 0.2808 - Recall_2: 0.6087 - Recall_3: 0.5205 - Recall_4: 0.7257 - val_loss: 0.8501 - val_categorical_accuracy: 0.7024 - val_precision: 0.7714 - val_recall: 0.6469 - val_f1_score: 0.3554 - val_Precision_0: 0.3386 - val_Precision_1: 0.1754 - val_Precision_2: 0.1156 - val_Precision_3: 0.1268 - val_Precision_4: 0.9706 - val_Recall_0: 0.3739 - val_Recall_1: 0.1562 - val_Recall_2: 0.3394 - val_Recall_3: 0.2169 - val_Recall_4: 0.6984\n",
            "Epoch 17/50\n",
            "556/556 [==============================] - 16s 29ms/step - loss: 0.8427 - categorical_accuracy: 0.6527 - precision: 0.6955 - recall: 0.5783 - f1_score: 0.6364 - Precision_0: 0.7863 - Precision_1: 0.5421 - Precision_2: 0.6958 - Precision_3: 0.6464 - Precision_4: 0.7469 - Recall_0: 0.5681 - Recall_1: 0.3133 - Recall_2: 0.6081 - Recall_3: 0.5084 - Recall_4: 0.7232 - val_loss: 1.0126 - val_categorical_accuracy: 0.6627 - val_precision: 0.7234 - val_recall: 0.6226 - val_f1_score: 0.3440 - val_Precision_0: 0.2955 - val_Precision_1: 0.2727 - val_Precision_2: 0.1041 - val_Precision_3: 0.1232 - val_Precision_4: 0.9695 - val_Recall_0: 0.3391 - val_Recall_1: 0.2344 - val_Recall_2: 0.3761 - val_Recall_3: 0.2831 - val_Recall_4: 0.6650\n",
            "Epoch 18/50\n",
            "556/556 [==============================] - 17s 30ms/step - loss: 0.8232 - categorical_accuracy: 0.6607 - precision: 0.7034 - recall: 0.5926 - f1_score: 0.6451 - Precision_0: 0.7930 - Precision_1: 0.5517 - Precision_2: 0.7111 - Precision_3: 0.6501 - Precision_4: 0.7555 - Recall_0: 0.5964 - Recall_1: 0.3458 - Recall_2: 0.6193 - Recall_3: 0.5264 - Recall_4: 0.7252 - val_loss: 0.9389 - val_categorical_accuracy: 0.6636 - val_precision: 0.7234 - val_recall: 0.6186 - val_f1_score: 0.3603 - val_Precision_0: 0.3333 - val_Precision_1: 0.2185 - val_Precision_2: 0.1306 - val_Precision_3: 0.1519 - val_Precision_4: 0.9772 - val_Recall_0: 0.4261 - val_Recall_1: 0.5156 - val_Recall_2: 0.2661 - val_Recall_3: 0.4127 - val_Recall_4: 0.6478\n",
            "Epoch 19/50\n",
            "556/556 [==============================] - 16s 29ms/step - loss: 0.8084 - categorical_accuracy: 0.6696 - precision: 0.7097 - recall: 0.6088 - f1_score: 0.6542 - Precision_0: 0.7971 - Precision_1: 0.5681 - Precision_2: 0.7138 - Precision_3: 0.6628 - Precision_4: 0.7629 - Recall_0: 0.5958 - Recall_1: 0.4046 - Recall_2: 0.6397 - Recall_3: 0.5413 - Recall_4: 0.7284 - val_loss: 1.0059 - val_categorical_accuracy: 0.6496 - val_precision: 0.6911 - val_recall: 0.6246 - val_f1_score: 0.3374 - val_Precision_0: 0.2690 - val_Precision_1: 0.1955 - val_Precision_2: 0.0922 - val_Precision_3: 0.1352 - val_Precision_4: 0.9760 - val_Recall_0: 0.3391 - val_Recall_1: 0.4062 - val_Recall_2: 0.3486 - val_Recall_3: 0.3795 - val_Recall_4: 0.6588\n",
            "Epoch 20/50\n",
            "556/556 [==============================] - 16s 29ms/step - loss: 0.7929 - categorical_accuracy: 0.6781 - precision: 0.7142 - recall: 0.6201 - f1_score: 0.6653 - Precision_0: 0.8035 - Precision_1: 0.5837 - Precision_2: 0.7166 - Precision_3: 0.6674 - Precision_4: 0.7662 - Recall_0: 0.6189 - Recall_1: 0.4278 - Recall_2: 0.6363 - Recall_3: 0.5591 - Recall_4: 0.7385 - val_loss: 0.8988 - val_categorical_accuracy: 0.6940 - val_precision: 0.7480 - val_recall: 0.6602 - val_f1_score: 0.3533 - val_Precision_0: 0.3526 - val_Precision_1: 0.1702 - val_Precision_2: 0.0823 - val_Precision_3: 0.1532 - val_Precision_4: 0.9660 - val_Recall_0: 0.4783 - val_Recall_1: 0.2500 - val_Recall_2: 0.2385 - val_Recall_3: 0.3193 - val_Recall_4: 0.7047\n",
            "Epoch 21/50\n",
            "556/556 [==============================] - 16s 29ms/step - loss: 0.7952 - categorical_accuracy: 0.6737 - precision: 0.7118 - recall: 0.6172 - f1_score: 0.6584 - Precision_0: 0.7898 - Precision_1: 0.5754 - Precision_2: 0.7102 - Precision_3: 0.6762 - Precision_4: 0.7573 - Recall_0: 0.6229 - Recall_1: 0.4035 - Recall_2: 0.6529 - Recall_3: 0.5343 - Recall_4: 0.7450 - val_loss: 1.0483 - val_categorical_accuracy: 0.6484 - val_precision: 0.6969 - val_recall: 0.6108 - val_f1_score: 0.3434 - val_Precision_0: 0.3195 - val_Precision_1: 0.1789 - val_Precision_2: 0.1178 - val_Precision_3: 0.1075 - val_Precision_4: 0.9725 - val_Recall_0: 0.4696 - val_Recall_1: 0.2656 - val_Recall_2: 0.4862 - val_Recall_3: 0.2620 - val_Recall_4: 0.6469\n",
            "Epoch 22/50\n",
            "556/556 [==============================] - 17s 30ms/step - loss: 0.7787 - categorical_accuracy: 0.6848 - precision: 0.7205 - recall: 0.6273 - f1_score: 0.6734 - Precision_0: 0.8209 - Precision_1: 0.5911 - Precision_2: 0.7219 - Precision_3: 0.6772 - Precision_4: 0.7682 - Recall_0: 0.6275 - Recall_1: 0.4656 - Recall_2: 0.6585 - Recall_3: 0.5435 - Recall_4: 0.7427 - val_loss: 0.9806 - val_categorical_accuracy: 0.6619 - val_precision: 0.7332 - val_recall: 0.6110 - val_f1_score: 0.3492 - val_Precision_0: 0.3812 - val_Precision_1: 0.1909 - val_Precision_2: 0.0980 - val_Precision_3: 0.1479 - val_Precision_4: 0.9671 - val_Recall_0: 0.6000 - val_Recall_1: 0.3281 - val_Recall_2: 0.3578 - val_Recall_3: 0.2651 - val_Recall_4: 0.6458\n",
            "Epoch 23/50\n",
            "556/556 [==============================] - 16s 29ms/step - loss: 0.7917 - categorical_accuracy: 0.6792 - precision: 0.7150 - recall: 0.6208 - f1_score: 0.6655 - Precision_0: 0.8010 - Precision_1: 0.5842 - Precision_2: 0.7178 - Precision_3: 0.6636 - Precision_4: 0.7752 - Recall_0: 0.6204 - Recall_1: 0.4229 - Recall_2: 0.6535 - Recall_3: 0.5719 - Recall_4: 0.7134 - val_loss: 1.0073 - val_categorical_accuracy: 0.6458 - val_precision: 0.7045 - val_recall: 0.6132 - val_f1_score: 0.3544 - val_Precision_0: 0.3734 - val_Precision_1: 0.2174 - val_Precision_2: 0.1120 - val_Precision_3: 0.1291 - val_Precision_4: 0.9717 - val_Recall_0: 0.5130 - val_Recall_1: 0.4688 - val_Recall_2: 0.3670 - val_Recall_3: 0.3313 - val_Recall_4: 0.6437\n",
            "Epoch 24/50\n",
            "556/556 [==============================] - 16s 29ms/step - loss: 0.7877 - categorical_accuracy: 0.6789 - precision: 0.7171 - recall: 0.6196 - f1_score: 0.6664 - Precision_0: 0.8054 - Precision_1: 0.5920 - Precision_2: 0.7123 - Precision_3: 0.6687 - Precision_4: 0.7762 - Recall_0: 0.6226 - Recall_1: 0.4267 - Recall_2: 0.6582 - Recall_3: 0.5518 - Recall_4: 0.7228 - val_loss: 0.9456 - val_categorical_accuracy: 0.6613 - val_precision: 0.7029 - val_recall: 0.6176 - val_f1_score: 0.3908 - val_Precision_0: 0.3512 - val_Precision_1: 0.2714 - val_Precision_2: 0.1160 - val_Precision_3: 0.1354 - val_Precision_4: 0.9706 - val_Recall_0: 0.5130 - val_Recall_1: 0.2969 - val_Recall_2: 0.4128 - val_Recall_3: 0.3675 - val_Recall_4: 0.6473\n",
            "Epoch 25/50\n",
            "556/556 [==============================] - 16s 29ms/step - loss: 0.8214 - categorical_accuracy: 0.6609 - precision: 0.7026 - recall: 0.5942 - f1_score: 0.6441 - Precision_0: 0.7762 - Precision_1: 0.5643 - Precision_2: 0.7027 - Precision_3: 0.6522 - Precision_4: 0.7628 - Recall_0: 0.5986 - Recall_1: 0.3600 - Recall_2: 0.6340 - Recall_3: 0.5345 - Recall_4: 0.7031 - val_loss: 0.9192 - val_categorical_accuracy: 0.6741 - val_precision: 0.7398 - val_recall: 0.6277 - val_f1_score: 0.3443 - val_Precision_0: 0.2483 - val_Precision_1: 0.2973 - val_Precision_2: 0.1145 - val_Precision_3: 0.0932 - val_Precision_4: 0.9561 - val_Recall_0: 0.3217 - val_Recall_1: 0.1719 - val_Recall_2: 0.3486 - val_Recall_3: 0.1807 - val_Recall_4: 0.6801\n"
          ]
        },
        {
          "output_type": "display_data",
          "data": {
            "text/plain": [
              "VBox(children=(Label(value='0.003 MB of 0.003 MB uploaded\\r'), FloatProgress(value=1.0, max=1.0)))"
            ],
            "application/vnd.jupyter.widget-view+json": {
              "version_major": 2,
              "version_minor": 0,
              "model_id": "f8a19d18dbbc4460b9c765eb72019ec4"
            }
          },
          "metadata": {}
        },
        {
          "output_type": "display_data",
          "data": {
            "text/plain": [
              "<IPython.core.display.HTML object>"
            ],
            "text/html": [
              "<style>\n",
              "    table.wandb td:nth-child(1) { padding: 0 10px; text-align: left ; width: auto;} td:nth-child(2) {text-align: left ; width: 100%}\n",
              "    .wandb-row { display: flex; flex-direction: row; flex-wrap: wrap; justify-content: flex-start; width: 100% }\n",
              "    .wandb-col { display: flex; flex-direction: column; flex-basis: 100%; flex: 1; padding: 10px; }\n",
              "    </style>\n",
              "<div class=\"wandb-row\"><div class=\"wandb-col\"><h3>Run history:</h3><br/><table class=\"wandb\"><tr><td>Precision_0</td><td>▂▁▁▆▆▆▇▇▇▇▇▇▇████████████</td></tr><tr><td>Precision_1</td><td>▁▁▁▁▁▁▁▁▁▄▆▇▇▇▇▇▇████████</td></tr><tr><td>Precision_2</td><td>▁▁▁▅▆▆▇▇▇▇▇▇█████████████</td></tr><tr><td>Precision_3</td><td>▁▁▆▆▆▆▇▇▇▇▇▇▇▇███████████</td></tr><tr><td>Precision_4</td><td>▁▅▇▇▇▇▇▇▇▇▇██████████████</td></tr><tr><td>Recall_0</td><td>▁▁▁▂▄▄▅▅▆▆▆▇▇▇▇▇▇████████</td></tr><tr><td>Recall_1</td><td>▁▁▁▁▁▁▁▁▁▁▁▂▂▂▄▅▆▆▇▇▇█▇▇▆</td></tr><tr><td>Recall_2</td><td>▁▁▁▁▃▅▅▆▆▆▇▇▇▇▇▇▇████████</td></tr><tr><td>Recall_3</td><td>▁▁▁▂▂▃▅▅▆▆▆▇▇▇▇▇▇▇███████</td></tr><tr><td>Recall_4</td><td>▁▂▆▆▆▇▇▇▇▇▇▇█████████████</td></tr><tr><td>categorical_accuracy</td><td>▁▂▄▄▅▅▆▆▆▆▇▇▇▇▇▇▇████████</td></tr><tr><td>epoch</td><td>▁▁▂▂▂▂▃▃▃▄▄▄▅▅▅▅▆▆▆▇▇▇▇██</td></tr><tr><td>loss</td><td>█▇▆▅▄▄▄▃▃▃▃▂▂▂▂▂▂▁▁▁▁▁▁▁▁</td></tr><tr><td>precision</td><td>▁▅▇▇▇▇▇▇▇▇▇▇█████████████</td></tr><tr><td>recall</td><td>▁▁▃▃▄▅▅▆▆▆▆▇▇▇▇▇▇████████</td></tr><tr><td>size_train</td><td>▁</td></tr><tr><td>val_Precision_0</td><td>▁▁▁▆█▆▇▆▅▃▃▄▃▃▃▃▃▃▃▃▃▄▄▃▃</td></tr><tr><td>val_Precision_1</td><td>▁▁▁▁▁▁▁▁▁▁▁▁▁▆▁▅▇▆▆▅▅▅▆▇█</td></tr><tr><td>val_Precision_2</td><td>▁▁▁▁▃█▅▇▆▅▆▆▄▅▆▄▄▅▄▃▄▄▄▄▄</td></tr><tr><td>val_Precision_3</td><td>▁▁▁▁▁▇█▆█▇▇▇▇█▆▇▇█▇█▆█▇▇▅</td></tr><tr><td>val_Precision_4</td><td>▁████████████████████████</td></tr><tr><td>val_Recall_0</td><td>▁▁▁▄▂▃▃▄▅▅▅▄▃▅▆▅▅▆▅▇▆█▇▇▅</td></tr><tr><td>val_Recall_1</td><td>▁▁▁▁▁▁▁▁▁▁▁▁▁▃▁▃▄█▇▄▅▅▇▅▃</td></tr><tr><td>val_Recall_2</td><td>▁▁▁▁▅▅▄█▅▄▆▅▆▅▆▆▆▅▆▄█▆▆▇▆</td></tr><tr><td>val_Recall_3</td><td>▁▁▁▁▁▆▄█▃▇▇▆██▅▄▅▇▇▆▅▅▆▇▄</td></tr><tr><td>val_Recall_4</td><td>▁▇▇▆▆▇▆▆█▇▇▇▇▇███▇▇█▇▇▇▇█</td></tr><tr><td>val_categorical_accuracy</td><td>█▅▆▁▁▅▅▃█▅▃▅▄▄▆▇▆▆▅▇▅▆▅▆▆</td></tr><tr><td>val_loss</td><td>█▆▁▃▄▁▂▄▁▃▃▁▃▃▂▂▄▃▄▂▄▃▄▃▃</td></tr><tr><td>val_precision</td><td>▁███▇▇▇▆▇▆▆▆▆▆▆▇▆▆▆▆▆▆▆▆▆</td></tr><tr><td>val_recall</td><td>▁▆▇▆▆▇▆▇█▇▇▇▇▇██████▇▇███</td></tr></table><br/></div><div class=\"wandb-col\"><h3>Run summary:</h3><br/><table class=\"wandb\"><tr><td>Precision_0</td><td>0.77623</td></tr><tr><td>Precision_1</td><td>0.56427</td></tr><tr><td>Precision_2</td><td>0.70265</td></tr><tr><td>Precision_3</td><td>0.6522</td></tr><tr><td>Precision_4</td><td>0.76282</td></tr><tr><td>Recall_0</td><td>0.59859</td></tr><tr><td>Recall_1</td><td>0.36003</td></tr><tr><td>Recall_2</td><td>0.63398</td></tr><tr><td>Recall_3</td><td>0.5345</td></tr><tr><td>Recall_4</td><td>0.70307</td></tr><tr><td>best_epoch</td><td>11</td></tr><tr><td>best_val_loss</td><td>0.81411</td></tr><tr><td>categorical_accuracy</td><td>0.66093</td></tr><tr><td>epoch</td><td>24</td></tr><tr><td>loss</td><td>0.82137</td></tr><tr><td>precision</td><td>0.70262</td></tr><tr><td>recall</td><td>0.59418</td></tr><tr><td>size_train</td><td>35521</td></tr><tr><td>train_set</td><td>Prime_Pantry</td></tr><tr><td>val_Precision_0</td><td>0.24832</td></tr><tr><td>val_Precision_1</td><td>0.2973</td></tr><tr><td>val_Precision_2</td><td>0.11446</td></tr><tr><td>val_Precision_3</td><td>0.09317</td></tr><tr><td>val_Precision_4</td><td>0.95606</td></tr><tr><td>val_Recall_0</td><td>0.32174</td></tr><tr><td>val_Recall_1</td><td>0.17188</td></tr><tr><td>val_Recall_2</td><td>0.34862</td></tr><tr><td>val_Recall_3</td><td>0.18072</td></tr><tr><td>val_Recall_4</td><td>0.6801</td></tr><tr><td>val_categorical_accuracy</td><td>0.67408</td></tr><tr><td>val_loss</td><td>0.91919</td></tr><tr><td>val_precision</td><td>0.7398</td></tr><tr><td>val_recall</td><td>0.62769</td></tr></table><br/></div></div>"
            ]
          },
          "metadata": {}
        },
        {
          "output_type": "display_data",
          "data": {
            "text/plain": [
              "<IPython.core.display.HTML object>"
            ],
            "text/html": [
              " View run <strong style=\"color:#cdcd00\">zany-sweep-1</strong> at: <a href='https://wandb.ai/coffeegang/RNN_preliminary_tests/runs/tieadk91' target=\"_blank\">https://wandb.ai/coffeegang/RNN_preliminary_tests/runs/tieadk91</a><br/>Synced 5 W&B file(s), 1 media file(s), 0 artifact file(s) and 0 other file(s)"
            ]
          },
          "metadata": {}
        },
        {
          "output_type": "display_data",
          "data": {
            "text/plain": [
              "<IPython.core.display.HTML object>"
            ],
            "text/html": [
              "Find logs at: <code>./wandb/run-20240129_162258-tieadk91/logs</code>"
            ]
          },
          "metadata": {}
        },
        {
          "output_type": "stream",
          "name": "stderr",
          "text": [
            "\u001b[34m\u001b[1mwandb\u001b[0m: Agent Starting Run: h8hs2l3m with config:\n",
            "\u001b[34m\u001b[1mwandb\u001b[0m: \tRNN_layer_model: model_1\n",
            "\u001b[34m\u001b[1mwandb\u001b[0m: \tembedding_size: 64\n"
          ]
        },
        {
          "output_type": "display_data",
          "data": {
            "text/plain": [
              "<IPython.core.display.HTML object>"
            ],
            "text/html": [
              "Tracking run with wandb version 0.16.2"
            ]
          },
          "metadata": {}
        },
        {
          "output_type": "display_data",
          "data": {
            "text/plain": [
              "<IPython.core.display.HTML object>"
            ],
            "text/html": [
              "Run data is saved locally in <code>/content/gdrive/.shortcut-targets-by-id/1osKmyrDLORFSpes1mwrU-W7OXM-to6bK/AML_Exam/Problem2/wandb/run-20240129_163050-h8hs2l3m</code>"
            ]
          },
          "metadata": {}
        },
        {
          "output_type": "display_data",
          "data": {
            "text/plain": [
              "<IPython.core.display.HTML object>"
            ],
            "text/html": [
              "Syncing run <strong><a href='https://wandb.ai/coffeegang/RNN_preliminary_tests/runs/h8hs2l3m' target=\"_blank\">earthy-sweep-2</a></strong> to <a href='https://wandb.ai/coffeegang/RNN_preliminary_tests' target=\"_blank\">Weights & Biases</a> (<a href='https://wandb.me/run' target=\"_blank\">docs</a>)<br/>Sweep page: <a href='https://wandb.ai/coffeegang/RNN_preliminary_tests/sweeps/r8db3smm' target=\"_blank\">https://wandb.ai/coffeegang/RNN_preliminary_tests/sweeps/r8db3smm</a>"
            ]
          },
          "metadata": {}
        },
        {
          "output_type": "display_data",
          "data": {
            "text/plain": [
              "<IPython.core.display.HTML object>"
            ],
            "text/html": [
              " View project at <a href='https://wandb.ai/coffeegang/RNN_preliminary_tests' target=\"_blank\">https://wandb.ai/coffeegang/RNN_preliminary_tests</a>"
            ]
          },
          "metadata": {}
        },
        {
          "output_type": "display_data",
          "data": {
            "text/plain": [
              "<IPython.core.display.HTML object>"
            ],
            "text/html": [
              " View sweep at <a href='https://wandb.ai/coffeegang/RNN_preliminary_tests/sweeps/r8db3smm' target=\"_blank\">https://wandb.ai/coffeegang/RNN_preliminary_tests/sweeps/r8db3smm</a>"
            ]
          },
          "metadata": {}
        },
        {
          "output_type": "display_data",
          "data": {
            "text/plain": [
              "<IPython.core.display.HTML object>"
            ],
            "text/html": [
              " View run at <a href='https://wandb.ai/coffeegang/RNN_preliminary_tests/runs/h8hs2l3m' target=\"_blank\">https://wandb.ai/coffeegang/RNN_preliminary_tests/runs/h8hs2l3m</a>"
            ]
          },
          "metadata": {}
        },
        {
          "output_type": "stream",
          "name": "stdout",
          "text": [
            "Epoch 1/50\n",
            "556/556 [==============================] - 55s 84ms/step - loss: 1.5171 - categorical_accuracy: 0.2739 - precision: 0.2667 - recall: 4.5044e-04 - f1_score: 0.1741 - Precision_0: 0.0000e+00 - Precision_1: 0.0000e+00 - Precision_2: 0.0000e+00 - Precision_3: 0.2712 - Precision_4: 0.0000e+00 - Recall_0: 0.0000e+00 - Recall_1: 0.0000e+00 - Recall_2: 0.0000e+00 - Recall_3: 0.0016 - Recall_4: 0.0000e+00 - val_loss: 1.2339 - val_categorical_accuracy: 0.8581 - val_precision: 0.0000e+00 - val_recall: 0.0000e+00 - val_f1_score: 0.2084 - val_Precision_0: 0.0000e+00 - val_Precision_1: 0.0000e+00 - val_Precision_2: 0.0000e+00 - val_Precision_3: 0.0000e+00 - val_Precision_4: 0.0000e+00 - val_Recall_0: 0.0000e+00 - val_Recall_1: 0.0000e+00 - val_Recall_2: 0.0000e+00 - val_Recall_3: 0.0000e+00 - val_Recall_4: 0.0000e+00\n",
            "Epoch 2/50\n",
            "556/556 [==============================] - 21s 38ms/step - loss: 1.5116 - categorical_accuracy: 0.2720 - precision: 0.0000e+00 - recall: 0.0000e+00 - f1_score: 0.1599 - Precision_0: 0.0000e+00 - Precision_1: 0.0000e+00 - Precision_2: 0.0000e+00 - Precision_3: 0.0000e+00 - Precision_4: 0.0000e+00 - Recall_0: 0.0000e+00 - Recall_1: 0.0000e+00 - Recall_2: 0.0000e+00 - Recall_3: 0.0000e+00 - Recall_4: 0.0000e+00 - val_loss: 1.3243 - val_categorical_accuracy: 0.7401 - val_precision: 0.0000e+00 - val_recall: 0.0000e+00 - val_f1_score: 0.2062 - val_Precision_0: 0.0000e+00 - val_Precision_1: 0.0000e+00 - val_Precision_2: 0.0000e+00 - val_Precision_3: 0.0000e+00 - val_Precision_4: 0.0000e+00 - val_Recall_0: 0.0000e+00 - val_Recall_1: 0.0000e+00 - val_Recall_2: 0.0000e+00 - val_Recall_3: 0.0000e+00 - val_Recall_4: 0.0000e+00\n",
            "Epoch 3/50\n",
            "556/556 [==============================] - 20s 36ms/step - loss: 1.5073 - categorical_accuracy: 0.2844 - precision: 0.0000e+00 - recall: 0.0000e+00 - f1_score: 0.1836 - Precision_0: 0.0000e+00 - Precision_1: 0.0000e+00 - Precision_2: 0.0000e+00 - Precision_3: 0.0000e+00 - Precision_4: 0.0000e+00 - Recall_0: 0.0000e+00 - Recall_1: 0.0000e+00 - Recall_2: 0.0000e+00 - Recall_3: 0.0000e+00 - Recall_4: 0.0000e+00 - val_loss: 1.3762 - val_categorical_accuracy: 0.3101 - val_precision: 0.0000e+00 - val_recall: 0.0000e+00 - val_f1_score: 0.1087 - val_Precision_0: 0.0000e+00 - val_Precision_1: 0.0000e+00 - val_Precision_2: 0.0000e+00 - val_Precision_3: 0.0000e+00 - val_Precision_4: 0.0000e+00 - val_Recall_0: 0.0000e+00 - val_Recall_1: 0.0000e+00 - val_Recall_2: 0.0000e+00 - val_Recall_3: 0.0000e+00 - val_Recall_4: 0.0000e+00\n",
            "Epoch 4/50\n",
            "556/556 [==============================] - 18s 32ms/step - loss: 1.5020 - categorical_accuracy: 0.2986 - precision: 0.0000e+00 - recall: 0.0000e+00 - f1_score: 0.1870 - Precision_0: 0.0000e+00 - Precision_1: 0.0000e+00 - Precision_2: 0.0000e+00 - Precision_3: 0.0000e+00 - Precision_4: 0.0000e+00 - Recall_0: 0.0000e+00 - Recall_1: 0.0000e+00 - Recall_2: 0.0000e+00 - Recall_3: 0.0000e+00 - Recall_4: 0.0000e+00 - val_loss: 1.3650 - val_categorical_accuracy: 0.3094 - val_precision: 0.0000e+00 - val_recall: 0.0000e+00 - val_f1_score: 0.1317 - val_Precision_0: 0.0000e+00 - val_Precision_1: 0.0000e+00 - val_Precision_2: 0.0000e+00 - val_Precision_3: 0.0000e+00 - val_Precision_4: 0.0000e+00 - val_Recall_0: 0.0000e+00 - val_Recall_1: 0.0000e+00 - val_Recall_2: 0.0000e+00 - val_Recall_3: 0.0000e+00 - val_Recall_4: 0.0000e+00\n",
            "Epoch 5/50\n",
            "556/556 [==============================] - 17s 31ms/step - loss: 1.5022 - categorical_accuracy: 0.2986 - precision: 0.0000e+00 - recall: 0.0000e+00 - f1_score: 0.1871 - Precision_0: 0.0000e+00 - Precision_1: 0.0000e+00 - Precision_2: 0.0000e+00 - Precision_3: 0.0000e+00 - Precision_4: 0.0000e+00 - Recall_0: 0.0000e+00 - Recall_1: 0.0000e+00 - Recall_2: 0.0000e+00 - Recall_3: 0.0000e+00 - Recall_4: 0.0000e+00 - val_loss: 1.4032 - val_categorical_accuracy: 0.3109 - val_precision: 0.0000e+00 - val_recall: 0.0000e+00 - val_f1_score: 0.1321 - val_Precision_0: 0.0000e+00 - val_Precision_1: 0.0000e+00 - val_Precision_2: 0.0000e+00 - val_Precision_3: 0.0000e+00 - val_Precision_4: 0.0000e+00 - val_Recall_0: 0.0000e+00 - val_Recall_1: 0.0000e+00 - val_Recall_2: 0.0000e+00 - val_Recall_3: 0.0000e+00 - val_Recall_4: 0.0000e+00\n",
            "Epoch 6/50\n",
            "556/556 [==============================] - 18s 32ms/step - loss: 1.5018 - categorical_accuracy: 0.2969 - precision: 0.0000e+00 - recall: 0.0000e+00 - f1_score: 0.1825 - Precision_0: 0.0000e+00 - Precision_1: 0.0000e+00 - Precision_2: 0.0000e+00 - Precision_3: 0.0000e+00 - Precision_4: 0.0000e+00 - Recall_0: 0.0000e+00 - Recall_1: 0.0000e+00 - Recall_2: 0.0000e+00 - Recall_3: 0.0000e+00 - Recall_4: 0.0000e+00 - val_loss: 1.4410 - val_categorical_accuracy: 0.3105 - val_precision: 0.0000e+00 - val_recall: 0.0000e+00 - val_f1_score: 0.1325 - val_Precision_0: 0.0000e+00 - val_Precision_1: 0.0000e+00 - val_Precision_2: 0.0000e+00 - val_Precision_3: 0.0000e+00 - val_Precision_4: 0.0000e+00 - val_Recall_0: 0.0000e+00 - val_Recall_1: 0.0000e+00 - val_Recall_2: 0.0000e+00 - val_Recall_3: 0.0000e+00 - val_Recall_4: 0.0000e+00\n",
            "Epoch 7/50\n",
            "556/556 [==============================] - 17s 31ms/step - loss: 1.5015 - categorical_accuracy: 0.2985 - precision: 0.0000e+00 - recall: 0.0000e+00 - f1_score: 0.1923 - Precision_0: 0.0000e+00 - Precision_1: 0.0000e+00 - Precision_2: 0.0000e+00 - Precision_3: 0.0000e+00 - Precision_4: 0.0000e+00 - Recall_0: 0.0000e+00 - Recall_1: 0.0000e+00 - Recall_2: 0.0000e+00 - Recall_3: 0.0000e+00 - Recall_4: 0.0000e+00 - val_loss: 1.3610 - val_categorical_accuracy: 0.3012 - val_precision: 0.0000e+00 - val_recall: 0.0000e+00 - val_f1_score: 0.1063 - val_Precision_0: 0.0000e+00 - val_Precision_1: 0.0000e+00 - val_Precision_2: 0.0000e+00 - val_Precision_3: 0.0000e+00 - val_Precision_4: 0.0000e+00 - val_Recall_0: 0.0000e+00 - val_Recall_1: 0.0000e+00 - val_Recall_2: 0.0000e+00 - val_Recall_3: 0.0000e+00 - val_Recall_4: 0.0000e+00\n",
            "Epoch 8/50\n",
            "556/556 [==============================] - 17s 30ms/step - loss: 1.5016 - categorical_accuracy: 0.2955 - precision: 0.0000e+00 - recall: 0.0000e+00 - f1_score: 0.1845 - Precision_0: 0.0000e+00 - Precision_1: 0.0000e+00 - Precision_2: 0.0000e+00 - Precision_3: 0.0000e+00 - Precision_4: 0.0000e+00 - Recall_0: 0.0000e+00 - Recall_1: 0.0000e+00 - Recall_2: 0.0000e+00 - Recall_3: 0.0000e+00 - Recall_4: 0.0000e+00 - val_loss: 1.3656 - val_categorical_accuracy: 0.3046 - val_precision: 0.0000e+00 - val_recall: 0.0000e+00 - val_f1_score: 0.1073 - val_Precision_0: 0.0000e+00 - val_Precision_1: 0.0000e+00 - val_Precision_2: 0.0000e+00 - val_Precision_3: 0.0000e+00 - val_Precision_4: 0.0000e+00 - val_Recall_0: 0.0000e+00 - val_Recall_1: 0.0000e+00 - val_Recall_2: 0.0000e+00 - val_Recall_3: 0.0000e+00 - val_Recall_4: 0.0000e+00\n",
            "Epoch 9/50\n",
            "556/556 [==============================] - 17s 31ms/step - loss: 1.5015 - categorical_accuracy: 0.2951 - precision: 0.0000e+00 - recall: 0.0000e+00 - f1_score: 0.1913 - Precision_0: 0.0000e+00 - Precision_1: 0.0000e+00 - Precision_2: 0.0000e+00 - Precision_3: 0.0000e+00 - Precision_4: 0.0000e+00 - Recall_0: 0.0000e+00 - Recall_1: 0.0000e+00 - Recall_2: 0.0000e+00 - Recall_3: 0.0000e+00 - Recall_4: 0.0000e+00 - val_loss: 1.3794 - val_categorical_accuracy: 0.3080 - val_precision: 0.0000e+00 - val_recall: 0.0000e+00 - val_f1_score: 0.1082 - val_Precision_0: 0.0000e+00 - val_Precision_1: 0.0000e+00 - val_Precision_2: 0.0000e+00 - val_Precision_3: 0.0000e+00 - val_Precision_4: 0.0000e+00 - val_Recall_0: 0.0000e+00 - val_Recall_1: 0.0000e+00 - val_Recall_2: 0.0000e+00 - val_Recall_3: 0.0000e+00 - val_Recall_4: 0.0000e+00\n",
            "Epoch 10/50\n",
            "556/556 [==============================] - 17s 30ms/step - loss: 1.5019 - categorical_accuracy: 0.2950 - precision: 0.0000e+00 - recall: 0.0000e+00 - f1_score: 0.1845 - Precision_0: 0.0000e+00 - Precision_1: 0.0000e+00 - Precision_2: 0.0000e+00 - Precision_3: 0.0000e+00 - Precision_4: 0.0000e+00 - Recall_0: 0.0000e+00 - Recall_1: 0.0000e+00 - Recall_2: 0.0000e+00 - Recall_3: 0.0000e+00 - Recall_4: 0.0000e+00 - val_loss: 1.3313 - val_categorical_accuracy: 0.3079 - val_precision: 0.0000e+00 - val_recall: 0.0000e+00 - val_f1_score: 0.1309 - val_Precision_0: 0.0000e+00 - val_Precision_1: 0.0000e+00 - val_Precision_2: 0.0000e+00 - val_Precision_3: 0.0000e+00 - val_Precision_4: 0.0000e+00 - val_Recall_0: 0.0000e+00 - val_Recall_1: 0.0000e+00 - val_Recall_2: 0.0000e+00 - val_Recall_3: 0.0000e+00 - val_Recall_4: 0.0000e+00\n"
          ]
        },
        {
          "output_type": "display_data",
          "data": {
            "text/plain": [
              "VBox(children=(Label(value='0.003 MB of 0.003 MB uploaded\\r'), FloatProgress(value=1.0, max=1.0)))"
            ],
            "application/vnd.jupyter.widget-view+json": {
              "version_major": 2,
              "version_minor": 0,
              "model_id": "3082793037cc48298195e1312e2c9985"
            }
          },
          "metadata": {}
        },
        {
          "output_type": "display_data",
          "data": {
            "text/plain": [
              "<IPython.core.display.HTML object>"
            ],
            "text/html": [
              "<style>\n",
              "    table.wandb td:nth-child(1) { padding: 0 10px; text-align: left ; width: auto;} td:nth-child(2) {text-align: left ; width: 100%}\n",
              "    .wandb-row { display: flex; flex-direction: row; flex-wrap: wrap; justify-content: flex-start; width: 100% }\n",
              "    .wandb-col { display: flex; flex-direction: column; flex-basis: 100%; flex: 1; padding: 10px; }\n",
              "    </style>\n",
              "<div class=\"wandb-row\"><div class=\"wandb-col\"><h3>Run history:</h3><br/><table class=\"wandb\"><tr><td>Precision_0</td><td>▁▁▁▁▁▁▁▁▁▁</td></tr><tr><td>Precision_1</td><td>▁▁▁▁▁▁▁▁▁▁</td></tr><tr><td>Precision_2</td><td>▁▁▁▁▁▁▁▁▁▁</td></tr><tr><td>Precision_3</td><td>█▁▁▁▁▁▁▁▁▁</td></tr><tr><td>Precision_4</td><td>▁▁▁▁▁▁▁▁▁▁</td></tr><tr><td>Recall_0</td><td>▁▁▁▁▁▁▁▁▁▁</td></tr><tr><td>Recall_1</td><td>▁▁▁▁▁▁▁▁▁▁</td></tr><tr><td>Recall_2</td><td>▁▁▁▁▁▁▁▁▁▁</td></tr><tr><td>Recall_3</td><td>█▁▁▁▁▁▁▁▁▁</td></tr><tr><td>Recall_4</td><td>▁▁▁▁▁▁▁▁▁▁</td></tr><tr><td>categorical_accuracy</td><td>▁▁▄████▇▇▇</td></tr><tr><td>epoch</td><td>▁▂▃▃▄▅▆▆▇█</td></tr><tr><td>loss</td><td>█▆▄▁▁▁▁▁▁▁</td></tr><tr><td>precision</td><td>█▁▁▁▁▁▁▁▁▁</td></tr><tr><td>recall</td><td>█▁▁▁▁▁▁▁▁▁</td></tr><tr><td>size_train</td><td>▁</td></tr><tr><td>val_Precision_0</td><td>▁▁▁▁▁▁▁▁▁▁</td></tr><tr><td>val_Precision_1</td><td>▁▁▁▁▁▁▁▁▁▁</td></tr><tr><td>val_Precision_2</td><td>▁▁▁▁▁▁▁▁▁▁</td></tr><tr><td>val_Precision_3</td><td>▁▁▁▁▁▁▁▁▁▁</td></tr><tr><td>val_Precision_4</td><td>▁▁▁▁▁▁▁▁▁▁</td></tr><tr><td>val_Recall_0</td><td>▁▁▁▁▁▁▁▁▁▁</td></tr><tr><td>val_Recall_1</td><td>▁▁▁▁▁▁▁▁▁▁</td></tr><tr><td>val_Recall_2</td><td>▁▁▁▁▁▁▁▁▁▁</td></tr><tr><td>val_Recall_3</td><td>▁▁▁▁▁▁▁▁▁▁</td></tr><tr><td>val_Recall_4</td><td>▁▁▁▁▁▁▁▁▁▁</td></tr><tr><td>val_categorical_accuracy</td><td>█▇▁▁▁▁▁▁▁▁</td></tr><tr><td>val_loss</td><td>▁▄▆▅▇█▅▅▆▄</td></tr><tr><td>val_precision</td><td>▁▁▁▁▁▁▁▁▁▁</td></tr><tr><td>val_recall</td><td>▁▁▁▁▁▁▁▁▁▁</td></tr></table><br/></div><div class=\"wandb-col\"><h3>Run summary:</h3><br/><table class=\"wandb\"><tr><td>Precision_0</td><td>0.0</td></tr><tr><td>Precision_1</td><td>0.0</td></tr><tr><td>Precision_2</td><td>0.0</td></tr><tr><td>Precision_3</td><td>0.0</td></tr><tr><td>Precision_4</td><td>0.0</td></tr><tr><td>Recall_0</td><td>0.0</td></tr><tr><td>Recall_1</td><td>0.0</td></tr><tr><td>Recall_2</td><td>0.0</td></tr><tr><td>Recall_3</td><td>0.0</td></tr><tr><td>Recall_4</td><td>0.0</td></tr><tr><td>best_epoch</td><td>0</td></tr><tr><td>best_val_loss</td><td>1.23392</td></tr><tr><td>categorical_accuracy</td><td>0.29501</td></tr><tr><td>epoch</td><td>9</td></tr><tr><td>loss</td><td>1.50188</td></tr><tr><td>precision</td><td>0.0</td></tr><tr><td>recall</td><td>0.0</td></tr><tr><td>size_train</td><td>35521</td></tr><tr><td>train_set</td><td>Prime_Pantry</td></tr><tr><td>val_Precision_0</td><td>0.0</td></tr><tr><td>val_Precision_1</td><td>0.0</td></tr><tr><td>val_Precision_2</td><td>0.0</td></tr><tr><td>val_Precision_3</td><td>0.0</td></tr><tr><td>val_Precision_4</td><td>0.0</td></tr><tr><td>val_Recall_0</td><td>0.0</td></tr><tr><td>val_Recall_1</td><td>0.0</td></tr><tr><td>val_Recall_2</td><td>0.0</td></tr><tr><td>val_Recall_3</td><td>0.0</td></tr><tr><td>val_Recall_4</td><td>0.0</td></tr><tr><td>val_categorical_accuracy</td><td>0.30785</td></tr><tr><td>val_loss</td><td>1.33126</td></tr><tr><td>val_precision</td><td>0.0</td></tr><tr><td>val_recall</td><td>0.0</td></tr></table><br/></div></div>"
            ]
          },
          "metadata": {}
        },
        {
          "output_type": "display_data",
          "data": {
            "text/plain": [
              "<IPython.core.display.HTML object>"
            ],
            "text/html": [
              " View run <strong style=\"color:#cdcd00\">earthy-sweep-2</strong> at: <a href='https://wandb.ai/coffeegang/RNN_preliminary_tests/runs/h8hs2l3m' target=\"_blank\">https://wandb.ai/coffeegang/RNN_preliminary_tests/runs/h8hs2l3m</a><br/>Synced 5 W&B file(s), 1 media file(s), 0 artifact file(s) and 0 other file(s)"
            ]
          },
          "metadata": {}
        },
        {
          "output_type": "display_data",
          "data": {
            "text/plain": [
              "<IPython.core.display.HTML object>"
            ],
            "text/html": [
              "Find logs at: <code>./wandb/run-20240129_163050-h8hs2l3m/logs</code>"
            ]
          },
          "metadata": {}
        },
        {
          "output_type": "stream",
          "name": "stderr",
          "text": [
            "\u001b[34m\u001b[1mwandb\u001b[0m: Agent Starting Run: kw3ubbj8 with config:\n",
            "\u001b[34m\u001b[1mwandb\u001b[0m: \tRNN_layer_model: model_1\n",
            "\u001b[34m\u001b[1mwandb\u001b[0m: \tembedding_size: 128\n"
          ]
        },
        {
          "output_type": "display_data",
          "data": {
            "text/plain": [
              "<IPython.core.display.HTML object>"
            ],
            "text/html": [
              "Tracking run with wandb version 0.16.2"
            ]
          },
          "metadata": {}
        },
        {
          "output_type": "display_data",
          "data": {
            "text/plain": [
              "<IPython.core.display.HTML object>"
            ],
            "text/html": [
              "Run data is saved locally in <code>/content/gdrive/.shortcut-targets-by-id/1osKmyrDLORFSpes1mwrU-W7OXM-to6bK/AML_Exam/Problem2/wandb/run-20240129_163439-kw3ubbj8</code>"
            ]
          },
          "metadata": {}
        },
        {
          "output_type": "display_data",
          "data": {
            "text/plain": [
              "<IPython.core.display.HTML object>"
            ],
            "text/html": [
              "Syncing run <strong><a href='https://wandb.ai/coffeegang/RNN_preliminary_tests/runs/kw3ubbj8' target=\"_blank\">sweet-sweep-3</a></strong> to <a href='https://wandb.ai/coffeegang/RNN_preliminary_tests' target=\"_blank\">Weights & Biases</a> (<a href='https://wandb.me/run' target=\"_blank\">docs</a>)<br/>Sweep page: <a href='https://wandb.ai/coffeegang/RNN_preliminary_tests/sweeps/r8db3smm' target=\"_blank\">https://wandb.ai/coffeegang/RNN_preliminary_tests/sweeps/r8db3smm</a>"
            ]
          },
          "metadata": {}
        },
        {
          "output_type": "display_data",
          "data": {
            "text/plain": [
              "<IPython.core.display.HTML object>"
            ],
            "text/html": [
              " View project at <a href='https://wandb.ai/coffeegang/RNN_preliminary_tests' target=\"_blank\">https://wandb.ai/coffeegang/RNN_preliminary_tests</a>"
            ]
          },
          "metadata": {}
        },
        {
          "output_type": "display_data",
          "data": {
            "text/plain": [
              "<IPython.core.display.HTML object>"
            ],
            "text/html": [
              " View sweep at <a href='https://wandb.ai/coffeegang/RNN_preliminary_tests/sweeps/r8db3smm' target=\"_blank\">https://wandb.ai/coffeegang/RNN_preliminary_tests/sweeps/r8db3smm</a>"
            ]
          },
          "metadata": {}
        },
        {
          "output_type": "display_data",
          "data": {
            "text/plain": [
              "<IPython.core.display.HTML object>"
            ],
            "text/html": [
              " View run at <a href='https://wandb.ai/coffeegang/RNN_preliminary_tests/runs/kw3ubbj8' target=\"_blank\">https://wandb.ai/coffeegang/RNN_preliminary_tests/runs/kw3ubbj8</a>"
            ]
          },
          "metadata": {}
        },
        {
          "output_type": "stream",
          "name": "stdout",
          "text": [
            "Epoch 1/50\n",
            "556/556 [==============================] - 44s 63ms/step - loss: 1.5156 - categorical_accuracy: 0.2718 - precision: 0.0000e+00 - recall: 0.0000e+00 - f1_score: 0.1675 - Precision_0: 0.0000e+00 - Precision_1: 0.0000e+00 - Precision_2: 0.0000e+00 - Precision_3: 0.0000e+00 - Precision_4: 0.0000e+00 - Recall_0: 0.0000e+00 - Recall_1: 0.0000e+00 - Recall_2: 0.0000e+00 - Recall_3: 0.0000e+00 - Recall_4: 0.0000e+00 - val_loss: 1.3345 - val_categorical_accuracy: 0.8821 - val_precision: 0.0000e+00 - val_recall: 0.0000e+00 - val_f1_score: 0.1875 - val_Precision_0: 0.0000e+00 - val_Precision_1: 0.0000e+00 - val_Precision_2: 0.0000e+00 - val_Precision_3: 0.0000e+00 - val_Precision_4: 0.0000e+00 - val_Recall_0: 0.0000e+00 - val_Recall_1: 0.0000e+00 - val_Recall_2: 0.0000e+00 - val_Recall_3: 0.0000e+00 - val_Recall_4: 0.0000e+00\n",
            "Epoch 2/50\n",
            "556/556 [==============================] - 20s 36ms/step - loss: 1.4857 - categorical_accuracy: 0.2999 - precision: 0.4826 - recall: 0.0113 - f1_score: 0.1968 - Precision_0: 0.0000e+00 - Precision_1: 0.0000e+00 - Precision_2: 0.0000e+00 - Precision_3: 0.0000e+00 - Precision_4: 0.4826 - Recall_0: 0.0000e+00 - Recall_1: 0.0000e+00 - Recall_2: 0.0000e+00 - Recall_3: 0.0000e+00 - Recall_4: 0.0413 - val_loss: 1.1873 - val_categorical_accuracy: 0.5830 - val_precision: 1.0000 - val_recall: 7.6060e-04 - val_f1_score: 0.1891 - val_Precision_0: 0.0000e+00 - val_Precision_1: 0.0000e+00 - val_Precision_2: 0.0000e+00 - val_Precision_3: 0.0000e+00 - val_Precision_4: 1.0000 - val_Recall_0: 0.0000e+00 - val_Recall_1: 0.0000e+00 - val_Recall_2: 0.0000e+00 - val_Recall_3: 0.0000e+00 - val_Recall_4: 8.6225e-04\n",
            "Epoch 3/50\n",
            "556/556 [==============================] - 17s 31ms/step - loss: 1.3215 - categorical_accuracy: 0.4184 - precision: 0.5832 - recall: 0.1111 - f1_score: 0.2698 - Precision_0: 0.0000e+00 - Precision_1: 0.0000e+00 - Precision_2: 0.0000e+00 - Precision_3: 0.0000e+00 - Precision_4: 0.5832 - Recall_0: 0.0000e+00 - Recall_1: 0.0000e+00 - Recall_2: 0.0000e+00 - Recall_3: 0.0000e+00 - Recall_4: 0.4048 - val_loss: 1.0753 - val_categorical_accuracy: 0.5663 - val_precision: 0.9721 - val_recall: 0.4178 - val_f1_score: 0.1988 - val_Precision_0: 0.0000e+00 - val_Precision_1: 0.0000e+00 - val_Precision_2: 0.0000e+00 - val_Precision_3: 0.0000e+00 - val_Precision_4: 0.9721 - val_Recall_0: 0.0000e+00 - val_Recall_1: 0.0000e+00 - val_Recall_2: 0.0000e+00 - val_Recall_3: 0.0000e+00 - val_Recall_4: 0.4736\n",
            "Epoch 4/50\n",
            "556/556 [==============================] - 17s 31ms/step - loss: 1.2358 - categorical_accuracy: 0.4503 - precision: 0.6508 - recall: 0.1306 - f1_score: 0.2998 - Precision_0: 0.0000e+00 - Precision_1: 0.0000e+00 - Precision_2: 0.5629 - Precision_3: 0.5172 - Precision_4: 0.6573 - Recall_0: 0.0000e+00 - Recall_1: 0.0000e+00 - Recall_2: 0.0280 - Recall_3: 0.0015 - Recall_4: 0.4479 - val_loss: 1.0955 - val_categorical_accuracy: 0.4153 - val_precision: 0.9718 - val_recall: 0.3079 - val_f1_score: 0.1714 - val_Precision_0: 0.0000e+00 - val_Precision_1: 0.0000e+00 - val_Precision_2: 0.0000e+00 - val_Precision_3: 0.0000e+00 - val_Precision_4: 0.9782 - val_Recall_0: 0.0000e+00 - val_Recall_1: 0.0000e+00 - val_Recall_2: 0.0000e+00 - val_Recall_3: 0.0000e+00 - val_Recall_4: 0.3490\n",
            "Epoch 5/50\n",
            "556/556 [==============================] - 17s 31ms/step - loss: 1.2129 - categorical_accuracy: 0.4586 - precision: 0.6579 - recall: 0.1443 - f1_score: 0.3136 - Precision_0: 0.0000e+00 - Precision_1: 0.0000e+00 - Precision_2: 0.5766 - Precision_3: 0.4835 - Precision_4: 0.6823 - Recall_0: 0.0000e+00 - Recall_1: 0.0000e+00 - Recall_2: 0.0525 - Recall_3: 0.0255 - Recall_4: 0.4510 - val_loss: 1.0791 - val_categorical_accuracy: 0.4571 - val_precision: 0.9653 - val_recall: 0.3542 - val_f1_score: 0.1736 - val_Precision_0: 0.0000e+00 - val_Precision_1: 0.0000e+00 - val_Precision_2: 0.0000e+00 - val_Precision_3: 0.1333 - val_Precision_4: 0.9784 - val_Recall_0: 0.0000e+00 - val_Recall_1: 0.0000e+00 - val_Recall_2: 0.0000e+00 - val_Recall_3: 0.0060 - val_Recall_4: 0.4012\n",
            "Epoch 6/50\n",
            "556/556 [==============================] - 17s 30ms/step - loss: 1.1992 - categorical_accuracy: 0.4647 - precision: 0.6599 - recall: 0.1497 - f1_score: 0.3338 - Precision_0: 0.0000e+00 - Precision_1: 0.0000e+00 - Precision_2: 0.5881 - Precision_3: 0.4820 - Precision_4: 0.6832 - Recall_0: 0.0000e+00 - Recall_1: 0.0000e+00 - Recall_2: 0.0627 - Recall_3: 0.0234 - Recall_4: 0.4633 - val_loss: 1.0664 - val_categorical_accuracy: 0.4929 - val_precision: 0.9548 - val_recall: 0.3531 - val_f1_score: 0.2928 - val_Precision_0: 0.0000e+00 - val_Precision_1: 0.0000e+00 - val_Precision_2: 0.0000e+00 - val_Precision_3: 0.1892 - val_Precision_4: 0.9814 - val_Recall_0: 0.0000e+00 - val_Recall_1: 0.0000e+00 - val_Recall_2: 0.0000e+00 - val_Recall_3: 0.0211 - val_Recall_4: 0.3988\n",
            "Epoch 7/50\n",
            "556/556 [==============================] - 17s 31ms/step - loss: 1.1875 - categorical_accuracy: 0.4696 - precision: 0.6296 - recall: 0.1774 - f1_score: 0.3646 - Precision_0: 1.0000 - Precision_1: 0.0000e+00 - Precision_2: 0.5560 - Precision_3: 0.4924 - Precision_4: 0.6713 - Recall_0: 3.0760e-04 - Recall_1: 0.0000e+00 - Recall_2: 0.0835 - Recall_3: 0.0733 - Recall_4: 0.4948 - val_loss: 1.1495 - val_categorical_accuracy: 0.6418 - val_precision: 0.4138 - val_recall: 0.0068 - val_f1_score: 0.2949 - val_Precision_0: 0.0000e+00 - val_Precision_1: 0.0000e+00 - val_Precision_2: 0.0000e+00 - val_Precision_3: 0.1842 - val_Precision_4: 0.6591 - val_Recall_0: 0.0000e+00 - val_Recall_1: 0.0000e+00 - val_Recall_2: 0.0000e+00 - val_Recall_3: 0.0211 - val_Recall_4: 0.0063\n",
            "Epoch 8/50\n",
            "556/556 [==============================] - 17s 31ms/step - loss: 1.1986 - categorical_accuracy: 0.4628 - precision: 0.6217 - recall: 0.1603 - f1_score: 0.3604 - Precision_0: 0.6667 - Precision_1: 0.0000e+00 - Precision_2: 0.5513 - Precision_3: 0.4799 - Precision_4: 0.6436 - Recall_0: 6.1520e-04 - Recall_1: 0.0000e+00 - Recall_2: 0.0649 - Recall_3: 0.0306 - Recall_4: 0.4926 - val_loss: 1.1450 - val_categorical_accuracy: 0.4115 - val_precision: 0.9574 - val_recall: 0.3246 - val_f1_score: 0.1642 - val_Precision_0: 0.0000e+00 - val_Precision_1: 0.0000e+00 - val_Precision_2: 0.0000e+00 - val_Precision_3: 0.1429 - val_Precision_4: 0.9804 - val_Recall_0: 0.0000e+00 - val_Recall_1: 0.0000e+00 - val_Recall_2: 0.0000e+00 - val_Recall_3: 0.0060 - val_Recall_4: 0.3675\n",
            "Epoch 9/50\n",
            "556/556 [==============================] - 17s 30ms/step - loss: 1.1710 - categorical_accuracy: 0.4755 - precision: 0.6347 - recall: 0.1864 - f1_score: 0.3778 - Precision_0: 1.0000 - Precision_1: 0.0000e+00 - Precision_2: 0.5920 - Precision_3: 0.4990 - Precision_4: 0.6669 - Recall_0: 6.1520e-04 - Recall_1: 0.0000e+00 - Recall_2: 0.0816 - Recall_3: 0.0740 - Recall_4: 0.5286 - val_loss: 1.0474 - val_categorical_accuracy: 0.4972 - val_precision: 0.8272 - val_recall: 0.4014 - val_f1_score: 0.2078 - val_Precision_0: 0.0000e+00 - val_Precision_1: 0.0000e+00 - val_Precision_2: 0.0608 - val_Precision_3: 0.0803 - val_Precision_4: 0.9802 - val_Recall_0: 0.0000e+00 - val_Recall_1: 0.0000e+00 - val_Recall_2: 0.1009 - val_Recall_3: 0.0602 - val_Recall_4: 0.4484\n",
            "Epoch 10/50\n",
            "556/556 [==============================] - 17s 30ms/step - loss: 1.1534 - categorical_accuracy: 0.4856 - precision: 0.6179 - recall: 0.2280 - f1_score: 0.3938 - Precision_0: 1.0000 - Precision_1: 0.0000e+00 - Precision_2: 0.5506 - Precision_3: 0.5077 - Precision_4: 0.6780 - Recall_0: 6.1520e-04 - Recall_1: 0.0000e+00 - Recall_2: 0.1636 - Recall_3: 0.1357 - Recall_4: 0.5418 - val_loss: 0.9170 - val_categorical_accuracy: 0.6100 - val_precision: 0.8619 - val_recall: 0.4927 - val_f1_score: 0.3008 - val_Precision_0: 0.0000e+00 - val_Precision_1: 0.0000e+00 - val_Precision_2: 0.1081 - val_Precision_3: 0.0891 - val_Precision_4: 0.9752 - val_Recall_0: 0.0000e+00 - val_Recall_1: 0.0000e+00 - val_Recall_2: 0.0367 - val_Recall_3: 0.0934 - val_Recall_4: 0.5510\n",
            "Epoch 11/50\n",
            "556/556 [==============================] - 17s 30ms/step - loss: 1.1302 - categorical_accuracy: 0.4984 - precision: 0.6187 - recall: 0.2680 - f1_score: 0.4091 - Precision_0: 0.4167 - Precision_1: 0.0000e+00 - Precision_2: 0.5797 - Precision_3: 0.5262 - Precision_4: 0.6849 - Recall_0: 0.0154 - Recall_1: 0.0000e+00 - Recall_2: 0.2149 - Recall_3: 0.2145 - Recall_4: 0.5556 - val_loss: 0.8644 - val_categorical_accuracy: 0.6648 - val_precision: 0.9138 - val_recall: 0.5324 - val_f1_score: 0.2627 - val_Precision_0: 0.0000e+00 - val_Precision_1: 0.0000e+00 - val_Precision_2: 0.0455 - val_Precision_3: 0.1418 - val_Precision_4: 0.9720 - val_Recall_0: 0.0000e+00 - val_Recall_1: 0.0000e+00 - val_Recall_2: 0.0275 - val_Recall_3: 0.0602 - val_Recall_4: 0.5986\n",
            "Epoch 12/50\n",
            "556/556 [==============================] - 17s 31ms/step - loss: 1.1247 - categorical_accuracy: 0.4999 - precision: 0.6162 - recall: 0.2805 - f1_score: 0.4211 - Precision_0: 0.4748 - Precision_1: 0.0000e+00 - Precision_2: 0.5763 - Precision_3: 0.5300 - Precision_4: 0.6845 - Recall_0: 0.0203 - Recall_1: 0.0000e+00 - Recall_2: 0.2459 - Recall_3: 0.2306 - Recall_4: 0.5547 - val_loss: 0.9300 - val_categorical_accuracy: 0.6501 - val_precision: 0.8935 - val_recall: 0.5263 - val_f1_score: 0.3080 - val_Precision_0: 0.0000e+00 - val_Precision_1: 0.0000e+00 - val_Precision_2: 0.1538 - val_Precision_3: 0.0979 - val_Precision_4: 0.9665 - val_Recall_0: 0.0000e+00 - val_Recall_1: 0.0000e+00 - val_Recall_2: 0.0367 - val_Recall_3: 0.0693 - val_Recall_4: 0.5909\n",
            "Epoch 13/50\n",
            "556/556 [==============================] - 16s 29ms/step - loss: 1.1209 - categorical_accuracy: 0.5034 - precision: 0.6146 - recall: 0.2866 - f1_score: 0.4231 - Precision_0: 0.5412 - Precision_1: 0.0000e+00 - Precision_2: 0.5746 - Precision_3: 0.5272 - Precision_4: 0.6835 - Recall_0: 0.0323 - Recall_1: 0.0000e+00 - Recall_2: 0.2767 - Recall_3: 0.2198 - Recall_4: 0.5550 - val_loss: 0.9037 - val_categorical_accuracy: 0.6123 - val_precision: 0.8435 - val_recall: 0.4856 - val_f1_score: 0.3254 - val_Precision_0: 0.0000e+00 - val_Precision_1: 0.0000e+00 - val_Precision_2: 0.1368 - val_Precision_3: 0.0867 - val_Precision_4: 0.9785 - val_Recall_0: 0.0000e+00 - val_Recall_1: 0.0000e+00 - val_Recall_2: 0.1193 - val_Recall_3: 0.0964 - val_Recall_4: 0.5408\n",
            "Epoch 14/50\n",
            "556/556 [==============================] - 17s 30ms/step - loss: 1.1100 - categorical_accuracy: 0.5078 - precision: 0.6182 - recall: 0.3013 - f1_score: 0.4292 - Precision_0: 0.5746 - Precision_1: 0.0000e+00 - Precision_2: 0.5856 - Precision_3: 0.5314 - Precision_4: 0.6860 - Recall_0: 0.0627 - Recall_1: 0.0000e+00 - Recall_2: 0.3005 - Recall_3: 0.2344 - Recall_4: 0.5617 - val_loss: 1.0327 - val_categorical_accuracy: 0.6047 - val_precision: 0.8302 - val_recall: 0.4583 - val_f1_score: 0.3331 - val_Precision_0: 0.0000e+00 - val_Precision_1: 0.0000e+00 - val_Precision_2: 0.0395 - val_Precision_3: 0.0980 - val_Precision_4: 0.9781 - val_Recall_0: 0.0000e+00 - val_Recall_1: 0.0000e+00 - val_Recall_2: 0.0275 - val_Recall_3: 0.1175 - val_Recall_4: 0.5105\n",
            "Epoch 15/50\n",
            "556/556 [==============================] - 17s 30ms/step - loss: 1.0912 - categorical_accuracy: 0.5168 - precision: 0.6219 - recall: 0.3291 - f1_score: 0.4470 - Precision_0: 0.5849 - Precision_1: 0.0000e+00 - Precision_2: 0.5956 - Precision_3: 0.5445 - Precision_4: 0.6861 - Recall_0: 0.1049 - Recall_1: 0.0000e+00 - Recall_2: 0.3432 - Recall_3: 0.2651 - Recall_4: 0.5781 - val_loss: 0.8672 - val_categorical_accuracy: 0.6788 - val_precision: 0.8723 - val_recall: 0.5404 - val_f1_score: 0.3237 - val_Precision_0: 0.5000 - val_Precision_1: 0.0000e+00 - val_Precision_2: 0.1190 - val_Precision_3: 0.1712 - val_Precision_4: 0.9682 - val_Recall_0: 0.0783 - val_Recall_1: 0.0000e+00 - val_Recall_2: 0.0917 - val_Recall_3: 0.1506 - val_Recall_4: 0.5978\n",
            "Epoch 16/50\n",
            "556/556 [==============================] - 17s 30ms/step - loss: 1.0841 - categorical_accuracy: 0.5231 - precision: 0.6226 - recall: 0.3355 - f1_score: 0.4540 - Precision_0: 0.5685 - Precision_1: 0.0000e+00 - Precision_2: 0.5988 - Precision_3: 0.5444 - Precision_4: 0.6907 - Recall_0: 0.1556 - Recall_1: 0.0000e+00 - Recall_2: 0.3405 - Recall_3: 0.2741 - Recall_4: 0.5779 - val_loss: 0.9824 - val_categorical_accuracy: 0.5841 - val_precision: 0.7699 - val_recall: 0.4721 - val_f1_score: 0.3075 - val_Precision_0: 0.7600 - val_Precision_1: 0.0000e+00 - val_Precision_2: 0.0758 - val_Precision_3: 0.1057 - val_Precision_4: 0.9799 - val_Recall_0: 0.1652 - val_Recall_1: 0.0000e+00 - val_Recall_2: 0.0459 - val_Recall_3: 0.2229 - val_Recall_4: 0.5141\n",
            "Epoch 17/50\n",
            "556/556 [==============================] - 17s 30ms/step - loss: 1.0834 - categorical_accuracy: 0.5216 - precision: 0.6277 - recall: 0.3363 - f1_score: 0.4585 - Precision_0: 0.5864 - Precision_1: 0.0000e+00 - Precision_2: 0.6096 - Precision_3: 0.5528 - Precision_4: 0.6890 - Recall_0: 0.1858 - Recall_1: 0.0000e+00 - Recall_2: 0.3427 - Recall_3: 0.2718 - Recall_4: 0.5709 - val_loss: 0.9188 - val_categorical_accuracy: 0.6556 - val_precision: 0.8706 - val_recall: 0.5322 - val_f1_score: 0.3254 - val_Precision_0: 0.5106 - val_Precision_1: 0.0000e+00 - val_Precision_2: 0.0721 - val_Precision_3: 0.1567 - val_Precision_4: 0.9771 - val_Recall_0: 0.2087 - val_Recall_1: 0.0000e+00 - val_Recall_2: 0.0734 - val_Recall_3: 0.1265 - val_Recall_4: 0.5874\n",
            "Epoch 18/50\n",
            "556/556 [==============================] - 17s 30ms/step - loss: 1.0782 - categorical_accuracy: 0.5264 - precision: 0.6261 - recall: 0.3457 - f1_score: 0.4693 - Precision_0: 0.5962 - Precision_1: 0.5000 - Precision_2: 0.6126 - Precision_3: 0.5503 - Precision_4: 0.6831 - Recall_0: 0.2230 - Recall_1: 8.2012e-04 - Recall_2: 0.3601 - Recall_3: 0.2694 - Recall_4: 0.5787 - val_loss: 0.8808 - val_categorical_accuracy: 0.6927 - val_precision: 0.8889 - val_recall: 0.5324 - val_f1_score: 0.3366 - val_Precision_0: 0.4828 - val_Precision_1: 0.0000e+00 - val_Precision_2: 0.1791 - val_Precision_3: 0.0950 - val_Precision_4: 0.9718 - val_Recall_0: 0.1217 - val_Recall_1: 0.0000e+00 - val_Recall_2: 0.1101 - val_Recall_3: 0.0633 - val_Recall_4: 0.5934\n",
            "Epoch 19/50\n",
            "556/556 [==============================] - 17s 30ms/step - loss: 1.0629 - categorical_accuracy: 0.5338 - precision: 0.6306 - recall: 0.3607 - f1_score: 0.4786 - Precision_0: 0.6130 - Precision_1: 0.2143 - Precision_2: 0.6081 - Precision_3: 0.5555 - Precision_4: 0.6961 - Recall_0: 0.2645 - Recall_1: 8.2012e-04 - Recall_2: 0.3829 - Recall_3: 0.2849 - Recall_4: 0.5828 - val_loss: 0.8606 - val_categorical_accuracy: 0.6783 - val_precision: 0.8407 - val_recall: 0.5501 - val_f1_score: 0.3413 - val_Precision_0: 0.4571 - val_Precision_1: 0.0000e+00 - val_Precision_2: 0.0741 - val_Precision_3: 0.0984 - val_Precision_4: 0.9745 - val_Recall_0: 0.1391 - val_Recall_1: 0.0000e+00 - val_Recall_2: 0.0917 - val_Recall_3: 0.1084 - val_Recall_4: 0.6103\n",
            "Epoch 20/50\n",
            "556/556 [==============================] - 17s 30ms/step - loss: 1.0609 - categorical_accuracy: 0.5377 - precision: 0.6329 - recall: 0.3659 - f1_score: 0.4834 - Precision_0: 0.6200 - Precision_1: 1.0000 - Precision_2: 0.6120 - Precision_3: 0.5594 - Precision_4: 0.6961 - Recall_0: 0.2695 - Recall_1: 0.0011 - Recall_2: 0.3873 - Recall_3: 0.2966 - Recall_4: 0.5842 - val_loss: 0.9909 - val_categorical_accuracy: 0.5859 - val_precision: 0.7870 - val_recall: 0.4623 - val_f1_score: 0.3054 - val_Precision_0: 0.5536 - val_Precision_1: 0.0000e+00 - val_Precision_2: 0.1461 - val_Precision_3: 0.0862 - val_Precision_4: 0.9774 - val_Recall_0: 0.2696 - val_Recall_1: 0.0000e+00 - val_Recall_2: 0.1193 - val_Recall_3: 0.1416 - val_Recall_4: 0.5044\n",
            "Epoch 21/50\n",
            "556/556 [==============================] - 16s 30ms/step - loss: 1.0584 - categorical_accuracy: 0.5352 - precision: 0.6340 - recall: 0.3672 - f1_score: 0.4850 - Precision_0: 0.6386 - Precision_1: 0.3889 - Precision_2: 0.6154 - Precision_3: 0.5575 - Precision_4: 0.6937 - Recall_0: 0.2941 - Recall_1: 0.0038 - Recall_2: 0.3837 - Recall_3: 0.2892 - Recall_4: 0.5903 - val_loss: 0.8161 - val_categorical_accuracy: 0.7005 - val_precision: 0.8616 - val_recall: 0.5767 - val_f1_score: 0.2963 - val_Precision_0: 0.3636 - val_Precision_1: 0.0000e+00 - val_Precision_2: 0.1184 - val_Precision_3: 0.1214 - val_Precision_4: 0.9712 - val_Recall_0: 0.1391 - val_Recall_1: 0.0000e+00 - val_Recall_2: 0.0826 - val_Recall_3: 0.1265 - val_Recall_4: 0.6394\n",
            "Epoch 22/50\n",
            "556/556 [==============================] - 17s 30ms/step - loss: 1.0561 - categorical_accuracy: 0.5366 - precision: 0.6318 - recall: 0.3666 - f1_score: 0.4888 - Precision_0: 0.6515 - Precision_1: 0.5000 - Precision_2: 0.6124 - Precision_3: 0.5503 - Precision_4: 0.6934 - Recall_0: 0.2898 - Recall_1: 0.0041 - Recall_2: 0.3812 - Recall_3: 0.2929 - Recall_4: 0.5881 - val_loss: 0.9105 - val_categorical_accuracy: 0.6475 - val_precision: 0.8028 - val_recall: 0.5301 - val_f1_score: 0.2962 - val_Precision_0: 0.3750 - val_Precision_1: 0.0000e+00 - val_Precision_2: 0.0526 - val_Precision_3: 0.1071 - val_Precision_4: 0.9737 - val_Recall_0: 0.1826 - val_Recall_1: 0.0000e+00 - val_Recall_2: 0.0275 - val_Recall_3: 0.1867 - val_Recall_4: 0.5825\n",
            "Epoch 23/50\n",
            "556/556 [==============================] - 17s 30ms/step - loss: 1.0512 - categorical_accuracy: 0.5389 - precision: 0.6330 - recall: 0.3725 - f1_score: 0.4956 - Precision_0: 0.6624 - Precision_1: 0.6250 - Precision_2: 0.6201 - Precision_3: 0.5511 - Precision_4: 0.6866 - Recall_0: 0.3042 - Recall_1: 0.0041 - Recall_2: 0.3973 - Recall_3: 0.2898 - Recall_4: 0.5928 - val_loss: 0.9227 - val_categorical_accuracy: 0.6448 - val_precision: 0.7797 - val_recall: 0.5022 - val_f1_score: 0.3624 - val_Precision_0: 0.4409 - val_Precision_1: 0.0000e+00 - val_Precision_2: 0.0625 - val_Precision_3: 0.1367 - val_Precision_4: 0.9683 - val_Recall_0: 0.3565 - val_Recall_1: 0.0000e+00 - val_Recall_2: 0.0275 - val_Recall_3: 0.2681 - val_Recall_4: 0.5406\n",
            "Epoch 24/50\n",
            "556/556 [==============================] - 17s 30ms/step - loss: 1.0428 - categorical_accuracy: 0.5446 - precision: 0.6377 - recall: 0.3809 - f1_score: 0.5017 - Precision_0: 0.6669 - Precision_1: 0.4286 - Precision_2: 0.6233 - Precision_3: 0.5577 - Precision_4: 0.6982 - Recall_0: 0.3356 - Recall_1: 0.0016 - Recall_2: 0.4011 - Recall_3: 0.3211 - Recall_4: 0.5792 - val_loss: 0.8556 - val_categorical_accuracy: 0.6796 - val_precision: 0.8174 - val_recall: 0.5372 - val_f1_score: 0.3598 - val_Precision_0: 0.5625 - val_Precision_1: 0.0000e+00 - val_Precision_2: 0.0930 - val_Precision_3: 0.1512 - val_Precision_4: 0.9665 - val_Recall_0: 0.2348 - val_Recall_1: 0.0000e+00 - val_Recall_2: 0.0734 - val_Recall_3: 0.2349 - val_Recall_4: 0.5846\n",
            "Epoch 25/50\n",
            "556/556 [==============================] - 16s 29ms/step - loss: 1.0438 - categorical_accuracy: 0.5450 - precision: 0.6384 - recall: 0.3808 - f1_score: 0.4988 - Precision_0: 0.6580 - Precision_1: 0.7778 - Precision_2: 0.6243 - Precision_3: 0.5621 - Precision_4: 0.6953 - Recall_0: 0.2947 - Recall_1: 0.0038 - Recall_2: 0.3993 - Recall_3: 0.3196 - Recall_4: 0.5950 - val_loss: 0.7935 - val_categorical_accuracy: 0.7174 - val_precision: 0.8492 - val_recall: 0.6167 - val_f1_score: 0.3440 - val_Precision_0: 0.3895 - val_Precision_1: 0.0000e+00 - val_Precision_2: 0.1782 - val_Precision_3: 0.1756 - val_Precision_4: 0.9698 - val_Recall_0: 0.3217 - val_Recall_1: 0.0000e+00 - val_Recall_2: 0.1651 - val_Recall_3: 0.2169 - val_Recall_4: 0.6717\n",
            "Epoch 26/50\n",
            "556/556 [==============================] - 17s 30ms/step - loss: 1.0453 - categorical_accuracy: 0.5457 - precision: 0.6381 - recall: 0.3833 - f1_score: 0.5038 - Precision_0: 0.6744 - Precision_1: 0.5385 - Precision_2: 0.6246 - Precision_3: 0.5555 - Precision_4: 0.6994 - Recall_0: 0.3122 - Recall_1: 0.0057 - Recall_2: 0.3944 - Recall_3: 0.3302 - Recall_4: 0.5915 - val_loss: 0.8271 - val_categorical_accuracy: 0.7081 - val_precision: 0.8928 - val_recall: 0.5748 - val_f1_score: 0.3452 - val_Precision_0: 0.5846 - val_Precision_1: 0.0000e+00 - val_Precision_2: 0.1724 - val_Precision_3: 0.2268 - val_Precision_4: 0.9701 - val_Recall_0: 0.3304 - val_Recall_1: 0.0000e+00 - val_Recall_2: 0.1835 - val_Recall_3: 0.1325 - val_Recall_4: 0.6297\n",
            "Epoch 27/50\n",
            "556/556 [==============================] - 16s 30ms/step - loss: 1.0427 - categorical_accuracy: 0.5432 - precision: 0.6397 - recall: 0.3787 - f1_score: 0.5007 - Precision_0: 0.6749 - Precision_1: 0.6923 - Precision_2: 0.6245 - Precision_3: 0.5582 - Precision_4: 0.6950 - Recall_0: 0.3205 - Recall_1: 0.0074 - Recall_2: 0.3958 - Recall_3: 0.3032 - Recall_4: 0.5968 - val_loss: 0.8464 - val_categorical_accuracy: 0.6653 - val_precision: 0.8018 - val_recall: 0.5514 - val_f1_score: 0.3501 - val_Precision_0: 0.4600 - val_Precision_1: 0.0000e+00 - val_Precision_2: 0.1979 - val_Precision_3: 0.1301 - val_Precision_4: 0.9677 - val_Recall_0: 0.2000 - val_Recall_1: 0.0000e+00 - val_Recall_2: 0.1743 - val_Recall_3: 0.2289 - val_Recall_4: 0.5997\n",
            "Epoch 28/50\n",
            "556/556 [==============================] - 16s 29ms/step - loss: 1.0323 - categorical_accuracy: 0.5494 - precision: 0.6438 - recall: 0.3906 - f1_score: 0.5093 - Precision_0: 0.6879 - Precision_1: 0.6047 - Precision_2: 0.6287 - Precision_3: 0.5660 - Precision_4: 0.6999 - Recall_0: 0.3356 - Recall_1: 0.0142 - Recall_2: 0.3918 - Recall_3: 0.3374 - Recall_4: 0.6020 - val_loss: 0.8667 - val_categorical_accuracy: 0.6669 - val_precision: 0.8469 - val_recall: 0.5573 - val_f1_score: 0.3678 - val_Precision_0: 0.7021 - val_Precision_1: 0.0000e+00 - val_Precision_2: 0.1575 - val_Precision_3: 0.1266 - val_Precision_4: 0.9806 - val_Recall_0: 0.2870 - val_Recall_1: 0.0000e+00 - val_Recall_2: 0.1835 - val_Recall_3: 0.1506 - val_Recall_4: 0.6096\n",
            "Epoch 29/50\n",
            "556/556 [==============================] - 16s 29ms/step - loss: 1.0335 - categorical_accuracy: 0.5489 - precision: 0.6392 - recall: 0.3871 - f1_score: 0.5079 - Precision_0: 0.6810 - Precision_1: 0.4779 - Precision_2: 0.6251 - Precision_3: 0.5586 - Precision_4: 0.6957 - Recall_0: 0.3460 - Recall_1: 0.0148 - Recall_2: 0.4020 - Recall_3: 0.3143 - Recall_4: 0.5992 - val_loss: 0.9349 - val_categorical_accuracy: 0.6547 - val_precision: 0.8102 - val_recall: 0.5163 - val_f1_score: 0.3524 - val_Precision_0: 0.5098 - val_Precision_1: 0.0000e+00 - val_Precision_2: 0.1880 - val_Precision_3: 0.1404 - val_Precision_4: 0.9811 - val_Recall_0: 0.2261 - val_Recall_1: 0.0000e+00 - val_Recall_2: 0.2294 - val_Recall_3: 0.2229 - val_Recall_4: 0.5583\n",
            "Epoch 30/50\n",
            "556/556 [==============================] - 16s 29ms/step - loss: 1.0347 - categorical_accuracy: 0.5475 - precision: 0.6404 - recall: 0.3880 - f1_score: 0.5059 - Precision_0: 0.6780 - Precision_1: 0.6197 - Precision_2: 0.6232 - Precision_3: 0.5623 - Precision_4: 0.6989 - Recall_0: 0.3245 - Recall_1: 0.0120 - Recall_2: 0.4057 - Recall_3: 0.3264 - Recall_4: 0.5952 - val_loss: 0.8383 - val_categorical_accuracy: 0.6747 - val_precision: 0.8131 - val_recall: 0.5642 - val_f1_score: 0.3644 - val_Precision_0: 0.3036 - val_Precision_1: 0.0000e+00 - val_Precision_2: 0.1761 - val_Precision_3: 0.1723 - val_Precision_4: 0.9759 - val_Recall_0: 0.1478 - val_Recall_1: 0.0000e+00 - val_Recall_2: 0.2569 - val_Recall_3: 0.2771 - val_Recall_4: 0.6100\n",
            "Epoch 31/50\n",
            "556/556 [==============================] - 17s 30ms/step - loss: 1.0418 - categorical_accuracy: 0.5448 - precision: 0.6363 - recall: 0.3825 - f1_score: 0.4991 - Precision_0: 0.6624 - Precision_1: 0.5824 - Precision_2: 0.6194 - Precision_3: 0.5609 - Precision_4: 0.6925 - Recall_0: 0.3162 - Recall_1: 0.0145 - Recall_2: 0.4033 - Recall_3: 0.3103 - Recall_4: 0.5954 - val_loss: 0.9627 - val_categorical_accuracy: 0.6336 - val_precision: 0.8538 - val_recall: 0.4832 - val_f1_score: 0.3014 - val_Precision_0: 0.3704 - val_Precision_1: 0.0000e+00 - val_Precision_2: 0.1684 - val_Precision_3: 0.1355 - val_Precision_4: 0.9729 - val_Recall_0: 0.0870 - val_Recall_1: 0.0000e+00 - val_Recall_2: 0.1468 - val_Recall_3: 0.1265 - val_Recall_4: 0.5331\n"
          ]
        },
        {
          "output_type": "display_data",
          "data": {
            "text/plain": [
              "VBox(children=(Label(value='0.003 MB of 0.003 MB uploaded\\r'), FloatProgress(value=1.0, max=1.0)))"
            ],
            "application/vnd.jupyter.widget-view+json": {
              "version_major": 2,
              "version_minor": 0,
              "model_id": "892504368d0249829c77bc4fdc56d50e"
            }
          },
          "metadata": {}
        },
        {
          "output_type": "display_data",
          "data": {
            "text/plain": [
              "<IPython.core.display.HTML object>"
            ],
            "text/html": [
              "<style>\n",
              "    table.wandb td:nth-child(1) { padding: 0 10px; text-align: left ; width: auto;} td:nth-child(2) {text-align: left ; width: 100%}\n",
              "    .wandb-row { display: flex; flex-direction: row; flex-wrap: wrap; justify-content: flex-start; width: 100% }\n",
              "    .wandb-col { display: flex; flex-direction: column; flex-basis: 100%; flex: 1; padding: 10px; }\n",
              "    </style>\n",
              "<div class=\"wandb-row\"><div class=\"wandb-col\"><h3>Run history:</h3><br/><table class=\"wandb\"><tr><td>Precision_0</td><td>▁▁▁▁▁▁█▆██▄▄▅▅▅▅▅▅▅▅▅▆▆▆▆▆▆▆▆▆▆</td></tr><tr><td>Precision_1</td><td>▁▁▁▁▁▁▁▁▁▁▁▁▁▁▁▁▁▅▃█▄▅▅▄▆▅▆▅▄▅▅</td></tr><tr><td>Precision_2</td><td>▁▁▁▇▇█▇▇█▇▇▇▇██████████████████</td></tr><tr><td>Precision_3</td><td>▁▁▁▇▇▇▇▇▇▇█████████████████████</td></tr><tr><td>Precision_4</td><td>▁▆▇████▇███████████████████████</td></tr><tr><td>Recall_0</td><td>▁▁▁▁▁▁▁▁▁▁▁▁▂▂▃▄▅▆▆▆▇▇▇█▇▇▇███▇</td></tr><tr><td>Recall_1</td><td>▁▁▁▁▁▁▁▁▁▁▁▁▁▁▁▁▁▁▁▂▃▃▃▂▃▄▅██▇█</td></tr><tr><td>Recall_2</td><td>▁▁▁▁▂▂▂▂▂▄▅▅▆▆▇▇▇▇█████████████</td></tr><tr><td>Recall_3</td><td>▁▁▁▁▂▁▃▂▃▄▅▆▆▆▇▇▇▇▇▇▇▇▇███▇███▇</td></tr><tr><td>Recall_4</td><td>▁▁▆▆▆▆▇▇▇▇▇▇▇██████████████████</td></tr><tr><td>categorical_accuracy</td><td>▁▂▅▅▆▆▆▆▆▆▇▇▇▇▇▇▇▇█████████████</td></tr><tr><td>epoch</td><td>▁▁▁▂▂▂▂▃▃▃▃▄▄▄▄▅▅▅▅▅▆▆▆▆▇▇▇▇███</td></tr><tr><td>loss</td><td>██▅▄▄▃▃▃▃▃▂▂▂▂▂▂▂▂▁▁▁▁▁▁▁▁▁▁▁▁▁</td></tr><tr><td>precision</td><td>▁▆▇████████████████████████████</td></tr><tr><td>recall</td><td>▁▁▃▃▄▄▄▄▄▅▆▆▆▆▇▇▇▇▇████████████</td></tr><tr><td>size_train</td><td>▁</td></tr><tr><td>val_Precision_0</td><td>▁▁▁▁▁▁▁▁▁▁▁▁▁▁▆█▆▅▅▆▄▄▅▆▅▆▅▇▆▄▄</td></tr><tr><td>val_Precision_1</td><td>▁▁▁▁▁▁▁▁▁▁▁▁▁▁▁▁▁▁▁▁▁▁▁▁▁▁▁▁▁▁▁</td></tr><tr><td>val_Precision_2</td><td>▁▁▁▁▁▁▁▁▃▅▃▆▆▂▅▄▄▇▄▆▅▃▃▄▇▇█▇█▇▇</td></tr><tr><td>val_Precision_3</td><td>▁▁▁▁▅▇▇▅▃▄▅▄▄▄▆▄▆▄▄▄▅▄▅▆▆█▅▅▅▆▅</td></tr><tr><td>val_Precision_4</td><td>▁█████▆████████████████████████</td></tr><tr><td>val_Recall_0</td><td>▁▁▁▁▁▁▁▁▁▁▁▁▁▁▃▄▅▃▄▆▄▅█▆▇▇▅▇▅▄▃</td></tr><tr><td>val_Recall_1</td><td>▁▁▁▁▁▁▁▁▁▁▁▁▁▁▁▁▁▁▁▁▁▁▁▁▁▁▁▁▁▁▁</td></tr><tr><td>val_Recall_2</td><td>▁▁▁▁▁▁▁▁▄▂▂▂▄▂▄▂▃▄▄▄▃▂▂▃▆▆▆▆▇█▅</td></tr><tr><td>val_Recall_3</td><td>▁▁▁▁▁▂▂▁▃▃▃▃▃▄▅▇▄▃▄▅▄▆█▇▆▄▇▅▇█▄</td></tr><tr><td>val_Recall_4</td><td>▁▁▆▅▅▅▁▅▆▇▇▇▇▆▇▆▇▇▇▆█▇▇▇██▇▇▇▇▇</td></tr><tr><td>val_categorical_accuracy</td><td>█▄▃▁▂▂▄▁▂▄▅▅▄▄▅▄▅▅▅▄▅▅▄▅▆▅▅▅▅▅▄</td></tr><tr><td>val_loss</td><td>█▆▅▅▅▅▆▆▄▃▂▃▂▄▂▃▃▂▂▄▁▃▃▂▁▁▂▂▃▂▃</td></tr><tr><td>val_precision</td><td>▁█████▄█▇▇▇▇▇▇▇▆▇▇▇▇▇▇▆▇▇▇▇▇▇▇▇</td></tr><tr><td>val_recall</td><td>▁▁▆▄▅▅▁▅▆▇▇▇▇▆▇▆▇▇▇▆█▇▇▇██▇▇▇▇▆</td></tr></table><br/></div><div class=\"wandb-col\"><h3>Run summary:</h3><br/><table class=\"wandb\"><tr><td>Precision_0</td><td>0.66237</td></tr><tr><td>Precision_1</td><td>0.58242</td></tr><tr><td>Precision_2</td><td>0.61943</td></tr><tr><td>Precision_3</td><td>0.56089</td></tr><tr><td>Precision_4</td><td>0.69246</td></tr><tr><td>Recall_0</td><td>0.31621</td></tr><tr><td>Recall_1</td><td>0.01449</td></tr><tr><td>Recall_2</td><td>0.40325</td></tr><tr><td>Recall_3</td><td>0.31026</td></tr><tr><td>Recall_4</td><td>0.59541</td></tr><tr><td>best_epoch</td><td>24</td></tr><tr><td>best_val_loss</td><td>0.79349</td></tr><tr><td>categorical_accuracy</td><td>0.5448</td></tr><tr><td>epoch</td><td>30</td></tr><tr><td>loss</td><td>1.04184</td></tr><tr><td>precision</td><td>0.63629</td></tr><tr><td>recall</td><td>0.38248</td></tr><tr><td>size_train</td><td>35521</td></tr><tr><td>train_set</td><td>Prime_Pantry</td></tr><tr><td>val_Precision_0</td><td>0.37037</td></tr><tr><td>val_Precision_1</td><td>0.0</td></tr><tr><td>val_Precision_2</td><td>0.16842</td></tr><tr><td>val_Precision_3</td><td>0.13548</td></tr><tr><td>val_Precision_4</td><td>0.97286</td></tr><tr><td>val_Recall_0</td><td>0.08696</td></tr><tr><td>val_Recall_1</td><td>0.0</td></tr><tr><td>val_Recall_2</td><td>0.14679</td></tr><tr><td>val_Recall_3</td><td>0.12651</td></tr><tr><td>val_Recall_4</td><td>0.53309</td></tr><tr><td>val_categorical_accuracy</td><td>0.63358</td></tr><tr><td>val_loss</td><td>0.96269</td></tr><tr><td>val_precision</td><td>0.85383</td></tr><tr><td>val_recall</td><td>0.48317</td></tr></table><br/></div></div>"
            ]
          },
          "metadata": {}
        },
        {
          "output_type": "display_data",
          "data": {
            "text/plain": [
              "<IPython.core.display.HTML object>"
            ],
            "text/html": [
              " View run <strong style=\"color:#cdcd00\">sweet-sweep-3</strong> at: <a href='https://wandb.ai/coffeegang/RNN_preliminary_tests/runs/kw3ubbj8' target=\"_blank\">https://wandb.ai/coffeegang/RNN_preliminary_tests/runs/kw3ubbj8</a><br/>Synced 5 W&B file(s), 1 media file(s), 0 artifact file(s) and 0 other file(s)"
            ]
          },
          "metadata": {}
        },
        {
          "output_type": "display_data",
          "data": {
            "text/plain": [
              "<IPython.core.display.HTML object>"
            ],
            "text/html": [
              "Find logs at: <code>./wandb/run-20240129_163439-kw3ubbj8/logs</code>"
            ]
          },
          "metadata": {}
        },
        {
          "output_type": "stream",
          "name": "stderr",
          "text": [
            "\u001b[34m\u001b[1mwandb\u001b[0m: Agent Starting Run: ylm2jq6r with config:\n",
            "\u001b[34m\u001b[1mwandb\u001b[0m: \tRNN_layer_model: model_1\n",
            "\u001b[34m\u001b[1mwandb\u001b[0m: \tembedding_size: 256\n"
          ]
        },
        {
          "output_type": "display_data",
          "data": {
            "text/plain": [
              "<IPython.core.display.HTML object>"
            ],
            "text/html": [
              "Tracking run with wandb version 0.16.2"
            ]
          },
          "metadata": {}
        },
        {
          "output_type": "display_data",
          "data": {
            "text/plain": [
              "<IPython.core.display.HTML object>"
            ],
            "text/html": [
              "Run data is saved locally in <code>/content/gdrive/.shortcut-targets-by-id/1osKmyrDLORFSpes1mwrU-W7OXM-to6bK/AML_Exam/Problem2/wandb/run-20240129_164401-ylm2jq6r</code>"
            ]
          },
          "metadata": {}
        },
        {
          "output_type": "display_data",
          "data": {
            "text/plain": [
              "<IPython.core.display.HTML object>"
            ],
            "text/html": [
              "Syncing run <strong><a href='https://wandb.ai/coffeegang/RNN_preliminary_tests/runs/ylm2jq6r' target=\"_blank\">fresh-sweep-4</a></strong> to <a href='https://wandb.ai/coffeegang/RNN_preliminary_tests' target=\"_blank\">Weights & Biases</a> (<a href='https://wandb.me/run' target=\"_blank\">docs</a>)<br/>Sweep page: <a href='https://wandb.ai/coffeegang/RNN_preliminary_tests/sweeps/r8db3smm' target=\"_blank\">https://wandb.ai/coffeegang/RNN_preliminary_tests/sweeps/r8db3smm</a>"
            ]
          },
          "metadata": {}
        },
        {
          "output_type": "display_data",
          "data": {
            "text/plain": [
              "<IPython.core.display.HTML object>"
            ],
            "text/html": [
              " View project at <a href='https://wandb.ai/coffeegang/RNN_preliminary_tests' target=\"_blank\">https://wandb.ai/coffeegang/RNN_preliminary_tests</a>"
            ]
          },
          "metadata": {}
        },
        {
          "output_type": "display_data",
          "data": {
            "text/plain": [
              "<IPython.core.display.HTML object>"
            ],
            "text/html": [
              " View sweep at <a href='https://wandb.ai/coffeegang/RNN_preliminary_tests/sweeps/r8db3smm' target=\"_blank\">https://wandb.ai/coffeegang/RNN_preliminary_tests/sweeps/r8db3smm</a>"
            ]
          },
          "metadata": {}
        },
        {
          "output_type": "display_data",
          "data": {
            "text/plain": [
              "<IPython.core.display.HTML object>"
            ],
            "text/html": [
              " View run at <a href='https://wandb.ai/coffeegang/RNN_preliminary_tests/runs/ylm2jq6r' target=\"_blank\">https://wandb.ai/coffeegang/RNN_preliminary_tests/runs/ylm2jq6r</a>"
            ]
          },
          "metadata": {}
        },
        {
          "output_type": "stream",
          "name": "stdout",
          "text": [
            "Epoch 1/50\n",
            "556/556 [==============================] - 46s 67ms/step - loss: 1.5141 - categorical_accuracy: 0.2743 - precision: 0.2462 - recall: 4.5044e-04 - f1_score: 0.1722 - Precision_0: 0.0000e+00 - Precision_1: 0.0000e+00 - Precision_2: 0.0000e+00 - Precision_3: 0.0000e+00 - Precision_4: 0.2712 - Recall_0: 0.0000e+00 - Recall_1: 0.0000e+00 - Recall_2: 0.0000e+00 - Recall_3: 0.0000e+00 - Recall_4: 0.0016 - val_loss: 1.3599 - val_categorical_accuracy: 0.0207 - val_precision: 0.0000e+00 - val_recall: 0.0000e+00 - val_f1_score: 0.0081 - val_Precision_0: 0.0000e+00 - val_Precision_1: 0.0000e+00 - val_Precision_2: 0.0000e+00 - val_Precision_3: 0.0000e+00 - val_Precision_4: 0.0000e+00 - val_Recall_0: 0.0000e+00 - val_Recall_1: 0.0000e+00 - val_Recall_2: 0.0000e+00 - val_Recall_3: 0.0000e+00 - val_Recall_4: 0.0000e+00\n",
            "Epoch 2/50\n",
            "556/556 [==============================] - 19s 35ms/step - loss: 1.5125 - categorical_accuracy: 0.2755 - precision: 0.5000 - recall: 2.8152e-05 - f1_score: 0.1686 - Precision_0: 0.0000e+00 - Precision_1: 0.0000e+00 - Precision_2: 0.0000e+00 - Precision_3: 0.5000 - Precision_4: 0.0000e+00 - Recall_0: 0.0000e+00 - Recall_1: 0.0000e+00 - Recall_2: 0.0000e+00 - Recall_3: 1.0253e-04 - Recall_4: 0.0000e+00 - val_loss: 1.3628 - val_categorical_accuracy: 0.0612 - val_precision: 0.0000e+00 - val_recall: 0.0000e+00 - val_f1_score: 0.0584 - val_Precision_0: 0.0000e+00 - val_Precision_1: 0.0000e+00 - val_Precision_2: 0.0000e+00 - val_Precision_3: 0.0000e+00 - val_Precision_4: 0.0000e+00 - val_Recall_0: 0.0000e+00 - val_Recall_1: 0.0000e+00 - val_Recall_2: 0.0000e+00 - val_Recall_3: 0.0000e+00 - val_Recall_4: 0.0000e+00\n",
            "Epoch 3/50\n",
            "556/556 [==============================] - 19s 35ms/step - loss: 1.5083 - categorical_accuracy: 0.2768 - precision: 0.5000 - recall: 8.4457e-05 - f1_score: 0.1692 - Precision_0: 0.0000e+00 - Precision_1: 0.0000e+00 - Precision_2: 1.0000 - Precision_3: 0.4000 - Precision_4: 0.0000e+00 - Recall_0: 0.0000e+00 - Recall_1: 0.0000e+00 - Recall_2: 1.0982e-04 - Recall_3: 2.0507e-04 - Recall_4: 0.0000e+00 - val_loss: 1.3480 - val_categorical_accuracy: 0.8060 - val_precision: 0.0000e+00 - val_recall: 0.0000e+00 - val_f1_score: 0.2287 - val_Precision_0: 0.0000e+00 - val_Precision_1: 0.0000e+00 - val_Precision_2: 0.0000e+00 - val_Precision_3: 0.0000e+00 - val_Precision_4: 0.0000e+00 - val_Recall_0: 0.0000e+00 - val_Recall_1: 0.0000e+00 - val_Recall_2: 0.0000e+00 - val_Recall_3: 0.0000e+00 - val_Recall_4: 0.0000e+00\n",
            "Epoch 4/50\n",
            "556/556 [==============================] - 18s 32ms/step - loss: 1.5106 - categorical_accuracy: 0.2756 - precision: 0.3733 - recall: 7.8827e-04 - f1_score: 0.1729 - Precision_0: 0.0000e+00 - Precision_1: 0.0000e+00 - Precision_2: 0.5000 - Precision_3: 0.3699 - Precision_4: 0.0000e+00 - Recall_0: 0.0000e+00 - Recall_1: 0.0000e+00 - Recall_2: 1.0982e-04 - Recall_3: 0.0028 - Recall_4: 0.0000e+00 - val_loss: 1.3800 - val_categorical_accuracy: 0.8492 - val_precision: 0.0000e+00 - val_recall: 0.0000e+00 - val_f1_score: 0.2187 - val_Precision_0: 0.0000e+00 - val_Precision_1: 0.0000e+00 - val_Precision_2: 0.0000e+00 - val_Precision_3: 0.0000e+00 - val_Precision_4: 0.0000e+00 - val_Recall_0: 0.0000e+00 - val_Recall_1: 0.0000e+00 - val_Recall_2: 0.0000e+00 - val_Recall_3: 0.0000e+00 - val_Recall_4: 0.0000e+00\n",
            "Epoch 5/50\n",
            "556/556 [==============================] - 18s 32ms/step - loss: 1.5104 - categorical_accuracy: 0.2736 - precision: 0.5000 - recall: 2.5337e-04 - f1_score: 0.1765 - Precision_0: 0.0000e+00 - Precision_1: 0.0000e+00 - Precision_2: 0.0000e+00 - Precision_3: 0.0000e+00 - Precision_4: 0.5000 - Recall_0: 0.0000e+00 - Recall_1: 0.0000e+00 - Recall_2: 0.0000e+00 - Recall_3: 0.0000e+00 - Recall_4: 9.2279e-04 - val_loss: 1.3362 - val_categorical_accuracy: 0.8521 - val_precision: 0.0000e+00 - val_recall: 0.0000e+00 - val_f1_score: 0.2254 - val_Precision_0: 0.0000e+00 - val_Precision_1: 0.0000e+00 - val_Precision_2: 0.0000e+00 - val_Precision_3: 0.0000e+00 - val_Precision_4: 0.0000e+00 - val_Recall_0: 0.0000e+00 - val_Recall_1: 0.0000e+00 - val_Recall_2: 0.0000e+00 - val_Recall_3: 0.0000e+00 - val_Recall_4: 0.0000e+00\n",
            "Epoch 6/50\n",
            "556/556 [==============================] - 17s 31ms/step - loss: 1.5048 - categorical_accuracy: 0.2812 - precision: 1.0000 - recall: 2.2522e-04 - f1_score: 0.1840 - Precision_0: 0.0000e+00 - Precision_1: 0.0000e+00 - Precision_2: 0.0000e+00 - Precision_3: 0.0000e+00 - Precision_4: 1.0000 - Recall_0: 0.0000e+00 - Recall_1: 0.0000e+00 - Recall_2: 0.0000e+00 - Recall_3: 0.0000e+00 - Recall_4: 8.2026e-04 - val_loss: 1.3645 - val_categorical_accuracy: 0.5419 - val_precision: 0.0000e+00 - val_recall: 0.0000e+00 - val_f1_score: 0.1622 - val_Precision_0: 0.0000e+00 - val_Precision_1: 0.0000e+00 - val_Precision_2: 0.0000e+00 - val_Precision_3: 0.0000e+00 - val_Precision_4: 0.0000e+00 - val_Recall_0: 0.0000e+00 - val_Recall_1: 0.0000e+00 - val_Recall_2: 0.0000e+00 - val_Recall_3: 0.0000e+00 - val_Recall_4: 0.0000e+00\n",
            "Epoch 7/50\n",
            "556/556 [==============================] - 17s 31ms/step - loss: 1.3111 - categorical_accuracy: 0.4168 - precision: 0.5608 - recall: 0.1075 - f1_score: 0.2664 - Precision_0: 0.0000e+00 - Precision_1: 0.0000e+00 - Precision_2: 0.4125 - Precision_3: 0.0000e+00 - Precision_4: 0.5644 - Recall_0: 0.0000e+00 - Recall_1: 0.0000e+00 - Recall_2: 0.0072 - Recall_3: 0.0000e+00 - Recall_4: 0.3847 - val_loss: 1.2077 - val_categorical_accuracy: 0.4906 - val_precision: 0.9766 - val_recall: 0.3339 - val_f1_score: 0.1731 - val_Precision_0: 0.0000e+00 - val_Precision_1: 0.0000e+00 - val_Precision_2: 0.0000e+00 - val_Precision_3: 0.0000e+00 - val_Precision_4: 0.9766 - val_Recall_0: 0.0000e+00 - val_Recall_1: 0.0000e+00 - val_Recall_2: 0.0000e+00 - val_Recall_3: 0.0000e+00 - val_Recall_4: 0.3785\n",
            "Epoch 8/50\n",
            "556/556 [==============================] - 18s 32ms/step - loss: 1.2251 - categorical_accuracy: 0.4537 - precision: 0.6183 - recall: 0.1520 - f1_score: 0.3119 - Precision_0: 0.0000e+00 - Precision_1: 0.0000e+00 - Precision_2: 0.4175 - Precision_3: 0.8000 - Precision_4: 0.6230 - Recall_0: 0.0000e+00 - Recall_1: 0.0000e+00 - Recall_2: 0.0094 - Recall_3: 4.1013e-04 - Recall_4: 0.5443 - val_loss: 0.9587 - val_categorical_accuracy: 0.5912 - val_precision: 0.9689 - val_recall: 0.4919 - val_f1_score: 0.2080 - val_Precision_0: 0.0000e+00 - val_Precision_1: 0.0000e+00 - val_Precision_2: 1.0000 - val_Precision_3: 0.0000e+00 - val_Precision_4: 0.9688 - val_Recall_0: 0.0000e+00 - val_Recall_1: 0.0000e+00 - val_Recall_2: 0.0550 - val_Recall_3: 0.0000e+00 - val_Recall_4: 0.5564\n",
            "Epoch 9/50\n",
            "556/556 [==============================] - 17s 31ms/step - loss: 1.1842 - categorical_accuracy: 0.4738 - precision: 0.6245 - recall: 0.1904 - f1_score: 0.3723 - Precision_0: 0.5333 - Precision_1: 0.0000e+00 - Precision_2: 0.5204 - Precision_3: 0.4970 - Precision_4: 0.6646 - Recall_0: 0.0049 - Recall_1: 0.0000e+00 - Recall_2: 0.1150 - Recall_3: 0.0424 - Recall_4: 0.5419 - val_loss: 0.9561 - val_categorical_accuracy: 0.5739 - val_precision: 0.8655 - val_recall: 0.4784 - val_f1_score: 0.2915 - val_Precision_0: 0.7895 - val_Precision_1: 0.0000e+00 - val_Precision_2: 0.1852 - val_Precision_3: 0.1170 - val_Precision_4: 0.9750 - val_Recall_0: 0.1304 - val_Recall_1: 0.0000e+00 - val_Recall_2: 0.0459 - val_Recall_3: 0.1205 - val_Recall_4: 0.5294\n",
            "Epoch 10/50\n",
            "556/556 [==============================] - 17s 31ms/step - loss: 1.1511 - categorical_accuracy: 0.4909 - precision: 0.6210 - recall: 0.2647 - f1_score: 0.4111 - Precision_0: 0.5967 - Precision_1: 0.0000e+00 - Precision_2: 0.5867 - Precision_3: 0.5303 - Precision_4: 0.6693 - Recall_0: 0.1433 - Recall_1: 0.0000e+00 - Recall_2: 0.2440 - Recall_3: 0.1416 - Recall_4: 0.5469 - val_loss: 0.9598 - val_categorical_accuracy: 0.5876 - val_precision: 0.8615 - val_recall: 0.4887 - val_f1_score: 0.2889 - val_Precision_0: 0.0000e+00 - val_Precision_1: 0.0000e+00 - val_Precision_2: 0.1736 - val_Precision_3: 0.1103 - val_Precision_4: 0.9786 - val_Recall_0: 0.0000e+00 - val_Recall_1: 0.0000e+00 - val_Recall_2: 0.1927 - val_Recall_3: 0.0964 - val_Recall_4: 0.5426\n",
            "Epoch 11/50\n",
            "556/556 [==============================] - 17s 31ms/step - loss: 1.1280 - categorical_accuracy: 0.4995 - precision: 0.6144 - recall: 0.3022 - f1_score: 0.4288 - Precision_0: 0.6182 - Precision_1: 0.0000e+00 - Precision_2: 0.5865 - Precision_3: 0.5258 - Precision_4: 0.6703 - Recall_0: 0.1962 - Recall_1: 0.0000e+00 - Recall_2: 0.3017 - Recall_3: 0.1978 - Recall_4: 0.5556 - val_loss: 0.9630 - val_categorical_accuracy: 0.6505 - val_precision: 0.9003 - val_recall: 0.5012 - val_f1_score: 0.3022 - val_Precision_0: 0.5517 - val_Precision_1: 0.0000e+00 - val_Precision_2: 0.1981 - val_Precision_3: 0.1429 - val_Precision_4: 0.9765 - val_Recall_0: 0.1391 - val_Recall_1: 0.0000e+00 - val_Recall_2: 0.1927 - val_Recall_3: 0.0663 - val_Recall_4: 0.5555\n",
            "Epoch 12/50\n",
            "556/556 [==============================] - 17s 31ms/step - loss: 1.1139 - categorical_accuracy: 0.5069 - precision: 0.6201 - recall: 0.3123 - f1_score: 0.4387 - Precision_0: 0.6507 - Precision_1: 0.0000e+00 - Precision_2: 0.5965 - Precision_3: 0.5327 - Precision_4: 0.6750 - Recall_0: 0.2046 - Recall_1: 0.0000e+00 - Recall_2: 0.3132 - Recall_3: 0.2238 - Recall_4: 0.5531 - val_loss: 0.8041 - val_categorical_accuracy: 0.6882 - val_precision: 0.8771 - val_recall: 0.5632 - val_f1_score: 0.3696 - val_Precision_0: 0.7600 - val_Precision_1: 0.0000e+00 - val_Precision_2: 0.1000 - val_Precision_3: 0.1540 - val_Precision_4: 0.9773 - val_Recall_0: 0.1652 - val_Recall_1: 0.0000e+00 - val_Recall_2: 0.0183 - val_Recall_3: 0.1777 - val_Recall_4: 0.6213\n",
            "Epoch 13/50\n",
            "556/556 [==============================] - 17s 31ms/step - loss: 1.1050 - categorical_accuracy: 0.5132 - precision: 0.6207 - recall: 0.3189 - f1_score: 0.4587 - Precision_0: 0.6394 - Precision_1: 0.5000 - Precision_2: 0.6025 - Precision_3: 0.5298 - Precision_4: 0.6764 - Recall_0: 0.2596 - Recall_1: 2.7337e-04 - Recall_2: 0.3089 - Recall_3: 0.2309 - Recall_4: 0.5554 - val_loss: 0.7837 - val_categorical_accuracy: 0.6840 - val_precision: 0.8632 - val_recall: 0.5733 - val_f1_score: 0.3626 - val_Precision_0: 0.6957 - val_Precision_1: 0.0000e+00 - val_Precision_2: 0.2000 - val_Precision_3: 0.1761 - val_Precision_4: 0.9746 - val_Recall_0: 0.1391 - val_Recall_1: 0.0000e+00 - val_Recall_2: 0.0367 - val_Recall_3: 0.2440 - val_Recall_4: 0.6282\n",
            "Epoch 14/50\n",
            "556/556 [==============================] - 17s 30ms/step - loss: 1.0960 - categorical_accuracy: 0.5182 - precision: 0.6285 - recall: 0.3338 - f1_score: 0.4626 - Precision_0: 0.6744 - Precision_1: 1.0000 - Precision_2: 0.6118 - Precision_3: 0.5414 - Precision_4: 0.6838 - Recall_0: 0.2498 - Recall_1: 2.7337e-04 - Recall_2: 0.3315 - Recall_3: 0.2636 - Recall_4: 0.5593 - val_loss: 0.8945 - val_categorical_accuracy: 0.6585 - val_precision: 0.8470 - val_recall: 0.5347 - val_f1_score: 0.3090 - val_Precision_0: 0.8125 - val_Precision_1: 0.0000e+00 - val_Precision_2: 0.1381 - val_Precision_3: 0.1604 - val_Precision_4: 0.9708 - val_Recall_0: 0.1130 - val_Recall_1: 0.0000e+00 - val_Recall_2: 0.2294 - val_Recall_3: 0.1536 - val_Recall_4: 0.5870\n",
            "Epoch 15/50\n",
            "556/556 [==============================] - 17s 31ms/step - loss: 1.0919 - categorical_accuracy: 0.5181 - precision: 0.6247 - recall: 0.3352 - f1_score: 0.4556 - Precision_0: 0.6944 - Precision_1: 1.0000 - Precision_2: 0.5990 - Precision_3: 0.5405 - Precision_4: 0.6850 - Recall_0: 0.2307 - Recall_1: 5.4675e-04 - Recall_2: 0.3322 - Recall_3: 0.2779 - Recall_4: 0.5555 - val_loss: 0.8880 - val_categorical_accuracy: 0.6610 - val_precision: 0.8049 - val_recall: 0.5334 - val_f1_score: 0.3539 - val_Precision_0: 0.6792 - val_Precision_1: 1.0000 - val_Precision_2: 0.1270 - val_Precision_3: 0.1485 - val_Precision_4: 0.9801 - val_Recall_0: 0.3130 - val_Recall_1: 0.0312 - val_Recall_2: 0.1468 - val_Recall_3: 0.2620 - val_Recall_4: 0.5743\n",
            "Epoch 16/50\n",
            "556/556 [==============================] - 17s 31ms/step - loss: 1.0888 - categorical_accuracy: 0.5203 - precision: 0.6251 - recall: 0.3357 - f1_score: 0.4692 - Precision_0: 0.6697 - Precision_1: 0.0000e+00 - Precision_2: 0.6038 - Precision_3: 0.5394 - Precision_4: 0.6825 - Recall_0: 0.2501 - Recall_1: 0.0000e+00 - Recall_2: 0.3366 - Recall_3: 0.2631 - Recall_4: 0.5619 - val_loss: 0.7631 - val_categorical_accuracy: 0.7102 - val_precision: 0.9305 - val_recall: 0.5853 - val_f1_score: 0.3807 - val_Precision_0: 0.6731 - val_Precision_1: 0.0000e+00 - val_Precision_2: 0.2034 - val_Precision_3: 0.1410 - val_Precision_4: 0.9683 - val_Recall_0: 0.3043 - val_Recall_1: 0.0000e+00 - val_Recall_2: 0.1101 - val_Recall_3: 0.0331 - val_Recall_4: 0.6510\n",
            "Epoch 17/50\n",
            "556/556 [==============================] - 17s 30ms/step - loss: 1.0825 - categorical_accuracy: 0.5242 - precision: 0.6305 - recall: 0.3364 - f1_score: 0.4713 - Precision_0: 0.6866 - Precision_1: 0.6667 - Precision_2: 0.6089 - Precision_3: 0.5411 - Precision_4: 0.6848 - Recall_0: 0.2688 - Recall_1: 0.0016 - Recall_2: 0.3420 - Recall_3: 0.2481 - Recall_4: 0.5676 - val_loss: 0.8174 - val_categorical_accuracy: 0.6826 - val_precision: 0.8592 - val_recall: 0.5779 - val_f1_score: 0.3731 - val_Precision_0: 0.7609 - val_Precision_1: 0.0000e+00 - val_Precision_2: 0.1236 - val_Precision_3: 0.1170 - val_Precision_4: 0.9650 - val_Recall_0: 0.3043 - val_Recall_1: 0.0000e+00 - val_Recall_2: 0.1009 - val_Recall_3: 0.1205 - val_Recall_4: 0.6366\n",
            "Epoch 18/50\n",
            "556/556 [==============================] - 17s 30ms/step - loss: 1.0761 - categorical_accuracy: 0.5268 - precision: 0.6266 - recall: 0.3507 - f1_score: 0.4772 - Precision_0: 0.6788 - Precision_1: 0.6667 - Precision_2: 0.6007 - Precision_3: 0.5429 - Precision_4: 0.6826 - Recall_0: 0.2808 - Recall_1: 0.0016 - Recall_2: 0.3591 - Recall_3: 0.2635 - Recall_4: 0.5842 - val_loss: 0.9001 - val_categorical_accuracy: 0.6362 - val_precision: 0.8025 - val_recall: 0.5511 - val_f1_score: 0.3555 - val_Precision_0: 0.5340 - val_Precision_1: 0.0000e+00 - val_Precision_2: 0.2632 - val_Precision_3: 0.1034 - val_Precision_4: 0.9770 - val_Recall_0: 0.4783 - val_Recall_1: 0.0000e+00 - val_Recall_2: 0.0917 - val_Recall_3: 0.1988 - val_Recall_4: 0.5965\n",
            "Epoch 19/50\n",
            "556/556 [==============================] - 17s 31ms/step - loss: 1.0727 - categorical_accuracy: 0.5301 - precision: 0.6273 - recall: 0.3585 - f1_score: 0.4792 - Precision_0: 0.6681 - Precision_1: 0.4167 - Precision_2: 0.6079 - Precision_3: 0.5419 - Precision_4: 0.6890 - Recall_0: 0.2855 - Recall_1: 0.0014 - Recall_2: 0.3647 - Recall_3: 0.2932 - Recall_4: 0.5764 - val_loss: 0.9495 - val_categorical_accuracy: 0.6534 - val_precision: 0.8393 - val_recall: 0.5332 - val_f1_score: 0.3486 - val_Precision_0: 0.6265 - val_Precision_1: 0.0000e+00 - val_Precision_2: 0.2778 - val_Precision_3: 0.1088 - val_Precision_4: 0.9732 - val_Recall_0: 0.4522 - val_Recall_1: 0.0000e+00 - val_Recall_2: 0.1376 - val_Recall_3: 0.1446 - val_Recall_4: 0.5797\n",
            "Epoch 20/50\n",
            "556/556 [==============================] - 17s 30ms/step - loss: 1.0690 - categorical_accuracy: 0.5336 - precision: 0.6336 - recall: 0.3612 - f1_score: 0.4926 - Precision_0: 0.6746 - Precision_1: 0.5000 - Precision_2: 0.6175 - Precision_3: 0.5546 - Precision_4: 0.6865 - Recall_0: 0.2953 - Recall_1: 0.0036 - Recall_2: 0.3594 - Recall_3: 0.2947 - Recall_4: 0.5854 - val_loss: 0.8759 - val_categorical_accuracy: 0.6585 - val_precision: 0.8038 - val_recall: 0.5444 - val_f1_score: 0.3748 - val_Precision_0: 0.6400 - val_Precision_1: 1.0000 - val_Precision_2: 0.2073 - val_Precision_3: 0.1529 - val_Precision_4: 0.9708 - val_Recall_0: 0.1391 - val_Recall_1: 0.0156 - val_Recall_2: 0.1560 - val_Recall_3: 0.2952 - val_Recall_4: 0.5887\n",
            "Epoch 21/50\n",
            "556/556 [==============================] - 17s 31ms/step - loss: 1.0659 - categorical_accuracy: 0.5326 - precision: 0.6311 - recall: 0.3579 - f1_score: 0.4853 - Precision_0: 0.6775 - Precision_1: 0.5000 - Precision_2: 0.6151 - Precision_3: 0.5489 - Precision_4: 0.6828 - Recall_0: 0.2953 - Recall_1: 8.2012e-04 - Recall_2: 0.3633 - Recall_3: 0.2813 - Recall_4: 0.5843 - val_loss: 0.9209 - val_categorical_accuracy: 0.6119 - val_precision: 0.7672 - val_recall: 0.5163 - val_f1_score: 0.3279 - val_Precision_0: 0.8966 - val_Precision_1: 0.0000e+00 - val_Precision_2: 0.1371 - val_Precision_3: 0.1343 - val_Precision_4: 0.9761 - val_Recall_0: 0.2261 - val_Recall_1: 0.0000e+00 - val_Recall_2: 0.1560 - val_Recall_3: 0.3042 - val_Recall_4: 0.5542\n",
            "Epoch 22/50\n",
            "556/556 [==============================] - 17s 31ms/step - loss: 1.0668 - categorical_accuracy: 0.5322 - precision: 0.6363 - recall: 0.3625 - f1_score: 0.4829 - Precision_0: 0.6851 - Precision_1: 0.6667 - Precision_2: 0.6156 - Precision_3: 0.5589 - Precision_4: 0.6925 - Recall_0: 0.3018 - Recall_1: 0.0027 - Recall_2: 0.3780 - Recall_3: 0.2988 - Recall_4: 0.5670 - val_loss: 1.0324 - val_categorical_accuracy: 0.5849 - val_precision: 0.7786 - val_recall: 0.4836 - val_f1_score: 0.3086 - val_Precision_0: 0.5882 - val_Precision_1: 0.0000e+00 - val_Precision_2: 0.0984 - val_Precision_3: 0.1647 - val_Precision_4: 0.9885 - val_Recall_0: 0.0870 - val_Recall_1: 0.0000e+00 - val_Recall_2: 0.1743 - val_Recall_3: 0.3012 - val_Recall_4: 0.5204\n",
            "Epoch 23/50\n",
            "556/556 [==============================] - 17s 31ms/step - loss: 1.0641 - categorical_accuracy: 0.5357 - precision: 0.6332 - recall: 0.3629 - f1_score: 0.4928 - Precision_0: 0.6782 - Precision_1: 0.5789 - Precision_2: 0.6167 - Precision_3: 0.5549 - Precision_4: 0.6883 - Recall_0: 0.2944 - Recall_1: 0.0030 - Recall_2: 0.3702 - Recall_3: 0.3048 - Recall_4: 0.5719 - val_loss: 0.8868 - val_categorical_accuracy: 0.6475 - val_precision: 0.8528 - val_recall: 0.5265 - val_f1_score: 0.3481 - val_Precision_0: 0.6491 - val_Precision_1: 0.0000e+00 - val_Precision_2: 0.2078 - val_Precision_3: 0.1179 - val_Precision_4: 0.9805 - val_Recall_0: 0.3217 - val_Recall_1: 0.0000e+00 - val_Recall_2: 0.1468 - val_Recall_3: 0.1386 - val_Recall_4: 0.5756\n",
            "Epoch 24/50\n",
            "556/556 [==============================] - 17s 31ms/step - loss: 1.0616 - categorical_accuracy: 0.5369 - precision: 0.6371 - recall: 0.3615 - f1_score: 0.4929 - Precision_0: 0.6844 - Precision_1: 0.6944 - Precision_2: 0.6218 - Precision_3: 0.5506 - Precision_4: 0.6938 - Recall_0: 0.3088 - Recall_1: 0.0068 - Recall_2: 0.3664 - Recall_3: 0.2924 - Recall_4: 0.5765 - val_loss: 0.9283 - val_categorical_accuracy: 0.6494 - val_precision: 0.8145 - val_recall: 0.5311 - val_f1_score: 0.3426 - val_Precision_0: 0.8261 - val_Precision_1: 0.0000e+00 - val_Precision_2: 0.1707 - val_Precision_3: 0.1257 - val_Precision_4: 0.9777 - val_Recall_0: 0.3304 - val_Recall_1: 0.0000e+00 - val_Recall_2: 0.1284 - val_Recall_3: 0.2139 - val_Recall_4: 0.5756\n",
            "Epoch 25/50\n",
            "556/556 [==============================] - 17s 30ms/step - loss: 1.0595 - categorical_accuracy: 0.5382 - precision: 0.6339 - recall: 0.3680 - f1_score: 0.4945 - Precision_0: 0.6865 - Precision_1: 0.5926 - Precision_2: 0.6192 - Precision_3: 0.5558 - Precision_4: 0.6846 - Recall_0: 0.3085 - Recall_1: 0.0044 - Recall_2: 0.3633 - Recall_3: 0.3080 - Recall_4: 0.5887 - val_loss: 0.7127 - val_categorical_accuracy: 0.7631 - val_precision: 0.8967 - val_recall: 0.6469 - val_f1_score: 0.3835 - val_Precision_0: 0.7500 - val_Precision_1: 0.0000e+00 - val_Precision_2: 0.0941 - val_Precision_3: 0.2063 - val_Precision_4: 0.9703 - val_Recall_0: 0.3391 - val_Recall_1: 0.0000e+00 - val_Recall_2: 0.0734 - val_Recall_3: 0.1566 - val_Recall_4: 0.7120\n",
            "Epoch 26/50\n",
            "556/556 [==============================] - 17s 30ms/step - loss: 1.0643 - categorical_accuracy: 0.5375 - precision: 0.6369 - recall: 0.3633 - f1_score: 0.4922 - Precision_0: 0.6791 - Precision_1: 0.5510 - Precision_2: 0.6166 - Precision_3: 0.5679 - Precision_4: 0.6819 - Recall_0: 0.3313 - Recall_1: 0.0074 - Recall_2: 0.3700 - Recall_3: 0.2775 - Recall_4: 0.5872 - val_loss: 1.1009 - val_categorical_accuracy: 0.5822 - val_precision: 0.7906 - val_recall: 0.4624 - val_f1_score: 0.3417 - val_Precision_0: 0.6119 - val_Precision_1: 0.0000e+00 - val_Precision_2: 0.1074 - val_Precision_3: 0.0964 - val_Precision_4: 0.9827 - val_Recall_0: 0.3565 - val_Recall_1: 0.0000e+00 - val_Recall_2: 0.2385 - val_Recall_3: 0.1145 - val_Recall_4: 0.5016\n",
            "Epoch 27/50\n",
            "556/556 [==============================] - 17s 31ms/step - loss: 1.0664 - categorical_accuracy: 0.5358 - precision: 0.6330 - recall: 0.3635 - f1_score: 0.4926 - Precision_0: 0.6716 - Precision_1: 0.5217 - Precision_2: 0.6203 - Precision_3: 0.5523 - Precision_4: 0.6824 - Recall_0: 0.3227 - Recall_1: 0.0066 - Recall_2: 0.3685 - Recall_3: 0.2817 - Recall_4: 0.5882 - val_loss: 0.9111 - val_categorical_accuracy: 0.6693 - val_precision: 0.8245 - val_recall: 0.5547 - val_f1_score: 0.3728 - val_Precision_0: 0.7647 - val_Precision_1: 0.0000e+00 - val_Precision_2: 0.1949 - val_Precision_3: 0.1224 - val_Precision_4: 0.9668 - val_Recall_0: 0.3391 - val_Recall_1: 0.0000e+00 - val_Recall_2: 0.2110 - val_Recall_3: 0.1747 - val_Recall_4: 0.6029\n",
            "Epoch 28/50\n",
            "556/556 [==============================] - 17s 30ms/step - loss: 1.0617 - categorical_accuracy: 0.5336 - precision: 0.6311 - recall: 0.3615 - f1_score: 0.4888 - Precision_0: 0.6774 - Precision_1: 0.5854 - Precision_2: 0.6127 - Precision_3: 0.5508 - Precision_4: 0.6804 - Recall_0: 0.3184 - Recall_1: 0.0066 - Recall_2: 0.3687 - Recall_3: 0.2714 - Recall_4: 0.5925 - val_loss: 0.9202 - val_categorical_accuracy: 0.6418 - val_precision: 0.8034 - val_recall: 0.5282 - val_f1_score: 0.3192 - val_Precision_0: 0.6769 - val_Precision_1: 0.0000e+00 - val_Precision_2: 0.2159 - val_Precision_3: 0.1426 - val_Precision_4: 0.9828 - val_Recall_0: 0.3826 - val_Recall_1: 0.0000e+00 - val_Recall_2: 0.1743 - val_Recall_3: 0.2711 - val_Recall_4: 0.5659\n"
          ]
        },
        {
          "output_type": "display_data",
          "data": {
            "text/plain": [
              "VBox(children=(Label(value='0.003 MB of 0.035 MB uploaded\\r'), FloatProgress(value=0.07769954342923154, max=1.…"
            ],
            "application/vnd.jupyter.widget-view+json": {
              "version_major": 2,
              "version_minor": 0,
              "model_id": "5747a9e8a8b94d06bdd08a8b30c75407"
            }
          },
          "metadata": {}
        },
        {
          "output_type": "display_data",
          "data": {
            "text/plain": [
              "<IPython.core.display.HTML object>"
            ],
            "text/html": [
              "<style>\n",
              "    table.wandb td:nth-child(1) { padding: 0 10px; text-align: left ; width: auto;} td:nth-child(2) {text-align: left ; width: 100%}\n",
              "    .wandb-row { display: flex; flex-direction: row; flex-wrap: wrap; justify-content: flex-start; width: 100% }\n",
              "    .wandb-col { display: flex; flex-direction: column; flex-basis: 100%; flex: 1; padding: 10px; }\n",
              "    </style>\n",
              "<div class=\"wandb-row\"><div class=\"wandb-col\"><h3>Run history:</h3><br/><table class=\"wandb\"><tr><td>Precision_0</td><td>▁▁▁▁▁▁▁▁▆▇▇█▇███████████████</td></tr><tr><td>Precision_1</td><td>▁▁▁▁▁▁▁▁▁▁▁▁▅██▁▆▆▄▅▅▆▅▆▅▅▅▅</td></tr><tr><td>Precision_2</td><td>▁▁█▅▁▁▄▄▅▅▅▅▅▅▅▅▅▅▅▅▅▅▅▅▅▅▅▅</td></tr><tr><td>Precision_3</td><td>▁▅▅▄▁▁▁█▅▆▆▆▆▆▆▆▆▆▆▆▆▆▆▆▆▆▆▆</td></tr><tr><td>Precision_4</td><td>▃▁▁▁▅█▅▅▆▆▆▆▆▆▆▆▆▆▆▆▆▆▆▆▆▆▆▆</td></tr><tr><td>Recall_0</td><td>▁▁▁▁▁▁▁▁▁▄▅▅▆▆▆▆▇▇▇▇▇▇▇█████</td></tr><tr><td>Recall_1</td><td>▁▁▁▁▁▁▁▁▁▁▁▁▁▁▂▁▃▃▂▄▂▄▄▇▅█▇▇</td></tr><tr><td>Recall_2</td><td>▁▁▁▁▁▁▁▁▃▆▇▇▇▇▇▇▇███████████</td></tr><tr><td>Recall_3</td><td>▁▁▁▁▁▁▁▁▂▄▅▆▆▇▇▇▇▇██▇████▇▇▇</td></tr><tr><td>Recall_4</td><td>▁▁▁▁▁▁▆▇▇▇██████████████████</td></tr><tr><td>categorical_accuracy</td><td>▁▁▁▁▁▁▅▆▆▇▇▇▇▇▇█████████████</td></tr><tr><td>epoch</td><td>▁▁▂▂▂▂▃▃▃▃▄▄▄▄▅▅▅▅▆▆▆▆▇▇▇▇██</td></tr><tr><td>loss</td><td>██████▅▄▃▂▂▂▂▂▁▁▁▁▁▁▁▁▁▁▁▁▁▁</td></tr><tr><td>precision</td><td>▁▃▃▂▃█▄▄▅▄▄▄▄▅▅▅▅▅▅▅▅▅▅▅▅▅▅▅</td></tr><tr><td>recall</td><td>▁▁▁▁▁▁▃▄▅▆▇▇▇▇▇▇▇███████████</td></tr><tr><td>size_train</td><td>▁</td></tr><tr><td>val_Precision_0</td><td>▁▁▁▁▁▁▁▁▇▁▅▇▆▇▆▆▇▅▆▆█▆▆▇▇▆▇▆</td></tr><tr><td>val_Precision_1</td><td>▁▁▁▁▁▁▁▁▁▁▁▁▁▁█▁▁▁▁█▁▁▁▁▁▁▁▁</td></tr><tr><td>val_Precision_2</td><td>▁▁▁▁▁▁▁█▂▂▂▂▂▂▂▂▂▃▃▂▂▂▂▂▂▂▂▃</td></tr><tr><td>val_Precision_3</td><td>▁▁▁▁▁▁▁▁▅▅▆▆▇▆▆▆▅▅▅▆▆▇▅▅█▄▅▆</td></tr><tr><td>val_Precision_4</td><td>▁▁▁▁▁▁██████████████████████</td></tr><tr><td>val_Recall_0</td><td>▁▁▁▁▁▁▁▁▃▁▃▃▃▃▆▅▅██▃▄▂▆▆▆▆▆▇</td></tr><tr><td>val_Recall_1</td><td>▁▁▁▁▁▁▁▁▁▁▁▁▁▁█▁▁▁▁▅▁▁▁▁▁▁▁▁</td></tr><tr><td>val_Recall_2</td><td>▁▁▁▁▁▁▁▃▂▇▇▂▂█▅▄▄▄▅▆▆▆▅▅▃█▇▆</td></tr><tr><td>val_Recall_3</td><td>▁▁▁▁▁▁▁▁▄▃▃▅▇▅▇▂▄▆▄███▄▆▅▄▅▇</td></tr><tr><td>val_Recall_4</td><td>▁▁▁▁▁▁▅▆▆▆▆▇▇▇▇▇▇▇▇▇▆▆▇▇█▆▇▇</td></tr><tr><td>val_categorical_accuracy</td><td>▁▁███▅▅▆▆▆▆▇▇▆▆▇▇▆▆▆▆▆▆▆▇▆▆▆</td></tr><tr><td>val_loss</td><td>██████▆▄▄▄▄▂▂▃▃▂▂▃▃▃▃▄▃▃▁▅▃▃</td></tr><tr><td>val_precision</td><td>▁▁▁▁▁▁██▇▇▇▇▇▇▇█▇▇▇▇▆▇▇▇▇▇▇▇</td></tr><tr><td>val_recall</td><td>▁▁▁▁▁▁▅▆▆▆▆▇▇▇▇▇▇▇▇▇▇▆▇▇█▆▇▇</td></tr></table><br/></div><div class=\"wandb-col\"><h3>Run summary:</h3><br/><table class=\"wandb\"><tr><td>Precision_0</td><td>0.67736</td></tr><tr><td>Precision_1</td><td>0.58537</td></tr><tr><td>Precision_2</td><td>0.6127</td></tr><tr><td>Precision_3</td><td>0.55077</td></tr><tr><td>Precision_4</td><td>0.68044</td></tr><tr><td>Recall_0</td><td>0.31836</td></tr><tr><td>Recall_1</td><td>0.00656</td></tr><tr><td>Recall_2</td><td>0.36866</td></tr><tr><td>Recall_3</td><td>0.2714</td></tr><tr><td>Recall_4</td><td>0.59254</td></tr><tr><td>best_epoch</td><td>24</td></tr><tr><td>best_val_loss</td><td>0.71269</td></tr><tr><td>categorical_accuracy</td><td>0.53357</td></tr><tr><td>epoch</td><td>27</td></tr><tr><td>loss</td><td>1.06173</td></tr><tr><td>precision</td><td>0.63115</td></tr><tr><td>recall</td><td>0.36153</td></tr><tr><td>size_train</td><td>35521</td></tr><tr><td>train_set</td><td>Prime_Pantry</td></tr><tr><td>val_Precision_0</td><td>0.67692</td></tr><tr><td>val_Precision_1</td><td>0.0</td></tr><tr><td>val_Precision_2</td><td>0.21591</td></tr><tr><td>val_Precision_3</td><td>0.14263</td></tr><tr><td>val_Precision_4</td><td>0.98278</td></tr><tr><td>val_Recall_0</td><td>0.38261</td></tr><tr><td>val_Recall_1</td><td>0.0</td></tr><tr><td>val_Recall_2</td><td>0.17431</td></tr><tr><td>val_Recall_3</td><td>0.27108</td></tr><tr><td>val_Recall_4</td><td>0.56585</td></tr><tr><td>val_categorical_accuracy</td><td>0.64176</td></tr><tr><td>val_loss</td><td>0.92022</td></tr><tr><td>val_precision</td><td>0.80335</td></tr><tr><td>val_recall</td><td>0.52824</td></tr></table><br/></div></div>"
            ]
          },
          "metadata": {}
        },
        {
          "output_type": "display_data",
          "data": {
            "text/plain": [
              "<IPython.core.display.HTML object>"
            ],
            "text/html": [
              " View run <strong style=\"color:#cdcd00\">fresh-sweep-4</strong> at: <a href='https://wandb.ai/coffeegang/RNN_preliminary_tests/runs/ylm2jq6r' target=\"_blank\">https://wandb.ai/coffeegang/RNN_preliminary_tests/runs/ylm2jq6r</a><br/>Synced 5 W&B file(s), 1 media file(s), 0 artifact file(s) and 0 other file(s)"
            ]
          },
          "metadata": {}
        },
        {
          "output_type": "display_data",
          "data": {
            "text/plain": [
              "<IPython.core.display.HTML object>"
            ],
            "text/html": [
              "Find logs at: <code>./wandb/run-20240129_164401-ylm2jq6r/logs</code>"
            ]
          },
          "metadata": {}
        },
        {
          "output_type": "stream",
          "name": "stderr",
          "text": [
            "\u001b[34m\u001b[1mwandb\u001b[0m: Agent Starting Run: yv6d1ja0 with config:\n",
            "\u001b[34m\u001b[1mwandb\u001b[0m: \tRNN_layer_model: model_2\n",
            "\u001b[34m\u001b[1mwandb\u001b[0m: \tembedding_size: 32\n"
          ]
        },
        {
          "output_type": "display_data",
          "data": {
            "text/plain": [
              "<IPython.core.display.HTML object>"
            ],
            "text/html": [
              "Tracking run with wandb version 0.16.2"
            ]
          },
          "metadata": {}
        },
        {
          "output_type": "display_data",
          "data": {
            "text/plain": [
              "<IPython.core.display.HTML object>"
            ],
            "text/html": [
              "Run data is saved locally in <code>/content/gdrive/.shortcut-targets-by-id/1osKmyrDLORFSpes1mwrU-W7OXM-to6bK/AML_Exam/Problem2/wandb/run-20240129_165252-yv6d1ja0</code>"
            ]
          },
          "metadata": {}
        },
        {
          "output_type": "display_data",
          "data": {
            "text/plain": [
              "<IPython.core.display.HTML object>"
            ],
            "text/html": [
              "Syncing run <strong><a href='https://wandb.ai/coffeegang/RNN_preliminary_tests/runs/yv6d1ja0' target=\"_blank\">dauntless-sweep-5</a></strong> to <a href='https://wandb.ai/coffeegang/RNN_preliminary_tests' target=\"_blank\">Weights & Biases</a> (<a href='https://wandb.me/run' target=\"_blank\">docs</a>)<br/>Sweep page: <a href='https://wandb.ai/coffeegang/RNN_preliminary_tests/sweeps/r8db3smm' target=\"_blank\">https://wandb.ai/coffeegang/RNN_preliminary_tests/sweeps/r8db3smm</a>"
            ]
          },
          "metadata": {}
        },
        {
          "output_type": "display_data",
          "data": {
            "text/plain": [
              "<IPython.core.display.HTML object>"
            ],
            "text/html": [
              " View project at <a href='https://wandb.ai/coffeegang/RNN_preliminary_tests' target=\"_blank\">https://wandb.ai/coffeegang/RNN_preliminary_tests</a>"
            ]
          },
          "metadata": {}
        },
        {
          "output_type": "display_data",
          "data": {
            "text/plain": [
              "<IPython.core.display.HTML object>"
            ],
            "text/html": [
              " View sweep at <a href='https://wandb.ai/coffeegang/RNN_preliminary_tests/sweeps/r8db3smm' target=\"_blank\">https://wandb.ai/coffeegang/RNN_preliminary_tests/sweeps/r8db3smm</a>"
            ]
          },
          "metadata": {}
        },
        {
          "output_type": "display_data",
          "data": {
            "text/plain": [
              "<IPython.core.display.HTML object>"
            ],
            "text/html": [
              " View run at <a href='https://wandb.ai/coffeegang/RNN_preliminary_tests/runs/yv6d1ja0' target=\"_blank\">https://wandb.ai/coffeegang/RNN_preliminary_tests/runs/yv6d1ja0</a>"
            ]
          },
          "metadata": {}
        },
        {
          "output_type": "stream",
          "name": "stdout",
          "text": [
            "Epoch 1/50\n",
            "556/556 [==============================] - 45s 66ms/step - loss: 1.5165 - categorical_accuracy: 0.2728 - precision: 0.0000e+00 - recall: 0.0000e+00 - f1_score: 0.1661 - Precision_0: 0.0000e+00 - Precision_1: 0.0000e+00 - Precision_2: 0.0000e+00 - Precision_3: 0.0000e+00 - Precision_4: 0.0000e+00 - Recall_0: 0.0000e+00 - Recall_1: 0.0000e+00 - Recall_2: 0.0000e+00 - Recall_3: 0.0000e+00 - Recall_4: 0.0000e+00 - val_loss: 1.3436 - val_categorical_accuracy: 0.1082 - val_precision: 0.0000e+00 - val_recall: 0.0000e+00 - val_f1_score: 0.0448 - val_Precision_0: 0.0000e+00 - val_Precision_1: 0.0000e+00 - val_Precision_2: 0.0000e+00 - val_Precision_3: 0.0000e+00 - val_Precision_4: 0.0000e+00 - val_Recall_0: 0.0000e+00 - val_Recall_1: 0.0000e+00 - val_Recall_2: 0.0000e+00 - val_Recall_3: 0.0000e+00 - val_Recall_4: 0.0000e+00\n",
            "Epoch 2/50\n",
            "556/556 [==============================] - 18s 33ms/step - loss: 1.5120 - categorical_accuracy: 0.2768 - precision: 0.4000 - recall: 7.3196e-04 - f1_score: 0.1826 - Precision_0: 0.0000e+00 - Precision_1: 0.0000e+00 - Precision_2: 0.0000e+00 - Precision_3: 0.4000 - Precision_4: 0.0000e+00 - Recall_0: 0.0000e+00 - Recall_1: 0.0000e+00 - Recall_2: 0.0000e+00 - Recall_3: 0.0027 - Recall_4: 0.0000e+00 - val_loss: 1.2151 - val_categorical_accuracy: 0.8821 - val_precision: 0.0000e+00 - val_recall: 0.0000e+00 - val_f1_score: 0.1875 - val_Precision_0: 0.0000e+00 - val_Precision_1: 0.0000e+00 - val_Precision_2: 0.0000e+00 - val_Precision_3: 0.0000e+00 - val_Precision_4: 0.0000e+00 - val_Recall_0: 0.0000e+00 - val_Recall_1: 0.0000e+00 - val_Recall_2: 0.0000e+00 - val_Recall_3: 0.0000e+00 - val_Recall_4: 0.0000e+00\n",
            "Epoch 3/50\n",
            "556/556 [==============================] - 18s 32ms/step - loss: 1.5161 - categorical_accuracy: 0.2718 - precision: 0.0000e+00 - recall: 0.0000e+00 - f1_score: 0.1729 - Precision_0: 0.0000e+00 - Precision_1: 0.0000e+00 - Precision_2: 0.0000e+00 - Precision_3: 0.0000e+00 - Precision_4: 0.0000e+00 - Recall_0: 0.0000e+00 - Recall_1: 0.0000e+00 - Recall_2: 0.0000e+00 - Recall_3: 0.0000e+00 - Recall_4: 0.0000e+00 - val_loss: 1.3069 - val_categorical_accuracy: 0.0631 - val_precision: 0.0000e+00 - val_recall: 0.0000e+00 - val_f1_score: 0.0238 - val_Precision_0: 0.0000e+00 - val_Precision_1: 0.0000e+00 - val_Precision_2: 0.0000e+00 - val_Precision_3: 0.0000e+00 - val_Precision_4: 0.0000e+00 - val_Recall_0: 0.0000e+00 - val_Recall_1: 0.0000e+00 - val_Recall_2: 0.0000e+00 - val_Recall_3: 0.0000e+00 - val_Recall_4: 0.0000e+00\n",
            "Epoch 4/50\n",
            "556/556 [==============================] - 16s 29ms/step - loss: 1.5179 - categorical_accuracy: 0.2714 - precision: 0.0000e+00 - recall: 0.0000e+00 - f1_score: 0.1717 - Precision_0: 0.0000e+00 - Precision_1: 0.0000e+00 - Precision_2: 0.0000e+00 - Precision_3: 0.0000e+00 - Precision_4: 0.0000e+00 - Recall_0: 0.0000e+00 - Recall_1: 0.0000e+00 - Recall_2: 0.0000e+00 - Recall_3: 0.0000e+00 - Recall_4: 0.0000e+00 - val_loss: 1.3764 - val_categorical_accuracy: 0.0631 - val_precision: 0.0000e+00 - val_recall: 0.0000e+00 - val_f1_score: 0.0238 - val_Precision_0: 0.0000e+00 - val_Precision_1: 0.0000e+00 - val_Precision_2: 0.0000e+00 - val_Precision_3: 0.0000e+00 - val_Precision_4: 0.0000e+00 - val_Recall_0: 0.0000e+00 - val_Recall_1: 0.0000e+00 - val_Recall_2: 0.0000e+00 - val_Recall_3: 0.0000e+00 - val_Recall_4: 0.0000e+00\n",
            "Epoch 5/50\n",
            "556/556 [==============================] - 17s 30ms/step - loss: 1.5168 - categorical_accuracy: 0.2695 - precision: 0.0000e+00 - recall: 0.0000e+00 - f1_score: 0.1704 - Precision_0: 0.0000e+00 - Precision_1: 0.0000e+00 - Precision_2: 0.0000e+00 - Precision_3: 0.0000e+00 - Precision_4: 0.0000e+00 - Recall_0: 0.0000e+00 - Recall_1: 0.0000e+00 - Recall_2: 0.0000e+00 - Recall_3: 0.0000e+00 - Recall_4: 0.0000e+00 - val_loss: 1.3410 - val_categorical_accuracy: 0.0631 - val_precision: 0.0000e+00 - val_recall: 0.0000e+00 - val_f1_score: 0.0238 - val_Precision_0: 0.0000e+00 - val_Precision_1: 0.0000e+00 - val_Precision_2: 0.0000e+00 - val_Precision_3: 0.0000e+00 - val_Precision_4: 0.0000e+00 - val_Recall_0: 0.0000e+00 - val_Recall_1: 0.0000e+00 - val_Recall_2: 0.0000e+00 - val_Recall_3: 0.0000e+00 - val_Recall_4: 0.0000e+00\n"
          ]
        },
        {
          "output_type": "display_data",
          "data": {
            "text/plain": [
              "VBox(children=(Label(value='0.017 MB of 0.017 MB uploaded\\r'), FloatProgress(value=1.0, max=1.0)))"
            ],
            "application/vnd.jupyter.widget-view+json": {
              "version_major": 2,
              "version_minor": 0,
              "model_id": "b3e2bcd3f4b14f77a79afeda4b26e486"
            }
          },
          "metadata": {}
        },
        {
          "output_type": "display_data",
          "data": {
            "text/plain": [
              "<IPython.core.display.HTML object>"
            ],
            "text/html": [
              "<style>\n",
              "    table.wandb td:nth-child(1) { padding: 0 10px; text-align: left ; width: auto;} td:nth-child(2) {text-align: left ; width: 100%}\n",
              "    .wandb-row { display: flex; flex-direction: row; flex-wrap: wrap; justify-content: flex-start; width: 100% }\n",
              "    .wandb-col { display: flex; flex-direction: column; flex-basis: 100%; flex: 1; padding: 10px; }\n",
              "    </style>\n",
              "<div class=\"wandb-row\"><div class=\"wandb-col\"><h3>Run history:</h3><br/><table class=\"wandb\"><tr><td>Precision_0</td><td>▁▁▁▁▁</td></tr><tr><td>Precision_1</td><td>▁▁▁▁▁</td></tr><tr><td>Precision_2</td><td>▁▁▁▁▁</td></tr><tr><td>Precision_3</td><td>▁█▁▁▁</td></tr><tr><td>Precision_4</td><td>▁▁▁▁▁</td></tr><tr><td>Recall_0</td><td>▁▁▁▁▁</td></tr><tr><td>Recall_1</td><td>▁▁▁▁▁</td></tr><tr><td>Recall_2</td><td>▁▁▁▁▁</td></tr><tr><td>Recall_3</td><td>▁█▁▁▁</td></tr><tr><td>Recall_4</td><td>▁▁▁▁▁</td></tr><tr><td>categorical_accuracy</td><td>▄█▃▃▁</td></tr><tr><td>epoch</td><td>▁▃▅▆█</td></tr><tr><td>loss</td><td>▆▁▆█▇</td></tr><tr><td>precision</td><td>▁█▁▁▁</td></tr><tr><td>recall</td><td>▁█▁▁▁</td></tr><tr><td>size_train</td><td>▁</td></tr><tr><td>val_Precision_0</td><td>▁▁▁▁▁</td></tr><tr><td>val_Precision_1</td><td>▁▁▁▁▁</td></tr><tr><td>val_Precision_2</td><td>▁▁▁▁▁</td></tr><tr><td>val_Precision_3</td><td>▁▁▁▁▁</td></tr><tr><td>val_Precision_4</td><td>▁▁▁▁▁</td></tr><tr><td>val_Recall_0</td><td>▁▁▁▁▁</td></tr><tr><td>val_Recall_1</td><td>▁▁▁▁▁</td></tr><tr><td>val_Recall_2</td><td>▁▁▁▁▁</td></tr><tr><td>val_Recall_3</td><td>▁▁▁▁▁</td></tr><tr><td>val_Recall_4</td><td>▁▁▁▁▁</td></tr><tr><td>val_categorical_accuracy</td><td>▁█▁▁▁</td></tr><tr><td>val_loss</td><td>▇▁▅█▆</td></tr><tr><td>val_precision</td><td>▁▁▁▁▁</td></tr><tr><td>val_recall</td><td>▁▁▁▁▁</td></tr></table><br/></div><div class=\"wandb-col\"><h3>Run summary:</h3><br/><table class=\"wandb\"><tr><td>Precision_0</td><td>0.0</td></tr><tr><td>Precision_1</td><td>0.0</td></tr><tr><td>Precision_2</td><td>0.0</td></tr><tr><td>Precision_3</td><td>0.0</td></tr><tr><td>Precision_4</td><td>0.0</td></tr><tr><td>Recall_0</td><td>0.0</td></tr><tr><td>Recall_1</td><td>0.0</td></tr><tr><td>Recall_2</td><td>0.0</td></tr><tr><td>Recall_3</td><td>0.0</td></tr><tr><td>Recall_4</td><td>0.0</td></tr><tr><td>best_epoch</td><td>1</td></tr><tr><td>best_val_loss</td><td>1.21506</td></tr><tr><td>categorical_accuracy</td><td>0.2695</td></tr><tr><td>epoch</td><td>4</td></tr><tr><td>loss</td><td>1.51685</td></tr><tr><td>precision</td><td>0.0</td></tr><tr><td>recall</td><td>0.0</td></tr><tr><td>size_train</td><td>35521</td></tr><tr><td>train_set</td><td>Prime_Pantry</td></tr><tr><td>val_Precision_0</td><td>0.0</td></tr><tr><td>val_Precision_1</td><td>0.0</td></tr><tr><td>val_Precision_2</td><td>0.0</td></tr><tr><td>val_Precision_3</td><td>0.0</td></tr><tr><td>val_Precision_4</td><td>0.0</td></tr><tr><td>val_Recall_0</td><td>0.0</td></tr><tr><td>val_Recall_1</td><td>0.0</td></tr><tr><td>val_Recall_2</td><td>0.0</td></tr><tr><td>val_Recall_3</td><td>0.0</td></tr><tr><td>val_Recall_4</td><td>0.0</td></tr><tr><td>val_categorical_accuracy</td><td>0.06313</td></tr><tr><td>val_loss</td><td>1.34096</td></tr><tr><td>val_precision</td><td>0.0</td></tr><tr><td>val_recall</td><td>0.0</td></tr></table><br/></div></div>"
            ]
          },
          "metadata": {}
        },
        {
          "output_type": "display_data",
          "data": {
            "text/plain": [
              "<IPython.core.display.HTML object>"
            ],
            "text/html": [
              " View run <strong style=\"color:#cdcd00\">dauntless-sweep-5</strong> at: <a href='https://wandb.ai/coffeegang/RNN_preliminary_tests/runs/yv6d1ja0' target=\"_blank\">https://wandb.ai/coffeegang/RNN_preliminary_tests/runs/yv6d1ja0</a><br/>Synced 5 W&B file(s), 1 media file(s), 0 artifact file(s) and 0 other file(s)"
            ]
          },
          "metadata": {}
        },
        {
          "output_type": "display_data",
          "data": {
            "text/plain": [
              "<IPython.core.display.HTML object>"
            ],
            "text/html": [
              "Find logs at: <code>./wandb/run-20240129_165252-yv6d1ja0/logs</code>"
            ]
          },
          "metadata": {}
        },
        {
          "output_type": "stream",
          "name": "stderr",
          "text": [
            "\u001b[34m\u001b[1mwandb\u001b[0m: Agent Starting Run: vtnhd6nt with config:\n",
            "\u001b[34m\u001b[1mwandb\u001b[0m: \tRNN_layer_model: model_2\n",
            "\u001b[34m\u001b[1mwandb\u001b[0m: \tembedding_size: 64\n"
          ]
        },
        {
          "output_type": "display_data",
          "data": {
            "text/plain": [
              "<IPython.core.display.HTML object>"
            ],
            "text/html": [
              "Tracking run with wandb version 0.16.2"
            ]
          },
          "metadata": {}
        },
        {
          "output_type": "display_data",
          "data": {
            "text/plain": [
              "<IPython.core.display.HTML object>"
            ],
            "text/html": [
              "Run data is saved locally in <code>/content/gdrive/.shortcut-targets-by-id/1osKmyrDLORFSpes1mwrU-W7OXM-to6bK/AML_Exam/Problem2/wandb/run-20240129_165459-vtnhd6nt</code>"
            ]
          },
          "metadata": {}
        },
        {
          "output_type": "display_data",
          "data": {
            "text/plain": [
              "<IPython.core.display.HTML object>"
            ],
            "text/html": [
              "Syncing run <strong><a href='https://wandb.ai/coffeegang/RNN_preliminary_tests/runs/vtnhd6nt' target=\"_blank\">gentle-sweep-6</a></strong> to <a href='https://wandb.ai/coffeegang/RNN_preliminary_tests' target=\"_blank\">Weights & Biases</a> (<a href='https://wandb.me/run' target=\"_blank\">docs</a>)<br/>Sweep page: <a href='https://wandb.ai/coffeegang/RNN_preliminary_tests/sweeps/r8db3smm' target=\"_blank\">https://wandb.ai/coffeegang/RNN_preliminary_tests/sweeps/r8db3smm</a>"
            ]
          },
          "metadata": {}
        },
        {
          "output_type": "display_data",
          "data": {
            "text/plain": [
              "<IPython.core.display.HTML object>"
            ],
            "text/html": [
              " View project at <a href='https://wandb.ai/coffeegang/RNN_preliminary_tests' target=\"_blank\">https://wandb.ai/coffeegang/RNN_preliminary_tests</a>"
            ]
          },
          "metadata": {}
        },
        {
          "output_type": "display_data",
          "data": {
            "text/plain": [
              "<IPython.core.display.HTML object>"
            ],
            "text/html": [
              " View sweep at <a href='https://wandb.ai/coffeegang/RNN_preliminary_tests/sweeps/r8db3smm' target=\"_blank\">https://wandb.ai/coffeegang/RNN_preliminary_tests/sweeps/r8db3smm</a>"
            ]
          },
          "metadata": {}
        },
        {
          "output_type": "display_data",
          "data": {
            "text/plain": [
              "<IPython.core.display.HTML object>"
            ],
            "text/html": [
              " View run at <a href='https://wandb.ai/coffeegang/RNN_preliminary_tests/runs/vtnhd6nt' target=\"_blank\">https://wandb.ai/coffeegang/RNN_preliminary_tests/runs/vtnhd6nt</a>"
            ]
          },
          "metadata": {}
        },
        {
          "output_type": "stream",
          "name": "stdout",
          "text": [
            "Epoch 1/50\n",
            "556/556 [==============================] - 44s 65ms/step - loss: 1.5166 - categorical_accuracy: 0.2722 - precision: 0.0000e+00 - recall: 0.0000e+00 - f1_score: 0.1679 - Precision_0: 0.0000e+00 - Precision_1: 0.0000e+00 - Precision_2: 0.0000e+00 - Precision_3: 0.0000e+00 - Precision_4: 0.0000e+00 - Recall_0: 0.0000e+00 - Recall_1: 0.0000e+00 - Recall_2: 0.0000e+00 - Recall_3: 0.0000e+00 - Recall_4: 0.0000e+00 - val_loss: 1.3540 - val_categorical_accuracy: 0.0597 - val_precision: 0.0000e+00 - val_recall: 0.0000e+00 - val_f1_score: 0.0253 - val_Precision_0: 0.0000e+00 - val_Precision_1: 0.0000e+00 - val_Precision_2: 0.0000e+00 - val_Precision_3: 0.0000e+00 - val_Precision_4: 0.0000e+00 - val_Recall_0: 0.0000e+00 - val_Recall_1: 0.0000e+00 - val_Recall_2: 0.0000e+00 - val_Recall_3: 0.0000e+00 - val_Recall_4: 0.0000e+00\n",
            "Epoch 2/50\n",
            "556/556 [==============================] - 19s 34ms/step - loss: 1.5131 - categorical_accuracy: 0.2723 - precision: 0.0000e+00 - recall: 0.0000e+00 - f1_score: 0.1669 - Precision_0: 0.0000e+00 - Precision_1: 0.0000e+00 - Precision_2: 0.0000e+00 - Precision_3: 0.0000e+00 - Precision_4: 0.0000e+00 - Recall_0: 0.0000e+00 - Recall_1: 0.0000e+00 - Recall_2: 0.0000e+00 - Recall_3: 0.0000e+00 - Recall_4: 0.0000e+00 - val_loss: 1.3277 - val_categorical_accuracy: 0.7817 - val_precision: 0.0000e+00 - val_recall: 0.0000e+00 - val_f1_score: 0.2010 - val_Precision_0: 0.0000e+00 - val_Precision_1: 0.0000e+00 - val_Precision_2: 0.0000e+00 - val_Precision_3: 0.0000e+00 - val_Precision_4: 0.0000e+00 - val_Recall_0: 0.0000e+00 - val_Recall_1: 0.0000e+00 - val_Recall_2: 0.0000e+00 - val_Recall_3: 0.0000e+00 - val_Recall_4: 0.0000e+00\n",
            "Epoch 3/50\n",
            "556/556 [==============================] - 18s 33ms/step - loss: 1.5114 - categorical_accuracy: 0.2775 - precision: 0.0000e+00 - recall: 0.0000e+00 - f1_score: 0.1676 - Precision_0: 0.0000e+00 - Precision_1: 0.0000e+00 - Precision_2: 0.0000e+00 - Precision_3: 0.0000e+00 - Precision_4: 0.0000e+00 - Recall_0: 0.0000e+00 - Recall_1: 0.0000e+00 - Recall_2: 0.0000e+00 - Recall_3: 0.0000e+00 - Recall_4: 0.0000e+00 - val_loss: 1.3304 - val_categorical_accuracy: 0.8336 - val_precision: 0.0000e+00 - val_recall: 0.0000e+00 - val_f1_score: 0.1909 - val_Precision_0: 0.0000e+00 - val_Precision_1: 0.0000e+00 - val_Precision_2: 0.0000e+00 - val_Precision_3: 0.0000e+00 - val_Precision_4: 0.0000e+00 - val_Recall_0: 0.0000e+00 - val_Recall_1: 0.0000e+00 - val_Recall_2: 0.0000e+00 - val_Recall_3: 0.0000e+00 - val_Recall_4: 0.0000e+00\n",
            "Epoch 4/50\n",
            "556/556 [==============================] - 17s 31ms/step - loss: 1.5089 - categorical_accuracy: 0.2815 - precision: 0.0000e+00 - recall: 0.0000e+00 - f1_score: 0.1696 - Precision_0: 0.0000e+00 - Precision_1: 0.0000e+00 - Precision_2: 0.0000e+00 - Precision_3: 0.0000e+00 - Precision_4: 0.0000e+00 - Recall_0: 0.0000e+00 - Recall_1: 0.0000e+00 - Recall_2: 0.0000e+00 - Recall_3: 0.0000e+00 - Recall_4: 0.0000e+00 - val_loss: 1.2849 - val_categorical_accuracy: 0.8066 - val_precision: 0.0000e+00 - val_recall: 0.0000e+00 - val_f1_score: 0.1990 - val_Precision_0: 0.0000e+00 - val_Precision_1: 0.0000e+00 - val_Precision_2: 0.0000e+00 - val_Precision_3: 0.0000e+00 - val_Precision_4: 0.0000e+00 - val_Recall_0: 0.0000e+00 - val_Recall_1: 0.0000e+00 - val_Recall_2: 0.0000e+00 - val_Recall_3: 0.0000e+00 - val_Recall_4: 0.0000e+00\n",
            "Epoch 5/50\n",
            "556/556 [==============================] - 17s 31ms/step - loss: 1.5066 - categorical_accuracy: 0.2857 - precision: 0.0000e+00 - recall: 0.0000e+00 - f1_score: 0.1801 - Precision_0: 0.0000e+00 - Precision_1: 0.0000e+00 - Precision_2: 0.0000e+00 - Precision_3: 0.0000e+00 - Precision_4: 0.0000e+00 - Recall_0: 0.0000e+00 - Recall_1: 0.0000e+00 - Recall_2: 0.0000e+00 - Recall_3: 0.0000e+00 - Recall_4: 0.0000e+00 - val_loss: 1.3775 - val_categorical_accuracy: 0.0597 - val_precision: 0.0000e+00 - val_recall: 0.0000e+00 - val_f1_score: 0.0413 - val_Precision_0: 0.0000e+00 - val_Precision_1: 0.0000e+00 - val_Precision_2: 0.0000e+00 - val_Precision_3: 0.0000e+00 - val_Precision_4: 0.0000e+00 - val_Recall_0: 0.0000e+00 - val_Recall_1: 0.0000e+00 - val_Recall_2: 0.0000e+00 - val_Recall_3: 0.0000e+00 - val_Recall_4: 0.0000e+00\n",
            "Epoch 6/50\n",
            "556/556 [==============================] - 17s 31ms/step - loss: 1.5056 - categorical_accuracy: 0.2901 - precision: 0.0000e+00 - recall: 0.0000e+00 - f1_score: 0.1784 - Precision_0: 0.0000e+00 - Precision_1: 0.0000e+00 - Precision_2: 0.0000e+00 - Precision_3: 0.0000e+00 - Precision_4: 0.0000e+00 - Recall_0: 0.0000e+00 - Recall_1: 0.0000e+00 - Recall_2: 0.0000e+00 - Recall_3: 0.0000e+00 - Recall_4: 0.0000e+00 - val_loss: 1.3803 - val_categorical_accuracy: 0.0610 - val_precision: 0.0000e+00 - val_recall: 0.0000e+00 - val_f1_score: 0.0411 - val_Precision_0: 0.0000e+00 - val_Precision_1: 0.0000e+00 - val_Precision_2: 0.0000e+00 - val_Precision_3: 0.0000e+00 - val_Precision_4: 0.0000e+00 - val_Recall_0: 0.0000e+00 - val_Recall_1: 0.0000e+00 - val_Recall_2: 0.0000e+00 - val_Recall_3: 0.0000e+00 - val_Recall_4: 0.0000e+00\n",
            "Epoch 7/50\n",
            "556/556 [==============================] - 17s 31ms/step - loss: 1.5011 - categorical_accuracy: 0.2955 - precision: 0.0000e+00 - recall: 0.0000e+00 - f1_score: 0.1936 - Precision_0: 0.0000e+00 - Precision_1: 0.0000e+00 - Precision_2: 0.0000e+00 - Precision_3: 0.0000e+00 - Precision_4: 0.0000e+00 - Recall_0: 0.0000e+00 - Recall_1: 0.0000e+00 - Recall_2: 0.0000e+00 - Recall_3: 0.0000e+00 - Recall_4: 0.0000e+00 - val_loss: 1.3510 - val_categorical_accuracy: 0.6115 - val_precision: 0.0000e+00 - val_recall: 0.0000e+00 - val_f1_score: 0.1945 - val_Precision_0: 0.0000e+00 - val_Precision_1: 0.0000e+00 - val_Precision_2: 0.0000e+00 - val_Precision_3: 0.0000e+00 - val_Precision_4: 0.0000e+00 - val_Recall_0: 0.0000e+00 - val_Recall_1: 0.0000e+00 - val_Recall_2: 0.0000e+00 - val_Recall_3: 0.0000e+00 - val_Recall_4: 0.0000e+00\n",
            "Epoch 8/50\n",
            "556/556 [==============================] - 17s 31ms/step - loss: 1.3341 - categorical_accuracy: 0.4082 - precision: 0.5592 - recall: 0.1027 - f1_score: 0.2620 - Precision_0: 0.0000e+00 - Precision_1: 0.0000e+00 - Precision_2: 0.0000e+00 - Precision_3: 0.0000e+00 - Precision_4: 0.5593 - Recall_0: 0.0000e+00 - Recall_1: 0.0000e+00 - Recall_2: 0.0000e+00 - Recall_3: 0.0000e+00 - Recall_4: 0.3740 - val_loss: 0.7790 - val_categorical_accuracy: 0.7935 - val_precision: 0.9511 - val_recall: 0.6840 - val_f1_score: 0.2505 - val_Precision_0: 0.0000e+00 - val_Precision_1: 0.0000e+00 - val_Precision_2: 0.0000e+00 - val_Precision_3: 0.0000e+00 - val_Precision_4: 0.9511 - val_Recall_0: 0.0000e+00 - val_Recall_1: 0.0000e+00 - val_Recall_2: 0.0000e+00 - val_Recall_3: 0.0000e+00 - val_Recall_4: 0.7754\n",
            "Epoch 9/50\n",
            "556/556 [==============================] - 17s 30ms/step - loss: 1.2271 - categorical_accuracy: 0.4493 - precision: 0.6049 - recall: 0.1501 - f1_score: 0.2925 - Precision_0: 0.0000e+00 - Precision_1: 0.0000e+00 - Precision_2: 0.5669 - Precision_3: 0.0000e+00 - Precision_4: 0.6055 - Recall_0: 0.0000e+00 - Recall_1: 0.0000e+00 - Recall_2: 0.0098 - Recall_3: 0.0000e+00 - Recall_4: 0.5374 - val_loss: 0.8812 - val_categorical_accuracy: 0.6553 - val_precision: 0.9720 - val_recall: 0.5083 - val_f1_score: 0.2236 - val_Precision_0: 0.0000e+00 - val_Precision_1: 0.0000e+00 - val_Precision_2: 0.0000e+00 - val_Precision_3: 0.0000e+00 - val_Precision_4: 0.9720 - val_Recall_0: 0.0000e+00 - val_Recall_1: 0.0000e+00 - val_Recall_2: 0.0000e+00 - val_Recall_3: 0.0000e+00 - val_Recall_4: 0.5762\n",
            "Epoch 10/50\n",
            "556/556 [==============================] - 17s 30ms/step - loss: 1.1841 - categorical_accuracy: 0.4676 - precision: 0.6388 - recall: 0.1870 - f1_score: 0.3254 - Precision_0: 0.0000e+00 - Precision_1: 0.0000e+00 - Precision_2: 0.5628 - Precision_3: 0.4535 - Precision_4: 0.6659 - Recall_0: 0.0000e+00 - Recall_1: 0.0000e+00 - Recall_2: 0.1580 - Recall_3: 0.0040 - Recall_4: 0.5295 - val_loss: 1.0069 - val_categorical_accuracy: 0.5900 - val_precision: 0.8942 - val_recall: 0.4997 - val_f1_score: 0.2066 - val_Precision_0: 0.0000e+00 - val_Precision_1: 0.0000e+00 - val_Precision_2: 0.0588 - val_Precision_3: 0.0000e+00 - val_Precision_4: 0.9735 - val_Recall_0: 0.0000e+00 - val_Recall_1: 0.0000e+00 - val_Recall_2: 0.1376 - val_Recall_3: 0.0000e+00 - val_Recall_4: 0.5633\n",
            "Epoch 11/50\n",
            "556/556 [==============================] - 17s 31ms/step - loss: 1.1610 - categorical_accuracy: 0.4831 - precision: 0.6286 - recall: 0.2234 - f1_score: 0.3868 - Precision_0: 0.0000e+00 - Precision_1: 0.0000e+00 - Precision_2: 0.5661 - Precision_3: 0.5281 - Precision_4: 0.6655 - Recall_0: 0.0000e+00 - Recall_1: 0.0000e+00 - Recall_2: 0.2642 - Recall_3: 0.0173 - Recall_4: 0.5497 - val_loss: 0.9897 - val_categorical_accuracy: 0.5026 - val_precision: 0.7180 - val_recall: 0.4178 - val_f1_score: 0.2978 - val_Precision_0: 0.0000e+00 - val_Precision_1: 0.0000e+00 - val_Precision_2: 0.2128 - val_Precision_3: 0.1003 - val_Precision_4: 0.9827 - val_Recall_0: 0.0000e+00 - val_Recall_1: 0.0000e+00 - val_Recall_2: 0.0917 - val_Recall_3: 0.2651 - val_Recall_4: 0.4525\n",
            "Epoch 12/50\n",
            "556/556 [==============================] - 17s 30ms/step - loss: 1.1433 - categorical_accuracy: 0.4936 - precision: 0.6253 - recall: 0.2523 - f1_score: 0.4179 - Precision_0: 0.0000e+00 - Precision_1: 0.0000e+00 - Precision_2: 0.5789 - Precision_3: 0.5272 - Precision_4: 0.6745 - Recall_0: 0.0000e+00 - Recall_1: 0.0000e+00 - Recall_2: 0.3005 - Recall_3: 0.0934 - Recall_4: 0.5451 - val_loss: 0.7963 - val_categorical_accuracy: 0.6718 - val_precision: 0.9359 - val_recall: 0.5604 - val_f1_score: 0.3268 - val_Precision_0: 0.0000e+00 - val_Precision_1: 0.0000e+00 - val_Precision_2: 0.1929 - val_Precision_3: 0.0000e+00 - val_Precision_4: 0.9730 - val_Recall_0: 0.0000e+00 - val_Recall_1: 0.0000e+00 - val_Recall_2: 0.2477 - val_Recall_3: 0.0000e+00 - val_Recall_4: 0.6294\n",
            "Epoch 13/50\n",
            "556/556 [==============================] - 16s 29ms/step - loss: 1.1255 - categorical_accuracy: 0.5049 - precision: 0.6156 - recall: 0.2828 - f1_score: 0.4295 - Precision_0: 0.0000e+00 - Precision_1: 0.7143 - Precision_2: 0.5854 - Precision_3: 0.5204 - Precision_4: 0.6707 - Recall_0: 0.0000e+00 - Recall_1: 0.0014 - Recall_2: 0.3213 - Recall_3: 0.1676 - Recall_4: 0.5617 - val_loss: 0.9394 - val_categorical_accuracy: 0.6435 - val_precision: 0.9105 - val_recall: 0.5279 - val_f1_score: 0.3199 - val_Precision_0: 0.0000e+00 - val_Precision_1: 0.0000e+00 - val_Precision_2: 0.1091 - val_Precision_3: 0.0000e+00 - val_Precision_4: 0.9728 - val_Recall_0: 0.0000e+00 - val_Recall_1: 0.0000e+00 - val_Recall_2: 0.2202 - val_Recall_3: 0.0000e+00 - val_Recall_4: 0.5932\n",
            "Epoch 14/50\n",
            "556/556 [==============================] - 17s 30ms/step - loss: 1.1090 - categorical_accuracy: 0.5113 - precision: 0.6135 - recall: 0.3060 - f1_score: 0.4404 - Precision_0: 0.0000e+00 - Precision_1: 1.0000 - Precision_2: 0.5865 - Precision_3: 0.5198 - Precision_4: 0.6792 - Recall_0: 0.0000e+00 - Recall_1: 0.0014 - Recall_2: 0.3494 - Recall_3: 0.2212 - Recall_4: 0.5665 - val_loss: 0.9957 - val_categorical_accuracy: 0.5995 - val_precision: 0.8944 - val_recall: 0.4881 - val_f1_score: 0.3228 - val_Precision_0: 0.0000e+00 - val_Precision_1: 0.2000 - val_Precision_2: 0.0913 - val_Precision_3: 0.1475 - val_Precision_4: 0.9792 - val_Recall_0: 0.0000e+00 - val_Recall_1: 0.0312 - val_Recall_2: 0.1743 - val_Recall_3: 0.0271 - val_Recall_4: 0.5469\n",
            "Epoch 15/50\n",
            "556/556 [==============================] - 16s 30ms/step - loss: 1.0933 - categorical_accuracy: 0.5199 - precision: 0.6210 - recall: 0.3281 - f1_score: 0.4463 - Precision_0: 0.6127 - Precision_1: 0.7273 - Precision_2: 0.6015 - Precision_3: 0.5284 - Precision_4: 0.6859 - Recall_0: 0.1070 - Recall_1: 0.0022 - Recall_2: 0.3579 - Recall_3: 0.2478 - Recall_4: 0.5766 - val_loss: 0.8973 - val_categorical_accuracy: 0.6045 - val_precision: 0.8091 - val_recall: 0.5085 - val_f1_score: 0.3289 - val_Precision_0: 0.6400 - val_Precision_1: 0.2857 - val_Precision_2: 0.1628 - val_Precision_3: 0.1361 - val_Precision_4: 0.9816 - val_Recall_0: 0.1391 - val_Recall_1: 0.0312 - val_Recall_2: 0.0642 - val_Recall_3: 0.2530 - val_Recall_4: 0.5529\n",
            "Epoch 16/50\n",
            "556/556 [==============================] - 16s 29ms/step - loss: 1.0886 - categorical_accuracy: 0.5208 - precision: 0.6245 - recall: 0.3281 - f1_score: 0.4522 - Precision_0: 0.6305 - Precision_1: 0.6000 - Precision_2: 0.6060 - Precision_3: 0.5378 - Precision_4: 0.6832 - Recall_0: 0.1716 - Recall_1: 0.0016 - Recall_2: 0.3322 - Recall_3: 0.2516 - Recall_4: 0.5752 - val_loss: 0.7820 - val_categorical_accuracy: 0.7020 - val_precision: 0.8835 - val_recall: 0.5824 - val_f1_score: 0.3557 - val_Precision_0: 0.6923 - val_Precision_1: 0.0000e+00 - val_Precision_2: 0.0545 - val_Precision_3: 0.1568 - val_Precision_4: 0.9694 - val_Recall_0: 0.3130 - val_Recall_1: 0.0000e+00 - val_Recall_2: 0.0275 - val_Recall_3: 0.1355 - val_Recall_4: 0.6422\n",
            "Epoch 17/50\n",
            "556/556 [==============================] - 16s 29ms/step - loss: 1.0804 - categorical_accuracy: 0.5263 - precision: 0.6216 - recall: 0.3471 - f1_score: 0.4625 - Precision_0: 0.6182 - Precision_1: 0.5714 - Precision_2: 0.6093 - Precision_3: 0.5348 - Precision_4: 0.6798 - Recall_0: 0.2565 - Recall_1: 0.0022 - Recall_2: 0.3457 - Recall_3: 0.2664 - Recall_4: 0.5887 - val_loss: 0.9903 - val_categorical_accuracy: 0.5511 - val_precision: 0.7435 - val_recall: 0.4624 - val_f1_score: 0.3119 - val_Precision_0: 0.5556 - val_Precision_1: 0.0000e+00 - val_Precision_2: 0.1049 - val_Precision_3: 0.1179 - val_Precision_4: 0.9781 - val_Recall_0: 0.0435 - val_Recall_1: 0.0000e+00 - val_Recall_2: 0.1560 - val_Recall_3: 0.2560 - val_Recall_4: 0.5012\n",
            "Epoch 18/50\n",
            "556/556 [==============================] - 17s 30ms/step - loss: 1.0711 - categorical_accuracy: 0.5304 - precision: 0.6250 - recall: 0.3574 - f1_score: 0.4688 - Precision_0: 0.6220 - Precision_1: 0.6897 - Precision_2: 0.6137 - Precision_3: 0.5360 - Precision_4: 0.6908 - Recall_0: 0.3128 - Recall_1: 0.0055 - Recall_2: 0.3514 - Recall_3: 0.2920 - Recall_4: 0.5751 - val_loss: 0.9017 - val_categorical_accuracy: 0.6294 - val_precision: 0.8697 - val_recall: 0.5531 - val_f1_score: 0.3201 - val_Precision_0: 0.6087 - val_Precision_1: 0.0000e+00 - val_Precision_2: 0.1890 - val_Precision_3: 0.1387 - val_Precision_4: 0.9727 - val_Recall_0: 0.2435 - val_Recall_1: 0.0000e+00 - val_Recall_2: 0.2202 - val_Recall_3: 0.1145 - val_Recall_4: 0.6077\n",
            "Epoch 19/50\n",
            "556/556 [==============================] - 16s 30ms/step - loss: 1.0678 - categorical_accuracy: 0.5287 - precision: 0.6251 - recall: 0.3553 - f1_score: 0.4682 - Precision_0: 0.6203 - Precision_1: 0.6316 - Precision_2: 0.6118 - Precision_3: 0.5373 - Precision_4: 0.6883 - Recall_0: 0.3221 - Recall_1: 0.0033 - Recall_2: 0.3505 - Recall_3: 0.2781 - Recall_4: 0.5800 - val_loss: 1.0130 - val_categorical_accuracy: 0.5997 - val_precision: 0.7934 - val_recall: 0.4950 - val_f1_score: 0.2947 - val_Precision_0: 0.3821 - val_Precision_1: 0.0000e+00 - val_Precision_2: 0.1667 - val_Precision_3: 0.1113 - val_Precision_4: 0.9806 - val_Recall_0: 0.4087 - val_Recall_1: 0.0000e+00 - val_Recall_2: 0.1927 - val_Recall_3: 0.1687 - val_Recall_4: 0.5344\n",
            "Epoch 20/50\n",
            "556/556 [==============================] - 16s 29ms/step - loss: 1.0494 - categorical_accuracy: 0.5414 - precision: 0.6301 - recall: 0.3780 - f1_score: 0.4895 - Precision_0: 0.6433 - Precision_1: 0.7222 - Precision_2: 0.6188 - Precision_3: 0.5464 - Precision_4: 0.6933 - Recall_0: 0.3384 - Recall_1: 0.0036 - Recall_2: 0.3754 - Recall_3: 0.3243 - Recall_4: 0.5879 - val_loss: 0.8267 - val_categorical_accuracy: 0.7268 - val_precision: 0.8925 - val_recall: 0.6159 - val_f1_score: 0.3858 - val_Precision_0: 0.5652 - val_Precision_1: 0.0000e+00 - val_Precision_2: 0.1500 - val_Precision_3: 0.2000 - val_Precision_4: 0.9762 - val_Recall_0: 0.5652 - val_Recall_1: 0.0000e+00 - val_Recall_2: 0.1101 - val_Recall_3: 0.1476 - val_Recall_4: 0.6710\n",
            "Epoch 21/50\n",
            "556/556 [==============================] - 16s 29ms/step - loss: 1.0498 - categorical_accuracy: 0.5399 - precision: 0.6305 - recall: 0.3741 - f1_score: 0.4848 - Precision_0: 0.6359 - Precision_1: 0.6897 - Precision_2: 0.6273 - Precision_3: 0.5441 - Precision_4: 0.6872 - Recall_0: 0.3556 - Recall_1: 0.0055 - Recall_2: 0.3783 - Recall_3: 0.3010 - Recall_4: 0.5876 - val_loss: 0.7967 - val_categorical_accuracy: 0.7515 - val_precision: 0.9014 - val_recall: 0.6467 - val_f1_score: 0.3655 - val_Precision_0: 0.5200 - val_Precision_1: 0.2857 - val_Precision_2: 0.0638 - val_Precision_3: 0.2561 - val_Precision_4: 0.9680 - val_Recall_0: 0.4522 - val_Recall_1: 0.0312 - val_Recall_2: 0.0550 - val_Recall_3: 0.1265 - val_Recall_4: 0.7111\n",
            "Epoch 22/50\n",
            "556/556 [==============================] - 17s 30ms/step - loss: 1.0383 - categorical_accuracy: 0.5467 - precision: 0.6343 - recall: 0.3805 - f1_score: 0.4984 - Precision_0: 0.6579 - Precision_1: 1.0000 - Precision_2: 0.6242 - Precision_3: 0.5510 - Precision_4: 0.6904 - Recall_0: 0.3448 - Recall_1: 0.0025 - Recall_2: 0.3723 - Recall_3: 0.3176 - Recall_4: 0.6047 - val_loss: 0.7237 - val_categorical_accuracy: 0.7403 - val_precision: 0.9061 - val_recall: 0.6402 - val_f1_score: 0.3259 - val_Precision_0: 0.5472 - val_Precision_1: 0.0000e+00 - val_Precision_2: 0.1831 - val_Precision_3: 0.2249 - val_Precision_4: 0.9690 - val_Recall_0: 0.2522 - val_Recall_1: 0.0000e+00 - val_Recall_2: 0.1193 - val_Recall_3: 0.1416 - val_Recall_4: 0.7066\n",
            "Epoch 23/50\n",
            "556/556 [==============================] - 16s 29ms/step - loss: 1.0433 - categorical_accuracy: 0.5477 - precision: 0.6359 - recall: 0.3733 - f1_score: 0.4988 - Precision_0: 0.6539 - Precision_1: 0.5882 - Precision_2: 0.6258 - Precision_3: 0.5498 - Precision_4: 0.6984 - Recall_0: 0.2685 - Recall_1: 0.0027 - Recall_2: 0.3771 - Recall_3: 0.3203 - Recall_4: 0.5965 - val_loss: 0.8837 - val_categorical_accuracy: 0.6921 - val_precision: 0.8494 - val_recall: 0.6007 - val_f1_score: 0.3264 - val_Precision_0: 0.5238 - val_Precision_1: 0.0000e+00 - val_Precision_2: 0.1226 - val_Precision_3: 0.2078 - val_Precision_4: 0.9717 - val_Recall_0: 0.3826 - val_Recall_1: 0.0000e+00 - val_Recall_2: 0.2385 - val_Recall_3: 0.1928 - val_Recall_4: 0.6521\n",
            "Epoch 24/50\n",
            "556/556 [==============================] - 16s 29ms/step - loss: 1.0331 - categorical_accuracy: 0.5471 - precision: 0.6358 - recall: 0.3889 - f1_score: 0.4949 - Precision_0: 0.6295 - Precision_1: 0.7647 - Precision_2: 0.6245 - Precision_3: 0.5586 - Precision_4: 0.6974 - Recall_0: 0.3737 - Recall_1: 0.0036 - Recall_2: 0.3880 - Recall_3: 0.3281 - Recall_4: 0.6000 - val_loss: 0.9485 - val_categorical_accuracy: 0.6461 - val_precision: 0.8425 - val_recall: 0.5552 - val_f1_score: 0.3279 - val_Precision_0: 0.3947 - val_Precision_1: 0.0000e+00 - val_Precision_2: 0.2529 - val_Precision_3: 0.1659 - val_Precision_4: 0.9782 - val_Recall_0: 0.3913 - val_Recall_1: 0.0000e+00 - val_Recall_2: 0.2018 - val_Recall_3: 0.2048 - val_Recall_4: 0.6003\n",
            "Epoch 25/50\n",
            "556/556 [==============================] - 17s 30ms/step - loss: 1.0320 - categorical_accuracy: 0.5484 - precision: 0.6331 - recall: 0.3882 - f1_score: 0.5034 - Precision_0: 0.6368 - Precision_1: 0.6842 - Precision_2: 0.6228 - Precision_3: 0.5531 - Precision_4: 0.6937 - Recall_0: 0.3910 - Recall_1: 0.0036 - Recall_2: 0.3769 - Recall_3: 0.3286 - Recall_4: 0.6016 - val_loss: 0.9017 - val_categorical_accuracy: 0.6438 - val_precision: 0.7816 - val_recall: 0.5710 - val_f1_score: 0.3567 - val_Precision_0: 0.6731 - val_Precision_1: 0.0000e+00 - val_Precision_2: 0.2657 - val_Precision_3: 0.1607 - val_Precision_4: 0.9777 - val_Recall_0: 0.3043 - val_Recall_1: 0.0000e+00 - val_Recall_2: 0.3486 - val_Recall_3: 0.3765 - val_Recall_4: 0.6047\n",
            "Epoch 26/50\n",
            "556/556 [==============================] - 16s 29ms/step - loss: 1.0256 - categorical_accuracy: 0.5556 - precision: 0.6395 - recall: 0.3972 - f1_score: 0.5080 - Precision_0: 0.6442 - Precision_1: 0.5714 - Precision_2: 0.6250 - Precision_3: 0.5642 - Precision_4: 0.7021 - Recall_0: 0.3854 - Recall_1: 0.0033 - Recall_2: 0.3877 - Recall_3: 0.3480 - Recall_4: 0.6069 - val_loss: 1.0184 - val_categorical_accuracy: 0.5630 - val_precision: 0.6848 - val_recall: 0.4957 - val_f1_score: 0.3043 - val_Precision_0: 0.5192 - val_Precision_1: 0.0000e+00 - val_Precision_2: 0.1448 - val_Precision_3: 0.1164 - val_Precision_4: 0.9794 - val_Recall_0: 0.2348 - val_Recall_1: 0.0000e+00 - val_Recall_2: 0.4954 - val_Recall_3: 0.3193 - val_Recall_4: 0.5217\n",
            "Epoch 27/50\n",
            "556/556 [==============================] - 16s 29ms/step - loss: 1.0289 - categorical_accuracy: 0.5509 - precision: 0.6366 - recall: 0.3955 - f1_score: 0.5012 - Precision_0: 0.6506 - Precision_1: 0.9231 - Precision_2: 0.6214 - Precision_3: 0.5581 - Precision_4: 0.6986 - Recall_0: 0.3854 - Recall_1: 0.0033 - Recall_2: 0.3947 - Recall_3: 0.3389 - Recall_4: 0.6033 - val_loss: 0.9524 - val_categorical_accuracy: 0.6492 - val_precision: 0.7961 - val_recall: 0.5590 - val_f1_score: 0.3618 - val_Precision_0: 0.5238 - val_Precision_1: 0.0000e+00 - val_Precision_2: 0.1569 - val_Precision_3: 0.1719 - val_Precision_4: 0.9764 - val_Recall_0: 0.3826 - val_Recall_1: 0.0000e+00 - val_Recall_2: 0.2936 - val_Recall_3: 0.2952 - val_Recall_4: 0.5962\n",
            "Epoch 28/50\n",
            "556/556 [==============================] - 16s 29ms/step - loss: 1.0225 - categorical_accuracy: 0.5552 - precision: 0.6395 - recall: 0.3969 - f1_score: 0.5138 - Precision_0: 0.6595 - Precision_1: 0.6923 - Precision_2: 0.6327 - Precision_3: 0.5573 - Precision_4: 0.6978 - Recall_0: 0.3885 - Recall_1: 0.0049 - Recall_2: 0.3946 - Recall_3: 0.3428 - Recall_4: 0.6031 - val_loss: 0.8542 - val_categorical_accuracy: 0.6651 - val_precision: 0.8416 - val_recall: 0.5830 - val_f1_score: 0.3268 - val_Precision_0: 0.6349 - val_Precision_1: 0.0000e+00 - val_Precision_2: 0.1477 - val_Precision_3: 0.1865 - val_Precision_4: 0.9734 - val_Recall_0: 0.3478 - val_Recall_1: 0.0000e+00 - val_Recall_2: 0.1193 - val_Recall_3: 0.2741 - val_Recall_4: 0.6299\n",
            "Epoch 29/50\n",
            "556/556 [==============================] - 16s 29ms/step - loss: 1.0162 - categorical_accuracy: 0.5587 - precision: 0.6387 - recall: 0.4032 - f1_score: 0.5211 - Precision_0: 0.6573 - Precision_1: 0.7308 - Precision_2: 0.6359 - Precision_3: 0.5528 - Precision_4: 0.6991 - Recall_0: 0.4082 - Recall_1: 0.0052 - Recall_2: 0.3941 - Recall_3: 0.3537 - Recall_4: 0.6087 - val_loss: 0.9756 - val_categorical_accuracy: 0.6151 - val_precision: 0.7646 - val_recall: 0.5164 - val_f1_score: 0.3203 - val_Precision_0: 0.5285 - val_Precision_1: 0.0000e+00 - val_Precision_2: 0.1381 - val_Precision_3: 0.1446 - val_Precision_4: 0.9833 - val_Recall_0: 0.5652 - val_Recall_1: 0.0000e+00 - val_Recall_2: 0.2661 - val_Recall_3: 0.2801 - val_Recall_4: 0.5452\n",
            "Epoch 30/50\n",
            "556/556 [==============================] - 16s 29ms/step - loss: 1.0237 - categorical_accuracy: 0.5567 - precision: 0.6378 - recall: 0.3998 - f1_score: 0.5152 - Precision_0: 0.6630 - Precision_1: 0.6098 - Precision_2: 0.6286 - Precision_3: 0.5550 - Precision_4: 0.6981 - Recall_0: 0.4073 - Recall_1: 0.0068 - Recall_2: 0.3959 - Recall_3: 0.3465 - Recall_4: 0.6018 - val_loss: 0.8274 - val_categorical_accuracy: 0.7167 - val_precision: 0.8508 - val_recall: 0.6321 - val_f1_score: 0.3618 - val_Precision_0: 0.3944 - val_Precision_1: 0.0000e+00 - val_Precision_2: 0.1279 - val_Precision_3: 0.1823 - val_Precision_4: 0.9661 - val_Recall_0: 0.4870 - val_Recall_1: 0.0000e+00 - val_Recall_2: 0.1009 - val_Recall_3: 0.2048 - val_Recall_4: 0.6874\n",
            "Epoch 31/50\n",
            "556/556 [==============================] - 16s 29ms/step - loss: 1.0208 - categorical_accuracy: 0.5571 - precision: 0.6429 - recall: 0.3963 - f1_score: 0.5200 - Precision_0: 0.6600 - Precision_1: 0.7037 - Precision_2: 0.6382 - Precision_3: 0.5602 - Precision_4: 0.6982 - Recall_0: 0.3959 - Recall_1: 0.0052 - Recall_2: 0.3961 - Recall_3: 0.3321 - Recall_4: 0.6074 - val_loss: 0.8616 - val_categorical_accuracy: 0.6847 - val_precision: 0.8536 - val_recall: 0.5697 - val_f1_score: 0.3391 - val_Precision_0: 0.5417 - val_Precision_1: 0.0000e+00 - val_Precision_2: 0.1351 - val_Precision_3: 0.1913 - val_Precision_4: 0.9733 - val_Recall_0: 0.3391 - val_Recall_1: 0.0000e+00 - val_Recall_2: 0.2294 - val_Recall_3: 0.1717 - val_Recall_4: 0.6197\n",
            "Epoch 32/50\n",
            "556/556 [==============================] - 16s 29ms/step - loss: 1.0103 - categorical_accuracy: 0.5590 - precision: 0.6493 - recall: 0.4069 - f1_score: 0.5213 - Precision_0: 0.6735 - Precision_1: 0.7143 - Precision_2: 0.6416 - Precision_3: 0.5675 - Precision_4: 0.7070 - Recall_0: 0.4156 - Recall_1: 0.0055 - Recall_2: 0.4000 - Recall_3: 0.3536 - Recall_4: 0.6145 - val_loss: 0.8912 - val_categorical_accuracy: 0.6878 - val_precision: 0.8308 - val_recall: 0.5986 - val_f1_score: 0.3251 - val_Precision_0: 0.4959 - val_Precision_1: 0.0000e+00 - val_Precision_2: 0.1257 - val_Precision_3: 0.1663 - val_Precision_4: 0.9740 - val_Recall_0: 0.5217 - val_Recall_1: 0.0000e+00 - val_Recall_2: 0.2018 - val_Recall_3: 0.2078 - val_Recall_4: 0.6460\n",
            "Epoch 33/50\n",
            "556/556 [==============================] - 17s 30ms/step - loss: 1.0092 - categorical_accuracy: 0.5625 - precision: 0.6450 - recall: 0.4101 - f1_score: 0.5289 - Precision_0: 0.6665 - Precision_1: 0.6053 - Precision_2: 0.6346 - Precision_3: 0.5649 - Precision_4: 0.7059 - Recall_0: 0.4217 - Recall_1: 0.0063 - Recall_2: 0.4067 - Recall_3: 0.3595 - Recall_4: 0.6115 - val_loss: 0.8779 - val_categorical_accuracy: 0.6513 - val_precision: 0.7792 - val_recall: 0.5628 - val_f1_score: 0.3222 - val_Precision_0: 0.5867 - val_Precision_1: 0.0000e+00 - val_Precision_2: 0.0765 - val_Precision_3: 0.1289 - val_Precision_4: 0.9758 - val_Recall_0: 0.3826 - val_Recall_1: 0.0000e+00 - val_Recall_2: 0.1193 - val_Recall_3: 0.2590 - val_Recall_4: 0.6072\n",
            "Epoch 34/50\n",
            "556/556 [==============================] - 16s 29ms/step - loss: 1.0177 - categorical_accuracy: 0.5543 - precision: 0.6391 - recall: 0.4037 - f1_score: 0.5152 - Precision_0: 0.6400 - Precision_1: 0.6923 - Precision_2: 0.6338 - Precision_3: 0.5610 - Precision_4: 0.7007 - Recall_0: 0.4030 - Recall_1: 0.0049 - Recall_2: 0.4046 - Recall_3: 0.3576 - Recall_4: 0.5989 - val_loss: 0.9666 - val_categorical_accuracy: 0.6492 - val_precision: 0.8059 - val_recall: 0.5417 - val_f1_score: 0.3580 - val_Precision_0: 0.4836 - val_Precision_1: 0.0000e+00 - val_Precision_2: 0.1333 - val_Precision_3: 0.1410 - val_Precision_4: 0.9814 - val_Recall_0: 0.5130 - val_Recall_1: 0.0000e+00 - val_Recall_2: 0.2569 - val_Recall_3: 0.1928 - val_Recall_4: 0.5816\n",
            "Epoch 35/50\n",
            "556/556 [==============================] - 16s 29ms/step - loss: 1.0087 - categorical_accuracy: 0.5624 - precision: 0.6441 - recall: 0.4105 - f1_score: 0.5248 - Precision_0: 0.6585 - Precision_1: 0.6522 - Precision_2: 0.6335 - Precision_3: 0.5696 - Precision_4: 0.7014 - Recall_0: 0.4159 - Recall_1: 0.0041 - Recall_2: 0.4110 - Recall_3: 0.3576 - Recall_4: 0.6135 - val_loss: 0.8303 - val_categorical_accuracy: 0.7095 - val_precision: 0.8320 - val_recall: 0.6283 - val_f1_score: 0.3336 - val_Precision_0: 0.4741 - val_Precision_1: 0.0000e+00 - val_Precision_2: 0.1492 - val_Precision_3: 0.1529 - val_Precision_4: 0.9713 - val_Recall_0: 0.5565 - val_Recall_1: 0.0000e+00 - val_Recall_2: 0.2477 - val_Recall_3: 0.1898 - val_Recall_4: 0.6790\n",
            "Epoch 36/50\n",
            "556/556 [==============================] - 17s 30ms/step - loss: 1.0085 - categorical_accuracy: 0.5601 - precision: 0.6418 - recall: 0.4124 - f1_score: 0.5224 - Precision_0: 0.6547 - Precision_1: 0.6800 - Precision_2: 0.6330 - Precision_3: 0.5651 - Precision_4: 0.7006 - Recall_0: 0.4257 - Recall_1: 0.0046 - Recall_2: 0.4163 - Recall_3: 0.3589 - Recall_4: 0.6108 - val_loss: 0.8712 - val_categorical_accuracy: 0.6714 - val_precision: 0.8457 - val_recall: 0.5699 - val_f1_score: 0.3034 - val_Precision_0: 0.4876 - val_Precision_1: 0.0000e+00 - val_Precision_2: 0.1209 - val_Precision_3: 0.1793 - val_Precision_4: 0.9784 - val_Recall_0: 0.5130 - val_Recall_1: 0.0000e+00 - val_Recall_2: 0.1009 - val_Recall_3: 0.2139 - val_Recall_4: 0.6156\n",
            "Epoch 37/50\n",
            "556/556 [==============================] - 16s 29ms/step - loss: 1.0080 - categorical_accuracy: 0.5604 - precision: 0.6428 - recall: 0.4103 - f1_score: 0.5242 - Precision_0: 0.6622 - Precision_1: 0.6333 - Precision_2: 0.6400 - Precision_3: 0.5610 - Precision_4: 0.7019 - Recall_0: 0.4288 - Recall_1: 0.0052 - Recall_2: 0.4027 - Recall_3: 0.3671 - Recall_4: 0.6064 - val_loss: 0.8303 - val_categorical_accuracy: 0.6999 - val_precision: 0.7995 - val_recall: 0.5807 - val_f1_score: 0.3179 - val_Precision_0: 0.4186 - val_Precision_1: 0.0000e+00 - val_Precision_2: 0.2159 - val_Precision_3: 0.1291 - val_Precision_4: 0.9765 - val_Recall_0: 0.3130 - val_Recall_1: 0.0000e+00 - val_Recall_2: 0.3486 - val_Recall_3: 0.2229 - val_Recall_4: 0.6264\n",
            "Epoch 38/50\n",
            "556/556 [==============================] - 16s 29ms/step - loss: 1.0047 - categorical_accuracy: 0.5627 - precision: 0.6434 - recall: 0.4122 - f1_score: 0.5239 - Precision_0: 0.6563 - Precision_1: 0.7353 - Precision_2: 0.6412 - Precision_3: 0.5633 - Precision_4: 0.7003 - Recall_0: 0.4269 - Recall_1: 0.0068 - Recall_2: 0.4146 - Recall_3: 0.3608 - Recall_4: 0.6084 - val_loss: 0.9265 - val_categorical_accuracy: 0.6073 - val_precision: 0.7532 - val_recall: 0.5402 - val_f1_score: 0.3073 - val_Precision_0: 0.5444 - val_Precision_1: 0.0000e+00 - val_Precision_2: 0.1014 - val_Precision_3: 0.1170 - val_Precision_4: 0.9732 - val_Recall_0: 0.4261 - val_Recall_1: 0.0000e+00 - val_Recall_2: 0.1284 - val_Recall_3: 0.2741 - val_Recall_4: 0.5792\n",
            "Epoch 39/50\n",
            "556/556 [==============================] - 17s 30ms/step - loss: 0.9934 - categorical_accuracy: 0.5653 - precision: 0.6479 - recall: 0.4192 - f1_score: 0.5321 - Precision_0: 0.6872 - Precision_1: 0.6111 - Precision_2: 0.6391 - Precision_3: 0.5641 - Precision_4: 0.7097 - Recall_0: 0.4454 - Recall_1: 0.0060 - Recall_2: 0.4153 - Recall_3: 0.3780 - Recall_4: 0.6103 - val_loss: 0.7996 - val_categorical_accuracy: 0.7009 - val_precision: 0.8486 - val_recall: 0.6265 - val_f1_score: 0.3508 - val_Precision_0: 0.4653 - val_Precision_1: 0.0000e+00 - val_Precision_2: 0.1382 - val_Precision_3: 0.1981 - val_Precision_4: 0.9731 - val_Recall_0: 0.4087 - val_Recall_1: 0.0000e+00 - val_Recall_2: 0.1560 - val_Recall_3: 0.2470 - val_Recall_4: 0.6788\n",
            "Epoch 40/50\n",
            "556/556 [==============================] - 16s 29ms/step - loss: 0.9924 - categorical_accuracy: 0.5699 - precision: 0.6497 - recall: 0.4245 - f1_score: 0.5353 - Precision_0: 0.6728 - Precision_1: 0.7273 - Precision_2: 0.6475 - Precision_3: 0.5698 - Precision_4: 0.7044 - Recall_0: 0.4491 - Recall_1: 0.0066 - Recall_2: 0.4299 - Recall_3: 0.3725 - Recall_4: 0.6199 - val_loss: 0.8169 - val_categorical_accuracy: 0.6984 - val_precision: 0.8126 - val_recall: 0.6186 - val_f1_score: 0.3492 - val_Precision_0: 0.5366 - val_Precision_1: 0.0000e+00 - val_Precision_2: 0.1518 - val_Precision_3: 0.1775 - val_Precision_4: 0.9756 - val_Recall_0: 0.3826 - val_Recall_1: 0.0000e+00 - val_Recall_2: 0.2661 - val_Recall_3: 0.3042 - val_Recall_4: 0.6637\n",
            "Epoch 41/50\n",
            "556/556 [==============================] - 16s 29ms/step - loss: 0.9851 - categorical_accuracy: 0.5721 - precision: 0.6524 - recall: 0.4281 - f1_score: 0.5373 - Precision_0: 0.6866 - Precision_1: 0.7586 - Precision_2: 0.6491 - Precision_3: 0.5722 - Precision_4: 0.7060 - Recall_0: 0.4494 - Recall_1: 0.0060 - Recall_2: 0.4360 - Recall_3: 0.3772 - Recall_4: 0.6229 - val_loss: 0.8043 - val_categorical_accuracy: 0.6864 - val_precision: 0.8016 - val_recall: 0.6068 - val_f1_score: 0.3331 - val_Precision_0: 0.3355 - val_Precision_1: 0.0000e+00 - val_Precision_2: 0.0977 - val_Precision_3: 0.1599 - val_Precision_4: 0.9722 - val_Recall_0: 0.4435 - val_Recall_1: 0.0000e+00 - val_Recall_2: 0.1193 - val_Recall_3: 0.2620 - val_Recall_4: 0.6553\n",
            "Epoch 42/50\n",
            "556/556 [==============================] - 17s 30ms/step - loss: 0.9823 - categorical_accuracy: 0.5739 - precision: 0.6507 - recall: 0.4282 - f1_score: 0.5428 - Precision_0: 0.6807 - Precision_1: 0.6458 - Precision_2: 0.6490 - Precision_3: 0.5691 - Precision_4: 0.7086 - Recall_0: 0.4512 - Recall_1: 0.0085 - Recall_2: 0.4288 - Recall_3: 0.3899 - Recall_4: 0.6157 - val_loss: 0.8775 - val_categorical_accuracy: 0.6604 - val_precision: 0.7743 - val_recall: 0.5840 - val_f1_score: 0.3510 - val_Precision_0: 0.4683 - val_Precision_1: 0.0000e+00 - val_Precision_2: 0.0592 - val_Precision_3: 0.1416 - val_Precision_4: 0.9706 - val_Recall_0: 0.5130 - val_Recall_1: 0.0000e+00 - val_Recall_2: 0.0826 - val_Recall_3: 0.2892 - val_Recall_4: 0.6266\n",
            "Epoch 43/50\n",
            "556/556 [==============================] - 16s 28ms/step - loss: 0.9807 - categorical_accuracy: 0.5745 - precision: 0.6549 - recall: 0.4284 - f1_score: 0.5414 - Precision_0: 0.6895 - Precision_1: 0.6296 - Precision_2: 0.6392 - Precision_3: 0.5818 - Precision_4: 0.7121 - Recall_0: 0.4359 - Recall_1: 0.0093 - Recall_2: 0.4338 - Recall_3: 0.3784 - Recall_4: 0.6281 - val_loss: 0.8721 - val_categorical_accuracy: 0.6712 - val_precision: 0.8036 - val_recall: 0.6037 - val_f1_score: 0.3317 - val_Precision_0: 0.3333 - val_Precision_1: 0.0000e+00 - val_Precision_2: 0.1701 - val_Precision_3: 0.1804 - val_Precision_4: 0.9703 - val_Recall_0: 0.3217 - val_Recall_1: 0.0000e+00 - val_Recall_2: 0.2294 - val_Recall_3: 0.3163 - val_Recall_4: 0.6484\n",
            "Epoch 44/50\n",
            "556/556 [==============================] - 16s 29ms/step - loss: 0.9955 - categorical_accuracy: 0.5664 - precision: 0.6478 - recall: 0.4216 - f1_score: 0.5288 - Precision_0: 0.6889 - Precision_1: 0.6471 - Precision_2: 0.6395 - Precision_3: 0.5654 - Precision_4: 0.7062 - Recall_0: 0.4128 - Recall_1: 0.0060 - Recall_2: 0.4208 - Recall_3: 0.3768 - Recall_4: 0.6258 - val_loss: 0.9252 - val_categorical_accuracy: 0.6530 - val_precision: 0.7948 - val_recall: 0.5655 - val_f1_score: 0.3514 - val_Precision_0: 0.4758 - val_Precision_1: 0.0000e+00 - val_Precision_2: 0.1250 - val_Precision_3: 0.1790 - val_Precision_4: 0.9728 - val_Recall_0: 0.5130 - val_Recall_1: 0.0000e+00 - val_Recall_2: 0.2110 - val_Recall_3: 0.2982 - val_Recall_4: 0.6021\n",
            "Epoch 45/50\n",
            "556/556 [==============================] - 16s 29ms/step - loss: 0.9839 - categorical_accuracy: 0.5693 - precision: 0.6495 - recall: 0.4211 - f1_score: 0.5367 - Precision_0: 0.6904 - Precision_1: 0.7576 - Precision_2: 0.6488 - Precision_3: 0.5655 - Precision_4: 0.6990 - Recall_0: 0.4389 - Recall_1: 0.0068 - Recall_2: 0.4314 - Recall_3: 0.3560 - Recall_4: 0.6260 - val_loss: 1.0246 - val_categorical_accuracy: 0.5914 - val_precision: 0.7035 - val_recall: 0.5216 - val_f1_score: 0.3256 - val_Precision_0: 0.3208 - val_Precision_1: 0.1429 - val_Precision_2: 0.1497 - val_Precision_3: 0.1416 - val_Precision_4: 0.9803 - val_Recall_0: 0.2957 - val_Recall_1: 0.0312 - val_Recall_2: 0.2294 - val_Recall_3: 0.4367 - val_Recall_4: 0.5469\n",
            "Epoch 46/50\n",
            "556/556 [==============================] - 16s 29ms/step - loss: 0.9912 - categorical_accuracy: 0.5687 - precision: 0.6469 - recall: 0.4183 - f1_score: 0.5355 - Precision_0: 0.6959 - Precision_1: 0.7714 - Precision_2: 0.6461 - Precision_3: 0.5575 - Precision_4: 0.7033 - Recall_0: 0.4316 - Recall_1: 0.0074 - Recall_2: 0.4157 - Recall_3: 0.3719 - Recall_4: 0.6168 - val_loss: 0.8520 - val_categorical_accuracy: 0.6965 - val_precision: 0.8288 - val_recall: 0.6151 - val_f1_score: 0.3679 - val_Precision_0: 0.3571 - val_Precision_1: 0.0000e+00 - val_Precision_2: 0.1854 - val_Precision_3: 0.2052 - val_Precision_4: 0.9709 - val_Recall_0: 0.3913 - val_Recall_1: 0.0000e+00 - val_Recall_2: 0.3028 - val_Recall_3: 0.2620 - val_Recall_4: 0.6618\n"
          ]
        },
        {
          "output_type": "display_data",
          "data": {
            "text/plain": [
              "VBox(children=(Label(value='0.003 MB of 0.003 MB uploaded\\r'), FloatProgress(value=1.0, max=1.0)))"
            ],
            "application/vnd.jupyter.widget-view+json": {
              "version_major": 2,
              "version_minor": 0,
              "model_id": "593bbccf67b046a8ae680e937d5df36a"
            }
          },
          "metadata": {}
        },
        {
          "output_type": "display_data",
          "data": {
            "text/plain": [
              "<IPython.core.display.HTML object>"
            ],
            "text/html": [
              "<style>\n",
              "    table.wandb td:nth-child(1) { padding: 0 10px; text-align: left ; width: auto;} td:nth-child(2) {text-align: left ; width: 100%}\n",
              "    .wandb-row { display: flex; flex-direction: row; flex-wrap: wrap; justify-content: flex-start; width: 100% }\n",
              "    .wandb-col { display: flex; flex-direction: column; flex-basis: 100%; flex: 1; padding: 10px; }\n",
              "    </style>\n",
              "<div class=\"wandb-row\"><div class=\"wandb-col\"><h3>Run history:</h3><br/><table class=\"wandb\"><tr><td>Precision_0</td><td>▁▁▁▁▁▁▁▁▁▁▁▁▁▇▇▇▇█▇█▇▇███████▇██████████</td></tr><tr><td>Precision_1</td><td>▁▁▁▁▁▁▁▁▁▁▁▆█▆▅▆▅▆▆█▆▆▅▇▆▆▅▆▅▆▆▆▅▅▆▆▆▅▆▆</td></tr><tr><td>Precision_2</td><td>▁▁▁▁▁▁▁▇▇▇▇▇▇▇██████████████████████████</td></tr><tr><td>Precision_3</td><td>▁▁▁▁▁▁▁▁▆▇▇▇▇▇▇▇▇███████████████████████</td></tr><tr><td>Precision_4</td><td>▁▁▁▁▁▁▁▇████████████████████████████████</td></tr><tr><td>Recall_0</td><td>▁▁▁▁▁▁▁▁▁▁▁▁▁▃▅▆▆▆▇▆▇▇▇▇▇▇▇▇█▇▇███████▇█</td></tr><tr><td>Recall_1</td><td>▁▁▁▁▁▁▁▁▁▁▁▂▂▃▃▅▃▄▅▃▄▄▃▃▅▅▆▅▆▅▄▅▅▆▆▆▇█▆▆</td></tr><tr><td>Recall_2</td><td>▁▁▁▁▁▁▁▁▄▅▆▆▇▇▇▇▇▇▇▇▇▇▇▇▇▇▇▇█▇██▇███████</td></tr><tr><td>Recall_3</td><td>▁▁▁▁▁▁▁▁▁▁▃▄▅▅▆▆▆▇▆▇▇▇▇▇▇▇▇▇▇▇▇▇███████▇</td></tr><tr><td>Recall_4</td><td>▁▁▁▁▁▁▁▇▇▇▇▇▇▇█▇▇███████████████████████</td></tr><tr><td>categorical_accuracy</td><td>▁▁▁▁▁▁▂▅▆▆▆▆▇▇▇▇▇▇▇▇▇▇█▇████████████████</td></tr><tr><td>epoch</td><td>▁▁▁▁▂▂▂▂▂▃▃▃▃▃▄▄▄▄▄▄▅▅▅▅▅▅▆▆▆▆▆▇▇▇▇▇████</td></tr><tr><td>loss</td><td>███████▄▄▃▃▃▃▂▂▂▂▂▂▂▂▂▂▂▂▁▂▁▁▁▁▁▁▁▁▁▁▁▁▁</td></tr><tr><td>precision</td><td>▁▁▁▁▁▁▁▇████████████████████████████████</td></tr><tr><td>recall</td><td>▁▁▁▁▁▁▁▃▄▅▅▆▆▆▇▇▇▇▇▇▇▇▇▇▇███████████████</td></tr><tr><td>size_train</td><td>▁</td></tr><tr><td>val_Precision_0</td><td>▁▁▁▁▁▁▁▁▁▁▁▁▁█▇▇▅▇▆▇▅█▆▆█▆▅▆▇▆▆▆▅▆▇▄▆▄▆▄</td></tr><tr><td>val_Precision_1</td><td>▁▁▁▁▁▁▁▁▁▁▁▁▆█▁▁▁▁█▁▁▁▁▁▁▁▁▁▁▁▁▁▁▁▁▁▁▁▁▅</td></tr><tr><td>val_Precision_2</td><td>▁▁▁▁▁▁▁▁▃▇▆▄▃▅▄▆▅▅▃▆██▅▅▅▅▄▄▃▅▅▄▇▅▅▄▃▅▄▅</td></tr><tr><td>val_Precision_3</td><td>▁▁▁▁▁▁▁▁▁▄▁▁▅▅▄▅▄▆█▇▆▅▄▆▆▅▆▆▅▅▅▆▅▆▆▅▅▆▆▅</td></tr><tr><td>val_Precision_4</td><td>▁▁▁▁▁▁▁█████████████████████████████████</td></tr><tr><td>val_Recall_0</td><td>▁▁▁▁▁▁▁▁▁▁▁▁▁▃▂▄▆█▇▄▆▅▄▆▅█▇▇▆▇█▇▅▆▆▆▇▅▇▅</td></tr><tr><td>val_Recall_1</td><td>▁▁▁▁▁▁▁▁▁▁▁▁██▁▁▁▁█▁▁▁▁▁▁▁▁▁▁▁▁▁▁▁▁▁▁▁▁█</td></tr><tr><td>val_Recall_2</td><td>▁▁▁▁▁▁▁▁▃▂▅▄▃▂▃▄▄▃▂▃▄▆█▅▃▅▂▄▃▅▅▂▆▃▅▃▂▄▄▄</td></tr><tr><td>val_Recall_3</td><td>▁▁▁▁▁▁▁▁▁▅▁▁▁▅▅▃▄▃▃▃▄▇▆▆▅▅▄▄▅▄▄▄▅▅▆▅▆▆▆█</td></tr><tr><td>val_Recall_4</td><td>▁▁▁▁▁▁▁▇▇▅▇▇▆▆▆▇▆███▇▇▆▇▇▆█▇▇▇█▇▇██▇▇▇▇▆</td></tr><tr><td>val_categorical_accuracy</td><td>▁███▁▁▆▆▆▅▇▆▆▆▅▆▆▇▇▇▆▆▆▆▆▆▇▇▆▆▇▇▇▇▇▇▆▇▆▆</td></tr><tr><td>val_loss</td><td>█▇▇▇███▃▄▄▂▃▄▃▄▃▄▂▂▁▃▃▄▃▂▄▂▃▃▄▂▃▂▂▂▂▃▃▃▄</td></tr><tr><td>val_precision</td><td>▁▁▁▁▁▁▁█▇▆██▇▇▆▇▇▇▇█▇▇▆▇▇▇▇▇▇▇▇▇▇▇▇▇▇▇▇▆</td></tr><tr><td>val_recall</td><td>▁▁▁▁▁▁▁▇▆▆▇▇▆▇▆▇▆███▇▇▆▇▇▇█▇▇▇█▇▇███▇█▇▇</td></tr></table><br/></div><div class=\"wandb-col\"><h3>Run summary:</h3><br/><table class=\"wandb\"><tr><td>Precision_0</td><td>0.69593</td></tr><tr><td>Precision_1</td><td>0.77143</td></tr><tr><td>Precision_2</td><td>0.64612</td></tr><tr><td>Precision_3</td><td>0.55749</td></tr><tr><td>Precision_4</td><td>0.7033</td></tr><tr><td>Recall_0</td><td>0.43156</td></tr><tr><td>Recall_1</td><td>0.00738</td></tr><tr><td>Recall_2</td><td>0.41566</td></tr><tr><td>Recall_3</td><td>0.37189</td></tr><tr><td>Recall_4</td><td>0.61684</td></tr><tr><td>best_epoch</td><td>21</td></tr><tr><td>best_val_loss</td><td>0.72365</td></tr><tr><td>categorical_accuracy</td><td>0.56871</td></tr><tr><td>epoch</td><td>45</td></tr><tr><td>loss</td><td>0.9912</td></tr><tr><td>precision</td><td>0.64687</td></tr><tr><td>recall</td><td>0.41829</td></tr><tr><td>size_train</td><td>35521</td></tr><tr><td>train_set</td><td>Prime_Pantry</td></tr><tr><td>val_Precision_0</td><td>0.35714</td></tr><tr><td>val_Precision_1</td><td>0.0</td></tr><tr><td>val_Precision_2</td><td>0.18539</td></tr><tr><td>val_Precision_3</td><td>0.20519</td></tr><tr><td>val_Precision_4</td><td>0.9709</td></tr><tr><td>val_Recall_0</td><td>0.3913</td></tr><tr><td>val_Recall_1</td><td>0.0</td></tr><tr><td>val_Recall_2</td><td>0.30275</td></tr><tr><td>val_Recall_3</td><td>0.26205</td></tr><tr><td>val_Recall_4</td><td>0.66178</td></tr><tr><td>val_categorical_accuracy</td><td>0.69652</td></tr><tr><td>val_loss</td><td>0.85198</td></tr><tr><td>val_precision</td><td>0.82885</td></tr><tr><td>val_recall</td><td>0.61514</td></tr></table><br/></div></div>"
            ]
          },
          "metadata": {}
        },
        {
          "output_type": "display_data",
          "data": {
            "text/plain": [
              "<IPython.core.display.HTML object>"
            ],
            "text/html": [
              " View run <strong style=\"color:#cdcd00\">gentle-sweep-6</strong> at: <a href='https://wandb.ai/coffeegang/RNN_preliminary_tests/runs/vtnhd6nt' target=\"_blank\">https://wandb.ai/coffeegang/RNN_preliminary_tests/runs/vtnhd6nt</a><br/>Synced 5 W&B file(s), 1 media file(s), 0 artifact file(s) and 0 other file(s)"
            ]
          },
          "metadata": {}
        },
        {
          "output_type": "display_data",
          "data": {
            "text/plain": [
              "<IPython.core.display.HTML object>"
            ],
            "text/html": [
              "Find logs at: <code>./wandb/run-20240129_165459-vtnhd6nt/logs</code>"
            ]
          },
          "metadata": {}
        },
        {
          "output_type": "stream",
          "name": "stderr",
          "text": [
            "\u001b[34m\u001b[1mwandb\u001b[0m: Agent Starting Run: a94f5eex with config:\n",
            "\u001b[34m\u001b[1mwandb\u001b[0m: \tRNN_layer_model: model_2\n",
            "\u001b[34m\u001b[1mwandb\u001b[0m: \tembedding_size: 128\n"
          ]
        },
        {
          "output_type": "display_data",
          "data": {
            "text/plain": [
              "<IPython.core.display.HTML object>"
            ],
            "text/html": [
              "Tracking run with wandb version 0.16.2"
            ]
          },
          "metadata": {}
        },
        {
          "output_type": "display_data",
          "data": {
            "text/plain": [
              "<IPython.core.display.HTML object>"
            ],
            "text/html": [
              "Run data is saved locally in <code>/content/gdrive/.shortcut-targets-by-id/1osKmyrDLORFSpes1mwrU-W7OXM-to6bK/AML_Exam/Problem2/wandb/run-20240129_170825-a94f5eex</code>"
            ]
          },
          "metadata": {}
        },
        {
          "output_type": "display_data",
          "data": {
            "text/plain": [
              "<IPython.core.display.HTML object>"
            ],
            "text/html": [
              "Syncing run <strong><a href='https://wandb.ai/coffeegang/RNN_preliminary_tests/runs/a94f5eex' target=\"_blank\">smart-sweep-7</a></strong> to <a href='https://wandb.ai/coffeegang/RNN_preliminary_tests' target=\"_blank\">Weights & Biases</a> (<a href='https://wandb.me/run' target=\"_blank\">docs</a>)<br/>Sweep page: <a href='https://wandb.ai/coffeegang/RNN_preliminary_tests/sweeps/r8db3smm' target=\"_blank\">https://wandb.ai/coffeegang/RNN_preliminary_tests/sweeps/r8db3smm</a>"
            ]
          },
          "metadata": {}
        },
        {
          "output_type": "display_data",
          "data": {
            "text/plain": [
              "<IPython.core.display.HTML object>"
            ],
            "text/html": [
              " View project at <a href='https://wandb.ai/coffeegang/RNN_preliminary_tests' target=\"_blank\">https://wandb.ai/coffeegang/RNN_preliminary_tests</a>"
            ]
          },
          "metadata": {}
        },
        {
          "output_type": "display_data",
          "data": {
            "text/plain": [
              "<IPython.core.display.HTML object>"
            ],
            "text/html": [
              " View sweep at <a href='https://wandb.ai/coffeegang/RNN_preliminary_tests/sweeps/r8db3smm' target=\"_blank\">https://wandb.ai/coffeegang/RNN_preliminary_tests/sweeps/r8db3smm</a>"
            ]
          },
          "metadata": {}
        },
        {
          "output_type": "display_data",
          "data": {
            "text/plain": [
              "<IPython.core.display.HTML object>"
            ],
            "text/html": [
              " View run at <a href='https://wandb.ai/coffeegang/RNN_preliminary_tests/runs/a94f5eex' target=\"_blank\">https://wandb.ai/coffeegang/RNN_preliminary_tests/runs/a94f5eex</a>"
            ]
          },
          "metadata": {}
        },
        {
          "output_type": "stream",
          "name": "stdout",
          "text": [
            "Epoch 1/50\n",
            "556/556 [==============================] - 43s 62ms/step - loss: 1.5156 - categorical_accuracy: 0.2830 - precision: 0.1176 - recall: 5.6305e-05 - f1_score: 0.1879 - Precision_0: 0.0667 - Precision_1: 0.0000e+00 - Precision_2: 0.5000 - Precision_3: 0.0000e+00 - Precision_4: 0.0000e+00 - Recall_0: 3.0760e-04 - Recall_1: 0.0000e+00 - Recall_2: 1.0982e-04 - Recall_3: 0.0000e+00 - Recall_4: 0.0000e+00 - val_loss: 1.3371 - val_categorical_accuracy: 0.2886 - val_precision: 0.0000e+00 - val_recall: 0.0000e+00 - val_f1_score: 0.1016 - val_Precision_0: 0.0000e+00 - val_Precision_1: 0.0000e+00 - val_Precision_2: 0.0000e+00 - val_Precision_3: 0.0000e+00 - val_Precision_4: 0.0000e+00 - val_Recall_0: 0.0000e+00 - val_Recall_1: 0.0000e+00 - val_Recall_2: 0.0000e+00 - val_Recall_3: 0.0000e+00 - val_Recall_4: 0.0000e+00\n",
            "Epoch 2/50\n",
            "556/556 [==============================] - 19s 34ms/step - loss: 1.5074 - categorical_accuracy: 0.2952 - precision: 0.0000e+00 - recall: 0.0000e+00 - f1_score: 0.1847 - Precision_0: 0.0000e+00 - Precision_1: 0.0000e+00 - Precision_2: 0.0000e+00 - Precision_3: 0.0000e+00 - Precision_4: 0.0000e+00 - Recall_0: 0.0000e+00 - Recall_1: 0.0000e+00 - Recall_2: 0.0000e+00 - Recall_3: 0.0000e+00 - Recall_4: 0.0000e+00 - val_loss: 1.3623 - val_categorical_accuracy: 0.2886 - val_precision: 0.0000e+00 - val_recall: 0.0000e+00 - val_f1_score: 0.1016 - val_Precision_0: 0.0000e+00 - val_Precision_1: 0.0000e+00 - val_Precision_2: 0.0000e+00 - val_Precision_3: 0.0000e+00 - val_Precision_4: 0.0000e+00 - val_Recall_0: 0.0000e+00 - val_Recall_1: 0.0000e+00 - val_Recall_2: 0.0000e+00 - val_Recall_3: 0.0000e+00 - val_Recall_4: 0.0000e+00\n",
            "Epoch 3/50\n",
            "556/556 [==============================] - 18s 32ms/step - loss: 1.5073 - categorical_accuracy: 0.2971 - precision: 0.3266 - recall: 0.0018 - f1_score: 0.1878 - Precision_0: 0.0000e+00 - Precision_1: 0.0000e+00 - Precision_2: 0.0000e+00 - Precision_3: 0.3266 - Precision_4: 0.0000e+00 - Recall_0: 0.0000e+00 - Recall_1: 0.0000e+00 - Recall_2: 0.0000e+00 - Recall_3: 0.0067 - Recall_4: 0.0000e+00 - val_loss: 1.4057 - val_categorical_accuracy: 0.0405 - val_precision: 0.0000e+00 - val_recall: 0.0000e+00 - val_f1_score: 0.0343 - val_Precision_0: 0.0000e+00 - val_Precision_1: 0.0000e+00 - val_Precision_2: 0.0000e+00 - val_Precision_3: 0.0000e+00 - val_Precision_4: 0.0000e+00 - val_Recall_0: 0.0000e+00 - val_Recall_1: 0.0000e+00 - val_Recall_2: 0.0000e+00 - val_Recall_3: 0.0000e+00 - val_Recall_4: 0.0000e+00\n",
            "Epoch 4/50\n",
            "556/556 [==============================] - 17s 31ms/step - loss: 1.5072 - categorical_accuracy: 0.2942 - precision: 0.2619 - recall: 0.0012 - f1_score: 0.1855 - Precision_0: 0.0000e+00 - Precision_1: 0.0000e+00 - Precision_2: 0.0000e+00 - Precision_3: 0.2619 - Precision_4: 0.0000e+00 - Recall_0: 0.0000e+00 - Recall_1: 0.0000e+00 - Recall_2: 0.0000e+00 - Recall_3: 0.0045 - Recall_4: 0.0000e+00 - val_loss: 1.3642 - val_categorical_accuracy: 0.2886 - val_precision: 0.0000e+00 - val_recall: 0.0000e+00 - val_f1_score: 0.1016 - val_Precision_0: 0.0000e+00 - val_Precision_1: 0.0000e+00 - val_Precision_2: 0.0000e+00 - val_Precision_3: 0.0000e+00 - val_Precision_4: 0.0000e+00 - val_Recall_0: 0.0000e+00 - val_Recall_1: 0.0000e+00 - val_Recall_2: 0.0000e+00 - val_Recall_3: 0.0000e+00 - val_Recall_4: 0.0000e+00\n",
            "Epoch 5/50\n",
            "556/556 [==============================] - 17s 30ms/step - loss: 1.5068 - categorical_accuracy: 0.2979 - precision: 0.0000e+00 - recall: 0.0000e+00 - f1_score: 0.1866 - Precision_0: 0.0000e+00 - Precision_1: 0.0000e+00 - Precision_2: 0.0000e+00 - Precision_3: 0.0000e+00 - Precision_4: 0.0000e+00 - Recall_0: 0.0000e+00 - Recall_1: 0.0000e+00 - Recall_2: 0.0000e+00 - Recall_3: 0.0000e+00 - Recall_4: 0.0000e+00 - val_loss: 1.4060 - val_categorical_accuracy: 0.0405 - val_precision: 0.0000e+00 - val_recall: 0.0000e+00 - val_f1_score: 0.0344 - val_Precision_0: 0.0000e+00 - val_Precision_1: 0.0000e+00 - val_Precision_2: 0.0000e+00 - val_Precision_3: 0.0000e+00 - val_Precision_4: 0.0000e+00 - val_Recall_0: 0.0000e+00 - val_Recall_1: 0.0000e+00 - val_Recall_2: 0.0000e+00 - val_Recall_3: 0.0000e+00 - val_Recall_4: 0.0000e+00\n",
            "Epoch 6/50\n",
            "556/556 [==============================] - 17s 30ms/step - loss: 1.5070 - categorical_accuracy: 0.2961 - precision: 0.0000e+00 - recall: 0.0000e+00 - f1_score: 0.1853 - Precision_0: 0.0000e+00 - Precision_1: 0.0000e+00 - Precision_2: 0.0000e+00 - Precision_3: 0.0000e+00 - Precision_4: 0.0000e+00 - Recall_0: 0.0000e+00 - Recall_1: 0.0000e+00 - Recall_2: 0.0000e+00 - Recall_3: 0.0000e+00 - Recall_4: 0.0000e+00 - val_loss: 1.3967 - val_categorical_accuracy: 0.2856 - val_precision: 0.0000e+00 - val_recall: 0.0000e+00 - val_f1_score: 0.1007 - val_Precision_0: 0.0000e+00 - val_Precision_1: 0.0000e+00 - val_Precision_2: 0.0000e+00 - val_Precision_3: 0.0000e+00 - val_Precision_4: 0.0000e+00 - val_Recall_0: 0.0000e+00 - val_Recall_1: 0.0000e+00 - val_Recall_2: 0.0000e+00 - val_Recall_3: 0.0000e+00 - val_Recall_4: 0.0000e+00\n",
            "Epoch 7/50\n",
            "556/556 [==============================] - 17s 30ms/step - loss: 1.5070 - categorical_accuracy: 0.2951 - precision: 0.0000e+00 - recall: 0.0000e+00 - f1_score: 0.1886 - Precision_0: 0.0000e+00 - Precision_1: 0.0000e+00 - Precision_2: 0.0000e+00 - Precision_3: 0.0000e+00 - Precision_4: 0.0000e+00 - Recall_0: 0.0000e+00 - Recall_1: 0.0000e+00 - Recall_2: 0.0000e+00 - Recall_3: 0.0000e+00 - Recall_4: 0.0000e+00 - val_loss: 1.4268 - val_categorical_accuracy: 0.2856 - val_precision: 0.0000e+00 - val_recall: 0.0000e+00 - val_f1_score: 0.1007 - val_Precision_0: 0.0000e+00 - val_Precision_1: 0.0000e+00 - val_Precision_2: 0.0000e+00 - val_Precision_3: 0.0000e+00 - val_Precision_4: 0.0000e+00 - val_Recall_0: 0.0000e+00 - val_Recall_1: 0.0000e+00 - val_Recall_2: 0.0000e+00 - val_Recall_3: 0.0000e+00 - val_Recall_4: 0.0000e+00\n",
            "Epoch 8/50\n",
            "556/556 [==============================] - 17s 30ms/step - loss: 1.5075 - categorical_accuracy: 0.2927 - precision: 0.0000e+00 - recall: 0.0000e+00 - f1_score: 0.1854 - Precision_0: 0.0000e+00 - Precision_1: 0.0000e+00 - Precision_2: 0.0000e+00 - Precision_3: 0.0000e+00 - Precision_4: 0.0000e+00 - Recall_0: 0.0000e+00 - Recall_1: 0.0000e+00 - Recall_2: 0.0000e+00 - Recall_3: 0.0000e+00 - Recall_4: 0.0000e+00 - val_loss: 1.3741 - val_categorical_accuracy: 0.0405 - val_precision: 0.0000e+00 - val_recall: 0.0000e+00 - val_f1_score: 0.0345 - val_Precision_0: 0.0000e+00 - val_Precision_1: 0.0000e+00 - val_Precision_2: 0.0000e+00 - val_Precision_3: 0.0000e+00 - val_Precision_4: 0.0000e+00 - val_Recall_0: 0.0000e+00 - val_Recall_1: 0.0000e+00 - val_Recall_2: 0.0000e+00 - val_Recall_3: 0.0000e+00 - val_Recall_4: 0.0000e+00\n"
          ]
        },
        {
          "output_type": "display_data",
          "data": {
            "text/plain": [
              "VBox(children=(Label(value='0.003 MB of 0.003 MB uploaded\\r'), FloatProgress(value=1.0, max=1.0)))"
            ],
            "application/vnd.jupyter.widget-view+json": {
              "version_major": 2,
              "version_minor": 0,
              "model_id": "311ec9d7d7ce4f3982dee09311241395"
            }
          },
          "metadata": {}
        },
        {
          "output_type": "display_data",
          "data": {
            "text/plain": [
              "<IPython.core.display.HTML object>"
            ],
            "text/html": [
              "<style>\n",
              "    table.wandb td:nth-child(1) { padding: 0 10px; text-align: left ; width: auto;} td:nth-child(2) {text-align: left ; width: 100%}\n",
              "    .wandb-row { display: flex; flex-direction: row; flex-wrap: wrap; justify-content: flex-start; width: 100% }\n",
              "    .wandb-col { display: flex; flex-direction: column; flex-basis: 100%; flex: 1; padding: 10px; }\n",
              "    </style>\n",
              "<div class=\"wandb-row\"><div class=\"wandb-col\"><h3>Run history:</h3><br/><table class=\"wandb\"><tr><td>Precision_0</td><td>█▁▁▁▁▁▁▁</td></tr><tr><td>Precision_1</td><td>▁▁▁▁▁▁▁▁</td></tr><tr><td>Precision_2</td><td>█▁▁▁▁▁▁▁</td></tr><tr><td>Precision_3</td><td>▁▁█▇▁▁▁▁</td></tr><tr><td>Precision_4</td><td>▁▁▁▁▁▁▁▁</td></tr><tr><td>Recall_0</td><td>█▁▁▁▁▁▁▁</td></tr><tr><td>Recall_1</td><td>▁▁▁▁▁▁▁▁</td></tr><tr><td>Recall_2</td><td>█▁▁▁▁▁▁▁</td></tr><tr><td>Recall_3</td><td>▁▁█▆▁▁▁▁</td></tr><tr><td>Recall_4</td><td>▁▁▁▁▁▁▁▁</td></tr><tr><td>categorical_accuracy</td><td>▁▇█▆█▇▇▆</td></tr><tr><td>epoch</td><td>▁▂▃▄▅▆▇█</td></tr><tr><td>loss</td><td>█▁▁▁▁▁▁▂</td></tr><tr><td>precision</td><td>▄▁█▇▁▁▁▁</td></tr><tr><td>recall</td><td>▁▁█▆▁▁▁▁</td></tr><tr><td>size_train</td><td>▁</td></tr><tr><td>val_Precision_0</td><td>▁▁▁▁▁▁▁▁</td></tr><tr><td>val_Precision_1</td><td>▁▁▁▁▁▁▁▁</td></tr><tr><td>val_Precision_2</td><td>▁▁▁▁▁▁▁▁</td></tr><tr><td>val_Precision_3</td><td>▁▁▁▁▁▁▁▁</td></tr><tr><td>val_Precision_4</td><td>▁▁▁▁▁▁▁▁</td></tr><tr><td>val_Recall_0</td><td>▁▁▁▁▁▁▁▁</td></tr><tr><td>val_Recall_1</td><td>▁▁▁▁▁▁▁▁</td></tr><tr><td>val_Recall_2</td><td>▁▁▁▁▁▁▁▁</td></tr><tr><td>val_Recall_3</td><td>▁▁▁▁▁▁▁▁</td></tr><tr><td>val_Recall_4</td><td>▁▁▁▁▁▁▁▁</td></tr><tr><td>val_categorical_accuracy</td><td>██▁█▁██▁</td></tr><tr><td>val_loss</td><td>▁▃▆▃▆▆█▄</td></tr><tr><td>val_precision</td><td>▁▁▁▁▁▁▁▁</td></tr><tr><td>val_recall</td><td>▁▁▁▁▁▁▁▁</td></tr></table><br/></div><div class=\"wandb-col\"><h3>Run summary:</h3><br/><table class=\"wandb\"><tr><td>Precision_0</td><td>0.0</td></tr><tr><td>Precision_1</td><td>0.0</td></tr><tr><td>Precision_2</td><td>0.0</td></tr><tr><td>Precision_3</td><td>0.0</td></tr><tr><td>Precision_4</td><td>0.0</td></tr><tr><td>Recall_0</td><td>0.0</td></tr><tr><td>Recall_1</td><td>0.0</td></tr><tr><td>Recall_2</td><td>0.0</td></tr><tr><td>Recall_3</td><td>0.0</td></tr><tr><td>Recall_4</td><td>0.0</td></tr><tr><td>best_epoch</td><td>0</td></tr><tr><td>best_val_loss</td><td>1.33708</td></tr><tr><td>categorical_accuracy</td><td>0.2927</td></tr><tr><td>epoch</td><td>7</td></tr><tr><td>loss</td><td>1.50753</td></tr><tr><td>precision</td><td>0.0</td></tr><tr><td>recall</td><td>0.0</td></tr><tr><td>size_train</td><td>35521</td></tr><tr><td>train_set</td><td>Prime_Pantry</td></tr><tr><td>val_Precision_0</td><td>0.0</td></tr><tr><td>val_Precision_1</td><td>0.0</td></tr><tr><td>val_Precision_2</td><td>0.0</td></tr><tr><td>val_Precision_3</td><td>0.0</td></tr><tr><td>val_Precision_4</td><td>0.0</td></tr><tr><td>val_Recall_0</td><td>0.0</td></tr><tr><td>val_Recall_1</td><td>0.0</td></tr><tr><td>val_Recall_2</td><td>0.0</td></tr><tr><td>val_Recall_3</td><td>0.0</td></tr><tr><td>val_Recall_4</td><td>0.0</td></tr><tr><td>val_categorical_accuracy</td><td>0.0405</td></tr><tr><td>val_loss</td><td>1.37411</td></tr><tr><td>val_precision</td><td>0.0</td></tr><tr><td>val_recall</td><td>0.0</td></tr></table><br/></div></div>"
            ]
          },
          "metadata": {}
        },
        {
          "output_type": "display_data",
          "data": {
            "text/plain": [
              "<IPython.core.display.HTML object>"
            ],
            "text/html": [
              " View run <strong style=\"color:#cdcd00\">smart-sweep-7</strong> at: <a href='https://wandb.ai/coffeegang/RNN_preliminary_tests/runs/a94f5eex' target=\"_blank\">https://wandb.ai/coffeegang/RNN_preliminary_tests/runs/a94f5eex</a><br/>Synced 5 W&B file(s), 1 media file(s), 0 artifact file(s) and 0 other file(s)"
            ]
          },
          "metadata": {}
        },
        {
          "output_type": "display_data",
          "data": {
            "text/plain": [
              "<IPython.core.display.HTML object>"
            ],
            "text/html": [
              "Find logs at: <code>./wandb/run-20240129_170825-a94f5eex/logs</code>"
            ]
          },
          "metadata": {}
        },
        {
          "output_type": "stream",
          "name": "stderr",
          "text": [
            "\u001b[34m\u001b[1mwandb\u001b[0m: Agent Starting Run: l2lkoelh with config:\n",
            "\u001b[34m\u001b[1mwandb\u001b[0m: \tRNN_layer_model: model_2\n",
            "\u001b[34m\u001b[1mwandb\u001b[0m: \tembedding_size: 256\n"
          ]
        },
        {
          "output_type": "display_data",
          "data": {
            "text/plain": [
              "<IPython.core.display.HTML object>"
            ],
            "text/html": [
              "Tracking run with wandb version 0.16.2"
            ]
          },
          "metadata": {}
        },
        {
          "output_type": "display_data",
          "data": {
            "text/plain": [
              "<IPython.core.display.HTML object>"
            ],
            "text/html": [
              "Run data is saved locally in <code>/content/gdrive/.shortcut-targets-by-id/1osKmyrDLORFSpes1mwrU-W7OXM-to6bK/AML_Exam/Problem2/wandb/run-20240129_171125-l2lkoelh</code>"
            ]
          },
          "metadata": {}
        },
        {
          "output_type": "display_data",
          "data": {
            "text/plain": [
              "<IPython.core.display.HTML object>"
            ],
            "text/html": [
              "Syncing run <strong><a href='https://wandb.ai/coffeegang/RNN_preliminary_tests/runs/l2lkoelh' target=\"_blank\">bright-sweep-8</a></strong> to <a href='https://wandb.ai/coffeegang/RNN_preliminary_tests' target=\"_blank\">Weights & Biases</a> (<a href='https://wandb.me/run' target=\"_blank\">docs</a>)<br/>Sweep page: <a href='https://wandb.ai/coffeegang/RNN_preliminary_tests/sweeps/r8db3smm' target=\"_blank\">https://wandb.ai/coffeegang/RNN_preliminary_tests/sweeps/r8db3smm</a>"
            ]
          },
          "metadata": {}
        },
        {
          "output_type": "display_data",
          "data": {
            "text/plain": [
              "<IPython.core.display.HTML object>"
            ],
            "text/html": [
              " View project at <a href='https://wandb.ai/coffeegang/RNN_preliminary_tests' target=\"_blank\">https://wandb.ai/coffeegang/RNN_preliminary_tests</a>"
            ]
          },
          "metadata": {}
        },
        {
          "output_type": "display_data",
          "data": {
            "text/plain": [
              "<IPython.core.display.HTML object>"
            ],
            "text/html": [
              " View sweep at <a href='https://wandb.ai/coffeegang/RNN_preliminary_tests/sweeps/r8db3smm' target=\"_blank\">https://wandb.ai/coffeegang/RNN_preliminary_tests/sweeps/r8db3smm</a>"
            ]
          },
          "metadata": {}
        },
        {
          "output_type": "display_data",
          "data": {
            "text/plain": [
              "<IPython.core.display.HTML object>"
            ],
            "text/html": [
              " View run at <a href='https://wandb.ai/coffeegang/RNN_preliminary_tests/runs/l2lkoelh' target=\"_blank\">https://wandb.ai/coffeegang/RNN_preliminary_tests/runs/l2lkoelh</a>"
            ]
          },
          "metadata": {}
        },
        {
          "output_type": "stream",
          "name": "stdout",
          "text": [
            "Epoch 1/50\n",
            "556/556 [==============================] - 45s 65ms/step - loss: 1.5140 - categorical_accuracy: 0.2731 - precision: 0.0345 - recall: 5.6305e-05 - f1_score: 0.1748 - Precision_0: 0.0357 - Precision_1: 0.0000e+00 - Precision_2: 0.0000e+00 - Precision_3: 0.0000e+00 - Precision_4: 0.0000e+00 - Recall_0: 6.1520e-04 - Recall_1: 0.0000e+00 - Recall_2: 0.0000e+00 - Recall_3: 0.0000e+00 - Recall_4: 0.0000e+00 - val_loss: 1.2953 - val_categorical_accuracy: 0.8791 - val_precision: 0.0000e+00 - val_recall: 0.0000e+00 - val_f1_score: 0.1872 - val_Precision_0: 0.0000e+00 - val_Precision_1: 0.0000e+00 - val_Precision_2: 0.0000e+00 - val_Precision_3: 0.0000e+00 - val_Precision_4: 0.0000e+00 - val_Recall_0: 0.0000e+00 - val_Recall_1: 0.0000e+00 - val_Recall_2: 0.0000e+00 - val_Recall_3: 0.0000e+00 - val_Recall_4: 0.0000e+00\n",
            "Epoch 2/50\n",
            "556/556 [==============================] - 19s 35ms/step - loss: 1.5077 - categorical_accuracy: 0.2779 - precision: 0.0000e+00 - recall: 0.0000e+00 - f1_score: 0.1808 - Precision_0: 0.0000e+00 - Precision_1: 0.0000e+00 - Precision_2: 0.0000e+00 - Precision_3: 0.0000e+00 - Precision_4: 0.0000e+00 - Recall_0: 0.0000e+00 - Recall_1: 0.0000e+00 - Recall_2: 0.0000e+00 - Recall_3: 0.0000e+00 - Recall_4: 0.0000e+00 - val_loss: 1.3621 - val_categorical_accuracy: 0.0631 - val_precision: 0.0000e+00 - val_recall: 0.0000e+00 - val_f1_score: 0.0238 - val_Precision_0: 0.0000e+00 - val_Precision_1: 0.0000e+00 - val_Precision_2: 0.0000e+00 - val_Precision_3: 0.0000e+00 - val_Precision_4: 0.0000e+00 - val_Recall_0: 0.0000e+00 - val_Recall_1: 0.0000e+00 - val_Recall_2: 0.0000e+00 - val_Recall_3: 0.0000e+00 - val_Recall_4: 0.0000e+00\n",
            "Epoch 3/50\n",
            "556/556 [==============================] - 18s 32ms/step - loss: 1.4898 - categorical_accuracy: 0.3004 - precision: 0.5692 - recall: 0.0104 - f1_score: 0.1975 - Precision_0: 0.0000e+00 - Precision_1: 0.0000e+00 - Precision_2: 0.0000e+00 - Precision_3: 0.0000e+00 - Precision_4: 0.5692 - Recall_0: 0.0000e+00 - Recall_1: 0.0000e+00 - Recall_2: 0.0000e+00 - Recall_3: 0.0000e+00 - Recall_4: 0.0379 - val_loss: 1.1086 - val_categorical_accuracy: 0.5644 - val_precision: 0.9582 - val_recall: 0.3919 - val_f1_score: 0.1944 - val_Precision_0: 0.0000e+00 - val_Precision_1: 0.0000e+00 - val_Precision_2: 0.0000e+00 - val_Precision_3: 0.0000e+00 - val_Precision_4: 0.9582 - val_Recall_0: 0.0000e+00 - val_Recall_1: 0.0000e+00 - val_Recall_2: 0.0000e+00 - val_Recall_3: 0.0000e+00 - val_Recall_4: 0.4443\n",
            "Epoch 4/50\n",
            "556/556 [==============================] - 18s 32ms/step - loss: 1.3085 - categorical_accuracy: 0.4286 - precision: 0.5871 - recall: 0.1167 - f1_score: 0.2741 - Precision_0: 0.0000e+00 - Precision_1: 0.0000e+00 - Precision_2: 0.4699 - Precision_3: 0.5385 - Precision_4: 0.5905 - Recall_0: 0.0000e+00 - Recall_1: 0.0000e+00 - Recall_2: 0.0094 - Recall_3: 0.0022 - Recall_4: 0.4140 - val_loss: 1.0869 - val_categorical_accuracy: 0.4763 - val_precision: 0.9861 - val_recall: 0.4046 - val_f1_score: 0.1800 - val_Precision_0: 0.0000e+00 - val_Precision_1: 0.0000e+00 - val_Precision_2: 0.0000e+00 - val_Precision_3: 0.0000e+00 - val_Precision_4: 0.9861 - val_Recall_0: 0.0000e+00 - val_Recall_1: 0.0000e+00 - val_Recall_2: 0.0000e+00 - val_Recall_3: 0.0000e+00 - val_Recall_4: 0.4587\n",
            "Epoch 5/50\n",
            "556/556 [==============================] - 17s 31ms/step - loss: 1.2098 - categorical_accuracy: 0.4629 - precision: 0.6399 - recall: 0.1557 - f1_score: 0.3274 - Precision_0: 0.0000e+00 - Precision_1: 0.0000e+00 - Precision_2: 0.5111 - Precision_3: 0.4988 - Precision_4: 0.6603 - Recall_0: 0.0000e+00 - Recall_1: 0.0000e+00 - Recall_2: 0.0177 - Recall_3: 0.0411 - Recall_4: 0.5095 - val_loss: 1.0624 - val_categorical_accuracy: 0.5689 - val_precision: 0.9001 - val_recall: 0.3889 - val_f1_score: 0.2843 - val_Precision_0: 0.0000e+00 - val_Precision_1: 0.0000e+00 - val_Precision_2: 0.2500 - val_Precision_3: 0.0613 - val_Precision_4: 0.9745 - val_Recall_0: 0.0000e+00 - val_Recall_1: 0.0000e+00 - val_Recall_2: 0.0642 - val_Recall_3: 0.0301 - val_Recall_4: 0.4372\n",
            "Epoch 6/50\n",
            "556/556 [==============================] - 17s 30ms/step - loss: 1.1543 - categorical_accuracy: 0.4877 - precision: 0.6159 - recall: 0.2457 - f1_score: 0.4010 - Precision_0: 0.5608 - Precision_1: 0.0000e+00 - Precision_2: 0.5757 - Precision_3: 0.5106 - Precision_4: 0.6702 - Recall_0: 0.0255 - Recall_1: 0.0000e+00 - Recall_2: 0.2201 - Recall_3: 0.1389 - Recall_4: 0.5419 - val_loss: 1.0922 - val_categorical_accuracy: 0.5151 - val_precision: 0.8206 - val_recall: 0.4295 - val_f1_score: 0.2645 - val_Precision_0: 0.0000e+00 - val_Precision_1: 0.0000e+00 - val_Precision_2: 0.0954 - val_Precision_3: 0.0775 - val_Precision_4: 0.9809 - val_Recall_0: 0.0000e+00 - val_Recall_1: 0.0000e+00 - val_Recall_2: 0.3211 - val_Recall_3: 0.0301 - val_Recall_4: 0.4773\n",
            "Epoch 7/50\n",
            "556/556 [==============================] - 17s 30ms/step - loss: 1.1309 - categorical_accuracy: 0.5005 - precision: 0.6234 - recall: 0.2838 - f1_score: 0.4182 - Precision_0: 0.6221 - Precision_1: 0.0000e+00 - Precision_2: 0.5897 - Precision_3: 0.5213 - Precision_4: 0.6856 - Recall_0: 0.1661 - Recall_1: 0.0000e+00 - Recall_2: 0.2931 - Recall_3: 0.1681 - Recall_4: 0.5367 - val_loss: 0.9501 - val_categorical_accuracy: 0.6315 - val_precision: 0.8978 - val_recall: 0.4680 - val_f1_score: 0.2923 - val_Precision_0: 0.3478 - val_Precision_1: 0.0000e+00 - val_Precision_2: 0.1901 - val_Precision_3: 0.0652 - val_Precision_4: 0.9801 - val_Recall_0: 0.1391 - val_Recall_1: 0.0000e+00 - val_Recall_2: 0.2477 - val_Recall_3: 0.0181 - val_Recall_4: 0.5199\n",
            "Epoch 8/50\n",
            "556/556 [==============================] - 17s 31ms/step - loss: 1.1143 - categorical_accuracy: 0.5119 - precision: 0.6258 - recall: 0.3053 - f1_score: 0.4388 - Precision_0: 0.6477 - Precision_1: 0.0000e+00 - Precision_2: 0.5929 - Precision_3: 0.5324 - Precision_4: 0.6849 - Recall_0: 0.2347 - Recall_1: 0.0000e+00 - Recall_2: 0.3211 - Recall_3: 0.1888 - Recall_4: 0.5452 - val_loss: 0.8610 - val_categorical_accuracy: 0.6404 - val_precision: 0.8696 - val_recall: 0.5299 - val_f1_score: 0.2924 - val_Precision_0: 0.6667 - val_Precision_1: 0.0000e+00 - val_Precision_2: 0.0392 - val_Precision_3: 0.1238 - val_Precision_4: 0.9755 - val_Recall_0: 0.3130 - val_Recall_1: 0.0000e+00 - val_Recall_2: 0.0183 - val_Recall_3: 0.1205 - val_Recall_4: 0.5840\n",
            "Epoch 9/50\n",
            "556/556 [==============================] - 17s 31ms/step - loss: 1.0918 - categorical_accuracy: 0.5198 - precision: 0.6266 - recall: 0.3205 - f1_score: 0.4555 - Precision_0: 0.6579 - Precision_1: 0.0000e+00 - Precision_2: 0.6057 - Precision_3: 0.5262 - Precision_4: 0.6829 - Recall_0: 0.2627 - Recall_1: 0.0000e+00 - Recall_2: 0.3476 - Recall_3: 0.2026 - Recall_4: 0.5528 - val_loss: 0.9513 - val_categorical_accuracy: 0.5573 - val_precision: 0.8091 - val_recall: 0.4489 - val_f1_score: 0.2819 - val_Precision_0: 0.6216 - val_Precision_1: 0.0000e+00 - val_Precision_2: 0.0641 - val_Precision_3: 0.1486 - val_Precision_4: 0.9800 - val_Recall_0: 0.2000 - val_Recall_1: 0.0000e+00 - val_Recall_2: 0.0459 - val_Recall_3: 0.2229 - val_Recall_4: 0.4870\n",
            "Epoch 10/50\n",
            "556/556 [==============================] - 17s 30ms/step - loss: 1.0790 - categorical_accuracy: 0.5272 - precision: 0.6315 - recall: 0.3404 - f1_score: 0.4652 - Precision_0: 0.6530 - Precision_1: 0.0000e+00 - Precision_2: 0.6068 - Precision_3: 0.5406 - Precision_4: 0.6950 - Recall_0: 0.2882 - Recall_1: 0.0000e+00 - Recall_2: 0.3635 - Recall_3: 0.2424 - Recall_4: 0.5621 - val_loss: 0.9674 - val_categorical_accuracy: 0.5847 - val_precision: 0.7513 - val_recall: 0.5014 - val_f1_score: 0.2940 - val_Precision_0: 0.5250 - val_Precision_1: 0.0000e+00 - val_Precision_2: 0.1548 - val_Precision_3: 0.1458 - val_Precision_4: 0.9845 - val_Recall_0: 0.1826 - val_Recall_1: 0.0000e+00 - val_Recall_2: 0.1193 - val_Recall_3: 0.3825 - val_Recall_4: 0.5337\n",
            "Epoch 11/50\n",
            "556/556 [==============================] - 17s 31ms/step - loss: 1.0756 - categorical_accuracy: 0.5305 - precision: 0.6323 - recall: 0.3418 - f1_score: 0.4752 - Precision_0: 0.6664 - Precision_1: 0.0000e+00 - Precision_2: 0.6126 - Precision_3: 0.5396 - Precision_4: 0.6927 - Recall_0: 0.2845 - Recall_1: 0.0000e+00 - Recall_2: 0.3566 - Recall_3: 0.2524 - Recall_4: 0.5647 - val_loss: 0.9281 - val_categorical_accuracy: 0.6376 - val_precision: 0.8453 - val_recall: 0.5153 - val_f1_score: 0.3468 - val_Precision_0: 0.6667 - val_Precision_1: 0.0000e+00 - val_Precision_2: 0.1313 - val_Precision_3: 0.1429 - val_Precision_4: 0.9763 - val_Recall_0: 0.4000 - val_Recall_1: 0.0000e+00 - val_Recall_2: 0.1193 - val_Recall_3: 0.1627 - val_Recall_4: 0.5598\n",
            "Epoch 12/50\n",
            "556/556 [==============================] - 17s 30ms/step - loss: 1.0602 - categorical_accuracy: 0.5362 - precision: 0.6404 - recall: 0.3628 - f1_score: 0.4803 - Precision_0: 0.6784 - Precision_1: 0.5000 - Precision_2: 0.6192 - Precision_3: 0.5594 - Precision_4: 0.6973 - Recall_0: 0.3205 - Recall_1: 0.0011 - Recall_2: 0.3870 - Recall_3: 0.2791 - Recall_4: 0.5736 - val_loss: 0.8825 - val_categorical_accuracy: 0.6705 - val_precision: 0.8312 - val_recall: 0.5273 - val_f1_score: 0.3729 - val_Precision_0: 0.4627 - val_Precision_1: 0.0000e+00 - val_Precision_2: 0.2067 - val_Precision_3: 0.1678 - val_Precision_4: 0.9847 - val_Recall_0: 0.2696 - val_Recall_1: 0.0000e+00 - val_Recall_2: 0.2844 - val_Recall_3: 0.2229 - val_Recall_4: 0.5684\n",
            "Epoch 13/50\n",
            "556/556 [==============================] - 17s 30ms/step - loss: 1.0515 - categorical_accuracy: 0.5439 - precision: 0.6344 - recall: 0.3768 - f1_score: 0.4930 - Precision_0: 0.6866 - Precision_1: 0.6923 - Precision_2: 0.6165 - Precision_3: 0.5511 - Precision_4: 0.6935 - Recall_0: 0.3254 - Recall_1: 0.0025 - Recall_2: 0.3981 - Recall_3: 0.3109 - Recall_4: 0.5803 - val_loss: 0.8688 - val_categorical_accuracy: 0.7209 - val_precision: 0.8889 - val_recall: 0.5461 - val_f1_score: 0.3580 - val_Precision_0: 0.7037 - val_Precision_1: 0.0000e+00 - val_Precision_2: 0.2039 - val_Precision_3: 0.2072 - val_Precision_4: 0.9702 - val_Recall_0: 0.3304 - val_Recall_1: 0.0000e+00 - val_Recall_2: 0.1927 - val_Recall_3: 0.1386 - val_Recall_4: 0.5965\n",
            "Epoch 14/50\n",
            "556/556 [==============================] - 16s 30ms/step - loss: 1.0496 - categorical_accuracy: 0.5398 - precision: 0.6373 - recall: 0.3728 - f1_score: 0.4873 - Precision_0: 0.6722 - Precision_1: 0.0000e+00 - Precision_2: 0.6232 - Precision_3: 0.5571 - Precision_4: 0.6923 - Recall_0: 0.3337 - Recall_1: 0.0000e+00 - Recall_2: 0.3836 - Recall_3: 0.3051 - Recall_4: 0.5832 - val_loss: 0.8256 - val_categorical_accuracy: 0.7104 - val_precision: 0.8773 - val_recall: 0.5777 - val_f1_score: 0.3449 - val_Precision_0: 0.8529 - val_Precision_1: 0.0000e+00 - val_Precision_2: 0.2595 - val_Precision_3: 0.2346 - val_Precision_4: 0.9790 - val_Recall_0: 0.2522 - val_Recall_1: 0.0000e+00 - val_Recall_2: 0.3119 - val_Recall_3: 0.2410 - val_Recall_4: 0.6241\n",
            "Epoch 15/50\n",
            "556/556 [==============================] - 17s 31ms/step - loss: 1.0443 - categorical_accuracy: 0.5424 - precision: 0.6381 - recall: 0.3728 - f1_score: 0.4941 - Precision_0: 0.6909 - Precision_1: 0.5455 - Precision_2: 0.6258 - Precision_3: 0.5544 - Precision_4: 0.6893 - Recall_0: 0.3301 - Recall_1: 0.0016 - Recall_2: 0.3957 - Recall_3: 0.2943 - Recall_4: 0.5833 - val_loss: 0.8481 - val_categorical_accuracy: 0.6598 - val_precision: 0.7864 - val_recall: 0.5307 - val_f1_score: 0.3851 - val_Precision_0: 0.7222 - val_Precision_1: 0.0000e+00 - val_Precision_2: 0.2432 - val_Precision_3: 0.1531 - val_Precision_4: 0.9752 - val_Recall_0: 0.2261 - val_Recall_1: 0.0000e+00 - val_Recall_2: 0.1651 - val_Recall_3: 0.3404 - val_Recall_4: 0.5678\n",
            "Epoch 16/50\n",
            "556/556 [==============================] - 16s 30ms/step - loss: 1.0434 - categorical_accuracy: 0.5429 - precision: 0.6395 - recall: 0.3761 - f1_score: 0.4929 - Precision_0: 0.6791 - Precision_1: 0.6667 - Precision_2: 0.6312 - Precision_3: 0.5527 - Precision_4: 0.6953 - Recall_0: 0.3353 - Recall_1: 0.0016 - Recall_2: 0.4027 - Recall_3: 0.3045 - Recall_4: 0.5768 - val_loss: 1.0242 - val_categorical_accuracy: 0.5889 - val_precision: 0.7774 - val_recall: 0.4661 - val_f1_score: 0.3279 - val_Precision_0: 0.6047 - val_Precision_1: 1.0000 - val_Precision_2: 0.1944 - val_Precision_3: 0.1493 - val_Precision_4: 0.9782 - val_Recall_0: 0.4522 - val_Recall_1: 0.0156 - val_Recall_2: 0.1927 - val_Recall_3: 0.2801 - val_Recall_4: 0.4923\n",
            "Epoch 17/50\n",
            "556/556 [==============================] - 17s 30ms/step - loss: 1.0377 - categorical_accuracy: 0.5483 - precision: 0.6387 - recall: 0.3837 - f1_score: 0.5026 - Precision_0: 0.6802 - Precision_1: 0.4286 - Precision_2: 0.6276 - Precision_3: 0.5517 - Precision_4: 0.6987 - Recall_0: 0.3507 - Recall_1: 0.0016 - Recall_2: 0.4134 - Recall_3: 0.3153 - Recall_4: 0.5786 - val_loss: 0.8182 - val_categorical_accuracy: 0.6693 - val_precision: 0.8179 - val_recall: 0.5636 - val_f1_score: 0.3444 - val_Precision_0: 0.7826 - val_Precision_1: 0.0000e+00 - val_Precision_2: 0.3103 - val_Precision_3: 0.1586 - val_Precision_4: 0.9769 - val_Recall_0: 0.3130 - val_Recall_1: 0.0000e+00 - val_Recall_2: 0.3303 - val_Recall_3: 0.2861 - val_Recall_4: 0.6029\n",
            "Epoch 18/50\n",
            "556/556 [==============================] - 17s 30ms/step - loss: 1.0294 - categorical_accuracy: 0.5487 - precision: 0.6396 - recall: 0.3822 - f1_score: 0.5037 - Precision_0: 0.6814 - Precision_1: 0.5116 - Precision_2: 0.6271 - Precision_3: 0.5573 - Precision_4: 0.6982 - Recall_0: 0.3362 - Recall_1: 0.0060 - Recall_2: 0.4210 - Recall_3: 0.3142 - Recall_4: 0.5704 - val_loss: 0.8927 - val_categorical_accuracy: 0.6340 - val_precision: 0.7900 - val_recall: 0.5471 - val_f1_score: 0.3516 - val_Precision_0: 0.7358 - val_Precision_1: 0.0000e+00 - val_Precision_2: 0.1497 - val_Precision_3: 0.1624 - val_Precision_4: 0.9801 - val_Recall_0: 0.3391 - val_Recall_1: 0.0000e+00 - val_Recall_2: 0.2018 - val_Recall_3: 0.3283 - val_Recall_4: 0.5835\n",
            "Epoch 19/50\n",
            "556/556 [==============================] - 16s 29ms/step - loss: 1.0285 - categorical_accuracy: 0.5506 - precision: 0.6423 - recall: 0.3913 - f1_score: 0.5070 - Precision_0: 0.7005 - Precision_1: 0.6842 - Precision_2: 0.6296 - Precision_3: 0.5665 - Precision_4: 0.6914 - Recall_0: 0.3547 - Recall_1: 0.0036 - Recall_2: 0.4239 - Recall_3: 0.3252 - Recall_4: 0.5844 - val_loss: 0.8237 - val_categorical_accuracy: 0.6631 - val_precision: 0.8141 - val_recall: 0.5514 - val_f1_score: 0.3427 - val_Precision_0: 0.6170 - val_Precision_1: 0.0000e+00 - val_Precision_2: 0.2967 - val_Precision_3: 0.1291 - val_Precision_4: 0.9743 - val_Recall_0: 0.2522 - val_Recall_1: 0.0000e+00 - val_Recall_2: 0.2477 - val_Recall_3: 0.2259 - val_Recall_4: 0.5969\n",
            "Epoch 20/50\n",
            "556/556 [==============================] - 16s 29ms/step - loss: 1.0338 - categorical_accuracy: 0.5492 - precision: 0.6411 - recall: 0.3833 - f1_score: 0.5093 - Precision_0: 0.7038 - Precision_1: 0.6500 - Precision_2: 0.6277 - Precision_3: 0.5551 - Precision_4: 0.6991 - Recall_0: 0.3420 - Recall_1: 0.0071 - Recall_2: 0.4102 - Recall_3: 0.3214 - Recall_4: 0.5749 - val_loss: 0.8317 - val_categorical_accuracy: 0.6826 - val_precision: 0.8224 - val_recall: 0.5784 - val_f1_score: 0.3544 - val_Precision_0: 0.6875 - val_Precision_1: 0.0000e+00 - val_Precision_2: 0.2422 - val_Precision_3: 0.1813 - val_Precision_4: 0.9741 - val_Recall_0: 0.3826 - val_Recall_1: 0.0000e+00 - val_Recall_2: 0.3578 - val_Recall_3: 0.2922 - val_Recall_4: 0.6169\n",
            "Epoch 21/50\n",
            "556/556 [==============================] - 16s 30ms/step - loss: 1.0269 - categorical_accuracy: 0.5524 - precision: 0.6468 - recall: 0.3834 - f1_score: 0.5152 - Precision_0: 0.7024 - Precision_1: 0.5000 - Precision_2: 0.6329 - Precision_3: 0.5717 - Precision_4: 0.6934 - Recall_0: 0.3571 - Recall_1: 0.0055 - Recall_2: 0.4170 - Recall_3: 0.3012 - Recall_4: 0.5847 - val_loss: 0.9994 - val_categorical_accuracy: 0.6281 - val_precision: 0.8010 - val_recall: 0.5212 - val_f1_score: 0.3015 - val_Precision_0: 0.3942 - val_Precision_1: 0.0000e+00 - val_Precision_2: 0.1292 - val_Precision_3: 0.1632 - val_Precision_4: 0.9793 - val_Recall_0: 0.3565 - val_Recall_1: 0.0000e+00 - val_Recall_2: 0.2110 - val_Recall_3: 0.2380 - val_Recall_4: 0.5600\n",
            "Epoch 22/50\n",
            "556/556 [==============================] - 16s 29ms/step - loss: 1.0311 - categorical_accuracy: 0.5494 - precision: 0.6417 - recall: 0.3835 - f1_score: 0.5097 - Precision_0: 0.6986 - Precision_1: 0.7273 - Precision_2: 0.6295 - Precision_3: 0.5611 - Precision_4: 0.6946 - Recall_0: 0.3479 - Recall_1: 0.0044 - Recall_2: 0.4037 - Recall_3: 0.3231 - Recall_4: 0.5792 - val_loss: 0.8560 - val_categorical_accuracy: 0.6927 - val_precision: 0.8609 - val_recall: 0.5604 - val_f1_score: 0.3087 - val_Precision_0: 0.4000 - val_Precision_1: 0.0000e+00 - val_Precision_2: 0.1352 - val_Precision_3: 0.2027 - val_Precision_4: 0.9764 - val_Recall_0: 0.2435 - val_Recall_1: 0.0000e+00 - val_Recall_2: 0.3486 - val_Recall_3: 0.0904 - val_Recall_4: 0.6146\n",
            "Epoch 23/50\n",
            "556/556 [==============================] - 17s 30ms/step - loss: 1.0199 - categorical_accuracy: 0.5568 - precision: 0.6426 - recall: 0.3974 - f1_score: 0.5139 - Precision_0: 0.6943 - Precision_1: 0.5490 - Precision_2: 0.6298 - Precision_3: 0.5687 - Precision_4: 0.6942 - Recall_0: 0.3654 - Recall_1: 0.0077 - Recall_2: 0.4348 - Recall_3: 0.3357 - Recall_4: 0.5809 - val_loss: 0.9056 - val_categorical_accuracy: 0.6667 - val_precision: 0.8349 - val_recall: 0.5433 - val_f1_score: 0.3219 - val_Precision_0: 0.3214 - val_Precision_1: 0.0000e+00 - val_Precision_2: 0.1557 - val_Precision_3: 0.2169 - val_Precision_4: 0.9792 - val_Recall_0: 0.0783 - val_Recall_1: 0.0000e+00 - val_Recall_2: 0.2385 - val_Recall_3: 0.2861 - val_Recall_4: 0.5878\n",
            "Epoch 24/50\n",
            "556/556 [==============================] - 17s 30ms/step - loss: 1.0183 - categorical_accuracy: 0.5574 - precision: 0.6454 - recall: 0.3937 - f1_score: 0.5180 - Precision_0: 0.6884 - Precision_1: 0.6222 - Precision_2: 0.6319 - Precision_3: 0.5667 - Precision_4: 0.7031 - Recall_0: 0.3534 - Recall_1: 0.0077 - Recall_2: 0.4263 - Recall_3: 0.3348 - Recall_4: 0.5803 - val_loss: 0.8715 - val_categorical_accuracy: 0.6982 - val_precision: 0.8379 - val_recall: 0.5870 - val_f1_score: 0.3524 - val_Precision_0: 0.5400 - val_Precision_1: 0.0000e+00 - val_Precision_2: 0.2935 - val_Precision_3: 0.1880 - val_Precision_4: 0.9733 - val_Recall_0: 0.4696 - val_Recall_1: 0.0000e+00 - val_Recall_2: 0.2477 - val_Recall_3: 0.2831 - val_Recall_4: 0.6277\n",
            "Epoch 25/50\n",
            "556/556 [==============================] - 16s 29ms/step - loss: 1.0139 - categorical_accuracy: 0.5597 - precision: 0.6475 - recall: 0.4011 - f1_score: 0.5229 - Precision_0: 0.7018 - Precision_1: 0.5714 - Precision_2: 0.6374 - Precision_3: 0.5731 - Precision_4: 0.6954 - Recall_0: 0.3525 - Recall_1: 0.0098 - Recall_2: 0.4388 - Recall_3: 0.3330 - Recall_4: 0.5970 - val_loss: 0.8228 - val_categorical_accuracy: 0.7051 - val_precision: 0.8343 - val_recall: 0.5706 - val_f1_score: 0.3600 - val_Precision_0: 0.4815 - val_Precision_1: 0.0000e+00 - val_Precision_2: 0.2222 - val_Precision_3: 0.1589 - val_Precision_4: 0.9742 - val_Recall_0: 0.2261 - val_Recall_1: 0.0000e+00 - val_Recall_2: 0.4404 - val_Recall_3: 0.1837 - val_Recall_4: 0.6178\n",
            "Epoch 26/50\n",
            "556/556 [==============================] - 16s 29ms/step - loss: 1.0149 - categorical_accuracy: 0.5611 - precision: 0.6450 - recall: 0.3999 - f1_score: 0.5228 - Precision_0: 0.6979 - Precision_1: 0.5593 - Precision_2: 0.6342 - Precision_3: 0.5668 - Precision_4: 0.6981 - Recall_0: 0.3525 - Recall_1: 0.0090 - Recall_2: 0.4479 - Recall_3: 0.3318 - Recall_4: 0.5856 - val_loss: 0.8483 - val_categorical_accuracy: 0.6855 - val_precision: 0.8336 - val_recall: 0.5752 - val_f1_score: 0.3533 - val_Precision_0: 0.5378 - val_Precision_1: 0.0000e+00 - val_Precision_2: 0.2069 - val_Precision_3: 0.1699 - val_Precision_4: 0.9778 - val_Recall_0: 0.5565 - val_Recall_1: 0.0000e+00 - val_Recall_2: 0.2202 - val_Recall_3: 0.2410 - val_Recall_4: 0.6159\n",
            "Epoch 27/50\n",
            "556/556 [==============================] - 16s 30ms/step - loss: 1.0127 - categorical_accuracy: 0.5601 - precision: 0.6472 - recall: 0.4004 - f1_score: 0.5214 - Precision_0: 0.7042 - Precision_1: 0.5412 - Precision_2: 0.6316 - Precision_3: 0.5766 - Precision_4: 0.6979 - Recall_0: 0.3617 - Recall_1: 0.0126 - Recall_2: 0.4280 - Recall_3: 0.3426 - Recall_4: 0.5910 - val_loss: 0.9014 - val_categorical_accuracy: 0.6499 - val_precision: 0.7659 - val_recall: 0.5400 - val_f1_score: 0.3295 - val_Precision_0: 0.5333 - val_Precision_1: 0.0000e+00 - val_Precision_2: 0.1696 - val_Precision_3: 0.1513 - val_Precision_4: 0.9833 - val_Recall_0: 0.3478 - val_Recall_1: 0.0000e+00 - val_Recall_2: 0.3486 - val_Recall_3: 0.3223 - val_Recall_4: 0.5723\n",
            "Epoch 28/50\n",
            "556/556 [==============================] - 17s 30ms/step - loss: 1.0135 - categorical_accuracy: 0.5602 - precision: 0.6478 - recall: 0.4088 - f1_score: 0.5223 - Precision_0: 0.6951 - Precision_1: 0.5408 - Precision_2: 0.6364 - Precision_3: 0.5735 - Precision_4: 0.7038 - Recall_0: 0.3562 - Recall_1: 0.0145 - Recall_2: 0.4399 - Recall_3: 0.3614 - Recall_4: 0.5924 - val_loss: 0.8031 - val_categorical_accuracy: 0.6792 - val_precision: 0.8095 - val_recall: 0.5809 - val_f1_score: 0.3480 - val_Precision_0: 0.5577 - val_Precision_1: 0.0000e+00 - val_Precision_2: 0.3367 - val_Precision_3: 0.1384 - val_Precision_4: 0.9748 - val_Recall_0: 0.2522 - val_Recall_1: 0.0000e+00 - val_Recall_2: 0.3028 - val_Recall_3: 0.2681 - val_Recall_4: 0.6260\n",
            "Epoch 29/50\n",
            "556/556 [==============================] - 16s 29ms/step - loss: 1.0134 - categorical_accuracy: 0.5590 - precision: 0.6496 - recall: 0.4009 - f1_score: 0.5235 - Precision_0: 0.7018 - Precision_1: 0.5957 - Precision_2: 0.6387 - Precision_3: 0.5760 - Precision_4: 0.6986 - Recall_0: 0.3482 - Recall_1: 0.0153 - Recall_2: 0.4311 - Recall_3: 0.3374 - Recall_4: 0.5983 - val_loss: 0.7646 - val_categorical_accuracy: 0.7205 - val_precision: 0.8414 - val_recall: 0.6132 - val_f1_score: 0.3537 - val_Precision_0: 0.6538 - val_Precision_1: 0.0000e+00 - val_Precision_2: 0.2841 - val_Precision_3: 0.1629 - val_Precision_4: 0.9675 - val_Recall_0: 0.4435 - val_Recall_1: 0.0000e+00 - val_Recall_2: 0.2294 - val_Recall_3: 0.2410 - val_Recall_4: 0.6616\n",
            "Epoch 30/50\n",
            "556/556 [==============================] - 16s 30ms/step - loss: 1.0090 - categorical_accuracy: 0.5628 - precision: 0.6517 - recall: 0.4080 - f1_score: 0.5242 - Precision_0: 0.7022 - Precision_1: 0.6180 - Precision_2: 0.6365 - Precision_3: 0.5778 - Precision_4: 0.7056 - Recall_0: 0.3605 - Recall_1: 0.0150 - Recall_2: 0.4444 - Recall_3: 0.3458 - Recall_4: 0.5995 - val_loss: 0.8522 - val_categorical_accuracy: 0.6845 - val_precision: 0.8316 - val_recall: 0.5608 - val_f1_score: 0.3552 - val_Precision_0: 0.6667 - val_Precision_1: 0.0833 - val_Precision_2: 0.1856 - val_Precision_3: 0.1620 - val_Precision_4: 0.9747 - val_Recall_0: 0.2609 - val_Recall_1: 0.0156 - val_Recall_2: 0.2844 - val_Recall_3: 0.2108 - val_Recall_4: 0.6072\n",
            "Epoch 31/50\n",
            "556/556 [==============================] - 16s 29ms/step - loss: 1.0148 - categorical_accuracy: 0.5589 - precision: 0.6475 - recall: 0.4008 - f1_score: 0.5245 - Precision_0: 0.6918 - Precision_1: 0.5294 - Precision_2: 0.6340 - Precision_3: 0.5756 - Precision_4: 0.6999 - Recall_0: 0.3556 - Recall_1: 0.0172 - Recall_2: 0.4306 - Recall_3: 0.3371 - Recall_4: 0.5957 - val_loss: 0.8647 - val_categorical_accuracy: 0.6775 - val_precision: 0.8214 - val_recall: 0.5589 - val_f1_score: 0.3586 - val_Precision_0: 0.6087 - val_Precision_1: 0.0769 - val_Precision_2: 0.1643 - val_Precision_3: 0.1353 - val_Precision_4: 0.9745 - val_Recall_0: 0.4870 - val_Recall_1: 0.0156 - val_Recall_2: 0.3119 - val_Recall_3: 0.1627 - val_Recall_4: 0.6023\n",
            "Epoch 32/50\n",
            "556/556 [==============================] - 16s 30ms/step - loss: 1.0122 - categorical_accuracy: 0.5595 - precision: 0.6481 - recall: 0.4053 - f1_score: 0.5221 - Precision_0: 0.6993 - Precision_1: 0.5667 - Precision_2: 0.6338 - Precision_3: 0.5721 - Precision_4: 0.7039 - Recall_0: 0.3627 - Recall_1: 0.0279 - Recall_2: 0.4447 - Recall_3: 0.3378 - Recall_4: 0.5918 - val_loss: 0.9422 - val_categorical_accuracy: 0.6300 - val_precision: 0.7664 - val_recall: 0.5339 - val_f1_score: 0.3278 - val_Precision_0: 0.7931 - val_Precision_1: 0.0000e+00 - val_Precision_2: 0.1571 - val_Precision_3: 0.1531 - val_Precision_4: 0.9783 - val_Recall_0: 0.4000 - val_Recall_1: 0.0000e+00 - val_Recall_2: 0.2752 - val_Recall_3: 0.3404 - val_Recall_4: 0.5646\n",
            "Epoch 33/50\n",
            "556/556 [==============================] - 16s 29ms/step - loss: 1.0176 - categorical_accuracy: 0.5569 - precision: 0.6461 - recall: 0.3980 - f1_score: 0.5131 - Precision_0: 0.6983 - Precision_1: 0.6667 - Precision_2: 0.6266 - Precision_3: 0.5786 - Precision_4: 0.6960 - Recall_0: 0.3331 - Recall_1: 0.0137 - Recall_2: 0.4364 - Recall_3: 0.3306 - Recall_4: 0.5954 - val_loss: 0.8634 - val_categorical_accuracy: 0.6716 - val_precision: 0.8154 - val_recall: 0.5663 - val_f1_score: 0.3687 - val_Precision_0: 0.7143 - val_Precision_1: 0.0000e+00 - val_Precision_2: 0.2147 - val_Precision_3: 0.1467 - val_Precision_4: 0.9766 - val_Recall_0: 0.2609 - val_Recall_1: 0.0000e+00 - val_Recall_2: 0.3486 - val_Recall_3: 0.2319 - val_Recall_4: 0.6107\n"
          ]
        },
        {
          "output_type": "display_data",
          "data": {
            "text/plain": [
              "VBox(children=(Label(value='0.003 MB of 0.038 MB uploaded\\r'), FloatProgress(value=0.07087127768997266, max=1.…"
            ],
            "application/vnd.jupyter.widget-view+json": {
              "version_major": 2,
              "version_minor": 0,
              "model_id": "85f46a77b1454d43a87cd81b8e29ad73"
            }
          },
          "metadata": {}
        },
        {
          "output_type": "display_data",
          "data": {
            "text/plain": [
              "<IPython.core.display.HTML object>"
            ],
            "text/html": [
              "<style>\n",
              "    table.wandb td:nth-child(1) { padding: 0 10px; text-align: left ; width: auto;} td:nth-child(2) {text-align: left ; width: 100%}\n",
              "    .wandb-row { display: flex; flex-direction: row; flex-wrap: wrap; justify-content: flex-start; width: 100% }\n",
              "    .wandb-col { display: flex; flex-direction: column; flex-basis: 100%; flex: 1; padding: 10px; }\n",
              "    </style>\n",
              "<div class=\"wandb-row\"><div class=\"wandb-col\"><h3>Run history:</h3><br/><table class=\"wandb\"><tr><td>Precision_0</td><td>▁▁▁▁▁▇▇▇█▇███████████████████████</td></tr><tr><td>Precision_1</td><td>▁▁▁▁▁▁▁▁▁▁▁▆█▁▆▇▅▆█▇▆█▆▇▇▆▆▆▇▇▆▆▇</td></tr><tr><td>Precision_2</td><td>▁▁▁▆▇▇▇▇█████████████████████████</td></tr><tr><td>Precision_3</td><td>▁▁▁█▇▇▇▇▇████████████████████████</td></tr><tr><td>Precision_4</td><td>▁▁▇▇█████████████████████████████</td></tr><tr><td>Recall_0</td><td>▁▁▁▁▁▁▄▅▆▇▆▇▇▇▇▇█▇██████████████▇</td></tr><tr><td>Recall_1</td><td>▁▁▁▁▁▁▁▁▁▁▁▁▂▁▁▁▁▃▂▃▂▂▃▃▃▃▄▅▅▅▅█▄</td></tr><tr><td>Recall_2</td><td>▁▁▁▁▁▄▆▆▆▇▇▇▇▇▇▇▇██▇█▇███████████</td></tr><tr><td>Recall_3</td><td>▁▁▁▁▂▄▄▅▅▆▆▆▇▇▇▇▇▇▇▇▇▇█▇▇▇██████▇</td></tr><tr><td>Recall_4</td><td>▁▁▁▆▇▇▇▇▇████████████████████████</td></tr><tr><td>categorical_accuracy</td><td>▁▁▂▅▆▆▆▇▇▇▇▇█▇███████████████████</td></tr><tr><td>epoch</td><td>▁▁▁▂▂▂▂▃▃▃▃▃▄▄▄▄▅▅▅▅▅▆▆▆▆▆▇▇▇▇███</td></tr><tr><td>loss</td><td>███▅▄▃▃▂▂▂▂▂▂▂▁▁▁▁▁▁▁▁▁▁▁▁▁▁▁▁▁▁▁</td></tr><tr><td>precision</td><td>▁▁▇▇█████████████████████████████</td></tr><tr><td>recall</td><td>▁▁▁▃▄▅▆▆▆▇▇▇▇▇▇▇█████████████████</td></tr><tr><td>size_train</td><td>▁</td></tr><tr><td>val_Precision_0</td><td>▁▁▁▁▁▁▄▆▆▅▆▅▇█▇▆▇▇▆▇▄▄▄▅▅▅▅▆▆▆▆█▇</td></tr><tr><td>val_Precision_1</td><td>▁▁▁▁▁▁▁▁▁▁▁▁▁▁▁█▁▁▁▁▁▁▁▁▁▁▁▁▁▂▂▁▁</td></tr><tr><td>val_Precision_2</td><td>▁▁▁▁▆▃▅▂▂▄▄▅▅▆▆▅▇▄▇▆▄▄▄▇▆▅▅█▇▅▄▄▅</td></tr><tr><td>val_Precision_3</td><td>▁▁▁▁▃▃▃▅▅▅▅▆▇█▆▅▆▆▅▆▆▇▇▇▆▆▆▅▆▆▅▆▅</td></tr><tr><td>val_Precision_4</td><td>▁▁███████████████████████████████</td></tr><tr><td>val_Recall_0</td><td>▁▁▁▁▁▁▃▅▄▃▆▄▅▄▄▇▅▅▄▆▅▄▂▇▄█▅▄▇▄▇▆▄</td></tr><tr><td>val_Recall_1</td><td>▁▁▁▁▁▁▁▁▁▁▁▁▁▁▁█▁▁▁▁▁▁▁▁▁▁▁▁▁██▁▁</td></tr><tr><td>val_Recall_2</td><td>▁▁▁▁▂▆▅▁▂▃▃▆▄▆▄▄▆▄▅▇▄▇▅▅█▅▇▆▅▆▆▅▇</td></tr><tr><td>val_Recall_3</td><td>▁▁▁▁▂▂▁▃▅█▄▅▄▅▇▆▆▇▅▆▅▃▆▆▄▅▇▆▅▅▄▇▅</td></tr><tr><td>val_Recall_4</td><td>▁▁▆▆▆▆▇▇▆▇▇▇▇█▇▆▇▇▇█▇█▇███▇██▇▇▇▇</td></tr><tr><td>val_categorical_accuracy</td><td>█▁▅▅▅▅▆▆▅▅▆▆▇▇▆▆▆▆▆▆▆▆▆▆▇▆▆▆▇▆▆▆▆</td></tr><tr><td>val_loss</td><td>▇█▅▅▄▅▃▂▃▃▃▂▂▂▂▄▂▃▂▂▄▂▃▂▂▂▃▁▁▂▂▃▂</td></tr><tr><td>val_precision</td><td>▁▁██▇▇▇▇▇▆▇▇▇▇▇▇▇▇▇▇▇▇▇▇▇▇▆▇▇▇▇▆▇</td></tr><tr><td>val_recall</td><td>▁▁▅▆▅▆▆▇▆▇▇▇▇█▇▆▇▇▇█▇▇▇███▇██▇▇▇▇</td></tr></table><br/></div><div class=\"wandb-col\"><h3>Run summary:</h3><br/><table class=\"wandb\"><tr><td>Precision_0</td><td>0.69826</td></tr><tr><td>Precision_1</td><td>0.66667</td></tr><tr><td>Precision_2</td><td>0.62662</td></tr><tr><td>Precision_3</td><td>0.57861</td></tr><tr><td>Precision_4</td><td>0.69603</td></tr><tr><td>Recall_0</td><td>0.33313</td></tr><tr><td>Recall_1</td><td>0.01367</td></tr><tr><td>Recall_2</td><td>0.43642</td></tr><tr><td>Recall_3</td><td>0.33056</td></tr><tr><td>Recall_4</td><td>0.59541</td></tr><tr><td>best_epoch</td><td>28</td></tr><tr><td>best_val_loss</td><td>0.76461</td></tr><tr><td>categorical_accuracy</td><td>0.55691</td></tr><tr><td>epoch</td><td>32</td></tr><tr><td>loss</td><td>1.0176</td></tr><tr><td>precision</td><td>0.64607</td></tr><tr><td>recall</td><td>0.39802</td></tr><tr><td>size_train</td><td>35521</td></tr><tr><td>train_set</td><td>Prime_Pantry</td></tr><tr><td>val_Precision_0</td><td>0.71429</td></tr><tr><td>val_Precision_1</td><td>0.0</td></tr><tr><td>val_Precision_2</td><td>0.21469</td></tr><tr><td>val_Precision_3</td><td>0.14667</td></tr><tr><td>val_Precision_4</td><td>0.97656</td></tr><tr><td>val_Recall_0</td><td>0.26087</td></tr><tr><td>val_Recall_1</td><td>0.0</td></tr><tr><td>val_Recall_2</td><td>0.34862</td></tr><tr><td>val_Recall_3</td><td>0.23193</td></tr><tr><td>val_Recall_4</td><td>0.61069</td></tr><tr><td>val_categorical_accuracy</td><td>0.67161</td></tr><tr><td>val_loss</td><td>0.86344</td></tr><tr><td>val_precision</td><td>0.81544</td></tr><tr><td>val_recall</td><td>0.56627</td></tr></table><br/></div></div>"
            ]
          },
          "metadata": {}
        },
        {
          "output_type": "display_data",
          "data": {
            "text/plain": [
              "<IPython.core.display.HTML object>"
            ],
            "text/html": [
              " View run <strong style=\"color:#cdcd00\">bright-sweep-8</strong> at: <a href='https://wandb.ai/coffeegang/RNN_preliminary_tests/runs/l2lkoelh' target=\"_blank\">https://wandb.ai/coffeegang/RNN_preliminary_tests/runs/l2lkoelh</a><br/>Synced 5 W&B file(s), 1 media file(s), 0 artifact file(s) and 0 other file(s)"
            ]
          },
          "metadata": {}
        },
        {
          "output_type": "display_data",
          "data": {
            "text/plain": [
              "<IPython.core.display.HTML object>"
            ],
            "text/html": [
              "Find logs at: <code>./wandb/run-20240129_171125-l2lkoelh/logs</code>"
            ]
          },
          "metadata": {}
        },
        {
          "output_type": "stream",
          "name": "stderr",
          "text": [
            "\u001b[34m\u001b[1mwandb\u001b[0m: Agent Starting Run: 4q29k3ah with config:\n",
            "\u001b[34m\u001b[1mwandb\u001b[0m: \tRNN_layer_model: model_3\n",
            "\u001b[34m\u001b[1mwandb\u001b[0m: \tembedding_size: 32\n"
          ]
        },
        {
          "output_type": "display_data",
          "data": {
            "text/plain": [
              "<IPython.core.display.HTML object>"
            ],
            "text/html": [
              "Tracking run with wandb version 0.16.2"
            ]
          },
          "metadata": {}
        },
        {
          "output_type": "display_data",
          "data": {
            "text/plain": [
              "<IPython.core.display.HTML object>"
            ],
            "text/html": [
              "Run data is saved locally in <code>/content/gdrive/.shortcut-targets-by-id/1osKmyrDLORFSpes1mwrU-W7OXM-to6bK/AML_Exam/Problem2/wandb/run-20240129_172120-4q29k3ah</code>"
            ]
          },
          "metadata": {}
        },
        {
          "output_type": "display_data",
          "data": {
            "text/plain": [
              "<IPython.core.display.HTML object>"
            ],
            "text/html": [
              "Syncing run <strong><a href='https://wandb.ai/coffeegang/RNN_preliminary_tests/runs/4q29k3ah' target=\"_blank\">legendary-sweep-9</a></strong> to <a href='https://wandb.ai/coffeegang/RNN_preliminary_tests' target=\"_blank\">Weights & Biases</a> (<a href='https://wandb.me/run' target=\"_blank\">docs</a>)<br/>Sweep page: <a href='https://wandb.ai/coffeegang/RNN_preliminary_tests/sweeps/r8db3smm' target=\"_blank\">https://wandb.ai/coffeegang/RNN_preliminary_tests/sweeps/r8db3smm</a>"
            ]
          },
          "metadata": {}
        },
        {
          "output_type": "display_data",
          "data": {
            "text/plain": [
              "<IPython.core.display.HTML object>"
            ],
            "text/html": [
              " View project at <a href='https://wandb.ai/coffeegang/RNN_preliminary_tests' target=\"_blank\">https://wandb.ai/coffeegang/RNN_preliminary_tests</a>"
            ]
          },
          "metadata": {}
        },
        {
          "output_type": "display_data",
          "data": {
            "text/plain": [
              "<IPython.core.display.HTML object>"
            ],
            "text/html": [
              " View sweep at <a href='https://wandb.ai/coffeegang/RNN_preliminary_tests/sweeps/r8db3smm' target=\"_blank\">https://wandb.ai/coffeegang/RNN_preliminary_tests/sweeps/r8db3smm</a>"
            ]
          },
          "metadata": {}
        },
        {
          "output_type": "display_data",
          "data": {
            "text/plain": [
              "<IPython.core.display.HTML object>"
            ],
            "text/html": [
              " View run at <a href='https://wandb.ai/coffeegang/RNN_preliminary_tests/runs/4q29k3ah' target=\"_blank\">https://wandb.ai/coffeegang/RNN_preliminary_tests/runs/4q29k3ah</a>"
            ]
          },
          "metadata": {}
        },
        {
          "output_type": "stream",
          "name": "stdout",
          "text": [
            "Epoch 1/50\n",
            "556/556 [==============================] - 36s 55ms/step - loss: 1.5156 - categorical_accuracy: 0.2677 - precision: 0.0000e+00 - recall: 0.0000e+00 - f1_score: 0.1705 - Precision_0: 0.0000e+00 - Precision_1: 0.0000e+00 - Precision_2: 0.0000e+00 - Precision_3: 0.0000e+00 - Precision_4: 0.0000e+00 - Recall_0: 0.0000e+00 - Recall_1: 0.0000e+00 - Recall_2: 0.0000e+00 - Recall_3: 0.0000e+00 - Recall_4: 0.0000e+00 - val_loss: 1.3859 - val_categorical_accuracy: 0.0631 - val_precision: 0.0000e+00 - val_recall: 0.0000e+00 - val_f1_score: 0.0238 - val_Precision_0: 0.0000e+00 - val_Precision_1: 0.0000e+00 - val_Precision_2: 0.0000e+00 - val_Precision_3: 0.0000e+00 - val_Precision_4: 0.0000e+00 - val_Recall_0: 0.0000e+00 - val_Recall_1: 0.0000e+00 - val_Recall_2: 0.0000e+00 - val_Recall_3: 0.0000e+00 - val_Recall_4: 0.0000e+00\n",
            "Epoch 2/50\n",
            "556/556 [==============================] - 15s 26ms/step - loss: 1.5136 - categorical_accuracy: 0.2747 - precision: 0.0000e+00 - recall: 0.0000e+00 - f1_score: 0.1616 - Precision_0: 0.0000e+00 - Precision_1: 0.0000e+00 - Precision_2: 0.0000e+00 - Precision_3: 0.0000e+00 - Precision_4: 0.0000e+00 - Recall_0: 0.0000e+00 - Recall_1: 0.0000e+00 - Recall_2: 0.0000e+00 - Recall_3: 0.0000e+00 - Recall_4: 0.0000e+00 - val_loss: 1.3330 - val_categorical_accuracy: 0.8821 - val_precision: 0.0000e+00 - val_recall: 0.0000e+00 - val_f1_score: 0.1875 - val_Precision_0: 0.0000e+00 - val_Precision_1: 0.0000e+00 - val_Precision_2: 0.0000e+00 - val_Precision_3: 0.0000e+00 - val_Precision_4: 0.0000e+00 - val_Recall_0: 0.0000e+00 - val_Recall_1: 0.0000e+00 - val_Recall_2: 0.0000e+00 - val_Recall_3: 0.0000e+00 - val_Recall_4: 0.0000e+00\n",
            "Epoch 3/50\n",
            "556/556 [==============================] - 13s 23ms/step - loss: 1.5132 - categorical_accuracy: 0.2717 - precision: 0.0000e+00 - recall: 0.0000e+00 - f1_score: 0.1536 - Precision_0: 0.0000e+00 - Precision_1: 0.0000e+00 - Precision_2: 0.0000e+00 - Precision_3: 0.0000e+00 - Precision_4: 0.0000e+00 - Recall_0: 0.0000e+00 - Recall_1: 0.0000e+00 - Recall_2: 0.0000e+00 - Recall_3: 0.0000e+00 - Recall_4: 0.0000e+00 - val_loss: 1.3033 - val_categorical_accuracy: 0.8821 - val_precision: 0.0000e+00 - val_recall: 0.0000e+00 - val_f1_score: 0.1875 - val_Precision_0: 0.0000e+00 - val_Precision_1: 0.0000e+00 - val_Precision_2: 0.0000e+00 - val_Precision_3: 0.0000e+00 - val_Precision_4: 0.0000e+00 - val_Recall_0: 0.0000e+00 - val_Recall_1: 0.0000e+00 - val_Recall_2: 0.0000e+00 - val_Recall_3: 0.0000e+00 - val_Recall_4: 0.0000e+00\n",
            "Epoch 4/50\n",
            "556/556 [==============================] - 12s 22ms/step - loss: 1.5137 - categorical_accuracy: 0.2778 - precision: 0.0000e+00 - recall: 0.0000e+00 - f1_score: 0.1593 - Precision_0: 0.0000e+00 - Precision_1: 0.0000e+00 - Precision_2: 0.0000e+00 - Precision_3: 0.0000e+00 - Precision_4: 0.0000e+00 - Recall_0: 0.0000e+00 - Recall_1: 0.0000e+00 - Recall_2: 0.0000e+00 - Recall_3: 0.0000e+00 - Recall_4: 0.0000e+00 - val_loss: 1.2880 - val_categorical_accuracy: 0.6047 - val_precision: 0.0000e+00 - val_recall: 0.0000e+00 - val_f1_score: 0.1771 - val_Precision_0: 0.0000e+00 - val_Precision_1: 0.0000e+00 - val_Precision_2: 0.0000e+00 - val_Precision_3: 0.0000e+00 - val_Precision_4: 0.0000e+00 - val_Recall_0: 0.0000e+00 - val_Recall_1: 0.0000e+00 - val_Recall_2: 0.0000e+00 - val_Recall_3: 0.0000e+00 - val_Recall_4: 0.0000e+00\n",
            "Epoch 5/50\n",
            "556/556 [==============================] - 11s 20ms/step - loss: 1.4829 - categorical_accuracy: 0.3263 - precision: 0.5524 - recall: 0.0379 - f1_score: 0.2169 - Precision_0: 0.0000e+00 - Precision_1: 0.0000e+00 - Precision_2: 0.0000e+00 - Precision_3: 0.0000e+00 - Precision_4: 0.5524 - Recall_0: 0.0000e+00 - Recall_1: 0.0000e+00 - Recall_2: 0.0000e+00 - Recall_3: 0.0000e+00 - Recall_4: 0.1379 - val_loss: 1.3034 - val_categorical_accuracy: 0.2731 - val_precision: 0.9641 - val_recall: 0.2350 - val_f1_score: 0.1198 - val_Precision_0: 0.0000e+00 - val_Precision_1: 0.0000e+00 - val_Precision_2: 0.0000e+00 - val_Precision_3: 0.0000e+00 - val_Precision_4: 0.9641 - val_Recall_0: 0.0000e+00 - val_Recall_1: 0.0000e+00 - val_Recall_2: 0.0000e+00 - val_Recall_3: 0.0000e+00 - val_Recall_4: 0.2664\n",
            "Epoch 6/50\n",
            "556/556 [==============================] - 12s 22ms/step - loss: 1.4698 - categorical_accuracy: 0.3434 - precision: 0.5592 - recall: 0.0828 - f1_score: 0.2292 - Precision_0: 0.0000e+00 - Precision_1: 0.0000e+00 - Precision_2: 0.0000e+00 - Precision_3: 0.0000e+00 - Precision_4: 0.5592 - Recall_0: 0.0000e+00 - Recall_1: 0.0000e+00 - Recall_2: 0.0000e+00 - Recall_3: 0.0000e+00 - Recall_4: 0.3017 - val_loss: 1.2667 - val_categorical_accuracy: 0.2932 - val_precision: 0.9615 - val_recall: 0.2567 - val_f1_score: 0.1251 - val_Precision_0: 0.0000e+00 - val_Precision_1: 0.0000e+00 - val_Precision_2: 0.0000e+00 - val_Precision_3: 0.0000e+00 - val_Precision_4: 0.9615 - val_Recall_0: 0.0000e+00 - val_Recall_1: 0.0000e+00 - val_Recall_2: 0.0000e+00 - val_Recall_3: 0.0000e+00 - val_Recall_4: 0.2910\n",
            "Epoch 7/50\n",
            "556/556 [==============================] - 12s 21ms/step - loss: 1.4719 - categorical_accuracy: 0.3340 - precision: 0.5508 - recall: 0.0846 - f1_score: 0.2241 - Precision_0: 0.0000e+00 - Precision_1: 0.0000e+00 - Precision_2: 0.0000e+00 - Precision_3: 0.0000e+00 - Precision_4: 0.5508 - Recall_0: 0.0000e+00 - Recall_1: 0.0000e+00 - Recall_2: 0.0000e+00 - Recall_3: 0.0000e+00 - Recall_4: 0.3080 - val_loss: 1.2899 - val_categorical_accuracy: 0.3082 - val_precision: 0.9609 - val_recall: 0.2615 - val_f1_score: 0.1317 - val_Precision_0: 0.0000e+00 - val_Precision_1: 0.0000e+00 - val_Precision_2: 0.0000e+00 - val_Precision_3: 0.0000e+00 - val_Precision_4: 0.9609 - val_Recall_0: 0.0000e+00 - val_Recall_1: 0.0000e+00 - val_Recall_2: 0.0000e+00 - val_Recall_3: 0.0000e+00 - val_Recall_4: 0.2964\n",
            "Epoch 8/50\n",
            "556/556 [==============================] - 12s 22ms/step - loss: 1.4718 - categorical_accuracy: 0.3294 - precision: 0.5458 - recall: 0.0854 - f1_score: 0.2216 - Precision_0: 0.0000e+00 - Precision_1: 0.0000e+00 - Precision_2: 0.0000e+00 - Precision_3: 0.0000e+00 - Precision_4: 0.5458 - Recall_0: 0.0000e+00 - Recall_1: 0.0000e+00 - Recall_2: 0.0000e+00 - Recall_3: 0.0000e+00 - Recall_4: 0.3109 - val_loss: 1.2575 - val_categorical_accuracy: 0.3075 - val_precision: 0.9608 - val_recall: 0.2607 - val_f1_score: 0.1314 - val_Precision_0: 0.0000e+00 - val_Precision_1: 0.0000e+00 - val_Precision_2: 0.0000e+00 - val_Precision_3: 0.0000e+00 - val_Precision_4: 0.9608 - val_Recall_0: 0.0000e+00 - val_Recall_1: 0.0000e+00 - val_Recall_2: 0.0000e+00 - val_Recall_3: 0.0000e+00 - val_Recall_4: 0.2955\n",
            "Epoch 9/50\n",
            "556/556 [==============================] - 11s 20ms/step - loss: 1.4711 - categorical_accuracy: 0.3274 - precision: 0.5468 - recall: 0.0870 - f1_score: 0.2201 - Precision_0: 0.0000e+00 - Precision_1: 0.0000e+00 - Precision_2: 0.0000e+00 - Precision_3: 0.0000e+00 - Precision_4: 0.5468 - Recall_0: 0.0000e+00 - Recall_1: 0.0000e+00 - Recall_2: 0.0000e+00 - Recall_3: 0.0000e+00 - Recall_4: 0.3167 - val_loss: 1.2353 - val_categorical_accuracy: 0.3035 - val_precision: 0.9602 - val_recall: 0.2567 - val_f1_score: 0.1302 - val_Precision_0: 0.0000e+00 - val_Precision_1: 0.0000e+00 - val_Precision_2: 0.0000e+00 - val_Precision_3: 0.0000e+00 - val_Precision_4: 0.9602 - val_Recall_0: 0.0000e+00 - val_Recall_1: 0.0000e+00 - val_Recall_2: 0.0000e+00 - val_Recall_3: 0.0000e+00 - val_Recall_4: 0.2910\n"
          ]
        },
        {
          "output_type": "display_data",
          "data": {
            "text/plain": [
              "VBox(children=(Label(value='0.003 MB of 0.003 MB uploaded\\r'), FloatProgress(value=1.0, max=1.0)))"
            ],
            "application/vnd.jupyter.widget-view+json": {
              "version_major": 2,
              "version_minor": 0,
              "model_id": "31c2db33c6e0426c8f7feab803d99329"
            }
          },
          "metadata": {}
        },
        {
          "output_type": "display_data",
          "data": {
            "text/plain": [
              "<IPython.core.display.HTML object>"
            ],
            "text/html": [
              "<style>\n",
              "    table.wandb td:nth-child(1) { padding: 0 10px; text-align: left ; width: auto;} td:nth-child(2) {text-align: left ; width: 100%}\n",
              "    .wandb-row { display: flex; flex-direction: row; flex-wrap: wrap; justify-content: flex-start; width: 100% }\n",
              "    .wandb-col { display: flex; flex-direction: column; flex-basis: 100%; flex: 1; padding: 10px; }\n",
              "    </style>\n",
              "<div class=\"wandb-row\"><div class=\"wandb-col\"><h3>Run history:</h3><br/><table class=\"wandb\"><tr><td>Precision_0</td><td>▁▁▁▁▁▁▁▁▁</td></tr><tr><td>Precision_1</td><td>▁▁▁▁▁▁▁▁▁</td></tr><tr><td>Precision_2</td><td>▁▁▁▁▁▁▁▁▁</td></tr><tr><td>Precision_3</td><td>▁▁▁▁▁▁▁▁▁</td></tr><tr><td>Precision_4</td><td>▁▁▁▁█████</td></tr><tr><td>Recall_0</td><td>▁▁▁▁▁▁▁▁▁</td></tr><tr><td>Recall_1</td><td>▁▁▁▁▁▁▁▁▁</td></tr><tr><td>Recall_2</td><td>▁▁▁▁▁▁▁▁▁</td></tr><tr><td>Recall_3</td><td>▁▁▁▁▁▁▁▁▁</td></tr><tr><td>Recall_4</td><td>▁▁▁▁▄████</td></tr><tr><td>categorical_accuracy</td><td>▁▂▁▂▆█▇▇▇</td></tr><tr><td>epoch</td><td>▁▂▃▄▅▅▆▇█</td></tr><tr><td>loss</td><td>████▃▁▁▁▁</td></tr><tr><td>precision</td><td>▁▁▁▁█████</td></tr><tr><td>recall</td><td>▁▁▁▁▄████</td></tr><tr><td>size_train</td><td>▁</td></tr><tr><td>val_Precision_0</td><td>▁▁▁▁▁▁▁▁▁</td></tr><tr><td>val_Precision_1</td><td>▁▁▁▁▁▁▁▁▁</td></tr><tr><td>val_Precision_2</td><td>▁▁▁▁▁▁▁▁▁</td></tr><tr><td>val_Precision_3</td><td>▁▁▁▁▁▁▁▁▁</td></tr><tr><td>val_Precision_4</td><td>▁▁▁▁█████</td></tr><tr><td>val_Recall_0</td><td>▁▁▁▁▁▁▁▁▁</td></tr><tr><td>val_Recall_1</td><td>▁▁▁▁▁▁▁▁▁</td></tr><tr><td>val_Recall_2</td><td>▁▁▁▁▁▁▁▁▁</td></tr><tr><td>val_Recall_3</td><td>▁▁▁▁▁▁▁▁▁</td></tr><tr><td>val_Recall_4</td><td>▁▁▁▁▇████</td></tr><tr><td>val_categorical_accuracy</td><td>▁██▆▃▃▃▃▃</td></tr><tr><td>val_loss</td><td>█▆▄▃▄▂▄▂▁</td></tr><tr><td>val_precision</td><td>▁▁▁▁█████</td></tr><tr><td>val_recall</td><td>▁▁▁▁▇████</td></tr></table><br/></div><div class=\"wandb-col\"><h3>Run summary:</h3><br/><table class=\"wandb\"><tr><td>Precision_0</td><td>0.0</td></tr><tr><td>Precision_1</td><td>0.0</td></tr><tr><td>Precision_2</td><td>0.0</td></tr><tr><td>Precision_3</td><td>0.0</td></tr><tr><td>Precision_4</td><td>0.54682</td></tr><tr><td>Recall_0</td><td>0.0</td></tr><tr><td>Recall_1</td><td>0.0</td></tr><tr><td>Recall_2</td><td>0.0</td></tr><tr><td>Recall_3</td><td>0.0</td></tr><tr><td>Recall_4</td><td>0.31672</td></tr><tr><td>best_epoch</td><td>8</td></tr><tr><td>best_val_loss</td><td>1.23534</td></tr><tr><td>categorical_accuracy</td><td>0.32736</td></tr><tr><td>epoch</td><td>8</td></tr><tr><td>loss</td><td>1.47108</td></tr><tr><td>precision</td><td>0.54682</td></tr><tr><td>recall</td><td>0.08696</td></tr><tr><td>size_train</td><td>35521</td></tr><tr><td>train_set</td><td>Prime_Pantry</td></tr><tr><td>val_Precision_0</td><td>0.0</td></tr><tr><td>val_Precision_1</td><td>0.0</td></tr><tr><td>val_Precision_2</td><td>0.0</td></tr><tr><td>val_Precision_3</td><td>0.0</td></tr><tr><td>val_Precision_4</td><td>0.96017</td></tr><tr><td>val_Recall_0</td><td>0.0</td></tr><tr><td>val_Recall_1</td><td>0.0</td></tr><tr><td>val_Recall_2</td><td>0.0</td></tr><tr><td>val_Recall_3</td><td>0.0</td></tr><tr><td>val_Recall_4</td><td>0.29101</td></tr><tr><td>val_categorical_accuracy</td><td>0.30348</td></tr><tr><td>val_loss</td><td>1.23534</td></tr><tr><td>val_precision</td><td>0.96017</td></tr><tr><td>val_recall</td><td>0.2567</td></tr></table><br/></div></div>"
            ]
          },
          "metadata": {}
        },
        {
          "output_type": "display_data",
          "data": {
            "text/plain": [
              "<IPython.core.display.HTML object>"
            ],
            "text/html": [
              " View run <strong style=\"color:#cdcd00\">legendary-sweep-9</strong> at: <a href='https://wandb.ai/coffeegang/RNN_preliminary_tests/runs/4q29k3ah' target=\"_blank\">https://wandb.ai/coffeegang/RNN_preliminary_tests/runs/4q29k3ah</a><br/>Synced 5 W&B file(s), 1 media file(s), 0 artifact file(s) and 0 other file(s)"
            ]
          },
          "metadata": {}
        },
        {
          "output_type": "display_data",
          "data": {
            "text/plain": [
              "<IPython.core.display.HTML object>"
            ],
            "text/html": [
              "Find logs at: <code>./wandb/run-20240129_172120-4q29k3ah/logs</code>"
            ]
          },
          "metadata": {}
        },
        {
          "output_type": "stream",
          "name": "stderr",
          "text": [
            "\u001b[34m\u001b[1mwandb\u001b[0m: Agent Starting Run: 1lybarc5 with config:\n",
            "\u001b[34m\u001b[1mwandb\u001b[0m: \tRNN_layer_model: model_3\n",
            "\u001b[34m\u001b[1mwandb\u001b[0m: \tembedding_size: 64\n"
          ]
        },
        {
          "output_type": "display_data",
          "data": {
            "text/plain": [
              "<IPython.core.display.HTML object>"
            ],
            "text/html": [
              "Tracking run with wandb version 0.16.2"
            ]
          },
          "metadata": {}
        },
        {
          "output_type": "display_data",
          "data": {
            "text/plain": [
              "<IPython.core.display.HTML object>"
            ],
            "text/html": [
              "Run data is saved locally in <code>/content/gdrive/.shortcut-targets-by-id/1osKmyrDLORFSpes1mwrU-W7OXM-to6bK/AML_Exam/Problem2/wandb/run-20240129_172349-1lybarc5</code>"
            ]
          },
          "metadata": {}
        },
        {
          "output_type": "display_data",
          "data": {
            "text/plain": [
              "<IPython.core.display.HTML object>"
            ],
            "text/html": [
              "Syncing run <strong><a href='https://wandb.ai/coffeegang/RNN_preliminary_tests/runs/1lybarc5' target=\"_blank\">devoted-sweep-10</a></strong> to <a href='https://wandb.ai/coffeegang/RNN_preliminary_tests' target=\"_blank\">Weights & Biases</a> (<a href='https://wandb.me/run' target=\"_blank\">docs</a>)<br/>Sweep page: <a href='https://wandb.ai/coffeegang/RNN_preliminary_tests/sweeps/r8db3smm' target=\"_blank\">https://wandb.ai/coffeegang/RNN_preliminary_tests/sweeps/r8db3smm</a>"
            ]
          },
          "metadata": {}
        },
        {
          "output_type": "display_data",
          "data": {
            "text/plain": [
              "<IPython.core.display.HTML object>"
            ],
            "text/html": [
              " View project at <a href='https://wandb.ai/coffeegang/RNN_preliminary_tests' target=\"_blank\">https://wandb.ai/coffeegang/RNN_preliminary_tests</a>"
            ]
          },
          "metadata": {}
        },
        {
          "output_type": "display_data",
          "data": {
            "text/plain": [
              "<IPython.core.display.HTML object>"
            ],
            "text/html": [
              " View sweep at <a href='https://wandb.ai/coffeegang/RNN_preliminary_tests/sweeps/r8db3smm' target=\"_blank\">https://wandb.ai/coffeegang/RNN_preliminary_tests/sweeps/r8db3smm</a>"
            ]
          },
          "metadata": {}
        },
        {
          "output_type": "display_data",
          "data": {
            "text/plain": [
              "<IPython.core.display.HTML object>"
            ],
            "text/html": [
              " View run at <a href='https://wandb.ai/coffeegang/RNN_preliminary_tests/runs/1lybarc5' target=\"_blank\">https://wandb.ai/coffeegang/RNN_preliminary_tests/runs/1lybarc5</a>"
            ]
          },
          "metadata": {}
        },
        {
          "output_type": "stream",
          "name": "stdout",
          "text": [
            "Epoch 1/50\n",
            "556/556 [==============================] - 37s 55ms/step - loss: 1.5145 - categorical_accuracy: 0.2733 - precision: 0.0000e+00 - recall: 0.0000e+00 - f1_score: 0.1699 - Precision_0: 0.0000e+00 - Precision_1: 0.0000e+00 - Precision_2: 0.0000e+00 - Precision_3: 0.0000e+00 - Precision_4: 0.0000e+00 - Recall_0: 0.0000e+00 - Recall_1: 0.0000e+00 - Recall_2: 0.0000e+00 - Recall_3: 0.0000e+00 - Recall_4: 0.0000e+00 - val_loss: 1.3148 - val_categorical_accuracy: 0.8821 - val_precision: 0.0000e+00 - val_recall: 0.0000e+00 - val_f1_score: 0.1875 - val_Precision_0: 0.0000e+00 - val_Precision_1: 0.0000e+00 - val_Precision_2: 0.0000e+00 - val_Precision_3: 0.0000e+00 - val_Precision_4: 0.0000e+00 - val_Recall_0: 0.0000e+00 - val_Recall_1: 0.0000e+00 - val_Recall_2: 0.0000e+00 - val_Recall_3: 0.0000e+00 - val_Recall_4: 0.0000e+00\n",
            "Epoch 2/50\n",
            "556/556 [==============================] - 14s 26ms/step - loss: 1.5131 - categorical_accuracy: 0.2746 - precision: 0.0000e+00 - recall: 0.0000e+00 - f1_score: 0.1622 - Precision_0: 0.0000e+00 - Precision_1: 0.0000e+00 - Precision_2: 0.0000e+00 - Precision_3: 0.0000e+00 - Precision_4: 0.0000e+00 - Recall_0: 0.0000e+00 - Recall_1: 0.0000e+00 - Recall_2: 0.0000e+00 - Recall_3: 0.0000e+00 - Recall_4: 0.0000e+00 - val_loss: 1.3491 - val_categorical_accuracy: 0.0207 - val_precision: 0.0000e+00 - val_recall: 0.0000e+00 - val_f1_score: 0.0081 - val_Precision_0: 0.0000e+00 - val_Precision_1: 0.0000e+00 - val_Precision_2: 0.0000e+00 - val_Precision_3: 0.0000e+00 - val_Precision_4: 0.0000e+00 - val_Recall_0: 0.0000e+00 - val_Recall_1: 0.0000e+00 - val_Recall_2: 0.0000e+00 - val_Recall_3: 0.0000e+00 - val_Recall_4: 0.0000e+00\n",
            "Epoch 3/50\n",
            "556/556 [==============================] - 13s 24ms/step - loss: 1.5127 - categorical_accuracy: 0.2710 - precision: 0.0000e+00 - recall: 0.0000e+00 - f1_score: 0.1684 - Precision_0: 0.0000e+00 - Precision_1: 0.0000e+00 - Precision_2: 0.0000e+00 - Precision_3: 0.0000e+00 - Precision_4: 0.0000e+00 - Recall_0: 0.0000e+00 - Recall_1: 0.0000e+00 - Recall_2: 0.0000e+00 - Recall_3: 0.0000e+00 - Recall_4: 0.0000e+00 - val_loss: 1.3093 - val_categorical_accuracy: 0.8821 - val_precision: 0.0000e+00 - val_recall: 0.0000e+00 - val_f1_score: 0.1875 - val_Precision_0: 0.0000e+00 - val_Precision_1: 0.0000e+00 - val_Precision_2: 0.0000e+00 - val_Precision_3: 0.0000e+00 - val_Precision_4: 0.0000e+00 - val_Recall_0: 0.0000e+00 - val_Recall_1: 0.0000e+00 - val_Recall_2: 0.0000e+00 - val_Recall_3: 0.0000e+00 - val_Recall_4: 0.0000e+00\n",
            "Epoch 4/50\n",
            "556/556 [==============================] - 13s 23ms/step - loss: 1.5130 - categorical_accuracy: 0.2721 - precision: 0.0000e+00 - recall: 0.0000e+00 - f1_score: 0.1552 - Precision_0: 0.0000e+00 - Precision_1: 0.0000e+00 - Precision_2: 0.0000e+00 - Precision_3: 0.0000e+00 - Precision_4: 0.0000e+00 - Recall_0: 0.0000e+00 - Recall_1: 0.0000e+00 - Recall_2: 0.0000e+00 - Recall_3: 0.0000e+00 - Recall_4: 0.0000e+00 - val_loss: 1.3651 - val_categorical_accuracy: 0.0631 - val_precision: 0.0000e+00 - val_recall: 0.0000e+00 - val_f1_score: 0.0238 - val_Precision_0: 0.0000e+00 - val_Precision_1: 0.0000e+00 - val_Precision_2: 0.0000e+00 - val_Precision_3: 0.0000e+00 - val_Precision_4: 0.0000e+00 - val_Recall_0: 0.0000e+00 - val_Recall_1: 0.0000e+00 - val_Recall_2: 0.0000e+00 - val_Recall_3: 0.0000e+00 - val_Recall_4: 0.0000e+00\n",
            "Epoch 5/50\n",
            "556/556 [==============================] - 12s 21ms/step - loss: 1.5129 - categorical_accuracy: 0.2704 - precision: 0.0000e+00 - recall: 0.0000e+00 - f1_score: 0.1443 - Precision_0: 0.0000e+00 - Precision_1: 0.0000e+00 - Precision_2: 0.0000e+00 - Precision_3: 0.0000e+00 - Precision_4: 0.0000e+00 - Recall_0: 0.0000e+00 - Recall_1: 0.0000e+00 - Recall_2: 0.0000e+00 - Recall_3: 0.0000e+00 - Recall_4: 0.0000e+00 - val_loss: 1.3043 - val_categorical_accuracy: 0.8821 - val_precision: 0.0000e+00 - val_recall: 0.0000e+00 - val_f1_score: 0.1875 - val_Precision_0: 0.0000e+00 - val_Precision_1: 0.0000e+00 - val_Precision_2: 0.0000e+00 - val_Precision_3: 0.0000e+00 - val_Precision_4: 0.0000e+00 - val_Recall_0: 0.0000e+00 - val_Recall_1: 0.0000e+00 - val_Recall_2: 0.0000e+00 - val_Recall_3: 0.0000e+00 - val_Recall_4: 0.0000e+00\n",
            "Epoch 6/50\n",
            "556/556 [==============================] - 12s 21ms/step - loss: 1.5128 - categorical_accuracy: 0.2737 - precision: 0.0000e+00 - recall: 0.0000e+00 - f1_score: 0.1604 - Precision_0: 0.0000e+00 - Precision_1: 0.0000e+00 - Precision_2: 0.0000e+00 - Precision_3: 0.0000e+00 - Precision_4: 0.0000e+00 - Recall_0: 0.0000e+00 - Recall_1: 0.0000e+00 - Recall_2: 0.0000e+00 - Recall_3: 0.0000e+00 - Recall_4: 0.0000e+00 - val_loss: 1.2736 - val_categorical_accuracy: 0.8821 - val_precision: 0.0000e+00 - val_recall: 0.0000e+00 - val_f1_score: 0.1875 - val_Precision_0: 0.0000e+00 - val_Precision_1: 0.0000e+00 - val_Precision_2: 0.0000e+00 - val_Precision_3: 0.0000e+00 - val_Precision_4: 0.0000e+00 - val_Recall_0: 0.0000e+00 - val_Recall_1: 0.0000e+00 - val_Recall_2: 0.0000e+00 - val_Recall_3: 0.0000e+00 - val_Recall_4: 0.0000e+00\n"
          ]
        },
        {
          "output_type": "display_data",
          "data": {
            "text/plain": [
              "VBox(children=(Label(value='0.003 MB of 0.003 MB uploaded\\r'), FloatProgress(value=1.0, max=1.0)))"
            ],
            "application/vnd.jupyter.widget-view+json": {
              "version_major": 2,
              "version_minor": 0,
              "model_id": "5f90d36ca24e423badf92abc24d3a58e"
            }
          },
          "metadata": {}
        },
        {
          "output_type": "display_data",
          "data": {
            "text/plain": [
              "<IPython.core.display.HTML object>"
            ],
            "text/html": [
              "<style>\n",
              "    table.wandb td:nth-child(1) { padding: 0 10px; text-align: left ; width: auto;} td:nth-child(2) {text-align: left ; width: 100%}\n",
              "    .wandb-row { display: flex; flex-direction: row; flex-wrap: wrap; justify-content: flex-start; width: 100% }\n",
              "    .wandb-col { display: flex; flex-direction: column; flex-basis: 100%; flex: 1; padding: 10px; }\n",
              "    </style>\n",
              "<div class=\"wandb-row\"><div class=\"wandb-col\"><h3>Run history:</h3><br/><table class=\"wandb\"><tr><td>Precision_0</td><td>▁▁▁▁▁▁</td></tr><tr><td>Precision_1</td><td>▁▁▁▁▁▁</td></tr><tr><td>Precision_2</td><td>▁▁▁▁▁▁</td></tr><tr><td>Precision_3</td><td>▁▁▁▁▁▁</td></tr><tr><td>Precision_4</td><td>▁▁▁▁▁▁</td></tr><tr><td>Recall_0</td><td>▁▁▁▁▁▁</td></tr><tr><td>Recall_1</td><td>▁▁▁▁▁▁</td></tr><tr><td>Recall_2</td><td>▁▁▁▁▁▁</td></tr><tr><td>Recall_3</td><td>▁▁▁▁▁▁</td></tr><tr><td>Recall_4</td><td>▁▁▁▁▁▁</td></tr><tr><td>categorical_accuracy</td><td>▆█▂▄▁▆</td></tr><tr><td>epoch</td><td>▁▂▄▅▇█</td></tr><tr><td>loss</td><td>█▂▁▂▂▁</td></tr><tr><td>precision</td><td>▁▁▁▁▁▁</td></tr><tr><td>recall</td><td>▁▁▁▁▁▁</td></tr><tr><td>size_train</td><td>▁</td></tr><tr><td>val_Precision_0</td><td>▁▁▁▁▁▁</td></tr><tr><td>val_Precision_1</td><td>▁▁▁▁▁▁</td></tr><tr><td>val_Precision_2</td><td>▁▁▁▁▁▁</td></tr><tr><td>val_Precision_3</td><td>▁▁▁▁▁▁</td></tr><tr><td>val_Precision_4</td><td>▁▁▁▁▁▁</td></tr><tr><td>val_Recall_0</td><td>▁▁▁▁▁▁</td></tr><tr><td>val_Recall_1</td><td>▁▁▁▁▁▁</td></tr><tr><td>val_Recall_2</td><td>▁▁▁▁▁▁</td></tr><tr><td>val_Recall_3</td><td>▁▁▁▁▁▁</td></tr><tr><td>val_Recall_4</td><td>▁▁▁▁▁▁</td></tr><tr><td>val_categorical_accuracy</td><td>█▁█▁██</td></tr><tr><td>val_loss</td><td>▄▇▄█▃▁</td></tr><tr><td>val_precision</td><td>▁▁▁▁▁▁</td></tr><tr><td>val_recall</td><td>▁▁▁▁▁▁</td></tr></table><br/></div><div class=\"wandb-col\"><h3>Run summary:</h3><br/><table class=\"wandb\"><tr><td>Precision_0</td><td>0.0</td></tr><tr><td>Precision_1</td><td>0.0</td></tr><tr><td>Precision_2</td><td>0.0</td></tr><tr><td>Precision_3</td><td>0.0</td></tr><tr><td>Precision_4</td><td>0.0</td></tr><tr><td>Recall_0</td><td>0.0</td></tr><tr><td>Recall_1</td><td>0.0</td></tr><tr><td>Recall_2</td><td>0.0</td></tr><tr><td>Recall_3</td><td>0.0</td></tr><tr><td>Recall_4</td><td>0.0</td></tr><tr><td>best_epoch</td><td>5</td></tr><tr><td>best_val_loss</td><td>1.27356</td></tr><tr><td>categorical_accuracy</td><td>0.27367</td></tr><tr><td>epoch</td><td>5</td></tr><tr><td>loss</td><td>1.51275</td></tr><tr><td>precision</td><td>0.0</td></tr><tr><td>recall</td><td>0.0</td></tr><tr><td>size_train</td><td>35521</td></tr><tr><td>train_set</td><td>Prime_Pantry</td></tr><tr><td>val_Precision_0</td><td>0.0</td></tr><tr><td>val_Precision_1</td><td>0.0</td></tr><tr><td>val_Precision_2</td><td>0.0</td></tr><tr><td>val_Precision_3</td><td>0.0</td></tr><tr><td>val_Precision_4</td><td>0.0</td></tr><tr><td>val_Recall_0</td><td>0.0</td></tr><tr><td>val_Recall_1</td><td>0.0</td></tr><tr><td>val_Recall_2</td><td>0.0</td></tr><tr><td>val_Recall_3</td><td>0.0</td></tr><tr><td>val_Recall_4</td><td>0.0</td></tr><tr><td>val_categorical_accuracy</td><td>0.88211</td></tr><tr><td>val_loss</td><td>1.27356</td></tr><tr><td>val_precision</td><td>0.0</td></tr><tr><td>val_recall</td><td>0.0</td></tr></table><br/></div></div>"
            ]
          },
          "metadata": {}
        },
        {
          "output_type": "display_data",
          "data": {
            "text/plain": [
              "<IPython.core.display.HTML object>"
            ],
            "text/html": [
              " View run <strong style=\"color:#cdcd00\">devoted-sweep-10</strong> at: <a href='https://wandb.ai/coffeegang/RNN_preliminary_tests/runs/1lybarc5' target=\"_blank\">https://wandb.ai/coffeegang/RNN_preliminary_tests/runs/1lybarc5</a><br/>Synced 5 W&B file(s), 1 media file(s), 0 artifact file(s) and 0 other file(s)"
            ]
          },
          "metadata": {}
        },
        {
          "output_type": "display_data",
          "data": {
            "text/plain": [
              "<IPython.core.display.HTML object>"
            ],
            "text/html": [
              "Find logs at: <code>./wandb/run-20240129_172349-1lybarc5/logs</code>"
            ]
          },
          "metadata": {}
        },
        {
          "output_type": "stream",
          "name": "stderr",
          "text": [
            "\u001b[34m\u001b[1mwandb\u001b[0m: Sweep Agent: Waiting for job.\n",
            "\u001b[34m\u001b[1mwandb\u001b[0m: Job received.\n",
            "\u001b[34m\u001b[1mwandb\u001b[0m: Agent Starting Run: 5dx11tgl with config:\n",
            "\u001b[34m\u001b[1mwandb\u001b[0m: \tRNN_layer_model: model_3\n",
            "\u001b[34m\u001b[1mwandb\u001b[0m: \tembedding_size: 128\n"
          ]
        },
        {
          "output_type": "display_data",
          "data": {
            "text/plain": [
              "<IPython.core.display.HTML object>"
            ],
            "text/html": [
              "Tracking run with wandb version 0.16.2"
            ]
          },
          "metadata": {}
        },
        {
          "output_type": "display_data",
          "data": {
            "text/plain": [
              "<IPython.core.display.HTML object>"
            ],
            "text/html": [
              "Run data is saved locally in <code>/content/gdrive/.shortcut-targets-by-id/1osKmyrDLORFSpes1mwrU-W7OXM-to6bK/AML_Exam/Problem2/wandb/run-20240129_172551-5dx11tgl</code>"
            ]
          },
          "metadata": {}
        },
        {
          "output_type": "display_data",
          "data": {
            "text/plain": [
              "<IPython.core.display.HTML object>"
            ],
            "text/html": [
              "Syncing run <strong><a href='https://wandb.ai/coffeegang/RNN_preliminary_tests/runs/5dx11tgl' target=\"_blank\">misunderstood-sweep-11</a></strong> to <a href='https://wandb.ai/coffeegang/RNN_preliminary_tests' target=\"_blank\">Weights & Biases</a> (<a href='https://wandb.me/run' target=\"_blank\">docs</a>)<br/>Sweep page: <a href='https://wandb.ai/coffeegang/RNN_preliminary_tests/sweeps/r8db3smm' target=\"_blank\">https://wandb.ai/coffeegang/RNN_preliminary_tests/sweeps/r8db3smm</a>"
            ]
          },
          "metadata": {}
        },
        {
          "output_type": "display_data",
          "data": {
            "text/plain": [
              "<IPython.core.display.HTML object>"
            ],
            "text/html": [
              " View project at <a href='https://wandb.ai/coffeegang/RNN_preliminary_tests' target=\"_blank\">https://wandb.ai/coffeegang/RNN_preliminary_tests</a>"
            ]
          },
          "metadata": {}
        },
        {
          "output_type": "display_data",
          "data": {
            "text/plain": [
              "<IPython.core.display.HTML object>"
            ],
            "text/html": [
              " View sweep at <a href='https://wandb.ai/coffeegang/RNN_preliminary_tests/sweeps/r8db3smm' target=\"_blank\">https://wandb.ai/coffeegang/RNN_preliminary_tests/sweeps/r8db3smm</a>"
            ]
          },
          "metadata": {}
        },
        {
          "output_type": "display_data",
          "data": {
            "text/plain": [
              "<IPython.core.display.HTML object>"
            ],
            "text/html": [
              " View run at <a href='https://wandb.ai/coffeegang/RNN_preliminary_tests/runs/5dx11tgl' target=\"_blank\">https://wandb.ai/coffeegang/RNN_preliminary_tests/runs/5dx11tgl</a>"
            ]
          },
          "metadata": {}
        },
        {
          "output_type": "stream",
          "name": "stdout",
          "text": [
            "Epoch 1/50\n",
            "556/556 [==============================] - 36s 55ms/step - loss: 1.5158 - categorical_accuracy: 0.2707 - precision: 0.0000e+00 - recall: 0.0000e+00 - f1_score: 0.1720 - Precision_0: 0.0000e+00 - Precision_1: 0.0000e+00 - Precision_2: 0.0000e+00 - Precision_3: 0.0000e+00 - Precision_4: 0.0000e+00 - Recall_0: 0.0000e+00 - Recall_1: 0.0000e+00 - Recall_2: 0.0000e+00 - Recall_3: 0.0000e+00 - Recall_4: 0.0000e+00 - val_loss: 1.3433 - val_categorical_accuracy: 0.1964 - val_precision: 0.0000e+00 - val_recall: 0.0000e+00 - val_f1_score: 0.0782 - val_Precision_0: 0.0000e+00 - val_Precision_1: 0.0000e+00 - val_Precision_2: 0.0000e+00 - val_Precision_3: 0.0000e+00 - val_Precision_4: 0.0000e+00 - val_Recall_0: 0.0000e+00 - val_Recall_1: 0.0000e+00 - val_Recall_2: 0.0000e+00 - val_Recall_3: 0.0000e+00 - val_Recall_4: 0.0000e+00\n",
            "Epoch 2/50\n",
            "556/556 [==============================] - 15s 26ms/step - loss: 1.5132 - categorical_accuracy: 0.2766 - precision: 0.0000e+00 - recall: 0.0000e+00 - f1_score: 0.1554 - Precision_0: 0.0000e+00 - Precision_1: 0.0000e+00 - Precision_2: 0.0000e+00 - Precision_3: 0.0000e+00 - Precision_4: 0.0000e+00 - Recall_0: 0.0000e+00 - Recall_1: 0.0000e+00 - Recall_2: 0.0000e+00 - Recall_3: 0.0000e+00 - Recall_4: 0.0000e+00 - val_loss: 1.3548 - val_categorical_accuracy: 0.7423 - val_precision: 0.0000e+00 - val_recall: 0.0000e+00 - val_f1_score: 0.1821 - val_Precision_0: 0.0000e+00 - val_Precision_1: 0.0000e+00 - val_Precision_2: 0.0000e+00 - val_Precision_3: 0.0000e+00 - val_Precision_4: 0.0000e+00 - val_Recall_0: 0.0000e+00 - val_Recall_1: 0.0000e+00 - val_Recall_2: 0.0000e+00 - val_Recall_3: 0.0000e+00 - val_Recall_4: 0.0000e+00\n",
            "Epoch 3/50\n",
            "556/556 [==============================] - 13s 23ms/step - loss: 1.5128 - categorical_accuracy: 0.2732 - precision: 0.0000e+00 - recall: 0.0000e+00 - f1_score: 0.1617 - Precision_0: 0.0000e+00 - Precision_1: 0.0000e+00 - Precision_2: 0.0000e+00 - Precision_3: 0.0000e+00 - Precision_4: 0.0000e+00 - Recall_0: 0.0000e+00 - Recall_1: 0.0000e+00 - Recall_2: 0.0000e+00 - Recall_3: 0.0000e+00 - Recall_4: 0.0000e+00 - val_loss: 1.3473 - val_categorical_accuracy: 0.1955 - val_precision: 0.0000e+00 - val_recall: 0.0000e+00 - val_f1_score: 0.0779 - val_Precision_0: 0.0000e+00 - val_Precision_1: 0.0000e+00 - val_Precision_2: 0.0000e+00 - val_Precision_3: 0.0000e+00 - val_Precision_4: 0.0000e+00 - val_Recall_0: 0.0000e+00 - val_Recall_1: 0.0000e+00 - val_Recall_2: 0.0000e+00 - val_Recall_3: 0.0000e+00 - val_Recall_4: 0.0000e+00\n",
            "Epoch 4/50\n",
            "556/556 [==============================] - 13s 23ms/step - loss: 1.5126 - categorical_accuracy: 0.2735 - precision: 0.0000e+00 - recall: 0.0000e+00 - f1_score: 0.1412 - Precision_0: 0.0000e+00 - Precision_1: 0.0000e+00 - Precision_2: 0.0000e+00 - Precision_3: 0.0000e+00 - Precision_4: 0.0000e+00 - Recall_0: 0.0000e+00 - Recall_1: 0.0000e+00 - Recall_2: 0.0000e+00 - Recall_3: 0.0000e+00 - Recall_4: 0.0000e+00 - val_loss: 1.3328 - val_categorical_accuracy: 0.8821 - val_precision: 0.0000e+00 - val_recall: 0.0000e+00 - val_f1_score: 0.1875 - val_Precision_0: 0.0000e+00 - val_Precision_1: 0.0000e+00 - val_Precision_2: 0.0000e+00 - val_Precision_3: 0.0000e+00 - val_Precision_4: 0.0000e+00 - val_Recall_0: 0.0000e+00 - val_Recall_1: 0.0000e+00 - val_Recall_2: 0.0000e+00 - val_Recall_3: 0.0000e+00 - val_Recall_4: 0.0000e+00\n",
            "Epoch 5/50\n",
            "556/556 [==============================] - 12s 21ms/step - loss: 1.5124 - categorical_accuracy: 0.2715 - precision: 0.0000e+00 - recall: 0.0000e+00 - f1_score: 0.1464 - Precision_0: 0.0000e+00 - Precision_1: 0.0000e+00 - Precision_2: 0.0000e+00 - Precision_3: 0.0000e+00 - Precision_4: 0.0000e+00 - Recall_0: 0.0000e+00 - Recall_1: 0.0000e+00 - Recall_2: 0.0000e+00 - Recall_3: 0.0000e+00 - Recall_4: 0.0000e+00 - val_loss: 1.3582 - val_categorical_accuracy: 0.8821 - val_precision: 0.0000e+00 - val_recall: 0.0000e+00 - val_f1_score: 0.1875 - val_Precision_0: 0.0000e+00 - val_Precision_1: 0.0000e+00 - val_Precision_2: 0.0000e+00 - val_Precision_3: 0.0000e+00 - val_Precision_4: 0.0000e+00 - val_Recall_0: 0.0000e+00 - val_Recall_1: 0.0000e+00 - val_Recall_2: 0.0000e+00 - val_Recall_3: 0.0000e+00 - val_Recall_4: 0.0000e+00\n",
            "Epoch 6/50\n",
            "556/556 [==============================] - 12s 22ms/step - loss: 1.5126 - categorical_accuracy: 0.2750 - precision: 0.0000e+00 - recall: 0.0000e+00 - f1_score: 0.1553 - Precision_0: 0.0000e+00 - Precision_1: 0.0000e+00 - Precision_2: 0.0000e+00 - Precision_3: 0.0000e+00 - Precision_4: 0.0000e+00 - Recall_0: 0.0000e+00 - Recall_1: 0.0000e+00 - Recall_2: 0.0000e+00 - Recall_3: 0.0000e+00 - Recall_4: 0.0000e+00 - val_loss: 1.3582 - val_categorical_accuracy: 0.0631 - val_precision: 0.0000e+00 - val_recall: 0.0000e+00 - val_f1_score: 0.0238 - val_Precision_0: 0.0000e+00 - val_Precision_1: 0.0000e+00 - val_Precision_2: 0.0000e+00 - val_Precision_3: 0.0000e+00 - val_Precision_4: 0.0000e+00 - val_Recall_0: 0.0000e+00 - val_Recall_1: 0.0000e+00 - val_Recall_2: 0.0000e+00 - val_Recall_3: 0.0000e+00 - val_Recall_4: 0.0000e+00\n",
            "Epoch 7/50\n",
            "556/556 [==============================] - 12s 22ms/step - loss: 1.5125 - categorical_accuracy: 0.2721 - precision: 0.0000e+00 - recall: 0.0000e+00 - f1_score: 0.1549 - Precision_0: 0.0000e+00 - Precision_1: 0.0000e+00 - Precision_2: 0.0000e+00 - Precision_3: 0.0000e+00 - Precision_4: 0.0000e+00 - Recall_0: 0.0000e+00 - Recall_1: 0.0000e+00 - Recall_2: 0.0000e+00 - Recall_3: 0.0000e+00 - Recall_4: 0.0000e+00 - val_loss: 1.3244 - val_categorical_accuracy: 0.8821 - val_precision: 0.0000e+00 - val_recall: 0.0000e+00 - val_f1_score: 0.1875 - val_Precision_0: 0.0000e+00 - val_Precision_1: 0.0000e+00 - val_Precision_2: 0.0000e+00 - val_Precision_3: 0.0000e+00 - val_Precision_4: 0.0000e+00 - val_Recall_0: 0.0000e+00 - val_Recall_1: 0.0000e+00 - val_Recall_2: 0.0000e+00 - val_Recall_3: 0.0000e+00 - val_Recall_4: 0.0000e+00\n",
            "Epoch 8/50\n",
            "556/556 [==============================] - 12s 22ms/step - loss: 1.5122 - categorical_accuracy: 0.2728 - precision: 0.0000e+00 - recall: 0.0000e+00 - f1_score: 0.1565 - Precision_0: 0.0000e+00 - Precision_1: 0.0000e+00 - Precision_2: 0.0000e+00 - Precision_3: 0.0000e+00 - Precision_4: 0.0000e+00 - Recall_0: 0.0000e+00 - Recall_1: 0.0000e+00 - Recall_2: 0.0000e+00 - Recall_3: 0.0000e+00 - Recall_4: 0.0000e+00 - val_loss: 1.3235 - val_categorical_accuracy: 0.1833 - val_precision: 0.0000e+00 - val_recall: 0.0000e+00 - val_f1_score: 0.0736 - val_Precision_0: 0.0000e+00 - val_Precision_1: 0.0000e+00 - val_Precision_2: 0.0000e+00 - val_Precision_3: 0.0000e+00 - val_Precision_4: 0.0000e+00 - val_Recall_0: 0.0000e+00 - val_Recall_1: 0.0000e+00 - val_Recall_2: 0.0000e+00 - val_Recall_3: 0.0000e+00 - val_Recall_4: 0.0000e+00\n",
            "Epoch 9/50\n",
            "556/556 [==============================] - 12s 21ms/step - loss: 1.5122 - categorical_accuracy: 0.2742 - precision: 0.0000e+00 - recall: 0.0000e+00 - f1_score: 0.1576 - Precision_0: 0.0000e+00 - Precision_1: 0.0000e+00 - Precision_2: 0.0000e+00 - Precision_3: 0.0000e+00 - Precision_4: 0.0000e+00 - Recall_0: 0.0000e+00 - Recall_1: 0.0000e+00 - Recall_2: 0.0000e+00 - Recall_3: 0.0000e+00 - Recall_4: 0.0000e+00 - val_loss: 1.3304 - val_categorical_accuracy: 0.1805 - val_precision: 0.0000e+00 - val_recall: 0.0000e+00 - val_f1_score: 0.0725 - val_Precision_0: 0.0000e+00 - val_Precision_1: 0.0000e+00 - val_Precision_2: 0.0000e+00 - val_Precision_3: 0.0000e+00 - val_Precision_4: 0.0000e+00 - val_Recall_0: 0.0000e+00 - val_Recall_1: 0.0000e+00 - val_Recall_2: 0.0000e+00 - val_Recall_3: 0.0000e+00 - val_Recall_4: 0.0000e+00\n",
            "Epoch 10/50\n",
            "556/556 [==============================] - 11s 20ms/step - loss: 1.5122 - categorical_accuracy: 0.2736 - precision: 0.0000e+00 - recall: 0.0000e+00 - f1_score: 0.1605 - Precision_0: 0.0000e+00 - Precision_1: 0.0000e+00 - Precision_2: 0.0000e+00 - Precision_3: 0.0000e+00 - Precision_4: 0.0000e+00 - Recall_0: 0.0000e+00 - Recall_1: 0.0000e+00 - Recall_2: 0.0000e+00 - Recall_3: 0.0000e+00 - Recall_4: 0.0000e+00 - val_loss: 1.3560 - val_categorical_accuracy: 0.0207 - val_precision: 0.0000e+00 - val_recall: 0.0000e+00 - val_f1_score: 0.0081 - val_Precision_0: 0.0000e+00 - val_Precision_1: 0.0000e+00 - val_Precision_2: 0.0000e+00 - val_Precision_3: 0.0000e+00 - val_Precision_4: 0.0000e+00 - val_Recall_0: 0.0000e+00 - val_Recall_1: 0.0000e+00 - val_Recall_2: 0.0000e+00 - val_Recall_3: 0.0000e+00 - val_Recall_4: 0.0000e+00\n",
            "Epoch 11/50\n",
            "556/556 [==============================] - 12s 21ms/step - loss: 1.5124 - categorical_accuracy: 0.2710 - precision: 0.0000e+00 - recall: 0.0000e+00 - f1_score: 0.1617 - Precision_0: 0.0000e+00 - Precision_1: 0.0000e+00 - Precision_2: 0.0000e+00 - Precision_3: 0.0000e+00 - Precision_4: 0.0000e+00 - Recall_0: 0.0000e+00 - Recall_1: 0.0000e+00 - Recall_2: 0.0000e+00 - Recall_3: 0.0000e+00 - Recall_4: 0.0000e+00 - val_loss: 1.2792 - val_categorical_accuracy: 0.8821 - val_precision: 0.0000e+00 - val_recall: 0.0000e+00 - val_f1_score: 0.1875 - val_Precision_0: 0.0000e+00 - val_Precision_1: 0.0000e+00 - val_Precision_2: 0.0000e+00 - val_Precision_3: 0.0000e+00 - val_Precision_4: 0.0000e+00 - val_Recall_0: 0.0000e+00 - val_Recall_1: 0.0000e+00 - val_Recall_2: 0.0000e+00 - val_Recall_3: 0.0000e+00 - val_Recall_4: 0.0000e+00\n",
            "Epoch 12/50\n",
            "556/556 [==============================] - 11s 21ms/step - loss: 1.5123 - categorical_accuracy: 0.2715 - precision: 0.0000e+00 - recall: 0.0000e+00 - f1_score: 0.1602 - Precision_0: 0.0000e+00 - Precision_1: 0.0000e+00 - Precision_2: 0.0000e+00 - Precision_3: 0.0000e+00 - Precision_4: 0.0000e+00 - Recall_0: 0.0000e+00 - Recall_1: 0.0000e+00 - Recall_2: 0.0000e+00 - Recall_3: 0.0000e+00 - Recall_4: 0.0000e+00 - val_loss: 1.3420 - val_categorical_accuracy: 0.1439 - val_precision: 0.0000e+00 - val_recall: 0.0000e+00 - val_f1_score: 0.0570 - val_Precision_0: 0.0000e+00 - val_Precision_1: 0.0000e+00 - val_Precision_2: 0.0000e+00 - val_Precision_3: 0.0000e+00 - val_Precision_4: 0.0000e+00 - val_Recall_0: 0.0000e+00 - val_Recall_1: 0.0000e+00 - val_Recall_2: 0.0000e+00 - val_Recall_3: 0.0000e+00 - val_Recall_4: 0.0000e+00\n",
            "Epoch 13/50\n",
            "556/556 [==============================] - 12s 21ms/step - loss: 1.5123 - categorical_accuracy: 0.2746 - precision: 0.0000e+00 - recall: 0.0000e+00 - f1_score: 0.1571 - Precision_0: 0.0000e+00 - Precision_1: 0.0000e+00 - Precision_2: 0.0000e+00 - Precision_3: 0.0000e+00 - Precision_4: 0.0000e+00 - Recall_0: 0.0000e+00 - Recall_1: 0.0000e+00 - Recall_2: 0.0000e+00 - Recall_3: 0.0000e+00 - Recall_4: 0.0000e+00 - val_loss: 1.2828 - val_categorical_accuracy: 0.8821 - val_precision: 0.0000e+00 - val_recall: 0.0000e+00 - val_f1_score: 0.1875 - val_Precision_0: 0.0000e+00 - val_Precision_1: 0.0000e+00 - val_Precision_2: 0.0000e+00 - val_Precision_3: 0.0000e+00 - val_Precision_4: 0.0000e+00 - val_Recall_0: 0.0000e+00 - val_Recall_1: 0.0000e+00 - val_Recall_2: 0.0000e+00 - val_Recall_3: 0.0000e+00 - val_Recall_4: 0.0000e+00\n"
          ]
        },
        {
          "output_type": "display_data",
          "data": {
            "text/plain": [
              "VBox(children=(Label(value='0.003 MB of 0.024 MB uploaded\\r'), FloatProgress(value=0.10955991495165884, max=1.…"
            ],
            "application/vnd.jupyter.widget-view+json": {
              "version_major": 2,
              "version_minor": 0,
              "model_id": "35a7be792df14a88be17e638d45debad"
            }
          },
          "metadata": {}
        },
        {
          "output_type": "display_data",
          "data": {
            "text/plain": [
              "<IPython.core.display.HTML object>"
            ],
            "text/html": [
              "<style>\n",
              "    table.wandb td:nth-child(1) { padding: 0 10px; text-align: left ; width: auto;} td:nth-child(2) {text-align: left ; width: 100%}\n",
              "    .wandb-row { display: flex; flex-direction: row; flex-wrap: wrap; justify-content: flex-start; width: 100% }\n",
              "    .wandb-col { display: flex; flex-direction: column; flex-basis: 100%; flex: 1; padding: 10px; }\n",
              "    </style>\n",
              "<div class=\"wandb-row\"><div class=\"wandb-col\"><h3>Run history:</h3><br/><table class=\"wandb\"><tr><td>Precision_0</td><td>▁▁▁▁▁▁▁▁▁▁▁▁▁</td></tr><tr><td>Precision_1</td><td>▁▁▁▁▁▁▁▁▁▁▁▁▁</td></tr><tr><td>Precision_2</td><td>▁▁▁▁▁▁▁▁▁▁▁▁▁</td></tr><tr><td>Precision_3</td><td>▁▁▁▁▁▁▁▁▁▁▁▁▁</td></tr><tr><td>Precision_4</td><td>▁▁▁▁▁▁▁▁▁▁▁▁▁</td></tr><tr><td>Recall_0</td><td>▁▁▁▁▁▁▁▁▁▁▁▁▁</td></tr><tr><td>Recall_1</td><td>▁▁▁▁▁▁▁▁▁▁▁▁▁</td></tr><tr><td>Recall_2</td><td>▁▁▁▁▁▁▁▁▁▁▁▁▁</td></tr><tr><td>Recall_3</td><td>▁▁▁▁▁▁▁▁▁▁▁▁▁</td></tr><tr><td>Recall_4</td><td>▁▁▁▁▁▁▁▁▁▁▁▁▁</td></tr><tr><td>categorical_accuracy</td><td>▁█▄▄▂▆▃▃▅▄▁▂▆</td></tr><tr><td>epoch</td><td>▁▂▂▃▃▄▅▅▆▆▇▇█</td></tr><tr><td>loss</td><td>█▃▂▂▁▂▂▁▁▁▁▁▁</td></tr><tr><td>precision</td><td>▁▁▁▁▁▁▁▁▁▁▁▁▁</td></tr><tr><td>recall</td><td>▁▁▁▁▁▁▁▁▁▁▁▁▁</td></tr><tr><td>size_train</td><td>▁</td></tr><tr><td>val_Precision_0</td><td>▁▁▁▁▁▁▁▁▁▁▁▁▁</td></tr><tr><td>val_Precision_1</td><td>▁▁▁▁▁▁▁▁▁▁▁▁▁</td></tr><tr><td>val_Precision_2</td><td>▁▁▁▁▁▁▁▁▁▁▁▁▁</td></tr><tr><td>val_Precision_3</td><td>▁▁▁▁▁▁▁▁▁▁▁▁▁</td></tr><tr><td>val_Precision_4</td><td>▁▁▁▁▁▁▁▁▁▁▁▁▁</td></tr><tr><td>val_Recall_0</td><td>▁▁▁▁▁▁▁▁▁▁▁▁▁</td></tr><tr><td>val_Recall_1</td><td>▁▁▁▁▁▁▁▁▁▁▁▁▁</td></tr><tr><td>val_Recall_2</td><td>▁▁▁▁▁▁▁▁▁▁▁▁▁</td></tr><tr><td>val_Recall_3</td><td>▁▁▁▁▁▁▁▁▁▁▁▁▁</td></tr><tr><td>val_Recall_4</td><td>▁▁▁▁▁▁▁▁▁▁▁▁▁</td></tr><tr><td>val_categorical_accuracy</td><td>▂▇▂██▁█▂▂▁█▂█</td></tr><tr><td>val_loss</td><td>▇█▇▆██▅▅▆█▁▇▁</td></tr><tr><td>val_precision</td><td>▁▁▁▁▁▁▁▁▁▁▁▁▁</td></tr><tr><td>val_recall</td><td>▁▁▁▁▁▁▁▁▁▁▁▁▁</td></tr></table><br/></div><div class=\"wandb-col\"><h3>Run summary:</h3><br/><table class=\"wandb\"><tr><td>Precision_0</td><td>0.0</td></tr><tr><td>Precision_1</td><td>0.0</td></tr><tr><td>Precision_2</td><td>0.0</td></tr><tr><td>Precision_3</td><td>0.0</td></tr><tr><td>Precision_4</td><td>0.0</td></tr><tr><td>Recall_0</td><td>0.0</td></tr><tr><td>Recall_1</td><td>0.0</td></tr><tr><td>Recall_2</td><td>0.0</td></tr><tr><td>Recall_3</td><td>0.0</td></tr><tr><td>Recall_4</td><td>0.0</td></tr><tr><td>best_epoch</td><td>10</td></tr><tr><td>best_val_loss</td><td>1.27923</td></tr><tr><td>categorical_accuracy</td><td>0.27463</td></tr><tr><td>epoch</td><td>12</td></tr><tr><td>loss</td><td>1.51235</td></tr><tr><td>precision</td><td>0.0</td></tr><tr><td>recall</td><td>0.0</td></tr><tr><td>size_train</td><td>35521</td></tr><tr><td>train_set</td><td>Prime_Pantry</td></tr><tr><td>val_Precision_0</td><td>0.0</td></tr><tr><td>val_Precision_1</td><td>0.0</td></tr><tr><td>val_Precision_2</td><td>0.0</td></tr><tr><td>val_Precision_3</td><td>0.0</td></tr><tr><td>val_Precision_4</td><td>0.0</td></tr><tr><td>val_Recall_0</td><td>0.0</td></tr><tr><td>val_Recall_1</td><td>0.0</td></tr><tr><td>val_Recall_2</td><td>0.0</td></tr><tr><td>val_Recall_3</td><td>0.0</td></tr><tr><td>val_Recall_4</td><td>0.0</td></tr><tr><td>val_categorical_accuracy</td><td>0.88211</td></tr><tr><td>val_loss</td><td>1.28282</td></tr><tr><td>val_precision</td><td>0.0</td></tr><tr><td>val_recall</td><td>0.0</td></tr></table><br/></div></div>"
            ]
          },
          "metadata": {}
        },
        {
          "output_type": "display_data",
          "data": {
            "text/plain": [
              "<IPython.core.display.HTML object>"
            ],
            "text/html": [
              " View run <strong style=\"color:#cdcd00\">misunderstood-sweep-11</strong> at: <a href='https://wandb.ai/coffeegang/RNN_preliminary_tests/runs/5dx11tgl' target=\"_blank\">https://wandb.ai/coffeegang/RNN_preliminary_tests/runs/5dx11tgl</a><br/>Synced 5 W&B file(s), 1 media file(s), 0 artifact file(s) and 0 other file(s)"
            ]
          },
          "metadata": {}
        },
        {
          "output_type": "display_data",
          "data": {
            "text/plain": [
              "<IPython.core.display.HTML object>"
            ],
            "text/html": [
              "Find logs at: <code>./wandb/run-20240129_172551-5dx11tgl/logs</code>"
            ]
          },
          "metadata": {}
        },
        {
          "output_type": "stream",
          "name": "stderr",
          "text": [
            "\u001b[34m\u001b[1mwandb\u001b[0m: Agent Starting Run: 7wzmy3w9 with config:\n",
            "\u001b[34m\u001b[1mwandb\u001b[0m: \tRNN_layer_model: model_3\n",
            "\u001b[34m\u001b[1mwandb\u001b[0m: \tembedding_size: 256\n"
          ]
        },
        {
          "output_type": "display_data",
          "data": {
            "text/plain": [
              "<IPython.core.display.HTML object>"
            ],
            "text/html": [
              "Tracking run with wandb version 0.16.2"
            ]
          },
          "metadata": {}
        },
        {
          "output_type": "display_data",
          "data": {
            "text/plain": [
              "<IPython.core.display.HTML object>"
            ],
            "text/html": [
              "Run data is saved locally in <code>/content/gdrive/.shortcut-targets-by-id/1osKmyrDLORFSpes1mwrU-W7OXM-to6bK/AML_Exam/Problem2/wandb/run-20240129_172906-7wzmy3w9</code>"
            ]
          },
          "metadata": {}
        },
        {
          "output_type": "display_data",
          "data": {
            "text/plain": [
              "<IPython.core.display.HTML object>"
            ],
            "text/html": [
              "Syncing run <strong><a href='https://wandb.ai/coffeegang/RNN_preliminary_tests/runs/7wzmy3w9' target=\"_blank\">super-sweep-12</a></strong> to <a href='https://wandb.ai/coffeegang/RNN_preliminary_tests' target=\"_blank\">Weights & Biases</a> (<a href='https://wandb.me/run' target=\"_blank\">docs</a>)<br/>Sweep page: <a href='https://wandb.ai/coffeegang/RNN_preliminary_tests/sweeps/r8db3smm' target=\"_blank\">https://wandb.ai/coffeegang/RNN_preliminary_tests/sweeps/r8db3smm</a>"
            ]
          },
          "metadata": {}
        },
        {
          "output_type": "display_data",
          "data": {
            "text/plain": [
              "<IPython.core.display.HTML object>"
            ],
            "text/html": [
              " View project at <a href='https://wandb.ai/coffeegang/RNN_preliminary_tests' target=\"_blank\">https://wandb.ai/coffeegang/RNN_preliminary_tests</a>"
            ]
          },
          "metadata": {}
        },
        {
          "output_type": "display_data",
          "data": {
            "text/plain": [
              "<IPython.core.display.HTML object>"
            ],
            "text/html": [
              " View sweep at <a href='https://wandb.ai/coffeegang/RNN_preliminary_tests/sweeps/r8db3smm' target=\"_blank\">https://wandb.ai/coffeegang/RNN_preliminary_tests/sweeps/r8db3smm</a>"
            ]
          },
          "metadata": {}
        },
        {
          "output_type": "display_data",
          "data": {
            "text/plain": [
              "<IPython.core.display.HTML object>"
            ],
            "text/html": [
              " View run at <a href='https://wandb.ai/coffeegang/RNN_preliminary_tests/runs/7wzmy3w9' target=\"_blank\">https://wandb.ai/coffeegang/RNN_preliminary_tests/runs/7wzmy3w9</a>"
            ]
          },
          "metadata": {}
        },
        {
          "output_type": "stream",
          "name": "stdout",
          "text": [
            "Epoch 1/50\n",
            "556/556 [==============================] - 36s 55ms/step - loss: 1.5053 - categorical_accuracy: 0.2793 - precision: 0.0000e+00 - recall: 0.0000e+00 - f1_score: 0.1866 - Precision_0: 0.0000e+00 - Precision_1: 0.0000e+00 - Precision_2: 0.0000e+00 - Precision_3: 0.0000e+00 - Precision_4: 0.0000e+00 - Recall_0: 0.0000e+00 - Recall_1: 0.0000e+00 - Recall_2: 0.0000e+00 - Recall_3: 0.0000e+00 - Recall_4: 0.0000e+00 - val_loss: 1.3494 - val_categorical_accuracy: 0.1251 - val_precision: 0.0000e+00 - val_recall: 0.0000e+00 - val_f1_score: 0.0515 - val_Precision_0: 0.0000e+00 - val_Precision_1: 0.0000e+00 - val_Precision_2: 0.0000e+00 - val_Precision_3: 0.0000e+00 - val_Precision_4: 0.0000e+00 - val_Recall_0: 0.0000e+00 - val_Recall_1: 0.0000e+00 - val_Recall_2: 0.0000e+00 - val_Recall_3: 0.0000e+00 - val_Recall_4: 0.0000e+00\n",
            "Epoch 2/50\n",
            "556/556 [==============================] - 15s 27ms/step - loss: 1.5020 - categorical_accuracy: 0.2830 - precision: 0.0000e+00 - recall: 0.0000e+00 - f1_score: 0.1879 - Precision_0: 0.0000e+00 - Precision_1: 0.0000e+00 - Precision_2: 0.0000e+00 - Precision_3: 0.0000e+00 - Precision_4: 0.0000e+00 - Recall_0: 0.0000e+00 - Recall_1: 0.0000e+00 - Recall_2: 0.0000e+00 - Recall_3: 0.0000e+00 - Recall_4: 0.0000e+00 - val_loss: 1.3260 - val_categorical_accuracy: 0.8821 - val_precision: 0.0000e+00 - val_recall: 0.0000e+00 - val_f1_score: 0.1875 - val_Precision_0: 0.0000e+00 - val_Precision_1: 0.0000e+00 - val_Precision_2: 0.0000e+00 - val_Precision_3: 0.0000e+00 - val_Precision_4: 0.0000e+00 - val_Recall_0: 0.0000e+00 - val_Recall_1: 0.0000e+00 - val_Recall_2: 0.0000e+00 - val_Recall_3: 0.0000e+00 - val_Recall_4: 0.0000e+00\n",
            "Epoch 3/50\n",
            "556/556 [==============================] - 13s 24ms/step - loss: 1.5054 - categorical_accuracy: 0.2796 - precision: 0.0000e+00 - recall: 0.0000e+00 - f1_score: 0.1843 - Precision_0: 0.0000e+00 - Precision_1: 0.0000e+00 - Precision_2: 0.0000e+00 - Precision_3: 0.0000e+00 - Precision_4: 0.0000e+00 - Recall_0: 0.0000e+00 - Recall_1: 0.0000e+00 - Recall_2: 0.0000e+00 - Recall_3: 0.0000e+00 - Recall_4: 0.0000e+00 - val_loss: 1.3497 - val_categorical_accuracy: 0.8821 - val_precision: 0.0000e+00 - val_recall: 0.0000e+00 - val_f1_score: 0.1875 - val_Precision_0: 0.0000e+00 - val_Precision_1: 0.0000e+00 - val_Precision_2: 0.0000e+00 - val_Precision_3: 0.0000e+00 - val_Precision_4: 0.0000e+00 - val_Recall_0: 0.0000e+00 - val_Recall_1: 0.0000e+00 - val_Recall_2: 0.0000e+00 - val_Recall_3: 0.0000e+00 - val_Recall_4: 0.0000e+00\n",
            "Epoch 4/50\n",
            "556/556 [==============================] - 13s 24ms/step - loss: 1.5053 - categorical_accuracy: 0.2750 - precision: 0.0000e+00 - recall: 0.0000e+00 - f1_score: 0.1825 - Precision_0: 0.0000e+00 - Precision_1: 0.0000e+00 - Precision_2: 0.0000e+00 - Precision_3: 0.0000e+00 - Precision_4: 0.0000e+00 - Recall_0: 0.0000e+00 - Recall_1: 0.0000e+00 - Recall_2: 0.0000e+00 - Recall_3: 0.0000e+00 - Recall_4: 0.0000e+00 - val_loss: 1.3611 - val_categorical_accuracy: 0.0835 - val_precision: 0.0000e+00 - val_recall: 0.0000e+00 - val_f1_score: 0.0352 - val_Precision_0: 0.0000e+00 - val_Precision_1: 0.0000e+00 - val_Precision_2: 0.0000e+00 - val_Precision_3: 0.0000e+00 - val_Precision_4: 0.0000e+00 - val_Recall_0: 0.0000e+00 - val_Recall_1: 0.0000e+00 - val_Recall_2: 0.0000e+00 - val_Recall_3: 0.0000e+00 - val_Recall_4: 0.0000e+00\n",
            "Epoch 5/50\n",
            "556/556 [==============================] - 13s 23ms/step - loss: 1.5033 - categorical_accuracy: 0.2785 - precision: 0.0000e+00 - recall: 0.0000e+00 - f1_score: 0.1838 - Precision_0: 0.0000e+00 - Precision_1: 0.0000e+00 - Precision_2: 0.0000e+00 - Precision_3: 0.0000e+00 - Precision_4: 0.0000e+00 - Recall_0: 0.0000e+00 - Recall_1: 0.0000e+00 - Recall_2: 0.0000e+00 - Recall_3: 0.0000e+00 - Recall_4: 0.0000e+00 - val_loss: 1.3558 - val_categorical_accuracy: 0.1242 - val_precision: 0.0000e+00 - val_recall: 0.0000e+00 - val_f1_score: 0.0511 - val_Precision_0: 0.0000e+00 - val_Precision_1: 0.0000e+00 - val_Precision_2: 0.0000e+00 - val_Precision_3: 0.0000e+00 - val_Precision_4: 0.0000e+00 - val_Recall_0: 0.0000e+00 - val_Recall_1: 0.0000e+00 - val_Recall_2: 0.0000e+00 - val_Recall_3: 0.0000e+00 - val_Recall_4: 0.0000e+00\n"
          ]
        },
        {
          "output_type": "display_data",
          "data": {
            "text/plain": [
              "VBox(children=(Label(value='0.003 MB of 0.003 MB uploaded\\r'), FloatProgress(value=1.0, max=1.0)))"
            ],
            "application/vnd.jupyter.widget-view+json": {
              "version_major": 2,
              "version_minor": 0,
              "model_id": "1e402a69fb5b439dbc4cbda8cd7a3704"
            }
          },
          "metadata": {}
        },
        {
          "output_type": "display_data",
          "data": {
            "text/plain": [
              "<IPython.core.display.HTML object>"
            ],
            "text/html": [
              "<style>\n",
              "    table.wandb td:nth-child(1) { padding: 0 10px; text-align: left ; width: auto;} td:nth-child(2) {text-align: left ; width: 100%}\n",
              "    .wandb-row { display: flex; flex-direction: row; flex-wrap: wrap; justify-content: flex-start; width: 100% }\n",
              "    .wandb-col { display: flex; flex-direction: column; flex-basis: 100%; flex: 1; padding: 10px; }\n",
              "    </style>\n",
              "<div class=\"wandb-row\"><div class=\"wandb-col\"><h3>Run history:</h3><br/><table class=\"wandb\"><tr><td>Precision_0</td><td>▁▁▁▁▁</td></tr><tr><td>Precision_1</td><td>▁▁▁▁▁</td></tr><tr><td>Precision_2</td><td>▁▁▁▁▁</td></tr><tr><td>Precision_3</td><td>▁▁▁▁▁</td></tr><tr><td>Precision_4</td><td>▁▁▁▁▁</td></tr><tr><td>Recall_0</td><td>▁▁▁▁▁</td></tr><tr><td>Recall_1</td><td>▁▁▁▁▁</td></tr><tr><td>Recall_2</td><td>▁▁▁▁▁</td></tr><tr><td>Recall_3</td><td>▁▁▁▁▁</td></tr><tr><td>Recall_4</td><td>▁▁▁▁▁</td></tr><tr><td>categorical_accuracy</td><td>▅█▅▁▄</td></tr><tr><td>epoch</td><td>▁▃▅▆█</td></tr><tr><td>loss</td><td>█▁██▄</td></tr><tr><td>precision</td><td>▁▁▁▁▁</td></tr><tr><td>recall</td><td>▁▁▁▁▁</td></tr><tr><td>size_train</td><td>▁</td></tr><tr><td>val_Precision_0</td><td>▁▁▁▁▁</td></tr><tr><td>val_Precision_1</td><td>▁▁▁▁▁</td></tr><tr><td>val_Precision_2</td><td>▁▁▁▁▁</td></tr><tr><td>val_Precision_3</td><td>▁▁▁▁▁</td></tr><tr><td>val_Precision_4</td><td>▁▁▁▁▁</td></tr><tr><td>val_Recall_0</td><td>▁▁▁▁▁</td></tr><tr><td>val_Recall_1</td><td>▁▁▁▁▁</td></tr><tr><td>val_Recall_2</td><td>▁▁▁▁▁</td></tr><tr><td>val_Recall_3</td><td>▁▁▁▁▁</td></tr><tr><td>val_Recall_4</td><td>▁▁▁▁▁</td></tr><tr><td>val_categorical_accuracy</td><td>▁██▁▁</td></tr><tr><td>val_loss</td><td>▆▁▆█▇</td></tr><tr><td>val_precision</td><td>▁▁▁▁▁</td></tr><tr><td>val_recall</td><td>▁▁▁▁▁</td></tr></table><br/></div><div class=\"wandb-col\"><h3>Run summary:</h3><br/><table class=\"wandb\"><tr><td>Precision_0</td><td>0.0</td></tr><tr><td>Precision_1</td><td>0.0</td></tr><tr><td>Precision_2</td><td>0.0</td></tr><tr><td>Precision_3</td><td>0.0</td></tr><tr><td>Precision_4</td><td>0.0</td></tr><tr><td>Recall_0</td><td>0.0</td></tr><tr><td>Recall_1</td><td>0.0</td></tr><tr><td>Recall_2</td><td>0.0</td></tr><tr><td>Recall_3</td><td>0.0</td></tr><tr><td>Recall_4</td><td>0.0</td></tr><tr><td>best_epoch</td><td>1</td></tr><tr><td>best_val_loss</td><td>1.32601</td></tr><tr><td>categorical_accuracy</td><td>0.27851</td></tr><tr><td>epoch</td><td>4</td></tr><tr><td>loss</td><td>1.50329</td></tr><tr><td>precision</td><td>0.0</td></tr><tr><td>recall</td><td>0.0</td></tr><tr><td>size_train</td><td>35521</td></tr><tr><td>train_set</td><td>Prime_Pantry</td></tr><tr><td>val_Precision_0</td><td>0.0</td></tr><tr><td>val_Precision_1</td><td>0.0</td></tr><tr><td>val_Precision_2</td><td>0.0</td></tr><tr><td>val_Precision_3</td><td>0.0</td></tr><tr><td>val_Precision_4</td><td>0.0</td></tr><tr><td>val_Recall_0</td><td>0.0</td></tr><tr><td>val_Recall_1</td><td>0.0</td></tr><tr><td>val_Recall_2</td><td>0.0</td></tr><tr><td>val_Recall_3</td><td>0.0</td></tr><tr><td>val_Recall_4</td><td>0.0</td></tr><tr><td>val_categorical_accuracy</td><td>0.12417</td></tr><tr><td>val_loss</td><td>1.35584</td></tr><tr><td>val_precision</td><td>0.0</td></tr><tr><td>val_recall</td><td>0.0</td></tr></table><br/></div></div>"
            ]
          },
          "metadata": {}
        },
        {
          "output_type": "display_data",
          "data": {
            "text/plain": [
              "<IPython.core.display.HTML object>"
            ],
            "text/html": [
              " View run <strong style=\"color:#cdcd00\">super-sweep-12</strong> at: <a href='https://wandb.ai/coffeegang/RNN_preliminary_tests/runs/7wzmy3w9' target=\"_blank\">https://wandb.ai/coffeegang/RNN_preliminary_tests/runs/7wzmy3w9</a><br/>Synced 5 W&B file(s), 1 media file(s), 0 artifact file(s) and 0 other file(s)"
            ]
          },
          "metadata": {}
        },
        {
          "output_type": "display_data",
          "data": {
            "text/plain": [
              "<IPython.core.display.HTML object>"
            ],
            "text/html": [
              "Find logs at: <code>./wandb/run-20240129_172906-7wzmy3w9/logs</code>"
            ]
          },
          "metadata": {}
        },
        {
          "output_type": "stream",
          "name": "stderr",
          "text": [
            "\u001b[34m\u001b[1mwandb\u001b[0m: Agent Starting Run: 51nhrvkr with config:\n",
            "\u001b[34m\u001b[1mwandb\u001b[0m: \tRNN_layer_model: model_4\n",
            "\u001b[34m\u001b[1mwandb\u001b[0m: \tembedding_size: 32\n"
          ]
        },
        {
          "output_type": "display_data",
          "data": {
            "text/plain": [
              "<IPython.core.display.HTML object>"
            ],
            "text/html": [
              "Tracking run with wandb version 0.16.2"
            ]
          },
          "metadata": {}
        },
        {
          "output_type": "display_data",
          "data": {
            "text/plain": [
              "<IPython.core.display.HTML object>"
            ],
            "text/html": [
              "Run data is saved locally in <code>/content/gdrive/.shortcut-targets-by-id/1osKmyrDLORFSpes1mwrU-W7OXM-to6bK/AML_Exam/Problem2/wandb/run-20240129_173053-51nhrvkr</code>"
            ]
          },
          "metadata": {}
        },
        {
          "output_type": "display_data",
          "data": {
            "text/plain": [
              "<IPython.core.display.HTML object>"
            ],
            "text/html": [
              "Syncing run <strong><a href='https://wandb.ai/coffeegang/RNN_preliminary_tests/runs/51nhrvkr' target=\"_blank\">legendary-sweep-13</a></strong> to <a href='https://wandb.ai/coffeegang/RNN_preliminary_tests' target=\"_blank\">Weights & Biases</a> (<a href='https://wandb.me/run' target=\"_blank\">docs</a>)<br/>Sweep page: <a href='https://wandb.ai/coffeegang/RNN_preliminary_tests/sweeps/r8db3smm' target=\"_blank\">https://wandb.ai/coffeegang/RNN_preliminary_tests/sweeps/r8db3smm</a>"
            ]
          },
          "metadata": {}
        },
        {
          "output_type": "display_data",
          "data": {
            "text/plain": [
              "<IPython.core.display.HTML object>"
            ],
            "text/html": [
              " View project at <a href='https://wandb.ai/coffeegang/RNN_preliminary_tests' target=\"_blank\">https://wandb.ai/coffeegang/RNN_preliminary_tests</a>"
            ]
          },
          "metadata": {}
        },
        {
          "output_type": "display_data",
          "data": {
            "text/plain": [
              "<IPython.core.display.HTML object>"
            ],
            "text/html": [
              " View sweep at <a href='https://wandb.ai/coffeegang/RNN_preliminary_tests/sweeps/r8db3smm' target=\"_blank\">https://wandb.ai/coffeegang/RNN_preliminary_tests/sweeps/r8db3smm</a>"
            ]
          },
          "metadata": {}
        },
        {
          "output_type": "display_data",
          "data": {
            "text/plain": [
              "<IPython.core.display.HTML object>"
            ],
            "text/html": [
              " View run at <a href='https://wandb.ai/coffeegang/RNN_preliminary_tests/runs/51nhrvkr' target=\"_blank\">https://wandb.ai/coffeegang/RNN_preliminary_tests/runs/51nhrvkr</a>"
            ]
          },
          "metadata": {}
        },
        {
          "output_type": "stream",
          "name": "stdout",
          "text": [
            "Epoch 1/50\n",
            "556/556 [==============================] - 37s 54ms/step - loss: 1.4834 - categorical_accuracy: 0.3084 - precision: 0.5378 - recall: 0.0150 - f1_score: 0.2055 - Precision_0: 0.0000e+00 - Precision_1: 0.0000e+00 - Precision_2: 0.5714 - Precision_3: 0.1333 - Precision_4: 0.5435 - Recall_0: 0.0000e+00 - Recall_1: 0.0000e+00 - Recall_2: 0.0013 - Recall_3: 2.0507e-04 - Recall_4: 0.0532 - val_loss: 1.2514 - val_categorical_accuracy: 0.3691 - val_precision: 1.0000 - val_recall: 0.0011 - val_f1_score: 0.1493 - val_Precision_0: 0.0000e+00 - val_Precision_1: 0.0000e+00 - val_Precision_2: 0.0000e+00 - val_Precision_3: 0.0000e+00 - val_Precision_4: 1.0000 - val_Recall_0: 0.0000e+00 - val_Recall_1: 0.0000e+00 - val_Recall_2: 0.0000e+00 - val_Recall_3: 0.0000e+00 - val_Recall_4: 0.0013\n",
            "Epoch 2/50\n",
            "556/556 [==============================] - 14s 26ms/step - loss: 1.3569 - categorical_accuracy: 0.3963 - precision: 0.5837 - recall: 0.0981 - f1_score: 0.2609 - Precision_0: 0.0000e+00 - Precision_1: 0.0000e+00 - Precision_2: 0.5378 - Precision_3: 0.3966 - Precision_4: 0.5916 - Recall_0: 0.0000e+00 - Recall_1: 0.0000e+00 - Recall_2: 0.0266 - Recall_3: 0.0047 - Recall_4: 0.3279 - val_loss: 1.1629 - val_categorical_accuracy: 0.4546 - val_precision: 0.9726 - val_recall: 0.2291 - val_f1_score: 0.1730 - val_Precision_0: 0.0000e+00 - val_Precision_1: 0.0000e+00 - val_Precision_2: 0.1429 - val_Precision_3: 0.0000e+00 - val_Precision_4: 0.9773 - val_Recall_0: 0.0000e+00 - val_Recall_1: 0.0000e+00 - val_Recall_2: 0.0092 - val_Recall_3: 0.0000e+00 - val_Recall_4: 0.2595\n",
            "Epoch 3/50\n",
            "556/556 [==============================] - 12s 22ms/step - loss: 1.3165 - categorical_accuracy: 0.4129 - precision: 0.6150 - recall: 0.1211 - f1_score: 0.2878 - Precision_0: 0.0000e+00 - Precision_1: 0.0000e+00 - Precision_2: 0.5748 - Precision_3: 0.3916 - Precision_4: 0.6323 - Recall_0: 0.0000e+00 - Recall_1: 0.0000e+00 - Recall_2: 0.0950 - Recall_3: 0.0057 - Recall_4: 0.3467 - val_loss: 1.2738 - val_categorical_accuracy: 0.4033 - val_precision: 0.9722 - val_recall: 0.1997 - val_f1_score: 0.1907 - val_Precision_0: 0.0000e+00 - val_Precision_1: 0.0000e+00 - val_Precision_2: 0.0000e+00 - val_Precision_3: 0.0000e+00 - val_Precision_4: 0.9822 - val_Recall_0: 0.0000e+00 - val_Recall_1: 0.0000e+00 - val_Recall_2: 0.0000e+00 - val_Recall_3: 0.0000e+00 - val_Recall_4: 0.2263\n",
            "Epoch 4/50\n",
            "556/556 [==============================] - 12s 21ms/step - loss: 1.2993 - categorical_accuracy: 0.4232 - precision: 0.6083 - recall: 0.1387 - f1_score: 0.3037 - Precision_0: 0.0000e+00 - Precision_1: 0.0000e+00 - Precision_2: 0.5827 - Precision_3: 0.4770 - Precision_4: 0.6295 - Recall_0: 0.0000e+00 - Recall_1: 0.0000e+00 - Recall_2: 0.1211 - Recall_3: 0.0266 - Recall_4: 0.3655 - val_loss: 1.3118 - val_categorical_accuracy: 0.4938 - val_precision: 0.9623 - val_recall: 0.1894 - val_f1_score: 0.2130 - val_Precision_0: 0.0000e+00 - val_Precision_1: 0.0000e+00 - val_Precision_2: 0.0000e+00 - val_Precision_3: 0.0000e+00 - val_Precision_4: 0.9774 - val_Recall_0: 0.0000e+00 - val_Recall_1: 0.0000e+00 - val_Recall_2: 0.0000e+00 - val_Recall_3: 0.0000e+00 - val_Recall_4: 0.2147\n",
            "Epoch 5/50\n",
            "556/556 [==============================] - 11s 20ms/step - loss: 1.2865 - categorical_accuracy: 0.4337 - precision: 0.6041 - recall: 0.1528 - f1_score: 0.3277 - Precision_0: 0.4902 - Precision_1: 0.0000e+00 - Precision_2: 0.5712 - Precision_3: 0.5120 - Precision_4: 0.6353 - Recall_0: 0.0077 - Recall_1: 0.0000e+00 - Recall_2: 0.1406 - Recall_3: 0.0549 - Recall_4: 0.3679 - val_loss: 1.1313 - val_categorical_accuracy: 0.4581 - val_precision: 0.8960 - val_recall: 0.2736 - val_f1_score: 0.2066 - val_Precision_0: 0.0000e+00 - val_Precision_1: 0.0000e+00 - val_Precision_2: 0.0000e+00 - val_Precision_3: 0.0924 - val_Precision_4: 0.9774 - val_Recall_0: 0.0000e+00 - val_Recall_1: 0.0000e+00 - val_Recall_2: 0.0000e+00 - val_Recall_3: 0.0331 - val_Recall_4: 0.3078\n",
            "Epoch 6/50\n",
            "556/556 [==============================] - 11s 20ms/step - loss: 1.2758 - categorical_accuracy: 0.4411 - precision: 0.6120 - recall: 0.1626 - f1_score: 0.3335 - Precision_0: 0.6510 - Precision_1: 0.0000e+00 - Precision_2: 0.5864 - Precision_3: 0.5101 - Precision_4: 0.6448 - Recall_0: 0.0298 - Recall_1: 0.0000e+00 - Recall_2: 0.1361 - Recall_3: 0.0728 - Recall_4: 0.3823 - val_loss: 1.0209 - val_categorical_accuracy: 0.6604 - val_precision: 0.9313 - val_recall: 0.4073 - val_f1_score: 0.2501 - val_Precision_0: 1.0000 - val_Precision_1: 0.0000e+00 - val_Precision_2: 0.1134 - val_Precision_3: 0.0000e+00 - val_Precision_4: 0.9672 - val_Recall_0: 0.0870 - val_Recall_1: 0.0000e+00 - val_Recall_2: 0.1009 - val_Recall_3: 0.0000e+00 - val_Recall_4: 0.4572\n",
            "Epoch 7/50\n",
            "556/556 [==============================] - 11s 20ms/step - loss: 1.2697 - categorical_accuracy: 0.4411 - precision: 0.6097 - recall: 0.1632 - f1_score: 0.3399 - Precision_0: 0.6982 - Precision_1: 0.0000e+00 - Precision_2: 0.5687 - Precision_3: 0.5139 - Precision_4: 0.6406 - Recall_0: 0.0477 - Recall_1: 0.0000e+00 - Recall_2: 0.1478 - Recall_3: 0.0568 - Recall_4: 0.3837 - val_loss: 1.1855 - val_categorical_accuracy: 0.4874 - val_precision: 0.8923 - val_recall: 0.2519 - val_f1_score: 0.2305 - val_Precision_0: 0.8333 - val_Precision_1: 0.0000e+00 - val_Precision_2: 0.0577 - val_Precision_3: 0.0526 - val_Precision_4: 0.9857 - val_Recall_0: 0.0870 - val_Recall_1: 0.0000e+00 - val_Recall_2: 0.0275 - val_Recall_3: 0.0151 - val_Recall_4: 0.2817\n",
            "Epoch 8/50\n",
            "556/556 [==============================] - 11s 20ms/step - loss: 1.2617 - categorical_accuracy: 0.4453 - precision: 0.6058 - recall: 0.1790 - f1_score: 0.3425 - Precision_0: 0.6596 - Precision_1: 0.0000e+00 - Precision_2: 0.5763 - Precision_3: 0.4977 - Precision_4: 0.6461 - Recall_0: 0.0578 - Recall_1: 0.0000e+00 - Recall_2: 0.1546 - Recall_3: 0.0884 - Recall_4: 0.4001 - val_loss: 1.0202 - val_categorical_accuracy: 0.6676 - val_precision: 0.9567 - val_recall: 0.3195 - val_f1_score: 0.2675 - val_Precision_0: 0.9091 - val_Precision_1: 0.0000e+00 - val_Precision_2: 0.2000 - val_Precision_3: 0.0000e+00 - val_Precision_4: 0.9749 - val_Recall_0: 0.0870 - val_Recall_1: 0.0000e+00 - val_Recall_2: 0.0275 - val_Recall_3: 0.0000e+00 - val_Recall_4: 0.3593\n",
            "Epoch 9/50\n",
            "556/556 [==============================] - 11s 19ms/step - loss: 1.2535 - categorical_accuracy: 0.4484 - precision: 0.6211 - recall: 0.1716 - f1_score: 0.3487 - Precision_0: 0.7133 - Precision_1: 0.5000 - Precision_2: 0.5895 - Precision_3: 0.5143 - Precision_4: 0.6539 - Recall_0: 0.0627 - Recall_1: 2.7337e-04 - Recall_2: 0.1584 - Recall_3: 0.0684 - Recall_4: 0.3879 - val_loss: 1.1579 - val_categorical_accuracy: 0.4507 - val_precision: 0.9060 - val_recall: 0.3060 - val_f1_score: 0.2058 - val_Precision_0: 0.6667 - val_Precision_1: 0.0000e+00 - val_Precision_2: 0.0750 - val_Precision_3: 0.0980 - val_Precision_4: 0.9796 - val_Recall_0: 0.0870 - val_Recall_1: 0.0000e+00 - val_Recall_2: 0.0275 - val_Recall_3: 0.0301 - val_Recall_4: 0.3419\n",
            "Epoch 10/50\n",
            "556/556 [==============================] - 11s 20ms/step - loss: 1.2479 - categorical_accuracy: 0.4508 - precision: 0.6127 - recall: 0.1823 - f1_score: 0.3537 - Precision_0: 0.6846 - Precision_1: 0.0000e+00 - Precision_2: 0.5794 - Precision_3: 0.5103 - Precision_4: 0.6542 - Recall_0: 0.0548 - Recall_1: 0.0000e+00 - Recall_2: 0.1611 - Recall_3: 0.0937 - Recall_4: 0.4014 - val_loss: 1.1639 - val_categorical_accuracy: 0.5872 - val_precision: 0.8926 - val_recall: 0.2719 - val_f1_score: 0.2294 - val_Precision_0: 0.9091 - val_Precision_1: 0.0000e+00 - val_Precision_2: 0.0299 - val_Precision_3: 0.0714 - val_Precision_4: 0.9718 - val_Recall_0: 0.0870 - val_Recall_1: 0.0000e+00 - val_Recall_2: 0.0183 - val_Recall_3: 0.0151 - val_Recall_4: 0.3046\n",
            "Epoch 11/50\n",
            "556/556 [==============================] - 11s 19ms/step - loss: 1.2467 - categorical_accuracy: 0.4538 - precision: 0.6095 - recall: 0.1867 - f1_score: 0.3542 - Precision_0: 0.7601 - Precision_1: 0.0000e+00 - Precision_2: 0.5641 - Precision_3: 0.5232 - Precision_4: 0.6483 - Recall_0: 0.0634 - Recall_1: 0.0000e+00 - Recall_2: 0.1562 - Recall_3: 0.1030 - Recall_4: 0.4099 - val_loss: 0.9894 - val_categorical_accuracy: 0.6855 - val_precision: 0.9397 - val_recall: 0.3198 - val_f1_score: 0.2312 - val_Precision_0: 0.6250 - val_Precision_1: 0.0000e+00 - val_Precision_2: 0.0769 - val_Precision_3: 0.0000e+00 - val_Precision_4: 0.9681 - val_Recall_0: 0.0870 - val_Recall_1: 0.0000e+00 - val_Recall_2: 0.0275 - val_Recall_3: 0.0000e+00 - val_Recall_4: 0.3598\n",
            "Epoch 12/50\n",
            "556/556 [==============================] - 11s 20ms/step - loss: 1.2392 - categorical_accuracy: 0.4553 - precision: 0.6156 - recall: 0.1899 - f1_score: 0.3592 - Precision_0: 0.7099 - Precision_1: 0.0000e+00 - Precision_2: 0.5781 - Precision_3: 0.5202 - Precision_4: 0.6581 - Recall_0: 0.0640 - Recall_1: 0.0000e+00 - Recall_2: 0.1643 - Recall_3: 0.1058 - Recall_4: 0.4113 - val_loss: 1.1215 - val_categorical_accuracy: 0.5488 - val_precision: 0.8950 - val_recall: 0.3259 - val_f1_score: 0.2457 - val_Precision_0: 0.9091 - val_Precision_1: 0.0000e+00 - val_Precision_2: 0.0952 - val_Precision_3: 0.1128 - val_Precision_4: 0.9640 - val_Recall_0: 0.0870 - val_Recall_1: 0.0000e+00 - val_Recall_2: 0.0183 - val_Recall_3: 0.0452 - val_Recall_4: 0.3637\n",
            "Epoch 13/50\n",
            "556/556 [==============================] - 11s 20ms/step - loss: 1.2369 - categorical_accuracy: 0.4561 - precision: 0.6145 - recall: 0.1979 - f1_score: 0.3696 - Precision_0: 0.7345 - Precision_1: 0.1250 - Precision_2: 0.5832 - Precision_3: 0.5326 - Precision_4: 0.6503 - Recall_0: 0.0766 - Recall_1: 2.7337e-04 - Recall_2: 0.1674 - Recall_3: 0.1199 - Recall_4: 0.4191 - val_loss: 1.0621 - val_categorical_accuracy: 0.6851 - val_precision: 0.9336 - val_recall: 0.3584 - val_f1_score: 0.2520 - val_Precision_0: 0.8333 - val_Precision_1: 0.0000e+00 - val_Precision_2: 0.0526 - val_Precision_3: 0.0000e+00 - val_Precision_4: 0.9710 - val_Recall_0: 0.0435 - val_Recall_1: 0.0000e+00 - val_Recall_2: 0.0367 - val_Recall_3: 0.0000e+00 - val_Recall_4: 0.4044\n",
            "Epoch 14/50\n",
            "556/556 [==============================] - 11s 19ms/step - loss: 1.2282 - categorical_accuracy: 0.4598 - precision: 0.6146 - recall: 0.1938 - f1_score: 0.3741 - Precision_0: 0.7358 - Precision_1: 0.3750 - Precision_2: 0.5783 - Precision_3: 0.5167 - Precision_4: 0.6499 - Recall_0: 0.0797 - Recall_1: 8.2012e-04 - Recall_2: 0.1678 - Recall_3: 0.0934 - Recall_4: 0.4290 - val_loss: 1.3129 - val_categorical_accuracy: 0.3350 - val_precision: 0.6251 - val_recall: 0.2105 - val_f1_score: 0.1783 - val_Precision_0: 0.9091 - val_Precision_1: 0.0000e+00 - val_Precision_2: 0.0370 - val_Precision_3: 0.0549 - val_Precision_4: 0.9761 - val_Recall_0: 0.0870 - val_Recall_1: 0.0000e+00 - val_Recall_2: 0.0183 - val_Recall_3: 0.1024 - val_Recall_4: 0.2287\n",
            "Epoch 15/50\n",
            "556/556 [==============================] - 11s 20ms/step - loss: 1.2232 - categorical_accuracy: 0.4658 - precision: 0.6133 - recall: 0.2120 - f1_score: 0.3794 - Precision_0: 0.7177 - Precision_1: 0.6667 - Precision_2: 0.5794 - Precision_3: 0.5264 - Precision_4: 0.6573 - Recall_0: 0.0821 - Recall_1: 5.4675e-04 - Recall_2: 0.1802 - Recall_3: 0.1412 - Recall_4: 0.4350 - val_loss: 0.9750 - val_categorical_accuracy: 0.6783 - val_precision: 0.9292 - val_recall: 0.4590 - val_f1_score: 0.2587 - val_Precision_0: 0.6250 - val_Precision_1: 0.0000e+00 - val_Precision_2: 0.0377 - val_Precision_3: 0.0000e+00 - val_Precision_4: 0.9520 - val_Recall_0: 0.0870 - val_Recall_1: 0.0000e+00 - val_Recall_2: 0.0183 - val_Recall_3: 0.0000e+00 - val_Recall_4: 0.5178\n",
            "Epoch 16/50\n",
            "556/556 [==============================] - 11s 20ms/step - loss: 1.2233 - categorical_accuracy: 0.4625 - precision: 0.6130 - recall: 0.2087 - f1_score: 0.3820 - Precision_0: 0.7448 - Precision_1: 0.2500 - Precision_2: 0.5763 - Precision_3: 0.5267 - Precision_4: 0.6503 - Recall_0: 0.0889 - Recall_1: 2.7337e-04 - Recall_2: 0.1704 - Recall_3: 0.1254 - Recall_4: 0.4458 - val_loss: 1.1501 - val_categorical_accuracy: 0.5969 - val_precision: 0.9428 - val_recall: 0.3480 - val_f1_score: 0.2304 - val_Precision_0: 0.8333 - val_Precision_1: 0.0000e+00 - val_Precision_2: 0.2115 - val_Precision_3: 0.0455 - val_Precision_4: 0.9742 - val_Recall_0: 0.0435 - val_Recall_1: 0.0000e+00 - val_Recall_2: 0.1009 - val_Recall_3: 0.0030 - val_Recall_4: 0.3908\n",
            "Epoch 17/50\n",
            "556/556 [==============================] - 12s 21ms/step - loss: 1.2204 - categorical_accuracy: 0.4658 - precision: 0.6136 - recall: 0.2106 - f1_score: 0.3808 - Precision_0: 0.6938 - Precision_1: 0.0000e+00 - Precision_2: 0.5880 - Precision_3: 0.5268 - Precision_4: 0.6485 - Recall_0: 0.0892 - Recall_1: 0.0000e+00 - Recall_2: 0.1761 - Recall_3: 0.1242 - Recall_4: 0.4488 - val_loss: 1.1592 - val_categorical_accuracy: 0.5041 - val_precision: 0.8666 - val_recall: 0.3063 - val_f1_score: 0.2304 - val_Precision_0: 0.7143 - val_Precision_1: 0.0000e+00 - val_Precision_2: 0.0357 - val_Precision_3: 0.0632 - val_Precision_4: 0.9556 - val_Recall_0: 0.0870 - val_Recall_1: 0.0000e+00 - val_Recall_2: 0.0275 - val_Recall_3: 0.0181 - val_Recall_4: 0.3432\n",
            "Epoch 18/50\n",
            "556/556 [==============================] - 11s 20ms/step - loss: 1.2159 - categorical_accuracy: 0.4674 - precision: 0.6159 - recall: 0.2096 - f1_score: 0.3862 - Precision_0: 0.7146 - Precision_1: 0.4545 - Precision_2: 0.5772 - Precision_3: 0.5300 - Precision_4: 0.6560 - Recall_0: 0.0994 - Recall_1: 0.0027 - Recall_2: 0.1716 - Recall_3: 0.1266 - Recall_4: 0.4422 - val_loss: 1.1944 - val_categorical_accuracy: 0.5050 - val_precision: 0.8854 - val_recall: 0.2925 - val_f1_score: 0.2257 - val_Precision_0: 0.5882 - val_Precision_1: 0.0000e+00 - val_Precision_2: 0.2414 - val_Precision_3: 0.1361 - val_Precision_4: 0.9722 - val_Recall_0: 0.0870 - val_Recall_1: 0.0000e+00 - val_Recall_2: 0.0642 - val_Recall_3: 0.0602 - val_Recall_4: 0.3236\n",
            "Epoch 19/50\n",
            "556/556 [==============================] - 11s 20ms/step - loss: 1.2198 - categorical_accuracy: 0.4651 - precision: 0.6008 - recall: 0.2219 - f1_score: 0.3818 - Precision_0: 0.7494 - Precision_1: 0.0000e+00 - Precision_2: 0.5783 - Precision_3: 0.5247 - Precision_4: 0.6218 - Recall_0: 0.0938 - Recall_1: 0.0000e+00 - Recall_2: 0.1821 - Recall_3: 0.1122 - Recall_4: 0.4946 - val_loss: 0.9841 - val_categorical_accuracy: 0.6686 - val_precision: 0.9197 - val_recall: 0.4790 - val_f1_score: 0.2712 - val_Precision_0: 1.0000 - val_Precision_1: 0.0000e+00 - val_Precision_2: 0.0000e+00 - val_Precision_3: 0.2949 - val_Precision_4: 0.9456 - val_Recall_0: 0.0870 - val_Recall_1: 0.0000e+00 - val_Recall_2: 0.0000e+00 - val_Recall_3: 0.0693 - val_Recall_4: 0.5359\n",
            "Epoch 20/50\n",
            "556/556 [==============================] - 11s 20ms/step - loss: 1.2112 - categorical_accuracy: 0.4675 - precision: 0.6129 - recall: 0.2236 - f1_score: 0.3899 - Precision_0: 0.7530 - Precision_1: 0.3333 - Precision_2: 0.6069 - Precision_3: 0.5289 - Precision_4: 0.6331 - Recall_0: 0.0975 - Recall_1: 8.2012e-04 - Recall_2: 0.1848 - Recall_3: 0.1230 - Recall_4: 0.4858 - val_loss: 1.1028 - val_categorical_accuracy: 0.6045 - val_precision: 0.8906 - val_recall: 0.4303 - val_f1_score: 0.2335 - val_Precision_0: 0.5882 - val_Precision_1: 0.0000e+00 - val_Precision_2: 0.0597 - val_Precision_3: 0.1778 - val_Precision_4: 0.9539 - val_Recall_0: 0.0870 - val_Recall_1: 0.0000e+00 - val_Recall_2: 0.0734 - val_Recall_3: 0.0241 - val_Recall_4: 0.4822\n",
            "Epoch 21/50\n",
            "556/556 [==============================] - 11s 20ms/step - loss: 1.2067 - categorical_accuracy: 0.4720 - precision: 0.6132 - recall: 0.2276 - f1_score: 0.3933 - Precision_0: 0.7200 - Precision_1: 0.6667 - Precision_2: 0.5972 - Precision_3: 0.5272 - Precision_4: 0.6418 - Recall_0: 0.0997 - Recall_1: 5.4675e-04 - Recall_2: 0.1906 - Recall_3: 0.1331 - Recall_4: 0.4846 - val_loss: 1.1787 - val_categorical_accuracy: 0.5944 - val_precision: 0.8838 - val_recall: 0.3978 - val_f1_score: 0.2446 - val_Precision_0: 0.4762 - val_Precision_1: 0.0000e+00 - val_Precision_2: 0.0881 - val_Precision_3: 0.5000 - val_Precision_4: 0.9617 - val_Recall_0: 0.0870 - val_Recall_1: 0.0000e+00 - val_Recall_2: 0.1560 - val_Recall_3: 0.0181 - val_Recall_4: 0.4438\n",
            "Epoch 22/50\n",
            "556/556 [==============================] - 11s 20ms/step - loss: 1.2078 - categorical_accuracy: 0.4665 - precision: 0.6218 - recall: 0.2138 - f1_score: 0.3906 - Precision_0: 0.7283 - Precision_1: 0.3333 - Precision_2: 0.5905 - Precision_3: 0.5241 - Precision_4: 0.6571 - Recall_0: 0.0957 - Recall_1: 2.7337e-04 - Recall_2: 0.1931 - Recall_3: 0.1060 - Recall_4: 0.4606 - val_loss: 1.0526 - val_categorical_accuracy: 0.6317 - val_precision: 0.8902 - val_recall: 0.4225 - val_f1_score: 0.2706 - val_Precision_0: 0.6667 - val_Precision_1: 0.0000e+00 - val_Precision_2: 0.0189 - val_Precision_3: 0.1329 - val_Precision_4: 0.9593 - val_Recall_0: 0.0870 - val_Recall_1: 0.0000e+00 - val_Recall_2: 0.0092 - val_Recall_3: 0.0572 - val_Recall_4: 0.4725\n",
            "Epoch 23/50\n",
            "556/556 [==============================] - 11s 20ms/step - loss: 1.2006 - categorical_accuracy: 0.4770 - precision: 0.6145 - recall: 0.2344 - f1_score: 0.4061 - Precision_0: 0.6872 - Precision_1: 0.6667 - Precision_2: 0.6002 - Precision_3: 0.5360 - Precision_4: 0.6433 - Recall_0: 0.1027 - Recall_1: 5.4675e-04 - Recall_2: 0.1977 - Recall_3: 0.1443 - Recall_4: 0.4905 - val_loss: 1.0361 - val_categorical_accuracy: 0.5868 - val_precision: 0.9050 - val_recall: 0.4419 - val_f1_score: 0.2507 - val_Precision_0: 1.0000 - val_Precision_1: 0.0000e+00 - val_Precision_2: 0.1304 - val_Precision_3: 0.1322 - val_Precision_4: 0.9666 - val_Recall_0: 0.0870 - val_Recall_1: 0.0000e+00 - val_Recall_2: 0.0826 - val_Recall_3: 0.0482 - val_Recall_4: 0.4934\n",
            "Epoch 24/50\n",
            "556/556 [==============================] - 11s 20ms/step - loss: 1.2001 - categorical_accuracy: 0.4766 - precision: 0.6131 - recall: 0.2315 - f1_score: 0.4036 - Precision_0: 0.7290 - Precision_1: 0.5000 - Precision_2: 0.5788 - Precision_3: 0.5402 - Precision_4: 0.6466 - Recall_0: 0.1067 - Recall_1: 2.7337e-04 - Recall_2: 0.1936 - Recall_3: 0.1466 - Recall_4: 0.4800 - val_loss: 1.0889 - val_categorical_accuracy: 0.6309 - val_precision: 0.8705 - val_recall: 0.4130 - val_f1_score: 0.2518 - val_Precision_0: 0.6250 - val_Precision_1: 0.0000e+00 - val_Precision_2: 0.0756 - val_Precision_3: 0.1496 - val_Precision_4: 0.9557 - val_Recall_0: 0.0870 - val_Recall_1: 0.0000e+00 - val_Recall_2: 0.0826 - val_Recall_3: 0.0572 - val_Recall_4: 0.4600\n",
            "Epoch 25/50\n",
            "556/556 [==============================] - 11s 20ms/step - loss: 1.1973 - categorical_accuracy: 0.4748 - precision: 0.6134 - recall: 0.2290 - f1_score: 0.3979 - Precision_0: 0.7033 - Precision_1: 0.5000 - Precision_2: 0.5846 - Precision_3: 0.5209 - Precision_4: 0.6524 - Recall_0: 0.0984 - Recall_1: 2.7337e-04 - Recall_2: 0.1864 - Recall_3: 0.1393 - Recall_4: 0.4878 - val_loss: 1.0547 - val_categorical_accuracy: 0.6273 - val_precision: 0.8973 - val_recall: 0.4470 - val_f1_score: 0.2394 - val_Precision_0: 0.3846 - val_Precision_1: 0.0000e+00 - val_Precision_2: 0.2000 - val_Precision_3: 0.1489 - val_Precision_4: 0.9566 - val_Recall_0: 0.0870 - val_Recall_1: 0.0000e+00 - val_Recall_2: 0.0642 - val_Recall_3: 0.0633 - val_Recall_4: 0.4986\n",
            "Epoch 26/50\n",
            "556/556 [==============================] - 11s 19ms/step - loss: 1.1977 - categorical_accuracy: 0.4748 - precision: 0.6204 - recall: 0.2286 - f1_score: 0.4038 - Precision_0: 0.7288 - Precision_1: 0.5000 - Precision_2: 0.5915 - Precision_3: 0.5375 - Precision_4: 0.6574 - Recall_0: 0.1058 - Recall_1: 8.2012e-04 - Recall_2: 0.1924 - Recall_3: 0.1477 - Recall_4: 0.4696 - val_loss: 1.0247 - val_categorical_accuracy: 0.6364 - val_precision: 0.8911 - val_recall: 0.4902 - val_f1_score: 0.2680 - val_Precision_0: 0.5556 - val_Precision_1: 0.0000e+00 - val_Precision_2: 0.0845 - val_Precision_3: 0.1731 - val_Precision_4: 0.9573 - val_Recall_0: 0.0870 - val_Recall_1: 0.0000e+00 - val_Recall_2: 0.0550 - val_Recall_3: 0.0813 - val_Recall_4: 0.5465\n",
            "Epoch 27/50\n",
            "556/556 [==============================] - 11s 19ms/step - loss: 1.2129 - categorical_accuracy: 0.4693 - precision: 0.6156 - recall: 0.2249 - f1_score: 0.3890 - Precision_0: 0.7336 - Precision_1: 0.5000 - Precision_2: 0.5890 - Precision_3: 0.5243 - Precision_4: 0.6503 - Recall_0: 0.1135 - Recall_1: 2.7337e-04 - Recall_2: 0.1886 - Recall_3: 0.1338 - Recall_4: 0.4711 - val_loss: 1.1823 - val_categorical_accuracy: 0.5556 - val_precision: 0.8128 - val_recall: 0.2577 - val_f1_score: 0.2612 - val_Precision_0: 0.6250 - val_Precision_1: 0.0000e+00 - val_Precision_2: 0.0227 - val_Precision_3: 0.1160 - val_Precision_4: 0.9690 - val_Recall_0: 0.0870 - val_Recall_1: 0.0000e+00 - val_Recall_2: 0.0092 - val_Recall_3: 0.0873 - val_Recall_4: 0.2835\n",
            "Epoch 28/50\n",
            "556/556 [==============================] - 11s 20ms/step - loss: 1.2105 - categorical_accuracy: 0.4687 - precision: 0.6170 - recall: 0.2258 - f1_score: 0.3843 - Precision_0: 0.7046 - Precision_1: 0.0000e+00 - Precision_2: 0.5918 - Precision_3: 0.5227 - Precision_4: 0.6590 - Recall_0: 0.1123 - Recall_1: 0.0000e+00 - Recall_2: 0.1734 - Recall_3: 0.1536 - Recall_4: 0.4696 - val_loss: 1.0046 - val_categorical_accuracy: 0.6475 - val_precision: 0.9146 - val_recall: 0.4727 - val_f1_score: 0.2834 - val_Precision_0: 0.9091 - val_Precision_1: 0.0000e+00 - val_Precision_2: 0.0000e+00 - val_Precision_3: 0.2105 - val_Precision_4: 0.9574 - val_Recall_0: 0.0870 - val_Recall_1: 0.0000e+00 - val_Recall_2: 0.0000e+00 - val_Recall_3: 0.0843 - val_Recall_4: 0.5277\n"
          ]
        },
        {
          "output_type": "display_data",
          "data": {
            "text/plain": [
              "VBox(children=(Label(value='0.003 MB of 0.003 MB uploaded\\r'), FloatProgress(value=1.0, max=1.0)))"
            ],
            "application/vnd.jupyter.widget-view+json": {
              "version_major": 2,
              "version_minor": 0,
              "model_id": "337acd90830143aa850cc6bb2f2e8065"
            }
          },
          "metadata": {}
        },
        {
          "output_type": "display_data",
          "data": {
            "text/plain": [
              "<IPython.core.display.HTML object>"
            ],
            "text/html": [
              "<style>\n",
              "    table.wandb td:nth-child(1) { padding: 0 10px; text-align: left ; width: auto;} td:nth-child(2) {text-align: left ; width: 100%}\n",
              "    .wandb-row { display: flex; flex-direction: row; flex-wrap: wrap; justify-content: flex-start; width: 100% }\n",
              "    .wandb-col { display: flex; flex-direction: column; flex-basis: 100%; flex: 1; padding: 10px; }\n",
              "    </style>\n",
              "<div class=\"wandb-row\"><div class=\"wandb-col\"><h3>Run history:</h3><br/><table class=\"wandb\"><tr><td>Precision_0</td><td>▁▁▁▁▆▇▇▇█▇██████▇█████▇█▇██▇</td></tr><tr><td>Precision_1</td><td>▁▁▁▁▁▁▁▁▆▁▁▁▂▅█▄▁▆▁▅█▅█▆▆▆▆▁</td></tr><tr><td>Precision_2</td><td>▄▁▅▆▄▆▄▅▆▅▄▅▆▅▅▅▆▅▅█▇▆▇▅▆▆▆▆</td></tr><tr><td>Precision_3</td><td>▁▆▅▇█▇█▇█▇██████████████████</td></tr><tr><td>Precision_4</td><td>▁▄▆▆▇▇▇▇██▇█▇▇█▇▇█▆▆▇█▇▇██▇█</td></tr><tr><td>Recall_0</td><td>▁▁▁▁▁▃▄▅▅▄▅▅▆▆▆▆▇▇▇▇▇▇▇█▇███</td></tr><tr><td>Recall_1</td><td>▁▁▁▁▁▁▁▁▂▁▁▁▂▃▂▂▁█▁▃▂▂▂▂▂▃▂▁</td></tr><tr><td>Recall_2</td><td>▁▂▄▅▆▆▆▆▇▇▇▇▇▇▇▇▇▇▇████████▇</td></tr><tr><td>Recall_3</td><td>▁▁▁▂▃▄▄▅▄▅▆▆▆▅▇▇▇▇▆▇▇▆██▇█▇█</td></tr><tr><td>Recall_4</td><td>▁▅▆▆▆▆▆▇▆▇▇▇▇▇▇▇▇▇███▇██████</td></tr><tr><td>categorical_accuracy</td><td>▁▅▅▆▆▇▇▇▇▇▇▇▇▇█▇████████████</td></tr><tr><td>epoch</td><td>▁▁▂▂▂▂▃▃▃▃▄▄▄▄▅▅▅▅▆▆▆▆▇▇▇▇██</td></tr><tr><td>loss</td><td>█▅▄▃▃▃▃▃▂▂▂▂▂▂▂▂▂▁▂▁▁▁▁▁▁▁▁▁</td></tr><tr><td>precision</td><td>▁▅▇▇▇▇▇▇█▇▇▇▇▇▇▇▇█▆▇▇█▇▇▇█▇█</td></tr><tr><td>recall</td><td>▁▄▄▅▅▆▆▆▆▆▆▇▇▇▇▇▇▇███▇██████</td></tr><tr><td>size_train</td><td>▁</td></tr><tr><td>val_Precision_0</td><td>▁▁▁▁▁█▇▇▆▇▅▇▇▇▅▇▆▅█▅▄▆█▅▄▅▅▇</td></tr><tr><td>val_Precision_1</td><td>▁▁▁▁▁▁▁▁▁▁▁▁▁▁▁▁▁▁▁▁▁▁▁▁▁▁▁▁</td></tr><tr><td>val_Precision_2</td><td>▁▅▁▁▁▄▃▇▃▂▃▄▃▂▂▇▂█▁▃▄▂▅▃▇▃▂▁</td></tr><tr><td>val_Precision_3</td><td>▁▁▁▁▂▁▂▁▂▂▁▃▁▂▁▂▂▃▅▃█▃▃▃▃▃▃▄</td></tr><tr><td>val_Precision_4</td><td>█▅▆▅▅▄▆▅▅▄▄▃▄▅▂▅▂▄▁▂▃▃▄▂▂▃▄▃</td></tr><tr><td>val_Recall_0</td><td>▁▁▁▁▁███████▅██▅████████████</td></tr><tr><td>val_Recall_1</td><td>▁▁▁▁▁▁▁▁▁▁▁▁▁▁▁▁▁▁▁▁▁▁▁▁▁▁▁▁</td></tr><tr><td>val_Recall_2</td><td>▁▁▁▁▁▆▂▂▂▂▂▂▃▂▂▆▂▄▁▄█▁▅▅▄▃▁▁</td></tr><tr><td>val_Recall_3</td><td>▁▁▁▁▃▁▂▁▃▂▁▄▁█▁▁▂▅▆▃▂▅▄▅▅▇▇▇</td></tr><tr><td>val_Recall_4</td><td>▁▄▄▄▅▇▅▆▅▅▆▆▆▄█▆▅▅█▇▇▇▇▇▇█▅█</td></tr><tr><td>val_categorical_accuracy</td><td>▂▃▂▄▃▇▄█▃▆█▅█▁█▆▄▄█▆▆▇▆▇▇▇▅▇</td></tr><tr><td>val_loss</td><td>▇▅▇█▄▂▅▂▅▅▁▄▃█▁▅▅▆▁▄▅▃▂▃▃▂▅▂</td></tr><tr><td>val_precision</td><td>█▇▇▇▆▇▆▇▆▆▇▆▇▁▇▇▆▆▇▆▆▆▆▆▆▆▅▆</td></tr><tr><td>val_recall</td><td>▁▄▄▄▅▇▅▆▅▅▆▆▆▄█▆▅▅█▇▇▇▇▇▇█▅█</td></tr></table><br/></div><div class=\"wandb-col\"><h3>Run summary:</h3><br/><table class=\"wandb\"><tr><td>Precision_0</td><td>0.70463</td></tr><tr><td>Precision_1</td><td>0.0</td></tr><tr><td>Precision_2</td><td>0.59183</td></tr><tr><td>Precision_3</td><td>0.52268</td></tr><tr><td>Precision_4</td><td>0.65899</td></tr><tr><td>Recall_0</td><td>0.11227</td></tr><tr><td>Recall_1</td><td>0.0</td></tr><tr><td>Recall_2</td><td>0.1734</td></tr><tr><td>Recall_3</td><td>0.15359</td></tr><tr><td>Recall_4</td><td>0.4696</td></tr><tr><td>best_epoch</td><td>14</td></tr><tr><td>best_val_loss</td><td>0.97497</td></tr><tr><td>categorical_accuracy</td><td>0.46871</td></tr><tr><td>epoch</td><td>27</td></tr><tr><td>loss</td><td>1.21045</td></tr><tr><td>precision</td><td>0.61698</td></tr><tr><td>recall</td><td>0.22584</td></tr><tr><td>size_train</td><td>35521</td></tr><tr><td>train_set</td><td>Prime_Pantry</td></tr><tr><td>val_Precision_0</td><td>0.90909</td></tr><tr><td>val_Precision_1</td><td>0.0</td></tr><tr><td>val_Precision_2</td><td>0.0</td></tr><tr><td>val_Precision_3</td><td>0.21053</td></tr><tr><td>val_Precision_4</td><td>0.95737</td></tr><tr><td>val_Recall_0</td><td>0.08696</td></tr><tr><td>val_Recall_1</td><td>0.0</td></tr><tr><td>val_Recall_2</td><td>0.0</td></tr><tr><td>val_Recall_3</td><td>0.08434</td></tr><tr><td>val_Recall_4</td><td>0.5277</td></tr><tr><td>val_categorical_accuracy</td><td>0.64746</td></tr><tr><td>val_loss</td><td>1.00465</td></tr><tr><td>val_precision</td><td>0.91464</td></tr><tr><td>val_recall</td><td>0.47271</td></tr></table><br/></div></div>"
            ]
          },
          "metadata": {}
        },
        {
          "output_type": "display_data",
          "data": {
            "text/plain": [
              "<IPython.core.display.HTML object>"
            ],
            "text/html": [
              " View run <strong style=\"color:#cdcd00\">legendary-sweep-13</strong> at: <a href='https://wandb.ai/coffeegang/RNN_preliminary_tests/runs/51nhrvkr' target=\"_blank\">https://wandb.ai/coffeegang/RNN_preliminary_tests/runs/51nhrvkr</a><br/>Synced 5 W&B file(s), 1 media file(s), 0 artifact file(s) and 0 other file(s)"
            ]
          },
          "metadata": {}
        },
        {
          "output_type": "display_data",
          "data": {
            "text/plain": [
              "<IPython.core.display.HTML object>"
            ],
            "text/html": [
              "Find logs at: <code>./wandb/run-20240129_173053-51nhrvkr/logs</code>"
            ]
          },
          "metadata": {}
        },
        {
          "output_type": "stream",
          "name": "stderr",
          "text": [
            "\u001b[34m\u001b[1mwandb\u001b[0m: Agent Starting Run: 5xncfxyk with config:\n",
            "\u001b[34m\u001b[1mwandb\u001b[0m: \tRNN_layer_model: model_4\n",
            "\u001b[34m\u001b[1mwandb\u001b[0m: \tembedding_size: 64\n"
          ]
        },
        {
          "output_type": "display_data",
          "data": {
            "text/plain": [
              "<IPython.core.display.HTML object>"
            ],
            "text/html": [
              "Tracking run with wandb version 0.16.2"
            ]
          },
          "metadata": {}
        },
        {
          "output_type": "display_data",
          "data": {
            "text/plain": [
              "<IPython.core.display.HTML object>"
            ],
            "text/html": [
              "Run data is saved locally in <code>/content/gdrive/.shortcut-targets-by-id/1osKmyrDLORFSpes1mwrU-W7OXM-to6bK/AML_Exam/Problem2/wandb/run-20240129_173648-5xncfxyk</code>"
            ]
          },
          "metadata": {}
        },
        {
          "output_type": "display_data",
          "data": {
            "text/plain": [
              "<IPython.core.display.HTML object>"
            ],
            "text/html": [
              "Syncing run <strong><a href='https://wandb.ai/coffeegang/RNN_preliminary_tests/runs/5xncfxyk' target=\"_blank\">colorful-sweep-14</a></strong> to <a href='https://wandb.ai/coffeegang/RNN_preliminary_tests' target=\"_blank\">Weights & Biases</a> (<a href='https://wandb.me/run' target=\"_blank\">docs</a>)<br/>Sweep page: <a href='https://wandb.ai/coffeegang/RNN_preliminary_tests/sweeps/r8db3smm' target=\"_blank\">https://wandb.ai/coffeegang/RNN_preliminary_tests/sweeps/r8db3smm</a>"
            ]
          },
          "metadata": {}
        },
        {
          "output_type": "display_data",
          "data": {
            "text/plain": [
              "<IPython.core.display.HTML object>"
            ],
            "text/html": [
              " View project at <a href='https://wandb.ai/coffeegang/RNN_preliminary_tests' target=\"_blank\">https://wandb.ai/coffeegang/RNN_preliminary_tests</a>"
            ]
          },
          "metadata": {}
        },
        {
          "output_type": "display_data",
          "data": {
            "text/plain": [
              "<IPython.core.display.HTML object>"
            ],
            "text/html": [
              " View sweep at <a href='https://wandb.ai/coffeegang/RNN_preliminary_tests/sweeps/r8db3smm' target=\"_blank\">https://wandb.ai/coffeegang/RNN_preliminary_tests/sweeps/r8db3smm</a>"
            ]
          },
          "metadata": {}
        },
        {
          "output_type": "display_data",
          "data": {
            "text/plain": [
              "<IPython.core.display.HTML object>"
            ],
            "text/html": [
              " View run at <a href='https://wandb.ai/coffeegang/RNN_preliminary_tests/runs/5xncfxyk' target=\"_blank\">https://wandb.ai/coffeegang/RNN_preliminary_tests/runs/5xncfxyk</a>"
            ]
          },
          "metadata": {}
        },
        {
          "output_type": "stream",
          "name": "stdout",
          "text": [
            "Epoch 1/50\n",
            "556/556 [==============================] - 37s 56ms/step - loss: 1.4742 - categorical_accuracy: 0.3097 - precision: 0.5824 - recall: 0.0285 - f1_score: 0.2057 - Precision_0: 0.0000e+00 - Precision_1: 0.0000e+00 - Precision_2: 0.0000e+00 - Precision_3: 0.3854 - Precision_4: 0.5939 - Recall_0: 0.0000e+00 - Recall_1: 0.0000e+00 - Recall_2: 0.0000e+00 - Recall_3: 0.0038 - Recall_4: 0.1002 - val_loss: 1.3103 - val_categorical_accuracy: 0.3326 - val_precision: 0.9291 - val_recall: 0.1645 - val_f1_score: 0.1407 - val_Precision_0: 0.0000e+00 - val_Precision_1: 0.0000e+00 - val_Precision_2: 0.0000e+00 - val_Precision_3: 0.0000e+00 - val_Precision_4: 0.9852 - val_Recall_0: 0.0000e+00 - val_Recall_1: 0.0000e+00 - val_Recall_2: 0.0000e+00 - val_Recall_3: 0.0000e+00 - val_Recall_4: 0.1865\n",
            "Epoch 2/50\n",
            "556/556 [==============================] - 13s 23ms/step - loss: 1.3029 - categorical_accuracy: 0.4236 - precision: 0.6030 - recall: 0.1200 - f1_score: 0.2825 - Precision_0: 0.0000e+00 - Precision_1: 0.0000e+00 - Precision_2: 0.4127 - Precision_3: 0.5031 - Precision_4: 0.6201 - Recall_0: 0.0000e+00 - Recall_1: 0.0000e+00 - Recall_2: 0.0143 - Recall_3: 0.0247 - Recall_4: 0.3991 - val_loss: 1.1212 - val_categorical_accuracy: 0.4611 - val_precision: 0.9760 - val_recall: 0.2394 - val_f1_score: 0.1766 - val_Precision_0: 0.0000e+00 - val_Precision_1: 0.0000e+00 - val_Precision_2: 0.0000e+00 - val_Precision_3: 0.0000e+00 - val_Precision_4: 0.9813 - val_Recall_0: 0.0000e+00 - val_Recall_1: 0.0000e+00 - val_Recall_2: 0.0000e+00 - val_Recall_3: 0.0000e+00 - val_Recall_4: 0.2714\n",
            "Epoch 3/50\n",
            "556/556 [==============================] - 13s 23ms/step - loss: 1.2150 - categorical_accuracy: 0.4612 - precision: 0.6101 - recall: 0.1857 - f1_score: 0.3521 - Precision_0: 1.0000 - Precision_1: 0.0000e+00 - Precision_2: 0.5421 - Precision_3: 0.4977 - Precision_4: 0.6510 - Recall_0: 3.0760e-04 - Recall_1: 0.0000e+00 - Recall_2: 0.0784 - Recall_3: 0.0996 - Recall_4: 0.5033 - val_loss: 0.8602 - val_categorical_accuracy: 0.6444 - val_precision: 0.9634 - val_recall: 0.4900 - val_f1_score: 0.3375 - val_Precision_0: 0.0000e+00 - val_Precision_1: 0.0000e+00 - val_Precision_2: 0.0000e+00 - val_Precision_3: 0.0909 - val_Precision_4: 0.9783 - val_Recall_0: 0.0000e+00 - val_Recall_1: 0.0000e+00 - val_Recall_2: 0.0000e+00 - val_Recall_3: 0.0090 - val_Recall_4: 0.5549\n",
            "Epoch 4/50\n",
            "556/556 [==============================] - 12s 22ms/step - loss: 1.1633 - categorical_accuracy: 0.4865 - precision: 0.6152 - recall: 0.2507 - f1_score: 0.4069 - Precision_0: 0.5207 - Precision_1: 0.0000e+00 - Precision_2: 0.5776 - Precision_3: 0.5233 - Precision_4: 0.6694 - Recall_0: 0.0348 - Recall_1: 0.0000e+00 - Recall_2: 0.2105 - Recall_3: 0.1646 - Recall_4: 0.5402 - val_loss: 1.0036 - val_categorical_accuracy: 0.5647 - val_precision: 0.7363 - val_recall: 0.4624 - val_f1_score: 0.3189 - val_Precision_0: 0.0000e+00 - val_Precision_1: 0.0000e+00 - val_Precision_2: 0.1260 - val_Precision_3: 0.1143 - val_Precision_4: 0.9802 - val_Recall_0: 0.0000e+00 - val_Recall_1: 0.0000e+00 - val_Recall_2: 0.1468 - val_Recall_3: 0.2771 - val_Recall_4: 0.5010\n",
            "Epoch 5/50\n",
            "556/556 [==============================] - 11s 20ms/step - loss: 1.1421 - categorical_accuracy: 0.4985 - precision: 0.6157 - recall: 0.2923 - f1_score: 0.4206 - Precision_0: 0.6296 - Precision_1: 0.7500 - Precision_2: 0.5809 - Precision_3: 0.5374 - Precision_4: 0.6687 - Recall_0: 0.1427 - Recall_1: 8.2012e-04 - Recall_2: 0.2684 - Recall_3: 0.2084 - Recall_4: 0.5578 - val_loss: 0.9193 - val_categorical_accuracy: 0.6387 - val_precision: 0.8814 - val_recall: 0.4735 - val_f1_score: 0.3153 - val_Precision_0: 0.8824 - val_Precision_1: 0.0000e+00 - val_Precision_2: 0.0698 - val_Precision_3: 0.0956 - val_Precision_4: 0.9737 - val_Recall_0: 0.1304 - val_Recall_1: 0.0000e+00 - val_Recall_2: 0.0275 - val_Recall_3: 0.0723 - val_Recall_4: 0.5277\n",
            "Epoch 6/50\n",
            "556/556 [==============================] - 11s 20ms/step - loss: 1.1551 - categorical_accuracy: 0.4896 - precision: 0.6121 - recall: 0.2798 - f1_score: 0.4181 - Precision_0: 0.6501 - Precision_1: 0.0000e+00 - Precision_2: 0.5816 - Precision_3: 0.5221 - Precision_4: 0.6617 - Recall_0: 0.1732 - Recall_1: 0.0000e+00 - Recall_2: 0.2763 - Recall_3: 0.1718 - Recall_4: 0.5316 - val_loss: 0.9220 - val_categorical_accuracy: 0.6157 - val_precision: 0.8072 - val_recall: 0.4913 - val_f1_score: 0.3204 - val_Precision_0: 0.9565 - val_Precision_1: 0.0000e+00 - val_Precision_2: 0.1139 - val_Precision_3: 0.1622 - val_Precision_4: 0.9820 - val_Recall_0: 0.1913 - val_Recall_1: 0.0000e+00 - val_Recall_2: 0.0826 - val_Recall_3: 0.2922 - val_Recall_4: 0.5294\n",
            "Epoch 7/50\n",
            "556/556 [==============================] - 11s 20ms/step - loss: 1.1570 - categorical_accuracy: 0.4915 - precision: 0.6130 - recall: 0.2782 - f1_score: 0.4212 - Precision_0: 0.6574 - Precision_1: 0.0000e+00 - Precision_2: 0.5822 - Precision_3: 0.5169 - Precision_4: 0.6679 - Recall_0: 0.1824 - Recall_1: 0.0000e+00 - Recall_2: 0.2703 - Recall_3: 0.1801 - Recall_4: 0.5199 - val_loss: 0.9762 - val_categorical_accuracy: 0.6824 - val_precision: 0.9399 - val_recall: 0.3929 - val_f1_score: 0.2973 - val_Precision_0: 0.9375 - val_Precision_1: 0.0000e+00 - val_Precision_2: 0.2261 - val_Precision_3: 0.0000e+00 - val_Precision_4: 0.9821 - val_Recall_0: 0.1304 - val_Recall_1: 0.0000e+00 - val_Recall_2: 0.2385 - val_Recall_3: 0.0000e+00 - val_Recall_4: 0.4365\n",
            "Epoch 8/50\n",
            "556/556 [==============================] - 11s 20ms/step - loss: 1.2233 - categorical_accuracy: 0.4614 - precision: 0.6075 - recall: 0.2247 - f1_score: 0.3796 - Precision_0: 0.5990 - Precision_1: 0.0000e+00 - Precision_2: 0.5849 - Precision_3: 0.5179 - Precision_4: 0.6522 - Recall_0: 0.1089 - Recall_1: 0.0000e+00 - Recall_2: 0.2186 - Recall_3: 0.1290 - Recall_4: 0.4489 - val_loss: 0.9417 - val_categorical_accuracy: 0.6798 - val_precision: 0.9370 - val_recall: 0.4666 - val_f1_score: 0.3013 - val_Precision_0: 0.8000 - val_Precision_1: 0.0000e+00 - val_Precision_2: 0.1569 - val_Precision_3: 0.1294 - val_Precision_4: 0.9829 - val_Recall_0: 0.2087 - val_Recall_1: 0.0000e+00 - val_Recall_2: 0.0734 - val_Recall_3: 0.0331 - val_Recall_4: 0.5197\n"
          ]
        },
        {
          "output_type": "display_data",
          "data": {
            "text/plain": [
              "VBox(children=(Label(value='0.003 MB of 0.003 MB uploaded\\r'), FloatProgress(value=1.0, max=1.0)))"
            ],
            "application/vnd.jupyter.widget-view+json": {
              "version_major": 2,
              "version_minor": 0,
              "model_id": "7a236dac35f8416283a68b21517b4beb"
            }
          },
          "metadata": {}
        },
        {
          "output_type": "display_data",
          "data": {
            "text/plain": [
              "<IPython.core.display.HTML object>"
            ],
            "text/html": [
              "<style>\n",
              "    table.wandb td:nth-child(1) { padding: 0 10px; text-align: left ; width: auto;} td:nth-child(2) {text-align: left ; width: 100%}\n",
              "    .wandb-row { display: flex; flex-direction: row; flex-wrap: wrap; justify-content: flex-start; width: 100% }\n",
              "    .wandb-col { display: flex; flex-direction: column; flex-basis: 100%; flex: 1; padding: 10px; }\n",
              "    </style>\n",
              "<div class=\"wandb-row\"><div class=\"wandb-col\"><h3>Run history:</h3><br/><table class=\"wandb\"><tr><td>Precision_0</td><td>▁▁█▅▅▆▆▅</td></tr><tr><td>Precision_1</td><td>▁▁▁▁█▁▁▁</td></tr><tr><td>Precision_2</td><td>▁▆▇█████</td></tr><tr><td>Precision_3</td><td>▁▆▆▇█▇▇▇</td></tr><tr><td>Precision_4</td><td>▁▃▆██▇█▆</td></tr><tr><td>Recall_0</td><td>▁▁▁▂▆██▅</td></tr><tr><td>Recall_1</td><td>▁▁▁▁█▁▁▁</td></tr><tr><td>Recall_2</td><td>▁▁▃▆███▇</td></tr><tr><td>Recall_3</td><td>▁▂▄▆█▇▇▅</td></tr><tr><td>Recall_4</td><td>▁▆▇███▇▆</td></tr><tr><td>categorical_accuracy</td><td>▁▅▇████▇</td></tr><tr><td>epoch</td><td>▁▂▃▄▅▆▇█</td></tr><tr><td>loss</td><td>█▄▃▁▁▁▁▃</td></tr><tr><td>precision</td><td>▁▅▇██▇▇▆</td></tr><tr><td>recall</td><td>▁▃▅▇███▆</td></tr><tr><td>size_train</td><td>▁</td></tr><tr><td>val_Precision_0</td><td>▁▁▁▁▇██▇</td></tr><tr><td>val_Precision_1</td><td>▁▁▁▁▁▁▁▁</td></tr><tr><td>val_Precision_2</td><td>▁▁▁▅▃▅█▆</td></tr><tr><td>val_Precision_3</td><td>▁▁▅▆▅█▁▇</td></tr><tr><td>val_Precision_4</td><td>█▆▄▅▁▆▆▇</td></tr><tr><td>val_Recall_0</td><td>▁▁▁▁▅▇▅█</td></tr><tr><td>val_Recall_1</td><td>▁▁▁▁▁▁▁▁</td></tr><tr><td>val_Recall_2</td><td>▁▁▁▅▂▃█▃</td></tr><tr><td>val_Recall_3</td><td>▁▁▁█▃█▁▂</td></tr><tr><td>val_Recall_4</td><td>▁▃█▇▇█▆▇</td></tr><tr><td>val_categorical_accuracy</td><td>▁▄▇▆▇▇██</td></tr><tr><td>val_loss</td><td>█▅▁▃▂▂▃▂</td></tr><tr><td>val_precision</td><td>▇██▁▅▃▇▇</td></tr><tr><td>val_recall</td><td>▁▃█▇██▆▇</td></tr></table><br/></div><div class=\"wandb-col\"><h3>Run summary:</h3><br/><table class=\"wandb\"><tr><td>Precision_0</td><td>0.59898</td></tr><tr><td>Precision_1</td><td>0.0</td></tr><tr><td>Precision_2</td><td>0.5849</td></tr><tr><td>Precision_3</td><td>0.51791</td></tr><tr><td>Precision_4</td><td>0.65217</td></tr><tr><td>Recall_0</td><td>0.10889</td></tr><tr><td>Recall_1</td><td>0.0</td></tr><tr><td>Recall_2</td><td>0.21865</td></tr><tr><td>Recall_3</td><td>0.12899</td></tr><tr><td>Recall_4</td><td>0.44889</td></tr><tr><td>best_epoch</td><td>2</td></tr><tr><td>best_val_loss</td><td>0.86022</td></tr><tr><td>categorical_accuracy</td><td>0.46139</td></tr><tr><td>epoch</td><td>7</td></tr><tr><td>loss</td><td>1.22333</td></tr><tr><td>precision</td><td>0.60747</td></tr><tr><td>recall</td><td>0.22468</td></tr><tr><td>size_train</td><td>35521</td></tr><tr><td>train_set</td><td>Prime_Pantry</td></tr><tr><td>val_Precision_0</td><td>0.8</td></tr><tr><td>val_Precision_1</td><td>0.0</td></tr><tr><td>val_Precision_2</td><td>0.15686</td></tr><tr><td>val_Precision_3</td><td>0.12941</td></tr><tr><td>val_Precision_4</td><td>0.98288</td></tr><tr><td>val_Recall_0</td><td>0.2087</td></tr><tr><td>val_Recall_1</td><td>0.0</td></tr><tr><td>val_Recall_2</td><td>0.07339</td></tr><tr><td>val_Recall_3</td><td>0.03313</td></tr><tr><td>val_Recall_4</td><td>0.51972</td></tr><tr><td>val_categorical_accuracy</td><td>0.67979</td></tr><tr><td>val_loss</td><td>0.9417</td></tr><tr><td>val_precision</td><td>0.937</td></tr><tr><td>val_recall</td><td>0.46663</td></tr></table><br/></div></div>"
            ]
          },
          "metadata": {}
        },
        {
          "output_type": "display_data",
          "data": {
            "text/plain": [
              "<IPython.core.display.HTML object>"
            ],
            "text/html": [
              " View run <strong style=\"color:#cdcd00\">colorful-sweep-14</strong> at: <a href='https://wandb.ai/coffeegang/RNN_preliminary_tests/runs/5xncfxyk' target=\"_blank\">https://wandb.ai/coffeegang/RNN_preliminary_tests/runs/5xncfxyk</a><br/>Synced 5 W&B file(s), 1 media file(s), 0 artifact file(s) and 0 other file(s)"
            ]
          },
          "metadata": {}
        },
        {
          "output_type": "display_data",
          "data": {
            "text/plain": [
              "<IPython.core.display.HTML object>"
            ],
            "text/html": [
              "Find logs at: <code>./wandb/run-20240129_173648-5xncfxyk/logs</code>"
            ]
          },
          "metadata": {}
        },
        {
          "output_type": "stream",
          "name": "stderr",
          "text": [
            "\u001b[34m\u001b[1mwandb\u001b[0m: Agent Starting Run: g2v2o3m1 with config:\n",
            "\u001b[34m\u001b[1mwandb\u001b[0m: \tRNN_layer_model: model_4\n",
            "\u001b[34m\u001b[1mwandb\u001b[0m: \tembedding_size: 128\n"
          ]
        },
        {
          "output_type": "display_data",
          "data": {
            "text/plain": [
              "<IPython.core.display.HTML object>"
            ],
            "text/html": [
              "Tracking run with wandb version 0.16.2"
            ]
          },
          "metadata": {}
        },
        {
          "output_type": "display_data",
          "data": {
            "text/plain": [
              "<IPython.core.display.HTML object>"
            ],
            "text/html": [
              "Run data is saved locally in <code>/content/gdrive/.shortcut-targets-by-id/1osKmyrDLORFSpes1mwrU-W7OXM-to6bK/AML_Exam/Problem2/wandb/run-20240129_173901-g2v2o3m1</code>"
            ]
          },
          "metadata": {}
        },
        {
          "output_type": "display_data",
          "data": {
            "text/plain": [
              "<IPython.core.display.HTML object>"
            ],
            "text/html": [
              "Syncing run <strong><a href='https://wandb.ai/coffeegang/RNN_preliminary_tests/runs/g2v2o3m1' target=\"_blank\">celestial-sweep-15</a></strong> to <a href='https://wandb.ai/coffeegang/RNN_preliminary_tests' target=\"_blank\">Weights & Biases</a> (<a href='https://wandb.me/run' target=\"_blank\">docs</a>)<br/>Sweep page: <a href='https://wandb.ai/coffeegang/RNN_preliminary_tests/sweeps/r8db3smm' target=\"_blank\">https://wandb.ai/coffeegang/RNN_preliminary_tests/sweeps/r8db3smm</a>"
            ]
          },
          "metadata": {}
        },
        {
          "output_type": "display_data",
          "data": {
            "text/plain": [
              "<IPython.core.display.HTML object>"
            ],
            "text/html": [
              " View project at <a href='https://wandb.ai/coffeegang/RNN_preliminary_tests' target=\"_blank\">https://wandb.ai/coffeegang/RNN_preliminary_tests</a>"
            ]
          },
          "metadata": {}
        },
        {
          "output_type": "display_data",
          "data": {
            "text/plain": [
              "<IPython.core.display.HTML object>"
            ],
            "text/html": [
              " View sweep at <a href='https://wandb.ai/coffeegang/RNN_preliminary_tests/sweeps/r8db3smm' target=\"_blank\">https://wandb.ai/coffeegang/RNN_preliminary_tests/sweeps/r8db3smm</a>"
            ]
          },
          "metadata": {}
        },
        {
          "output_type": "display_data",
          "data": {
            "text/plain": [
              "<IPython.core.display.HTML object>"
            ],
            "text/html": [
              " View run at <a href='https://wandb.ai/coffeegang/RNN_preliminary_tests/runs/g2v2o3m1' target=\"_blank\">https://wandb.ai/coffeegang/RNN_preliminary_tests/runs/g2v2o3m1</a>"
            ]
          },
          "metadata": {}
        },
        {
          "output_type": "stream",
          "name": "stdout",
          "text": [
            "Epoch 1/50\n",
            "556/556 [==============================] - 36s 53ms/step - loss: 1.5090 - categorical_accuracy: 0.2873 - precision: 0.5538 - recall: 0.0058 - f1_score: 0.1892 - Precision_0: 0.0000e+00 - Precision_1: 0.0000e+00 - Precision_2: 0.0000e+00 - Precision_3: 0.5556 - Precision_4: 0.5535 - Recall_0: 0.0000e+00 - Recall_1: 0.0000e+00 - Recall_2: 0.0000e+00 - Recall_3: 0.0031 - Recall_4: 0.0180 - val_loss: 1.3740 - val_categorical_accuracy: 0.2607 - val_precision: 0.6876 - val_recall: 0.0582 - val_f1_score: 0.1015 - val_Precision_0: 0.0000e+00 - val_Precision_1: 0.0000e+00 - val_Precision_2: 0.0000e+00 - val_Precision_3: 0.0855 - val_Precision_4: 1.0000 - val_Recall_0: 0.0000e+00 - val_Recall_1: 0.0000e+00 - val_Recall_2: 0.0000e+00 - val_Recall_3: 0.0392 - val_Recall_4: 0.0632\n",
            "Epoch 2/50\n",
            "556/556 [==============================] - 14s 26ms/step - loss: 1.3785 - categorical_accuracy: 0.3887 - precision: 0.5831 - recall: 0.1082 - f1_score: 0.2649 - Precision_0: 0.0000e+00 - Precision_1: 0.0000e+00 - Precision_2: 0.5575 - Precision_3: 0.5105 - Precision_4: 0.6087 - Recall_0: 0.0000e+00 - Recall_1: 0.0000e+00 - Recall_2: 0.0490 - Recall_3: 0.0676 - Recall_4: 0.2808 - val_loss: 1.1083 - val_categorical_accuracy: 0.6167 - val_precision: 0.8959 - val_recall: 0.2356 - val_f1_score: 0.2115 - val_Precision_0: 0.0000e+00 - val_Precision_1: 0.0000e+00 - val_Precision_2: 0.0000e+00 - val_Precision_3: 0.1786 - val_Precision_4: 0.9823 - val_Recall_0: 0.0000e+00 - val_Recall_1: 0.0000e+00 - val_Recall_2: 0.0000e+00 - val_Recall_3: 0.0602 - val_Recall_4: 0.2628\n",
            "Epoch 3/50\n",
            "556/556 [==============================] - 12s 22ms/step - loss: 1.3300 - categorical_accuracy: 0.4149 - precision: 0.5917 - recall: 0.1406 - f1_score: 0.2985 - Precision_0: 0.6575 - Precision_1: 0.0000e+00 - Precision_2: 0.5888 - Precision_3: 0.5175 - Precision_4: 0.6165 - Recall_0: 0.0148 - Recall_1: 0.0000e+00 - Recall_2: 0.0852 - Recall_3: 0.0938 - Recall_4: 0.3337 - val_loss: 1.2187 - val_categorical_accuracy: 0.3852 - val_precision: 0.8764 - val_recall: 0.2050 - val_f1_score: 0.1716 - val_Precision_0: 0.0000e+00 - val_Precision_1: 0.0000e+00 - val_Precision_2: 0.2000 - val_Precision_3: 0.1862 - val_Precision_4: 0.9758 - val_Recall_0: 0.0000e+00 - val_Recall_1: 0.0000e+00 - val_Recall_2: 0.0183 - val_Recall_3: 0.0813 - val_Recall_4: 0.2261\n",
            "Epoch 4/50\n",
            "556/556 [==============================] - 12s 21ms/step - loss: 1.2933 - categorical_accuracy: 0.4316 - precision: 0.6053 - recall: 0.1619 - f1_score: 0.3157 - Precision_0: 0.6436 - Precision_1: 0.0000e+00 - Precision_2: 0.5781 - Precision_3: 0.5265 - Precision_4: 0.6392 - Recall_0: 0.0372 - Recall_1: 0.0000e+00 - Recall_2: 0.1085 - Recall_3: 0.1048 - Recall_4: 0.3711 - val_loss: 0.9272 - val_categorical_accuracy: 0.6925 - val_precision: 0.9172 - val_recall: 0.4446 - val_f1_score: 0.2235 - val_Precision_0: 0.0000e+00 - val_Precision_1: 0.0000e+00 - val_Precision_2: 0.2857 - val_Precision_3: 0.1615 - val_Precision_4: 0.9598 - val_Recall_0: 0.0000e+00 - val_Recall_1: 0.0000e+00 - val_Recall_2: 0.0183 - val_Recall_3: 0.0633 - val_Recall_4: 0.4990\n",
            "Epoch 5/50\n",
            "556/556 [==============================] - 12s 21ms/step - loss: 1.2761 - categorical_accuracy: 0.4370 - precision: 0.5961 - recall: 0.1810 - f1_score: 0.3246 - Precision_0: 0.6631 - Precision_1: 0.0000e+00 - Precision_2: 0.5724 - Precision_3: 0.5287 - Precision_4: 0.6251 - Recall_0: 0.0381 - Recall_1: 0.0000e+00 - Recall_2: 0.1419 - Recall_3: 0.1134 - Recall_4: 0.4008 - val_loss: 1.2708 - val_categorical_accuracy: 0.3982 - val_precision: 0.8697 - val_recall: 0.2373 - val_f1_score: 0.1856 - val_Precision_0: 1.0000 - val_Precision_1: 0.0000e+00 - val_Precision_2: 0.0000e+00 - val_Precision_3: 0.2050 - val_Precision_4: 0.9696 - val_Recall_0: 0.0435 - val_Recall_1: 0.0000e+00 - val_Recall_2: 0.0000e+00 - val_Recall_3: 0.0994 - val_Recall_4: 0.2608\n",
            "Epoch 6/50\n",
            "556/556 [==============================] - 12s 22ms/step - loss: 1.2546 - categorical_accuracy: 0.4481 - precision: 0.6079 - recall: 0.1875 - f1_score: 0.3441 - Precision_0: 0.6823 - Precision_1: 0.0000e+00 - Precision_2: 0.5740 - Precision_3: 0.5312 - Precision_4: 0.6427 - Recall_0: 0.0403 - Recall_1: 0.0000e+00 - Recall_2: 0.1350 - Recall_3: 0.1185 - Recall_4: 0.4250 - val_loss: 1.0039 - val_categorical_accuracy: 0.6568 - val_precision: 0.9254 - val_recall: 0.4200 - val_f1_score: 0.2405 - val_Precision_0: 0.0000e+00 - val_Precision_1: 0.0000e+00 - val_Precision_2: 0.1515 - val_Precision_3: 0.0984 - val_Precision_4: 0.9586 - val_Recall_0: 0.0000e+00 - val_Recall_1: 0.0000e+00 - val_Recall_2: 0.0459 - val_Recall_3: 0.0181 - val_Recall_4: 0.4738\n",
            "Epoch 7/50\n",
            "556/556 [==============================] - 12s 21ms/step - loss: 1.2423 - categorical_accuracy: 0.4509 - precision: 0.6033 - recall: 0.2041 - f1_score: 0.3546 - Precision_0: 0.6734 - Precision_1: 0.0000e+00 - Precision_2: 0.5785 - Precision_3: 0.5297 - Precision_4: 0.6363 - Recall_0: 0.0615 - Recall_1: 0.0000e+00 - Recall_2: 0.1735 - Recall_3: 0.1270 - Recall_4: 0.4339 - val_loss: 1.0317 - val_categorical_accuracy: 0.5744 - val_precision: 0.8891 - val_recall: 0.3691 - val_f1_score: 0.2267 - val_Precision_0: 0.0000e+00 - val_Precision_1: 0.0000e+00 - val_Precision_2: 0.3889 - val_Precision_3: 0.1182 - val_Precision_4: 0.9735 - val_Recall_0: 0.0000e+00 - val_Recall_1: 0.0000e+00 - val_Recall_2: 0.0642 - val_Recall_3: 0.0723 - val_Recall_4: 0.4117\n",
            "Epoch 8/50\n",
            "556/556 [==============================] - 12s 21ms/step - loss: 1.2290 - categorical_accuracy: 0.4552 - precision: 0.6089 - recall: 0.2139 - f1_score: 0.3628 - Precision_0: 0.7118 - Precision_1: 0.0000e+00 - Precision_2: 0.5816 - Precision_3: 0.5374 - Precision_4: 0.6384 - Recall_0: 0.0744 - Recall_1: 0.0000e+00 - Recall_2: 0.1821 - Recall_3: 0.1260 - Recall_4: 0.4581 - val_loss: 1.0557 - val_categorical_accuracy: 0.5879 - val_precision: 0.9186 - val_recall: 0.3563 - val_f1_score: 0.2199 - val_Precision_0: 1.0000 - val_Precision_1: 0.0000e+00 - val_Precision_2: 0.2222 - val_Precision_3: 0.1875 - val_Precision_4: 0.9645 - val_Recall_0: 0.0435 - val_Recall_1: 0.0000e+00 - val_Recall_2: 0.0183 - val_Recall_3: 0.0633 - val_Recall_4: 0.3979\n",
            "Epoch 9/50\n",
            "556/556 [==============================] - 12s 21ms/step - loss: 1.2424 - categorical_accuracy: 0.4501 - precision: 0.6082 - recall: 0.1937 - f1_score: 0.3608 - Precision_0: 0.6988 - Precision_1: 0.0000e+00 - Precision_2: 0.5770 - Precision_3: 0.5316 - Precision_4: 0.6398 - Recall_0: 0.0914 - Recall_1: 0.0000e+00 - Recall_2: 0.1645 - Recall_3: 0.1104 - Recall_4: 0.4108 - val_loss: 1.1894 - val_categorical_accuracy: 0.5212 - val_precision: 0.8720 - val_recall: 0.2539 - val_f1_score: 0.2128 - val_Precision_0: 1.0000 - val_Precision_1: 0.0000e+00 - val_Precision_2: 0.0556 - val_Precision_3: 0.1143 - val_Precision_4: 0.9785 - val_Recall_0: 0.0435 - val_Recall_1: 0.0000e+00 - val_Recall_2: 0.0734 - val_Recall_3: 0.0120 - val_Recall_4: 0.2841\n",
            "Epoch 10/50\n",
            "556/556 [==============================] - 11s 20ms/step - loss: 1.2713 - categorical_accuracy: 0.4353 - precision: 0.6084 - recall: 0.1751 - f1_score: 0.3437 - Precision_0: 0.7160 - Precision_1: 0.0000e+00 - Precision_2: 0.5645 - Precision_3: 0.5390 - Precision_4: 0.6398 - Recall_0: 0.0923 - Recall_1: 0.0000e+00 - Recall_2: 0.1259 - Recall_3: 0.1097 - Recall_4: 0.3796 - val_loss: 1.0833 - val_categorical_accuracy: 0.5499 - val_precision: 0.9239 - val_recall: 0.3231 - val_f1_score: 0.2370 - val_Precision_0: 1.0000 - val_Precision_1: 0.0000e+00 - val_Precision_2: 0.0556 - val_Precision_3: 0.1327 - val_Precision_4: 0.9779 - val_Recall_0: 0.0435 - val_Recall_1: 0.0000e+00 - val_Recall_2: 0.0092 - val_Recall_3: 0.0392 - val_Recall_4: 0.3621\n",
            "Epoch 11/50\n",
            "556/556 [==============================] - 11s 20ms/step - loss: 1.2467 - categorical_accuracy: 0.4478 - precision: 0.6163 - recall: 0.1807 - f1_score: 0.3529 - Precision_0: 0.7414 - Precision_1: 0.0000e+00 - Precision_2: 0.5795 - Precision_3: 0.5416 - Precision_4: 0.6431 - Recall_0: 0.1058 - Recall_1: 0.0000e+00 - Recall_2: 0.1349 - Recall_3: 0.1042 - Recall_4: 0.3928 - val_loss: 0.9293 - val_categorical_accuracy: 0.6712 - val_precision: 0.9255 - val_recall: 0.4368 - val_f1_score: 0.2446 - val_Precision_0: 1.0000 - val_Precision_1: 0.0000e+00 - val_Precision_2: 0.0000e+00 - val_Precision_3: 0.1860 - val_Precision_4: 0.9680 - val_Recall_0: 0.0435 - val_Recall_1: 0.0000e+00 - val_Recall_2: 0.0000e+00 - val_Recall_3: 0.0723 - val_Recall_4: 0.4889\n"
          ]
        },
        {
          "output_type": "display_data",
          "data": {
            "text/plain": [
              "VBox(children=(Label(value='0.003 MB of 0.003 MB uploaded\\r'), FloatProgress(value=1.0, max=1.0)))"
            ],
            "application/vnd.jupyter.widget-view+json": {
              "version_major": 2,
              "version_minor": 0,
              "model_id": "1069f65feb864df0901dfaacf4e7ea25"
            }
          },
          "metadata": {}
        },
        {
          "output_type": "display_data",
          "data": {
            "text/plain": [
              "<IPython.core.display.HTML object>"
            ],
            "text/html": [
              "<style>\n",
              "    table.wandb td:nth-child(1) { padding: 0 10px; text-align: left ; width: auto;} td:nth-child(2) {text-align: left ; width: 100%}\n",
              "    .wandb-row { display: flex; flex-direction: row; flex-wrap: wrap; justify-content: flex-start; width: 100% }\n",
              "    .wandb-col { display: flex; flex-direction: column; flex-basis: 100%; flex: 1; padding: 10px; }\n",
              "    </style>\n",
              "<div class=\"wandb-row\"><div class=\"wandb-col\"><h3>Run history:</h3><br/><table class=\"wandb\"><tr><td>Precision_0</td><td>▁▁▇▇▇▇▇████</td></tr><tr><td>Precision_1</td><td>▁▁▁▁▁▁▁▁▁▁▁</td></tr><tr><td>Precision_2</td><td>▁██████████</td></tr><tr><td>Precision_3</td><td>█▁▂▃▄▄▄▅▄▅▆</td></tr><tr><td>Precision_4</td><td>▁▅▆█▇█▇████</td></tr><tr><td>Recall_0</td><td>▁▁▂▃▄▄▅▆▇▇█</td></tr><tr><td>Recall_1</td><td>▁▁▁▁▁▁▁▁▁▁▁</td></tr><tr><td>Recall_2</td><td>▁▃▄▅▆▆██▇▆▆</td></tr><tr><td>Recall_3</td><td>▁▅▆▇▇███▇▇▇</td></tr><tr><td>Recall_4</td><td>▁▅▆▇▇▇██▇▇▇</td></tr><tr><td>categorical_accuracy</td><td>▁▅▆▇▇████▇█</td></tr><tr><td>epoch</td><td>▁▂▂▃▄▅▅▆▇▇█</td></tr><tr><td>loss</td><td>█▅▄▃▂▂▁▁▁▂▁</td></tr><tr><td>precision</td><td>▁▄▅▇▆▇▇▇▇▇█</td></tr><tr><td>recall</td><td>▁▄▆▆▇▇██▇▇▇</td></tr><tr><td>size_train</td><td>▁</td></tr><tr><td>val_Precision_0</td><td>▁▁▁▁█▁▁████</td></tr><tr><td>val_Precision_1</td><td>▁▁▁▁▁▁▁▁▁▁▁</td></tr><tr><td>val_Precision_2</td><td>▁▁▅▆▁▄█▅▂▂▁</td></tr><tr><td>val_Precision_3</td><td>▁▆▇▅█▂▃▇▃▄▇</td></tr><tr><td>val_Precision_4</td><td>█▅▄▁▃▁▄▂▄▄▃</td></tr><tr><td>val_Recall_0</td><td>▁▁▁▁█▁▁████</td></tr><tr><td>val_Recall_1</td><td>▁▁▁▁▁▁▁▁▁▁▁</td></tr><tr><td>val_Recall_2</td><td>▁▁▃▃▁▅▇▃█▂▁</td></tr><tr><td>val_Recall_3</td><td>▃▅▇▅█▁▆▅▁▃▆</td></tr><tr><td>val_Recall_4</td><td>▁▄▄█▄█▇▆▅▆█</td></tr><tr><td>val_categorical_accuracy</td><td>▁▇▃█▃▇▆▆▅▆█</td></tr><tr><td>val_loss</td><td>█▄▆▁▆▂▃▃▅▃▁</td></tr><tr><td>val_precision</td><td>▁▇▇█▆█▇█▆██</td></tr><tr><td>val_recall</td><td>▁▄▄█▄█▇▆▅▆█</td></tr></table><br/></div><div class=\"wandb-col\"><h3>Run summary:</h3><br/><table class=\"wandb\"><tr><td>Precision_0</td><td>0.74138</td></tr><tr><td>Precision_1</td><td>0.0</td></tr><tr><td>Precision_2</td><td>0.57952</td></tr><tr><td>Precision_3</td><td>0.54158</td></tr><tr><td>Precision_4</td><td>0.64311</td></tr><tr><td>Recall_0</td><td>0.10581</td></tr><tr><td>Recall_1</td><td>0.0</td></tr><tr><td>Recall_2</td><td>0.13486</td></tr><tr><td>Recall_3</td><td>0.10417</td></tr><tr><td>Recall_4</td><td>0.3928</td></tr><tr><td>best_epoch</td><td>3</td></tr><tr><td>best_val_loss</td><td>0.92722</td></tr><tr><td>categorical_accuracy</td><td>0.44779</td></tr><tr><td>epoch</td><td>10</td></tr><tr><td>loss</td><td>1.24672</td></tr><tr><td>precision</td><td>0.61626</td></tr><tr><td>recall</td><td>0.18071</td></tr><tr><td>size_train</td><td>35521</td></tr><tr><td>train_set</td><td>Prime_Pantry</td></tr><tr><td>val_Precision_0</td><td>1.0</td></tr><tr><td>val_Precision_1</td><td>0.0</td></tr><tr><td>val_Precision_2</td><td>0.0</td></tr><tr><td>val_Precision_3</td><td>0.18605</td></tr><tr><td>val_Precision_4</td><td>0.96799</td></tr><tr><td>val_Recall_0</td><td>0.04348</td></tr><tr><td>val_Recall_1</td><td>0.0</td></tr><tr><td>val_Recall_2</td><td>0.0</td></tr><tr><td>val_Recall_3</td><td>0.07229</td></tr><tr><td>val_Recall_4</td><td>0.4889</td></tr><tr><td>val_categorical_accuracy</td><td>0.67123</td></tr><tr><td>val_loss</td><td>0.92932</td></tr><tr><td>val_precision</td><td>0.92546</td></tr><tr><td>val_recall</td><td>0.43678</td></tr></table><br/></div></div>"
            ]
          },
          "metadata": {}
        },
        {
          "output_type": "display_data",
          "data": {
            "text/plain": [
              "<IPython.core.display.HTML object>"
            ],
            "text/html": [
              " View run <strong style=\"color:#cdcd00\">celestial-sweep-15</strong> at: <a href='https://wandb.ai/coffeegang/RNN_preliminary_tests/runs/g2v2o3m1' target=\"_blank\">https://wandb.ai/coffeegang/RNN_preliminary_tests/runs/g2v2o3m1</a><br/>Synced 5 W&B file(s), 1 media file(s), 0 artifact file(s) and 0 other file(s)"
            ]
          },
          "metadata": {}
        },
        {
          "output_type": "display_data",
          "data": {
            "text/plain": [
              "<IPython.core.display.HTML object>"
            ],
            "text/html": [
              "Find logs at: <code>./wandb/run-20240129_173901-g2v2o3m1/logs</code>"
            ]
          },
          "metadata": {}
        },
        {
          "output_type": "stream",
          "name": "stderr",
          "text": [
            "\u001b[34m\u001b[1mwandb\u001b[0m: Agent Starting Run: eusbqdba with config:\n",
            "\u001b[34m\u001b[1mwandb\u001b[0m: \tRNN_layer_model: model_4\n",
            "\u001b[34m\u001b[1mwandb\u001b[0m: \tembedding_size: 256\n"
          ]
        },
        {
          "output_type": "display_data",
          "data": {
            "text/plain": [
              "<IPython.core.display.HTML object>"
            ],
            "text/html": [
              "Tracking run with wandb version 0.16.2"
            ]
          },
          "metadata": {}
        },
        {
          "output_type": "display_data",
          "data": {
            "text/plain": [
              "<IPython.core.display.HTML object>"
            ],
            "text/html": [
              "Run data is saved locally in <code>/content/gdrive/.shortcut-targets-by-id/1osKmyrDLORFSpes1mwrU-W7OXM-to6bK/AML_Exam/Problem2/wandb/run-20240129_174150-eusbqdba</code>"
            ]
          },
          "metadata": {}
        },
        {
          "output_type": "display_data",
          "data": {
            "text/plain": [
              "<IPython.core.display.HTML object>"
            ],
            "text/html": [
              "Syncing run <strong><a href='https://wandb.ai/coffeegang/RNN_preliminary_tests/runs/eusbqdba' target=\"_blank\">autumn-sweep-16</a></strong> to <a href='https://wandb.ai/coffeegang/RNN_preliminary_tests' target=\"_blank\">Weights & Biases</a> (<a href='https://wandb.me/run' target=\"_blank\">docs</a>)<br/>Sweep page: <a href='https://wandb.ai/coffeegang/RNN_preliminary_tests/sweeps/r8db3smm' target=\"_blank\">https://wandb.ai/coffeegang/RNN_preliminary_tests/sweeps/r8db3smm</a>"
            ]
          },
          "metadata": {}
        },
        {
          "output_type": "display_data",
          "data": {
            "text/plain": [
              "<IPython.core.display.HTML object>"
            ],
            "text/html": [
              " View project at <a href='https://wandb.ai/coffeegang/RNN_preliminary_tests' target=\"_blank\">https://wandb.ai/coffeegang/RNN_preliminary_tests</a>"
            ]
          },
          "metadata": {}
        },
        {
          "output_type": "display_data",
          "data": {
            "text/plain": [
              "<IPython.core.display.HTML object>"
            ],
            "text/html": [
              " View sweep at <a href='https://wandb.ai/coffeegang/RNN_preliminary_tests/sweeps/r8db3smm' target=\"_blank\">https://wandb.ai/coffeegang/RNN_preliminary_tests/sweeps/r8db3smm</a>"
            ]
          },
          "metadata": {}
        },
        {
          "output_type": "display_data",
          "data": {
            "text/plain": [
              "<IPython.core.display.HTML object>"
            ],
            "text/html": [
              " View run at <a href='https://wandb.ai/coffeegang/RNN_preliminary_tests/runs/eusbqdba' target=\"_blank\">https://wandb.ai/coffeegang/RNN_preliminary_tests/runs/eusbqdba</a>"
            ]
          },
          "metadata": {}
        },
        {
          "output_type": "stream",
          "name": "stdout",
          "text": [
            "Epoch 1/50\n",
            "556/556 [==============================] - 38s 56ms/step - loss: 1.4649 - categorical_accuracy: 0.3237 - precision: 0.6069 - recall: 0.0331 - f1_score: 0.2154 - Precision_0: 0.0000e+00 - Precision_1: 0.0000e+00 - Precision_2: 0.5900 - Precision_3: 0.4778 - Precision_4: 0.6220 - Recall_0: 0.0000e+00 - Recall_1: 0.0000e+00 - Recall_2: 0.0065 - Recall_3: 0.0088 - Recall_4: 0.1056 - val_loss: 1.3387 - val_categorical_accuracy: 0.2873 - val_precision: 0.8673 - val_recall: 0.1367 - val_f1_score: 0.1312 - val_Precision_0: 0.0000e+00 - val_Precision_1: 0.0000e+00 - val_Precision_2: 0.0000e+00 - val_Precision_3: 0.0515 - val_Precision_4: 0.9821 - val_Recall_0: 0.0000e+00 - val_Recall_1: 0.0000e+00 - val_Recall_2: 0.0000e+00 - val_Recall_3: 0.0151 - val_Recall_4: 0.1539\n",
            "Epoch 2/50\n",
            "556/556 [==============================] - 15s 26ms/step - loss: 1.2580 - categorical_accuracy: 0.4442 - precision: 0.6050 - recall: 0.1749 - f1_score: 0.3339 - Precision_0: 0.5833 - Precision_1: 0.0000e+00 - Precision_2: 0.5462 - Precision_3: 0.5302 - Precision_4: 0.6436 - Recall_0: 0.0172 - Recall_1: 0.0000e+00 - Recall_2: 0.1285 - Recall_3: 0.0873 - Recall_4: 0.4241 - val_loss: 1.0930 - val_categorical_accuracy: 0.4664 - val_precision: 0.8054 - val_recall: 0.3274 - val_f1_score: 0.2372 - val_Precision_0: 0.0000e+00 - val_Precision_1: 0.0000e+00 - val_Precision_2: 0.1949 - val_Precision_3: 0.1395 - val_Precision_4: 0.9851 - val_Recall_0: 0.0000e+00 - val_Recall_1: 0.0000e+00 - val_Recall_2: 0.2110 - val_Recall_3: 0.1446 - val_Recall_4: 0.3559\n",
            "Epoch 3/50\n",
            "556/556 [==============================] - 13s 23ms/step - loss: 1.1831 - categorical_accuracy: 0.4776 - precision: 0.6096 - recall: 0.2485 - f1_score: 0.3979 - Precision_0: 0.6055 - Precision_1: 0.0000e+00 - Precision_2: 0.5765 - Precision_3: 0.5242 - Precision_4: 0.6542 - Recall_0: 0.1086 - Recall_1: 0.0000e+00 - Recall_2: 0.2342 - Recall_3: 0.1367 - Recall_4: 0.5135 - val_loss: 0.8825 - val_categorical_accuracy: 0.6809 - val_precision: 0.9198 - val_recall: 0.5102 - val_f1_score: 0.3196 - val_Precision_0: 0.7895 - val_Precision_1: 0.0000e+00 - val_Precision_2: 0.1071 - val_Precision_3: 0.2045 - val_Precision_4: 0.9814 - val_Recall_0: 0.1304 - val_Recall_1: 0.0000e+00 - val_Recall_2: 0.0826 - val_Recall_3: 0.0813 - val_Recall_4: 0.5674\n",
            "Epoch 4/50\n",
            "556/556 [==============================] - 12s 22ms/step - loss: 1.1444 - categorical_accuracy: 0.4964 - precision: 0.6149 - recall: 0.2854 - f1_score: 0.4275 - Precision_0: 0.6497 - Precision_1: 0.0000e+00 - Precision_2: 0.5875 - Precision_3: 0.5284 - Precision_4: 0.6639 - Recall_0: 0.1803 - Recall_1: 0.0000e+00 - Recall_2: 0.2783 - Recall_3: 0.1858 - Recall_4: 0.5338 - val_loss: 1.0399 - val_categorical_accuracy: 0.5883 - val_precision: 0.8721 - val_recall: 0.4280 - val_f1_score: 0.2930 - val_Precision_0: 0.7021 - val_Precision_1: 0.0000e+00 - val_Precision_2: 0.1310 - val_Precision_3: 0.1978 - val_Precision_4: 0.9890 - val_Recall_0: 0.2870 - val_Recall_1: 0.0000e+00 - val_Recall_2: 0.2018 - val_Recall_3: 0.1084 - val_Recall_4: 0.4656\n",
            "Epoch 5/50\n",
            "556/556 [==============================] - 12s 21ms/step - loss: 1.1232 - categorical_accuracy: 0.5062 - precision: 0.6182 - recall: 0.3085 - f1_score: 0.4386 - Precision_0: 0.6500 - Precision_1: 0.0000e+00 - Precision_2: 0.5926 - Precision_3: 0.5308 - Precision_4: 0.6704 - Recall_0: 0.2325 - Recall_1: 0.0000e+00 - Recall_2: 0.2989 - Recall_3: 0.2119 - Recall_4: 0.5549 - val_loss: 0.8505 - val_categorical_accuracy: 0.6794 - val_precision: 0.8399 - val_recall: 0.5476 - val_f1_score: 0.3598 - val_Precision_0: 0.7097 - val_Precision_1: 0.0000e+00 - val_Precision_2: 0.1000 - val_Precision_3: 0.1609 - val_Precision_4: 0.9771 - val_Recall_0: 0.1913 - val_Recall_1: 0.0000e+00 - val_Recall_2: 0.0642 - val_Recall_3: 0.2380 - val_Recall_4: 0.5975\n",
            "Epoch 6/50\n",
            "556/556 [==============================] - 12s 22ms/step - loss: 1.1224 - categorical_accuracy: 0.5067 - precision: 0.6207 - recall: 0.3066 - f1_score: 0.4493 - Precision_0: 0.6683 - Precision_1: 0.5000 - Precision_2: 0.6025 - Precision_3: 0.5334 - Precision_4: 0.6675 - Recall_0: 0.2132 - Recall_1: 2.7337e-04 - Recall_2: 0.2966 - Recall_3: 0.2163 - Recall_4: 0.5521 - val_loss: 0.9345 - val_categorical_accuracy: 0.6342 - val_precision: 0.8633 - val_recall: 0.4731 - val_f1_score: 0.2689 - val_Precision_0: 0.6562 - val_Precision_1: 0.0000e+00 - val_Precision_2: 0.1333 - val_Precision_3: 0.1469 - val_Precision_4: 0.9765 - val_Recall_0: 0.1826 - val_Recall_1: 0.0000e+00 - val_Recall_2: 0.0734 - val_Recall_3: 0.1416 - val_Recall_4: 0.5199\n",
            "Epoch 7/50\n",
            "556/556 [==============================] - 12s 21ms/step - loss: 1.1328 - categorical_accuracy: 0.5026 - precision: 0.6239 - recall: 0.2988 - f1_score: 0.4440 - Precision_0: 0.6658 - Precision_1: 0.1818 - Precision_2: 0.6078 - Precision_3: 0.5323 - Precision_4: 0.6711 - Recall_0: 0.2427 - Recall_1: 5.4675e-04 - Recall_2: 0.2893 - Recall_3: 0.2030 - Recall_4: 0.5339 - val_loss: 0.9051 - val_categorical_accuracy: 0.6777 - val_precision: 0.9223 - val_recall: 0.5195 - val_f1_score: 0.2803 - val_Precision_0: 0.3529 - val_Precision_1: 0.0000e+00 - val_Precision_2: 0.2414 - val_Precision_3: 0.0859 - val_Precision_4: 0.9790 - val_Recall_0: 0.0522 - val_Recall_1: 0.0000e+00 - val_Recall_2: 0.1284 - val_Recall_3: 0.0331 - val_Recall_4: 0.5822\n",
            "Epoch 8/50\n",
            "556/556 [==============================] - 12s 21ms/step - loss: 1.1573 - categorical_accuracy: 0.4945 - precision: 0.6189 - recall: 0.2761 - f1_score: 0.4307 - Precision_0: 0.6532 - Precision_1: 0.0000e+00 - Precision_2: 0.6041 - Precision_3: 0.5182 - Precision_4: 0.6637 - Recall_0: 0.1993 - Recall_1: 0.0000e+00 - Recall_2: 0.2676 - Recall_3: 0.1675 - Recall_4: 0.5216 - val_loss: 1.0528 - val_categorical_accuracy: 0.6387 - val_precision: 0.9006 - val_recall: 0.4566 - val_f1_score: 0.2551 - val_Precision_0: 0.4328 - val_Precision_1: 0.0000e+00 - val_Precision_2: 0.1250 - val_Precision_3: 0.1534 - val_Precision_4: 0.9762 - val_Recall_0: 0.2522 - val_Recall_1: 0.0000e+00 - val_Recall_2: 0.0275 - val_Recall_3: 0.0813 - val_Recall_4: 0.5049\n",
            "Epoch 9/50\n",
            "556/556 [==============================] - 12s 21ms/step - loss: 1.2268 - categorical_accuracy: 0.4641 - precision: 0.6148 - recall: 0.2241 - f1_score: 0.3848 - Precision_0: 0.6712 - Precision_1: 0.0000e+00 - Precision_2: 0.5861 - Precision_3: 0.5266 - Precision_4: 0.6505 - Recall_0: 0.1513 - Recall_1: 0.0000e+00 - Recall_2: 0.2124 - Recall_3: 0.1157 - Recall_4: 0.4518 - val_loss: 1.0364 - val_categorical_accuracy: 0.6260 - val_precision: 0.9046 - val_recall: 0.3678 - val_f1_score: 0.2421 - val_Precision_0: 0.7143 - val_Precision_1: 0.0000e+00 - val_Precision_2: 0.0926 - val_Precision_3: 0.0000e+00 - val_Precision_4: 0.9739 - val_Recall_0: 0.1304 - val_Recall_1: 0.0000e+00 - val_Recall_2: 0.1376 - val_Recall_3: 0.0000e+00 - val_Recall_4: 0.4104\n"
          ]
        },
        {
          "output_type": "display_data",
          "data": {
            "text/plain": [
              "VBox(children=(Label(value='0.003 MB of 0.003 MB uploaded\\r'), FloatProgress(value=1.0, max=1.0)))"
            ],
            "application/vnd.jupyter.widget-view+json": {
              "version_major": 2,
              "version_minor": 0,
              "model_id": "e2d60b5a0753487596f3e623b6f218b6"
            }
          },
          "metadata": {}
        },
        {
          "output_type": "display_data",
          "data": {
            "text/plain": [
              "<IPython.core.display.HTML object>"
            ],
            "text/html": [
              "<style>\n",
              "    table.wandb td:nth-child(1) { padding: 0 10px; text-align: left ; width: auto;} td:nth-child(2) {text-align: left ; width: 100%}\n",
              "    .wandb-row { display: flex; flex-direction: row; flex-wrap: wrap; justify-content: flex-start; width: 100% }\n",
              "    .wandb-col { display: flex; flex-direction: column; flex-basis: 100%; flex: 1; padding: 10px; }\n",
              "    </style>\n",
              "<div class=\"wandb-row\"><div class=\"wandb-col\"><h3>Run history:</h3><br/><table class=\"wandb\"><tr><td>Precision_0</td><td>▁▇▇██████</td></tr><tr><td>Precision_1</td><td>▁▁▁▁▁█▄▁▁</td></tr><tr><td>Precision_2</td><td>▆▁▄▆▆▇██▆</td></tr><tr><td>Precision_3</td><td>▁█▇▇███▆▇</td></tr><tr><td>Precision_4</td><td>▁▄▆▇█▇█▇▅</td></tr><tr><td>Recall_0</td><td>▁▁▄▆█▇█▇▅</td></tr><tr><td>Recall_1</td><td>▁▁▁▁▁▅█▁▁</td></tr><tr><td>Recall_2</td><td>▁▄▆████▇▆</td></tr><tr><td>Recall_3</td><td>▁▄▅▇███▆▅</td></tr><tr><td>Recall_4</td><td>▁▆▇████▇▆</td></tr><tr><td>categorical_accuracy</td><td>▁▆▇█████▆</td></tr><tr><td>epoch</td><td>▁▂▃▄▅▅▆▇█</td></tr><tr><td>loss</td><td>█▄▂▁▁▁▁▂▃</td></tr><tr><td>precision</td><td>▂▁▃▅▆▇█▆▅</td></tr><tr><td>recall</td><td>▁▅▆▇███▇▆</td></tr><tr><td>size_train</td><td>▁</td></tr><tr><td>val_Precision_0</td><td>▁▁█▇▇▇▄▅▇</td></tr><tr><td>val_Precision_1</td><td>▁▁▁▁▁▁▁▁▁</td></tr><tr><td>val_Precision_2</td><td>▁▇▄▅▄▅█▅▄</td></tr><tr><td>val_Precision_3</td><td>▃▆██▇▆▄▆▁</td></tr><tr><td>val_Precision_4</td><td>▅▆▄█▂▂▃▂▁</td></tr><tr><td>val_Recall_0</td><td>▁▁▄█▆▅▂▇▄</td></tr><tr><td>val_Recall_1</td><td>▁▁▁▁▁▁▁▁▁</td></tr><tr><td>val_Recall_2</td><td>▁█▄█▃▃▅▂▆</td></tr><tr><td>val_Recall_3</td><td>▁▅▃▄█▅▂▃▁</td></tr><tr><td>val_Recall_4</td><td>▁▄█▆█▇█▇▅</td></tr><tr><td>val_categorical_accuracy</td><td>▁▄█▆█▇█▇▇</td></tr><tr><td>val_loss</td><td>█▄▁▄▁▂▂▄▄</td></tr><tr><td>val_precision</td><td>▅▁█▅▃▄█▇▇</td></tr><tr><td>val_recall</td><td>▁▄▇▆█▇█▆▅</td></tr></table><br/></div><div class=\"wandb-col\"><h3>Run summary:</h3><br/><table class=\"wandb\"><tr><td>Precision_0</td><td>0.67121</td></tr><tr><td>Precision_1</td><td>0.0</td></tr><tr><td>Precision_2</td><td>0.58606</td></tr><tr><td>Precision_3</td><td>0.52661</td></tr><tr><td>Precision_4</td><td>0.65052</td></tr><tr><td>Recall_0</td><td>0.15134</td></tr><tr><td>Recall_1</td><td>0.0</td></tr><tr><td>Recall_2</td><td>0.21239</td></tr><tr><td>Recall_3</td><td>0.11566</td></tr><tr><td>Recall_4</td><td>0.45176</td></tr><tr><td>best_epoch</td><td>4</td></tr><tr><td>best_val_loss</td><td>0.85053</td></tr><tr><td>categorical_accuracy</td><td>0.46406</td></tr><tr><td>epoch</td><td>8</td></tr><tr><td>loss</td><td>1.2268</td></tr><tr><td>precision</td><td>0.61477</td></tr><tr><td>recall</td><td>0.22409</td></tr><tr><td>size_train</td><td>35521</td></tr><tr><td>train_set</td><td>Prime_Pantry</td></tr><tr><td>val_Precision_0</td><td>0.71429</td></tr><tr><td>val_Precision_1</td><td>0.0</td></tr><tr><td>val_Precision_2</td><td>0.09259</td></tr><tr><td>val_Precision_3</td><td>0.0</td></tr><tr><td>val_Precision_4</td><td>0.97391</td></tr><tr><td>val_Recall_0</td><td>0.13043</td></tr><tr><td>val_Recall_1</td><td>0.0</td></tr><tr><td>val_Recall_2</td><td>0.13761</td></tr><tr><td>val_Recall_3</td><td>0.0</td></tr><tr><td>val_Recall_4</td><td>0.41043</td></tr><tr><td>val_categorical_accuracy</td><td>0.62597</td></tr><tr><td>val_loss</td><td>1.03644</td></tr><tr><td>val_precision</td><td>0.90458</td></tr><tr><td>val_recall</td><td>0.36775</td></tr></table><br/></div></div>"
            ]
          },
          "metadata": {}
        },
        {
          "output_type": "display_data",
          "data": {
            "text/plain": [
              "<IPython.core.display.HTML object>"
            ],
            "text/html": [
              " View run <strong style=\"color:#cdcd00\">autumn-sweep-16</strong> at: <a href='https://wandb.ai/coffeegang/RNN_preliminary_tests/runs/eusbqdba' target=\"_blank\">https://wandb.ai/coffeegang/RNN_preliminary_tests/runs/eusbqdba</a><br/>Synced 5 W&B file(s), 1 media file(s), 0 artifact file(s) and 0 other file(s)"
            ]
          },
          "metadata": {}
        },
        {
          "output_type": "display_data",
          "data": {
            "text/plain": [
              "<IPython.core.display.HTML object>"
            ],
            "text/html": [
              "Find logs at: <code>./wandb/run-20240129_174150-eusbqdba/logs</code>"
            ]
          },
          "metadata": {}
        },
        {
          "output_type": "stream",
          "name": "stderr",
          "text": [
            "\u001b[34m\u001b[1mwandb\u001b[0m: Sweep Agent: Waiting for job.\n",
            "\u001b[34m\u001b[1mwandb\u001b[0m: Sweep Agent: Exiting.\n"
          ]
        }
      ]
    },
    {
      "cell_type": "code",
      "source": [],
      "metadata": {
        "id": "vZiQE2ZJNzAW"
      },
      "execution_count": null,
      "outputs": []
    },
    {
      "cell_type": "markdown",
      "source": [
        "# Final test"
      ],
      "metadata": {
        "id": "FPCuyESEFCSD"
      }
    },
    {
      "cell_type": "code",
      "source": [
        "train_name = 'Prime_Pantry'\n",
        "load_train = loading_gz(data_path_dict[train_name], max_load_samples = 2000000, max_samples_per_cat=50000)\n",
        "x_train = load_train['reviewText']\n",
        "y_train = tf.one_hot(load_train['overall']-1,5) #the minus 1 is to adjust for the output of the model being [0,4]\n",
        "\n",
        "load_val = loading_gz(path_val, load_all=True)\n",
        "x_val = load_val['reviewText']\n",
        "y_val = tf.one_hot(load_val['overall']-1,5) #the minus 1 is to adjust for the output of the model being [0,4]\n",
        "\n",
        "encoded_train, encoded_val  = my_encoder(x_train, x_val, MAX_VOCAB_SIZE = 1500, OUTPUT_LENGTH = 100)"
      ],
      "metadata": {
        "id": "JvW6HqSZwp2x"
      },
      "execution_count": null,
      "outputs": []
    },
    {
      "cell_type": "code",
      "source": [
        "load_test = loading_gz(path_test, load_all=True)\n",
        "x_test = load_test['reviewText']\n",
        "y_test = load_test['overall']-1 #the minus 1 is to adjust for the output of the model being [0,4]\n",
        "_, encoded_test  = my_encoder(x_train, x_test, MAX_VOCAB_SIZE = 1500, OUTPUT_LENGTH = 100)"
      ],
      "metadata": {
        "id": "Z291XWu_KMix"
      },
      "execution_count": null,
      "outputs": []
    },
    {
      "cell_type": "code",
      "source": [
        "#wandb.login()\n",
        "os.environ[\"WANDB_API_KEY\"] = \"f1dd10d2eaa5cc353bbe282583f7fc58b9b6c733\""
      ],
      "metadata": {
        "id": "6_PlQBpgwzuN"
      },
      "execution_count": null,
      "outputs": []
    },
    {
      "cell_type": "code",
      "source": [
        "config_defaults = {\n",
        "    #'training_set_name': '',\n",
        "    'vocab_size': 1500,\n",
        "    'review_length': 100,\n",
        "    'RNN_layer_model': 'model_1',\n",
        "    'embedding_size': 32,\n",
        "    #'RNN_layer_width': 64,\n",
        "    #'RNN_layer_type': 'LSTM',\n",
        "    #'train_size': int(50000/5),\n",
        "    'epochs': 100,\n",
        "    'batch_size': 64,\n",
        "    'learning_rate': 0.0075,\n",
        "    'optimizer': 'adam',\n",
        "    #'validation_split': 0.3,\n",
        "  }"
      ],
      "metadata": {
        "id": "uZZJKxlihRSe"
      },
      "execution_count": null,
      "outputs": []
    },
    {
      "cell_type": "code",
      "source": [
        "wandb.init(config=config_defaults, project=\"RNN_preliminary_tests\", entity='coffeegang', name='final_1')\n",
        "\n",
        "# Config is a variable that holds and saves hyperparameters and inputs\n",
        "config = wandb.config\n",
        "\n",
        "\n",
        "model = model_builder(config.vocab_size, config.review_length, config.embedding_size, RNN_dict[config.RNN_layer_model])"
      ],
      "metadata": {
        "id": "IOkzZTiDGvGc"
      },
      "execution_count": null,
      "outputs": []
    },
    {
      "cell_type": "code",
      "source": [
        "optimizer = tf.keras.optimizers.Adam(learning_rate = config.learning_rate)\n",
        "\n",
        "model.compile(\n",
        "    loss = \"categorical_crossentropy\",\n",
        "    optimizer = optimizer,\n",
        "    metrics = [tf.keras.metrics.CategoricalAccuracy(),\n",
        "                tf.keras.metrics.Precision(),\n",
        "                tf.keras.metrics.Recall(),\n",
        "                tf.keras.metrics.F1Score()]\n",
        "    )\n",
        "\n",
        "\n",
        "wandb.log({\"train_set\": train_name, \"size_train\": len(x_train), 'rnn_layer_model': RNN_dict[config.RNN_layer_model]})\n",
        "\n",
        "model.fit(encoded_train, y_train,\n",
        "          epochs = config.epochs,\n",
        "          batch_size = config.batch_size,\n",
        "          validation_data = [encoded_val, y_val],\n",
        "          callbacks=[WandbCallback(save_model = False)])"
      ],
      "metadata": {
        "id": "vw3d23_vEpcG"
      },
      "execution_count": null,
      "outputs": []
    },
    {
      "cell_type": "code",
      "source": [
        "pred = model.predict(encoded_test)"
      ],
      "metadata": {
        "id": "CO13_YyqKHGg"
      },
      "execution_count": null,
      "outputs": []
    },
    {
      "cell_type": "code",
      "source": [
        "ConfusionMatrixDisplay(confusion_matrix(y_test, np.argmax(pred,axis=1))).plot()"
      ],
      "metadata": {
        "id": "cK05eJl0KmcF"
      },
      "execution_count": null,
      "outputs": []
    },
    {
      "cell_type": "code",
      "source": [
        "print(classification_report(y_test, np.argmax(pred,axis=1)))"
      ],
      "metadata": {
        "id": "u-3vzUpDNlNR"
      },
      "execution_count": null,
      "outputs": []
    },
    {
      "cell_type": "code",
      "source": [
        "y_val_sparse = load_val['overall']-1\n",
        "pred_val = model.predict(encoded_val)\n",
        "ConfusionMatrixDisplay(confusion_matrix(y_val_sparse, np.argmax(pred_val,axis=1))).plot()\n",
        "print(classification_report(y_val_sparse, np.argmax(pred_val,axis=1)))"
      ],
      "metadata": {
        "id": "EHyli0nbm_tI"
      },
      "execution_count": null,
      "outputs": []
    }
  ],
  "metadata": {
    "colab": {
      "provenance": [],
      "gpuType": "T4",
      "machine_shape": "hm",
      "include_colab_link": true
    },
    "kernelspec": {
      "display_name": "Python 3",
      "name": "python3"
    },
    "language_info": {
      "name": "python"
    },
    "accelerator": "GPU",
    "widgets": {
      "application/vnd.jupyter.widget-state+json": {
        "f8a19d18dbbc4460b9c765eb72019ec4": {
          "model_module": "@jupyter-widgets/controls",
          "model_name": "VBoxModel",
          "model_module_version": "1.5.0",
          "state": {
            "_dom_classes": [],
            "_model_module": "@jupyter-widgets/controls",
            "_model_module_version": "1.5.0",
            "_model_name": "VBoxModel",
            "_view_count": null,
            "_view_module": "@jupyter-widgets/controls",
            "_view_module_version": "1.5.0",
            "_view_name": "VBoxView",
            "box_style": "",
            "children": [
              "IPY_MODEL_242a9b1990064ac1a306d94aa7cd1a8a",
              "IPY_MODEL_409ddc06dd05467383d9a92b9e6d3db2"
            ],
            "layout": "IPY_MODEL_a2d1bc7f3c5a4f5d9d63aba1aed692ae"
          }
        },
        "242a9b1990064ac1a306d94aa7cd1a8a": {
          "model_module": "@jupyter-widgets/controls",
          "model_name": "LabelModel",
          "model_module_version": "1.5.0",
          "state": {
            "_dom_classes": [],
            "_model_module": "@jupyter-widgets/controls",
            "_model_module_version": "1.5.0",
            "_model_name": "LabelModel",
            "_view_count": null,
            "_view_module": "@jupyter-widgets/controls",
            "_view_module_version": "1.5.0",
            "_view_name": "LabelView",
            "description": "",
            "description_tooltip": null,
            "layout": "IPY_MODEL_0967f9b0be304541be296e586537e8ac",
            "placeholder": "​",
            "style": "IPY_MODEL_61f027bcaf9348e5a741525f07e8c32e",
            "value": "0.032 MB of 0.032 MB uploaded\r"
          }
        },
        "409ddc06dd05467383d9a92b9e6d3db2": {
          "model_module": "@jupyter-widgets/controls",
          "model_name": "FloatProgressModel",
          "model_module_version": "1.5.0",
          "state": {
            "_dom_classes": [],
            "_model_module": "@jupyter-widgets/controls",
            "_model_module_version": "1.5.0",
            "_model_name": "FloatProgressModel",
            "_view_count": null,
            "_view_module": "@jupyter-widgets/controls",
            "_view_module_version": "1.5.0",
            "_view_name": "ProgressView",
            "bar_style": "",
            "description": "",
            "description_tooltip": null,
            "layout": "IPY_MODEL_5634b3e814d14fbf9b5ff6822bb10cfa",
            "max": 1,
            "min": 0,
            "orientation": "horizontal",
            "style": "IPY_MODEL_ba176442bb1045199ce470d96f7c556a",
            "value": 1
          }
        },
        "a2d1bc7f3c5a4f5d9d63aba1aed692ae": {
          "model_module": "@jupyter-widgets/base",
          "model_name": "LayoutModel",
          "model_module_version": "1.2.0",
          "state": {
            "_model_module": "@jupyter-widgets/base",
            "_model_module_version": "1.2.0",
            "_model_name": "LayoutModel",
            "_view_count": null,
            "_view_module": "@jupyter-widgets/base",
            "_view_module_version": "1.2.0",
            "_view_name": "LayoutView",
            "align_content": null,
            "align_items": null,
            "align_self": null,
            "border": null,
            "bottom": null,
            "display": null,
            "flex": null,
            "flex_flow": null,
            "grid_area": null,
            "grid_auto_columns": null,
            "grid_auto_flow": null,
            "grid_auto_rows": null,
            "grid_column": null,
            "grid_gap": null,
            "grid_row": null,
            "grid_template_areas": null,
            "grid_template_columns": null,
            "grid_template_rows": null,
            "height": null,
            "justify_content": null,
            "justify_items": null,
            "left": null,
            "margin": null,
            "max_height": null,
            "max_width": null,
            "min_height": null,
            "min_width": null,
            "object_fit": null,
            "object_position": null,
            "order": null,
            "overflow": null,
            "overflow_x": null,
            "overflow_y": null,
            "padding": null,
            "right": null,
            "top": null,
            "visibility": null,
            "width": null
          }
        },
        "0967f9b0be304541be296e586537e8ac": {
          "model_module": "@jupyter-widgets/base",
          "model_name": "LayoutModel",
          "model_module_version": "1.2.0",
          "state": {
            "_model_module": "@jupyter-widgets/base",
            "_model_module_version": "1.2.0",
            "_model_name": "LayoutModel",
            "_view_count": null,
            "_view_module": "@jupyter-widgets/base",
            "_view_module_version": "1.2.0",
            "_view_name": "LayoutView",
            "align_content": null,
            "align_items": null,
            "align_self": null,
            "border": null,
            "bottom": null,
            "display": null,
            "flex": null,
            "flex_flow": null,
            "grid_area": null,
            "grid_auto_columns": null,
            "grid_auto_flow": null,
            "grid_auto_rows": null,
            "grid_column": null,
            "grid_gap": null,
            "grid_row": null,
            "grid_template_areas": null,
            "grid_template_columns": null,
            "grid_template_rows": null,
            "height": null,
            "justify_content": null,
            "justify_items": null,
            "left": null,
            "margin": null,
            "max_height": null,
            "max_width": null,
            "min_height": null,
            "min_width": null,
            "object_fit": null,
            "object_position": null,
            "order": null,
            "overflow": null,
            "overflow_x": null,
            "overflow_y": null,
            "padding": null,
            "right": null,
            "top": null,
            "visibility": null,
            "width": null
          }
        },
        "61f027bcaf9348e5a741525f07e8c32e": {
          "model_module": "@jupyter-widgets/controls",
          "model_name": "DescriptionStyleModel",
          "model_module_version": "1.5.0",
          "state": {
            "_model_module": "@jupyter-widgets/controls",
            "_model_module_version": "1.5.0",
            "_model_name": "DescriptionStyleModel",
            "_view_count": null,
            "_view_module": "@jupyter-widgets/base",
            "_view_module_version": "1.2.0",
            "_view_name": "StyleView",
            "description_width": ""
          }
        },
        "5634b3e814d14fbf9b5ff6822bb10cfa": {
          "model_module": "@jupyter-widgets/base",
          "model_name": "LayoutModel",
          "model_module_version": "1.2.0",
          "state": {
            "_model_module": "@jupyter-widgets/base",
            "_model_module_version": "1.2.0",
            "_model_name": "LayoutModel",
            "_view_count": null,
            "_view_module": "@jupyter-widgets/base",
            "_view_module_version": "1.2.0",
            "_view_name": "LayoutView",
            "align_content": null,
            "align_items": null,
            "align_self": null,
            "border": null,
            "bottom": null,
            "display": null,
            "flex": null,
            "flex_flow": null,
            "grid_area": null,
            "grid_auto_columns": null,
            "grid_auto_flow": null,
            "grid_auto_rows": null,
            "grid_column": null,
            "grid_gap": null,
            "grid_row": null,
            "grid_template_areas": null,
            "grid_template_columns": null,
            "grid_template_rows": null,
            "height": null,
            "justify_content": null,
            "justify_items": null,
            "left": null,
            "margin": null,
            "max_height": null,
            "max_width": null,
            "min_height": null,
            "min_width": null,
            "object_fit": null,
            "object_position": null,
            "order": null,
            "overflow": null,
            "overflow_x": null,
            "overflow_y": null,
            "padding": null,
            "right": null,
            "top": null,
            "visibility": null,
            "width": null
          }
        },
        "ba176442bb1045199ce470d96f7c556a": {
          "model_module": "@jupyter-widgets/controls",
          "model_name": "ProgressStyleModel",
          "model_module_version": "1.5.0",
          "state": {
            "_model_module": "@jupyter-widgets/controls",
            "_model_module_version": "1.5.0",
            "_model_name": "ProgressStyleModel",
            "_view_count": null,
            "_view_module": "@jupyter-widgets/base",
            "_view_module_version": "1.2.0",
            "_view_name": "StyleView",
            "bar_color": null,
            "description_width": ""
          }
        },
        "3082793037cc48298195e1312e2c9985": {
          "model_module": "@jupyter-widgets/controls",
          "model_name": "VBoxModel",
          "model_module_version": "1.5.0",
          "state": {
            "_dom_classes": [],
            "_model_module": "@jupyter-widgets/controls",
            "_model_module_version": "1.5.0",
            "_model_name": "VBoxModel",
            "_view_count": null,
            "_view_module": "@jupyter-widgets/controls",
            "_view_module_version": "1.5.0",
            "_view_name": "VBoxView",
            "box_style": "",
            "children": [
              "IPY_MODEL_27b792311e304bbca828b59b0a9d1311",
              "IPY_MODEL_fce317f0b72e422c91fab252bf3e416a"
            ],
            "layout": "IPY_MODEL_d6badfbb37064f89891f7218c0a35827"
          }
        },
        "27b792311e304bbca828b59b0a9d1311": {
          "model_module": "@jupyter-widgets/controls",
          "model_name": "LabelModel",
          "model_module_version": "1.5.0",
          "state": {
            "_dom_classes": [],
            "_model_module": "@jupyter-widgets/controls",
            "_model_module_version": "1.5.0",
            "_model_name": "LabelModel",
            "_view_count": null,
            "_view_module": "@jupyter-widgets/controls",
            "_view_module_version": "1.5.0",
            "_view_name": "LabelView",
            "description": "",
            "description_tooltip": null,
            "layout": "IPY_MODEL_f16f71a1a7af49f5844501b2cf5e5af5",
            "placeholder": "​",
            "style": "IPY_MODEL_a2fdb44daf684b6c9065ab282600c401",
            "value": "0.022 MB of 0.022 MB uploaded\r"
          }
        },
        "fce317f0b72e422c91fab252bf3e416a": {
          "model_module": "@jupyter-widgets/controls",
          "model_name": "FloatProgressModel",
          "model_module_version": "1.5.0",
          "state": {
            "_dom_classes": [],
            "_model_module": "@jupyter-widgets/controls",
            "_model_module_version": "1.5.0",
            "_model_name": "FloatProgressModel",
            "_view_count": null,
            "_view_module": "@jupyter-widgets/controls",
            "_view_module_version": "1.5.0",
            "_view_name": "ProgressView",
            "bar_style": "",
            "description": "",
            "description_tooltip": null,
            "layout": "IPY_MODEL_b1d470ef15e848a68017ee19a9896810",
            "max": 1,
            "min": 0,
            "orientation": "horizontal",
            "style": "IPY_MODEL_faf2dc9af7cd4c428319951c44ceab2d",
            "value": 1
          }
        },
        "d6badfbb37064f89891f7218c0a35827": {
          "model_module": "@jupyter-widgets/base",
          "model_name": "LayoutModel",
          "model_module_version": "1.2.0",
          "state": {
            "_model_module": "@jupyter-widgets/base",
            "_model_module_version": "1.2.0",
            "_model_name": "LayoutModel",
            "_view_count": null,
            "_view_module": "@jupyter-widgets/base",
            "_view_module_version": "1.2.0",
            "_view_name": "LayoutView",
            "align_content": null,
            "align_items": null,
            "align_self": null,
            "border": null,
            "bottom": null,
            "display": null,
            "flex": null,
            "flex_flow": null,
            "grid_area": null,
            "grid_auto_columns": null,
            "grid_auto_flow": null,
            "grid_auto_rows": null,
            "grid_column": null,
            "grid_gap": null,
            "grid_row": null,
            "grid_template_areas": null,
            "grid_template_columns": null,
            "grid_template_rows": null,
            "height": null,
            "justify_content": null,
            "justify_items": null,
            "left": null,
            "margin": null,
            "max_height": null,
            "max_width": null,
            "min_height": null,
            "min_width": null,
            "object_fit": null,
            "object_position": null,
            "order": null,
            "overflow": null,
            "overflow_x": null,
            "overflow_y": null,
            "padding": null,
            "right": null,
            "top": null,
            "visibility": null,
            "width": null
          }
        },
        "f16f71a1a7af49f5844501b2cf5e5af5": {
          "model_module": "@jupyter-widgets/base",
          "model_name": "LayoutModel",
          "model_module_version": "1.2.0",
          "state": {
            "_model_module": "@jupyter-widgets/base",
            "_model_module_version": "1.2.0",
            "_model_name": "LayoutModel",
            "_view_count": null,
            "_view_module": "@jupyter-widgets/base",
            "_view_module_version": "1.2.0",
            "_view_name": "LayoutView",
            "align_content": null,
            "align_items": null,
            "align_self": null,
            "border": null,
            "bottom": null,
            "display": null,
            "flex": null,
            "flex_flow": null,
            "grid_area": null,
            "grid_auto_columns": null,
            "grid_auto_flow": null,
            "grid_auto_rows": null,
            "grid_column": null,
            "grid_gap": null,
            "grid_row": null,
            "grid_template_areas": null,
            "grid_template_columns": null,
            "grid_template_rows": null,
            "height": null,
            "justify_content": null,
            "justify_items": null,
            "left": null,
            "margin": null,
            "max_height": null,
            "max_width": null,
            "min_height": null,
            "min_width": null,
            "object_fit": null,
            "object_position": null,
            "order": null,
            "overflow": null,
            "overflow_x": null,
            "overflow_y": null,
            "padding": null,
            "right": null,
            "top": null,
            "visibility": null,
            "width": null
          }
        },
        "a2fdb44daf684b6c9065ab282600c401": {
          "model_module": "@jupyter-widgets/controls",
          "model_name": "DescriptionStyleModel",
          "model_module_version": "1.5.0",
          "state": {
            "_model_module": "@jupyter-widgets/controls",
            "_model_module_version": "1.5.0",
            "_model_name": "DescriptionStyleModel",
            "_view_count": null,
            "_view_module": "@jupyter-widgets/base",
            "_view_module_version": "1.2.0",
            "_view_name": "StyleView",
            "description_width": ""
          }
        },
        "b1d470ef15e848a68017ee19a9896810": {
          "model_module": "@jupyter-widgets/base",
          "model_name": "LayoutModel",
          "model_module_version": "1.2.0",
          "state": {
            "_model_module": "@jupyter-widgets/base",
            "_model_module_version": "1.2.0",
            "_model_name": "LayoutModel",
            "_view_count": null,
            "_view_module": "@jupyter-widgets/base",
            "_view_module_version": "1.2.0",
            "_view_name": "LayoutView",
            "align_content": null,
            "align_items": null,
            "align_self": null,
            "border": null,
            "bottom": null,
            "display": null,
            "flex": null,
            "flex_flow": null,
            "grid_area": null,
            "grid_auto_columns": null,
            "grid_auto_flow": null,
            "grid_auto_rows": null,
            "grid_column": null,
            "grid_gap": null,
            "grid_row": null,
            "grid_template_areas": null,
            "grid_template_columns": null,
            "grid_template_rows": null,
            "height": null,
            "justify_content": null,
            "justify_items": null,
            "left": null,
            "margin": null,
            "max_height": null,
            "max_width": null,
            "min_height": null,
            "min_width": null,
            "object_fit": null,
            "object_position": null,
            "order": null,
            "overflow": null,
            "overflow_x": null,
            "overflow_y": null,
            "padding": null,
            "right": null,
            "top": null,
            "visibility": null,
            "width": null
          }
        },
        "faf2dc9af7cd4c428319951c44ceab2d": {
          "model_module": "@jupyter-widgets/controls",
          "model_name": "ProgressStyleModel",
          "model_module_version": "1.5.0",
          "state": {
            "_model_module": "@jupyter-widgets/controls",
            "_model_module_version": "1.5.0",
            "_model_name": "ProgressStyleModel",
            "_view_count": null,
            "_view_module": "@jupyter-widgets/base",
            "_view_module_version": "1.2.0",
            "_view_name": "StyleView",
            "bar_color": null,
            "description_width": ""
          }
        },
        "892504368d0249829c77bc4fdc56d50e": {
          "model_module": "@jupyter-widgets/controls",
          "model_name": "VBoxModel",
          "model_module_version": "1.5.0",
          "state": {
            "_dom_classes": [],
            "_model_module": "@jupyter-widgets/controls",
            "_model_module_version": "1.5.0",
            "_model_name": "VBoxModel",
            "_view_count": null,
            "_view_module": "@jupyter-widgets/controls",
            "_view_module_version": "1.5.0",
            "_view_name": "VBoxView",
            "box_style": "",
            "children": [
              "IPY_MODEL_ab874c5b9d5c4439b564cc83ed82bf19",
              "IPY_MODEL_bd59d9b2d41a4c5fa06418390ed5629a"
            ],
            "layout": "IPY_MODEL_169843af951241b7be1a8abf34288d40"
          }
        },
        "ab874c5b9d5c4439b564cc83ed82bf19": {
          "model_module": "@jupyter-widgets/controls",
          "model_name": "LabelModel",
          "model_module_version": "1.5.0",
          "state": {
            "_dom_classes": [],
            "_model_module": "@jupyter-widgets/controls",
            "_model_module_version": "1.5.0",
            "_model_name": "LabelModel",
            "_view_count": null,
            "_view_module": "@jupyter-widgets/controls",
            "_view_module_version": "1.5.0",
            "_view_name": "LabelView",
            "description": "",
            "description_tooltip": null,
            "layout": "IPY_MODEL_a2b1fd6e7b064ea6be156a8904a1ef2e",
            "placeholder": "​",
            "style": "IPY_MODEL_29e69ebdd58e4d2ea599c04aab704f6b",
            "value": "0.037 MB of 0.037 MB uploaded\r"
          }
        },
        "bd59d9b2d41a4c5fa06418390ed5629a": {
          "model_module": "@jupyter-widgets/controls",
          "model_name": "FloatProgressModel",
          "model_module_version": "1.5.0",
          "state": {
            "_dom_classes": [],
            "_model_module": "@jupyter-widgets/controls",
            "_model_module_version": "1.5.0",
            "_model_name": "FloatProgressModel",
            "_view_count": null,
            "_view_module": "@jupyter-widgets/controls",
            "_view_module_version": "1.5.0",
            "_view_name": "ProgressView",
            "bar_style": "",
            "description": "",
            "description_tooltip": null,
            "layout": "IPY_MODEL_a25a8e1cd5df495eb6a804e192d580e0",
            "max": 1,
            "min": 0,
            "orientation": "horizontal",
            "style": "IPY_MODEL_05294cccb1d248949021f72d6fd85b26",
            "value": 1
          }
        },
        "169843af951241b7be1a8abf34288d40": {
          "model_module": "@jupyter-widgets/base",
          "model_name": "LayoutModel",
          "model_module_version": "1.2.0",
          "state": {
            "_model_module": "@jupyter-widgets/base",
            "_model_module_version": "1.2.0",
            "_model_name": "LayoutModel",
            "_view_count": null,
            "_view_module": "@jupyter-widgets/base",
            "_view_module_version": "1.2.0",
            "_view_name": "LayoutView",
            "align_content": null,
            "align_items": null,
            "align_self": null,
            "border": null,
            "bottom": null,
            "display": null,
            "flex": null,
            "flex_flow": null,
            "grid_area": null,
            "grid_auto_columns": null,
            "grid_auto_flow": null,
            "grid_auto_rows": null,
            "grid_column": null,
            "grid_gap": null,
            "grid_row": null,
            "grid_template_areas": null,
            "grid_template_columns": null,
            "grid_template_rows": null,
            "height": null,
            "justify_content": null,
            "justify_items": null,
            "left": null,
            "margin": null,
            "max_height": null,
            "max_width": null,
            "min_height": null,
            "min_width": null,
            "object_fit": null,
            "object_position": null,
            "order": null,
            "overflow": null,
            "overflow_x": null,
            "overflow_y": null,
            "padding": null,
            "right": null,
            "top": null,
            "visibility": null,
            "width": null
          }
        },
        "a2b1fd6e7b064ea6be156a8904a1ef2e": {
          "model_module": "@jupyter-widgets/base",
          "model_name": "LayoutModel",
          "model_module_version": "1.2.0",
          "state": {
            "_model_module": "@jupyter-widgets/base",
            "_model_module_version": "1.2.0",
            "_model_name": "LayoutModel",
            "_view_count": null,
            "_view_module": "@jupyter-widgets/base",
            "_view_module_version": "1.2.0",
            "_view_name": "LayoutView",
            "align_content": null,
            "align_items": null,
            "align_self": null,
            "border": null,
            "bottom": null,
            "display": null,
            "flex": null,
            "flex_flow": null,
            "grid_area": null,
            "grid_auto_columns": null,
            "grid_auto_flow": null,
            "grid_auto_rows": null,
            "grid_column": null,
            "grid_gap": null,
            "grid_row": null,
            "grid_template_areas": null,
            "grid_template_columns": null,
            "grid_template_rows": null,
            "height": null,
            "justify_content": null,
            "justify_items": null,
            "left": null,
            "margin": null,
            "max_height": null,
            "max_width": null,
            "min_height": null,
            "min_width": null,
            "object_fit": null,
            "object_position": null,
            "order": null,
            "overflow": null,
            "overflow_x": null,
            "overflow_y": null,
            "padding": null,
            "right": null,
            "top": null,
            "visibility": null,
            "width": null
          }
        },
        "29e69ebdd58e4d2ea599c04aab704f6b": {
          "model_module": "@jupyter-widgets/controls",
          "model_name": "DescriptionStyleModel",
          "model_module_version": "1.5.0",
          "state": {
            "_model_module": "@jupyter-widgets/controls",
            "_model_module_version": "1.5.0",
            "_model_name": "DescriptionStyleModel",
            "_view_count": null,
            "_view_module": "@jupyter-widgets/base",
            "_view_module_version": "1.2.0",
            "_view_name": "StyleView",
            "description_width": ""
          }
        },
        "a25a8e1cd5df495eb6a804e192d580e0": {
          "model_module": "@jupyter-widgets/base",
          "model_name": "LayoutModel",
          "model_module_version": "1.2.0",
          "state": {
            "_model_module": "@jupyter-widgets/base",
            "_model_module_version": "1.2.0",
            "_model_name": "LayoutModel",
            "_view_count": null,
            "_view_module": "@jupyter-widgets/base",
            "_view_module_version": "1.2.0",
            "_view_name": "LayoutView",
            "align_content": null,
            "align_items": null,
            "align_self": null,
            "border": null,
            "bottom": null,
            "display": null,
            "flex": null,
            "flex_flow": null,
            "grid_area": null,
            "grid_auto_columns": null,
            "grid_auto_flow": null,
            "grid_auto_rows": null,
            "grid_column": null,
            "grid_gap": null,
            "grid_row": null,
            "grid_template_areas": null,
            "grid_template_columns": null,
            "grid_template_rows": null,
            "height": null,
            "justify_content": null,
            "justify_items": null,
            "left": null,
            "margin": null,
            "max_height": null,
            "max_width": null,
            "min_height": null,
            "min_width": null,
            "object_fit": null,
            "object_position": null,
            "order": null,
            "overflow": null,
            "overflow_x": null,
            "overflow_y": null,
            "padding": null,
            "right": null,
            "top": null,
            "visibility": null,
            "width": null
          }
        },
        "05294cccb1d248949021f72d6fd85b26": {
          "model_module": "@jupyter-widgets/controls",
          "model_name": "ProgressStyleModel",
          "model_module_version": "1.5.0",
          "state": {
            "_model_module": "@jupyter-widgets/controls",
            "_model_module_version": "1.5.0",
            "_model_name": "ProgressStyleModel",
            "_view_count": null,
            "_view_module": "@jupyter-widgets/base",
            "_view_module_version": "1.2.0",
            "_view_name": "StyleView",
            "bar_color": null,
            "description_width": ""
          }
        },
        "5747a9e8a8b94d06bdd08a8b30c75407": {
          "model_module": "@jupyter-widgets/controls",
          "model_name": "VBoxModel",
          "model_module_version": "1.5.0",
          "state": {
            "_dom_classes": [],
            "_model_module": "@jupyter-widgets/controls",
            "_model_module_version": "1.5.0",
            "_model_name": "VBoxModel",
            "_view_count": null,
            "_view_module": "@jupyter-widgets/controls",
            "_view_module_version": "1.5.0",
            "_view_name": "VBoxView",
            "box_style": "",
            "children": [
              "IPY_MODEL_0ee01ecf691a4b2e915c7b3b66469af5",
              "IPY_MODEL_9ee144ad3b3e4ce69b7ad7849c0bd4ff"
            ],
            "layout": "IPY_MODEL_bdddfba55f98424fb98d826b8826c2f2"
          }
        },
        "0ee01ecf691a4b2e915c7b3b66469af5": {
          "model_module": "@jupyter-widgets/controls",
          "model_name": "LabelModel",
          "model_module_version": "1.5.0",
          "state": {
            "_dom_classes": [],
            "_model_module": "@jupyter-widgets/controls",
            "_model_module_version": "1.5.0",
            "_model_name": "LabelModel",
            "_view_count": null,
            "_view_module": "@jupyter-widgets/controls",
            "_view_module_version": "1.5.0",
            "_view_name": "LabelView",
            "description": "",
            "description_tooltip": null,
            "layout": "IPY_MODEL_d4247a4e39ac4a6b822364166756e2ca",
            "placeholder": "​",
            "style": "IPY_MODEL_30749fa4c87c47a08a783f44323f0ba1",
            "value": "0.035 MB of 0.035 MB uploaded\r"
          }
        },
        "9ee144ad3b3e4ce69b7ad7849c0bd4ff": {
          "model_module": "@jupyter-widgets/controls",
          "model_name": "FloatProgressModel",
          "model_module_version": "1.5.0",
          "state": {
            "_dom_classes": [],
            "_model_module": "@jupyter-widgets/controls",
            "_model_module_version": "1.5.0",
            "_model_name": "FloatProgressModel",
            "_view_count": null,
            "_view_module": "@jupyter-widgets/controls",
            "_view_module_version": "1.5.0",
            "_view_name": "ProgressView",
            "bar_style": "",
            "description": "",
            "description_tooltip": null,
            "layout": "IPY_MODEL_d11f7a3839f84e93894e381d7a484f39",
            "max": 1,
            "min": 0,
            "orientation": "horizontal",
            "style": "IPY_MODEL_b4da0176dcaf4cef9a88982b6e728386",
            "value": 1
          }
        },
        "bdddfba55f98424fb98d826b8826c2f2": {
          "model_module": "@jupyter-widgets/base",
          "model_name": "LayoutModel",
          "model_module_version": "1.2.0",
          "state": {
            "_model_module": "@jupyter-widgets/base",
            "_model_module_version": "1.2.0",
            "_model_name": "LayoutModel",
            "_view_count": null,
            "_view_module": "@jupyter-widgets/base",
            "_view_module_version": "1.2.0",
            "_view_name": "LayoutView",
            "align_content": null,
            "align_items": null,
            "align_self": null,
            "border": null,
            "bottom": null,
            "display": null,
            "flex": null,
            "flex_flow": null,
            "grid_area": null,
            "grid_auto_columns": null,
            "grid_auto_flow": null,
            "grid_auto_rows": null,
            "grid_column": null,
            "grid_gap": null,
            "grid_row": null,
            "grid_template_areas": null,
            "grid_template_columns": null,
            "grid_template_rows": null,
            "height": null,
            "justify_content": null,
            "justify_items": null,
            "left": null,
            "margin": null,
            "max_height": null,
            "max_width": null,
            "min_height": null,
            "min_width": null,
            "object_fit": null,
            "object_position": null,
            "order": null,
            "overflow": null,
            "overflow_x": null,
            "overflow_y": null,
            "padding": null,
            "right": null,
            "top": null,
            "visibility": null,
            "width": null
          }
        },
        "d4247a4e39ac4a6b822364166756e2ca": {
          "model_module": "@jupyter-widgets/base",
          "model_name": "LayoutModel",
          "model_module_version": "1.2.0",
          "state": {
            "_model_module": "@jupyter-widgets/base",
            "_model_module_version": "1.2.0",
            "_model_name": "LayoutModel",
            "_view_count": null,
            "_view_module": "@jupyter-widgets/base",
            "_view_module_version": "1.2.0",
            "_view_name": "LayoutView",
            "align_content": null,
            "align_items": null,
            "align_self": null,
            "border": null,
            "bottom": null,
            "display": null,
            "flex": null,
            "flex_flow": null,
            "grid_area": null,
            "grid_auto_columns": null,
            "grid_auto_flow": null,
            "grid_auto_rows": null,
            "grid_column": null,
            "grid_gap": null,
            "grid_row": null,
            "grid_template_areas": null,
            "grid_template_columns": null,
            "grid_template_rows": null,
            "height": null,
            "justify_content": null,
            "justify_items": null,
            "left": null,
            "margin": null,
            "max_height": null,
            "max_width": null,
            "min_height": null,
            "min_width": null,
            "object_fit": null,
            "object_position": null,
            "order": null,
            "overflow": null,
            "overflow_x": null,
            "overflow_y": null,
            "padding": null,
            "right": null,
            "top": null,
            "visibility": null,
            "width": null
          }
        },
        "30749fa4c87c47a08a783f44323f0ba1": {
          "model_module": "@jupyter-widgets/controls",
          "model_name": "DescriptionStyleModel",
          "model_module_version": "1.5.0",
          "state": {
            "_model_module": "@jupyter-widgets/controls",
            "_model_module_version": "1.5.0",
            "_model_name": "DescriptionStyleModel",
            "_view_count": null,
            "_view_module": "@jupyter-widgets/base",
            "_view_module_version": "1.2.0",
            "_view_name": "StyleView",
            "description_width": ""
          }
        },
        "d11f7a3839f84e93894e381d7a484f39": {
          "model_module": "@jupyter-widgets/base",
          "model_name": "LayoutModel",
          "model_module_version": "1.2.0",
          "state": {
            "_model_module": "@jupyter-widgets/base",
            "_model_module_version": "1.2.0",
            "_model_name": "LayoutModel",
            "_view_count": null,
            "_view_module": "@jupyter-widgets/base",
            "_view_module_version": "1.2.0",
            "_view_name": "LayoutView",
            "align_content": null,
            "align_items": null,
            "align_self": null,
            "border": null,
            "bottom": null,
            "display": null,
            "flex": null,
            "flex_flow": null,
            "grid_area": null,
            "grid_auto_columns": null,
            "grid_auto_flow": null,
            "grid_auto_rows": null,
            "grid_column": null,
            "grid_gap": null,
            "grid_row": null,
            "grid_template_areas": null,
            "grid_template_columns": null,
            "grid_template_rows": null,
            "height": null,
            "justify_content": null,
            "justify_items": null,
            "left": null,
            "margin": null,
            "max_height": null,
            "max_width": null,
            "min_height": null,
            "min_width": null,
            "object_fit": null,
            "object_position": null,
            "order": null,
            "overflow": null,
            "overflow_x": null,
            "overflow_y": null,
            "padding": null,
            "right": null,
            "top": null,
            "visibility": null,
            "width": null
          }
        },
        "b4da0176dcaf4cef9a88982b6e728386": {
          "model_module": "@jupyter-widgets/controls",
          "model_name": "ProgressStyleModel",
          "model_module_version": "1.5.0",
          "state": {
            "_model_module": "@jupyter-widgets/controls",
            "_model_module_version": "1.5.0",
            "_model_name": "ProgressStyleModel",
            "_view_count": null,
            "_view_module": "@jupyter-widgets/base",
            "_view_module_version": "1.2.0",
            "_view_name": "StyleView",
            "bar_color": null,
            "description_width": ""
          }
        },
        "b3e2bcd3f4b14f77a79afeda4b26e486": {
          "model_module": "@jupyter-widgets/controls",
          "model_name": "VBoxModel",
          "model_module_version": "1.5.0",
          "state": {
            "_dom_classes": [],
            "_model_module": "@jupyter-widgets/controls",
            "_model_module_version": "1.5.0",
            "_model_name": "VBoxModel",
            "_view_count": null,
            "_view_module": "@jupyter-widgets/controls",
            "_view_module_version": "1.5.0",
            "_view_name": "VBoxView",
            "box_style": "",
            "children": [
              "IPY_MODEL_35ef9f0c225041b1aa37a33907be59a5",
              "IPY_MODEL_75eeb0ef67244ec9b69c7245185ae22a"
            ],
            "layout": "IPY_MODEL_20dffbe38f29412c93f145ebf54a41b4"
          }
        },
        "35ef9f0c225041b1aa37a33907be59a5": {
          "model_module": "@jupyter-widgets/controls",
          "model_name": "LabelModel",
          "model_module_version": "1.5.0",
          "state": {
            "_dom_classes": [],
            "_model_module": "@jupyter-widgets/controls",
            "_model_module_version": "1.5.0",
            "_model_name": "LabelModel",
            "_view_count": null,
            "_view_module": "@jupyter-widgets/controls",
            "_view_module_version": "1.5.0",
            "_view_name": "LabelView",
            "description": "",
            "description_tooltip": null,
            "layout": "IPY_MODEL_a085969f5f3d49859a7703e26be66081",
            "placeholder": "​",
            "style": "IPY_MODEL_60dcdce6387346babbbc8c92262be485",
            "value": "0.017 MB of 0.017 MB uploaded\r"
          }
        },
        "75eeb0ef67244ec9b69c7245185ae22a": {
          "model_module": "@jupyter-widgets/controls",
          "model_name": "FloatProgressModel",
          "model_module_version": "1.5.0",
          "state": {
            "_dom_classes": [],
            "_model_module": "@jupyter-widgets/controls",
            "_model_module_version": "1.5.0",
            "_model_name": "FloatProgressModel",
            "_view_count": null,
            "_view_module": "@jupyter-widgets/controls",
            "_view_module_version": "1.5.0",
            "_view_name": "ProgressView",
            "bar_style": "",
            "description": "",
            "description_tooltip": null,
            "layout": "IPY_MODEL_fff7083f20644bf2b96f93c9e0716de2",
            "max": 1,
            "min": 0,
            "orientation": "horizontal",
            "style": "IPY_MODEL_a209bdba11364dc18cfbe5aa81e28207",
            "value": 1
          }
        },
        "20dffbe38f29412c93f145ebf54a41b4": {
          "model_module": "@jupyter-widgets/base",
          "model_name": "LayoutModel",
          "model_module_version": "1.2.0",
          "state": {
            "_model_module": "@jupyter-widgets/base",
            "_model_module_version": "1.2.0",
            "_model_name": "LayoutModel",
            "_view_count": null,
            "_view_module": "@jupyter-widgets/base",
            "_view_module_version": "1.2.0",
            "_view_name": "LayoutView",
            "align_content": null,
            "align_items": null,
            "align_self": null,
            "border": null,
            "bottom": null,
            "display": null,
            "flex": null,
            "flex_flow": null,
            "grid_area": null,
            "grid_auto_columns": null,
            "grid_auto_flow": null,
            "grid_auto_rows": null,
            "grid_column": null,
            "grid_gap": null,
            "grid_row": null,
            "grid_template_areas": null,
            "grid_template_columns": null,
            "grid_template_rows": null,
            "height": null,
            "justify_content": null,
            "justify_items": null,
            "left": null,
            "margin": null,
            "max_height": null,
            "max_width": null,
            "min_height": null,
            "min_width": null,
            "object_fit": null,
            "object_position": null,
            "order": null,
            "overflow": null,
            "overflow_x": null,
            "overflow_y": null,
            "padding": null,
            "right": null,
            "top": null,
            "visibility": null,
            "width": null
          }
        },
        "a085969f5f3d49859a7703e26be66081": {
          "model_module": "@jupyter-widgets/base",
          "model_name": "LayoutModel",
          "model_module_version": "1.2.0",
          "state": {
            "_model_module": "@jupyter-widgets/base",
            "_model_module_version": "1.2.0",
            "_model_name": "LayoutModel",
            "_view_count": null,
            "_view_module": "@jupyter-widgets/base",
            "_view_module_version": "1.2.0",
            "_view_name": "LayoutView",
            "align_content": null,
            "align_items": null,
            "align_self": null,
            "border": null,
            "bottom": null,
            "display": null,
            "flex": null,
            "flex_flow": null,
            "grid_area": null,
            "grid_auto_columns": null,
            "grid_auto_flow": null,
            "grid_auto_rows": null,
            "grid_column": null,
            "grid_gap": null,
            "grid_row": null,
            "grid_template_areas": null,
            "grid_template_columns": null,
            "grid_template_rows": null,
            "height": null,
            "justify_content": null,
            "justify_items": null,
            "left": null,
            "margin": null,
            "max_height": null,
            "max_width": null,
            "min_height": null,
            "min_width": null,
            "object_fit": null,
            "object_position": null,
            "order": null,
            "overflow": null,
            "overflow_x": null,
            "overflow_y": null,
            "padding": null,
            "right": null,
            "top": null,
            "visibility": null,
            "width": null
          }
        },
        "60dcdce6387346babbbc8c92262be485": {
          "model_module": "@jupyter-widgets/controls",
          "model_name": "DescriptionStyleModel",
          "model_module_version": "1.5.0",
          "state": {
            "_model_module": "@jupyter-widgets/controls",
            "_model_module_version": "1.5.0",
            "_model_name": "DescriptionStyleModel",
            "_view_count": null,
            "_view_module": "@jupyter-widgets/base",
            "_view_module_version": "1.2.0",
            "_view_name": "StyleView",
            "description_width": ""
          }
        },
        "fff7083f20644bf2b96f93c9e0716de2": {
          "model_module": "@jupyter-widgets/base",
          "model_name": "LayoutModel",
          "model_module_version": "1.2.0",
          "state": {
            "_model_module": "@jupyter-widgets/base",
            "_model_module_version": "1.2.0",
            "_model_name": "LayoutModel",
            "_view_count": null,
            "_view_module": "@jupyter-widgets/base",
            "_view_module_version": "1.2.0",
            "_view_name": "LayoutView",
            "align_content": null,
            "align_items": null,
            "align_self": null,
            "border": null,
            "bottom": null,
            "display": null,
            "flex": null,
            "flex_flow": null,
            "grid_area": null,
            "grid_auto_columns": null,
            "grid_auto_flow": null,
            "grid_auto_rows": null,
            "grid_column": null,
            "grid_gap": null,
            "grid_row": null,
            "grid_template_areas": null,
            "grid_template_columns": null,
            "grid_template_rows": null,
            "height": null,
            "justify_content": null,
            "justify_items": null,
            "left": null,
            "margin": null,
            "max_height": null,
            "max_width": null,
            "min_height": null,
            "min_width": null,
            "object_fit": null,
            "object_position": null,
            "order": null,
            "overflow": null,
            "overflow_x": null,
            "overflow_y": null,
            "padding": null,
            "right": null,
            "top": null,
            "visibility": null,
            "width": null
          }
        },
        "a209bdba11364dc18cfbe5aa81e28207": {
          "model_module": "@jupyter-widgets/controls",
          "model_name": "ProgressStyleModel",
          "model_module_version": "1.5.0",
          "state": {
            "_model_module": "@jupyter-widgets/controls",
            "_model_module_version": "1.5.0",
            "_model_name": "ProgressStyleModel",
            "_view_count": null,
            "_view_module": "@jupyter-widgets/base",
            "_view_module_version": "1.2.0",
            "_view_name": "StyleView",
            "bar_color": null,
            "description_width": ""
          }
        },
        "593bbccf67b046a8ae680e937d5df36a": {
          "model_module": "@jupyter-widgets/controls",
          "model_name": "VBoxModel",
          "model_module_version": "1.5.0",
          "state": {
            "_dom_classes": [],
            "_model_module": "@jupyter-widgets/controls",
            "_model_module_version": "1.5.0",
            "_model_name": "VBoxModel",
            "_view_count": null,
            "_view_module": "@jupyter-widgets/controls",
            "_view_module_version": "1.5.0",
            "_view_name": "VBoxView",
            "box_style": "",
            "children": [
              "IPY_MODEL_5ac3295b99b94c7e823bb3dffd1c9ad1",
              "IPY_MODEL_a3195a10f13942e180e0011b6835ebb7"
            ],
            "layout": "IPY_MODEL_06ba18b20dec4aeb822a8c1b1965926e"
          }
        },
        "5ac3295b99b94c7e823bb3dffd1c9ad1": {
          "model_module": "@jupyter-widgets/controls",
          "model_name": "LabelModel",
          "model_module_version": "1.5.0",
          "state": {
            "_dom_classes": [],
            "_model_module": "@jupyter-widgets/controls",
            "_model_module_version": "1.5.0",
            "_model_name": "LabelModel",
            "_view_count": null,
            "_view_module": "@jupyter-widgets/controls",
            "_view_module_version": "1.5.0",
            "_view_name": "LabelView",
            "description": "",
            "description_tooltip": null,
            "layout": "IPY_MODEL_4b457754d4344eebb10af104ef5183e6",
            "placeholder": "​",
            "style": "IPY_MODEL_3bd3ba656de24a68a52edd979d9d1664",
            "value": "0.048 MB of 0.048 MB uploaded\r"
          }
        },
        "a3195a10f13942e180e0011b6835ebb7": {
          "model_module": "@jupyter-widgets/controls",
          "model_name": "FloatProgressModel",
          "model_module_version": "1.5.0",
          "state": {
            "_dom_classes": [],
            "_model_module": "@jupyter-widgets/controls",
            "_model_module_version": "1.5.0",
            "_model_name": "FloatProgressModel",
            "_view_count": null,
            "_view_module": "@jupyter-widgets/controls",
            "_view_module_version": "1.5.0",
            "_view_name": "ProgressView",
            "bar_style": "",
            "description": "",
            "description_tooltip": null,
            "layout": "IPY_MODEL_9fe0f9b322d7471caaa8864fb85a1a53",
            "max": 1,
            "min": 0,
            "orientation": "horizontal",
            "style": "IPY_MODEL_5b78ff810f9b49dfba6b38d8bcde1a0c",
            "value": 1
          }
        },
        "06ba18b20dec4aeb822a8c1b1965926e": {
          "model_module": "@jupyter-widgets/base",
          "model_name": "LayoutModel",
          "model_module_version": "1.2.0",
          "state": {
            "_model_module": "@jupyter-widgets/base",
            "_model_module_version": "1.2.0",
            "_model_name": "LayoutModel",
            "_view_count": null,
            "_view_module": "@jupyter-widgets/base",
            "_view_module_version": "1.2.0",
            "_view_name": "LayoutView",
            "align_content": null,
            "align_items": null,
            "align_self": null,
            "border": null,
            "bottom": null,
            "display": null,
            "flex": null,
            "flex_flow": null,
            "grid_area": null,
            "grid_auto_columns": null,
            "grid_auto_flow": null,
            "grid_auto_rows": null,
            "grid_column": null,
            "grid_gap": null,
            "grid_row": null,
            "grid_template_areas": null,
            "grid_template_columns": null,
            "grid_template_rows": null,
            "height": null,
            "justify_content": null,
            "justify_items": null,
            "left": null,
            "margin": null,
            "max_height": null,
            "max_width": null,
            "min_height": null,
            "min_width": null,
            "object_fit": null,
            "object_position": null,
            "order": null,
            "overflow": null,
            "overflow_x": null,
            "overflow_y": null,
            "padding": null,
            "right": null,
            "top": null,
            "visibility": null,
            "width": null
          }
        },
        "4b457754d4344eebb10af104ef5183e6": {
          "model_module": "@jupyter-widgets/base",
          "model_name": "LayoutModel",
          "model_module_version": "1.2.0",
          "state": {
            "_model_module": "@jupyter-widgets/base",
            "_model_module_version": "1.2.0",
            "_model_name": "LayoutModel",
            "_view_count": null,
            "_view_module": "@jupyter-widgets/base",
            "_view_module_version": "1.2.0",
            "_view_name": "LayoutView",
            "align_content": null,
            "align_items": null,
            "align_self": null,
            "border": null,
            "bottom": null,
            "display": null,
            "flex": null,
            "flex_flow": null,
            "grid_area": null,
            "grid_auto_columns": null,
            "grid_auto_flow": null,
            "grid_auto_rows": null,
            "grid_column": null,
            "grid_gap": null,
            "grid_row": null,
            "grid_template_areas": null,
            "grid_template_columns": null,
            "grid_template_rows": null,
            "height": null,
            "justify_content": null,
            "justify_items": null,
            "left": null,
            "margin": null,
            "max_height": null,
            "max_width": null,
            "min_height": null,
            "min_width": null,
            "object_fit": null,
            "object_position": null,
            "order": null,
            "overflow": null,
            "overflow_x": null,
            "overflow_y": null,
            "padding": null,
            "right": null,
            "top": null,
            "visibility": null,
            "width": null
          }
        },
        "3bd3ba656de24a68a52edd979d9d1664": {
          "model_module": "@jupyter-widgets/controls",
          "model_name": "DescriptionStyleModel",
          "model_module_version": "1.5.0",
          "state": {
            "_model_module": "@jupyter-widgets/controls",
            "_model_module_version": "1.5.0",
            "_model_name": "DescriptionStyleModel",
            "_view_count": null,
            "_view_module": "@jupyter-widgets/base",
            "_view_module_version": "1.2.0",
            "_view_name": "StyleView",
            "description_width": ""
          }
        },
        "9fe0f9b322d7471caaa8864fb85a1a53": {
          "model_module": "@jupyter-widgets/base",
          "model_name": "LayoutModel",
          "model_module_version": "1.2.0",
          "state": {
            "_model_module": "@jupyter-widgets/base",
            "_model_module_version": "1.2.0",
            "_model_name": "LayoutModel",
            "_view_count": null,
            "_view_module": "@jupyter-widgets/base",
            "_view_module_version": "1.2.0",
            "_view_name": "LayoutView",
            "align_content": null,
            "align_items": null,
            "align_self": null,
            "border": null,
            "bottom": null,
            "display": null,
            "flex": null,
            "flex_flow": null,
            "grid_area": null,
            "grid_auto_columns": null,
            "grid_auto_flow": null,
            "grid_auto_rows": null,
            "grid_column": null,
            "grid_gap": null,
            "grid_row": null,
            "grid_template_areas": null,
            "grid_template_columns": null,
            "grid_template_rows": null,
            "height": null,
            "justify_content": null,
            "justify_items": null,
            "left": null,
            "margin": null,
            "max_height": null,
            "max_width": null,
            "min_height": null,
            "min_width": null,
            "object_fit": null,
            "object_position": null,
            "order": null,
            "overflow": null,
            "overflow_x": null,
            "overflow_y": null,
            "padding": null,
            "right": null,
            "top": null,
            "visibility": null,
            "width": null
          }
        },
        "5b78ff810f9b49dfba6b38d8bcde1a0c": {
          "model_module": "@jupyter-widgets/controls",
          "model_name": "ProgressStyleModel",
          "model_module_version": "1.5.0",
          "state": {
            "_model_module": "@jupyter-widgets/controls",
            "_model_module_version": "1.5.0",
            "_model_name": "ProgressStyleModel",
            "_view_count": null,
            "_view_module": "@jupyter-widgets/base",
            "_view_module_version": "1.2.0",
            "_view_name": "StyleView",
            "bar_color": null,
            "description_width": ""
          }
        },
        "311ec9d7d7ce4f3982dee09311241395": {
          "model_module": "@jupyter-widgets/controls",
          "model_name": "VBoxModel",
          "model_module_version": "1.5.0",
          "state": {
            "_dom_classes": [],
            "_model_module": "@jupyter-widgets/controls",
            "_model_module_version": "1.5.0",
            "_model_name": "VBoxModel",
            "_view_count": null,
            "_view_module": "@jupyter-widgets/controls",
            "_view_module_version": "1.5.0",
            "_view_name": "VBoxView",
            "box_style": "",
            "children": [
              "IPY_MODEL_d3cd30ff60ec4f5c977fb31fa5e1e57b",
              "IPY_MODEL_8094332a61bb4cbfab76614114450450"
            ],
            "layout": "IPY_MODEL_fc4e4c1a31c446fa854389bf8fbb2af3"
          }
        },
        "d3cd30ff60ec4f5c977fb31fa5e1e57b": {
          "model_module": "@jupyter-widgets/controls",
          "model_name": "LabelModel",
          "model_module_version": "1.5.0",
          "state": {
            "_dom_classes": [],
            "_model_module": "@jupyter-widgets/controls",
            "_model_module_version": "1.5.0",
            "_model_name": "LabelModel",
            "_view_count": null,
            "_view_module": "@jupyter-widgets/controls",
            "_view_module_version": "1.5.0",
            "_view_name": "LabelView",
            "description": "",
            "description_tooltip": null,
            "layout": "IPY_MODEL_a0f96506621048af84d888f778cd1544",
            "placeholder": "​",
            "style": "IPY_MODEL_05eadd8cdb9143df9a150e8333eb3a78",
            "value": "0.020 MB of 0.020 MB uploaded\r"
          }
        },
        "8094332a61bb4cbfab76614114450450": {
          "model_module": "@jupyter-widgets/controls",
          "model_name": "FloatProgressModel",
          "model_module_version": "1.5.0",
          "state": {
            "_dom_classes": [],
            "_model_module": "@jupyter-widgets/controls",
            "_model_module_version": "1.5.0",
            "_model_name": "FloatProgressModel",
            "_view_count": null,
            "_view_module": "@jupyter-widgets/controls",
            "_view_module_version": "1.5.0",
            "_view_name": "ProgressView",
            "bar_style": "",
            "description": "",
            "description_tooltip": null,
            "layout": "IPY_MODEL_6d3ab24b661c47eba1a200da3c0690aa",
            "max": 1,
            "min": 0,
            "orientation": "horizontal",
            "style": "IPY_MODEL_eaa6417299c14d27b9833970d792af4b",
            "value": 1
          }
        },
        "fc4e4c1a31c446fa854389bf8fbb2af3": {
          "model_module": "@jupyter-widgets/base",
          "model_name": "LayoutModel",
          "model_module_version": "1.2.0",
          "state": {
            "_model_module": "@jupyter-widgets/base",
            "_model_module_version": "1.2.0",
            "_model_name": "LayoutModel",
            "_view_count": null,
            "_view_module": "@jupyter-widgets/base",
            "_view_module_version": "1.2.0",
            "_view_name": "LayoutView",
            "align_content": null,
            "align_items": null,
            "align_self": null,
            "border": null,
            "bottom": null,
            "display": null,
            "flex": null,
            "flex_flow": null,
            "grid_area": null,
            "grid_auto_columns": null,
            "grid_auto_flow": null,
            "grid_auto_rows": null,
            "grid_column": null,
            "grid_gap": null,
            "grid_row": null,
            "grid_template_areas": null,
            "grid_template_columns": null,
            "grid_template_rows": null,
            "height": null,
            "justify_content": null,
            "justify_items": null,
            "left": null,
            "margin": null,
            "max_height": null,
            "max_width": null,
            "min_height": null,
            "min_width": null,
            "object_fit": null,
            "object_position": null,
            "order": null,
            "overflow": null,
            "overflow_x": null,
            "overflow_y": null,
            "padding": null,
            "right": null,
            "top": null,
            "visibility": null,
            "width": null
          }
        },
        "a0f96506621048af84d888f778cd1544": {
          "model_module": "@jupyter-widgets/base",
          "model_name": "LayoutModel",
          "model_module_version": "1.2.0",
          "state": {
            "_model_module": "@jupyter-widgets/base",
            "_model_module_version": "1.2.0",
            "_model_name": "LayoutModel",
            "_view_count": null,
            "_view_module": "@jupyter-widgets/base",
            "_view_module_version": "1.2.0",
            "_view_name": "LayoutView",
            "align_content": null,
            "align_items": null,
            "align_self": null,
            "border": null,
            "bottom": null,
            "display": null,
            "flex": null,
            "flex_flow": null,
            "grid_area": null,
            "grid_auto_columns": null,
            "grid_auto_flow": null,
            "grid_auto_rows": null,
            "grid_column": null,
            "grid_gap": null,
            "grid_row": null,
            "grid_template_areas": null,
            "grid_template_columns": null,
            "grid_template_rows": null,
            "height": null,
            "justify_content": null,
            "justify_items": null,
            "left": null,
            "margin": null,
            "max_height": null,
            "max_width": null,
            "min_height": null,
            "min_width": null,
            "object_fit": null,
            "object_position": null,
            "order": null,
            "overflow": null,
            "overflow_x": null,
            "overflow_y": null,
            "padding": null,
            "right": null,
            "top": null,
            "visibility": null,
            "width": null
          }
        },
        "05eadd8cdb9143df9a150e8333eb3a78": {
          "model_module": "@jupyter-widgets/controls",
          "model_name": "DescriptionStyleModel",
          "model_module_version": "1.5.0",
          "state": {
            "_model_module": "@jupyter-widgets/controls",
            "_model_module_version": "1.5.0",
            "_model_name": "DescriptionStyleModel",
            "_view_count": null,
            "_view_module": "@jupyter-widgets/base",
            "_view_module_version": "1.2.0",
            "_view_name": "StyleView",
            "description_width": ""
          }
        },
        "6d3ab24b661c47eba1a200da3c0690aa": {
          "model_module": "@jupyter-widgets/base",
          "model_name": "LayoutModel",
          "model_module_version": "1.2.0",
          "state": {
            "_model_module": "@jupyter-widgets/base",
            "_model_module_version": "1.2.0",
            "_model_name": "LayoutModel",
            "_view_count": null,
            "_view_module": "@jupyter-widgets/base",
            "_view_module_version": "1.2.0",
            "_view_name": "LayoutView",
            "align_content": null,
            "align_items": null,
            "align_self": null,
            "border": null,
            "bottom": null,
            "display": null,
            "flex": null,
            "flex_flow": null,
            "grid_area": null,
            "grid_auto_columns": null,
            "grid_auto_flow": null,
            "grid_auto_rows": null,
            "grid_column": null,
            "grid_gap": null,
            "grid_row": null,
            "grid_template_areas": null,
            "grid_template_columns": null,
            "grid_template_rows": null,
            "height": null,
            "justify_content": null,
            "justify_items": null,
            "left": null,
            "margin": null,
            "max_height": null,
            "max_width": null,
            "min_height": null,
            "min_width": null,
            "object_fit": null,
            "object_position": null,
            "order": null,
            "overflow": null,
            "overflow_x": null,
            "overflow_y": null,
            "padding": null,
            "right": null,
            "top": null,
            "visibility": null,
            "width": null
          }
        },
        "eaa6417299c14d27b9833970d792af4b": {
          "model_module": "@jupyter-widgets/controls",
          "model_name": "ProgressStyleModel",
          "model_module_version": "1.5.0",
          "state": {
            "_model_module": "@jupyter-widgets/controls",
            "_model_module_version": "1.5.0",
            "_model_name": "ProgressStyleModel",
            "_view_count": null,
            "_view_module": "@jupyter-widgets/base",
            "_view_module_version": "1.2.0",
            "_view_name": "StyleView",
            "bar_color": null,
            "description_width": ""
          }
        },
        "85f46a77b1454d43a87cd81b8e29ad73": {
          "model_module": "@jupyter-widgets/controls",
          "model_name": "VBoxModel",
          "model_module_version": "1.5.0",
          "state": {
            "_dom_classes": [],
            "_model_module": "@jupyter-widgets/controls",
            "_model_module_version": "1.5.0",
            "_model_name": "VBoxModel",
            "_view_count": null,
            "_view_module": "@jupyter-widgets/controls",
            "_view_module_version": "1.5.0",
            "_view_name": "VBoxView",
            "box_style": "",
            "children": [
              "IPY_MODEL_9f3e7117578e4944bcc46010679285a2",
              "IPY_MODEL_22ef174ab4c4498eac50f8021a5033bd"
            ],
            "layout": "IPY_MODEL_7d382be59ea047d6beaf7322bce9a23f"
          }
        },
        "9f3e7117578e4944bcc46010679285a2": {
          "model_module": "@jupyter-widgets/controls",
          "model_name": "LabelModel",
          "model_module_version": "1.5.0",
          "state": {
            "_dom_classes": [],
            "_model_module": "@jupyter-widgets/controls",
            "_model_module_version": "1.5.0",
            "_model_name": "LabelModel",
            "_view_count": null,
            "_view_module": "@jupyter-widgets/controls",
            "_view_module_version": "1.5.0",
            "_view_name": "LabelView",
            "description": "",
            "description_tooltip": null,
            "layout": "IPY_MODEL_c81619dead6c43ed95ca64f1b7b220ad",
            "placeholder": "​",
            "style": "IPY_MODEL_3585b527b90b4db78c061503bd9c0b86",
            "value": "0.038 MB of 0.038 MB uploaded\r"
          }
        },
        "22ef174ab4c4498eac50f8021a5033bd": {
          "model_module": "@jupyter-widgets/controls",
          "model_name": "FloatProgressModel",
          "model_module_version": "1.5.0",
          "state": {
            "_dom_classes": [],
            "_model_module": "@jupyter-widgets/controls",
            "_model_module_version": "1.5.0",
            "_model_name": "FloatProgressModel",
            "_view_count": null,
            "_view_module": "@jupyter-widgets/controls",
            "_view_module_version": "1.5.0",
            "_view_name": "ProgressView",
            "bar_style": "",
            "description": "",
            "description_tooltip": null,
            "layout": "IPY_MODEL_092bde3b156e4d2bb6be3cf95ec6e435",
            "max": 1,
            "min": 0,
            "orientation": "horizontal",
            "style": "IPY_MODEL_982b67b3c90741939985bbce7db2fc13",
            "value": 1
          }
        },
        "7d382be59ea047d6beaf7322bce9a23f": {
          "model_module": "@jupyter-widgets/base",
          "model_name": "LayoutModel",
          "model_module_version": "1.2.0",
          "state": {
            "_model_module": "@jupyter-widgets/base",
            "_model_module_version": "1.2.0",
            "_model_name": "LayoutModel",
            "_view_count": null,
            "_view_module": "@jupyter-widgets/base",
            "_view_module_version": "1.2.0",
            "_view_name": "LayoutView",
            "align_content": null,
            "align_items": null,
            "align_self": null,
            "border": null,
            "bottom": null,
            "display": null,
            "flex": null,
            "flex_flow": null,
            "grid_area": null,
            "grid_auto_columns": null,
            "grid_auto_flow": null,
            "grid_auto_rows": null,
            "grid_column": null,
            "grid_gap": null,
            "grid_row": null,
            "grid_template_areas": null,
            "grid_template_columns": null,
            "grid_template_rows": null,
            "height": null,
            "justify_content": null,
            "justify_items": null,
            "left": null,
            "margin": null,
            "max_height": null,
            "max_width": null,
            "min_height": null,
            "min_width": null,
            "object_fit": null,
            "object_position": null,
            "order": null,
            "overflow": null,
            "overflow_x": null,
            "overflow_y": null,
            "padding": null,
            "right": null,
            "top": null,
            "visibility": null,
            "width": null
          }
        },
        "c81619dead6c43ed95ca64f1b7b220ad": {
          "model_module": "@jupyter-widgets/base",
          "model_name": "LayoutModel",
          "model_module_version": "1.2.0",
          "state": {
            "_model_module": "@jupyter-widgets/base",
            "_model_module_version": "1.2.0",
            "_model_name": "LayoutModel",
            "_view_count": null,
            "_view_module": "@jupyter-widgets/base",
            "_view_module_version": "1.2.0",
            "_view_name": "LayoutView",
            "align_content": null,
            "align_items": null,
            "align_self": null,
            "border": null,
            "bottom": null,
            "display": null,
            "flex": null,
            "flex_flow": null,
            "grid_area": null,
            "grid_auto_columns": null,
            "grid_auto_flow": null,
            "grid_auto_rows": null,
            "grid_column": null,
            "grid_gap": null,
            "grid_row": null,
            "grid_template_areas": null,
            "grid_template_columns": null,
            "grid_template_rows": null,
            "height": null,
            "justify_content": null,
            "justify_items": null,
            "left": null,
            "margin": null,
            "max_height": null,
            "max_width": null,
            "min_height": null,
            "min_width": null,
            "object_fit": null,
            "object_position": null,
            "order": null,
            "overflow": null,
            "overflow_x": null,
            "overflow_y": null,
            "padding": null,
            "right": null,
            "top": null,
            "visibility": null,
            "width": null
          }
        },
        "3585b527b90b4db78c061503bd9c0b86": {
          "model_module": "@jupyter-widgets/controls",
          "model_name": "DescriptionStyleModel",
          "model_module_version": "1.5.0",
          "state": {
            "_model_module": "@jupyter-widgets/controls",
            "_model_module_version": "1.5.0",
            "_model_name": "DescriptionStyleModel",
            "_view_count": null,
            "_view_module": "@jupyter-widgets/base",
            "_view_module_version": "1.2.0",
            "_view_name": "StyleView",
            "description_width": ""
          }
        },
        "092bde3b156e4d2bb6be3cf95ec6e435": {
          "model_module": "@jupyter-widgets/base",
          "model_name": "LayoutModel",
          "model_module_version": "1.2.0",
          "state": {
            "_model_module": "@jupyter-widgets/base",
            "_model_module_version": "1.2.0",
            "_model_name": "LayoutModel",
            "_view_count": null,
            "_view_module": "@jupyter-widgets/base",
            "_view_module_version": "1.2.0",
            "_view_name": "LayoutView",
            "align_content": null,
            "align_items": null,
            "align_self": null,
            "border": null,
            "bottom": null,
            "display": null,
            "flex": null,
            "flex_flow": null,
            "grid_area": null,
            "grid_auto_columns": null,
            "grid_auto_flow": null,
            "grid_auto_rows": null,
            "grid_column": null,
            "grid_gap": null,
            "grid_row": null,
            "grid_template_areas": null,
            "grid_template_columns": null,
            "grid_template_rows": null,
            "height": null,
            "justify_content": null,
            "justify_items": null,
            "left": null,
            "margin": null,
            "max_height": null,
            "max_width": null,
            "min_height": null,
            "min_width": null,
            "object_fit": null,
            "object_position": null,
            "order": null,
            "overflow": null,
            "overflow_x": null,
            "overflow_y": null,
            "padding": null,
            "right": null,
            "top": null,
            "visibility": null,
            "width": null
          }
        },
        "982b67b3c90741939985bbce7db2fc13": {
          "model_module": "@jupyter-widgets/controls",
          "model_name": "ProgressStyleModel",
          "model_module_version": "1.5.0",
          "state": {
            "_model_module": "@jupyter-widgets/controls",
            "_model_module_version": "1.5.0",
            "_model_name": "ProgressStyleModel",
            "_view_count": null,
            "_view_module": "@jupyter-widgets/base",
            "_view_module_version": "1.2.0",
            "_view_name": "StyleView",
            "bar_color": null,
            "description_width": ""
          }
        },
        "31c2db33c6e0426c8f7feab803d99329": {
          "model_module": "@jupyter-widgets/controls",
          "model_name": "VBoxModel",
          "model_module_version": "1.5.0",
          "state": {
            "_dom_classes": [],
            "_model_module": "@jupyter-widgets/controls",
            "_model_module_version": "1.5.0",
            "_model_name": "VBoxModel",
            "_view_count": null,
            "_view_module": "@jupyter-widgets/controls",
            "_view_module_version": "1.5.0",
            "_view_name": "VBoxView",
            "box_style": "",
            "children": [
              "IPY_MODEL_12a4d4ad810f4fb79e029253d1855928",
              "IPY_MODEL_650a23a8378a488d815bf6d458635d21"
            ],
            "layout": "IPY_MODEL_edf2323b85a144fdbe62ba19d08f515d"
          }
        },
        "12a4d4ad810f4fb79e029253d1855928": {
          "model_module": "@jupyter-widgets/controls",
          "model_name": "LabelModel",
          "model_module_version": "1.5.0",
          "state": {
            "_dom_classes": [],
            "_model_module": "@jupyter-widgets/controls",
            "_model_module_version": "1.5.0",
            "_model_name": "LabelModel",
            "_view_count": null,
            "_view_module": "@jupyter-widgets/controls",
            "_view_module_version": "1.5.0",
            "_view_name": "LabelView",
            "description": "",
            "description_tooltip": null,
            "layout": "IPY_MODEL_6834f6f9f2b84fc3ac2687098bb97847",
            "placeholder": "​",
            "style": "IPY_MODEL_02600d3e6cba42678813b771763b62bd",
            "value": "0.021 MB of 0.021 MB uploaded\r"
          }
        },
        "650a23a8378a488d815bf6d458635d21": {
          "model_module": "@jupyter-widgets/controls",
          "model_name": "FloatProgressModel",
          "model_module_version": "1.5.0",
          "state": {
            "_dom_classes": [],
            "_model_module": "@jupyter-widgets/controls",
            "_model_module_version": "1.5.0",
            "_model_name": "FloatProgressModel",
            "_view_count": null,
            "_view_module": "@jupyter-widgets/controls",
            "_view_module_version": "1.5.0",
            "_view_name": "ProgressView",
            "bar_style": "",
            "description": "",
            "description_tooltip": null,
            "layout": "IPY_MODEL_0823a8cb90c040e8a818e1bf1b65d8fd",
            "max": 1,
            "min": 0,
            "orientation": "horizontal",
            "style": "IPY_MODEL_317d080727e64d72a6dd8bc06e00d8d2",
            "value": 1
          }
        },
        "edf2323b85a144fdbe62ba19d08f515d": {
          "model_module": "@jupyter-widgets/base",
          "model_name": "LayoutModel",
          "model_module_version": "1.2.0",
          "state": {
            "_model_module": "@jupyter-widgets/base",
            "_model_module_version": "1.2.0",
            "_model_name": "LayoutModel",
            "_view_count": null,
            "_view_module": "@jupyter-widgets/base",
            "_view_module_version": "1.2.0",
            "_view_name": "LayoutView",
            "align_content": null,
            "align_items": null,
            "align_self": null,
            "border": null,
            "bottom": null,
            "display": null,
            "flex": null,
            "flex_flow": null,
            "grid_area": null,
            "grid_auto_columns": null,
            "grid_auto_flow": null,
            "grid_auto_rows": null,
            "grid_column": null,
            "grid_gap": null,
            "grid_row": null,
            "grid_template_areas": null,
            "grid_template_columns": null,
            "grid_template_rows": null,
            "height": null,
            "justify_content": null,
            "justify_items": null,
            "left": null,
            "margin": null,
            "max_height": null,
            "max_width": null,
            "min_height": null,
            "min_width": null,
            "object_fit": null,
            "object_position": null,
            "order": null,
            "overflow": null,
            "overflow_x": null,
            "overflow_y": null,
            "padding": null,
            "right": null,
            "top": null,
            "visibility": null,
            "width": null
          }
        },
        "6834f6f9f2b84fc3ac2687098bb97847": {
          "model_module": "@jupyter-widgets/base",
          "model_name": "LayoutModel",
          "model_module_version": "1.2.0",
          "state": {
            "_model_module": "@jupyter-widgets/base",
            "_model_module_version": "1.2.0",
            "_model_name": "LayoutModel",
            "_view_count": null,
            "_view_module": "@jupyter-widgets/base",
            "_view_module_version": "1.2.0",
            "_view_name": "LayoutView",
            "align_content": null,
            "align_items": null,
            "align_self": null,
            "border": null,
            "bottom": null,
            "display": null,
            "flex": null,
            "flex_flow": null,
            "grid_area": null,
            "grid_auto_columns": null,
            "grid_auto_flow": null,
            "grid_auto_rows": null,
            "grid_column": null,
            "grid_gap": null,
            "grid_row": null,
            "grid_template_areas": null,
            "grid_template_columns": null,
            "grid_template_rows": null,
            "height": null,
            "justify_content": null,
            "justify_items": null,
            "left": null,
            "margin": null,
            "max_height": null,
            "max_width": null,
            "min_height": null,
            "min_width": null,
            "object_fit": null,
            "object_position": null,
            "order": null,
            "overflow": null,
            "overflow_x": null,
            "overflow_y": null,
            "padding": null,
            "right": null,
            "top": null,
            "visibility": null,
            "width": null
          }
        },
        "02600d3e6cba42678813b771763b62bd": {
          "model_module": "@jupyter-widgets/controls",
          "model_name": "DescriptionStyleModel",
          "model_module_version": "1.5.0",
          "state": {
            "_model_module": "@jupyter-widgets/controls",
            "_model_module_version": "1.5.0",
            "_model_name": "DescriptionStyleModel",
            "_view_count": null,
            "_view_module": "@jupyter-widgets/base",
            "_view_module_version": "1.2.0",
            "_view_name": "StyleView",
            "description_width": ""
          }
        },
        "0823a8cb90c040e8a818e1bf1b65d8fd": {
          "model_module": "@jupyter-widgets/base",
          "model_name": "LayoutModel",
          "model_module_version": "1.2.0",
          "state": {
            "_model_module": "@jupyter-widgets/base",
            "_model_module_version": "1.2.0",
            "_model_name": "LayoutModel",
            "_view_count": null,
            "_view_module": "@jupyter-widgets/base",
            "_view_module_version": "1.2.0",
            "_view_name": "LayoutView",
            "align_content": null,
            "align_items": null,
            "align_self": null,
            "border": null,
            "bottom": null,
            "display": null,
            "flex": null,
            "flex_flow": null,
            "grid_area": null,
            "grid_auto_columns": null,
            "grid_auto_flow": null,
            "grid_auto_rows": null,
            "grid_column": null,
            "grid_gap": null,
            "grid_row": null,
            "grid_template_areas": null,
            "grid_template_columns": null,
            "grid_template_rows": null,
            "height": null,
            "justify_content": null,
            "justify_items": null,
            "left": null,
            "margin": null,
            "max_height": null,
            "max_width": null,
            "min_height": null,
            "min_width": null,
            "object_fit": null,
            "object_position": null,
            "order": null,
            "overflow": null,
            "overflow_x": null,
            "overflow_y": null,
            "padding": null,
            "right": null,
            "top": null,
            "visibility": null,
            "width": null
          }
        },
        "317d080727e64d72a6dd8bc06e00d8d2": {
          "model_module": "@jupyter-widgets/controls",
          "model_name": "ProgressStyleModel",
          "model_module_version": "1.5.0",
          "state": {
            "_model_module": "@jupyter-widgets/controls",
            "_model_module_version": "1.5.0",
            "_model_name": "ProgressStyleModel",
            "_view_count": null,
            "_view_module": "@jupyter-widgets/base",
            "_view_module_version": "1.2.0",
            "_view_name": "StyleView",
            "bar_color": null,
            "description_width": ""
          }
        },
        "5f90d36ca24e423badf92abc24d3a58e": {
          "model_module": "@jupyter-widgets/controls",
          "model_name": "VBoxModel",
          "model_module_version": "1.5.0",
          "state": {
            "_dom_classes": [],
            "_model_module": "@jupyter-widgets/controls",
            "_model_module_version": "1.5.0",
            "_model_name": "VBoxModel",
            "_view_count": null,
            "_view_module": "@jupyter-widgets/controls",
            "_view_module_version": "1.5.0",
            "_view_name": "VBoxView",
            "box_style": "",
            "children": [
              "IPY_MODEL_e3065ec2c047484ca7af6e10c0a46899",
              "IPY_MODEL_94e9dbe7c35b46dd93bba09525bc6a1a"
            ],
            "layout": "IPY_MODEL_3cd4481e5072403ba25a384c27382c60"
          }
        },
        "e3065ec2c047484ca7af6e10c0a46899": {
          "model_module": "@jupyter-widgets/controls",
          "model_name": "LabelModel",
          "model_module_version": "1.5.0",
          "state": {
            "_dom_classes": [],
            "_model_module": "@jupyter-widgets/controls",
            "_model_module_version": "1.5.0",
            "_model_name": "LabelModel",
            "_view_count": null,
            "_view_module": "@jupyter-widgets/controls",
            "_view_module_version": "1.5.0",
            "_view_name": "LabelView",
            "description": "",
            "description_tooltip": null,
            "layout": "IPY_MODEL_6f52a4da161146b09dc4bc3efa8b5313",
            "placeholder": "​",
            "style": "IPY_MODEL_b5337bcbfb2f4d7ba12206801717f13a",
            "value": "0.018 MB of 0.018 MB uploaded\r"
          }
        },
        "94e9dbe7c35b46dd93bba09525bc6a1a": {
          "model_module": "@jupyter-widgets/controls",
          "model_name": "FloatProgressModel",
          "model_module_version": "1.5.0",
          "state": {
            "_dom_classes": [],
            "_model_module": "@jupyter-widgets/controls",
            "_model_module_version": "1.5.0",
            "_model_name": "FloatProgressModel",
            "_view_count": null,
            "_view_module": "@jupyter-widgets/controls",
            "_view_module_version": "1.5.0",
            "_view_name": "ProgressView",
            "bar_style": "",
            "description": "",
            "description_tooltip": null,
            "layout": "IPY_MODEL_3a6878ca416941eba91217457d37533c",
            "max": 1,
            "min": 0,
            "orientation": "horizontal",
            "style": "IPY_MODEL_fc78bb99a899428a95970acc2a76ceda",
            "value": 1
          }
        },
        "3cd4481e5072403ba25a384c27382c60": {
          "model_module": "@jupyter-widgets/base",
          "model_name": "LayoutModel",
          "model_module_version": "1.2.0",
          "state": {
            "_model_module": "@jupyter-widgets/base",
            "_model_module_version": "1.2.0",
            "_model_name": "LayoutModel",
            "_view_count": null,
            "_view_module": "@jupyter-widgets/base",
            "_view_module_version": "1.2.0",
            "_view_name": "LayoutView",
            "align_content": null,
            "align_items": null,
            "align_self": null,
            "border": null,
            "bottom": null,
            "display": null,
            "flex": null,
            "flex_flow": null,
            "grid_area": null,
            "grid_auto_columns": null,
            "grid_auto_flow": null,
            "grid_auto_rows": null,
            "grid_column": null,
            "grid_gap": null,
            "grid_row": null,
            "grid_template_areas": null,
            "grid_template_columns": null,
            "grid_template_rows": null,
            "height": null,
            "justify_content": null,
            "justify_items": null,
            "left": null,
            "margin": null,
            "max_height": null,
            "max_width": null,
            "min_height": null,
            "min_width": null,
            "object_fit": null,
            "object_position": null,
            "order": null,
            "overflow": null,
            "overflow_x": null,
            "overflow_y": null,
            "padding": null,
            "right": null,
            "top": null,
            "visibility": null,
            "width": null
          }
        },
        "6f52a4da161146b09dc4bc3efa8b5313": {
          "model_module": "@jupyter-widgets/base",
          "model_name": "LayoutModel",
          "model_module_version": "1.2.0",
          "state": {
            "_model_module": "@jupyter-widgets/base",
            "_model_module_version": "1.2.0",
            "_model_name": "LayoutModel",
            "_view_count": null,
            "_view_module": "@jupyter-widgets/base",
            "_view_module_version": "1.2.0",
            "_view_name": "LayoutView",
            "align_content": null,
            "align_items": null,
            "align_self": null,
            "border": null,
            "bottom": null,
            "display": null,
            "flex": null,
            "flex_flow": null,
            "grid_area": null,
            "grid_auto_columns": null,
            "grid_auto_flow": null,
            "grid_auto_rows": null,
            "grid_column": null,
            "grid_gap": null,
            "grid_row": null,
            "grid_template_areas": null,
            "grid_template_columns": null,
            "grid_template_rows": null,
            "height": null,
            "justify_content": null,
            "justify_items": null,
            "left": null,
            "margin": null,
            "max_height": null,
            "max_width": null,
            "min_height": null,
            "min_width": null,
            "object_fit": null,
            "object_position": null,
            "order": null,
            "overflow": null,
            "overflow_x": null,
            "overflow_y": null,
            "padding": null,
            "right": null,
            "top": null,
            "visibility": null,
            "width": null
          }
        },
        "b5337bcbfb2f4d7ba12206801717f13a": {
          "model_module": "@jupyter-widgets/controls",
          "model_name": "DescriptionStyleModel",
          "model_module_version": "1.5.0",
          "state": {
            "_model_module": "@jupyter-widgets/controls",
            "_model_module_version": "1.5.0",
            "_model_name": "DescriptionStyleModel",
            "_view_count": null,
            "_view_module": "@jupyter-widgets/base",
            "_view_module_version": "1.2.0",
            "_view_name": "StyleView",
            "description_width": ""
          }
        },
        "3a6878ca416941eba91217457d37533c": {
          "model_module": "@jupyter-widgets/base",
          "model_name": "LayoutModel",
          "model_module_version": "1.2.0",
          "state": {
            "_model_module": "@jupyter-widgets/base",
            "_model_module_version": "1.2.0",
            "_model_name": "LayoutModel",
            "_view_count": null,
            "_view_module": "@jupyter-widgets/base",
            "_view_module_version": "1.2.0",
            "_view_name": "LayoutView",
            "align_content": null,
            "align_items": null,
            "align_self": null,
            "border": null,
            "bottom": null,
            "display": null,
            "flex": null,
            "flex_flow": null,
            "grid_area": null,
            "grid_auto_columns": null,
            "grid_auto_flow": null,
            "grid_auto_rows": null,
            "grid_column": null,
            "grid_gap": null,
            "grid_row": null,
            "grid_template_areas": null,
            "grid_template_columns": null,
            "grid_template_rows": null,
            "height": null,
            "justify_content": null,
            "justify_items": null,
            "left": null,
            "margin": null,
            "max_height": null,
            "max_width": null,
            "min_height": null,
            "min_width": null,
            "object_fit": null,
            "object_position": null,
            "order": null,
            "overflow": null,
            "overflow_x": null,
            "overflow_y": null,
            "padding": null,
            "right": null,
            "top": null,
            "visibility": null,
            "width": null
          }
        },
        "fc78bb99a899428a95970acc2a76ceda": {
          "model_module": "@jupyter-widgets/controls",
          "model_name": "ProgressStyleModel",
          "model_module_version": "1.5.0",
          "state": {
            "_model_module": "@jupyter-widgets/controls",
            "_model_module_version": "1.5.0",
            "_model_name": "ProgressStyleModel",
            "_view_count": null,
            "_view_module": "@jupyter-widgets/base",
            "_view_module_version": "1.2.0",
            "_view_name": "StyleView",
            "bar_color": null,
            "description_width": ""
          }
        },
        "35a7be792df14a88be17e638d45debad": {
          "model_module": "@jupyter-widgets/controls",
          "model_name": "VBoxModel",
          "model_module_version": "1.5.0",
          "state": {
            "_dom_classes": [],
            "_model_module": "@jupyter-widgets/controls",
            "_model_module_version": "1.5.0",
            "_model_name": "VBoxModel",
            "_view_count": null,
            "_view_module": "@jupyter-widgets/controls",
            "_view_module_version": "1.5.0",
            "_view_name": "VBoxView",
            "box_style": "",
            "children": [
              "IPY_MODEL_210d34d6c0664fb49d679557c746c57b",
              "IPY_MODEL_cc65d626a4a34c44b1bfc51251c17a7f"
            ],
            "layout": "IPY_MODEL_f55083af70724ac798de64fbfc55a0c2"
          }
        },
        "210d34d6c0664fb49d679557c746c57b": {
          "model_module": "@jupyter-widgets/controls",
          "model_name": "LabelModel",
          "model_module_version": "1.5.0",
          "state": {
            "_dom_classes": [],
            "_model_module": "@jupyter-widgets/controls",
            "_model_module_version": "1.5.0",
            "_model_name": "LabelModel",
            "_view_count": null,
            "_view_module": "@jupyter-widgets/controls",
            "_view_module_version": "1.5.0",
            "_view_name": "LabelView",
            "description": "",
            "description_tooltip": null,
            "layout": "IPY_MODEL_fbbbffbe2fe0410aa8c3821e6d1966ab",
            "placeholder": "​",
            "style": "IPY_MODEL_1285bda4ee5541d29a34ceffef4a795f",
            "value": "0.024 MB of 0.024 MB uploaded\r"
          }
        },
        "cc65d626a4a34c44b1bfc51251c17a7f": {
          "model_module": "@jupyter-widgets/controls",
          "model_name": "FloatProgressModel",
          "model_module_version": "1.5.0",
          "state": {
            "_dom_classes": [],
            "_model_module": "@jupyter-widgets/controls",
            "_model_module_version": "1.5.0",
            "_model_name": "FloatProgressModel",
            "_view_count": null,
            "_view_module": "@jupyter-widgets/controls",
            "_view_module_version": "1.5.0",
            "_view_name": "ProgressView",
            "bar_style": "",
            "description": "",
            "description_tooltip": null,
            "layout": "IPY_MODEL_d53968aa0efc48c8bb1083b5e3536426",
            "max": 1,
            "min": 0,
            "orientation": "horizontal",
            "style": "IPY_MODEL_d363cdec42c64eb39244f3515d0a094d",
            "value": 1
          }
        },
        "f55083af70724ac798de64fbfc55a0c2": {
          "model_module": "@jupyter-widgets/base",
          "model_name": "LayoutModel",
          "model_module_version": "1.2.0",
          "state": {
            "_model_module": "@jupyter-widgets/base",
            "_model_module_version": "1.2.0",
            "_model_name": "LayoutModel",
            "_view_count": null,
            "_view_module": "@jupyter-widgets/base",
            "_view_module_version": "1.2.0",
            "_view_name": "LayoutView",
            "align_content": null,
            "align_items": null,
            "align_self": null,
            "border": null,
            "bottom": null,
            "display": null,
            "flex": null,
            "flex_flow": null,
            "grid_area": null,
            "grid_auto_columns": null,
            "grid_auto_flow": null,
            "grid_auto_rows": null,
            "grid_column": null,
            "grid_gap": null,
            "grid_row": null,
            "grid_template_areas": null,
            "grid_template_columns": null,
            "grid_template_rows": null,
            "height": null,
            "justify_content": null,
            "justify_items": null,
            "left": null,
            "margin": null,
            "max_height": null,
            "max_width": null,
            "min_height": null,
            "min_width": null,
            "object_fit": null,
            "object_position": null,
            "order": null,
            "overflow": null,
            "overflow_x": null,
            "overflow_y": null,
            "padding": null,
            "right": null,
            "top": null,
            "visibility": null,
            "width": null
          }
        },
        "fbbbffbe2fe0410aa8c3821e6d1966ab": {
          "model_module": "@jupyter-widgets/base",
          "model_name": "LayoutModel",
          "model_module_version": "1.2.0",
          "state": {
            "_model_module": "@jupyter-widgets/base",
            "_model_module_version": "1.2.0",
            "_model_name": "LayoutModel",
            "_view_count": null,
            "_view_module": "@jupyter-widgets/base",
            "_view_module_version": "1.2.0",
            "_view_name": "LayoutView",
            "align_content": null,
            "align_items": null,
            "align_self": null,
            "border": null,
            "bottom": null,
            "display": null,
            "flex": null,
            "flex_flow": null,
            "grid_area": null,
            "grid_auto_columns": null,
            "grid_auto_flow": null,
            "grid_auto_rows": null,
            "grid_column": null,
            "grid_gap": null,
            "grid_row": null,
            "grid_template_areas": null,
            "grid_template_columns": null,
            "grid_template_rows": null,
            "height": null,
            "justify_content": null,
            "justify_items": null,
            "left": null,
            "margin": null,
            "max_height": null,
            "max_width": null,
            "min_height": null,
            "min_width": null,
            "object_fit": null,
            "object_position": null,
            "order": null,
            "overflow": null,
            "overflow_x": null,
            "overflow_y": null,
            "padding": null,
            "right": null,
            "top": null,
            "visibility": null,
            "width": null
          }
        },
        "1285bda4ee5541d29a34ceffef4a795f": {
          "model_module": "@jupyter-widgets/controls",
          "model_name": "DescriptionStyleModel",
          "model_module_version": "1.5.0",
          "state": {
            "_model_module": "@jupyter-widgets/controls",
            "_model_module_version": "1.5.0",
            "_model_name": "DescriptionStyleModel",
            "_view_count": null,
            "_view_module": "@jupyter-widgets/base",
            "_view_module_version": "1.2.0",
            "_view_name": "StyleView",
            "description_width": ""
          }
        },
        "d53968aa0efc48c8bb1083b5e3536426": {
          "model_module": "@jupyter-widgets/base",
          "model_name": "LayoutModel",
          "model_module_version": "1.2.0",
          "state": {
            "_model_module": "@jupyter-widgets/base",
            "_model_module_version": "1.2.0",
            "_model_name": "LayoutModel",
            "_view_count": null,
            "_view_module": "@jupyter-widgets/base",
            "_view_module_version": "1.2.0",
            "_view_name": "LayoutView",
            "align_content": null,
            "align_items": null,
            "align_self": null,
            "border": null,
            "bottom": null,
            "display": null,
            "flex": null,
            "flex_flow": null,
            "grid_area": null,
            "grid_auto_columns": null,
            "grid_auto_flow": null,
            "grid_auto_rows": null,
            "grid_column": null,
            "grid_gap": null,
            "grid_row": null,
            "grid_template_areas": null,
            "grid_template_columns": null,
            "grid_template_rows": null,
            "height": null,
            "justify_content": null,
            "justify_items": null,
            "left": null,
            "margin": null,
            "max_height": null,
            "max_width": null,
            "min_height": null,
            "min_width": null,
            "object_fit": null,
            "object_position": null,
            "order": null,
            "overflow": null,
            "overflow_x": null,
            "overflow_y": null,
            "padding": null,
            "right": null,
            "top": null,
            "visibility": null,
            "width": null
          }
        },
        "d363cdec42c64eb39244f3515d0a094d": {
          "model_module": "@jupyter-widgets/controls",
          "model_name": "ProgressStyleModel",
          "model_module_version": "1.5.0",
          "state": {
            "_model_module": "@jupyter-widgets/controls",
            "_model_module_version": "1.5.0",
            "_model_name": "ProgressStyleModel",
            "_view_count": null,
            "_view_module": "@jupyter-widgets/base",
            "_view_module_version": "1.2.0",
            "_view_name": "StyleView",
            "bar_color": null,
            "description_width": ""
          }
        },
        "1e402a69fb5b439dbc4cbda8cd7a3704": {
          "model_module": "@jupyter-widgets/controls",
          "model_name": "VBoxModel",
          "model_module_version": "1.5.0",
          "state": {
            "_dom_classes": [],
            "_model_module": "@jupyter-widgets/controls",
            "_model_module_version": "1.5.0",
            "_model_name": "VBoxModel",
            "_view_count": null,
            "_view_module": "@jupyter-widgets/controls",
            "_view_module_version": "1.5.0",
            "_view_name": "VBoxView",
            "box_style": "",
            "children": [
              "IPY_MODEL_d9bf0ba0ec7d4feab399b54f42506ed5",
              "IPY_MODEL_8a9987548a4549bea68ae57ac530a984"
            ],
            "layout": "IPY_MODEL_a38b3bc17e8c4f468a1b4981c3565115"
          }
        },
        "d9bf0ba0ec7d4feab399b54f42506ed5": {
          "model_module": "@jupyter-widgets/controls",
          "model_name": "LabelModel",
          "model_module_version": "1.5.0",
          "state": {
            "_dom_classes": [],
            "_model_module": "@jupyter-widgets/controls",
            "_model_module_version": "1.5.0",
            "_model_name": "LabelModel",
            "_view_count": null,
            "_view_module": "@jupyter-widgets/controls",
            "_view_module_version": "1.5.0",
            "_view_name": "LabelView",
            "description": "",
            "description_tooltip": null,
            "layout": "IPY_MODEL_dcbe615305574e79be8c78b09aa41a10",
            "placeholder": "​",
            "style": "IPY_MODEL_443eb81bf8ab40e0aabac65623bd4fc5",
            "value": "0.017 MB of 0.017 MB uploaded\r"
          }
        },
        "8a9987548a4549bea68ae57ac530a984": {
          "model_module": "@jupyter-widgets/controls",
          "model_name": "FloatProgressModel",
          "model_module_version": "1.5.0",
          "state": {
            "_dom_classes": [],
            "_model_module": "@jupyter-widgets/controls",
            "_model_module_version": "1.5.0",
            "_model_name": "FloatProgressModel",
            "_view_count": null,
            "_view_module": "@jupyter-widgets/controls",
            "_view_module_version": "1.5.0",
            "_view_name": "ProgressView",
            "bar_style": "",
            "description": "",
            "description_tooltip": null,
            "layout": "IPY_MODEL_dad0cd20cf0540d29397d0c8145df779",
            "max": 1,
            "min": 0,
            "orientation": "horizontal",
            "style": "IPY_MODEL_a16bf222d7ba41e28799dbc4f113a6c3",
            "value": 1
          }
        },
        "a38b3bc17e8c4f468a1b4981c3565115": {
          "model_module": "@jupyter-widgets/base",
          "model_name": "LayoutModel",
          "model_module_version": "1.2.0",
          "state": {
            "_model_module": "@jupyter-widgets/base",
            "_model_module_version": "1.2.0",
            "_model_name": "LayoutModel",
            "_view_count": null,
            "_view_module": "@jupyter-widgets/base",
            "_view_module_version": "1.2.0",
            "_view_name": "LayoutView",
            "align_content": null,
            "align_items": null,
            "align_self": null,
            "border": null,
            "bottom": null,
            "display": null,
            "flex": null,
            "flex_flow": null,
            "grid_area": null,
            "grid_auto_columns": null,
            "grid_auto_flow": null,
            "grid_auto_rows": null,
            "grid_column": null,
            "grid_gap": null,
            "grid_row": null,
            "grid_template_areas": null,
            "grid_template_columns": null,
            "grid_template_rows": null,
            "height": null,
            "justify_content": null,
            "justify_items": null,
            "left": null,
            "margin": null,
            "max_height": null,
            "max_width": null,
            "min_height": null,
            "min_width": null,
            "object_fit": null,
            "object_position": null,
            "order": null,
            "overflow": null,
            "overflow_x": null,
            "overflow_y": null,
            "padding": null,
            "right": null,
            "top": null,
            "visibility": null,
            "width": null
          }
        },
        "dcbe615305574e79be8c78b09aa41a10": {
          "model_module": "@jupyter-widgets/base",
          "model_name": "LayoutModel",
          "model_module_version": "1.2.0",
          "state": {
            "_model_module": "@jupyter-widgets/base",
            "_model_module_version": "1.2.0",
            "_model_name": "LayoutModel",
            "_view_count": null,
            "_view_module": "@jupyter-widgets/base",
            "_view_module_version": "1.2.0",
            "_view_name": "LayoutView",
            "align_content": null,
            "align_items": null,
            "align_self": null,
            "border": null,
            "bottom": null,
            "display": null,
            "flex": null,
            "flex_flow": null,
            "grid_area": null,
            "grid_auto_columns": null,
            "grid_auto_flow": null,
            "grid_auto_rows": null,
            "grid_column": null,
            "grid_gap": null,
            "grid_row": null,
            "grid_template_areas": null,
            "grid_template_columns": null,
            "grid_template_rows": null,
            "height": null,
            "justify_content": null,
            "justify_items": null,
            "left": null,
            "margin": null,
            "max_height": null,
            "max_width": null,
            "min_height": null,
            "min_width": null,
            "object_fit": null,
            "object_position": null,
            "order": null,
            "overflow": null,
            "overflow_x": null,
            "overflow_y": null,
            "padding": null,
            "right": null,
            "top": null,
            "visibility": null,
            "width": null
          }
        },
        "443eb81bf8ab40e0aabac65623bd4fc5": {
          "model_module": "@jupyter-widgets/controls",
          "model_name": "DescriptionStyleModel",
          "model_module_version": "1.5.0",
          "state": {
            "_model_module": "@jupyter-widgets/controls",
            "_model_module_version": "1.5.0",
            "_model_name": "DescriptionStyleModel",
            "_view_count": null,
            "_view_module": "@jupyter-widgets/base",
            "_view_module_version": "1.2.0",
            "_view_name": "StyleView",
            "description_width": ""
          }
        },
        "dad0cd20cf0540d29397d0c8145df779": {
          "model_module": "@jupyter-widgets/base",
          "model_name": "LayoutModel",
          "model_module_version": "1.2.0",
          "state": {
            "_model_module": "@jupyter-widgets/base",
            "_model_module_version": "1.2.0",
            "_model_name": "LayoutModel",
            "_view_count": null,
            "_view_module": "@jupyter-widgets/base",
            "_view_module_version": "1.2.0",
            "_view_name": "LayoutView",
            "align_content": null,
            "align_items": null,
            "align_self": null,
            "border": null,
            "bottom": null,
            "display": null,
            "flex": null,
            "flex_flow": null,
            "grid_area": null,
            "grid_auto_columns": null,
            "grid_auto_flow": null,
            "grid_auto_rows": null,
            "grid_column": null,
            "grid_gap": null,
            "grid_row": null,
            "grid_template_areas": null,
            "grid_template_columns": null,
            "grid_template_rows": null,
            "height": null,
            "justify_content": null,
            "justify_items": null,
            "left": null,
            "margin": null,
            "max_height": null,
            "max_width": null,
            "min_height": null,
            "min_width": null,
            "object_fit": null,
            "object_position": null,
            "order": null,
            "overflow": null,
            "overflow_x": null,
            "overflow_y": null,
            "padding": null,
            "right": null,
            "top": null,
            "visibility": null,
            "width": null
          }
        },
        "a16bf222d7ba41e28799dbc4f113a6c3": {
          "model_module": "@jupyter-widgets/controls",
          "model_name": "ProgressStyleModel",
          "model_module_version": "1.5.0",
          "state": {
            "_model_module": "@jupyter-widgets/controls",
            "_model_module_version": "1.5.0",
            "_model_name": "ProgressStyleModel",
            "_view_count": null,
            "_view_module": "@jupyter-widgets/base",
            "_view_module_version": "1.2.0",
            "_view_name": "StyleView",
            "bar_color": null,
            "description_width": ""
          }
        },
        "337acd90830143aa850cc6bb2f2e8065": {
          "model_module": "@jupyter-widgets/controls",
          "model_name": "VBoxModel",
          "model_module_version": "1.5.0",
          "state": {
            "_dom_classes": [],
            "_model_module": "@jupyter-widgets/controls",
            "_model_module_version": "1.5.0",
            "_model_name": "VBoxModel",
            "_view_count": null,
            "_view_module": "@jupyter-widgets/controls",
            "_view_module_version": "1.5.0",
            "_view_name": "VBoxView",
            "box_style": "",
            "children": [
              "IPY_MODEL_f67dbdadcfbd4de18e536a977a16c2e3",
              "IPY_MODEL_16258960616e4571b93d0a4580bb0686"
            ],
            "layout": "IPY_MODEL_a8faa8aa216d4dc69b4c90624a52a0d2"
          }
        },
        "f67dbdadcfbd4de18e536a977a16c2e3": {
          "model_module": "@jupyter-widgets/controls",
          "model_name": "LabelModel",
          "model_module_version": "1.5.0",
          "state": {
            "_dom_classes": [],
            "_model_module": "@jupyter-widgets/controls",
            "_model_module_version": "1.5.0",
            "_model_name": "LabelModel",
            "_view_count": null,
            "_view_module": "@jupyter-widgets/controls",
            "_view_module_version": "1.5.0",
            "_view_name": "LabelView",
            "description": "",
            "description_tooltip": null,
            "layout": "IPY_MODEL_23bb1a28829748e0a8eb96daa5368c25",
            "placeholder": "​",
            "style": "IPY_MODEL_9cd683830bd7432b91a7265e527f6571",
            "value": "0.034 MB of 0.034 MB uploaded\r"
          }
        },
        "16258960616e4571b93d0a4580bb0686": {
          "model_module": "@jupyter-widgets/controls",
          "model_name": "FloatProgressModel",
          "model_module_version": "1.5.0",
          "state": {
            "_dom_classes": [],
            "_model_module": "@jupyter-widgets/controls",
            "_model_module_version": "1.5.0",
            "_model_name": "FloatProgressModel",
            "_view_count": null,
            "_view_module": "@jupyter-widgets/controls",
            "_view_module_version": "1.5.0",
            "_view_name": "ProgressView",
            "bar_style": "",
            "description": "",
            "description_tooltip": null,
            "layout": "IPY_MODEL_169287e4cce7471fac20efdab60bc2f3",
            "max": 1,
            "min": 0,
            "orientation": "horizontal",
            "style": "IPY_MODEL_fc99485d5e294e60b9860934a29dc538",
            "value": 1
          }
        },
        "a8faa8aa216d4dc69b4c90624a52a0d2": {
          "model_module": "@jupyter-widgets/base",
          "model_name": "LayoutModel",
          "model_module_version": "1.2.0",
          "state": {
            "_model_module": "@jupyter-widgets/base",
            "_model_module_version": "1.2.0",
            "_model_name": "LayoutModel",
            "_view_count": null,
            "_view_module": "@jupyter-widgets/base",
            "_view_module_version": "1.2.0",
            "_view_name": "LayoutView",
            "align_content": null,
            "align_items": null,
            "align_self": null,
            "border": null,
            "bottom": null,
            "display": null,
            "flex": null,
            "flex_flow": null,
            "grid_area": null,
            "grid_auto_columns": null,
            "grid_auto_flow": null,
            "grid_auto_rows": null,
            "grid_column": null,
            "grid_gap": null,
            "grid_row": null,
            "grid_template_areas": null,
            "grid_template_columns": null,
            "grid_template_rows": null,
            "height": null,
            "justify_content": null,
            "justify_items": null,
            "left": null,
            "margin": null,
            "max_height": null,
            "max_width": null,
            "min_height": null,
            "min_width": null,
            "object_fit": null,
            "object_position": null,
            "order": null,
            "overflow": null,
            "overflow_x": null,
            "overflow_y": null,
            "padding": null,
            "right": null,
            "top": null,
            "visibility": null,
            "width": null
          }
        },
        "23bb1a28829748e0a8eb96daa5368c25": {
          "model_module": "@jupyter-widgets/base",
          "model_name": "LayoutModel",
          "model_module_version": "1.2.0",
          "state": {
            "_model_module": "@jupyter-widgets/base",
            "_model_module_version": "1.2.0",
            "_model_name": "LayoutModel",
            "_view_count": null,
            "_view_module": "@jupyter-widgets/base",
            "_view_module_version": "1.2.0",
            "_view_name": "LayoutView",
            "align_content": null,
            "align_items": null,
            "align_self": null,
            "border": null,
            "bottom": null,
            "display": null,
            "flex": null,
            "flex_flow": null,
            "grid_area": null,
            "grid_auto_columns": null,
            "grid_auto_flow": null,
            "grid_auto_rows": null,
            "grid_column": null,
            "grid_gap": null,
            "grid_row": null,
            "grid_template_areas": null,
            "grid_template_columns": null,
            "grid_template_rows": null,
            "height": null,
            "justify_content": null,
            "justify_items": null,
            "left": null,
            "margin": null,
            "max_height": null,
            "max_width": null,
            "min_height": null,
            "min_width": null,
            "object_fit": null,
            "object_position": null,
            "order": null,
            "overflow": null,
            "overflow_x": null,
            "overflow_y": null,
            "padding": null,
            "right": null,
            "top": null,
            "visibility": null,
            "width": null
          }
        },
        "9cd683830bd7432b91a7265e527f6571": {
          "model_module": "@jupyter-widgets/controls",
          "model_name": "DescriptionStyleModel",
          "model_module_version": "1.5.0",
          "state": {
            "_model_module": "@jupyter-widgets/controls",
            "_model_module_version": "1.5.0",
            "_model_name": "DescriptionStyleModel",
            "_view_count": null,
            "_view_module": "@jupyter-widgets/base",
            "_view_module_version": "1.2.0",
            "_view_name": "StyleView",
            "description_width": ""
          }
        },
        "169287e4cce7471fac20efdab60bc2f3": {
          "model_module": "@jupyter-widgets/base",
          "model_name": "LayoutModel",
          "model_module_version": "1.2.0",
          "state": {
            "_model_module": "@jupyter-widgets/base",
            "_model_module_version": "1.2.0",
            "_model_name": "LayoutModel",
            "_view_count": null,
            "_view_module": "@jupyter-widgets/base",
            "_view_module_version": "1.2.0",
            "_view_name": "LayoutView",
            "align_content": null,
            "align_items": null,
            "align_self": null,
            "border": null,
            "bottom": null,
            "display": null,
            "flex": null,
            "flex_flow": null,
            "grid_area": null,
            "grid_auto_columns": null,
            "grid_auto_flow": null,
            "grid_auto_rows": null,
            "grid_column": null,
            "grid_gap": null,
            "grid_row": null,
            "grid_template_areas": null,
            "grid_template_columns": null,
            "grid_template_rows": null,
            "height": null,
            "justify_content": null,
            "justify_items": null,
            "left": null,
            "margin": null,
            "max_height": null,
            "max_width": null,
            "min_height": null,
            "min_width": null,
            "object_fit": null,
            "object_position": null,
            "order": null,
            "overflow": null,
            "overflow_x": null,
            "overflow_y": null,
            "padding": null,
            "right": null,
            "top": null,
            "visibility": null,
            "width": null
          }
        },
        "fc99485d5e294e60b9860934a29dc538": {
          "model_module": "@jupyter-widgets/controls",
          "model_name": "ProgressStyleModel",
          "model_module_version": "1.5.0",
          "state": {
            "_model_module": "@jupyter-widgets/controls",
            "_model_module_version": "1.5.0",
            "_model_name": "ProgressStyleModel",
            "_view_count": null,
            "_view_module": "@jupyter-widgets/base",
            "_view_module_version": "1.2.0",
            "_view_name": "StyleView",
            "bar_color": null,
            "description_width": ""
          }
        },
        "7a236dac35f8416283a68b21517b4beb": {
          "model_module": "@jupyter-widgets/controls",
          "model_name": "VBoxModel",
          "model_module_version": "1.5.0",
          "state": {
            "_dom_classes": [],
            "_model_module": "@jupyter-widgets/controls",
            "_model_module_version": "1.5.0",
            "_model_name": "VBoxModel",
            "_view_count": null,
            "_view_module": "@jupyter-widgets/controls",
            "_view_module_version": "1.5.0",
            "_view_name": "VBoxView",
            "box_style": "",
            "children": [
              "IPY_MODEL_7857ec87144c4b67abcda110f63de4af",
              "IPY_MODEL_796def938bcf4db78fc9d906df71c3f0"
            ],
            "layout": "IPY_MODEL_fedb98a8a0b14749b32ac9443b35b1ff"
          }
        },
        "7857ec87144c4b67abcda110f63de4af": {
          "model_module": "@jupyter-widgets/controls",
          "model_name": "LabelModel",
          "model_module_version": "1.5.0",
          "state": {
            "_dom_classes": [],
            "_model_module": "@jupyter-widgets/controls",
            "_model_module_version": "1.5.0",
            "_model_name": "LabelModel",
            "_view_count": null,
            "_view_module": "@jupyter-widgets/controls",
            "_view_module_version": "1.5.0",
            "_view_name": "LabelView",
            "description": "",
            "description_tooltip": null,
            "layout": "IPY_MODEL_15a2e17049bf40e384d46c649f6c1159",
            "placeholder": "​",
            "style": "IPY_MODEL_f6cddcf26f154c709a25d28ebe37db65",
            "value": "0.020 MB of 0.020 MB uploaded\r"
          }
        },
        "796def938bcf4db78fc9d906df71c3f0": {
          "model_module": "@jupyter-widgets/controls",
          "model_name": "FloatProgressModel",
          "model_module_version": "1.5.0",
          "state": {
            "_dom_classes": [],
            "_model_module": "@jupyter-widgets/controls",
            "_model_module_version": "1.5.0",
            "_model_name": "FloatProgressModel",
            "_view_count": null,
            "_view_module": "@jupyter-widgets/controls",
            "_view_module_version": "1.5.0",
            "_view_name": "ProgressView",
            "bar_style": "",
            "description": "",
            "description_tooltip": null,
            "layout": "IPY_MODEL_96678e95c17148ebaeb26b56d31f1102",
            "max": 1,
            "min": 0,
            "orientation": "horizontal",
            "style": "IPY_MODEL_6115faf4af874b109e2fa5561e2c9d6e",
            "value": 1
          }
        },
        "fedb98a8a0b14749b32ac9443b35b1ff": {
          "model_module": "@jupyter-widgets/base",
          "model_name": "LayoutModel",
          "model_module_version": "1.2.0",
          "state": {
            "_model_module": "@jupyter-widgets/base",
            "_model_module_version": "1.2.0",
            "_model_name": "LayoutModel",
            "_view_count": null,
            "_view_module": "@jupyter-widgets/base",
            "_view_module_version": "1.2.0",
            "_view_name": "LayoutView",
            "align_content": null,
            "align_items": null,
            "align_self": null,
            "border": null,
            "bottom": null,
            "display": null,
            "flex": null,
            "flex_flow": null,
            "grid_area": null,
            "grid_auto_columns": null,
            "grid_auto_flow": null,
            "grid_auto_rows": null,
            "grid_column": null,
            "grid_gap": null,
            "grid_row": null,
            "grid_template_areas": null,
            "grid_template_columns": null,
            "grid_template_rows": null,
            "height": null,
            "justify_content": null,
            "justify_items": null,
            "left": null,
            "margin": null,
            "max_height": null,
            "max_width": null,
            "min_height": null,
            "min_width": null,
            "object_fit": null,
            "object_position": null,
            "order": null,
            "overflow": null,
            "overflow_x": null,
            "overflow_y": null,
            "padding": null,
            "right": null,
            "top": null,
            "visibility": null,
            "width": null
          }
        },
        "15a2e17049bf40e384d46c649f6c1159": {
          "model_module": "@jupyter-widgets/base",
          "model_name": "LayoutModel",
          "model_module_version": "1.2.0",
          "state": {
            "_model_module": "@jupyter-widgets/base",
            "_model_module_version": "1.2.0",
            "_model_name": "LayoutModel",
            "_view_count": null,
            "_view_module": "@jupyter-widgets/base",
            "_view_module_version": "1.2.0",
            "_view_name": "LayoutView",
            "align_content": null,
            "align_items": null,
            "align_self": null,
            "border": null,
            "bottom": null,
            "display": null,
            "flex": null,
            "flex_flow": null,
            "grid_area": null,
            "grid_auto_columns": null,
            "grid_auto_flow": null,
            "grid_auto_rows": null,
            "grid_column": null,
            "grid_gap": null,
            "grid_row": null,
            "grid_template_areas": null,
            "grid_template_columns": null,
            "grid_template_rows": null,
            "height": null,
            "justify_content": null,
            "justify_items": null,
            "left": null,
            "margin": null,
            "max_height": null,
            "max_width": null,
            "min_height": null,
            "min_width": null,
            "object_fit": null,
            "object_position": null,
            "order": null,
            "overflow": null,
            "overflow_x": null,
            "overflow_y": null,
            "padding": null,
            "right": null,
            "top": null,
            "visibility": null,
            "width": null
          }
        },
        "f6cddcf26f154c709a25d28ebe37db65": {
          "model_module": "@jupyter-widgets/controls",
          "model_name": "DescriptionStyleModel",
          "model_module_version": "1.5.0",
          "state": {
            "_model_module": "@jupyter-widgets/controls",
            "_model_module_version": "1.5.0",
            "_model_name": "DescriptionStyleModel",
            "_view_count": null,
            "_view_module": "@jupyter-widgets/base",
            "_view_module_version": "1.2.0",
            "_view_name": "StyleView",
            "description_width": ""
          }
        },
        "96678e95c17148ebaeb26b56d31f1102": {
          "model_module": "@jupyter-widgets/base",
          "model_name": "LayoutModel",
          "model_module_version": "1.2.0",
          "state": {
            "_model_module": "@jupyter-widgets/base",
            "_model_module_version": "1.2.0",
            "_model_name": "LayoutModel",
            "_view_count": null,
            "_view_module": "@jupyter-widgets/base",
            "_view_module_version": "1.2.0",
            "_view_name": "LayoutView",
            "align_content": null,
            "align_items": null,
            "align_self": null,
            "border": null,
            "bottom": null,
            "display": null,
            "flex": null,
            "flex_flow": null,
            "grid_area": null,
            "grid_auto_columns": null,
            "grid_auto_flow": null,
            "grid_auto_rows": null,
            "grid_column": null,
            "grid_gap": null,
            "grid_row": null,
            "grid_template_areas": null,
            "grid_template_columns": null,
            "grid_template_rows": null,
            "height": null,
            "justify_content": null,
            "justify_items": null,
            "left": null,
            "margin": null,
            "max_height": null,
            "max_width": null,
            "min_height": null,
            "min_width": null,
            "object_fit": null,
            "object_position": null,
            "order": null,
            "overflow": null,
            "overflow_x": null,
            "overflow_y": null,
            "padding": null,
            "right": null,
            "top": null,
            "visibility": null,
            "width": null
          }
        },
        "6115faf4af874b109e2fa5561e2c9d6e": {
          "model_module": "@jupyter-widgets/controls",
          "model_name": "ProgressStyleModel",
          "model_module_version": "1.5.0",
          "state": {
            "_model_module": "@jupyter-widgets/controls",
            "_model_module_version": "1.5.0",
            "_model_name": "ProgressStyleModel",
            "_view_count": null,
            "_view_module": "@jupyter-widgets/base",
            "_view_module_version": "1.2.0",
            "_view_name": "StyleView",
            "bar_color": null,
            "description_width": ""
          }
        },
        "1069f65feb864df0901dfaacf4e7ea25": {
          "model_module": "@jupyter-widgets/controls",
          "model_name": "VBoxModel",
          "model_module_version": "1.5.0",
          "state": {
            "_dom_classes": [],
            "_model_module": "@jupyter-widgets/controls",
            "_model_module_version": "1.5.0",
            "_model_name": "VBoxModel",
            "_view_count": null,
            "_view_module": "@jupyter-widgets/controls",
            "_view_module_version": "1.5.0",
            "_view_name": "VBoxView",
            "box_style": "",
            "children": [
              "IPY_MODEL_1f23af12a35c4e87ab8a8a0aeef0caac",
              "IPY_MODEL_a2d4a37684424d068f4f706226f3b0d3"
            ],
            "layout": "IPY_MODEL_3c4b9308eeb44042a7b8d20f3175bef8"
          }
        },
        "1f23af12a35c4e87ab8a8a0aeef0caac": {
          "model_module": "@jupyter-widgets/controls",
          "model_name": "LabelModel",
          "model_module_version": "1.5.0",
          "state": {
            "_dom_classes": [],
            "_model_module": "@jupyter-widgets/controls",
            "_model_module_version": "1.5.0",
            "_model_name": "LabelModel",
            "_view_count": null,
            "_view_module": "@jupyter-widgets/controls",
            "_view_module_version": "1.5.0",
            "_view_name": "LabelView",
            "description": "",
            "description_tooltip": null,
            "layout": "IPY_MODEL_9b1cde6517a9473d99b687514bda3e7e",
            "placeholder": "​",
            "style": "IPY_MODEL_af429abd5390403fa15bdf6b54cf1f4c",
            "value": "0.022 MB of 0.022 MB uploaded\r"
          }
        },
        "a2d4a37684424d068f4f706226f3b0d3": {
          "model_module": "@jupyter-widgets/controls",
          "model_name": "FloatProgressModel",
          "model_module_version": "1.5.0",
          "state": {
            "_dom_classes": [],
            "_model_module": "@jupyter-widgets/controls",
            "_model_module_version": "1.5.0",
            "_model_name": "FloatProgressModel",
            "_view_count": null,
            "_view_module": "@jupyter-widgets/controls",
            "_view_module_version": "1.5.0",
            "_view_name": "ProgressView",
            "bar_style": "",
            "description": "",
            "description_tooltip": null,
            "layout": "IPY_MODEL_444683ef7dbd41c78f4425f795e01452",
            "max": 1,
            "min": 0,
            "orientation": "horizontal",
            "style": "IPY_MODEL_719797c686ca44ad918b8c52e9d0e87c",
            "value": 1
          }
        },
        "3c4b9308eeb44042a7b8d20f3175bef8": {
          "model_module": "@jupyter-widgets/base",
          "model_name": "LayoutModel",
          "model_module_version": "1.2.0",
          "state": {
            "_model_module": "@jupyter-widgets/base",
            "_model_module_version": "1.2.0",
            "_model_name": "LayoutModel",
            "_view_count": null,
            "_view_module": "@jupyter-widgets/base",
            "_view_module_version": "1.2.0",
            "_view_name": "LayoutView",
            "align_content": null,
            "align_items": null,
            "align_self": null,
            "border": null,
            "bottom": null,
            "display": null,
            "flex": null,
            "flex_flow": null,
            "grid_area": null,
            "grid_auto_columns": null,
            "grid_auto_flow": null,
            "grid_auto_rows": null,
            "grid_column": null,
            "grid_gap": null,
            "grid_row": null,
            "grid_template_areas": null,
            "grid_template_columns": null,
            "grid_template_rows": null,
            "height": null,
            "justify_content": null,
            "justify_items": null,
            "left": null,
            "margin": null,
            "max_height": null,
            "max_width": null,
            "min_height": null,
            "min_width": null,
            "object_fit": null,
            "object_position": null,
            "order": null,
            "overflow": null,
            "overflow_x": null,
            "overflow_y": null,
            "padding": null,
            "right": null,
            "top": null,
            "visibility": null,
            "width": null
          }
        },
        "9b1cde6517a9473d99b687514bda3e7e": {
          "model_module": "@jupyter-widgets/base",
          "model_name": "LayoutModel",
          "model_module_version": "1.2.0",
          "state": {
            "_model_module": "@jupyter-widgets/base",
            "_model_module_version": "1.2.0",
            "_model_name": "LayoutModel",
            "_view_count": null,
            "_view_module": "@jupyter-widgets/base",
            "_view_module_version": "1.2.0",
            "_view_name": "LayoutView",
            "align_content": null,
            "align_items": null,
            "align_self": null,
            "border": null,
            "bottom": null,
            "display": null,
            "flex": null,
            "flex_flow": null,
            "grid_area": null,
            "grid_auto_columns": null,
            "grid_auto_flow": null,
            "grid_auto_rows": null,
            "grid_column": null,
            "grid_gap": null,
            "grid_row": null,
            "grid_template_areas": null,
            "grid_template_columns": null,
            "grid_template_rows": null,
            "height": null,
            "justify_content": null,
            "justify_items": null,
            "left": null,
            "margin": null,
            "max_height": null,
            "max_width": null,
            "min_height": null,
            "min_width": null,
            "object_fit": null,
            "object_position": null,
            "order": null,
            "overflow": null,
            "overflow_x": null,
            "overflow_y": null,
            "padding": null,
            "right": null,
            "top": null,
            "visibility": null,
            "width": null
          }
        },
        "af429abd5390403fa15bdf6b54cf1f4c": {
          "model_module": "@jupyter-widgets/controls",
          "model_name": "DescriptionStyleModel",
          "model_module_version": "1.5.0",
          "state": {
            "_model_module": "@jupyter-widgets/controls",
            "_model_module_version": "1.5.0",
            "_model_name": "DescriptionStyleModel",
            "_view_count": null,
            "_view_module": "@jupyter-widgets/base",
            "_view_module_version": "1.2.0",
            "_view_name": "StyleView",
            "description_width": ""
          }
        },
        "444683ef7dbd41c78f4425f795e01452": {
          "model_module": "@jupyter-widgets/base",
          "model_name": "LayoutModel",
          "model_module_version": "1.2.0",
          "state": {
            "_model_module": "@jupyter-widgets/base",
            "_model_module_version": "1.2.0",
            "_model_name": "LayoutModel",
            "_view_count": null,
            "_view_module": "@jupyter-widgets/base",
            "_view_module_version": "1.2.0",
            "_view_name": "LayoutView",
            "align_content": null,
            "align_items": null,
            "align_self": null,
            "border": null,
            "bottom": null,
            "display": null,
            "flex": null,
            "flex_flow": null,
            "grid_area": null,
            "grid_auto_columns": null,
            "grid_auto_flow": null,
            "grid_auto_rows": null,
            "grid_column": null,
            "grid_gap": null,
            "grid_row": null,
            "grid_template_areas": null,
            "grid_template_columns": null,
            "grid_template_rows": null,
            "height": null,
            "justify_content": null,
            "justify_items": null,
            "left": null,
            "margin": null,
            "max_height": null,
            "max_width": null,
            "min_height": null,
            "min_width": null,
            "object_fit": null,
            "object_position": null,
            "order": null,
            "overflow": null,
            "overflow_x": null,
            "overflow_y": null,
            "padding": null,
            "right": null,
            "top": null,
            "visibility": null,
            "width": null
          }
        },
        "719797c686ca44ad918b8c52e9d0e87c": {
          "model_module": "@jupyter-widgets/controls",
          "model_name": "ProgressStyleModel",
          "model_module_version": "1.5.0",
          "state": {
            "_model_module": "@jupyter-widgets/controls",
            "_model_module_version": "1.5.0",
            "_model_name": "ProgressStyleModel",
            "_view_count": null,
            "_view_module": "@jupyter-widgets/base",
            "_view_module_version": "1.2.0",
            "_view_name": "StyleView",
            "bar_color": null,
            "description_width": ""
          }
        },
        "e2d60b5a0753487596f3e623b6f218b6": {
          "model_module": "@jupyter-widgets/controls",
          "model_name": "VBoxModel",
          "model_module_version": "1.5.0",
          "state": {
            "_dom_classes": [],
            "_model_module": "@jupyter-widgets/controls",
            "_model_module_version": "1.5.0",
            "_model_name": "VBoxModel",
            "_view_count": null,
            "_view_module": "@jupyter-widgets/controls",
            "_view_module_version": "1.5.0",
            "_view_name": "VBoxView",
            "box_style": "",
            "children": [
              "IPY_MODEL_c9dffa1570b84133a180ad1c286a5fa8",
              "IPY_MODEL_66a9aa6a1bfb484589f85614ef0281e9"
            ],
            "layout": "IPY_MODEL_6d3a294c60bf44dfb910d5a7cc2af03f"
          }
        },
        "c9dffa1570b84133a180ad1c286a5fa8": {
          "model_module": "@jupyter-widgets/controls",
          "model_name": "LabelModel",
          "model_module_version": "1.5.0",
          "state": {
            "_dom_classes": [],
            "_model_module": "@jupyter-widgets/controls",
            "_model_module_version": "1.5.0",
            "_model_name": "LabelModel",
            "_view_count": null,
            "_view_module": "@jupyter-widgets/controls",
            "_view_module_version": "1.5.0",
            "_view_name": "LabelView",
            "description": "",
            "description_tooltip": null,
            "layout": "IPY_MODEL_3eec716715c14e6890f12fc1d3318e2a",
            "placeholder": "​",
            "style": "IPY_MODEL_6a476b18fac548dc8cd44d86b455d256",
            "value": "0.020 MB of 0.020 MB uploaded\r"
          }
        },
        "66a9aa6a1bfb484589f85614ef0281e9": {
          "model_module": "@jupyter-widgets/controls",
          "model_name": "FloatProgressModel",
          "model_module_version": "1.5.0",
          "state": {
            "_dom_classes": [],
            "_model_module": "@jupyter-widgets/controls",
            "_model_module_version": "1.5.0",
            "_model_name": "FloatProgressModel",
            "_view_count": null,
            "_view_module": "@jupyter-widgets/controls",
            "_view_module_version": "1.5.0",
            "_view_name": "ProgressView",
            "bar_style": "",
            "description": "",
            "description_tooltip": null,
            "layout": "IPY_MODEL_14c7c3f0903f430c8e25fc99171a0bc6",
            "max": 1,
            "min": 0,
            "orientation": "horizontal",
            "style": "IPY_MODEL_c84f5cde01d8450db02d220d05e85c4a",
            "value": 1
          }
        },
        "6d3a294c60bf44dfb910d5a7cc2af03f": {
          "model_module": "@jupyter-widgets/base",
          "model_name": "LayoutModel",
          "model_module_version": "1.2.0",
          "state": {
            "_model_module": "@jupyter-widgets/base",
            "_model_module_version": "1.2.0",
            "_model_name": "LayoutModel",
            "_view_count": null,
            "_view_module": "@jupyter-widgets/base",
            "_view_module_version": "1.2.0",
            "_view_name": "LayoutView",
            "align_content": null,
            "align_items": null,
            "align_self": null,
            "border": null,
            "bottom": null,
            "display": null,
            "flex": null,
            "flex_flow": null,
            "grid_area": null,
            "grid_auto_columns": null,
            "grid_auto_flow": null,
            "grid_auto_rows": null,
            "grid_column": null,
            "grid_gap": null,
            "grid_row": null,
            "grid_template_areas": null,
            "grid_template_columns": null,
            "grid_template_rows": null,
            "height": null,
            "justify_content": null,
            "justify_items": null,
            "left": null,
            "margin": null,
            "max_height": null,
            "max_width": null,
            "min_height": null,
            "min_width": null,
            "object_fit": null,
            "object_position": null,
            "order": null,
            "overflow": null,
            "overflow_x": null,
            "overflow_y": null,
            "padding": null,
            "right": null,
            "top": null,
            "visibility": null,
            "width": null
          }
        },
        "3eec716715c14e6890f12fc1d3318e2a": {
          "model_module": "@jupyter-widgets/base",
          "model_name": "LayoutModel",
          "model_module_version": "1.2.0",
          "state": {
            "_model_module": "@jupyter-widgets/base",
            "_model_module_version": "1.2.0",
            "_model_name": "LayoutModel",
            "_view_count": null,
            "_view_module": "@jupyter-widgets/base",
            "_view_module_version": "1.2.0",
            "_view_name": "LayoutView",
            "align_content": null,
            "align_items": null,
            "align_self": null,
            "border": null,
            "bottom": null,
            "display": null,
            "flex": null,
            "flex_flow": null,
            "grid_area": null,
            "grid_auto_columns": null,
            "grid_auto_flow": null,
            "grid_auto_rows": null,
            "grid_column": null,
            "grid_gap": null,
            "grid_row": null,
            "grid_template_areas": null,
            "grid_template_columns": null,
            "grid_template_rows": null,
            "height": null,
            "justify_content": null,
            "justify_items": null,
            "left": null,
            "margin": null,
            "max_height": null,
            "max_width": null,
            "min_height": null,
            "min_width": null,
            "object_fit": null,
            "object_position": null,
            "order": null,
            "overflow": null,
            "overflow_x": null,
            "overflow_y": null,
            "padding": null,
            "right": null,
            "top": null,
            "visibility": null,
            "width": null
          }
        },
        "6a476b18fac548dc8cd44d86b455d256": {
          "model_module": "@jupyter-widgets/controls",
          "model_name": "DescriptionStyleModel",
          "model_module_version": "1.5.0",
          "state": {
            "_model_module": "@jupyter-widgets/controls",
            "_model_module_version": "1.5.0",
            "_model_name": "DescriptionStyleModel",
            "_view_count": null,
            "_view_module": "@jupyter-widgets/base",
            "_view_module_version": "1.2.0",
            "_view_name": "StyleView",
            "description_width": ""
          }
        },
        "14c7c3f0903f430c8e25fc99171a0bc6": {
          "model_module": "@jupyter-widgets/base",
          "model_name": "LayoutModel",
          "model_module_version": "1.2.0",
          "state": {
            "_model_module": "@jupyter-widgets/base",
            "_model_module_version": "1.2.0",
            "_model_name": "LayoutModel",
            "_view_count": null,
            "_view_module": "@jupyter-widgets/base",
            "_view_module_version": "1.2.0",
            "_view_name": "LayoutView",
            "align_content": null,
            "align_items": null,
            "align_self": null,
            "border": null,
            "bottom": null,
            "display": null,
            "flex": null,
            "flex_flow": null,
            "grid_area": null,
            "grid_auto_columns": null,
            "grid_auto_flow": null,
            "grid_auto_rows": null,
            "grid_column": null,
            "grid_gap": null,
            "grid_row": null,
            "grid_template_areas": null,
            "grid_template_columns": null,
            "grid_template_rows": null,
            "height": null,
            "justify_content": null,
            "justify_items": null,
            "left": null,
            "margin": null,
            "max_height": null,
            "max_width": null,
            "min_height": null,
            "min_width": null,
            "object_fit": null,
            "object_position": null,
            "order": null,
            "overflow": null,
            "overflow_x": null,
            "overflow_y": null,
            "padding": null,
            "right": null,
            "top": null,
            "visibility": null,
            "width": null
          }
        },
        "c84f5cde01d8450db02d220d05e85c4a": {
          "model_module": "@jupyter-widgets/controls",
          "model_name": "ProgressStyleModel",
          "model_module_version": "1.5.0",
          "state": {
            "_model_module": "@jupyter-widgets/controls",
            "_model_module_version": "1.5.0",
            "_model_name": "ProgressStyleModel",
            "_view_count": null,
            "_view_module": "@jupyter-widgets/base",
            "_view_module_version": "1.2.0",
            "_view_name": "StyleView",
            "bar_color": null,
            "description_width": ""
          }
        }
      }
    }
  },
  "nbformat": 4,
  "nbformat_minor": 0
}