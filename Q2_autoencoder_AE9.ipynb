{
  "cells": [
    {
      "cell_type": "markdown",
      "metadata": {
        "id": "view-in-github",
        "colab_type": "text"
      },
      "source": [
        "<a href=\"https://colab.research.google.com/github/KNL1979/DS807/blob/main/Q2_autoencoder_AE9.ipynb\" target=\"_parent\"><img src=\"https://colab.research.google.com/assets/colab-badge.svg\" alt=\"Open In Colab\"/></a>"
      ]
    },
    {
      "cell_type": "markdown",
      "source": [
        "# Autoencoder model AE9\n"
      ],
      "metadata": {
        "id": "ST0CF8KsSl4i"
      }
    },
    {
      "cell_type": "code",
      "execution_count": null,
      "metadata": {
        "colab": {
          "base_uri": "https://localhost:8080/"
        },
        "id": "uv7CeVAMHHX7",
        "outputId": "a0969b98-cf75-4aad-bb5c-1de384bc8aff"
      },
      "outputs": [
        {
          "output_type": "stream",
          "name": "stdout",
          "text": [
            "\u001b[2K     \u001b[90m━━━━━━━━━━━━━━━━━━━━━━━━━━━━━━━━━━━━━━━━\u001b[0m \u001b[32m2.2/2.2 MB\u001b[0m \u001b[31m28.5 MB/s\u001b[0m eta \u001b[36m0:00:00\u001b[0m\n",
            "\u001b[2K     \u001b[90m━━━━━━━━━━━━━━━━━━━━━━━━━━━━━━━━━━━━━━━━\u001b[0m \u001b[32m196.4/196.4 kB\u001b[0m \u001b[31m26.1 MB/s\u001b[0m eta \u001b[36m0:00:00\u001b[0m\n",
            "\u001b[2K     \u001b[90m━━━━━━━━━━━━━━━━━━━━━━━━━━━━━━━━━━━━━━━━\u001b[0m \u001b[32m257.5/257.5 kB\u001b[0m \u001b[31m22.9 MB/s\u001b[0m eta \u001b[36m0:00:00\u001b[0m\n",
            "\u001b[2K     \u001b[90m━━━━━━━━━━━━━━━━━━━━━━━━━━━━━━━━━━━━━━━━\u001b[0m \u001b[32m62.7/62.7 kB\u001b[0m \u001b[31m8.1 MB/s\u001b[0m eta \u001b[36m0:00:00\u001b[0m\n",
            "\u001b[?25h"
          ]
        }
      ],
      "source": [
        "# U=upgrade and q=quiet\n",
        "!pip install wandb -Uq"
      ]
    },
    {
      "cell_type": "code",
      "execution_count": null,
      "metadata": {
        "id": "R9q2pEeCEV2K"
      },
      "outputs": [],
      "source": [
        "import tensorflow as tf\n",
        "from tensorflow.keras.layers import Input, Dense, Conv2D, Conv2DTranspose, Flatten, Dropout,BatchNormalization, SpatialDropout2D\n",
        "from tensorflow.keras.models import Model\n",
        "from tensorflow.keras.optimizers import SGD, Adam\n",
        "import numpy as np\n",
        "import matplotlib.pyplot as plt\n",
        "\n",
        "import os\n",
        "import wandb\n",
        "from wandb.keras import WandbCallback"
      ]
    },
    {
      "cell_type": "code",
      "execution_count": null,
      "metadata": {
        "colab": {
          "base_uri": "https://localhost:8080/"
        },
        "id": "Gte11cPAFMaN",
        "outputId": "353052d3-0c72-4b73-da79-f7ed8c83a1c1"
      },
      "outputs": [
        {
          "output_type": "stream",
          "name": "stdout",
          "text": [
            "Mounted at /content/gdrive\n"
          ]
        }
      ],
      "source": [
        "# Mount your google drive where you've saved your assignment folder\n",
        "from google.colab import drive\n",
        "drive.mount('/content/gdrive', force_remount=True)"
      ]
    },
    {
      "cell_type": "code",
      "execution_count": null,
      "metadata": {
        "colab": {
          "base_uri": "https://localhost:8080/"
        },
        "id": "x82qhsY4FUPh",
        "outputId": "f35eab99-1935-48b0-c569-f038fbbef8a6"
      },
      "outputs": [
        {
          "output_type": "stream",
          "name": "stdout",
          "text": [
            "/content/gdrive/MyDrive/Applied_ML\n"
          ]
        }
      ],
      "source": [
        "# path to file\n",
        "%cd '/content/gdrive/MyDrive/Applied_ML'"
      ]
    },
    {
      "cell_type": "code",
      "execution_count": null,
      "metadata": {
        "colab": {
          "base_uri": "https://localhost:8080/"
        },
        "id": "Ucsi9aO7FbLz",
        "outputId": "0fdd81a8-f382-46dc-c585-cecb8dee3907"
      },
      "outputs": [
        {
          "output_type": "stream",
          "name": "stdout",
          "text": [
            "Shape of the training data: (55050, 96, 96, 3)\n",
            "Shape of the validataion data: (15729, 96, 96, 3)\n",
            "Shape of the test data: (7864, 96, 96, 3)\n"
          ]
        }
      ],
      "source": [
        "# Load the training data features\n",
        "X_train = np.load('eksamen/dataset/X_train_new.npy')\n",
        "X_val = np.load('eksamen/dataset/X_val_new.npy')\n",
        "X_test = np.load('eksamen/dataset/X_test_new.npy')\n",
        "print(f'Shape of the training data: {X_train.shape}')\n",
        "print(f'Shape of the validataion data: {X_val.shape}')\n",
        "print(f'Shape of the test data: {X_test.shape}')"
      ]
    },
    {
      "cell_type": "code",
      "execution_count": null,
      "metadata": {
        "colab": {
          "base_uri": "https://localhost:8080/",
          "height": 121
        },
        "id": "CAoblSFUF64h",
        "outputId": "a8e9421a-d1e6-4a26-bd5a-fa4a2d1c2682"
      },
      "outputs": [
        {
          "output_type": "stream",
          "name": "stderr",
          "text": [
            "\u001b[34m\u001b[1mwandb\u001b[0m: Currently logged in as: \u001b[33mmetterosenfjeld\u001b[0m (\u001b[33mcoffeegang\u001b[0m). Use \u001b[1m`wandb login --relogin`\u001b[0m to force relogin\n"
          ]
        },
        {
          "output_type": "display_data",
          "data": {
            "text/plain": [
              "<IPython.core.display.HTML object>"
            ],
            "text/html": [
              "Tracking run with wandb version 0.16.2"
            ]
          },
          "metadata": {}
        },
        {
          "output_type": "display_data",
          "data": {
            "text/plain": [
              "<IPython.core.display.HTML object>"
            ],
            "text/html": [
              "Run data is saved locally in <code>/content/gdrive/MyDrive/Applied_ML/wandb/run-20240129_075143-0hhi5wk7</code>"
            ]
          },
          "metadata": {}
        },
        {
          "output_type": "display_data",
          "data": {
            "text/plain": [
              "<IPython.core.display.HTML object>"
            ],
            "text/html": [
              "Syncing run <strong><a href='https://wandb.ai/coffeegang/Autoencoder/runs/0hhi5wk7' target=\"_blank\">AE_9_save_decoder</a></strong> to <a href='https://wandb.ai/coffeegang/Autoencoder' target=\"_blank\">Weights & Biases</a> (<a href='https://wandb.me/run' target=\"_blank\">docs</a>)<br/>"
            ]
          },
          "metadata": {}
        },
        {
          "output_type": "display_data",
          "data": {
            "text/plain": [
              "<IPython.core.display.HTML object>"
            ],
            "text/html": [
              " View project at <a href='https://wandb.ai/coffeegang/Autoencoder' target=\"_blank\">https://wandb.ai/coffeegang/Autoencoder</a>"
            ]
          },
          "metadata": {}
        },
        {
          "output_type": "display_data",
          "data": {
            "text/plain": [
              "<IPython.core.display.HTML object>"
            ],
            "text/html": [
              " View run at <a href='https://wandb.ai/coffeegang/Autoencoder/runs/0hhi5wk7' target=\"_blank\">https://wandb.ai/coffeegang/Autoencoder/runs/0hhi5wk7</a>"
            ]
          },
          "metadata": {}
        }
      ],
      "source": [
        "# settings for Wandb\n",
        "os.environ[\"WANDB_API_KEY\"]= '1bff76125a134665e9d30342c447d7616c5fd3c3'\n",
        "os.environ[\"WANDB_NAME\"]= 'AE_9_save_decoder'\n",
        "os.environ[\"WANDB_NOTEBOOK_NAME\"]='AE_9_save_decoder.ipynb'\n",
        "run = wandb.init(project=\"Autoencoder\",entity='coffeegang',job_type='train')\n",
        "config = wandb.config"
      ]
    },
    {
      "cell_type": "code",
      "execution_count": null,
      "metadata": {
        "id": "ISFRJWbtOCiI"
      },
      "outputs": [],
      "source": [
        "# Define WandbCallback for experiment tracking\n",
        "wandb_callback = WandbCallback(monitor='val_loss',verbose=True,save_model=False,\n",
        "                               log_weights=True,\n",
        "                               log_evaluation=True,\n",
        "                               validation_steps=2)\n",
        "callbacks = [wandb_callback]"
      ]
    },
    {
      "cell_type": "code",
      "execution_count": null,
      "metadata": {
        "colab": {
          "base_uri": "https://localhost:8080/"
        },
        "id": "A14TmKUjnD-N",
        "outputId": "5390da58-b374-450e-c249-4e131698a8d0"
      },
      "outputs": [
        {
          "output_type": "stream",
          "name": "stdout",
          "text": [
            "Model: \"encoder\"\n",
            "_________________________________________________________________\n",
            " Layer (type)                Output Shape              Param #   \n",
            "=================================================================\n",
            " conv2d (Conv2D)             (None, 48, 48, 128)       3584      \n",
            "                                                                 \n",
            " conv2d_1 (Conv2D)           (None, 24, 24, 64)        73792     \n",
            "                                                                 \n",
            " conv2d_2 (Conv2D)           (None, 12, 12, 32)        18464     \n",
            "                                                                 \n",
            "=================================================================\n",
            "Total params: 95840 (374.38 KB)\n",
            "Trainable params: 95840 (374.38 KB)\n",
            "Non-trainable params: 0 (0.00 Byte)\n",
            "_________________________________________________________________\n",
            "Model: \"decoder\"\n",
            "_________________________________________________________________\n",
            " Layer (type)                Output Shape              Param #   \n",
            "=================================================================\n",
            " conv2d_transpose (Conv2DTr  (None, 24, 24, 32)        9248      \n",
            " anspose)                                                        \n",
            "                                                                 \n",
            " conv2d_transpose_1 (Conv2D  (None, 48, 48, 64)        18496     \n",
            " Transpose)                                                      \n",
            "                                                                 \n",
            " conv2d_transpose_2 (Conv2D  (None, 96, 96, 128)       73856     \n",
            " Transpose)                                                      \n",
            "                                                                 \n",
            " conv2d_3 (Conv2D)           (None, 96, 96, 3)         3459      \n",
            "                                                                 \n",
            "=================================================================\n",
            "Total params: 105059 (410.39 KB)\n",
            "Trainable params: 105059 (410.39 KB)\n",
            "Non-trainable params: 0 (0.00 Byte)\n",
            "_________________________________________________________________\n",
            "Model: \"autoencoder\"\n",
            "_________________________________________________________________\n",
            " Layer (type)                Output Shape              Param #   \n",
            "=================================================================\n",
            " encoder (Sequential)        (None, 12, 12, 32)        95840     \n",
            "                                                                 \n",
            " decoder (Sequential)        (None, 96, 96, 3)         105059    \n",
            "                                                                 \n",
            "=================================================================\n",
            "Total params: 200899 (784.76 KB)\n",
            "Trainable params: 200899 (784.76 KB)\n",
            "Non-trainable params: 0 (0.00 Byte)\n",
            "_________________________________________________________________\n"
          ]
        }
      ],
      "source": [
        "# build autoencoder\n",
        "encoder = tf.keras.models.Sequential([\n",
        "    Conv2D(128, 3, 2, activation='relu', padding='same', input_shape=(96, 96, 3)),\n",
        "    Conv2D(64, 3, 2, activation='relu', padding='same'),\n",
        "    Conv2D(32, 3, 2, activation='relu', padding='same')\n",
        "], name='encoder')\n",
        "\n",
        "decoder = tf.keras.models.Sequential([\n",
        "    Conv2DTranspose(32, 3, 2, padding='same', activation='relu', input_shape=(12, 12, 32)),\n",
        "    Conv2DTranspose(64, 3, 2, padding='same', activation='relu'),\n",
        "    Conv2DTranspose(128, 3, 2, padding='same', activation='relu'),\n",
        "    Conv2D(3, 3, activation='sigmoid', padding='same')\n",
        "], name='decoder')\n",
        "\n",
        "autoencoder = tf.keras.models.Sequential([encoder, decoder], name = 'autoencoder')\n",
        "autoencoder.compile(loss='mse', optimizer='adam',  metrics=['mae'])\n",
        "\n",
        "encoder.summary()\n",
        "decoder.summary()\n",
        "autoencoder.summary()"
      ]
    },
    {
      "cell_type": "code",
      "execution_count": null,
      "metadata": {
        "colab": {
          "base_uri": "https://localhost:8080/"
        },
        "id": "5uY_zUOTFSUk",
        "outputId": "8a7c48f4-a98d-49d7-bef5-2668fcde2bf7"
      },
      "outputs": [
        {
          "output_type": "stream",
          "name": "stderr",
          "text": [
            "\u001b[34m\u001b[1mwandb\u001b[0m: \u001b[33mWARNING\u001b[0m WandbCallback is unable to read validation_data from trainer and therefore cannot log validation data. Ensure Keras is properly patched by calling `from wandb.keras import WandbCallback` at the top of your script.\n"
          ]
        },
        {
          "output_type": "stream",
          "name": "stdout",
          "text": [
            "Epoch 1/50\n",
            "   2/1721 [..............................] - ETA: 5:23 - loss: 0.0825 - mae: 0.2467   "
          ]
        },
        {
          "output_type": "stream",
          "name": "stderr",
          "text": [
            "WARNING:tensorflow:Callback method `on_train_batch_end` is slow compared to the batch time (batch time: 0.0088s vs `on_train_batch_end` time: 0.0344s). Check your callbacks.\n"
          ]
        },
        {
          "output_type": "stream",
          "name": "stdout",
          "text": [
            "1721/1721 [==============================] - ETA: 0s - loss: 0.0130 - mae: 0.0829Epoch 00000: val_loss improved from inf to 0.00790\n",
            "1721/1721 [==============================] - 36s 17ms/step - loss: 0.0130 - mae: 0.0829 - val_loss: 0.0079 - val_mae: 0.0657\n",
            "Epoch 2/50\n",
            "1721/1721 [==============================] - ETA: 0s - loss: 0.0070 - mae: 0.0621Epoch 00001: val_loss improved from 0.00790 to 0.00719\n",
            "1721/1721 [==============================] - 24s 14ms/step - loss: 0.0070 - mae: 0.0621 - val_loss: 0.0072 - val_mae: 0.0631\n",
            "Epoch 3/50\n",
            "1721/1721 [==============================] - ETA: 0s - loss: 0.0061 - mae: 0.0574Epoch 00002: val_loss improved from 0.00719 to 0.00561\n",
            "1721/1721 [==============================] - 24s 14ms/step - loss: 0.0061 - mae: 0.0574 - val_loss: 0.0056 - val_mae: 0.0551\n",
            "Epoch 4/50\n",
            "1719/1721 [============================>.] - ETA: 0s - loss: 0.0055 - mae: 0.0547Epoch 00003: val_loss improved from 0.00561 to 0.00526\n",
            "1721/1721 [==============================] - 23s 14ms/step - loss: 0.0055 - mae: 0.0547 - val_loss: 0.0053 - val_mae: 0.0535\n",
            "Epoch 5/50\n",
            "1718/1721 [============================>.] - ETA: 0s - loss: 0.0052 - mae: 0.0529Epoch 00004: val_loss improved from 0.00526 to 0.00499\n",
            "1721/1721 [==============================] - 24s 14ms/step - loss: 0.0052 - mae: 0.0529 - val_loss: 0.0050 - val_mae: 0.0517\n",
            "Epoch 6/50\n",
            "1721/1721 [==============================] - 23s 14ms/step - loss: 0.0050 - mae: 0.0518 - val_loss: 0.0053 - val_mae: 0.0540\n",
            "Epoch 7/50\n",
            "1717/1721 [============================>.] - ETA: 0s - loss: 0.0048 - mae: 0.0511Epoch 00006: val_loss improved from 0.00499 to 0.00473\n",
            "1721/1721 [==============================] - 24s 14ms/step - loss: 0.0048 - mae: 0.0511 - val_loss: 0.0047 - val_mae: 0.0505\n",
            "Epoch 8/50\n",
            "1719/1721 [============================>.] - ETA: 0s - loss: 0.0047 - mae: 0.0504Epoch 00007: val_loss improved from 0.00473 to 0.00466\n",
            "1721/1721 [==============================] - 24s 14ms/step - loss: 0.0047 - mae: 0.0504 - val_loss: 0.0047 - val_mae: 0.0501\n",
            "Epoch 9/50\n",
            "1721/1721 [==============================] - ETA: 0s - loss: 0.0046 - mae: 0.0499Epoch 00008: val_loss improved from 0.00466 to 0.00455\n",
            "1721/1721 [==============================] - 24s 14ms/step - loss: 0.0046 - mae: 0.0499 - val_loss: 0.0046 - val_mae: 0.0494\n",
            "Epoch 10/50\n",
            "1720/1721 [============================>.] - ETA: 0s - loss: 0.0046 - mae: 0.0496Epoch 00009: val_loss improved from 0.00455 to 0.00452\n",
            "1721/1721 [==============================] - 24s 14ms/step - loss: 0.0046 - mae: 0.0496 - val_loss: 0.0045 - val_mae: 0.0494\n",
            "Epoch 11/50\n",
            "1719/1721 [============================>.] - ETA: 0s - loss: 0.0045 - mae: 0.0494Epoch 00010: val_loss improved from 0.00452 to 0.00448\n",
            "1721/1721 [==============================] - 24s 14ms/step - loss: 0.0045 - mae: 0.0494 - val_loss: 0.0045 - val_mae: 0.0490\n",
            "Epoch 12/50\n",
            "1721/1721 [==============================] - 24s 14ms/step - loss: 0.0045 - mae: 0.0491 - val_loss: 0.0045 - val_mae: 0.0497\n",
            "Epoch 13/50\n",
            "1717/1721 [============================>.] - ETA: 0s - loss: 0.0045 - mae: 0.0490Epoch 00012: val_loss improved from 0.00448 to 0.00440\n",
            "1721/1721 [==============================] - 24s 14ms/step - loss: 0.0045 - mae: 0.0490 - val_loss: 0.0044 - val_mae: 0.0486\n",
            "Epoch 14/50\n",
            "1721/1721 [==============================] - 23s 14ms/step - loss: 0.0044 - mae: 0.0488 - val_loss: 0.0044 - val_mae: 0.0493\n",
            "Epoch 15/50\n",
            "1721/1721 [==============================] - 24s 14ms/step - loss: 0.0044 - mae: 0.0486 - val_loss: 0.0044 - val_mae: 0.0490\n",
            "Epoch 16/50\n",
            "1717/1721 [============================>.] - ETA: 0s - loss: 0.0044 - mae: 0.0485Epoch 00015: val_loss improved from 0.00440 to 0.00433\n",
            "1721/1721 [==============================] - 24s 14ms/step - loss: 0.0044 - mae: 0.0485 - val_loss: 0.0043 - val_mae: 0.0484\n",
            "Epoch 17/50\n",
            "1718/1721 [============================>.] - ETA: 0s - loss: 0.0044 - mae: 0.0484Epoch 00016: val_loss improved from 0.00433 to 0.00427\n",
            "1721/1721 [==============================] - 23s 14ms/step - loss: 0.0044 - mae: 0.0484 - val_loss: 0.0043 - val_mae: 0.0478\n",
            "Epoch 18/50\n",
            "1721/1721 [==============================] - 24s 14ms/step - loss: 0.0043 - mae: 0.0483 - val_loss: 0.0045 - val_mae: 0.0497\n",
            "Epoch 19/50\n",
            "1721/1721 [==============================] - 24s 14ms/step - loss: 0.0043 - mae: 0.0481 - val_loss: 0.0043 - val_mae: 0.0486\n",
            "Epoch 20/50\n",
            "1721/1721 [==============================] - 24s 14ms/step - loss: 0.0043 - mae: 0.0481 - val_loss: 0.0043 - val_mae: 0.0483\n",
            "Epoch 21/50\n",
            "1721/1721 [==============================] - 24s 14ms/step - loss: 0.0043 - mae: 0.0480 - val_loss: 0.0043 - val_mae: 0.0483\n",
            "Epoch 22/50\n",
            "1720/1721 [============================>.] - ETA: 0s - loss: 0.0043 - mae: 0.0479Epoch 00021: val_loss improved from 0.00427 to 0.00421\n",
            "1721/1721 [==============================] - 23s 14ms/step - loss: 0.0043 - mae: 0.0479 - val_loss: 0.0042 - val_mae: 0.0475\n",
            "Epoch 23/50\n",
            "1719/1721 [============================>.] - ETA: 0s - loss: 0.0042 - mae: 0.0478Epoch 00022: val_loss improved from 0.00421 to 0.00419\n",
            "1721/1721 [==============================] - 24s 14ms/step - loss: 0.0042 - mae: 0.0478 - val_loss: 0.0042 - val_mae: 0.0474\n",
            "Epoch 24/50\n",
            "1721/1721 [==============================] - 23s 14ms/step - loss: 0.0042 - mae: 0.0477 - val_loss: 0.0043 - val_mae: 0.0483\n",
            "Epoch 25/50\n",
            "1721/1721 [==============================] - 24s 14ms/step - loss: 0.0042 - mae: 0.0476 - val_loss: 0.0043 - val_mae: 0.0488\n",
            "Epoch 26/50\n",
            "1721/1721 [==============================] - 23s 14ms/step - loss: 0.0042 - mae: 0.0476 - val_loss: 0.0043 - val_mae: 0.0485\n",
            "Epoch 27/50\n",
            "1721/1721 [==============================] - ETA: 0s - loss: 0.0042 - mae: 0.0475Epoch 00026: val_loss improved from 0.00419 to 0.00417\n",
            "1721/1721 [==============================] - 23s 14ms/step - loss: 0.0042 - mae: 0.0475 - val_loss: 0.0042 - val_mae: 0.0473\n",
            "Epoch 28/50\n",
            "1721/1721 [==============================] - 23s 14ms/step - loss: 0.0042 - mae: 0.0475 - val_loss: 0.0043 - val_mae: 0.0482\n",
            "Epoch 29/50\n",
            "1721/1721 [==============================] - 24s 14ms/step - loss: 0.0042 - mae: 0.0474 - val_loss: 0.0042 - val_mae: 0.0476\n",
            "Epoch 30/50\n",
            "1721/1721 [==============================] - 24s 14ms/step - loss: 0.0042 - mae: 0.0474 - val_loss: 0.0044 - val_mae: 0.0496\n",
            "Epoch 31/50\n",
            "1721/1721 [==============================] - ETA: 0s - loss: 0.0042 - mae: 0.0473Epoch 00030: val_loss improved from 0.00417 to 0.00413\n",
            "1721/1721 [==============================] - 24s 14ms/step - loss: 0.0042 - mae: 0.0473 - val_loss: 0.0041 - val_mae: 0.0470\n",
            "Epoch 32/50\n",
            "1721/1721 [==============================] - 23s 14ms/step - loss: 0.0042 - mae: 0.0473 - val_loss: 0.0041 - val_mae: 0.0472\n",
            "Epoch 33/50\n",
            "1717/1721 [============================>.] - ETA: 0s - loss: 0.0042 - mae: 0.0472Epoch 00032: val_loss improved from 0.00413 to 0.00411\n",
            "1721/1721 [==============================] - 24s 14ms/step - loss: 0.0042 - mae: 0.0472 - val_loss: 0.0041 - val_mae: 0.0469\n",
            "Epoch 34/50\n",
            "1721/1721 [==============================] - 23s 14ms/step - loss: 0.0041 - mae: 0.0472 - val_loss: 0.0042 - val_mae: 0.0480\n",
            "Epoch 35/50\n",
            "1721/1721 [==============================] - 23s 14ms/step - loss: 0.0041 - mae: 0.0471 - val_loss: 0.0042 - val_mae: 0.0477\n",
            "Epoch 36/50\n",
            "1721/1721 [==============================] - 23s 14ms/step - loss: 0.0041 - mae: 0.0471 - val_loss: 0.0041 - val_mae: 0.0471\n",
            "Epoch 37/50\n",
            "1721/1721 [==============================] - 23s 14ms/step - loss: 0.0041 - mae: 0.0470 - val_loss: 0.0041 - val_mae: 0.0470\n",
            "Epoch 38/50\n",
            "1721/1721 [==============================] - 23s 14ms/step - loss: 0.0041 - mae: 0.0470 - val_loss: 0.0041 - val_mae: 0.0470\n",
            "Epoch 39/50\n",
            "1719/1721 [============================>.] - ETA: 0s - loss: 0.0041 - mae: 0.0470Epoch 00038: val_loss improved from 0.00411 to 0.00408\n",
            "1721/1721 [==============================] - 23s 14ms/step - loss: 0.0041 - mae: 0.0470 - val_loss: 0.0041 - val_mae: 0.0469\n",
            "Epoch 40/50\n",
            "1721/1721 [==============================] - 23s 14ms/step - loss: 0.0041 - mae: 0.0469 - val_loss: 0.0041 - val_mae: 0.0470\n",
            "Epoch 41/50\n",
            "1721/1721 [==============================] - 24s 14ms/step - loss: 0.0041 - mae: 0.0469 - val_loss: 0.0042 - val_mae: 0.0477\n",
            "Epoch 42/50\n",
            "1720/1721 [============================>.] - ETA: 0s - loss: 0.0041 - mae: 0.0468Epoch 00041: val_loss improved from 0.00408 to 0.00405\n",
            "1721/1721 [==============================] - 23s 14ms/step - loss: 0.0041 - mae: 0.0468 - val_loss: 0.0041 - val_mae: 0.0465\n",
            "Epoch 43/50\n",
            "1721/1721 [==============================] - 23s 14ms/step - loss: 0.0041 - mae: 0.0468 - val_loss: 0.0041 - val_mae: 0.0467\n",
            "Epoch 44/50\n",
            "1721/1721 [==============================] - 24s 14ms/step - loss: 0.0041 - mae: 0.0468 - val_loss: 0.0041 - val_mae: 0.0468\n",
            "Epoch 45/50\n",
            "1721/1721 [==============================] - 23s 14ms/step - loss: 0.0041 - mae: 0.0468 - val_loss: 0.0041 - val_mae: 0.0466\n",
            "Epoch 46/50\n",
            "1721/1721 [==============================] - 24s 14ms/step - loss: 0.0041 - mae: 0.0467 - val_loss: 0.0041 - val_mae: 0.0467\n",
            "Epoch 47/50\n",
            "1721/1721 [==============================] - 24s 14ms/step - loss: 0.0041 - mae: 0.0467 - val_loss: 0.0041 - val_mae: 0.0467\n",
            "Epoch 48/50\n",
            "1721/1721 [==============================] - 24s 14ms/step - loss: 0.0041 - mae: 0.0467 - val_loss: 0.0041 - val_mae: 0.0469\n",
            "Epoch 49/50\n",
            "1721/1721 [==============================] - 23s 14ms/step - loss: 0.0041 - mae: 0.0467 - val_loss: 0.0041 - val_mae: 0.0468\n",
            "Epoch 50/50\n",
            "1718/1721 [============================>.] - ETA: 0s - loss: 0.0041 - mae: 0.0466Epoch 00049: val_loss improved from 0.00405 to 0.00403\n",
            "1721/1721 [==============================] - 23s 14ms/step - loss: 0.0041 - mae: 0.0466 - val_loss: 0.0040 - val_mae: 0.0465\n"
          ]
        }
      ],
      "source": [
        "# fit autoencoder\n",
        "history = autoencoder.fit(X_train, X_train, validation_data=(X_val, X_val), epochs=50, verbose=1, callbacks=callbacks)"
      ]
    },
    {
      "cell_type": "code",
      "execution_count": null,
      "metadata": {
        "colab": {
          "base_uri": "https://localhost:8080/",
          "height": 313,
          "referenced_widgets": [
            "a6d0d106f38841978be549607c211218",
            "be80920f5a254e1eb492ec698b9727e4",
            "f17860f3f23e484e8f1cb403210ddcec",
            "10c694d8626241088e81a1032a4ffc07",
            "59ffa2af8f6244958d3fa639253e85e7",
            "4d65eda6cb1e4d68820f792e75b79857",
            "d9a77a785dab4ad7a34fa7eca55ad7be",
            "64cb050ad5bc45628bc04f7a26e418b2"
          ]
        },
        "id": "u6An-D0HGUbl",
        "outputId": "fb9057d1-c4f8-491b-8e0a-eaa7865fbbd7"
      },
      "outputs": [
        {
          "output_type": "display_data",
          "data": {
            "text/plain": [
              "VBox(children=(Label(value='0.003 MB of 0.003 MB uploaded\\r'), FloatProgress(value=1.0, max=1.0)))"
            ],
            "application/vnd.jupyter.widget-view+json": {
              "version_major": 2,
              "version_minor": 0,
              "model_id": "a6d0d106f38841978be549607c211218"
            }
          },
          "metadata": {}
        },
        {
          "output_type": "display_data",
          "data": {
            "text/plain": [
              "<IPython.core.display.HTML object>"
            ],
            "text/html": [
              "<style>\n",
              "    table.wandb td:nth-child(1) { padding: 0 10px; text-align: left ; width: auto;} td:nth-child(2) {text-align: left ; width: 100%}\n",
              "    .wandb-row { display: flex; flex-direction: row; flex-wrap: wrap; justify-content: flex-start; width: 100% }\n",
              "    .wandb-col { display: flex; flex-direction: column; flex-basis: 100%; flex: 1; padding: 10px; }\n",
              "    </style>\n",
              "<div class=\"wandb-row\"><div class=\"wandb-col\"><h3>Run history:</h3><br/><table class=\"wandb\"><tr><td>epoch</td><td>▁▁▁▁▂▂▂▂▂▃▃▃▃▃▃▄▄▄▄▄▅▅▅▅▅▅▆▆▆▆▆▆▇▇▇▇▇███</td></tr><tr><td>loss</td><td>█▃▃▂▂▂▂▁▁▁▁▁▁▁▁▁▁▁▁▁▁▁▁▁▁▁▁▁▁▁▁▁▁▁▁▁▁▁▁▁</td></tr><tr><td>mae</td><td>█▄▃▃▂▂▂▂▂▁▁▁▁▁▁▁▁▁▁▁▁▁▁▁▁▁▁▁▁▁▁▁▁▁▁▁▁▁▁▁</td></tr><tr><td>val_loss</td><td>█▇▄▃▃▂▂▂▂▂▂▂▂▁▂▂▁▁▁▁▂▁▁▁▁▁▁▁▁▁▁▁▁▁▁▁▁▁▁▁</td></tr><tr><td>val_mae</td><td>█▇▄▄▄▂▂▂▂▂▂▂▂▁▂▂▂▁▁▂▂▁▂▁▁▁▁▂▁▁▁▁▁▁▁▁▁▁▁▁</td></tr></table><br/></div><div class=\"wandb-col\"><h3>Run summary:</h3><br/><table class=\"wandb\"><tr><td>best_epoch</td><td>49</td></tr><tr><td>best_val_loss</td><td>0.00403</td></tr><tr><td>epoch</td><td>49</td></tr><tr><td>loss</td><td>0.00406</td></tr><tr><td>mae</td><td>0.04664</td></tr><tr><td>val_loss</td><td>0.00403</td></tr><tr><td>val_mae</td><td>0.04647</td></tr></table><br/></div></div>"
            ]
          },
          "metadata": {}
        },
        {
          "output_type": "display_data",
          "data": {
            "text/plain": [
              "<IPython.core.display.HTML object>"
            ],
            "text/html": [
              " View run <strong style=\"color:#cdcd00\">AE_9_save_decoder</strong> at: <a href='https://wandb.ai/coffeegang/Autoencoder/runs/0hhi5wk7' target=\"_blank\">https://wandb.ai/coffeegang/Autoencoder/runs/0hhi5wk7</a><br/>Synced 5 W&B file(s), 1 media file(s), 0 artifact file(s) and 0 other file(s)"
            ]
          },
          "metadata": {}
        },
        {
          "output_type": "display_data",
          "data": {
            "text/plain": [
              "<IPython.core.display.HTML object>"
            ],
            "text/html": [
              "Find logs at: <code>./wandb/run-20240129_075143-0hhi5wk7/logs</code>"
            ]
          },
          "metadata": {}
        }
      ],
      "source": [
        "wandb.finish()"
      ]
    },
    {
      "cell_type": "code",
      "execution_count": null,
      "metadata": {
        "id": "_NeUm_RsG3Ex"
      },
      "outputs": [],
      "source": [
        "# save weights from the decoder - must be used for reconstruction of images as preprocessing during classification\n",
        "decoder.save_weights('decoder_weights.h5')"
      ]
    },
    {
      "cell_type": "code",
      "source": [
        "autoencoder.save('AE_9')"
      ],
      "metadata": {
        "id": "Q3zvX85CQx-o"
      },
      "execution_count": null,
      "outputs": []
    },
    {
      "cell_type": "code",
      "execution_count": null,
      "metadata": {
        "colab": {
          "base_uri": "https://localhost:8080/"
        },
        "id": "RqwUn6qXGymh",
        "outputId": "0c4521a7-6b4a-43cf-df65-7998b26f1cbc"
      },
      "outputs": [
        {
          "output_type": "stream",
          "name": "stdout",
          "text": [
            "1/1 [==============================] - 0s 432ms/step\n",
            "(16, 96, 96, 3)\n"
          ]
        }
      ],
      "source": [
        "# reconstruct the first image in the validation dataset to visualize reconstructed images\n",
        "reconstructed_img = autoencoder.predict(X_val[:16])\n",
        "print(reconstructed_img.shape)"
      ]
    },
    {
      "cell_type": "code",
      "execution_count": null,
      "metadata": {
        "colab": {
          "base_uri": "https://localhost:8080/",
          "height": 688
        },
        "id": "4-AvNDpipjVe",
        "outputId": "3e39e095-04f7-4fe7-bff3-429fe7afcbbb"
      },
      "outputs": [],
      "source": [
        "# Create a 2x8 subplot grid\n",
        "fig, axs = plt.subplots(2, 8, figsize=(16, 4))\n",
        "\n",
        "for i in range(16):\n",
        "    # Calculate the row and column indices\n",
        "    row = i // 8\n",
        "    col = i % 8\n",
        "\n",
        "    # Display the image in the corresponding subplot\n",
        "    axs[row, col].imshow(reconstructed_img[i][:, :, :])\n",
        "    axs[row, col].axis('off')\n",
        "\n",
        "plt.tight_layout()\n",
        "plt.show()\n",
        "\n",
        "fig, axs = plt.subplots(2, 8, figsize=(16, 4))\n",
        "minival = X_val[:16]\n",
        "\n",
        "for i in range(16):\n",
        "    row = i // 8\n",
        "    col = i % 8\n",
        "\n",
        "    axs[row, col].imshow(minival[i])\n",
        "    axs[row, col].axis('off')\n",
        "\n",
        "plt.tight_layout()\n",
        "plt.show()"
      ]
    },
    {
      "cell_type": "code",
      "execution_count": null,
      "metadata": {
        "colab": {
          "base_uri": "https://localhost:8080/"
        },
        "id": "my685RqR0cTG",
        "outputId": "16756dff-5248-4b01-8ecf-682b54135120"
      },
      "outputs": [
        {
          "output_type": "stream",
          "name": "stdout",
          "text": [
            "492/492 [==============================] - 1s 2ms/step\n"
          ]
        }
      ],
      "source": [
        "# predict latent space\n",
        "latent_X_val = encoder.predict(X_val)\n",
        "np.save('eksamen/AE9_latent_X_val.npy', latent_X_val)"
      ]
    },
    {
      "cell_type": "code",
      "execution_count": null,
      "metadata": {
        "colab": {
          "base_uri": "https://localhost:8080/"
        },
        "id": "PZZHJPgkBZrg",
        "outputId": "0b368926-d775-4252-cb7c-db5d648b5471"
      },
      "outputs": [
        {
          "output_type": "stream",
          "name": "stdout",
          "text": [
            "(15729, 12, 12, 32)\n"
          ]
        }
      ],
      "source": [
        "print(latent_X_val.shape)"
      ]
    },
    {
      "cell_type": "code",
      "execution_count": null,
      "metadata": {
        "colab": {
          "base_uri": "https://localhost:8080/"
        },
        "id": "C11LMRpCEN1z",
        "outputId": "3a675944-ddca-4281-e6fc-3c6bad36aca0"
      },
      "outputs": [
        {
          "output_type": "stream",
          "name": "stdout",
          "text": [
            "1721/1721 [==============================] - 4s 2ms/step\n"
          ]
        }
      ],
      "source": [
        "# predict latent space\n",
        "latent_X_train = encoder.predict(X_train)\n",
        "np.save('eksamen/AE9_latent_X_train.npy', latent_X_train)"
      ]
    },
    {
      "cell_type": "code",
      "execution_count": null,
      "metadata": {
        "colab": {
          "base_uri": "https://localhost:8080/"
        },
        "id": "MVywgDBxHadO",
        "outputId": "e5811f93-1b0c-4182-ecca-1f1ad557b4d2"
      },
      "outputs": [
        {
          "output_type": "stream",
          "name": "stdout",
          "text": [
            "(55050, 12, 12, 32)\n"
          ]
        }
      ],
      "source": [
        "print(latent_X_train.shape)"
      ]
    },
    {
      "cell_type": "code",
      "execution_count": null,
      "metadata": {
        "id": "3ssC39hjHhWp"
      },
      "outputs": [],
      "source": [
        "X_test = np.load('eksamen/dataset/X_test_new.npy')"
      ]
    },
    {
      "cell_type": "code",
      "execution_count": null,
      "metadata": {
        "colab": {
          "base_uri": "https://localhost:8080/"
        },
        "id": "U5a_skgtI6FH",
        "outputId": "79b69ddc-69ef-432a-b09f-a4774e7a4429"
      },
      "outputs": [
        {
          "output_type": "stream",
          "name": "stdout",
          "text": [
            "(7864, 96, 96, 3)\n"
          ]
        }
      ],
      "source": [
        "print(X_test.shape)"
      ]
    },
    {
      "cell_type": "code",
      "execution_count": null,
      "metadata": {
        "colab": {
          "base_uri": "https://localhost:8080/"
        },
        "id": "yldmfUdxISbp",
        "outputId": "4e126e6b-b76a-4a3d-b0a8-d78875de0acd"
      },
      "outputs": [
        {
          "output_type": "stream",
          "name": "stdout",
          "text": [
            "246/246 [==============================] - 1s 3ms/step\n"
          ]
        }
      ],
      "source": [
        "# predict latent space\n",
        "latent_X_test = encoder.predict(X_test)\n",
        "np.save('eksamen/AE9_latent_X_test.npy', latent_X_test)"
      ]
    },
    {
      "cell_type": "code",
      "execution_count": null,
      "metadata": {
        "colab": {
          "base_uri": "https://localhost:8080/"
        },
        "id": "5ooFTpFYJAur",
        "outputId": "451e00f9-48c0-450b-dc8f-20f3b99672ff"
      },
      "outputs": [
        {
          "output_type": "stream",
          "name": "stdout",
          "text": [
            "(7864, 12, 12, 32)\n"
          ]
        }
      ],
      "source": [
        "print(latent_X_test.shape)"
      ]
    },
    {
      "cell_type": "markdown",
      "source": [
        "## Calculate MSE and PSNR"
      ],
      "metadata": {
        "id": "0VKWBjQbRN1O"
      }
    },
    {
      "cell_type": "code",
      "source": [
        "AE9 = tf.keras.models.load_model('AE_9')"
      ],
      "metadata": {
        "id": "BWd0i2urQ1vY"
      },
      "execution_count": null,
      "outputs": []
    },
    {
      "cell_type": "code",
      "source": [
        "# reconstruct the images using the test dataset\n",
        "reconstructed_AE9 = AE9.predict(X_test)"
      ],
      "metadata": {
        "colab": {
          "base_uri": "https://localhost:8080/"
        },
        "id": "qbJK_wsDQ9Hf",
        "outputId": "2ea5e923-ac47-4f8b-9a8b-d52056d28ac1"
      },
      "execution_count": null,
      "outputs": [
        {
          "output_type": "stream",
          "name": "stdout",
          "text": [
            "246/246 [==============================] - 4s 6ms/step\n"
          ]
        }
      ]
    },
    {
      "cell_type": "code",
      "source": [
        "# find mean squared error between the original images and the images in the test set\n",
        "def mse_reconstruction(reconstructed):\n",
        "  mse_reconstruction = np.mean(np.square(reconstructed - X_test))\n",
        "  return mse_reconstruction"
      ],
      "metadata": {
        "id": "qJzuA80YRBij"
      },
      "execution_count": null,
      "outputs": []
    },
    {
      "cell_type": "code",
      "source": [
        "# Peak signal to noise ratio\n",
        "from math import log10\n",
        "def PSNR(original, reconstructed):\n",
        "  PSNR_list = []\n",
        "  # set max to 1 (the highes intensity for a pixel), calculate Mean Square Error and Peak signal-to-noise-ratio\n",
        "  MAX = 1\n",
        "  MSE = np.mean((original.astype('float') - reconstructed.astype('float'))**2)\n",
        "  PSNR = 20 * log10(MAX/(MSE**0.5))\n",
        "\n",
        "  return PSNR"
      ],
      "metadata": {
        "id": "XE2_XFhvREen"
      },
      "execution_count": null,
      "outputs": []
    },
    {
      "cell_type": "code",
      "source": [
        "# Find mean and standard deviation for the metrics Peak signal to noise (PSNR) and mean squared error (MSE)\n",
        "def PSNR_MSE(reconstructed):\n",
        "\n",
        "  PSNR_list = []\n",
        "  for ori, recon in zip(X_test, reconstructed):\n",
        "    PSNR_value = PSNR(ori, recon)\n",
        "    PSNR_list.append(PSNR_value)\n",
        "\n",
        "  plt.hist(PSNR_list, bins=30, edgecolor='black')\n",
        "  plt.show\n",
        "\n",
        "  PSNR_mean = np.mean(PSNR_list)\n",
        "  PSNR_std = np.std(PSNR_list)\n",
        "\n",
        "  mse = mse_reconstruction(reconstructed)\n",
        "\n",
        "  return PSNR_mean, PSNR_std, mse"
      ],
      "metadata": {
        "id": "QVjmtweWRH0R"
      },
      "execution_count": null,
      "outputs": []
    },
    {
      "cell_type": "code",
      "source": [
        "PSNR_MSE(reconstructed_AE9)"
      ],
      "metadata": {
        "colab": {
          "base_uri": "https://localhost:8080/",
          "height": 447
        },
        "id": "5s_pIDbyRJ2A",
        "outputId": "7510f291-67a3-4284-b5c3-59e4e997d01f"
      },
      "execution_count": null,
      "outputs": [
        {
          "output_type": "execute_result",
          "data": {
            "text/plain": [
              "(24.624494608533073, 2.907603015150458, 0.004010719)"
            ]
          },
          "metadata": {},
          "execution_count": 11
        },
        {
          "output_type": "display_data",
          "data": {
            "text/plain": [
              "<Figure size 640x480 with 1 Axes>"
            ],
            "image/png": "[encoded data removed]"
          },
          "metadata": {}
        }
      ]
    }
  ],
  "metadata": {
    "accelerator": "GPU",
    "colab": {
      "machine_shape": "hm",
      "provenance": [],
      "gpuType": "A100",
      "include_colab_link": true
    },
    "kernelspec": {
      "display_name": "Python 3",
      "name": "python3"
    },
    "language_info": {
      "name": "python"
    },
    "widgets": {
      "application/vnd.jupyter.widget-state+json": {
        "a6d0d106f38841978be549607c211218": {
          "model_module": "@jupyter-widgets/controls",
          "model_name": "VBoxModel",
          "model_module_version": "1.5.0",
          "state": {
            "_dom_classes": [],
            "_model_module": "@jupyter-widgets/controls",
            "_model_module_version": "1.5.0",
            "_model_name": "VBoxModel",
            "_view_count": null,
            "_view_module": "@jupyter-widgets/controls",
            "_view_module_version": "1.5.0",
            "_view_name": "VBoxView",
            "box_style": "",
            "children": [
              "IPY_MODEL_be80920f5a254e1eb492ec698b9727e4",
              "IPY_MODEL_f17860f3f23e484e8f1cb403210ddcec"
            ],
            "layout": "IPY_MODEL_10c694d8626241088e81a1032a4ffc07"
          }
        },
        "be80920f5a254e1eb492ec698b9727e4": {
          "model_module": "@jupyter-widgets/controls",
          "model_name": "LabelModel",
          "model_module_version": "1.5.0",
          "state": {
            "_dom_classes": [],
            "_model_module": "@jupyter-widgets/controls",
            "_model_module_version": "1.5.0",
            "_model_name": "LabelModel",
            "_view_count": null,
            "_view_module": "@jupyter-widgets/controls",
            "_view_module_version": "1.5.0",
            "_view_name": "LabelView",
            "description": "",
            "description_tooltip": null,
            "layout": "IPY_MODEL_59ffa2af8f6244958d3fa639253e85e7",
            "placeholder": "​",
            "style": "IPY_MODEL_4d65eda6cb1e4d68820f792e75b79857",
            "value": "0.063 MB of 0.063 MB uploaded\r"
          }
        },
        "f17860f3f23e484e8f1cb403210ddcec": {
          "model_module": "@jupyter-widgets/controls",
          "model_name": "FloatProgressModel",
          "model_module_version": "1.5.0",
          "state": {
            "_dom_classes": [],
            "_model_module": "@jupyter-widgets/controls",
            "_model_module_version": "1.5.0",
            "_model_name": "FloatProgressModel",
            "_view_count": null,
            "_view_module": "@jupyter-widgets/controls",
            "_view_module_version": "1.5.0",
            "_view_name": "ProgressView",
            "bar_style": "",
            "description": "",
            "description_tooltip": null,
            "layout": "IPY_MODEL_d9a77a785dab4ad7a34fa7eca55ad7be",
            "max": 1,
            "min": 0,
            "orientation": "horizontal",
            "style": "IPY_MODEL_64cb050ad5bc45628bc04f7a26e418b2",
            "value": 1
          }
        },
        "10c694d8626241088e81a1032a4ffc07": {
          "model_module": "@jupyter-widgets/base",
          "model_name": "LayoutModel",
          "model_module_version": "1.2.0",
          "state": {
            "_model_module": "@jupyter-widgets/base",
            "_model_module_version": "1.2.0",
            "_model_name": "LayoutModel",
            "_view_count": null,
            "_view_module": "@jupyter-widgets/base",
            "_view_module_version": "1.2.0",
            "_view_name": "LayoutView",
            "align_content": null,
            "align_items": null,
            "align_self": null,
            "border": null,
            "bottom": null,
            "display": null,
            "flex": null,
            "flex_flow": null,
            "grid_area": null,
            "grid_auto_columns": null,
            "grid_auto_flow": null,
            "grid_auto_rows": null,
            "grid_column": null,
            "grid_gap": null,
            "grid_row": null,
            "grid_template_areas": null,
            "grid_template_columns": null,
            "grid_template_rows": null,
            "height": null,
            "justify_content": null,
            "justify_items": null,
            "left": null,
            "margin": null,
            "max_height": null,
            "max_width": null,
            "min_height": null,
            "min_width": null,
            "object_fit": null,
            "object_position": null,
            "order": null,
            "overflow": null,
            "overflow_x": null,
            "overflow_y": null,
            "padding": null,
            "right": null,
            "top": null,
            "visibility": null,
            "width": null
          }
        },
        "59ffa2af8f6244958d3fa639253e85e7": {
          "model_module": "@jupyter-widgets/base",
          "model_name": "LayoutModel",
          "model_module_version": "1.2.0",
          "state": {
            "_model_module": "@jupyter-widgets/base",
            "_model_module_version": "1.2.0",
            "_model_name": "LayoutModel",
            "_view_count": null,
            "_view_module": "@jupyter-widgets/base",
            "_view_module_version": "1.2.0",
            "_view_name": "LayoutView",
            "align_content": null,
            "align_items": null,
            "align_self": null,
            "border": null,
            "bottom": null,
            "display": null,
            "flex": null,
            "flex_flow": null,
            "grid_area": null,
            "grid_auto_columns": null,
            "grid_auto_flow": null,
            "grid_auto_rows": null,
            "grid_column": null,
            "grid_gap": null,
            "grid_row": null,
            "grid_template_areas": null,
            "grid_template_columns": null,
            "grid_template_rows": null,
            "height": null,
            "justify_content": null,
            "justify_items": null,
            "left": null,
            "margin": null,
            "max_height": null,
            "max_width": null,
            "min_height": null,
            "min_width": null,
            "object_fit": null,
            "object_position": null,
            "order": null,
            "overflow": null,
            "overflow_x": null,
            "overflow_y": null,
            "padding": null,
            "right": null,
            "top": null,
            "visibility": null,
            "width": null
          }
        },
        "4d65eda6cb1e4d68820f792e75b79857": {
          "model_module": "@jupyter-widgets/controls",
          "model_name": "DescriptionStyleModel",
          "model_module_version": "1.5.0",
          "state": {
            "_model_module": "@jupyter-widgets/controls",
            "_model_module_version": "1.5.0",
            "_model_name": "DescriptionStyleModel",
            "_view_count": null,
            "_view_module": "@jupyter-widgets/base",
            "_view_module_version": "1.2.0",
            "_view_name": "StyleView",
            "description_width": ""
          }
        },
        "d9a77a785dab4ad7a34fa7eca55ad7be": {
          "model_module": "@jupyter-widgets/base",
          "model_name": "LayoutModel",
          "model_module_version": "1.2.0",
          "state": {
            "_model_module": "@jupyter-widgets/base",
            "_model_module_version": "1.2.0",
            "_model_name": "LayoutModel",
            "_view_count": null,
            "_view_module": "@jupyter-widgets/base",
            "_view_module_version": "1.2.0",
            "_view_name": "LayoutView",
            "align_content": null,
            "align_items": null,
            "align_self": null,
            "border": null,
            "bottom": null,
            "display": null,
            "flex": null,
            "flex_flow": null,
            "grid_area": null,
            "grid_auto_columns": null,
            "grid_auto_flow": null,
            "grid_auto_rows": null,
            "grid_column": null,
            "grid_gap": null,
            "grid_row": null,
            "grid_template_areas": null,
            "grid_template_columns": null,
            "grid_template_rows": null,
            "height": null,
            "justify_content": null,
            "justify_items": null,
            "left": null,
            "margin": null,
            "max_height": null,
            "max_width": null,
            "min_height": null,
            "min_width": null,
            "object_fit": null,
            "object_position": null,
            "order": null,
            "overflow": null,
            "overflow_x": null,
            "overflow_y": null,
            "padding": null,
            "right": null,
            "top": null,
            "visibility": null,
            "width": null
          }
        },
        "64cb050ad5bc45628bc04f7a26e418b2": {
          "model_module": "@jupyter-widgets/controls",
          "model_name": "ProgressStyleModel",
          "model_module_version": "1.5.0",
          "state": {
            "_model_module": "@jupyter-widgets/controls",
            "_model_module_version": "1.5.0",
            "_model_name": "ProgressStyleModel",
            "_view_count": null,
            "_view_module": "@jupyter-widgets/base",
            "_view_module_version": "1.2.0",
            "_view_name": "StyleView",
            "bar_color": null,
            "description_width": ""
          }
        }
      }
    }
  },
  "nbformat": 4,
  "nbformat_minor": 0
}