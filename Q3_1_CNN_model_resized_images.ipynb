{
  "nbformat": 4,
  "nbformat_minor": 0,
  "metadata": {
    "colab": {
      "provenance": [],
      "machine_shape": "hm",
      "gpuType": "T4",
      "authorship_tag": "ABX9TyNTJmbhZzmXdpP7o8mWUdwy",
      "include_colab_link": true
    },
    "kernelspec": {
      "name": "python3",
      "display_name": "Python 3"
    },
    "language_info": {
      "name": "python"
    },
    "accelerator": "GPU",
    "widgets": {
      "application/vnd.jupyter.widget-state+json": {
        "3638b984c5524bccb6d04100e8ad5703": {
          "model_module": "@jupyter-widgets/controls",
          "model_name": "VBoxModel",
          "model_module_version": "1.5.0",
          "state": {
            "_dom_classes": [],
            "_model_module": "@jupyter-widgets/controls",
            "_model_module_version": "1.5.0",
            "_model_name": "VBoxModel",
            "_view_count": null,
            "_view_module": "@jupyter-widgets/controls",
            "_view_module_version": "1.5.0",
            "_view_name": "VBoxView",
            "box_style": "",
            "children": [
              "IPY_MODEL_cfeb36b6ca364556af2d4b688d4020c9",
              "IPY_MODEL_285d71705ce94f58924638cc2a2f3b9a"
            ],
            "layout": "IPY_MODEL_45bb444fc0bc420c9306e8e146ecc837"
          }
        },
        "cfeb36b6ca364556af2d4b688d4020c9": {
          "model_module": "@jupyter-widgets/controls",
          "model_name": "LabelModel",
          "model_module_version": "1.5.0",
          "state": {
            "_dom_classes": [],
            "_model_module": "@jupyter-widgets/controls",
            "_model_module_version": "1.5.0",
            "_model_name": "LabelModel",
            "_view_count": null,
            "_view_module": "@jupyter-widgets/controls",
            "_view_module_version": "1.5.0",
            "_view_name": "LabelView",
            "description": "",
            "description_tooltip": null,
            "layout": "IPY_MODEL_d5b71ff2a63b4804b8be4410e3959a81",
            "placeholder": "​",
            "style": "IPY_MODEL_1db59e01ed684516bbb4d0cb368170dd",
            "value": "0.018 MB of 0.018 MB uploaded\r"
          }
        },
        "285d71705ce94f58924638cc2a2f3b9a": {
          "model_module": "@jupyter-widgets/controls",
          "model_name": "FloatProgressModel",
          "model_module_version": "1.5.0",
          "state": {
            "_dom_classes": [],
            "_model_module": "@jupyter-widgets/controls",
            "_model_module_version": "1.5.0",
            "_model_name": "FloatProgressModel",
            "_view_count": null,
            "_view_module": "@jupyter-widgets/controls",
            "_view_module_version": "1.5.0",
            "_view_name": "ProgressView",
            "bar_style": "",
            "description": "",
            "description_tooltip": null,
            "layout": "IPY_MODEL_da92aafc65a1464dae5144007ffad5f6",
            "max": 1,
            "min": 0,
            "orientation": "horizontal",
            "style": "IPY_MODEL_4c29b10c8f3c47bab26474f9af41630a",
            "value": 1
          }
        },
        "45bb444fc0bc420c9306e8e146ecc837": {
          "model_module": "@jupyter-widgets/base",
          "model_name": "LayoutModel",
          "model_module_version": "1.2.0",
          "state": {
            "_model_module": "@jupyter-widgets/base",
            "_model_module_version": "1.2.0",
            "_model_name": "LayoutModel",
            "_view_count": null,
            "_view_module": "@jupyter-widgets/base",
            "_view_module_version": "1.2.0",
            "_view_name": "LayoutView",
            "align_content": null,
            "align_items": null,
            "align_self": null,
            "border": null,
            "bottom": null,
            "display": null,
            "flex": null,
            "flex_flow": null,
            "grid_area": null,
            "grid_auto_columns": null,
            "grid_auto_flow": null,
            "grid_auto_rows": null,
            "grid_column": null,
            "grid_gap": null,
            "grid_row": null,
            "grid_template_areas": null,
            "grid_template_columns": null,
            "grid_template_rows": null,
            "height": null,
            "justify_content": null,
            "justify_items": null,
            "left": null,
            "margin": null,
            "max_height": null,
            "max_width": null,
            "min_height": null,
            "min_width": null,
            "object_fit": null,
            "object_position": null,
            "order": null,
            "overflow": null,
            "overflow_x": null,
            "overflow_y": null,
            "padding": null,
            "right": null,
            "top": null,
            "visibility": null,
            "width": null
          }
        },
        "d5b71ff2a63b4804b8be4410e3959a81": {
          "model_module": "@jupyter-widgets/base",
          "model_name": "LayoutModel",
          "model_module_version": "1.2.0",
          "state": {
            "_model_module": "@jupyter-widgets/base",
            "_model_module_version": "1.2.0",
            "_model_name": "LayoutModel",
            "_view_count": null,
            "_view_module": "@jupyter-widgets/base",
            "_view_module_version": "1.2.0",
            "_view_name": "LayoutView",
            "align_content": null,
            "align_items": null,
            "align_self": null,
            "border": null,
            "bottom": null,
            "display": null,
            "flex": null,
            "flex_flow": null,
            "grid_area": null,
            "grid_auto_columns": null,
            "grid_auto_flow": null,
            "grid_auto_rows": null,
            "grid_column": null,
            "grid_gap": null,
            "grid_row": null,
            "grid_template_areas": null,
            "grid_template_columns": null,
            "grid_template_rows": null,
            "height": null,
            "justify_content": null,
            "justify_items": null,
            "left": null,
            "margin": null,
            "max_height": null,
            "max_width": null,
            "min_height": null,
            "min_width": null,
            "object_fit": null,
            "object_position": null,
            "order": null,
            "overflow": null,
            "overflow_x": null,
            "overflow_y": null,
            "padding": null,
            "right": null,
            "top": null,
            "visibility": null,
            "width": null
          }
        },
        "1db59e01ed684516bbb4d0cb368170dd": {
          "model_module": "@jupyter-widgets/controls",
          "model_name": "DescriptionStyleModel",
          "model_module_version": "1.5.0",
          "state": {
            "_model_module": "@jupyter-widgets/controls",
            "_model_module_version": "1.5.0",
            "_model_name": "DescriptionStyleModel",
            "_view_count": null,
            "_view_module": "@jupyter-widgets/base",
            "_view_module_version": "1.2.0",
            "_view_name": "StyleView",
            "description_width": ""
          }
        },
        "da92aafc65a1464dae5144007ffad5f6": {
          "model_module": "@jupyter-widgets/base",
          "model_name": "LayoutModel",
          "model_module_version": "1.2.0",
          "state": {
            "_model_module": "@jupyter-widgets/base",
            "_model_module_version": "1.2.0",
            "_model_name": "LayoutModel",
            "_view_count": null,
            "_view_module": "@jupyter-widgets/base",
            "_view_module_version": "1.2.0",
            "_view_name": "LayoutView",
            "align_content": null,
            "align_items": null,
            "align_self": null,
            "border": null,
            "bottom": null,
            "display": null,
            "flex": null,
            "flex_flow": null,
            "grid_area": null,
            "grid_auto_columns": null,
            "grid_auto_flow": null,
            "grid_auto_rows": null,
            "grid_column": null,
            "grid_gap": null,
            "grid_row": null,
            "grid_template_areas": null,
            "grid_template_columns": null,
            "grid_template_rows": null,
            "height": null,
            "justify_content": null,
            "justify_items": null,
            "left": null,
            "margin": null,
            "max_height": null,
            "max_width": null,
            "min_height": null,
            "min_width": null,
            "object_fit": null,
            "object_position": null,
            "order": null,
            "overflow": null,
            "overflow_x": null,
            "overflow_y": null,
            "padding": null,
            "right": null,
            "top": null,
            "visibility": null,
            "width": null
          }
        },
        "4c29b10c8f3c47bab26474f9af41630a": {
          "model_module": "@jupyter-widgets/controls",
          "model_name": "ProgressStyleModel",
          "model_module_version": "1.5.0",
          "state": {
            "_model_module": "@jupyter-widgets/controls",
            "_model_module_version": "1.5.0",
            "_model_name": "ProgressStyleModel",
            "_view_count": null,
            "_view_module": "@jupyter-widgets/base",
            "_view_module_version": "1.2.0",
            "_view_name": "StyleView",
            "bar_color": null,
            "description_width": ""
          }
        },
        "721d55d1d5cb45a3b2ccf7e0031d5ffd": {
          "model_module": "@jupyter-widgets/controls",
          "model_name": "VBoxModel",
          "model_module_version": "1.5.0",
          "state": {
            "_dom_classes": [],
            "_model_module": "@jupyter-widgets/controls",
            "_model_module_version": "1.5.0",
            "_model_name": "VBoxModel",
            "_view_count": null,
            "_view_module": "@jupyter-widgets/controls",
            "_view_module_version": "1.5.0",
            "_view_name": "VBoxView",
            "box_style": "",
            "children": [
              "IPY_MODEL_084f3080f701455f8e61cc1b7126e435",
              "IPY_MODEL_9c59b26f4c424d098c35a398f6135a2b"
            ],
            "layout": "IPY_MODEL_92de9f9574534273ac26977da904999f"
          }
        },
        "084f3080f701455f8e61cc1b7126e435": {
          "model_module": "@jupyter-widgets/controls",
          "model_name": "LabelModel",
          "model_module_version": "1.5.0",
          "state": {
            "_dom_classes": [],
            "_model_module": "@jupyter-widgets/controls",
            "_model_module_version": "1.5.0",
            "_model_name": "LabelModel",
            "_view_count": null,
            "_view_module": "@jupyter-widgets/controls",
            "_view_module_version": "1.5.0",
            "_view_name": "LabelView",
            "description": "",
            "description_tooltip": null,
            "layout": "IPY_MODEL_768b5e83c30547a58a20a2d3f24b6ea7",
            "placeholder": "​",
            "style": "IPY_MODEL_7b93cd4c70e1432f88af39cba582b978",
            "value": "0.018 MB of 0.018 MB uploaded\r"
          }
        },
        "9c59b26f4c424d098c35a398f6135a2b": {
          "model_module": "@jupyter-widgets/controls",
          "model_name": "FloatProgressModel",
          "model_module_version": "1.5.0",
          "state": {
            "_dom_classes": [],
            "_model_module": "@jupyter-widgets/controls",
            "_model_module_version": "1.5.0",
            "_model_name": "FloatProgressModel",
            "_view_count": null,
            "_view_module": "@jupyter-widgets/controls",
            "_view_module_version": "1.5.0",
            "_view_name": "ProgressView",
            "bar_style": "",
            "description": "",
            "description_tooltip": null,
            "layout": "IPY_MODEL_c3bfa8c9b0164b14822aa6a1d493df82",
            "max": 1,
            "min": 0,
            "orientation": "horizontal",
            "style": "IPY_MODEL_5f252c3974724e9eafe133d130864755",
            "value": 1
          }
        },
        "92de9f9574534273ac26977da904999f": {
          "model_module": "@jupyter-widgets/base",
          "model_name": "LayoutModel",
          "model_module_version": "1.2.0",
          "state": {
            "_model_module": "@jupyter-widgets/base",
            "_model_module_version": "1.2.0",
            "_model_name": "LayoutModel",
            "_view_count": null,
            "_view_module": "@jupyter-widgets/base",
            "_view_module_version": "1.2.0",
            "_view_name": "LayoutView",
            "align_content": null,
            "align_items": null,
            "align_self": null,
            "border": null,
            "bottom": null,
            "display": null,
            "flex": null,
            "flex_flow": null,
            "grid_area": null,
            "grid_auto_columns": null,
            "grid_auto_flow": null,
            "grid_auto_rows": null,
            "grid_column": null,
            "grid_gap": null,
            "grid_row": null,
            "grid_template_areas": null,
            "grid_template_columns": null,
            "grid_template_rows": null,
            "height": null,
            "justify_content": null,
            "justify_items": null,
            "left": null,
            "margin": null,
            "max_height": null,
            "max_width": null,
            "min_height": null,
            "min_width": null,
            "object_fit": null,
            "object_position": null,
            "order": null,
            "overflow": null,
            "overflow_x": null,
            "overflow_y": null,
            "padding": null,
            "right": null,
            "top": null,
            "visibility": null,
            "width": null
          }
        },
        "768b5e83c30547a58a20a2d3f24b6ea7": {
          "model_module": "@jupyter-widgets/base",
          "model_name": "LayoutModel",
          "model_module_version": "1.2.0",
          "state": {
            "_model_module": "@jupyter-widgets/base",
            "_model_module_version": "1.2.0",
            "_model_name": "LayoutModel",
            "_view_count": null,
            "_view_module": "@jupyter-widgets/base",
            "_view_module_version": "1.2.0",
            "_view_name": "LayoutView",
            "align_content": null,
            "align_items": null,
            "align_self": null,
            "border": null,
            "bottom": null,
            "display": null,
            "flex": null,
            "flex_flow": null,
            "grid_area": null,
            "grid_auto_columns": null,
            "grid_auto_flow": null,
            "grid_auto_rows": null,
            "grid_column": null,
            "grid_gap": null,
            "grid_row": null,
            "grid_template_areas": null,
            "grid_template_columns": null,
            "grid_template_rows": null,
            "height": null,
            "justify_content": null,
            "justify_items": null,
            "left": null,
            "margin": null,
            "max_height": null,
            "max_width": null,
            "min_height": null,
            "min_width": null,
            "object_fit": null,
            "object_position": null,
            "order": null,
            "overflow": null,
            "overflow_x": null,
            "overflow_y": null,
            "padding": null,
            "right": null,
            "top": null,
            "visibility": null,
            "width": null
          }
        },
        "7b93cd4c70e1432f88af39cba582b978": {
          "model_module": "@jupyter-widgets/controls",
          "model_name": "DescriptionStyleModel",
          "model_module_version": "1.5.0",
          "state": {
            "_model_module": "@jupyter-widgets/controls",
            "_model_module_version": "1.5.0",
            "_model_name": "DescriptionStyleModel",
            "_view_count": null,
            "_view_module": "@jupyter-widgets/base",
            "_view_module_version": "1.2.0",
            "_view_name": "StyleView",
            "description_width": ""
          }
        },
        "c3bfa8c9b0164b14822aa6a1d493df82": {
          "model_module": "@jupyter-widgets/base",
          "model_name": "LayoutModel",
          "model_module_version": "1.2.0",
          "state": {
            "_model_module": "@jupyter-widgets/base",
            "_model_module_version": "1.2.0",
            "_model_name": "LayoutModel",
            "_view_count": null,
            "_view_module": "@jupyter-widgets/base",
            "_view_module_version": "1.2.0",
            "_view_name": "LayoutView",
            "align_content": null,
            "align_items": null,
            "align_self": null,
            "border": null,
            "bottom": null,
            "display": null,
            "flex": null,
            "flex_flow": null,
            "grid_area": null,
            "grid_auto_columns": null,
            "grid_auto_flow": null,
            "grid_auto_rows": null,
            "grid_column": null,
            "grid_gap": null,
            "grid_row": null,
            "grid_template_areas": null,
            "grid_template_columns": null,
            "grid_template_rows": null,
            "height": null,
            "justify_content": null,
            "justify_items": null,
            "left": null,
            "margin": null,
            "max_height": null,
            "max_width": null,
            "min_height": null,
            "min_width": null,
            "object_fit": null,
            "object_position": null,
            "order": null,
            "overflow": null,
            "overflow_x": null,
            "overflow_y": null,
            "padding": null,
            "right": null,
            "top": null,
            "visibility": null,
            "width": null
          }
        },
        "5f252c3974724e9eafe133d130864755": {
          "model_module": "@jupyter-widgets/controls",
          "model_name": "ProgressStyleModel",
          "model_module_version": "1.5.0",
          "state": {
            "_model_module": "@jupyter-widgets/controls",
            "_model_module_version": "1.5.0",
            "_model_name": "ProgressStyleModel",
            "_view_count": null,
            "_view_module": "@jupyter-widgets/base",
            "_view_module_version": "1.2.0",
            "_view_name": "StyleView",
            "bar_color": null,
            "description_width": ""
          }
        },
        "907043f6e2dd411ab7162ab9e2fcc99c": {
          "model_module": "@jupyter-widgets/controls",
          "model_name": "VBoxModel",
          "model_module_version": "1.5.0",
          "state": {
            "_dom_classes": [],
            "_model_module": "@jupyter-widgets/controls",
            "_model_module_version": "1.5.0",
            "_model_name": "VBoxModel",
            "_view_count": null,
            "_view_module": "@jupyter-widgets/controls",
            "_view_module_version": "1.5.0",
            "_view_name": "VBoxView",
            "box_style": "",
            "children": [
              "IPY_MODEL_bc316930bfd146159350c685591d1eed",
              "IPY_MODEL_474fed1aca024a3dbf7c4774feeea7f5"
            ],
            "layout": "IPY_MODEL_5d7d53e1a01041da8299e1a6ad82dab4"
          }
        },
        "bc316930bfd146159350c685591d1eed": {
          "model_module": "@jupyter-widgets/controls",
          "model_name": "LabelModel",
          "model_module_version": "1.5.0",
          "state": {
            "_dom_classes": [],
            "_model_module": "@jupyter-widgets/controls",
            "_model_module_version": "1.5.0",
            "_model_name": "LabelModel",
            "_view_count": null,
            "_view_module": "@jupyter-widgets/controls",
            "_view_module_version": "1.5.0",
            "_view_name": "LabelView",
            "description": "",
            "description_tooltip": null,
            "layout": "IPY_MODEL_05f91b1de1a74d389c12f0ceb305ba07",
            "placeholder": "​",
            "style": "IPY_MODEL_917455eaf6a744b0867b52143fb6625d",
            "value": "0.019 MB of 0.019 MB uploaded\r"
          }
        },
        "474fed1aca024a3dbf7c4774feeea7f5": {
          "model_module": "@jupyter-widgets/controls",
          "model_name": "FloatProgressModel",
          "model_module_version": "1.5.0",
          "state": {
            "_dom_classes": [],
            "_model_module": "@jupyter-widgets/controls",
            "_model_module_version": "1.5.0",
            "_model_name": "FloatProgressModel",
            "_view_count": null,
            "_view_module": "@jupyter-widgets/controls",
            "_view_module_version": "1.5.0",
            "_view_name": "ProgressView",
            "bar_style": "",
            "description": "",
            "description_tooltip": null,
            "layout": "IPY_MODEL_10e972149ed24ca9baf73e518ffaa9f6",
            "max": 1,
            "min": 0,
            "orientation": "horizontal",
            "style": "IPY_MODEL_7bc86510b3ca4261ab551ff3c026b77c",
            "value": 1
          }
        },
        "5d7d53e1a01041da8299e1a6ad82dab4": {
          "model_module": "@jupyter-widgets/base",
          "model_name": "LayoutModel",
          "model_module_version": "1.2.0",
          "state": {
            "_model_module": "@jupyter-widgets/base",
            "_model_module_version": "1.2.0",
            "_model_name": "LayoutModel",
            "_view_count": null,
            "_view_module": "@jupyter-widgets/base",
            "_view_module_version": "1.2.0",
            "_view_name": "LayoutView",
            "align_content": null,
            "align_items": null,
            "align_self": null,
            "border": null,
            "bottom": null,
            "display": null,
            "flex": null,
            "flex_flow": null,
            "grid_area": null,
            "grid_auto_columns": null,
            "grid_auto_flow": null,
            "grid_auto_rows": null,
            "grid_column": null,
            "grid_gap": null,
            "grid_row": null,
            "grid_template_areas": null,
            "grid_template_columns": null,
            "grid_template_rows": null,
            "height": null,
            "justify_content": null,
            "justify_items": null,
            "left": null,
            "margin": null,
            "max_height": null,
            "max_width": null,
            "min_height": null,
            "min_width": null,
            "object_fit": null,
            "object_position": null,
            "order": null,
            "overflow": null,
            "overflow_x": null,
            "overflow_y": null,
            "padding": null,
            "right": null,
            "top": null,
            "visibility": null,
            "width": null
          }
        },
        "05f91b1de1a74d389c12f0ceb305ba07": {
          "model_module": "@jupyter-widgets/base",
          "model_name": "LayoutModel",
          "model_module_version": "1.2.0",
          "state": {
            "_model_module": "@jupyter-widgets/base",
            "_model_module_version": "1.2.0",
            "_model_name": "LayoutModel",
            "_view_count": null,
            "_view_module": "@jupyter-widgets/base",
            "_view_module_version": "1.2.0",
            "_view_name": "LayoutView",
            "align_content": null,
            "align_items": null,
            "align_self": null,
            "border": null,
            "bottom": null,
            "display": null,
            "flex": null,
            "flex_flow": null,
            "grid_area": null,
            "grid_auto_columns": null,
            "grid_auto_flow": null,
            "grid_auto_rows": null,
            "grid_column": null,
            "grid_gap": null,
            "grid_row": null,
            "grid_template_areas": null,
            "grid_template_columns": null,
            "grid_template_rows": null,
            "height": null,
            "justify_content": null,
            "justify_items": null,
            "left": null,
            "margin": null,
            "max_height": null,
            "max_width": null,
            "min_height": null,
            "min_width": null,
            "object_fit": null,
            "object_position": null,
            "order": null,
            "overflow": null,
            "overflow_x": null,
            "overflow_y": null,
            "padding": null,
            "right": null,
            "top": null,
            "visibility": null,
            "width": null
          }
        },
        "917455eaf6a744b0867b52143fb6625d": {
          "model_module": "@jupyter-widgets/controls",
          "model_name": "DescriptionStyleModel",
          "model_module_version": "1.5.0",
          "state": {
            "_model_module": "@jupyter-widgets/controls",
            "_model_module_version": "1.5.0",
            "_model_name": "DescriptionStyleModel",
            "_view_count": null,
            "_view_module": "@jupyter-widgets/base",
            "_view_module_version": "1.2.0",
            "_view_name": "StyleView",
            "description_width": ""
          }
        },
        "10e972149ed24ca9baf73e518ffaa9f6": {
          "model_module": "@jupyter-widgets/base",
          "model_name": "LayoutModel",
          "model_module_version": "1.2.0",
          "state": {
            "_model_module": "@jupyter-widgets/base",
            "_model_module_version": "1.2.0",
            "_model_name": "LayoutModel",
            "_view_count": null,
            "_view_module": "@jupyter-widgets/base",
            "_view_module_version": "1.2.0",
            "_view_name": "LayoutView",
            "align_content": null,
            "align_items": null,
            "align_self": null,
            "border": null,
            "bottom": null,
            "display": null,
            "flex": null,
            "flex_flow": null,
            "grid_area": null,
            "grid_auto_columns": null,
            "grid_auto_flow": null,
            "grid_auto_rows": null,
            "grid_column": null,
            "grid_gap": null,
            "grid_row": null,
            "grid_template_areas": null,
            "grid_template_columns": null,
            "grid_template_rows": null,
            "height": null,
            "justify_content": null,
            "justify_items": null,
            "left": null,
            "margin": null,
            "max_height": null,
            "max_width": null,
            "min_height": null,
            "min_width": null,
            "object_fit": null,
            "object_position": null,
            "order": null,
            "overflow": null,
            "overflow_x": null,
            "overflow_y": null,
            "padding": null,
            "right": null,
            "top": null,
            "visibility": null,
            "width": null
          }
        },
        "7bc86510b3ca4261ab551ff3c026b77c": {
          "model_module": "@jupyter-widgets/controls",
          "model_name": "ProgressStyleModel",
          "model_module_version": "1.5.0",
          "state": {
            "_model_module": "@jupyter-widgets/controls",
            "_model_module_version": "1.5.0",
            "_model_name": "ProgressStyleModel",
            "_view_count": null,
            "_view_module": "@jupyter-widgets/base",
            "_view_module_version": "1.2.0",
            "_view_name": "StyleView",
            "bar_color": null,
            "description_width": ""
          }
        },
        "40930514bef34fa28be7bb6f2670c29e": {
          "model_module": "@jupyter-widgets/controls",
          "model_name": "VBoxModel",
          "model_module_version": "1.5.0",
          "state": {
            "_dom_classes": [],
            "_model_module": "@jupyter-widgets/controls",
            "_model_module_version": "1.5.0",
            "_model_name": "VBoxModel",
            "_view_count": null,
            "_view_module": "@jupyter-widgets/controls",
            "_view_module_version": "1.5.0",
            "_view_name": "VBoxView",
            "box_style": "",
            "children": [
              "IPY_MODEL_82900a4910734d1c8c0dd1ff73428893",
              "IPY_MODEL_9d88d9b4b13c4e72975860623890dc2f"
            ],
            "layout": "IPY_MODEL_bc82e717ae814057be805db0066583de"
          }
        },
        "82900a4910734d1c8c0dd1ff73428893": {
          "model_module": "@jupyter-widgets/controls",
          "model_name": "LabelModel",
          "model_module_version": "1.5.0",
          "state": {
            "_dom_classes": [],
            "_model_module": "@jupyter-widgets/controls",
            "_model_module_version": "1.5.0",
            "_model_name": "LabelModel",
            "_view_count": null,
            "_view_module": "@jupyter-widgets/controls",
            "_view_module_version": "1.5.0",
            "_view_name": "LabelView",
            "description": "",
            "description_tooltip": null,
            "layout": "IPY_MODEL_334a6c094d604eefaf688946e57795d1",
            "placeholder": "​",
            "style": "IPY_MODEL_91060b95d3ae40a2841519e154640351",
            "value": "0.019 MB of 0.019 MB uploaded\r"
          }
        },
        "9d88d9b4b13c4e72975860623890dc2f": {
          "model_module": "@jupyter-widgets/controls",
          "model_name": "FloatProgressModel",
          "model_module_version": "1.5.0",
          "state": {
            "_dom_classes": [],
            "_model_module": "@jupyter-widgets/controls",
            "_model_module_version": "1.5.0",
            "_model_name": "FloatProgressModel",
            "_view_count": null,
            "_view_module": "@jupyter-widgets/controls",
            "_view_module_version": "1.5.0",
            "_view_name": "ProgressView",
            "bar_style": "",
            "description": "",
            "description_tooltip": null,
            "layout": "IPY_MODEL_54512e9dd6474492831c3e8103697b3d",
            "max": 1,
            "min": 0,
            "orientation": "horizontal",
            "style": "IPY_MODEL_351a5bf7bd3c4927861c3f5ec0fe4174",
            "value": 1
          }
        },
        "bc82e717ae814057be805db0066583de": {
          "model_module": "@jupyter-widgets/base",
          "model_name": "LayoutModel",
          "model_module_version": "1.2.0",
          "state": {
            "_model_module": "@jupyter-widgets/base",
            "_model_module_version": "1.2.0",
            "_model_name": "LayoutModel",
            "_view_count": null,
            "_view_module": "@jupyter-widgets/base",
            "_view_module_version": "1.2.0",
            "_view_name": "LayoutView",
            "align_content": null,
            "align_items": null,
            "align_self": null,
            "border": null,
            "bottom": null,
            "display": null,
            "flex": null,
            "flex_flow": null,
            "grid_area": null,
            "grid_auto_columns": null,
            "grid_auto_flow": null,
            "grid_auto_rows": null,
            "grid_column": null,
            "grid_gap": null,
            "grid_row": null,
            "grid_template_areas": null,
            "grid_template_columns": null,
            "grid_template_rows": null,
            "height": null,
            "justify_content": null,
            "justify_items": null,
            "left": null,
            "margin": null,
            "max_height": null,
            "max_width": null,
            "min_height": null,
            "min_width": null,
            "object_fit": null,
            "object_position": null,
            "order": null,
            "overflow": null,
            "overflow_x": null,
            "overflow_y": null,
            "padding": null,
            "right": null,
            "top": null,
            "visibility": null,
            "width": null
          }
        },
        "334a6c094d604eefaf688946e57795d1": {
          "model_module": "@jupyter-widgets/base",
          "model_name": "LayoutModel",
          "model_module_version": "1.2.0",
          "state": {
            "_model_module": "@jupyter-widgets/base",
            "_model_module_version": "1.2.0",
            "_model_name": "LayoutModel",
            "_view_count": null,
            "_view_module": "@jupyter-widgets/base",
            "_view_module_version": "1.2.0",
            "_view_name": "LayoutView",
            "align_content": null,
            "align_items": null,
            "align_self": null,
            "border": null,
            "bottom": null,
            "display": null,
            "flex": null,
            "flex_flow": null,
            "grid_area": null,
            "grid_auto_columns": null,
            "grid_auto_flow": null,
            "grid_auto_rows": null,
            "grid_column": null,
            "grid_gap": null,
            "grid_row": null,
            "grid_template_areas": null,
            "grid_template_columns": null,
            "grid_template_rows": null,
            "height": null,
            "justify_content": null,
            "justify_items": null,
            "left": null,
            "margin": null,
            "max_height": null,
            "max_width": null,
            "min_height": null,
            "min_width": null,
            "object_fit": null,
            "object_position": null,
            "order": null,
            "overflow": null,
            "overflow_x": null,
            "overflow_y": null,
            "padding": null,
            "right": null,
            "top": null,
            "visibility": null,
            "width": null
          }
        },
        "91060b95d3ae40a2841519e154640351": {
          "model_module": "@jupyter-widgets/controls",
          "model_name": "DescriptionStyleModel",
          "model_module_version": "1.5.0",
          "state": {
            "_model_module": "@jupyter-widgets/controls",
            "_model_module_version": "1.5.0",
            "_model_name": "DescriptionStyleModel",
            "_view_count": null,
            "_view_module": "@jupyter-widgets/base",
            "_view_module_version": "1.2.0",
            "_view_name": "StyleView",
            "description_width": ""
          }
        },
        "54512e9dd6474492831c3e8103697b3d": {
          "model_module": "@jupyter-widgets/base",
          "model_name": "LayoutModel",
          "model_module_version": "1.2.0",
          "state": {
            "_model_module": "@jupyter-widgets/base",
            "_model_module_version": "1.2.0",
            "_model_name": "LayoutModel",
            "_view_count": null,
            "_view_module": "@jupyter-widgets/base",
            "_view_module_version": "1.2.0",
            "_view_name": "LayoutView",
            "align_content": null,
            "align_items": null,
            "align_self": null,
            "border": null,
            "bottom": null,
            "display": null,
            "flex": null,
            "flex_flow": null,
            "grid_area": null,
            "grid_auto_columns": null,
            "grid_auto_flow": null,
            "grid_auto_rows": null,
            "grid_column": null,
            "grid_gap": null,
            "grid_row": null,
            "grid_template_areas": null,
            "grid_template_columns": null,
            "grid_template_rows": null,
            "height": null,
            "justify_content": null,
            "justify_items": null,
            "left": null,
            "margin": null,
            "max_height": null,
            "max_width": null,
            "min_height": null,
            "min_width": null,
            "object_fit": null,
            "object_position": null,
            "order": null,
            "overflow": null,
            "overflow_x": null,
            "overflow_y": null,
            "padding": null,
            "right": null,
            "top": null,
            "visibility": null,
            "width": null
          }
        },
        "351a5bf7bd3c4927861c3f5ec0fe4174": {
          "model_module": "@jupyter-widgets/controls",
          "model_name": "ProgressStyleModel",
          "model_module_version": "1.5.0",
          "state": {
            "_model_module": "@jupyter-widgets/controls",
            "_model_module_version": "1.5.0",
            "_model_name": "ProgressStyleModel",
            "_view_count": null,
            "_view_module": "@jupyter-widgets/base",
            "_view_module_version": "1.2.0",
            "_view_name": "StyleView",
            "bar_color": null,
            "description_width": ""
          }
        },
        "a0e3621b751042d7b8d39af1c45555f2": {
          "model_module": "@jupyter-widgets/controls",
          "model_name": "VBoxModel",
          "model_module_version": "1.5.0",
          "state": {
            "_dom_classes": [],
            "_model_module": "@jupyter-widgets/controls",
            "_model_module_version": "1.5.0",
            "_model_name": "VBoxModel",
            "_view_count": null,
            "_view_module": "@jupyter-widgets/controls",
            "_view_module_version": "1.5.0",
            "_view_name": "VBoxView",
            "box_style": "",
            "children": [
              "IPY_MODEL_e67670a96ba743ecab59f4c45e8ae13a",
              "IPY_MODEL_2d5a02dd241847998403f080f1743903"
            ],
            "layout": "IPY_MODEL_91f1aa51b5584f518c1474548f60627e"
          }
        },
        "e67670a96ba743ecab59f4c45e8ae13a": {
          "model_module": "@jupyter-widgets/controls",
          "model_name": "LabelModel",
          "model_module_version": "1.5.0",
          "state": {
            "_dom_classes": [],
            "_model_module": "@jupyter-widgets/controls",
            "_model_module_version": "1.5.0",
            "_model_name": "LabelModel",
            "_view_count": null,
            "_view_module": "@jupyter-widgets/controls",
            "_view_module_version": "1.5.0",
            "_view_name": "LabelView",
            "description": "",
            "description_tooltip": null,
            "layout": "IPY_MODEL_eacf4592786d4fb2ac562f1934e20927",
            "placeholder": "​",
            "style": "IPY_MODEL_bb1c8b9b217143b0a6a3810f4b903d40",
            "value": "0.020 MB of 0.020 MB uploaded\r"
          }
        },
        "2d5a02dd241847998403f080f1743903": {
          "model_module": "@jupyter-widgets/controls",
          "model_name": "FloatProgressModel",
          "model_module_version": "1.5.0",
          "state": {
            "_dom_classes": [],
            "_model_module": "@jupyter-widgets/controls",
            "_model_module_version": "1.5.0",
            "_model_name": "FloatProgressModel",
            "_view_count": null,
            "_view_module": "@jupyter-widgets/controls",
            "_view_module_version": "1.5.0",
            "_view_name": "ProgressView",
            "bar_style": "",
            "description": "",
            "description_tooltip": null,
            "layout": "IPY_MODEL_865a9a0e518d4a3d985694ed8ea4be99",
            "max": 1,
            "min": 0,
            "orientation": "horizontal",
            "style": "IPY_MODEL_5e74e3fb28854ddcaeed509474435c52",
            "value": 1
          }
        },
        "91f1aa51b5584f518c1474548f60627e": {
          "model_module": "@jupyter-widgets/base",
          "model_name": "LayoutModel",
          "model_module_version": "1.2.0",
          "state": {
            "_model_module": "@jupyter-widgets/base",
            "_model_module_version": "1.2.0",
            "_model_name": "LayoutModel",
            "_view_count": null,
            "_view_module": "@jupyter-widgets/base",
            "_view_module_version": "1.2.0",
            "_view_name": "LayoutView",
            "align_content": null,
            "align_items": null,
            "align_self": null,
            "border": null,
            "bottom": null,
            "display": null,
            "flex": null,
            "flex_flow": null,
            "grid_area": null,
            "grid_auto_columns": null,
            "grid_auto_flow": null,
            "grid_auto_rows": null,
            "grid_column": null,
            "grid_gap": null,
            "grid_row": null,
            "grid_template_areas": null,
            "grid_template_columns": null,
            "grid_template_rows": null,
            "height": null,
            "justify_content": null,
            "justify_items": null,
            "left": null,
            "margin": null,
            "max_height": null,
            "max_width": null,
            "min_height": null,
            "min_width": null,
            "object_fit": null,
            "object_position": null,
            "order": null,
            "overflow": null,
            "overflow_x": null,
            "overflow_y": null,
            "padding": null,
            "right": null,
            "top": null,
            "visibility": null,
            "width": null
          }
        },
        "eacf4592786d4fb2ac562f1934e20927": {
          "model_module": "@jupyter-widgets/base",
          "model_name": "LayoutModel",
          "model_module_version": "1.2.0",
          "state": {
            "_model_module": "@jupyter-widgets/base",
            "_model_module_version": "1.2.0",
            "_model_name": "LayoutModel",
            "_view_count": null,
            "_view_module": "@jupyter-widgets/base",
            "_view_module_version": "1.2.0",
            "_view_name": "LayoutView",
            "align_content": null,
            "align_items": null,
            "align_self": null,
            "border": null,
            "bottom": null,
            "display": null,
            "flex": null,
            "flex_flow": null,
            "grid_area": null,
            "grid_auto_columns": null,
            "grid_auto_flow": null,
            "grid_auto_rows": null,
            "grid_column": null,
            "grid_gap": null,
            "grid_row": null,
            "grid_template_areas": null,
            "grid_template_columns": null,
            "grid_template_rows": null,
            "height": null,
            "justify_content": null,
            "justify_items": null,
            "left": null,
            "margin": null,
            "max_height": null,
            "max_width": null,
            "min_height": null,
            "min_width": null,
            "object_fit": null,
            "object_position": null,
            "order": null,
            "overflow": null,
            "overflow_x": null,
            "overflow_y": null,
            "padding": null,
            "right": null,
            "top": null,
            "visibility": null,
            "width": null
          }
        },
        "bb1c8b9b217143b0a6a3810f4b903d40": {
          "model_module": "@jupyter-widgets/controls",
          "model_name": "DescriptionStyleModel",
          "model_module_version": "1.5.0",
          "state": {
            "_model_module": "@jupyter-widgets/controls",
            "_model_module_version": "1.5.0",
            "_model_name": "DescriptionStyleModel",
            "_view_count": null,
            "_view_module": "@jupyter-widgets/base",
            "_view_module_version": "1.2.0",
            "_view_name": "StyleView",
            "description_width": ""
          }
        },
        "865a9a0e518d4a3d985694ed8ea4be99": {
          "model_module": "@jupyter-widgets/base",
          "model_name": "LayoutModel",
          "model_module_version": "1.2.0",
          "state": {
            "_model_module": "@jupyter-widgets/base",
            "_model_module_version": "1.2.0",
            "_model_name": "LayoutModel",
            "_view_count": null,
            "_view_module": "@jupyter-widgets/base",
            "_view_module_version": "1.2.0",
            "_view_name": "LayoutView",
            "align_content": null,
            "align_items": null,
            "align_self": null,
            "border": null,
            "bottom": null,
            "display": null,
            "flex": null,
            "flex_flow": null,
            "grid_area": null,
            "grid_auto_columns": null,
            "grid_auto_flow": null,
            "grid_auto_rows": null,
            "grid_column": null,
            "grid_gap": null,
            "grid_row": null,
            "grid_template_areas": null,
            "grid_template_columns": null,
            "grid_template_rows": null,
            "height": null,
            "justify_content": null,
            "justify_items": null,
            "left": null,
            "margin": null,
            "max_height": null,
            "max_width": null,
            "min_height": null,
            "min_width": null,
            "object_fit": null,
            "object_position": null,
            "order": null,
            "overflow": null,
            "overflow_x": null,
            "overflow_y": null,
            "padding": null,
            "right": null,
            "top": null,
            "visibility": null,
            "width": null
          }
        },
        "5e74e3fb28854ddcaeed509474435c52": {
          "model_module": "@jupyter-widgets/controls",
          "model_name": "ProgressStyleModel",
          "model_module_version": "1.5.0",
          "state": {
            "_model_module": "@jupyter-widgets/controls",
            "_model_module_version": "1.5.0",
            "_model_name": "ProgressStyleModel",
            "_view_count": null,
            "_view_module": "@jupyter-widgets/base",
            "_view_module_version": "1.2.0",
            "_view_name": "StyleView",
            "bar_color": null,
            "description_width": ""
          }
        },
        "2d32f7365ef4416fad30c15b97967d40": {
          "model_module": "@jupyter-widgets/controls",
          "model_name": "VBoxModel",
          "model_module_version": "1.5.0",
          "state": {
            "_dom_classes": [],
            "_model_module": "@jupyter-widgets/controls",
            "_model_module_version": "1.5.0",
            "_model_name": "VBoxModel",
            "_view_count": null,
            "_view_module": "@jupyter-widgets/controls",
            "_view_module_version": "1.5.0",
            "_view_name": "VBoxView",
            "box_style": "",
            "children": [
              "IPY_MODEL_bfc4c1cc80cb4f4caedff553bf11487b",
              "IPY_MODEL_b1dad67e0e674d0ebaf1e35357674e4d"
            ],
            "layout": "IPY_MODEL_18416b5d029b4c2b85d1b03f956e2b18"
          }
        },
        "bfc4c1cc80cb4f4caedff553bf11487b": {
          "model_module": "@jupyter-widgets/controls",
          "model_name": "LabelModel",
          "model_module_version": "1.5.0",
          "state": {
            "_dom_classes": [],
            "_model_module": "@jupyter-widgets/controls",
            "_model_module_version": "1.5.0",
            "_model_name": "LabelModel",
            "_view_count": null,
            "_view_module": "@jupyter-widgets/controls",
            "_view_module_version": "1.5.0",
            "_view_name": "LabelView",
            "description": "",
            "description_tooltip": null,
            "layout": "IPY_MODEL_117db8c2bcd74b9582a682805f48b8a4",
            "placeholder": "​",
            "style": "IPY_MODEL_429798cdcd714b8d93de3c8b5072895f",
            "value": "0.020 MB of 0.020 MB uploaded\r"
          }
        },
        "b1dad67e0e674d0ebaf1e35357674e4d": {
          "model_module": "@jupyter-widgets/controls",
          "model_name": "FloatProgressModel",
          "model_module_version": "1.5.0",
          "state": {
            "_dom_classes": [],
            "_model_module": "@jupyter-widgets/controls",
            "_model_module_version": "1.5.0",
            "_model_name": "FloatProgressModel",
            "_view_count": null,
            "_view_module": "@jupyter-widgets/controls",
            "_view_module_version": "1.5.0",
            "_view_name": "ProgressView",
            "bar_style": "",
            "description": "",
            "description_tooltip": null,
            "layout": "IPY_MODEL_cce95926a2a3436cb03aa370710fe1b8",
            "max": 1,
            "min": 0,
            "orientation": "horizontal",
            "style": "IPY_MODEL_a4653227f2bb494a8243f6bd8e594f7c",
            "value": 1
          }
        },
        "18416b5d029b4c2b85d1b03f956e2b18": {
          "model_module": "@jupyter-widgets/base",
          "model_name": "LayoutModel",
          "model_module_version": "1.2.0",
          "state": {
            "_model_module": "@jupyter-widgets/base",
            "_model_module_version": "1.2.0",
            "_model_name": "LayoutModel",
            "_view_count": null,
            "_view_module": "@jupyter-widgets/base",
            "_view_module_version": "1.2.0",
            "_view_name": "LayoutView",
            "align_content": null,
            "align_items": null,
            "align_self": null,
            "border": null,
            "bottom": null,
            "display": null,
            "flex": null,
            "flex_flow": null,
            "grid_area": null,
            "grid_auto_columns": null,
            "grid_auto_flow": null,
            "grid_auto_rows": null,
            "grid_column": null,
            "grid_gap": null,
            "grid_row": null,
            "grid_template_areas": null,
            "grid_template_columns": null,
            "grid_template_rows": null,
            "height": null,
            "justify_content": null,
            "justify_items": null,
            "left": null,
            "margin": null,
            "max_height": null,
            "max_width": null,
            "min_height": null,
            "min_width": null,
            "object_fit": null,
            "object_position": null,
            "order": null,
            "overflow": null,
            "overflow_x": null,
            "overflow_y": null,
            "padding": null,
            "right": null,
            "top": null,
            "visibility": null,
            "width": null
          }
        },
        "117db8c2bcd74b9582a682805f48b8a4": {
          "model_module": "@jupyter-widgets/base",
          "model_name": "LayoutModel",
          "model_module_version": "1.2.0",
          "state": {
            "_model_module": "@jupyter-widgets/base",
            "_model_module_version": "1.2.0",
            "_model_name": "LayoutModel",
            "_view_count": null,
            "_view_module": "@jupyter-widgets/base",
            "_view_module_version": "1.2.0",
            "_view_name": "LayoutView",
            "align_content": null,
            "align_items": null,
            "align_self": null,
            "border": null,
            "bottom": null,
            "display": null,
            "flex": null,
            "flex_flow": null,
            "grid_area": null,
            "grid_auto_columns": null,
            "grid_auto_flow": null,
            "grid_auto_rows": null,
            "grid_column": null,
            "grid_gap": null,
            "grid_row": null,
            "grid_template_areas": null,
            "grid_template_columns": null,
            "grid_template_rows": null,
            "height": null,
            "justify_content": null,
            "justify_items": null,
            "left": null,
            "margin": null,
            "max_height": null,
            "max_width": null,
            "min_height": null,
            "min_width": null,
            "object_fit": null,
            "object_position": null,
            "order": null,
            "overflow": null,
            "overflow_x": null,
            "overflow_y": null,
            "padding": null,
            "right": null,
            "top": null,
            "visibility": null,
            "width": null
          }
        },
        "429798cdcd714b8d93de3c8b5072895f": {
          "model_module": "@jupyter-widgets/controls",
          "model_name": "DescriptionStyleModel",
          "model_module_version": "1.5.0",
          "state": {
            "_model_module": "@jupyter-widgets/controls",
            "_model_module_version": "1.5.0",
            "_model_name": "DescriptionStyleModel",
            "_view_count": null,
            "_view_module": "@jupyter-widgets/base",
            "_view_module_version": "1.2.0",
            "_view_name": "StyleView",
            "description_width": ""
          }
        },
        "cce95926a2a3436cb03aa370710fe1b8": {
          "model_module": "@jupyter-widgets/base",
          "model_name": "LayoutModel",
          "model_module_version": "1.2.0",
          "state": {
            "_model_module": "@jupyter-widgets/base",
            "_model_module_version": "1.2.0",
            "_model_name": "LayoutModel",
            "_view_count": null,
            "_view_module": "@jupyter-widgets/base",
            "_view_module_version": "1.2.0",
            "_view_name": "LayoutView",
            "align_content": null,
            "align_items": null,
            "align_self": null,
            "border": null,
            "bottom": null,
            "display": null,
            "flex": null,
            "flex_flow": null,
            "grid_area": null,
            "grid_auto_columns": null,
            "grid_auto_flow": null,
            "grid_auto_rows": null,
            "grid_column": null,
            "grid_gap": null,
            "grid_row": null,
            "grid_template_areas": null,
            "grid_template_columns": null,
            "grid_template_rows": null,
            "height": null,
            "justify_content": null,
            "justify_items": null,
            "left": null,
            "margin": null,
            "max_height": null,
            "max_width": null,
            "min_height": null,
            "min_width": null,
            "object_fit": null,
            "object_position": null,
            "order": null,
            "overflow": null,
            "overflow_x": null,
            "overflow_y": null,
            "padding": null,
            "right": null,
            "top": null,
            "visibility": null,
            "width": null
          }
        },
        "a4653227f2bb494a8243f6bd8e594f7c": {
          "model_module": "@jupyter-widgets/controls",
          "model_name": "ProgressStyleModel",
          "model_module_version": "1.5.0",
          "state": {
            "_model_module": "@jupyter-widgets/controls",
            "_model_module_version": "1.5.0",
            "_model_name": "ProgressStyleModel",
            "_view_count": null,
            "_view_module": "@jupyter-widgets/base",
            "_view_module_version": "1.2.0",
            "_view_name": "StyleView",
            "bar_color": null,
            "description_width": ""
          }
        },
        "e8c0f2ba3f4441dbae09f4e8ff91722b": {
          "model_module": "@jupyter-widgets/controls",
          "model_name": "VBoxModel",
          "model_module_version": "1.5.0",
          "state": {
            "_dom_classes": [],
            "_model_module": "@jupyter-widgets/controls",
            "_model_module_version": "1.5.0",
            "_model_name": "VBoxModel",
            "_view_count": null,
            "_view_module": "@jupyter-widgets/controls",
            "_view_module_version": "1.5.0",
            "_view_name": "VBoxView",
            "box_style": "",
            "children": [
              "IPY_MODEL_99fe31d50dd6498994262e11e77f0d78",
              "IPY_MODEL_73dc6ad36cb74d308003a1685445469b"
            ],
            "layout": "IPY_MODEL_f557467aeec640a0a36752d0daa60d62"
          }
        },
        "99fe31d50dd6498994262e11e77f0d78": {
          "model_module": "@jupyter-widgets/controls",
          "model_name": "LabelModel",
          "model_module_version": "1.5.0",
          "state": {
            "_dom_classes": [],
            "_model_module": "@jupyter-widgets/controls",
            "_model_module_version": "1.5.0",
            "_model_name": "LabelModel",
            "_view_count": null,
            "_view_module": "@jupyter-widgets/controls",
            "_view_module_version": "1.5.0",
            "_view_name": "LabelView",
            "description": "",
            "description_tooltip": null,
            "layout": "IPY_MODEL_37e1e7a20cd749babcff7d8ae4c24ea0",
            "placeholder": "​",
            "style": "IPY_MODEL_8fc9ab1185f74112be9910d20ee8eb95",
            "value": "0.018 MB of 0.018 MB uploaded\r"
          }
        },
        "73dc6ad36cb74d308003a1685445469b": {
          "model_module": "@jupyter-widgets/controls",
          "model_name": "FloatProgressModel",
          "model_module_version": "1.5.0",
          "state": {
            "_dom_classes": [],
            "_model_module": "@jupyter-widgets/controls",
            "_model_module_version": "1.5.0",
            "_model_name": "FloatProgressModel",
            "_view_count": null,
            "_view_module": "@jupyter-widgets/controls",
            "_view_module_version": "1.5.0",
            "_view_name": "ProgressView",
            "bar_style": "",
            "description": "",
            "description_tooltip": null,
            "layout": "IPY_MODEL_81599f0f489e4470b89bb006fefc1042",
            "max": 1,
            "min": 0,
            "orientation": "horizontal",
            "style": "IPY_MODEL_36ead406ea6444a588515b5ae2a9e7e6",
            "value": 1
          }
        },
        "f557467aeec640a0a36752d0daa60d62": {
          "model_module": "@jupyter-widgets/base",
          "model_name": "LayoutModel",
          "model_module_version": "1.2.0",
          "state": {
            "_model_module": "@jupyter-widgets/base",
            "_model_module_version": "1.2.0",
            "_model_name": "LayoutModel",
            "_view_count": null,
            "_view_module": "@jupyter-widgets/base",
            "_view_module_version": "1.2.0",
            "_view_name": "LayoutView",
            "align_content": null,
            "align_items": null,
            "align_self": null,
            "border": null,
            "bottom": null,
            "display": null,
            "flex": null,
            "flex_flow": null,
            "grid_area": null,
            "grid_auto_columns": null,
            "grid_auto_flow": null,
            "grid_auto_rows": null,
            "grid_column": null,
            "grid_gap": null,
            "grid_row": null,
            "grid_template_areas": null,
            "grid_template_columns": null,
            "grid_template_rows": null,
            "height": null,
            "justify_content": null,
            "justify_items": null,
            "left": null,
            "margin": null,
            "max_height": null,
            "max_width": null,
            "min_height": null,
            "min_width": null,
            "object_fit": null,
            "object_position": null,
            "order": null,
            "overflow": null,
            "overflow_x": null,
            "overflow_y": null,
            "padding": null,
            "right": null,
            "top": null,
            "visibility": null,
            "width": null
          }
        },
        "37e1e7a20cd749babcff7d8ae4c24ea0": {
          "model_module": "@jupyter-widgets/base",
          "model_name": "LayoutModel",
          "model_module_version": "1.2.0",
          "state": {
            "_model_module": "@jupyter-widgets/base",
            "_model_module_version": "1.2.0",
            "_model_name": "LayoutModel",
            "_view_count": null,
            "_view_module": "@jupyter-widgets/base",
            "_view_module_version": "1.2.0",
            "_view_name": "LayoutView",
            "align_content": null,
            "align_items": null,
            "align_self": null,
            "border": null,
            "bottom": null,
            "display": null,
            "flex": null,
            "flex_flow": null,
            "grid_area": null,
            "grid_auto_columns": null,
            "grid_auto_flow": null,
            "grid_auto_rows": null,
            "grid_column": null,
            "grid_gap": null,
            "grid_row": null,
            "grid_template_areas": null,
            "grid_template_columns": null,
            "grid_template_rows": null,
            "height": null,
            "justify_content": null,
            "justify_items": null,
            "left": null,
            "margin": null,
            "max_height": null,
            "max_width": null,
            "min_height": null,
            "min_width": null,
            "object_fit": null,
            "object_position": null,
            "order": null,
            "overflow": null,
            "overflow_x": null,
            "overflow_y": null,
            "padding": null,
            "right": null,
            "top": null,
            "visibility": null,
            "width": null
          }
        },
        "8fc9ab1185f74112be9910d20ee8eb95": {
          "model_module": "@jupyter-widgets/controls",
          "model_name": "DescriptionStyleModel",
          "model_module_version": "1.5.0",
          "state": {
            "_model_module": "@jupyter-widgets/controls",
            "_model_module_version": "1.5.0",
            "_model_name": "DescriptionStyleModel",
            "_view_count": null,
            "_view_module": "@jupyter-widgets/base",
            "_view_module_version": "1.2.0",
            "_view_name": "StyleView",
            "description_width": ""
          }
        },
        "81599f0f489e4470b89bb006fefc1042": {
          "model_module": "@jupyter-widgets/base",
          "model_name": "LayoutModel",
          "model_module_version": "1.2.0",
          "state": {
            "_model_module": "@jupyter-widgets/base",
            "_model_module_version": "1.2.0",
            "_model_name": "LayoutModel",
            "_view_count": null,
            "_view_module": "@jupyter-widgets/base",
            "_view_module_version": "1.2.0",
            "_view_name": "LayoutView",
            "align_content": null,
            "align_items": null,
            "align_self": null,
            "border": null,
            "bottom": null,
            "display": null,
            "flex": null,
            "flex_flow": null,
            "grid_area": null,
            "grid_auto_columns": null,
            "grid_auto_flow": null,
            "grid_auto_rows": null,
            "grid_column": null,
            "grid_gap": null,
            "grid_row": null,
            "grid_template_areas": null,
            "grid_template_columns": null,
            "grid_template_rows": null,
            "height": null,
            "justify_content": null,
            "justify_items": null,
            "left": null,
            "margin": null,
            "max_height": null,
            "max_width": null,
            "min_height": null,
            "min_width": null,
            "object_fit": null,
            "object_position": null,
            "order": null,
            "overflow": null,
            "overflow_x": null,
            "overflow_y": null,
            "padding": null,
            "right": null,
            "top": null,
            "visibility": null,
            "width": null
          }
        },
        "36ead406ea6444a588515b5ae2a9e7e6": {
          "model_module": "@jupyter-widgets/controls",
          "model_name": "ProgressStyleModel",
          "model_module_version": "1.5.0",
          "state": {
            "_model_module": "@jupyter-widgets/controls",
            "_model_module_version": "1.5.0",
            "_model_name": "ProgressStyleModel",
            "_view_count": null,
            "_view_module": "@jupyter-widgets/base",
            "_view_module_version": "1.2.0",
            "_view_name": "StyleView",
            "bar_color": null,
            "description_width": ""
          }
        },
        "084677e9261942a49a5a83b3fa12760f": {
          "model_module": "@jupyter-widgets/controls",
          "model_name": "VBoxModel",
          "model_module_version": "1.5.0",
          "state": {
            "_dom_classes": [],
            "_model_module": "@jupyter-widgets/controls",
            "_model_module_version": "1.5.0",
            "_model_name": "VBoxModel",
            "_view_count": null,
            "_view_module": "@jupyter-widgets/controls",
            "_view_module_version": "1.5.0",
            "_view_name": "VBoxView",
            "box_style": "",
            "children": [
              "IPY_MODEL_504c8ea10d8e4530ae981df03ab5e398",
              "IPY_MODEL_5883e5635ab748feb0e34783fada5925"
            ],
            "layout": "IPY_MODEL_87cc426d371e4047a7890a092fe891c8"
          }
        },
        "504c8ea10d8e4530ae981df03ab5e398": {
          "model_module": "@jupyter-widgets/controls",
          "model_name": "LabelModel",
          "model_module_version": "1.5.0",
          "state": {
            "_dom_classes": [],
            "_model_module": "@jupyter-widgets/controls",
            "_model_module_version": "1.5.0",
            "_model_name": "LabelModel",
            "_view_count": null,
            "_view_module": "@jupyter-widgets/controls",
            "_view_module_version": "1.5.0",
            "_view_name": "LabelView",
            "description": "",
            "description_tooltip": null,
            "layout": "IPY_MODEL_970c981ab89f4b65ae38a8bd133b57e6",
            "placeholder": "​",
            "style": "IPY_MODEL_14f7d8b678c941ddb8b87462f90af398",
            "value": "0.020 MB of 0.020 MB uploaded\r"
          }
        },
        "5883e5635ab748feb0e34783fada5925": {
          "model_module": "@jupyter-widgets/controls",
          "model_name": "FloatProgressModel",
          "model_module_version": "1.5.0",
          "state": {
            "_dom_classes": [],
            "_model_module": "@jupyter-widgets/controls",
            "_model_module_version": "1.5.0",
            "_model_name": "FloatProgressModel",
            "_view_count": null,
            "_view_module": "@jupyter-widgets/controls",
            "_view_module_version": "1.5.0",
            "_view_name": "ProgressView",
            "bar_style": "",
            "description": "",
            "description_tooltip": null,
            "layout": "IPY_MODEL_9555156f95374beeb298c69e413525de",
            "max": 1,
            "min": 0,
            "orientation": "horizontal",
            "style": "IPY_MODEL_8ce3048f6e0a45d6a3cd73cefc98a0a0",
            "value": 1
          }
        },
        "87cc426d371e4047a7890a092fe891c8": {
          "model_module": "@jupyter-widgets/base",
          "model_name": "LayoutModel",
          "model_module_version": "1.2.0",
          "state": {
            "_model_module": "@jupyter-widgets/base",
            "_model_module_version": "1.2.0",
            "_model_name": "LayoutModel",
            "_view_count": null,
            "_view_module": "@jupyter-widgets/base",
            "_view_module_version": "1.2.0",
            "_view_name": "LayoutView",
            "align_content": null,
            "align_items": null,
            "align_self": null,
            "border": null,
            "bottom": null,
            "display": null,
            "flex": null,
            "flex_flow": null,
            "grid_area": null,
            "grid_auto_columns": null,
            "grid_auto_flow": null,
            "grid_auto_rows": null,
            "grid_column": null,
            "grid_gap": null,
            "grid_row": null,
            "grid_template_areas": null,
            "grid_template_columns": null,
            "grid_template_rows": null,
            "height": null,
            "justify_content": null,
            "justify_items": null,
            "left": null,
            "margin": null,
            "max_height": null,
            "max_width": null,
            "min_height": null,
            "min_width": null,
            "object_fit": null,
            "object_position": null,
            "order": null,
            "overflow": null,
            "overflow_x": null,
            "overflow_y": null,
            "padding": null,
            "right": null,
            "top": null,
            "visibility": null,
            "width": null
          }
        },
        "970c981ab89f4b65ae38a8bd133b57e6": {
          "model_module": "@jupyter-widgets/base",
          "model_name": "LayoutModel",
          "model_module_version": "1.2.0",
          "state": {
            "_model_module": "@jupyter-widgets/base",
            "_model_module_version": "1.2.0",
            "_model_name": "LayoutModel",
            "_view_count": null,
            "_view_module": "@jupyter-widgets/base",
            "_view_module_version": "1.2.0",
            "_view_name": "LayoutView",
            "align_content": null,
            "align_items": null,
            "align_self": null,
            "border": null,
            "bottom": null,
            "display": null,
            "flex": null,
            "flex_flow": null,
            "grid_area": null,
            "grid_auto_columns": null,
            "grid_auto_flow": null,
            "grid_auto_rows": null,
            "grid_column": null,
            "grid_gap": null,
            "grid_row": null,
            "grid_template_areas": null,
            "grid_template_columns": null,
            "grid_template_rows": null,
            "height": null,
            "justify_content": null,
            "justify_items": null,
            "left": null,
            "margin": null,
            "max_height": null,
            "max_width": null,
            "min_height": null,
            "min_width": null,
            "object_fit": null,
            "object_position": null,
            "order": null,
            "overflow": null,
            "overflow_x": null,
            "overflow_y": null,
            "padding": null,
            "right": null,
            "top": null,
            "visibility": null,
            "width": null
          }
        },
        "14f7d8b678c941ddb8b87462f90af398": {
          "model_module": "@jupyter-widgets/controls",
          "model_name": "DescriptionStyleModel",
          "model_module_version": "1.5.0",
          "state": {
            "_model_module": "@jupyter-widgets/controls",
            "_model_module_version": "1.5.0",
            "_model_name": "DescriptionStyleModel",
            "_view_count": null,
            "_view_module": "@jupyter-widgets/base",
            "_view_module_version": "1.2.0",
            "_view_name": "StyleView",
            "description_width": ""
          }
        },
        "9555156f95374beeb298c69e413525de": {
          "model_module": "@jupyter-widgets/base",
          "model_name": "LayoutModel",
          "model_module_version": "1.2.0",
          "state": {
            "_model_module": "@jupyter-widgets/base",
            "_model_module_version": "1.2.0",
            "_model_name": "LayoutModel",
            "_view_count": null,
            "_view_module": "@jupyter-widgets/base",
            "_view_module_version": "1.2.0",
            "_view_name": "LayoutView",
            "align_content": null,
            "align_items": null,
            "align_self": null,
            "border": null,
            "bottom": null,
            "display": null,
            "flex": null,
            "flex_flow": null,
            "grid_area": null,
            "grid_auto_columns": null,
            "grid_auto_flow": null,
            "grid_auto_rows": null,
            "grid_column": null,
            "grid_gap": null,
            "grid_row": null,
            "grid_template_areas": null,
            "grid_template_columns": null,
            "grid_template_rows": null,
            "height": null,
            "justify_content": null,
            "justify_items": null,
            "left": null,
            "margin": null,
            "max_height": null,
            "max_width": null,
            "min_height": null,
            "min_width": null,
            "object_fit": null,
            "object_position": null,
            "order": null,
            "overflow": null,
            "overflow_x": null,
            "overflow_y": null,
            "padding": null,
            "right": null,
            "top": null,
            "visibility": null,
            "width": null
          }
        },
        "8ce3048f6e0a45d6a3cd73cefc98a0a0": {
          "model_module": "@jupyter-widgets/controls",
          "model_name": "ProgressStyleModel",
          "model_module_version": "1.5.0",
          "state": {
            "_model_module": "@jupyter-widgets/controls",
            "_model_module_version": "1.5.0",
            "_model_name": "ProgressStyleModel",
            "_view_count": null,
            "_view_module": "@jupyter-widgets/base",
            "_view_module_version": "1.2.0",
            "_view_name": "StyleView",
            "bar_color": null,
            "description_width": ""
          }
        },
        "86c16449547545f2b2e6e299d576c392": {
          "model_module": "@jupyter-widgets/controls",
          "model_name": "VBoxModel",
          "model_module_version": "1.5.0",
          "state": {
            "_dom_classes": [],
            "_model_module": "@jupyter-widgets/controls",
            "_model_module_version": "1.5.0",
            "_model_name": "VBoxModel",
            "_view_count": null,
            "_view_module": "@jupyter-widgets/controls",
            "_view_module_version": "1.5.0",
            "_view_name": "VBoxView",
            "box_style": "",
            "children": [
              "IPY_MODEL_b6126d71229d441a8ac6a74093b83c08",
              "IPY_MODEL_1b5e3cd107f34f299ac39c9ff9c43ab4"
            ],
            "layout": "IPY_MODEL_52b4bc7d6da5446183ae7b09f98c7fac"
          }
        },
        "b6126d71229d441a8ac6a74093b83c08": {
          "model_module": "@jupyter-widgets/controls",
          "model_name": "LabelModel",
          "model_module_version": "1.5.0",
          "state": {
            "_dom_classes": [],
            "_model_module": "@jupyter-widgets/controls",
            "_model_module_version": "1.5.0",
            "_model_name": "LabelModel",
            "_view_count": null,
            "_view_module": "@jupyter-widgets/controls",
            "_view_module_version": "1.5.0",
            "_view_name": "LabelView",
            "description": "",
            "description_tooltip": null,
            "layout": "IPY_MODEL_af7087f3e82b4cb48cc964fefd96d78e",
            "placeholder": "​",
            "style": "IPY_MODEL_c0771dfb268e48c688edbadf9bd76a98",
            "value": "0.017 MB of 0.017 MB uploaded\r"
          }
        },
        "1b5e3cd107f34f299ac39c9ff9c43ab4": {
          "model_module": "@jupyter-widgets/controls",
          "model_name": "FloatProgressModel",
          "model_module_version": "1.5.0",
          "state": {
            "_dom_classes": [],
            "_model_module": "@jupyter-widgets/controls",
            "_model_module_version": "1.5.0",
            "_model_name": "FloatProgressModel",
            "_view_count": null,
            "_view_module": "@jupyter-widgets/controls",
            "_view_module_version": "1.5.0",
            "_view_name": "ProgressView",
            "bar_style": "",
            "description": "",
            "description_tooltip": null,
            "layout": "IPY_MODEL_5a945c85bd964ba7983045e370e3d9fb",
            "max": 1,
            "min": 0,
            "orientation": "horizontal",
            "style": "IPY_MODEL_52c44deab7d5437fafaa3bbe71fb18ac",
            "value": 1
          }
        },
        "52b4bc7d6da5446183ae7b09f98c7fac": {
          "model_module": "@jupyter-widgets/base",
          "model_name": "LayoutModel",
          "model_module_version": "1.2.0",
          "state": {
            "_model_module": "@jupyter-widgets/base",
            "_model_module_version": "1.2.0",
            "_model_name": "LayoutModel",
            "_view_count": null,
            "_view_module": "@jupyter-widgets/base",
            "_view_module_version": "1.2.0",
            "_view_name": "LayoutView",
            "align_content": null,
            "align_items": null,
            "align_self": null,
            "border": null,
            "bottom": null,
            "display": null,
            "flex": null,
            "flex_flow": null,
            "grid_area": null,
            "grid_auto_columns": null,
            "grid_auto_flow": null,
            "grid_auto_rows": null,
            "grid_column": null,
            "grid_gap": null,
            "grid_row": null,
            "grid_template_areas": null,
            "grid_template_columns": null,
            "grid_template_rows": null,
            "height": null,
            "justify_content": null,
            "justify_items": null,
            "left": null,
            "margin": null,
            "max_height": null,
            "max_width": null,
            "min_height": null,
            "min_width": null,
            "object_fit": null,
            "object_position": null,
            "order": null,
            "overflow": null,
            "overflow_x": null,
            "overflow_y": null,
            "padding": null,
            "right": null,
            "top": null,
            "visibility": null,
            "width": null
          }
        },
        "af7087f3e82b4cb48cc964fefd96d78e": {
          "model_module": "@jupyter-widgets/base",
          "model_name": "LayoutModel",
          "model_module_version": "1.2.0",
          "state": {
            "_model_module": "@jupyter-widgets/base",
            "_model_module_version": "1.2.0",
            "_model_name": "LayoutModel",
            "_view_count": null,
            "_view_module": "@jupyter-widgets/base",
            "_view_module_version": "1.2.0",
            "_view_name": "LayoutView",
            "align_content": null,
            "align_items": null,
            "align_self": null,
            "border": null,
            "bottom": null,
            "display": null,
            "flex": null,
            "flex_flow": null,
            "grid_area": null,
            "grid_auto_columns": null,
            "grid_auto_flow": null,
            "grid_auto_rows": null,
            "grid_column": null,
            "grid_gap": null,
            "grid_row": null,
            "grid_template_areas": null,
            "grid_template_columns": null,
            "grid_template_rows": null,
            "height": null,
            "justify_content": null,
            "justify_items": null,
            "left": null,
            "margin": null,
            "max_height": null,
            "max_width": null,
            "min_height": null,
            "min_width": null,
            "object_fit": null,
            "object_position": null,
            "order": null,
            "overflow": null,
            "overflow_x": null,
            "overflow_y": null,
            "padding": null,
            "right": null,
            "top": null,
            "visibility": null,
            "width": null
          }
        },
        "c0771dfb268e48c688edbadf9bd76a98": {
          "model_module": "@jupyter-widgets/controls",
          "model_name": "DescriptionStyleModel",
          "model_module_version": "1.5.0",
          "state": {
            "_model_module": "@jupyter-widgets/controls",
            "_model_module_version": "1.5.0",
            "_model_name": "DescriptionStyleModel",
            "_view_count": null,
            "_view_module": "@jupyter-widgets/base",
            "_view_module_version": "1.2.0",
            "_view_name": "StyleView",
            "description_width": ""
          }
        },
        "5a945c85bd964ba7983045e370e3d9fb": {
          "model_module": "@jupyter-widgets/base",
          "model_name": "LayoutModel",
          "model_module_version": "1.2.0",
          "state": {
            "_model_module": "@jupyter-widgets/base",
            "_model_module_version": "1.2.0",
            "_model_name": "LayoutModel",
            "_view_count": null,
            "_view_module": "@jupyter-widgets/base",
            "_view_module_version": "1.2.0",
            "_view_name": "LayoutView",
            "align_content": null,
            "align_items": null,
            "align_self": null,
            "border": null,
            "bottom": null,
            "display": null,
            "flex": null,
            "flex_flow": null,
            "grid_area": null,
            "grid_auto_columns": null,
            "grid_auto_flow": null,
            "grid_auto_rows": null,
            "grid_column": null,
            "grid_gap": null,
            "grid_row": null,
            "grid_template_areas": null,
            "grid_template_columns": null,
            "grid_template_rows": null,
            "height": null,
            "justify_content": null,
            "justify_items": null,
            "left": null,
            "margin": null,
            "max_height": null,
            "max_width": null,
            "min_height": null,
            "min_width": null,
            "object_fit": null,
            "object_position": null,
            "order": null,
            "overflow": null,
            "overflow_x": null,
            "overflow_y": null,
            "padding": null,
            "right": null,
            "top": null,
            "visibility": null,
            "width": null
          }
        },
        "52c44deab7d5437fafaa3bbe71fb18ac": {
          "model_module": "@jupyter-widgets/controls",
          "model_name": "ProgressStyleModel",
          "model_module_version": "1.5.0",
          "state": {
            "_model_module": "@jupyter-widgets/controls",
            "_model_module_version": "1.5.0",
            "_model_name": "ProgressStyleModel",
            "_view_count": null,
            "_view_module": "@jupyter-widgets/base",
            "_view_module_version": "1.2.0",
            "_view_name": "StyleView",
            "bar_color": null,
            "description_width": ""
          }
        },
        "47d7a548c3984a5eaae9f78ad6f4c912": {
          "model_module": "@jupyter-widgets/controls",
          "model_name": "VBoxModel",
          "model_module_version": "1.5.0",
          "state": {
            "_dom_classes": [],
            "_model_module": "@jupyter-widgets/controls",
            "_model_module_version": "1.5.0",
            "_model_name": "VBoxModel",
            "_view_count": null,
            "_view_module": "@jupyter-widgets/controls",
            "_view_module_version": "1.5.0",
            "_view_name": "VBoxView",
            "box_style": "",
            "children": [
              "IPY_MODEL_6a102cf5e19c4c8095a662d651486b0a",
              "IPY_MODEL_9adad4efb65d4f85a131fe2f6d12d9dd"
            ],
            "layout": "IPY_MODEL_a6ef9283855045e9a24c1f2f7f44ceaf"
          }
        },
        "6a102cf5e19c4c8095a662d651486b0a": {
          "model_module": "@jupyter-widgets/controls",
          "model_name": "LabelModel",
          "model_module_version": "1.5.0",
          "state": {
            "_dom_classes": [],
            "_model_module": "@jupyter-widgets/controls",
            "_model_module_version": "1.5.0",
            "_model_name": "LabelModel",
            "_view_count": null,
            "_view_module": "@jupyter-widgets/controls",
            "_view_module_version": "1.5.0",
            "_view_name": "LabelView",
            "description": "",
            "description_tooltip": null,
            "layout": "IPY_MODEL_d8db524e733a4b56968b2d4aa3059139",
            "placeholder": "​",
            "style": "IPY_MODEL_3c4b4fcc9664466c8c9ac6bc23060e82",
            "value": "0.016 MB of 0.016 MB uploaded\r"
          }
        },
        "9adad4efb65d4f85a131fe2f6d12d9dd": {
          "model_module": "@jupyter-widgets/controls",
          "model_name": "FloatProgressModel",
          "model_module_version": "1.5.0",
          "state": {
            "_dom_classes": [],
            "_model_module": "@jupyter-widgets/controls",
            "_model_module_version": "1.5.0",
            "_model_name": "FloatProgressModel",
            "_view_count": null,
            "_view_module": "@jupyter-widgets/controls",
            "_view_module_version": "1.5.0",
            "_view_name": "ProgressView",
            "bar_style": "",
            "description": "",
            "description_tooltip": null,
            "layout": "IPY_MODEL_3733d01f9e0b46378fd393d484204113",
            "max": 1,
            "min": 0,
            "orientation": "horizontal",
            "style": "IPY_MODEL_55e2e3d8ed0342c6abaa0ef8ee08053a",
            "value": 1
          }
        },
        "a6ef9283855045e9a24c1f2f7f44ceaf": {
          "model_module": "@jupyter-widgets/base",
          "model_name": "LayoutModel",
          "model_module_version": "1.2.0",
          "state": {
            "_model_module": "@jupyter-widgets/base",
            "_model_module_version": "1.2.0",
            "_model_name": "LayoutModel",
            "_view_count": null,
            "_view_module": "@jupyter-widgets/base",
            "_view_module_version": "1.2.0",
            "_view_name": "LayoutView",
            "align_content": null,
            "align_items": null,
            "align_self": null,
            "border": null,
            "bottom": null,
            "display": null,
            "flex": null,
            "flex_flow": null,
            "grid_area": null,
            "grid_auto_columns": null,
            "grid_auto_flow": null,
            "grid_auto_rows": null,
            "grid_column": null,
            "grid_gap": null,
            "grid_row": null,
            "grid_template_areas": null,
            "grid_template_columns": null,
            "grid_template_rows": null,
            "height": null,
            "justify_content": null,
            "justify_items": null,
            "left": null,
            "margin": null,
            "max_height": null,
            "max_width": null,
            "min_height": null,
            "min_width": null,
            "object_fit": null,
            "object_position": null,
            "order": null,
            "overflow": null,
            "overflow_x": null,
            "overflow_y": null,
            "padding": null,
            "right": null,
            "top": null,
            "visibility": null,
            "width": null
          }
        },
        "d8db524e733a4b56968b2d4aa3059139": {
          "model_module": "@jupyter-widgets/base",
          "model_name": "LayoutModel",
          "model_module_version": "1.2.0",
          "state": {
            "_model_module": "@jupyter-widgets/base",
            "_model_module_version": "1.2.0",
            "_model_name": "LayoutModel",
            "_view_count": null,
            "_view_module": "@jupyter-widgets/base",
            "_view_module_version": "1.2.0",
            "_view_name": "LayoutView",
            "align_content": null,
            "align_items": null,
            "align_self": null,
            "border": null,
            "bottom": null,
            "display": null,
            "flex": null,
            "flex_flow": null,
            "grid_area": null,
            "grid_auto_columns": null,
            "grid_auto_flow": null,
            "grid_auto_rows": null,
            "grid_column": null,
            "grid_gap": null,
            "grid_row": null,
            "grid_template_areas": null,
            "grid_template_columns": null,
            "grid_template_rows": null,
            "height": null,
            "justify_content": null,
            "justify_items": null,
            "left": null,
            "margin": null,
            "max_height": null,
            "max_width": null,
            "min_height": null,
            "min_width": null,
            "object_fit": null,
            "object_position": null,
            "order": null,
            "overflow": null,
            "overflow_x": null,
            "overflow_y": null,
            "padding": null,
            "right": null,
            "top": null,
            "visibility": null,
            "width": null
          }
        },
        "3c4b4fcc9664466c8c9ac6bc23060e82": {
          "model_module": "@jupyter-widgets/controls",
          "model_name": "DescriptionStyleModel",
          "model_module_version": "1.5.0",
          "state": {
            "_model_module": "@jupyter-widgets/controls",
            "_model_module_version": "1.5.0",
            "_model_name": "DescriptionStyleModel",
            "_view_count": null,
            "_view_module": "@jupyter-widgets/base",
            "_view_module_version": "1.2.0",
            "_view_name": "StyleView",
            "description_width": ""
          }
        },
        "3733d01f9e0b46378fd393d484204113": {
          "model_module": "@jupyter-widgets/base",
          "model_name": "LayoutModel",
          "model_module_version": "1.2.0",
          "state": {
            "_model_module": "@jupyter-widgets/base",
            "_model_module_version": "1.2.0",
            "_model_name": "LayoutModel",
            "_view_count": null,
            "_view_module": "@jupyter-widgets/base",
            "_view_module_version": "1.2.0",
            "_view_name": "LayoutView",
            "align_content": null,
            "align_items": null,
            "align_self": null,
            "border": null,
            "bottom": null,
            "display": null,
            "flex": null,
            "flex_flow": null,
            "grid_area": null,
            "grid_auto_columns": null,
            "grid_auto_flow": null,
            "grid_auto_rows": null,
            "grid_column": null,
            "grid_gap": null,
            "grid_row": null,
            "grid_template_areas": null,
            "grid_template_columns": null,
            "grid_template_rows": null,
            "height": null,
            "justify_content": null,
            "justify_items": null,
            "left": null,
            "margin": null,
            "max_height": null,
            "max_width": null,
            "min_height": null,
            "min_width": null,
            "object_fit": null,
            "object_position": null,
            "order": null,
            "overflow": null,
            "overflow_x": null,
            "overflow_y": null,
            "padding": null,
            "right": null,
            "top": null,
            "visibility": null,
            "width": null
          }
        },
        "55e2e3d8ed0342c6abaa0ef8ee08053a": {
          "model_module": "@jupyter-widgets/controls",
          "model_name": "ProgressStyleModel",
          "model_module_version": "1.5.0",
          "state": {
            "_model_module": "@jupyter-widgets/controls",
            "_model_module_version": "1.5.0",
            "_model_name": "ProgressStyleModel",
            "_view_count": null,
            "_view_module": "@jupyter-widgets/base",
            "_view_module_version": "1.2.0",
            "_view_name": "StyleView",
            "bar_color": null,
            "description_width": ""
          }
        },
        "530f54614af94f4f95d8fddbc03e413c": {
          "model_module": "@jupyter-widgets/controls",
          "model_name": "VBoxModel",
          "model_module_version": "1.5.0",
          "state": {
            "_dom_classes": [],
            "_model_module": "@jupyter-widgets/controls",
            "_model_module_version": "1.5.0",
            "_model_name": "VBoxModel",
            "_view_count": null,
            "_view_module": "@jupyter-widgets/controls",
            "_view_module_version": "1.5.0",
            "_view_name": "VBoxView",
            "box_style": "",
            "children": [
              "IPY_MODEL_cabffd70be754106b997adc980461020",
              "IPY_MODEL_e2927fed997e4d06a794edbae136f8ec"
            ],
            "layout": "IPY_MODEL_5b95828c419049a6aa966a982c846a39"
          }
        },
        "cabffd70be754106b997adc980461020": {
          "model_module": "@jupyter-widgets/controls",
          "model_name": "LabelModel",
          "model_module_version": "1.5.0",
          "state": {
            "_dom_classes": [],
            "_model_module": "@jupyter-widgets/controls",
            "_model_module_version": "1.5.0",
            "_model_name": "LabelModel",
            "_view_count": null,
            "_view_module": "@jupyter-widgets/controls",
            "_view_module_version": "1.5.0",
            "_view_name": "LabelView",
            "description": "",
            "description_tooltip": null,
            "layout": "IPY_MODEL_99f00a8634f543259de46e42c07838a4",
            "placeholder": "​",
            "style": "IPY_MODEL_4962b2122d6c4cfa99c2a58192a2cb66",
            "value": "0.016 MB of 0.016 MB uploaded\r"
          }
        },
        "e2927fed997e4d06a794edbae136f8ec": {
          "model_module": "@jupyter-widgets/controls",
          "model_name": "FloatProgressModel",
          "model_module_version": "1.5.0",
          "state": {
            "_dom_classes": [],
            "_model_module": "@jupyter-widgets/controls",
            "_model_module_version": "1.5.0",
            "_model_name": "FloatProgressModel",
            "_view_count": null,
            "_view_module": "@jupyter-widgets/controls",
            "_view_module_version": "1.5.0",
            "_view_name": "ProgressView",
            "bar_style": "",
            "description": "",
            "description_tooltip": null,
            "layout": "IPY_MODEL_f35c89ab73a0485baec3e9de6b83592a",
            "max": 1,
            "min": 0,
            "orientation": "horizontal",
            "style": "IPY_MODEL_b34169c35e4d41f98fd7c0870ea8fe39",
            "value": 1
          }
        },
        "5b95828c419049a6aa966a982c846a39": {
          "model_module": "@jupyter-widgets/base",
          "model_name": "LayoutModel",
          "model_module_version": "1.2.0",
          "state": {
            "_model_module": "@jupyter-widgets/base",
            "_model_module_version": "1.2.0",
            "_model_name": "LayoutModel",
            "_view_count": null,
            "_view_module": "@jupyter-widgets/base",
            "_view_module_version": "1.2.0",
            "_view_name": "LayoutView",
            "align_content": null,
            "align_items": null,
            "align_self": null,
            "border": null,
            "bottom": null,
            "display": null,
            "flex": null,
            "flex_flow": null,
            "grid_area": null,
            "grid_auto_columns": null,
            "grid_auto_flow": null,
            "grid_auto_rows": null,
            "grid_column": null,
            "grid_gap": null,
            "grid_row": null,
            "grid_template_areas": null,
            "grid_template_columns": null,
            "grid_template_rows": null,
            "height": null,
            "justify_content": null,
            "justify_items": null,
            "left": null,
            "margin": null,
            "max_height": null,
            "max_width": null,
            "min_height": null,
            "min_width": null,
            "object_fit": null,
            "object_position": null,
            "order": null,
            "overflow": null,
            "overflow_x": null,
            "overflow_y": null,
            "padding": null,
            "right": null,
            "top": null,
            "visibility": null,
            "width": null
          }
        },
        "99f00a8634f543259de46e42c07838a4": {
          "model_module": "@jupyter-widgets/base",
          "model_name": "LayoutModel",
          "model_module_version": "1.2.0",
          "state": {
            "_model_module": "@jupyter-widgets/base",
            "_model_module_version": "1.2.0",
            "_model_name": "LayoutModel",
            "_view_count": null,
            "_view_module": "@jupyter-widgets/base",
            "_view_module_version": "1.2.0",
            "_view_name": "LayoutView",
            "align_content": null,
            "align_items": null,
            "align_self": null,
            "border": null,
            "bottom": null,
            "display": null,
            "flex": null,
            "flex_flow": null,
            "grid_area": null,
            "grid_auto_columns": null,
            "grid_auto_flow": null,
            "grid_auto_rows": null,
            "grid_column": null,
            "grid_gap": null,
            "grid_row": null,
            "grid_template_areas": null,
            "grid_template_columns": null,
            "grid_template_rows": null,
            "height": null,
            "justify_content": null,
            "justify_items": null,
            "left": null,
            "margin": null,
            "max_height": null,
            "max_width": null,
            "min_height": null,
            "min_width": null,
            "object_fit": null,
            "object_position": null,
            "order": null,
            "overflow": null,
            "overflow_x": null,
            "overflow_y": null,
            "padding": null,
            "right": null,
            "top": null,
            "visibility": null,
            "width": null
          }
        },
        "4962b2122d6c4cfa99c2a58192a2cb66": {
          "model_module": "@jupyter-widgets/controls",
          "model_name": "DescriptionStyleModel",
          "model_module_version": "1.5.0",
          "state": {
            "_model_module": "@jupyter-widgets/controls",
            "_model_module_version": "1.5.0",
            "_model_name": "DescriptionStyleModel",
            "_view_count": null,
            "_view_module": "@jupyter-widgets/base",
            "_view_module_version": "1.2.0",
            "_view_name": "StyleView",
            "description_width": ""
          }
        },
        "f35c89ab73a0485baec3e9de6b83592a": {
          "model_module": "@jupyter-widgets/base",
          "model_name": "LayoutModel",
          "model_module_version": "1.2.0",
          "state": {
            "_model_module": "@jupyter-widgets/base",
            "_model_module_version": "1.2.0",
            "_model_name": "LayoutModel",
            "_view_count": null,
            "_view_module": "@jupyter-widgets/base",
            "_view_module_version": "1.2.0",
            "_view_name": "LayoutView",
            "align_content": null,
            "align_items": null,
            "align_self": null,
            "border": null,
            "bottom": null,
            "display": null,
            "flex": null,
            "flex_flow": null,
            "grid_area": null,
            "grid_auto_columns": null,
            "grid_auto_flow": null,
            "grid_auto_rows": null,
            "grid_column": null,
            "grid_gap": null,
            "grid_row": null,
            "grid_template_areas": null,
            "grid_template_columns": null,
            "grid_template_rows": null,
            "height": null,
            "justify_content": null,
            "justify_items": null,
            "left": null,
            "margin": null,
            "max_height": null,
            "max_width": null,
            "min_height": null,
            "min_width": null,
            "object_fit": null,
            "object_position": null,
            "order": null,
            "overflow": null,
            "overflow_x": null,
            "overflow_y": null,
            "padding": null,
            "right": null,
            "top": null,
            "visibility": null,
            "width": null
          }
        },
        "b34169c35e4d41f98fd7c0870ea8fe39": {
          "model_module": "@jupyter-widgets/controls",
          "model_name": "ProgressStyleModel",
          "model_module_version": "1.5.0",
          "state": {
            "_model_module": "@jupyter-widgets/controls",
            "_model_module_version": "1.5.0",
            "_model_name": "ProgressStyleModel",
            "_view_count": null,
            "_view_module": "@jupyter-widgets/base",
            "_view_module_version": "1.2.0",
            "_view_name": "StyleView",
            "bar_color": null,
            "description_width": ""
          }
        },
        "b445952f13004c15a935a39cd0f5f296": {
          "model_module": "@jupyter-widgets/controls",
          "model_name": "VBoxModel",
          "model_module_version": "1.5.0",
          "state": {
            "_dom_classes": [],
            "_model_module": "@jupyter-widgets/controls",
            "_model_module_version": "1.5.0",
            "_model_name": "VBoxModel",
            "_view_count": null,
            "_view_module": "@jupyter-widgets/controls",
            "_view_module_version": "1.5.0",
            "_view_name": "VBoxView",
            "box_style": "",
            "children": [
              "IPY_MODEL_04b5cb0db6ac447a9dc45377ffc409b0",
              "IPY_MODEL_65167d57832f40a8bc47ff85fad5357c"
            ],
            "layout": "IPY_MODEL_3f20863cc7c14155a415e13356727987"
          }
        },
        "04b5cb0db6ac447a9dc45377ffc409b0": {
          "model_module": "@jupyter-widgets/controls",
          "model_name": "LabelModel",
          "model_module_version": "1.5.0",
          "state": {
            "_dom_classes": [],
            "_model_module": "@jupyter-widgets/controls",
            "_model_module_version": "1.5.0",
            "_model_name": "LabelModel",
            "_view_count": null,
            "_view_module": "@jupyter-widgets/controls",
            "_view_module_version": "1.5.0",
            "_view_name": "LabelView",
            "description": "",
            "description_tooltip": null,
            "layout": "IPY_MODEL_1d7a3de8392b430598db7af11d4e4036",
            "placeholder": "​",
            "style": "IPY_MODEL_56e86a4d2e1e4a74b82d20b541e26d8b",
            "value": "0.019 MB of 0.019 MB uploaded\r"
          }
        },
        "65167d57832f40a8bc47ff85fad5357c": {
          "model_module": "@jupyter-widgets/controls",
          "model_name": "FloatProgressModel",
          "model_module_version": "1.5.0",
          "state": {
            "_dom_classes": [],
            "_model_module": "@jupyter-widgets/controls",
            "_model_module_version": "1.5.0",
            "_model_name": "FloatProgressModel",
            "_view_count": null,
            "_view_module": "@jupyter-widgets/controls",
            "_view_module_version": "1.5.0",
            "_view_name": "ProgressView",
            "bar_style": "",
            "description": "",
            "description_tooltip": null,
            "layout": "IPY_MODEL_e4d2a5b40ee242b79cdf89918da2fe05",
            "max": 1,
            "min": 0,
            "orientation": "horizontal",
            "style": "IPY_MODEL_0fd92336a91a4c4ea63d3313759d6e24",
            "value": 1
          }
        },
        "3f20863cc7c14155a415e13356727987": {
          "model_module": "@jupyter-widgets/base",
          "model_name": "LayoutModel",
          "model_module_version": "1.2.0",
          "state": {
            "_model_module": "@jupyter-widgets/base",
            "_model_module_version": "1.2.0",
            "_model_name": "LayoutModel",
            "_view_count": null,
            "_view_module": "@jupyter-widgets/base",
            "_view_module_version": "1.2.0",
            "_view_name": "LayoutView",
            "align_content": null,
            "align_items": null,
            "align_self": null,
            "border": null,
            "bottom": null,
            "display": null,
            "flex": null,
            "flex_flow": null,
            "grid_area": null,
            "grid_auto_columns": null,
            "grid_auto_flow": null,
            "grid_auto_rows": null,
            "grid_column": null,
            "grid_gap": null,
            "grid_row": null,
            "grid_template_areas": null,
            "grid_template_columns": null,
            "grid_template_rows": null,
            "height": null,
            "justify_content": null,
            "justify_items": null,
            "left": null,
            "margin": null,
            "max_height": null,
            "max_width": null,
            "min_height": null,
            "min_width": null,
            "object_fit": null,
            "object_position": null,
            "order": null,
            "overflow": null,
            "overflow_x": null,
            "overflow_y": null,
            "padding": null,
            "right": null,
            "top": null,
            "visibility": null,
            "width": null
          }
        },
        "1d7a3de8392b430598db7af11d4e4036": {
          "model_module": "@jupyter-widgets/base",
          "model_name": "LayoutModel",
          "model_module_version": "1.2.0",
          "state": {
            "_model_module": "@jupyter-widgets/base",
            "_model_module_version": "1.2.0",
            "_model_name": "LayoutModel",
            "_view_count": null,
            "_view_module": "@jupyter-widgets/base",
            "_view_module_version": "1.2.0",
            "_view_name": "LayoutView",
            "align_content": null,
            "align_items": null,
            "align_self": null,
            "border": null,
            "bottom": null,
            "display": null,
            "flex": null,
            "flex_flow": null,
            "grid_area": null,
            "grid_auto_columns": null,
            "grid_auto_flow": null,
            "grid_auto_rows": null,
            "grid_column": null,
            "grid_gap": null,
            "grid_row": null,
            "grid_template_areas": null,
            "grid_template_columns": null,
            "grid_template_rows": null,
            "height": null,
            "justify_content": null,
            "justify_items": null,
            "left": null,
            "margin": null,
            "max_height": null,
            "max_width": null,
            "min_height": null,
            "min_width": null,
            "object_fit": null,
            "object_position": null,
            "order": null,
            "overflow": null,
            "overflow_x": null,
            "overflow_y": null,
            "padding": null,
            "right": null,
            "top": null,
            "visibility": null,
            "width": null
          }
        },
        "56e86a4d2e1e4a74b82d20b541e26d8b": {
          "model_module": "@jupyter-widgets/controls",
          "model_name": "DescriptionStyleModel",
          "model_module_version": "1.5.0",
          "state": {
            "_model_module": "@jupyter-widgets/controls",
            "_model_module_version": "1.5.0",
            "_model_name": "DescriptionStyleModel",
            "_view_count": null,
            "_view_module": "@jupyter-widgets/base",
            "_view_module_version": "1.2.0",
            "_view_name": "StyleView",
            "description_width": ""
          }
        },
        "e4d2a5b40ee242b79cdf89918da2fe05": {
          "model_module": "@jupyter-widgets/base",
          "model_name": "LayoutModel",
          "model_module_version": "1.2.0",
          "state": {
            "_model_module": "@jupyter-widgets/base",
            "_model_module_version": "1.2.0",
            "_model_name": "LayoutModel",
            "_view_count": null,
            "_view_module": "@jupyter-widgets/base",
            "_view_module_version": "1.2.0",
            "_view_name": "LayoutView",
            "align_content": null,
            "align_items": null,
            "align_self": null,
            "border": null,
            "bottom": null,
            "display": null,
            "flex": null,
            "flex_flow": null,
            "grid_area": null,
            "grid_auto_columns": null,
            "grid_auto_flow": null,
            "grid_auto_rows": null,
            "grid_column": null,
            "grid_gap": null,
            "grid_row": null,
            "grid_template_areas": null,
            "grid_template_columns": null,
            "grid_template_rows": null,
            "height": null,
            "justify_content": null,
            "justify_items": null,
            "left": null,
            "margin": null,
            "max_height": null,
            "max_width": null,
            "min_height": null,
            "min_width": null,
            "object_fit": null,
            "object_position": null,
            "order": null,
            "overflow": null,
            "overflow_x": null,
            "overflow_y": null,
            "padding": null,
            "right": null,
            "top": null,
            "visibility": null,
            "width": null
          }
        },
        "0fd92336a91a4c4ea63d3313759d6e24": {
          "model_module": "@jupyter-widgets/controls",
          "model_name": "ProgressStyleModel",
          "model_module_version": "1.5.0",
          "state": {
            "_model_module": "@jupyter-widgets/controls",
            "_model_module_version": "1.5.0",
            "_model_name": "ProgressStyleModel",
            "_view_count": null,
            "_view_module": "@jupyter-widgets/base",
            "_view_module_version": "1.2.0",
            "_view_name": "StyleView",
            "bar_color": null,
            "description_width": ""
          }
        },
        "d296c8080188434e9f7758d20d78b861": {
          "model_module": "@jupyter-widgets/controls",
          "model_name": "VBoxModel",
          "model_module_version": "1.5.0",
          "state": {
            "_dom_classes": [],
            "_model_module": "@jupyter-widgets/controls",
            "_model_module_version": "1.5.0",
            "_model_name": "VBoxModel",
            "_view_count": null,
            "_view_module": "@jupyter-widgets/controls",
            "_view_module_version": "1.5.0",
            "_view_name": "VBoxView",
            "box_style": "",
            "children": [
              "IPY_MODEL_ed6088c1c29b4cae9a0d1ecfbf823afc",
              "IPY_MODEL_7ce3ce01a1334f289b17e5183412194e"
            ],
            "layout": "IPY_MODEL_2baab2aaab064f94bdb1739fd2ff9c38"
          }
        },
        "ed6088c1c29b4cae9a0d1ecfbf823afc": {
          "model_module": "@jupyter-widgets/controls",
          "model_name": "LabelModel",
          "model_module_version": "1.5.0",
          "state": {
            "_dom_classes": [],
            "_model_module": "@jupyter-widgets/controls",
            "_model_module_version": "1.5.0",
            "_model_name": "LabelModel",
            "_view_count": null,
            "_view_module": "@jupyter-widgets/controls",
            "_view_module_version": "1.5.0",
            "_view_name": "LabelView",
            "description": "",
            "description_tooltip": null,
            "layout": "IPY_MODEL_b3ed8e682f3a4b16ae7f80a44bfe4ec9",
            "placeholder": "​",
            "style": "IPY_MODEL_1ba4f1638abb409989877f362592e52f",
            "value": "0.016 MB of 0.016 MB uploaded\r"
          }
        },
        "7ce3ce01a1334f289b17e5183412194e": {
          "model_module": "@jupyter-widgets/controls",
          "model_name": "FloatProgressModel",
          "model_module_version": "1.5.0",
          "state": {
            "_dom_classes": [],
            "_model_module": "@jupyter-widgets/controls",
            "_model_module_version": "1.5.0",
            "_model_name": "FloatProgressModel",
            "_view_count": null,
            "_view_module": "@jupyter-widgets/controls",
            "_view_module_version": "1.5.0",
            "_view_name": "ProgressView",
            "bar_style": "",
            "description": "",
            "description_tooltip": null,
            "layout": "IPY_MODEL_247b591210a44ccea4c846ae5996798e",
            "max": 1,
            "min": 0,
            "orientation": "horizontal",
            "style": "IPY_MODEL_64a86975ce1547cc8e93ca2c110d3235",
            "value": 1
          }
        },
        "2baab2aaab064f94bdb1739fd2ff9c38": {
          "model_module": "@jupyter-widgets/base",
          "model_name": "LayoutModel",
          "model_module_version": "1.2.0",
          "state": {
            "_model_module": "@jupyter-widgets/base",
            "_model_module_version": "1.2.0",
            "_model_name": "LayoutModel",
            "_view_count": null,
            "_view_module": "@jupyter-widgets/base",
            "_view_module_version": "1.2.0",
            "_view_name": "LayoutView",
            "align_content": null,
            "align_items": null,
            "align_self": null,
            "border": null,
            "bottom": null,
            "display": null,
            "flex": null,
            "flex_flow": null,
            "grid_area": null,
            "grid_auto_columns": null,
            "grid_auto_flow": null,
            "grid_auto_rows": null,
            "grid_column": null,
            "grid_gap": null,
            "grid_row": null,
            "grid_template_areas": null,
            "grid_template_columns": null,
            "grid_template_rows": null,
            "height": null,
            "justify_content": null,
            "justify_items": null,
            "left": null,
            "margin": null,
            "max_height": null,
            "max_width": null,
            "min_height": null,
            "min_width": null,
            "object_fit": null,
            "object_position": null,
            "order": null,
            "overflow": null,
            "overflow_x": null,
            "overflow_y": null,
            "padding": null,
            "right": null,
            "top": null,
            "visibility": null,
            "width": null
          }
        },
        "b3ed8e682f3a4b16ae7f80a44bfe4ec9": {
          "model_module": "@jupyter-widgets/base",
          "model_name": "LayoutModel",
          "model_module_version": "1.2.0",
          "state": {
            "_model_module": "@jupyter-widgets/base",
            "_model_module_version": "1.2.0",
            "_model_name": "LayoutModel",
            "_view_count": null,
            "_view_module": "@jupyter-widgets/base",
            "_view_module_version": "1.2.0",
            "_view_name": "LayoutView",
            "align_content": null,
            "align_items": null,
            "align_self": null,
            "border": null,
            "bottom": null,
            "display": null,
            "flex": null,
            "flex_flow": null,
            "grid_area": null,
            "grid_auto_columns": null,
            "grid_auto_flow": null,
            "grid_auto_rows": null,
            "grid_column": null,
            "grid_gap": null,
            "grid_row": null,
            "grid_template_areas": null,
            "grid_template_columns": null,
            "grid_template_rows": null,
            "height": null,
            "justify_content": null,
            "justify_items": null,
            "left": null,
            "margin": null,
            "max_height": null,
            "max_width": null,
            "min_height": null,
            "min_width": null,
            "object_fit": null,
            "object_position": null,
            "order": null,
            "overflow": null,
            "overflow_x": null,
            "overflow_y": null,
            "padding": null,
            "right": null,
            "top": null,
            "visibility": null,
            "width": null
          }
        },
        "1ba4f1638abb409989877f362592e52f": {
          "model_module": "@jupyter-widgets/controls",
          "model_name": "DescriptionStyleModel",
          "model_module_version": "1.5.0",
          "state": {
            "_model_module": "@jupyter-widgets/controls",
            "_model_module_version": "1.5.0",
            "_model_name": "DescriptionStyleModel",
            "_view_count": null,
            "_view_module": "@jupyter-widgets/base",
            "_view_module_version": "1.2.0",
            "_view_name": "StyleView",
            "description_width": ""
          }
        },
        "247b591210a44ccea4c846ae5996798e": {
          "model_module": "@jupyter-widgets/base",
          "model_name": "LayoutModel",
          "model_module_version": "1.2.0",
          "state": {
            "_model_module": "@jupyter-widgets/base",
            "_model_module_version": "1.2.0",
            "_model_name": "LayoutModel",
            "_view_count": null,
            "_view_module": "@jupyter-widgets/base",
            "_view_module_version": "1.2.0",
            "_view_name": "LayoutView",
            "align_content": null,
            "align_items": null,
            "align_self": null,
            "border": null,
            "bottom": null,
            "display": null,
            "flex": null,
            "flex_flow": null,
            "grid_area": null,
            "grid_auto_columns": null,
            "grid_auto_flow": null,
            "grid_auto_rows": null,
            "grid_column": null,
            "grid_gap": null,
            "grid_row": null,
            "grid_template_areas": null,
            "grid_template_columns": null,
            "grid_template_rows": null,
            "height": null,
            "justify_content": null,
            "justify_items": null,
            "left": null,
            "margin": null,
            "max_height": null,
            "max_width": null,
            "min_height": null,
            "min_width": null,
            "object_fit": null,
            "object_position": null,
            "order": null,
            "overflow": null,
            "overflow_x": null,
            "overflow_y": null,
            "padding": null,
            "right": null,
            "top": null,
            "visibility": null,
            "width": null
          }
        },
        "64a86975ce1547cc8e93ca2c110d3235": {
          "model_module": "@jupyter-widgets/controls",
          "model_name": "ProgressStyleModel",
          "model_module_version": "1.5.0",
          "state": {
            "_model_module": "@jupyter-widgets/controls",
            "_model_module_version": "1.5.0",
            "_model_name": "ProgressStyleModel",
            "_view_count": null,
            "_view_module": "@jupyter-widgets/base",
            "_view_module_version": "1.2.0",
            "_view_name": "StyleView",
            "bar_color": null,
            "description_width": ""
          }
        }
      }
    }
  },
  "cells": [
    {
      "cell_type": "markdown",
      "metadata": {
        "id": "view-in-github",
        "colab_type": "text"
      },
      "source": [
        "<a href=\"https://colab.research.google.com/github/KNL1979/DS807/blob/main/Q3_1_CNN_model_resized_images.ipynb\" target=\"_parent\"><img src=\"https://colab.research.google.com/assets/colab-badge.svg\" alt=\"Open In Colab\"/></a>"
      ]
    },
    {
      "cell_type": "markdown",
      "source": [
        "# Install wandb"
      ],
      "metadata": {
        "id": "P4xQkXIFnRPW"
      }
    },
    {
      "cell_type": "code",
      "execution_count": 1,
      "metadata": {
        "id": "_fQ-iXrIm43h",
        "colab": {
          "base_uri": "https://localhost:8080/"
        },
        "outputId": "82c67813-6ff0-4836-905e-389e9359ea51"
      },
      "outputs": [
        {
          "output_type": "stream",
          "name": "stdout",
          "text": [
            "\u001b[2K     \u001b[90m━━━━━━━━━━━━━━━━━━━━━━━━━━━━━━━━━━━━━━━━\u001b[0m \u001b[32m2.2/2.2 MB\u001b[0m \u001b[31m14.8 MB/s\u001b[0m eta \u001b[36m0:00:00\u001b[0m\n",
            "\u001b[2K     \u001b[90m━━━━━━━━━━━━━━━━━━━━━━━━━━━━━━━━━━━━━━━━\u001b[0m \u001b[32m196.4/196.4 kB\u001b[0m \u001b[31m13.0 MB/s\u001b[0m eta \u001b[36m0:00:00\u001b[0m\n",
            "\u001b[2K     \u001b[90m━━━━━━━━━━━━━━━━━━━━━━━━━━━━━━━━━━━━━━━━\u001b[0m \u001b[32m254.1/254.1 kB\u001b[0m \u001b[31m17.0 MB/s\u001b[0m eta \u001b[36m0:00:00\u001b[0m\n",
            "\u001b[2K     \u001b[90m━━━━━━━━━━━━━━━━━━━━━━━━━━━━━━━━━━━━━━━━\u001b[0m \u001b[32m62.7/62.7 kB\u001b[0m \u001b[31m6.1 MB/s\u001b[0m eta \u001b[36m0:00:00\u001b[0m\n",
            "\u001b[?25h"
          ]
        }
      ],
      "source": [
        "!pip install wandb -Uq"
      ]
    },
    {
      "cell_type": "markdown",
      "source": [
        "# Import libraries"
      ],
      "metadata": {
        "id": "ffZjj1LhnUhi"
      }
    },
    {
      "cell_type": "code",
      "source": [
        "import os\n",
        "import wandb\n",
        "from wandb.keras import WandbCallback\n",
        "\n",
        "import tensorflow as tf\n",
        "from tensorflow.keras.layers import Input, Dense, Conv2D, Flatten, Dropout, Reshape, BatchNormalization, MaxPooling2D, SpatialDropout2D\n",
        "from tensorflow.keras.models import Model, Sequential\n",
        "from tensorflow.keras.optimizers import SGD, Adam\n",
        "from tensorflow.keras.preprocessing.image import ImageDataGenerator\n",
        "\n",
        "import numpy as np\n",
        "import matplotlib.pyplot as plt\n",
        "from sklearn.metrics import accuracy_score, precision_recall_fscore_support"
      ],
      "metadata": {
        "id": "6Pzc9uagnAz9"
      },
      "execution_count": 2,
      "outputs": []
    },
    {
      "cell_type": "markdown",
      "source": [
        "# Mount drive"
      ],
      "metadata": {
        "id": "Ue3e8-K_nZ4X"
      }
    },
    {
      "cell_type": "code",
      "source": [
        "from google.colab import drive\n",
        "drive.mount('/content/gdrive')"
      ],
      "metadata": {
        "colab": {
          "base_uri": "https://localhost:8080/"
        },
        "id": "rE2-xaWjnER4",
        "outputId": "9e8cd5ab-90bf-4731-a6e2-0d9eede541f7"
      },
      "execution_count": 3,
      "outputs": [
        {
          "output_type": "stream",
          "name": "stdout",
          "text": [
            "Mounted at /content/gdrive\n"
          ]
        }
      ]
    },
    {
      "cell_type": "markdown",
      "source": [
        "# Set directory"
      ],
      "metadata": {
        "id": "IE1kUbZ2ncRx"
      }
    },
    {
      "cell_type": "code",
      "source": [
        "%cd '/content/gdrive/My Drive/AML_Exam/problem1/'"
      ],
      "metadata": {
        "colab": {
          "base_uri": "https://localhost:8080/"
        },
        "id": "WNXuI3oOnGPO",
        "outputId": "d71c3345-757e-47ef-dbee-e676c638bde3"
      },
      "execution_count": 4,
      "outputs": [
        {
          "output_type": "stream",
          "name": "stdout",
          "text": [
            "/content/gdrive/My Drive/AML_Exam/problem1\n"
          ]
        }
      ]
    },
    {
      "cell_type": "markdown",
      "source": [
        "# Load data"
      ],
      "metadata": {
        "id": "3DfD6cuwne3X"
      }
    },
    {
      "cell_type": "code",
      "source": [
        "# Load features\n",
        "X_train_original = np.load('AE/datasets/X_train_new.npy')\n",
        "X_val_original = np.load('AE/datasets/X_val_new.npy')\n",
        "X_test_original = np.load('AE/datasets/X_test_new.npy')\n",
        "\n",
        "# Load labels\n",
        "y_train = np.load('y_train_new.npy')\n",
        "y_val = np.load('y_val_new.npy')\n",
        "y_test = np.load('y_test_new.npy')"
      ],
      "metadata": {
        "id": "uHMmy6zDngIJ"
      },
      "execution_count": 5,
      "outputs": []
    },
    {
      "cell_type": "markdown",
      "source": [
        "# Resize data"
      ],
      "metadata": {
        "id": "wtzGxLaToSrN"
      }
    },
    {
      "cell_type": "code",
      "source": [
        "def resize_and_normalize_image(image):\n",
        "    image = tf.image.resize(image, [32, 32])\n",
        "    image = tf.image.rgb_to_grayscale(image)\n",
        "    return image / 255.0\n",
        "\n",
        "# Apply resize_and_normalize_image function to each set of images\n",
        "X_train = np.array([resize_and_normalize_image(img) for img in X_train_original])\n",
        "X_val = np.array([resize_and_normalize_image(img) for img in X_val_original])\n",
        "X_test = np.array([resize_and_normalize_image(img) for img in X_test_original])"
      ],
      "metadata": {
        "id": "20yc_-ZCoXW9"
      },
      "execution_count": 6,
      "outputs": []
    },
    {
      "cell_type": "code",
      "source": [
        "print(\"Original Image Shapes:\")\n",
        "print(X_train_original.shape, X_val_original.shape, X_test_original.shape)\n",
        "print(\"Resized Image Shapes:\")\n",
        "print(X_train.shape, X_val.shape, X_test.shape)\n",
        "print(\"Label Shapes:\")\n",
        "print(y_train.shape, y_val.shape, y_test.shape)"
      ],
      "metadata": {
        "colab": {
          "base_uri": "https://localhost:8080/"
        },
        "id": "MSxsy_xjGr2l",
        "outputId": "472571fa-4c04-4a45-9284-639f01546413"
      },
      "execution_count": 7,
      "outputs": [
        {
          "output_type": "stream",
          "name": "stdout",
          "text": [
            "Original Image Shapes:\n",
            "(55050, 96, 96, 3) (15729, 96, 96, 3) (7864, 96, 96, 3)\n",
            "Resized Image Shapes:\n",
            "(55050, 32, 32, 1) (15729, 32, 32, 1) (7864, 32, 32, 1)\n",
            "Label Shapes:\n",
            "(55050, 2) (15729, 2) (7864, 2)\n"
          ]
        }
      ]
    },
    {
      "cell_type": "markdown",
      "source": [
        "# Is the dataset balanced?"
      ],
      "metadata": {
        "id": "sU9J3txUiG0Y"
      }
    },
    {
      "cell_type": "code",
      "source": [
        "print(\"Class distribution in training set:\")\n",
        "print(np.sum(y_train, axis=0))\n",
        "\n",
        "print(\"\\nClass distribution in validation set:\")\n",
        "print(np.sum(y_val, axis=0))\n",
        "\n",
        "print(\"\\nClass distribution in test set:\")\n",
        "print(np.sum(y_test, axis=0))"
      ],
      "metadata": {
        "colab": {
          "base_uri": "https://localhost:8080/"
        },
        "id": "fshqZZGLqn7K",
        "outputId": "59239d28-f5a6-42c4-fe2b-0d5412c09bd4"
      },
      "execution_count": 8,
      "outputs": [
        {
          "output_type": "stream",
          "name": "stdout",
          "text": [
            "Class distribution in training set:\n",
            "[27370. 27680.]\n",
            "\n",
            "Class distribution in validation set:\n",
            "[8008. 7721.]\n",
            "\n",
            "Class distribution in test set:\n",
            "[3931. 3933.]\n"
          ]
        }
      ]
    },
    {
      "cell_type": "markdown",
      "source": [
        "# Show images"
      ],
      "metadata": {
        "id": "ih5XQ34IyVEC"
      }
    },
    {
      "cell_type": "code",
      "source": [
        "# Display 5 pairs of original and resized images from X_train\n",
        "plt.figure(figsize=(16, 4))\n",
        "\n",
        "for i in range(5):\n",
        "    original_image = X_train_original[i]\n",
        "    resized_image = X_train[i]\n",
        "\n",
        "    # Original image\n",
        "    plt.subplot(2, 5, i+1)\n",
        "    plt.imshow(original_image)\n",
        "    plt.title(\"Original Image\")\n",
        "    plt.axis(\"off\")\n",
        "\n",
        "    # Resized image\n",
        "    plt.subplot(2, 5, i+6)\n",
        "    plt.imshow(resized_image[:, :, 0],cmap='gray')\n",
        "    plt.title(\"Resized Image\")\n",
        "    plt.axis(\"off\")\n",
        "\n",
        "plt.tight_layout()\n",
        "\n",
        "plt.show()"
      ],
      "metadata": {
        "colab": {
          "base_uri": "https://localhost:8080/",
          "height": 407
        },
        "id": "LylhlkipGWdG",
        "outputId": "1be3ca15-2a9f-4446-c894-e237944c08d0"
      },
      "execution_count": 9,
      "outputs": [
        {
          "output_type": "display_data",
          "data": {
            "text/plain": [
              "<Figure size 1600x400 with 10 Axes>"
            ],
            "image/png": "[encoded data removed]"
          },
          "metadata": {}
        }
      ]
    },
    {
      "cell_type": "markdown",
      "source": [
        "# Setup wandb"
      ],
      "metadata": {
        "id": "n6EjpfH2TAKe"
      }
    },
    {
      "cell_type": "code",
      "source": [
        "## Here you need to supply your own wandb API key (if it has not been set by wandb login at prompt has not been used), project name and entity name.\n",
        "\n",
        "os.environ[\"WANDB_API_KEY\"]= '5133144760b6264ec0a9f8478f203eae1b18020c'"
      ],
      "metadata": {
        "id": "u4DwWwNDTChD"
      },
      "execution_count": 47,
      "outputs": []
    },
    {
      "cell_type": "code",
      "source": [
        "# Login to W&B (call this before any other W&B functions)\n",
        "wandb.login()"
      ],
      "metadata": {
        "id": "pIeONUUFTDLm",
        "colab": {
          "base_uri": "https://localhost:8080/"
        },
        "outputId": "54c8bef5-c4f0-4907-81c5-adeeb4e80a61"
      },
      "execution_count": 48,
      "outputs": [
        {
          "output_type": "stream",
          "name": "stderr",
          "text": [
            "\u001b[34m\u001b[1mwandb\u001b[0m: Currently logged in as: \u001b[33mkimlund1979\u001b[0m (\u001b[33mcoffeegang\u001b[0m). Use \u001b[1m`wandb login --relogin`\u001b[0m to force relogin\n"
          ]
        },
        {
          "output_type": "execute_result",
          "data": {
            "text/plain": [
              "True"
            ]
          },
          "metadata": {},
          "execution_count": 48
        }
      ]
    },
    {
      "cell_type": "code",
      "source": [
        "# Sweep configuration\n",
        "sweep_name = 'Kim_CNN_resize'\n",
        "sweep_config = {\n",
        "    'name': sweep_name,\n",
        "    'method': 'random',\n",
        "    'metric': {\n",
        "        'name': 'loss',\n",
        "        'goal': 'minimize'\n",
        "    },\n",
        "    'parameters': {\n",
        "        'batch_size': {'distribution': 'q_log_uniform_values', 'min': 16, 'max': 256},\n",
        "        'dropout_conv': {'values': [0.0, 0.1, 0.2, 0.3, 0.4, 0.5]},  # Dropout for Conv layers\n",
        "        'dropout_dense': {'values': [0.0, 0.1, 0.2, 0.3, 0.4, 0.5]},  # Dropout for Dense layers\n",
        "        'learning_rate': {'distribution': 'log_uniform_values', 'min': 5e-6, 'max': 1e-4},\n",
        "        'hidden_layer_size': {'values': [256, 512, 1024]},\n",
        "        'hidden_layers': {'min': 2, 'max': 5},\n",
        "        'filters': {'values': [16, 32, 64]},\n",
        "        'kernel_size': {'values': [3, 5]}\n",
        "    }\n",
        "}"
      ],
      "metadata": {
        "id": "YO04ZerFTF80"
      },
      "execution_count": 49,
      "outputs": []
    },
    {
      "cell_type": "code",
      "source": [
        "sweep_id = wandb.sweep(sweep_config, project=\"Kim_sweeps\", entity='coffeegang')"
      ],
      "metadata": {
        "id": "HKOzQ5B6TLAc",
        "colab": {
          "base_uri": "https://localhost:8080/"
        },
        "outputId": "fb868d4e-2327-49b0-ab68-2e5cfb070387"
      },
      "execution_count": 50,
      "outputs": [
        {
          "output_type": "stream",
          "name": "stdout",
          "text": [
            "Create sweep with ID: w44abky7\n",
            "Sweep URL: https://wandb.ai/coffeegang/Kim_sweeps/sweeps/w44abky7\n"
          ]
        }
      ]
    },
    {
      "cell_type": "markdown",
      "source": [
        "# Hyperparameter search, employing 'wandb'-sweep"
      ],
      "metadata": {
        "id": "wWxCl8fe06Du"
      }
    },
    {
      "cell_type": "code",
      "source": [
        "def train():\n",
        "    # Default values for hyper-parameters we're going to sweep over\n",
        "    config_defaults = {\n",
        "        'epochs': 50,\n",
        "        'batch_size': 32,\n",
        "        'learning_rate': 1e-3,\n",
        "        'activation': 'relu',\n",
        "        'optimizer': 'adam',\n",
        "        'hidden_layer_size': 508,\n",
        "        'dropout_conv': 0.2,\n",
        "        'dropout_dense': 0.2,\n",
        "        'hidden_layers': 3,\n",
        "    }\n",
        "\n",
        "    # Initialize a new wandb run\n",
        "    wandb.init(config=config_defaults)\n",
        "\n",
        "    # Config is a variable that holds and saves hyperparameters and inputs\n",
        "    config = wandb.config\n",
        "\n",
        "    # Define the model architecture\n",
        "    model = Sequential()\n",
        "\n",
        "    # Set input shape\n",
        "    model.add(Input(shape=(32, 32, 1)))\n",
        "\n",
        "    for _ in range(config.hidden_layers):\n",
        "        model.add(Conv2D(config.filters, config.kernel_size, activation='relu', padding='same'))\n",
        "        model.add(BatchNormalization())\n",
        "        model.add(MaxPooling2D(pool_size=2, padding='same'))\n",
        "        model.add(SpatialDropout2D(config.dropout_conv))\n",
        "\n",
        "    # Flatten layer before the dense layers\n",
        "    model.add(Flatten())\n",
        "\n",
        "    # Dense layers for classification\n",
        "    for _ in range(config.hidden_layers):\n",
        "        model.add(Dense(config.hidden_layer_size, activation='relu'))\n",
        "        model.add(BatchNormalization())\n",
        "        model.add(Dropout(config.dropout_dense))\n",
        "\n",
        "    # Output layer\n",
        "    model.add(Dense(2, activation='softmax'))\n",
        "\n",
        "    # Compile model\n",
        "    optimizer = tf.keras.optimizers.Adam(learning_rate=config.learning_rate)\n",
        "    model.compile(loss=\"categorical_crossentropy\", optimizer=optimizer, metrics=['accuracy'])\n",
        "\n",
        "    # Fit the model\n",
        "    hist = model.fit(X_train, y_train,\n",
        "                     validation_data = (X_val, y_val),\n",
        "                     epochs=config.epochs,\n",
        "                     callbacks=[WandbCallback(save_model=False),\n",
        "                                tf.keras.callbacks.EarlyStopping(\n",
        "                                    monitor=\"val_accuracy\",\n",
        "                                    patience=4,\n",
        "                                    mode=\"max\"\n",
        "                                    )\n",
        "                                ])"
      ],
      "metadata": {
        "id": "wiMRPLdWTMxW"
      },
      "execution_count": 51,
      "outputs": []
    },
    {
      "cell_type": "code",
      "source": [
        "wandb.agent(sweep_id, train)"
      ],
      "metadata": {
        "id": "BSreGmk0TRPX",
        "colab": {
          "base_uri": "https://localhost:8080/",
          "height": 1000,
          "referenced_widgets": [
            "3638b984c5524bccb6d04100e8ad5703",
            "cfeb36b6ca364556af2d4b688d4020c9",
            "285d71705ce94f58924638cc2a2f3b9a",
            "45bb444fc0bc420c9306e8e146ecc837",
            "d5b71ff2a63b4804b8be4410e3959a81",
            "1db59e01ed684516bbb4d0cb368170dd",
            "da92aafc65a1464dae5144007ffad5f6",
            "4c29b10c8f3c47bab26474f9af41630a",
            "721d55d1d5cb45a3b2ccf7e0031d5ffd",
            "084f3080f701455f8e61cc1b7126e435",
            "9c59b26f4c424d098c35a398f6135a2b",
            "92de9f9574534273ac26977da904999f",
            "768b5e83c30547a58a20a2d3f24b6ea7",
            "7b93cd4c70e1432f88af39cba582b978",
            "c3bfa8c9b0164b14822aa6a1d493df82",
            "5f252c3974724e9eafe133d130864755",
            "907043f6e2dd411ab7162ab9e2fcc99c",
            "bc316930bfd146159350c685591d1eed",
            "474fed1aca024a3dbf7c4774feeea7f5",
            "5d7d53e1a01041da8299e1a6ad82dab4",
            "05f91b1de1a74d389c12f0ceb305ba07",
            "917455eaf6a744b0867b52143fb6625d",
            "10e972149ed24ca9baf73e518ffaa9f6",
            "7bc86510b3ca4261ab551ff3c026b77c",
            "40930514bef34fa28be7bb6f2670c29e",
            "82900a4910734d1c8c0dd1ff73428893",
            "9d88d9b4b13c4e72975860623890dc2f",
            "bc82e717ae814057be805db0066583de",
            "334a6c094d604eefaf688946e57795d1",
            "91060b95d3ae40a2841519e154640351",
            "54512e9dd6474492831c3e8103697b3d",
            "351a5bf7bd3c4927861c3f5ec0fe4174",
            "a0e3621b751042d7b8d39af1c45555f2",
            "e67670a96ba743ecab59f4c45e8ae13a",
            "2d5a02dd241847998403f080f1743903",
            "91f1aa51b5584f518c1474548f60627e",
            "eacf4592786d4fb2ac562f1934e20927",
            "bb1c8b9b217143b0a6a3810f4b903d40",
            "865a9a0e518d4a3d985694ed8ea4be99",
            "5e74e3fb28854ddcaeed509474435c52",
            "2d32f7365ef4416fad30c15b97967d40",
            "bfc4c1cc80cb4f4caedff553bf11487b",
            "b1dad67e0e674d0ebaf1e35357674e4d",
            "18416b5d029b4c2b85d1b03f956e2b18",
            "117db8c2bcd74b9582a682805f48b8a4",
            "429798cdcd714b8d93de3c8b5072895f",
            "cce95926a2a3436cb03aa370710fe1b8",
            "a4653227f2bb494a8243f6bd8e594f7c",
            "e8c0f2ba3f4441dbae09f4e8ff91722b",
            "99fe31d50dd6498994262e11e77f0d78",
            "73dc6ad36cb74d308003a1685445469b",
            "f557467aeec640a0a36752d0daa60d62",
            "37e1e7a20cd749babcff7d8ae4c24ea0",
            "8fc9ab1185f74112be9910d20ee8eb95",
            "81599f0f489e4470b89bb006fefc1042",
            "36ead406ea6444a588515b5ae2a9e7e6",
            "084677e9261942a49a5a83b3fa12760f",
            "504c8ea10d8e4530ae981df03ab5e398",
            "5883e5635ab748feb0e34783fada5925",
            "87cc426d371e4047a7890a092fe891c8",
            "970c981ab89f4b65ae38a8bd133b57e6",
            "14f7d8b678c941ddb8b87462f90af398",
            "9555156f95374beeb298c69e413525de",
            "8ce3048f6e0a45d6a3cd73cefc98a0a0",
            "86c16449547545f2b2e6e299d576c392",
            "b6126d71229d441a8ac6a74093b83c08",
            "1b5e3cd107f34f299ac39c9ff9c43ab4",
            "52b4bc7d6da5446183ae7b09f98c7fac",
            "af7087f3e82b4cb48cc964fefd96d78e",
            "c0771dfb268e48c688edbadf9bd76a98",
            "5a945c85bd964ba7983045e370e3d9fb",
            "52c44deab7d5437fafaa3bbe71fb18ac",
            "47d7a548c3984a5eaae9f78ad6f4c912",
            "6a102cf5e19c4c8095a662d651486b0a",
            "9adad4efb65d4f85a131fe2f6d12d9dd",
            "a6ef9283855045e9a24c1f2f7f44ceaf",
            "d8db524e733a4b56968b2d4aa3059139",
            "3c4b4fcc9664466c8c9ac6bc23060e82",
            "3733d01f9e0b46378fd393d484204113",
            "55e2e3d8ed0342c6abaa0ef8ee08053a",
            "530f54614af94f4f95d8fddbc03e413c",
            "cabffd70be754106b997adc980461020",
            "e2927fed997e4d06a794edbae136f8ec",
            "5b95828c419049a6aa966a982c846a39",
            "99f00a8634f543259de46e42c07838a4",
            "4962b2122d6c4cfa99c2a58192a2cb66",
            "f35c89ab73a0485baec3e9de6b83592a",
            "b34169c35e4d41f98fd7c0870ea8fe39",
            "b445952f13004c15a935a39cd0f5f296",
            "04b5cb0db6ac447a9dc45377ffc409b0",
            "65167d57832f40a8bc47ff85fad5357c",
            "3f20863cc7c14155a415e13356727987",
            "1d7a3de8392b430598db7af11d4e4036",
            "56e86a4d2e1e4a74b82d20b541e26d8b",
            "e4d2a5b40ee242b79cdf89918da2fe05",
            "0fd92336a91a4c4ea63d3313759d6e24",
            "d296c8080188434e9f7758d20d78b861",
            "ed6088c1c29b4cae9a0d1ecfbf823afc",
            "7ce3ce01a1334f289b17e5183412194e",
            "2baab2aaab064f94bdb1739fd2ff9c38",
            "b3ed8e682f3a4b16ae7f80a44bfe4ec9",
            "1ba4f1638abb409989877f362592e52f",
            "247b591210a44ccea4c846ae5996798e",
            "64a86975ce1547cc8e93ca2c110d3235"
          ]
        },
        "outputId": "b16a4112-2087-4a7e-d0a1-95a66baf7c8a"
      },
      "execution_count": 52,
      "outputs": [
        {
          "metadata": {
            "tags": null
          },
          "name": "stderr",
          "output_type": "stream",
          "text": [
            "\u001b[34m\u001b[1mwandb\u001b[0m: Agent Starting Run: lks3hrz6 with config:\n",
            "\u001b[34m\u001b[1mwandb\u001b[0m: \tbatch_size: 35\n",
            "\u001b[34m\u001b[1mwandb\u001b[0m: \tdropout_conv: 0\n",
            "\u001b[34m\u001b[1mwandb\u001b[0m: \tdropout_dense: 0.2\n",
            "\u001b[34m\u001b[1mwandb\u001b[0m: \tfilters: 64\n",
            "\u001b[34m\u001b[1mwandb\u001b[0m: \thidden_layer_size: 512\n",
            "\u001b[34m\u001b[1mwandb\u001b[0m: \thidden_layers: 4\n",
            "\u001b[34m\u001b[1mwandb\u001b[0m: \tkernel_size: 5\n",
            "\u001b[34m\u001b[1mwandb\u001b[0m: \tlearning_rate: 6.0237247946732725e-05\n"
          ]
        },
        {
          "data": {
            "text/html": [
              "Tracking run with wandb version 0.16.2"
            ],
            "text/plain": [
              "<IPython.core.display.HTML object>"
            ]
          },
          "metadata": {},
          "output_type": "display_data"
        },
        {
          "data": {
            "text/html": [
              "Run data is saved locally in <code>/content/gdrive/MyDrive/AML_Exam/problem1/wandb/run-20240129_104546-lks3hrz6</code>"
            ],
            "text/plain": [
              "<IPython.core.display.HTML object>"
            ]
          },
          "metadata": {},
          "output_type": "display_data"
        },
        {
          "data": {
            "text/html": [
              "Syncing run <strong><a href='https://wandb.ai/coffeegang/Kim_sweeps/runs/lks3hrz6' target=\"_blank\">confused-sweep-1</a></strong> to <a href='https://wandb.ai/coffeegang/Kim_sweeps' target=\"_blank\">Weights & Biases</a> (<a href='https://wandb.me/run' target=\"_blank\">docs</a>)<br/>Sweep page: <a href='https://wandb.ai/coffeegang/Kim_sweeps/sweeps/w44abky7' target=\"_blank\">https://wandb.ai/coffeegang/Kim_sweeps/sweeps/w44abky7</a>"
            ],
            "text/plain": [
              "<IPython.core.display.HTML object>"
            ]
          },
          "metadata": {},
          "output_type": "display_data"
        },
        {
          "data": {
            "text/html": [
              " View project at <a href='https://wandb.ai/coffeegang/Kim_sweeps' target=\"_blank\">https://wandb.ai/coffeegang/Kim_sweeps</a>"
            ],
            "text/plain": [
              "<IPython.core.display.HTML object>"
            ]
          },
          "metadata": {},
          "output_type": "display_data"
        },
        {
          "data": {
            "text/html": [
              " View sweep at <a href='https://wandb.ai/coffeegang/Kim_sweeps/sweeps/w44abky7' target=\"_blank\">https://wandb.ai/coffeegang/Kim_sweeps/sweeps/w44abky7</a>"
            ],
            "text/plain": [
              "<IPython.core.display.HTML object>"
            ]
          },
          "metadata": {},
          "output_type": "display_data"
        },
        {
          "data": {
            "text/html": [
              " View run at <a href='https://wandb.ai/coffeegang/Kim_sweeps/runs/lks3hrz6' target=\"_blank\">https://wandb.ai/coffeegang/Kim_sweeps/runs/lks3hrz6</a>"
            ],
            "text/plain": [
              "<IPython.core.display.HTML object>"
            ]
          },
          "metadata": {},
          "output_type": "display_data"
        },
        {
          "metadata": {
            "tags": null
          },
          "name": "stdout",
          "output_type": "stream",
          "text": [
            "Epoch 1/50\n",
            "1721/1721 [==============================] - 28s 10ms/step - loss: 0.6630 - accuracy: 0.7003 - val_loss: 0.6602 - val_accuracy: 0.6779\n",
            "Epoch 2/50\n",
            "1721/1721 [==============================] - 18s 10ms/step - loss: 0.5700 - accuracy: 0.7327 - val_loss: 0.4803 - val_accuracy: 0.7738\n",
            "Epoch 3/50\n",
            "1721/1721 [==============================] - 17s 10ms/step - loss: 0.5318 - accuracy: 0.7481 - val_loss: 0.4780 - val_accuracy: 0.7784\n",
            "Epoch 4/50\n",
            "1721/1721 [==============================] - 17s 10ms/step - loss: 0.5068 - accuracy: 0.7629 - val_loss: 0.6353 - val_accuracy: 0.6976\n",
            "Epoch 5/50\n",
            "1721/1721 [==============================] - 17s 10ms/step - loss: 0.4894 - accuracy: 0.7724 - val_loss: 0.4475 - val_accuracy: 0.7927\n",
            "Epoch 6/50\n",
            "1721/1721 [==============================] - 17s 10ms/step - loss: 0.4719 - accuracy: 0.7824 - val_loss: 0.7758 - val_accuracy: 0.6662\n",
            "Epoch 7/50\n",
            "1721/1721 [==============================] - 17s 10ms/step - loss: 0.4571 - accuracy: 0.7926 - val_loss: 0.4482 - val_accuracy: 0.7932\n",
            "Epoch 8/50\n",
            "1721/1721 [==============================] - 17s 10ms/step - loss: 0.4431 - accuracy: 0.7987 - val_loss: 0.6870 - val_accuracy: 0.6948\n",
            "Epoch 9/50\n",
            "1721/1721 [==============================] - 17s 10ms/step - loss: 0.4244 - accuracy: 0.8103 - val_loss: 0.6542 - val_accuracy: 0.6654\n",
            "Epoch 10/50\n",
            "1721/1721 [==============================] - 17s 10ms/step - loss: 0.4035 - accuracy: 0.8217 - val_loss: 0.5923 - val_accuracy: 0.6915\n",
            "Epoch 11/50\n",
            "1721/1721 [==============================] - 17s 10ms/step - loss: 0.3797 - accuracy: 0.8348 - val_loss: 0.9783 - val_accuracy: 0.5908\n"
          ]
        },
        {
          "data": {
            "application/vnd.jupyter.widget-view+json": {
              "model_id": "3638b984c5524bccb6d04100e8ad5703",
              "version_major": 2,
              "version_minor": 0
            },
            "text/plain": [
              "VBox(children=(Label(value='0.018 MB of 0.018 MB uploaded\\r'), FloatProgress(value=1.0, max=1.0)))"
            ]
          },
          "metadata": {},
          "output_type": "display_data"
        },
        {
          "data": {
            "text/html": [
              "<style>\n",
              "    table.wandb td:nth-child(1) { padding: 0 10px; text-align: left ; width: auto;} td:nth-child(2) {text-align: left ; width: 100%}\n",
              "    .wandb-row { display: flex; flex-direction: row; flex-wrap: wrap; justify-content: flex-start; width: 100% }\n",
              "    .wandb-col { display: flex; flex-direction: column; flex-basis: 100%; flex: 1; padding: 10px; }\n",
              "    </style>\n",
              "<div class=\"wandb-row\"><div class=\"wandb-col\"><h3>Run history:</h3><br/><table class=\"wandb\"><tr><td>accuracy</td><td>▁▃▃▄▅▅▆▆▇▇█</td></tr><tr><td>epoch</td><td>▁▂▂▃▄▅▅▆▇▇█</td></tr><tr><td>loss</td><td>█▆▅▄▄▃▃▃▂▂▁</td></tr><tr><td>val_accuracy</td><td>▄▇▇▅█▄█▅▄▄▁</td></tr><tr><td>val_loss</td><td>▄▁▁▃▁▅▁▄▄▃█</td></tr></table><br/></div><div class=\"wandb-col\"><h3>Run summary:</h3><br/><table class=\"wandb\"><tr><td>accuracy</td><td>0.83477</td></tr><tr><td>best_epoch</td><td>4</td></tr><tr><td>best_val_loss</td><td>0.4475</td></tr><tr><td>epoch</td><td>10</td></tr><tr><td>loss</td><td>0.37966</td></tr><tr><td>val_accuracy</td><td>0.59082</td></tr><tr><td>val_loss</td><td>0.97827</td></tr></table><br/></div></div>"
            ],
            "text/plain": [
              "<IPython.core.display.HTML object>"
            ]
          },
          "metadata": {},
          "output_type": "display_data"
        },
        {
          "data": {
            "text/html": [
              " View run <strong style=\"color:#cdcd00\">confused-sweep-1</strong> at: <a href='https://wandb.ai/coffeegang/Kim_sweeps/runs/lks3hrz6' target=\"_blank\">https://wandb.ai/coffeegang/Kim_sweeps/runs/lks3hrz6</a><br/>Synced 5 W&B file(s), 1 media file(s), 0 artifact file(s) and 0 other file(s)"
            ],
            "text/plain": [
              "<IPython.core.display.HTML object>"
            ]
          },
          "metadata": {},
          "output_type": "display_data"
        },
        {
          "data": {
            "text/html": [
              "Find logs at: <code>./wandb/run-20240129_104546-lks3hrz6/logs</code>"
            ],
            "text/plain": [
              "<IPython.core.display.HTML object>"
            ]
          },
          "metadata": {},
          "output_type": "display_data"
        },
        {
          "metadata": {
            "tags": null
          },
          "name": "stderr",
          "output_type": "stream",
          "text": [
            "\u001b[34m\u001b[1mwandb\u001b[0m: Agent Starting Run: 40tjozcd with config:\n",
            "\u001b[34m\u001b[1mwandb\u001b[0m: \tbatch_size: 75\n",
            "\u001b[34m\u001b[1mwandb\u001b[0m: \tdropout_conv: 0.5\n",
            "\u001b[34m\u001b[1mwandb\u001b[0m: \tdropout_dense: 0.3\n",
            "\u001b[34m\u001b[1mwandb\u001b[0m: \tfilters: 16\n",
            "\u001b[34m\u001b[1mwandb\u001b[0m: \thidden_layer_size: 512\n",
            "\u001b[34m\u001b[1mwandb\u001b[0m: \thidden_layers: 4\n",
            "\u001b[34m\u001b[1mwandb\u001b[0m: \tkernel_size: 3\n",
            "\u001b[34m\u001b[1mwandb\u001b[0m: \tlearning_rate: 2.0423727312862193e-05\n"
          ]
        },
        {
          "data": {
            "text/html": [
              "Tracking run with wandb version 0.16.2"
            ],
            "text/plain": [
              "<IPython.core.display.HTML object>"
            ]
          },
          "metadata": {},
          "output_type": "display_data"
        },
        {
          "data": {
            "text/html": [
              "Run data is saved locally in <code>/content/gdrive/MyDrive/AML_Exam/problem1/wandb/run-20240129_104916-40tjozcd</code>"
            ],
            "text/plain": [
              "<IPython.core.display.HTML object>"
            ]
          },
          "metadata": {},
          "output_type": "display_data"
        },
        {
          "data": {
            "text/html": [
              "Syncing run <strong><a href='https://wandb.ai/coffeegang/Kim_sweeps/runs/40tjozcd' target=\"_blank\">classic-sweep-2</a></strong> to <a href='https://wandb.ai/coffeegang/Kim_sweeps' target=\"_blank\">Weights & Biases</a> (<a href='https://wandb.me/run' target=\"_blank\">docs</a>)<br/>Sweep page: <a href='https://wandb.ai/coffeegang/Kim_sweeps/sweeps/w44abky7' target=\"_blank\">https://wandb.ai/coffeegang/Kim_sweeps/sweeps/w44abky7</a>"
            ],
            "text/plain": [
              "<IPython.core.display.HTML object>"
            ]
          },
          "metadata": {},
          "output_type": "display_data"
        },
        {
          "data": {
            "text/html": [
              " View project at <a href='https://wandb.ai/coffeegang/Kim_sweeps' target=\"_blank\">https://wandb.ai/coffeegang/Kim_sweeps</a>"
            ],
            "text/plain": [
              "<IPython.core.display.HTML object>"
            ]
          },
          "metadata": {},
          "output_type": "display_data"
        },
        {
          "data": {
            "text/html": [
              " View sweep at <a href='https://wandb.ai/coffeegang/Kim_sweeps/sweeps/w44abky7' target=\"_blank\">https://wandb.ai/coffeegang/Kim_sweeps/sweeps/w44abky7</a>"
            ],
            "text/plain": [
              "<IPython.core.display.HTML object>"
            ]
          },
          "metadata": {},
          "output_type": "display_data"
        },
        {
          "data": {
            "text/html": [
              " View run at <a href='https://wandb.ai/coffeegang/Kim_sweeps/runs/40tjozcd' target=\"_blank\">https://wandb.ai/coffeegang/Kim_sweeps/runs/40tjozcd</a>"
            ],
            "text/plain": [
              "<IPython.core.display.HTML object>"
            ]
          },
          "metadata": {},
          "output_type": "display_data"
        },
        {
          "metadata": {
            "tags": null
          },
          "name": "stdout",
          "output_type": "stream",
          "text": [
            "Epoch 1/50\n",
            "1721/1721 [==============================] - 25s 11ms/step - loss: 1.0164 - accuracy: 0.5241 - val_loss: 0.8326 - val_accuracy: 0.4909\n",
            "Epoch 2/50\n",
            "1721/1721 [==============================] - 17s 10ms/step - loss: 0.9212 - accuracy: 0.5210 - val_loss: 0.7853 - val_accuracy: 0.4909\n",
            "Epoch 3/50\n",
            "1721/1721 [==============================] - 18s 10ms/step - loss: 0.8872 - accuracy: 0.5183 - val_loss: 0.8325 - val_accuracy: 0.4909\n",
            "Epoch 4/50\n",
            "1721/1721 [==============================] - 18s 10ms/step - loss: 0.8594 - accuracy: 0.5168 - val_loss: 0.7591 - val_accuracy: 0.4909\n",
            "Epoch 5/50\n",
            "1721/1721 [==============================] - 18s 10ms/step - loss: 0.8283 - accuracy: 0.5229 - val_loss: 0.7431 - val_accuracy: 0.4911\n",
            "Epoch 6/50\n",
            "1721/1721 [==============================] - 18s 10ms/step - loss: 0.8095 - accuracy: 0.5223 - val_loss: 0.7256 - val_accuracy: 0.4909\n",
            "Epoch 7/50\n",
            "1721/1721 [==============================] - 18s 10ms/step - loss: 0.7855 - accuracy: 0.5281 - val_loss: 0.7348 - val_accuracy: 0.4909\n",
            "Epoch 8/50\n",
            "1721/1721 [==============================] - 18s 10ms/step - loss: 0.7700 - accuracy: 0.5295 - val_loss: 0.7561 - val_accuracy: 0.4909\n",
            "Epoch 9/50\n",
            "1721/1721 [==============================] - 18s 10ms/step - loss: 0.7556 - accuracy: 0.5336 - val_loss: 0.7852 - val_accuracy: 0.4909\n"
          ]
        },
        {
          "data": {
            "application/vnd.jupyter.widget-view+json": {
              "model_id": "721d55d1d5cb45a3b2ccf7e0031d5ffd",
              "version_major": 2,
              "version_minor": 0
            },
            "text/plain": [
              "VBox(children=(Label(value='0.007 MB of 0.007 MB uploaded\\r'), FloatProgress(value=1.0, max=1.0)))"
            ]
          },
          "metadata": {},
          "output_type": "display_data"
        },
        {
          "data": {
            "text/html": [
              "<style>\n",
              "    table.wandb td:nth-child(1) { padding: 0 10px; text-align: left ; width: auto;} td:nth-child(2) {text-align: left ; width: 100%}\n",
              "    .wandb-row { display: flex; flex-direction: row; flex-wrap: wrap; justify-content: flex-start; width: 100% }\n",
              "    .wandb-col { display: flex; flex-direction: column; flex-basis: 100%; flex: 1; padding: 10px; }\n",
              "    </style>\n",
              "<div class=\"wandb-row\"><div class=\"wandb-col\"><h3>Run history:</h3><br/><table class=\"wandb\"><tr><td>accuracy</td><td>▄▃▂▁▄▃▆▆█</td></tr><tr><td>epoch</td><td>▁▂▃▄▅▅▆▇█</td></tr><tr><td>loss</td><td>█▅▅▄▃▂▂▁▁</td></tr><tr><td>val_accuracy</td><td>▁▁▁▃█▁▁▁▁</td></tr><tr><td>val_loss</td><td>█▅█▃▂▁▂▃▅</td></tr></table><br/></div><div class=\"wandb-col\"><h3>Run summary:</h3><br/><table class=\"wandb\"><tr><td>accuracy</td><td>0.53364</td></tr><tr><td>best_epoch</td><td>5</td></tr><tr><td>best_val_loss</td><td>0.72565</td></tr><tr><td>epoch</td><td>8</td></tr><tr><td>loss</td><td>0.7556</td></tr><tr><td>val_accuracy</td><td>0.49088</td></tr><tr><td>val_loss</td><td>0.78525</td></tr></table><br/></div></div>"
            ],
            "text/plain": [
              "<IPython.core.display.HTML object>"
            ]
          },
          "metadata": {},
          "output_type": "display_data"
        },
        {
          "data": {
            "text/html": [
              " View run <strong style=\"color:#cdcd00\">classic-sweep-2</strong> at: <a href='https://wandb.ai/coffeegang/Kim_sweeps/runs/40tjozcd' target=\"_blank\">https://wandb.ai/coffeegang/Kim_sweeps/runs/40tjozcd</a><br/>Synced 5 W&B file(s), 1 media file(s), 0 artifact file(s) and 0 other file(s)"
            ],
            "text/plain": [
              "<IPython.core.display.HTML object>"
            ]
          },
          "metadata": {},
          "output_type": "display_data"
        },
        {
          "data": {
            "text/html": [
              "Find logs at: <code>./wandb/run-20240129_104916-40tjozcd/logs</code>"
            ],
            "text/plain": [
              "<IPython.core.display.HTML object>"
            ]
          },
          "metadata": {},
          "output_type": "display_data"
        },
        {
          "metadata": {
            "tags": null
          },
          "name": "stderr",
          "output_type": "stream",
          "text": [
            "\u001b[34m\u001b[1mwandb\u001b[0m: Agent Starting Run: f9jo3quq with config:\n",
            "\u001b[34m\u001b[1mwandb\u001b[0m: \tbatch_size: 51\n",
            "\u001b[34m\u001b[1mwandb\u001b[0m: \tdropout_conv: 0.1\n",
            "\u001b[34m\u001b[1mwandb\u001b[0m: \tdropout_dense: 0.2\n",
            "\u001b[34m\u001b[1mwandb\u001b[0m: \tfilters: 16\n",
            "\u001b[34m\u001b[1mwandb\u001b[0m: \thidden_layer_size: 1024\n",
            "\u001b[34m\u001b[1mwandb\u001b[0m: \thidden_layers: 4\n",
            "\u001b[34m\u001b[1mwandb\u001b[0m: \tkernel_size: 5\n",
            "\u001b[34m\u001b[1mwandb\u001b[0m: \tlearning_rate: 2.2879208099311867e-05\n"
          ]
        },
        {
          "data": {
            "text/html": [
              "Tracking run with wandb version 0.16.2"
            ],
            "text/plain": [
              "<IPython.core.display.HTML object>"
            ]
          },
          "metadata": {},
          "output_type": "display_data"
        },
        {
          "data": {
            "text/html": [
              "Run data is saved locally in <code>/content/gdrive/MyDrive/AML_Exam/problem1/wandb/run-20240129_105216-f9jo3quq</code>"
            ],
            "text/plain": [
              "<IPython.core.display.HTML object>"
            ]
          },
          "metadata": {},
          "output_type": "display_data"
        },
        {
          "data": {
            "text/html": [
              "Syncing run <strong><a href='https://wandb.ai/coffeegang/Kim_sweeps/runs/f9jo3quq' target=\"_blank\">sandy-sweep-3</a></strong> to <a href='https://wandb.ai/coffeegang/Kim_sweeps' target=\"_blank\">Weights & Biases</a> (<a href='https://wandb.me/run' target=\"_blank\">docs</a>)<br/>Sweep page: <a href='https://wandb.ai/coffeegang/Kim_sweeps/sweeps/w44abky7' target=\"_blank\">https://wandb.ai/coffeegang/Kim_sweeps/sweeps/w44abky7</a>"
            ],
            "text/plain": [
              "<IPython.core.display.HTML object>"
            ]
          },
          "metadata": {},
          "output_type": "display_data"
        },
        {
          "data": {
            "text/html": [
              " View project at <a href='https://wandb.ai/coffeegang/Kim_sweeps' target=\"_blank\">https://wandb.ai/coffeegang/Kim_sweeps</a>"
            ],
            "text/plain": [
              "<IPython.core.display.HTML object>"
            ]
          },
          "metadata": {},
          "output_type": "display_data"
        },
        {
          "data": {
            "text/html": [
              " View sweep at <a href='https://wandb.ai/coffeegang/Kim_sweeps/sweeps/w44abky7' target=\"_blank\">https://wandb.ai/coffeegang/Kim_sweeps/sweeps/w44abky7</a>"
            ],
            "text/plain": [
              "<IPython.core.display.HTML object>"
            ]
          },
          "metadata": {},
          "output_type": "display_data"
        },
        {
          "data": {
            "text/html": [
              " View run at <a href='https://wandb.ai/coffeegang/Kim_sweeps/runs/f9jo3quq' target=\"_blank\">https://wandb.ai/coffeegang/Kim_sweeps/runs/f9jo3quq</a>"
            ],
            "text/plain": [
              "<IPython.core.display.HTML object>"
            ]
          },
          "metadata": {},
          "output_type": "display_data"
        },
        {
          "metadata": {
            "tags": null
          },
          "name": "stdout",
          "output_type": "stream",
          "text": [
            "Epoch 1/50\n",
            "1721/1721 [==============================] - 24s 11ms/step - loss: 0.8123 - accuracy: 0.6150 - val_loss: 0.7374 - val_accuracy: 0.6403\n",
            "Epoch 2/50\n",
            "1721/1721 [==============================] - 18s 10ms/step - loss: 0.7081 - accuracy: 0.6538 - val_loss: 0.7372 - val_accuracy: 0.6326\n",
            "Epoch 3/50\n",
            "1721/1721 [==============================] - 18s 10ms/step - loss: 0.6644 - accuracy: 0.6737 - val_loss: 0.6816 - val_accuracy: 0.6669\n",
            "Epoch 4/50\n",
            "1721/1721 [==============================] - 18s 10ms/step - loss: 0.6353 - accuracy: 0.6844 - val_loss: 0.6626 - val_accuracy: 0.6660\n",
            "Epoch 5/50\n",
            "1721/1721 [==============================] - 18s 10ms/step - loss: 0.6200 - accuracy: 0.6902 - val_loss: 0.5444 - val_accuracy: 0.7258\n",
            "Epoch 6/50\n",
            "1721/1721 [==============================] - 18s 10ms/step - loss: 0.6103 - accuracy: 0.6918 - val_loss: 0.6855 - val_accuracy: 0.6387\n",
            "Epoch 7/50\n",
            "1721/1721 [==============================] - 18s 10ms/step - loss: 0.5883 - accuracy: 0.7039 - val_loss: 0.6686 - val_accuracy: 0.6324\n",
            "Epoch 8/50\n",
            "1721/1721 [==============================] - 18s 10ms/step - loss: 0.5713 - accuracy: 0.7154 - val_loss: 0.6710 - val_accuracy: 0.6341\n",
            "Epoch 9/50\n",
            "1721/1721 [==============================] - 18s 10ms/step - loss: 0.5564 - accuracy: 0.7243 - val_loss: 0.5270 - val_accuracy: 0.7344\n",
            "Epoch 10/50\n",
            "1721/1721 [==============================] - 18s 10ms/step - loss: 0.5448 - accuracy: 0.7355 - val_loss: 0.5642 - val_accuracy: 0.6869\n",
            "Epoch 11/50\n",
            "1721/1721 [==============================] - 18s 11ms/step - loss: 0.5390 - accuracy: 0.7383 - val_loss: 0.5246 - val_accuracy: 0.7276\n",
            "Epoch 12/50\n",
            "1721/1721 [==============================] - 18s 10ms/step - loss: 0.5309 - accuracy: 0.7420 - val_loss: 0.4965 - val_accuracy: 0.7642\n",
            "Epoch 13/50\n",
            "1721/1721 [==============================] - 18s 10ms/step - loss: 0.5243 - accuracy: 0.7492 - val_loss: 0.5094 - val_accuracy: 0.7554\n",
            "Epoch 14/50\n",
            "1721/1721 [==============================] - 18s 10ms/step - loss: 0.5212 - accuracy: 0.7508 - val_loss: 0.5236 - val_accuracy: 0.7443\n",
            "Epoch 15/50\n",
            "1721/1721 [==============================] - 18s 10ms/step - loss: 0.5175 - accuracy: 0.7505 - val_loss: 0.5036 - val_accuracy: 0.7618\n",
            "Epoch 16/50\n",
            "1721/1721 [==============================] - 17s 10ms/step - loss: 0.5136 - accuracy: 0.7559 - val_loss: 0.4931 - val_accuracy: 0.7630\n"
          ]
        },
        {
          "data": {
            "application/vnd.jupyter.widget-view+json": {
              "model_id": "907043f6e2dd411ab7162ab9e2fcc99c",
              "version_major": 2,
              "version_minor": 0
            },
            "text/plain": [
              "VBox(children=(Label(value='0.007 MB of 0.019 MB uploaded\\r'), FloatProgress(value=0.3599358331662322, max=1.0…"
            ]
          },
          "metadata": {},
          "output_type": "display_data"
        },
        {
          "data": {
            "text/html": [
              "<style>\n",
              "    table.wandb td:nth-child(1) { padding: 0 10px; text-align: left ; width: auto;} td:nth-child(2) {text-align: left ; width: 100%}\n",
              "    .wandb-row { display: flex; flex-direction: row; flex-wrap: wrap; justify-content: flex-start; width: 100% }\n",
              "    .wandb-col { display: flex; flex-direction: column; flex-basis: 100%; flex: 1; padding: 10px; }\n",
              "    </style>\n",
              "<div class=\"wandb-row\"><div class=\"wandb-col\"><h3>Run history:</h3><br/><table class=\"wandb\"><tr><td>accuracy</td><td>▁▃▄▄▅▅▅▆▆▇▇▇████</td></tr><tr><td>epoch</td><td>▁▁▂▂▃▃▄▄▅▅▆▆▇▇██</td></tr><tr><td>loss</td><td>█▆▅▄▃▃▃▂▂▂▂▁▁▁▁▁</td></tr><tr><td>val_accuracy</td><td>▁▁▃▃▆▁▁▁▆▄▆██▇██</td></tr><tr><td>val_loss</td><td>██▆▆▂▇▆▆▂▃▂▁▁▂▁▁</td></tr></table><br/></div><div class=\"wandb-col\"><h3>Run summary:</h3><br/><table class=\"wandb\"><tr><td>accuracy</td><td>0.75589</td></tr><tr><td>best_epoch</td><td>15</td></tr><tr><td>best_val_loss</td><td>0.49306</td></tr><tr><td>epoch</td><td>15</td></tr><tr><td>loss</td><td>0.51362</td></tr><tr><td>val_accuracy</td><td>0.76305</td></tr><tr><td>val_loss</td><td>0.49306</td></tr></table><br/></div></div>"
            ],
            "text/plain": [
              "<IPython.core.display.HTML object>"
            ]
          },
          "metadata": {},
          "output_type": "display_data"
        },
        {
          "data": {
            "text/html": [
              " View run <strong style=\"color:#cdcd00\">sandy-sweep-3</strong> at: <a href='https://wandb.ai/coffeegang/Kim_sweeps/runs/f9jo3quq' target=\"_blank\">https://wandb.ai/coffeegang/Kim_sweeps/runs/f9jo3quq</a><br/>Synced 5 W&B file(s), 1 media file(s), 0 artifact file(s) and 0 other file(s)"
            ],
            "text/plain": [
              "<IPython.core.display.HTML object>"
            ]
          },
          "metadata": {},
          "output_type": "display_data"
        },
        {
          "data": {
            "text/html": [
              "Find logs at: <code>./wandb/run-20240129_105216-f9jo3quq/logs</code>"
            ],
            "text/plain": [
              "<IPython.core.display.HTML object>"
            ]
          },
          "metadata": {},
          "output_type": "display_data"
        },
        {
          "metadata": {
            "tags": null
          },
          "name": "stderr",
          "output_type": "stream",
          "text": [
            "\u001b[34m\u001b[1mwandb\u001b[0m: Agent Starting Run: 05j6xdnx with config:\n",
            "\u001b[34m\u001b[1mwandb\u001b[0m: \tbatch_size: 26\n",
            "\u001b[34m\u001b[1mwandb\u001b[0m: \tdropout_conv: 0.2\n",
            "\u001b[34m\u001b[1mwandb\u001b[0m: \tdropout_dense: 0.5\n",
            "\u001b[34m\u001b[1mwandb\u001b[0m: \tfilters: 64\n",
            "\u001b[34m\u001b[1mwandb\u001b[0m: \thidden_layer_size: 1024\n",
            "\u001b[34m\u001b[1mwandb\u001b[0m: \thidden_layers: 2\n",
            "\u001b[34m\u001b[1mwandb\u001b[0m: \tkernel_size: 3\n",
            "\u001b[34m\u001b[1mwandb\u001b[0m: \tlearning_rate: 5.756769013543863e-06\n"
          ]
        },
        {
          "data": {
            "text/html": [
              "Tracking run with wandb version 0.16.2"
            ],
            "text/plain": [
              "<IPython.core.display.HTML object>"
            ]
          },
          "metadata": {},
          "output_type": "display_data"
        },
        {
          "data": {
            "text/html": [
              "Run data is saved locally in <code>/content/gdrive/MyDrive/AML_Exam/problem1/wandb/run-20240129_105721-05j6xdnx</code>"
            ],
            "text/plain": [
              "<IPython.core.display.HTML object>"
            ]
          },
          "metadata": {},
          "output_type": "display_data"
        },
        {
          "data": {
            "text/html": [
              "Syncing run <strong><a href='https://wandb.ai/coffeegang/Kim_sweeps/runs/05j6xdnx' target=\"_blank\">glowing-sweep-4</a></strong> to <a href='https://wandb.ai/coffeegang/Kim_sweeps' target=\"_blank\">Weights & Biases</a> (<a href='https://wandb.me/run' target=\"_blank\">docs</a>)<br/>Sweep page: <a href='https://wandb.ai/coffeegang/Kim_sweeps/sweeps/w44abky7' target=\"_blank\">https://wandb.ai/coffeegang/Kim_sweeps/sweeps/w44abky7</a>"
            ],
            "text/plain": [
              "<IPython.core.display.HTML object>"
            ]
          },
          "metadata": {},
          "output_type": "display_data"
        },
        {
          "data": {
            "text/html": [
              " View project at <a href='https://wandb.ai/coffeegang/Kim_sweeps' target=\"_blank\">https://wandb.ai/coffeegang/Kim_sweeps</a>"
            ],
            "text/plain": [
              "<IPython.core.display.HTML object>"
            ]
          },
          "metadata": {},
          "output_type": "display_data"
        },
        {
          "data": {
            "text/html": [
              " View sweep at <a href='https://wandb.ai/coffeegang/Kim_sweeps/sweeps/w44abky7' target=\"_blank\">https://wandb.ai/coffeegang/Kim_sweeps/sweeps/w44abky7</a>"
            ],
            "text/plain": [
              "<IPython.core.display.HTML object>"
            ]
          },
          "metadata": {},
          "output_type": "display_data"
        },
        {
          "data": {
            "text/html": [
              " View run at <a href='https://wandb.ai/coffeegang/Kim_sweeps/runs/05j6xdnx' target=\"_blank\">https://wandb.ai/coffeegang/Kim_sweeps/runs/05j6xdnx</a>"
            ],
            "text/plain": [
              "<IPython.core.display.HTML object>"
            ]
          },
          "metadata": {},
          "output_type": "display_data"
        },
        {
          "metadata": {
            "tags": null
          },
          "name": "stdout",
          "output_type": "stream",
          "text": [
            "Epoch 1/50\n",
            "   1/1721 [..............................] - ETA: 1:36:09 - loss: 1.6875 - accuracy: 0.3750"
          ]
        },
        {
          "metadata": {
            "tags": null
          },
          "name": "stderr",
          "output_type": "stream",
          "text": [
            "WARNING:tensorflow:Callback method `on_train_batch_end` is slow compared to the batch time (batch time: 0.0061s vs `on_train_batch_end` time: 0.0074s). Check your callbacks.\n"
          ]
        },
        {
          "metadata": {
            "tags": null
          },
          "name": "stdout",
          "output_type": "stream",
          "text": [
            "1721/1721 [==============================] - 17s 8ms/step - loss: 0.9874 - accuracy: 0.6221 - val_loss: 0.5551 - val_accuracy: 0.7564\n",
            "Epoch 2/50\n",
            "1721/1721 [==============================] - 13s 8ms/step - loss: 0.8407 - accuracy: 0.6795 - val_loss: 0.5166 - val_accuracy: 0.7652\n",
            "Epoch 3/50\n",
            "1721/1721 [==============================] - 13s 8ms/step - loss: 0.7976 - accuracy: 0.6897 - val_loss: 0.5277 - val_accuracy: 0.7679\n",
            "Epoch 4/50\n",
            "1721/1721 [==============================] - 13s 8ms/step - loss: 0.7652 - accuracy: 0.6965 - val_loss: 0.5042 - val_accuracy: 0.7690\n",
            "Epoch 5/50\n",
            "1721/1721 [==============================] - 13s 8ms/step - loss: 0.7409 - accuracy: 0.7000 - val_loss: 0.5421 - val_accuracy: 0.7588\n",
            "Epoch 6/50\n",
            "1721/1721 [==============================] - 13s 8ms/step - loss: 0.7232 - accuracy: 0.7039 - val_loss: 0.5419 - val_accuracy: 0.7596\n",
            "Epoch 7/50\n",
            "1721/1721 [==============================] - 13s 8ms/step - loss: 0.7037 - accuracy: 0.7092 - val_loss: 0.4986 - val_accuracy: 0.7723\n",
            "Epoch 8/50\n",
            "1721/1721 [==============================] - 13s 8ms/step - loss: 0.6923 - accuracy: 0.7116 - val_loss: 0.4883 - val_accuracy: 0.7809\n",
            "Epoch 9/50\n",
            "1721/1721 [==============================] - 13s 8ms/step - loss: 0.6779 - accuracy: 0.7147 - val_loss: 0.5099 - val_accuracy: 0.7736\n",
            "Epoch 10/50\n",
            "1721/1721 [==============================] - 13s 8ms/step - loss: 0.6672 - accuracy: 0.7166 - val_loss: 0.4830 - val_accuracy: 0.7780\n",
            "Epoch 11/50\n",
            "1721/1721 [==============================] - 13s 8ms/step - loss: 0.6574 - accuracy: 0.7206 - val_loss: 0.4848 - val_accuracy: 0.7817\n",
            "Epoch 12/50\n",
            "1721/1721 [==============================] - 13s 8ms/step - loss: 0.6453 - accuracy: 0.7215 - val_loss: 0.4893 - val_accuracy: 0.7797\n",
            "Epoch 13/50\n",
            "1721/1721 [==============================] - 13s 8ms/step - loss: 0.6302 - accuracy: 0.7245 - val_loss: 0.4706 - val_accuracy: 0.7882\n",
            "Epoch 14/50\n",
            "1721/1721 [==============================] - 13s 8ms/step - loss: 0.6233 - accuracy: 0.7271 - val_loss: 0.4650 - val_accuracy: 0.7895\n",
            "Epoch 15/50\n",
            "1721/1721 [==============================] - 13s 8ms/step - loss: 0.6125 - accuracy: 0.7328 - val_loss: 0.4691 - val_accuracy: 0.7880\n",
            "Epoch 16/50\n",
            "1721/1721 [==============================] - 13s 8ms/step - loss: 0.6073 - accuracy: 0.7338 - val_loss: 0.4896 - val_accuracy: 0.7769\n",
            "Epoch 17/50\n",
            "1721/1721 [==============================] - 13s 8ms/step - loss: 0.5951 - accuracy: 0.7364 - val_loss: 0.4679 - val_accuracy: 0.7891\n",
            "Epoch 18/50\n",
            "1721/1721 [==============================] - 13s 8ms/step - loss: 0.5892 - accuracy: 0.7382 - val_loss: 0.4568 - val_accuracy: 0.7920\n",
            "Epoch 19/50\n",
            "1721/1721 [==============================] - 13s 8ms/step - loss: 0.5881 - accuracy: 0.7377 - val_loss: 0.4609 - val_accuracy: 0.7903\n",
            "Epoch 20/50\n",
            "1721/1721 [==============================] - 13s 8ms/step - loss: 0.5798 - accuracy: 0.7431 - val_loss: 0.4607 - val_accuracy: 0.7881\n",
            "Epoch 21/50\n",
            "1721/1721 [==============================] - 13s 8ms/step - loss: 0.5688 - accuracy: 0.7449 - val_loss: 0.4613 - val_accuracy: 0.7924\n",
            "Epoch 22/50\n",
            "1721/1721 [==============================] - 13s 8ms/step - loss: 0.5578 - accuracy: 0.7462 - val_loss: 0.4620 - val_accuracy: 0.7941\n",
            "Epoch 23/50\n",
            "1721/1721 [==============================] - 13s 8ms/step - loss: 0.5591 - accuracy: 0.7464 - val_loss: 0.4762 - val_accuracy: 0.7807\n",
            "Epoch 24/50\n",
            "1721/1721 [==============================] - 13s 8ms/step - loss: 0.5525 - accuracy: 0.7476 - val_loss: 0.4613 - val_accuracy: 0.7917\n",
            "Epoch 25/50\n",
            "1721/1721 [==============================] - 13s 8ms/step - loss: 0.5448 - accuracy: 0.7530 - val_loss: 0.4560 - val_accuracy: 0.7908\n",
            "Epoch 26/50\n",
            "1721/1721 [==============================] - 13s 8ms/step - loss: 0.5401 - accuracy: 0.7532 - val_loss: 0.4499 - val_accuracy: 0.7957\n",
            "Epoch 27/50\n",
            "1721/1721 [==============================] - 13s 8ms/step - loss: 0.5323 - accuracy: 0.7573 - val_loss: 0.4492 - val_accuracy: 0.7960\n",
            "Epoch 28/50\n",
            "1721/1721 [==============================] - 13s 8ms/step - loss: 0.5295 - accuracy: 0.7584 - val_loss: 0.4521 - val_accuracy: 0.7962\n",
            "Epoch 29/50\n",
            "1721/1721 [==============================] - 13s 8ms/step - loss: 0.5242 - accuracy: 0.7591 - val_loss: 0.4460 - val_accuracy: 0.7990\n",
            "Epoch 30/50\n",
            "1721/1721 [==============================] - 13s 8ms/step - loss: 0.5224 - accuracy: 0.7603 - val_loss: 0.4517 - val_accuracy: 0.7948\n",
            "Epoch 31/50\n",
            "1721/1721 [==============================] - 13s 8ms/step - loss: 0.5144 - accuracy: 0.7657 - val_loss: 0.4410 - val_accuracy: 0.7980\n",
            "Epoch 32/50\n",
            "1721/1721 [==============================] - 13s 8ms/step - loss: 0.5131 - accuracy: 0.7652 - val_loss: 0.4517 - val_accuracy: 0.7939\n",
            "Epoch 33/50\n",
            "1721/1721 [==============================] - 13s 8ms/step - loss: 0.5107 - accuracy: 0.7658 - val_loss: 0.4582 - val_accuracy: 0.7901\n"
          ]
        },
        {
          "data": {
            "application/vnd.jupyter.widget-view+json": {
              "model_id": "40930514bef34fa28be7bb6f2670c29e",
              "version_major": 2,
              "version_minor": 0
            },
            "text/plain": [
              "VBox(children=(Label(value='0.005 MB of 0.005 MB uploaded\\r'), FloatProgress(value=1.0, max=1.0)))"
            ]
          },
          "metadata": {},
          "output_type": "display_data"
        },
        {
          "data": {
            "text/html": [
              "<style>\n",
              "    table.wandb td:nth-child(1) { padding: 0 10px; text-align: left ; width: auto;} td:nth-child(2) {text-align: left ; width: 100%}\n",
              "    .wandb-row { display: flex; flex-direction: row; flex-wrap: wrap; justify-content: flex-start; width: 100% }\n",
              "    .wandb-col { display: flex; flex-direction: column; flex-basis: 100%; flex: 1; padding: 10px; }\n",
              "    </style>\n",
              "<div class=\"wandb-row\"><div class=\"wandb-col\"><h3>Run history:</h3><br/><table class=\"wandb\"><tr><td>accuracy</td><td>▁▄▄▅▅▅▅▅▆▆▆▆▆▆▆▆▇▇▇▇▇▇▇▇▇▇███████</td></tr><tr><td>epoch</td><td>▁▁▁▂▂▂▂▃▃▃▃▃▄▄▄▄▅▅▅▅▅▆▆▆▆▆▇▇▇▇███</td></tr><tr><td>loss</td><td>█▆▅▅▄▄▄▄▃▃▃▃▃▃▂▂▂▂▂▂▂▂▂▂▂▁▁▁▁▁▁▁▁</td></tr><tr><td>val_accuracy</td><td>▁▂▃▃▁▂▄▅▄▅▅▅▆▆▆▄▆▇▇▆▇▇▅▇▇▇▇██▇█▇▇</td></tr><tr><td>val_loss</td><td>█▆▆▅▇▇▅▄▅▄▄▄▃▂▃▄▃▂▂▂▂▂▃▂▂▂▂▂▁▂▁▂▂</td></tr></table><br/></div><div class=\"wandb-col\"><h3>Run summary:</h3><br/><table class=\"wandb\"><tr><td>accuracy</td><td>0.76579</td></tr><tr><td>best_epoch</td><td>30</td></tr><tr><td>best_val_loss</td><td>0.44097</td></tr><tr><td>epoch</td><td>32</td></tr><tr><td>loss</td><td>0.51065</td></tr><tr><td>val_accuracy</td><td>0.79013</td></tr><tr><td>val_loss</td><td>0.45815</td></tr></table><br/></div></div>"
            ],
            "text/plain": [
              "<IPython.core.display.HTML object>"
            ]
          },
          "metadata": {},
          "output_type": "display_data"
        },
        {
          "data": {
            "text/html": [
              " View run <strong style=\"color:#cdcd00\">glowing-sweep-4</strong> at: <a href='https://wandb.ai/coffeegang/Kim_sweeps/runs/05j6xdnx' target=\"_blank\">https://wandb.ai/coffeegang/Kim_sweeps/runs/05j6xdnx</a><br/>Synced 5 W&B file(s), 1 media file(s), 0 artifact file(s) and 0 other file(s)"
            ],
            "text/plain": [
              "<IPython.core.display.HTML object>"
            ]
          },
          "metadata": {},
          "output_type": "display_data"
        },
        {
          "data": {
            "text/html": [
              "Find logs at: <code>./wandb/run-20240129_105721-05j6xdnx/logs</code>"
            ],
            "text/plain": [
              "<IPython.core.display.HTML object>"
            ]
          },
          "metadata": {},
          "output_type": "display_data"
        },
        {
          "metadata": {
            "tags": null
          },
          "name": "stderr",
          "output_type": "stream",
          "text": [
            "\u001b[34m\u001b[1mwandb\u001b[0m: Agent Starting Run: 73vvrfwb with config:\n",
            "\u001b[34m\u001b[1mwandb\u001b[0m: \tbatch_size: 37\n",
            "\u001b[34m\u001b[1mwandb\u001b[0m: \tdropout_conv: 0.4\n",
            "\u001b[34m\u001b[1mwandb\u001b[0m: \tdropout_dense: 0.4\n",
            "\u001b[34m\u001b[1mwandb\u001b[0m: \tfilters: 16\n",
            "\u001b[34m\u001b[1mwandb\u001b[0m: \thidden_layer_size: 256\n",
            "\u001b[34m\u001b[1mwandb\u001b[0m: \thidden_layers: 3\n",
            "\u001b[34m\u001b[1mwandb\u001b[0m: \tkernel_size: 3\n",
            "\u001b[34m\u001b[1mwandb\u001b[0m: \tlearning_rate: 1.9110545367823785e-05\n"
          ]
        },
        {
          "data": {
            "text/html": [
              "Tracking run with wandb version 0.16.2"
            ],
            "text/plain": [
              "<IPython.core.display.HTML object>"
            ]
          },
          "metadata": {},
          "output_type": "display_data"
        },
        {
          "data": {
            "text/html": [
              "Run data is saved locally in <code>/content/gdrive/MyDrive/AML_Exam/problem1/wandb/run-20240129_110454-73vvrfwb</code>"
            ],
            "text/plain": [
              "<IPython.core.display.HTML object>"
            ]
          },
          "metadata": {},
          "output_type": "display_data"
        },
        {
          "data": {
            "text/html": [
              "Syncing run <strong><a href='https://wandb.ai/coffeegang/Kim_sweeps/runs/73vvrfwb' target=\"_blank\">icy-sweep-5</a></strong> to <a href='https://wandb.ai/coffeegang/Kim_sweeps' target=\"_blank\">Weights & Biases</a> (<a href='https://wandb.me/run' target=\"_blank\">docs</a>)<br/>Sweep page: <a href='https://wandb.ai/coffeegang/Kim_sweeps/sweeps/w44abky7' target=\"_blank\">https://wandb.ai/coffeegang/Kim_sweeps/sweeps/w44abky7</a>"
            ],
            "text/plain": [
              "<IPython.core.display.HTML object>"
            ]
          },
          "metadata": {},
          "output_type": "display_data"
        },
        {
          "data": {
            "text/html": [
              " View project at <a href='https://wandb.ai/coffeegang/Kim_sweeps' target=\"_blank\">https://wandb.ai/coffeegang/Kim_sweeps</a>"
            ],
            "text/plain": [
              "<IPython.core.display.HTML object>"
            ]
          },
          "metadata": {},
          "output_type": "display_data"
        },
        {
          "data": {
            "text/html": [
              " View sweep at <a href='https://wandb.ai/coffeegang/Kim_sweeps/sweeps/w44abky7' target=\"_blank\">https://wandb.ai/coffeegang/Kim_sweeps/sweeps/w44abky7</a>"
            ],
            "text/plain": [
              "<IPython.core.display.HTML object>"
            ]
          },
          "metadata": {},
          "output_type": "display_data"
        },
        {
          "data": {
            "text/html": [
              " View run at <a href='https://wandb.ai/coffeegang/Kim_sweeps/runs/73vvrfwb' target=\"_blank\">https://wandb.ai/coffeegang/Kim_sweeps/runs/73vvrfwb</a>"
            ],
            "text/plain": [
              "<IPython.core.display.HTML object>"
            ]
          },
          "metadata": {},
          "output_type": "display_data"
        },
        {
          "metadata": {
            "tags": null
          },
          "name": "stdout",
          "output_type": "stream",
          "text": [
            "Epoch 1/50\n",
            "1721/1721 [==============================] - 19s 9ms/step - loss: 1.0720 - accuracy: 0.5292 - val_loss: 1.1058 - val_accuracy: 0.4909\n",
            "Epoch 2/50\n",
            "1721/1721 [==============================] - 15s 9ms/step - loss: 0.9444 - accuracy: 0.5468 - val_loss: 0.9685 - val_accuracy: 0.4909\n",
            "Epoch 3/50\n",
            "1721/1721 [==============================] - 15s 9ms/step - loss: 0.8908 - accuracy: 0.5492 - val_loss: 0.9174 - val_accuracy: 0.4954\n",
            "Epoch 4/50\n",
            "1721/1721 [==============================] - 15s 9ms/step - loss: 0.8577 - accuracy: 0.5513 - val_loss: 0.8283 - val_accuracy: 0.5682\n",
            "Epoch 5/50\n",
            "1721/1721 [==============================] - 15s 8ms/step - loss: 0.8099 - accuracy: 0.5657 - val_loss: 0.8020 - val_accuracy: 0.5601\n",
            "Epoch 6/50\n",
            "1721/1721 [==============================] - 15s 9ms/step - loss: 0.7764 - accuracy: 0.5785 - val_loss: 0.7787 - val_accuracy: 0.5788\n",
            "Epoch 7/50\n",
            "1721/1721 [==============================] - 15s 9ms/step - loss: 0.7554 - accuracy: 0.5847 - val_loss: 0.7745 - val_accuracy: 0.5801\n",
            "Epoch 8/50\n",
            "1721/1721 [==============================] - 15s 8ms/step - loss: 0.7266 - accuracy: 0.5963 - val_loss: 0.7714 - val_accuracy: 0.5874\n",
            "Epoch 9/50\n",
            "1721/1721 [==============================] - 15s 9ms/step - loss: 0.7116 - accuracy: 0.6041 - val_loss: 0.6768 - val_accuracy: 0.5931\n",
            "Epoch 10/50\n",
            "1721/1721 [==============================] - 15s 8ms/step - loss: 0.6841 - accuracy: 0.6212 - val_loss: 0.6699 - val_accuracy: 0.6026\n",
            "Epoch 11/50\n",
            "1721/1721 [==============================] - 15s 8ms/step - loss: 0.6669 - accuracy: 0.6308 - val_loss: 0.6824 - val_accuracy: 0.6079\n",
            "Epoch 12/50\n",
            "1721/1721 [==============================] - 15s 8ms/step - loss: 0.6462 - accuracy: 0.6505 - val_loss: 0.6377 - val_accuracy: 0.6194\n",
            "Epoch 13/50\n",
            "1721/1721 [==============================] - 15s 8ms/step - loss: 0.6358 - accuracy: 0.6555 - val_loss: 0.6567 - val_accuracy: 0.6186\n",
            "Epoch 14/50\n",
            "1721/1721 [==============================] - 15s 9ms/step - loss: 0.6267 - accuracy: 0.6644 - val_loss: 0.6421 - val_accuracy: 0.6201\n",
            "Epoch 15/50\n",
            "1721/1721 [==============================] - 15s 8ms/step - loss: 0.6133 - accuracy: 0.6749 - val_loss: 0.6502 - val_accuracy: 0.6168\n",
            "Epoch 16/50\n",
            "1721/1721 [==============================] - 14s 8ms/step - loss: 0.6073 - accuracy: 0.6823 - val_loss: 0.6122 - val_accuracy: 0.6456\n",
            "Epoch 17/50\n",
            "1721/1721 [==============================] - 14s 8ms/step - loss: 0.5987 - accuracy: 0.6880 - val_loss: 0.6065 - val_accuracy: 0.6599\n",
            "Epoch 18/50\n",
            "1721/1721 [==============================] - 15s 8ms/step - loss: 0.5902 - accuracy: 0.6955 - val_loss: 0.5751 - val_accuracy: 0.7001\n",
            "Epoch 19/50\n",
            "1721/1721 [==============================] - 15s 9ms/step - loss: 0.5804 - accuracy: 0.7041 - val_loss: 0.6295 - val_accuracy: 0.6608\n",
            "Epoch 20/50\n",
            "1721/1721 [==============================] - 14s 8ms/step - loss: 0.5765 - accuracy: 0.7058 - val_loss: 0.5502 - val_accuracy: 0.7194\n",
            "Epoch 21/50\n",
            "1721/1721 [==============================] - 14s 8ms/step - loss: 0.5693 - accuracy: 0.7128 - val_loss: 0.6267 - val_accuracy: 0.6766\n",
            "Epoch 22/50\n",
            "1721/1721 [==============================] - 15s 8ms/step - loss: 0.5656 - accuracy: 0.7183 - val_loss: 0.5448 - val_accuracy: 0.7342\n",
            "Epoch 23/50\n",
            "1721/1721 [==============================] - 14s 8ms/step - loss: 0.5616 - accuracy: 0.7212 - val_loss: 0.5947 - val_accuracy: 0.6989\n",
            "Epoch 24/50\n",
            "1721/1721 [==============================] - 15s 8ms/step - loss: 0.5576 - accuracy: 0.7243 - val_loss: 0.6765 - val_accuracy: 0.6629\n",
            "Epoch 25/50\n",
            "1721/1721 [==============================] - 14s 8ms/step - loss: 0.5565 - accuracy: 0.7253 - val_loss: 0.5081 - val_accuracy: 0.7653\n",
            "Epoch 26/50\n",
            "1721/1721 [==============================] - 14s 8ms/step - loss: 0.5515 - accuracy: 0.7287 - val_loss: 0.5307 - val_accuracy: 0.7508\n",
            "Epoch 27/50\n",
            "1721/1721 [==============================] - 14s 8ms/step - loss: 0.5495 - accuracy: 0.7284 - val_loss: 0.5540 - val_accuracy: 0.7299\n",
            "Epoch 28/50\n",
            "1721/1721 [==============================] - 14s 8ms/step - loss: 0.5448 - accuracy: 0.7324 - val_loss: 0.5446 - val_accuracy: 0.7408\n",
            "Epoch 29/50\n",
            "1721/1721 [==============================] - 14s 8ms/step - loss: 0.5476 - accuracy: 0.7321 - val_loss: 0.5087 - val_accuracy: 0.7654\n",
            "Epoch 30/50\n",
            "1721/1721 [==============================] - 14s 8ms/step - loss: 0.5418 - accuracy: 0.7359 - val_loss: 0.5095 - val_accuracy: 0.7662\n",
            "Epoch 31/50\n",
            "1721/1721 [==============================] - 14s 8ms/step - loss: 0.5381 - accuracy: 0.7391 - val_loss: 0.5172 - val_accuracy: 0.7608\n",
            "Epoch 32/50\n",
            "1721/1721 [==============================] - 14s 8ms/step - loss: 0.5397 - accuracy: 0.7388 - val_loss: 0.5526 - val_accuracy: 0.7402\n",
            "Epoch 33/50\n",
            "1721/1721 [==============================] - 14s 8ms/step - loss: 0.5382 - accuracy: 0.7397 - val_loss: 0.7378 - val_accuracy: 0.6528\n",
            "Epoch 34/50\n",
            "1721/1721 [==============================] - 15s 8ms/step - loss: 0.5351 - accuracy: 0.7412 - val_loss: 0.5673 - val_accuracy: 0.7276\n"
          ]
        },
        {
          "data": {
            "application/vnd.jupyter.widget-view+json": {
              "model_id": "a0e3621b751042d7b8d39af1c45555f2",
              "version_major": 2,
              "version_minor": 0
            },
            "text/plain": [
              "VBox(children=(Label(value='0.006 MB of 0.006 MB uploaded\\r'), FloatProgress(value=1.0, max=1.0)))"
            ]
          },
          "metadata": {},
          "output_type": "display_data"
        },
        {
          "data": {
            "text/html": [
              "<style>\n",
              "    table.wandb td:nth-child(1) { padding: 0 10px; text-align: left ; width: auto;} td:nth-child(2) {text-align: left ; width: 100%}\n",
              "    .wandb-row { display: flex; flex-direction: row; flex-wrap: wrap; justify-content: flex-start; width: 100% }\n",
              "    .wandb-col { display: flex; flex-direction: column; flex-basis: 100%; flex: 1; padding: 10px; }\n",
              "    </style>\n",
              "<div class=\"wandb-row\"><div class=\"wandb-col\"><h3>Run history:</h3><br/><table class=\"wandb\"><tr><td>accuracy</td><td>▁▂▂▂▂▃▃▃▃▄▄▅▅▅▆▆▆▆▇▇▇▇▇▇▇█████████</td></tr><tr><td>epoch</td><td>▁▁▁▂▂▂▂▂▃▃▃▃▄▄▄▄▄▅▅▅▅▅▆▆▆▆▇▇▇▇▇███</td></tr><tr><td>loss</td><td>█▆▆▅▅▄▄▃▃▃▃▂▂▂▂▂▂▂▂▂▁▁▁▁▁▁▁▁▁▁▁▁▁▁</td></tr><tr><td>val_accuracy</td><td>▁▁▁▃▃▃▃▃▄▄▄▄▄▄▄▅▅▆▅▇▆▇▆▅██▇▇███▇▅▇</td></tr><tr><td>val_loss</td><td>█▆▆▅▄▄▄▄▃▃▃▃▃▃▃▂▂▂▂▁▂▁▂▃▁▁▂▁▁▁▁▂▄▂</td></tr></table><br/></div><div class=\"wandb-col\"><h3>Run summary:</h3><br/><table class=\"wandb\"><tr><td>accuracy</td><td>0.74116</td></tr><tr><td>best_epoch</td><td>24</td></tr><tr><td>best_val_loss</td><td>0.5081</td></tr><tr><td>epoch</td><td>33</td></tr><tr><td>loss</td><td>0.5351</td></tr><tr><td>val_accuracy</td><td>0.72764</td></tr><tr><td>val_loss</td><td>0.56729</td></tr></table><br/></div></div>"
            ],
            "text/plain": [
              "<IPython.core.display.HTML object>"
            ]
          },
          "metadata": {},
          "output_type": "display_data"
        },
        {
          "data": {
            "text/html": [
              " View run <strong style=\"color:#cdcd00\">icy-sweep-5</strong> at: <a href='https://wandb.ai/coffeegang/Kim_sweeps/runs/73vvrfwb' target=\"_blank\">https://wandb.ai/coffeegang/Kim_sweeps/runs/73vvrfwb</a><br/>Synced 5 W&B file(s), 1 media file(s), 0 artifact file(s) and 0 other file(s)"
            ],
            "text/plain": [
              "<IPython.core.display.HTML object>"
            ]
          },
          "metadata": {},
          "output_type": "display_data"
        },
        {
          "data": {
            "text/html": [
              "Find logs at: <code>./wandb/run-20240129_110454-73vvrfwb/logs</code>"
            ],
            "text/plain": [
              "<IPython.core.display.HTML object>"
            ]
          },
          "metadata": {},
          "output_type": "display_data"
        },
        {
          "metadata": {
            "tags": null
          },
          "name": "stderr",
          "output_type": "stream",
          "text": [
            "\u001b[34m\u001b[1mwandb\u001b[0m: Agent Starting Run: sqy025pz with config:\n",
            "\u001b[34m\u001b[1mwandb\u001b[0m: \tbatch_size: 186\n",
            "\u001b[34m\u001b[1mwandb\u001b[0m: \tdropout_conv: 0.1\n",
            "\u001b[34m\u001b[1mwandb\u001b[0m: \tdropout_dense: 0.1\n",
            "\u001b[34m\u001b[1mwandb\u001b[0m: \tfilters: 64\n",
            "\u001b[34m\u001b[1mwandb\u001b[0m: \thidden_layer_size: 1024\n",
            "\u001b[34m\u001b[1mwandb\u001b[0m: \thidden_layers: 5\n",
            "\u001b[34m\u001b[1mwandb\u001b[0m: \tkernel_size: 5\n",
            "\u001b[34m\u001b[1mwandb\u001b[0m: \tlearning_rate: 4.1919143504379085e-05\n"
          ]
        },
        {
          "data": {
            "text/html": [
              "Tracking run with wandb version 0.16.2"
            ],
            "text/plain": [
              "<IPython.core.display.HTML object>"
            ]
          },
          "metadata": {},
          "output_type": "display_data"
        },
        {
          "data": {
            "text/html": [
              "Run data is saved locally in <code>/content/gdrive/MyDrive/AML_Exam/problem1/wandb/run-20240129_111426-sqy025pz</code>"
            ],
            "text/plain": [
              "<IPython.core.display.HTML object>"
            ]
          },
          "metadata": {},
          "output_type": "display_data"
        },
        {
          "data": {
            "text/html": [
              "Syncing run <strong><a href='https://wandb.ai/coffeegang/Kim_sweeps/runs/sqy025pz' target=\"_blank\">stoic-sweep-6</a></strong> to <a href='https://wandb.ai/coffeegang/Kim_sweeps' target=\"_blank\">Weights & Biases</a> (<a href='https://wandb.me/run' target=\"_blank\">docs</a>)<br/>Sweep page: <a href='https://wandb.ai/coffeegang/Kim_sweeps/sweeps/w44abky7' target=\"_blank\">https://wandb.ai/coffeegang/Kim_sweeps/sweeps/w44abky7</a>"
            ],
            "text/plain": [
              "<IPython.core.display.HTML object>"
            ]
          },
          "metadata": {},
          "output_type": "display_data"
        },
        {
          "data": {
            "text/html": [
              " View project at <a href='https://wandb.ai/coffeegang/Kim_sweeps' target=\"_blank\">https://wandb.ai/coffeegang/Kim_sweeps</a>"
            ],
            "text/plain": [
              "<IPython.core.display.HTML object>"
            ]
          },
          "metadata": {},
          "output_type": "display_data"
        },
        {
          "data": {
            "text/html": [
              " View sweep at <a href='https://wandb.ai/coffeegang/Kim_sweeps/sweeps/w44abky7' target=\"_blank\">https://wandb.ai/coffeegang/Kim_sweeps/sweeps/w44abky7</a>"
            ],
            "text/plain": [
              "<IPython.core.display.HTML object>"
            ]
          },
          "metadata": {},
          "output_type": "display_data"
        },
        {
          "data": {
            "text/html": [
              " View run at <a href='https://wandb.ai/coffeegang/Kim_sweeps/runs/sqy025pz' target=\"_blank\">https://wandb.ai/coffeegang/Kim_sweeps/runs/sqy025pz</a>"
            ],
            "text/plain": [
              "<IPython.core.display.HTML object>"
            ]
          },
          "metadata": {},
          "output_type": "display_data"
        },
        {
          "metadata": {
            "tags": null
          },
          "name": "stdout",
          "output_type": "stream",
          "text": [
            "Epoch 1/50\n",
            "1721/1721 [==============================] - 29s 13ms/step - loss: 0.7007 - accuracy: 0.6690 - val_loss: 0.6000 - val_accuracy: 0.6878\n",
            "Epoch 2/50\n",
            "1721/1721 [==============================] - 22s 13ms/step - loss: 0.6116 - accuracy: 0.7046 - val_loss: 0.5466 - val_accuracy: 0.7324\n",
            "Epoch 3/50\n",
            "1721/1721 [==============================] - 22s 13ms/step - loss: 0.5720 - accuracy: 0.7208 - val_loss: 0.6125 - val_accuracy: 0.6953\n",
            "Epoch 4/50\n",
            "1721/1721 [==============================] - 22s 13ms/step - loss: 0.5424 - accuracy: 0.7383 - val_loss: 0.5280 - val_accuracy: 0.7433\n",
            "Epoch 5/50\n",
            "1721/1721 [==============================] - 22s 13ms/step - loss: 0.5260 - accuracy: 0.7489 - val_loss: 0.4775 - val_accuracy: 0.7732\n",
            "Epoch 6/50\n",
            "1721/1721 [==============================] - 22s 13ms/step - loss: 0.5120 - accuracy: 0.7563 - val_loss: 0.5021 - val_accuracy: 0.7524\n",
            "Epoch 7/50\n",
            "1721/1721 [==============================] - 22s 13ms/step - loss: 0.5011 - accuracy: 0.7635 - val_loss: 0.4783 - val_accuracy: 0.7690\n",
            "Epoch 8/50\n",
            "1721/1721 [==============================] - 23s 14ms/step - loss: 0.4937 - accuracy: 0.7686 - val_loss: 0.4647 - val_accuracy: 0.7842\n",
            "Epoch 9/50\n",
            "1721/1721 [==============================] - 24s 14ms/step - loss: 0.4816 - accuracy: 0.7757 - val_loss: 0.4611 - val_accuracy: 0.7943\n",
            "Epoch 10/50\n",
            "1721/1721 [==============================] - 23s 13ms/step - loss: 0.4721 - accuracy: 0.7833 - val_loss: 0.4391 - val_accuracy: 0.7981\n",
            "Epoch 11/50\n",
            "1721/1721 [==============================] - 22s 13ms/step - loss: 0.4635 - accuracy: 0.7879 - val_loss: 0.5084 - val_accuracy: 0.7636\n",
            "Epoch 12/50\n",
            "1721/1721 [==============================] - 23s 13ms/step - loss: 0.4557 - accuracy: 0.7928 - val_loss: 0.4746 - val_accuracy: 0.7739\n",
            "Epoch 13/50\n",
            "1721/1721 [==============================] - 22s 13ms/step - loss: 0.4482 - accuracy: 0.7957 - val_loss: 0.5794 - val_accuracy: 0.6946\n",
            "Epoch 14/50\n",
            "1721/1721 [==============================] - 23s 13ms/step - loss: 0.4410 - accuracy: 0.8011 - val_loss: 1.2961 - val_accuracy: 0.5098\n"
          ]
        },
        {
          "data": {
            "application/vnd.jupyter.widget-view+json": {
              "model_id": "2d32f7365ef4416fad30c15b97967d40",
              "version_major": 2,
              "version_minor": 0
            },
            "text/plain": [
              "VBox(children=(Label(value='0.008 MB of 0.020 MB uploaded\\r'), FloatProgress(value=0.4028202676864245, max=1.0…"
            ]
          },
          "metadata": {},
          "output_type": "display_data"
        },
        {
          "data": {
            "text/html": [
              "<style>\n",
              "    table.wandb td:nth-child(1) { padding: 0 10px; text-align: left ; width: auto;} td:nth-child(2) {text-align: left ; width: 100%}\n",
              "    .wandb-row { display: flex; flex-direction: row; flex-wrap: wrap; justify-content: flex-start; width: 100% }\n",
              "    .wandb-col { display: flex; flex-direction: column; flex-basis: 100%; flex: 1; padding: 10px; }\n",
              "    </style>\n",
              "<div class=\"wandb-row\"><div class=\"wandb-col\"><h3>Run history:</h3><br/><table class=\"wandb\"><tr><td>accuracy</td><td>▁▃▄▅▅▆▆▆▇▇▇███</td></tr><tr><td>epoch</td><td>▁▂▂▃▃▄▄▅▅▆▆▇▇█</td></tr><tr><td>loss</td><td>█▆▅▄▃▃▃▂▂▂▂▁▁▁</td></tr><tr><td>val_accuracy</td><td>▅▆▆▇▇▇▇███▇▇▅▁</td></tr><tr><td>val_loss</td><td>▂▂▂▂▁▂▁▁▁▁▂▁▂█</td></tr></table><br/></div><div class=\"wandb-col\"><h3>Run summary:</h3><br/><table class=\"wandb\"><tr><td>accuracy</td><td>0.80114</td></tr><tr><td>best_epoch</td><td>9</td></tr><tr><td>best_val_loss</td><td>0.43905</td></tr><tr><td>epoch</td><td>13</td></tr><tr><td>loss</td><td>0.44095</td></tr><tr><td>val_accuracy</td><td>0.50982</td></tr><tr><td>val_loss</td><td>1.2961</td></tr></table><br/></div></div>"
            ],
            "text/plain": [
              "<IPython.core.display.HTML object>"
            ]
          },
          "metadata": {},
          "output_type": "display_data"
        },
        {
          "data": {
            "text/html": [
              " View run <strong style=\"color:#cdcd00\">stoic-sweep-6</strong> at: <a href='https://wandb.ai/coffeegang/Kim_sweeps/runs/sqy025pz' target=\"_blank\">https://wandb.ai/coffeegang/Kim_sweeps/runs/sqy025pz</a><br/>Synced 5 W&B file(s), 1 media file(s), 0 artifact file(s) and 0 other file(s)"
            ],
            "text/plain": [
              "<IPython.core.display.HTML object>"
            ]
          },
          "metadata": {},
          "output_type": "display_data"
        },
        {
          "data": {
            "text/html": [
              "Find logs at: <code>./wandb/run-20240129_111426-sqy025pz/logs</code>"
            ],
            "text/plain": [
              "<IPython.core.display.HTML object>"
            ]
          },
          "metadata": {},
          "output_type": "display_data"
        },
        {
          "metadata": {
            "tags": null
          },
          "name": "stderr",
          "output_type": "stream",
          "text": [
            "\u001b[34m\u001b[1mwandb\u001b[0m: Agent Starting Run: oy0ntr4y with config:\n",
            "\u001b[34m\u001b[1mwandb\u001b[0m: \tbatch_size: 23\n",
            "\u001b[34m\u001b[1mwandb\u001b[0m: \tdropout_conv: 0\n",
            "\u001b[34m\u001b[1mwandb\u001b[0m: \tdropout_dense: 0.3\n",
            "\u001b[34m\u001b[1mwandb\u001b[0m: \tfilters: 16\n",
            "\u001b[34m\u001b[1mwandb\u001b[0m: \thidden_layer_size: 512\n",
            "\u001b[34m\u001b[1mwandb\u001b[0m: \thidden_layers: 3\n",
            "\u001b[34m\u001b[1mwandb\u001b[0m: \tkernel_size: 5\n",
            "\u001b[34m\u001b[1mwandb\u001b[0m: \tlearning_rate: 8.029523484583649e-05\n"
          ]
        },
        {
          "data": {
            "text/html": [
              "Tracking run with wandb version 0.16.2"
            ],
            "text/plain": [
              "<IPython.core.display.HTML object>"
            ]
          },
          "metadata": {},
          "output_type": "display_data"
        },
        {
          "data": {
            "text/html": [
              "Run data is saved locally in <code>/content/gdrive/MyDrive/AML_Exam/problem1/wandb/run-20240129_112002-oy0ntr4y</code>"
            ],
            "text/plain": [
              "<IPython.core.display.HTML object>"
            ]
          },
          "metadata": {},
          "output_type": "display_data"
        },
        {
          "data": {
            "text/html": [
              "Syncing run <strong><a href='https://wandb.ai/coffeegang/Kim_sweeps/runs/oy0ntr4y' target=\"_blank\">breezy-sweep-7</a></strong> to <a href='https://wandb.ai/coffeegang/Kim_sweeps' target=\"_blank\">Weights & Biases</a> (<a href='https://wandb.me/run' target=\"_blank\">docs</a>)<br/>Sweep page: <a href='https://wandb.ai/coffeegang/Kim_sweeps/sweeps/w44abky7' target=\"_blank\">https://wandb.ai/coffeegang/Kim_sweeps/sweeps/w44abky7</a>"
            ],
            "text/plain": [
              "<IPython.core.display.HTML object>"
            ]
          },
          "metadata": {},
          "output_type": "display_data"
        },
        {
          "data": {
            "text/html": [
              " View project at <a href='https://wandb.ai/coffeegang/Kim_sweeps' target=\"_blank\">https://wandb.ai/coffeegang/Kim_sweeps</a>"
            ],
            "text/plain": [
              "<IPython.core.display.HTML object>"
            ]
          },
          "metadata": {},
          "output_type": "display_data"
        },
        {
          "data": {
            "text/html": [
              " View sweep at <a href='https://wandb.ai/coffeegang/Kim_sweeps/sweeps/w44abky7' target=\"_blank\">https://wandb.ai/coffeegang/Kim_sweeps/sweeps/w44abky7</a>"
            ],
            "text/plain": [
              "<IPython.core.display.HTML object>"
            ]
          },
          "metadata": {},
          "output_type": "display_data"
        },
        {
          "data": {
            "text/html": [
              " View run at <a href='https://wandb.ai/coffeegang/Kim_sweeps/runs/oy0ntr4y' target=\"_blank\">https://wandb.ai/coffeegang/Kim_sweeps/runs/oy0ntr4y</a>"
            ],
            "text/plain": [
              "<IPython.core.display.HTML object>"
            ]
          },
          "metadata": {},
          "output_type": "display_data"
        },
        {
          "metadata": {
            "tags": null
          },
          "name": "stdout",
          "output_type": "stream",
          "text": [
            "Epoch 1/50\n",
            "1721/1721 [==============================] - 19s 9ms/step - loss: 0.6806 - accuracy: 0.6991 - val_loss: 0.5290 - val_accuracy: 0.7548\n",
            "Epoch 2/50\n",
            "1721/1721 [==============================] - 14s 8ms/step - loss: 0.5710 - accuracy: 0.7352 - val_loss: 0.4779 - val_accuracy: 0.7785\n",
            "Epoch 3/50\n",
            "1721/1721 [==============================] - 14s 8ms/step - loss: 0.5287 - accuracy: 0.7485 - val_loss: 0.5589 - val_accuracy: 0.7301\n",
            "Epoch 4/50\n",
            "1721/1721 [==============================] - 15s 9ms/step - loss: 0.5046 - accuracy: 0.7623 - val_loss: 0.5821 - val_accuracy: 0.7067\n",
            "Epoch 5/50\n",
            "1721/1721 [==============================] - 15s 9ms/step - loss: 0.4876 - accuracy: 0.7734 - val_loss: 0.4575 - val_accuracy: 0.7906\n",
            "Epoch 6/50\n",
            "1721/1721 [==============================] - 15s 9ms/step - loss: 0.4727 - accuracy: 0.7806 - val_loss: 0.4739 - val_accuracy: 0.7773\n",
            "Epoch 7/50\n",
            "1721/1721 [==============================] - 15s 9ms/step - loss: 0.4653 - accuracy: 0.7869 - val_loss: 0.4720 - val_accuracy: 0.7772\n",
            "Epoch 8/50\n",
            "1721/1721 [==============================] - 14s 8ms/step - loss: 0.4537 - accuracy: 0.7923 - val_loss: 0.4430 - val_accuracy: 0.7942\n",
            "Epoch 9/50\n",
            "1721/1721 [==============================] - 14s 8ms/step - loss: 0.4445 - accuracy: 0.7980 - val_loss: 0.4317 - val_accuracy: 0.7996\n",
            "Epoch 10/50\n",
            "1721/1721 [==============================] - 14s 8ms/step - loss: 0.4387 - accuracy: 0.8003 - val_loss: 0.4344 - val_accuracy: 0.8016\n",
            "Epoch 11/50\n",
            "1721/1721 [==============================] - 14s 8ms/step - loss: 0.4312 - accuracy: 0.8052 - val_loss: 0.4494 - val_accuracy: 0.7942\n",
            "Epoch 12/50\n",
            "1721/1721 [==============================] - 14s 8ms/step - loss: 0.4258 - accuracy: 0.8074 - val_loss: 0.7117 - val_accuracy: 0.6649\n",
            "Epoch 13/50\n",
            "1721/1721 [==============================] - 14s 8ms/step - loss: 0.4223 - accuracy: 0.8104 - val_loss: 0.4556 - val_accuracy: 0.7812\n",
            "Epoch 14/50\n",
            "1721/1721 [==============================] - 15s 8ms/step - loss: 0.4142 - accuracy: 0.8148 - val_loss: 1.1206 - val_accuracy: 0.5462\n"
          ]
        },
        {
          "data": {
            "application/vnd.jupyter.widget-view+json": {
              "model_id": "e8c0f2ba3f4441dbae09f4e8ff91722b",
              "version_major": 2,
              "version_minor": 0
            },
            "text/plain": [
              "VBox(children=(Label(value='0.006 MB of 0.006 MB uploaded\\r'), FloatProgress(value=1.0, max=1.0)))"
            ]
          },
          "metadata": {},
          "output_type": "display_data"
        },
        {
          "data": {
            "text/html": [
              "<style>\n",
              "    table.wandb td:nth-child(1) { padding: 0 10px; text-align: left ; width: auto;} td:nth-child(2) {text-align: left ; width: 100%}\n",
              "    .wandb-row { display: flex; flex-direction: row; flex-wrap: wrap; justify-content: flex-start; width: 100% }\n",
              "    .wandb-col { display: flex; flex-direction: column; flex-basis: 100%; flex: 1; padding: 10px; }\n",
              "    </style>\n",
              "<div class=\"wandb-row\"><div class=\"wandb-col\"><h3>Run history:</h3><br/><table class=\"wandb\"><tr><td>accuracy</td><td>▁▃▄▅▅▆▆▇▇▇▇███</td></tr><tr><td>epoch</td><td>▁▂▂▃▃▄▄▅▅▆▆▇▇█</td></tr><tr><td>loss</td><td>█▅▄▃▃▃▂▂▂▂▁▁▁▁</td></tr><tr><td>val_accuracy</td><td>▇▇▆▅█▇▇████▄▇▁</td></tr><tr><td>val_loss</td><td>▂▁▂▃▁▁▁▁▁▁▁▄▁█</td></tr></table><br/></div><div class=\"wandb-col\"><h3>Run summary:</h3><br/><table class=\"wandb\"><tr><td>accuracy</td><td>0.81475</td></tr><tr><td>best_epoch</td><td>8</td></tr><tr><td>best_val_loss</td><td>0.43166</td></tr><tr><td>epoch</td><td>13</td></tr><tr><td>loss</td><td>0.41422</td></tr><tr><td>val_accuracy</td><td>0.54619</td></tr><tr><td>val_loss</td><td>1.1206</td></tr></table><br/></div></div>"
            ],
            "text/plain": [
              "<IPython.core.display.HTML object>"
            ]
          },
          "metadata": {},
          "output_type": "display_data"
        },
        {
          "data": {
            "text/html": [
              " View run <strong style=\"color:#cdcd00\">breezy-sweep-7</strong> at: <a href='https://wandb.ai/coffeegang/Kim_sweeps/runs/oy0ntr4y' target=\"_blank\">https://wandb.ai/coffeegang/Kim_sweeps/runs/oy0ntr4y</a><br/>Synced 5 W&B file(s), 1 media file(s), 0 artifact file(s) and 0 other file(s)"
            ],
            "text/plain": [
              "<IPython.core.display.HTML object>"
            ]
          },
          "metadata": {},
          "output_type": "display_data"
        },
        {
          "data": {
            "text/html": [
              "Find logs at: <code>./wandb/run-20240129_112002-oy0ntr4y/logs</code>"
            ],
            "text/plain": [
              "<IPython.core.display.HTML object>"
            ]
          },
          "metadata": {},
          "output_type": "display_data"
        },
        {
          "metadata": {
            "tags": null
          },
          "name": "stderr",
          "output_type": "stream",
          "text": [
            "\u001b[34m\u001b[1mwandb\u001b[0m: Agent Starting Run: jlz8kbz9 with config:\n",
            "\u001b[34m\u001b[1mwandb\u001b[0m: \tbatch_size: 141\n",
            "\u001b[34m\u001b[1mwandb\u001b[0m: \tdropout_conv: 0.4\n",
            "\u001b[34m\u001b[1mwandb\u001b[0m: \tdropout_dense: 0.5\n",
            "\u001b[34m\u001b[1mwandb\u001b[0m: \tfilters: 32\n",
            "\u001b[34m\u001b[1mwandb\u001b[0m: \thidden_layer_size: 1024\n",
            "\u001b[34m\u001b[1mwandb\u001b[0m: \thidden_layers: 5\n",
            "\u001b[34m\u001b[1mwandb\u001b[0m: \tkernel_size: 3\n",
            "\u001b[34m\u001b[1mwandb\u001b[0m: \tlearning_rate: 8.940158073466863e-05\n"
          ]
        },
        {
          "data": {
            "text/html": [
              "Tracking run with wandb version 0.16.2"
            ],
            "text/plain": [
              "<IPython.core.display.HTML object>"
            ]
          },
          "metadata": {},
          "output_type": "display_data"
        },
        {
          "data": {
            "text/html": [
              "Run data is saved locally in <code>/content/gdrive/MyDrive/AML_Exam/problem1/wandb/run-20240129_112344-jlz8kbz9</code>"
            ],
            "text/plain": [
              "<IPython.core.display.HTML object>"
            ]
          },
          "metadata": {},
          "output_type": "display_data"
        },
        {
          "data": {
            "text/html": [
              "Syncing run <strong><a href='https://wandb.ai/coffeegang/Kim_sweeps/runs/jlz8kbz9' target=\"_blank\">ruby-sweep-8</a></strong> to <a href='https://wandb.ai/coffeegang/Kim_sweeps' target=\"_blank\">Weights & Biases</a> (<a href='https://wandb.me/run' target=\"_blank\">docs</a>)<br/>Sweep page: <a href='https://wandb.ai/coffeegang/Kim_sweeps/sweeps/w44abky7' target=\"_blank\">https://wandb.ai/coffeegang/Kim_sweeps/sweeps/w44abky7</a>"
            ],
            "text/plain": [
              "<IPython.core.display.HTML object>"
            ]
          },
          "metadata": {},
          "output_type": "display_data"
        },
        {
          "data": {
            "text/html": [
              " View project at <a href='https://wandb.ai/coffeegang/Kim_sweeps' target=\"_blank\">https://wandb.ai/coffeegang/Kim_sweeps</a>"
            ],
            "text/plain": [
              "<IPython.core.display.HTML object>"
            ]
          },
          "metadata": {},
          "output_type": "display_data"
        },
        {
          "data": {
            "text/html": [
              " View sweep at <a href='https://wandb.ai/coffeegang/Kim_sweeps/sweeps/w44abky7' target=\"_blank\">https://wandb.ai/coffeegang/Kim_sweeps/sweeps/w44abky7</a>"
            ],
            "text/plain": [
              "<IPython.core.display.HTML object>"
            ]
          },
          "metadata": {},
          "output_type": "display_data"
        },
        {
          "data": {
            "text/html": [
              " View run at <a href='https://wandb.ai/coffeegang/Kim_sweeps/runs/jlz8kbz9' target=\"_blank\">https://wandb.ai/coffeegang/Kim_sweeps/runs/jlz8kbz9</a>"
            ],
            "text/plain": [
              "<IPython.core.display.HTML object>"
            ]
          },
          "metadata": {},
          "output_type": "display_data"
        },
        {
          "output_type": "stream",
          "name": "stdout",
          "text": [
            "Epoch 1/50\n",
            "1721/1721 [==============================] - 30s 13ms/step - loss: 1.0125 - accuracy: 0.5366 - val_loss: 1.1262 - val_accuracy: 0.4909\n",
            "Epoch 2/50\n",
            "1721/1721 [==============================] - 21s 12ms/step - loss: 0.8030 - accuracy: 0.5530 - val_loss: 1.0569 - val_accuracy: 0.4909\n",
            "Epoch 3/50\n",
            "1721/1721 [==============================] - 21s 12ms/step - loss: 0.7001 - accuracy: 0.5866 - val_loss: 0.9330 - val_accuracy: 0.4909\n",
            "Epoch 4/50\n",
            "1721/1721 [==============================] - 21s 12ms/step - loss: 0.6414 - accuracy: 0.6412 - val_loss: 0.9819 - val_accuracy: 0.4983\n",
            "Epoch 5/50\n",
            "1721/1721 [==============================] - 21s 12ms/step - loss: 0.6028 - accuracy: 0.6839 - val_loss: 0.9334 - val_accuracy: 0.6079\n",
            "Epoch 6/50\n",
            "1721/1721 [==============================] - 21s 12ms/step - loss: 0.5814 - accuracy: 0.7057 - val_loss: 0.7337 - val_accuracy: 0.6526\n",
            "Epoch 7/50\n",
            "1721/1721 [==============================] - 21s 12ms/step - loss: 0.5679 - accuracy: 0.7180 - val_loss: 0.6699 - val_accuracy: 0.6911\n",
            "Epoch 8/50\n",
            "1721/1721 [==============================] - 21s 12ms/step - loss: 0.5584 - accuracy: 0.7255 - val_loss: 0.6736 - val_accuracy: 0.6894\n",
            "Epoch 9/50\n",
            "1721/1721 [==============================] - 21s 12ms/step - loss: 0.5488 - accuracy: 0.7347 - val_loss: 0.5854 - val_accuracy: 0.7482\n",
            "Epoch 10/50\n",
            "1721/1721 [==============================] - 21s 12ms/step - loss: 0.5484 - accuracy: 0.7344 - val_loss: 0.5765 - val_accuracy: 0.7395\n",
            "Epoch 11/50\n",
            "1721/1721 [==============================] - 21s 12ms/step - loss: 0.5420 - accuracy: 0.7392 - val_loss: 0.6585 - val_accuracy: 0.6353\n",
            "Epoch 12/50\n",
            "1721/1721 [==============================] - 21s 12ms/step - loss: 0.5326 - accuracy: 0.7453 - val_loss: 0.5770 - val_accuracy: 0.6556\n",
            "Epoch 13/50\n",
            "1721/1721 [==============================] - 22s 13ms/step - loss: 0.5313 - accuracy: 0.7457 - val_loss: 0.5317 - val_accuracy: 0.7590\n",
            "Epoch 14/50\n",
            "1721/1721 [==============================] - 21s 12ms/step - loss: 0.5257 - accuracy: 0.7517 - val_loss: 0.7059 - val_accuracy: 0.6358\n",
            "Epoch 15/50\n",
            "1721/1721 [==============================] - 22s 13ms/step - loss: 0.5224 - accuracy: 0.7552 - val_loss: 0.5781 - val_accuracy: 0.7392\n",
            "Epoch 16/50\n",
            "1721/1721 [==============================] - 21s 12ms/step - loss: 0.5202 - accuracy: 0.7542 - val_loss: 0.8063 - val_accuracy: 0.5737\n",
            "Epoch 17/50\n",
            "1721/1721 [==============================] - 21s 12ms/step - loss: 0.5157 - accuracy: 0.7585 - val_loss: 0.8326 - val_accuracy: 0.5294\n"
          ]
        },
        {
          "output_type": "display_data",
          "data": {
            "text/plain": [
              "VBox(children=(Label(value='0.008 MB of 0.008 MB uploaded\\r'), FloatProgress(value=1.0, max=1.0)))"
            ],
            "application/vnd.jupyter.widget-view+json": {
              "version_major": 2,
              "version_minor": 0,
              "model_id": "084677e9261942a49a5a83b3fa12760f"
            }
          },
          "metadata": {}
        },
        {
          "output_type": "display_data",
          "data": {
            "text/plain": [
              "<IPython.core.display.HTML object>"
            ],
            "text/html": [
              "<style>\n",
              "    table.wandb td:nth-child(1) { padding: 0 10px; text-align: left ; width: auto;} td:nth-child(2) {text-align: left ; width: 100%}\n",
              "    .wandb-row { display: flex; flex-direction: row; flex-wrap: wrap; justify-content: flex-start; width: 100% }\n",
              "    .wandb-col { display: flex; flex-direction: column; flex-basis: 100%; flex: 1; padding: 10px; }\n",
              "    </style>\n",
              "<div class=\"wandb-row\"><div class=\"wandb-col\"><h3>Run history:</h3><br/><table class=\"wandb\"><tr><td>accuracy</td><td>▁▂▃▄▆▆▇▇▇▇▇██████</td></tr><tr><td>epoch</td><td>▁▁▂▂▃▃▄▄▅▅▅▆▆▇▇██</td></tr><tr><td>loss</td><td>█▅▄▃▂▂▂▂▁▁▁▁▁▁▁▁▁</td></tr><tr><td>val_accuracy</td><td>▁▁▁▁▄▅▆▆█▇▅▅█▅▇▃▂</td></tr><tr><td>val_loss</td><td>█▇▆▆▆▃▃▃▂▂▂▂▁▃▂▄▅</td></tr></table><br/></div><div class=\"wandb-col\"><h3>Run summary:</h3><br/><table class=\"wandb\"><tr><td>accuracy</td><td>0.75847</td></tr><tr><td>best_epoch</td><td>12</td></tr><tr><td>best_val_loss</td><td>0.5317</td></tr><tr><td>epoch</td><td>16</td></tr><tr><td>loss</td><td>0.51566</td></tr><tr><td>val_accuracy</td><td>0.5294</td></tr><tr><td>val_loss</td><td>0.83262</td></tr></table><br/></div></div>"
            ]
          },
          "metadata": {}
        },
        {
          "output_type": "display_data",
          "data": {
            "text/plain": [
              "<IPython.core.display.HTML object>"
            ],
            "text/html": [
              " View run <strong style=\"color:#cdcd00\">ruby-sweep-8</strong> at: <a href='https://wandb.ai/coffeegang/Kim_sweeps/runs/jlz8kbz9' target=\"_blank\">https://wandb.ai/coffeegang/Kim_sweeps/runs/jlz8kbz9</a><br/>Synced 5 W&B file(s), 1 media file(s), 0 artifact file(s) and 0 other file(s)"
            ]
          },
          "metadata": {}
        },
        {
          "output_type": "display_data",
          "data": {
            "text/plain": [
              "<IPython.core.display.HTML object>"
            ],
            "text/html": [
              "Find logs at: <code>./wandb/run-20240129_112344-jlz8kbz9/logs</code>"
            ]
          },
          "metadata": {}
        },
        {
          "output_type": "stream",
          "name": "stderr",
          "text": [
            "\u001b[34m\u001b[1mwandb\u001b[0m: Agent Starting Run: 0tpar694 with config:\n",
            "\u001b[34m\u001b[1mwandb\u001b[0m: \tbatch_size: 256\n",
            "\u001b[34m\u001b[1mwandb\u001b[0m: \tdropout_conv: 0.1\n",
            "\u001b[34m\u001b[1mwandb\u001b[0m: \tdropout_dense: 0.2\n",
            "\u001b[34m\u001b[1mwandb\u001b[0m: \tfilters: 16\n",
            "\u001b[34m\u001b[1mwandb\u001b[0m: \thidden_layer_size: 1024\n",
            "\u001b[34m\u001b[1mwandb\u001b[0m: \thidden_layers: 2\n",
            "\u001b[34m\u001b[1mwandb\u001b[0m: \tkernel_size: 3\n",
            "\u001b[34m\u001b[1mwandb\u001b[0m: \tlearning_rate: 7.149300148890076e-06\n"
          ]
        },
        {
          "output_type": "display_data",
          "data": {
            "text/plain": [
              "<IPython.core.display.HTML object>"
            ],
            "text/html": [
              "Tracking run with wandb version 0.16.2"
            ]
          },
          "metadata": {}
        },
        {
          "output_type": "display_data",
          "data": {
            "text/plain": [
              "<IPython.core.display.HTML object>"
            ],
            "text/html": [
              "Run data is saved locally in <code>/content/gdrive/MyDrive/AML_Exam/problem1/wandb/run-20240129_113008-0tpar694</code>"
            ]
          },
          "metadata": {}
        },
        {
          "output_type": "display_data",
          "data": {
            "text/plain": [
              "<IPython.core.display.HTML object>"
            ],
            "text/html": [
              "Syncing run <strong><a href='https://wandb.ai/coffeegang/Kim_sweeps/runs/0tpar694' target=\"_blank\">stellar-sweep-9</a></strong> to <a href='https://wandb.ai/coffeegang/Kim_sweeps' target=\"_blank\">Weights & Biases</a> (<a href='https://wandb.me/run' target=\"_blank\">docs</a>)<br/>Sweep page: <a href='https://wandb.ai/coffeegang/Kim_sweeps/sweeps/w44abky7' target=\"_blank\">https://wandb.ai/coffeegang/Kim_sweeps/sweeps/w44abky7</a>"
            ]
          },
          "metadata": {}
        },
        {
          "output_type": "display_data",
          "data": {
            "text/plain": [
              "<IPython.core.display.HTML object>"
            ],
            "text/html": [
              " View project at <a href='https://wandb.ai/coffeegang/Kim_sweeps' target=\"_blank\">https://wandb.ai/coffeegang/Kim_sweeps</a>"
            ]
          },
          "metadata": {}
        },
        {
          "output_type": "display_data",
          "data": {
            "text/plain": [
              "<IPython.core.display.HTML object>"
            ],
            "text/html": [
              " View sweep at <a href='https://wandb.ai/coffeegang/Kim_sweeps/sweeps/w44abky7' target=\"_blank\">https://wandb.ai/coffeegang/Kim_sweeps/sweeps/w44abky7</a>"
            ]
          },
          "metadata": {}
        },
        {
          "output_type": "display_data",
          "data": {
            "text/plain": [
              "<IPython.core.display.HTML object>"
            ],
            "text/html": [
              " View run at <a href='https://wandb.ai/coffeegang/Kim_sweeps/runs/0tpar694' target=\"_blank\">https://wandb.ai/coffeegang/Kim_sweeps/runs/0tpar694</a>"
            ]
          },
          "metadata": {}
        },
        {
          "output_type": "stream",
          "name": "stdout",
          "text": [
            "Epoch 1/50\n",
            "1721/1721 [==============================] - 15s 7ms/step - loss: 0.7335 - accuracy: 0.6686 - val_loss: 0.5910 - val_accuracy: 0.7263\n",
            "Epoch 2/50\n",
            "1721/1721 [==============================] - 11s 7ms/step - loss: 0.6459 - accuracy: 0.7097 - val_loss: 0.5463 - val_accuracy: 0.7492\n",
            "Epoch 3/50\n",
            "1721/1721 [==============================] - 12s 7ms/step - loss: 0.6066 - accuracy: 0.7247 - val_loss: 0.5140 - val_accuracy: 0.7641\n",
            "Epoch 4/50\n",
            "1721/1721 [==============================] - 11s 7ms/step - loss: 0.5859 - accuracy: 0.7307 - val_loss: 0.5308 - val_accuracy: 0.7538\n",
            "Epoch 5/50\n",
            "1721/1721 [==============================] - 11s 7ms/step - loss: 0.5750 - accuracy: 0.7353 - val_loss: 0.5036 - val_accuracy: 0.7643\n",
            "Epoch 6/50\n",
            "1721/1721 [==============================] - 11s 7ms/step - loss: 0.5650 - accuracy: 0.7396 - val_loss: 0.4831 - val_accuracy: 0.7762\n",
            "Epoch 7/50\n",
            "1721/1721 [==============================] - 11s 7ms/step - loss: 0.5496 - accuracy: 0.7464 - val_loss: 0.4750 - val_accuracy: 0.7799\n",
            "Epoch 8/50\n",
            "1721/1721 [==============================] - 12s 7ms/step - loss: 0.5428 - accuracy: 0.7492 - val_loss: 0.4911 - val_accuracy: 0.7686\n",
            "Epoch 9/50\n",
            "1721/1721 [==============================] - 11s 7ms/step - loss: 0.5361 - accuracy: 0.7524 - val_loss: 0.4827 - val_accuracy: 0.7741\n",
            "Epoch 10/50\n",
            "1721/1721 [==============================] - 11s 7ms/step - loss: 0.5280 - accuracy: 0.7560 - val_loss: 0.4822 - val_accuracy: 0.7793\n",
            "Epoch 11/50\n",
            "1721/1721 [==============================] - 11s 7ms/step - loss: 0.5171 - accuracy: 0.7609 - val_loss: 0.4664 - val_accuracy: 0.7854\n",
            "Epoch 12/50\n",
            "1721/1721 [==============================] - 11s 7ms/step - loss: 0.5152 - accuracy: 0.7624 - val_loss: 0.4742 - val_accuracy: 0.7786\n",
            "Epoch 13/50\n",
            "1721/1721 [==============================] - 11s 7ms/step - loss: 0.5088 - accuracy: 0.7647 - val_loss: 0.4587 - val_accuracy: 0.7917\n",
            "Epoch 14/50\n",
            "1721/1721 [==============================] - 11s 7ms/step - loss: 0.5046 - accuracy: 0.7676 - val_loss: 0.4554 - val_accuracy: 0.7906\n",
            "Epoch 15/50\n",
            "1721/1721 [==============================] - 11s 6ms/step - loss: 0.4997 - accuracy: 0.7708 - val_loss: 0.4722 - val_accuracy: 0.7845\n",
            "Epoch 16/50\n",
            "1721/1721 [==============================] - 11s 7ms/step - loss: 0.4954 - accuracy: 0.7722 - val_loss: 0.4574 - val_accuracy: 0.7892\n",
            "Epoch 17/50\n",
            "1721/1721 [==============================] - 11s 7ms/step - loss: 0.4912 - accuracy: 0.7750 - val_loss: 0.4533 - val_accuracy: 0.7884\n"
          ]
        },
        {
          "output_type": "display_data",
          "data": {
            "text/plain": [
              "VBox(children=(Label(value='0.005 MB of 0.005 MB uploaded\\r'), FloatProgress(value=1.0, max=1.0)))"
            ],
            "application/vnd.jupyter.widget-view+json": {
              "version_major": 2,
              "version_minor": 0,
              "model_id": "86c16449547545f2b2e6e299d576c392"
            }
          },
          "metadata": {}
        },
        {
          "output_type": "display_data",
          "data": {
            "text/plain": [
              "<IPython.core.display.HTML object>"
            ],
            "text/html": [
              "<style>\n",
              "    table.wandb td:nth-child(1) { padding: 0 10px; text-align: left ; width: auto;} td:nth-child(2) {text-align: left ; width: 100%}\n",
              "    .wandb-row { display: flex; flex-direction: row; flex-wrap: wrap; justify-content: flex-start; width: 100% }\n",
              "    .wandb-col { display: flex; flex-direction: column; flex-basis: 100%; flex: 1; padding: 10px; }\n",
              "    </style>\n",
              "<div class=\"wandb-row\"><div class=\"wandb-col\"><h3>Run history:</h3><br/><table class=\"wandb\"><tr><td>accuracy</td><td>▁▄▅▅▅▆▆▆▇▇▇▇▇████</td></tr><tr><td>epoch</td><td>▁▁▂▂▃▃▄▄▅▅▅▆▆▇▇██</td></tr><tr><td>loss</td><td>█▅▄▄▃▃▃▂▂▂▂▂▂▁▁▁▁</td></tr><tr><td>val_accuracy</td><td>▁▃▅▄▅▆▇▆▆▇▇▇██▇██</td></tr><tr><td>val_loss</td><td>█▆▄▅▄▃▂▃▂▂▂▂▁▁▂▁▁</td></tr></table><br/></div><div class=\"wandb-col\"><h3>Run summary:</h3><br/><table class=\"wandb\"><tr><td>accuracy</td><td>0.77497</td></tr><tr><td>best_epoch</td><td>16</td></tr><tr><td>best_val_loss</td><td>0.45328</td></tr><tr><td>epoch</td><td>16</td></tr><tr><td>loss</td><td>0.49116</td></tr><tr><td>val_accuracy</td><td>0.78835</td></tr><tr><td>val_loss</td><td>0.45328</td></tr></table><br/></div></div>"
            ]
          },
          "metadata": {}
        },
        {
          "output_type": "display_data",
          "data": {
            "text/plain": [
              "<IPython.core.display.HTML object>"
            ],
            "text/html": [
              " View run <strong style=\"color:#cdcd00\">stellar-sweep-9</strong> at: <a href='https://wandb.ai/coffeegang/Kim_sweeps/runs/0tpar694' target=\"_blank\">https://wandb.ai/coffeegang/Kim_sweeps/runs/0tpar694</a><br/>Synced 5 W&B file(s), 1 media file(s), 0 artifact file(s) and 0 other file(s)"
            ]
          },
          "metadata": {}
        },
        {
          "output_type": "display_data",
          "data": {
            "text/plain": [
              "<IPython.core.display.HTML object>"
            ],
            "text/html": [
              "Find logs at: <code>./wandb/run-20240129_113008-0tpar694/logs</code>"
            ]
          },
          "metadata": {}
        },
        {
          "output_type": "stream",
          "name": "stderr",
          "text": [
            "\u001b[34m\u001b[1mwandb\u001b[0m: Agent Starting Run: jyq5hkcr with config:\n",
            "\u001b[34m\u001b[1mwandb\u001b[0m: \tbatch_size: 80\n",
            "\u001b[34m\u001b[1mwandb\u001b[0m: \tdropout_conv: 0.5\n",
            "\u001b[34m\u001b[1mwandb\u001b[0m: \tdropout_dense: 0.4\n",
            "\u001b[34m\u001b[1mwandb\u001b[0m: \tfilters: 16\n",
            "\u001b[34m\u001b[1mwandb\u001b[0m: \thidden_layer_size: 1024\n",
            "\u001b[34m\u001b[1mwandb\u001b[0m: \thidden_layers: 2\n",
            "\u001b[34m\u001b[1mwandb\u001b[0m: \tkernel_size: 3\n",
            "\u001b[34m\u001b[1mwandb\u001b[0m: \tlearning_rate: 9.12276630523657e-05\n"
          ]
        },
        {
          "output_type": "display_data",
          "data": {
            "text/plain": [
              "<IPython.core.display.HTML object>"
            ],
            "text/html": [
              "Tracking run with wandb version 0.16.2"
            ]
          },
          "metadata": {}
        },
        {
          "output_type": "display_data",
          "data": {
            "text/plain": [
              "<IPython.core.display.HTML object>"
            ],
            "text/html": [
              "Run data is saved locally in <code>/content/gdrive/MyDrive/AML_Exam/problem1/wandb/run-20240129_113345-jyq5hkcr</code>"
            ]
          },
          "metadata": {}
        },
        {
          "output_type": "display_data",
          "data": {
            "text/plain": [
              "<IPython.core.display.HTML object>"
            ],
            "text/html": [
              "Syncing run <strong><a href='https://wandb.ai/coffeegang/Kim_sweeps/runs/jyq5hkcr' target=\"_blank\">firm-sweep-10</a></strong> to <a href='https://wandb.ai/coffeegang/Kim_sweeps' target=\"_blank\">Weights & Biases</a> (<a href='https://wandb.me/run' target=\"_blank\">docs</a>)<br/>Sweep page: <a href='https://wandb.ai/coffeegang/Kim_sweeps/sweeps/w44abky7' target=\"_blank\">https://wandb.ai/coffeegang/Kim_sweeps/sweeps/w44abky7</a>"
            ]
          },
          "metadata": {}
        },
        {
          "output_type": "display_data",
          "data": {
            "text/plain": [
              "<IPython.core.display.HTML object>"
            ],
            "text/html": [
              " View project at <a href='https://wandb.ai/coffeegang/Kim_sweeps' target=\"_blank\">https://wandb.ai/coffeegang/Kim_sweeps</a>"
            ]
          },
          "metadata": {}
        },
        {
          "output_type": "display_data",
          "data": {
            "text/plain": [
              "<IPython.core.display.HTML object>"
            ],
            "text/html": [
              " View sweep at <a href='https://wandb.ai/coffeegang/Kim_sweeps/sweeps/w44abky7' target=\"_blank\">https://wandb.ai/coffeegang/Kim_sweeps/sweeps/w44abky7</a>"
            ]
          },
          "metadata": {}
        },
        {
          "output_type": "display_data",
          "data": {
            "text/plain": [
              "<IPython.core.display.HTML object>"
            ],
            "text/html": [
              " View run at <a href='https://wandb.ai/coffeegang/Kim_sweeps/runs/jyq5hkcr' target=\"_blank\">https://wandb.ai/coffeegang/Kim_sweeps/runs/jyq5hkcr</a>"
            ]
          },
          "metadata": {}
        },
        {
          "output_type": "stream",
          "name": "stdout",
          "text": [
            "Epoch 1/50\n",
            "   1/1721 [..............................] - ETA: 1:20:46 - loss: 0.9994 - accuracy: 0.4688"
          ]
        },
        {
          "output_type": "stream",
          "name": "stderr",
          "text": [
            "WARNING:tensorflow:Callback method `on_train_batch_end` is slow compared to the batch time (batch time: 0.0058s vs `on_train_batch_end` time: 0.0066s). Check your callbacks.\n"
          ]
        },
        {
          "output_type": "stream",
          "name": "stdout",
          "text": [
            "1721/1721 [==============================] - 14s 7ms/step - loss: 0.8801 - accuracy: 0.6025 - val_loss: 0.9300 - val_accuracy: 0.5913\n",
            "Epoch 2/50\n",
            "1721/1721 [==============================] - 11s 7ms/step - loss: 0.6787 - accuracy: 0.6629 - val_loss: 0.8366 - val_accuracy: 0.5808\n",
            "Epoch 3/50\n",
            "1721/1721 [==============================] - 11s 7ms/step - loss: 0.6042 - accuracy: 0.6929 - val_loss: 0.7463 - val_accuracy: 0.6086\n",
            "Epoch 4/50\n",
            "1721/1721 [==============================] - 11s 7ms/step - loss: 0.5677 - accuracy: 0.7148 - val_loss: 0.6727 - val_accuracy: 0.6646\n",
            "Epoch 5/50\n",
            "1721/1721 [==============================] - 11s 7ms/step - loss: 0.5501 - accuracy: 0.7259 - val_loss: 0.5972 - val_accuracy: 0.6848\n",
            "Epoch 6/50\n",
            "1721/1721 [==============================] - 11s 7ms/step - loss: 0.5383 - accuracy: 0.7351 - val_loss: 0.7121 - val_accuracy: 0.6440\n",
            "Epoch 7/50\n",
            "1721/1721 [==============================] - 11s 7ms/step - loss: 0.5320 - accuracy: 0.7376 - val_loss: 0.8725 - val_accuracy: 0.5936\n",
            "Epoch 8/50\n",
            "1721/1721 [==============================] - 11s 7ms/step - loss: 0.5281 - accuracy: 0.7405 - val_loss: 0.7407 - val_accuracy: 0.6238\n",
            "Epoch 9/50\n",
            "1721/1721 [==============================] - 11s 7ms/step - loss: 0.5224 - accuracy: 0.7458 - val_loss: 0.6151 - val_accuracy: 0.6704\n"
          ]
        },
        {
          "output_type": "display_data",
          "data": {
            "text/plain": [
              "VBox(children=(Label(value='0.005 MB of 0.005 MB uploaded\\r'), FloatProgress(value=1.0, max=1.0)))"
            ],
            "application/vnd.jupyter.widget-view+json": {
              "version_major": 2,
              "version_minor": 0,
              "model_id": "47d7a548c3984a5eaae9f78ad6f4c912"
            }
          },
          "metadata": {}
        },
        {
          "output_type": "display_data",
          "data": {
            "text/plain": [
              "<IPython.core.display.HTML object>"
            ],
            "text/html": [
              "<style>\n",
              "    table.wandb td:nth-child(1) { padding: 0 10px; text-align: left ; width: auto;} td:nth-child(2) {text-align: left ; width: 100%}\n",
              "    .wandb-row { display: flex; flex-direction: row; flex-wrap: wrap; justify-content: flex-start; width: 100% }\n",
              "    .wandb-col { display: flex; flex-direction: column; flex-basis: 100%; flex: 1; padding: 10px; }\n",
              "    </style>\n",
              "<div class=\"wandb-row\"><div class=\"wandb-col\"><h3>Run history:</h3><br/><table class=\"wandb\"><tr><td>accuracy</td><td>▁▄▅▆▇▇███</td></tr><tr><td>epoch</td><td>▁▂▃▄▅▅▆▇█</td></tr><tr><td>loss</td><td>█▄▃▂▂▁▁▁▁</td></tr><tr><td>val_accuracy</td><td>▂▁▃▇█▅▂▄▇</td></tr><tr><td>val_loss</td><td>█▆▄▃▁▃▇▄▁</td></tr></table><br/></div><div class=\"wandb-col\"><h3>Run summary:</h3><br/><table class=\"wandb\"><tr><td>accuracy</td><td>0.74581</td></tr><tr><td>best_epoch</td><td>4</td></tr><tr><td>best_val_loss</td><td>0.59715</td></tr><tr><td>epoch</td><td>8</td></tr><tr><td>loss</td><td>0.52236</td></tr><tr><td>val_accuracy</td><td>0.67042</td></tr><tr><td>val_loss</td><td>0.61508</td></tr></table><br/></div></div>"
            ]
          },
          "metadata": {}
        },
        {
          "output_type": "display_data",
          "data": {
            "text/plain": [
              "<IPython.core.display.HTML object>"
            ],
            "text/html": [
              " View run <strong style=\"color:#cdcd00\">firm-sweep-10</strong> at: <a href='https://wandb.ai/coffeegang/Kim_sweeps/runs/jyq5hkcr' target=\"_blank\">https://wandb.ai/coffeegang/Kim_sweeps/runs/jyq5hkcr</a><br/>Synced 5 W&B file(s), 1 media file(s), 0 artifact file(s) and 0 other file(s)"
            ]
          },
          "metadata": {}
        },
        {
          "output_type": "display_data",
          "data": {
            "text/plain": [
              "<IPython.core.display.HTML object>"
            ],
            "text/html": [
              "Find logs at: <code>./wandb/run-20240129_113345-jyq5hkcr/logs</code>"
            ]
          },
          "metadata": {}
        },
        {
          "output_type": "stream",
          "name": "stderr",
          "text": [
            "\u001b[34m\u001b[1mwandb\u001b[0m: Agent Starting Run: mdcjeuje with config:\n",
            "\u001b[34m\u001b[1mwandb\u001b[0m: \tbatch_size: 203\n",
            "\u001b[34m\u001b[1mwandb\u001b[0m: \tdropout_conv: 0\n",
            "\u001b[34m\u001b[1mwandb\u001b[0m: \tdropout_dense: 0.3\n",
            "\u001b[34m\u001b[1mwandb\u001b[0m: \tfilters: 32\n",
            "\u001b[34m\u001b[1mwandb\u001b[0m: \thidden_layer_size: 512\n",
            "\u001b[34m\u001b[1mwandb\u001b[0m: \thidden_layers: 2\n",
            "\u001b[34m\u001b[1mwandb\u001b[0m: \tkernel_size: 3\n",
            "\u001b[34m\u001b[1mwandb\u001b[0m: \tlearning_rate: 5.277655750793322e-05\n"
          ]
        },
        {
          "output_type": "display_data",
          "data": {
            "text/plain": [
              "<IPython.core.display.HTML object>"
            ],
            "text/html": [
              "Tracking run with wandb version 0.16.2"
            ]
          },
          "metadata": {}
        },
        {
          "output_type": "display_data",
          "data": {
            "text/plain": [
              "<IPython.core.display.HTML object>"
            ],
            "text/html": [
              "Run data is saved locally in <code>/content/gdrive/MyDrive/AML_Exam/problem1/wandb/run-20240129_113551-mdcjeuje</code>"
            ]
          },
          "metadata": {}
        },
        {
          "output_type": "display_data",
          "data": {
            "text/plain": [
              "<IPython.core.display.HTML object>"
            ],
            "text/html": [
              "Syncing run <strong><a href='https://wandb.ai/coffeegang/Kim_sweeps/runs/mdcjeuje' target=\"_blank\">logical-sweep-11</a></strong> to <a href='https://wandb.ai/coffeegang/Kim_sweeps' target=\"_blank\">Weights & Biases</a> (<a href='https://wandb.me/run' target=\"_blank\">docs</a>)<br/>Sweep page: <a href='https://wandb.ai/coffeegang/Kim_sweeps/sweeps/w44abky7' target=\"_blank\">https://wandb.ai/coffeegang/Kim_sweeps/sweeps/w44abky7</a>"
            ]
          },
          "metadata": {}
        },
        {
          "output_type": "display_data",
          "data": {
            "text/plain": [
              "<IPython.core.display.HTML object>"
            ],
            "text/html": [
              " View project at <a href='https://wandb.ai/coffeegang/Kim_sweeps' target=\"_blank\">https://wandb.ai/coffeegang/Kim_sweeps</a>"
            ]
          },
          "metadata": {}
        },
        {
          "output_type": "display_data",
          "data": {
            "text/plain": [
              "<IPython.core.display.HTML object>"
            ],
            "text/html": [
              " View sweep at <a href='https://wandb.ai/coffeegang/Kim_sweeps/sweeps/w44abky7' target=\"_blank\">https://wandb.ai/coffeegang/Kim_sweeps/sweeps/w44abky7</a>"
            ]
          },
          "metadata": {}
        },
        {
          "output_type": "display_data",
          "data": {
            "text/plain": [
              "<IPython.core.display.HTML object>"
            ],
            "text/html": [
              " View run at <a href='https://wandb.ai/coffeegang/Kim_sweeps/runs/mdcjeuje' target=\"_blank\">https://wandb.ai/coffeegang/Kim_sweeps/runs/mdcjeuje</a>"
            ]
          },
          "metadata": {}
        },
        {
          "output_type": "stream",
          "name": "stdout",
          "text": [
            "Epoch 1/50\n",
            "1721/1721 [==============================] - 14s 7ms/step - loss: 0.6549 - accuracy: 0.7148 - val_loss: 0.4885 - val_accuracy: 0.7767\n",
            "Epoch 2/50\n",
            "1721/1721 [==============================] - 11s 6ms/step - loss: 0.5646 - accuracy: 0.7417 - val_loss: 0.5474 - val_accuracy: 0.7543\n",
            "Epoch 3/50\n",
            "1721/1721 [==============================] - 11s 6ms/step - loss: 0.5302 - accuracy: 0.7578 - val_loss: 0.4863 - val_accuracy: 0.7815\n",
            "Epoch 4/50\n",
            "1721/1721 [==============================] - 11s 6ms/step - loss: 0.5017 - accuracy: 0.7674 - val_loss: 0.4633 - val_accuracy: 0.7856\n",
            "Epoch 5/50\n",
            "1721/1721 [==============================] - 11s 7ms/step - loss: 0.4825 - accuracy: 0.7772 - val_loss: 0.4481 - val_accuracy: 0.7921\n",
            "Epoch 6/50\n",
            "1721/1721 [==============================] - 11s 6ms/step - loss: 0.4613 - accuracy: 0.7908 - val_loss: 0.4826 - val_accuracy: 0.7716\n",
            "Epoch 7/50\n",
            "1721/1721 [==============================] - 11s 6ms/step - loss: 0.4431 - accuracy: 0.8001 - val_loss: 0.6052 - val_accuracy: 0.7385\n",
            "Epoch 8/50\n",
            "1721/1721 [==============================] - 11s 6ms/step - loss: 0.4263 - accuracy: 0.8073 - val_loss: 0.4687 - val_accuracy: 0.7748\n",
            "Epoch 9/50\n",
            "1721/1721 [==============================] - 11s 6ms/step - loss: 0.4116 - accuracy: 0.8159 - val_loss: 0.4452 - val_accuracy: 0.8017\n",
            "Epoch 10/50\n",
            "1721/1721 [==============================] - 11s 6ms/step - loss: 0.3964 - accuracy: 0.8239 - val_loss: 0.4825 - val_accuracy: 0.7819\n",
            "Epoch 11/50\n",
            "1721/1721 [==============================] - 11s 6ms/step - loss: 0.3766 - accuracy: 0.8343 - val_loss: 0.4743 - val_accuracy: 0.7929\n",
            "Epoch 12/50\n",
            "1721/1721 [==============================] - 11s 6ms/step - loss: 0.3554 - accuracy: 0.8454 - val_loss: 1.4235 - val_accuracy: 0.5561\n",
            "Epoch 13/50\n",
            "1721/1721 [==============================] - 11s 6ms/step - loss: 0.3482 - accuracy: 0.8502 - val_loss: 2.0442 - val_accuracy: 0.5252\n"
          ]
        },
        {
          "output_type": "display_data",
          "data": {
            "text/plain": [
              "VBox(children=(Label(value='0.004 MB of 0.004 MB uploaded\\r'), FloatProgress(value=1.0, max=1.0)))"
            ],
            "application/vnd.jupyter.widget-view+json": {
              "version_major": 2,
              "version_minor": 0,
              "model_id": "530f54614af94f4f95d8fddbc03e413c"
            }
          },
          "metadata": {}
        },
        {
          "output_type": "display_data",
          "data": {
            "text/plain": [
              "<IPython.core.display.HTML object>"
            ],
            "text/html": [
              "<style>\n",
              "    table.wandb td:nth-child(1) { padding: 0 10px; text-align: left ; width: auto;} td:nth-child(2) {text-align: left ; width: 100%}\n",
              "    .wandb-row { display: flex; flex-direction: row; flex-wrap: wrap; justify-content: flex-start; width: 100% }\n",
              "    .wandb-col { display: flex; flex-direction: column; flex-basis: 100%; flex: 1; padding: 10px; }\n",
              "    </style>\n",
              "<div class=\"wandb-row\"><div class=\"wandb-col\"><h3>Run history:</h3><br/><table class=\"wandb\"><tr><td>accuracy</td><td>▁▂▃▄▄▅▅▆▆▇▇██</td></tr><tr><td>epoch</td><td>▁▂▂▃▃▄▅▅▆▆▇▇█</td></tr><tr><td>loss</td><td>█▆▅▅▄▄▃▃▂▂▂▁▁</td></tr><tr><td>val_accuracy</td><td>▇▇▇██▇▆▇█▇█▂▁</td></tr><tr><td>val_loss</td><td>▁▁▁▁▁▁▂▁▁▁▁▅█</td></tr></table><br/></div><div class=\"wandb-col\"><h3>Run summary:</h3><br/><table class=\"wandb\"><tr><td>accuracy</td><td>0.85015</td></tr><tr><td>best_epoch</td><td>8</td></tr><tr><td>best_val_loss</td><td>0.44525</td></tr><tr><td>epoch</td><td>12</td></tr><tr><td>loss</td><td>0.3482</td></tr><tr><td>val_accuracy</td><td>0.52521</td></tr><tr><td>val_loss</td><td>2.04415</td></tr></table><br/></div></div>"
            ]
          },
          "metadata": {}
        },
        {
          "output_type": "display_data",
          "data": {
            "text/plain": [
              "<IPython.core.display.HTML object>"
            ],
            "text/html": [
              " View run <strong style=\"color:#cdcd00\">logical-sweep-11</strong> at: <a href='https://wandb.ai/coffeegang/Kim_sweeps/runs/mdcjeuje' target=\"_blank\">https://wandb.ai/coffeegang/Kim_sweeps/runs/mdcjeuje</a><br/>Synced 5 W&B file(s), 1 media file(s), 0 artifact file(s) and 0 other file(s)"
            ]
          },
          "metadata": {}
        },
        {
          "output_type": "display_data",
          "data": {
            "text/plain": [
              "<IPython.core.display.HTML object>"
            ],
            "text/html": [
              "Find logs at: <code>./wandb/run-20240129_113551-mdcjeuje/logs</code>"
            ]
          },
          "metadata": {}
        },
        {
          "output_type": "stream",
          "name": "stderr",
          "text": [
            "\u001b[34m\u001b[1mwandb\u001b[0m: Agent Starting Run: lnzaiuda with config:\n",
            "\u001b[34m\u001b[1mwandb\u001b[0m: \tbatch_size: 73\n",
            "\u001b[34m\u001b[1mwandb\u001b[0m: \tdropout_conv: 0.5\n",
            "\u001b[34m\u001b[1mwandb\u001b[0m: \tdropout_dense: 0.4\n",
            "\u001b[34m\u001b[1mwandb\u001b[0m: \tfilters: 16\n",
            "\u001b[34m\u001b[1mwandb\u001b[0m: \thidden_layer_size: 512\n",
            "\u001b[34m\u001b[1mwandb\u001b[0m: \thidden_layers: 5\n",
            "\u001b[34m\u001b[1mwandb\u001b[0m: \tkernel_size: 3\n",
            "\u001b[34m\u001b[1mwandb\u001b[0m: \tlearning_rate: 5.509400393983322e-06\n"
          ]
        },
        {
          "output_type": "display_data",
          "data": {
            "text/plain": [
              "<IPython.core.display.HTML object>"
            ],
            "text/html": [
              "Tracking run with wandb version 0.16.2"
            ]
          },
          "metadata": {}
        },
        {
          "output_type": "display_data",
          "data": {
            "text/plain": [
              "<IPython.core.display.HTML object>"
            ],
            "text/html": [
              "Run data is saved locally in <code>/content/gdrive/MyDrive/AML_Exam/problem1/wandb/run-20240129_113836-lnzaiuda</code>"
            ]
          },
          "metadata": {}
        },
        {
          "output_type": "display_data",
          "data": {
            "text/plain": [
              "<IPython.core.display.HTML object>"
            ],
            "text/html": [
              "Syncing run <strong><a href='https://wandb.ai/coffeegang/Kim_sweeps/runs/lnzaiuda' target=\"_blank\">true-sweep-12</a></strong> to <a href='https://wandb.ai/coffeegang/Kim_sweeps' target=\"_blank\">Weights & Biases</a> (<a href='https://wandb.me/run' target=\"_blank\">docs</a>)<br/>Sweep page: <a href='https://wandb.ai/coffeegang/Kim_sweeps/sweeps/w44abky7' target=\"_blank\">https://wandb.ai/coffeegang/Kim_sweeps/sweeps/w44abky7</a>"
            ]
          },
          "metadata": {}
        },
        {
          "output_type": "display_data",
          "data": {
            "text/plain": [
              "<IPython.core.display.HTML object>"
            ],
            "text/html": [
              " View project at <a href='https://wandb.ai/coffeegang/Kim_sweeps' target=\"_blank\">https://wandb.ai/coffeegang/Kim_sweeps</a>"
            ]
          },
          "metadata": {}
        },
        {
          "output_type": "display_data",
          "data": {
            "text/plain": [
              "<IPython.core.display.HTML object>"
            ],
            "text/html": [
              " View sweep at <a href='https://wandb.ai/coffeegang/Kim_sweeps/sweeps/w44abky7' target=\"_blank\">https://wandb.ai/coffeegang/Kim_sweeps/sweeps/w44abky7</a>"
            ]
          },
          "metadata": {}
        },
        {
          "output_type": "display_data",
          "data": {
            "text/plain": [
              "<IPython.core.display.HTML object>"
            ],
            "text/html": [
              " View run at <a href='https://wandb.ai/coffeegang/Kim_sweeps/runs/lnzaiuda' target=\"_blank\">https://wandb.ai/coffeegang/Kim_sweeps/runs/lnzaiuda</a>"
            ]
          },
          "metadata": {}
        },
        {
          "output_type": "stream",
          "name": "stdout",
          "text": [
            "Epoch 1/50\n",
            "1721/1721 [==============================] - 29s 13ms/step - loss: 1.1521 - accuracy: 0.5032 - val_loss: 0.7777 - val_accuracy: 0.4909\n",
            "Epoch 2/50\n",
            "1721/1721 [==============================] - 21s 12ms/step - loss: 1.0771 - accuracy: 0.5060 - val_loss: 0.7676 - val_accuracy: 0.4909\n",
            "Epoch 3/50\n",
            "1721/1721 [==============================] - 21s 12ms/step - loss: 1.0377 - accuracy: 0.5069 - val_loss: 0.7482 - val_accuracy: 0.4909\n",
            "Epoch 4/50\n",
            "1721/1721 [==============================] - 21s 12ms/step - loss: 1.0123 - accuracy: 0.5040 - val_loss: 0.7524 - val_accuracy: 0.4909\n",
            "Epoch 5/50\n",
            "1721/1721 [==============================] - 21s 12ms/step - loss: 0.9829 - accuracy: 0.5084 - val_loss: 0.7335 - val_accuracy: 0.4911\n",
            "Epoch 6/50\n",
            "1721/1721 [==============================] - 21s 12ms/step - loss: 0.9683 - accuracy: 0.5065 - val_loss: 0.7265 - val_accuracy: 0.4909\n",
            "Epoch 7/50\n",
            "1721/1721 [==============================] - 21s 12ms/step - loss: 0.9534 - accuracy: 0.5065 - val_loss: 0.7439 - val_accuracy: 0.4909\n",
            "Epoch 8/50\n",
            "1721/1721 [==============================] - 21s 12ms/step - loss: 0.9296 - accuracy: 0.5120 - val_loss: 0.7379 - val_accuracy: 0.4909\n",
            "Epoch 9/50\n",
            "1721/1721 [==============================] - 22s 13ms/step - loss: 0.9139 - accuracy: 0.5124 - val_loss: 0.7248 - val_accuracy: 0.4909\n"
          ]
        },
        {
          "output_type": "display_data",
          "data": {
            "text/plain": [
              "VBox(children=(Label(value='0.008 MB of 0.008 MB uploaded\\r'), FloatProgress(value=1.0, max=1.0)))"
            ],
            "application/vnd.jupyter.widget-view+json": {
              "version_major": 2,
              "version_minor": 0,
              "model_id": "b445952f13004c15a935a39cd0f5f296"
            }
          },
          "metadata": {}
        },
        {
          "output_type": "display_data",
          "data": {
            "text/plain": [
              "<IPython.core.display.HTML object>"
            ],
            "text/html": [
              "<style>\n",
              "    table.wandb td:nth-child(1) { padding: 0 10px; text-align: left ; width: auto;} td:nth-child(2) {text-align: left ; width: 100%}\n",
              "    .wandb-row { display: flex; flex-direction: row; flex-wrap: wrap; justify-content: flex-start; width: 100% }\n",
              "    .wandb-col { display: flex; flex-direction: column; flex-basis: 100%; flex: 1; padding: 10px; }\n",
              "    </style>\n",
              "<div class=\"wandb-row\"><div class=\"wandb-col\"><h3>Run history:</h3><br/><table class=\"wandb\"><tr><td>accuracy</td><td>▁▃▄▂▅▄▃██</td></tr><tr><td>epoch</td><td>▁▂▃▄▅▅▆▇█</td></tr><tr><td>loss</td><td>█▆▅▄▃▃▂▁▁</td></tr><tr><td>val_accuracy</td><td>▁▁▁▁█▃▁▁▁</td></tr><tr><td>val_loss</td><td>█▇▄▅▂▁▄▃▁</td></tr></table><br/></div><div class=\"wandb-col\"><h3>Run summary:</h3><br/><table class=\"wandb\"><tr><td>accuracy</td><td>0.51237</td></tr><tr><td>best_epoch</td><td>8</td></tr><tr><td>best_val_loss</td><td>0.72476</td></tr><tr><td>epoch</td><td>8</td></tr><tr><td>loss</td><td>0.91386</td></tr><tr><td>val_accuracy</td><td>0.49088</td></tr><tr><td>val_loss</td><td>0.72476</td></tr></table><br/></div></div>"
            ]
          },
          "metadata": {}
        },
        {
          "output_type": "display_data",
          "data": {
            "text/plain": [
              "<IPython.core.display.HTML object>"
            ],
            "text/html": [
              " View run <strong style=\"color:#cdcd00\">true-sweep-12</strong> at: <a href='https://wandb.ai/coffeegang/Kim_sweeps/runs/lnzaiuda' target=\"_blank\">https://wandb.ai/coffeegang/Kim_sweeps/runs/lnzaiuda</a><br/>Synced 5 W&B file(s), 1 media file(s), 0 artifact file(s) and 0 other file(s)"
            ]
          },
          "metadata": {}
        },
        {
          "output_type": "display_data",
          "data": {
            "text/plain": [
              "<IPython.core.display.HTML object>"
            ],
            "text/html": [
              "Find logs at: <code>./wandb/run-20240129_113836-lnzaiuda/logs</code>"
            ]
          },
          "metadata": {}
        },
        {
          "output_type": "stream",
          "name": "stderr",
          "text": [
            "\u001b[34m\u001b[1mwandb\u001b[0m: Sweep Agent: Waiting for job.\n",
            "\u001b[34m\u001b[1mwandb\u001b[0m: Job received.\n",
            "\u001b[34m\u001b[1mwandb\u001b[0m: Agent Starting Run: h4uu1269 with config:\n",
            "\u001b[34m\u001b[1mwandb\u001b[0m: \tbatch_size: 24\n",
            "\u001b[34m\u001b[1mwandb\u001b[0m: \tdropout_conv: 0.5\n",
            "\u001b[34m\u001b[1mwandb\u001b[0m: \tdropout_dense: 0.5\n",
            "\u001b[34m\u001b[1mwandb\u001b[0m: \tfilters: 64\n",
            "\u001b[34m\u001b[1mwandb\u001b[0m: \thidden_layer_size: 1024\n",
            "\u001b[34m\u001b[1mwandb\u001b[0m: \thidden_layers: 2\n",
            "\u001b[34m\u001b[1mwandb\u001b[0m: \tkernel_size: 3\n",
            "\u001b[34m\u001b[1mwandb\u001b[0m: \tlearning_rate: 5.140221628264491e-05\n"
          ]
        },
        {
          "output_type": "display_data",
          "data": {
            "text/plain": [
              "<IPython.core.display.HTML object>"
            ],
            "text/html": [
              "Tracking run with wandb version 0.16.2"
            ]
          },
          "metadata": {}
        },
        {
          "output_type": "display_data",
          "data": {
            "text/plain": [
              "<IPython.core.display.HTML object>"
            ],
            "text/html": [
              "Run data is saved locally in <code>/content/gdrive/MyDrive/AML_Exam/problem1/wandb/run-20240129_114315-h4uu1269</code>"
            ]
          },
          "metadata": {}
        },
        {
          "output_type": "display_data",
          "data": {
            "text/plain": [
              "<IPython.core.display.HTML object>"
            ],
            "text/html": [
              "Syncing run <strong><a href='https://wandb.ai/coffeegang/Kim_sweeps/runs/h4uu1269' target=\"_blank\">ancient-sweep-13</a></strong> to <a href='https://wandb.ai/coffeegang/Kim_sweeps' target=\"_blank\">Weights & Biases</a> (<a href='https://wandb.me/run' target=\"_blank\">docs</a>)<br/>Sweep page: <a href='https://wandb.ai/coffeegang/Kim_sweeps/sweeps/w44abky7' target=\"_blank\">https://wandb.ai/coffeegang/Kim_sweeps/sweeps/w44abky7</a>"
            ]
          },
          "metadata": {}
        },
        {
          "output_type": "display_data",
          "data": {
            "text/plain": [
              "<IPython.core.display.HTML object>"
            ],
            "text/html": [
              " View project at <a href='https://wandb.ai/coffeegang/Kim_sweeps' target=\"_blank\">https://wandb.ai/coffeegang/Kim_sweeps</a>"
            ]
          },
          "metadata": {}
        },
        {
          "output_type": "display_data",
          "data": {
            "text/plain": [
              "<IPython.core.display.HTML object>"
            ],
            "text/html": [
              " View sweep at <a href='https://wandb.ai/coffeegang/Kim_sweeps/sweeps/w44abky7' target=\"_blank\">https://wandb.ai/coffeegang/Kim_sweeps/sweeps/w44abky7</a>"
            ]
          },
          "metadata": {}
        },
        {
          "output_type": "display_data",
          "data": {
            "text/plain": [
              "<IPython.core.display.HTML object>"
            ],
            "text/html": [
              " View run at <a href='https://wandb.ai/coffeegang/Kim_sweeps/runs/h4uu1269' target=\"_blank\">https://wandb.ai/coffeegang/Kim_sweeps/runs/h4uu1269</a>"
            ]
          },
          "metadata": {}
        },
        {
          "output_type": "stream",
          "name": "stdout",
          "text": [
            "Epoch 1/50\n",
            "1721/1721 [==============================] - 17s 8ms/step - loss: 0.9176 - accuracy: 0.6283 - val_loss: 0.9165 - val_accuracy: 0.6140\n",
            "Epoch 2/50\n",
            "1721/1721 [==============================] - 14s 8ms/step - loss: 0.7416 - accuracy: 0.6695 - val_loss: 1.0468 - val_accuracy: 0.6157\n",
            "Epoch 3/50\n",
            "1721/1721 [==============================] - 14s 8ms/step - loss: 0.6466 - accuracy: 0.6962 - val_loss: 0.7830 - val_accuracy: 0.6222\n",
            "Epoch 4/50\n",
            "1721/1721 [==============================] - 14s 8ms/step - loss: 0.5959 - accuracy: 0.7125 - val_loss: 0.7747 - val_accuracy: 0.6229\n",
            "Epoch 5/50\n",
            "1721/1721 [==============================] - 14s 8ms/step - loss: 0.5550 - accuracy: 0.7318 - val_loss: 0.5645 - val_accuracy: 0.7081\n",
            "Epoch 6/50\n",
            "1721/1721 [==============================] - 14s 8ms/step - loss: 0.5353 - accuracy: 0.7427 - val_loss: 0.5655 - val_accuracy: 0.7101\n",
            "Epoch 7/50\n",
            "1721/1721 [==============================] - 14s 8ms/step - loss: 0.5220 - accuracy: 0.7505 - val_loss: 0.5343 - val_accuracy: 0.7309\n",
            "Epoch 8/50\n",
            "1721/1721 [==============================] - 14s 8ms/step - loss: 0.5131 - accuracy: 0.7539 - val_loss: 0.5828 - val_accuracy: 0.7223\n",
            "Epoch 9/50\n",
            "1721/1721 [==============================] - 14s 8ms/step - loss: 0.5064 - accuracy: 0.7588 - val_loss: 0.5279 - val_accuracy: 0.7438\n",
            "Epoch 10/50\n",
            "1721/1721 [==============================] - 14s 8ms/step - loss: 0.5029 - accuracy: 0.7606 - val_loss: 0.4839 - val_accuracy: 0.7814\n",
            "Epoch 11/50\n",
            "1721/1721 [==============================] - 14s 8ms/step - loss: 0.4954 - accuracy: 0.7650 - val_loss: 0.4860 - val_accuracy: 0.7716\n",
            "Epoch 12/50\n",
            "1721/1721 [==============================] - 14s 8ms/step - loss: 0.4936 - accuracy: 0.7661 - val_loss: 0.5166 - val_accuracy: 0.7459\n",
            "Epoch 13/50\n",
            "1721/1721 [==============================] - 14s 8ms/step - loss: 0.4917 - accuracy: 0.7676 - val_loss: 0.5593 - val_accuracy: 0.7267\n",
            "Epoch 14/50\n",
            "1721/1721 [==============================] - 14s 8ms/step - loss: 0.4886 - accuracy: 0.7706 - val_loss: 1.0096 - val_accuracy: 0.5567\n"
          ]
        },
        {
          "output_type": "display_data",
          "data": {
            "text/plain": [
              "VBox(children=(Label(value='0.005 MB of 0.005 MB uploaded\\r'), FloatProgress(value=1.0, max=1.0)))"
            ],
            "application/vnd.jupyter.widget-view+json": {
              "version_major": 2,
              "version_minor": 0,
              "model_id": "d296c8080188434e9f7758d20d78b861"
            }
          },
          "metadata": {}
        },
        {
          "output_type": "display_data",
          "data": {
            "text/plain": [
              "<IPython.core.display.HTML object>"
            ],
            "text/html": [
              "<style>\n",
              "    table.wandb td:nth-child(1) { padding: 0 10px; text-align: left ; width: auto;} td:nth-child(2) {text-align: left ; width: 100%}\n",
              "    .wandb-row { display: flex; flex-direction: row; flex-wrap: wrap; justify-content: flex-start; width: 100% }\n",
              "    .wandb-col { display: flex; flex-direction: column; flex-basis: 100%; flex: 1; padding: 10px; }\n",
              "    </style>\n",
              "<div class=\"wandb-row\"><div class=\"wandb-col\"><h3>Run history:</h3><br/><table class=\"wandb\"><tr><td>accuracy</td><td>▁▃▄▅▆▇▇▇▇█████</td></tr><tr><td>epoch</td><td>▁▂▂▃▃▄▄▅▅▆▆▇▇█</td></tr><tr><td>loss</td><td>█▅▄▃▂▂▂▁▁▁▁▁▁▁</td></tr><tr><td>val_accuracy</td><td>▃▃▃▃▆▆▆▆▇██▇▆▁</td></tr><tr><td>val_loss</td><td>▆█▅▅▂▂▂▂▂▁▁▁▂█</td></tr></table><br/></div><div class=\"wandb-col\"><h3>Run summary:</h3><br/><table class=\"wandb\"><tr><td>accuracy</td><td>0.77063</td></tr><tr><td>best_epoch</td><td>9</td></tr><tr><td>best_val_loss</td><td>0.48394</td></tr><tr><td>epoch</td><td>13</td></tr><tr><td>loss</td><td>0.48859</td></tr><tr><td>val_accuracy</td><td>0.55674</td></tr><tr><td>val_loss</td><td>1.00958</td></tr></table><br/></div></div>"
            ]
          },
          "metadata": {}
        },
        {
          "output_type": "display_data",
          "data": {
            "text/plain": [
              "<IPython.core.display.HTML object>"
            ],
            "text/html": [
              " View run <strong style=\"color:#cdcd00\">ancient-sweep-13</strong> at: <a href='https://wandb.ai/coffeegang/Kim_sweeps/runs/h4uu1269' target=\"_blank\">https://wandb.ai/coffeegang/Kim_sweeps/runs/h4uu1269</a><br/>Synced 5 W&B file(s), 1 media file(s), 0 artifact file(s) and 0 other file(s)"
            ]
          },
          "metadata": {}
        },
        {
          "output_type": "display_data",
          "data": {
            "text/plain": [
              "<IPython.core.display.HTML object>"
            ],
            "text/html": [
              "Find logs at: <code>./wandb/run-20240129_114315-h4uu1269/logs</code>"
            ]
          },
          "metadata": {}
        },
        {
          "output_type": "stream",
          "name": "stderr",
          "text": [
            "\u001b[34m\u001b[1mwandb\u001b[0m: Ctrl + C detected. Stopping sweep.\n"
          ]
        }
      ]
    },
    {
      "cell_type": "markdown",
      "source": [
        "# Defining model architecture based on the sweeped hyperparameters\n"
      ],
      "metadata": {
        "id": "vEiQziadkXqZ"
      }
    },
    {
      "cell_type": "code",
      "source": [
        "def build_cnn_model(conv_layers, dense_layers, hidden_layer_size, activation, weight_regularizer, dropout_conv, batch_norm, dropout_dense, batch_size, filters, kernel_size, learning_rate, optimizer):\n",
        "    model = Sequential()\n",
        "\n",
        "    # Add Convolutional layers\n",
        "    for _ in range(conv_layers):\n",
        "        model.add(Conv2D(filters, kernel_size=(kernel_size, kernel_size), activation=activation, input_shape=(32, 32, 1), kernel_regularizer=weight_regularizer))\n",
        "        if batch_norm:\n",
        "            model.add(BatchNormalization())\n",
        "        model.add(MaxPooling2D(pool_size=(2, 2)))\n",
        "        model.add(Dropout(dropout_conv))\n",
        "\n",
        "    # Flatten the output to feed into the dense layers\n",
        "    model.add(Flatten())\n",
        "\n",
        "    # Add Dense layers\n",
        "    for _ in range(dense_layers):\n",
        "        model.add(Dense(hidden_layer_size, activation=activation, kernel_regularizer=weight_regularizer))\n",
        "        if batch_norm:\n",
        "            model.add(BatchNormalization())\n",
        "        if dropout_dense:\n",
        "            model.add(Dropout(dropout_dense))\n",
        "\n",
        "    # Output layer\n",
        "    model.add(Dense(2, activation='softmax'))\n",
        "\n",
        "    # Compile the model\n",
        "    model.compile(\n",
        "        loss='categorical_crossentropy',\n",
        "        optimizer=Adam(learning_rate=learning_rate),\n",
        "        metrics=['categorical_crossentropy', 'accuracy']\n",
        "    )\n",
        "\n",
        "    return model\n",
        "\n",
        "# Calling function with relevant hyperparams:\n",
        "model = build_cnn_model(\n",
        "    conv_layers=3,\n",
        "    dense_layers=2,\n",
        "    hidden_layer_size=1024,\n",
        "    activation='relu',\n",
        "    weight_regularizer=None,\n",
        "    dropout_conv=0.2,\n",
        "    batch_norm=True,\n",
        "    dropout_dense=0.5,\n",
        "    batch_size=26,\n",
        "    filters=64,\n",
        "    kernel_size=3,\n",
        "    learning_rate=0.00000575676901354386,\n",
        "    optimizer='adam'\n",
        ")"
      ],
      "metadata": {
        "id": "FNZWb6n8kWyz"
      },
      "execution_count": 10,
      "outputs": []
    },
    {
      "cell_type": "code",
      "source": [
        "model.summary()"
      ],
      "metadata": {
        "colab": {
          "base_uri": "https://localhost:8080/"
        },
        "id": "-mG_OYY3J_eV",
        "outputId": "d8b6d068-1271-48d4-a36b-a049c3cbfae6"
      },
      "execution_count": 11,
      "outputs": [
        {
          "output_type": "stream",
          "name": "stdout",
          "text": [
            "Model: \"sequential\"\n",
            "_________________________________________________________________\n",
            " Layer (type)                Output Shape              Param #   \n",
            "=================================================================\n",
            " conv2d (Conv2D)             (None, 30, 30, 64)        640       \n",
            "                                                                 \n",
            " batch_normalization (Batch  (None, 30, 30, 64)        256       \n",
            " Normalization)                                                  \n",
            "                                                                 \n",
            " max_pooling2d (MaxPooling2  (None, 15, 15, 64)        0         \n",
            " D)                                                              \n",
            "                                                                 \n",
            " dropout (Dropout)           (None, 15, 15, 64)        0         \n",
            "                                                                 \n",
            " conv2d_1 (Conv2D)           (None, 13, 13, 64)        36928     \n",
            "                                                                 \n",
            " batch_normalization_1 (Bat  (None, 13, 13, 64)        256       \n",
            " chNormalization)                                                \n",
            "                                                                 \n",
            " max_pooling2d_1 (MaxPoolin  (None, 6, 6, 64)          0         \n",
            " g2D)                                                            \n",
            "                                                                 \n",
            " dropout_1 (Dropout)         (None, 6, 6, 64)          0         \n",
            "                                                                 \n",
            " conv2d_2 (Conv2D)           (None, 4, 4, 64)          36928     \n",
            "                                                                 \n",
            " batch_normalization_2 (Bat  (None, 4, 4, 64)          256       \n",
            " chNormalization)                                                \n",
            "                                                                 \n",
            " max_pooling2d_2 (MaxPoolin  (None, 2, 2, 64)          0         \n",
            " g2D)                                                            \n",
            "                                                                 \n",
            " dropout_2 (Dropout)         (None, 2, 2, 64)          0         \n",
            "                                                                 \n",
            " flatten (Flatten)           (None, 256)               0         \n",
            "                                                                 \n",
            " dense (Dense)               (None, 1024)              263168    \n",
            "                                                                 \n",
            " batch_normalization_3 (Bat  (None, 1024)              4096      \n",
            " chNormalization)                                                \n",
            "                                                                 \n",
            " dropout_3 (Dropout)         (None, 1024)              0         \n",
            "                                                                 \n",
            " dense_1 (Dense)             (None, 1024)              1049600   \n",
            "                                                                 \n",
            " batch_normalization_4 (Bat  (None, 1024)              4096      \n",
            " chNormalization)                                                \n",
            "                                                                 \n",
            " dropout_4 (Dropout)         (None, 1024)              0         \n",
            "                                                                 \n",
            " dense_2 (Dense)             (None, 2)                 2050      \n",
            "                                                                 \n",
            "=================================================================\n",
            "Total params: 1398274 (5.33 MB)\n",
            "Trainable params: 1393794 (5.32 MB)\n",
            "Non-trainable params: 4480 (17.50 KB)\n",
            "_________________________________________________________________\n"
          ]
        }
      ]
    },
    {
      "cell_type": "markdown",
      "source": [
        "# Train the model on the validation set"
      ],
      "metadata": {
        "id": "14vp0VUk8FeE"
      }
    },
    {
      "cell_type": "code",
      "source": [
        "np.random.seed(42)\n",
        "tf.random.set_seed(42)\n",
        "\n",
        "# Train the model\n",
        "history = model.fit(\n",
        "    X_train, y_train,\n",
        "    validation_data=(X_val, y_val),\n",
        "    callbacks=[tf.keras.callbacks.EarlyStopping(monitor=\"val_accuracy\", patience=4, mode=\"max\")],\n",
        "    epochs = 50\n",
        ")"
      ],
      "metadata": {
        "colab": {
          "base_uri": "https://localhost:8080/"
        },
        "id": "J1CwD8POqk72",
        "outputId": "e01a58cd-4e1b-4526-86f2-7217e0fd3bfb"
      },
      "execution_count": 12,
      "outputs": [
        {
          "output_type": "stream",
          "name": "stdout",
          "text": [
            "Epoch 1/50\n",
            "1721/1721 [==============================] - 21s 8ms/step - loss: 1.0105 - categorical_crossentropy: 1.0105 - accuracy: 0.6231 - val_loss: 0.8724 - val_categorical_crossentropy: 0.8724 - val_accuracy: 0.6484\n",
            "Epoch 2/50\n",
            "1721/1721 [==============================] - 13s 8ms/step - loss: 0.8819 - categorical_crossentropy: 0.8819 - accuracy: 0.6748 - val_loss: 0.7362 - val_categorical_crossentropy: 0.7362 - val_accuracy: 0.6964\n",
            "Epoch 3/50\n",
            "1721/1721 [==============================] - 14s 8ms/step - loss: 0.8322 - categorical_crossentropy: 0.8322 - accuracy: 0.6862 - val_loss: 0.6908 - val_categorical_crossentropy: 0.6908 - val_accuracy: 0.7109\n",
            "Epoch 4/50\n",
            "1721/1721 [==============================] - 13s 8ms/step - loss: 0.7985 - categorical_crossentropy: 0.7985 - accuracy: 0.6910 - val_loss: 0.6795 - val_categorical_crossentropy: 0.6795 - val_accuracy: 0.7217\n",
            "Epoch 5/50\n",
            "1721/1721 [==============================] - 13s 7ms/step - loss: 0.7760 - categorical_crossentropy: 0.7760 - accuracy: 0.6945 - val_loss: 0.5924 - val_categorical_crossentropy: 0.5924 - val_accuracy: 0.7491\n",
            "Epoch 6/50\n",
            "1721/1721 [==============================] - 13s 7ms/step - loss: 0.7605 - categorical_crossentropy: 0.7605 - accuracy: 0.6990 - val_loss: 0.5959 - val_categorical_crossentropy: 0.5959 - val_accuracy: 0.7394\n",
            "Epoch 7/50\n",
            "1721/1721 [==============================] - 13s 7ms/step - loss: 0.7499 - categorical_crossentropy: 0.7499 - accuracy: 0.7008 - val_loss: 0.5808 - val_categorical_crossentropy: 0.5808 - val_accuracy: 0.7586\n",
            "Epoch 8/50\n",
            "1721/1721 [==============================] - 12s 7ms/step - loss: 0.7341 - categorical_crossentropy: 0.7341 - accuracy: 0.7000 - val_loss: 0.5714 - val_categorical_crossentropy: 0.5714 - val_accuracy: 0.7482\n",
            "Epoch 9/50\n",
            "1721/1721 [==============================] - 12s 7ms/step - loss: 0.7147 - categorical_crossentropy: 0.7147 - accuracy: 0.7061 - val_loss: 0.5645 - val_categorical_crossentropy: 0.5645 - val_accuracy: 0.7627\n",
            "Epoch 10/50\n",
            "1721/1721 [==============================] - 13s 7ms/step - loss: 0.7038 - categorical_crossentropy: 0.7038 - accuracy: 0.7058 - val_loss: 0.5683 - val_categorical_crossentropy: 0.5683 - val_accuracy: 0.7563\n",
            "Epoch 11/50\n",
            "1721/1721 [==============================] - 12s 7ms/step - loss: 0.6926 - categorical_crossentropy: 0.6926 - accuracy: 0.7084 - val_loss: 0.5523 - val_categorical_crossentropy: 0.5523 - val_accuracy: 0.7625\n",
            "Epoch 12/50\n",
            "1721/1721 [==============================] - 13s 8ms/step - loss: 0.6862 - categorical_crossentropy: 0.6862 - accuracy: 0.7105 - val_loss: 0.6065 - val_categorical_crossentropy: 0.6065 - val_accuracy: 0.7452\n",
            "Epoch 13/50\n",
            "1721/1721 [==============================] - 13s 7ms/step - loss: 0.6696 - categorical_crossentropy: 0.6696 - accuracy: 0.7132 - val_loss: 0.5724 - val_categorical_crossentropy: 0.5724 - val_accuracy: 0.7561\n"
          ]
        }
      ]
    },
    {
      "cell_type": "markdown",
      "source": [
        "# Plot history"
      ],
      "metadata": {
        "id": "TwHSJv0PTNnI"
      }
    },
    {
      "cell_type": "code",
      "source": [
        "# Visualize training history\n",
        "fig, ax1 = plt.subplots()\n",
        "\n",
        "color = 'tab:red'\n",
        "ax1.set_xlabel('Epoch')\n",
        "ax1.set_ylabel('Loss', color=color)\n",
        "ax1.plot(history.history['loss'], label='Training loss', color=color)\n",
        "ax1.plot(history.history['val_loss'], label='Validation loss', linestyle='dashed', color=color)\n",
        "ax1.tick_params(axis='y', labelcolor=color)\n",
        "ax1.legend(loc='upper left')\n",
        "\n",
        "ax2 = ax1.twinx()\n",
        "\n",
        "color = 'tab:blue'\n",
        "ax2.set_ylabel('Accuracy', color=color)\n",
        "ax2.plot(history.history['accuracy'], label='Training accuracy', color=color)\n",
        "ax2.plot(history.history['val_accuracy'], label='Validation accuracy', linestyle='dashed', color=color)\n",
        "ax2.tick_params(axis='y', labelcolor=color)\n",
        "ax2.legend(loc='upper right')\n",
        "\n",
        "fig.tight_layout()\n",
        "plt.show()"
      ],
      "metadata": {
        "colab": {
          "base_uri": "https://localhost:8080/",
          "height": 486
        },
        "id": "7EkUZ9oeTM6A",
        "outputId": "198a6317-8590-4632-bfa6-156bb65583b7"
      },
      "execution_count": 13,
      "outputs": [
        {
          "output_type": "display_data",
          "data": {
            "text/plain": [
              "<Figure size 640x480 with 2 Axes>"
            ],
            "image/png": "[encoded data removed]"
          },
          "metadata": {}
        }
      ]
    },
    {
      "cell_type": "markdown",
      "source": [
        "# Adding data augmentation\n",
        "Increase existing dataset with additional 20% augmented images"
      ],
      "metadata": {
        "id": "nA7yKHwwTSZX"
      }
    },
    {
      "cell_type": "code",
      "source": [
        "np.random.seed(42)\n",
        "tf.random.set_seed(42)\n",
        "\n",
        "def generate_augmented_data(X_train, y_train, augmentation_ratio, batch_size=32):\n",
        "    # Create an ImageDataGenerator\n",
        "    datagen = ImageDataGenerator(\n",
        "        rotation_range=66,\n",
        "        horizontal_flip=True,\n",
        "        vertical_flip=False,\n",
        "        width_shift_range=0.2,\n",
        "        height_shift_range=0.2,\n",
        "        zoom_range=0.3,\n",
        "        shear_range=0.2\n",
        "    )\n",
        "\n",
        "    # Calculate the number of augmented images to generate\n",
        "    original_images_count = len(X_train)\n",
        "    augmented_images_count = int(original_images_count * augmentation_ratio)\n",
        "\n",
        "    # Generate augmented data\n",
        "    augmented_data = datagen.flow(X_train, y_train, batch_size=batch_size, shuffle=False)\n",
        "\n",
        "    # Iterate to accumulate augmented images\n",
        "    X_augmented = []\n",
        "    y_augmented = []\n",
        "    for _ in range(augmented_images_count // batch_size):\n",
        "        augmented_images, augmented_labels = augmented_data.next()\n",
        "        X_augmented.append(augmented_images)\n",
        "        y_augmented.append(augmented_labels)\n",
        "\n",
        "    # Concatenate original and augmented data\n",
        "    X_augmented = np.concatenate((X_train, np.concatenate(X_augmented)), axis=0)\n",
        "    y_augmented = np.concatenate((y_train, np.concatenate(y_augmented)), axis=0)\n",
        "\n",
        "    return X_augmented, y_augmented\n",
        "\n",
        "\n",
        "augmentation_ratio = 0.2\n",
        "X_augmented, y_augmented = generate_augmented_data(X_train, y_train, augmentation_ratio)\n",
        "print(X_augmented.shape, y_augmented.shape)\n"
      ],
      "metadata": {
        "colab": {
          "base_uri": "https://localhost:8080/"
        },
        "id": "njDKlwWZKs1S",
        "outputId": "c6c7966f-ddb6-4b56-abde-be6f44533bc0"
      },
      "execution_count": 14,
      "outputs": [
        {
          "output_type": "stream",
          "name": "stdout",
          "text": [
            "(66058, 32, 32, 1) (66058, 2)\n"
          ]
        }
      ]
    },
    {
      "cell_type": "code",
      "source": [
        "# Visualize a few original and augmented images\n",
        "num_images_to_visualize = min(5, len(X_train))\n",
        "fig, axes = plt.subplots(2, num_images_to_visualize, figsize=(2*num_images_to_visualize, 4))\n",
        "\n",
        "# Define transformations for annotation\n",
        "transformations = [\n",
        "    \"Random Rotation\",\n",
        "    \"Horizontal Flip\",\n",
        "    \"Width Shift\",\n",
        "    \"Height Shift\",\n",
        "    \"Zoom\",\n",
        "    \"Shear\"\n",
        "]\n",
        "\n",
        "for i in range(num_images_to_visualize):\n",
        "    # Retrieve original and augmented images from the combined dataset\n",
        "    original_image = X_augmented[i]\n",
        "    augmented_image = X_augmented[i + len(X_train)]\n",
        "\n",
        "    # Plot original and augmented images side by side\n",
        "    axes[0, i].imshow(original_image.squeeze(), cmap='gray')\n",
        "    axes[0, i].set_title(\"Original Image\")\n",
        "    axes[0, i].axis('off')  # Remove axes for the original images\n",
        "\n",
        "    axes[1, i].imshow(augmented_image.squeeze(), cmap='gray')\n",
        "    axes[1, i].set_title(\"Augmented Image\")\n",
        "    axes[1, i].axis('off')  # Remove axes for the augmented images\n",
        "\n",
        "    # Annotate with transformation information below augmented images\n",
        "    axes[1, i].text(0.5, -0.15, f'{transformations[i]}', size=10, ha='center', transform=axes[1, i].transAxes)\n",
        "\n",
        "plt.tight_layout()\n",
        "plt.show()"
      ],
      "metadata": {
        "colab": {
          "base_uri": "https://localhost:8080/",
          "height": 415
        },
        "id": "FyehPUybJdGo",
        "outputId": "7d6d8dc7-3c70-485c-eb04-1f91d1f446db"
      },
      "execution_count": 15,
      "outputs": [
        {
          "output_type": "display_data",
          "data": {
            "text/plain": [
              "<Figure size 1000x400 with 10 Axes>"
            ],
            "image/png": "[encoded data removed]"
          },
          "metadata": {}
        }
      ]
    },
    {
      "cell_type": "markdown",
      "source": [
        "# Train model with augmented images on validationset"
      ],
      "metadata": {
        "id": "NLOEJ8AV8XPP"
      }
    },
    {
      "cell_type": "code",
      "source": [
        "np.random.seed(42)\n",
        "tf.random.set_seed(42)\n",
        "\n",
        "# Train the model\n",
        "aug_history = model.fit(\n",
        "    X_augmented, y_augmented,\n",
        "    validation_data=(X_val, y_val),\n",
        "    callbacks=[tf.keras.callbacks.EarlyStopping(monitor=\"val_accuracy\", patience=4, mode=\"max\")],\n",
        "    epochs = 50\n",
        "    )"
      ],
      "metadata": {
        "colab": {
          "base_uri": "https://localhost:8080/"
        },
        "id": "4GRvx-QSVBIN",
        "outputId": "fe0df984-29af-416f-a73b-7624a33e31c3"
      },
      "execution_count": 24,
      "outputs": [
        {
          "output_type": "stream",
          "name": "stdout",
          "text": [
            "Epoch 1/50\n",
            "2065/2065 [==============================] - 16s 7ms/step - loss: 0.4349 - categorical_crossentropy: 0.4349 - accuracy: 0.8007 - val_loss: 1.1736 - val_categorical_crossentropy: 1.1736 - val_accuracy: 0.5243\n",
            "Epoch 2/50\n",
            "2065/2065 [==============================] - 15s 7ms/step - loss: 0.4298 - categorical_crossentropy: 0.4298 - accuracy: 0.8024 - val_loss: 0.5394 - val_categorical_crossentropy: 0.5394 - val_accuracy: 0.7653\n",
            "Epoch 3/50\n",
            "2065/2065 [==============================] - 15s 7ms/step - loss: 0.4284 - categorical_crossentropy: 0.4284 - accuracy: 0.8035 - val_loss: 0.4833 - val_categorical_crossentropy: 0.4833 - val_accuracy: 0.7869\n",
            "Epoch 4/50\n",
            "2065/2065 [==============================] - 15s 7ms/step - loss: 0.4259 - categorical_crossentropy: 0.4259 - accuracy: 0.8045 - val_loss: 0.5856 - val_categorical_crossentropy: 0.5856 - val_accuracy: 0.7156\n",
            "Epoch 5/50\n",
            "2065/2065 [==============================] - 15s 7ms/step - loss: 0.4257 - categorical_crossentropy: 0.4257 - accuracy: 0.8061 - val_loss: 0.6271 - val_categorical_crossentropy: 0.6271 - val_accuracy: 0.7283\n",
            "Epoch 6/50\n",
            "2065/2065 [==============================] - 15s 7ms/step - loss: 0.4344 - categorical_crossentropy: 0.4344 - accuracy: 0.8001 - val_loss: 0.5840 - val_categorical_crossentropy: 0.5840 - val_accuracy: 0.7699\n",
            "Epoch 7/50\n",
            "2065/2065 [==============================] - 15s 7ms/step - loss: 0.4330 - categorical_crossentropy: 0.4330 - accuracy: 0.8010 - val_loss: 0.5577 - val_categorical_crossentropy: 0.5577 - val_accuracy: 0.7841\n"
          ]
        }
      ]
    },
    {
      "cell_type": "markdown",
      "source": [
        "# Finally, predictions on the test set"
      ],
      "metadata": {
        "id": "Zcqiudys837B"
      }
    },
    {
      "cell_type": "code",
      "source": [
        "np.random.seed(42)\n",
        "tf.random.set_seed(42)\n",
        "\n",
        "# Predict on the test set\n",
        "predictions = model.predict(X_test)\n",
        "\n",
        "# Evaluation metrics\n",
        "accuracy = accuracy_score(np.argmax(y_test, axis=1), np.argmax(predictions, axis=1))\n",
        "precision, recall, f1, _ = precision_recall_fscore_support(np.argmax(y_test, axis=1), np.argmax(predictions, axis=1), average='weighted')\n",
        "\n",
        "# Print or use the metrics as needed\n",
        "print(f'Accuracy: {accuracy * 100:.2f}%')\n",
        "print(f'Precision: {precision:.4f}')\n",
        "print(f'Recall: {recall:.4f}')\n",
        "print(f'F1 Score: {f1:.4f}')\n"
      ],
      "metadata": {
        "colab": {
          "base_uri": "https://localhost:8080/"
        },
        "id": "cxl_4DPYkBVq",
        "outputId": "537b7813-cf7b-4eb9-9702-5b2501d2c30f"
      },
      "execution_count": 28,
      "outputs": [
        {
          "output_type": "stream",
          "name": "stdout",
          "text": [
            "246/246 [==============================] - 1s 2ms/step\n",
            "Accuracy: 79.16%\n",
            "Precision: 0.7957\n",
            "Recall: 0.7916\n",
            "F1 Score: 0.7909\n"
          ]
        }
      ]
    }
  ]
}