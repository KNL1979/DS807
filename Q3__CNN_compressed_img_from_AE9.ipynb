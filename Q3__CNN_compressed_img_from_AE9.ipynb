{
  "cells": [
    {
      "cell_type": "markdown",
      "metadata": {
        "id": "view-in-github",
        "colab_type": "text"
      },
      "source": [
        "<a href=\"https://colab.research.google.com/github/KNL1979/DS807/blob/main/Q3__CNN_compressed_img_from_AE9.ipynb\" target=\"_parent\"><img src=\"https://colab.research.google.com/assets/colab-badge.svg\" alt=\"Open In Colab\"/></a>"
      ]
    },
    {
      "cell_type": "markdown",
      "source": [
        "##CNN classification using compressed images from AE9"
      ],
      "metadata": {
        "id": "omQIZmKcDM68"
      }
    },
    {
      "cell_type": "code",
      "source": [
        "# U=upgrade and q=quiet\n",
        "!pip install wandb -Uq"
      ],
      "metadata": {
        "id": "8T8h6zQ16qqi",
        "colab": {
          "base_uri": "https://localhost:8080/"
        },
        "outputId": "2cbe2fa6-bea6-403d-ca91-c532d12096c3"
      },
      "execution_count": null,
      "outputs": [
        {
          "output_type": "stream",
          "name": "stdout",
          "text": [
            "\u001b[2K     \u001b[90m━━━━━━━━━━━━━━━━━━━━━━━━━━━━━━━━━━━━━━━━\u001b[0m \u001b[32m2.2/2.2 MB\u001b[0m \u001b[31m14.9 MB/s\u001b[0m eta \u001b[36m0:00:00\u001b[0m\n",
            "\u001b[2K     \u001b[90m━━━━━━━━━━━━━━━━━━━━━━━━━━━━━━━━━━━━━━━━\u001b[0m \u001b[32m196.4/196.4 kB\u001b[0m \u001b[31m17.3 MB/s\u001b[0m eta \u001b[36m0:00:00\u001b[0m\n",
            "\u001b[2K     \u001b[90m━━━━━━━━━━━━━━━━━━━━━━━━━━━━━━━━━━━━━━━━\u001b[0m \u001b[32m254.1/254.1 kB\u001b[0m \u001b[31m24.3 MB/s\u001b[0m eta \u001b[36m0:00:00\u001b[0m\n",
            "\u001b[2K     \u001b[90m━━━━━━━━━━━━━━━━━━━━━━━━━━━━━━━━━━━━━━━━\u001b[0m \u001b[32m62.7/62.7 kB\u001b[0m \u001b[31m6.6 MB/s\u001b[0m eta \u001b[36m0:00:00\u001b[0m\n",
            "\u001b[?25h"
          ]
        }
      ]
    },
    {
      "cell_type": "code",
      "source": [
        "from google.colab import drive\n",
        "drive.mount('/content/drive/')"
      ],
      "metadata": {
        "colab": {
          "base_uri": "https://localhost:8080/"
        },
        "id": "ySIbKmLg6q0t",
        "outputId": "810a83cf-0669-4a32-860a-02f90282908e"
      },
      "execution_count": null,
      "outputs": [
        {
          "output_type": "stream",
          "name": "stdout",
          "text": [
            "Mounted at /content/drive/\n"
          ]
        }
      ]
    },
    {
      "cell_type": "code",
      "source": [
        "%cd '/content/drive/My Drive/Applied_ML'"
      ],
      "metadata": {
        "colab": {
          "base_uri": "https://localhost:8080/"
        },
        "id": "AlV9RKcN6q7n",
        "outputId": "76e8ef98-3e83-46a0-c9d6-446b9190e991"
      },
      "execution_count": null,
      "outputs": [
        {
          "output_type": "stream",
          "name": "stdout",
          "text": [
            "/content/drive/My Drive/Applied_ML\n"
          ]
        }
      ]
    },
    {
      "cell_type": "code",
      "source": [
        "import os\n",
        "import wandb\n",
        "from wandb.keras import WandbCallback\n",
        "\n",
        "import pprint\n",
        "\n",
        "import tensorflow as tf\n",
        "from tensorflow.keras.layers import Input, Dense, Conv2D, Conv2DTranspose, Flatten, Dropout,BatchNormalization, SpatialDropout2D, Reshape\n",
        "from tensorflow.keras.models import Model\n",
        "from tensorflow.keras.optimizers import SGD, Adam\n",
        "import numpy as np\n",
        "from keras.utils import to_categorical"
      ],
      "metadata": {
        "id": "EqcfJpHm6q_2"
      },
      "execution_count": null,
      "outputs": []
    },
    {
      "cell_type": "code",
      "source": [
        "# load compressed images data from AE9\n",
        "X_train = np.load('eksamen/AE/AE9_latent_X_train.npy')\n",
        "X_val = np.load('eksamen/AE/AE9_latent_X_val.npy')\n",
        "X_test = np.load('eksamen/AE/AE9_latent_X_test.npy')"
      ],
      "metadata": {
        "id": "fhCE6Bjk6rEl"
      },
      "execution_count": null,
      "outputs": []
    },
    {
      "cell_type": "code",
      "source": [
        "print(X_train.shape, X_val.shape, X_test.shape)"
      ],
      "metadata": {
        "colab": {
          "base_uri": "https://localhost:8080/"
        },
        "id": "NBFCUu1xysTr",
        "outputId": "dccc562e-88b4-4054-e5ec-6c91826fda85"
      },
      "execution_count": null,
      "outputs": [
        {
          "output_type": "stream",
          "name": "stdout",
          "text": [
            "(55050, 12, 12, 32) (15729, 12, 12, 32) (7864, 12, 12, 32)\n"
          ]
        }
      ]
    },
    {
      "cell_type": "code",
      "source": [
        "# load labels\n",
        "y_train = np.load('eksamen/dataset/y_train_new.npy')\n",
        "y_val = np.load('eksamen/dataset/y_val_new.npy')\n",
        "y_test = np.load('eksamen/dataset/y_test_new.npy')\n",
        "print(y_train.shape, y_val.shape, y_test.shape)"
      ],
      "metadata": {
        "colab": {
          "base_uri": "https://localhost:8080/"
        },
        "id": "pCLVbHyCz8Jj",
        "outputId": "a3c2d782-7f7d-4c97-d08a-905888fa3045"
      },
      "execution_count": null,
      "outputs": [
        {
          "output_type": "stream",
          "name": "stdout",
          "text": [
            "(55050, 2) (15729, 2) (7864, 2)\n"
          ]
        }
      ]
    },
    {
      "cell_type": "code",
      "source": [
        "# concatenate train and validation dataset\n",
        "X_train_new = np.concatenate([X_train, X_val])\n",
        "y_train_new = np.concatenate([y_train, y_val])\n",
        "print(X_train_new.shape, y_train_new.shape)"
      ],
      "metadata": {
        "colab": {
          "base_uri": "https://localhost:8080/"
        },
        "id": "Di32w945eVnt",
        "outputId": "7d4589f5-5543-4dd2-a485-8229428e6bfb"
      },
      "execution_count": null,
      "outputs": [
        {
          "output_type": "stream",
          "name": "stdout",
          "text": [
            "(70779, 12, 12, 32) (70779, 2)\n"
          ]
        }
      ]
    },
    {
      "cell_type": "code",
      "source": [
        "# make tensorflow datasets\n",
        "train_dataset = tf.data.Dataset.from_tensor_slices((X_train_new, y_train_new)).batch(32)\n",
        "test_dataset = tf.data.Dataset.from_tensor_slices((X_test, y_test)).batch(32)"
      ],
      "metadata": {
        "id": "Hnjm0wD2HEvF"
      },
      "execution_count": null,
      "outputs": []
    },
    {
      "cell_type": "code",
      "source": [
        "# wandb settings\n",
        "os.environ[\"WANDB_API_KEY\"]= '1bff76125a134665e9d30342c447d7616c5fd3c3'\n",
        "os.environ[\"WANDB_NAME\"]= 'AE_CNN9_BEST_TEST'\n",
        "os.environ[\"WANDB_NOTEBOOK_NAME\"]='AE_CNN9_BEST_TEST.ipynb'\n",
        "run = wandb.init(project=\"AE_CNN\",entity='coffeegang',job_type='train')\n",
        "config = wandb.config"
      ],
      "metadata": {
        "colab": {
          "base_uri": "https://localhost:8080/",
          "height": 138
        },
        "id": "NxQQvPDu0k7g",
        "outputId": "dd8ed900-9a53-4611-d292-e5e7d0baa61f"
      },
      "execution_count": null,
      "outputs": [
        {
          "output_type": "stream",
          "name": "stderr",
          "text": [
            "\u001b[34m\u001b[1mwandb\u001b[0m: \u001b[33mWARNING\u001b[0m WANDB_NOTEBOOK_NAME should be a path to a notebook file, couldn't find AE_CNN9_BEST_TEST.ipynb.\n",
            "\u001b[34m\u001b[1mwandb\u001b[0m: Currently logged in as: \u001b[33mmetterosenfjeld\u001b[0m (\u001b[33mcoffeegang\u001b[0m). Use \u001b[1m`wandb login --relogin`\u001b[0m to force relogin\n"
          ]
        },
        {
          "output_type": "display_data",
          "data": {
            "text/plain": [
              "<IPython.core.display.HTML object>"
            ],
            "text/html": [
              "Tracking run with wandb version 0.16.2"
            ]
          },
          "metadata": {}
        },
        {
          "output_type": "display_data",
          "data": {
            "text/plain": [
              "<IPython.core.display.HTML object>"
            ],
            "text/html": [
              "Run data is saved locally in <code>/content/drive/MyDrive/Applied_ML/wandb/run-20240129_183028-2lznxupz</code>"
            ]
          },
          "metadata": {}
        },
        {
          "output_type": "display_data",
          "data": {
            "text/plain": [
              "<IPython.core.display.HTML object>"
            ],
            "text/html": [
              "Syncing run <strong><a href='https://wandb.ai/coffeegang/AE_CNN/runs/2lznxupz' target=\"_blank\">AE_CNN9_BEST_TEST</a></strong> to <a href='https://wandb.ai/coffeegang/AE_CNN' target=\"_blank\">Weights & Biases</a> (<a href='https://wandb.me/run' target=\"_blank\">docs</a>)<br/>"
            ]
          },
          "metadata": {}
        },
        {
          "output_type": "display_data",
          "data": {
            "text/plain": [
              "<IPython.core.display.HTML object>"
            ],
            "text/html": [
              " View project at <a href='https://wandb.ai/coffeegang/AE_CNN' target=\"_blank\">https://wandb.ai/coffeegang/AE_CNN</a>"
            ]
          },
          "metadata": {}
        },
        {
          "output_type": "display_data",
          "data": {
            "text/plain": [
              "<IPython.core.display.HTML object>"
            ],
            "text/html": [
              " View run at <a href='https://wandb.ai/coffeegang/AE_CNN/runs/2lznxupz' target=\"_blank\">https://wandb.ai/coffeegang/AE_CNN/runs/2lznxupz</a>"
            ]
          },
          "metadata": {}
        }
      ]
    },
    {
      "cell_type": "code",
      "source": [
        "# Define WandbCallback for experiment tracking\n",
        "wandb_callback = WandbCallback(monitor='val_loss',verbose=True,save_model=False,\n",
        "                               log_weights=True,\n",
        "                               log_evaluation=True,\n",
        "                               validation_steps=2)\n",
        "callbacks = [wandb_callback]"
      ],
      "metadata": {
        "id": "Q8jkOFZp1U_H"
      },
      "execution_count": null,
      "outputs": []
    },
    {
      "cell_type": "code",
      "source": [
        "# use the decoder as a preprocessing step to reconstruct the images before the classification\n",
        "reconstruct = tf.keras.models.Sequential([\n",
        "    Conv2DTranspose(32, 3, 2, padding='same', activation='relu', input_shape=(12, 12, 32)),\n",
        "    Conv2DTranspose(64, 3, 2, padding='same', activation='relu'),\n",
        "    Conv2DTranspose(128, 3, 2, padding='same', activation='relu'),\n",
        "    Conv2D(3, 3, activation='sigmoid', padding='same')\n",
        "], name='reconstruct')\n",
        "\n",
        "reconstruct.load_weights('decoder_weights.h5')\n",
        "\n",
        "for layer in reconstruct.layers:\n",
        "    layer.trainable = False\n",
        "\n",
        "reconstruct.summary()"
      ],
      "metadata": {
        "colab": {
          "base_uri": "https://localhost:8080/"
        },
        "id": "gjrAoiH6Ne1e",
        "outputId": "13608eb1-7209-4157-b60b-737539db6508"
      },
      "execution_count": null,
      "outputs": [
        {
          "output_type": "stream",
          "name": "stdout",
          "text": [
            "Model: \"reconstruct\"\n",
            "_________________________________________________________________\n",
            " Layer (type)                Output Shape              Param #   \n",
            "=================================================================\n",
            " conv2d_transpose (Conv2DTr  (None, 24, 24, 32)        9248      \n",
            " anspose)                                                        \n",
            "                                                                 \n",
            " conv2d_transpose_1 (Conv2D  (None, 48, 48, 64)        18496     \n",
            " Transpose)                                                      \n",
            "                                                                 \n",
            " conv2d_transpose_2 (Conv2D  (None, 96, 96, 128)       73856     \n",
            " Transpose)                                                      \n",
            "                                                                 \n",
            " conv2d (Conv2D)             (None, 96, 96, 3)         3459      \n",
            "                                                                 \n",
            "=================================================================\n",
            "Total params: 105059 (410.39 KB)\n",
            "Trainable params: 0 (0.00 Byte)\n",
            "Non-trainable params: 105059 (410.39 KB)\n",
            "_________________________________________________________________\n"
          ]
        }
      ]
    },
    {
      "cell_type": "code",
      "source": [
        "#build CNN model with the reconstruction of images as a preprocessing step\n",
        "model = tf.keras.models.Sequential([\n",
        "    reconstruct,\n",
        "    Conv2D(64, 3, 2, padding='same', activation='relu'),\n",
        "    BatchNormalization(),\n",
        "    SpatialDropout2D(0.2),\n",
        "    Conv2D(128, 3, 2, padding='same', activation='relu'),\n",
        "    BatchNormalization(),\n",
        "    SpatialDropout2D(0.2),\n",
        "    Conv2D(256, 3, 2, padding='same', activation='relu'),\n",
        "    BatchNormalization(),\n",
        "    SpatialDropout2D(0.2),\n",
        "    Flatten(),\n",
        "    Dense(100, activation='relu'),\n",
        "    Dense(2, activation='softmax')\n",
        "])\n",
        "\n",
        "model.summary()\n",
        "model.compile(loss='categorical_crossentropy', optimizer='adam',  metrics=['accuracy'])"
      ],
      "metadata": {
        "colab": {
          "base_uri": "https://localhost:8080/"
        },
        "id": "Hu4BbfVmDWO6",
        "outputId": "09323b06-467c-4350-8b5e-cafe3a0d4a1c"
      },
      "execution_count": null,
      "outputs": [
        {
          "output_type": "stream",
          "name": "stdout",
          "text": [
            "Model: \"sequential\"\n",
            "_________________________________________________________________\n",
            " Layer (type)                Output Shape              Param #   \n",
            "=================================================================\n",
            " reconstruct (Sequential)    (None, 96, 96, 3)         105059    \n",
            "                                                                 \n",
            " conv2d_1 (Conv2D)           (None, 48, 48, 64)        1792      \n",
            "                                                                 \n",
            " batch_normalization (Batch  (None, 48, 48, 64)        256       \n",
            " Normalization)                                                  \n",
            "                                                                 \n",
            " spatial_dropout2d (Spatial  (None, 48, 48, 64)        0         \n",
            " Dropout2D)                                                      \n",
            "                                                                 \n",
            " conv2d_2 (Conv2D)           (None, 24, 24, 128)       73856     \n",
            "                                                                 \n",
            " batch_normalization_1 (Bat  (None, 24, 24, 128)       512       \n",
            " chNormalization)                                                \n",
            "                                                                 \n",
            " spatial_dropout2d_1 (Spati  (None, 24, 24, 128)       0         \n",
            " alDropout2D)                                                    \n",
            "                                                                 \n",
            " conv2d_3 (Conv2D)           (None, 12, 12, 256)       295168    \n",
            "                                                                 \n",
            " batch_normalization_2 (Bat  (None, 12, 12, 256)       1024      \n",
            " chNormalization)                                                \n",
            "                                                                 \n",
            " spatial_dropout2d_2 (Spati  (None, 12, 12, 256)       0         \n",
            " alDropout2D)                                                    \n",
            "                                                                 \n",
            " flatten (Flatten)           (None, 36864)             0         \n",
            "                                                                 \n",
            " dense (Dense)               (None, 100)               3686500   \n",
            "                                                                 \n",
            " dense_1 (Dense)             (None, 2)                 202       \n",
            "                                                                 \n",
            "=================================================================\n",
            "Total params: 4164369 (15.89 MB)\n",
            "Trainable params: 4058414 (15.48 MB)\n",
            "Non-trainable params: 105955 (413.89 KB)\n",
            "_________________________________________________________________\n"
          ]
        }
      ]
    },
    {
      "cell_type": "code",
      "source": [
        "# fit the model\n",
        "history = model.fit(train_dataset, epochs=10, verbose=1, callbacks=callbacks)"
      ],
      "metadata": {
        "colab": {
          "base_uri": "https://localhost:8080/"
        },
        "id": "XpNB0PwKDcp_",
        "outputId": "f455aeea-c36e-4544-86d1-6be16bf75116"
      },
      "execution_count": null,
      "outputs": [
        {
          "output_type": "stream",
          "name": "stderr",
          "text": [
            "\u001b[34m\u001b[1mwandb\u001b[0m: \u001b[33mWARNING\u001b[0m WandbCallback is unable to read validation_data from trainer and therefore cannot log validation data. Ensure Keras is properly patched by calling `from wandb.keras import WandbCallback` at the top of your script.\n"
          ]
        },
        {
          "output_type": "stream",
          "name": "stdout",
          "text": [
            "Epoch 1/10\n",
            "2212/2212 [==============================] - 40s 15ms/step - loss: 0.4878 - accuracy: 0.7801\n",
            "Epoch 2/10\n",
            "2212/2212 [==============================] - 33s 15ms/step - loss: 0.4189 - accuracy: 0.8131\n",
            "Epoch 3/10\n",
            "2212/2212 [==============================] - 33s 15ms/step - loss: 0.3827 - accuracy: 0.8300\n",
            "Epoch 4/10\n",
            "2212/2212 [==============================] - 33s 15ms/step - loss: 0.3510 - accuracy: 0.8452\n",
            "Epoch 5/10\n",
            "2212/2212 [==============================] - 33s 15ms/step - loss: 0.3198 - accuracy: 0.8576\n",
            "Epoch 6/10\n",
            "2212/2212 [==============================] - 33s 15ms/step - loss: 0.2876 - accuracy: 0.8705\n",
            "Epoch 7/10\n",
            "2212/2212 [==============================] - 33s 15ms/step - loss: 0.2606 - accuracy: 0.8825\n",
            "Epoch 8/10\n",
            "2212/2212 [==============================] - 32s 14ms/step - loss: 0.2402 - accuracy: 0.8922\n",
            "Epoch 9/10\n",
            "2212/2212 [==============================] - 32s 14ms/step - loss: 0.2225 - accuracy: 0.9010\n",
            "Epoch 10/10\n",
            "2212/2212 [==============================] - 32s 14ms/step - loss: 0.2058 - accuracy: 0.9099\n"
          ]
        }
      ]
    },
    {
      "cell_type": "code",
      "source": [
        "wandb.finish()"
      ],
      "metadata": {
        "colab": {
          "base_uri": "https://localhost:8080/",
          "height": 229,
          "referenced_widgets": [
            "73f23c4f0085477fae0e2784435b1969",
            "f6a7ffb3b0344e4cb7d367e143580e99",
            "57b9f4d601b14601b6668ff60e9d4757",
            "ee402afc6b544630bf31682fe7851b48",
            "9b8ee6efbc994f9fbb9b6140c17cd2f9",
            "b88585ef916f4de2a6a88693d8f63a43",
            "b947cc3fe2cb4de6b8f0650b87ad20ca",
            "5dbe369314014bc3a0733ce258794cf4"
          ]
        },
        "id": "wOBhYUfsI66a",
        "outputId": "ee173aab-a70f-44bd-dfd5-d5ee37b0878e"
      },
      "execution_count": null,
      "outputs": [
        {
          "output_type": "display_data",
          "data": {
            "text/plain": [
              "VBox(children=(Label(value='0.004 MB of 0.004 MB uploaded\\r'), FloatProgress(value=1.0, max=1.0)))"
            ],
            "application/vnd.jupyter.widget-view+json": {
              "version_major": 2,
              "version_minor": 0,
              "model_id": "73f23c4f0085477fae0e2784435b1969"
            }
          },
          "metadata": {}
        },
        {
          "output_type": "display_data",
          "data": {
            "text/plain": [
              "<IPython.core.display.HTML object>"
            ],
            "text/html": [
              "<style>\n",
              "    table.wandb td:nth-child(1) { padding: 0 10px; text-align: left ; width: auto;} td:nth-child(2) {text-align: left ; width: 100%}\n",
              "    .wandb-row { display: flex; flex-direction: row; flex-wrap: wrap; justify-content: flex-start; width: 100% }\n",
              "    .wandb-col { display: flex; flex-direction: column; flex-basis: 100%; flex: 1; padding: 10px; }\n",
              "    </style>\n",
              "<div class=\"wandb-row\"><div class=\"wandb-col\"><h3>Run history:</h3><br/><table class=\"wandb\"><tr><td>accuracy</td><td>▁▃▄▅▅▆▇▇██</td></tr><tr><td>epoch</td><td>▁▂▃▃▄▅▆▆▇█</td></tr><tr><td>loss</td><td>█▆▅▅▄▃▂▂▁▁</td></tr></table><br/></div><div class=\"wandb-col\"><h3>Run summary:</h3><br/><table class=\"wandb\"><tr><td>accuracy</td><td>0.90993</td></tr><tr><td>epoch</td><td>9</td></tr><tr><td>loss</td><td>0.20578</td></tr></table><br/></div></div>"
            ]
          },
          "metadata": {}
        },
        {
          "output_type": "display_data",
          "data": {
            "text/plain": [
              "<IPython.core.display.HTML object>"
            ],
            "text/html": [
              " View run <strong style=\"color:#cdcd00\">AE_CNN9_BEST_TEST</strong> at: <a href='https://wandb.ai/coffeegang/AE_CNN/runs/2lznxupz' target=\"_blank\">https://wandb.ai/coffeegang/AE_CNN/runs/2lznxupz</a><br/>Synced 5 W&B file(s), 1 media file(s), 0 artifact file(s) and 0 other file(s)"
            ]
          },
          "metadata": {}
        },
        {
          "output_type": "display_data",
          "data": {
            "text/plain": [
              "<IPython.core.display.HTML object>"
            ],
            "text/html": [
              "Find logs at: <code>./wandb/run-20240129_183028-2lznxupz/logs</code>"
            ]
          },
          "metadata": {}
        }
      ]
    },
    {
      "cell_type": "code",
      "source": [
        "# Use test dataset to evaluate the performande of the model\n",
        "results = model.evaluate(test_dataset)\n",
        "print(f'The loss of the test data is: {round((results[0]),2)}')\n",
        "print(f'The accuracy of the test data is: {round((results[1]*100),2)}')"
      ],
      "metadata": {
        "id": "JgEhQzb6tN_U",
        "colab": {
          "base_uri": "https://localhost:8080/"
        },
        "outputId": "7ba4ee97-9cac-4e9e-b22b-4c7d52192990"
      },
      "execution_count": null,
      "outputs": [
        {
          "output_type": "stream",
          "name": "stdout",
          "text": [
            "246/246 [==============================] - 2s 9ms/step - loss: 0.4420 - accuracy: 0.8478\n",
            "The loss of the test data is: 0.44\n",
            "The accuracy of the test data is: 84.78\n"
          ]
        }
      ]
    },
    {
      "cell_type": "code",
      "source": [
        "model.save('AE_CNN9_BEST_TEST')"
      ],
      "metadata": {
        "id": "xMD41WQBhrYt"
      },
      "execution_count": null,
      "outputs": []
    },
    {
      "cell_type": "markdown",
      "source": [],
      "metadata": {
        "id": "bWHgbyFV0h5I"
      }
    }
  ],
  "metadata": {
    "accelerator": "GPU",
    "colab": {
      "machine_shape": "hm",
      "provenance": [],
      "gpuType": "V100",
      "include_colab_link": true
    },
    "kernelspec": {
      "display_name": "Python 3",
      "name": "python3"
    },
    "language_info": {
      "name": "python"
    },
    "widgets": {
      "application/vnd.jupyter.widget-state+json": {
        "73f23c4f0085477fae0e2784435b1969": {
          "model_module": "@jupyter-widgets/controls",
          "model_name": "VBoxModel",
          "model_module_version": "1.5.0",
          "state": {
            "_dom_classes": [],
            "_model_module": "@jupyter-widgets/controls",
            "_model_module_version": "1.5.0",
            "_model_name": "VBoxModel",
            "_view_count": null,
            "_view_module": "@jupyter-widgets/controls",
            "_view_module_version": "1.5.0",
            "_view_name": "VBoxView",
            "box_style": "",
            "children": [
              "IPY_MODEL_f6a7ffb3b0344e4cb7d367e143580e99",
              "IPY_MODEL_57b9f4d601b14601b6668ff60e9d4757"
            ],
            "layout": "IPY_MODEL_ee402afc6b544630bf31682fe7851b48"
          }
        },
        "f6a7ffb3b0344e4cb7d367e143580e99": {
          "model_module": "@jupyter-widgets/controls",
          "model_name": "LabelModel",
          "model_module_version": "1.5.0",
          "state": {
            "_dom_classes": [],
            "_model_module": "@jupyter-widgets/controls",
            "_model_module_version": "1.5.0",
            "_model_name": "LabelModel",
            "_view_count": null,
            "_view_module": "@jupyter-widgets/controls",
            "_view_module_version": "1.5.0",
            "_view_name": "LabelView",
            "description": "",
            "description_tooltip": null,
            "layout": "IPY_MODEL_9b8ee6efbc994f9fbb9b6140c17cd2f9",
            "placeholder": "​",
            "style": "IPY_MODEL_b88585ef916f4de2a6a88693d8f63a43",
            "value": "0.033 MB of 0.033 MB uploaded\r"
          }
        },
        "57b9f4d601b14601b6668ff60e9d4757": {
          "model_module": "@jupyter-widgets/controls",
          "model_name": "FloatProgressModel",
          "model_module_version": "1.5.0",
          "state": {
            "_dom_classes": [],
            "_model_module": "@jupyter-widgets/controls",
            "_model_module_version": "1.5.0",
            "_model_name": "FloatProgressModel",
            "_view_count": null,
            "_view_module": "@jupyter-widgets/controls",
            "_view_module_version": "1.5.0",
            "_view_name": "ProgressView",
            "bar_style": "",
            "description": "",
            "description_tooltip": null,
            "layout": "IPY_MODEL_b947cc3fe2cb4de6b8f0650b87ad20ca",
            "max": 1,
            "min": 0,
            "orientation": "horizontal",
            "style": "IPY_MODEL_5dbe369314014bc3a0733ce258794cf4",
            "value": 1
          }
        },
        "ee402afc6b544630bf31682fe7851b48": {
          "model_module": "@jupyter-widgets/base",
          "model_name": "LayoutModel",
          "model_module_version": "1.2.0",
          "state": {
            "_model_module": "@jupyter-widgets/base",
            "_model_module_version": "1.2.0",
            "_model_name": "LayoutModel",
            "_view_count": null,
            "_view_module": "@jupyter-widgets/base",
            "_view_module_version": "1.2.0",
            "_view_name": "LayoutView",
            "align_content": null,
            "align_items": null,
            "align_self": null,
            "border": null,
            "bottom": null,
            "display": null,
            "flex": null,
            "flex_flow": null,
            "grid_area": null,
            "grid_auto_columns": null,
            "grid_auto_flow": null,
            "grid_auto_rows": null,
            "grid_column": null,
            "grid_gap": null,
            "grid_row": null,
            "grid_template_areas": null,
            "grid_template_columns": null,
            "grid_template_rows": null,
            "height": null,
            "justify_content": null,
            "justify_items": null,
            "left": null,
            "margin": null,
            "max_height": null,
            "max_width": null,
            "min_height": null,
            "min_width": null,
            "object_fit": null,
            "object_position": null,
            "order": null,
            "overflow": null,
            "overflow_x": null,
            "overflow_y": null,
            "padding": null,
            "right": null,
            "top": null,
            "visibility": null,
            "width": null
          }
        },
        "9b8ee6efbc994f9fbb9b6140c17cd2f9": {
          "model_module": "@jupyter-widgets/base",
          "model_name": "LayoutModel",
          "model_module_version": "1.2.0",
          "state": {
            "_model_module": "@jupyter-widgets/base",
            "_model_module_version": "1.2.0",
            "_model_name": "LayoutModel",
            "_view_count": null,
            "_view_module": "@jupyter-widgets/base",
            "_view_module_version": "1.2.0",
            "_view_name": "LayoutView",
            "align_content": null,
            "align_items": null,
            "align_self": null,
            "border": null,
            "bottom": null,
            "display": null,
            "flex": null,
            "flex_flow": null,
            "grid_area": null,
            "grid_auto_columns": null,
            "grid_auto_flow": null,
            "grid_auto_rows": null,
            "grid_column": null,
            "grid_gap": null,
            "grid_row": null,
            "grid_template_areas": null,
            "grid_template_columns": null,
            "grid_template_rows": null,
            "height": null,
            "justify_content": null,
            "justify_items": null,
            "left": null,
            "margin": null,
            "max_height": null,
            "max_width": null,
            "min_height": null,
            "min_width": null,
            "object_fit": null,
            "object_position": null,
            "order": null,
            "overflow": null,
            "overflow_x": null,
            "overflow_y": null,
            "padding": null,
            "right": null,
            "top": null,
            "visibility": null,
            "width": null
          }
        },
        "b88585ef916f4de2a6a88693d8f63a43": {
          "model_module": "@jupyter-widgets/controls",
          "model_name": "DescriptionStyleModel",
          "model_module_version": "1.5.0",
          "state": {
            "_model_module": "@jupyter-widgets/controls",
            "_model_module_version": "1.5.0",
            "_model_name": "DescriptionStyleModel",
            "_view_count": null,
            "_view_module": "@jupyter-widgets/base",
            "_view_module_version": "1.2.0",
            "_view_name": "StyleView",
            "description_width": ""
          }
        },
        "b947cc3fe2cb4de6b8f0650b87ad20ca": {
          "model_module": "@jupyter-widgets/base",
          "model_name": "LayoutModel",
          "model_module_version": "1.2.0",
          "state": {
            "_model_module": "@jupyter-widgets/base",
            "_model_module_version": "1.2.0",
            "_model_name": "LayoutModel",
            "_view_count": null,
            "_view_module": "@jupyter-widgets/base",
            "_view_module_version": "1.2.0",
            "_view_name": "LayoutView",
            "align_content": null,
            "align_items": null,
            "align_self": null,
            "border": null,
            "bottom": null,
            "display": null,
            "flex": null,
            "flex_flow": null,
            "grid_area": null,
            "grid_auto_columns": null,
            "grid_auto_flow": null,
            "grid_auto_rows": null,
            "grid_column": null,
            "grid_gap": null,
            "grid_row": null,
            "grid_template_areas": null,
            "grid_template_columns": null,
            "grid_template_rows": null,
            "height": null,
            "justify_content": null,
            "justify_items": null,
            "left": null,
            "margin": null,
            "max_height": null,
            "max_width": null,
            "min_height": null,
            "min_width": null,
            "object_fit": null,
            "object_position": null,
            "order": null,
            "overflow": null,
            "overflow_x": null,
            "overflow_y": null,
            "padding": null,
            "right": null,
            "top": null,
            "visibility": null,
            "width": null
          }
        },
        "5dbe369314014bc3a0733ce258794cf4": {
          "model_module": "@jupyter-widgets/controls",
          "model_name": "ProgressStyleModel",
          "model_module_version": "1.5.0",
          "state": {
            "_model_module": "@jupyter-widgets/controls",
            "_model_module_version": "1.5.0",
            "_model_name": "ProgressStyleModel",
            "_view_count": null,
            "_view_module": "@jupyter-widgets/base",
            "_view_module_version": "1.2.0",
            "_view_name": "StyleView",
            "bar_color": null,
            "description_width": ""
          }
        }
      }
    }
  },
  "nbformat": 4,
  "nbformat_minor": 0
}