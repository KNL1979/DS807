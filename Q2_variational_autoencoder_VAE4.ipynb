{
  "cells": [
    {
      "cell_type": "markdown",
      "metadata": {
        "id": "view-in-github",
        "colab_type": "text"
      },
      "source": [
        "<a href=\"https://colab.research.google.com/github/KNL1979/DS807/blob/main/Q2_variational_autoencoder_VAE4.ipynb\" target=\"_parent\"><img src=\"https://colab.research.google.com/assets/colab-badge.svg\" alt=\"Open In Colab\"/></a>"
      ]
    },
    {
      "cell_type": "markdown",
      "source": [
        "# Variational autoencoder model VAE4"
      ],
      "metadata": {
        "id": "iwmh68ShWlmv"
      }
    },
    {
      "cell_type": "code",
      "execution_count": null,
      "metadata": {
        "id": "R9q2pEeCEV2K"
      },
      "outputs": [],
      "source": [
        "import tensorflow as tf\n",
        "from tensorflow.keras.layers import Input, Dense, Conv2D, Conv2DTranspose, Flatten, Dropout\n",
        "from tensorflow.keras.models import Model\n",
        "from tensorflow.keras.optimizers import SGD, Adam\n",
        "import numpy as np\n",
        "import matplotlib.pyplot as plt"
      ]
    },
    {
      "cell_type": "code",
      "execution_count": null,
      "metadata": {
        "colab": {
          "base_uri": "https://localhost:8080/"
        },
        "id": "Gte11cPAFMaN",
        "outputId": "a7978fe6-71f8-4347-d68e-7958d4513e40"
      },
      "outputs": [
        {
          "output_type": "stream",
          "name": "stdout",
          "text": [
            "Mounted at /content/gdrive\n"
          ]
        }
      ],
      "source": [
        "# Mount your google drive where you've saved your assignment folder\n",
        "from google.colab import drive\n",
        "drive.mount('/content/gdrive', force_remount=True)"
      ]
    },
    {
      "cell_type": "code",
      "execution_count": null,
      "metadata": {
        "colab": {
          "base_uri": "https://localhost:8080/"
        },
        "id": "x82qhsY4FUPh",
        "outputId": "bbbc1080-413f-4168-8487-a6d37d78b4ed"
      },
      "outputs": [
        {
          "output_type": "stream",
          "name": "stdout",
          "text": [
            "/content/gdrive/MyDrive/Applied_ML\n"
          ]
        }
      ],
      "source": [
        "# path to file\n",
        "%cd '/content/gdrive/MyDrive/Applied_ML'"
      ]
    },
    {
      "cell_type": "code",
      "execution_count": null,
      "metadata": {
        "colab": {
          "base_uri": "https://localhost:8080/"
        },
        "id": "Ucsi9aO7FbLz",
        "outputId": "66fb85ea-6ebd-4469-b9a9-142458042efb"
      },
      "outputs": [
        {
          "output_type": "stream",
          "name": "stdout",
          "text": [
            "Shape of the training data: (55050, 96, 96, 3)\n",
            "Shape of the validataion data: (15729, 96, 96, 3)\n",
            "Shape of the test data: (7864, 96, 96, 3)\n"
          ]
        }
      ],
      "source": [
        "# Load the training data features\n",
        "X_train = np.load('eksamen/dataset/X_train_new.npy')\n",
        "X_val = np.load('eksamen/dataset/X_val_new.npy')\n",
        "X_test = np.load('eksamen/dataset/X_test_new.npy')\n",
        "print(f'Shape of the training data: {X_train.shape}')\n",
        "print(f'Shape of the validataion data: {X_val.shape}')\n",
        "print(f'Shape of the test data: {X_test.shape}')"
      ]
    },
    {
      "cell_type": "code",
      "execution_count": null,
      "metadata": {
        "id": "pmYeGKQvEicX"
      },
      "outputs": [],
      "source": [
        "# Create TensorFlow datasets\n",
        "train_dataset = tf.data.Dataset.from_tensor_slices(X_train).batch(16)\n",
        "val_dataset = tf.data.Dataset.from_tensor_slices(X_val).batch(16)"
      ]
    },
    {
      "cell_type": "code",
      "execution_count": null,
      "metadata": {
        "colab": {
          "base_uri": "https://localhost:8080/"
        },
        "id": "-0wOUAddElg4",
        "outputId": "a7247031-6bcb-4e0d-ec1f-9a5ce9e2ecb9"
      },
      "outputs": [
        {
          "output_type": "stream",
          "name": "stdout",
          "text": [
            "Shape of features: (16, 96, 96, 3)\n"
          ]
        }
      ],
      "source": [
        "# check the dimensions of the dataset\n",
        "batch1 = next(iter(train_dataset.take(1)))\n",
        "print(\"Shape of features:\", batch1.shape)"
      ]
    },
    {
      "cell_type": "code",
      "execution_count": null,
      "metadata": {
        "id": "syhaixuoEnWs"
      },
      "outputs": [],
      "source": [
        "# create VAE class\n",
        "class VAE(tf.keras.Model):\n",
        "    def __init__(self, latent_dim, encoder, decoder):\n",
        "        super(VAE, self).__init__()\n",
        "        self.latent_dim = latent_dim\n",
        "        self.encoder = encoder\n",
        "        self.decoder = decoder\n",
        "\n",
        "    def encode(self, x):\n",
        "        params = self.encoder(x)\n",
        "        return tf.split(params, num_or_size_splits=2, axis=1) # mean, logvar\n",
        "\n",
        "    def decode(self, z):\n",
        "        return self.decoder(z)\n",
        "\n",
        "    def reparameterize(self, mean, logvar):\n",
        "        eps = tf.random.normal(shape=mean.shape)\n",
        "        return eps * tf.exp(logvar * 0.5) + mean\n",
        "\n",
        "    @tf.function\n",
        "    def sample(self, eps=None):\n",
        "        if eps is None:\n",
        "            eps = tf.random.normal(shape=(100, self.latent_dim))\n",
        "        return tf.sigmoid(self.decode(eps))"
      ]
    },
    {
      "cell_type": "code",
      "execution_count": null,
      "metadata": {
        "id": "n0w8_aMnErVN"
      },
      "outputs": [],
      "source": [
        "# loss function\n",
        "def log_normal_pdf(sample, mean, logvar, raxis=1):\n",
        "    log2pi = tf.math.log(2. * np.pi)\n",
        "    vals = -.5 * ((sample - mean) ** 2. * tf.exp(-logvar) + logvar + log2pi)\n",
        "\n",
        "    return tf.reduce_sum(vals, axis=raxis)\n",
        "\n",
        "def compute_loss(model, x):\n",
        "    mean, logvar = model.encode(x)\n",
        "    z = model.reparameterize(mean, logvar)\n",
        "    x_logit = model.decode(z)\n",
        "    cross_ent = tf.nn.sigmoid_cross_entropy_with_logits(logits=x_logit, labels=x)\n",
        "    logpx_z = -tf.reduce_sum(cross_ent, axis=[1, 2, 3])\n",
        "    logpz = log_normal_pdf(z, 0., 0.)\n",
        "    logqz_x = log_normal_pdf(z, mean, logvar)\n",
        "\n",
        "    return -tf.reduce_mean(logpx_z + logpz - logqz_x)"
      ]
    },
    {
      "cell_type": "code",
      "execution_count": null,
      "metadata": {
        "id": "FhmyDAyUEtbA"
      },
      "outputs": [],
      "source": [
        "# Train step function\n",
        "@tf.function\n",
        "def train_step(model, x, optimizer):\n",
        "    with tf.GradientTape() as tape:\n",
        "        loss = compute_loss(model, x)\n",
        "\n",
        "    gradients = tape.gradient(loss, model.trainable_variables)\n",
        "    optimizer.apply_gradients(zip(gradients, model.trainable_variables))"
      ]
    },
    {
      "cell_type": "code",
      "execution_count": null,
      "metadata": {
        "id": "xaAXzGQpEvb6"
      },
      "outputs": [],
      "source": [
        "# Function to show progress\n",
        "def generate_and_show_images(model, epoch, test_sample):\n",
        "    mean, logvar = model.encode(test_sample)\n",
        "    z = model.reparameterize(mean, logvar)\n",
        "    predictions = model.sample(z)\n",
        "    fig = plt.figure(figsize=(4, 4))\n",
        "\n",
        "    for i in range(predictions.shape[0]):\n",
        "        plt.subplot(4, 4, i + 1)\n",
        "        plt.imshow(predictions[i, :, :, 0], cmap='gray')\n",
        "        plt.axis('off')\n",
        "\n",
        "    plt.show()"
      ]
    },
    {
      "cell_type": "code",
      "execution_count": null,
      "metadata": {
        "id": "3QyNHf5JE1fF"
      },
      "outputs": [],
      "source": [
        "# set latent dimension\n",
        "latent_dim = 512"
      ]
    },
    {
      "cell_type": "code",
      "execution_count": null,
      "metadata": {
        "colab": {
          "base_uri": "https://localhost:8080/"
        },
        "id": "Ozf0x1coE1_T",
        "outputId": "fc16a75f-b5eb-4ed1-ee09-a521db10d1fb"
      },
      "outputs": [
        {
          "output_type": "stream",
          "name": "stdout",
          "text": [
            "Model: \"sequential\"\n",
            "_________________________________________________________________\n",
            " Layer (type)                Output Shape              Param #   \n",
            "=================================================================\n",
            " conv2d (Conv2D)             (None, 48, 48, 64)        1792      \n",
            "                                                                 \n",
            " batch_normalization (Batch  (None, 48, 48, 64)        256       \n",
            " Normalization)                                                  \n",
            "                                                                 \n",
            " spatial_dropout2d (Spatial  (None, 48, 48, 64)        0         \n",
            " Dropout2D)                                                      \n",
            "                                                                 \n",
            " conv2d_1 (Conv2D)           (None, 24, 24, 128)       73856     \n",
            "                                                                 \n",
            " batch_normalization_1 (Bat  (None, 24, 24, 128)       512       \n",
            " chNormalization)                                                \n",
            "                                                                 \n",
            " spatial_dropout2d_1 (Spati  (None, 24, 24, 128)       0         \n",
            " alDropout2D)                                                    \n",
            "                                                                 \n",
            " conv2d_2 (Conv2D)           (None, 12, 12, 256)       295168    \n",
            "                                                                 \n",
            " batch_normalization_2 (Bat  (None, 12, 12, 256)       1024      \n",
            " chNormalization)                                                \n",
            "                                                                 \n",
            " spatial_dropout2d_2 (Spati  (None, 12, 12, 256)       0         \n",
            " alDropout2D)                                                    \n",
            "                                                                 \n",
            " conv2d_3 (Conv2D)           (None, 6, 6, 512)         1180160   \n",
            "                                                                 \n",
            " batch_normalization_3 (Bat  (None, 6, 6, 512)         2048      \n",
            " chNormalization)                                                \n",
            "                                                                 \n",
            " spatial_dropout2d_3 (Spati  (None, 6, 6, 512)         0         \n",
            " alDropout2D)                                                    \n",
            "                                                                 \n",
            " flatten (Flatten)           (None, 18432)             0         \n",
            "                                                                 \n",
            " dense (Dense)               (None, 1024)              18875392  \n",
            "                                                                 \n",
            "=================================================================\n",
            "Total params: 20430208 (77.94 MB)\n",
            "Trainable params: 20428288 (77.93 MB)\n",
            "Non-trainable params: 1920 (7.50 KB)\n",
            "_________________________________________________________________\n"
          ]
        }
      ],
      "source": [
        "# encoder architecture\n",
        "encoder = tf.keras.models.Sequential([\n",
        "    tf.keras.layers.Conv2D(64, 3, 2, activation='relu', padding='same', input_shape=(96, 96, 3)),\n",
        "    tf.keras.layers.BatchNormalization(),\n",
        "    tf.keras.layers.SpatialDropout2D(0.2),\n",
        "    tf.keras.layers.Conv2D(128, 3, 2, activation='relu', padding='same'),\n",
        "    tf.keras.layers.BatchNormalization(),\n",
        "    tf.keras.layers.SpatialDropout2D(0.2),\n",
        "    tf.keras.layers.Conv2D(256, 3, 2, activation='relu', padding='same'),\n",
        "    tf.keras.layers.BatchNormalization(),\n",
        "    tf.keras.layers.SpatialDropout2D(0.2),\n",
        "    tf.keras.layers.Conv2D(512, 3, 2, activation='relu', padding='same'),\n",
        "    tf.keras.layers.BatchNormalization(),\n",
        "    tf.keras.layers.SpatialDropout2D(0.2),\n",
        "    tf.keras.layers.Flatten(),\n",
        "    tf.keras.layers.Dense(2 * latent_dim), # 2 since we encode mean and standard deviation\n",
        "])\n",
        "encoder.summary()"
      ]
    },
    {
      "cell_type": "code",
      "execution_count": null,
      "metadata": {
        "colab": {
          "base_uri": "https://localhost:8080/"
        },
        "id": "E01vcaPxE4Hn",
        "outputId": "2a061882-a7cc-4928-cea3-4dfc484e2fae"
      },
      "outputs": [
        {
          "output_type": "stream",
          "name": "stdout",
          "text": [
            "Model: \"sequential_1\"\n",
            "_________________________________________________________________\n",
            " Layer (type)                Output Shape              Param #   \n",
            "=================================================================\n",
            " dense_1 (Dense)             (None, 18432)             9455616   \n",
            "                                                                 \n",
            " reshape (Reshape)           (None, 6, 6, 512)         0         \n",
            "                                                                 \n",
            " conv2d_transpose (Conv2DTr  (None, 12, 12, 512)       2359808   \n",
            " anspose)                                                        \n",
            "                                                                 \n",
            " batch_normalization_4 (Bat  (None, 12, 12, 512)       2048      \n",
            " chNormalization)                                                \n",
            "                                                                 \n",
            " spatial_dropout2d_4 (Spati  (None, 12, 12, 512)       0         \n",
            " alDropout2D)                                                    \n",
            "                                                                 \n",
            " conv2d_transpose_1 (Conv2D  (None, 24, 24, 256)       1179904   \n",
            " Transpose)                                                      \n",
            "                                                                 \n",
            " batch_normalization_5 (Bat  (None, 24, 24, 256)       1024      \n",
            " chNormalization)                                                \n",
            "                                                                 \n",
            " spatial_dropout2d_5 (Spati  (None, 24, 24, 256)       0         \n",
            " alDropout2D)                                                    \n",
            "                                                                 \n",
            " conv2d_transpose_2 (Conv2D  (None, 48, 48, 128)       295040    \n",
            " Transpose)                                                      \n",
            "                                                                 \n",
            " batch_normalization_6 (Bat  (None, 48, 48, 128)       512       \n",
            " chNormalization)                                                \n",
            "                                                                 \n",
            " spatial_dropout2d_6 (Spati  (None, 48, 48, 128)       0         \n",
            " alDropout2D)                                                    \n",
            "                                                                 \n",
            " conv2d_transpose_3 (Conv2D  (None, 96, 96, 64)        73792     \n",
            " Transpose)                                                      \n",
            "                                                                 \n",
            " batch_normalization_7 (Bat  (None, 96, 96, 64)        256       \n",
            " chNormalization)                                                \n",
            "                                                                 \n",
            " spatial_dropout2d_7 (Spati  (None, 96, 96, 64)        0         \n",
            " alDropout2D)                                                    \n",
            "                                                                 \n",
            " conv2d_transpose_4 (Conv2D  (None, 96, 96, 3)         1731      \n",
            " Transpose)                                                      \n",
            "                                                                 \n",
            "=================================================================\n",
            "Total params: 13369731 (51.00 MB)\n",
            "Trainable params: 13367811 (50.99 MB)\n",
            "Non-trainable params: 1920 (7.50 KB)\n",
            "_________________________________________________________________\n"
          ]
        }
      ],
      "source": [
        "# decoder architecture\n",
        "decoder = tf.keras.models.Sequential([\n",
        "    tf.keras.layers.Dense(units=6*6*512, activation='relu', input_shape=(latent_dim,)),\n",
        "    tf.keras.layers.Reshape(target_shape=(6, 6, 512)), # To get in \"image format\"\n",
        "    tf.keras.layers.Conv2DTranspose(512, 3, 2, padding='same', activation='relu'),\n",
        "    tf.keras.layers.BatchNormalization(),\n",
        "    tf.keras.layers.SpatialDropout2D(0.2),\n",
        "    tf.keras.layers.Conv2DTranspose(256, 3, 2, padding='same', activation='relu'),\n",
        "    tf.keras.layers.BatchNormalization(),\n",
        "    tf.keras.layers.SpatialDropout2D(0.2),\n",
        "    tf.keras.layers.Conv2DTranspose(128, 3, 2, padding='same', activation='relu'),\n",
        "    tf.keras.layers.BatchNormalization(),\n",
        "    tf.keras.layers.SpatialDropout2D(0.2),\n",
        "    tf.keras.layers.Conv2DTranspose(64, 3, 2, padding='same', activation='relu'),\n",
        "    tf.keras.layers.BatchNormalization(),\n",
        "    tf.keras.layers.SpatialDropout2D(0.2),\n",
        "    tf.keras.layers.Conv2DTranspose(3, 3, 1, padding='same'),\n",
        "])\n",
        "decoder.summary()"
      ]
    },
    {
      "cell_type": "code",
      "execution_count": null,
      "metadata": {
        "id": "XaUHDEWfE6MT"
      },
      "outputs": [],
      "source": [
        "# build model\n",
        "model = VAE(latent_dim, encoder, decoder)\n",
        "optimizer = tf.keras.optimizers.Adam(1e-4)\n",
        "test_sample = next(iter(train_dataset.take(1)))[:16]"
      ]
    },
    {
      "cell_type": "code",
      "execution_count": null,
      "metadata": {
        "id": "m4jl30CxE8ZF",
        "colab": {
          "base_uri": "https://localhost:8080/",
          "height": 1000
        },
        "outputId": "8d0d0263-35c5-417f-fd50-3724bf6d151e"
      },
      "outputs": [],
      "source": [
        "# fit model\n",
        "loss_value = []\n",
        "\n",
        "for epoch in range(20):\n",
        "    for train_x in train_dataset:\n",
        "        train_step(model, train_x, optimizer)\n",
        "\n",
        "    loss = tf.keras.metrics.Mean()\n",
        "    for val_x in val_dataset:\n",
        "        loss(compute_loss(model, val_x))\n",
        "    variational_lower_bound = -loss.result()\n",
        "\n",
        "    loss_value.append(variational_lower_bound)\n",
        "\n",
        "    print(f'Epoch: {epoch}, Test set variational lower bound: {variational_lower_bound}')\n",
        "    generate_and_show_images(model, epoch, test_sample)"
      ]
    },
    {
      "cell_type": "code",
      "source": [
        "# save weights from the decoder - must be used for reconstruction of images as preprocessing during classification\n",
        "decoder.save_weights('VAE_decoder_weights.h5')"
      ],
      "metadata": {
        "id": "3y9BTo99_0JH"
      },
      "execution_count": null,
      "outputs": []
    },
    {
      "cell_type": "code",
      "source": [
        "# use test dataset to predict the reconstucted images. These are in the following code used to calculate PSNR and MSE\n",
        "test_sample = X_test\n",
        "\n",
        "predicted = []\n",
        "\n",
        "def generate_images(model, test_sample, batch_size=32, max_predictions=None):\n",
        "    num_samples = len(test_sample)\n",
        "    if max_predictions is not None:\n",
        "        num_samples = min(num_samples, max_predictions)\n",
        "\n",
        "    for i in range(0, num_samples, batch_size):\n",
        "        batch = test_sample[i:i + batch_size]\n",
        "\n",
        "        mean, logvar = model.encode(batch)\n",
        "        z = model.reparameterize(mean, logvar)\n",
        "        predictions = model.sample(z)\n",
        "\n",
        "        for j in range(predictions.shape[0]):\n",
        "            predicted.append(predictions[j])\n",
        "\n",
        "# Generate images\n",
        "generate_images(model, test_sample, batch_size=32, max_predictions=None)\n",
        "\n",
        "# Check the length of the predicted list\n",
        "print(len(predicted))"
      ],
      "metadata": {
        "colab": {
          "base_uri": "https://localhost:8080/"
        },
        "id": "0GnDwxCNe2Cu",
        "outputId": "bceb5585-3ff1-46c6-8960-ace9bed89e99"
      },
      "execution_count": null,
      "outputs": [
        {
          "output_type": "stream",
          "name": "stdout",
          "text": [
            "7864\n"
          ]
        }
      ]
    },
    {
      "cell_type": "code",
      "source": [
        "# test size\n",
        "predicted_new= np.array(predicted)\n",
        "print(predicted_new.shape)"
      ],
      "metadata": {
        "colab": {
          "base_uri": "https://localhost:8080/"
        },
        "id": "u0x6k422e64b",
        "outputId": "e109f1b4-a081-4aa0-e110-fde4c3175d36"
      },
      "execution_count": null,
      "outputs": [
        {
          "output_type": "stream",
          "name": "stdout",
          "text": [
            "(7864, 96, 96, 3)\n"
          ]
        }
      ]
    },
    {
      "cell_type": "code",
      "source": [
        "# find mean squared error between the original images and the images in the test set\n",
        "def mse_reconstruction(reconstructed):\n",
        "  mse_reconstruction = np.mean(np.square(reconstructed - X_test))\n",
        "  return mse_reconstruction"
      ],
      "metadata": {
        "id": "zxOFr2mRe84f"
      },
      "execution_count": null,
      "outputs": []
    },
    {
      "cell_type": "code",
      "source": [
        "# Peak signal to noise ratio function\n",
        "from math import log10\n",
        "\n",
        "def PSNR(original, reconstructed):\n",
        "  PSNR_list = []\n",
        "  # set max to 1 (the highes intensity for a pixel), calculate Mean Square Error and Peak signal-to-noise-ratio\n",
        "  MAX = 1\n",
        "  MSE = np.mean((original.astype('float') - reconstructed.astype('float'))**2)\n",
        "  PSNR = 20 * log10(MAX/(MSE**0.5))\n",
        "\n",
        "  return PSNR"
      ],
      "metadata": {
        "id": "dTs279rne-xI"
      },
      "execution_count": null,
      "outputs": []
    },
    {
      "cell_type": "code",
      "source": [
        "# Find Peak signal-to-noise Ratio (PSNR) and mean squared error (MSE)\n",
        "def PSNR_MSE(reconstructed):\n",
        "\n",
        "  PSNR_list = []\n",
        "  for ori, recon in zip(X_test, reconstructed):\n",
        "    PSNR_value = PSNR(ori, recon)\n",
        "    PSNR_list.append(PSNR_value)\n",
        "\n",
        "  plt.hist(PSNR_list, bins=30, edgecolor='black')\n",
        "  plt.show\n",
        "\n",
        "  PSNR_mean = np.mean(PSNR_list)\n",
        "  PSNR_std = np.std(PSNR_list)\n",
        "\n",
        "  mse = mse_reconstruction(reconstructed)\n",
        "\n",
        "  return PSNR_mean, PSNR_std, mse"
      ],
      "metadata": {
        "id": "TV4XNi9vfFxk"
      },
      "execution_count": null,
      "outputs": []
    },
    {
      "cell_type": "code",
      "source": [
        "PSNR_MSE(predicted_new)"
      ],
      "metadata": {
        "colab": {
          "base_uri": "https://localhost:8080/",
          "height": 448
        },
        "id": "w2kTiTc4fIqU",
        "outputId": "f6ddc95d-7d16-472e-9358-d419575634af"
      },
      "execution_count": null,
      "outputs": [
        {
          "output_type": "execute_result",
          "data": {
            "text/plain": [
              "(17.133533315390142, 3.1319516037607045, 0.023497606)"
            ]
          },
          "metadata": {},
          "execution_count": 21
        },
        {
          "output_type": "display_data",
          "data": {
            "text/plain": [
              "<Figure size 640x480 with 1 Axes>"
            ],
            "image/png": "[encoded data removed]"
          },
          "metadata": {}
        }
      ]
    },
    {
      "cell_type": "code",
      "execution_count": null,
      "metadata": {
        "id": "ZUW4kO1xpQTN"
      },
      "outputs": [],
      "source": [
        "# predict the first images in X_val for visualization of images\n",
        "model = VAE(latent_dim, encoder, decoder)\n",
        "optimizer = tf.keras.optimizers.Adam(1e-4)\n",
        "test_sample = X_val[:16]\n",
        "\n",
        "predicted = []\n",
        "\n",
        "def generate_images(model, epoch, test_sample):\n",
        "    mean, logvar = model.encode(test_sample)\n",
        "    z = model.reparameterize(mean, logvar)\n",
        "    predictions = model.sample(z)\n",
        "    for i in range(predictions.shape[0]):\n",
        "        predicted.append(predictions[i:i+1])  # Append each prediction separately\n",
        "\n",
        "# Call the function to generate images\n",
        "generate_images(model, epoch, test_sample)\n"
      ]
    },
    {
      "cell_type": "code",
      "execution_count": null,
      "metadata": {
        "colab": {
          "base_uri": "https://localhost:8080/",
          "height": 688
        },
        "id": "4-AvNDpipjVe",
        "outputId": "0a1d2cbe-afb9-4cd9-e792-dc08aa13137f"
      },
      "outputs": [],
      "source": [
        "# Create a 2x8 subplot grid and display images\n",
        "fig, axs = plt.subplots(2, 8, figsize=(16, 4))\n",
        "\n",
        "for i in range(16):\n",
        "    row = i // 8\n",
        "    col = i % 8\n",
        "\n",
        "    axs[row, col].imshow(predicted[i][0, :, :, :])\n",
        "    #axs[row, col].set_title(f\"Image {i+1}\")\n",
        "    axs[row, col].axis('off')\n",
        "\n",
        "plt.tight_layout()\n",
        "plt.show()\n",
        "\n",
        "fig, axs = plt.subplots(2, 8, figsize=(16, 4))\n",
        "minival = X_val[:16]\n",
        "\n",
        "for i in range(16):\n",
        "    row = i // 8\n",
        "    col = i % 8\n",
        "\n",
        "    axs[row, col].imshow(minival[i])\n",
        "    #axs[row, col].set_title(f\"Image {i+1}\")\n",
        "    axs[row, col].axis('off')\n",
        "\n",
        "plt.tight_layout()\n",
        "plt.show()"
      ]
    },
    {
      "cell_type": "code",
      "execution_count": null,
      "metadata": {
        "colab": {
          "base_uri": "https://localhost:8080/",
          "height": 472
        },
        "id": "ilFtzQPtsPOp",
        "outputId": "b09f2f2f-f5df-4ffd-bea9-3be46d84be5f"
      },
      "outputs": [
        {
          "output_type": "display_data",
          "data": {
            "text/plain": [
              "<Figure size 640x480 with 1 Axes>"
            ],
            "image/png": "[encoded data removed]"
          },
          "metadata": {}
        }
      ],
      "source": [
        "# Plotting the variational lower bound against epochs\n",
        "loss = [-value for value in loss_value]\n",
        "\n",
        "plt.plot(loss)\n",
        "plt.xlabel('Epoch')\n",
        "plt.ylabel('Variational Lower Bound')\n",
        "plt.title('Variational Lower Bound vs Epochs')\n",
        "plt.show()"
      ]
    },
    {
      "cell_type": "code",
      "execution_count": null,
      "metadata": {
        "id": "niSFovz3A5RT"
      },
      "outputs": [],
      "source": [
        "# save loss\n",
        "np.save('eksamen/loss_VAE4.npy', loss)"
      ]
    },
    {
      "cell_type": "code",
      "execution_count": null,
      "metadata": {
        "id": "my685RqR0cTG",
        "colab": {
          "base_uri": "https://localhost:8080/"
        },
        "outputId": "790b9302-230a-47fa-af50-1a38b93f07b5"
      },
      "outputs": [
        {
          "output_type": "stream",
          "name": "stdout",
          "text": [
            "938/938 [==============================] - 2s 3ms/step\n"
          ]
        }
      ],
      "source": [
        "# make new datasets consisting of z (mean, logvar)\n",
        "# Xtrain is to big to be predicted and downloaded in one go... therefore it is perforemed in steps\n",
        "Xtrain1 = X_train[:30000]\n",
        "encoder = model.encoder\n",
        "Z_Xtrain1 = encoder.predict(Xtrain1)\n",
        "np.save('eksamen/Z_Xtrain1_VAE4.npy', Z_Xtrain1)"
      ]
    },
    {
      "cell_type": "code",
      "source": [
        "print(Z_Xtrain1.shape)"
      ],
      "metadata": {
        "colab": {
          "base_uri": "https://localhost:8080/"
        },
        "id": "PZZHJPgkBZrg",
        "outputId": "894de387-d147-48eb-9326-4bb19b05f71c"
      },
      "execution_count": null,
      "outputs": [
        {
          "output_type": "stream",
          "name": "stdout",
          "text": [
            "(30000, 1024)\n"
          ]
        }
      ]
    },
    {
      "cell_type": "code",
      "source": [
        "# Extract more samples - to big to be extracted at one go\n",
        "Xtrain2 = X_train[30000:35000]\n",
        "encoder = model.encoder\n",
        "Z_Xtrain2 = encoder.predict(Xtrain2)\n",
        "np.save('eksamen/Z_Xtrain2_VAE4.npy', Z_Xtrain2)"
      ],
      "metadata": {
        "colab": {
          "base_uri": "https://localhost:8080/"
        },
        "id": "C11LMRpCEN1z",
        "outputId": "60b2b5ca-37c6-4078-91ee-b15f31db9b44"
      },
      "execution_count": null,
      "outputs": [
        {
          "output_type": "stream",
          "name": "stdout",
          "text": [
            "157/157 [==============================] - 1s 3ms/step\n"
          ]
        }
      ]
    },
    {
      "cell_type": "code",
      "source": [
        "Xtrain3 = X_train[35000:40000]\n",
        "encoder = model.encoder\n",
        "Z_Xtrain3 = encoder.predict(Xtrain3)\n",
        "np.save('eksamen/Z_Xtrain3_VAE4.npy', Z_Xtrain3)"
      ],
      "metadata": {
        "colab": {
          "base_uri": "https://localhost:8080/"
        },
        "id": "MVywgDBxHadO",
        "outputId": "adf31391-c03c-47c9-f29a-c30c217a8cb5"
      },
      "execution_count": null,
      "outputs": [
        {
          "output_type": "stream",
          "name": "stdout",
          "text": [
            "157/157 [==============================] - 0s 3ms/step\n"
          ]
        }
      ]
    },
    {
      "cell_type": "code",
      "source": [
        "Xtrain4 = X_train[40000:43000]\n",
        "encoder = model.encoder\n",
        "Z_Xtrain4 = encoder.predict(Xtrain4)\n",
        "np.save('eksamen/Z_Xtrain4_VAE4.npy', Z_Xtrain4)"
      ],
      "metadata": {
        "colab": {
          "base_uri": "https://localhost:8080/"
        },
        "id": "3ssC39hjHhWp",
        "outputId": "2af01f5a-b566-4684-a8df-40558fabe71a"
      },
      "execution_count": null,
      "outputs": [
        {
          "output_type": "stream",
          "name": "stdout",
          "text": [
            "94/94 [==============================] - 0s 2ms/step\n"
          ]
        }
      ]
    },
    {
      "cell_type": "code",
      "source": [
        "Xtrain5 = X_train[43000:46000]\n",
        "encoder = model.encoder\n",
        "Z_Xtrain5 = encoder.predict(Xtrain5)\n",
        "np.save('eksamen/Z_Xtrain5_VAE4.npy', Z_Xtrain5)"
      ],
      "metadata": {
        "colab": {
          "base_uri": "https://localhost:8080/"
        },
        "id": "ft8WzV4HCOSK",
        "outputId": "d1511c39-4301-4d1c-894b-5ac562f18df2"
      },
      "execution_count": null,
      "outputs": [
        {
          "output_type": "stream",
          "name": "stdout",
          "text": [
            "94/94 [==============================] - 0s 3ms/step\n"
          ]
        }
      ]
    },
    {
      "cell_type": "code",
      "source": [
        "Xtrain6 = X_train[46000:51000]\n",
        "encoder = model.encoder\n",
        "Z_Xtrain6 = encoder.predict(Xtrain6)\n",
        "np.save('eksamen/Z_Xtrain6_VAE4.npy', Z_Xtrain6)"
      ],
      "metadata": {
        "colab": {
          "base_uri": "https://localhost:8080/"
        },
        "id": "U5a_skgtI6FH",
        "outputId": "8a3451ad-df06-49c8-9496-6beb49139b90"
      },
      "execution_count": null,
      "outputs": [
        {
          "output_type": "stream",
          "name": "stdout",
          "text": [
            "157/157 [==============================] - 0s 2ms/step\n"
          ]
        }
      ]
    },
    {
      "cell_type": "code",
      "source": [
        "Xtrain7 = X_train[46000:51000]\n",
        "encoder = model.encoder\n",
        "Z_Xtrain7 = encoder.predict(Xtrain7)\n",
        "np.save('eksamen/Z_Xtrain7_VAE4.npy', Z_Xtrain7)"
      ],
      "metadata": {
        "colab": {
          "base_uri": "https://localhost:8080/"
        },
        "id": "6OSzlCzKCrXO",
        "outputId": "e1d0be65-b894-40af-ee51-4f60695cb7bc"
      },
      "execution_count": null,
      "outputs": [
        {
          "output_type": "stream",
          "name": "stdout",
          "text": [
            "157/157 [==============================] - 0s 3ms/step\n"
          ]
        }
      ]
    },
    {
      "cell_type": "code",
      "source": [
        "Xtrain8 = X_train[51000:54000]\n",
        "encoder = model.encoder\n",
        "Z_Xtrain8 = encoder.predict(Xtrain8)\n",
        "np.save('eksamen/Z_Xtrain8_VAE4.npy', Z_Xtrain8)"
      ],
      "metadata": {
        "id": "r7UedRC3C8K0",
        "outputId": "5235d8ea-8787-4b60-c3b0-143cf9d0491e",
        "colab": {
          "base_uri": "https://localhost:8080/"
        }
      },
      "execution_count": null,
      "outputs": [
        {
          "output_type": "stream",
          "name": "stdout",
          "text": [
            "94/94 [==============================] - 0s 3ms/step\n"
          ]
        }
      ]
    },
    {
      "cell_type": "code",
      "source": [
        "Xtrain9 = X_train[54000:55050]\n",
        "encoder = model.encoder\n",
        "Z_Xtrain9 = encoder.predict(Xtrain9)\n",
        "np.save('eksamen/Z_Xtrain9_VAE4.npy', Z_Xtrain9)"
      ],
      "metadata": {
        "colab": {
          "base_uri": "https://localhost:8080/"
        },
        "id": "yldmfUdxISbp",
        "outputId": "b3d9c69c-7af9-486a-b7c1-0117c88e74e7"
      },
      "execution_count": null,
      "outputs": [
        {
          "output_type": "stream",
          "name": "stdout",
          "text": [
            "33/33 [==============================] - 0s 5ms/step\n"
          ]
        }
      ]
    },
    {
      "cell_type": "code",
      "execution_count": null,
      "metadata": {
        "id": "HYNSX0J6120q",
        "colab": {
          "base_uri": "https://localhost:8080/"
        },
        "outputId": "41b5b3a7-8a37-495a-a6d7-0457cead9b78"
      },
      "outputs": [
        {
          "output_type": "stream",
          "name": "stdout",
          "text": [
            "492/492 [==============================] - 2s 3ms/step\n",
            "(15729, 1024)\n"
          ]
        }
      ],
      "source": [
        "encoder = model.encoder\n",
        "Z_Xval = encoder.predict(X_val)\n",
        "np.save('eksamen/Z_Xval_VAE4.npy', Z_Xval)\n",
        "print(Z_Xval.shape)"
      ]
    },
    {
      "cell_type": "code",
      "execution_count": null,
      "metadata": {
        "id": "nIOvZjNi3QPp",
        "colab": {
          "base_uri": "https://localhost:8080/"
        },
        "outputId": "f00ad0fe-8749-4c8d-ab7d-503e9cfcd103"
      },
      "outputs": [
        {
          "output_type": "stream",
          "name": "stdout",
          "text": [
            "246/246 [==============================] - 1s 3ms/step\n",
            "(7864, 1024)\n"
          ]
        }
      ],
      "source": [
        "encoder = model.encoder\n",
        "Z_Xtest = encoder.predict(X_test)\n",
        "np.save('eksamen/Z_Xtest_VAE4.npy', Z_Xtest)\n",
        "print(Z_Xtest.shape)"
      ]
    }
  ],
  "metadata": {
    "accelerator": "GPU",
    "colab": {
      "machine_shape": "hm",
      "provenance": [],
      "gpuType": "V100",
      "include_colab_link": true
    },
    "kernelspec": {
      "display_name": "Python 3",
      "name": "python3"
    },
    "language_info": {
      "name": "python"
    }
  },
  "nbformat": 4,
  "nbformat_minor": 0
}