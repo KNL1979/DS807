{
  "cells": [
    {
      "cell_type": "markdown",
      "metadata": {
        "id": "view-in-github",
        "colab_type": "text"
      },
      "source": [
        "<a href=\"https://colab.research.google.com/github/KNL1979/DS807/blob/main/Q3_CNN_compressed_img_from_VAE4.ipynb\" target=\"_parent\"><img src=\"https://colab.research.google.com/assets/colab-badge.svg\" alt=\"Open In Colab\"/></a>"
      ]
    },
    {
      "cell_type": "markdown",
      "source": [
        "# CNN classification using compressed images from VAE4"
      ],
      "metadata": {
        "id": "08p4ZhRqWDEl"
      }
    },
    {
      "cell_type": "code",
      "source": [
        "# U=upgrade and q=quiet\n",
        "!pip install wandb -Uq"
      ],
      "metadata": {
        "id": "8T8h6zQ16qqi",
        "colab": {
          "base_uri": "https://localhost:8080/"
        },
        "outputId": "f9246822-1f91-4d9a-c8fa-dcaeb429c9d6"
      },
      "execution_count": null,
      "outputs": [
        {
          "output_type": "stream",
          "name": "stdout",
          "text": [
            "\u001b[2K     \u001b[90m━━━━━━━━━━━━━━━━━━━━━━━━━━━━━━━━━━━━━━━━\u001b[0m \u001b[32m2.2/2.2 MB\u001b[0m \u001b[31m15.6 MB/s\u001b[0m eta \u001b[36m0:00:00\u001b[0m\n",
            "\u001b[2K     \u001b[90m━━━━━━━━━━━━━━━━━━━━━━━━━━━━━━━━━━━━━━━━\u001b[0m \u001b[32m196.4/196.4 kB\u001b[0m \u001b[31m13.7 MB/s\u001b[0m eta \u001b[36m0:00:00\u001b[0m\n",
            "\u001b[2K     \u001b[90m━━━━━━━━━━━━━━━━━━━━━━━━━━━━━━━━━━━━━━━━\u001b[0m \u001b[32m254.1/254.1 kB\u001b[0m \u001b[31m15.2 MB/s\u001b[0m eta \u001b[36m0:00:00\u001b[0m\n",
            "\u001b[2K     \u001b[90m━━━━━━━━━━━━━━━━━━━━━━━━━━━━━━━━━━━━━━━━\u001b[0m \u001b[32m62.7/62.7 kB\u001b[0m \u001b[31m7.2 MB/s\u001b[0m eta \u001b[36m0:00:00\u001b[0m\n",
            "\u001b[?25h"
          ]
        }
      ]
    },
    {
      "cell_type": "code",
      "source": [
        "from google.colab import drive\n",
        "drive.mount('/content/drive/')"
      ],
      "metadata": {
        "colab": {
          "base_uri": "https://localhost:8080/"
        },
        "id": "ySIbKmLg6q0t",
        "outputId": "ec058940-753c-4c7f-e308-f2632a57db80"
      },
      "execution_count": null,
      "outputs": [
        {
          "output_type": "stream",
          "name": "stdout",
          "text": [
            "Mounted at /content/drive/\n"
          ]
        }
      ]
    },
    {
      "cell_type": "code",
      "source": [
        "%cd '/content/drive/My Drive/Applied_ML'"
      ],
      "metadata": {
        "colab": {
          "base_uri": "https://localhost:8080/"
        },
        "id": "AlV9RKcN6q7n",
        "outputId": "70d343e8-5ab1-4509-f567-f685c390f68e"
      },
      "execution_count": null,
      "outputs": [
        {
          "output_type": "stream",
          "name": "stdout",
          "text": [
            "/content/drive/My Drive/Applied_ML\n"
          ]
        }
      ]
    },
    {
      "cell_type": "code",
      "source": [
        "import os\n",
        "import wandb\n",
        "from wandb.keras import WandbCallback\n",
        "\n",
        "import pprint\n",
        "\n",
        "import tensorflow as tf\n",
        "from tensorflow.keras.layers import Input, Dense, Conv2D, Conv2DTranspose, Flatten, Dropout,BatchNormalization, SpatialDropout2D, Reshape\n",
        "from tensorflow.keras.models import Model\n",
        "from tensorflow.keras.optimizers import SGD, Adam\n",
        "import numpy as np"
      ],
      "metadata": {
        "id": "EqcfJpHm6q_2"
      },
      "execution_count": null,
      "outputs": []
    },
    {
      "cell_type": "code",
      "source": [
        "# load compressed images (z vector) from VAE4\n",
        "# The x_train is in many subsets because of RAM limitations and other computer issues during extraction of the compressed z data.\n",
        "X_train1 = np.load('eksamen/VAE4/Z_Xtrain1_VAE4.npy')\n",
        "X_train2 = np.load('eksamen/VAE4/Z_Xtrain2_VAE4.npy')\n",
        "X_train3 = np.load('eksamen/VAE4/Z_Xtrain3_VAE4.npy')\n",
        "X_train4 = np.load('eksamen/VAE4/Z_Xtrain4_VAE4.npy')\n",
        "X_train5 = np.load('eksamen/VAE4/Z_Xtrain5_VAE4.npy')\n",
        "X_train6 = np.load('eksamen/VAE4/Z_Xtrain6_VAE4.npy')\n",
        "# X_train7 = np.load('C:/Users/mette/OneDrive/SDU\\semester_3/Applied_mashine_learning/Eksamen/VAE4_z_dat/asetZ_Xtrain7_VAE4.npy') dette interval er downloaded 2x ved en fejl\n",
        "X_train8 = np.load('eksamen/VAE4/Z_Xtrain8_VAE4.npy')\n",
        "X_train9 = np.load('eksamen/VAE4/Z_Xtrain9_VAE4.npy')\n",
        "\n",
        "X_val = np.load('eksamen/VAE4/Z_Xval_VAE4.npy')\n",
        "\n",
        "X_test = np.load('eksamen/VAE4/Z_Xtest_VAE4.npy')"
      ],
      "metadata": {
        "id": "fhCE6Bjk6rEl"
      },
      "execution_count": null,
      "outputs": []
    },
    {
      "cell_type": "code",
      "source": [
        "print(X_train1.shape, X_train2.shape, X_train3.shape, X_train4.shape, X_train5.shape,X_train6.shape, X_train8.shape, X_train9.shape, X_val.shape, X_test.shape)"
      ],
      "metadata": {
        "colab": {
          "base_uri": "https://localhost:8080/"
        },
        "id": "NBFCUu1xysTr",
        "outputId": "ac90be99-88ef-472a-f985-3d60b5b19c78"
      },
      "execution_count": null,
      "outputs": [
        {
          "output_type": "stream",
          "name": "stdout",
          "text": [
            "(30000, 1024) (5000, 1024) (5000, 1024) (3000, 1024) (3000, 1024) (5000, 1024) (3000, 1024) (1050, 1024) (15729, 1024) (7864, 1024)\n"
          ]
        }
      ]
    },
    {
      "cell_type": "code",
      "source": [
        "X_train = np.concatenate((X_train1, X_train2, X_train3, X_train4, X_train5, X_train6, X_train8, X_train9), axis=0)\n",
        "print(X_train.shape)"
      ],
      "metadata": {
        "colab": {
          "base_uri": "https://localhost:8080/"
        },
        "id": "YneGxkhczpZE",
        "outputId": "748cf19f-27a6-4dc9-b11c-2b0f7b5c6e4d"
      },
      "execution_count": null,
      "outputs": [
        {
          "output_type": "stream",
          "name": "stdout",
          "text": [
            "(55050, 1024)\n"
          ]
        }
      ]
    },
    {
      "cell_type": "code",
      "source": [
        "# load label\n",
        "y_train = np.load('eksamen/dataset/y_train_new.npy')\n",
        "y_val = np.load('eksamen/dataset/y_val_new.npy')\n",
        "y_test = np.load('eksamen/dataset/y_test_new.npy')\n",
        "print((y_train.shape, y_val.shape, y_test.shape))"
      ],
      "metadata": {
        "colab": {
          "base_uri": "https://localhost:8080/"
        },
        "id": "pCLVbHyCz8Jj",
        "outputId": "fbdb17ed-c0db-4eba-cdb8-22637fc7c6ae"
      },
      "execution_count": null,
      "outputs": [
        {
          "output_type": "stream",
          "name": "stdout",
          "text": [
            "((55050, 2), (15729, 2), (7864, 2))\n"
          ]
        }
      ]
    },
    {
      "cell_type": "code",
      "source": [
        "# merge train and validation datasets\n",
        "X_train_new = np.concatenate([X_train, X_val])\n",
        "y_train_new = np.concatenate([y_train, y_val])\n",
        "print(X_train_new.shape, y_train_new.shape)"
      ],
      "metadata": {
        "colab": {
          "base_uri": "https://localhost:8080/"
        },
        "id": "40jPzIKvgLHn",
        "outputId": "7bbfc4d4-c4a5-4629-c77c-580958545fdb"
      },
      "execution_count": null,
      "outputs": [
        {
          "output_type": "stream",
          "name": "stdout",
          "text": [
            "(70779, 1024) (70779, 2)\n"
          ]
        }
      ]
    },
    {
      "cell_type": "code",
      "source": [
        "# settings for Wandb\n",
        "os.environ[\"WANDB_API_KEY\"]= '1bff76125a134665e9d30342c447d7616c5fd3c3'\n",
        "os.environ[\"WANDB_NAME\"]= 'VAE4_CNN3_BEST'\n",
        "os.environ[\"WANDB_NOTEBOOK_NAME\"]='VAE4_CNN3_BEST.ipynb'\n",
        "run = wandb.init(project=\"VAE1_CNN\",entity='coffeegang',job_type='train')\n",
        "config = wandb.config"
      ],
      "metadata": {
        "colab": {
          "base_uri": "https://localhost:8080/",
          "height": 138
        },
        "id": "NxQQvPDu0k7g",
        "outputId": "431eb423-82b9-4b48-f9d1-004525d91cde"
      },
      "execution_count": null,
      "outputs": [
        {
          "output_type": "stream",
          "name": "stderr",
          "text": [
            "\u001b[34m\u001b[1mwandb\u001b[0m: \u001b[33mWARNING\u001b[0m WANDB_NOTEBOOK_NAME should be a path to a notebook file, couldn't find VAE4_CNN3_BEST.ipynb.\n",
            "\u001b[34m\u001b[1mwandb\u001b[0m: Currently logged in as: \u001b[33mmetterosenfjeld\u001b[0m (\u001b[33mcoffeegang\u001b[0m). Use \u001b[1m`wandb login --relogin`\u001b[0m to force relogin\n"
          ]
        },
        {
          "output_type": "display_data",
          "data": {
            "text/plain": [
              "<IPython.core.display.HTML object>"
            ],
            "text/html": [
              "Tracking run with wandb version 0.16.2"
            ]
          },
          "metadata": {}
        },
        {
          "output_type": "display_data",
          "data": {
            "text/plain": [
              "<IPython.core.display.HTML object>"
            ],
            "text/html": [
              "Run data is saved locally in <code>/content/drive/MyDrive/Applied_ML/wandb/run-20240130_084050-jh5cwcf2</code>"
            ]
          },
          "metadata": {}
        },
        {
          "output_type": "display_data",
          "data": {
            "text/plain": [
              "<IPython.core.display.HTML object>"
            ],
            "text/html": [
              "Syncing run <strong><a href='https://wandb.ai/coffeegang/VAE1_CNN/runs/jh5cwcf2' target=\"_blank\">VAE4_CNN3_BEST</a></strong> to <a href='https://wandb.ai/coffeegang/VAE1_CNN' target=\"_blank\">Weights & Biases</a> (<a href='https://wandb.me/run' target=\"_blank\">docs</a>)<br/>"
            ]
          },
          "metadata": {}
        },
        {
          "output_type": "display_data",
          "data": {
            "text/plain": [
              "<IPython.core.display.HTML object>"
            ],
            "text/html": [
              " View project at <a href='https://wandb.ai/coffeegang/VAE1_CNN' target=\"_blank\">https://wandb.ai/coffeegang/VAE1_CNN</a>"
            ]
          },
          "metadata": {}
        },
        {
          "output_type": "display_data",
          "data": {
            "text/plain": [
              "<IPython.core.display.HTML object>"
            ],
            "text/html": [
              " View run at <a href='https://wandb.ai/coffeegang/VAE1_CNN/runs/jh5cwcf2' target=\"_blank\">https://wandb.ai/coffeegang/VAE1_CNN/runs/jh5cwcf2</a>"
            ]
          },
          "metadata": {}
        }
      ]
    },
    {
      "cell_type": "code",
      "source": [
        "# Define WandbCallback for experiment tracking\n",
        "wandb_callback = WandbCallback(monitor='val_loss',verbose=True,save_model=False,\n",
        "                               log_weights=True,\n",
        "                               log_evaluation=True,\n",
        "                               validation_steps=2)\n",
        "callbacks = [wandb_callback]"
      ],
      "metadata": {
        "id": "Q8jkOFZp1U_H"
      },
      "execution_count": null,
      "outputs": []
    },
    {
      "cell_type": "code",
      "source": [
        "# define model\n",
        "model3 = tf.keras.models.Sequential([\n",
        "    Dense(units=6*6*512, activation='relu', input_shape=(1024,)),\n",
        "    Reshape(target_shape=(6, 6, 512)), # To get in \"image format\"\n",
        "    Conv2DTranspose(512, 3, 2, padding='same', activation='relu'),\n",
        "    BatchNormalization(),\n",
        "    SpatialDropout2D(0.2),\n",
        "    Conv2DTranspose(256, 3, 2, padding='same', activation='relu'),\n",
        "    BatchNormalization(),\n",
        "    SpatialDropout2D(0.2),\n",
        "    Conv2DTranspose(128, 3, 2, padding='same', activation='relu'),\n",
        "    BatchNormalization(),\n",
        "    SpatialDropout2D(0.2),\n",
        "    Conv2DTranspose(64, 3, 2, padding='same', activation='relu'),\n",
        "    BatchNormalization(),\n",
        "    SpatialDropout2D(0.2),\n",
        "    Conv2DTranspose(3, 3, 1, padding='same'), # The decoder architecture stops here\n",
        "    Conv2D(64, 3, 2, activation='relu', padding='same'),\n",
        "    BatchNormalization(),\n",
        "    SpatialDropout2D(0.2),\n",
        "    Conv2D(128, 3, 2, activation='relu', padding='same'),\n",
        "    BatchNormalization(),\n",
        "    SpatialDropout2D(0.2),\n",
        "    Flatten(),\n",
        "    Dense(500, activation='relu'),\n",
        "    Dense(100, activation='relu'),\n",
        "    Dense(2, activation='softmax')\n",
        "])\n",
        "model3.summary()"
      ],
      "metadata": {
        "colab": {
          "base_uri": "https://localhost:8080/"
        },
        "id": "u1ZPzDJK1V8F",
        "outputId": "3204ea50-d413-4191-80ef-87ba37b5c277"
      },
      "execution_count": null,
      "outputs": [
        {
          "output_type": "stream",
          "name": "stdout",
          "text": [
            "Model: \"sequential\"\n",
            "_________________________________________________________________\n",
            " Layer (type)                Output Shape              Param #   \n",
            "=================================================================\n",
            " dense (Dense)               (None, 18432)             18892800  \n",
            "                                                                 \n",
            " reshape (Reshape)           (None, 6, 6, 512)         0         \n",
            "                                                                 \n",
            " conv2d_transpose (Conv2DTr  (None, 12, 12, 512)       2359808   \n",
            " anspose)                                                        \n",
            "                                                                 \n",
            " batch_normalization (Batch  (None, 12, 12, 512)       2048      \n",
            " Normalization)                                                  \n",
            "                                                                 \n",
            " spatial_dropout2d (Spatial  (None, 12, 12, 512)       0         \n",
            " Dropout2D)                                                      \n",
            "                                                                 \n",
            " conv2d_transpose_1 (Conv2D  (None, 24, 24, 256)       1179904   \n",
            " Transpose)                                                      \n",
            "                                                                 \n",
            " batch_normalization_1 (Bat  (None, 24, 24, 256)       1024      \n",
            " chNormalization)                                                \n",
            "                                                                 \n",
            " spatial_dropout2d_1 (Spati  (None, 24, 24, 256)       0         \n",
            " alDropout2D)                                                    \n",
            "                                                                 \n",
            " conv2d_transpose_2 (Conv2D  (None, 48, 48, 128)       295040    \n",
            " Transpose)                                                      \n",
            "                                                                 \n",
            " batch_normalization_2 (Bat  (None, 48, 48, 128)       512       \n",
            " chNormalization)                                                \n",
            "                                                                 \n",
            " spatial_dropout2d_2 (Spati  (None, 48, 48, 128)       0         \n",
            " alDropout2D)                                                    \n",
            "                                                                 \n",
            " conv2d_transpose_3 (Conv2D  (None, 96, 96, 64)        73792     \n",
            " Transpose)                                                      \n",
            "                                                                 \n",
            " batch_normalization_3 (Bat  (None, 96, 96, 64)        256       \n",
            " chNormalization)                                                \n",
            "                                                                 \n",
            " spatial_dropout2d_3 (Spati  (None, 96, 96, 64)        0         \n",
            " alDropout2D)                                                    \n",
            "                                                                 \n",
            " conv2d_transpose_4 (Conv2D  (None, 96, 96, 3)         1731      \n",
            " Transpose)                                                      \n",
            "                                                                 \n",
            " conv2d (Conv2D)             (None, 48, 48, 64)        1792      \n",
            "                                                                 \n",
            " batch_normalization_4 (Bat  (None, 48, 48, 64)        256       \n",
            " chNormalization)                                                \n",
            "                                                                 \n",
            " spatial_dropout2d_4 (Spati  (None, 48, 48, 64)        0         \n",
            " alDropout2D)                                                    \n",
            "                                                                 \n",
            " conv2d_1 (Conv2D)           (None, 24, 24, 128)       73856     \n",
            "                                                                 \n",
            " batch_normalization_5 (Bat  (None, 24, 24, 128)       512       \n",
            " chNormalization)                                                \n",
            "                                                                 \n",
            " spatial_dropout2d_5 (Spati  (None, 24, 24, 128)       0         \n",
            " alDropout2D)                                                    \n",
            "                                                                 \n",
            " flatten (Flatten)           (None, 73728)             0         \n",
            "                                                                 \n",
            " dense_1 (Dense)             (None, 500)               36864500  \n",
            "                                                                 \n",
            " dense_2 (Dense)             (None, 100)               50100     \n",
            "                                                                 \n",
            " dense_3 (Dense)             (None, 2)                 202       \n",
            "                                                                 \n",
            "=================================================================\n",
            "Total params: 59798133 (228.11 MB)\n",
            "Trainable params: 59795829 (228.10 MB)\n",
            "Non-trainable params: 2304 (9.00 KB)\n",
            "_________________________________________________________________\n"
          ]
        }
      ]
    },
    {
      "cell_type": "code",
      "source": [
        "# compile model\n",
        "model3.compile(\n",
        "    optimizer='adam',\n",
        "    loss='categorical_crossentropy',\n",
        "    metrics=['accuracy'],\n",
        "    )"
      ],
      "metadata": {
        "id": "9jxV0gXH3Dam"
      },
      "execution_count": null,
      "outputs": []
    },
    {
      "cell_type": "code",
      "source": [
        "# fit model\n",
        "history3 = model3.fit(X_train_new, y_train_new, epochs=15, verbose=1, callbacks = callbacks)"
      ],
      "metadata": {
        "colab": {
          "base_uri": "https://localhost:8080/"
        },
        "id": "pClQdyUn27bd",
        "outputId": "5a825948-66bb-4fee-f189-29e241452c6b"
      },
      "execution_count": null,
      "outputs": [
        {
          "output_type": "stream",
          "name": "stderr",
          "text": [
            "\u001b[34m\u001b[1mwandb\u001b[0m: \u001b[33mWARNING\u001b[0m WandbCallback is unable to read validation_data from trainer and therefore cannot log validation data. Ensure Keras is properly patched by calling `from wandb.keras import WandbCallback` at the top of your script.\n"
          ]
        },
        {
          "output_type": "stream",
          "name": "stdout",
          "text": [
            "Epoch 1/15\n",
            "   5/2212 [..............................] - ETA: 1:17 - loss: 6.2794 - accuracy: 0.6187"
          ]
        },
        {
          "output_type": "stream",
          "name": "stderr",
          "text": [
            "WARNING:tensorflow:Callback method `on_train_batch_end` is slow compared to the batch time (batch time: 0.0175s vs `on_train_batch_end` time: 0.0178s). Check your callbacks.\n"
          ]
        },
        {
          "output_type": "stream",
          "name": "stdout",
          "text": [
            "2212/2212 [==============================] - 87s 35ms/step - loss: 0.6155 - accuracy: 0.6873\n",
            "Epoch 2/15\n",
            "2212/2212 [==============================] - 76s 35ms/step - loss: 0.5012 - accuracy: 0.7530\n",
            "Epoch 3/15\n",
            "2212/2212 [==============================] - 76s 34ms/step - loss: 0.4834 - accuracy: 0.7675\n",
            "Epoch 4/15\n",
            "2212/2212 [==============================] - 76s 34ms/step - loss: 0.4712 - accuracy: 0.7718\n",
            "Epoch 5/15\n",
            "2212/2212 [==============================] - 76s 34ms/step - loss: 0.4604 - accuracy: 0.7781\n",
            "Epoch 6/15\n",
            "2212/2212 [==============================] - 76s 34ms/step - loss: 0.4540 - accuracy: 0.7821\n",
            "Epoch 7/15\n",
            "2212/2212 [==============================] - 76s 34ms/step - loss: 0.4446 - accuracy: 0.7848\n",
            "Epoch 8/15\n",
            "2212/2212 [==============================] - 76s 34ms/step - loss: 0.4366 - accuracy: 0.7895\n",
            "Epoch 9/15\n",
            "2212/2212 [==============================] - 76s 34ms/step - loss: 0.4286 - accuracy: 0.7933\n",
            "Epoch 10/15\n",
            "2212/2212 [==============================] - 76s 34ms/step - loss: 0.4205 - accuracy: 0.7974\n",
            "Epoch 11/15\n",
            "2212/2212 [==============================] - 76s 34ms/step - loss: 0.4116 - accuracy: 0.8034\n",
            "Epoch 12/15\n",
            "2212/2212 [==============================] - 76s 34ms/step - loss: 0.4034 - accuracy: 0.8093\n",
            "Epoch 13/15\n",
            "2212/2212 [==============================] - 76s 34ms/step - loss: 0.3912 - accuracy: 0.8141\n",
            "Epoch 14/15\n",
            "2212/2212 [==============================] - 76s 34ms/step - loss: 0.3790 - accuracy: 0.8232\n",
            "Epoch 15/15\n",
            "2212/2212 [==============================] - 76s 34ms/step - loss: 0.3632 - accuracy: 0.8308\n"
          ]
        }
      ]
    },
    {
      "cell_type": "code",
      "source": [
        "wandb.finish()"
      ],
      "metadata": {
        "colab": {
          "base_uri": "https://localhost:8080/",
          "height": 229,
          "referenced_widgets": [
            "02c1a9e67b644c75ac8a414d66f41815",
            "38fefc4c81c444cd94bbeb0452acc803",
            "a0da6faa76444b0cb0b20a91618c2d3a",
            "593049bf2d7f4661bee60b02e4c35933",
            "84663881196b42e09999b2ce7b3750b2",
            "184b5a5bc7ea49dcb73f074ef9822106",
            "e122b1273dcd45ad9ddb31274c110d8e",
            "8bb3cea1986f4b929e3d3b7c8b4f6eb6"
          ]
        },
        "id": "wOBhYUfsI66a",
        "outputId": "2835fc7c-51de-4927-a083-7a8ff691dfca"
      },
      "execution_count": null,
      "outputs": [
        {
          "output_type": "display_data",
          "data": {
            "text/plain": [
              "VBox(children=(Label(value='0.006 MB of 0.006 MB uploaded\\r'), FloatProgress(value=1.0, max=1.0)))"
            ],
            "application/vnd.jupyter.widget-view+json": {
              "version_major": 2,
              "version_minor": 0,
              "model_id": "02c1a9e67b644c75ac8a414d66f41815"
            }
          },
          "metadata": {}
        },
        {
          "output_type": "display_data",
          "data": {
            "text/plain": [
              "<IPython.core.display.HTML object>"
            ],
            "text/html": [
              "<style>\n",
              "    table.wandb td:nth-child(1) { padding: 0 10px; text-align: left ; width: auto;} td:nth-child(2) {text-align: left ; width: 100%}\n",
              "    .wandb-row { display: flex; flex-direction: row; flex-wrap: wrap; justify-content: flex-start; width: 100% }\n",
              "    .wandb-col { display: flex; flex-direction: column; flex-basis: 100%; flex: 1; padding: 10px; }\n",
              "    </style>\n",
              "<div class=\"wandb-row\"><div class=\"wandb-col\"><h3>Run history:</h3><br/><table class=\"wandb\"><tr><td>accuracy</td><td>▁▄▅▅▅▆▆▆▆▆▇▇▇██</td></tr><tr><td>epoch</td><td>▁▁▂▃▃▃▄▅▅▅▆▇▇▇█</td></tr><tr><td>loss</td><td>█▅▄▄▄▄▃▃▃▃▂▂▂▁▁</td></tr></table><br/></div><div class=\"wandb-col\"><h3>Run summary:</h3><br/><table class=\"wandb\"><tr><td>accuracy</td><td>0.8308</td></tr><tr><td>epoch</td><td>14</td></tr><tr><td>loss</td><td>0.36325</td></tr></table><br/></div></div>"
            ]
          },
          "metadata": {}
        },
        {
          "output_type": "display_data",
          "data": {
            "text/plain": [
              "<IPython.core.display.HTML object>"
            ],
            "text/html": [
              " View run <strong style=\"color:#cdcd00\">VAE4_CNN3_BEST</strong> at: <a href='https://wandb.ai/coffeegang/VAE1_CNN/runs/jh5cwcf2' target=\"_blank\">https://wandb.ai/coffeegang/VAE1_CNN/runs/jh5cwcf2</a><br/>Synced 5 W&B file(s), 1 media file(s), 0 artifact file(s) and 0 other file(s)"
            ]
          },
          "metadata": {}
        },
        {
          "output_type": "display_data",
          "data": {
            "text/plain": [
              "<IPython.core.display.HTML object>"
            ],
            "text/html": [
              "Find logs at: <code>./wandb/run-20240130_084050-jh5cwcf2/logs</code>"
            ]
          },
          "metadata": {}
        }
      ]
    },
    {
      "cell_type": "code",
      "source": [
        "# evaluate test dataset\n",
        "result = model3.evaluate(X_test,y_test)"
      ],
      "metadata": {
        "id": "JgEhQzb6tN_U",
        "colab": {
          "base_uri": "https://localhost:8080/"
        },
        "outputId": "65c02bb7-e1d9-40e5-99a4-e69df775d35c"
      },
      "execution_count": null,
      "outputs": [
        {
          "output_type": "stream",
          "name": "stdout",
          "text": [
            "246/246 [==============================] - 3s 11ms/step - loss: 0.4703 - accuracy: 0.7968\n"
          ]
        }
      ]
    },
    {
      "cell_type": "markdown",
      "source": [],
      "metadata": {
        "id": "bWHgbyFV0h5I"
      }
    }
  ],
  "metadata": {
    "accelerator": "GPU",
    "colab": {
      "machine_shape": "hm",
      "provenance": [],
      "gpuType": "V100",
      "include_colab_link": true
    },
    "kernelspec": {
      "display_name": "Python 3",
      "name": "python3"
    },
    "language_info": {
      "name": "python"
    },
    "widgets": {
      "application/vnd.jupyter.widget-state+json": {
        "02c1a9e67b644c75ac8a414d66f41815": {
          "model_module": "@jupyter-widgets/controls",
          "model_name": "VBoxModel",
          "model_module_version": "1.5.0",
          "state": {
            "_dom_classes": [],
            "_model_module": "@jupyter-widgets/controls",
            "_model_module_version": "1.5.0",
            "_model_name": "VBoxModel",
            "_view_count": null,
            "_view_module": "@jupyter-widgets/controls",
            "_view_module_version": "1.5.0",
            "_view_name": "VBoxView",
            "box_style": "",
            "children": [
              "IPY_MODEL_38fefc4c81c444cd94bbeb0452acc803",
              "IPY_MODEL_a0da6faa76444b0cb0b20a91618c2d3a"
            ],
            "layout": "IPY_MODEL_593049bf2d7f4661bee60b02e4c35933"
          }
        },
        "38fefc4c81c444cd94bbeb0452acc803": {
          "model_module": "@jupyter-widgets/controls",
          "model_name": "LabelModel",
          "model_module_version": "1.5.0",
          "state": {
            "_dom_classes": [],
            "_model_module": "@jupyter-widgets/controls",
            "_model_module_version": "1.5.0",
            "_model_name": "LabelModel",
            "_view_count": null,
            "_view_module": "@jupyter-widgets/controls",
            "_view_module_version": "1.5.0",
            "_view_name": "LabelView",
            "description": "",
            "description_tooltip": null,
            "layout": "IPY_MODEL_84663881196b42e09999b2ce7b3750b2",
            "placeholder": "​",
            "style": "IPY_MODEL_184b5a5bc7ea49dcb73f074ef9822106",
            "value": "0.065 MB of 0.065 MB uploaded\r"
          }
        },
        "a0da6faa76444b0cb0b20a91618c2d3a": {
          "model_module": "@jupyter-widgets/controls",
          "model_name": "FloatProgressModel",
          "model_module_version": "1.5.0",
          "state": {
            "_dom_classes": [],
            "_model_module": "@jupyter-widgets/controls",
            "_model_module_version": "1.5.0",
            "_model_name": "FloatProgressModel",
            "_view_count": null,
            "_view_module": "@jupyter-widgets/controls",
            "_view_module_version": "1.5.0",
            "_view_name": "ProgressView",
            "bar_style": "",
            "description": "",
            "description_tooltip": null,
            "layout": "IPY_MODEL_e122b1273dcd45ad9ddb31274c110d8e",
            "max": 1,
            "min": 0,
            "orientation": "horizontal",
            "style": "IPY_MODEL_8bb3cea1986f4b929e3d3b7c8b4f6eb6",
            "value": 1
          }
        },
        "593049bf2d7f4661bee60b02e4c35933": {
          "model_module": "@jupyter-widgets/base",
          "model_name": "LayoutModel",
          "model_module_version": "1.2.0",
          "state": {
            "_model_module": "@jupyter-widgets/base",
            "_model_module_version": "1.2.0",
            "_model_name": "LayoutModel",
            "_view_count": null,
            "_view_module": "@jupyter-widgets/base",
            "_view_module_version": "1.2.0",
            "_view_name": "LayoutView",
            "align_content": null,
            "align_items": null,
            "align_self": null,
            "border": null,
            "bottom": null,
            "display": null,
            "flex": null,
            "flex_flow": null,
            "grid_area": null,
            "grid_auto_columns": null,
            "grid_auto_flow": null,
            "grid_auto_rows": null,
            "grid_column": null,
            "grid_gap": null,
            "grid_row": null,
            "grid_template_areas": null,
            "grid_template_columns": null,
            "grid_template_rows": null,
            "height": null,
            "justify_content": null,
            "justify_items": null,
            "left": null,
            "margin": null,
            "max_height": null,
            "max_width": null,
            "min_height": null,
            "min_width": null,
            "object_fit": null,
            "object_position": null,
            "order": null,
            "overflow": null,
            "overflow_x": null,
            "overflow_y": null,
            "padding": null,
            "right": null,
            "top": null,
            "visibility": null,
            "width": null
          }
        },
        "84663881196b42e09999b2ce7b3750b2": {
          "model_module": "@jupyter-widgets/base",
          "model_name": "LayoutModel",
          "model_module_version": "1.2.0",
          "state": {
            "_model_module": "@jupyter-widgets/base",
            "_model_module_version": "1.2.0",
            "_model_name": "LayoutModel",
            "_view_count": null,
            "_view_module": "@jupyter-widgets/base",
            "_view_module_version": "1.2.0",
            "_view_name": "LayoutView",
            "align_content": null,
            "align_items": null,
            "align_self": null,
            "border": null,
            "bottom": null,
            "display": null,
            "flex": null,
            "flex_flow": null,
            "grid_area": null,
            "grid_auto_columns": null,
            "grid_auto_flow": null,
            "grid_auto_rows": null,
            "grid_column": null,
            "grid_gap": null,
            "grid_row": null,
            "grid_template_areas": null,
            "grid_template_columns": null,
            "grid_template_rows": null,
            "height": null,
            "justify_content": null,
            "justify_items": null,
            "left": null,
            "margin": null,
            "max_height": null,
            "max_width": null,
            "min_height": null,
            "min_width": null,
            "object_fit": null,
            "object_position": null,
            "order": null,
            "overflow": null,
            "overflow_x": null,
            "overflow_y": null,
            "padding": null,
            "right": null,
            "top": null,
            "visibility": null,
            "width": null
          }
        },
        "184b5a5bc7ea49dcb73f074ef9822106": {
          "model_module": "@jupyter-widgets/controls",
          "model_name": "DescriptionStyleModel",
          "model_module_version": "1.5.0",
          "state": {
            "_model_module": "@jupyter-widgets/controls",
            "_model_module_version": "1.5.0",
            "_model_name": "DescriptionStyleModel",
            "_view_count": null,
            "_view_module": "@jupyter-widgets/base",
            "_view_module_version": "1.2.0",
            "_view_name": "StyleView",
            "description_width": ""
          }
        },
        "e122b1273dcd45ad9ddb31274c110d8e": {
          "model_module": "@jupyter-widgets/base",
          "model_name": "LayoutModel",
          "model_module_version": "1.2.0",
          "state": {
            "_model_module": "@jupyter-widgets/base",
            "_model_module_version": "1.2.0",
            "_model_name": "LayoutModel",
            "_view_count": null,
            "_view_module": "@jupyter-widgets/base",
            "_view_module_version": "1.2.0",
            "_view_name": "LayoutView",
            "align_content": null,
            "align_items": null,
            "align_self": null,
            "border": null,
            "bottom": null,
            "display": null,
            "flex": null,
            "flex_flow": null,
            "grid_area": null,
            "grid_auto_columns": null,
            "grid_auto_flow": null,
            "grid_auto_rows": null,
            "grid_column": null,
            "grid_gap": null,
            "grid_row": null,
            "grid_template_areas": null,
            "grid_template_columns": null,
            "grid_template_rows": null,
            "height": null,
            "justify_content": null,
            "justify_items": null,
            "left": null,
            "margin": null,
            "max_height": null,
            "max_width": null,
            "min_height": null,
            "min_width": null,
            "object_fit": null,
            "object_position": null,
            "order": null,
            "overflow": null,
            "overflow_x": null,
            "overflow_y": null,
            "padding": null,
            "right": null,
            "top": null,
            "visibility": null,
            "width": null
          }
        },
        "8bb3cea1986f4b929e3d3b7c8b4f6eb6": {
          "model_module": "@jupyter-widgets/controls",
          "model_name": "ProgressStyleModel",
          "model_module_version": "1.5.0",
          "state": {
            "_model_module": "@jupyter-widgets/controls",
            "_model_module_version": "1.5.0",
            "_model_name": "ProgressStyleModel",
            "_view_count": null,
            "_view_module": "@jupyter-widgets/base",
            "_view_module_version": "1.2.0",
            "_view_name": "StyleView",
            "bar_color": null,
            "description_width": ""
          }
        }
      }
    }
  },
  "nbformat": 4,
  "nbformat_minor": 0
}