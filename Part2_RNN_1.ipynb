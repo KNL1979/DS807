{
  "cells": [
    {
      "cell_type": "markdown",
      "metadata": {
        "id": "view-in-github",
        "colab_type": "text"
      },
      "source": [
        "<a href=\"https://colab.research.google.com/github/KNL1979/DS807/blob/main/Part2_RNN_1.ipynb\" target=\"_parent\"><img src=\"https://colab.research.google.com/assets/colab-badge.svg\" alt=\"Open In Colab\"/></a>"
      ]
    },
    {
      "cell_type": "markdown",
      "metadata": {
        "id": "JcYTcb4y8ZzH"
      },
      "source": [
        "## Loading libraries"
      ]
    },
    {
      "cell_type": "code",
      "source": [
        "!pip install wandb -Uq"
      ],
      "metadata": {
        "id": "jjYezjWoPinI"
      },
      "execution_count": null,
      "outputs": []
    },
    {
      "cell_type": "code",
      "execution_count": null,
      "metadata": {
        "id": "s83J-JX47akn"
      },
      "outputs": [],
      "source": [
        "import tensorflow as tf\n",
        "\n",
        "import wandb\n",
        "from wandb.keras import WandbCallback\n",
        "\n",
        "import pandas as pd\n",
        "#import requests\n",
        "#import random\n",
        "import gzip\n",
        "import json\n",
        "import io\n",
        "import os\n",
        "import numpy as np\n",
        "import matplotlib.pyplot as plt\n",
        "#import seaborn as sns\n",
        "\n",
        "from sklearn.model_selection import train_test_split"
      ]
    },
    {
      "cell_type": "code",
      "source": [
        "import psutil"
      ],
      "metadata": {
        "id": "GlIPnvbhLKKB"
      },
      "execution_count": null,
      "outputs": []
    },
    {
      "cell_type": "code",
      "source": [
        "print('RAM Used (GB):', psutil.virtual_memory()[3]/1000000000)\n",
        "psutil.virtual_memory()[2]"
      ],
      "metadata": {
        "colab": {
          "base_uri": "https://localhost:8080/"
        },
        "id": "5m76M43HLRWE",
        "outputId": "aecc5c06-f5e9-4cf0-9deb-24db779b7266"
      },
      "execution_count": null,
      "outputs": [
        {
          "output_type": "stream",
          "name": "stdout",
          "text": [
            "RAM Used (GB): 1.108885504\n"
          ]
        },
        {
          "output_type": "execute_result",
          "data": {
            "text/plain": [
              "2.2"
            ]
          },
          "metadata": {},
          "execution_count": 4
        }
      ]
    },
    {
      "cell_type": "markdown",
      "source": [
        "# Setting up with Google Drive"
      ],
      "metadata": {
        "id": "PWcj1Ompp73g"
      }
    },
    {
      "cell_type": "code",
      "execution_count": null,
      "metadata": {
        "colab": {
          "base_uri": "https://localhost:8080/"
        },
        "id": "A0tvCSQbE3oB",
        "outputId": "9022232f-a383-4eed-9a77-c23ec656b198"
      },
      "outputs": [
        {
          "output_type": "stream",
          "name": "stdout",
          "text": [
            "Drive already mounted at /content/gdrive; to attempt to forcibly remount, call drive.mount(\"/content/gdrive\", force_remount=True).\n"
          ]
        }
      ],
      "source": [
        "# Mount your google drive where you've saved your assignment folder\n",
        "from google.colab import drive\n",
        "drive.mount('/content/gdrive')"
      ]
    },
    {
      "cell_type": "code",
      "execution_count": null,
      "metadata": {
        "colab": {
          "base_uri": "https://localhost:8080/"
        },
        "id": "L8jPR7o6E4kE",
        "outputId": "38ca34db-4cdd-4eff-8fcc-3e3e0a6a7090"
      },
      "outputs": [
        {
          "output_type": "stream",
          "name": "stdout",
          "text": [
            "/content/gdrive/.shortcut-targets-by-id/1osKmyrDLORFSpes1mwrU-W7OXM-to6bK/AML_Exam/Problem2\n"
          ]
        }
      ],
      "source": [
        "# Replace '------' with the path such that \"DM890_assignment_1\" is your working directory\n",
        "%cd '/content/gdrive/My Drive/AML_Exam/Problem2'"
      ]
    },
    {
      "cell_type": "markdown",
      "metadata": {
        "id": "1jFc8n0zaNYx"
      },
      "source": [
        "# Function to sample the data, and data paths"
      ]
    },
    {
      "cell_type": "code",
      "execution_count": null,
      "metadata": {
        "id": "jwuGmNz6xH05"
      },
      "outputs": [],
      "source": [
        "def dataset_name(file_path):\n",
        "  dataset_name = os.path.splitext(os.path.basename(file_path))[0].replace('_5.json', '')\n",
        "  return dataset_name"
      ]
    },
    {
      "cell_type": "code",
      "source": [
        "def loading_gz(file_path, printing = False, load_all = False, max_load_samples = np.inf, max_samples_per_cat = 2000):\n",
        "  my_keys = ['overall', 'reviewText', 'summary']\n",
        "  with gzip.open(file_path, 'rt', encoding='utf-8') as g:\n",
        "          # Initialize an empty list to store sampled rows\n",
        "          sampled_data = []\n",
        "          for i, line in enumerate(g):\n",
        "              if printing:\n",
        "                if i % 1000 == 0:\n",
        "                    print(i)\n",
        "              data = json.loads(line)\n",
        "              sampled_data.append({k: data[k] for k in my_keys & data.keys()})\n",
        "              if i > max_load_samples:\n",
        "                break\n",
        "          sampled_data = pd.DataFrame(sampled_data)\n",
        "          sampled_data.dropna(inplace = True)\n",
        "\n",
        "          if load_all:\n",
        "            return sampled_data\n",
        "\n",
        "          nMax = sampled_data.groupby('overall').count().min()[0] * 3\n",
        "          #my_max = min(nMax, 2000)\n",
        "          res = sampled_data.groupby('overall').apply(lambda x: x.sample(n = min(nMax, len(x), max_samples_per_cat))).reset_index(drop = True)\n",
        "\n",
        "          return res\n"
      ],
      "metadata": {
        "id": "ngTUMbIjzrCO"
      },
      "execution_count": null,
      "outputs": []
    },
    {
      "cell_type": "code",
      "source": [
        "# List of file paths for your 29 datasets\n",
        "file_paths_train = [\n",
        "    '/content/gdrive/My Drive/AML_Exam/Problem2/data/Arts_Crafts_and_Sewing_5.json.gz',\n",
        "    '/content/gdrive/My Drive/AML_Exam/Problem2/data/Prime_Pantry_5.json.gz'\n",
        "]\n",
        "\n",
        "path_val  = '/content/gdrive/My Drive/AML_Exam/Problem2/data/All_Beauty_5.json.gz'\n",
        "\n",
        "path_test = '/content/gdrive/My Drive/AML_Exam/Problem2/data/Luxury_Beauty_5.json.gz'\n",
        "\n",
        "data_path_dict = {dataset_name(k):k for k in file_paths_train}\n"
      ],
      "metadata": {
        "id": "h6ABWCfqNgab"
      },
      "execution_count": null,
      "outputs": []
    },
    {
      "cell_type": "markdown",
      "source": [
        "# Loading data"
      ],
      "metadata": {
        "id": "A4XOPkW5K8Ow"
      }
    },
    {
      "cell_type": "code",
      "source": [
        "device_name = tf.test.gpu_device_name()\n",
        "if device_name != '/device:GPU:0':\n",
        "  raise SystemError('GPU device not found')\n",
        "print('Found GPU at: {}'.format(device_name))"
      ],
      "metadata": {
        "colab": {
          "base_uri": "https://localhost:8080/"
        },
        "id": "aw8WnDQ0QIw3",
        "outputId": "b75cc91f-5ec1-42c8-94c7-670203bd69fc"
      },
      "execution_count": null,
      "outputs": [
        {
          "output_type": "stream",
          "name": "stdout",
          "text": [
            "Found GPU at: /device:GPU:0\n"
          ]
        }
      ]
    },
    {
      "cell_type": "markdown",
      "source": [
        "## Defining Encoding function"
      ],
      "metadata": {
        "id": "Kigt2Q2_C3s5"
      }
    },
    {
      "cell_type": "code",
      "source": [
        "def my_encoder(x_train, x_test = None, MAX_VOCAB_SIZE = 1000, OUTPUT_LENGTH = None):\n",
        "  encoder = tf.keras.layers.TextVectorization(max_tokens=MAX_VOCAB_SIZE, output_sequence_length = OUTPUT_LENGTH)\n",
        "  encoder.adapt(x_train)\n",
        "  # vocab = np.array(encoder.get_vocabulary())\n",
        "\n",
        "  encoded_x = encoder(x_train)\n",
        "\n",
        "  if not pd.isnull(x_test).all():\n",
        "    encoded_x_test = encoder(x_test)\n",
        "    return encoded_x, encoded_x_test\n",
        "  else:\n",
        "    return encoded_x"
      ],
      "metadata": {
        "id": "K8oH16GvWhZy"
      },
      "execution_count": null,
      "outputs": []
    },
    {
      "cell_type": "markdown",
      "source": [
        "# WANDB initialization"
      ],
      "metadata": {
        "id": "wrNSbeIhPYNk"
      }
    },
    {
      "cell_type": "code",
      "source": [
        "#wandb.login()\n",
        "os.environ[\"WANDB_API_KEY\"] = \"f1dd10d2eaa5cc353bbe282583f7fc58b9b6c733\"\n",
        "sweep_navn = \"vocab and length\""
      ],
      "metadata": {
        "id": "f-wEhuJtPeB9"
      },
      "execution_count": null,
      "outputs": []
    },
    {
      "cell_type": "code",
      "source": [
        "# Configure the sweep – specify the parameters to search through, the search strategy, the optimization metric et all.\n",
        "sweep_config = {\n",
        "    'name': sweep_navn,\n",
        "    'method': 'grid', #grid, random\n",
        "    'metric': {\n",
        "        'name': 'loss',\n",
        "        'goal': 'minimize'\n",
        "    },\n",
        "    'parameters': {\n",
        "        'training_set_name': {'values': list(data_path_dict.keys())},\n",
        "        'vocab_size': {'values': [500,1000,1500,2000]},\n",
        "        'review_length': {'values': [None, 50, 100, 150, 200]},\n",
        "        #'epochs': {'values': [20]},\n",
        "        #'batch_size': {'values': [64]},\n",
        "        #'dropout': {'values': [0.0, 0.1, 0.2, 0.3, 0.4, 0.5]},\n",
        "        #'learning_rate': {'values': [0.0075]},\n",
        "        #'optimizer': {'values': ['adam', 'SGD']},\n",
        "        #'activation': {'values': ['relu']},\n",
        "        #'hidden_layer_size': {'values': [512, 1024]},\n",
        "        #'hidden_layers': {'min': 2, 'max': 5}\n",
        "    }\n",
        "}\n",
        "\n",
        "sweep_id = wandb.sweep(sweep_config, project=\"RNN_preliminary_tests\", entity='coffeegang')"
      ],
      "metadata": {
        "colab": {
          "base_uri": "https://localhost:8080/"
        },
        "id": "1t615gKwQH98",
        "outputId": "e269694e-7eb2-4a90-d745-4ee45c350f1a"
      },
      "execution_count": null,
      "outputs": [
        {
          "output_type": "stream",
          "name": "stdout",
          "text": [
            "Create sweep with ID: rd1v16t6\n",
            "Sweep URL: https://wandb.ai/coffeegang/RNN_preliminary_tests/sweeps/rd1v16t6\n"
          ]
        }
      ]
    },
    {
      "cell_type": "markdown",
      "source": [
        "## Setting up RNN with gpu"
      ],
      "metadata": {
        "id": "DDxal2M8L6hk"
      }
    },
    {
      "cell_type": "code",
      "source": [
        "def train_model():\n",
        "  config_defaults = {\n",
        "    'training_set_name': '',\n",
        "    'vocab_size': 1000,\n",
        "    'review_length': None,\n",
        "    #'train_size': int(50000/5),\n",
        "    'epochs': 50,\n",
        "    'batch_size': 64,\n",
        "    'learning_rate': 0.0075,\n",
        "    'optimizer': 'adam',\n",
        "    'validation_split': 0.3,\n",
        "  }\n",
        "\n",
        "  with tf.device('/gpu:0'):\n",
        "    # Initialize a new wandb run\n",
        "    wandb.init(config=config_defaults)\n",
        "\n",
        "    # Config is a variable that holds and saves hyperparameters and inputs\n",
        "    config = wandb.config\n",
        "\n",
        "    model = tf.keras.models.Sequential([\n",
        "        tf.keras.layers.Embedding(input_dim=config.vocab_size, output_dim=128),\n",
        "        tf.keras.layers.Bidirectional(tf.keras.layers.LSTM(64)),\n",
        "        #tf.keras.layers.LSTM(64),\n",
        "        tf.keras.layers.Dense(5, activation='softmax'),\n",
        "    ])\n",
        "\n",
        "    optimizer = tf.keras.optimizers.Adam(learning_rate = config.learning_rate)\n",
        "\n",
        "    model.compile(\n",
        "        loss = \"sparse_categorical_crossentropy\",\n",
        "        optimizer = optimizer,\n",
        "        metrics = ['accuracy'],\n",
        "    )\n",
        "\n",
        "    load_train = loading_gz(data_path_dict[config.training_set_name], max_load_samples = 1000000, max_samples_per_cat=config.train_size)\n",
        "    x_train = load_train['reviewText']\n",
        "    y_train = load_train['overall'] - 1 #the minus 1 is to adjust for the output of the model being [0,4]\n",
        "\n",
        "    load_val = loading_gz(path_val, load_all=True)\n",
        "    x_val = load_val['reviewText']\n",
        "    y_val = load_val['overall'] - 1 #the minus 1 is to adjust for the output of the model being [0,4]\n",
        "\n",
        "    encoded_train, encoded_val  = my_encoder(x_train, x_val, MAX_VOCAB_SIZE = config.vocab_size, OUTPUT_LENGTH = config.review_length)\n",
        "\n",
        "    wandb.log({\"size-train\": len(x_train), \"size-val\": len(x_val)})\n",
        "\n",
        "    model.fit(encoded_train, y_train.values,\n",
        "              epochs = config.epochs,\n",
        "              batch_size = config.batch_size,\n",
        "              validation_data=(encoded_val, y_val.values),\n",
        "              callbacks=[WandbCallback(save_model = False),\n",
        "                          tf.keras.callbacks.EarlyStopping(\n",
        "                              monitor=\"accuracy\",\n",
        "                              #min_delta=0.01,\n",
        "                              patience=3,\n",
        "                              #mode=\"max\"\n",
        "                          )])"
      ],
      "metadata": {
        "id": "rXmqeygSC3DJ"
      },
      "execution_count": null,
      "outputs": []
    },
    {
      "cell_type": "code",
      "source": [
        "wandb.agent(sweep_id, train_model)"
      ],
      "metadata": {
        "colab": {
          "base_uri": "https://localhost:8080/",
          "height": 1000,
          "referenced_widgets": [
            "13354681e3bd4bbba624c4ea0888769d",
            "7ca3be93a89845c3872e22bf732aa8bd",
            "0ec92ac5a35d4606950dfcc7a305bef4",
            "0d446c1f56ba4f63a6fede374e706332",
            "49c73c1a651543f3889e490e75aa26c0",
            "3442da96d465402eb8cebd6625fbc2d8",
            "d030970bbf5e420894e7918a25206815",
            "d761f1c4936a470eb49398a9288e3a10",
            "2a87a13ba3ab48679f57e34a7ca547bb",
            "135b37e8b6774a408a58ee9e80aec0ca",
            "d3745bdd6e2141e8893f5f9289f97d77",
            "8b45d0c9a8af44b69c35cead828c3e6c",
            "2d8f787636da4b64a3802f1d9e961973",
            "46495e401580424a93b5ad0e98b0cff5",
            "4c995991d5044af39a514f68b7aea492",
            "71aa17e2a429457586e63d88f9362c1d",
            "8e42e073cfa749e7b775ba9a14d4201f",
            "0ca34bcb3a5c428c861969855c4b103b",
            "2b0f5a4cb24d4dfaa5e6001a8510ccfa",
            "9b2d7c97170842218a7afec35dd4922f",
            "91d7a3d5433e44eba55ab4c445265b67",
            "298a5d49246e47dd8920cdaa85b57197",
            "ad9a4907bb8046c6a482ba0f3278c2f2",
            "8f9566bde92c48288deb741333a8d8ae",
            "a161a5653b824ac69cf5686d8e82678d",
            "75c1f3fe50264ca198961384e4d2f688",
            "ed13ac900d7947a1aa742a2782f4beab",
            "f53491db427042ae80ebb2abf708b3c8",
            "d959d7c3b92e41119c936509002c6c8e",
            "0792b198f052478698a13159da87f896",
            "d0e7f44933b946158de59c09ee9b701d",
            "5bbfa7dceb014638b923fb8e3c7ad12d",
            "f3c7ecabce0c4f038a8b95bee3894a26",
            "72862152f1604363a0cb6bfbe5170706",
            "d3ce239ff7344273b6d265800108fea1",
            "cfa3d34534294aaaad41aa26f223730d",
            "a8318475c9bf42ef9ff3b289c1a2031b",
            "5baaf753790d45a08cd74f8b4badd5ca",
            "ca4552f159e24f95969201ab12d384fa",
            "4957275056504b99bf6da43d4a3d6e1c",
            "9435323b6f354cc9afa241aeb670da5b",
            "98410063700f46088c9494c582574845",
            "5e856d8a3bd743a2ae46893ba88b3e39",
            "bbf3119c90074f1799fa964df741384a",
            "4fb3545bc38940538d5e282a0d6528fb",
            "d67fc397d1e84877ac832a85df555c24",
            "72c70a5b79d447cd901a636076415d7c",
            "d131bc30258b49609a71fa9ec896f574",
            "10b33732302b46b3bd2e293abec5d686",
            "3057f257ac5d46a08373ea62dbdaaa27",
            "8aeb6bb810b74bd8a576efc0adb33d5c",
            "cb522da8797548f2bb208da71fae94f5",
            "f2a7d6a44a014b16a83a89f8a3be6964",
            "831e268788d64ed78ade78e1d1244181",
            "fa4c2977e35e4543aff0f58964084b5f",
            "ec06f85fad0742238366dd7b514f18fd",
            "6bb9884c643d40aca404ea2be1227766",
            "6aef8bf0c1b64fbb9dd08dd5f2cd34f5",
            "4b90bd4b1b3e494980efaea7c8afc079",
            "1b2613004d6141e58129d4f64ecfbee8",
            "860c503ed5c347858319a165856d7f4c",
            "13375b55cc3a43dbaa237b41d17417ec",
            "6f95d832943049d98c133cd5d87d9fd3",
            "84a34689230945c5b786e9c17e2f4eb2",
            "4923695ee3d9439f8beb78bfcbf33ce1",
            "721333a8680149bf9aefc8d723ca6685",
            "ce04b4502de94554a37918e32f9ec08f",
            "98013418e7764ac4bc7b032a865cb03f",
            "d5b6112c880b44e6a81e9378028b1885",
            "0491e1337bf04297b45c884941f9ad6a",
            "e0666f60ca8e4d6a8f73b8b62d3a96c9",
            "d79a50abc52049fdb09509ba0799b023",
            "e6dc24aef61f4a2e865b500b63c6882f",
            "865dc71a88da488aaa20afeb83c0a4cc",
            "442c478b223e413b9b02d583210ebd7b",
            "91063fdc9c994d9f8ceca8b4899dbad5",
            "55a6e4a4f45c41e6bc12262a05b9c254",
            "ea72aa54aa26487fac2c8dadba30ee11",
            "4a661f344a214944b6932d58a8ebcdd7",
            "a832122dbabe4dff97a44a96ce260b2c",
            "ceda8324366a469b9b6ddb3372db9704",
            "01c1d52b9128422ba4473f2dc06965ae",
            "7033912519094210ae964227c065e3b8",
            "1d15cf6c22354c30af3e725e98019791",
            "fe839137fbf54d1480a807f50db0a06d",
            "fe02a067b8ef403f8c446bb7d6772365",
            "0c8541b5f833492ca72b0ae53c209fd5",
            "5c71bf18b19345a1bb7895e2b295e1b6",
            "6492989034ea4c498e5c381299bb8206",
            "7dfe21160011489ba4251a54c39bdee6",
            "a5c5c792deb64c68a9483d69744c9c82",
            "e74a6f71bd1a488896dbab7c8384e0a9",
            "7d3d2ba549934cd0bfcb236252467f9a",
            "492eb289a8844affb426de2f72f8ca5e",
            "8259360ad79a416a8dfb6b25a84b30d0",
            "8e0dcf7e7193403db8da8720d6d33ed1",
            "d4560a72ce394eb48f9282cb8309df83",
            "951fe23a27374899bf0919757f9cc18f",
            "7ae93df66ac647219d1acd12e9fc298c",
            "75b57823de844f098a3b3fb8d44482b5",
            "1b11d93a8b8848b4aa094d245377f1eb",
            "b32c40b9d7b24d2e9c694e29cf4b0b5a",
            "08bcff56e3124695a32ab13bb752d761",
            "116ec239090e4474be41c17953751957",
            "dd75b7034a9c41da81fc6eb32c1b9dbb",
            "9fb4aa5cf5274ef2b213b0ab79653f88",
            "90287507329143d38c0dd3205c8689c9",
            "184b85b494e847e091c3d639bf21ece9",
            "6700e50c530d4888b6aaa1dc37964bc9",
            "9a795e9354034f18a754f140ded17257",
            "8c36518af5b8479b865fcc328f30f5b6",
            "8b36b490f7f742fabf06dbe8ae1a2077",
            "f624added9e8421ba125d2557bf96bae",
            "770d6ed29fef48299f526e797eed18f6",
            "495be25acb3a4ca1b7df51cc053950b0",
            "d2ced712297e4fb89f6f3209e76025dd",
            "9e90786077a0440282e58630061b0911",
            "9bd923e6bc0e4657af97997906025a1c",
            "0b49fe9baa544612b8602cb5d5653181",
            "ec9158ea88594a7ebaaa99d8c683dec4",
            "1bf44828fdfc437687657d8e94326dc4",
            "fd64406951bb4a779796c5e962f3d634",
            "51fe70dcd84f4c6da8279f83613af9ae",
            "1888d05aaf6544c0acc06ff7a6d7b0ca",
            "550685f4067946ada82527f2cdb114b7",
            "734cd68b17d94e7ab3c2e7eb5a2764a8",
            "84260e84c2f64c85afb55f714b63e9b7",
            "0fdee1c6b245435fa77bb4f212f78b76",
            "52a5230205704628a94cf2157c787f25",
            "63c197da84544a21856e97b86606e8d4",
            "df52c2fd397d4196a8a566d435a9c53a",
            "2463325bd4e6463781333452ec272534",
            "39af3e17e80847e19a14cc5373f088c5",
            "469a97a09a4d4d8492d4b40c15879142",
            "8a6f5add1b28461887578ee18cca7d79",
            "2a4fd5a3b2314cf5a7456ce5e4f170a7",
            "c497a0937639440f9fd9b72107d2b923",
            "9a6b89a62e0c4c03876239d15ff3dbf2",
            "dd12e1190a974f03bd78576b4e2da0de",
            "f576099890eb45f0a645593668ec16bb",
            "0952030ae93246cdadb39ab213c225d5",
            "985f71f86ef14c318755daeb90c409ae",
            "c83bc6df1cbf4b30951cc0f42cbb0e84",
            "361d8ac80afc4c1691a60d6e98aaf60d",
            "7e7f2627ecb049ba82de4cda992ce809",
            "b6b5b4d1d734462c9e6ca96c2c47e469",
            "536db95735934d87810f4f51732be9db",
            "6583a50237c44d38b4f282b052783854",
            "3ed7a800a62d41b2a964542512d2c2a8",
            "16b4a644d65a4d91aa4a4a7af19cb79a",
            "65960174deb141d2b6c6fb7e4d842ba1",
            "f797f44fa46540e795d02d0d715e147d",
            "42f8c268df4941b1b7bd0a18b8b444da",
            "9471255e306d4943952dc9ac95476ab2",
            "a81e903a1cbc4d31828dad41b3d9491e",
            "ec20cc7a139b4c4a9b989ad4659a3b93",
            "9e3b83217a9a424fa6a7bcc322736957",
            "bf0584cc92694d0d8e094e8dba6b2b2f",
            "75684c22837c4eaf9c73cdb90c1e8948",
            "8c562846561f4a20ba5247a840596ea1",
            "ed2607e52a274fc29624fdc8c842d806",
            "07901b5405dc4eb4b38e58b42fae3335",
            "480ed7d41995476f9bae9c4435201ac1",
            "3aaca0645315424ea0d2b41df0795f42",
            "aad44e6a15a24973bb4379b9bb3c9523",
            "c78e18b6592741f6b1c9f5cf23365c53",
            "b72df14b014541c59b279cecbf96a3cc",
            "169c8e27993e495d80d4659872e54dbd",
            "efc932ddfb5a4c229131ce79111e12f5",
            "b8b8dffa7ce74792ad5e9dc10c4b6b00",
            "1ff50ff7f0874e4ebd72ecb1bdff7a33",
            "bf16dd5c7828448290ee68d84392e93a",
            "811fc2c1fa544894aa688342265e3bf8",
            "4cd64e21da084e729b0096660e8551a7",
            "dc7e998a07644707af12df01ab3687e4",
            "77c91427e4044e1b97f80bc3d143d7db",
            "d97c3320df7d4dc08d2df0379cef9106",
            "a2fd43d604e4491397f271034f80ab0e",
            "a5dc2982ea2e44b88c7a0e1ed8da64e4",
            "9159da01ae544584bae2fd9d5a20e56c",
            "63ecffb46a5343d18d4eed730b0b4c7a",
            "f972b7d63c8343b7b8c12c542c5c41a8",
            "49595744b7364bbb993b562cc2e046f4",
            "26223aa433fb465798a8a99f5a439b99",
            "aa58bfe0ebd24dde9ac5742c005730be",
            "2587e34ed77a49ceb61fd537da2e538c",
            "a7a57db7ed95495bb8d54db630a6f7d3",
            "163aa4bb372346afa61ed3dd540c8864",
            "a546c560cbb644058fe1bdc26d955fd6",
            "611cb7a905df44f7bd9616ac3ebd0bea",
            "8ffb33b561e74da1b1fd85df294410b1",
            "3b619aa29379441d9258dd261c7cbb3d",
            "745eadeeb20f4f9b817e38e9935d350c",
            "b5ce8acdd1984e3697f3019bb57fcb38",
            "6dc7e47478504f5a8ed61ebc4a8942a0",
            "e3a6064a8f1d457098ec81aa914396df",
            "c6c2da66198544b7be3df775ba864bf6",
            "d14a162f80974721bf68b0f707ca51eb",
            "dcb50fd3e072429b96945d3f49c90f22",
            "de90f79bed2b4fff95c5a37fd2b3474b",
            "3900a9c428e84d2489dddd64a338400b",
            "3fcb21977ec44b659c721648f49c75a7",
            "eee35aab6ad5444093caf4c2c980faf3",
            "cf589fc99dbe46c0b181bea12af9ec57",
            "8ef0817e267d412183e67f62acad914b",
            "a4eb9fbdc51d42008cbba74707d2d9b6",
            "6408c0f8e8244db89e68779a0bb426b2",
            "350cc7b7d34d44038b688f58522b2456",
            "d012f59310384d428286c429d2b253bf",
            "5769a166858146249fcd3222ee771eaf",
            "97fe9927ca3645b6978c1edb836ce46c",
            "f152b728afbd4fa293d9efc2d1d8efdb",
            "83662d67552647de9b587aa284cbe56c",
            "66b46aa57b2a49dfbd45c5f1c55558c6",
            "ccc999f6ed86400d96d7704c93c226fb",
            "b151fe9507a941ee81872beeaa6eb16e",
            "65ecf12102d44292a355dfaea986eccc",
            "f106bdfa64e74540aedeb31ba993f9f0",
            "bf42d4da593248a2a64b124a4247d61e",
            "af1f1a84eb344167a70a2fe37418b32a",
            "47383549620e470393ccfb823fc65b34",
            "e66d120b4e0545e7b7bc4c525fec3211",
            "a9f7b933867048429a2257cb0b503de5",
            "6f2b1bad692b435f9dd39bacc345a846",
            "781679a2354649aea4e5d14cae878a0a",
            "26511639319d45068bd2161f6baa8866",
            "64f31b9af463465e8ecc24a5925d696a",
            "72aa5d3f1106436fabd187b80eea7f07",
            "efd6a97bd5de4c6f8c903c91a6d66094",
            "517f9ea51dd1437db60460da228c4943",
            "4b1ffefa6f1f444da78cb56936422ff1",
            "a3926e898c834e71883f9e58f89ec92a",
            "4bf01f03bed44236b7f5c2be7f2e0b20",
            "1d34830f296449d6b24d72c212065a07",
            "467f30bbfec74962b3d605e693b7f9ca",
            "ea277ce83d3c4550921418d7e500c11a",
            "b3d6678b11ae435180c7c71b54593593",
            "f894e108660c47b198893ee1f070a689",
            "5d38acd6433c4fe8a9a59ceb330e9db8",
            "bb4258bb23be4be59b6e686bca21ad73",
            "9e612b2016664f74a811bd47a7f41651",
            "c269e0e98df84e2baa11ccfdb585bf08",
            "63a2f84c1d654490a388546a5d7b2d43",
            "e2dedbf347f7419baa58da42a0bf69ce",
            "1ec55b28993740d594f5e61579bfef5f",
            "4e0761fe5eea46f8a822bf9bb9045d60",
            "74fc6f4dfba640a0af4a57b220581d42",
            "9370b0c8e50c41d989042a8adc243a6a",
            "d618bb15007645a4b79d4c66f41cce1b",
            "3c6c90bd27f94f0ea6dc794b6bdbe002",
            "0a9e10a24cb043b1a47785fa5c5f2b5a",
            "be2eef0a335f4e409062eb4e7cfda256",
            "b72a436f948543c9b8dd2e00dc8b15e6",
            "a619ce9ca1604d96b278f50dab54076d",
            "5251ba3421404ab0a10643586fde4473",
            "817d73f291dd471099986ae7ac40ac83",
            "d5c995ed62a34782aef280562c23d1f9",
            "f6b1f4023ad24054a6d1717882dbdecb",
            "2835589a15ca4383a053df3b90d7c357",
            "ec024138de3a4670bf61552831df1f9f",
            "abc58f244e5d4ef690446e737e78775e",
            "0c10bdd7b3504889ae5459d43402cde1",
            "becf41f40b8a447299ee6f00c6d7f77e",
            "712dc99cb73940f4b591af39ca1a1fa8",
            "0f703cdd64fc48acbd35771cf32579bd",
            "5e49817c115c4caf8b89ae8516d7addb",
            "b776af1c176b4b249ab7b705220d2cfc",
            "67e8be2eee8a456fa4e998d69e97e89d",
            "fc90a2cdaf9447ae89c0f9b4ec1b9d0c",
            "c87dd19c9bdb41eabc6494126e263508",
            "3d5f0988e8d64c46b00f5579ccd91f44",
            "31811399547245888bf0a14f214cf796",
            "58c5d708ab5c482f8e3e57ff386b257f",
            "e512145ccfd84a67bbd017b1d2141428",
            "3458dc75ce7a4b6c98907c1f46a4ebd0",
            "876ba5a697784e32ab5bf6d61b485734",
            "8ae98cbec57744ee952b217dbef77a66",
            "96376bf5d494415583a7d473ad87a183",
            "6fc8c30a79fc4a939c74a29f143884ee",
            "a71dec94bc3440c98fd2607fdc9a943d",
            "51840525b896424887ee407449c99bab",
            "cc8fbdf19623410abbc3cc706bd48f30",
            "552d98771030441b83fc879f1e0ea91c",
            "d2c6e5760c774614a443b9cecefff7ee",
            "72683c19d4b845d098d3e73ff4d2a1f7",
            "051b9caea2ad47209386237a71bfd2de",
            "a1035934c6be422d8da699a8fb5142ea",
            "234dfd02669045eabd65af8035224a7d",
            "2479a4bc80af4af686485903dce4adce",
            "120e8525cc8942b4b4b48a86128dce27",
            "272020bc451b47a3b93e860e6aeac440",
            "a017bca470e54143a61af9b2fedbe542",
            "0f396af2923a40b190de70f01ee3b89e",
            "4afdced14b2c4097bd16f9c9141ffa1e",
            "333b97eacb5f424993f9f1b7290d34ce",
            "7aacb372d2474a7ba75ba1e1bee9d2d5",
            "6c1674c2523d4921b6ac1ad249b0853e",
            "2a63572e05eb4427b027b0acf1570506",
            "2dc21d5946764b67bc48b802fdb5d2dd",
            "57aab38e592c41189a78d48bdb9ca127",
            "ff4397d43f724ddc824993af96126ff1",
            "7f353f78705644b290c36c9cee53ace9",
            "50e8c255ce294ecd94854215de0b0594",
            "7e9ce1d478e1469db291133a5aeacf5b",
            "59d4939c37d1412dac4dc05e85ea019a",
            "6409069f6dbb4e56bbd4de9f2e10347a",
            "f8903df566b440fcb7ce4cbb29a82fa2",
            "7fdecd56e57742f6a3227b554dfd660f",
            "0ba85ffbf4364a6da228c9bb528886b8",
            "ec7548cb9d014fd59b1019ee66c1fac0",
            "677dd95af6c445bca56897779d391c32",
            "9c4b9c2c5bf34d3588b5cbe64420a87c",
            "0e87a398258241188435827c3166c7eb",
            "dc0892e00b4b40e294caffc6107836e0",
            "0e6e60ab4cec40c28868766786a63bc4",
            "a0a44039bf3243238135e070c8e949b5",
            "8add697e3d3b4ffc81cb4e5cfe6d8c02",
            "3760b65ea7a34440a7bb6fe8ac471c4a",
            "6cf2bd54507849cd9e44f88b670c613b",
            "5cdbb989f3944c59be2a65342dad34a6",
            "8c16b7e1919c4c8d8162f0c8ed680314",
            "85e48cd50daa4e76a6a3ea762c277c86",
            "c43495c19cb446efb3fff2ecf1b1de4e",
            "25d1934f0db641eba19df16638853b41",
            "e4cf53c8b8d744708167d937b14457a2",
            "d5883447ccf44af2a63986def8086c3b",
            "cbf851f4078340638a5e94c191aad565",
            "0d6bb09f44b5495c8da4991b2ba3f1a1",
            "093cf10bb95343aca2de1dac915ab66b",
            "38f1eb7d47844bccb01125f8e655046e",
            "4cf257923cb04c62946b05a37bb5868c",
            "6f25678a25fa4eac9e12d7aa7dbed4fe",
            "a5cf623bffe34c0392266f49d32f1bc9",
            "864363d3d8d9425690bb442989508fb5",
            "6ac475c0a8f0400a89b322c9676738fc",
            "a509571fe10e4211902391b6cee9e204",
            "d82117f460c340a69fad8d209baacb5b",
            "2b78ff73805d4c0c998353ffc31ae0df",
            "0a076826a6ae4ba8a68b435d2a4410f1",
            "2b7dc2f1d6ab4ecabcac8467a37c12fb",
            "f87b62ae259d4ca49f62b9b9f4a8bc80",
            "d3e5583c944a4ca29eee5fbb1bd71181",
            "889392ae2fb34370b9205ba4a7d87040",
            "9c7de6c90bf04d179b4b54bb74ff953b",
            "2f70c27ff1b342e48db66726cb84729c",
            "dde1df6d10c746f282b9cf7d8ed9ab26",
            "14820ecb24a048bd84ddeeba53264956",
            "dc12c3114f464992a1b4b982c3b168d7",
            "7447bdb1b6764a03a7621043da14baa2",
            "1606d2838e6b4b13a54aae715f413ff4",
            "4bd80e6b5bfd499fa7e9adfd17e6120b",
            "8d31c9ac7a444bb6969c0730e985e96f"
          ]
        },
        "id": "yvEkpSUZeAPT",
        "outputId": "c8b359d0-0444-455a-e2df-ed9ae6a34653"
      },
      "execution_count": null,
      "outputs": [
        {
          "output_type": "stream",
          "name": "stderr",
          "text": [
            "\u001b[34m\u001b[1mwandb\u001b[0m: Agent Starting Run: 0ebx07s5 with config:\n",
            "\u001b[34m\u001b[1mwandb\u001b[0m: \treview_length: None\n",
            "\u001b[34m\u001b[1mwandb\u001b[0m: \ttraining_set_name: Arts_Crafts_and_Sewing\n",
            "\u001b[34m\u001b[1mwandb\u001b[0m: \tvocab_size: 500\n",
            "\u001b[34m\u001b[1mwandb\u001b[0m: Currently logged in as: \u001b[33maksel\u001b[0m (\u001b[33mcoffeegang\u001b[0m). Use \u001b[1m`wandb login --relogin`\u001b[0m to force relogin\n"
          ]
        },
        {
          "output_type": "display_data",
          "data": {
            "text/plain": [
              "<IPython.core.display.HTML object>"
            ],
            "text/html": [
              "Tracking run with wandb version 0.16.2"
            ]
          },
          "metadata": {}
        },
        {
          "output_type": "display_data",
          "data": {
            "text/plain": [
              "<IPython.core.display.HTML object>"
            ],
            "text/html": [
              "Run data is saved locally in <code>/content/gdrive/.shortcut-targets-by-id/1osKmyrDLORFSpes1mwrU-W7OXM-to6bK/AML_Exam/Problem2/wandb/run-20240128_112608-0ebx07s5</code>"
            ]
          },
          "metadata": {}
        },
        {
          "output_type": "display_data",
          "data": {
            "text/plain": [
              "<IPython.core.display.HTML object>"
            ],
            "text/html": [
              "Syncing run <strong><a href='https://wandb.ai/coffeegang/RNN_preliminary_tests/runs/0ebx07s5' target=\"_blank\">grateful-sweep-1</a></strong> to <a href='https://wandb.ai/coffeegang/RNN_preliminary_tests' target=\"_blank\">Weights & Biases</a> (<a href='https://wandb.me/run' target=\"_blank\">docs</a>)<br/>Sweep page: <a href='https://wandb.ai/coffeegang/RNN_preliminary_tests/sweeps/rd1v16t6' target=\"_blank\">https://wandb.ai/coffeegang/RNN_preliminary_tests/sweeps/rd1v16t6</a>"
            ]
          },
          "metadata": {}
        },
        {
          "output_type": "display_data",
          "data": {
            "text/plain": [
              "<IPython.core.display.HTML object>"
            ],
            "text/html": [
              " View project at <a href='https://wandb.ai/coffeegang/RNN_preliminary_tests' target=\"_blank\">https://wandb.ai/coffeegang/RNN_preliminary_tests</a>"
            ]
          },
          "metadata": {}
        },
        {
          "output_type": "display_data",
          "data": {
            "text/plain": [
              "<IPython.core.display.HTML object>"
            ],
            "text/html": [
              " View sweep at <a href='https://wandb.ai/coffeegang/RNN_preliminary_tests/sweeps/rd1v16t6' target=\"_blank\">https://wandb.ai/coffeegang/RNN_preliminary_tests/sweeps/rd1v16t6</a>"
            ]
          },
          "metadata": {}
        },
        {
          "output_type": "display_data",
          "data": {
            "text/plain": [
              "<IPython.core.display.HTML object>"
            ],
            "text/html": [
              " View run at <a href='https://wandb.ai/coffeegang/RNN_preliminary_tests/runs/0ebx07s5' target=\"_blank\">https://wandb.ai/coffeegang/RNN_preliminary_tests/runs/0ebx07s5</a>"
            ]
          },
          "metadata": {}
        },
        {
          "output_type": "stream",
          "name": "stdout",
          "text": [
            "Epoch 1/50\n",
            "782/782 [==============================] - 103s 128ms/step - loss: 1.2365 - accuracy: 0.4544 - val_loss: 1.0090 - val_accuracy: 0.6081\n",
            "Epoch 2/50\n",
            "782/782 [==============================] - 90s 115ms/step - loss: 1.1327 - accuracy: 0.5001 - val_loss: 0.8740 - val_accuracy: 0.6853\n",
            "Epoch 3/50\n",
            "782/782 [==============================] - 90s 115ms/step - loss: 1.0916 - accuracy: 0.5179 - val_loss: 1.0390 - val_accuracy: 0.6366\n",
            "Epoch 4/50\n",
            "782/782 [==============================] - 90s 115ms/step - loss: 1.0664 - accuracy: 0.5367 - val_loss: 0.8898 - val_accuracy: 0.7133\n",
            "Epoch 5/50\n",
            "782/782 [==============================] - 90s 115ms/step - loss: 1.0501 - accuracy: 0.5444 - val_loss: 1.1043 - val_accuracy: 0.5535\n",
            "Epoch 6/50\n",
            "782/782 [==============================] - 90s 114ms/step - loss: 1.0371 - accuracy: 0.5521 - val_loss: 1.1153 - val_accuracy: 0.6110\n",
            "Epoch 7/50\n",
            "782/782 [==============================] - 90s 115ms/step - loss: 1.0248 - accuracy: 0.5576 - val_loss: 1.0347 - val_accuracy: 0.6370\n",
            "Epoch 8/50\n",
            "782/782 [==============================] - 90s 114ms/step - loss: 1.0187 - accuracy: 0.5600 - val_loss: 1.1009 - val_accuracy: 0.6153\n",
            "Epoch 9/50\n",
            "782/782 [==============================] - 90s 114ms/step - loss: 1.0073 - accuracy: 0.5661 - val_loss: 0.9560 - val_accuracy: 0.6672\n",
            "Epoch 10/50\n",
            "782/782 [==============================] - 89s 114ms/step - loss: 1.0084 - accuracy: 0.5663 - val_loss: 0.9277 - val_accuracy: 0.6914\n",
            "Epoch 11/50\n",
            "782/782 [==============================] - 89s 114ms/step - loss: 1.0021 - accuracy: 0.5667 - val_loss: 1.0517 - val_accuracy: 0.6488\n",
            "Epoch 12/50\n",
            "782/782 [==============================] - 89s 114ms/step - loss: 0.9988 - accuracy: 0.5688 - val_loss: 1.0759 - val_accuracy: 0.6189\n",
            "Epoch 13/50\n",
            "782/782 [==============================] - 89s 114ms/step - loss: 1.0021 - accuracy: 0.5717 - val_loss: 1.0580 - val_accuracy: 0.6216\n",
            "Epoch 14/50\n",
            "782/782 [==============================] - 89s 114ms/step - loss: 0.9982 - accuracy: 0.5693 - val_loss: 1.2070 - val_accuracy: 0.5834\n",
            "Epoch 15/50\n",
            "782/782 [==============================] - 89s 114ms/step - loss: 0.9963 - accuracy: 0.5703 - val_loss: 1.0405 - val_accuracy: 0.6408\n",
            "Epoch 16/50\n",
            "782/782 [==============================] - 89s 114ms/step - loss: 1.0020 - accuracy: 0.5681 - val_loss: 1.1495 - val_accuracy: 0.6161\n"
          ]
        },
        {
          "output_type": "display_data",
          "data": {
            "text/plain": [
              "VBox(children=(Label(value='0.003 MB of 0.016 MB uploaded\\r'), FloatProgress(value=0.17785399314061734, max=1.…"
            ],
            "application/vnd.jupyter.widget-view+json": {
              "version_major": 2,
              "version_minor": 0,
              "model_id": "13354681e3bd4bbba624c4ea0888769d"
            }
          },
          "metadata": {}
        },
        {
          "output_type": "display_data",
          "data": {
            "text/plain": [
              "<IPython.core.display.HTML object>"
            ],
            "text/html": [
              "<style>\n",
              "    table.wandb td:nth-child(1) { padding: 0 10px; text-align: left ; width: auto;} td:nth-child(2) {text-align: left ; width: 100%}\n",
              "    .wandb-row { display: flex; flex-direction: row; flex-wrap: wrap; justify-content: flex-start; width: 100% }\n",
              "    .wandb-col { display: flex; flex-direction: column; flex-basis: 100%; flex: 1; padding: 10px; }\n",
              "    </style>\n",
              "<div class=\"wandb-row\"><div class=\"wandb-col\"><h3>Run history:</h3><br/><table class=\"wandb\"><tr><td>accuracy</td><td>▁▄▅▆▆▇▇▇████████</td></tr><tr><td>epoch</td><td>▁▁▂▂▃▃▄▄▅▅▆▆▇▇██</td></tr><tr><td>loss</td><td>█▅▄▃▃▂▂▂▁▁▁▁▁▁▁▁</td></tr><tr><td>size-train</td><td>▁</td></tr><tr><td>size-val</td><td>▁</td></tr><tr><td>val_accuracy</td><td>▃▇▅█▁▄▅▄▆▇▅▄▄▂▅▄</td></tr><tr><td>val_loss</td><td>▄▁▄▁▆▆▄▆▃▂▅▅▅█▄▇</td></tr></table><br/></div><div class=\"wandb-col\"><h3>Run summary:</h3><br/><table class=\"wandb\"><tr><td>accuracy</td><td>0.56812</td></tr><tr><td>best_epoch</td><td>1</td></tr><tr><td>best_val_loss</td><td>0.87396</td></tr><tr><td>epoch</td><td>15</td></tr><tr><td>loss</td><td>1.00199</td></tr><tr><td>size-train</td><td>50000</td></tr><tr><td>size-val</td><td>5259</td></tr><tr><td>val_accuracy</td><td>0.61609</td></tr><tr><td>val_loss</td><td>1.14955</td></tr></table><br/></div></div>"
            ]
          },
          "metadata": {}
        },
        {
          "output_type": "display_data",
          "data": {
            "text/plain": [
              "<IPython.core.display.HTML object>"
            ],
            "text/html": [
              " View run <strong style=\"color:#cdcd00\">grateful-sweep-1</strong> at: <a href='https://wandb.ai/coffeegang/RNN_preliminary_tests/runs/0ebx07s5' target=\"_blank\">https://wandb.ai/coffeegang/RNN_preliminary_tests/runs/0ebx07s5</a><br/>Synced 5 W&B file(s), 1 media file(s), 0 artifact file(s) and 0 other file(s)"
            ]
          },
          "metadata": {}
        },
        {
          "output_type": "display_data",
          "data": {
            "text/plain": [
              "<IPython.core.display.HTML object>"
            ],
            "text/html": [
              "Find logs at: <code>./wandb/run-20240128_112608-0ebx07s5/logs</code>"
            ]
          },
          "metadata": {}
        },
        {
          "output_type": "stream",
          "name": "stderr",
          "text": [
            "\u001b[34m\u001b[1mwandb\u001b[0m: Agent Starting Run: 8nbkykcx with config:\n",
            "\u001b[34m\u001b[1mwandb\u001b[0m: \treview_length: None\n",
            "\u001b[34m\u001b[1mwandb\u001b[0m: \ttraining_set_name: Arts_Crafts_and_Sewing\n",
            "\u001b[34m\u001b[1mwandb\u001b[0m: \tvocab_size: 1000\n"
          ]
        },
        {
          "output_type": "display_data",
          "data": {
            "text/plain": [
              "<IPython.core.display.HTML object>"
            ],
            "text/html": [
              "Tracking run with wandb version 0.16.2"
            ]
          },
          "metadata": {}
        },
        {
          "output_type": "display_data",
          "data": {
            "text/plain": [
              "<IPython.core.display.HTML object>"
            ],
            "text/html": [
              "Run data is saved locally in <code>/content/gdrive/.shortcut-targets-by-id/1osKmyrDLORFSpes1mwrU-W7OXM-to6bK/AML_Exam/Problem2/wandb/run-20240128_115035-8nbkykcx</code>"
            ]
          },
          "metadata": {}
        },
        {
          "output_type": "display_data",
          "data": {
            "text/plain": [
              "<IPython.core.display.HTML object>"
            ],
            "text/html": [
              "Syncing run <strong><a href='https://wandb.ai/coffeegang/RNN_preliminary_tests/runs/8nbkykcx' target=\"_blank\">swept-sweep-2</a></strong> to <a href='https://wandb.ai/coffeegang/RNN_preliminary_tests' target=\"_blank\">Weights & Biases</a> (<a href='https://wandb.me/run' target=\"_blank\">docs</a>)<br/>Sweep page: <a href='https://wandb.ai/coffeegang/RNN_preliminary_tests/sweeps/rd1v16t6' target=\"_blank\">https://wandb.ai/coffeegang/RNN_preliminary_tests/sweeps/rd1v16t6</a>"
            ]
          },
          "metadata": {}
        },
        {
          "output_type": "display_data",
          "data": {
            "text/plain": [
              "<IPython.core.display.HTML object>"
            ],
            "text/html": [
              " View project at <a href='https://wandb.ai/coffeegang/RNN_preliminary_tests' target=\"_blank\">https://wandb.ai/coffeegang/RNN_preliminary_tests</a>"
            ]
          },
          "metadata": {}
        },
        {
          "output_type": "display_data",
          "data": {
            "text/plain": [
              "<IPython.core.display.HTML object>"
            ],
            "text/html": [
              " View sweep at <a href='https://wandb.ai/coffeegang/RNN_preliminary_tests/sweeps/rd1v16t6' target=\"_blank\">https://wandb.ai/coffeegang/RNN_preliminary_tests/sweeps/rd1v16t6</a>"
            ]
          },
          "metadata": {}
        },
        {
          "output_type": "display_data",
          "data": {
            "text/plain": [
              "<IPython.core.display.HTML object>"
            ],
            "text/html": [
              " View run at <a href='https://wandb.ai/coffeegang/RNN_preliminary_tests/runs/8nbkykcx' target=\"_blank\">https://wandb.ai/coffeegang/RNN_preliminary_tests/runs/8nbkykcx</a>"
            ]
          },
          "metadata": {}
        },
        {
          "output_type": "stream",
          "name": "stdout",
          "text": [
            "Epoch 1/50\n",
            "782/782 [==============================] - 124s 154ms/step - loss: 1.2084 - accuracy: 0.4647 - val_loss: 0.9355 - val_accuracy: 0.7153\n",
            "Epoch 2/50\n",
            "782/782 [==============================] - 107s 136ms/step - loss: 1.0920 - accuracy: 0.5158 - val_loss: 1.1019 - val_accuracy: 0.5967\n",
            "Epoch 3/50\n",
            "782/782 [==============================] - 106s 135ms/step - loss: 1.0522 - accuracy: 0.5379 - val_loss: 0.8550 - val_accuracy: 0.6990\n",
            "Epoch 4/50\n",
            "782/782 [==============================] - 105s 135ms/step - loss: 1.0206 - accuracy: 0.5541 - val_loss: 0.9296 - val_accuracy: 0.6779\n",
            "Epoch 5/50\n",
            "782/782 [==============================] - 105s 134ms/step - loss: 0.9988 - accuracy: 0.5660 - val_loss: 0.9617 - val_accuracy: 0.6705\n",
            "Epoch 6/50\n",
            "782/782 [==============================] - 105s 134ms/step - loss: 0.9786 - accuracy: 0.5755 - val_loss: 1.0563 - val_accuracy: 0.6471\n",
            "Epoch 7/50\n",
            "782/782 [==============================] - 105s 134ms/step - loss: 0.9630 - accuracy: 0.5826 - val_loss: 0.9526 - val_accuracy: 0.6562\n",
            "Epoch 8/50\n",
            "782/782 [==============================] - 105s 134ms/step - loss: 0.9578 - accuracy: 0.5879 - val_loss: 1.0195 - val_accuracy: 0.6393\n",
            "Epoch 9/50\n",
            "782/782 [==============================] - 105s 134ms/step - loss: 0.9500 - accuracy: 0.5914 - val_loss: 1.0153 - val_accuracy: 0.6511\n",
            "Epoch 10/50\n",
            "782/782 [==============================] - 105s 134ms/step - loss: 0.9388 - accuracy: 0.5984 - val_loss: 1.0369 - val_accuracy: 0.6159\n",
            "Epoch 11/50\n",
            "782/782 [==============================] - 104s 133ms/step - loss: 0.9328 - accuracy: 0.6026 - val_loss: 1.0142 - val_accuracy: 0.6463\n",
            "Epoch 12/50\n",
            "782/782 [==============================] - 105s 134ms/step - loss: 0.9248 - accuracy: 0.6065 - val_loss: 1.0525 - val_accuracy: 0.6334\n",
            "Epoch 13/50\n",
            "782/782 [==============================] - 105s 134ms/step - loss: 0.9196 - accuracy: 0.6075 - val_loss: 0.9577 - val_accuracy: 0.6627\n",
            "Epoch 14/50\n",
            "782/782 [==============================] - 104s 133ms/step - loss: 0.9186 - accuracy: 0.6093 - val_loss: 1.0806 - val_accuracy: 0.6330\n",
            "Epoch 15/50\n",
            "782/782 [==============================] - 104s 133ms/step - loss: 0.9296 - accuracy: 0.6021 - val_loss: 1.0185 - val_accuracy: 0.6640\n",
            "Epoch 16/50\n",
            "782/782 [==============================] - 104s 133ms/step - loss: 0.9229 - accuracy: 0.6048 - val_loss: 1.1080 - val_accuracy: 0.6218\n",
            "Epoch 17/50\n",
            "782/782 [==============================] - 104s 133ms/step - loss: 0.9233 - accuracy: 0.6049 - val_loss: 1.0641 - val_accuracy: 0.6307\n"
          ]
        },
        {
          "output_type": "display_data",
          "data": {
            "text/plain": [
              "VBox(children=(Label(value='0.003 MB of 0.003 MB uploaded\\r'), FloatProgress(value=1.0, max=1.0)))"
            ],
            "application/vnd.jupyter.widget-view+json": {
              "version_major": 2,
              "version_minor": 0,
              "model_id": "2a87a13ba3ab48679f57e34a7ca547bb"
            }
          },
          "metadata": {}
        },
        {
          "output_type": "display_data",
          "data": {
            "text/plain": [
              "<IPython.core.display.HTML object>"
            ],
            "text/html": [
              "<style>\n",
              "    table.wandb td:nth-child(1) { padding: 0 10px; text-align: left ; width: auto;} td:nth-child(2) {text-align: left ; width: 100%}\n",
              "    .wandb-row { display: flex; flex-direction: row; flex-wrap: wrap; justify-content: flex-start; width: 100% }\n",
              "    .wandb-col { display: flex; flex-direction: column; flex-basis: 100%; flex: 1; padding: 10px; }\n",
              "    </style>\n",
              "<div class=\"wandb-row\"><div class=\"wandb-col\"><h3>Run history:</h3><br/><table class=\"wandb\"><tr><td>accuracy</td><td>▁▃▅▅▆▆▇▇▇▇███████</td></tr><tr><td>epoch</td><td>▁▁▂▂▃▃▄▄▅▅▅▆▆▇▇██</td></tr><tr><td>loss</td><td>█▅▄▃▃▂▂▂▂▁▁▁▁▁▁▁▁</td></tr><tr><td>size-train</td><td>▁</td></tr><tr><td>size-val</td><td>▁</td></tr><tr><td>val_accuracy</td><td>█▁▇▆▅▄▅▄▄▂▄▃▅▃▅▂▃</td></tr><tr><td>val_loss</td><td>▃█▁▃▄▇▄▆▅▆▅▆▄▇▆█▇</td></tr></table><br/></div><div class=\"wandb-col\"><h3>Run summary:</h3><br/><table class=\"wandb\"><tr><td>accuracy</td><td>0.60488</td></tr><tr><td>best_epoch</td><td>2</td></tr><tr><td>best_val_loss</td><td>0.85505</td></tr><tr><td>epoch</td><td>16</td></tr><tr><td>loss</td><td>0.92331</td></tr><tr><td>size-train</td><td>50000</td></tr><tr><td>size-val</td><td>5259</td></tr><tr><td>val_accuracy</td><td>0.63073</td></tr><tr><td>val_loss</td><td>1.06412</td></tr></table><br/></div></div>"
            ]
          },
          "metadata": {}
        },
        {
          "output_type": "display_data",
          "data": {
            "text/plain": [
              "<IPython.core.display.HTML object>"
            ],
            "text/html": [
              " View run <strong style=\"color:#cdcd00\">swept-sweep-2</strong> at: <a href='https://wandb.ai/coffeegang/RNN_preliminary_tests/runs/8nbkykcx' target=\"_blank\">https://wandb.ai/coffeegang/RNN_preliminary_tests/runs/8nbkykcx</a><br/>Synced 5 W&B file(s), 1 media file(s), 0 artifact file(s) and 0 other file(s)"
            ]
          },
          "metadata": {}
        },
        {
          "output_type": "display_data",
          "data": {
            "text/plain": [
              "<IPython.core.display.HTML object>"
            ],
            "text/html": [
              "Find logs at: <code>./wandb/run-20240128_115035-8nbkykcx/logs</code>"
            ]
          },
          "metadata": {}
        },
        {
          "output_type": "stream",
          "name": "stderr",
          "text": [
            "\u001b[34m\u001b[1mwandb\u001b[0m: Agent Starting Run: p01ncjw4 with config:\n",
            "\u001b[34m\u001b[1mwandb\u001b[0m: \treview_length: None\n",
            "\u001b[34m\u001b[1mwandb\u001b[0m: \ttraining_set_name: Arts_Crafts_and_Sewing\n",
            "\u001b[34m\u001b[1mwandb\u001b[0m: \tvocab_size: 1500\n"
          ]
        },
        {
          "output_type": "display_data",
          "data": {
            "text/plain": [
              "<IPython.core.display.HTML object>"
            ],
            "text/html": [
              "Tracking run with wandb version 0.16.2"
            ]
          },
          "metadata": {}
        },
        {
          "output_type": "display_data",
          "data": {
            "text/plain": [
              "<IPython.core.display.HTML object>"
            ],
            "text/html": [
              "Run data is saved locally in <code>/content/gdrive/.shortcut-targets-by-id/1osKmyrDLORFSpes1mwrU-W7OXM-to6bK/AML_Exam/Problem2/wandb/run-20240128_122058-p01ncjw4</code>"
            ]
          },
          "metadata": {}
        },
        {
          "output_type": "display_data",
          "data": {
            "text/plain": [
              "<IPython.core.display.HTML object>"
            ],
            "text/html": [
              "Syncing run <strong><a href='https://wandb.ai/coffeegang/RNN_preliminary_tests/runs/p01ncjw4' target=\"_blank\">dark-sweep-3</a></strong> to <a href='https://wandb.ai/coffeegang/RNN_preliminary_tests' target=\"_blank\">Weights & Biases</a> (<a href='https://wandb.me/run' target=\"_blank\">docs</a>)<br/>Sweep page: <a href='https://wandb.ai/coffeegang/RNN_preliminary_tests/sweeps/rd1v16t6' target=\"_blank\">https://wandb.ai/coffeegang/RNN_preliminary_tests/sweeps/rd1v16t6</a>"
            ]
          },
          "metadata": {}
        },
        {
          "output_type": "display_data",
          "data": {
            "text/plain": [
              "<IPython.core.display.HTML object>"
            ],
            "text/html": [
              " View project at <a href='https://wandb.ai/coffeegang/RNN_preliminary_tests' target=\"_blank\">https://wandb.ai/coffeegang/RNN_preliminary_tests</a>"
            ]
          },
          "metadata": {}
        },
        {
          "output_type": "display_data",
          "data": {
            "text/plain": [
              "<IPython.core.display.HTML object>"
            ],
            "text/html": [
              " View sweep at <a href='https://wandb.ai/coffeegang/RNN_preliminary_tests/sweeps/rd1v16t6' target=\"_blank\">https://wandb.ai/coffeegang/RNN_preliminary_tests/sweeps/rd1v16t6</a>"
            ]
          },
          "metadata": {}
        },
        {
          "output_type": "display_data",
          "data": {
            "text/plain": [
              "<IPython.core.display.HTML object>"
            ],
            "text/html": [
              " View run at <a href='https://wandb.ai/coffeegang/RNN_preliminary_tests/runs/p01ncjw4' target=\"_blank\">https://wandb.ai/coffeegang/RNN_preliminary_tests/runs/p01ncjw4</a>"
            ]
          },
          "metadata": {}
        },
        {
          "output_type": "stream",
          "name": "stdout",
          "text": [
            "Epoch 1/50\n",
            "782/782 [==============================] - 114s 142ms/step - loss: 1.1927 - accuracy: 0.4724 - val_loss: 0.9150 - val_accuracy: 0.6885\n",
            "Epoch 2/50\n",
            "782/782 [==============================] - 92s 118ms/step - loss: 1.0633 - accuracy: 0.5346 - val_loss: 1.0755 - val_accuracy: 0.5822\n",
            "Epoch 3/50\n",
            "782/782 [==============================] - 92s 117ms/step - loss: 1.0139 - accuracy: 0.5584 - val_loss: 0.9371 - val_accuracy: 0.6899\n",
            "Epoch 4/50\n",
            "782/782 [==============================] - 91s 117ms/step - loss: 0.9815 - accuracy: 0.5761 - val_loss: 1.0180 - val_accuracy: 0.6142\n",
            "Epoch 5/50\n",
            "782/782 [==============================] - 90s 115ms/step - loss: 0.9567 - accuracy: 0.5867 - val_loss: 0.8664 - val_accuracy: 0.7142\n",
            "Epoch 6/50\n",
            "782/782 [==============================] - 90s 115ms/step - loss: 0.9333 - accuracy: 0.5997 - val_loss: 0.9991 - val_accuracy: 0.6593\n",
            "Epoch 7/50\n",
            "782/782 [==============================] - 90s 115ms/step - loss: 0.9195 - accuracy: 0.6107 - val_loss: 0.8811 - val_accuracy: 0.6963\n",
            "Epoch 8/50\n",
            "782/782 [==============================] - 90s 115ms/step - loss: 0.9064 - accuracy: 0.6149 - val_loss: 0.8650 - val_accuracy: 0.7077\n",
            "Epoch 9/50\n",
            "782/782 [==============================] - 90s 115ms/step - loss: 0.8934 - accuracy: 0.6189 - val_loss: 0.8300 - val_accuracy: 0.7228\n",
            "Epoch 10/50\n",
            "782/782 [==============================] - 90s 115ms/step - loss: 0.8953 - accuracy: 0.6198 - val_loss: 0.9617 - val_accuracy: 0.6623\n",
            "Epoch 11/50\n",
            "782/782 [==============================] - 89s 114ms/step - loss: 0.8961 - accuracy: 0.6197 - val_loss: 1.1192 - val_accuracy: 0.6176\n",
            "Epoch 12/50\n",
            "782/782 [==============================] - 90s 115ms/step - loss: 0.8769 - accuracy: 0.6311 - val_loss: 1.0127 - val_accuracy: 0.6596\n",
            "Epoch 13/50\n",
            "782/782 [==============================] - 90s 115ms/step - loss: 0.8706 - accuracy: 0.6358 - val_loss: 0.9881 - val_accuracy: 0.6454\n",
            "Epoch 14/50\n",
            "782/782 [==============================] - 90s 115ms/step - loss: 0.8662 - accuracy: 0.6334 - val_loss: 1.0216 - val_accuracy: 0.6573\n",
            "Epoch 15/50\n",
            "782/782 [==============================] - 89s 114ms/step - loss: 0.8745 - accuracy: 0.6315 - val_loss: 1.0802 - val_accuracy: 0.6423\n",
            "Epoch 16/50\n",
            "782/782 [==============================] - 89s 114ms/step - loss: 0.8758 - accuracy: 0.6327 - val_loss: 1.0635 - val_accuracy: 0.6438\n"
          ]
        },
        {
          "output_type": "display_data",
          "data": {
            "text/plain": [
              "VBox(children=(Label(value='0.003 MB of 0.016 MB uploaded\\r'), FloatProgress(value=0.17777369806009424, max=1.…"
            ],
            "application/vnd.jupyter.widget-view+json": {
              "version_major": 2,
              "version_minor": 0,
              "model_id": "8e42e073cfa749e7b775ba9a14d4201f"
            }
          },
          "metadata": {}
        },
        {
          "output_type": "display_data",
          "data": {
            "text/plain": [
              "<IPython.core.display.HTML object>"
            ],
            "text/html": [
              "<style>\n",
              "    table.wandb td:nth-child(1) { padding: 0 10px; text-align: left ; width: auto;} td:nth-child(2) {text-align: left ; width: 100%}\n",
              "    .wandb-row { display: flex; flex-direction: row; flex-wrap: wrap; justify-content: flex-start; width: 100% }\n",
              "    .wandb-col { display: flex; flex-direction: column; flex-basis: 100%; flex: 1; padding: 10px; }\n",
              "    </style>\n",
              "<div class=\"wandb-row\"><div class=\"wandb-col\"><h3>Run history:</h3><br/><table class=\"wandb\"><tr><td>accuracy</td><td>▁▄▅▅▆▆▇▇▇▇▇█████</td></tr><tr><td>epoch</td><td>▁▁▂▂▃▃▄▄▅▅▆▆▇▇██</td></tr><tr><td>loss</td><td>█▅▄▃▃▂▂▂▂▂▂▁▁▁▁▁</td></tr><tr><td>size-train</td><td>▁</td></tr><tr><td>size-val</td><td>▁</td></tr><tr><td>val_accuracy</td><td>▆▁▆▃█▅▇▇█▅▃▅▄▅▄▄</td></tr><tr><td>val_loss</td><td>▃▇▄▆▂▅▂▂▁▄█▅▅▆▇▇</td></tr></table><br/></div><div class=\"wandb-col\"><h3>Run summary:</h3><br/><table class=\"wandb\"><tr><td>accuracy</td><td>0.63272</td></tr><tr><td>best_epoch</td><td>8</td></tr><tr><td>best_val_loss</td><td>0.83003</td></tr><tr><td>epoch</td><td>15</td></tr><tr><td>loss</td><td>0.87579</td></tr><tr><td>size-train</td><td>50000</td></tr><tr><td>size-val</td><td>5259</td></tr><tr><td>val_accuracy</td><td>0.64385</td></tr><tr><td>val_loss</td><td>1.06353</td></tr></table><br/></div></div>"
            ]
          },
          "metadata": {}
        },
        {
          "output_type": "display_data",
          "data": {
            "text/plain": [
              "<IPython.core.display.HTML object>"
            ],
            "text/html": [
              " View run <strong style=\"color:#cdcd00\">dark-sweep-3</strong> at: <a href='https://wandb.ai/coffeegang/RNN_preliminary_tests/runs/p01ncjw4' target=\"_blank\">https://wandb.ai/coffeegang/RNN_preliminary_tests/runs/p01ncjw4</a><br/>Synced 5 W&B file(s), 1 media file(s), 0 artifact file(s) and 0 other file(s)"
            ]
          },
          "metadata": {}
        },
        {
          "output_type": "display_data",
          "data": {
            "text/plain": [
              "<IPython.core.display.HTML object>"
            ],
            "text/html": [
              "Find logs at: <code>./wandb/run-20240128_122058-p01ncjw4/logs</code>"
            ]
          },
          "metadata": {}
        },
        {
          "output_type": "stream",
          "name": "stderr",
          "text": [
            "\u001b[34m\u001b[1mwandb\u001b[0m: Agent Starting Run: er46i3x6 with config:\n",
            "\u001b[34m\u001b[1mwandb\u001b[0m: \treview_length: None\n",
            "\u001b[34m\u001b[1mwandb\u001b[0m: \ttraining_set_name: Arts_Crafts_and_Sewing\n",
            "\u001b[34m\u001b[1mwandb\u001b[0m: \tvocab_size: 2000\n"
          ]
        },
        {
          "output_type": "display_data",
          "data": {
            "text/plain": [
              "<IPython.core.display.HTML object>"
            ],
            "text/html": [
              "Tracking run with wandb version 0.16.2"
            ]
          },
          "metadata": {}
        },
        {
          "output_type": "display_data",
          "data": {
            "text/plain": [
              "<IPython.core.display.HTML object>"
            ],
            "text/html": [
              "Run data is saved locally in <code>/content/gdrive/.shortcut-targets-by-id/1osKmyrDLORFSpes1mwrU-W7OXM-to6bK/AML_Exam/Problem2/wandb/run-20240128_124547-er46i3x6</code>"
            ]
          },
          "metadata": {}
        },
        {
          "output_type": "display_data",
          "data": {
            "text/plain": [
              "<IPython.core.display.HTML object>"
            ],
            "text/html": [
              "Syncing run <strong><a href='https://wandb.ai/coffeegang/RNN_preliminary_tests/runs/er46i3x6' target=\"_blank\">distinctive-sweep-4</a></strong> to <a href='https://wandb.ai/coffeegang/RNN_preliminary_tests' target=\"_blank\">Weights & Biases</a> (<a href='https://wandb.me/run' target=\"_blank\">docs</a>)<br/>Sweep page: <a href='https://wandb.ai/coffeegang/RNN_preliminary_tests/sweeps/rd1v16t6' target=\"_blank\">https://wandb.ai/coffeegang/RNN_preliminary_tests/sweeps/rd1v16t6</a>"
            ]
          },
          "metadata": {}
        },
        {
          "output_type": "display_data",
          "data": {
            "text/plain": [
              "<IPython.core.display.HTML object>"
            ],
            "text/html": [
              " View project at <a href='https://wandb.ai/coffeegang/RNN_preliminary_tests' target=\"_blank\">https://wandb.ai/coffeegang/RNN_preliminary_tests</a>"
            ]
          },
          "metadata": {}
        },
        {
          "output_type": "display_data",
          "data": {
            "text/plain": [
              "<IPython.core.display.HTML object>"
            ],
            "text/html": [
              " View sweep at <a href='https://wandb.ai/coffeegang/RNN_preliminary_tests/sweeps/rd1v16t6' target=\"_blank\">https://wandb.ai/coffeegang/RNN_preliminary_tests/sweeps/rd1v16t6</a>"
            ]
          },
          "metadata": {}
        },
        {
          "output_type": "display_data",
          "data": {
            "text/plain": [
              "<IPython.core.display.HTML object>"
            ],
            "text/html": [
              " View run at <a href='https://wandb.ai/coffeegang/RNN_preliminary_tests/runs/er46i3x6' target=\"_blank\">https://wandb.ai/coffeegang/RNN_preliminary_tests/runs/er46i3x6</a>"
            ]
          },
          "metadata": {}
        },
        {
          "output_type": "stream",
          "name": "stdout",
          "text": [
            "Epoch 1/50\n",
            "782/782 [==============================] - 120s 149ms/step - loss: 1.1869 - accuracy: 0.4745 - val_loss: 0.9616 - val_accuracy: 0.6737\n",
            "Epoch 2/50\n",
            "782/782 [==============================] - 97s 125ms/step - loss: 1.0595 - accuracy: 0.5360 - val_loss: 1.0323 - val_accuracy: 0.6619\n",
            "Epoch 3/50\n",
            "782/782 [==============================] - 95s 121ms/step - loss: 1.0040 - accuracy: 0.5652 - val_loss: 1.1215 - val_accuracy: 0.5849\n",
            "Epoch 4/50\n",
            "782/782 [==============================] - 94s 120ms/step - loss: 0.9708 - accuracy: 0.5812 - val_loss: 0.9789 - val_accuracy: 0.6488\n",
            "Epoch 5/50\n",
            "782/782 [==============================] - 94s 120ms/step - loss: 0.9381 - accuracy: 0.6004 - val_loss: 1.0045 - val_accuracy: 0.6153\n",
            "Epoch 6/50\n",
            "782/782 [==============================] - 93s 119ms/step - loss: 0.9126 - accuracy: 0.6099 - val_loss: 1.0610 - val_accuracy: 0.6214\n",
            "Epoch 7/50\n",
            "782/782 [==============================] - 93s 119ms/step - loss: 0.8919 - accuracy: 0.6223 - val_loss: 1.0392 - val_accuracy: 0.6271\n",
            "Epoch 8/50\n",
            "782/782 [==============================] - 93s 119ms/step - loss: 0.8740 - accuracy: 0.6315 - val_loss: 1.0193 - val_accuracy: 0.6305\n",
            "Epoch 9/50\n",
            "782/782 [==============================] - 93s 120ms/step - loss: 0.8647 - accuracy: 0.6375 - val_loss: 1.0386 - val_accuracy: 0.6347\n",
            "Epoch 10/50\n",
            "782/782 [==============================] - 93s 119ms/step - loss: 0.8512 - accuracy: 0.6424 - val_loss: 1.1529 - val_accuracy: 0.6159\n",
            "Epoch 11/50\n",
            "782/782 [==============================] - 93s 119ms/step - loss: 0.8416 - accuracy: 0.6471 - val_loss: 1.0505 - val_accuracy: 0.6488\n",
            "Epoch 12/50\n",
            "782/782 [==============================] - 93s 119ms/step - loss: 0.8332 - accuracy: 0.6524 - val_loss: 1.0705 - val_accuracy: 0.6522\n",
            "Epoch 13/50\n",
            "782/782 [==============================] - 94s 120ms/step - loss: 0.8330 - accuracy: 0.6531 - val_loss: 1.1056 - val_accuracy: 0.6016\n",
            "Epoch 14/50\n",
            "782/782 [==============================] - 93s 119ms/step - loss: 0.8304 - accuracy: 0.6533 - val_loss: 1.1337 - val_accuracy: 0.5956\n",
            "Epoch 15/50\n",
            "782/782 [==============================] - 93s 119ms/step - loss: 0.8213 - accuracy: 0.6582 - val_loss: 1.1666 - val_accuracy: 0.6075\n",
            "Epoch 16/50\n",
            "782/782 [==============================] - 93s 119ms/step - loss: 0.8362 - accuracy: 0.6522 - val_loss: 1.0657 - val_accuracy: 0.6134\n",
            "Epoch 17/50\n",
            "782/782 [==============================] - 93s 119ms/step - loss: 0.8314 - accuracy: 0.6543 - val_loss: 1.0258 - val_accuracy: 0.6419\n",
            "Epoch 18/50\n",
            "782/782 [==============================] - 93s 119ms/step - loss: 0.8286 - accuracy: 0.6561 - val_loss: 1.0904 - val_accuracy: 0.6317\n"
          ]
        },
        {
          "output_type": "display_data",
          "data": {
            "text/plain": [
              "VBox(children=(Label(value='0.003 MB of 0.016 MB uploaded\\r'), FloatProgress(value=0.17342248223986628, max=1.…"
            ],
            "application/vnd.jupyter.widget-view+json": {
              "version_major": 2,
              "version_minor": 0,
              "model_id": "a161a5653b824ac69cf5686d8e82678d"
            }
          },
          "metadata": {}
        },
        {
          "output_type": "display_data",
          "data": {
            "text/plain": [
              "<IPython.core.display.HTML object>"
            ],
            "text/html": [
              "<style>\n",
              "    table.wandb td:nth-child(1) { padding: 0 10px; text-align: left ; width: auto;} td:nth-child(2) {text-align: left ; width: 100%}\n",
              "    .wandb-row { display: flex; flex-direction: row; flex-wrap: wrap; justify-content: flex-start; width: 100% }\n",
              "    .wandb-col { display: flex; flex-direction: column; flex-basis: 100%; flex: 1; padding: 10px; }\n",
              "    </style>\n",
              "<div class=\"wandb-row\"><div class=\"wandb-col\"><h3>Run history:</h3><br/><table class=\"wandb\"><tr><td>accuracy</td><td>▁▃▄▅▆▆▇▇▇▇████████</td></tr><tr><td>epoch</td><td>▁▁▂▂▃▃▃▄▄▅▅▆▆▆▇▇██</td></tr><tr><td>loss</td><td>█▆▄▄▃▃▂▂▂▂▁▁▁▁▁▁▁▁</td></tr><tr><td>size-train</td><td>▁</td></tr><tr><td>size-val</td><td>▁</td></tr><tr><td>val_accuracy</td><td>█▇▁▆▃▄▄▅▅▃▆▆▂▂▃▃▅▅</td></tr><tr><td>val_loss</td><td>▁▃▆▂▂▄▄▃▄█▄▅▆▇█▅▃▅</td></tr></table><br/></div><div class=\"wandb-col\"><h3>Run summary:</h3><br/><table class=\"wandb\"><tr><td>accuracy</td><td>0.65606</td></tr><tr><td>best_epoch</td><td>0</td></tr><tr><td>best_val_loss</td><td>0.96161</td></tr><tr><td>epoch</td><td>17</td></tr><tr><td>loss</td><td>0.8286</td></tr><tr><td>size-train</td><td>50000</td></tr><tr><td>size-val</td><td>5259</td></tr><tr><td>val_accuracy</td><td>0.63168</td></tr><tr><td>val_loss</td><td>1.09037</td></tr></table><br/></div></div>"
            ]
          },
          "metadata": {}
        },
        {
          "output_type": "display_data",
          "data": {
            "text/plain": [
              "<IPython.core.display.HTML object>"
            ],
            "text/html": [
              " View run <strong style=\"color:#cdcd00\">distinctive-sweep-4</strong> at: <a href='https://wandb.ai/coffeegang/RNN_preliminary_tests/runs/er46i3x6' target=\"_blank\">https://wandb.ai/coffeegang/RNN_preliminary_tests/runs/er46i3x6</a><br/>Synced 5 W&B file(s), 1 media file(s), 0 artifact file(s) and 0 other file(s)"
            ]
          },
          "metadata": {}
        },
        {
          "output_type": "display_data",
          "data": {
            "text/plain": [
              "<IPython.core.display.HTML object>"
            ],
            "text/html": [
              "Find logs at: <code>./wandb/run-20240128_124547-er46i3x6/logs</code>"
            ]
          },
          "metadata": {}
        },
        {
          "output_type": "stream",
          "name": "stderr",
          "text": [
            "\u001b[34m\u001b[1mwandb\u001b[0m: Agent Starting Run: rgat6oy7 with config:\n",
            "\u001b[34m\u001b[1mwandb\u001b[0m: \treview_length: None\n",
            "\u001b[34m\u001b[1mwandb\u001b[0m: \ttraining_set_name: Prime_Pantry\n",
            "\u001b[34m\u001b[1mwandb\u001b[0m: \tvocab_size: 500\n"
          ]
        },
        {
          "output_type": "display_data",
          "data": {
            "text/plain": [
              "VBox(children=(Label(value='Waiting for wandb.init()...\\r'), FloatProgress(value=0.011112531455546559, max=1.0…"
            ],
            "application/vnd.jupyter.widget-view+json": {
              "version_major": 2,
              "version_minor": 0,
              "model_id": "f3c7ecabce0c4f038a8b95bee3894a26"
            }
          },
          "metadata": {}
        },
        {
          "output_type": "display_data",
          "data": {
            "text/plain": [
              "<IPython.core.display.HTML object>"
            ],
            "text/html": [
              "Tracking run with wandb version 0.16.2"
            ]
          },
          "metadata": {}
        },
        {
          "output_type": "display_data",
          "data": {
            "text/plain": [
              "<IPython.core.display.HTML object>"
            ],
            "text/html": [
              "Run data is saved locally in <code>/content/gdrive/.shortcut-targets-by-id/1osKmyrDLORFSpes1mwrU-W7OXM-to6bK/AML_Exam/Problem2/wandb/run-20240128_131441-rgat6oy7</code>"
            ]
          },
          "metadata": {}
        },
        {
          "output_type": "display_data",
          "data": {
            "text/plain": [
              "<IPython.core.display.HTML object>"
            ],
            "text/html": [
              "Syncing run <strong><a href='https://wandb.ai/coffeegang/RNN_preliminary_tests/runs/rgat6oy7' target=\"_blank\">stoic-sweep-5</a></strong> to <a href='https://wandb.ai/coffeegang/RNN_preliminary_tests' target=\"_blank\">Weights & Biases</a> (<a href='https://wandb.me/run' target=\"_blank\">docs</a>)<br/>Sweep page: <a href='https://wandb.ai/coffeegang/RNN_preliminary_tests/sweeps/rd1v16t6' target=\"_blank\">https://wandb.ai/coffeegang/RNN_preliminary_tests/sweeps/rd1v16t6</a>"
            ]
          },
          "metadata": {}
        },
        {
          "output_type": "display_data",
          "data": {
            "text/plain": [
              "<IPython.core.display.HTML object>"
            ],
            "text/html": [
              " View project at <a href='https://wandb.ai/coffeegang/RNN_preliminary_tests' target=\"_blank\">https://wandb.ai/coffeegang/RNN_preliminary_tests</a>"
            ]
          },
          "metadata": {}
        },
        {
          "output_type": "display_data",
          "data": {
            "text/plain": [
              "<IPython.core.display.HTML object>"
            ],
            "text/html": [
              " View sweep at <a href='https://wandb.ai/coffeegang/RNN_preliminary_tests/sweeps/rd1v16t6' target=\"_blank\">https://wandb.ai/coffeegang/RNN_preliminary_tests/sweeps/rd1v16t6</a>"
            ]
          },
          "metadata": {}
        },
        {
          "output_type": "display_data",
          "data": {
            "text/plain": [
              "<IPython.core.display.HTML object>"
            ],
            "text/html": [
              " View run at <a href='https://wandb.ai/coffeegang/RNN_preliminary_tests/runs/rgat6oy7' target=\"_blank\">https://wandb.ai/coffeegang/RNN_preliminary_tests/runs/rgat6oy7</a>"
            ]
          },
          "metadata": {}
        },
        {
          "output_type": "stream",
          "name": "stdout",
          "text": [
            "Epoch 1/50\n",
            "556/556 [==============================] - 53s 89ms/step - loss: 1.2142 - accuracy: 0.4682 - val_loss: 1.0503 - val_accuracy: 0.5511\n",
            "Epoch 2/50\n",
            "556/556 [==============================] - 39s 70ms/step - loss: 1.1193 - accuracy: 0.5097 - val_loss: 0.8717 - val_accuracy: 0.6882\n",
            "Epoch 3/50\n",
            "556/556 [==============================] - 38s 68ms/step - loss: 1.0754 - accuracy: 0.5321 - val_loss: 0.8726 - val_accuracy: 0.6703\n",
            "Epoch 4/50\n",
            "556/556 [==============================] - 38s 68ms/step - loss: 1.0468 - accuracy: 0.5467 - val_loss: 0.8808 - val_accuracy: 0.6404\n",
            "Epoch 5/50\n",
            "556/556 [==============================] - 38s 68ms/step - loss: 1.0258 - accuracy: 0.5544 - val_loss: 0.8167 - val_accuracy: 0.6737\n",
            "Epoch 6/50\n",
            "556/556 [==============================] - 37s 67ms/step - loss: 1.0019 - accuracy: 0.5665 - val_loss: 0.8884 - val_accuracy: 0.6477\n",
            "Epoch 7/50\n",
            "556/556 [==============================] - 37s 67ms/step - loss: 0.9820 - accuracy: 0.5739 - val_loss: 0.9560 - val_accuracy: 0.6058\n",
            "Epoch 8/50\n",
            "556/556 [==============================] - 38s 68ms/step - loss: 0.9740 - accuracy: 0.5789 - val_loss: 1.0238 - val_accuracy: 0.6224\n",
            "Epoch 9/50\n",
            "556/556 [==============================] - 38s 68ms/step - loss: 0.9526 - accuracy: 0.5896 - val_loss: 0.9986 - val_accuracy: 0.5994\n",
            "Epoch 10/50\n",
            "556/556 [==============================] - 38s 68ms/step - loss: 0.9434 - accuracy: 0.5947 - val_loss: 0.8961 - val_accuracy: 0.6718\n",
            "Epoch 11/50\n",
            "556/556 [==============================] - 38s 68ms/step - loss: 0.9403 - accuracy: 0.5955 - val_loss: 0.9331 - val_accuracy: 0.6629\n",
            "Epoch 12/50\n",
            "556/556 [==============================] - 38s 68ms/step - loss: 0.9346 - accuracy: 0.5976 - val_loss: 0.9104 - val_accuracy: 0.6423\n",
            "Epoch 13/50\n",
            "556/556 [==============================] - 38s 68ms/step - loss: 0.9259 - accuracy: 0.6042 - val_loss: 0.9593 - val_accuracy: 0.6319\n",
            "Epoch 14/50\n",
            "556/556 [==============================] - 38s 68ms/step - loss: 0.9233 - accuracy: 0.6054 - val_loss: 0.8601 - val_accuracy: 0.6642\n",
            "Epoch 15/50\n",
            "556/556 [==============================] - 37s 67ms/step - loss: 0.9184 - accuracy: 0.6064 - val_loss: 0.8895 - val_accuracy: 0.6912\n",
            "Epoch 16/50\n",
            "556/556 [==============================] - 38s 68ms/step - loss: 0.9199 - accuracy: 0.6082 - val_loss: 1.0616 - val_accuracy: 0.5868\n",
            "Epoch 17/50\n",
            "556/556 [==============================] - 37s 67ms/step - loss: 0.9159 - accuracy: 0.6058 - val_loss: 0.9100 - val_accuracy: 0.6684\n",
            "Epoch 18/50\n",
            "556/556 [==============================] - 38s 67ms/step - loss: 0.9219 - accuracy: 0.6073 - val_loss: 0.9323 - val_accuracy: 0.6478\n",
            "Epoch 19/50\n",
            "556/556 [==============================] - 37s 67ms/step - loss: 0.9079 - accuracy: 0.6124 - val_loss: 0.9715 - val_accuracy: 0.6380\n",
            "Epoch 20/50\n",
            "556/556 [==============================] - 37s 67ms/step - loss: 0.9090 - accuracy: 0.6103 - val_loss: 0.9935 - val_accuracy: 0.6347\n",
            "Epoch 21/50\n",
            "556/556 [==============================] - 37s 67ms/step - loss: 0.9142 - accuracy: 0.6076 - val_loss: 1.0419 - val_accuracy: 0.5988\n",
            "Epoch 22/50\n",
            "556/556 [==============================] - 38s 68ms/step - loss: 0.9037 - accuracy: 0.6136 - val_loss: 0.8904 - val_accuracy: 0.6855\n",
            "Epoch 23/50\n",
            "556/556 [==============================] - 37s 67ms/step - loss: 0.9063 - accuracy: 0.6140 - val_loss: 0.9146 - val_accuracy: 0.6568\n",
            "Epoch 24/50\n",
            "556/556 [==============================] - 38s 68ms/step - loss: 0.9154 - accuracy: 0.6067 - val_loss: 0.8934 - val_accuracy: 0.6899\n",
            "Epoch 25/50\n",
            "556/556 [==============================] - 38s 68ms/step - loss: 0.9447 - accuracy: 0.5955 - val_loss: 0.9729 - val_accuracy: 0.6347\n",
            "Epoch 26/50\n",
            "556/556 [==============================] - 38s 68ms/step - loss: 0.9248 - accuracy: 0.6033 - val_loss: 1.1940 - val_accuracy: 0.5682\n"
          ]
        },
        {
          "output_type": "display_data",
          "data": {
            "text/plain": [
              "VBox(children=(Label(value='0.004 MB of 0.017 MB uploaded\\r'), FloatProgress(value=0.2170139880102769, max=1.0…"
            ],
            "application/vnd.jupyter.widget-view+json": {
              "version_major": 2,
              "version_minor": 0,
              "model_id": "9435323b6f354cc9afa241aeb670da5b"
            }
          },
          "metadata": {}
        },
        {
          "output_type": "display_data",
          "data": {
            "text/plain": [
              "<IPython.core.display.HTML object>"
            ],
            "text/html": [
              "<style>\n",
              "    table.wandb td:nth-child(1) { padding: 0 10px; text-align: left ; width: auto;} td:nth-child(2) {text-align: left ; width: 100%}\n",
              "    .wandb-row { display: flex; flex-direction: row; flex-wrap: wrap; justify-content: flex-start; width: 100% }\n",
              "    .wandb-col { display: flex; flex-direction: column; flex-basis: 100%; flex: 1; padding: 10px; }\n",
              "    </style>\n",
              "<div class=\"wandb-row\"><div class=\"wandb-col\"><h3>Run history:</h3><br/><table class=\"wandb\"><tr><td>accuracy</td><td>▁▃▄▅▅▆▆▆▇▇▇▇████████████▇▇</td></tr><tr><td>epoch</td><td>▁▁▂▂▂▂▃▃▃▄▄▄▄▅▅▅▅▆▆▆▇▇▇▇██</td></tr><tr><td>loss</td><td>█▆▅▄▄▃▃▃▂▂▂▂▂▁▁▁▁▁▁▁▁▁▁▁▂▁</td></tr><tr><td>size-train</td><td>▁</td></tr><tr><td>size-val</td><td>▁</td></tr><tr><td>val_accuracy</td><td>▁█▇▅▇▆▄▅▃▇▇▆▅▇█▃▇▆▅▅▃█▆█▅▂</td></tr><tr><td>val_loss</td><td>▅▂▂▂▁▂▄▅▄▂▃▃▄▂▂▆▃▃▄▄▅▂▃▂▄█</td></tr></table><br/></div><div class=\"wandb-col\"><h3>Run summary:</h3><br/><table class=\"wandb\"><tr><td>accuracy</td><td>0.60328</td></tr><tr><td>best_epoch</td><td>4</td></tr><tr><td>best_val_loss</td><td>0.81671</td></tr><tr><td>epoch</td><td>25</td></tr><tr><td>loss</td><td>0.9248</td></tr><tr><td>size-train</td><td>35521</td></tr><tr><td>size-val</td><td>5259</td></tr><tr><td>val_accuracy</td><td>0.56817</td></tr><tr><td>val_loss</td><td>1.19399</td></tr></table><br/></div></div>"
            ]
          },
          "metadata": {}
        },
        {
          "output_type": "display_data",
          "data": {
            "text/plain": [
              "<IPython.core.display.HTML object>"
            ],
            "text/html": [
              " View run <strong style=\"color:#cdcd00\">stoic-sweep-5</strong> at: <a href='https://wandb.ai/coffeegang/RNN_preliminary_tests/runs/rgat6oy7' target=\"_blank\">https://wandb.ai/coffeegang/RNN_preliminary_tests/runs/rgat6oy7</a><br/>Synced 5 W&B file(s), 1 media file(s), 0 artifact file(s) and 0 other file(s)"
            ]
          },
          "metadata": {}
        },
        {
          "output_type": "display_data",
          "data": {
            "text/plain": [
              "<IPython.core.display.HTML object>"
            ],
            "text/html": [
              "Find logs at: <code>./wandb/run-20240128_131441-rgat6oy7/logs</code>"
            ]
          },
          "metadata": {}
        },
        {
          "output_type": "stream",
          "name": "stderr",
          "text": [
            "\u001b[34m\u001b[1mwandb\u001b[0m: Agent Starting Run: oc5m3m0m with config:\n",
            "\u001b[34m\u001b[1mwandb\u001b[0m: \treview_length: None\n",
            "\u001b[34m\u001b[1mwandb\u001b[0m: \ttraining_set_name: Prime_Pantry\n",
            "\u001b[34m\u001b[1mwandb\u001b[0m: \tvocab_size: 1000\n"
          ]
        },
        {
          "output_type": "display_data",
          "data": {
            "text/plain": [
              "<IPython.core.display.HTML object>"
            ],
            "text/html": [
              "Tracking run with wandb version 0.16.2"
            ]
          },
          "metadata": {}
        },
        {
          "output_type": "display_data",
          "data": {
            "text/plain": [
              "<IPython.core.display.HTML object>"
            ],
            "text/html": [
              "Run data is saved locally in <code>/content/gdrive/.shortcut-targets-by-id/1osKmyrDLORFSpes1mwrU-W7OXM-to6bK/AML_Exam/Problem2/wandb/run-20240128_133131-oc5m3m0m</code>"
            ]
          },
          "metadata": {}
        },
        {
          "output_type": "display_data",
          "data": {
            "text/plain": [
              "<IPython.core.display.HTML object>"
            ],
            "text/html": [
              "Syncing run <strong><a href='https://wandb.ai/coffeegang/RNN_preliminary_tests/runs/oc5m3m0m' target=\"_blank\">absurd-sweep-6</a></strong> to <a href='https://wandb.ai/coffeegang/RNN_preliminary_tests' target=\"_blank\">Weights & Biases</a> (<a href='https://wandb.me/run' target=\"_blank\">docs</a>)<br/>Sweep page: <a href='https://wandb.ai/coffeegang/RNN_preliminary_tests/sweeps/rd1v16t6' target=\"_blank\">https://wandb.ai/coffeegang/RNN_preliminary_tests/sweeps/rd1v16t6</a>"
            ]
          },
          "metadata": {}
        },
        {
          "output_type": "display_data",
          "data": {
            "text/plain": [
              "<IPython.core.display.HTML object>"
            ],
            "text/html": [
              " View project at <a href='https://wandb.ai/coffeegang/RNN_preliminary_tests' target=\"_blank\">https://wandb.ai/coffeegang/RNN_preliminary_tests</a>"
            ]
          },
          "metadata": {}
        },
        {
          "output_type": "display_data",
          "data": {
            "text/plain": [
              "<IPython.core.display.HTML object>"
            ],
            "text/html": [
              " View sweep at <a href='https://wandb.ai/coffeegang/RNN_preliminary_tests/sweeps/rd1v16t6' target=\"_blank\">https://wandb.ai/coffeegang/RNN_preliminary_tests/sweeps/rd1v16t6</a>"
            ]
          },
          "metadata": {}
        },
        {
          "output_type": "display_data",
          "data": {
            "text/plain": [
              "<IPython.core.display.HTML object>"
            ],
            "text/html": [
              " View run at <a href='https://wandb.ai/coffeegang/RNN_preliminary_tests/runs/oc5m3m0m' target=\"_blank\">https://wandb.ai/coffeegang/RNN_preliminary_tests/runs/oc5m3m0m</a>"
            ]
          },
          "metadata": {}
        },
        {
          "output_type": "stream",
          "name": "stdout",
          "text": [
            "Epoch 1/50\n",
            "556/556 [==============================] - 57s 97ms/step - loss: 1.1794 - accuracy: 0.4819 - val_loss: 1.0417 - val_accuracy: 0.5752\n",
            "Epoch 2/50\n",
            "556/556 [==============================] - 41s 73ms/step - loss: 1.0611 - accuracy: 0.5386 - val_loss: 0.8471 - val_accuracy: 0.6958\n",
            "Epoch 3/50\n",
            "556/556 [==============================] - 39s 69ms/step - loss: 1.0123 - accuracy: 0.5596 - val_loss: 0.7725 - val_accuracy: 0.7366\n",
            "Epoch 4/50\n",
            "556/556 [==============================] - 39s 70ms/step - loss: 0.9731 - accuracy: 0.5787 - val_loss: 0.8927 - val_accuracy: 0.6596\n",
            "Epoch 5/50\n",
            "556/556 [==============================] - 38s 69ms/step - loss: 0.9414 - accuracy: 0.5915 - val_loss: 0.7866 - val_accuracy: 0.7233\n",
            "Epoch 6/50\n",
            "556/556 [==============================] - 38s 68ms/step - loss: 0.9170 - accuracy: 0.6084 - val_loss: 1.0047 - val_accuracy: 0.6269\n",
            "Epoch 7/50\n",
            "556/556 [==============================] - 38s 68ms/step - loss: 0.8890 - accuracy: 0.6208 - val_loss: 0.8532 - val_accuracy: 0.6781\n",
            "Epoch 8/50\n",
            "556/556 [==============================] - 38s 69ms/step - loss: 0.8686 - accuracy: 0.6302 - val_loss: 0.8370 - val_accuracy: 0.6712\n",
            "Epoch 9/50\n",
            "556/556 [==============================] - 38s 69ms/step - loss: 0.8452 - accuracy: 0.6418 - val_loss: 0.9826 - val_accuracy: 0.6115\n",
            "Epoch 10/50\n",
            "556/556 [==============================] - 38s 68ms/step - loss: 0.8281 - accuracy: 0.6492 - val_loss: 0.9132 - val_accuracy: 0.6610\n",
            "Epoch 11/50\n",
            "556/556 [==============================] - 38s 68ms/step - loss: 0.8130 - accuracy: 0.6565 - val_loss: 1.0138 - val_accuracy: 0.6471\n",
            "Epoch 12/50\n",
            "556/556 [==============================] - 38s 69ms/step - loss: 0.7958 - accuracy: 0.6657 - val_loss: 0.9387 - val_accuracy: 0.6693\n",
            "Epoch 13/50\n",
            "556/556 [==============================] - 38s 68ms/step - loss: 0.7884 - accuracy: 0.6690 - val_loss: 1.0748 - val_accuracy: 0.6397\n",
            "Epoch 14/50\n",
            "556/556 [==============================] - 38s 68ms/step - loss: 0.7810 - accuracy: 0.6726 - val_loss: 1.0558 - val_accuracy: 0.6505\n",
            "Epoch 15/50\n",
            "556/556 [==============================] - 38s 68ms/step - loss: 0.7648 - accuracy: 0.6799 - val_loss: 1.0536 - val_accuracy: 0.6378\n",
            "Epoch 16/50\n",
            "556/556 [==============================] - 38s 68ms/step - loss: 0.7610 - accuracy: 0.6783 - val_loss: 1.2845 - val_accuracy: 0.6100\n",
            "Epoch 17/50\n",
            "556/556 [==============================] - 38s 68ms/step - loss: 0.7580 - accuracy: 0.6841 - val_loss: 1.1146 - val_accuracy: 0.6250\n",
            "Epoch 18/50\n",
            "556/556 [==============================] - 38s 68ms/step - loss: 0.7505 - accuracy: 0.6860 - val_loss: 1.1791 - val_accuracy: 0.6205\n",
            "Epoch 19/50\n",
            "556/556 [==============================] - 38s 68ms/step - loss: 0.7529 - accuracy: 0.6871 - val_loss: 0.9555 - val_accuracy: 0.6767\n",
            "Epoch 20/50\n",
            "556/556 [==============================] - 38s 68ms/step - loss: 0.7404 - accuracy: 0.6929 - val_loss: 1.1315 - val_accuracy: 0.6224\n",
            "Epoch 21/50\n",
            "556/556 [==============================] - 38s 68ms/step - loss: 0.7410 - accuracy: 0.6889 - val_loss: 1.1120 - val_accuracy: 0.6317\n",
            "Epoch 22/50\n",
            "556/556 [==============================] - 38s 68ms/step - loss: 0.7317 - accuracy: 0.6942 - val_loss: 1.1015 - val_accuracy: 0.6395\n",
            "Epoch 23/50\n",
            "556/556 [==============================] - 38s 68ms/step - loss: 0.7483 - accuracy: 0.6878 - val_loss: 1.0925 - val_accuracy: 0.6389\n",
            "Epoch 24/50\n",
            "556/556 [==============================] - 38s 67ms/step - loss: 0.7852 - accuracy: 0.6718 - val_loss: 1.2469 - val_accuracy: 0.5805\n",
            "Epoch 25/50\n",
            "556/556 [==============================] - 38s 68ms/step - loss: 0.7663 - accuracy: 0.6794 - val_loss: 1.1345 - val_accuracy: 0.6262\n"
          ]
        },
        {
          "output_type": "display_data",
          "data": {
            "text/plain": [
              "VBox(children=(Label(value='0.003 MB of 0.003 MB uploaded\\r'), FloatProgress(value=1.0, max=1.0)))"
            ],
            "application/vnd.jupyter.widget-view+json": {
              "version_major": 2,
              "version_minor": 0,
              "model_id": "10b33732302b46b3bd2e293abec5d686"
            }
          },
          "metadata": {}
        },
        {
          "output_type": "display_data",
          "data": {
            "text/plain": [
              "<IPython.core.display.HTML object>"
            ],
            "text/html": [
              "<style>\n",
              "    table.wandb td:nth-child(1) { padding: 0 10px; text-align: left ; width: auto;} td:nth-child(2) {text-align: left ; width: 100%}\n",
              "    .wandb-row { display: flex; flex-direction: row; flex-wrap: wrap; justify-content: flex-start; width: 100% }\n",
              "    .wandb-col { display: flex; flex-direction: column; flex-basis: 100%; flex: 1; padding: 10px; }\n",
              "    </style>\n",
              "<div class=\"wandb-row\"><div class=\"wandb-col\"><h3>Run history:</h3><br/><table class=\"wandb\"><tr><td>accuracy</td><td>▁▃▄▄▅▅▆▆▆▇▇▇▇▇█▇███████▇█</td></tr><tr><td>epoch</td><td>▁▁▂▂▂▂▃▃▃▄▄▄▅▅▅▅▆▆▆▇▇▇▇██</td></tr><tr><td>loss</td><td>█▆▅▅▄▄▃▃▃▃▂▂▂▂▂▁▁▁▁▁▁▁▁▂▂</td></tr><tr><td>size-train</td><td>▁</td></tr><tr><td>size-val</td><td>▁</td></tr><tr><td>val_accuracy</td><td>▁▆█▅▇▃▅▅▃▅▄▅▄▄▄▃▃▃▅▃▃▄▄▁▃</td></tr><tr><td>val_loss</td><td>▅▂▁▃▁▄▂▂▄▃▄▃▅▅▅█▆▇▄▆▆▅▅▇▆</td></tr></table><br/></div><div class=\"wandb-col\"><h3>Run summary:</h3><br/><table class=\"wandb\"><tr><td>accuracy</td><td>0.6794</td></tr><tr><td>best_epoch</td><td>2</td></tr><tr><td>best_val_loss</td><td>0.77251</td></tr><tr><td>epoch</td><td>24</td></tr><tr><td>loss</td><td>0.76633</td></tr><tr><td>size-train</td><td>35521</td></tr><tr><td>size-val</td><td>5259</td></tr><tr><td>val_accuracy</td><td>0.62616</td></tr><tr><td>val_loss</td><td>1.13448</td></tr></table><br/></div></div>"
            ]
          },
          "metadata": {}
        },
        {
          "output_type": "display_data",
          "data": {
            "text/plain": [
              "<IPython.core.display.HTML object>"
            ],
            "text/html": [
              " View run <strong style=\"color:#cdcd00\">absurd-sweep-6</strong> at: <a href='https://wandb.ai/coffeegang/RNN_preliminary_tests/runs/oc5m3m0m' target=\"_blank\">https://wandb.ai/coffeegang/RNN_preliminary_tests/runs/oc5m3m0m</a><br/>Synced 5 W&B file(s), 1 media file(s), 0 artifact file(s) and 0 other file(s)"
            ]
          },
          "metadata": {}
        },
        {
          "output_type": "display_data",
          "data": {
            "text/plain": [
              "<IPython.core.display.HTML object>"
            ],
            "text/html": [
              "Find logs at: <code>./wandb/run-20240128_133131-oc5m3m0m/logs</code>"
            ]
          },
          "metadata": {}
        },
        {
          "output_type": "stream",
          "name": "stderr",
          "text": [
            "\u001b[34m\u001b[1mwandb\u001b[0m: Agent Starting Run: ae7g1803 with config:\n",
            "\u001b[34m\u001b[1mwandb\u001b[0m: \treview_length: None\n",
            "\u001b[34m\u001b[1mwandb\u001b[0m: \ttraining_set_name: Prime_Pantry\n",
            "\u001b[34m\u001b[1mwandb\u001b[0m: \tvocab_size: 1500\n"
          ]
        },
        {
          "output_type": "display_data",
          "data": {
            "text/plain": [
              "<IPython.core.display.HTML object>"
            ],
            "text/html": [
              "Tracking run with wandb version 0.16.2"
            ]
          },
          "metadata": {}
        },
        {
          "output_type": "display_data",
          "data": {
            "text/plain": [
              "<IPython.core.display.HTML object>"
            ],
            "text/html": [
              "Run data is saved locally in <code>/content/gdrive/.shortcut-targets-by-id/1osKmyrDLORFSpes1mwrU-W7OXM-to6bK/AML_Exam/Problem2/wandb/run-20240128_134756-ae7g1803</code>"
            ]
          },
          "metadata": {}
        },
        {
          "output_type": "display_data",
          "data": {
            "text/plain": [
              "<IPython.core.display.HTML object>"
            ],
            "text/html": [
              "Syncing run <strong><a href='https://wandb.ai/coffeegang/RNN_preliminary_tests/runs/ae7g1803' target=\"_blank\">exalted-sweep-7</a></strong> to <a href='https://wandb.ai/coffeegang/RNN_preliminary_tests' target=\"_blank\">Weights & Biases</a> (<a href='https://wandb.me/run' target=\"_blank\">docs</a>)<br/>Sweep page: <a href='https://wandb.ai/coffeegang/RNN_preliminary_tests/sweeps/rd1v16t6' target=\"_blank\">https://wandb.ai/coffeegang/RNN_preliminary_tests/sweeps/rd1v16t6</a>"
            ]
          },
          "metadata": {}
        },
        {
          "output_type": "display_data",
          "data": {
            "text/plain": [
              "<IPython.core.display.HTML object>"
            ],
            "text/html": [
              " View project at <a href='https://wandb.ai/coffeegang/RNN_preliminary_tests' target=\"_blank\">https://wandb.ai/coffeegang/RNN_preliminary_tests</a>"
            ]
          },
          "metadata": {}
        },
        {
          "output_type": "display_data",
          "data": {
            "text/plain": [
              "<IPython.core.display.HTML object>"
            ],
            "text/html": [
              " View sweep at <a href='https://wandb.ai/coffeegang/RNN_preliminary_tests/sweeps/rd1v16t6' target=\"_blank\">https://wandb.ai/coffeegang/RNN_preliminary_tests/sweeps/rd1v16t6</a>"
            ]
          },
          "metadata": {}
        },
        {
          "output_type": "display_data",
          "data": {
            "text/plain": [
              "<IPython.core.display.HTML object>"
            ],
            "text/html": [
              " View run at <a href='https://wandb.ai/coffeegang/RNN_preliminary_tests/runs/ae7g1803' target=\"_blank\">https://wandb.ai/coffeegang/RNN_preliminary_tests/runs/ae7g1803</a>"
            ]
          },
          "metadata": {}
        },
        {
          "output_type": "stream",
          "name": "stdout",
          "text": [
            "Epoch 1/50\n",
            "556/556 [==============================] - 59s 100ms/step - loss: 1.1695 - accuracy: 0.4897 - val_loss: 1.0415 - val_accuracy: 0.6140\n",
            "Epoch 2/50\n",
            "556/556 [==============================] - 41s 73ms/step - loss: 1.0521 - accuracy: 0.5427 - val_loss: 0.8215 - val_accuracy: 0.6672\n",
            "Epoch 3/50\n",
            "556/556 [==============================] - 39s 71ms/step - loss: 0.9993 - accuracy: 0.5653 - val_loss: 0.8529 - val_accuracy: 0.6927\n",
            "Epoch 4/50\n",
            "556/556 [==============================] - 38s 68ms/step - loss: 0.9478 - accuracy: 0.5905 - val_loss: 1.0014 - val_accuracy: 0.6402\n",
            "Epoch 5/50\n",
            "556/556 [==============================] - 38s 69ms/step - loss: 0.9115 - accuracy: 0.6096 - val_loss: 0.8939 - val_accuracy: 0.6621\n",
            "Epoch 6/50\n",
            "556/556 [==============================] - 38s 68ms/step - loss: 0.8801 - accuracy: 0.6258 - val_loss: 1.0686 - val_accuracy: 0.5933\n",
            "Epoch 7/50\n",
            "556/556 [==============================] - 37s 67ms/step - loss: 0.8530 - accuracy: 0.6352 - val_loss: 0.8604 - val_accuracy: 0.7007\n",
            "Epoch 8/50\n",
            "556/556 [==============================] - 38s 68ms/step - loss: 0.8298 - accuracy: 0.6493 - val_loss: 1.0805 - val_accuracy: 0.5834\n",
            "Epoch 9/50\n",
            "556/556 [==============================] - 37s 67ms/step - loss: 0.7928 - accuracy: 0.6689 - val_loss: 0.9633 - val_accuracy: 0.6819\n",
            "Epoch 10/50\n",
            "556/556 [==============================] - 38s 68ms/step - loss: 0.7758 - accuracy: 0.6744 - val_loss: 1.0318 - val_accuracy: 0.6233\n",
            "Epoch 11/50\n",
            "556/556 [==============================] - 38s 68ms/step - loss: 0.7528 - accuracy: 0.6858 - val_loss: 1.0303 - val_accuracy: 0.6539\n",
            "Epoch 12/50\n",
            "556/556 [==============================] - 38s 68ms/step - loss: 0.7399 - accuracy: 0.6933 - val_loss: 1.1878 - val_accuracy: 0.5976\n",
            "Epoch 13/50\n",
            "556/556 [==============================] - 37s 67ms/step - loss: 0.7344 - accuracy: 0.6945 - val_loss: 1.1338 - val_accuracy: 0.6091\n",
            "Epoch 14/50\n",
            "556/556 [==============================] - 38s 68ms/step - loss: 0.7238 - accuracy: 0.7000 - val_loss: 1.1081 - val_accuracy: 0.5975\n",
            "Epoch 15/50\n",
            "556/556 [==============================] - 38s 68ms/step - loss: 0.7050 - accuracy: 0.7087 - val_loss: 1.1357 - val_accuracy: 0.5994\n",
            "Epoch 16/50\n",
            "556/556 [==============================] - 37s 67ms/step - loss: 0.7055 - accuracy: 0.7071 - val_loss: 1.2202 - val_accuracy: 0.5811\n",
            "Epoch 17/50\n",
            "556/556 [==============================] - 37s 67ms/step - loss: 0.6931 - accuracy: 0.7133 - val_loss: 1.1109 - val_accuracy: 0.6345\n",
            "Epoch 18/50\n",
            "556/556 [==============================] - 38s 68ms/step - loss: 0.6866 - accuracy: 0.7174 - val_loss: 1.2819 - val_accuracy: 0.6032\n",
            "Epoch 19/50\n",
            "556/556 [==============================] - 38s 68ms/step - loss: 0.6884 - accuracy: 0.7140 - val_loss: 1.3312 - val_accuracy: 0.5398\n",
            "Epoch 20/50\n",
            "556/556 [==============================] - 38s 68ms/step - loss: 0.6801 - accuracy: 0.7214 - val_loss: 1.3459 - val_accuracy: 0.5792\n",
            "Epoch 21/50\n",
            "556/556 [==============================] - 37s 67ms/step - loss: 0.6713 - accuracy: 0.7261 - val_loss: 1.3462 - val_accuracy: 0.5908\n",
            "Epoch 22/50\n",
            "556/556 [==============================] - 37s 67ms/step - loss: 0.6747 - accuracy: 0.7237 - val_loss: 1.2166 - val_accuracy: 0.6030\n",
            "Epoch 23/50\n",
            "556/556 [==============================] - 37s 67ms/step - loss: 0.7084 - accuracy: 0.7092 - val_loss: 1.2902 - val_accuracy: 0.5615\n",
            "Epoch 24/50\n",
            "556/556 [==============================] - 38s 68ms/step - loss: 0.6917 - accuracy: 0.7145 - val_loss: 1.2332 - val_accuracy: 0.6168\n"
          ]
        },
        {
          "output_type": "display_data",
          "data": {
            "text/plain": [
              "VBox(children=(Label(value='0.003 MB of 0.003 MB uploaded\\r'), FloatProgress(value=1.0, max=1.0)))"
            ],
            "application/vnd.jupyter.widget-view+json": {
              "version_major": 2,
              "version_minor": 0,
              "model_id": "6bb9884c643d40aca404ea2be1227766"
            }
          },
          "metadata": {}
        },
        {
          "output_type": "display_data",
          "data": {
            "text/plain": [
              "<IPython.core.display.HTML object>"
            ],
            "text/html": [
              "<style>\n",
              "    table.wandb td:nth-child(1) { padding: 0 10px; text-align: left ; width: auto;} td:nth-child(2) {text-align: left ; width: 100%}\n",
              "    .wandb-row { display: flex; flex-direction: row; flex-wrap: wrap; justify-content: flex-start; width: 100% }\n",
              "    .wandb-col { display: flex; flex-direction: column; flex-basis: 100%; flex: 1; padding: 10px; }\n",
              "    </style>\n",
              "<div class=\"wandb-row\"><div class=\"wandb-col\"><h3>Run history:</h3><br/><table class=\"wandb\"><tr><td>accuracy</td><td>▁▃▃▄▅▅▅▆▆▆▇▇▇▇▇▇██████▇█</td></tr><tr><td>epoch</td><td>▁▁▂▂▂▃▃▃▃▄▄▄▅▅▅▆▆▆▆▇▇▇██</td></tr><tr><td>loss</td><td>█▆▆▅▄▄▄▃▃▂▂▂▂▂▁▁▁▁▁▁▁▁▂▁</td></tr><tr><td>size-train</td><td>▁</td></tr><tr><td>size-val</td><td>▁</td></tr><tr><td>val_accuracy</td><td>▄▇█▅▆▃█▃▇▅▆▄▄▄▄▃▅▄▁▃▃▄▂▄</td></tr><tr><td>val_loss</td><td>▄▁▁▃▂▄▂▄▃▄▄▆▅▅▅▆▅▇███▆▇▆</td></tr></table><br/></div><div class=\"wandb-col\"><h3>Run summary:</h3><br/><table class=\"wandb\"><tr><td>accuracy</td><td>0.71454</td></tr><tr><td>best_epoch</td><td>1</td></tr><tr><td>best_val_loss</td><td>0.8215</td></tr><tr><td>epoch</td><td>23</td></tr><tr><td>loss</td><td>0.69172</td></tr><tr><td>size-train</td><td>35521</td></tr><tr><td>size-val</td><td>5259</td></tr><tr><td>val_accuracy</td><td>0.61685</td></tr><tr><td>val_loss</td><td>1.23318</td></tr></table><br/></div></div>"
            ]
          },
          "metadata": {}
        },
        {
          "output_type": "display_data",
          "data": {
            "text/plain": [
              "<IPython.core.display.HTML object>"
            ],
            "text/html": [
              " View run <strong style=\"color:#cdcd00\">exalted-sweep-7</strong> at: <a href='https://wandb.ai/coffeegang/RNN_preliminary_tests/runs/ae7g1803' target=\"_blank\">https://wandb.ai/coffeegang/RNN_preliminary_tests/runs/ae7g1803</a><br/>Synced 5 W&B file(s), 1 media file(s), 0 artifact file(s) and 0 other file(s)"
            ]
          },
          "metadata": {}
        },
        {
          "output_type": "display_data",
          "data": {
            "text/plain": [
              "<IPython.core.display.HTML object>"
            ],
            "text/html": [
              "Find logs at: <code>./wandb/run-20240128_134756-ae7g1803/logs</code>"
            ]
          },
          "metadata": {}
        },
        {
          "output_type": "stream",
          "name": "stderr",
          "text": [
            "\u001b[34m\u001b[1mwandb\u001b[0m: Sweep Agent: Waiting for job.\n",
            "\u001b[34m\u001b[1mwandb\u001b[0m: Job received.\n",
            "\u001b[34m\u001b[1mwandb\u001b[0m: Agent Starting Run: 252ze1r2 with config:\n",
            "\u001b[34m\u001b[1mwandb\u001b[0m: \treview_length: None\n",
            "\u001b[34m\u001b[1mwandb\u001b[0m: \ttraining_set_name: Prime_Pantry\n",
            "\u001b[34m\u001b[1mwandb\u001b[0m: \tvocab_size: 2000\n"
          ]
        },
        {
          "output_type": "display_data",
          "data": {
            "text/plain": [
              "<IPython.core.display.HTML object>"
            ],
            "text/html": [
              "Tracking run with wandb version 0.16.2"
            ]
          },
          "metadata": {}
        },
        {
          "output_type": "display_data",
          "data": {
            "text/plain": [
              "<IPython.core.display.HTML object>"
            ],
            "text/html": [
              "Run data is saved locally in <code>/content/gdrive/.shortcut-targets-by-id/1osKmyrDLORFSpes1mwrU-W7OXM-to6bK/AML_Exam/Problem2/wandb/run-20240128_140350-252ze1r2</code>"
            ]
          },
          "metadata": {}
        },
        {
          "output_type": "display_data",
          "data": {
            "text/plain": [
              "<IPython.core.display.HTML object>"
            ],
            "text/html": [
              "Syncing run <strong><a href='https://wandb.ai/coffeegang/RNN_preliminary_tests/runs/252ze1r2' target=\"_blank\">copper-sweep-8</a></strong> to <a href='https://wandb.ai/coffeegang/RNN_preliminary_tests' target=\"_blank\">Weights & Biases</a> (<a href='https://wandb.me/run' target=\"_blank\">docs</a>)<br/>Sweep page: <a href='https://wandb.ai/coffeegang/RNN_preliminary_tests/sweeps/rd1v16t6' target=\"_blank\">https://wandb.ai/coffeegang/RNN_preliminary_tests/sweeps/rd1v16t6</a>"
            ]
          },
          "metadata": {}
        },
        {
          "output_type": "display_data",
          "data": {
            "text/plain": [
              "<IPython.core.display.HTML object>"
            ],
            "text/html": [
              " View project at <a href='https://wandb.ai/coffeegang/RNN_preliminary_tests' target=\"_blank\">https://wandb.ai/coffeegang/RNN_preliminary_tests</a>"
            ]
          },
          "metadata": {}
        },
        {
          "output_type": "display_data",
          "data": {
            "text/plain": [
              "<IPython.core.display.HTML object>"
            ],
            "text/html": [
              " View sweep at <a href='https://wandb.ai/coffeegang/RNN_preliminary_tests/sweeps/rd1v16t6' target=\"_blank\">https://wandb.ai/coffeegang/RNN_preliminary_tests/sweeps/rd1v16t6</a>"
            ]
          },
          "metadata": {}
        },
        {
          "output_type": "display_data",
          "data": {
            "text/plain": [
              "<IPython.core.display.HTML object>"
            ],
            "text/html": [
              " View run at <a href='https://wandb.ai/coffeegang/RNN_preliminary_tests/runs/252ze1r2' target=\"_blank\">https://wandb.ai/coffeegang/RNN_preliminary_tests/runs/252ze1r2</a>"
            ]
          },
          "metadata": {}
        },
        {
          "output_type": "stream",
          "name": "stdout",
          "text": [
            "Epoch 1/50\n",
            "556/556 [==============================] - 78s 136ms/step - loss: 1.1688 - accuracy: 0.4869 - val_loss: 0.7254 - val_accuracy: 0.7465\n",
            "Epoch 2/50\n",
            "556/556 [==============================] - 57s 103ms/step - loss: 1.0377 - accuracy: 0.5482 - val_loss: 0.7953 - val_accuracy: 0.6722\n",
            "Epoch 3/50\n",
            "556/556 [==============================] - 57s 102ms/step - loss: 0.9823 - accuracy: 0.5758 - val_loss: 0.7638 - val_accuracy: 0.7163\n",
            "Epoch 4/50\n",
            "556/556 [==============================] - 56s 100ms/step - loss: 0.9324 - accuracy: 0.6023 - val_loss: 0.9409 - val_accuracy: 0.6423\n",
            "Epoch 5/50\n",
            "556/556 [==============================] - 56s 100ms/step - loss: 0.8913 - accuracy: 0.6210 - val_loss: 0.7759 - val_accuracy: 0.7081\n",
            "Epoch 6/50\n",
            "556/556 [==============================] - 55s 99ms/step - loss: 0.8474 - accuracy: 0.6410 - val_loss: 0.8417 - val_accuracy: 0.6809\n",
            "Epoch 7/50\n",
            "556/556 [==============================] - 55s 99ms/step - loss: 0.8206 - accuracy: 0.6551 - val_loss: 0.9945 - val_accuracy: 0.6111\n",
            "Epoch 8/50\n",
            "556/556 [==============================] - 55s 100ms/step - loss: 0.7960 - accuracy: 0.6670 - val_loss: 0.9177 - val_accuracy: 0.6701\n",
            "Epoch 9/50\n",
            "556/556 [==============================] - 55s 99ms/step - loss: 0.7643 - accuracy: 0.6799 - val_loss: 0.9202 - val_accuracy: 0.6832\n",
            "Epoch 10/50\n",
            "556/556 [==============================] - 55s 98ms/step - loss: 0.7454 - accuracy: 0.6904 - val_loss: 0.9721 - val_accuracy: 0.6577\n",
            "Epoch 11/50\n",
            "556/556 [==============================] - 55s 99ms/step - loss: 0.7238 - accuracy: 0.7015 - val_loss: 1.0432 - val_accuracy: 0.6528\n",
            "Epoch 12/50\n",
            "556/556 [==============================] - 55s 99ms/step - loss: 0.7155 - accuracy: 0.7032 - val_loss: 1.0086 - val_accuracy: 0.6577\n",
            "Epoch 13/50\n",
            "556/556 [==============================] - 55s 99ms/step - loss: 0.7073 - accuracy: 0.7087 - val_loss: 1.0907 - val_accuracy: 0.6330\n",
            "Epoch 14/50\n",
            "556/556 [==============================] - 55s 99ms/step - loss: 0.6952 - accuracy: 0.7119 - val_loss: 1.0409 - val_accuracy: 0.6210\n",
            "Epoch 15/50\n",
            "556/556 [==============================] - 55s 98ms/step - loss: 0.6617 - accuracy: 0.7296 - val_loss: 1.0512 - val_accuracy: 0.6309\n",
            "Epoch 16/50\n",
            "556/556 [==============================] - 55s 98ms/step - loss: 0.6753 - accuracy: 0.7237 - val_loss: 1.0826 - val_accuracy: 0.6022\n",
            "Epoch 17/50\n",
            "556/556 [==============================] - 55s 99ms/step - loss: 0.6704 - accuracy: 0.7254 - val_loss: 1.0327 - val_accuracy: 0.6475\n",
            "Epoch 18/50\n",
            "556/556 [==============================] - 55s 98ms/step - loss: 0.6551 - accuracy: 0.7324 - val_loss: 1.1793 - val_accuracy: 0.6448\n",
            "Epoch 19/50\n",
            "556/556 [==============================] - 55s 99ms/step - loss: 0.6704 - accuracy: 0.7251 - val_loss: 1.0734 - val_accuracy: 0.6303\n",
            "Epoch 20/50\n",
            "556/556 [==============================] - 55s 99ms/step - loss: 0.6398 - accuracy: 0.7383 - val_loss: 1.1460 - val_accuracy: 0.6353\n",
            "Epoch 21/50\n",
            "556/556 [==============================] - 55s 98ms/step - loss: 0.6586 - accuracy: 0.7322 - val_loss: 1.0700 - val_accuracy: 0.6273\n",
            "Epoch 22/50\n",
            "556/556 [==============================] - 55s 98ms/step - loss: 0.6507 - accuracy: 0.7348 - val_loss: 1.2503 - val_accuracy: 0.6140\n",
            "Epoch 23/50\n",
            "556/556 [==============================] - 54s 98ms/step - loss: 0.6609 - accuracy: 0.7296 - val_loss: 1.2248 - val_accuracy: 0.5796\n"
          ]
        },
        {
          "output_type": "display_data",
          "data": {
            "text/plain": [
              "VBox(children=(Label(value='0.003 MB of 0.003 MB uploaded\\r'), FloatProgress(value=1.0, max=1.0)))"
            ],
            "application/vnd.jupyter.widget-view+json": {
              "version_major": 2,
              "version_minor": 0,
              "model_id": "4923695ee3d9439f8beb78bfcbf33ce1"
            }
          },
          "metadata": {}
        },
        {
          "output_type": "display_data",
          "data": {
            "text/plain": [
              "<IPython.core.display.HTML object>"
            ],
            "text/html": [
              "<style>\n",
              "    table.wandb td:nth-child(1) { padding: 0 10px; text-align: left ; width: auto;} td:nth-child(2) {text-align: left ; width: 100%}\n",
              "    .wandb-row { display: flex; flex-direction: row; flex-wrap: wrap; justify-content: flex-start; width: 100% }\n",
              "    .wandb-col { display: flex; flex-direction: column; flex-basis: 100%; flex: 1; padding: 10px; }\n",
              "    </style>\n",
              "<div class=\"wandb-row\"><div class=\"wandb-col\"><h3>Run history:</h3><br/><table class=\"wandb\"><tr><td>accuracy</td><td>▁▃▃▄▅▅▆▆▆▇▇▇▇▇█████████</td></tr><tr><td>epoch</td><td>▁▁▂▂▂▃▃▃▄▄▄▅▅▅▅▆▆▆▇▇▇██</td></tr><tr><td>loss</td><td>█▆▆▅▄▄▃▃▃▂▂▂▂▂▁▁▁▁▁▁▁▁▁</td></tr><tr><td>size-train</td><td>▁</td></tr><tr><td>size-val</td><td>▁</td></tr><tr><td>val_accuracy</td><td>█▅▇▄▆▅▂▅▅▄▄▄▃▃▃▂▄▄▃▃▃▂▁</td></tr><tr><td>val_loss</td><td>▁▂▂▄▂▃▅▄▄▄▅▅▆▅▅▆▅▇▆▇▆██</td></tr></table><br/></div><div class=\"wandb-col\"><h3>Run summary:</h3><br/><table class=\"wandb\"><tr><td>accuracy</td><td>0.7296</td></tr><tr><td>best_epoch</td><td>0</td></tr><tr><td>best_val_loss</td><td>0.72536</td></tr><tr><td>epoch</td><td>22</td></tr><tr><td>loss</td><td>0.66093</td></tr><tr><td>size-train</td><td>35521</td></tr><tr><td>size-val</td><td>5259</td></tr><tr><td>val_accuracy</td><td>0.57958</td></tr><tr><td>val_loss</td><td>1.22477</td></tr></table><br/></div></div>"
            ]
          },
          "metadata": {}
        },
        {
          "output_type": "display_data",
          "data": {
            "text/plain": [
              "<IPython.core.display.HTML object>"
            ],
            "text/html": [
              " View run <strong style=\"color:#cdcd00\">copper-sweep-8</strong> at: <a href='https://wandb.ai/coffeegang/RNN_preliminary_tests/runs/252ze1r2' target=\"_blank\">https://wandb.ai/coffeegang/RNN_preliminary_tests/runs/252ze1r2</a><br/>Synced 5 W&B file(s), 1 media file(s), 0 artifact file(s) and 0 other file(s)"
            ]
          },
          "metadata": {}
        },
        {
          "output_type": "display_data",
          "data": {
            "text/plain": [
              "<IPython.core.display.HTML object>"
            ],
            "text/html": [
              "Find logs at: <code>./wandb/run-20240128_140350-252ze1r2/logs</code>"
            ]
          },
          "metadata": {}
        },
        {
          "output_type": "stream",
          "name": "stderr",
          "text": [
            "\u001b[34m\u001b[1mwandb\u001b[0m: Agent Starting Run: v1ocjy83 with config:\n",
            "\u001b[34m\u001b[1mwandb\u001b[0m: \treview_length: 50\n",
            "\u001b[34m\u001b[1mwandb\u001b[0m: \ttraining_set_name: Arts_Crafts_and_Sewing\n",
            "\u001b[34m\u001b[1mwandb\u001b[0m: \tvocab_size: 500\n"
          ]
        },
        {
          "output_type": "display_data",
          "data": {
            "text/plain": [
              "<IPython.core.display.HTML object>"
            ],
            "text/html": [
              "Tracking run with wandb version 0.16.2"
            ]
          },
          "metadata": {}
        },
        {
          "output_type": "display_data",
          "data": {
            "text/plain": [
              "<IPython.core.display.HTML object>"
            ],
            "text/html": [
              "Run data is saved locally in <code>/content/gdrive/.shortcut-targets-by-id/1osKmyrDLORFSpes1mwrU-W7OXM-to6bK/AML_Exam/Problem2/wandb/run-20240128_142539-v1ocjy83</code>"
            ]
          },
          "metadata": {}
        },
        {
          "output_type": "display_data",
          "data": {
            "text/plain": [
              "<IPython.core.display.HTML object>"
            ],
            "text/html": [
              "Syncing run <strong><a href='https://wandb.ai/coffeegang/RNN_preliminary_tests/runs/v1ocjy83' target=\"_blank\">brisk-sweep-9</a></strong> to <a href='https://wandb.ai/coffeegang/RNN_preliminary_tests' target=\"_blank\">Weights & Biases</a> (<a href='https://wandb.me/run' target=\"_blank\">docs</a>)<br/>Sweep page: <a href='https://wandb.ai/coffeegang/RNN_preliminary_tests/sweeps/rd1v16t6' target=\"_blank\">https://wandb.ai/coffeegang/RNN_preliminary_tests/sweeps/rd1v16t6</a>"
            ]
          },
          "metadata": {}
        },
        {
          "output_type": "display_data",
          "data": {
            "text/plain": [
              "<IPython.core.display.HTML object>"
            ],
            "text/html": [
              " View project at <a href='https://wandb.ai/coffeegang/RNN_preliminary_tests' target=\"_blank\">https://wandb.ai/coffeegang/RNN_preliminary_tests</a>"
            ]
          },
          "metadata": {}
        },
        {
          "output_type": "display_data",
          "data": {
            "text/plain": [
              "<IPython.core.display.HTML object>"
            ],
            "text/html": [
              " View sweep at <a href='https://wandb.ai/coffeegang/RNN_preliminary_tests/sweeps/rd1v16t6' target=\"_blank\">https://wandb.ai/coffeegang/RNN_preliminary_tests/sweeps/rd1v16t6</a>"
            ]
          },
          "metadata": {}
        },
        {
          "output_type": "display_data",
          "data": {
            "text/plain": [
              "<IPython.core.display.HTML object>"
            ],
            "text/html": [
              " View run at <a href='https://wandb.ai/coffeegang/RNN_preliminary_tests/runs/v1ocjy83' target=\"_blank\">https://wandb.ai/coffeegang/RNN_preliminary_tests/runs/v1ocjy83</a>"
            ]
          },
          "metadata": {}
        },
        {
          "output_type": "stream",
          "name": "stdout",
          "text": [
            "Epoch 1/50\n",
            "782/782 [==============================] - 18s 19ms/step - loss: 1.2428 - accuracy: 0.4482 - val_loss: 1.0628 - val_accuracy: 0.6400\n",
            "Epoch 2/50\n",
            "782/782 [==============================] - 7s 8ms/step - loss: 1.1517 - accuracy: 0.4915 - val_loss: 0.9768 - val_accuracy: 0.6596\n",
            "Epoch 3/50\n",
            "782/782 [==============================] - 7s 8ms/step - loss: 1.1217 - accuracy: 0.5069 - val_loss: 1.0168 - val_accuracy: 0.6583\n",
            "Epoch 4/50\n",
            "782/782 [==============================] - 7s 8ms/step - loss: 1.0942 - accuracy: 0.5246 - val_loss: 1.0919 - val_accuracy: 0.6037\n",
            "Epoch 5/50\n",
            "782/782 [==============================] - 6s 8ms/step - loss: 1.0691 - accuracy: 0.5340 - val_loss: 1.1541 - val_accuracy: 0.6195\n",
            "Epoch 6/50\n",
            "782/782 [==============================] - 7s 8ms/step - loss: 1.0510 - accuracy: 0.5480 - val_loss: 1.2099 - val_accuracy: 0.5828\n",
            "Epoch 7/50\n",
            "782/782 [==============================] - 6s 8ms/step - loss: 1.0304 - accuracy: 0.5568 - val_loss: 1.2605 - val_accuracy: 0.5381\n",
            "Epoch 8/50\n",
            "782/782 [==============================] - 6s 8ms/step - loss: 1.0150 - accuracy: 0.5642 - val_loss: 1.1143 - val_accuracy: 0.6265\n",
            "Epoch 9/50\n",
            "782/782 [==============================] - 6s 8ms/step - loss: 1.0023 - accuracy: 0.5711 - val_loss: 1.1236 - val_accuracy: 0.6264\n",
            "Epoch 10/50\n",
            "782/782 [==============================] - 6s 8ms/step - loss: 0.9880 - accuracy: 0.5781 - val_loss: 1.0945 - val_accuracy: 0.6357\n",
            "Epoch 11/50\n",
            "782/782 [==============================] - 6s 8ms/step - loss: 0.9714 - accuracy: 0.5891 - val_loss: 1.1780 - val_accuracy: 0.6049\n",
            "Epoch 12/50\n",
            "782/782 [==============================] - 6s 8ms/step - loss: 0.9698 - accuracy: 0.5879 - val_loss: 1.1994 - val_accuracy: 0.6121\n",
            "Epoch 13/50\n",
            "782/782 [==============================] - 6s 8ms/step - loss: 0.9607 - accuracy: 0.5927 - val_loss: 1.0508 - val_accuracy: 0.6505\n",
            "Epoch 14/50\n",
            "782/782 [==============================] - 6s 8ms/step - loss: 0.9579 - accuracy: 0.5919 - val_loss: 1.0877 - val_accuracy: 0.6277\n",
            "Epoch 15/50\n",
            "782/782 [==============================] - 6s 8ms/step - loss: 0.9547 - accuracy: 0.5960 - val_loss: 1.1993 - val_accuracy: 0.6132\n",
            "Epoch 16/50\n",
            "782/782 [==============================] - 6s 8ms/step - loss: 0.9577 - accuracy: 0.5991 - val_loss: 1.1183 - val_accuracy: 0.6176\n",
            "Epoch 17/50\n",
            "782/782 [==============================] - 6s 8ms/step - loss: 0.9613 - accuracy: 0.5927 - val_loss: 1.2148 - val_accuracy: 0.6136\n",
            "Epoch 18/50\n",
            "782/782 [==============================] - 6s 8ms/step - loss: 0.9576 - accuracy: 0.5948 - val_loss: 1.2455 - val_accuracy: 0.6168\n",
            "Epoch 19/50\n",
            "782/782 [==============================] - 6s 8ms/step - loss: 0.9535 - accuracy: 0.5965 - val_loss: 1.2543 - val_accuracy: 0.5687\n"
          ]
        },
        {
          "output_type": "display_data",
          "data": {
            "text/plain": [
              "VBox(children=(Label(value='0.003 MB of 0.003 MB uploaded\\r'), FloatProgress(value=1.0, max=1.0)))"
            ],
            "application/vnd.jupyter.widget-view+json": {
              "version_major": 2,
              "version_minor": 0,
              "model_id": "e6dc24aef61f4a2e865b500b63c6882f"
            }
          },
          "metadata": {}
        },
        {
          "output_type": "display_data",
          "data": {
            "text/plain": [
              "<IPython.core.display.HTML object>"
            ],
            "text/html": [
              "<style>\n",
              "    table.wandb td:nth-child(1) { padding: 0 10px; text-align: left ; width: auto;} td:nth-child(2) {text-align: left ; width: 100%}\n",
              "    .wandb-row { display: flex; flex-direction: row; flex-wrap: wrap; justify-content: flex-start; width: 100% }\n",
              "    .wandb-col { display: flex; flex-direction: column; flex-basis: 100%; flex: 1; padding: 10px; }\n",
              "    </style>\n",
              "<div class=\"wandb-row\"><div class=\"wandb-col\"><h3>Run history:</h3><br/><table class=\"wandb\"><tr><td>accuracy</td><td>▁▃▄▅▅▆▆▆▇▇█▇███████</td></tr><tr><td>epoch</td><td>▁▁▂▂▃▃▃▄▄▅▅▅▆▆▆▇▇██</td></tr><tr><td>loss</td><td>█▆▅▄▄▃▃▂▂▂▁▁▁▁▁▁▁▁▁</td></tr><tr><td>size-train</td><td>▁</td></tr><tr><td>size-val</td><td>▁</td></tr><tr><td>val_accuracy</td><td>▇██▅▆▄▁▆▆▇▅▅▇▆▅▆▅▆▃</td></tr><tr><td>val_loss</td><td>▃▁▂▄▅▇█▄▅▄▆▆▃▄▆▄▇██</td></tr></table><br/></div><div class=\"wandb-col\"><h3>Run summary:</h3><br/><table class=\"wandb\"><tr><td>accuracy</td><td>0.59654</td></tr><tr><td>best_epoch</td><td>1</td></tr><tr><td>best_val_loss</td><td>0.97679</td></tr><tr><td>epoch</td><td>18</td></tr><tr><td>loss</td><td>0.9535</td></tr><tr><td>size-train</td><td>50000</td></tr><tr><td>size-val</td><td>5259</td></tr><tr><td>val_accuracy</td><td>0.56874</td></tr><tr><td>val_loss</td><td>1.25427</td></tr></table><br/></div></div>"
            ]
          },
          "metadata": {}
        },
        {
          "output_type": "display_data",
          "data": {
            "text/plain": [
              "<IPython.core.display.HTML object>"
            ],
            "text/html": [
              " View run <strong style=\"color:#cdcd00\">brisk-sweep-9</strong> at: <a href='https://wandb.ai/coffeegang/RNN_preliminary_tests/runs/v1ocjy83' target=\"_blank\">https://wandb.ai/coffeegang/RNN_preliminary_tests/runs/v1ocjy83</a><br/>Synced 5 W&B file(s), 1 media file(s), 0 artifact file(s) and 0 other file(s)"
            ]
          },
          "metadata": {}
        },
        {
          "output_type": "display_data",
          "data": {
            "text/plain": [
              "<IPython.core.display.HTML object>"
            ],
            "text/html": [
              "Find logs at: <code>./wandb/run-20240128_142539-v1ocjy83/logs</code>"
            ]
          },
          "metadata": {}
        },
        {
          "output_type": "stream",
          "name": "stderr",
          "text": [
            "\u001b[34m\u001b[1mwandb\u001b[0m: Agent Starting Run: 3f21zt8t with config:\n",
            "\u001b[34m\u001b[1mwandb\u001b[0m: \treview_length: 50\n",
            "\u001b[34m\u001b[1mwandb\u001b[0m: \ttraining_set_name: Arts_Crafts_and_Sewing\n",
            "\u001b[34m\u001b[1mwandb\u001b[0m: \tvocab_size: 1000\n"
          ]
        },
        {
          "output_type": "display_data",
          "data": {
            "text/plain": [
              "VBox(children=(Label(value='Waiting for wandb.init()...\\r'), FloatProgress(value=0.011112594866648982, max=1.0…"
            ],
            "application/vnd.jupyter.widget-view+json": {
              "version_major": 2,
              "version_minor": 0,
              "model_id": "ceda8324366a469b9b6ddb3372db9704"
            }
          },
          "metadata": {}
        },
        {
          "output_type": "display_data",
          "data": {
            "text/plain": [
              "<IPython.core.display.HTML object>"
            ],
            "text/html": [
              "Tracking run with wandb version 0.16.2"
            ]
          },
          "metadata": {}
        },
        {
          "output_type": "display_data",
          "data": {
            "text/plain": [
              "<IPython.core.display.HTML object>"
            ],
            "text/html": [
              "Run data is saved locally in <code>/content/gdrive/.shortcut-targets-by-id/1osKmyrDLORFSpes1mwrU-W7OXM-to6bK/AML_Exam/Problem2/wandb/run-20240128_142811-3f21zt8t</code>"
            ]
          },
          "metadata": {}
        },
        {
          "output_type": "display_data",
          "data": {
            "text/plain": [
              "<IPython.core.display.HTML object>"
            ],
            "text/html": [
              "Syncing run <strong><a href='https://wandb.ai/coffeegang/RNN_preliminary_tests/runs/3f21zt8t' target=\"_blank\">wobbly-sweep-10</a></strong> to <a href='https://wandb.ai/coffeegang/RNN_preliminary_tests' target=\"_blank\">Weights & Biases</a> (<a href='https://wandb.me/run' target=\"_blank\">docs</a>)<br/>Sweep page: <a href='https://wandb.ai/coffeegang/RNN_preliminary_tests/sweeps/rd1v16t6' target=\"_blank\">https://wandb.ai/coffeegang/RNN_preliminary_tests/sweeps/rd1v16t6</a>"
            ]
          },
          "metadata": {}
        },
        {
          "output_type": "display_data",
          "data": {
            "text/plain": [
              "<IPython.core.display.HTML object>"
            ],
            "text/html": [
              " View project at <a href='https://wandb.ai/coffeegang/RNN_preliminary_tests' target=\"_blank\">https://wandb.ai/coffeegang/RNN_preliminary_tests</a>"
            ]
          },
          "metadata": {}
        },
        {
          "output_type": "display_data",
          "data": {
            "text/plain": [
              "<IPython.core.display.HTML object>"
            ],
            "text/html": [
              " View sweep at <a href='https://wandb.ai/coffeegang/RNN_preliminary_tests/sweeps/rd1v16t6' target=\"_blank\">https://wandb.ai/coffeegang/RNN_preliminary_tests/sweeps/rd1v16t6</a>"
            ]
          },
          "metadata": {}
        },
        {
          "output_type": "display_data",
          "data": {
            "text/plain": [
              "<IPython.core.display.HTML object>"
            ],
            "text/html": [
              " View run at <a href='https://wandb.ai/coffeegang/RNN_preliminary_tests/runs/3f21zt8t' target=\"_blank\">https://wandb.ai/coffeegang/RNN_preliminary_tests/runs/3f21zt8t</a>"
            ]
          },
          "metadata": {}
        },
        {
          "output_type": "stream",
          "name": "stdout",
          "text": [
            "Epoch 1/50\n",
            "782/782 [==============================] - 20s 22ms/step - loss: 1.2120 - accuracy: 0.4612 - val_loss: 1.0751 - val_accuracy: 0.6094\n",
            "Epoch 2/50\n",
            "782/782 [==============================] - 7s 10ms/step - loss: 1.1064 - accuracy: 0.5126 - val_loss: 1.0700 - val_accuracy: 0.6039\n",
            "Epoch 3/50\n",
            "782/782 [==============================] - 7s 9ms/step - loss: 1.0619 - accuracy: 0.5355 - val_loss: 0.9889 - val_accuracy: 0.6547\n",
            "Epoch 4/50\n",
            "782/782 [==============================] - 7s 9ms/step - loss: 1.0249 - accuracy: 0.5557 - val_loss: 1.1292 - val_accuracy: 0.5864\n",
            "Epoch 5/50\n",
            "782/782 [==============================] - 6s 8ms/step - loss: 0.9940 - accuracy: 0.5730 - val_loss: 0.9799 - val_accuracy: 0.6549\n",
            "Epoch 6/50\n",
            "782/782 [==============================] - 6s 8ms/step - loss: 0.9720 - accuracy: 0.5836 - val_loss: 1.1633 - val_accuracy: 0.6020\n",
            "Epoch 7/50\n",
            "782/782 [==============================] - 7s 9ms/step - loss: 0.9467 - accuracy: 0.5975 - val_loss: 1.1822 - val_accuracy: 0.5992\n",
            "Epoch 8/50\n",
            "782/782 [==============================] - 6s 8ms/step - loss: 0.9260 - accuracy: 0.6091 - val_loss: 1.2358 - val_accuracy: 0.5994\n",
            "Epoch 9/50\n",
            "782/782 [==============================] - 6s 8ms/step - loss: 0.9129 - accuracy: 0.6145 - val_loss: 1.1439 - val_accuracy: 0.6167\n",
            "Epoch 10/50\n",
            "782/782 [==============================] - 6s 8ms/step - loss: 0.8927 - accuracy: 0.6235 - val_loss: 1.2469 - val_accuracy: 0.5634\n",
            "Epoch 11/50\n",
            "782/782 [==============================] - 6s 8ms/step - loss: 0.8842 - accuracy: 0.6274 - val_loss: 1.1544 - val_accuracy: 0.6393\n",
            "Epoch 12/50\n",
            "782/782 [==============================] - 6s 8ms/step - loss: 0.8769 - accuracy: 0.6315 - val_loss: 1.2146 - val_accuracy: 0.5834\n",
            "Epoch 13/50\n",
            "782/782 [==============================] - 6s 8ms/step - loss: 0.8721 - accuracy: 0.6330 - val_loss: 1.2719 - val_accuracy: 0.5741\n",
            "Epoch 14/50\n",
            "782/782 [==============================] - 6s 8ms/step - loss: 0.8698 - accuracy: 0.6357 - val_loss: 1.1924 - val_accuracy: 0.6007\n",
            "Epoch 15/50\n",
            "782/782 [==============================] - 6s 8ms/step - loss: 0.8599 - accuracy: 0.6397 - val_loss: 1.2917 - val_accuracy: 0.5881\n",
            "Epoch 16/50\n",
            "782/782 [==============================] - 6s 8ms/step - loss: 0.8540 - accuracy: 0.6410 - val_loss: 1.2446 - val_accuracy: 0.6151\n",
            "Epoch 17/50\n",
            "782/782 [==============================] - 6s 8ms/step - loss: 0.8544 - accuracy: 0.6413 - val_loss: 1.1373 - val_accuracy: 0.6094\n",
            "Epoch 18/50\n",
            "782/782 [==============================] - 6s 8ms/step - loss: 0.8598 - accuracy: 0.6367 - val_loss: 1.2376 - val_accuracy: 0.5944\n",
            "Epoch 19/50\n",
            "782/782 [==============================] - 7s 8ms/step - loss: 0.8587 - accuracy: 0.6402 - val_loss: 1.3379 - val_accuracy: 0.5625\n",
            "Epoch 20/50\n",
            "782/782 [==============================] - 6s 8ms/step - loss: 0.8592 - accuracy: 0.6394 - val_loss: 1.2481 - val_accuracy: 0.5946\n"
          ]
        },
        {
          "output_type": "display_data",
          "data": {
            "text/plain": [
              "VBox(children=(Label(value='0.003 MB of 0.003 MB uploaded\\r'), FloatProgress(value=1.0, max=1.0)))"
            ],
            "application/vnd.jupyter.widget-view+json": {
              "version_major": 2,
              "version_minor": 0,
              "model_id": "6492989034ea4c498e5c381299bb8206"
            }
          },
          "metadata": {}
        },
        {
          "output_type": "display_data",
          "data": {
            "text/plain": [
              "<IPython.core.display.HTML object>"
            ],
            "text/html": [
              "<style>\n",
              "    table.wandb td:nth-child(1) { padding: 0 10px; text-align: left ; width: auto;} td:nth-child(2) {text-align: left ; width: 100%}\n",
              "    .wandb-row { display: flex; flex-direction: row; flex-wrap: wrap; justify-content: flex-start; width: 100% }\n",
              "    .wandb-col { display: flex; flex-direction: column; flex-basis: 100%; flex: 1; padding: 10px; }\n",
              "    </style>\n",
              "<div class=\"wandb-row\"><div class=\"wandb-col\"><h3>Run history:</h3><br/><table class=\"wandb\"><tr><td>accuracy</td><td>▁▃▄▅▅▆▆▇▇▇▇█████████</td></tr><tr><td>epoch</td><td>▁▁▂▂▂▃▃▄▄▄▅▅▅▆▆▇▇▇██</td></tr><tr><td>loss</td><td>█▆▅▄▄▃▃▂▂▂▂▁▁▁▁▁▁▁▁▁</td></tr><tr><td>size-train</td><td>▁</td></tr><tr><td>size-val</td><td>▁</td></tr><tr><td>val_accuracy</td><td>▅▄█▃█▄▄▄▅▁▇▃▂▄▃▅▅▃▁▃</td></tr><tr><td>val_loss</td><td>▃▃▁▄▁▅▅▆▄▆▄▆▇▅▇▆▄▆█▆</td></tr></table><br/></div><div class=\"wandb-col\"><h3>Run summary:</h3><br/><table class=\"wandb\"><tr><td>accuracy</td><td>0.63936</td></tr><tr><td>best_epoch</td><td>4</td></tr><tr><td>best_val_loss</td><td>0.97988</td></tr><tr><td>epoch</td><td>19</td></tr><tr><td>loss</td><td>0.85922</td></tr><tr><td>size-train</td><td>50000</td></tr><tr><td>size-val</td><td>5259</td></tr><tr><td>val_accuracy</td><td>0.5946</td></tr><tr><td>val_loss</td><td>1.24809</td></tr></table><br/></div></div>"
            ]
          },
          "metadata": {}
        },
        {
          "output_type": "display_data",
          "data": {
            "text/plain": [
              "<IPython.core.display.HTML object>"
            ],
            "text/html": [
              " View run <strong style=\"color:#cdcd00\">wobbly-sweep-10</strong> at: <a href='https://wandb.ai/coffeegang/RNN_preliminary_tests/runs/3f21zt8t' target=\"_blank\">https://wandb.ai/coffeegang/RNN_preliminary_tests/runs/3f21zt8t</a><br/>Synced 5 W&B file(s), 1 media file(s), 0 artifact file(s) and 0 other file(s)"
            ]
          },
          "metadata": {}
        },
        {
          "output_type": "display_data",
          "data": {
            "text/plain": [
              "<IPython.core.display.HTML object>"
            ],
            "text/html": [
              "Find logs at: <code>./wandb/run-20240128_142811-3f21zt8t/logs</code>"
            ]
          },
          "metadata": {}
        },
        {
          "output_type": "stream",
          "name": "stderr",
          "text": [
            "\u001b[34m\u001b[1mwandb\u001b[0m: Agent Starting Run: t0308scz with config:\n",
            "\u001b[34m\u001b[1mwandb\u001b[0m: \treview_length: 50\n",
            "\u001b[34m\u001b[1mwandb\u001b[0m: \ttraining_set_name: Arts_Crafts_and_Sewing\n",
            "\u001b[34m\u001b[1mwandb\u001b[0m: \tvocab_size: 1500\n"
          ]
        },
        {
          "output_type": "display_data",
          "data": {
            "text/plain": [
              "<IPython.core.display.HTML object>"
            ],
            "text/html": [
              "Tracking run with wandb version 0.16.2"
            ]
          },
          "metadata": {}
        },
        {
          "output_type": "display_data",
          "data": {
            "text/plain": [
              "<IPython.core.display.HTML object>"
            ],
            "text/html": [
              "Run data is saved locally in <code>/content/gdrive/.shortcut-targets-by-id/1osKmyrDLORFSpes1mwrU-W7OXM-to6bK/AML_Exam/Problem2/wandb/run-20240128_143055-t0308scz</code>"
            ]
          },
          "metadata": {}
        },
        {
          "output_type": "display_data",
          "data": {
            "text/plain": [
              "<IPython.core.display.HTML object>"
            ],
            "text/html": [
              "Syncing run <strong><a href='https://wandb.ai/coffeegang/RNN_preliminary_tests/runs/t0308scz' target=\"_blank\">polar-sweep-11</a></strong> to <a href='https://wandb.ai/coffeegang/RNN_preliminary_tests' target=\"_blank\">Weights & Biases</a> (<a href='https://wandb.me/run' target=\"_blank\">docs</a>)<br/>Sweep page: <a href='https://wandb.ai/coffeegang/RNN_preliminary_tests/sweeps/rd1v16t6' target=\"_blank\">https://wandb.ai/coffeegang/RNN_preliminary_tests/sweeps/rd1v16t6</a>"
            ]
          },
          "metadata": {}
        },
        {
          "output_type": "display_data",
          "data": {
            "text/plain": [
              "<IPython.core.display.HTML object>"
            ],
            "text/html": [
              " View project at <a href='https://wandb.ai/coffeegang/RNN_preliminary_tests' target=\"_blank\">https://wandb.ai/coffeegang/RNN_preliminary_tests</a>"
            ]
          },
          "metadata": {}
        },
        {
          "output_type": "display_data",
          "data": {
            "text/plain": [
              "<IPython.core.display.HTML object>"
            ],
            "text/html": [
              " View sweep at <a href='https://wandb.ai/coffeegang/RNN_preliminary_tests/sweeps/rd1v16t6' target=\"_blank\">https://wandb.ai/coffeegang/RNN_preliminary_tests/sweeps/rd1v16t6</a>"
            ]
          },
          "metadata": {}
        },
        {
          "output_type": "display_data",
          "data": {
            "text/plain": [
              "<IPython.core.display.HTML object>"
            ],
            "text/html": [
              " View run at <a href='https://wandb.ai/coffeegang/RNN_preliminary_tests/runs/t0308scz' target=\"_blank\">https://wandb.ai/coffeegang/RNN_preliminary_tests/runs/t0308scz</a>"
            ]
          },
          "metadata": {}
        },
        {
          "output_type": "stream",
          "name": "stdout",
          "text": [
            "Epoch 1/50\n",
            "782/782 [==============================] - 23s 24ms/step - loss: 1.1993 - accuracy: 0.4703 - val_loss: 1.0466 - val_accuracy: 0.5836\n",
            "Epoch 2/50\n",
            "782/782 [==============================] - 7s 10ms/step - loss: 1.0864 - accuracy: 0.5255 - val_loss: 0.9434 - val_accuracy: 0.6735\n",
            "Epoch 3/50\n",
            "782/782 [==============================] - 7s 9ms/step - loss: 1.0353 - accuracy: 0.5521 - val_loss: 1.1294 - val_accuracy: 0.5919\n",
            "Epoch 4/50\n",
            "782/782 [==============================] - 7s 9ms/step - loss: 0.9927 - accuracy: 0.5747 - val_loss: 1.2493 - val_accuracy: 0.5777\n",
            "Epoch 5/50\n",
            "782/782 [==============================] - 6s 8ms/step - loss: 0.9492 - accuracy: 0.5985 - val_loss: 0.9631 - val_accuracy: 0.6887\n",
            "Epoch 6/50\n",
            "782/782 [==============================] - 7s 8ms/step - loss: 0.9156 - accuracy: 0.6137 - val_loss: 1.3121 - val_accuracy: 0.5724\n",
            "Epoch 7/50\n",
            "782/782 [==============================] - 7s 8ms/step - loss: 0.8867 - accuracy: 0.6272 - val_loss: 1.1234 - val_accuracy: 0.6437\n",
            "Epoch 8/50\n",
            "782/782 [==============================] - 6s 8ms/step - loss: 0.8606 - accuracy: 0.6408 - val_loss: 1.1926 - val_accuracy: 0.6117\n",
            "Epoch 9/50\n",
            "782/782 [==============================] - 7s 8ms/step - loss: 0.8398 - accuracy: 0.6484 - val_loss: 1.2771 - val_accuracy: 0.5779\n",
            "Epoch 10/50\n",
            "782/782 [==============================] - 6s 8ms/step - loss: 0.8207 - accuracy: 0.6583 - val_loss: 1.2972 - val_accuracy: 0.6028\n",
            "Epoch 11/50\n",
            "782/782 [==============================] - 6s 8ms/step - loss: 0.8072 - accuracy: 0.6655 - val_loss: 1.1506 - val_accuracy: 0.6539\n",
            "Epoch 12/50\n",
            "782/782 [==============================] - 6s 8ms/step - loss: 0.7944 - accuracy: 0.6715 - val_loss: 1.1144 - val_accuracy: 0.6467\n",
            "Epoch 13/50\n",
            "782/782 [==============================] - 6s 8ms/step - loss: 0.7817 - accuracy: 0.6768 - val_loss: 1.2536 - val_accuracy: 0.6165\n",
            "Epoch 14/50\n",
            "782/782 [==============================] - 6s 8ms/step - loss: 0.7706 - accuracy: 0.6817 - val_loss: 1.3479 - val_accuracy: 0.6020\n",
            "Epoch 15/50\n",
            "782/782 [==============================] - 6s 8ms/step - loss: 0.7675 - accuracy: 0.6855 - val_loss: 1.3302 - val_accuracy: 0.6020\n",
            "Epoch 16/50\n",
            "782/782 [==============================] - 6s 8ms/step - loss: 0.7650 - accuracy: 0.6862 - val_loss: 1.3851 - val_accuracy: 0.5859\n",
            "Epoch 17/50\n",
            "782/782 [==============================] - 6s 8ms/step - loss: 0.7682 - accuracy: 0.6822 - val_loss: 1.3288 - val_accuracy: 0.6132\n",
            "Epoch 18/50\n",
            "782/782 [==============================] - 6s 8ms/step - loss: 0.7665 - accuracy: 0.6830 - val_loss: 1.2931 - val_accuracy: 0.6011\n",
            "Epoch 19/50\n",
            "782/782 [==============================] - 6s 8ms/step - loss: 0.7573 - accuracy: 0.6906 - val_loss: 1.4129 - val_accuracy: 0.5674\n",
            "Epoch 20/50\n",
            "782/782 [==============================] - 6s 8ms/step - loss: 0.7460 - accuracy: 0.6932 - val_loss: 1.2429 - val_accuracy: 0.6014\n",
            "Epoch 21/50\n",
            "782/782 [==============================] - 6s 8ms/step - loss: 0.7534 - accuracy: 0.6908 - val_loss: 1.3834 - val_accuracy: 0.5729\n",
            "Epoch 22/50\n",
            "782/782 [==============================] - 6s 8ms/step - loss: 0.7509 - accuracy: 0.6908 - val_loss: 1.3410 - val_accuracy: 0.5758\n",
            "Epoch 23/50\n",
            "782/782 [==============================] - 6s 8ms/step - loss: 0.7481 - accuracy: 0.6938 - val_loss: 1.3987 - val_accuracy: 0.5919\n",
            "Epoch 24/50\n",
            "782/782 [==============================] - 6s 8ms/step - loss: 0.7530 - accuracy: 0.6908 - val_loss: 1.3613 - val_accuracy: 0.5771\n",
            "Epoch 25/50\n",
            "782/782 [==============================] - 6s 8ms/step - loss: 0.7507 - accuracy: 0.6913 - val_loss: 1.4343 - val_accuracy: 0.5701\n",
            "Epoch 26/50\n",
            "782/782 [==============================] - 6s 8ms/step - loss: 0.7494 - accuracy: 0.6887 - val_loss: 1.3972 - val_accuracy: 0.5940\n"
          ]
        },
        {
          "output_type": "display_data",
          "data": {
            "text/plain": [
              "VBox(children=(Label(value='0.016 MB of 0.016 MB uploaded\\r'), FloatProgress(value=1.0, max=1.0)))"
            ],
            "application/vnd.jupyter.widget-view+json": {
              "version_major": 2,
              "version_minor": 0,
              "model_id": "d4560a72ce394eb48f9282cb8309df83"
            }
          },
          "metadata": {}
        },
        {
          "output_type": "display_data",
          "data": {
            "text/plain": [
              "<IPython.core.display.HTML object>"
            ],
            "text/html": [
              "<style>\n",
              "    table.wandb td:nth-child(1) { padding: 0 10px; text-align: left ; width: auto;} td:nth-child(2) {text-align: left ; width: 100%}\n",
              "    .wandb-row { display: flex; flex-direction: row; flex-wrap: wrap; justify-content: flex-start; width: 100% }\n",
              "    .wandb-col { display: flex; flex-direction: column; flex-basis: 100%; flex: 1; padding: 10px; }\n",
              "    </style>\n",
              "<div class=\"wandb-row\"><div class=\"wandb-col\"><h3>Run history:</h3><br/><table class=\"wandb\"><tr><td>accuracy</td><td>▁▃▄▄▅▅▆▆▇▇▇▇▇█████████████</td></tr><tr><td>epoch</td><td>▁▁▂▂▂▂▃▃▃▄▄▄▄▅▅▅▅▆▆▆▇▇▇▇██</td></tr><tr><td>loss</td><td>█▆▅▅▄▄▃▃▂▂▂▂▂▁▁▁▁▁▁▁▁▁▁▁▁▁</td></tr><tr><td>size-train</td><td>▁</td></tr><tr><td>size-val</td><td>▁</td></tr><tr><td>val_accuracy</td><td>▂▇▂▂█▁▅▄▂▃▆▆▄▃▃▂▄▃▁▃▁▁▂▂▁▃</td></tr><tr><td>val_loss</td><td>▂▁▄▅▁▆▄▅▆▆▄▃▅▇▇▇▆▆█▅▇▇▇▇█▇</td></tr></table><br/></div><div class=\"wandb-col\"><h3>Run summary:</h3><br/><table class=\"wandb\"><tr><td>accuracy</td><td>0.68872</td></tr><tr><td>best_epoch</td><td>1</td></tr><tr><td>best_val_loss</td><td>0.94339</td></tr><tr><td>epoch</td><td>25</td></tr><tr><td>loss</td><td>0.74944</td></tr><tr><td>size-train</td><td>50000</td></tr><tr><td>size-val</td><td>5259</td></tr><tr><td>val_accuracy</td><td>0.59403</td></tr><tr><td>val_loss</td><td>1.39719</td></tr></table><br/></div></div>"
            ]
          },
          "metadata": {}
        },
        {
          "output_type": "display_data",
          "data": {
            "text/plain": [
              "<IPython.core.display.HTML object>"
            ],
            "text/html": [
              " View run <strong style=\"color:#cdcd00\">polar-sweep-11</strong> at: <a href='https://wandb.ai/coffeegang/RNN_preliminary_tests/runs/t0308scz' target=\"_blank\">https://wandb.ai/coffeegang/RNN_preliminary_tests/runs/t0308scz</a><br/>Synced 5 W&B file(s), 1 media file(s), 0 artifact file(s) and 0 other file(s)"
            ]
          },
          "metadata": {}
        },
        {
          "output_type": "display_data",
          "data": {
            "text/plain": [
              "<IPython.core.display.HTML object>"
            ],
            "text/html": [
              "Find logs at: <code>./wandb/run-20240128_143055-t0308scz/logs</code>"
            ]
          },
          "metadata": {}
        },
        {
          "output_type": "stream",
          "name": "stderr",
          "text": [
            "\u001b[34m\u001b[1mwandb\u001b[0m: Agent Starting Run: efovdcns with config:\n",
            "\u001b[34m\u001b[1mwandb\u001b[0m: \treview_length: 50\n",
            "\u001b[34m\u001b[1mwandb\u001b[0m: \ttraining_set_name: Arts_Crafts_and_Sewing\n",
            "\u001b[34m\u001b[1mwandb\u001b[0m: \tvocab_size: 2000\n"
          ]
        },
        {
          "output_type": "display_data",
          "data": {
            "text/plain": [
              "<IPython.core.display.HTML object>"
            ],
            "text/html": [
              "Tracking run with wandb version 0.16.2"
            ]
          },
          "metadata": {}
        },
        {
          "output_type": "display_data",
          "data": {
            "text/plain": [
              "<IPython.core.display.HTML object>"
            ],
            "text/html": [
              "Run data is saved locally in <code>/content/gdrive/.shortcut-targets-by-id/1osKmyrDLORFSpes1mwrU-W7OXM-to6bK/AML_Exam/Problem2/wandb/run-20240128_143419-efovdcns</code>"
            ]
          },
          "metadata": {}
        },
        {
          "output_type": "display_data",
          "data": {
            "text/plain": [
              "<IPython.core.display.HTML object>"
            ],
            "text/html": [
              "Syncing run <strong><a href='https://wandb.ai/coffeegang/RNN_preliminary_tests/runs/efovdcns' target=\"_blank\">stoic-sweep-12</a></strong> to <a href='https://wandb.ai/coffeegang/RNN_preliminary_tests' target=\"_blank\">Weights & Biases</a> (<a href='https://wandb.me/run' target=\"_blank\">docs</a>)<br/>Sweep page: <a href='https://wandb.ai/coffeegang/RNN_preliminary_tests/sweeps/rd1v16t6' target=\"_blank\">https://wandb.ai/coffeegang/RNN_preliminary_tests/sweeps/rd1v16t6</a>"
            ]
          },
          "metadata": {}
        },
        {
          "output_type": "display_data",
          "data": {
            "text/plain": [
              "<IPython.core.display.HTML object>"
            ],
            "text/html": [
              " View project at <a href='https://wandb.ai/coffeegang/RNN_preliminary_tests' target=\"_blank\">https://wandb.ai/coffeegang/RNN_preliminary_tests</a>"
            ]
          },
          "metadata": {}
        },
        {
          "output_type": "display_data",
          "data": {
            "text/plain": [
              "<IPython.core.display.HTML object>"
            ],
            "text/html": [
              " View sweep at <a href='https://wandb.ai/coffeegang/RNN_preliminary_tests/sweeps/rd1v16t6' target=\"_blank\">https://wandb.ai/coffeegang/RNN_preliminary_tests/sweeps/rd1v16t6</a>"
            ]
          },
          "metadata": {}
        },
        {
          "output_type": "display_data",
          "data": {
            "text/plain": [
              "<IPython.core.display.HTML object>"
            ],
            "text/html": [
              " View run at <a href='https://wandb.ai/coffeegang/RNN_preliminary_tests/runs/efovdcns' target=\"_blank\">https://wandb.ai/coffeegang/RNN_preliminary_tests/runs/efovdcns</a>"
            ]
          },
          "metadata": {}
        },
        {
          "output_type": "stream",
          "name": "stdout",
          "text": [
            "Epoch 1/50\n",
            "782/782 [==============================] - 23s 26ms/step - loss: 1.1887 - accuracy: 0.4712 - val_loss: 0.9607 - val_accuracy: 0.6710\n",
            "Epoch 2/50\n",
            "782/782 [==============================] - 8s 10ms/step - loss: 1.0671 - accuracy: 0.5339 - val_loss: 1.1181 - val_accuracy: 0.6119\n",
            "Epoch 3/50\n",
            "782/782 [==============================] - 7s 10ms/step - loss: 1.0115 - accuracy: 0.5638 - val_loss: 1.0285 - val_accuracy: 0.6442\n",
            "Epoch 4/50\n",
            "782/782 [==============================] - 6s 8ms/step - loss: 0.9600 - accuracy: 0.5915 - val_loss: 0.9905 - val_accuracy: 0.6777\n",
            "Epoch 5/50\n",
            "782/782 [==============================] - 7s 9ms/step - loss: 0.9174 - accuracy: 0.6122 - val_loss: 1.1099 - val_accuracy: 0.6248\n",
            "Epoch 6/50\n",
            "782/782 [==============================] - 7s 9ms/step - loss: 0.8766 - accuracy: 0.6336 - val_loss: 1.0056 - val_accuracy: 0.6651\n",
            "Epoch 7/50\n",
            "782/782 [==============================] - 6s 8ms/step - loss: 0.8411 - accuracy: 0.6493 - val_loss: 1.1511 - val_accuracy: 0.6473\n",
            "Epoch 8/50\n",
            "782/782 [==============================] - 7s 8ms/step - loss: 0.8167 - accuracy: 0.6637 - val_loss: 1.2281 - val_accuracy: 0.5961\n",
            "Epoch 9/50\n",
            "782/782 [==============================] - 6s 8ms/step - loss: 0.7958 - accuracy: 0.6701 - val_loss: 1.2567 - val_accuracy: 0.6026\n",
            "Epoch 10/50\n",
            "782/782 [==============================] - 7s 8ms/step - loss: 0.7767 - accuracy: 0.6782 - val_loss: 1.3583 - val_accuracy: 0.5878\n",
            "Epoch 11/50\n",
            "782/782 [==============================] - 6s 8ms/step - loss: 0.7664 - accuracy: 0.6871 - val_loss: 1.2996 - val_accuracy: 0.6151\n",
            "Epoch 12/50\n",
            "782/782 [==============================] - 6s 8ms/step - loss: 0.7446 - accuracy: 0.6954 - val_loss: 1.3053 - val_accuracy: 0.5954\n",
            "Epoch 13/50\n",
            "782/782 [==============================] - 6s 8ms/step - loss: 0.7396 - accuracy: 0.6961 - val_loss: 1.2165 - val_accuracy: 0.6322\n",
            "Epoch 14/50\n",
            "782/782 [==============================] - 6s 8ms/step - loss: 0.7290 - accuracy: 0.7040 - val_loss: 1.4604 - val_accuracy: 0.5640\n",
            "Epoch 15/50\n",
            "782/782 [==============================] - 6s 8ms/step - loss: 0.7243 - accuracy: 0.7039 - val_loss: 1.3403 - val_accuracy: 0.6020\n",
            "Epoch 16/50\n",
            "782/782 [==============================] - 6s 8ms/step - loss: 0.7182 - accuracy: 0.7076 - val_loss: 1.3839 - val_accuracy: 0.6136\n",
            "Epoch 17/50\n",
            "782/782 [==============================] - 6s 8ms/step - loss: 0.7155 - accuracy: 0.7073 - val_loss: 1.4118 - val_accuracy: 0.5965\n",
            "Epoch 18/50\n",
            "782/782 [==============================] - 6s 8ms/step - loss: 0.7039 - accuracy: 0.7140 - val_loss: 1.4167 - val_accuracy: 0.5902\n",
            "Epoch 19/50\n",
            "782/782 [==============================] - 6s 8ms/step - loss: 0.7010 - accuracy: 0.7153 - val_loss: 1.4224 - val_accuracy: 0.5900\n",
            "Epoch 20/50\n",
            "782/782 [==============================] - 6s 8ms/step - loss: 0.6929 - accuracy: 0.7202 - val_loss: 1.4733 - val_accuracy: 0.5975\n",
            "Epoch 21/50\n",
            "782/782 [==============================] - 6s 8ms/step - loss: 0.6943 - accuracy: 0.7186 - val_loss: 1.3725 - val_accuracy: 0.5887\n",
            "Epoch 22/50\n",
            "782/782 [==============================] - 6s 8ms/step - loss: 0.6943 - accuracy: 0.7188 - val_loss: 1.5144 - val_accuracy: 0.5752\n",
            "Epoch 23/50\n",
            "782/782 [==============================] - 6s 8ms/step - loss: 0.6965 - accuracy: 0.7182 - val_loss: 1.4955 - val_accuracy: 0.5838\n"
          ]
        },
        {
          "output_type": "display_data",
          "data": {
            "text/plain": [
              "VBox(children=(Label(value='0.016 MB of 0.016 MB uploaded\\r'), FloatProgress(value=1.0, max=1.0)))"
            ],
            "application/vnd.jupyter.widget-view+json": {
              "version_major": 2,
              "version_minor": 0,
              "model_id": "dd75b7034a9c41da81fc6eb32c1b9dbb"
            }
          },
          "metadata": {}
        },
        {
          "output_type": "display_data",
          "data": {
            "text/plain": [
              "<IPython.core.display.HTML object>"
            ],
            "text/html": [
              "<style>\n",
              "    table.wandb td:nth-child(1) { padding: 0 10px; text-align: left ; width: auto;} td:nth-child(2) {text-align: left ; width: 100%}\n",
              "    .wandb-row { display: flex; flex-direction: row; flex-wrap: wrap; justify-content: flex-start; width: 100% }\n",
              "    .wandb-col { display: flex; flex-direction: column; flex-basis: 100%; flex: 1; padding: 10px; }\n",
              "    </style>\n",
              "<div class=\"wandb-row\"><div class=\"wandb-col\"><h3>Run history:</h3><br/><table class=\"wandb\"><tr><td>accuracy</td><td>▁▃▄▄▅▆▆▆▇▇▇▇▇██████████</td></tr><tr><td>epoch</td><td>▁▁▂▂▂▃▃▃▄▄▄▅▅▅▅▆▆▆▇▇▇██</td></tr><tr><td>loss</td><td>█▆▅▅▄▄▃▃▂▂▂▂▂▂▁▁▁▁▁▁▁▁▁</td></tr><tr><td>size-train</td><td>▁</td></tr><tr><td>size-val</td><td>▁</td></tr><tr><td>val_accuracy</td><td>█▄▆█▅▇▆▃▃▂▄▃▅▁▃▄▃▃▃▃▃▂▂</td></tr><tr><td>val_loss</td><td>▁▃▂▁▃▂▃▄▅▆▅▅▄▇▆▆▇▇▇▇▆██</td></tr></table><br/></div><div class=\"wandb-col\"><h3>Run summary:</h3><br/><table class=\"wandb\"><tr><td>accuracy</td><td>0.71822</td></tr><tr><td>best_epoch</td><td>0</td></tr><tr><td>best_val_loss</td><td>0.96065</td></tr><tr><td>epoch</td><td>22</td></tr><tr><td>loss</td><td>0.6965</td></tr><tr><td>size-train</td><td>50000</td></tr><tr><td>size-val</td><td>5259</td></tr><tr><td>val_accuracy</td><td>0.58376</td></tr><tr><td>val_loss</td><td>1.49549</td></tr></table><br/></div></div>"
            ]
          },
          "metadata": {}
        },
        {
          "output_type": "display_data",
          "data": {
            "text/plain": [
              "<IPython.core.display.HTML object>"
            ],
            "text/html": [
              " View run <strong style=\"color:#cdcd00\">stoic-sweep-12</strong> at: <a href='https://wandb.ai/coffeegang/RNN_preliminary_tests/runs/efovdcns' target=\"_blank\">https://wandb.ai/coffeegang/RNN_preliminary_tests/runs/efovdcns</a><br/>Synced 5 W&B file(s), 1 media file(s), 0 artifact file(s) and 0 other file(s)"
            ]
          },
          "metadata": {}
        },
        {
          "output_type": "display_data",
          "data": {
            "text/plain": [
              "<IPython.core.display.HTML object>"
            ],
            "text/html": [
              "Find logs at: <code>./wandb/run-20240128_143419-efovdcns/logs</code>"
            ]
          },
          "metadata": {}
        },
        {
          "output_type": "stream",
          "name": "stderr",
          "text": [
            "\u001b[34m\u001b[1mwandb\u001b[0m: Agent Starting Run: 1eocnfvt with config:\n",
            "\u001b[34m\u001b[1mwandb\u001b[0m: \treview_length: 50\n",
            "\u001b[34m\u001b[1mwandb\u001b[0m: \ttraining_set_name: Prime_Pantry\n",
            "\u001b[34m\u001b[1mwandb\u001b[0m: \tvocab_size: 500\n"
          ]
        },
        {
          "output_type": "display_data",
          "data": {
            "text/plain": [
              "<IPython.core.display.HTML object>"
            ],
            "text/html": [
              "Tracking run with wandb version 0.16.2"
            ]
          },
          "metadata": {}
        },
        {
          "output_type": "display_data",
          "data": {
            "text/plain": [
              "<IPython.core.display.HTML object>"
            ],
            "text/html": [
              "Run data is saved locally in <code>/content/gdrive/.shortcut-targets-by-id/1osKmyrDLORFSpes1mwrU-W7OXM-to6bK/AML_Exam/Problem2/wandb/run-20240128_143725-1eocnfvt</code>"
            ]
          },
          "metadata": {}
        },
        {
          "output_type": "display_data",
          "data": {
            "text/plain": [
              "<IPython.core.display.HTML object>"
            ],
            "text/html": [
              "Syncing run <strong><a href='https://wandb.ai/coffeegang/RNN_preliminary_tests/runs/1eocnfvt' target=\"_blank\">youthful-sweep-13</a></strong> to <a href='https://wandb.ai/coffeegang/RNN_preliminary_tests' target=\"_blank\">Weights & Biases</a> (<a href='https://wandb.me/run' target=\"_blank\">docs</a>)<br/>Sweep page: <a href='https://wandb.ai/coffeegang/RNN_preliminary_tests/sweeps/rd1v16t6' target=\"_blank\">https://wandb.ai/coffeegang/RNN_preliminary_tests/sweeps/rd1v16t6</a>"
            ]
          },
          "metadata": {}
        },
        {
          "output_type": "display_data",
          "data": {
            "text/plain": [
              "<IPython.core.display.HTML object>"
            ],
            "text/html": [
              " View project at <a href='https://wandb.ai/coffeegang/RNN_preliminary_tests' target=\"_blank\">https://wandb.ai/coffeegang/RNN_preliminary_tests</a>"
            ]
          },
          "metadata": {}
        },
        {
          "output_type": "display_data",
          "data": {
            "text/plain": [
              "<IPython.core.display.HTML object>"
            ],
            "text/html": [
              " View sweep at <a href='https://wandb.ai/coffeegang/RNN_preliminary_tests/sweeps/rd1v16t6' target=\"_blank\">https://wandb.ai/coffeegang/RNN_preliminary_tests/sweeps/rd1v16t6</a>"
            ]
          },
          "metadata": {}
        },
        {
          "output_type": "display_data",
          "data": {
            "text/plain": [
              "<IPython.core.display.HTML object>"
            ],
            "text/html": [
              " View run at <a href='https://wandb.ai/coffeegang/RNN_preliminary_tests/runs/1eocnfvt' target=\"_blank\">https://wandb.ai/coffeegang/RNN_preliminary_tests/runs/1eocnfvt</a>"
            ]
          },
          "metadata": {}
        },
        {
          "output_type": "stream",
          "name": "stdout",
          "text": [
            "Epoch 1/50\n",
            "556/556 [==============================] - 16s 23ms/step - loss: 1.2157 - accuracy: 0.4663 - val_loss: 0.9591 - val_accuracy: 0.6307\n",
            "Epoch 2/50\n",
            "556/556 [==============================] - 6s 10ms/step - loss: 1.1269 - accuracy: 0.5072 - val_loss: 0.8561 - val_accuracy: 0.6920\n",
            "Epoch 3/50\n",
            "556/556 [==============================] - 5s 9ms/step - loss: 1.0841 - accuracy: 0.5285 - val_loss: 0.8480 - val_accuracy: 0.7074\n",
            "Epoch 4/50\n",
            "556/556 [==============================] - 5s 9ms/step - loss: 1.0498 - accuracy: 0.5479 - val_loss: 0.9889 - val_accuracy: 0.6201\n",
            "Epoch 5/50\n",
            "556/556 [==============================] - 5s 8ms/step - loss: 1.0333 - accuracy: 0.5523 - val_loss: 1.0320 - val_accuracy: 0.6009\n",
            "Epoch 6/50\n",
            "556/556 [==============================] - 4s 8ms/step - loss: 0.9905 - accuracy: 0.5724 - val_loss: 1.0655 - val_accuracy: 0.5859\n",
            "Epoch 7/50\n",
            "556/556 [==============================] - 5s 9ms/step - loss: 0.9597 - accuracy: 0.5879 - val_loss: 1.0143 - val_accuracy: 0.6127\n",
            "Epoch 8/50\n",
            "556/556 [==============================] - 5s 9ms/step - loss: 0.9383 - accuracy: 0.5979 - val_loss: 1.0747 - val_accuracy: 0.5862\n",
            "Epoch 9/50\n",
            "556/556 [==============================] - 5s 8ms/step - loss: 0.9191 - accuracy: 0.6082 - val_loss: 1.0776 - val_accuracy: 0.6060\n",
            "Epoch 10/50\n",
            "556/556 [==============================] - 5s 8ms/step - loss: 0.8986 - accuracy: 0.6173 - val_loss: 1.1360 - val_accuracy: 0.5988\n",
            "Epoch 11/50\n",
            "556/556 [==============================] - 5s 9ms/step - loss: 0.8805 - accuracy: 0.6282 - val_loss: 1.1364 - val_accuracy: 0.5820\n",
            "Epoch 12/50\n",
            "556/556 [==============================] - 5s 8ms/step - loss: 0.8858 - accuracy: 0.6233 - val_loss: 1.0493 - val_accuracy: 0.6111\n",
            "Epoch 13/50\n",
            "556/556 [==============================] - 5s 9ms/step - loss: 0.8653 - accuracy: 0.6332 - val_loss: 1.0333 - val_accuracy: 0.6319\n",
            "Epoch 14/50\n",
            "556/556 [==============================] - 5s 8ms/step - loss: 0.8524 - accuracy: 0.6381 - val_loss: 1.1156 - val_accuracy: 0.5824\n",
            "Epoch 15/50\n",
            "556/556 [==============================] - 4s 8ms/step - loss: 0.8432 - accuracy: 0.6416 - val_loss: 1.1176 - val_accuracy: 0.5999\n",
            "Epoch 16/50\n",
            "556/556 [==============================] - 5s 8ms/step - loss: 0.8294 - accuracy: 0.6491 - val_loss: 1.1650 - val_accuracy: 0.5952\n",
            "Epoch 17/50\n",
            "556/556 [==============================] - 5s 8ms/step - loss: 0.8301 - accuracy: 0.6510 - val_loss: 1.1603 - val_accuracy: 0.6269\n",
            "Epoch 18/50\n",
            "556/556 [==============================] - 4s 8ms/step - loss: 0.8317 - accuracy: 0.6483 - val_loss: 1.1551 - val_accuracy: 0.6064\n",
            "Epoch 19/50\n",
            "556/556 [==============================] - 5s 8ms/step - loss: 0.8271 - accuracy: 0.6530 - val_loss: 1.1120 - val_accuracy: 0.6385\n",
            "Epoch 20/50\n",
            "556/556 [==============================] - 4s 8ms/step - loss: 0.8292 - accuracy: 0.6501 - val_loss: 1.1016 - val_accuracy: 0.6071\n",
            "Epoch 21/50\n",
            "556/556 [==============================] - 4s 8ms/step - loss: 0.8263 - accuracy: 0.6491 - val_loss: 1.2443 - val_accuracy: 0.5760\n",
            "Epoch 22/50\n",
            "556/556 [==============================] - 4s 8ms/step - loss: 0.8185 - accuracy: 0.6529 - val_loss: 1.2598 - val_accuracy: 0.5530\n"
          ]
        },
        {
          "output_type": "display_data",
          "data": {
            "text/plain": [
              "VBox(children=(Label(value='0.003 MB of 0.003 MB uploaded\\r'), FloatProgress(value=1.0, max=1.0)))"
            ],
            "application/vnd.jupyter.widget-view+json": {
              "version_major": 2,
              "version_minor": 0,
              "model_id": "f624added9e8421ba125d2557bf96bae"
            }
          },
          "metadata": {}
        },
        {
          "output_type": "display_data",
          "data": {
            "text/plain": [
              "<IPython.core.display.HTML object>"
            ],
            "text/html": [
              "<style>\n",
              "    table.wandb td:nth-child(1) { padding: 0 10px; text-align: left ; width: auto;} td:nth-child(2) {text-align: left ; width: 100%}\n",
              "    .wandb-row { display: flex; flex-direction: row; flex-wrap: wrap; justify-content: flex-start; width: 100% }\n",
              "    .wandb-col { display: flex; flex-direction: column; flex-basis: 100%; flex: 1; padding: 10px; }\n",
              "    </style>\n",
              "<div class=\"wandb-row\"><div class=\"wandb-col\"><h3>Run history:</h3><br/><table class=\"wandb\"><tr><td>accuracy</td><td>▁▃▃▄▄▅▆▆▆▇▇▇▇▇████████</td></tr><tr><td>epoch</td><td>▁▁▂▂▂▃▃▃▄▄▄▅▅▅▆▆▆▇▇▇██</td></tr><tr><td>loss</td><td>█▆▆▅▅▄▃▃▃▂▂▂▂▂▁▁▁▁▁▁▁▁</td></tr><tr><td>size-train</td><td>▁</td></tr><tr><td>size-val</td><td>▁</td></tr><tr><td>val_accuracy</td><td>▅▇█▄▃▂▄▃▃▃▂▄▅▂▃▃▄▃▅▃▂▁</td></tr><tr><td>val_loss</td><td>▃▁▁▃▄▅▄▅▅▆▆▄▄▆▆▆▆▆▅▅██</td></tr></table><br/></div><div class=\"wandb-col\"><h3>Run summary:</h3><br/><table class=\"wandb\"><tr><td>accuracy</td><td>0.65285</td></tr><tr><td>best_epoch</td><td>2</td></tr><tr><td>best_val_loss</td><td>0.84804</td></tr><tr><td>epoch</td><td>21</td></tr><tr><td>loss</td><td>0.81853</td></tr><tr><td>size-train</td><td>35521</td></tr><tr><td>size-val</td><td>5259</td></tr><tr><td>val_accuracy</td><td>0.55296</td></tr><tr><td>val_loss</td><td>1.25976</td></tr></table><br/></div></div>"
            ]
          },
          "metadata": {}
        },
        {
          "output_type": "display_data",
          "data": {
            "text/plain": [
              "<IPython.core.display.HTML object>"
            ],
            "text/html": [
              " View run <strong style=\"color:#cdcd00\">youthful-sweep-13</strong> at: <a href='https://wandb.ai/coffeegang/RNN_preliminary_tests/runs/1eocnfvt' target=\"_blank\">https://wandb.ai/coffeegang/RNN_preliminary_tests/runs/1eocnfvt</a><br/>Synced 5 W&B file(s), 1 media file(s), 0 artifact file(s) and 0 other file(s)"
            ]
          },
          "metadata": {}
        },
        {
          "output_type": "display_data",
          "data": {
            "text/plain": [
              "<IPython.core.display.HTML object>"
            ],
            "text/html": [
              "Find logs at: <code>./wandb/run-20240128_143725-1eocnfvt/logs</code>"
            ]
          },
          "metadata": {}
        },
        {
          "output_type": "stream",
          "name": "stderr",
          "text": [
            "\u001b[34m\u001b[1mwandb\u001b[0m: Agent Starting Run: ry0x4t1z with config:\n",
            "\u001b[34m\u001b[1mwandb\u001b[0m: \treview_length: 50\n",
            "\u001b[34m\u001b[1mwandb\u001b[0m: \ttraining_set_name: Prime_Pantry\n",
            "\u001b[34m\u001b[1mwandb\u001b[0m: \tvocab_size: 1000\n"
          ]
        },
        {
          "output_type": "display_data",
          "data": {
            "text/plain": [
              "<IPython.core.display.HTML object>"
            ],
            "text/html": [
              "Tracking run with wandb version 0.16.2"
            ]
          },
          "metadata": {}
        },
        {
          "output_type": "display_data",
          "data": {
            "text/plain": [
              "<IPython.core.display.HTML object>"
            ],
            "text/html": [
              "Run data is saved locally in <code>/content/gdrive/.shortcut-targets-by-id/1osKmyrDLORFSpes1mwrU-W7OXM-to6bK/AML_Exam/Problem2/wandb/run-20240128_143940-ry0x4t1z</code>"
            ]
          },
          "metadata": {}
        },
        {
          "output_type": "display_data",
          "data": {
            "text/plain": [
              "<IPython.core.display.HTML object>"
            ],
            "text/html": [
              "Syncing run <strong><a href='https://wandb.ai/coffeegang/RNN_preliminary_tests/runs/ry0x4t1z' target=\"_blank\">graceful-sweep-14</a></strong> to <a href='https://wandb.ai/coffeegang/RNN_preliminary_tests' target=\"_blank\">Weights & Biases</a> (<a href='https://wandb.me/run' target=\"_blank\">docs</a>)<br/>Sweep page: <a href='https://wandb.ai/coffeegang/RNN_preliminary_tests/sweeps/rd1v16t6' target=\"_blank\">https://wandb.ai/coffeegang/RNN_preliminary_tests/sweeps/rd1v16t6</a>"
            ]
          },
          "metadata": {}
        },
        {
          "output_type": "display_data",
          "data": {
            "text/plain": [
              "<IPython.core.display.HTML object>"
            ],
            "text/html": [
              " View project at <a href='https://wandb.ai/coffeegang/RNN_preliminary_tests' target=\"_blank\">https://wandb.ai/coffeegang/RNN_preliminary_tests</a>"
            ]
          },
          "metadata": {}
        },
        {
          "output_type": "display_data",
          "data": {
            "text/plain": [
              "<IPython.core.display.HTML object>"
            ],
            "text/html": [
              " View sweep at <a href='https://wandb.ai/coffeegang/RNN_preliminary_tests/sweeps/rd1v16t6' target=\"_blank\">https://wandb.ai/coffeegang/RNN_preliminary_tests/sweeps/rd1v16t6</a>"
            ]
          },
          "metadata": {}
        },
        {
          "output_type": "display_data",
          "data": {
            "text/plain": [
              "<IPython.core.display.HTML object>"
            ],
            "text/html": [
              " View run at <a href='https://wandb.ai/coffeegang/RNN_preliminary_tests/runs/ry0x4t1z' target=\"_blank\">https://wandb.ai/coffeegang/RNN_preliminary_tests/runs/ry0x4t1z</a>"
            ]
          },
          "metadata": {}
        },
        {
          "output_type": "stream",
          "name": "stdout",
          "text": [
            "Epoch 1/50\n",
            "556/556 [==============================] - 20s 30ms/step - loss: 1.1845 - accuracy: 0.4816 - val_loss: 0.6902 - val_accuracy: 0.7631\n",
            "Epoch 2/50\n",
            "556/556 [==============================] - 6s 11ms/step - loss: 1.0701 - accuracy: 0.5326 - val_loss: 0.8724 - val_accuracy: 0.6273\n",
            "Epoch 3/50\n",
            "556/556 [==============================] - 5s 10ms/step - loss: 1.0191 - accuracy: 0.5581 - val_loss: 0.8448 - val_accuracy: 0.6748\n",
            "Epoch 4/50\n",
            "556/556 [==============================] - 5s 9ms/step - loss: 0.9824 - accuracy: 0.5735 - val_loss: 0.9301 - val_accuracy: 0.6503\n",
            "Epoch 5/50\n",
            "556/556 [==============================] - 5s 9ms/step - loss: 0.9360 - accuracy: 0.6003 - val_loss: 1.1088 - val_accuracy: 0.5676\n",
            "Epoch 6/50\n",
            "556/556 [==============================] - 5s 9ms/step - loss: 0.9006 - accuracy: 0.6154 - val_loss: 1.0587 - val_accuracy: 0.6178\n",
            "Epoch 7/50\n",
            "556/556 [==============================] - 5s 9ms/step - loss: 0.8785 - accuracy: 0.6250 - val_loss: 1.1072 - val_accuracy: 0.5864\n",
            "Epoch 8/50\n",
            "556/556 [==============================] - 5s 8ms/step - loss: 0.8403 - accuracy: 0.6443 - val_loss: 1.1850 - val_accuracy: 0.5682\n",
            "Epoch 9/50\n",
            "556/556 [==============================] - 5s 9ms/step - loss: 0.8089 - accuracy: 0.6598 - val_loss: 1.1204 - val_accuracy: 0.6313\n",
            "Epoch 10/50\n",
            "556/556 [==============================] - 5s 8ms/step - loss: 0.7891 - accuracy: 0.6690 - val_loss: 0.9941 - val_accuracy: 0.6684\n",
            "Epoch 11/50\n",
            "556/556 [==============================] - 4s 8ms/step - loss: 0.7702 - accuracy: 0.6764 - val_loss: 1.3276 - val_accuracy: 0.5811\n",
            "Epoch 12/50\n",
            "556/556 [==============================] - 5s 8ms/step - loss: 0.7607 - accuracy: 0.6842 - val_loss: 1.2424 - val_accuracy: 0.6096\n",
            "Epoch 13/50\n",
            "556/556 [==============================] - 4s 8ms/step - loss: 0.7521 - accuracy: 0.6848 - val_loss: 1.4178 - val_accuracy: 0.5488\n",
            "Epoch 14/50\n",
            "556/556 [==============================] - 5s 8ms/step - loss: 0.7517 - accuracy: 0.6853 - val_loss: 1.3208 - val_accuracy: 0.5423\n",
            "Epoch 15/50\n",
            "556/556 [==============================] - 5s 8ms/step - loss: 0.7397 - accuracy: 0.6919 - val_loss: 1.3548 - val_accuracy: 0.6146\n",
            "Epoch 16/50\n",
            "556/556 [==============================] - 5s 8ms/step - loss: 0.7171 - accuracy: 0.7015 - val_loss: 1.4537 - val_accuracy: 0.5531\n",
            "Epoch 17/50\n",
            "556/556 [==============================] - 5s 8ms/step - loss: 0.7102 - accuracy: 0.7054 - val_loss: 1.4305 - val_accuracy: 0.5790\n",
            "Epoch 18/50\n",
            "556/556 [==============================] - 4s 8ms/step - loss: 0.7159 - accuracy: 0.7019 - val_loss: 1.2447 - val_accuracy: 0.6425\n",
            "Epoch 19/50\n",
            "556/556 [==============================] - 5s 8ms/step - loss: 0.7140 - accuracy: 0.7055 - val_loss: 1.4611 - val_accuracy: 0.5569\n",
            "Epoch 20/50\n",
            "556/556 [==============================] - 5s 8ms/step - loss: 0.6932 - accuracy: 0.7125 - val_loss: 1.4148 - val_accuracy: 0.6022\n",
            "Epoch 21/50\n",
            "556/556 [==============================] - 5s 8ms/step - loss: 0.6816 - accuracy: 0.7202 - val_loss: 1.3665 - val_accuracy: 0.6037\n",
            "Epoch 22/50\n",
            "556/556 [==============================] - 4s 8ms/step - loss: 0.6959 - accuracy: 0.7127 - val_loss: 1.3368 - val_accuracy: 0.6108\n",
            "Epoch 23/50\n",
            "556/556 [==============================] - 5s 8ms/step - loss: 0.6969 - accuracy: 0.7108 - val_loss: 1.4771 - val_accuracy: 0.5862\n",
            "Epoch 24/50\n",
            "556/556 [==============================] - 5s 8ms/step - loss: 0.6917 - accuracy: 0.7132 - val_loss: 1.5576 - val_accuracy: 0.5649\n"
          ]
        },
        {
          "output_type": "display_data",
          "data": {
            "text/plain": [
              "VBox(children=(Label(value='0.003 MB of 0.003 MB uploaded\\r'), FloatProgress(value=1.0, max=1.0)))"
            ],
            "application/vnd.jupyter.widget-view+json": {
              "version_major": 2,
              "version_minor": 0,
              "model_id": "1bf44828fdfc437687657d8e94326dc4"
            }
          },
          "metadata": {}
        },
        {
          "output_type": "display_data",
          "data": {
            "text/plain": [
              "<IPython.core.display.HTML object>"
            ],
            "text/html": [
              "<style>\n",
              "    table.wandb td:nth-child(1) { padding: 0 10px; text-align: left ; width: auto;} td:nth-child(2) {text-align: left ; width: 100%}\n",
              "    .wandb-row { display: flex; flex-direction: row; flex-wrap: wrap; justify-content: flex-start; width: 100% }\n",
              "    .wandb-col { display: flex; flex-direction: column; flex-basis: 100%; flex: 1; padding: 10px; }\n",
              "    </style>\n",
              "<div class=\"wandb-row\"><div class=\"wandb-col\"><h3>Run history:</h3><br/><table class=\"wandb\"><tr><td>accuracy</td><td>▁▂▃▄▄▅▅▆▆▆▇▇▇▇▇▇█▇██████</td></tr><tr><td>epoch</td><td>▁▁▂▂▂▃▃▃▃▄▄▄▅▅▅▆▆▆▆▇▇▇██</td></tr><tr><td>loss</td><td>█▆▆▅▅▄▄▃▃▂▂▂▂▂▂▁▁▁▁▁▁▁▁▁</td></tr><tr><td>size-train</td><td>▁</td></tr><tr><td>size-val</td><td>▁</td></tr><tr><td>val_accuracy</td><td>█▄▅▄▂▃▂▂▄▅▂▃▁▁▃▁▂▄▁▃▃▃▂▂</td></tr><tr><td>val_loss</td><td>▁▂▂▃▄▄▄▅▄▃▆▅▇▆▆▇▇▅▇▇▆▆▇█</td></tr></table><br/></div><div class=\"wandb-col\"><h3>Run summary:</h3><br/><table class=\"wandb\"><tr><td>accuracy</td><td>0.71324</td></tr><tr><td>best_epoch</td><td>0</td></tr><tr><td>best_val_loss</td><td>0.69025</td></tr><tr><td>epoch</td><td>23</td></tr><tr><td>loss</td><td>0.69166</td></tr><tr><td>size-train</td><td>35521</td></tr><tr><td>size-val</td><td>5259</td></tr><tr><td>val_accuracy</td><td>0.56494</td></tr><tr><td>val_loss</td><td>1.5576</td></tr></table><br/></div></div>"
            ]
          },
          "metadata": {}
        },
        {
          "output_type": "display_data",
          "data": {
            "text/plain": [
              "<IPython.core.display.HTML object>"
            ],
            "text/html": [
              " View run <strong style=\"color:#cdcd00\">graceful-sweep-14</strong> at: <a href='https://wandb.ai/coffeegang/RNN_preliminary_tests/runs/ry0x4t1z' target=\"_blank\">https://wandb.ai/coffeegang/RNN_preliminary_tests/runs/ry0x4t1z</a><br/>Synced 5 W&B file(s), 1 media file(s), 0 artifact file(s) and 0 other file(s)"
            ]
          },
          "metadata": {}
        },
        {
          "output_type": "display_data",
          "data": {
            "text/plain": [
              "<IPython.core.display.HTML object>"
            ],
            "text/html": [
              "Find logs at: <code>./wandb/run-20240128_143940-ry0x4t1z/logs</code>"
            ]
          },
          "metadata": {}
        },
        {
          "output_type": "stream",
          "name": "stderr",
          "text": [
            "\u001b[34m\u001b[1mwandb\u001b[0m: Agent Starting Run: ysfkehwt with config:\n",
            "\u001b[34m\u001b[1mwandb\u001b[0m: \treview_length: 50\n",
            "\u001b[34m\u001b[1mwandb\u001b[0m: \ttraining_set_name: Prime_Pantry\n",
            "\u001b[34m\u001b[1mwandb\u001b[0m: \tvocab_size: 1500\n"
          ]
        },
        {
          "output_type": "display_data",
          "data": {
            "text/plain": [
              "VBox(children=(Label(value='Waiting for wandb.init()...\\r'), FloatProgress(value=0.011112366677783333, max=1.0…"
            ],
            "application/vnd.jupyter.widget-view+json": {
              "version_major": 2,
              "version_minor": 0,
              "model_id": "52a5230205704628a94cf2157c787f25"
            }
          },
          "metadata": {}
        },
        {
          "output_type": "display_data",
          "data": {
            "text/plain": [
              "<IPython.core.display.HTML object>"
            ],
            "text/html": [
              "Tracking run with wandb version 0.16.2"
            ]
          },
          "metadata": {}
        },
        {
          "output_type": "display_data",
          "data": {
            "text/plain": [
              "<IPython.core.display.HTML object>"
            ],
            "text/html": [
              "Run data is saved locally in <code>/content/gdrive/.shortcut-targets-by-id/1osKmyrDLORFSpes1mwrU-W7OXM-to6bK/AML_Exam/Problem2/wandb/run-20240128_144209-ysfkehwt</code>"
            ]
          },
          "metadata": {}
        },
        {
          "output_type": "display_data",
          "data": {
            "text/plain": [
              "<IPython.core.display.HTML object>"
            ],
            "text/html": [
              "Syncing run <strong><a href='https://wandb.ai/coffeegang/RNN_preliminary_tests/runs/ysfkehwt' target=\"_blank\">golden-sweep-15</a></strong> to <a href='https://wandb.ai/coffeegang/RNN_preliminary_tests' target=\"_blank\">Weights & Biases</a> (<a href='https://wandb.me/run' target=\"_blank\">docs</a>)<br/>Sweep page: <a href='https://wandb.ai/coffeegang/RNN_preliminary_tests/sweeps/rd1v16t6' target=\"_blank\">https://wandb.ai/coffeegang/RNN_preliminary_tests/sweeps/rd1v16t6</a>"
            ]
          },
          "metadata": {}
        },
        {
          "output_type": "display_data",
          "data": {
            "text/plain": [
              "<IPython.core.display.HTML object>"
            ],
            "text/html": [
              " View project at <a href='https://wandb.ai/coffeegang/RNN_preliminary_tests' target=\"_blank\">https://wandb.ai/coffeegang/RNN_preliminary_tests</a>"
            ]
          },
          "metadata": {}
        },
        {
          "output_type": "display_data",
          "data": {
            "text/plain": [
              "<IPython.core.display.HTML object>"
            ],
            "text/html": [
              " View sweep at <a href='https://wandb.ai/coffeegang/RNN_preliminary_tests/sweeps/rd1v16t6' target=\"_blank\">https://wandb.ai/coffeegang/RNN_preliminary_tests/sweeps/rd1v16t6</a>"
            ]
          },
          "metadata": {}
        },
        {
          "output_type": "display_data",
          "data": {
            "text/plain": [
              "<IPython.core.display.HTML object>"
            ],
            "text/html": [
              " View run at <a href='https://wandb.ai/coffeegang/RNN_preliminary_tests/runs/ysfkehwt' target=\"_blank\">https://wandb.ai/coffeegang/RNN_preliminary_tests/runs/ysfkehwt</a>"
            ]
          },
          "metadata": {}
        },
        {
          "output_type": "stream",
          "name": "stdout",
          "text": [
            "Epoch 1/50\n",
            "556/556 [==============================] - 21s 33ms/step - loss: 1.1689 - accuracy: 0.4891 - val_loss: 0.9022 - val_accuracy: 0.6039\n",
            "Epoch 2/50\n",
            "556/556 [==============================] - 6s 11ms/step - loss: 1.0451 - accuracy: 0.5491 - val_loss: 0.7379 - val_accuracy: 0.7427\n",
            "Epoch 3/50\n",
            "556/556 [==============================] - 6s 10ms/step - loss: 0.9919 - accuracy: 0.5757 - val_loss: 1.0066 - val_accuracy: 0.6258\n",
            "Epoch 4/50\n",
            "556/556 [==============================] - 5s 9ms/step - loss: 0.9502 - accuracy: 0.5929 - val_loss: 1.0263 - val_accuracy: 0.5957\n",
            "Epoch 5/50\n",
            "556/556 [==============================] - 5s 9ms/step - loss: 0.8939 - accuracy: 0.6218 - val_loss: 1.0319 - val_accuracy: 0.6060\n",
            "Epoch 6/50\n",
            "556/556 [==============================] - 5s 9ms/step - loss: 0.8494 - accuracy: 0.6439 - val_loss: 1.1398 - val_accuracy: 0.5750\n",
            "Epoch 7/50\n",
            "556/556 [==============================] - 5s 9ms/step - loss: 0.8230 - accuracy: 0.6563 - val_loss: 1.1257 - val_accuracy: 0.6283\n",
            "Epoch 8/50\n",
            "556/556 [==============================] - 5s 8ms/step - loss: 0.7943 - accuracy: 0.6689 - val_loss: 1.0835 - val_accuracy: 0.6248\n",
            "Epoch 9/50\n",
            "556/556 [==============================] - 5s 8ms/step - loss: 0.7523 - accuracy: 0.6891 - val_loss: 1.1369 - val_accuracy: 0.6138\n",
            "Epoch 10/50\n",
            "556/556 [==============================] - 5s 8ms/step - loss: 0.7340 - accuracy: 0.6976 - val_loss: 1.2135 - val_accuracy: 0.5982\n",
            "Epoch 11/50\n",
            "556/556 [==============================] - 5s 8ms/step - loss: 0.7022 - accuracy: 0.7107 - val_loss: 1.2559 - val_accuracy: 0.6062\n",
            "Epoch 12/50\n",
            "556/556 [==============================] - 5s 9ms/step - loss: 0.6891 - accuracy: 0.7168 - val_loss: 1.3597 - val_accuracy: 0.5828\n",
            "Epoch 13/50\n",
            "556/556 [==============================] - 5s 8ms/step - loss: 0.6731 - accuracy: 0.7235 - val_loss: 1.1925 - val_accuracy: 0.6421\n",
            "Epoch 14/50\n",
            "556/556 [==============================] - 5s 8ms/step - loss: 0.6602 - accuracy: 0.7284 - val_loss: 1.3288 - val_accuracy: 0.6113\n",
            "Epoch 15/50\n",
            "556/556 [==============================] - 5s 9ms/step - loss: 0.6539 - accuracy: 0.7323 - val_loss: 1.3991 - val_accuracy: 0.5805\n",
            "Epoch 16/50\n",
            "556/556 [==============================] - 5s 8ms/step - loss: 0.6431 - accuracy: 0.7373 - val_loss: 1.5367 - val_accuracy: 0.5716\n",
            "Epoch 17/50\n",
            "556/556 [==============================] - 5s 8ms/step - loss: 0.6419 - accuracy: 0.7351 - val_loss: 1.3722 - val_accuracy: 0.6212\n",
            "Epoch 18/50\n",
            "556/556 [==============================] - 5s 8ms/step - loss: 0.6296 - accuracy: 0.7415 - val_loss: 1.4581 - val_accuracy: 0.5796\n",
            "Epoch 19/50\n",
            "556/556 [==============================] - 5s 8ms/step - loss: 0.6232 - accuracy: 0.7456 - val_loss: 1.4808 - val_accuracy: 0.5762\n",
            "Epoch 20/50\n",
            "556/556 [==============================] - 4s 8ms/step - loss: 0.6214 - accuracy: 0.7471 - val_loss: 1.4856 - val_accuracy: 0.5910\n",
            "Epoch 21/50\n",
            "556/556 [==============================] - 4s 8ms/step - loss: 0.6168 - accuracy: 0.7483 - val_loss: 1.6038 - val_accuracy: 0.5746\n",
            "Epoch 22/50\n",
            "556/556 [==============================] - 4s 8ms/step - loss: 0.6099 - accuracy: 0.7528 - val_loss: 1.4901 - val_accuracy: 0.5803\n",
            "Epoch 23/50\n",
            "556/556 [==============================] - 5s 8ms/step - loss: 0.5997 - accuracy: 0.7582 - val_loss: 1.4771 - val_accuracy: 0.5936\n",
            "Epoch 24/50\n",
            "556/556 [==============================] - 5s 8ms/step - loss: 0.5976 - accuracy: 0.7570 - val_loss: 1.5903 - val_accuracy: 0.5914\n",
            "Epoch 25/50\n",
            "556/556 [==============================] - 4s 8ms/step - loss: 0.6204 - accuracy: 0.7489 - val_loss: 1.6796 - val_accuracy: 0.5421\n",
            "Epoch 26/50\n",
            "556/556 [==============================] - 5s 8ms/step - loss: 0.6322 - accuracy: 0.7417 - val_loss: 1.5118 - val_accuracy: 0.5967\n"
          ]
        },
        {
          "output_type": "display_data",
          "data": {
            "text/plain": [
              "VBox(children=(Label(value='0.003 MB of 0.003 MB uploaded\\r'), FloatProgress(value=1.0, max=1.0)))"
            ],
            "application/vnd.jupyter.widget-view+json": {
              "version_major": 2,
              "version_minor": 0,
              "model_id": "c497a0937639440f9fd9b72107d2b923"
            }
          },
          "metadata": {}
        },
        {
          "output_type": "display_data",
          "data": {
            "text/plain": [
              "<IPython.core.display.HTML object>"
            ],
            "text/html": [
              "<style>\n",
              "    table.wandb td:nth-child(1) { padding: 0 10px; text-align: left ; width: auto;} td:nth-child(2) {text-align: left ; width: 100%}\n",
              "    .wandb-row { display: flex; flex-direction: row; flex-wrap: wrap; justify-content: flex-start; width: 100% }\n",
              "    .wandb-col { display: flex; flex-direction: column; flex-basis: 100%; flex: 1; padding: 10px; }\n",
              "    </style>\n",
              "<div class=\"wandb-row\"><div class=\"wandb-col\"><h3>Run history:</h3><br/><table class=\"wandb\"><tr><td>accuracy</td><td>▁▃▃▄▄▅▅▆▆▆▇▇▇▇▇▇▇█████████</td></tr><tr><td>epoch</td><td>▁▁▂▂▂▂▃▃▃▄▄▄▄▅▅▅▅▆▆▆▇▇▇▇██</td></tr><tr><td>loss</td><td>█▆▆▅▅▄▄▃▃▃▂▂▂▂▂▂▂▁▁▁▁▁▁▁▁▁</td></tr><tr><td>size-train</td><td>▁</td></tr><tr><td>size-val</td><td>▁</td></tr><tr><td>val_accuracy</td><td>▃█▄▃▃▂▄▄▄▃▃▂▄▃▂▂▄▂▂▃▂▂▃▃▁▃</td></tr><tr><td>val_loss</td><td>▂▁▃▃▃▄▄▄▄▅▅▆▄▅▆▇▆▆▇▇▇▇▆▇█▇</td></tr></table><br/></div><div class=\"wandb-col\"><h3>Run summary:</h3><br/><table class=\"wandb\"><tr><td>accuracy</td><td>0.7417</td></tr><tr><td>best_epoch</td><td>1</td></tr><tr><td>best_val_loss</td><td>0.73794</td></tr><tr><td>epoch</td><td>25</td></tr><tr><td>loss</td><td>0.63222</td></tr><tr><td>size-train</td><td>35521</td></tr><tr><td>size-val</td><td>5259</td></tr><tr><td>val_accuracy</td><td>0.59669</td></tr><tr><td>val_loss</td><td>1.51178</td></tr></table><br/></div></div>"
            ]
          },
          "metadata": {}
        },
        {
          "output_type": "display_data",
          "data": {
            "text/plain": [
              "<IPython.core.display.HTML object>"
            ],
            "text/html": [
              " View run <strong style=\"color:#cdcd00\">golden-sweep-15</strong> at: <a href='https://wandb.ai/coffeegang/RNN_preliminary_tests/runs/ysfkehwt' target=\"_blank\">https://wandb.ai/coffeegang/RNN_preliminary_tests/runs/ysfkehwt</a><br/>Synced 5 W&B file(s), 1 media file(s), 0 artifact file(s) and 0 other file(s)"
            ]
          },
          "metadata": {}
        },
        {
          "output_type": "display_data",
          "data": {
            "text/plain": [
              "<IPython.core.display.HTML object>"
            ],
            "text/html": [
              "Find logs at: <code>./wandb/run-20240128_144209-ysfkehwt/logs</code>"
            ]
          },
          "metadata": {}
        },
        {
          "output_type": "stream",
          "name": "stderr",
          "text": [
            "\u001b[34m\u001b[1mwandb\u001b[0m: Agent Starting Run: zuew2ucc with config:\n",
            "\u001b[34m\u001b[1mwandb\u001b[0m: \treview_length: 50\n",
            "\u001b[34m\u001b[1mwandb\u001b[0m: \ttraining_set_name: Prime_Pantry\n",
            "\u001b[34m\u001b[1mwandb\u001b[0m: \tvocab_size: 2000\n"
          ]
        },
        {
          "output_type": "display_data",
          "data": {
            "text/plain": [
              "<IPython.core.display.HTML object>"
            ],
            "text/html": [
              "Tracking run with wandb version 0.16.2"
            ]
          },
          "metadata": {}
        },
        {
          "output_type": "display_data",
          "data": {
            "text/plain": [
              "<IPython.core.display.HTML object>"
            ],
            "text/html": [
              "Run data is saved locally in <code>/content/gdrive/.shortcut-targets-by-id/1osKmyrDLORFSpes1mwrU-W7OXM-to6bK/AML_Exam/Problem2/wandb/run-20240128_144449-zuew2ucc</code>"
            ]
          },
          "metadata": {}
        },
        {
          "output_type": "display_data",
          "data": {
            "text/plain": [
              "<IPython.core.display.HTML object>"
            ],
            "text/html": [
              "Syncing run <strong><a href='https://wandb.ai/coffeegang/RNN_preliminary_tests/runs/zuew2ucc' target=\"_blank\">revived-sweep-16</a></strong> to <a href='https://wandb.ai/coffeegang/RNN_preliminary_tests' target=\"_blank\">Weights & Biases</a> (<a href='https://wandb.me/run' target=\"_blank\">docs</a>)<br/>Sweep page: <a href='https://wandb.ai/coffeegang/RNN_preliminary_tests/sweeps/rd1v16t6' target=\"_blank\">https://wandb.ai/coffeegang/RNN_preliminary_tests/sweeps/rd1v16t6</a>"
            ]
          },
          "metadata": {}
        },
        {
          "output_type": "display_data",
          "data": {
            "text/plain": [
              "<IPython.core.display.HTML object>"
            ],
            "text/html": [
              " View project at <a href='https://wandb.ai/coffeegang/RNN_preliminary_tests' target=\"_blank\">https://wandb.ai/coffeegang/RNN_preliminary_tests</a>"
            ]
          },
          "metadata": {}
        },
        {
          "output_type": "display_data",
          "data": {
            "text/plain": [
              "<IPython.core.display.HTML object>"
            ],
            "text/html": [
              " View sweep at <a href='https://wandb.ai/coffeegang/RNN_preliminary_tests/sweeps/rd1v16t6' target=\"_blank\">https://wandb.ai/coffeegang/RNN_preliminary_tests/sweeps/rd1v16t6</a>"
            ]
          },
          "metadata": {}
        },
        {
          "output_type": "display_data",
          "data": {
            "text/plain": [
              "<IPython.core.display.HTML object>"
            ],
            "text/html": [
              " View run at <a href='https://wandb.ai/coffeegang/RNN_preliminary_tests/runs/zuew2ucc' target=\"_blank\">https://wandb.ai/coffeegang/RNN_preliminary_tests/runs/zuew2ucc</a>"
            ]
          },
          "metadata": {}
        },
        {
          "output_type": "stream",
          "name": "stdout",
          "text": [
            "Epoch 1/50\n",
            "556/556 [==============================] - 22s 33ms/step - loss: 1.1775 - accuracy: 0.4856 - val_loss: 0.9201 - val_accuracy: 0.6876\n",
            "Epoch 2/50\n",
            "556/556 [==============================] - 6s 11ms/step - loss: 1.0542 - accuracy: 0.5366 - val_loss: 0.8266 - val_accuracy: 0.6735\n",
            "Epoch 3/50\n",
            "556/556 [==============================] - 5s 10ms/step - loss: 0.9897 - accuracy: 0.5722 - val_loss: 0.8343 - val_accuracy: 0.6992\n",
            "Epoch 4/50\n",
            "556/556 [==============================] - 5s 9ms/step - loss: 0.9316 - accuracy: 0.6011 - val_loss: 0.8931 - val_accuracy: 0.6458\n",
            "Epoch 5/50\n",
            "556/556 [==============================] - 5s 9ms/step - loss: 0.8791 - accuracy: 0.6255 - val_loss: 1.0315 - val_accuracy: 0.6001\n",
            "Epoch 6/50\n",
            "556/556 [==============================] - 5s 9ms/step - loss: 0.8238 - accuracy: 0.6514 - val_loss: 0.9926 - val_accuracy: 0.6309\n",
            "Epoch 7/50\n",
            "556/556 [==============================] - 5s 9ms/step - loss: 0.7807 - accuracy: 0.6736 - val_loss: 1.0710 - val_accuracy: 0.6309\n",
            "Epoch 8/50\n",
            "556/556 [==============================] - 5s 9ms/step - loss: 0.7433 - accuracy: 0.6888 - val_loss: 1.2476 - val_accuracy: 0.5800\n",
            "Epoch 9/50\n",
            "556/556 [==============================] - 5s 8ms/step - loss: 0.7125 - accuracy: 0.7032 - val_loss: 1.2135 - val_accuracy: 0.6071\n",
            "Epoch 10/50\n",
            "556/556 [==============================] - 5s 8ms/step - loss: 0.6881 - accuracy: 0.7174 - val_loss: 1.1600 - val_accuracy: 0.6492\n",
            "Epoch 11/50\n",
            "556/556 [==============================] - 5s 9ms/step - loss: 0.6923 - accuracy: 0.7129 - val_loss: 1.3149 - val_accuracy: 0.5935\n",
            "Epoch 12/50\n",
            "556/556 [==============================] - 5s 9ms/step - loss: 0.6503 - accuracy: 0.7349 - val_loss: 1.3931 - val_accuracy: 0.5887\n",
            "Epoch 13/50\n",
            "556/556 [==============================] - 5s 9ms/step - loss: 0.6094 - accuracy: 0.7526 - val_loss: 1.4482 - val_accuracy: 0.6016\n",
            "Epoch 14/50\n",
            "556/556 [==============================] - 5s 8ms/step - loss: 0.6220 - accuracy: 0.7475 - val_loss: 1.2169 - val_accuracy: 0.6530\n",
            "Epoch 15/50\n",
            "556/556 [==============================] - 5s 8ms/step - loss: 0.6046 - accuracy: 0.7548 - val_loss: 1.4073 - val_accuracy: 0.6134\n",
            "Epoch 16/50\n",
            "556/556 [==============================] - 5s 8ms/step - loss: 0.5944 - accuracy: 0.7570 - val_loss: 1.4261 - val_accuracy: 0.6003\n",
            "Epoch 17/50\n",
            "556/556 [==============================] - 5s 8ms/step - loss: 0.5761 - accuracy: 0.7650 - val_loss: 1.6088 - val_accuracy: 0.5703\n",
            "Epoch 18/50\n",
            "556/556 [==============================] - 5s 8ms/step - loss: 0.5724 - accuracy: 0.7672 - val_loss: 1.6077 - val_accuracy: 0.5705\n",
            "Epoch 19/50\n",
            "556/556 [==============================] - 5s 8ms/step - loss: 0.5535 - accuracy: 0.7736 - val_loss: 1.5606 - val_accuracy: 0.6047\n",
            "Epoch 20/50\n",
            "556/556 [==============================] - 5s 9ms/step - loss: 0.5493 - accuracy: 0.7758 - val_loss: 1.6329 - val_accuracy: 0.5710\n",
            "Epoch 21/50\n",
            "556/556 [==============================] - 5s 8ms/step - loss: 0.5491 - accuracy: 0.7784 - val_loss: 1.5805 - val_accuracy: 0.5851\n",
            "Epoch 22/50\n",
            "556/556 [==============================] - 4s 8ms/step - loss: 0.5596 - accuracy: 0.7739 - val_loss: 1.6189 - val_accuracy: 0.6051\n",
            "Epoch 23/50\n",
            "556/556 [==============================] - 5s 9ms/step - loss: 0.5493 - accuracy: 0.7796 - val_loss: 1.6366 - val_accuracy: 0.5763\n",
            "Epoch 24/50\n",
            "556/556 [==============================] - 4s 8ms/step - loss: 0.5515 - accuracy: 0.7765 - val_loss: 1.6951 - val_accuracy: 0.5790\n",
            "Epoch 25/50\n",
            "556/556 [==============================] - 5s 8ms/step - loss: 0.5436 - accuracy: 0.7798 - val_loss: 1.8219 - val_accuracy: 0.5438\n",
            "Epoch 26/50\n",
            "556/556 [==============================] - 5s 9ms/step - loss: 0.5372 - accuracy: 0.7849 - val_loss: 1.8558 - val_accuracy: 0.5474\n",
            "Epoch 27/50\n",
            "556/556 [==============================] - 4s 8ms/step - loss: 0.5593 - accuracy: 0.7721 - val_loss: 1.6532 - val_accuracy: 0.5826\n",
            "Epoch 28/50\n",
            "556/556 [==============================] - 4s 8ms/step - loss: 0.5463 - accuracy: 0.7788 - val_loss: 1.8296 - val_accuracy: 0.5705\n",
            "Epoch 29/50\n",
            "556/556 [==============================] - 4s 8ms/step - loss: 0.5329 - accuracy: 0.7836 - val_loss: 1.8025 - val_accuracy: 0.5695\n"
          ]
        },
        {
          "output_type": "display_data",
          "data": {
            "text/plain": [
              "VBox(children=(Label(value='0.017 MB of 0.017 MB uploaded\\r'), FloatProgress(value=1.0, max=1.0)))"
            ],
            "application/vnd.jupyter.widget-view+json": {
              "version_major": 2,
              "version_minor": 0,
              "model_id": "7e7f2627ecb049ba82de4cda992ce809"
            }
          },
          "metadata": {}
        },
        {
          "output_type": "display_data",
          "data": {
            "text/plain": [
              "<IPython.core.display.HTML object>"
            ],
            "text/html": [
              "<style>\n",
              "    table.wandb td:nth-child(1) { padding: 0 10px; text-align: left ; width: auto;} td:nth-child(2) {text-align: left ; width: 100%}\n",
              "    .wandb-row { display: flex; flex-direction: row; flex-wrap: wrap; justify-content: flex-start; width: 100% }\n",
              "    .wandb-col { display: flex; flex-direction: column; flex-basis: 100%; flex: 1; padding: 10px; }\n",
              "    </style>\n",
              "<div class=\"wandb-row\"><div class=\"wandb-col\"><h3>Run history:</h3><br/><table class=\"wandb\"><tr><td>accuracy</td><td>▁▂▃▄▄▅▅▆▆▆▆▇▇▇▇▇█████████████</td></tr><tr><td>epoch</td><td>▁▁▁▂▂▂▃▃▃▃▃▄▄▄▅▅▅▅▅▆▆▆▇▇▇▇▇██</td></tr><tr><td>loss</td><td>█▇▆▅▅▄▄▃▃▃▃▂▂▂▂▂▁▁▁▁▁▁▁▁▁▁▁▁▁</td></tr><tr><td>size-train</td><td>▁</td></tr><tr><td>size-val</td><td>▁</td></tr><tr><td>val_accuracy</td><td>▇▇█▆▄▅▅▃▄▆▃▃▄▆▄▄▂▂▄▂▃▄▂▃▁▁▃▂▂</td></tr><tr><td>val_loss</td><td>▂▁▁▁▂▂▃▄▄▃▄▅▅▄▅▅▆▆▆▆▆▆▇▇██▇██</td></tr></table><br/></div><div class=\"wandb-col\"><h3>Run summary:</h3><br/><table class=\"wandb\"><tr><td>accuracy</td><td>0.78362</td></tr><tr><td>best_epoch</td><td>1</td></tr><tr><td>best_val_loss</td><td>0.82659</td></tr><tr><td>epoch</td><td>28</td></tr><tr><td>loss</td><td>0.53286</td></tr><tr><td>size-train</td><td>35521</td></tr><tr><td>size-val</td><td>5259</td></tr><tr><td>val_accuracy</td><td>0.5695</td></tr><tr><td>val_loss</td><td>1.8025</td></tr></table><br/></div></div>"
            ]
          },
          "metadata": {}
        },
        {
          "output_type": "display_data",
          "data": {
            "text/plain": [
              "<IPython.core.display.HTML object>"
            ],
            "text/html": [
              " View run <strong style=\"color:#cdcd00\">revived-sweep-16</strong> at: <a href='https://wandb.ai/coffeegang/RNN_preliminary_tests/runs/zuew2ucc' target=\"_blank\">https://wandb.ai/coffeegang/RNN_preliminary_tests/runs/zuew2ucc</a><br/>Synced 5 W&B file(s), 1 media file(s), 0 artifact file(s) and 0 other file(s)"
            ]
          },
          "metadata": {}
        },
        {
          "output_type": "display_data",
          "data": {
            "text/plain": [
              "<IPython.core.display.HTML object>"
            ],
            "text/html": [
              "Find logs at: <code>./wandb/run-20240128_144449-zuew2ucc/logs</code>"
            ]
          },
          "metadata": {}
        },
        {
          "output_type": "stream",
          "name": "stderr",
          "text": [
            "\u001b[34m\u001b[1mwandb\u001b[0m: Agent Starting Run: 5mw4fc9s with config:\n",
            "\u001b[34m\u001b[1mwandb\u001b[0m: \treview_length: 100\n",
            "\u001b[34m\u001b[1mwandb\u001b[0m: \ttraining_set_name: Arts_Crafts_and_Sewing\n",
            "\u001b[34m\u001b[1mwandb\u001b[0m: \tvocab_size: 500\n"
          ]
        },
        {
          "output_type": "display_data",
          "data": {
            "text/plain": [
              "<IPython.core.display.HTML object>"
            ],
            "text/html": [
              "Tracking run with wandb version 0.16.2"
            ]
          },
          "metadata": {}
        },
        {
          "output_type": "display_data",
          "data": {
            "text/plain": [
              "<IPython.core.display.HTML object>"
            ],
            "text/html": [
              "Run data is saved locally in <code>/content/gdrive/.shortcut-targets-by-id/1osKmyrDLORFSpes1mwrU-W7OXM-to6bK/AML_Exam/Problem2/wandb/run-20240128_144742-5mw4fc9s</code>"
            ]
          },
          "metadata": {}
        },
        {
          "output_type": "display_data",
          "data": {
            "text/plain": [
              "<IPython.core.display.HTML object>"
            ],
            "text/html": [
              "Syncing run <strong><a href='https://wandb.ai/coffeegang/RNN_preliminary_tests/runs/5mw4fc9s' target=\"_blank\">gallant-sweep-17</a></strong> to <a href='https://wandb.ai/coffeegang/RNN_preliminary_tests' target=\"_blank\">Weights & Biases</a> (<a href='https://wandb.me/run' target=\"_blank\">docs</a>)<br/>Sweep page: <a href='https://wandb.ai/coffeegang/RNN_preliminary_tests/sweeps/rd1v16t6' target=\"_blank\">https://wandb.ai/coffeegang/RNN_preliminary_tests/sweeps/rd1v16t6</a>"
            ]
          },
          "metadata": {}
        },
        {
          "output_type": "display_data",
          "data": {
            "text/plain": [
              "<IPython.core.display.HTML object>"
            ],
            "text/html": [
              " View project at <a href='https://wandb.ai/coffeegang/RNN_preliminary_tests' target=\"_blank\">https://wandb.ai/coffeegang/RNN_preliminary_tests</a>"
            ]
          },
          "metadata": {}
        },
        {
          "output_type": "display_data",
          "data": {
            "text/plain": [
              "<IPython.core.display.HTML object>"
            ],
            "text/html": [
              " View sweep at <a href='https://wandb.ai/coffeegang/RNN_preliminary_tests/sweeps/rd1v16t6' target=\"_blank\">https://wandb.ai/coffeegang/RNN_preliminary_tests/sweeps/rd1v16t6</a>"
            ]
          },
          "metadata": {}
        },
        {
          "output_type": "display_data",
          "data": {
            "text/plain": [
              "<IPython.core.display.HTML object>"
            ],
            "text/html": [
              " View run at <a href='https://wandb.ai/coffeegang/RNN_preliminary_tests/runs/5mw4fc9s' target=\"_blank\">https://wandb.ai/coffeegang/RNN_preliminary_tests/runs/5mw4fc9s</a>"
            ]
          },
          "metadata": {}
        },
        {
          "output_type": "stream",
          "name": "stdout",
          "text": [
            "Epoch 1/50\n",
            "782/782 [==============================] - 20s 22ms/step - loss: 1.2407 - accuracy: 0.4529 - val_loss: 1.0157 - val_accuracy: 0.6463\n",
            "Epoch 2/50\n",
            "782/782 [==============================] - 9s 12ms/step - loss: 1.1378 - accuracy: 0.5015 - val_loss: 0.9973 - val_accuracy: 0.6745\n",
            "Epoch 3/50\n",
            "782/782 [==============================] - 9s 12ms/step - loss: 1.0999 - accuracy: 0.5219 - val_loss: 1.0001 - val_accuracy: 0.6303\n",
            "Epoch 4/50\n",
            "782/782 [==============================] - 9s 11ms/step - loss: 1.0741 - accuracy: 0.5316 - val_loss: 0.9163 - val_accuracy: 0.6998\n",
            "Epoch 5/50\n",
            "782/782 [==============================] - 9s 11ms/step - loss: 1.0536 - accuracy: 0.5431 - val_loss: 0.9612 - val_accuracy: 0.6608\n",
            "Epoch 6/50\n",
            "782/782 [==============================] - 9s 11ms/step - loss: 1.0361 - accuracy: 0.5522 - val_loss: 1.0727 - val_accuracy: 0.6256\n",
            "Epoch 7/50\n",
            "782/782 [==============================] - 9s 11ms/step - loss: 1.0225 - accuracy: 0.5608 - val_loss: 1.1068 - val_accuracy: 0.6167\n",
            "Epoch 8/50\n",
            "782/782 [==============================] - 9s 11ms/step - loss: 1.0108 - accuracy: 0.5652 - val_loss: 1.0873 - val_accuracy: 0.6494\n",
            "Epoch 9/50\n",
            "782/782 [==============================] - 9s 11ms/step - loss: 1.0059 - accuracy: 0.5669 - val_loss: 1.0257 - val_accuracy: 0.6532\n",
            "Epoch 10/50\n",
            "782/782 [==============================] - 9s 11ms/step - loss: 1.0000 - accuracy: 0.5739 - val_loss: 0.9895 - val_accuracy: 0.6760\n",
            "Epoch 11/50\n",
            "782/782 [==============================] - 9s 12ms/step - loss: 0.9931 - accuracy: 0.5726 - val_loss: 1.0161 - val_accuracy: 0.6686\n",
            "Epoch 12/50\n",
            "782/782 [==============================] - 9s 11ms/step - loss: 0.9868 - accuracy: 0.5767 - val_loss: 0.8973 - val_accuracy: 0.6904\n",
            "Epoch 13/50\n",
            "782/782 [==============================] - 8s 11ms/step - loss: 0.9866 - accuracy: 0.5814 - val_loss: 0.9786 - val_accuracy: 0.6773\n",
            "Epoch 14/50\n",
            "782/782 [==============================] - 8s 11ms/step - loss: 0.9869 - accuracy: 0.5787 - val_loss: 1.0327 - val_accuracy: 0.6471\n",
            "Epoch 15/50\n",
            "782/782 [==============================] - 8s 11ms/step - loss: 0.9858 - accuracy: 0.5804 - val_loss: 1.0756 - val_accuracy: 0.6229\n",
            "Epoch 16/50\n",
            "782/782 [==============================] - 8s 11ms/step - loss: 0.9836 - accuracy: 0.5816 - val_loss: 1.0937 - val_accuracy: 0.6556\n",
            "Epoch 17/50\n",
            "782/782 [==============================] - 9s 11ms/step - loss: 0.9832 - accuracy: 0.5788 - val_loss: 1.0599 - val_accuracy: 0.6634\n",
            "Epoch 18/50\n",
            "782/782 [==============================] - 8s 11ms/step - loss: 0.9926 - accuracy: 0.5771 - val_loss: 1.0194 - val_accuracy: 0.6623\n",
            "Epoch 19/50\n",
            "782/782 [==============================] - 8s 11ms/step - loss: 0.9989 - accuracy: 0.5734 - val_loss: 1.1265 - val_accuracy: 0.6096\n"
          ]
        },
        {
          "output_type": "display_data",
          "data": {
            "text/plain": [
              "VBox(children=(Label(value='0.003 MB of 0.003 MB uploaded\\r'), FloatProgress(value=1.0, max=1.0)))"
            ],
            "application/vnd.jupyter.widget-view+json": {
              "version_major": 2,
              "version_minor": 0,
              "model_id": "42f8c268df4941b1b7bd0a18b8b444da"
            }
          },
          "metadata": {}
        },
        {
          "output_type": "display_data",
          "data": {
            "text/plain": [
              "<IPython.core.display.HTML object>"
            ],
            "text/html": [
              "<style>\n",
              "    table.wandb td:nth-child(1) { padding: 0 10px; text-align: left ; width: auto;} td:nth-child(2) {text-align: left ; width: 100%}\n",
              "    .wandb-row { display: flex; flex-direction: row; flex-wrap: wrap; justify-content: flex-start; width: 100% }\n",
              "    .wandb-col { display: flex; flex-direction: column; flex-basis: 100%; flex: 1; padding: 10px; }\n",
              "    </style>\n",
              "<div class=\"wandb-row\"><div class=\"wandb-col\"><h3>Run history:</h3><br/><table class=\"wandb\"><tr><td>accuracy</td><td>▁▄▅▅▆▆▇▇▇██████████</td></tr><tr><td>epoch</td><td>▁▁▂▂▃▃▃▄▄▅▅▅▆▆▆▇▇██</td></tr><tr><td>loss</td><td>█▅▄▃▃▂▂▂▂▁▁▁▁▁▁▁▁▁▁</td></tr><tr><td>size-train</td><td>▁</td></tr><tr><td>size-val</td><td>▁</td></tr><tr><td>val_accuracy</td><td>▄▆▃█▅▂▂▄▄▆▆▇▆▄▂▅▅▅▁</td></tr><tr><td>val_loss</td><td>▅▄▄▂▃▆▇▇▅▄▅▁▃▅▆▇▆▅█</td></tr></table><br/></div><div class=\"wandb-col\"><h3>Run summary:</h3><br/><table class=\"wandb\"><tr><td>accuracy</td><td>0.5734</td></tr><tr><td>best_epoch</td><td>11</td></tr><tr><td>best_val_loss</td><td>0.89727</td></tr><tr><td>epoch</td><td>18</td></tr><tr><td>loss</td><td>0.99886</td></tr><tr><td>size-train</td><td>50000</td></tr><tr><td>size-val</td><td>5259</td></tr><tr><td>val_accuracy</td><td>0.60962</td></tr><tr><td>val_loss</td><td>1.12652</td></tr></table><br/></div></div>"
            ]
          },
          "metadata": {}
        },
        {
          "output_type": "display_data",
          "data": {
            "text/plain": [
              "<IPython.core.display.HTML object>"
            ],
            "text/html": [
              " View run <strong style=\"color:#cdcd00\">gallant-sweep-17</strong> at: <a href='https://wandb.ai/coffeegang/RNN_preliminary_tests/runs/5mw4fc9s' target=\"_blank\">https://wandb.ai/coffeegang/RNN_preliminary_tests/runs/5mw4fc9s</a><br/>Synced 5 W&B file(s), 1 media file(s), 0 artifact file(s) and 0 other file(s)"
            ]
          },
          "metadata": {}
        },
        {
          "output_type": "display_data",
          "data": {
            "text/plain": [
              "<IPython.core.display.HTML object>"
            ],
            "text/html": [
              "Find logs at: <code>./wandb/run-20240128_144742-5mw4fc9s/logs</code>"
            ]
          },
          "metadata": {}
        },
        {
          "output_type": "stream",
          "name": "stderr",
          "text": [
            "\u001b[34m\u001b[1mwandb\u001b[0m: Agent Starting Run: iy4i0b7g with config:\n",
            "\u001b[34m\u001b[1mwandb\u001b[0m: \treview_length: 100\n",
            "\u001b[34m\u001b[1mwandb\u001b[0m: \ttraining_set_name: Arts_Crafts_and_Sewing\n",
            "\u001b[34m\u001b[1mwandb\u001b[0m: \tvocab_size: 1000\n"
          ]
        },
        {
          "output_type": "display_data",
          "data": {
            "text/plain": [
              "<IPython.core.display.HTML object>"
            ],
            "text/html": [
              "Tracking run with wandb version 0.16.2"
            ]
          },
          "metadata": {}
        },
        {
          "output_type": "display_data",
          "data": {
            "text/plain": [
              "<IPython.core.display.HTML object>"
            ],
            "text/html": [
              "Run data is saved locally in <code>/content/gdrive/.shortcut-targets-by-id/1osKmyrDLORFSpes1mwrU-W7OXM-to6bK/AML_Exam/Problem2/wandb/run-20240128_145100-iy4i0b7g</code>"
            ]
          },
          "metadata": {}
        },
        {
          "output_type": "display_data",
          "data": {
            "text/plain": [
              "<IPython.core.display.HTML object>"
            ],
            "text/html": [
              "Syncing run <strong><a href='https://wandb.ai/coffeegang/RNN_preliminary_tests/runs/iy4i0b7g' target=\"_blank\">stilted-sweep-18</a></strong> to <a href='https://wandb.ai/coffeegang/RNN_preliminary_tests' target=\"_blank\">Weights & Biases</a> (<a href='https://wandb.me/run' target=\"_blank\">docs</a>)<br/>Sweep page: <a href='https://wandb.ai/coffeegang/RNN_preliminary_tests/sweeps/rd1v16t6' target=\"_blank\">https://wandb.ai/coffeegang/RNN_preliminary_tests/sweeps/rd1v16t6</a>"
            ]
          },
          "metadata": {}
        },
        {
          "output_type": "display_data",
          "data": {
            "text/plain": [
              "<IPython.core.display.HTML object>"
            ],
            "text/html": [
              " View project at <a href='https://wandb.ai/coffeegang/RNN_preliminary_tests' target=\"_blank\">https://wandb.ai/coffeegang/RNN_preliminary_tests</a>"
            ]
          },
          "metadata": {}
        },
        {
          "output_type": "display_data",
          "data": {
            "text/plain": [
              "<IPython.core.display.HTML object>"
            ],
            "text/html": [
              " View sweep at <a href='https://wandb.ai/coffeegang/RNN_preliminary_tests/sweeps/rd1v16t6' target=\"_blank\">https://wandb.ai/coffeegang/RNN_preliminary_tests/sweeps/rd1v16t6</a>"
            ]
          },
          "metadata": {}
        },
        {
          "output_type": "display_data",
          "data": {
            "text/plain": [
              "<IPython.core.display.HTML object>"
            ],
            "text/html": [
              " View run at <a href='https://wandb.ai/coffeegang/RNN_preliminary_tests/runs/iy4i0b7g' target=\"_blank\">https://wandb.ai/coffeegang/RNN_preliminary_tests/runs/iy4i0b7g</a>"
            ]
          },
          "metadata": {}
        },
        {
          "output_type": "stream",
          "name": "stdout",
          "text": [
            "Epoch 1/50\n",
            "782/782 [==============================] - 26s 28ms/step - loss: 1.2038 - accuracy: 0.4657 - val_loss: 1.0421 - val_accuracy: 0.6393\n",
            "Epoch 2/50\n",
            "782/782 [==============================] - 10s 12ms/step - loss: 1.0920 - accuracy: 0.5192 - val_loss: 1.0307 - val_accuracy: 0.6423\n",
            "Epoch 3/50\n",
            "782/782 [==============================] - 9s 12ms/step - loss: 1.0504 - accuracy: 0.5397 - val_loss: 1.0591 - val_accuracy: 0.5878\n",
            "Epoch 4/50\n",
            "782/782 [==============================] - 9s 11ms/step - loss: 1.0187 - accuracy: 0.5583 - val_loss: 0.9355 - val_accuracy: 0.6800\n",
            "Epoch 5/50\n",
            "782/782 [==============================] - 9s 11ms/step - loss: 0.9883 - accuracy: 0.5734 - val_loss: 1.0299 - val_accuracy: 0.6522\n",
            "Epoch 6/50\n",
            "782/782 [==============================] - 9s 11ms/step - loss: 0.9655 - accuracy: 0.5851 - val_loss: 0.9781 - val_accuracy: 0.6889\n",
            "Epoch 7/50\n",
            "782/782 [==============================] - 9s 11ms/step - loss: 0.9503 - accuracy: 0.5942 - val_loss: 1.0312 - val_accuracy: 0.6458\n",
            "Epoch 8/50\n",
            "782/782 [==============================] - 9s 11ms/step - loss: 0.9263 - accuracy: 0.6059 - val_loss: 1.0602 - val_accuracy: 0.6465\n",
            "Epoch 9/50\n",
            "782/782 [==============================] - 9s 11ms/step - loss: 0.9177 - accuracy: 0.6089 - val_loss: 1.0067 - val_accuracy: 0.6606\n",
            "Epoch 10/50\n",
            "782/782 [==============================] - 8s 11ms/step - loss: 0.9115 - accuracy: 0.6126 - val_loss: 1.0677 - val_accuracy: 0.6364\n",
            "Epoch 11/50\n",
            "782/782 [==============================] - 8s 11ms/step - loss: 0.9016 - accuracy: 0.6171 - val_loss: 1.0946 - val_accuracy: 0.6444\n",
            "Epoch 12/50\n",
            "782/782 [==============================] - 8s 11ms/step - loss: 0.8936 - accuracy: 0.6210 - val_loss: 1.1015 - val_accuracy: 0.6378\n",
            "Epoch 13/50\n",
            "782/782 [==============================] - 9s 11ms/step - loss: 0.8932 - accuracy: 0.6227 - val_loss: 1.1315 - val_accuracy: 0.6075\n",
            "Epoch 14/50\n",
            "782/782 [==============================] - 9s 11ms/step - loss: 0.8875 - accuracy: 0.6276 - val_loss: 1.1615 - val_accuracy: 0.6399\n",
            "Epoch 15/50\n",
            "782/782 [==============================] - 8s 11ms/step - loss: 0.8821 - accuracy: 0.6275 - val_loss: 1.1065 - val_accuracy: 0.6307\n",
            "Epoch 16/50\n",
            "782/782 [==============================] - 8s 11ms/step - loss: 0.8878 - accuracy: 0.6262 - val_loss: 1.1800 - val_accuracy: 0.6395\n",
            "Epoch 17/50\n",
            "782/782 [==============================] - 8s 11ms/step - loss: 0.8762 - accuracy: 0.6322 - val_loss: 1.0949 - val_accuracy: 0.6494\n",
            "Epoch 18/50\n",
            "782/782 [==============================] - 8s 11ms/step - loss: 0.8764 - accuracy: 0.6303 - val_loss: 1.2099 - val_accuracy: 0.6125\n",
            "Epoch 19/50\n",
            "782/782 [==============================] - 8s 11ms/step - loss: 0.8820 - accuracy: 0.6279 - val_loss: 1.1427 - val_accuracy: 0.6290\n",
            "Epoch 20/50\n",
            "782/782 [==============================] - 8s 11ms/step - loss: 0.8752 - accuracy: 0.6302 - val_loss: 1.1686 - val_accuracy: 0.6397\n"
          ]
        },
        {
          "output_type": "display_data",
          "data": {
            "text/plain": [
              "VBox(children=(Label(value='0.003 MB of 0.015 MB uploaded\\r'), FloatProgress(value=0.17878470725851137, max=1.…"
            ],
            "application/vnd.jupyter.widget-view+json": {
              "version_major": 2,
              "version_minor": 0,
              "model_id": "ed2607e52a274fc29624fdc8c842d806"
            }
          },
          "metadata": {}
        },
        {
          "output_type": "display_data",
          "data": {
            "text/plain": [
              "<IPython.core.display.HTML object>"
            ],
            "text/html": [
              "<style>\n",
              "    table.wandb td:nth-child(1) { padding: 0 10px; text-align: left ; width: auto;} td:nth-child(2) {text-align: left ; width: 100%}\n",
              "    .wandb-row { display: flex; flex-direction: row; flex-wrap: wrap; justify-content: flex-start; width: 100% }\n",
              "    .wandb-col { display: flex; flex-direction: column; flex-basis: 100%; flex: 1; padding: 10px; }\n",
              "    </style>\n",
              "<div class=\"wandb-row\"><div class=\"wandb-col\"><h3>Run history:</h3><br/><table class=\"wandb\"><tr><td>accuracy</td><td>▁▃▄▅▆▆▆▇▇▇▇█████████</td></tr><tr><td>epoch</td><td>▁▁▂▂▂▃▃▄▄▄▅▅▅▆▆▇▇▇██</td></tr><tr><td>loss</td><td>█▆▅▄▃▃▃▂▂▂▂▁▁▁▁▁▁▁▁▁</td></tr><tr><td>size-train</td><td>▁</td></tr><tr><td>size-val</td><td>▁</td></tr><tr><td>val_accuracy</td><td>▅▅▁▇▅█▅▅▆▄▅▄▂▅▄▅▅▃▄▅</td></tr><tr><td>val_loss</td><td>▄▃▄▁▃▂▃▄▃▄▅▅▆▇▅▇▅█▆▇</td></tr></table><br/></div><div class=\"wandb-col\"><h3>Run summary:</h3><br/><table class=\"wandb\"><tr><td>accuracy</td><td>0.63016</td></tr><tr><td>best_epoch</td><td>3</td></tr><tr><td>best_val_loss</td><td>0.93552</td></tr><tr><td>epoch</td><td>19</td></tr><tr><td>loss</td><td>0.87522</td></tr><tr><td>size-train</td><td>50000</td></tr><tr><td>size-val</td><td>5259</td></tr><tr><td>val_accuracy</td><td>0.63967</td></tr><tr><td>val_loss</td><td>1.16861</td></tr></table><br/></div></div>"
            ]
          },
          "metadata": {}
        },
        {
          "output_type": "display_data",
          "data": {
            "text/plain": [
              "<IPython.core.display.HTML object>"
            ],
            "text/html": [
              " View run <strong style=\"color:#cdcd00\">stilted-sweep-18</strong> at: <a href='https://wandb.ai/coffeegang/RNN_preliminary_tests/runs/iy4i0b7g' target=\"_blank\">https://wandb.ai/coffeegang/RNN_preliminary_tests/runs/iy4i0b7g</a><br/>Synced 5 W&B file(s), 1 media file(s), 0 artifact file(s) and 0 other file(s)"
            ]
          },
          "metadata": {}
        },
        {
          "output_type": "display_data",
          "data": {
            "text/plain": [
              "<IPython.core.display.HTML object>"
            ],
            "text/html": [
              "Find logs at: <code>./wandb/run-20240128_145100-iy4i0b7g/logs</code>"
            ]
          },
          "metadata": {}
        },
        {
          "output_type": "stream",
          "name": "stderr",
          "text": [
            "\u001b[34m\u001b[1mwandb\u001b[0m: Agent Starting Run: 6zj58jkp with config:\n",
            "\u001b[34m\u001b[1mwandb\u001b[0m: \treview_length: 100\n",
            "\u001b[34m\u001b[1mwandb\u001b[0m: \ttraining_set_name: Arts_Crafts_and_Sewing\n",
            "\u001b[34m\u001b[1mwandb\u001b[0m: \tvocab_size: 1500\n"
          ]
        },
        {
          "output_type": "display_data",
          "data": {
            "text/plain": [
              "<IPython.core.display.HTML object>"
            ],
            "text/html": [
              "Tracking run with wandb version 0.16.2"
            ]
          },
          "metadata": {}
        },
        {
          "output_type": "display_data",
          "data": {
            "text/plain": [
              "<IPython.core.display.HTML object>"
            ],
            "text/html": [
              "Run data is saved locally in <code>/content/gdrive/.shortcut-targets-by-id/1osKmyrDLORFSpes1mwrU-W7OXM-to6bK/AML_Exam/Problem2/wandb/run-20240128_145432-6zj58jkp</code>"
            ]
          },
          "metadata": {}
        },
        {
          "output_type": "display_data",
          "data": {
            "text/plain": [
              "<IPython.core.display.HTML object>"
            ],
            "text/html": [
              "Syncing run <strong><a href='https://wandb.ai/coffeegang/RNN_preliminary_tests/runs/6zj58jkp' target=\"_blank\">celestial-sweep-19</a></strong> to <a href='https://wandb.ai/coffeegang/RNN_preliminary_tests' target=\"_blank\">Weights & Biases</a> (<a href='https://wandb.me/run' target=\"_blank\">docs</a>)<br/>Sweep page: <a href='https://wandb.ai/coffeegang/RNN_preliminary_tests/sweeps/rd1v16t6' target=\"_blank\">https://wandb.ai/coffeegang/RNN_preliminary_tests/sweeps/rd1v16t6</a>"
            ]
          },
          "metadata": {}
        },
        {
          "output_type": "display_data",
          "data": {
            "text/plain": [
              "<IPython.core.display.HTML object>"
            ],
            "text/html": [
              " View project at <a href='https://wandb.ai/coffeegang/RNN_preliminary_tests' target=\"_blank\">https://wandb.ai/coffeegang/RNN_preliminary_tests</a>"
            ]
          },
          "metadata": {}
        },
        {
          "output_type": "display_data",
          "data": {
            "text/plain": [
              "<IPython.core.display.HTML object>"
            ],
            "text/html": [
              " View sweep at <a href='https://wandb.ai/coffeegang/RNN_preliminary_tests/sweeps/rd1v16t6' target=\"_blank\">https://wandb.ai/coffeegang/RNN_preliminary_tests/sweeps/rd1v16t6</a>"
            ]
          },
          "metadata": {}
        },
        {
          "output_type": "display_data",
          "data": {
            "text/plain": [
              "<IPython.core.display.HTML object>"
            ],
            "text/html": [
              " View run at <a href='https://wandb.ai/coffeegang/RNN_preliminary_tests/runs/6zj58jkp' target=\"_blank\">https://wandb.ai/coffeegang/RNN_preliminary_tests/runs/6zj58jkp</a>"
            ]
          },
          "metadata": {}
        },
        {
          "output_type": "stream",
          "name": "stdout",
          "text": [
            "Epoch 1/50\n",
            "782/782 [==============================] - 28s 32ms/step - loss: 1.1910 - accuracy: 0.4743 - val_loss: 1.2295 - val_accuracy: 0.6013\n",
            "Epoch 2/50\n",
            "782/782 [==============================] - 11s 13ms/step - loss: 1.0684 - accuracy: 0.5318 - val_loss: 0.8797 - val_accuracy: 0.6973\n",
            "Epoch 3/50\n",
            "782/782 [==============================] - 9s 11ms/step - loss: 1.0185 - accuracy: 0.5569 - val_loss: 0.9887 - val_accuracy: 0.6503\n",
            "Epoch 4/50\n",
            "782/782 [==============================] - 9s 12ms/step - loss: 0.9767 - accuracy: 0.5784 - val_loss: 0.9099 - val_accuracy: 0.6786\n",
            "Epoch 5/50\n",
            "782/782 [==============================] - 9s 11ms/step - loss: 0.9414 - accuracy: 0.5976 - val_loss: 1.0247 - val_accuracy: 0.6712\n",
            "Epoch 6/50\n",
            "782/782 [==============================] - 9s 11ms/step - loss: 0.9138 - accuracy: 0.6126 - val_loss: 1.1490 - val_accuracy: 0.6252\n",
            "Epoch 7/50\n",
            "782/782 [==============================] - 9s 11ms/step - loss: 0.8833 - accuracy: 0.6256 - val_loss: 1.1573 - val_accuracy: 0.5957\n",
            "Epoch 8/50\n",
            "782/782 [==============================] - 8s 11ms/step - loss: 0.8692 - accuracy: 0.6328 - val_loss: 1.0816 - val_accuracy: 0.6349\n",
            "Epoch 9/50\n",
            "782/782 [==============================] - 8s 11ms/step - loss: 0.8413 - accuracy: 0.6461 - val_loss: 1.1813 - val_accuracy: 0.6229\n",
            "Epoch 10/50\n",
            "782/782 [==============================] - 9s 11ms/step - loss: 0.8359 - accuracy: 0.6486 - val_loss: 1.2395 - val_accuracy: 0.6146\n",
            "Epoch 11/50\n",
            "782/782 [==============================] - 9s 11ms/step - loss: 0.8136 - accuracy: 0.6630 - val_loss: 1.2253 - val_accuracy: 0.5923\n",
            "Epoch 12/50\n",
            "782/782 [==============================] - 9s 11ms/step - loss: 0.8089 - accuracy: 0.6653 - val_loss: 1.1472 - val_accuracy: 0.6298\n",
            "Epoch 13/50\n",
            "782/782 [==============================] - 8s 11ms/step - loss: 0.7917 - accuracy: 0.6719 - val_loss: 1.2167 - val_accuracy: 0.6305\n",
            "Epoch 14/50\n",
            "782/782 [==============================] - 9s 11ms/step - loss: 0.7892 - accuracy: 0.6736 - val_loss: 1.2893 - val_accuracy: 0.6260\n",
            "Epoch 15/50\n",
            "782/782 [==============================] - 9s 11ms/step - loss: 0.7860 - accuracy: 0.6746 - val_loss: 1.2933 - val_accuracy: 0.5963\n",
            "Epoch 16/50\n",
            "782/782 [==============================] - 9s 11ms/step - loss: 0.7746 - accuracy: 0.6808 - val_loss: 1.2956 - val_accuracy: 0.6033\n",
            "Epoch 17/50\n",
            "782/782 [==============================] - 9s 11ms/step - loss: 0.7766 - accuracy: 0.6782 - val_loss: 1.2359 - val_accuracy: 0.6461\n",
            "Epoch 18/50\n",
            "782/782 [==============================] - 9s 11ms/step - loss: 0.7801 - accuracy: 0.6779 - val_loss: 1.1794 - val_accuracy: 0.6564\n",
            "Epoch 19/50\n",
            "782/782 [==============================] - 9s 11ms/step - loss: 0.7765 - accuracy: 0.6795 - val_loss: 1.2294 - val_accuracy: 0.6176\n"
          ]
        },
        {
          "output_type": "display_data",
          "data": {
            "text/plain": [
              "VBox(children=(Label(value='0.003 MB of 0.003 MB uploaded\\r'), FloatProgress(value=1.0, max=1.0)))"
            ],
            "application/vnd.jupyter.widget-view+json": {
              "version_major": 2,
              "version_minor": 0,
              "model_id": "efc932ddfb5a4c229131ce79111e12f5"
            }
          },
          "metadata": {}
        },
        {
          "output_type": "display_data",
          "data": {
            "text/plain": [
              "<IPython.core.display.HTML object>"
            ],
            "text/html": [
              "<style>\n",
              "    table.wandb td:nth-child(1) { padding: 0 10px; text-align: left ; width: auto;} td:nth-child(2) {text-align: left ; width: 100%}\n",
              "    .wandb-row { display: flex; flex-direction: row; flex-wrap: wrap; justify-content: flex-start; width: 100% }\n",
              "    .wandb-col { display: flex; flex-direction: column; flex-basis: 100%; flex: 1; padding: 10px; }\n",
              "    </style>\n",
              "<div class=\"wandb-row\"><div class=\"wandb-col\"><h3>Run history:</h3><br/><table class=\"wandb\"><tr><td>accuracy</td><td>▁▃▄▅▅▆▆▆▇▇▇▇███████</td></tr><tr><td>epoch</td><td>▁▁▂▂▃▃▃▄▄▅▅▅▆▆▆▇▇██</td></tr><tr><td>loss</td><td>█▆▅▄▄▃▃▃▂▂▂▂▁▁▁▁▁▁▁</td></tr><tr><td>size-train</td><td>▁</td></tr><tr><td>size-val</td><td>▁</td></tr><tr><td>val_accuracy</td><td>▂█▅▇▆▃▁▄▃▂▁▃▄▃▁▂▅▅▃</td></tr><tr><td>val_loss</td><td>▇▁▃▂▃▆▆▄▆▇▇▆▇███▇▆▇</td></tr></table><br/></div><div class=\"wandb-col\"><h3>Run summary:</h3><br/><table class=\"wandb\"><tr><td>accuracy</td><td>0.67952</td></tr><tr><td>best_epoch</td><td>1</td></tr><tr><td>best_val_loss</td><td>0.87967</td></tr><tr><td>epoch</td><td>18</td></tr><tr><td>loss</td><td>0.7765</td></tr><tr><td>size-train</td><td>50000</td></tr><tr><td>size-val</td><td>5259</td></tr><tr><td>val_accuracy</td><td>0.61761</td></tr><tr><td>val_loss</td><td>1.2294</td></tr></table><br/></div></div>"
            ]
          },
          "metadata": {}
        },
        {
          "output_type": "display_data",
          "data": {
            "text/plain": [
              "<IPython.core.display.HTML object>"
            ],
            "text/html": [
              " View run <strong style=\"color:#cdcd00\">celestial-sweep-19</strong> at: <a href='https://wandb.ai/coffeegang/RNN_preliminary_tests/runs/6zj58jkp' target=\"_blank\">https://wandb.ai/coffeegang/RNN_preliminary_tests/runs/6zj58jkp</a><br/>Synced 5 W&B file(s), 1 media file(s), 0 artifact file(s) and 0 other file(s)"
            ]
          },
          "metadata": {}
        },
        {
          "output_type": "display_data",
          "data": {
            "text/plain": [
              "<IPython.core.display.HTML object>"
            ],
            "text/html": [
              "Find logs at: <code>./wandb/run-20240128_145432-6zj58jkp/logs</code>"
            ]
          },
          "metadata": {}
        },
        {
          "output_type": "stream",
          "name": "stderr",
          "text": [
            "\u001b[34m\u001b[1mwandb\u001b[0m: Agent Starting Run: unn4ekq9 with config:\n",
            "\u001b[34m\u001b[1mwandb\u001b[0m: \treview_length: 100\n",
            "\u001b[34m\u001b[1mwandb\u001b[0m: \ttraining_set_name: Arts_Crafts_and_Sewing\n",
            "\u001b[34m\u001b[1mwandb\u001b[0m: \tvocab_size: 2000\n"
          ]
        },
        {
          "output_type": "display_data",
          "data": {
            "text/plain": [
              "<IPython.core.display.HTML object>"
            ],
            "text/html": [
              "Tracking run with wandb version 0.16.2"
            ]
          },
          "metadata": {}
        },
        {
          "output_type": "display_data",
          "data": {
            "text/plain": [
              "<IPython.core.display.HTML object>"
            ],
            "text/html": [
              "Run data is saved locally in <code>/content/gdrive/.shortcut-targets-by-id/1osKmyrDLORFSpes1mwrU-W7OXM-to6bK/AML_Exam/Problem2/wandb/run-20240128_145804-unn4ekq9</code>"
            ]
          },
          "metadata": {}
        },
        {
          "output_type": "display_data",
          "data": {
            "text/plain": [
              "<IPython.core.display.HTML object>"
            ],
            "text/html": [
              "Syncing run <strong><a href='https://wandb.ai/coffeegang/RNN_preliminary_tests/runs/unn4ekq9' target=\"_blank\">noble-sweep-20</a></strong> to <a href='https://wandb.ai/coffeegang/RNN_preliminary_tests' target=\"_blank\">Weights & Biases</a> (<a href='https://wandb.me/run' target=\"_blank\">docs</a>)<br/>Sweep page: <a href='https://wandb.ai/coffeegang/RNN_preliminary_tests/sweeps/rd1v16t6' target=\"_blank\">https://wandb.ai/coffeegang/RNN_preliminary_tests/sweeps/rd1v16t6</a>"
            ]
          },
          "metadata": {}
        },
        {
          "output_type": "display_data",
          "data": {
            "text/plain": [
              "<IPython.core.display.HTML object>"
            ],
            "text/html": [
              " View project at <a href='https://wandb.ai/coffeegang/RNN_preliminary_tests' target=\"_blank\">https://wandb.ai/coffeegang/RNN_preliminary_tests</a>"
            ]
          },
          "metadata": {}
        },
        {
          "output_type": "display_data",
          "data": {
            "text/plain": [
              "<IPython.core.display.HTML object>"
            ],
            "text/html": [
              " View sweep at <a href='https://wandb.ai/coffeegang/RNN_preliminary_tests/sweeps/rd1v16t6' target=\"_blank\">https://wandb.ai/coffeegang/RNN_preliminary_tests/sweeps/rd1v16t6</a>"
            ]
          },
          "metadata": {}
        },
        {
          "output_type": "display_data",
          "data": {
            "text/plain": [
              "<IPython.core.display.HTML object>"
            ],
            "text/html": [
              " View run at <a href='https://wandb.ai/coffeegang/RNN_preliminary_tests/runs/unn4ekq9' target=\"_blank\">https://wandb.ai/coffeegang/RNN_preliminary_tests/runs/unn4ekq9</a>"
            ]
          },
          "metadata": {}
        },
        {
          "output_type": "stream",
          "name": "stdout",
          "text": [
            "Epoch 1/50\n",
            "782/782 [==============================] - 30s 34ms/step - loss: 1.1932 - accuracy: 0.4743 - val_loss: 1.0046 - val_accuracy: 0.6779\n",
            "Epoch 2/50\n",
            "782/782 [==============================] - 11s 14ms/step - loss: 1.0667 - accuracy: 0.5328 - val_loss: 1.0048 - val_accuracy: 0.6617\n",
            "Epoch 3/50\n",
            "782/782 [==============================] - 10s 13ms/step - loss: 1.0131 - accuracy: 0.5614 - val_loss: 0.9130 - val_accuracy: 0.6958\n",
            "Epoch 4/50\n",
            "782/782 [==============================] - 9s 12ms/step - loss: 0.9682 - accuracy: 0.5817 - val_loss: 0.9999 - val_accuracy: 0.6163\n",
            "Epoch 5/50\n",
            "782/782 [==============================] - 9s 12ms/step - loss: 0.9215 - accuracy: 0.6077 - val_loss: 1.0253 - val_accuracy: 0.6577\n",
            "Epoch 6/50\n",
            "782/782 [==============================] - 9s 11ms/step - loss: 0.8890 - accuracy: 0.6275 - val_loss: 1.0676 - val_accuracy: 0.6499\n",
            "Epoch 7/50\n",
            "782/782 [==============================] - 9s 12ms/step - loss: 0.8599 - accuracy: 0.6396 - val_loss: 1.1041 - val_accuracy: 0.6203\n",
            "Epoch 8/50\n",
            "782/782 [==============================] - 9s 11ms/step - loss: 0.8404 - accuracy: 0.6485 - val_loss: 1.0920 - val_accuracy: 0.6374\n",
            "Epoch 9/50\n",
            "782/782 [==============================] - 9s 12ms/step - loss: 0.8194 - accuracy: 0.6602 - val_loss: 1.2853 - val_accuracy: 0.6035\n",
            "Epoch 10/50\n",
            "782/782 [==============================] - 9s 11ms/step - loss: 0.8001 - accuracy: 0.6681 - val_loss: 1.1835 - val_accuracy: 0.6264\n",
            "Epoch 11/50\n",
            "782/782 [==============================] - 9s 11ms/step - loss: 0.7885 - accuracy: 0.6753 - val_loss: 1.2991 - val_accuracy: 0.5685\n",
            "Epoch 12/50\n",
            "782/782 [==============================] - 8s 11ms/step - loss: 0.7783 - accuracy: 0.6776 - val_loss: 1.3634 - val_accuracy: 0.5936\n",
            "Epoch 13/50\n",
            "782/782 [==============================] - 9s 11ms/step - loss: 0.7632 - accuracy: 0.6865 - val_loss: 1.4088 - val_accuracy: 0.5805\n",
            "Epoch 14/50\n",
            "782/782 [==============================] - 9s 11ms/step - loss: 0.7726 - accuracy: 0.6818 - val_loss: 1.3047 - val_accuracy: 0.6028\n",
            "Epoch 15/50\n",
            "782/782 [==============================] - 9s 11ms/step - loss: 0.7622 - accuracy: 0.6866 - val_loss: 1.1865 - val_accuracy: 0.6313\n",
            "Epoch 16/50\n",
            "782/782 [==============================] - 8s 11ms/step - loss: 0.7604 - accuracy: 0.6888 - val_loss: 1.2732 - val_accuracy: 0.5904\n",
            "Epoch 17/50\n",
            "782/782 [==============================] - 9s 11ms/step - loss: 0.7560 - accuracy: 0.6881 - val_loss: 1.2607 - val_accuracy: 0.6070\n",
            "Epoch 18/50\n",
            "782/782 [==============================] - 9s 11ms/step - loss: 0.7559 - accuracy: 0.6890 - val_loss: 1.1337 - val_accuracy: 0.6338\n",
            "Epoch 19/50\n",
            "782/782 [==============================] - 9s 11ms/step - loss: 0.7535 - accuracy: 0.6920 - val_loss: 1.3310 - val_accuracy: 0.5809\n",
            "Epoch 20/50\n",
            "782/782 [==============================] - 9s 11ms/step - loss: 0.7500 - accuracy: 0.6937 - val_loss: 1.3334 - val_accuracy: 0.6009\n",
            "Epoch 21/50\n",
            "782/782 [==============================] - 9s 11ms/step - loss: 0.7487 - accuracy: 0.6918 - val_loss: 1.2212 - val_accuracy: 0.6199\n",
            "Epoch 22/50\n",
            "782/782 [==============================] - 8s 11ms/step - loss: 0.7560 - accuracy: 0.6902 - val_loss: 1.3539 - val_accuracy: 0.5914\n",
            "Epoch 23/50\n",
            "782/782 [==============================] - 9s 11ms/step - loss: 0.7589 - accuracy: 0.6884 - val_loss: 1.2375 - val_accuracy: 0.6174\n"
          ]
        },
        {
          "output_type": "display_data",
          "data": {
            "text/plain": [
              "VBox(children=(Label(value='0.003 MB of 0.016 MB uploaded\\r'), FloatProgress(value=0.17403546609154086, max=1.…"
            ],
            "application/vnd.jupyter.widget-view+json": {
              "version_major": 2,
              "version_minor": 0,
              "model_id": "d97c3320df7d4dc08d2df0379cef9106"
            }
          },
          "metadata": {}
        },
        {
          "output_type": "display_data",
          "data": {
            "text/plain": [
              "<IPython.core.display.HTML object>"
            ],
            "text/html": [
              "<style>\n",
              "    table.wandb td:nth-child(1) { padding: 0 10px; text-align: left ; width: auto;} td:nth-child(2) {text-align: left ; width: 100%}\n",
              "    .wandb-row { display: flex; flex-direction: row; flex-wrap: wrap; justify-content: flex-start; width: 100% }\n",
              "    .wandb-col { display: flex; flex-direction: column; flex-basis: 100%; flex: 1; padding: 10px; }\n",
              "    </style>\n",
              "<div class=\"wandb-row\"><div class=\"wandb-col\"><h3>Run history:</h3><br/><table class=\"wandb\"><tr><td>accuracy</td><td>▁▃▄▄▅▆▆▇▇▇▇▇███████████</td></tr><tr><td>epoch</td><td>▁▁▂▂▂▃▃▃▄▄▄▅▅▅▅▆▆▆▇▇▇██</td></tr><tr><td>loss</td><td>█▆▅▄▄▃▃▂▂▂▂▁▁▁▁▁▁▁▁▁▁▁▁</td></tr><tr><td>size-train</td><td>▁</td></tr><tr><td>size-val</td><td>▁</td></tr><tr><td>val_accuracy</td><td>▇▆█▄▆▅▄▅▃▄▁▂▂▃▄▂▃▅▂▃▄▂▄</td></tr><tr><td>val_loss</td><td>▂▂▁▂▃▃▄▄▆▅▆▇█▇▅▆▆▄▇▇▅▇▆</td></tr></table><br/></div><div class=\"wandb-col\"><h3>Run summary:</h3><br/><table class=\"wandb\"><tr><td>accuracy</td><td>0.6884</td></tr><tr><td>best_epoch</td><td>2</td></tr><tr><td>best_val_loss</td><td>0.91304</td></tr><tr><td>epoch</td><td>22</td></tr><tr><td>loss</td><td>0.75888</td></tr><tr><td>size-train</td><td>50000</td></tr><tr><td>size-val</td><td>5259</td></tr><tr><td>val_accuracy</td><td>0.61742</td></tr><tr><td>val_loss</td><td>1.23754</td></tr></table><br/></div></div>"
            ]
          },
          "metadata": {}
        },
        {
          "output_type": "display_data",
          "data": {
            "text/plain": [
              "<IPython.core.display.HTML object>"
            ],
            "text/html": [
              " View run <strong style=\"color:#cdcd00\">noble-sweep-20</strong> at: <a href='https://wandb.ai/coffeegang/RNN_preliminary_tests/runs/unn4ekq9' target=\"_blank\">https://wandb.ai/coffeegang/RNN_preliminary_tests/runs/unn4ekq9</a><br/>Synced 5 W&B file(s), 1 media file(s), 0 artifact file(s) and 0 other file(s)"
            ]
          },
          "metadata": {}
        },
        {
          "output_type": "display_data",
          "data": {
            "text/plain": [
              "<IPython.core.display.HTML object>"
            ],
            "text/html": [
              "Find logs at: <code>./wandb/run-20240128_145804-unn4ekq9/logs</code>"
            ]
          },
          "metadata": {}
        },
        {
          "output_type": "stream",
          "name": "stderr",
          "text": [
            "\u001b[34m\u001b[1mwandb\u001b[0m: Agent Starting Run: hi5266lh with config:\n",
            "\u001b[34m\u001b[1mwandb\u001b[0m: \treview_length: 100\n",
            "\u001b[34m\u001b[1mwandb\u001b[0m: \ttraining_set_name: Prime_Pantry\n",
            "\u001b[34m\u001b[1mwandb\u001b[0m: \tvocab_size: 500\n"
          ]
        },
        {
          "output_type": "display_data",
          "data": {
            "text/plain": [
              "<IPython.core.display.HTML object>"
            ],
            "text/html": [
              "Tracking run with wandb version 0.16.2"
            ]
          },
          "metadata": {}
        },
        {
          "output_type": "display_data",
          "data": {
            "text/plain": [
              "<IPython.core.display.HTML object>"
            ],
            "text/html": [
              "Run data is saved locally in <code>/content/gdrive/.shortcut-targets-by-id/1osKmyrDLORFSpes1mwrU-W7OXM-to6bK/AML_Exam/Problem2/wandb/run-20240128_150213-hi5266lh</code>"
            ]
          },
          "metadata": {}
        },
        {
          "output_type": "display_data",
          "data": {
            "text/plain": [
              "<IPython.core.display.HTML object>"
            ],
            "text/html": [
              "Syncing run <strong><a href='https://wandb.ai/coffeegang/RNN_preliminary_tests/runs/hi5266lh' target=\"_blank\">astral-sweep-21</a></strong> to <a href='https://wandb.ai/coffeegang/RNN_preliminary_tests' target=\"_blank\">Weights & Biases</a> (<a href='https://wandb.me/run' target=\"_blank\">docs</a>)<br/>Sweep page: <a href='https://wandb.ai/coffeegang/RNN_preliminary_tests/sweeps/rd1v16t6' target=\"_blank\">https://wandb.ai/coffeegang/RNN_preliminary_tests/sweeps/rd1v16t6</a>"
            ]
          },
          "metadata": {}
        },
        {
          "output_type": "display_data",
          "data": {
            "text/plain": [
              "<IPython.core.display.HTML object>"
            ],
            "text/html": [
              " View project at <a href='https://wandb.ai/coffeegang/RNN_preliminary_tests' target=\"_blank\">https://wandb.ai/coffeegang/RNN_preliminary_tests</a>"
            ]
          },
          "metadata": {}
        },
        {
          "output_type": "display_data",
          "data": {
            "text/plain": [
              "<IPython.core.display.HTML object>"
            ],
            "text/html": [
              " View sweep at <a href='https://wandb.ai/coffeegang/RNN_preliminary_tests/sweeps/rd1v16t6' target=\"_blank\">https://wandb.ai/coffeegang/RNN_preliminary_tests/sweeps/rd1v16t6</a>"
            ]
          },
          "metadata": {}
        },
        {
          "output_type": "display_data",
          "data": {
            "text/plain": [
              "<IPython.core.display.HTML object>"
            ],
            "text/html": [
              " View run at <a href='https://wandb.ai/coffeegang/RNN_preliminary_tests/runs/hi5266lh' target=\"_blank\">https://wandb.ai/coffeegang/RNN_preliminary_tests/runs/hi5266lh</a>"
            ]
          },
          "metadata": {}
        },
        {
          "output_type": "stream",
          "name": "stdout",
          "text": [
            "Epoch 1/50\n",
            "556/556 [==============================] - 20s 30ms/step - loss: 1.2156 - accuracy: 0.4653 - val_loss: 0.9075 - val_accuracy: 0.6575\n",
            "Epoch 2/50\n",
            "556/556 [==============================] - 7s 13ms/step - loss: 1.1199 - accuracy: 0.5083 - val_loss: 0.8629 - val_accuracy: 0.6975\n",
            "Epoch 3/50\n",
            "556/556 [==============================] - 7s 12ms/step - loss: 1.0791 - accuracy: 0.5275 - val_loss: 1.0495 - val_accuracy: 0.6001\n",
            "Epoch 4/50\n",
            "556/556 [==============================] - 7s 13ms/step - loss: 1.0471 - accuracy: 0.5442 - val_loss: 0.9381 - val_accuracy: 0.6389\n",
            "Epoch 5/50\n",
            "556/556 [==============================] - 7s 12ms/step - loss: 1.0183 - accuracy: 0.5580 - val_loss: 0.8138 - val_accuracy: 0.6950\n",
            "Epoch 6/50\n",
            "556/556 [==============================] - 6s 11ms/step - loss: 0.9874 - accuracy: 0.5731 - val_loss: 1.0952 - val_accuracy: 0.5697\n",
            "Epoch 7/50\n",
            "556/556 [==============================] - 7s 12ms/step - loss: 0.9721 - accuracy: 0.5810 - val_loss: 0.8634 - val_accuracy: 0.6916\n",
            "Epoch 8/50\n",
            "556/556 [==============================] - 6s 11ms/step - loss: 0.9482 - accuracy: 0.5918 - val_loss: 1.0208 - val_accuracy: 0.6111\n",
            "Epoch 9/50\n",
            "556/556 [==============================] - 6s 12ms/step - loss: 0.9302 - accuracy: 0.5993 - val_loss: 0.9195 - val_accuracy: 0.6602\n",
            "Epoch 10/50\n",
            "556/556 [==============================] - 6s 12ms/step - loss: 0.9199 - accuracy: 0.6075 - val_loss: 0.9730 - val_accuracy: 0.6448\n",
            "Epoch 11/50\n",
            "556/556 [==============================] - 7s 12ms/step - loss: 0.9209 - accuracy: 0.6033 - val_loss: 1.0776 - val_accuracy: 0.6157\n",
            "Epoch 12/50\n",
            "556/556 [==============================] - 7s 12ms/step - loss: 0.8924 - accuracy: 0.6173 - val_loss: 1.0432 - val_accuracy: 0.6290\n",
            "Epoch 13/50\n",
            "556/556 [==============================] - 6s 12ms/step - loss: 0.8796 - accuracy: 0.6232 - val_loss: 1.2084 - val_accuracy: 0.5712\n",
            "Epoch 14/50\n",
            "556/556 [==============================] - 6s 11ms/step - loss: 0.8768 - accuracy: 0.6268 - val_loss: 0.9914 - val_accuracy: 0.6469\n",
            "Epoch 15/50\n",
            "556/556 [==============================] - 6s 11ms/step - loss: 0.8745 - accuracy: 0.6259 - val_loss: 0.9879 - val_accuracy: 0.6520\n",
            "Epoch 16/50\n",
            "556/556 [==============================] - 6s 11ms/step - loss: 0.8716 - accuracy: 0.6274 - val_loss: 1.1591 - val_accuracy: 0.6077\n",
            "Epoch 17/50\n",
            "556/556 [==============================] - 6s 11ms/step - loss: 0.8580 - accuracy: 0.6348 - val_loss: 1.0761 - val_accuracy: 0.6351\n",
            "Epoch 18/50\n",
            "556/556 [==============================] - 7s 12ms/step - loss: 0.8472 - accuracy: 0.6397 - val_loss: 1.1879 - val_accuracy: 0.5969\n",
            "Epoch 19/50\n",
            "556/556 [==============================] - 7s 12ms/step - loss: 0.8619 - accuracy: 0.6342 - val_loss: 1.1549 - val_accuracy: 0.6370\n",
            "Epoch 20/50\n",
            "556/556 [==============================] - 6s 11ms/step - loss: 0.8489 - accuracy: 0.6365 - val_loss: 1.1669 - val_accuracy: 0.6121\n",
            "Epoch 21/50\n",
            "556/556 [==============================] - 6s 12ms/step - loss: 0.8559 - accuracy: 0.6368 - val_loss: 1.1697 - val_accuracy: 0.6189\n"
          ]
        },
        {
          "output_type": "display_data",
          "data": {
            "text/plain": [
              "VBox(children=(Label(value='0.003 MB of 0.003 MB uploaded\\r'), FloatProgress(value=1.0, max=1.0)))"
            ],
            "application/vnd.jupyter.widget-view+json": {
              "version_major": 2,
              "version_minor": 0,
              "model_id": "aa58bfe0ebd24dde9ac5742c005730be"
            }
          },
          "metadata": {}
        },
        {
          "output_type": "display_data",
          "data": {
            "text/plain": [
              "<IPython.core.display.HTML object>"
            ],
            "text/html": [
              "<style>\n",
              "    table.wandb td:nth-child(1) { padding: 0 10px; text-align: left ; width: auto;} td:nth-child(2) {text-align: left ; width: 100%}\n",
              "    .wandb-row { display: flex; flex-direction: row; flex-wrap: wrap; justify-content: flex-start; width: 100% }\n",
              "    .wandb-col { display: flex; flex-direction: column; flex-basis: 100%; flex: 1; padding: 10px; }\n",
              "    </style>\n",
              "<div class=\"wandb-row\"><div class=\"wandb-col\"><h3>Run history:</h3><br/><table class=\"wandb\"><tr><td>accuracy</td><td>▁▃▃▄▅▅▆▆▆▇▇▇▇▇▇██████</td></tr><tr><td>epoch</td><td>▁▁▂▂▂▃▃▃▄▄▅▅▅▆▆▆▇▇▇██</td></tr><tr><td>loss</td><td>█▆▅▅▄▄▃▃▃▂▂▂▂▂▂▁▁▁▁▁▁</td></tr><tr><td>size-train</td><td>▁</td></tr><tr><td>size-val</td><td>▁</td></tr><tr><td>val_accuracy</td><td>▆█▃▅█▁█▃▆▅▄▄▁▅▆▃▅▂▅▃▄</td></tr><tr><td>val_loss</td><td>▃▂▅▃▁▆▂▅▃▄▆▅█▄▄▇▆█▇▇▇</td></tr></table><br/></div><div class=\"wandb-col\"><h3>Run summary:</h3><br/><table class=\"wandb\"><tr><td>accuracy</td><td>0.63675</td></tr><tr><td>best_epoch</td><td>4</td></tr><tr><td>best_val_loss</td><td>0.81383</td></tr><tr><td>epoch</td><td>20</td></tr><tr><td>loss</td><td>0.85589</td></tr><tr><td>size-train</td><td>35521</td></tr><tr><td>size-val</td><td>5259</td></tr><tr><td>val_accuracy</td><td>0.61894</td></tr><tr><td>val_loss</td><td>1.16975</td></tr></table><br/></div></div>"
            ]
          },
          "metadata": {}
        },
        {
          "output_type": "display_data",
          "data": {
            "text/plain": [
              "<IPython.core.display.HTML object>"
            ],
            "text/html": [
              " View run <strong style=\"color:#cdcd00\">astral-sweep-21</strong> at: <a href='https://wandb.ai/coffeegang/RNN_preliminary_tests/runs/hi5266lh' target=\"_blank\">https://wandb.ai/coffeegang/RNN_preliminary_tests/runs/hi5266lh</a><br/>Synced 5 W&B file(s), 1 media file(s), 0 artifact file(s) and 0 other file(s)"
            ]
          },
          "metadata": {}
        },
        {
          "output_type": "display_data",
          "data": {
            "text/plain": [
              "<IPython.core.display.HTML object>"
            ],
            "text/html": [
              "Find logs at: <code>./wandb/run-20240128_150213-hi5266lh/logs</code>"
            ]
          },
          "metadata": {}
        },
        {
          "output_type": "stream",
          "name": "stderr",
          "text": [
            "\u001b[34m\u001b[1mwandb\u001b[0m: Agent Starting Run: g8ofhfpl with config:\n",
            "\u001b[34m\u001b[1mwandb\u001b[0m: \treview_length: 100\n",
            "\u001b[34m\u001b[1mwandb\u001b[0m: \ttraining_set_name: Prime_Pantry\n",
            "\u001b[34m\u001b[1mwandb\u001b[0m: \tvocab_size: 1000\n"
          ]
        },
        {
          "output_type": "display_data",
          "data": {
            "text/plain": [
              "<IPython.core.display.HTML object>"
            ],
            "text/html": [
              "Tracking run with wandb version 0.16.2"
            ]
          },
          "metadata": {}
        },
        {
          "output_type": "display_data",
          "data": {
            "text/plain": [
              "<IPython.core.display.HTML object>"
            ],
            "text/html": [
              "Run data is saved locally in <code>/content/gdrive/.shortcut-targets-by-id/1osKmyrDLORFSpes1mwrU-W7OXM-to6bK/AML_Exam/Problem2/wandb/run-20240128_150501-g8ofhfpl</code>"
            ]
          },
          "metadata": {}
        },
        {
          "output_type": "display_data",
          "data": {
            "text/plain": [
              "<IPython.core.display.HTML object>"
            ],
            "text/html": [
              "Syncing run <strong><a href='https://wandb.ai/coffeegang/RNN_preliminary_tests/runs/g8ofhfpl' target=\"_blank\">colorful-sweep-22</a></strong> to <a href='https://wandb.ai/coffeegang/RNN_preliminary_tests' target=\"_blank\">Weights & Biases</a> (<a href='https://wandb.me/run' target=\"_blank\">docs</a>)<br/>Sweep page: <a href='https://wandb.ai/coffeegang/RNN_preliminary_tests/sweeps/rd1v16t6' target=\"_blank\">https://wandb.ai/coffeegang/RNN_preliminary_tests/sweeps/rd1v16t6</a>"
            ]
          },
          "metadata": {}
        },
        {
          "output_type": "display_data",
          "data": {
            "text/plain": [
              "<IPython.core.display.HTML object>"
            ],
            "text/html": [
              " View project at <a href='https://wandb.ai/coffeegang/RNN_preliminary_tests' target=\"_blank\">https://wandb.ai/coffeegang/RNN_preliminary_tests</a>"
            ]
          },
          "metadata": {}
        },
        {
          "output_type": "display_data",
          "data": {
            "text/plain": [
              "<IPython.core.display.HTML object>"
            ],
            "text/html": [
              " View sweep at <a href='https://wandb.ai/coffeegang/RNN_preliminary_tests/sweeps/rd1v16t6' target=\"_blank\">https://wandb.ai/coffeegang/RNN_preliminary_tests/sweeps/rd1v16t6</a>"
            ]
          },
          "metadata": {}
        },
        {
          "output_type": "display_data",
          "data": {
            "text/plain": [
              "<IPython.core.display.HTML object>"
            ],
            "text/html": [
              " View run at <a href='https://wandb.ai/coffeegang/RNN_preliminary_tests/runs/g8ofhfpl' target=\"_blank\">https://wandb.ai/coffeegang/RNN_preliminary_tests/runs/g8ofhfpl</a>"
            ]
          },
          "metadata": {}
        },
        {
          "output_type": "stream",
          "name": "stdout",
          "text": [
            "Epoch 1/50\n",
            "556/556 [==============================] - 24s 38ms/step - loss: 1.1739 - accuracy: 0.4880 - val_loss: 0.9703 - val_accuracy: 0.6381\n",
            "Epoch 2/50\n",
            "556/556 [==============================] - 8s 14ms/step - loss: 1.0545 - accuracy: 0.5400 - val_loss: 0.8486 - val_accuracy: 0.6767\n",
            "Epoch 3/50\n",
            "556/556 [==============================] - 7s 13ms/step - loss: 1.0129 - accuracy: 0.5610 - val_loss: 0.7779 - val_accuracy: 0.7279\n",
            "Epoch 4/50\n",
            "556/556 [==============================] - 7s 12ms/step - loss: 0.9724 - accuracy: 0.5822 - val_loss: 0.8839 - val_accuracy: 0.6766\n",
            "Epoch 5/50\n",
            "556/556 [==============================] - 7s 12ms/step - loss: 0.9408 - accuracy: 0.5945 - val_loss: 0.8260 - val_accuracy: 0.7009\n",
            "Epoch 6/50\n",
            "556/556 [==============================] - 7s 12ms/step - loss: 0.9113 - accuracy: 0.6104 - val_loss: 1.0511 - val_accuracy: 0.6374\n",
            "Epoch 7/50\n",
            "556/556 [==============================] - 7s 12ms/step - loss: 0.8776 - accuracy: 0.6243 - val_loss: 1.0372 - val_accuracy: 0.6528\n",
            "Epoch 8/50\n",
            "556/556 [==============================] - 6s 12ms/step - loss: 0.8537 - accuracy: 0.6393 - val_loss: 1.1115 - val_accuracy: 0.6222\n",
            "Epoch 9/50\n",
            "556/556 [==============================] - 7s 12ms/step - loss: 0.8333 - accuracy: 0.6464 - val_loss: 0.9893 - val_accuracy: 0.6387\n",
            "Epoch 10/50\n",
            "556/556 [==============================] - 6s 12ms/step - loss: 0.8193 - accuracy: 0.6516 - val_loss: 1.0668 - val_accuracy: 0.6332\n",
            "Epoch 11/50\n",
            "556/556 [==============================] - 7s 12ms/step - loss: 0.8064 - accuracy: 0.6604 - val_loss: 1.1371 - val_accuracy: 0.6349\n",
            "Epoch 12/50\n",
            "556/556 [==============================] - 6s 11ms/step - loss: 0.7874 - accuracy: 0.6661 - val_loss: 1.1557 - val_accuracy: 0.6146\n",
            "Epoch 13/50\n",
            "556/556 [==============================] - 7s 12ms/step - loss: 0.7817 - accuracy: 0.6713 - val_loss: 1.1767 - val_accuracy: 0.6201\n",
            "Epoch 14/50\n",
            "556/556 [==============================] - 6s 12ms/step - loss: 0.7688 - accuracy: 0.6779 - val_loss: 1.0057 - val_accuracy: 0.6781\n",
            "Epoch 15/50\n",
            "556/556 [==============================] - 6s 12ms/step - loss: 0.7514 - accuracy: 0.6853 - val_loss: 1.2688 - val_accuracy: 0.6149\n",
            "Epoch 16/50\n",
            "556/556 [==============================] - 6s 12ms/step - loss: 0.7523 - accuracy: 0.6889 - val_loss: 1.4455 - val_accuracy: 0.5511\n",
            "Epoch 17/50\n",
            "556/556 [==============================] - 6s 11ms/step - loss: 0.7495 - accuracy: 0.6868 - val_loss: 1.3741 - val_accuracy: 0.5598\n",
            "Epoch 18/50\n",
            "556/556 [==============================] - 6s 12ms/step - loss: 0.7411 - accuracy: 0.6917 - val_loss: 1.2107 - val_accuracy: 0.6207\n",
            "Epoch 19/50\n",
            "556/556 [==============================] - 6s 11ms/step - loss: 0.7353 - accuracy: 0.6919 - val_loss: 1.4003 - val_accuracy: 0.5963\n",
            "Epoch 20/50\n",
            "556/556 [==============================] - 6s 12ms/step - loss: 0.7357 - accuracy: 0.6926 - val_loss: 1.2273 - val_accuracy: 0.6191\n",
            "Epoch 21/50\n",
            "556/556 [==============================] - 6s 12ms/step - loss: 0.7363 - accuracy: 0.6939 - val_loss: 1.2700 - val_accuracy: 0.6370\n",
            "Epoch 22/50\n",
            "556/556 [==============================] - 7s 12ms/step - loss: 0.7332 - accuracy: 0.6955 - val_loss: 1.4707 - val_accuracy: 0.5864\n",
            "Epoch 23/50\n",
            "556/556 [==============================] - 6s 11ms/step - loss: 0.7305 - accuracy: 0.6973 - val_loss: 1.3494 - val_accuracy: 0.6062\n",
            "Epoch 24/50\n",
            "556/556 [==============================] - 6s 11ms/step - loss: 0.7528 - accuracy: 0.6876 - val_loss: 1.3830 - val_accuracy: 0.5995\n",
            "Epoch 25/50\n",
            "556/556 [==============================] - 7s 12ms/step - loss: 0.7439 - accuracy: 0.6915 - val_loss: 1.3562 - val_accuracy: 0.6186\n",
            "Epoch 26/50\n",
            "556/556 [==============================] - 6s 11ms/step - loss: 0.7564 - accuracy: 0.6828 - val_loss: 1.3954 - val_accuracy: 0.6237\n"
          ]
        },
        {
          "output_type": "display_data",
          "data": {
            "text/plain": [
              "VBox(children=(Label(value='0.003 MB of 0.016 MB uploaded\\r'), FloatProgress(value=0.16992393212404916, max=1.…"
            ],
            "application/vnd.jupyter.widget-view+json": {
              "version_major": 2,
              "version_minor": 0,
              "model_id": "745eadeeb20f4f9b817e38e9935d350c"
            }
          },
          "metadata": {}
        },
        {
          "output_type": "display_data",
          "data": {
            "text/plain": [
              "<IPython.core.display.HTML object>"
            ],
            "text/html": [
              "<style>\n",
              "    table.wandb td:nth-child(1) { padding: 0 10px; text-align: left ; width: auto;} td:nth-child(2) {text-align: left ; width: 100%}\n",
              "    .wandb-row { display: flex; flex-direction: row; flex-wrap: wrap; justify-content: flex-start; width: 100% }\n",
              "    .wandb-col { display: flex; flex-direction: column; flex-basis: 100%; flex: 1; padding: 10px; }\n",
              "    </style>\n",
              "<div class=\"wandb-row\"><div class=\"wandb-col\"><h3>Run history:</h3><br/><table class=\"wandb\"><tr><td>accuracy</td><td>▁▃▃▄▅▅▆▆▆▆▇▇▇▇████████████</td></tr><tr><td>epoch</td><td>▁▁▂▂▂▂▃▃▃▄▄▄▄▅▅▅▅▆▆▆▇▇▇▇██</td></tr><tr><td>loss</td><td>█▆▅▅▄▄▃▃▃▂▂▂▂▂▁▁▁▁▁▁▁▁▁▁▁▁</td></tr><tr><td>size-train</td><td>▁</td></tr><tr><td>size-val</td><td>▁</td></tr><tr><td>val_accuracy</td><td>▄▆█▆▇▄▅▄▄▄▄▄▄▆▄▁▁▄▃▄▄▂▃▃▄▄</td></tr><tr><td>val_loss</td><td>▃▂▁▂▁▄▄▄▃▄▅▅▅▃▆█▇▅▇▆▆█▇▇▇▇</td></tr></table><br/></div><div class=\"wandb-col\"><h3>Run summary:</h3><br/><table class=\"wandb\"><tr><td>accuracy</td><td>0.68275</td></tr><tr><td>best_epoch</td><td>2</td></tr><tr><td>best_val_loss</td><td>0.77786</td></tr><tr><td>epoch</td><td>25</td></tr><tr><td>loss</td><td>0.75641</td></tr><tr><td>size-train</td><td>35521</td></tr><tr><td>size-val</td><td>5259</td></tr><tr><td>val_accuracy</td><td>0.62369</td></tr><tr><td>val_loss</td><td>1.39537</td></tr></table><br/></div></div>"
            ]
          },
          "metadata": {}
        },
        {
          "output_type": "display_data",
          "data": {
            "text/plain": [
              "<IPython.core.display.HTML object>"
            ],
            "text/html": [
              " View run <strong style=\"color:#cdcd00\">colorful-sweep-22</strong> at: <a href='https://wandb.ai/coffeegang/RNN_preliminary_tests/runs/g8ofhfpl' target=\"_blank\">https://wandb.ai/coffeegang/RNN_preliminary_tests/runs/g8ofhfpl</a><br/>Synced 5 W&B file(s), 1 media file(s), 0 artifact file(s) and 0 other file(s)"
            ]
          },
          "metadata": {}
        },
        {
          "output_type": "display_data",
          "data": {
            "text/plain": [
              "<IPython.core.display.HTML object>"
            ],
            "text/html": [
              "Find logs at: <code>./wandb/run-20240128_150501-g8ofhfpl/logs</code>"
            ]
          },
          "metadata": {}
        },
        {
          "output_type": "stream",
          "name": "stderr",
          "text": [
            "\u001b[34m\u001b[1mwandb\u001b[0m: Agent Starting Run: mt4287rk with config:\n",
            "\u001b[34m\u001b[1mwandb\u001b[0m: \treview_length: 100\n",
            "\u001b[34m\u001b[1mwandb\u001b[0m: \ttraining_set_name: Prime_Pantry\n",
            "\u001b[34m\u001b[1mwandb\u001b[0m: \tvocab_size: 1500\n"
          ]
        },
        {
          "output_type": "display_data",
          "data": {
            "text/plain": [
              "<IPython.core.display.HTML object>"
            ],
            "text/html": [
              "Tracking run with wandb version 0.16.2"
            ]
          },
          "metadata": {}
        },
        {
          "output_type": "display_data",
          "data": {
            "text/plain": [
              "<IPython.core.display.HTML object>"
            ],
            "text/html": [
              "Run data is saved locally in <code>/content/gdrive/.shortcut-targets-by-id/1osKmyrDLORFSpes1mwrU-W7OXM-to6bK/AML_Exam/Problem2/wandb/run-20240128_150829-mt4287rk</code>"
            ]
          },
          "metadata": {}
        },
        {
          "output_type": "display_data",
          "data": {
            "text/plain": [
              "<IPython.core.display.HTML object>"
            ],
            "text/html": [
              "Syncing run <strong><a href='https://wandb.ai/coffeegang/RNN_preliminary_tests/runs/mt4287rk' target=\"_blank\">breezy-sweep-23</a></strong> to <a href='https://wandb.ai/coffeegang/RNN_preliminary_tests' target=\"_blank\">Weights & Biases</a> (<a href='https://wandb.me/run' target=\"_blank\">docs</a>)<br/>Sweep page: <a href='https://wandb.ai/coffeegang/RNN_preliminary_tests/sweeps/rd1v16t6' target=\"_blank\">https://wandb.ai/coffeegang/RNN_preliminary_tests/sweeps/rd1v16t6</a>"
            ]
          },
          "metadata": {}
        },
        {
          "output_type": "display_data",
          "data": {
            "text/plain": [
              "<IPython.core.display.HTML object>"
            ],
            "text/html": [
              " View project at <a href='https://wandb.ai/coffeegang/RNN_preliminary_tests' target=\"_blank\">https://wandb.ai/coffeegang/RNN_preliminary_tests</a>"
            ]
          },
          "metadata": {}
        },
        {
          "output_type": "display_data",
          "data": {
            "text/plain": [
              "<IPython.core.display.HTML object>"
            ],
            "text/html": [
              " View sweep at <a href='https://wandb.ai/coffeegang/RNN_preliminary_tests/sweeps/rd1v16t6' target=\"_blank\">https://wandb.ai/coffeegang/RNN_preliminary_tests/sweeps/rd1v16t6</a>"
            ]
          },
          "metadata": {}
        },
        {
          "output_type": "display_data",
          "data": {
            "text/plain": [
              "<IPython.core.display.HTML object>"
            ],
            "text/html": [
              " View run at <a href='https://wandb.ai/coffeegang/RNN_preliminary_tests/runs/mt4287rk' target=\"_blank\">https://wandb.ai/coffeegang/RNN_preliminary_tests/runs/mt4287rk</a>"
            ]
          },
          "metadata": {}
        },
        {
          "output_type": "stream",
          "name": "stdout",
          "text": [
            "Epoch 1/50\n",
            "556/556 [==============================] - 27s 41ms/step - loss: 1.1745 - accuracy: 0.4886 - val_loss: 0.9353 - val_accuracy: 0.6091\n",
            "Epoch 2/50\n",
            "556/556 [==============================] - 9s 16ms/step - loss: 1.0504 - accuracy: 0.5421 - val_loss: 0.8701 - val_accuracy: 0.6708\n",
            "Epoch 3/50\n",
            "556/556 [==============================] - 8s 14ms/step - loss: 0.9960 - accuracy: 0.5679 - val_loss: 0.9832 - val_accuracy: 0.6113\n",
            "Epoch 4/50\n",
            "556/556 [==============================] - 7s 13ms/step - loss: 0.9538 - accuracy: 0.5889 - val_loss: 0.8564 - val_accuracy: 0.6459\n",
            "Epoch 5/50\n",
            "556/556 [==============================] - 7s 13ms/step - loss: 0.9089 - accuracy: 0.6089 - val_loss: 0.9331 - val_accuracy: 0.6362\n",
            "Epoch 6/50\n",
            "556/556 [==============================] - 7s 13ms/step - loss: 0.8766 - accuracy: 0.6273 - val_loss: 0.8520 - val_accuracy: 0.6863\n",
            "Epoch 7/50\n",
            "556/556 [==============================] - 7s 12ms/step - loss: 0.8332 - accuracy: 0.6459 - val_loss: 0.9291 - val_accuracy: 0.6522\n",
            "Epoch 8/50\n",
            "556/556 [==============================] - 7s 12ms/step - loss: 0.8170 - accuracy: 0.6540 - val_loss: 1.0971 - val_accuracy: 0.6068\n",
            "Epoch 9/50\n",
            "556/556 [==============================] - 6s 12ms/step - loss: 0.7934 - accuracy: 0.6642 - val_loss: 1.1257 - val_accuracy: 0.6130\n",
            "Epoch 10/50\n",
            "556/556 [==============================] - 6s 12ms/step - loss: 0.7544 - accuracy: 0.6831 - val_loss: 1.0303 - val_accuracy: 0.6342\n",
            "Epoch 11/50\n",
            "556/556 [==============================] - 7s 12ms/step - loss: 0.7380 - accuracy: 0.6929 - val_loss: 1.1234 - val_accuracy: 0.6130\n",
            "Epoch 12/50\n",
            "556/556 [==============================] - 6s 12ms/step - loss: 0.7285 - accuracy: 0.6972 - val_loss: 1.2050 - val_accuracy: 0.6068\n",
            "Epoch 13/50\n",
            "556/556 [==============================] - 6s 12ms/step - loss: 0.7089 - accuracy: 0.7048 - val_loss: 1.2828 - val_accuracy: 0.5737\n",
            "Epoch 14/50\n",
            "556/556 [==============================] - 7s 12ms/step - loss: 0.7182 - accuracy: 0.7030 - val_loss: 1.1618 - val_accuracy: 0.6127\n",
            "Epoch 15/50\n",
            "556/556 [==============================] - 6s 12ms/step - loss: 0.7027 - accuracy: 0.7115 - val_loss: 1.1989 - val_accuracy: 0.6187\n",
            "Epoch 16/50\n",
            "556/556 [==============================] - 6s 12ms/step - loss: 0.6966 - accuracy: 0.7094 - val_loss: 1.2481 - val_accuracy: 0.6062\n",
            "Epoch 17/50\n",
            "556/556 [==============================] - 6s 11ms/step - loss: 0.6805 - accuracy: 0.7212 - val_loss: 1.1336 - val_accuracy: 0.6636\n",
            "Epoch 18/50\n",
            "556/556 [==============================] - 7s 12ms/step - loss: 0.6798 - accuracy: 0.7199 - val_loss: 1.2527 - val_accuracy: 0.5763\n",
            "Epoch 19/50\n",
            "556/556 [==============================] - 7s 12ms/step - loss: 0.6786 - accuracy: 0.7178 - val_loss: 1.2353 - val_accuracy: 0.6062\n",
            "Epoch 20/50\n",
            "556/556 [==============================] - 6s 11ms/step - loss: 0.6653 - accuracy: 0.7266 - val_loss: 1.2302 - val_accuracy: 0.6113\n",
            "Epoch 21/50\n",
            "556/556 [==============================] - 6s 11ms/step - loss: 0.6793 - accuracy: 0.7186 - val_loss: 1.3033 - val_accuracy: 0.5895\n",
            "Epoch 22/50\n",
            "556/556 [==============================] - 6s 11ms/step - loss: 0.6846 - accuracy: 0.7188 - val_loss: 1.4082 - val_accuracy: 0.5659\n",
            "Epoch 23/50\n",
            "556/556 [==============================] - 6s 11ms/step - loss: 0.6801 - accuracy: 0.7190 - val_loss: 1.3351 - val_accuracy: 0.5944\n"
          ]
        },
        {
          "output_type": "display_data",
          "data": {
            "text/plain": [
              "VBox(children=(Label(value='0.003 MB of 0.016 MB uploaded\\r'), FloatProgress(value=0.17437252311756934, max=1.…"
            ],
            "application/vnd.jupyter.widget-view+json": {
              "version_major": 2,
              "version_minor": 0,
              "model_id": "3900a9c428e84d2489dddd64a338400b"
            }
          },
          "metadata": {}
        },
        {
          "output_type": "display_data",
          "data": {
            "text/plain": [
              "<IPython.core.display.HTML object>"
            ],
            "text/html": [
              "<style>\n",
              "    table.wandb td:nth-child(1) { padding: 0 10px; text-align: left ; width: auto;} td:nth-child(2) {text-align: left ; width: 100%}\n",
              "    .wandb-row { display: flex; flex-direction: row; flex-wrap: wrap; justify-content: flex-start; width: 100% }\n",
              "    .wandb-col { display: flex; flex-direction: column; flex-basis: 100%; flex: 1; padding: 10px; }\n",
              "    </style>\n",
              "<div class=\"wandb-row\"><div class=\"wandb-col\"><h3>Run history:</h3><br/><table class=\"wandb\"><tr><td>accuracy</td><td>▁▃▃▄▅▅▆▆▆▇▇▇▇▇█▇███████</td></tr><tr><td>epoch</td><td>▁▁▂▂▂▃▃▃▄▄▄▅▅▅▅▆▆▆▇▇▇██</td></tr><tr><td>loss</td><td>█▆▆▅▄▄▃▃▃▂▂▂▂▂▂▁▁▁▁▁▁▁▁</td></tr><tr><td>size-train</td><td>▁</td></tr><tr><td>size-val</td><td>▁</td></tr><tr><td>val_accuracy</td><td>▄▇▄▆▅█▆▃▄▅▄▃▁▄▄▃▇▂▃▄▂▁▃</td></tr><tr><td>val_loss</td><td>▂▁▃▁▂▁▂▄▄▃▄▅▆▅▅▆▅▆▆▆▇█▇</td></tr></table><br/></div><div class=\"wandb-col\"><h3>Run summary:</h3><br/><table class=\"wandb\"><tr><td>accuracy</td><td>0.71901</td></tr><tr><td>best_epoch</td><td>5</td></tr><tr><td>best_val_loss</td><td>0.85205</td></tr><tr><td>epoch</td><td>22</td></tr><tr><td>loss</td><td>0.68006</td></tr><tr><td>size-train</td><td>35521</td></tr><tr><td>size-val</td><td>5259</td></tr><tr><td>val_accuracy</td><td>0.59441</td></tr><tr><td>val_loss</td><td>1.33515</td></tr></table><br/></div></div>"
            ]
          },
          "metadata": {}
        },
        {
          "output_type": "display_data",
          "data": {
            "text/plain": [
              "<IPython.core.display.HTML object>"
            ],
            "text/html": [
              " View run <strong style=\"color:#cdcd00\">breezy-sweep-23</strong> at: <a href='https://wandb.ai/coffeegang/RNN_preliminary_tests/runs/mt4287rk' target=\"_blank\">https://wandb.ai/coffeegang/RNN_preliminary_tests/runs/mt4287rk</a><br/>Synced 5 W&B file(s), 1 media file(s), 0 artifact file(s) and 0 other file(s)"
            ]
          },
          "metadata": {}
        },
        {
          "output_type": "display_data",
          "data": {
            "text/plain": [
              "<IPython.core.display.HTML object>"
            ],
            "text/html": [
              "Find logs at: <code>./wandb/run-20240128_150829-mt4287rk/logs</code>"
            ]
          },
          "metadata": {}
        },
        {
          "output_type": "stream",
          "name": "stderr",
          "text": [
            "\u001b[34m\u001b[1mwandb\u001b[0m: Agent Starting Run: 05eg59s2 with config:\n",
            "\u001b[34m\u001b[1mwandb\u001b[0m: \treview_length: 100\n",
            "\u001b[34m\u001b[1mwandb\u001b[0m: \ttraining_set_name: Prime_Pantry\n",
            "\u001b[34m\u001b[1mwandb\u001b[0m: \tvocab_size: 2000\n"
          ]
        },
        {
          "output_type": "display_data",
          "data": {
            "text/plain": [
              "<IPython.core.display.HTML object>"
            ],
            "text/html": [
              "Tracking run with wandb version 0.16.2"
            ]
          },
          "metadata": {}
        },
        {
          "output_type": "display_data",
          "data": {
            "text/plain": [
              "<IPython.core.display.HTML object>"
            ],
            "text/html": [
              "Run data is saved locally in <code>/content/gdrive/.shortcut-targets-by-id/1osKmyrDLORFSpes1mwrU-W7OXM-to6bK/AML_Exam/Problem2/wandb/run-20240128_151142-05eg59s2</code>"
            ]
          },
          "metadata": {}
        },
        {
          "output_type": "display_data",
          "data": {
            "text/plain": [
              "<IPython.core.display.HTML object>"
            ],
            "text/html": [
              "Syncing run <strong><a href='https://wandb.ai/coffeegang/RNN_preliminary_tests/runs/05eg59s2' target=\"_blank\">resilient-sweep-24</a></strong> to <a href='https://wandb.ai/coffeegang/RNN_preliminary_tests' target=\"_blank\">Weights & Biases</a> (<a href='https://wandb.me/run' target=\"_blank\">docs</a>)<br/>Sweep page: <a href='https://wandb.ai/coffeegang/RNN_preliminary_tests/sweeps/rd1v16t6' target=\"_blank\">https://wandb.ai/coffeegang/RNN_preliminary_tests/sweeps/rd1v16t6</a>"
            ]
          },
          "metadata": {}
        },
        {
          "output_type": "display_data",
          "data": {
            "text/plain": [
              "<IPython.core.display.HTML object>"
            ],
            "text/html": [
              " View project at <a href='https://wandb.ai/coffeegang/RNN_preliminary_tests' target=\"_blank\">https://wandb.ai/coffeegang/RNN_preliminary_tests</a>"
            ]
          },
          "metadata": {}
        },
        {
          "output_type": "display_data",
          "data": {
            "text/plain": [
              "<IPython.core.display.HTML object>"
            ],
            "text/html": [
              " View sweep at <a href='https://wandb.ai/coffeegang/RNN_preliminary_tests/sweeps/rd1v16t6' target=\"_blank\">https://wandb.ai/coffeegang/RNN_preliminary_tests/sweeps/rd1v16t6</a>"
            ]
          },
          "metadata": {}
        },
        {
          "output_type": "display_data",
          "data": {
            "text/plain": [
              "<IPython.core.display.HTML object>"
            ],
            "text/html": [
              " View run at <a href='https://wandb.ai/coffeegang/RNN_preliminary_tests/runs/05eg59s2' target=\"_blank\">https://wandb.ai/coffeegang/RNN_preliminary_tests/runs/05eg59s2</a>"
            ]
          },
          "metadata": {}
        },
        {
          "output_type": "stream",
          "name": "stdout",
          "text": [
            "Epoch 1/50\n",
            "556/556 [==============================] - 27s 42ms/step - loss: 1.1778 - accuracy: 0.4834 - val_loss: 0.9591 - val_accuracy: 0.6142\n",
            "Epoch 2/50\n",
            "556/556 [==============================] - 9s 17ms/step - loss: 1.0421 - accuracy: 0.5463 - val_loss: 0.7333 - val_accuracy: 0.7482\n",
            "Epoch 3/50\n",
            "556/556 [==============================] - 7s 13ms/step - loss: 0.9788 - accuracy: 0.5792 - val_loss: 0.8251 - val_accuracy: 0.6775\n",
            "Epoch 4/50\n",
            "556/556 [==============================] - 7s 13ms/step - loss: 0.9333 - accuracy: 0.6024 - val_loss: 0.9114 - val_accuracy: 0.6338\n",
            "Epoch 5/50\n",
            "556/556 [==============================] - 7s 12ms/step - loss: 0.8886 - accuracy: 0.6194 - val_loss: 1.0946 - val_accuracy: 0.5608\n",
            "Epoch 6/50\n",
            "556/556 [==============================] - 7s 13ms/step - loss: 0.8422 - accuracy: 0.6447 - val_loss: 1.0624 - val_accuracy: 0.6100\n",
            "Epoch 7/50\n",
            "556/556 [==============================] - 7s 12ms/step - loss: 0.8026 - accuracy: 0.6610 - val_loss: 1.0918 - val_accuracy: 0.6250\n",
            "Epoch 8/50\n",
            "556/556 [==============================] - 7s 13ms/step - loss: 0.7718 - accuracy: 0.6786 - val_loss: 1.0730 - val_accuracy: 0.6254\n",
            "Epoch 9/50\n",
            "556/556 [==============================] - 6s 11ms/step - loss: 0.7530 - accuracy: 0.6853 - val_loss: 1.1238 - val_accuracy: 0.6001\n",
            "Epoch 10/50\n",
            "556/556 [==============================] - 6s 12ms/step - loss: 0.7238 - accuracy: 0.7024 - val_loss: 1.1357 - val_accuracy: 0.6241\n",
            "Epoch 11/50\n",
            "556/556 [==============================] - 7s 12ms/step - loss: 0.6873 - accuracy: 0.7158 - val_loss: 1.1568 - val_accuracy: 0.6087\n",
            "Epoch 12/50\n",
            "556/556 [==============================] - 6s 12ms/step - loss: 0.6769 - accuracy: 0.7236 - val_loss: 1.2459 - val_accuracy: 0.5881\n",
            "Epoch 13/50\n",
            "556/556 [==============================] - 6s 11ms/step - loss: 0.6741 - accuracy: 0.7237 - val_loss: 1.3129 - val_accuracy: 0.6229\n",
            "Epoch 14/50\n",
            "556/556 [==============================] - 7s 12ms/step - loss: 0.6430 - accuracy: 0.7369 - val_loss: 1.2854 - val_accuracy: 0.6275\n",
            "Epoch 15/50\n",
            "556/556 [==============================] - 6s 11ms/step - loss: 0.6298 - accuracy: 0.7421 - val_loss: 1.1940 - val_accuracy: 0.6389\n",
            "Epoch 16/50\n",
            "556/556 [==============================] - 6s 11ms/step - loss: 0.6414 - accuracy: 0.7390 - val_loss: 1.3168 - val_accuracy: 0.6121\n",
            "Epoch 17/50\n",
            "556/556 [==============================] - 6s 12ms/step - loss: 0.6350 - accuracy: 0.7423 - val_loss: 1.4214 - val_accuracy: 0.5674\n",
            "Epoch 18/50\n",
            "556/556 [==============================] - 6s 11ms/step - loss: 0.6287 - accuracy: 0.7430 - val_loss: 1.5931 - val_accuracy: 0.5440\n",
            "Epoch 19/50\n",
            "556/556 [==============================] - 6s 11ms/step - loss: 0.6438 - accuracy: 0.7348 - val_loss: 1.3301 - val_accuracy: 0.6022\n",
            "Epoch 20/50\n",
            "556/556 [==============================] - 6s 11ms/step - loss: 0.6159 - accuracy: 0.7483 - val_loss: 1.4942 - val_accuracy: 0.5769\n",
            "Epoch 21/50\n",
            "556/556 [==============================] - 6s 11ms/step - loss: 0.6821 - accuracy: 0.7194 - val_loss: 1.3195 - val_accuracy: 0.6212\n",
            "Epoch 22/50\n",
            "556/556 [==============================] - 6s 11ms/step - loss: 0.6347 - accuracy: 0.7386 - val_loss: 1.5225 - val_accuracy: 0.6032\n",
            "Epoch 23/50\n",
            "556/556 [==============================] - 6s 12ms/step - loss: 0.6021 - accuracy: 0.7556 - val_loss: 1.5509 - val_accuracy: 0.6167\n",
            "Epoch 24/50\n",
            "556/556 [==============================] - 6s 11ms/step - loss: 0.6208 - accuracy: 0.7468 - val_loss: 1.4458 - val_accuracy: 0.5984\n",
            "Epoch 25/50\n",
            "556/556 [==============================] - 6s 11ms/step - loss: 0.6198 - accuracy: 0.7481 - val_loss: 1.4443 - val_accuracy: 0.6020\n",
            "Epoch 26/50\n",
            "556/556 [==============================] - 6s 11ms/step - loss: 0.6174 - accuracy: 0.7483 - val_loss: 1.5857 - val_accuracy: 0.5632\n"
          ]
        },
        {
          "output_type": "display_data",
          "data": {
            "text/plain": [
              "VBox(children=(Label(value='0.003 MB of 0.003 MB uploaded\\r'), FloatProgress(value=1.0, max=1.0)))"
            ],
            "application/vnd.jupyter.widget-view+json": {
              "version_major": 2,
              "version_minor": 0,
              "model_id": "d012f59310384d428286c429d2b253bf"
            }
          },
          "metadata": {}
        },
        {
          "output_type": "display_data",
          "data": {
            "text/plain": [
              "<IPython.core.display.HTML object>"
            ],
            "text/html": [
              "<style>\n",
              "    table.wandb td:nth-child(1) { padding: 0 10px; text-align: left ; width: auto;} td:nth-child(2) {text-align: left ; width: 100%}\n",
              "    .wandb-row { display: flex; flex-direction: row; flex-wrap: wrap; justify-content: flex-start; width: 100% }\n",
              "    .wandb-col { display: flex; flex-direction: column; flex-basis: 100%; flex: 1; padding: 10px; }\n",
              "    </style>\n",
              "<div class=\"wandb-row\"><div class=\"wandb-col\"><h3>Run history:</h3><br/><table class=\"wandb\"><tr><td>accuracy</td><td>▁▃▃▄▄▅▆▆▆▇▇▇▇█████▇█▇█████</td></tr><tr><td>epoch</td><td>▁▁▂▂▂▂▃▃▃▄▄▄▄▅▅▅▅▆▆▆▇▇▇▇██</td></tr><tr><td>loss</td><td>█▆▆▅▄▄▃▃▃▂▂▂▂▁▁▁▁▁▂▁▂▁▁▁▁▁</td></tr><tr><td>size-train</td><td>▁</td></tr><tr><td>size-val</td><td>▁</td></tr><tr><td>val_accuracy</td><td>▃█▆▄▂▃▄▄▃▄▃▃▄▄▄▃▂▁▃▂▄▃▃▃▃▂</td></tr><tr><td>val_loss</td><td>▃▁▂▂▄▄▄▄▄▄▄▅▆▅▅▆▇█▆▇▆▇█▇▇█</td></tr></table><br/></div><div class=\"wandb-col\"><h3>Run summary:</h3><br/><table class=\"wandb\"><tr><td>accuracy</td><td>0.74829</td></tr><tr><td>best_epoch</td><td>1</td></tr><tr><td>best_val_loss</td><td>0.73326</td></tr><tr><td>epoch</td><td>25</td></tr><tr><td>loss</td><td>0.61737</td></tr><tr><td>size-train</td><td>35521</td></tr><tr><td>size-val</td><td>5259</td></tr><tr><td>val_accuracy</td><td>0.56322</td></tr><tr><td>val_loss</td><td>1.58575</td></tr></table><br/></div></div>"
            ]
          },
          "metadata": {}
        },
        {
          "output_type": "display_data",
          "data": {
            "text/plain": [
              "<IPython.core.display.HTML object>"
            ],
            "text/html": [
              " View run <strong style=\"color:#cdcd00\">resilient-sweep-24</strong> at: <a href='https://wandb.ai/coffeegang/RNN_preliminary_tests/runs/05eg59s2' target=\"_blank\">https://wandb.ai/coffeegang/RNN_preliminary_tests/runs/05eg59s2</a><br/>Synced 5 W&B file(s), 1 media file(s), 0 artifact file(s) and 0 other file(s)"
            ]
          },
          "metadata": {}
        },
        {
          "output_type": "display_data",
          "data": {
            "text/plain": [
              "<IPython.core.display.HTML object>"
            ],
            "text/html": [
              "Find logs at: <code>./wandb/run-20240128_151142-05eg59s2/logs</code>"
            ]
          },
          "metadata": {}
        },
        {
          "output_type": "stream",
          "name": "stderr",
          "text": [
            "\u001b[34m\u001b[1mwandb\u001b[0m: Agent Starting Run: yef1wucj with config:\n",
            "\u001b[34m\u001b[1mwandb\u001b[0m: \treview_length: 150\n",
            "\u001b[34m\u001b[1mwandb\u001b[0m: \ttraining_set_name: Arts_Crafts_and_Sewing\n",
            "\u001b[34m\u001b[1mwandb\u001b[0m: \tvocab_size: 500\n"
          ]
        },
        {
          "output_type": "display_data",
          "data": {
            "text/plain": [
              "<IPython.core.display.HTML object>"
            ],
            "text/html": [
              "Tracking run with wandb version 0.16.2"
            ]
          },
          "metadata": {}
        },
        {
          "output_type": "display_data",
          "data": {
            "text/plain": [
              "<IPython.core.display.HTML object>"
            ],
            "text/html": [
              "Run data is saved locally in <code>/content/gdrive/.shortcut-targets-by-id/1osKmyrDLORFSpes1mwrU-W7OXM-to6bK/AML_Exam/Problem2/wandb/run-20240128_151515-yef1wucj</code>"
            ]
          },
          "metadata": {}
        },
        {
          "output_type": "display_data",
          "data": {
            "text/plain": [
              "<IPython.core.display.HTML object>"
            ],
            "text/html": [
              "Syncing run <strong><a href='https://wandb.ai/coffeegang/RNN_preliminary_tests/runs/yef1wucj' target=\"_blank\">misty-sweep-25</a></strong> to <a href='https://wandb.ai/coffeegang/RNN_preliminary_tests' target=\"_blank\">Weights & Biases</a> (<a href='https://wandb.me/run' target=\"_blank\">docs</a>)<br/>Sweep page: <a href='https://wandb.ai/coffeegang/RNN_preliminary_tests/sweeps/rd1v16t6' target=\"_blank\">https://wandb.ai/coffeegang/RNN_preliminary_tests/sweeps/rd1v16t6</a>"
            ]
          },
          "metadata": {}
        },
        {
          "output_type": "display_data",
          "data": {
            "text/plain": [
              "<IPython.core.display.HTML object>"
            ],
            "text/html": [
              " View project at <a href='https://wandb.ai/coffeegang/RNN_preliminary_tests' target=\"_blank\">https://wandb.ai/coffeegang/RNN_preliminary_tests</a>"
            ]
          },
          "metadata": {}
        },
        {
          "output_type": "display_data",
          "data": {
            "text/plain": [
              "<IPython.core.display.HTML object>"
            ],
            "text/html": [
              " View sweep at <a href='https://wandb.ai/coffeegang/RNN_preliminary_tests/sweeps/rd1v16t6' target=\"_blank\">https://wandb.ai/coffeegang/RNN_preliminary_tests/sweeps/rd1v16t6</a>"
            ]
          },
          "metadata": {}
        },
        {
          "output_type": "display_data",
          "data": {
            "text/plain": [
              "<IPython.core.display.HTML object>"
            ],
            "text/html": [
              " View run at <a href='https://wandb.ai/coffeegang/RNN_preliminary_tests/runs/yef1wucj' target=\"_blank\">https://wandb.ai/coffeegang/RNN_preliminary_tests/runs/yef1wucj</a>"
            ]
          },
          "metadata": {}
        },
        {
          "output_type": "stream",
          "name": "stdout",
          "text": [
            "Epoch 1/50\n",
            "782/782 [==============================] - 24s 26ms/step - loss: 1.2375 - accuracy: 0.4525 - val_loss: 1.0580 - val_accuracy: 0.6368\n",
            "Epoch 2/50\n",
            "782/782 [==============================] - 11s 15ms/step - loss: 1.1257 - accuracy: 0.5024 - val_loss: 1.0932 - val_accuracy: 0.6098\n",
            "Epoch 3/50\n",
            "782/782 [==============================] - 11s 14ms/step - loss: 1.0899 - accuracy: 0.5193 - val_loss: 0.9255 - val_accuracy: 0.6906\n",
            "Epoch 4/50\n",
            "782/782 [==============================] - 11s 14ms/step - loss: 1.0645 - accuracy: 0.5347 - val_loss: 0.9636 - val_accuracy: 0.6513\n",
            "Epoch 5/50\n",
            "782/782 [==============================] - 11s 14ms/step - loss: 1.0441 - accuracy: 0.5435 - val_loss: 1.1048 - val_accuracy: 0.6142\n",
            "Epoch 6/50\n",
            "782/782 [==============================] - 11s 14ms/step - loss: 1.0221 - accuracy: 0.5537 - val_loss: 1.1741 - val_accuracy: 0.5935\n",
            "Epoch 7/50\n",
            "782/782 [==============================] - 11s 15ms/step - loss: 1.0103 - accuracy: 0.5603 - val_loss: 1.0474 - val_accuracy: 0.6444\n",
            "Epoch 8/50\n",
            "782/782 [==============================] - 11s 14ms/step - loss: 0.9972 - accuracy: 0.5700 - val_loss: 1.1637 - val_accuracy: 0.5988\n",
            "Epoch 9/50\n",
            "782/782 [==============================] - 11s 14ms/step - loss: 0.9881 - accuracy: 0.5756 - val_loss: 1.0663 - val_accuracy: 0.6342\n",
            "Epoch 10/50\n",
            "782/782 [==============================] - 11s 14ms/step - loss: 0.9825 - accuracy: 0.5760 - val_loss: 1.1484 - val_accuracy: 0.5997\n",
            "Epoch 11/50\n",
            "782/782 [==============================] - 11s 14ms/step - loss: 0.9799 - accuracy: 0.5780 - val_loss: 1.1619 - val_accuracy: 0.6026\n",
            "Epoch 12/50\n",
            "782/782 [==============================] - 11s 14ms/step - loss: 0.9783 - accuracy: 0.5796 - val_loss: 1.2386 - val_accuracy: 0.5668\n",
            "Epoch 13/50\n",
            "782/782 [==============================] - 11s 14ms/step - loss: 0.9757 - accuracy: 0.5787 - val_loss: 1.1500 - val_accuracy: 0.6045\n",
            "Epoch 14/50\n",
            "782/782 [==============================] - 11s 14ms/step - loss: 0.9703 - accuracy: 0.5816 - val_loss: 1.2135 - val_accuracy: 0.5714\n",
            "Epoch 15/50\n",
            "782/782 [==============================] - 11s 14ms/step - loss: 0.9659 - accuracy: 0.5812 - val_loss: 1.0895 - val_accuracy: 0.5994\n",
            "Epoch 16/50\n",
            "782/782 [==============================] - 11s 14ms/step - loss: 0.9830 - accuracy: 0.5760 - val_loss: 1.1582 - val_accuracy: 0.6049\n",
            "Epoch 17/50\n",
            "782/782 [==============================] - 11s 14ms/step - loss: 0.9891 - accuracy: 0.5736 - val_loss: 1.1003 - val_accuracy: 0.5986\n"
          ]
        },
        {
          "output_type": "display_data",
          "data": {
            "text/plain": [
              "VBox(children=(Label(value='0.003 MB of 0.003 MB uploaded\\r'), FloatProgress(value=1.0, max=1.0)))"
            ],
            "application/vnd.jupyter.widget-view+json": {
              "version_major": 2,
              "version_minor": 0,
              "model_id": "65ecf12102d44292a355dfaea986eccc"
            }
          },
          "metadata": {}
        },
        {
          "output_type": "display_data",
          "data": {
            "text/plain": [
              "<IPython.core.display.HTML object>"
            ],
            "text/html": [
              "<style>\n",
              "    table.wandb td:nth-child(1) { padding: 0 10px; text-align: left ; width: auto;} td:nth-child(2) {text-align: left ; width: 100%}\n",
              "    .wandb-row { display: flex; flex-direction: row; flex-wrap: wrap; justify-content: flex-start; width: 100% }\n",
              "    .wandb-col { display: flex; flex-direction: column; flex-basis: 100%; flex: 1; padding: 10px; }\n",
              "    </style>\n",
              "<div class=\"wandb-row\"><div class=\"wandb-col\"><h3>Run history:</h3><br/><table class=\"wandb\"><tr><td>accuracy</td><td>▁▄▅▅▆▆▇▇█████████</td></tr><tr><td>epoch</td><td>▁▁▂▂▃▃▄▄▅▅▅▆▆▇▇██</td></tr><tr><td>loss</td><td>█▅▄▄▃▂▂▂▂▁▁▁▁▁▁▁▂</td></tr><tr><td>size-train</td><td>▁</td></tr><tr><td>size-val</td><td>▁</td></tr><tr><td>val_accuracy</td><td>▅▃█▆▄▃▅▃▅▃▃▁▃▁▃▃▃</td></tr><tr><td>val_loss</td><td>▄▅▁▂▅▇▄▆▄▆▆█▆▇▅▆▅</td></tr></table><br/></div><div class=\"wandb-col\"><h3>Run summary:</h3><br/><table class=\"wandb\"><tr><td>accuracy</td><td>0.57362</td></tr><tr><td>best_epoch</td><td>2</td></tr><tr><td>best_val_loss</td><td>0.92552</td></tr><tr><td>epoch</td><td>16</td></tr><tr><td>loss</td><td>0.98909</td></tr><tr><td>size-train</td><td>50000</td></tr><tr><td>size-val</td><td>5259</td></tr><tr><td>val_accuracy</td><td>0.59859</td></tr><tr><td>val_loss</td><td>1.10035</td></tr></table><br/></div></div>"
            ]
          },
          "metadata": {}
        },
        {
          "output_type": "display_data",
          "data": {
            "text/plain": [
              "<IPython.core.display.HTML object>"
            ],
            "text/html": [
              " View run <strong style=\"color:#cdcd00\">misty-sweep-25</strong> at: <a href='https://wandb.ai/coffeegang/RNN_preliminary_tests/runs/yef1wucj' target=\"_blank\">https://wandb.ai/coffeegang/RNN_preliminary_tests/runs/yef1wucj</a><br/>Synced 5 W&B file(s), 1 media file(s), 0 artifact file(s) and 0 other file(s)"
            ]
          },
          "metadata": {}
        },
        {
          "output_type": "display_data",
          "data": {
            "text/plain": [
              "<IPython.core.display.HTML object>"
            ],
            "text/html": [
              "Find logs at: <code>./wandb/run-20240128_151515-yef1wucj/logs</code>"
            ]
          },
          "metadata": {}
        },
        {
          "output_type": "stream",
          "name": "stderr",
          "text": [
            "\u001b[34m\u001b[1mwandb\u001b[0m: Agent Starting Run: dabsnp2e with config:\n",
            "\u001b[34m\u001b[1mwandb\u001b[0m: \treview_length: 150\n",
            "\u001b[34m\u001b[1mwandb\u001b[0m: \ttraining_set_name: Arts_Crafts_and_Sewing\n",
            "\u001b[34m\u001b[1mwandb\u001b[0m: \tvocab_size: 1000\n"
          ]
        },
        {
          "output_type": "display_data",
          "data": {
            "text/plain": [
              "<IPython.core.display.HTML object>"
            ],
            "text/html": [
              "Tracking run with wandb version 0.16.2"
            ]
          },
          "metadata": {}
        },
        {
          "output_type": "display_data",
          "data": {
            "text/plain": [
              "<IPython.core.display.HTML object>"
            ],
            "text/html": [
              "Run data is saved locally in <code>/content/gdrive/.shortcut-targets-by-id/1osKmyrDLORFSpes1mwrU-W7OXM-to6bK/AML_Exam/Problem2/wandb/run-20240128_151858-dabsnp2e</code>"
            ]
          },
          "metadata": {}
        },
        {
          "output_type": "display_data",
          "data": {
            "text/plain": [
              "<IPython.core.display.HTML object>"
            ],
            "text/html": [
              "Syncing run <strong><a href='https://wandb.ai/coffeegang/RNN_preliminary_tests/runs/dabsnp2e' target=\"_blank\">worldly-sweep-26</a></strong> to <a href='https://wandb.ai/coffeegang/RNN_preliminary_tests' target=\"_blank\">Weights & Biases</a> (<a href='https://wandb.me/run' target=\"_blank\">docs</a>)<br/>Sweep page: <a href='https://wandb.ai/coffeegang/RNN_preliminary_tests/sweeps/rd1v16t6' target=\"_blank\">https://wandb.ai/coffeegang/RNN_preliminary_tests/sweeps/rd1v16t6</a>"
            ]
          },
          "metadata": {}
        },
        {
          "output_type": "display_data",
          "data": {
            "text/plain": [
              "<IPython.core.display.HTML object>"
            ],
            "text/html": [
              " View project at <a href='https://wandb.ai/coffeegang/RNN_preliminary_tests' target=\"_blank\">https://wandb.ai/coffeegang/RNN_preliminary_tests</a>"
            ]
          },
          "metadata": {}
        },
        {
          "output_type": "display_data",
          "data": {
            "text/plain": [
              "<IPython.core.display.HTML object>"
            ],
            "text/html": [
              " View sweep at <a href='https://wandb.ai/coffeegang/RNN_preliminary_tests/sweeps/rd1v16t6' target=\"_blank\">https://wandb.ai/coffeegang/RNN_preliminary_tests/sweeps/rd1v16t6</a>"
            ]
          },
          "metadata": {}
        },
        {
          "output_type": "display_data",
          "data": {
            "text/plain": [
              "<IPython.core.display.HTML object>"
            ],
            "text/html": [
              " View run at <a href='https://wandb.ai/coffeegang/RNN_preliminary_tests/runs/dabsnp2e' target=\"_blank\">https://wandb.ai/coffeegang/RNN_preliminary_tests/runs/dabsnp2e</a>"
            ]
          },
          "metadata": {}
        },
        {
          "output_type": "stream",
          "name": "stdout",
          "text": [
            "Epoch 1/50\n",
            "782/782 [==============================] - 29s 33ms/step - loss: 1.1937 - accuracy: 0.4693 - val_loss: 1.0518 - val_accuracy: 0.6374\n",
            "Epoch 2/50\n",
            "782/782 [==============================] - 12s 16ms/step - loss: 1.0752 - accuracy: 0.5283 - val_loss: 1.0553 - val_accuracy: 0.6052\n",
            "Epoch 3/50\n",
            "782/782 [==============================] - 12s 15ms/step - loss: 1.0337 - accuracy: 0.5511 - val_loss: 0.9793 - val_accuracy: 0.6844\n",
            "Epoch 4/50\n",
            "782/782 [==============================] - 12s 15ms/step - loss: 1.0033 - accuracy: 0.5692 - val_loss: 0.9285 - val_accuracy: 0.6564\n",
            "Epoch 5/50\n",
            "782/782 [==============================] - 11s 15ms/step - loss: 0.9744 - accuracy: 0.5815 - val_loss: 1.0524 - val_accuracy: 0.6511\n",
            "Epoch 6/50\n",
            "782/782 [==============================] - 11s 14ms/step - loss: 0.9532 - accuracy: 0.5902 - val_loss: 1.0262 - val_accuracy: 0.6448\n",
            "Epoch 7/50\n",
            "782/782 [==============================] - 11s 14ms/step - loss: 0.9364 - accuracy: 0.6015 - val_loss: 0.9939 - val_accuracy: 0.6686\n",
            "Epoch 8/50\n",
            "782/782 [==============================] - 11s 14ms/step - loss: 0.9147 - accuracy: 0.6109 - val_loss: 1.0134 - val_accuracy: 0.6404\n",
            "Epoch 9/50\n",
            "782/782 [==============================] - 11s 14ms/step - loss: 0.9086 - accuracy: 0.6158 - val_loss: 1.0256 - val_accuracy: 0.6440\n",
            "Epoch 10/50\n",
            "782/782 [==============================] - 11s 14ms/step - loss: 0.9046 - accuracy: 0.6151 - val_loss: 1.1151 - val_accuracy: 0.6296\n",
            "Epoch 11/50\n",
            "782/782 [==============================] - 11s 14ms/step - loss: 0.8898 - accuracy: 0.6235 - val_loss: 1.0675 - val_accuracy: 0.6610\n",
            "Epoch 12/50\n",
            "782/782 [==============================] - 11s 14ms/step - loss: 0.8812 - accuracy: 0.6285 - val_loss: 1.1194 - val_accuracy: 0.6022\n",
            "Epoch 13/50\n",
            "782/782 [==============================] - 11s 14ms/step - loss: 0.8804 - accuracy: 0.6313 - val_loss: 1.1408 - val_accuracy: 0.6229\n",
            "Epoch 14/50\n",
            "782/782 [==============================] - 11s 14ms/step - loss: 0.8829 - accuracy: 0.6271 - val_loss: 1.0930 - val_accuracy: 0.6322\n",
            "Epoch 15/50\n",
            "782/782 [==============================] - 11s 14ms/step - loss: 0.8734 - accuracy: 0.6306 - val_loss: 1.0833 - val_accuracy: 0.6288\n",
            "Epoch 16/50\n",
            "782/782 [==============================] - 11s 14ms/step - loss: 0.8797 - accuracy: 0.6285 - val_loss: 1.0384 - val_accuracy: 0.6526\n"
          ]
        },
        {
          "output_type": "display_data",
          "data": {
            "text/plain": [
              "VBox(children=(Label(value='0.003 MB of 0.003 MB uploaded\\r'), FloatProgress(value=1.0, max=1.0)))"
            ],
            "application/vnd.jupyter.widget-view+json": {
              "version_major": 2,
              "version_minor": 0,
              "model_id": "781679a2354649aea4e5d14cae878a0a"
            }
          },
          "metadata": {}
        },
        {
          "output_type": "display_data",
          "data": {
            "text/plain": [
              "<IPython.core.display.HTML object>"
            ],
            "text/html": [
              "<style>\n",
              "    table.wandb td:nth-child(1) { padding: 0 10px; text-align: left ; width: auto;} td:nth-child(2) {text-align: left ; width: 100%}\n",
              "    .wandb-row { display: flex; flex-direction: row; flex-wrap: wrap; justify-content: flex-start; width: 100% }\n",
              "    .wandb-col { display: flex; flex-direction: column; flex-basis: 100%; flex: 1; padding: 10px; }\n",
              "    </style>\n",
              "<div class=\"wandb-row\"><div class=\"wandb-col\"><h3>Run history:</h3><br/><table class=\"wandb\"><tr><td>accuracy</td><td>▁▄▅▅▆▆▇▇▇▇██████</td></tr><tr><td>epoch</td><td>▁▁▂▂▃▃▄▄▅▅▆▆▇▇██</td></tr><tr><td>loss</td><td>█▅▅▄▃▃▂▂▂▂▁▁▁▁▁▁</td></tr><tr><td>size-train</td><td>▁</td></tr><tr><td>size-val</td><td>▁</td></tr><tr><td>val_accuracy</td><td>▄▁█▆▅▅▇▄▅▃▆▁▃▄▃▅</td></tr><tr><td>val_loss</td><td>▅▅▃▁▅▄▃▄▄▇▆▇█▆▆▅</td></tr></table><br/></div><div class=\"wandb-col\"><h3>Run summary:</h3><br/><table class=\"wandb\"><tr><td>accuracy</td><td>0.6285</td></tr><tr><td>best_epoch</td><td>3</td></tr><tr><td>best_val_loss</td><td>0.92854</td></tr><tr><td>epoch</td><td>15</td></tr><tr><td>loss</td><td>0.8797</td></tr><tr><td>size-train</td><td>50000</td></tr><tr><td>size-val</td><td>5259</td></tr><tr><td>val_accuracy</td><td>0.6526</td></tr><tr><td>val_loss</td><td>1.03835</td></tr></table><br/></div></div>"
            ]
          },
          "metadata": {}
        },
        {
          "output_type": "display_data",
          "data": {
            "text/plain": [
              "<IPython.core.display.HTML object>"
            ],
            "text/html": [
              " View run <strong style=\"color:#cdcd00\">worldly-sweep-26</strong> at: <a href='https://wandb.ai/coffeegang/RNN_preliminary_tests/runs/dabsnp2e' target=\"_blank\">https://wandb.ai/coffeegang/RNN_preliminary_tests/runs/dabsnp2e</a><br/>Synced 5 W&B file(s), 1 media file(s), 0 artifact file(s) and 0 other file(s)"
            ]
          },
          "metadata": {}
        },
        {
          "output_type": "display_data",
          "data": {
            "text/plain": [
              "<IPython.core.display.HTML object>"
            ],
            "text/html": [
              "Find logs at: <code>./wandb/run-20240128_151858-dabsnp2e/logs</code>"
            ]
          },
          "metadata": {}
        },
        {
          "output_type": "stream",
          "name": "stderr",
          "text": [
            "\u001b[34m\u001b[1mwandb\u001b[0m: Agent Starting Run: obr91q2y with config:\n",
            "\u001b[34m\u001b[1mwandb\u001b[0m: \treview_length: 150\n",
            "\u001b[34m\u001b[1mwandb\u001b[0m: \ttraining_set_name: Arts_Crafts_and_Sewing\n",
            "\u001b[34m\u001b[1mwandb\u001b[0m: \tvocab_size: 1500\n"
          ]
        },
        {
          "output_type": "display_data",
          "data": {
            "text/plain": [
              "<IPython.core.display.HTML object>"
            ],
            "text/html": [
              "Tracking run with wandb version 0.16.2"
            ]
          },
          "metadata": {}
        },
        {
          "output_type": "display_data",
          "data": {
            "text/plain": [
              "<IPython.core.display.HTML object>"
            ],
            "text/html": [
              "Run data is saved locally in <code>/content/gdrive/.shortcut-targets-by-id/1osKmyrDLORFSpes1mwrU-W7OXM-to6bK/AML_Exam/Problem2/wandb/run-20240128_152237-obr91q2y</code>"
            ]
          },
          "metadata": {}
        },
        {
          "output_type": "display_data",
          "data": {
            "text/plain": [
              "<IPython.core.display.HTML object>"
            ],
            "text/html": [
              "Syncing run <strong><a href='https://wandb.ai/coffeegang/RNN_preliminary_tests/runs/obr91q2y' target=\"_blank\">zesty-sweep-27</a></strong> to <a href='https://wandb.ai/coffeegang/RNN_preliminary_tests' target=\"_blank\">Weights & Biases</a> (<a href='https://wandb.me/run' target=\"_blank\">docs</a>)<br/>Sweep page: <a href='https://wandb.ai/coffeegang/RNN_preliminary_tests/sweeps/rd1v16t6' target=\"_blank\">https://wandb.ai/coffeegang/RNN_preliminary_tests/sweeps/rd1v16t6</a>"
            ]
          },
          "metadata": {}
        },
        {
          "output_type": "display_data",
          "data": {
            "text/plain": [
              "<IPython.core.display.HTML object>"
            ],
            "text/html": [
              " View project at <a href='https://wandb.ai/coffeegang/RNN_preliminary_tests' target=\"_blank\">https://wandb.ai/coffeegang/RNN_preliminary_tests</a>"
            ]
          },
          "metadata": {}
        },
        {
          "output_type": "display_data",
          "data": {
            "text/plain": [
              "<IPython.core.display.HTML object>"
            ],
            "text/html": [
              " View sweep at <a href='https://wandb.ai/coffeegang/RNN_preliminary_tests/sweeps/rd1v16t6' target=\"_blank\">https://wandb.ai/coffeegang/RNN_preliminary_tests/sweeps/rd1v16t6</a>"
            ]
          },
          "metadata": {}
        },
        {
          "output_type": "display_data",
          "data": {
            "text/plain": [
              "<IPython.core.display.HTML object>"
            ],
            "text/html": [
              " View run at <a href='https://wandb.ai/coffeegang/RNN_preliminary_tests/runs/obr91q2y' target=\"_blank\">https://wandb.ai/coffeegang/RNN_preliminary_tests/runs/obr91q2y</a>"
            ]
          },
          "metadata": {}
        },
        {
          "output_type": "stream",
          "name": "stdout",
          "text": [
            "Epoch 1/50\n",
            "782/782 [==============================] - 34s 39ms/step - loss: 1.1865 - accuracy: 0.4738 - val_loss: 0.9408 - val_accuracy: 0.7009\n",
            "Epoch 2/50\n",
            "782/782 [==============================] - 13s 17ms/step - loss: 1.0676 - accuracy: 0.5308 - val_loss: 0.9585 - val_accuracy: 0.6551\n",
            "Epoch 3/50\n",
            "782/782 [==============================] - 12s 15ms/step - loss: 1.0175 - accuracy: 0.5555 - val_loss: 0.9232 - val_accuracy: 0.7018\n",
            "Epoch 4/50\n",
            "782/782 [==============================] - 11s 14ms/step - loss: 0.9794 - accuracy: 0.5766 - val_loss: 0.9760 - val_accuracy: 0.6764\n",
            "Epoch 5/50\n",
            "782/782 [==============================] - 12s 15ms/step - loss: 0.9481 - accuracy: 0.5907 - val_loss: 0.9834 - val_accuracy: 0.6437\n",
            "Epoch 6/50\n",
            "782/782 [==============================] - 12s 15ms/step - loss: 0.9212 - accuracy: 0.6047 - val_loss: 0.9247 - val_accuracy: 0.6773\n",
            "Epoch 7/50\n",
            "782/782 [==============================] - 11s 14ms/step - loss: 0.9015 - accuracy: 0.6168 - val_loss: 0.9572 - val_accuracy: 0.6670\n",
            "Epoch 8/50\n",
            "782/782 [==============================] - 11s 14ms/step - loss: 0.8821 - accuracy: 0.6247 - val_loss: 0.9630 - val_accuracy: 0.6680\n",
            "Epoch 9/50\n",
            "782/782 [==============================] - 11s 15ms/step - loss: 0.8676 - accuracy: 0.6338 - val_loss: 1.0095 - val_accuracy: 0.6589\n",
            "Epoch 10/50\n",
            "782/782 [==============================] - 11s 14ms/step - loss: 0.8560 - accuracy: 0.6383 - val_loss: 1.0116 - val_accuracy: 0.6663\n",
            "Epoch 11/50\n",
            "782/782 [==============================] - 11s 14ms/step - loss: 0.8492 - accuracy: 0.6424 - val_loss: 1.1270 - val_accuracy: 0.6106\n",
            "Epoch 12/50\n",
            "782/782 [==============================] - 11s 14ms/step - loss: 0.8376 - accuracy: 0.6459 - val_loss: 1.0814 - val_accuracy: 0.6566\n",
            "Epoch 13/50\n",
            "782/782 [==============================] - 11s 14ms/step - loss: 0.8332 - accuracy: 0.6494 - val_loss: 1.0436 - val_accuracy: 0.6503\n",
            "Epoch 14/50\n",
            "782/782 [==============================] - 11s 14ms/step - loss: 0.8280 - accuracy: 0.6526 - val_loss: 1.0338 - val_accuracy: 0.6655\n",
            "Epoch 15/50\n",
            "782/782 [==============================] - 11s 14ms/step - loss: 0.8260 - accuracy: 0.6538 - val_loss: 1.1155 - val_accuracy: 0.6364\n",
            "Epoch 16/50\n",
            "782/782 [==============================] - 11s 14ms/step - loss: 0.8316 - accuracy: 0.6544 - val_loss: 1.2329 - val_accuracy: 0.6129\n",
            "Epoch 17/50\n",
            "782/782 [==============================] - 11s 14ms/step - loss: 0.8243 - accuracy: 0.6547 - val_loss: 1.0422 - val_accuracy: 0.6568\n",
            "Epoch 18/50\n",
            "782/782 [==============================] - 11s 14ms/step - loss: 0.8350 - accuracy: 0.6504 - val_loss: 1.0457 - val_accuracy: 0.6602\n",
            "Epoch 19/50\n",
            "782/782 [==============================] - 11s 14ms/step - loss: 0.8416 - accuracy: 0.6449 - val_loss: 1.1643 - val_accuracy: 0.6119\n",
            "Epoch 20/50\n",
            "782/782 [==============================] - 11s 14ms/step - loss: 0.8392 - accuracy: 0.6463 - val_loss: 1.0241 - val_accuracy: 0.6800\n"
          ]
        },
        {
          "output_type": "display_data",
          "data": {
            "text/plain": [
              "VBox(children=(Label(value='0.003 MB of 0.003 MB uploaded\\r'), FloatProgress(value=1.0, max=1.0)))"
            ],
            "application/vnd.jupyter.widget-view+json": {
              "version_major": 2,
              "version_minor": 0,
              "model_id": "4bf01f03bed44236b7f5c2be7f2e0b20"
            }
          },
          "metadata": {}
        },
        {
          "output_type": "display_data",
          "data": {
            "text/plain": [
              "<IPython.core.display.HTML object>"
            ],
            "text/html": [
              "<style>\n",
              "    table.wandb td:nth-child(1) { padding: 0 10px; text-align: left ; width: auto;} td:nth-child(2) {text-align: left ; width: 100%}\n",
              "    .wandb-row { display: flex; flex-direction: row; flex-wrap: wrap; justify-content: flex-start; width: 100% }\n",
              "    .wandb-col { display: flex; flex-direction: column; flex-basis: 100%; flex: 1; padding: 10px; }\n",
              "    </style>\n",
              "<div class=\"wandb-row\"><div class=\"wandb-col\"><h3>Run history:</h3><br/><table class=\"wandb\"><tr><td>accuracy</td><td>▁▃▄▅▆▆▇▇▇▇██████████</td></tr><tr><td>epoch</td><td>▁▁▂▂▂▃▃▄▄▄▅▅▅▆▆▇▇▇██</td></tr><tr><td>loss</td><td>█▆▅▄▃▃▂▂▂▂▁▁▁▁▁▁▁▁▁▁</td></tr><tr><td>size-train</td><td>▁</td></tr><tr><td>size-val</td><td>▁</td></tr><tr><td>val_accuracy</td><td>█▄█▆▄▆▅▅▅▅▁▅▄▅▃▁▅▅▁▆</td></tr><tr><td>val_loss</td><td>▁▂▁▂▂▁▂▂▃▃▆▅▄▃▅█▄▄▆▃</td></tr></table><br/></div><div class=\"wandb-col\"><h3>Run summary:</h3><br/><table class=\"wandb\"><tr><td>accuracy</td><td>0.64634</td></tr><tr><td>best_epoch</td><td>2</td></tr><tr><td>best_val_loss</td><td>0.92323</td></tr><tr><td>epoch</td><td>19</td></tr><tr><td>loss</td><td>0.8392</td></tr><tr><td>size-train</td><td>50000</td></tr><tr><td>size-val</td><td>5259</td></tr><tr><td>val_accuracy</td><td>0.67998</td></tr><tr><td>val_loss</td><td>1.02415</td></tr></table><br/></div></div>"
            ]
          },
          "metadata": {}
        },
        {
          "output_type": "display_data",
          "data": {
            "text/plain": [
              "<IPython.core.display.HTML object>"
            ],
            "text/html": [
              " View run <strong style=\"color:#cdcd00\">zesty-sweep-27</strong> at: <a href='https://wandb.ai/coffeegang/RNN_preliminary_tests/runs/obr91q2y' target=\"_blank\">https://wandb.ai/coffeegang/RNN_preliminary_tests/runs/obr91q2y</a><br/>Synced 5 W&B file(s), 1 media file(s), 0 artifact file(s) and 0 other file(s)"
            ]
          },
          "metadata": {}
        },
        {
          "output_type": "display_data",
          "data": {
            "text/plain": [
              "<IPython.core.display.HTML object>"
            ],
            "text/html": [
              "Find logs at: <code>./wandb/run-20240128_152237-obr91q2y/logs</code>"
            ]
          },
          "metadata": {}
        },
        {
          "output_type": "stream",
          "name": "stderr",
          "text": [
            "\u001b[34m\u001b[1mwandb\u001b[0m: Agent Starting Run: 0xpak99m with config:\n",
            "\u001b[34m\u001b[1mwandb\u001b[0m: \treview_length: 150\n",
            "\u001b[34m\u001b[1mwandb\u001b[0m: \ttraining_set_name: Arts_Crafts_and_Sewing\n",
            "\u001b[34m\u001b[1mwandb\u001b[0m: \tvocab_size: 2000\n"
          ]
        },
        {
          "output_type": "display_data",
          "data": {
            "text/plain": [
              "<IPython.core.display.HTML object>"
            ],
            "text/html": [
              "Tracking run with wandb version 0.16.2"
            ]
          },
          "metadata": {}
        },
        {
          "output_type": "display_data",
          "data": {
            "text/plain": [
              "<IPython.core.display.HTML object>"
            ],
            "text/html": [
              "Run data is saved locally in <code>/content/gdrive/.shortcut-targets-by-id/1osKmyrDLORFSpes1mwrU-W7OXM-to6bK/AML_Exam/Problem2/wandb/run-20240128_152706-0xpak99m</code>"
            ]
          },
          "metadata": {}
        },
        {
          "output_type": "display_data",
          "data": {
            "text/plain": [
              "<IPython.core.display.HTML object>"
            ],
            "text/html": [
              "Syncing run <strong><a href='https://wandb.ai/coffeegang/RNN_preliminary_tests/runs/0xpak99m' target=\"_blank\">devout-sweep-28</a></strong> to <a href='https://wandb.ai/coffeegang/RNN_preliminary_tests' target=\"_blank\">Weights & Biases</a> (<a href='https://wandb.me/run' target=\"_blank\">docs</a>)<br/>Sweep page: <a href='https://wandb.ai/coffeegang/RNN_preliminary_tests/sweeps/rd1v16t6' target=\"_blank\">https://wandb.ai/coffeegang/RNN_preliminary_tests/sweeps/rd1v16t6</a>"
            ]
          },
          "metadata": {}
        },
        {
          "output_type": "display_data",
          "data": {
            "text/plain": [
              "<IPython.core.display.HTML object>"
            ],
            "text/html": [
              " View project at <a href='https://wandb.ai/coffeegang/RNN_preliminary_tests' target=\"_blank\">https://wandb.ai/coffeegang/RNN_preliminary_tests</a>"
            ]
          },
          "metadata": {}
        },
        {
          "output_type": "display_data",
          "data": {
            "text/plain": [
              "<IPython.core.display.HTML object>"
            ],
            "text/html": [
              " View sweep at <a href='https://wandb.ai/coffeegang/RNN_preliminary_tests/sweeps/rd1v16t6' target=\"_blank\">https://wandb.ai/coffeegang/RNN_preliminary_tests/sweeps/rd1v16t6</a>"
            ]
          },
          "metadata": {}
        },
        {
          "output_type": "display_data",
          "data": {
            "text/plain": [
              "<IPython.core.display.HTML object>"
            ],
            "text/html": [
              " View run at <a href='https://wandb.ai/coffeegang/RNN_preliminary_tests/runs/0xpak99m' target=\"_blank\">https://wandb.ai/coffeegang/RNN_preliminary_tests/runs/0xpak99m</a>"
            ]
          },
          "metadata": {}
        },
        {
          "output_type": "stream",
          "name": "stdout",
          "text": [
            "Epoch 1/50\n",
            "782/782 [==============================] - 34s 39ms/step - loss: 1.1916 - accuracy: 0.4710 - val_loss: 1.0407 - val_accuracy: 0.6813\n",
            "Epoch 2/50\n",
            "782/782 [==============================] - 13s 17ms/step - loss: 1.0554 - accuracy: 0.5385 - val_loss: 0.9317 - val_accuracy: 0.6944\n",
            "Epoch 3/50\n",
            "782/782 [==============================] - 13s 16ms/step - loss: 0.9989 - accuracy: 0.5701 - val_loss: 0.8633 - val_accuracy: 0.6882\n",
            "Epoch 4/50\n",
            "782/782 [==============================] - 12s 15ms/step - loss: 0.9564 - accuracy: 0.5912 - val_loss: 0.8923 - val_accuracy: 0.6783\n",
            "Epoch 5/50\n",
            "782/782 [==============================] - 12s 15ms/step - loss: 0.9185 - accuracy: 0.6113 - val_loss: 1.0371 - val_accuracy: 0.6444\n",
            "Epoch 6/50\n",
            "782/782 [==============================] - 11s 14ms/step - loss: 0.8886 - accuracy: 0.6242 - val_loss: 1.0352 - val_accuracy: 0.6568\n",
            "Epoch 7/50\n",
            "782/782 [==============================] - 11s 15ms/step - loss: 0.8617 - accuracy: 0.6374 - val_loss: 1.0464 - val_accuracy: 0.6463\n",
            "Epoch 8/50\n",
            "782/782 [==============================] - 11s 14ms/step - loss: 0.8399 - accuracy: 0.6467 - val_loss: 1.0453 - val_accuracy: 0.6604\n",
            "Epoch 9/50\n",
            "782/782 [==============================] - 12s 15ms/step - loss: 0.8198 - accuracy: 0.6576 - val_loss: 1.0912 - val_accuracy: 0.6593\n",
            "Epoch 10/50\n",
            "782/782 [==============================] - 11s 14ms/step - loss: 0.7993 - accuracy: 0.6689 - val_loss: 1.2339 - val_accuracy: 0.6016\n",
            "Epoch 11/50\n",
            "782/782 [==============================] - 11s 14ms/step - loss: 0.7911 - accuracy: 0.6715 - val_loss: 1.1886 - val_accuracy: 0.6322\n",
            "Epoch 12/50\n",
            "782/782 [==============================] - 11s 14ms/step - loss: 0.7777 - accuracy: 0.6780 - val_loss: 1.1428 - val_accuracy: 0.6492\n",
            "Epoch 13/50\n",
            "782/782 [==============================] - 11s 14ms/step - loss: 0.7689 - accuracy: 0.6818 - val_loss: 1.1933 - val_accuracy: 0.6395\n",
            "Epoch 14/50\n",
            "782/782 [==============================] - 11s 14ms/step - loss: 0.7601 - accuracy: 0.6874 - val_loss: 1.2040 - val_accuracy: 0.6226\n",
            "Epoch 15/50\n",
            "782/782 [==============================] - 11s 14ms/step - loss: 0.7617 - accuracy: 0.6872 - val_loss: 1.1507 - val_accuracy: 0.6467\n",
            "Epoch 16/50\n",
            "782/782 [==============================] - 11s 14ms/step - loss: 0.7492 - accuracy: 0.6912 - val_loss: 1.1022 - val_accuracy: 0.6503\n",
            "Epoch 17/50\n",
            "782/782 [==============================] - 11s 14ms/step - loss: 0.7465 - accuracy: 0.6941 - val_loss: 1.1530 - val_accuracy: 0.6560\n",
            "Epoch 18/50\n",
            "782/782 [==============================] - 11s 14ms/step - loss: 0.7469 - accuracy: 0.6929 - val_loss: 1.3028 - val_accuracy: 0.5965\n",
            "Epoch 19/50\n",
            "782/782 [==============================] - 11s 14ms/step - loss: 0.7474 - accuracy: 0.6934 - val_loss: 1.1787 - val_accuracy: 0.6471\n",
            "Epoch 20/50\n",
            "782/782 [==============================] - 11s 14ms/step - loss: 0.7496 - accuracy: 0.6927 - val_loss: 1.2552 - val_accuracy: 0.6437\n"
          ]
        },
        {
          "output_type": "display_data",
          "data": {
            "text/plain": [
              "VBox(children=(Label(value='0.003 MB of 0.003 MB uploaded\\r'), FloatProgress(value=1.0, max=1.0)))"
            ],
            "application/vnd.jupyter.widget-view+json": {
              "version_major": 2,
              "version_minor": 0,
              "model_id": "9e612b2016664f74a811bd47a7f41651"
            }
          },
          "metadata": {}
        },
        {
          "output_type": "display_data",
          "data": {
            "text/plain": [
              "<IPython.core.display.HTML object>"
            ],
            "text/html": [
              "<style>\n",
              "    table.wandb td:nth-child(1) { padding: 0 10px; text-align: left ; width: auto;} td:nth-child(2) {text-align: left ; width: 100%}\n",
              "    .wandb-row { display: flex; flex-direction: row; flex-wrap: wrap; justify-content: flex-start; width: 100% }\n",
              "    .wandb-col { display: flex; flex-direction: column; flex-basis: 100%; flex: 1; padding: 10px; }\n",
              "    </style>\n",
              "<div class=\"wandb-row\"><div class=\"wandb-col\"><h3>Run history:</h3><br/><table class=\"wandb\"><tr><td>accuracy</td><td>▁▃▄▅▅▆▆▇▇▇▇▇████████</td></tr><tr><td>epoch</td><td>▁▁▂▂▂▃▃▄▄▄▅▅▅▆▆▇▇▇██</td></tr><tr><td>loss</td><td>█▆▅▄▄▃▃▂▂▂▂▁▁▁▁▁▁▁▁▁</td></tr><tr><td>size-train</td><td>▁</td></tr><tr><td>size-val</td><td>▁</td></tr><tr><td>val_accuracy</td><td>▇██▇▄▅▅▆▅▁▄▅▄▃▅▅▅▁▅▄</td></tr><tr><td>val_loss</td><td>▄▂▁▁▄▄▄▄▅▇▆▅▆▆▆▅▆█▆▇</td></tr></table><br/></div><div class=\"wandb-col\"><h3>Run summary:</h3><br/><table class=\"wandb\"><tr><td>accuracy</td><td>0.6927</td></tr><tr><td>best_epoch</td><td>2</td></tr><tr><td>best_val_loss</td><td>0.86327</td></tr><tr><td>epoch</td><td>19</td></tr><tr><td>loss</td><td>0.74964</td></tr><tr><td>size-train</td><td>50000</td></tr><tr><td>size-val</td><td>5259</td></tr><tr><td>val_accuracy</td><td>0.64366</td></tr><tr><td>val_loss</td><td>1.25521</td></tr></table><br/></div></div>"
            ]
          },
          "metadata": {}
        },
        {
          "output_type": "display_data",
          "data": {
            "text/plain": [
              "<IPython.core.display.HTML object>"
            ],
            "text/html": [
              " View run <strong style=\"color:#cdcd00\">devout-sweep-28</strong> at: <a href='https://wandb.ai/coffeegang/RNN_preliminary_tests/runs/0xpak99m' target=\"_blank\">https://wandb.ai/coffeegang/RNN_preliminary_tests/runs/0xpak99m</a><br/>Synced 5 W&B file(s), 1 media file(s), 0 artifact file(s) and 0 other file(s)"
            ]
          },
          "metadata": {}
        },
        {
          "output_type": "display_data",
          "data": {
            "text/plain": [
              "<IPython.core.display.HTML object>"
            ],
            "text/html": [
              "Find logs at: <code>./wandb/run-20240128_152706-0xpak99m/logs</code>"
            ]
          },
          "metadata": {}
        },
        {
          "output_type": "stream",
          "name": "stderr",
          "text": [
            "\u001b[34m\u001b[1mwandb\u001b[0m: Agent Starting Run: rfbx9ntr with config:\n",
            "\u001b[34m\u001b[1mwandb\u001b[0m: \treview_length: 150\n",
            "\u001b[34m\u001b[1mwandb\u001b[0m: \ttraining_set_name: Prime_Pantry\n",
            "\u001b[34m\u001b[1mwandb\u001b[0m: \tvocab_size: 500\n"
          ]
        },
        {
          "output_type": "display_data",
          "data": {
            "text/plain": [
              "<IPython.core.display.HTML object>"
            ],
            "text/html": [
              "Tracking run with wandb version 0.16.2"
            ]
          },
          "metadata": {}
        },
        {
          "output_type": "display_data",
          "data": {
            "text/plain": [
              "<IPython.core.display.HTML object>"
            ],
            "text/html": [
              "Run data is saved locally in <code>/content/gdrive/.shortcut-targets-by-id/1osKmyrDLORFSpes1mwrU-W7OXM-to6bK/AML_Exam/Problem2/wandb/run-20240128_153141-rfbx9ntr</code>"
            ]
          },
          "metadata": {}
        },
        {
          "output_type": "display_data",
          "data": {
            "text/plain": [
              "<IPython.core.display.HTML object>"
            ],
            "text/html": [
              "Syncing run <strong><a href='https://wandb.ai/coffeegang/RNN_preliminary_tests/runs/rfbx9ntr' target=\"_blank\">curious-sweep-29</a></strong> to <a href='https://wandb.ai/coffeegang/RNN_preliminary_tests' target=\"_blank\">Weights & Biases</a> (<a href='https://wandb.me/run' target=\"_blank\">docs</a>)<br/>Sweep page: <a href='https://wandb.ai/coffeegang/RNN_preliminary_tests/sweeps/rd1v16t6' target=\"_blank\">https://wandb.ai/coffeegang/RNN_preliminary_tests/sweeps/rd1v16t6</a>"
            ]
          },
          "metadata": {}
        },
        {
          "output_type": "display_data",
          "data": {
            "text/plain": [
              "<IPython.core.display.HTML object>"
            ],
            "text/html": [
              " View project at <a href='https://wandb.ai/coffeegang/RNN_preliminary_tests' target=\"_blank\">https://wandb.ai/coffeegang/RNN_preliminary_tests</a>"
            ]
          },
          "metadata": {}
        },
        {
          "output_type": "display_data",
          "data": {
            "text/plain": [
              "<IPython.core.display.HTML object>"
            ],
            "text/html": [
              " View sweep at <a href='https://wandb.ai/coffeegang/RNN_preliminary_tests/sweeps/rd1v16t6' target=\"_blank\">https://wandb.ai/coffeegang/RNN_preliminary_tests/sweeps/rd1v16t6</a>"
            ]
          },
          "metadata": {}
        },
        {
          "output_type": "display_data",
          "data": {
            "text/plain": [
              "<IPython.core.display.HTML object>"
            ],
            "text/html": [
              " View run at <a href='https://wandb.ai/coffeegang/RNN_preliminary_tests/runs/rfbx9ntr' target=\"_blank\">https://wandb.ai/coffeegang/RNN_preliminary_tests/runs/rfbx9ntr</a>"
            ]
          },
          "metadata": {}
        },
        {
          "output_type": "stream",
          "name": "stdout",
          "text": [
            "Epoch 1/50\n",
            "556/556 [==============================] - 22s 34ms/step - loss: 1.2208 - accuracy: 0.4638 - val_loss: 0.9547 - val_accuracy: 0.6912\n",
            "Epoch 2/50\n",
            "556/556 [==============================] - 9s 17ms/step - loss: 1.1144 - accuracy: 0.5123 - val_loss: 0.8839 - val_accuracy: 0.7087\n",
            "Epoch 3/50\n",
            "556/556 [==============================] - 8s 14ms/step - loss: 1.0741 - accuracy: 0.5345 - val_loss: 0.7870 - val_accuracy: 0.7307\n",
            "Epoch 4/50\n",
            "556/556 [==============================] - 8s 15ms/step - loss: 1.0465 - accuracy: 0.5506 - val_loss: 0.7425 - val_accuracy: 0.7538\n",
            "Epoch 5/50\n",
            "556/556 [==============================] - 8s 14ms/step - loss: 1.0171 - accuracy: 0.5614 - val_loss: 0.8859 - val_accuracy: 0.6689\n",
            "Epoch 6/50\n",
            "556/556 [==============================] - 8s 15ms/step - loss: 0.9896 - accuracy: 0.5729 - val_loss: 0.8385 - val_accuracy: 0.6864\n",
            "Epoch 7/50\n",
            "556/556 [==============================] - 8s 14ms/step - loss: 0.9681 - accuracy: 0.5831 - val_loss: 0.9807 - val_accuracy: 0.5990\n",
            "Epoch 8/50\n",
            "556/556 [==============================] - 8s 14ms/step - loss: 0.9518 - accuracy: 0.5927 - val_loss: 0.9722 - val_accuracy: 0.6284\n",
            "Epoch 9/50\n",
            "556/556 [==============================] - 8s 15ms/step - loss: 0.9301 - accuracy: 0.6015 - val_loss: 0.9419 - val_accuracy: 0.6378\n",
            "Epoch 10/50\n",
            "556/556 [==============================] - 8s 15ms/step - loss: 0.9161 - accuracy: 0.6103 - val_loss: 0.8189 - val_accuracy: 0.7180\n",
            "Epoch 11/50\n",
            "556/556 [==============================] - 8s 14ms/step - loss: 0.9015 - accuracy: 0.6165 - val_loss: 0.9230 - val_accuracy: 0.6623\n",
            "Epoch 12/50\n",
            "556/556 [==============================] - 8s 14ms/step - loss: 0.8941 - accuracy: 0.6194 - val_loss: 0.8527 - val_accuracy: 0.6870\n",
            "Epoch 13/50\n",
            "556/556 [==============================] - 8s 14ms/step - loss: 0.8825 - accuracy: 0.6252 - val_loss: 0.8652 - val_accuracy: 0.6986\n",
            "Epoch 14/50\n",
            "556/556 [==============================] - 8s 14ms/step - loss: 0.8734 - accuracy: 0.6277 - val_loss: 1.0188 - val_accuracy: 0.6338\n",
            "Epoch 15/50\n",
            "556/556 [==============================] - 8s 15ms/step - loss: 0.8645 - accuracy: 0.6324 - val_loss: 0.9514 - val_accuracy: 0.6431\n",
            "Epoch 16/50\n",
            "556/556 [==============================] - 8s 14ms/step - loss: 0.8658 - accuracy: 0.6332 - val_loss: 1.0432 - val_accuracy: 0.5975\n",
            "Epoch 17/50\n",
            "556/556 [==============================] - 8s 14ms/step - loss: 0.8577 - accuracy: 0.6376 - val_loss: 1.0845 - val_accuracy: 0.5954\n",
            "Epoch 18/50\n",
            "556/556 [==============================] - 8s 14ms/step - loss: 0.8485 - accuracy: 0.6420 - val_loss: 0.9709 - val_accuracy: 0.6849\n",
            "Epoch 19/50\n",
            "556/556 [==============================] - 8s 14ms/step - loss: 0.8511 - accuracy: 0.6384 - val_loss: 0.9798 - val_accuracy: 0.6283\n",
            "Epoch 20/50\n",
            "556/556 [==============================] - 8s 15ms/step - loss: 0.8463 - accuracy: 0.6451 - val_loss: 1.0850 - val_accuracy: 0.6288\n",
            "Epoch 21/50\n",
            "556/556 [==============================] - 8s 14ms/step - loss: 0.8328 - accuracy: 0.6496 - val_loss: 1.0431 - val_accuracy: 0.6357\n",
            "Epoch 22/50\n",
            "556/556 [==============================] - 8s 14ms/step - loss: 0.8365 - accuracy: 0.6479 - val_loss: 1.0616 - val_accuracy: 0.6203\n",
            "Epoch 23/50\n",
            "556/556 [==============================] - 8s 14ms/step - loss: 0.8639 - accuracy: 0.6363 - val_loss: 1.0793 - val_accuracy: 0.6092\n",
            "Epoch 24/50\n",
            "556/556 [==============================] - 8s 14ms/step - loss: 0.8587 - accuracy: 0.6348 - val_loss: 0.9919 - val_accuracy: 0.6661\n"
          ]
        },
        {
          "output_type": "display_data",
          "data": {
            "text/plain": [
              "VBox(children=(Label(value='0.003 MB of 0.003 MB uploaded\\r'), FloatProgress(value=1.0, max=1.0)))"
            ],
            "application/vnd.jupyter.widget-view+json": {
              "version_major": 2,
              "version_minor": 0,
              "model_id": "d618bb15007645a4b79d4c66f41cce1b"
            }
          },
          "metadata": {}
        },
        {
          "output_type": "display_data",
          "data": {
            "text/plain": [
              "<IPython.core.display.HTML object>"
            ],
            "text/html": [
              "<style>\n",
              "    table.wandb td:nth-child(1) { padding: 0 10px; text-align: left ; width: auto;} td:nth-child(2) {text-align: left ; width: 100%}\n",
              "    .wandb-row { display: flex; flex-direction: row; flex-wrap: wrap; justify-content: flex-start; width: 100% }\n",
              "    .wandb-col { display: flex; flex-direction: column; flex-basis: 100%; flex: 1; padding: 10px; }\n",
              "    </style>\n",
              "<div class=\"wandb-row\"><div class=\"wandb-col\"><h3>Run history:</h3><br/><table class=\"wandb\"><tr><td>accuracy</td><td>▁▃▄▄▅▅▅▆▆▇▇▇▇▇▇▇███████▇</td></tr><tr><td>epoch</td><td>▁▁▂▂▂▃▃▃▃▄▄▄▅▅▅▆▆▆▆▇▇▇██</td></tr><tr><td>loss</td><td>█▆▅▅▄▄▃▃▃▃▂▂▂▂▂▂▁▁▁▁▁▁▂▁</td></tr><tr><td>size-train</td><td>▁</td></tr><tr><td>size-val</td><td>▁</td></tr><tr><td>val_accuracy</td><td>▅▆▇█▄▅▁▂▃▆▄▅▆▃▃▁▁▅▂▂▃▂▂▄</td></tr><tr><td>val_loss</td><td>▅▄▂▁▄▃▆▆▅▃▅▃▄▇▅▇█▆▆█▇██▆</td></tr></table><br/></div><div class=\"wandb-col\"><h3>Run summary:</h3><br/><table class=\"wandb\"><tr><td>accuracy</td><td>0.63475</td></tr><tr><td>best_epoch</td><td>3</td></tr><tr><td>best_val_loss</td><td>0.74248</td></tr><tr><td>epoch</td><td>23</td></tr><tr><td>loss</td><td>0.85873</td></tr><tr><td>size-train</td><td>35521</td></tr><tr><td>size-val</td><td>5259</td></tr><tr><td>val_accuracy</td><td>0.6661</td></tr><tr><td>val_loss</td><td>0.99186</td></tr></table><br/></div></div>"
            ]
          },
          "metadata": {}
        },
        {
          "output_type": "display_data",
          "data": {
            "text/plain": [
              "<IPython.core.display.HTML object>"
            ],
            "text/html": [
              " View run <strong style=\"color:#cdcd00\">curious-sweep-29</strong> at: <a href='https://wandb.ai/coffeegang/RNN_preliminary_tests/runs/rfbx9ntr' target=\"_blank\">https://wandb.ai/coffeegang/RNN_preliminary_tests/runs/rfbx9ntr</a><br/>Synced 5 W&B file(s), 1 media file(s), 0 artifact file(s) and 0 other file(s)"
            ]
          },
          "metadata": {}
        },
        {
          "output_type": "display_data",
          "data": {
            "text/plain": [
              "<IPython.core.display.HTML object>"
            ],
            "text/html": [
              "Find logs at: <code>./wandb/run-20240128_153141-rfbx9ntr/logs</code>"
            ]
          },
          "metadata": {}
        },
        {
          "output_type": "stream",
          "name": "stderr",
          "text": [
            "\u001b[34m\u001b[1mwandb\u001b[0m: Agent Starting Run: ce8tgvzl with config:\n",
            "\u001b[34m\u001b[1mwandb\u001b[0m: \treview_length: 150\n",
            "\u001b[34m\u001b[1mwandb\u001b[0m: \ttraining_set_name: Prime_Pantry\n",
            "\u001b[34m\u001b[1mwandb\u001b[0m: \tvocab_size: 1000\n"
          ]
        },
        {
          "output_type": "display_data",
          "data": {
            "text/plain": [
              "<IPython.core.display.HTML object>"
            ],
            "text/html": [
              "Tracking run with wandb version 0.16.2"
            ]
          },
          "metadata": {}
        },
        {
          "output_type": "display_data",
          "data": {
            "text/plain": [
              "<IPython.core.display.HTML object>"
            ],
            "text/html": [
              "Run data is saved locally in <code>/content/gdrive/.shortcut-targets-by-id/1osKmyrDLORFSpes1mwrU-W7OXM-to6bK/AML_Exam/Problem2/wandb/run-20240128_153526-ce8tgvzl</code>"
            ]
          },
          "metadata": {}
        },
        {
          "output_type": "display_data",
          "data": {
            "text/plain": [
              "<IPython.core.display.HTML object>"
            ],
            "text/html": [
              "Syncing run <strong><a href='https://wandb.ai/coffeegang/RNN_preliminary_tests/runs/ce8tgvzl' target=\"_blank\">crimson-sweep-30</a></strong> to <a href='https://wandb.ai/coffeegang/RNN_preliminary_tests' target=\"_blank\">Weights & Biases</a> (<a href='https://wandb.me/run' target=\"_blank\">docs</a>)<br/>Sweep page: <a href='https://wandb.ai/coffeegang/RNN_preliminary_tests/sweeps/rd1v16t6' target=\"_blank\">https://wandb.ai/coffeegang/RNN_preliminary_tests/sweeps/rd1v16t6</a>"
            ]
          },
          "metadata": {}
        },
        {
          "output_type": "display_data",
          "data": {
            "text/plain": [
              "<IPython.core.display.HTML object>"
            ],
            "text/html": [
              " View project at <a href='https://wandb.ai/coffeegang/RNN_preliminary_tests' target=\"_blank\">https://wandb.ai/coffeegang/RNN_preliminary_tests</a>"
            ]
          },
          "metadata": {}
        },
        {
          "output_type": "display_data",
          "data": {
            "text/plain": [
              "<IPython.core.display.HTML object>"
            ],
            "text/html": [
              " View sweep at <a href='https://wandb.ai/coffeegang/RNN_preliminary_tests/sweeps/rd1v16t6' target=\"_blank\">https://wandb.ai/coffeegang/RNN_preliminary_tests/sweeps/rd1v16t6</a>"
            ]
          },
          "metadata": {}
        },
        {
          "output_type": "display_data",
          "data": {
            "text/plain": [
              "<IPython.core.display.HTML object>"
            ],
            "text/html": [
              " View run at <a href='https://wandb.ai/coffeegang/RNN_preliminary_tests/runs/ce8tgvzl' target=\"_blank\">https://wandb.ai/coffeegang/RNN_preliminary_tests/runs/ce8tgvzl</a>"
            ]
          },
          "metadata": {}
        },
        {
          "output_type": "stream",
          "name": "stdout",
          "text": [
            "Epoch 1/50\n",
            "556/556 [==============================] - 28s 43ms/step - loss: 1.1840 - accuracy: 0.4827 - val_loss: 0.8437 - val_accuracy: 0.6469\n",
            "Epoch 2/50\n",
            "556/556 [==============================] - 10s 17ms/step - loss: 1.0652 - accuracy: 0.5386 - val_loss: 0.8215 - val_accuracy: 0.6916\n",
            "Epoch 3/50\n",
            "556/556 [==============================] - 9s 16ms/step - loss: 1.0168 - accuracy: 0.5653 - val_loss: 0.8057 - val_accuracy: 0.6963\n",
            "Epoch 4/50\n",
            "556/556 [==============================] - 9s 15ms/step - loss: 0.9830 - accuracy: 0.5788 - val_loss: 1.0190 - val_accuracy: 0.6343\n",
            "Epoch 5/50\n",
            "556/556 [==============================] - 9s 15ms/step - loss: 0.9497 - accuracy: 0.5951 - val_loss: 0.9229 - val_accuracy: 0.6265\n",
            "Epoch 6/50\n",
            "556/556 [==============================] - 8s 15ms/step - loss: 0.9259 - accuracy: 0.6051 - val_loss: 1.0066 - val_accuracy: 0.5965\n",
            "Epoch 7/50\n",
            "556/556 [==============================] - 8s 14ms/step - loss: 0.8898 - accuracy: 0.6217 - val_loss: 0.9006 - val_accuracy: 0.6558\n",
            "Epoch 8/50\n",
            "556/556 [==============================] - 8s 15ms/step - loss: 0.8742 - accuracy: 0.6307 - val_loss: 1.1122 - val_accuracy: 0.5720\n",
            "Epoch 9/50\n",
            "556/556 [==============================] - 8s 15ms/step - loss: 0.8612 - accuracy: 0.6328 - val_loss: 0.8527 - val_accuracy: 0.7001\n",
            "Epoch 10/50\n",
            "556/556 [==============================] - 8s 15ms/step - loss: 0.8355 - accuracy: 0.6464 - val_loss: 1.0595 - val_accuracy: 0.5900\n",
            "Epoch 11/50\n",
            "556/556 [==============================] - 8s 14ms/step - loss: 0.8309 - accuracy: 0.6499 - val_loss: 0.9572 - val_accuracy: 0.6444\n",
            "Epoch 12/50\n",
            "556/556 [==============================] - 8s 15ms/step - loss: 0.8143 - accuracy: 0.6576 - val_loss: 1.0566 - val_accuracy: 0.6269\n",
            "Epoch 13/50\n",
            "556/556 [==============================] - 8s 14ms/step - loss: 0.8060 - accuracy: 0.6609 - val_loss: 1.0688 - val_accuracy: 0.6258\n",
            "Epoch 14/50\n",
            "556/556 [==============================] - 8s 15ms/step - loss: 0.7883 - accuracy: 0.6695 - val_loss: 1.0557 - val_accuracy: 0.6245\n",
            "Epoch 15/50\n",
            "556/556 [==============================] - 8s 15ms/step - loss: 0.8017 - accuracy: 0.6650 - val_loss: 1.0872 - val_accuracy: 0.6026\n",
            "Epoch 16/50\n",
            "556/556 [==============================] - 8s 14ms/step - loss: 0.7889 - accuracy: 0.6674 - val_loss: 1.0144 - val_accuracy: 0.6229\n",
            "Epoch 17/50\n",
            "556/556 [==============================] - 8s 15ms/step - loss: 0.7913 - accuracy: 0.6656 - val_loss: 0.9634 - val_accuracy: 0.6581\n"
          ]
        },
        {
          "output_type": "display_data",
          "data": {
            "text/plain": [
              "VBox(children=(Label(value='0.003 MB of 0.003 MB uploaded\\r'), FloatProgress(value=1.0, max=1.0)))"
            ],
            "application/vnd.jupyter.widget-view+json": {
              "version_major": 2,
              "version_minor": 0,
              "model_id": "d5c995ed62a34782aef280562c23d1f9"
            }
          },
          "metadata": {}
        },
        {
          "output_type": "display_data",
          "data": {
            "text/plain": [
              "<IPython.core.display.HTML object>"
            ],
            "text/html": [
              "<style>\n",
              "    table.wandb td:nth-child(1) { padding: 0 10px; text-align: left ; width: auto;} td:nth-child(2) {text-align: left ; width: 100%}\n",
              "    .wandb-row { display: flex; flex-direction: row; flex-wrap: wrap; justify-content: flex-start; width: 100% }\n",
              "    .wandb-col { display: flex; flex-direction: column; flex-basis: 100%; flex: 1; padding: 10px; }\n",
              "    </style>\n",
              "<div class=\"wandb-row\"><div class=\"wandb-col\"><h3>Run history:</h3><br/><table class=\"wandb\"><tr><td>accuracy</td><td>▁▃▄▅▅▆▆▇▇▇▇██████</td></tr><tr><td>epoch</td><td>▁▁▂▂▃▃▄▄▅▅▅▆▆▇▇██</td></tr><tr><td>loss</td><td>█▆▅▄▄▃▃▃▂▂▂▁▁▁▁▁▁</td></tr><tr><td>size-train</td><td>▁</td></tr><tr><td>size-val</td><td>▁</td></tr><tr><td>val_accuracy</td><td>▅██▄▄▂▆▁█▂▅▄▄▄▃▄▆</td></tr><tr><td>val_loss</td><td>▂▁▁▆▄▆▃█▂▇▄▇▇▇▇▆▅</td></tr></table><br/></div><div class=\"wandb-col\"><h3>Run summary:</h3><br/><table class=\"wandb\"><tr><td>accuracy</td><td>0.66563</td></tr><tr><td>best_epoch</td><td>2</td></tr><tr><td>best_val_loss</td><td>0.80571</td></tr><tr><td>epoch</td><td>16</td></tr><tr><td>loss</td><td>0.79128</td></tr><tr><td>size-train</td><td>35521</td></tr><tr><td>size-val</td><td>5259</td></tr><tr><td>val_accuracy</td><td>0.65811</td></tr><tr><td>val_loss</td><td>0.96341</td></tr></table><br/></div></div>"
            ]
          },
          "metadata": {}
        },
        {
          "output_type": "display_data",
          "data": {
            "text/plain": [
              "<IPython.core.display.HTML object>"
            ],
            "text/html": [
              " View run <strong style=\"color:#cdcd00\">crimson-sweep-30</strong> at: <a href='https://wandb.ai/coffeegang/RNN_preliminary_tests/runs/ce8tgvzl' target=\"_blank\">https://wandb.ai/coffeegang/RNN_preliminary_tests/runs/ce8tgvzl</a><br/>Synced 5 W&B file(s), 1 media file(s), 0 artifact file(s) and 0 other file(s)"
            ]
          },
          "metadata": {}
        },
        {
          "output_type": "display_data",
          "data": {
            "text/plain": [
              "<IPython.core.display.HTML object>"
            ],
            "text/html": [
              "Find logs at: <code>./wandb/run-20240128_153526-ce8tgvzl/logs</code>"
            ]
          },
          "metadata": {}
        },
        {
          "output_type": "stream",
          "name": "stderr",
          "text": [
            "\u001b[34m\u001b[1mwandb\u001b[0m: Agent Starting Run: zx2uh6eo with config:\n",
            "\u001b[34m\u001b[1mwandb\u001b[0m: \treview_length: 150\n",
            "\u001b[34m\u001b[1mwandb\u001b[0m: \ttraining_set_name: Prime_Pantry\n",
            "\u001b[34m\u001b[1mwandb\u001b[0m: \tvocab_size: 1500\n"
          ]
        },
        {
          "output_type": "display_data",
          "data": {
            "text/plain": [
              "<IPython.core.display.HTML object>"
            ],
            "text/html": [
              "Tracking run with wandb version 0.16.2"
            ]
          },
          "metadata": {}
        },
        {
          "output_type": "display_data",
          "data": {
            "text/plain": [
              "<IPython.core.display.HTML object>"
            ],
            "text/html": [
              "Run data is saved locally in <code>/content/gdrive/.shortcut-targets-by-id/1osKmyrDLORFSpes1mwrU-W7OXM-to6bK/AML_Exam/Problem2/wandb/run-20240128_153825-zx2uh6eo</code>"
            ]
          },
          "metadata": {}
        },
        {
          "output_type": "display_data",
          "data": {
            "text/plain": [
              "<IPython.core.display.HTML object>"
            ],
            "text/html": [
              "Syncing run <strong><a href='https://wandb.ai/coffeegang/RNN_preliminary_tests/runs/zx2uh6eo' target=\"_blank\">stoic-sweep-31</a></strong> to <a href='https://wandb.ai/coffeegang/RNN_preliminary_tests' target=\"_blank\">Weights & Biases</a> (<a href='https://wandb.me/run' target=\"_blank\">docs</a>)<br/>Sweep page: <a href='https://wandb.ai/coffeegang/RNN_preliminary_tests/sweeps/rd1v16t6' target=\"_blank\">https://wandb.ai/coffeegang/RNN_preliminary_tests/sweeps/rd1v16t6</a>"
            ]
          },
          "metadata": {}
        },
        {
          "output_type": "display_data",
          "data": {
            "text/plain": [
              "<IPython.core.display.HTML object>"
            ],
            "text/html": [
              " View project at <a href='https://wandb.ai/coffeegang/RNN_preliminary_tests' target=\"_blank\">https://wandb.ai/coffeegang/RNN_preliminary_tests</a>"
            ]
          },
          "metadata": {}
        },
        {
          "output_type": "display_data",
          "data": {
            "text/plain": [
              "<IPython.core.display.HTML object>"
            ],
            "text/html": [
              " View sweep at <a href='https://wandb.ai/coffeegang/RNN_preliminary_tests/sweeps/rd1v16t6' target=\"_blank\">https://wandb.ai/coffeegang/RNN_preliminary_tests/sweeps/rd1v16t6</a>"
            ]
          },
          "metadata": {}
        },
        {
          "output_type": "display_data",
          "data": {
            "text/plain": [
              "<IPython.core.display.HTML object>"
            ],
            "text/html": [
              " View run at <a href='https://wandb.ai/coffeegang/RNN_preliminary_tests/runs/zx2uh6eo' target=\"_blank\">https://wandb.ai/coffeegang/RNN_preliminary_tests/runs/zx2uh6eo</a>"
            ]
          },
          "metadata": {}
        },
        {
          "output_type": "stream",
          "name": "stdout",
          "text": [
            "Epoch 1/50\n",
            "556/556 [==============================] - 29s 46ms/step - loss: 1.1775 - accuracy: 0.4841 - val_loss: 0.8330 - val_accuracy: 0.6798\n",
            "Epoch 2/50\n",
            "556/556 [==============================] - 11s 19ms/step - loss: 1.0535 - accuracy: 0.5373 - val_loss: 0.9179 - val_accuracy: 0.6676\n",
            "Epoch 3/50\n",
            "556/556 [==============================] - 10s 18ms/step - loss: 1.0060 - accuracy: 0.5621 - val_loss: 0.8406 - val_accuracy: 0.6804\n",
            "Epoch 4/50\n",
            "556/556 [==============================] - 9s 16ms/step - loss: 0.9605 - accuracy: 0.5854 - val_loss: 0.7725 - val_accuracy: 0.7005\n",
            "Epoch 5/50\n",
            "556/556 [==============================] - 9s 16ms/step - loss: 0.9162 - accuracy: 0.6062 - val_loss: 0.9713 - val_accuracy: 0.6167\n",
            "Epoch 6/50\n",
            "556/556 [==============================] - 9s 16ms/step - loss: 0.8844 - accuracy: 0.6204 - val_loss: 1.0263 - val_accuracy: 0.5893\n",
            "Epoch 7/50\n",
            "556/556 [==============================] - 9s 16ms/step - loss: 0.8645 - accuracy: 0.6296 - val_loss: 0.9692 - val_accuracy: 0.6389\n",
            "Epoch 8/50\n",
            "556/556 [==============================] - 8s 15ms/step - loss: 0.8320 - accuracy: 0.6467 - val_loss: 0.9503 - val_accuracy: 0.6537\n",
            "Epoch 9/50\n",
            "556/556 [==============================] - 8s 14ms/step - loss: 0.8037 - accuracy: 0.6594 - val_loss: 0.9770 - val_accuracy: 0.6632\n",
            "Epoch 10/50\n",
            "556/556 [==============================] - 8s 15ms/step - loss: 0.7769 - accuracy: 0.6708 - val_loss: 0.9641 - val_accuracy: 0.6528\n",
            "Epoch 11/50\n",
            "556/556 [==============================] - 8s 14ms/step - loss: 0.7716 - accuracy: 0.6748 - val_loss: 1.0069 - val_accuracy: 0.6549\n",
            "Epoch 12/50\n",
            "556/556 [==============================] - 8s 15ms/step - loss: 0.7415 - accuracy: 0.6915 - val_loss: 1.1445 - val_accuracy: 0.6378\n",
            "Epoch 13/50\n",
            "556/556 [==============================] - 8s 15ms/step - loss: 0.7592 - accuracy: 0.6816 - val_loss: 1.0719 - val_accuracy: 0.6499\n",
            "Epoch 14/50\n",
            "556/556 [==============================] - 8s 15ms/step - loss: 0.7278 - accuracy: 0.6940 - val_loss: 1.1345 - val_accuracy: 0.6222\n",
            "Epoch 15/50\n",
            "556/556 [==============================] - 8s 15ms/step - loss: 0.7271 - accuracy: 0.6940 - val_loss: 1.2230 - val_accuracy: 0.6028\n",
            "Epoch 16/50\n",
            "556/556 [==============================] - 8s 14ms/step - loss: 0.7111 - accuracy: 0.7030 - val_loss: 1.2542 - val_accuracy: 0.5923\n",
            "Epoch 17/50\n",
            "556/556 [==============================] - 8s 14ms/step - loss: 0.7179 - accuracy: 0.6994 - val_loss: 1.1139 - val_accuracy: 0.6186\n",
            "Epoch 18/50\n",
            "556/556 [==============================] - 8s 14ms/step - loss: 0.7017 - accuracy: 0.7096 - val_loss: 1.2052 - val_accuracy: 0.6226\n",
            "Epoch 19/50\n",
            "556/556 [==============================] - 8s 15ms/step - loss: 0.6946 - accuracy: 0.7112 - val_loss: 1.2180 - val_accuracy: 0.6043\n",
            "Epoch 20/50\n",
            "556/556 [==============================] - 8s 14ms/step - loss: 0.6970 - accuracy: 0.7115 - val_loss: 1.3255 - val_accuracy: 0.5796\n",
            "Epoch 21/50\n",
            "556/556 [==============================] - 8s 14ms/step - loss: 0.7002 - accuracy: 0.7075 - val_loss: 1.1321 - val_accuracy: 0.6499\n",
            "Epoch 22/50\n",
            "556/556 [==============================] - 8s 15ms/step - loss: 0.6903 - accuracy: 0.7128 - val_loss: 1.2589 - val_accuracy: 0.5992\n",
            "Epoch 23/50\n",
            "556/556 [==============================] - 8s 14ms/step - loss: 0.6855 - accuracy: 0.7130 - val_loss: 1.2410 - val_accuracy: 0.6104\n",
            "Epoch 24/50\n",
            "556/556 [==============================] - 8s 14ms/step - loss: 0.6963 - accuracy: 0.7112 - val_loss: 1.3282 - val_accuracy: 0.5558\n",
            "Epoch 25/50\n",
            "556/556 [==============================] - 8s 14ms/step - loss: 0.6936 - accuracy: 0.7145 - val_loss: 1.2720 - val_accuracy: 0.6132\n",
            "Epoch 26/50\n",
            "556/556 [==============================] - 8s 14ms/step - loss: 0.6823 - accuracy: 0.7162 - val_loss: 1.2766 - val_accuracy: 0.6191\n",
            "Epoch 27/50\n",
            "556/556 [==============================] - 8s 14ms/step - loss: 0.6835 - accuracy: 0.7153 - val_loss: 1.3871 - val_accuracy: 0.5666\n",
            "Epoch 28/50\n",
            "556/556 [==============================] - 8s 14ms/step - loss: 0.6997 - accuracy: 0.7104 - val_loss: 1.2140 - val_accuracy: 0.6151\n",
            "Epoch 29/50\n",
            "556/556 [==============================] - 8s 14ms/step - loss: 0.6824 - accuracy: 0.7172 - val_loss: 1.3879 - val_accuracy: 0.5769\n",
            "Epoch 30/50\n",
            "556/556 [==============================] - 8s 14ms/step - loss: 0.6888 - accuracy: 0.7111 - val_loss: 1.4220 - val_accuracy: 0.5693\n",
            "Epoch 31/50\n",
            "556/556 [==============================] - 8s 14ms/step - loss: 0.7001 - accuracy: 0.7085 - val_loss: 1.3208 - val_accuracy: 0.5908\n",
            "Epoch 32/50\n",
            "556/556 [==============================] - 8s 14ms/step - loss: 0.6945 - accuracy: 0.7145 - val_loss: 1.2312 - val_accuracy: 0.6222\n"
          ]
        },
        {
          "output_type": "display_data",
          "data": {
            "text/plain": [
              "VBox(children=(Label(value='0.003 MB of 0.003 MB uploaded\\r'), FloatProgress(value=1.0, max=1.0)))"
            ],
            "application/vnd.jupyter.widget-view+json": {
              "version_major": 2,
              "version_minor": 0,
              "model_id": "0f703cdd64fc48acbd35771cf32579bd"
            }
          },
          "metadata": {}
        },
        {
          "output_type": "display_data",
          "data": {
            "text/plain": [
              "<IPython.core.display.HTML object>"
            ],
            "text/html": [
              "<style>\n",
              "    table.wandb td:nth-child(1) { padding: 0 10px; text-align: left ; width: auto;} td:nth-child(2) {text-align: left ; width: 100%}\n",
              "    .wandb-row { display: flex; flex-direction: row; flex-wrap: wrap; justify-content: flex-start; width: 100% }\n",
              "    .wandb-col { display: flex; flex-direction: column; flex-basis: 100%; flex: 1; padding: 10px; }\n",
              "    </style>\n",
              "<div class=\"wandb-row\"><div class=\"wandb-col\"><h3>Run history:</h3><br/><table class=\"wandb\"><tr><td>accuracy</td><td>▁▃▃▄▅▅▅▆▆▇▇▇▇▇▇█▇███████████████</td></tr><tr><td>epoch</td><td>▁▁▁▂▂▂▂▃▃▃▃▃▄▄▄▄▅▅▅▅▆▆▆▆▆▇▇▇▇███</td></tr><tr><td>loss</td><td>█▆▆▅▄▄▄▃▃▂▂▂▂▂▂▁▂▁▁▁▁▁▁▁▁▁▁▁▁▁▁▁</td></tr><tr><td>size-train</td><td>▁</td></tr><tr><td>size-val</td><td>▁</td></tr><tr><td>val_accuracy</td><td>▇▆▇█▄▃▅▆▆▆▆▅▆▄▃▃▄▄▃▂▆▃▄▁▄▄▂▄▂▂▃▄</td></tr><tr><td>val_loss</td><td>▂▃▂▁▃▄▃▃▃▃▄▅▄▅▆▆▅▆▆▇▅▆▆▇▆▆█▆██▇▆</td></tr></table><br/></div><div class=\"wandb-col\"><h3>Run summary:</h3><br/><table class=\"wandb\"><tr><td>accuracy</td><td>0.71451</td></tr><tr><td>best_epoch</td><td>3</td></tr><tr><td>best_val_loss</td><td>0.77251</td></tr><tr><td>epoch</td><td>31</td></tr><tr><td>loss</td><td>0.69446</td></tr><tr><td>size-train</td><td>35521</td></tr><tr><td>size-val</td><td>5259</td></tr><tr><td>val_accuracy</td><td>0.62217</td></tr><tr><td>val_loss</td><td>1.23119</td></tr></table><br/></div></div>"
            ]
          },
          "metadata": {}
        },
        {
          "output_type": "display_data",
          "data": {
            "text/plain": [
              "<IPython.core.display.HTML object>"
            ],
            "text/html": [
              " View run <strong style=\"color:#cdcd00\">stoic-sweep-31</strong> at: <a href='https://wandb.ai/coffeegang/RNN_preliminary_tests/runs/zx2uh6eo' target=\"_blank\">https://wandb.ai/coffeegang/RNN_preliminary_tests/runs/zx2uh6eo</a><br/>Synced 5 W&B file(s), 1 media file(s), 0 artifact file(s) and 0 other file(s)"
            ]
          },
          "metadata": {}
        },
        {
          "output_type": "display_data",
          "data": {
            "text/plain": [
              "<IPython.core.display.HTML object>"
            ],
            "text/html": [
              "Find logs at: <code>./wandb/run-20240128_153825-zx2uh6eo/logs</code>"
            ]
          },
          "metadata": {}
        },
        {
          "output_type": "stream",
          "name": "stderr",
          "text": [
            "\u001b[34m\u001b[1mwandb\u001b[0m: Agent Starting Run: 88sw7m1q with config:\n",
            "\u001b[34m\u001b[1mwandb\u001b[0m: \treview_length: 150\n",
            "\u001b[34m\u001b[1mwandb\u001b[0m: \ttraining_set_name: Prime_Pantry\n",
            "\u001b[34m\u001b[1mwandb\u001b[0m: \tvocab_size: 2000\n"
          ]
        },
        {
          "output_type": "display_data",
          "data": {
            "text/plain": [
              "<IPython.core.display.HTML object>"
            ],
            "text/html": [
              "Tracking run with wandb version 0.16.2"
            ]
          },
          "metadata": {}
        },
        {
          "output_type": "display_data",
          "data": {
            "text/plain": [
              "<IPython.core.display.HTML object>"
            ],
            "text/html": [
              "Run data is saved locally in <code>/content/gdrive/.shortcut-targets-by-id/1osKmyrDLORFSpes1mwrU-W7OXM-to6bK/AML_Exam/Problem2/wandb/run-20240128_154326-88sw7m1q</code>"
            ]
          },
          "metadata": {}
        },
        {
          "output_type": "display_data",
          "data": {
            "text/plain": [
              "<IPython.core.display.HTML object>"
            ],
            "text/html": [
              "Syncing run <strong><a href='https://wandb.ai/coffeegang/RNN_preliminary_tests/runs/88sw7m1q' target=\"_blank\">swept-sweep-32</a></strong> to <a href='https://wandb.ai/coffeegang/RNN_preliminary_tests' target=\"_blank\">Weights & Biases</a> (<a href='https://wandb.me/run' target=\"_blank\">docs</a>)<br/>Sweep page: <a href='https://wandb.ai/coffeegang/RNN_preliminary_tests/sweeps/rd1v16t6' target=\"_blank\">https://wandb.ai/coffeegang/RNN_preliminary_tests/sweeps/rd1v16t6</a>"
            ]
          },
          "metadata": {}
        },
        {
          "output_type": "display_data",
          "data": {
            "text/plain": [
              "<IPython.core.display.HTML object>"
            ],
            "text/html": [
              " View project at <a href='https://wandb.ai/coffeegang/RNN_preliminary_tests' target=\"_blank\">https://wandb.ai/coffeegang/RNN_preliminary_tests</a>"
            ]
          },
          "metadata": {}
        },
        {
          "output_type": "display_data",
          "data": {
            "text/plain": [
              "<IPython.core.display.HTML object>"
            ],
            "text/html": [
              " View sweep at <a href='https://wandb.ai/coffeegang/RNN_preliminary_tests/sweeps/rd1v16t6' target=\"_blank\">https://wandb.ai/coffeegang/RNN_preliminary_tests/sweeps/rd1v16t6</a>"
            ]
          },
          "metadata": {}
        },
        {
          "output_type": "display_data",
          "data": {
            "text/plain": [
              "<IPython.core.display.HTML object>"
            ],
            "text/html": [
              " View run at <a href='https://wandb.ai/coffeegang/RNN_preliminary_tests/runs/88sw7m1q' target=\"_blank\">https://wandb.ai/coffeegang/RNN_preliminary_tests/runs/88sw7m1q</a>"
            ]
          },
          "metadata": {}
        },
        {
          "output_type": "stream",
          "name": "stdout",
          "text": [
            "Epoch 1/50\n",
            "556/556 [==============================] - 31s 48ms/step - loss: 1.1735 - accuracy: 0.4847 - val_loss: 0.9355 - val_accuracy: 0.6589\n",
            "Epoch 2/50\n",
            "556/556 [==============================] - 11s 20ms/step - loss: 1.0371 - accuracy: 0.5499 - val_loss: 0.8629 - val_accuracy: 0.6916\n",
            "Epoch 3/50\n",
            "556/556 [==============================] - 9s 17ms/step - loss: 0.9751 - accuracy: 0.5792 - val_loss: 0.8382 - val_accuracy: 0.6849\n",
            "Epoch 4/50\n",
            "556/556 [==============================] - 8s 15ms/step - loss: 0.9206 - accuracy: 0.6025 - val_loss: 0.7204 - val_accuracy: 0.7541\n",
            "Epoch 5/50\n",
            "556/556 [==============================] - 9s 16ms/step - loss: 0.8779 - accuracy: 0.6252 - val_loss: 0.9333 - val_accuracy: 0.6368\n",
            "Epoch 6/50\n",
            "556/556 [==============================] - 9s 16ms/step - loss: 0.8322 - accuracy: 0.6499 - val_loss: 1.0427 - val_accuracy: 0.6231\n",
            "Epoch 7/50\n",
            "556/556 [==============================] - 8s 15ms/step - loss: 0.7914 - accuracy: 0.6678 - val_loss: 0.9292 - val_accuracy: 0.6612\n",
            "Epoch 8/50\n",
            "556/556 [==============================] - 8s 15ms/step - loss: 0.7562 - accuracy: 0.6849 - val_loss: 0.9925 - val_accuracy: 0.6617\n",
            "Epoch 9/50\n",
            "556/556 [==============================] - 8s 15ms/step - loss: 0.7335 - accuracy: 0.6954 - val_loss: 1.0212 - val_accuracy: 0.6499\n",
            "Epoch 10/50\n",
            "556/556 [==============================] - 8s 15ms/step - loss: 0.7025 - accuracy: 0.7105 - val_loss: 0.9898 - val_accuracy: 0.6824\n",
            "Epoch 11/50\n",
            "556/556 [==============================] - 8s 14ms/step - loss: 0.6746 - accuracy: 0.7237 - val_loss: 1.1600 - val_accuracy: 0.6216\n",
            "Epoch 12/50\n",
            "556/556 [==============================] - 8s 14ms/step - loss: 0.6686 - accuracy: 0.7230 - val_loss: 1.2330 - val_accuracy: 0.6433\n",
            "Epoch 13/50\n",
            "556/556 [==============================] - 8s 15ms/step - loss: 0.6430 - accuracy: 0.7343 - val_loss: 1.1008 - val_accuracy: 0.6283\n",
            "Epoch 14/50\n",
            "556/556 [==============================] - 8s 15ms/step - loss: 0.6359 - accuracy: 0.7403 - val_loss: 1.1374 - val_accuracy: 0.6583\n",
            "Epoch 15/50\n",
            "556/556 [==============================] - 8s 14ms/step - loss: 0.6302 - accuracy: 0.7431 - val_loss: 1.3048 - val_accuracy: 0.6256\n",
            "Epoch 16/50\n",
            "556/556 [==============================] - 8s 14ms/step - loss: 0.6074 - accuracy: 0.7552 - val_loss: 1.3732 - val_accuracy: 0.6146\n",
            "Epoch 17/50\n",
            "556/556 [==============================] - 8s 14ms/step - loss: 0.6092 - accuracy: 0.7524 - val_loss: 1.2581 - val_accuracy: 0.6463\n",
            "Epoch 18/50\n",
            "556/556 [==============================] - 8s 14ms/step - loss: 0.6492 - accuracy: 0.7330 - val_loss: 1.0997 - val_accuracy: 0.6545\n",
            "Epoch 19/50\n",
            "556/556 [==============================] - 8s 14ms/step - loss: 0.5891 - accuracy: 0.7610 - val_loss: 1.3667 - val_accuracy: 0.6157\n",
            "Epoch 20/50\n",
            "556/556 [==============================] - 8s 14ms/step - loss: 0.5735 - accuracy: 0.7688 - val_loss: 1.2956 - val_accuracy: 0.6324\n",
            "Epoch 21/50\n",
            "556/556 [==============================] - 8s 14ms/step - loss: 0.5953 - accuracy: 0.7568 - val_loss: 1.4002 - val_accuracy: 0.5855\n",
            "Epoch 22/50\n",
            "556/556 [==============================] - 8s 14ms/step - loss: 0.6061 - accuracy: 0.7536 - val_loss: 1.4231 - val_accuracy: 0.6149\n",
            "Epoch 23/50\n",
            "556/556 [==============================] - 8s 14ms/step - loss: 0.5937 - accuracy: 0.7582 - val_loss: 1.4875 - val_accuracy: 0.6028\n"
          ]
        },
        {
          "output_type": "display_data",
          "data": {
            "text/plain": [
              "VBox(children=(Label(value='0.016 MB of 0.016 MB uploaded\\r'), FloatProgress(value=1.0, max=1.0)))"
            ],
            "application/vnd.jupyter.widget-view+json": {
              "version_major": 2,
              "version_minor": 0,
              "model_id": "58c5d708ab5c482f8e3e57ff386b257f"
            }
          },
          "metadata": {}
        },
        {
          "output_type": "display_data",
          "data": {
            "text/plain": [
              "<IPython.core.display.HTML object>"
            ],
            "text/html": [
              "<style>\n",
              "    table.wandb td:nth-child(1) { padding: 0 10px; text-align: left ; width: auto;} td:nth-child(2) {text-align: left ; width: 100%}\n",
              "    .wandb-row { display: flex; flex-direction: row; flex-wrap: wrap; justify-content: flex-start; width: 100% }\n",
              "    .wandb-col { display: flex; flex-direction: column; flex-basis: 100%; flex: 1; padding: 10px; }\n",
              "    </style>\n",
              "<div class=\"wandb-row\"><div class=\"wandb-col\"><h3>Run history:</h3><br/><table class=\"wandb\"><tr><td>accuracy</td><td>▁▃▃▄▄▅▆▆▆▇▇▇▇▇▇██▇█████</td></tr><tr><td>epoch</td><td>▁▁▂▂▂▃▃▃▄▄▄▅▅▅▅▆▆▆▇▇▇██</td></tr><tr><td>loss</td><td>█▆▆▅▅▄▄▃▃▃▂▂▂▂▂▁▁▂▁▁▁▁▁</td></tr><tr><td>size-train</td><td>▁</td></tr><tr><td>size-val</td><td>▁</td></tr><tr><td>val_accuracy</td><td>▄▅▅█▃▃▄▄▄▅▂▃▃▄▃▂▄▄▂▃▁▂▂</td></tr><tr><td>val_loss</td><td>▃▂▂▁▃▄▃▃▄▃▅▆▄▅▆▇▆▄▇▆▇▇█</td></tr></table><br/></div><div class=\"wandb-col\"><h3>Run summary:</h3><br/><table class=\"wandb\"><tr><td>accuracy</td><td>0.7582</td></tr><tr><td>best_epoch</td><td>3</td></tr><tr><td>best_val_loss</td><td>0.7204</td></tr><tr><td>epoch</td><td>22</td></tr><tr><td>loss</td><td>0.59368</td></tr><tr><td>size-train</td><td>35521</td></tr><tr><td>size-val</td><td>5259</td></tr><tr><td>val_accuracy</td><td>0.60278</td></tr><tr><td>val_loss</td><td>1.4875</td></tr></table><br/></div></div>"
            ]
          },
          "metadata": {}
        },
        {
          "output_type": "display_data",
          "data": {
            "text/plain": [
              "<IPython.core.display.HTML object>"
            ],
            "text/html": [
              " View run <strong style=\"color:#cdcd00\">swept-sweep-32</strong> at: <a href='https://wandb.ai/coffeegang/RNN_preliminary_tests/runs/88sw7m1q' target=\"_blank\">https://wandb.ai/coffeegang/RNN_preliminary_tests/runs/88sw7m1q</a><br/>Synced 5 W&B file(s), 1 media file(s), 0 artifact file(s) and 0 other file(s)"
            ]
          },
          "metadata": {}
        },
        {
          "output_type": "display_data",
          "data": {
            "text/plain": [
              "<IPython.core.display.HTML object>"
            ],
            "text/html": [
              "Find logs at: <code>./wandb/run-20240128_154326-88sw7m1q/logs</code>"
            ]
          },
          "metadata": {}
        },
        {
          "output_type": "stream",
          "name": "stderr",
          "text": [
            "\u001b[34m\u001b[1mwandb\u001b[0m: Sweep Agent: Waiting for job.\n",
            "\u001b[34m\u001b[1mwandb\u001b[0m: Job received.\n",
            "\u001b[34m\u001b[1mwandb\u001b[0m: Agent Starting Run: 80j3xdj5 with config:\n",
            "\u001b[34m\u001b[1mwandb\u001b[0m: \treview_length: 200\n",
            "\u001b[34m\u001b[1mwandb\u001b[0m: \ttraining_set_name: Arts_Crafts_and_Sewing\n",
            "\u001b[34m\u001b[1mwandb\u001b[0m: \tvocab_size: 500\n"
          ]
        },
        {
          "output_type": "display_data",
          "data": {
            "text/plain": [
              "<IPython.core.display.HTML object>"
            ],
            "text/html": [
              "Tracking run with wandb version 0.16.2"
            ]
          },
          "metadata": {}
        },
        {
          "output_type": "display_data",
          "data": {
            "text/plain": [
              "<IPython.core.display.HTML object>"
            ],
            "text/html": [
              "Run data is saved locally in <code>/content/gdrive/.shortcut-targets-by-id/1osKmyrDLORFSpes1mwrU-W7OXM-to6bK/AML_Exam/Problem2/wandb/run-20240128_154724-80j3xdj5</code>"
            ]
          },
          "metadata": {}
        },
        {
          "output_type": "display_data",
          "data": {
            "text/plain": [
              "<IPython.core.display.HTML object>"
            ],
            "text/html": [
              "Syncing run <strong><a href='https://wandb.ai/coffeegang/RNN_preliminary_tests/runs/80j3xdj5' target=\"_blank\">zany-sweep-33</a></strong> to <a href='https://wandb.ai/coffeegang/RNN_preliminary_tests' target=\"_blank\">Weights & Biases</a> (<a href='https://wandb.me/run' target=\"_blank\">docs</a>)<br/>Sweep page: <a href='https://wandb.ai/coffeegang/RNN_preliminary_tests/sweeps/rd1v16t6' target=\"_blank\">https://wandb.ai/coffeegang/RNN_preliminary_tests/sweeps/rd1v16t6</a>"
            ]
          },
          "metadata": {}
        },
        {
          "output_type": "display_data",
          "data": {
            "text/plain": [
              "<IPython.core.display.HTML object>"
            ],
            "text/html": [
              " View project at <a href='https://wandb.ai/coffeegang/RNN_preliminary_tests' target=\"_blank\">https://wandb.ai/coffeegang/RNN_preliminary_tests</a>"
            ]
          },
          "metadata": {}
        },
        {
          "output_type": "display_data",
          "data": {
            "text/plain": [
              "<IPython.core.display.HTML object>"
            ],
            "text/html": [
              " View sweep at <a href='https://wandb.ai/coffeegang/RNN_preliminary_tests/sweeps/rd1v16t6' target=\"_blank\">https://wandb.ai/coffeegang/RNN_preliminary_tests/sweeps/rd1v16t6</a>"
            ]
          },
          "metadata": {}
        },
        {
          "output_type": "display_data",
          "data": {
            "text/plain": [
              "<IPython.core.display.HTML object>"
            ],
            "text/html": [
              " View run at <a href='https://wandb.ai/coffeegang/RNN_preliminary_tests/runs/80j3xdj5' target=\"_blank\">https://wandb.ai/coffeegang/RNN_preliminary_tests/runs/80j3xdj5</a>"
            ]
          },
          "metadata": {}
        },
        {
          "output_type": "stream",
          "name": "stdout",
          "text": [
            "Epoch 1/50\n",
            "782/782 [==============================] - 26s 30ms/step - loss: 1.2282 - accuracy: 0.4574 - val_loss: 1.1514 - val_accuracy: 0.5881\n",
            "Epoch 2/50\n",
            "782/782 [==============================] - 14s 18ms/step - loss: 1.1256 - accuracy: 0.5062 - val_loss: 1.1414 - val_accuracy: 0.5969\n",
            "Epoch 3/50\n",
            "782/782 [==============================] - 13s 17ms/step - loss: 1.0914 - accuracy: 0.5231 - val_loss: 1.0749 - val_accuracy: 0.6071\n",
            "Epoch 4/50\n",
            "782/782 [==============================] - 13s 17ms/step - loss: 1.0653 - accuracy: 0.5350 - val_loss: 1.0938 - val_accuracy: 0.6056\n",
            "Epoch 5/50\n",
            "782/782 [==============================] - 13s 17ms/step - loss: 1.0427 - accuracy: 0.5456 - val_loss: 1.1743 - val_accuracy: 0.5876\n",
            "Epoch 6/50\n",
            "782/782 [==============================] - 13s 17ms/step - loss: 1.0243 - accuracy: 0.5581 - val_loss: 0.9442 - val_accuracy: 0.6735\n",
            "Epoch 7/50\n",
            "782/782 [==============================] - 13s 17ms/step - loss: 1.0088 - accuracy: 0.5640 - val_loss: 1.0434 - val_accuracy: 0.6374\n",
            "Epoch 8/50\n",
            "782/782 [==============================] - 13s 17ms/step - loss: 1.0000 - accuracy: 0.5681 - val_loss: 0.9540 - val_accuracy: 0.6838\n",
            "Epoch 9/50\n",
            "782/782 [==============================] - 13s 17ms/step - loss: 0.9917 - accuracy: 0.5750 - val_loss: 1.0933 - val_accuracy: 0.5948\n",
            "Epoch 10/50\n",
            "782/782 [==============================] - 13s 17ms/step - loss: 0.9833 - accuracy: 0.5775 - val_loss: 1.1499 - val_accuracy: 0.6064\n",
            "Epoch 11/50\n",
            "782/782 [==============================] - 13s 17ms/step - loss: 0.9771 - accuracy: 0.5803 - val_loss: 1.1017 - val_accuracy: 0.6269\n",
            "Epoch 12/50\n",
            "782/782 [==============================] - 13s 17ms/step - loss: 0.9740 - accuracy: 0.5818 - val_loss: 1.0438 - val_accuracy: 0.6638\n",
            "Epoch 13/50\n",
            "782/782 [==============================] - 13s 17ms/step - loss: 0.9705 - accuracy: 0.5869 - val_loss: 1.0815 - val_accuracy: 0.6142\n",
            "Epoch 14/50\n",
            "782/782 [==============================] - 13s 17ms/step - loss: 0.9746 - accuracy: 0.5863 - val_loss: 1.1672 - val_accuracy: 0.5973\n",
            "Epoch 15/50\n",
            "782/782 [==============================] - 13s 17ms/step - loss: 0.9823 - accuracy: 0.5786 - val_loss: 1.0471 - val_accuracy: 0.6469\n",
            "Epoch 16/50\n",
            "782/782 [==============================] - 13s 16ms/step - loss: 0.9769 - accuracy: 0.5794 - val_loss: 1.1096 - val_accuracy: 0.6182\n"
          ]
        },
        {
          "output_type": "display_data",
          "data": {
            "text/plain": [
              "VBox(children=(Label(value='0.003 MB of 0.015 MB uploaded\\r'), FloatProgress(value=0.18492801630780992, max=1.…"
            ],
            "application/vnd.jupyter.widget-view+json": {
              "version_major": 2,
              "version_minor": 0,
              "model_id": "51840525b896424887ee407449c99bab"
            }
          },
          "metadata": {}
        },
        {
          "output_type": "display_data",
          "data": {
            "text/plain": [
              "<IPython.core.display.HTML object>"
            ],
            "text/html": [
              "<style>\n",
              "    table.wandb td:nth-child(1) { padding: 0 10px; text-align: left ; width: auto;} td:nth-child(2) {text-align: left ; width: 100%}\n",
              "    .wandb-row { display: flex; flex-direction: row; flex-wrap: wrap; justify-content: flex-start; width: 100% }\n",
              "    .wandb-col { display: flex; flex-direction: column; flex-basis: 100%; flex: 1; padding: 10px; }\n",
              "    </style>\n",
              "<div class=\"wandb-row\"><div class=\"wandb-col\"><h3>Run history:</h3><br/><table class=\"wandb\"><tr><td>accuracy</td><td>▁▄▅▅▆▆▇▇▇▇██████</td></tr><tr><td>epoch</td><td>▁▁▂▂▃▃▄▄▅▅▆▆▇▇██</td></tr><tr><td>loss</td><td>█▅▄▄▃▂▂▂▂▁▁▁▁▁▁▁</td></tr><tr><td>size-train</td><td>▁</td></tr><tr><td>size-val</td><td>▁</td></tr><tr><td>val_accuracy</td><td>▁▂▂▂▁▇▅█▂▂▄▇▃▂▅▃</td></tr><tr><td>val_loss</td><td>▇▇▅▆█▁▄▁▆▇▆▄▅█▄▆</td></tr></table><br/></div><div class=\"wandb-col\"><h3>Run summary:</h3><br/><table class=\"wandb\"><tr><td>accuracy</td><td>0.57936</td></tr><tr><td>best_epoch</td><td>5</td></tr><tr><td>best_val_loss</td><td>0.94422</td></tr><tr><td>epoch</td><td>15</td></tr><tr><td>loss</td><td>0.97688</td></tr><tr><td>size-train</td><td>50000</td></tr><tr><td>size-val</td><td>5259</td></tr><tr><td>val_accuracy</td><td>0.61818</td></tr><tr><td>val_loss</td><td>1.10963</td></tr></table><br/></div></div>"
            ]
          },
          "metadata": {}
        },
        {
          "output_type": "display_data",
          "data": {
            "text/plain": [
              "<IPython.core.display.HTML object>"
            ],
            "text/html": [
              " View run <strong style=\"color:#cdcd00\">zany-sweep-33</strong> at: <a href='https://wandb.ai/coffeegang/RNN_preliminary_tests/runs/80j3xdj5' target=\"_blank\">https://wandb.ai/coffeegang/RNN_preliminary_tests/runs/80j3xdj5</a><br/>Synced 5 W&B file(s), 1 media file(s), 0 artifact file(s) and 0 other file(s)"
            ]
          },
          "metadata": {}
        },
        {
          "output_type": "display_data",
          "data": {
            "text/plain": [
              "<IPython.core.display.HTML object>"
            ],
            "text/html": [
              "Find logs at: <code>./wandb/run-20240128_154724-80j3xdj5/logs</code>"
            ]
          },
          "metadata": {}
        },
        {
          "output_type": "stream",
          "name": "stderr",
          "text": [
            "\u001b[34m\u001b[1mwandb\u001b[0m: Agent Starting Run: lzhw0nl8 with config:\n",
            "\u001b[34m\u001b[1mwandb\u001b[0m: \treview_length: 200\n",
            "\u001b[34m\u001b[1mwandb\u001b[0m: \ttraining_set_name: Arts_Crafts_and_Sewing\n",
            "\u001b[34m\u001b[1mwandb\u001b[0m: \tvocab_size: 1000\n"
          ]
        },
        {
          "output_type": "display_data",
          "data": {
            "text/plain": [
              "<IPython.core.display.HTML object>"
            ],
            "text/html": [
              "Tracking run with wandb version 0.16.2"
            ]
          },
          "metadata": {}
        },
        {
          "output_type": "display_data",
          "data": {
            "text/plain": [
              "<IPython.core.display.HTML object>"
            ],
            "text/html": [
              "Run data is saved locally in <code>/content/gdrive/.shortcut-targets-by-id/1osKmyrDLORFSpes1mwrU-W7OXM-to6bK/AML_Exam/Problem2/wandb/run-20240128_155134-lzhw0nl8</code>"
            ]
          },
          "metadata": {}
        },
        {
          "output_type": "display_data",
          "data": {
            "text/plain": [
              "<IPython.core.display.HTML object>"
            ],
            "text/html": [
              "Syncing run <strong><a href='https://wandb.ai/coffeegang/RNN_preliminary_tests/runs/lzhw0nl8' target=\"_blank\">sweepy-sweep-34</a></strong> to <a href='https://wandb.ai/coffeegang/RNN_preliminary_tests' target=\"_blank\">Weights & Biases</a> (<a href='https://wandb.me/run' target=\"_blank\">docs</a>)<br/>Sweep page: <a href='https://wandb.ai/coffeegang/RNN_preliminary_tests/sweeps/rd1v16t6' target=\"_blank\">https://wandb.ai/coffeegang/RNN_preliminary_tests/sweeps/rd1v16t6</a>"
            ]
          },
          "metadata": {}
        },
        {
          "output_type": "display_data",
          "data": {
            "text/plain": [
              "<IPython.core.display.HTML object>"
            ],
            "text/html": [
              " View project at <a href='https://wandb.ai/coffeegang/RNN_preliminary_tests' target=\"_blank\">https://wandb.ai/coffeegang/RNN_preliminary_tests</a>"
            ]
          },
          "metadata": {}
        },
        {
          "output_type": "display_data",
          "data": {
            "text/plain": [
              "<IPython.core.display.HTML object>"
            ],
            "text/html": [
              " View sweep at <a href='https://wandb.ai/coffeegang/RNN_preliminary_tests/sweeps/rd1v16t6' target=\"_blank\">https://wandb.ai/coffeegang/RNN_preliminary_tests/sweeps/rd1v16t6</a>"
            ]
          },
          "metadata": {}
        },
        {
          "output_type": "display_data",
          "data": {
            "text/plain": [
              "<IPython.core.display.HTML object>"
            ],
            "text/html": [
              " View run at <a href='https://wandb.ai/coffeegang/RNN_preliminary_tests/runs/lzhw0nl8' target=\"_blank\">https://wandb.ai/coffeegang/RNN_preliminary_tests/runs/lzhw0nl8</a>"
            ]
          },
          "metadata": {}
        },
        {
          "output_type": "stream",
          "name": "stdout",
          "text": [
            "Epoch 1/50\n",
            "782/782 [==============================] - 33s 38ms/step - loss: 1.2007 - accuracy: 0.4663 - val_loss: 1.1792 - val_accuracy: 0.5541\n",
            "Epoch 2/50\n",
            "782/782 [==============================] - 15s 19ms/step - loss: 1.0800 - accuracy: 0.5276 - val_loss: 0.9621 - val_accuracy: 0.6505\n",
            "Epoch 3/50\n",
            "782/782 [==============================] - 13s 17ms/step - loss: 1.0366 - accuracy: 0.5472 - val_loss: 0.8344 - val_accuracy: 0.7294\n",
            "Epoch 4/50\n",
            "782/782 [==============================] - 13s 17ms/step - loss: 1.0043 - accuracy: 0.5641 - val_loss: 1.0169 - val_accuracy: 0.6461\n",
            "Epoch 5/50\n",
            "782/782 [==============================] - 13s 17ms/step - loss: 0.9777 - accuracy: 0.5802 - val_loss: 1.0638 - val_accuracy: 0.6284\n",
            "Epoch 6/50\n",
            "782/782 [==============================] - 13s 17ms/step - loss: 0.9546 - accuracy: 0.5914 - val_loss: 1.0637 - val_accuracy: 0.6362\n",
            "Epoch 7/50\n",
            "782/782 [==============================] - 13s 17ms/step - loss: 0.9408 - accuracy: 0.5961 - val_loss: 1.1274 - val_accuracy: 0.6243\n",
            "Epoch 8/50\n",
            "782/782 [==============================] - 13s 17ms/step - loss: 0.9226 - accuracy: 0.6073 - val_loss: 0.9708 - val_accuracy: 0.6764\n",
            "Epoch 9/50\n",
            "782/782 [==============================] - 13s 17ms/step - loss: 0.9080 - accuracy: 0.6134 - val_loss: 1.0889 - val_accuracy: 0.6296\n",
            "Epoch 10/50\n",
            "782/782 [==============================] - 13s 17ms/step - loss: 0.8963 - accuracy: 0.6186 - val_loss: 1.0458 - val_accuracy: 0.6440\n",
            "Epoch 11/50\n",
            "782/782 [==============================] - 13s 17ms/step - loss: 0.8951 - accuracy: 0.6205 - val_loss: 1.0643 - val_accuracy: 0.6503\n",
            "Epoch 12/50\n",
            "782/782 [==============================] - 13s 17ms/step - loss: 0.8949 - accuracy: 0.6208 - val_loss: 1.1858 - val_accuracy: 0.5965\n",
            "Epoch 13/50\n",
            "782/782 [==============================] - 13s 16ms/step - loss: 0.8907 - accuracy: 0.6236 - val_loss: 1.1667 - val_accuracy: 0.6277\n",
            "Epoch 14/50\n",
            "782/782 [==============================] - 13s 17ms/step - loss: 0.8848 - accuracy: 0.6278 - val_loss: 1.0595 - val_accuracy: 0.6573\n",
            "Epoch 15/50\n",
            "782/782 [==============================] - 13s 16ms/step - loss: 0.8864 - accuracy: 0.6261 - val_loss: 1.0360 - val_accuracy: 0.6589\n",
            "Epoch 16/50\n",
            "782/782 [==============================] - 13s 16ms/step - loss: 0.8849 - accuracy: 0.6275 - val_loss: 1.0509 - val_accuracy: 0.6463\n",
            "Epoch 17/50\n",
            "782/782 [==============================] - 13s 17ms/step - loss: 0.9001 - accuracy: 0.6186 - val_loss: 1.0452 - val_accuracy: 0.6547\n"
          ]
        },
        {
          "output_type": "display_data",
          "data": {
            "text/plain": [
              "VBox(children=(Label(value='0.003 MB of 0.003 MB uploaded\\r'), FloatProgress(value=1.0, max=1.0)))"
            ],
            "application/vnd.jupyter.widget-view+json": {
              "version_major": 2,
              "version_minor": 0,
              "model_id": "2479a4bc80af4af686485903dce4adce"
            }
          },
          "metadata": {}
        },
        {
          "output_type": "display_data",
          "data": {
            "text/plain": [
              "<IPython.core.display.HTML object>"
            ],
            "text/html": [
              "<style>\n",
              "    table.wandb td:nth-child(1) { padding: 0 10px; text-align: left ; width: auto;} td:nth-child(2) {text-align: left ; width: 100%}\n",
              "    .wandb-row { display: flex; flex-direction: row; flex-wrap: wrap; justify-content: flex-start; width: 100% }\n",
              "    .wandb-col { display: flex; flex-direction: column; flex-basis: 100%; flex: 1; padding: 10px; }\n",
              "    </style>\n",
              "<div class=\"wandb-row\"><div class=\"wandb-col\"><h3>Run history:</h3><br/><table class=\"wandb\"><tr><td>accuracy</td><td>▁▄▅▅▆▆▇▇▇████████</td></tr><tr><td>epoch</td><td>▁▁▂▂▃▃▄▄▅▅▅▆▆▇▇██</td></tr><tr><td>loss</td><td>█▅▄▄▃▃▂▂▂▁▁▁▁▁▁▁▁</td></tr><tr><td>size-train</td><td>▁</td></tr><tr><td>size-val</td><td>▁</td></tr><tr><td>val_accuracy</td><td>▁▅█▅▄▄▄▆▄▅▅▃▄▅▅▅▅</td></tr><tr><td>val_loss</td><td>█▄▁▅▆▆▇▄▆▅▆██▅▅▅▅</td></tr></table><br/></div><div class=\"wandb-col\"><h3>Run summary:</h3><br/><table class=\"wandb\"><tr><td>accuracy</td><td>0.6186</td></tr><tr><td>best_epoch</td><td>2</td></tr><tr><td>best_val_loss</td><td>0.83444</td></tr><tr><td>epoch</td><td>16</td></tr><tr><td>loss</td><td>0.90006</td></tr><tr><td>size-train</td><td>50000</td></tr><tr><td>size-val</td><td>5259</td></tr><tr><td>val_accuracy</td><td>0.65469</td></tr><tr><td>val_loss</td><td>1.04515</td></tr></table><br/></div></div>"
            ]
          },
          "metadata": {}
        },
        {
          "output_type": "display_data",
          "data": {
            "text/plain": [
              "<IPython.core.display.HTML object>"
            ],
            "text/html": [
              " View run <strong style=\"color:#cdcd00\">sweepy-sweep-34</strong> at: <a href='https://wandb.ai/coffeegang/RNN_preliminary_tests/runs/lzhw0nl8' target=\"_blank\">https://wandb.ai/coffeegang/RNN_preliminary_tests/runs/lzhw0nl8</a><br/>Synced 5 W&B file(s), 1 media file(s), 0 artifact file(s) and 0 other file(s)"
            ]
          },
          "metadata": {}
        },
        {
          "output_type": "display_data",
          "data": {
            "text/plain": [
              "<IPython.core.display.HTML object>"
            ],
            "text/html": [
              "Find logs at: <code>./wandb/run-20240128_155134-lzhw0nl8/logs</code>"
            ]
          },
          "metadata": {}
        },
        {
          "output_type": "stream",
          "name": "stderr",
          "text": [
            "\u001b[34m\u001b[1mwandb\u001b[0m: Agent Starting Run: 8a5pbqkp with config:\n",
            "\u001b[34m\u001b[1mwandb\u001b[0m: \treview_length: 200\n",
            "\u001b[34m\u001b[1mwandb\u001b[0m: \ttraining_set_name: Arts_Crafts_and_Sewing\n",
            "\u001b[34m\u001b[1mwandb\u001b[0m: \tvocab_size: 1500\n"
          ]
        },
        {
          "output_type": "display_data",
          "data": {
            "text/plain": [
              "<IPython.core.display.HTML object>"
            ],
            "text/html": [
              "Tracking run with wandb version 0.16.2"
            ]
          },
          "metadata": {}
        },
        {
          "output_type": "display_data",
          "data": {
            "text/plain": [
              "<IPython.core.display.HTML object>"
            ],
            "text/html": [
              "Run data is saved locally in <code>/content/gdrive/.shortcut-targets-by-id/1osKmyrDLORFSpes1mwrU-W7OXM-to6bK/AML_Exam/Problem2/wandb/run-20240128_155600-8a5pbqkp</code>"
            ]
          },
          "metadata": {}
        },
        {
          "output_type": "display_data",
          "data": {
            "text/plain": [
              "<IPython.core.display.HTML object>"
            ],
            "text/html": [
              "Syncing run <strong><a href='https://wandb.ai/coffeegang/RNN_preliminary_tests/runs/8a5pbqkp' target=\"_blank\">rural-sweep-35</a></strong> to <a href='https://wandb.ai/coffeegang/RNN_preliminary_tests' target=\"_blank\">Weights & Biases</a> (<a href='https://wandb.me/run' target=\"_blank\">docs</a>)<br/>Sweep page: <a href='https://wandb.ai/coffeegang/RNN_preliminary_tests/sweeps/rd1v16t6' target=\"_blank\">https://wandb.ai/coffeegang/RNN_preliminary_tests/sweeps/rd1v16t6</a>"
            ]
          },
          "metadata": {}
        },
        {
          "output_type": "display_data",
          "data": {
            "text/plain": [
              "<IPython.core.display.HTML object>"
            ],
            "text/html": [
              " View project at <a href='https://wandb.ai/coffeegang/RNN_preliminary_tests' target=\"_blank\">https://wandb.ai/coffeegang/RNN_preliminary_tests</a>"
            ]
          },
          "metadata": {}
        },
        {
          "output_type": "display_data",
          "data": {
            "text/plain": [
              "<IPython.core.display.HTML object>"
            ],
            "text/html": [
              " View sweep at <a href='https://wandb.ai/coffeegang/RNN_preliminary_tests/sweeps/rd1v16t6' target=\"_blank\">https://wandb.ai/coffeegang/RNN_preliminary_tests/sweeps/rd1v16t6</a>"
            ]
          },
          "metadata": {}
        },
        {
          "output_type": "display_data",
          "data": {
            "text/plain": [
              "<IPython.core.display.HTML object>"
            ],
            "text/html": [
              " View run at <a href='https://wandb.ai/coffeegang/RNN_preliminary_tests/runs/8a5pbqkp' target=\"_blank\">https://wandb.ai/coffeegang/RNN_preliminary_tests/runs/8a5pbqkp</a>"
            ]
          },
          "metadata": {}
        },
        {
          "output_type": "stream",
          "name": "stdout",
          "text": [
            "Epoch 1/50\n",
            "782/782 [==============================] - 35s 41ms/step - loss: 1.1937 - accuracy: 0.4720 - val_loss: 0.8687 - val_accuracy: 0.6695\n",
            "Epoch 2/50\n",
            "782/782 [==============================] - 16s 21ms/step - loss: 1.0666 - accuracy: 0.5319 - val_loss: 1.0163 - val_accuracy: 0.6271\n",
            "Epoch 3/50\n",
            "782/782 [==============================] - 14s 18ms/step - loss: 1.0149 - accuracy: 0.5601 - val_loss: 0.9022 - val_accuracy: 0.6940\n",
            "Epoch 4/50\n",
            "782/782 [==============================] - 14s 18ms/step - loss: 0.9748 - accuracy: 0.5804 - val_loss: 0.9278 - val_accuracy: 0.6764\n",
            "Epoch 5/50\n",
            "782/782 [==============================] - 13s 17ms/step - loss: 0.9482 - accuracy: 0.5914 - val_loss: 1.0168 - val_accuracy: 0.6693\n",
            "Epoch 6/50\n",
            "782/782 [==============================] - 13s 17ms/step - loss: 0.9216 - accuracy: 0.6067 - val_loss: 0.9482 - val_accuracy: 0.6815\n",
            "Epoch 7/50\n",
            "782/782 [==============================] - 13s 17ms/step - loss: 0.9010 - accuracy: 0.6150 - val_loss: 1.1494 - val_accuracy: 0.6011\n",
            "Epoch 8/50\n",
            "782/782 [==============================] - 13s 17ms/step - loss: 0.8850 - accuracy: 0.6268 - val_loss: 1.1498 - val_accuracy: 0.5834\n",
            "Epoch 9/50\n",
            "782/782 [==============================] - 13s 17ms/step - loss: 0.8687 - accuracy: 0.6311 - val_loss: 0.9713 - val_accuracy: 0.6634\n",
            "Epoch 10/50\n",
            "782/782 [==============================] - 13s 17ms/step - loss: 0.8529 - accuracy: 0.6416 - val_loss: 1.2088 - val_accuracy: 0.6011\n",
            "Epoch 11/50\n",
            "782/782 [==============================] - 13s 17ms/step - loss: 0.8513 - accuracy: 0.6411 - val_loss: 1.1121 - val_accuracy: 0.6262\n",
            "Epoch 12/50\n",
            "782/782 [==============================] - 13s 17ms/step - loss: 0.8440 - accuracy: 0.6466 - val_loss: 1.1739 - val_accuracy: 0.6161\n",
            "Epoch 13/50\n",
            "782/782 [==============================] - 13s 17ms/step - loss: 0.8250 - accuracy: 0.6524 - val_loss: 1.1366 - val_accuracy: 0.6267\n",
            "Epoch 14/50\n",
            "782/782 [==============================] - 13s 17ms/step - loss: 0.8354 - accuracy: 0.6494 - val_loss: 1.2055 - val_accuracy: 0.6281\n",
            "Epoch 15/50\n",
            "782/782 [==============================] - 13s 17ms/step - loss: 0.8317 - accuracy: 0.6540 - val_loss: 1.1500 - val_accuracy: 0.6389\n",
            "Epoch 16/50\n",
            "782/782 [==============================] - 13s 17ms/step - loss: 0.8295 - accuracy: 0.6525 - val_loss: 1.0938 - val_accuracy: 0.6372\n",
            "Epoch 17/50\n",
            "782/782 [==============================] - 13s 17ms/step - loss: 0.8277 - accuracy: 0.6544 - val_loss: 1.1768 - val_accuracy: 0.6159\n",
            "Epoch 18/50\n",
            "782/782 [==============================] - 13s 16ms/step - loss: 0.8268 - accuracy: 0.6550 - val_loss: 1.1278 - val_accuracy: 0.6319\n",
            "Epoch 19/50\n",
            "782/782 [==============================] - 13s 17ms/step - loss: 0.8139 - accuracy: 0.6612 - val_loss: 1.1539 - val_accuracy: 0.6321\n",
            "Epoch 20/50\n",
            "782/782 [==============================] - 13s 17ms/step - loss: 0.8244 - accuracy: 0.6557 - val_loss: 1.2385 - val_accuracy: 0.6091\n",
            "Epoch 21/50\n",
            "782/782 [==============================] - 13s 17ms/step - loss: 0.8243 - accuracy: 0.6564 - val_loss: 1.1890 - val_accuracy: 0.6189\n",
            "Epoch 22/50\n",
            "782/782 [==============================] - 13s 17ms/step - loss: 0.8268 - accuracy: 0.6550 - val_loss: 1.1233 - val_accuracy: 0.6233\n"
          ]
        },
        {
          "output_type": "display_data",
          "data": {
            "text/plain": [
              "VBox(children=(Label(value='0.003 MB of 0.003 MB uploaded\\r'), FloatProgress(value=1.0, max=1.0)))"
            ],
            "application/vnd.jupyter.widget-view+json": {
              "version_major": 2,
              "version_minor": 0,
              "model_id": "6c1674c2523d4921b6ac1ad249b0853e"
            }
          },
          "metadata": {}
        },
        {
          "output_type": "display_data",
          "data": {
            "text/plain": [
              "<IPython.core.display.HTML object>"
            ],
            "text/html": [
              "<style>\n",
              "    table.wandb td:nth-child(1) { padding: 0 10px; text-align: left ; width: auto;} td:nth-child(2) {text-align: left ; width: 100%}\n",
              "    .wandb-row { display: flex; flex-direction: row; flex-wrap: wrap; justify-content: flex-start; width: 100% }\n",
              "    .wandb-col { display: flex; flex-direction: column; flex-basis: 100%; flex: 1; padding: 10px; }\n",
              "    </style>\n",
              "<div class=\"wandb-row\"><div class=\"wandb-col\"><h3>Run history:</h3><br/><table class=\"wandb\"><tr><td>accuracy</td><td>▁▃▄▅▅▆▆▇▇▇▇▇██████████</td></tr><tr><td>epoch</td><td>▁▁▂▂▂▃▃▃▄▄▄▅▅▅▆▆▆▇▇▇██</td></tr><tr><td>loss</td><td>█▆▅▄▃▃▃▂▂▂▂▂▁▁▁▁▁▁▁▁▁▁</td></tr><tr><td>size-train</td><td>▁</td></tr><tr><td>size-val</td><td>▁</td></tr><tr><td>val_accuracy</td><td>▆▄█▇▆▇▂▁▆▂▄▃▄▄▅▄▃▄▄▃▃▄</td></tr><tr><td>val_loss</td><td>▁▄▂▂▄▃▆▆▃▇▆▇▆▇▆▅▇▆▆█▇▆</td></tr></table><br/></div><div class=\"wandb-col\"><h3>Run summary:</h3><br/><table class=\"wandb\"><tr><td>accuracy</td><td>0.65504</td></tr><tr><td>best_epoch</td><td>0</td></tr><tr><td>best_val_loss</td><td>0.86874</td></tr><tr><td>epoch</td><td>21</td></tr><tr><td>loss</td><td>0.82681</td></tr><tr><td>size-train</td><td>50000</td></tr><tr><td>size-val</td><td>5259</td></tr><tr><td>val_accuracy</td><td>0.62331</td></tr><tr><td>val_loss</td><td>1.12326</td></tr></table><br/></div></div>"
            ]
          },
          "metadata": {}
        },
        {
          "output_type": "display_data",
          "data": {
            "text/plain": [
              "<IPython.core.display.HTML object>"
            ],
            "text/html": [
              " View run <strong style=\"color:#cdcd00\">rural-sweep-35</strong> at: <a href='https://wandb.ai/coffeegang/RNN_preliminary_tests/runs/8a5pbqkp' target=\"_blank\">https://wandb.ai/coffeegang/RNN_preliminary_tests/runs/8a5pbqkp</a><br/>Synced 5 W&B file(s), 1 media file(s), 0 artifact file(s) and 0 other file(s)"
            ]
          },
          "metadata": {}
        },
        {
          "output_type": "display_data",
          "data": {
            "text/plain": [
              "<IPython.core.display.HTML object>"
            ],
            "text/html": [
              "Find logs at: <code>./wandb/run-20240128_155600-8a5pbqkp/logs</code>"
            ]
          },
          "metadata": {}
        },
        {
          "output_type": "stream",
          "name": "stderr",
          "text": [
            "\u001b[34m\u001b[1mwandb\u001b[0m: Agent Starting Run: a8brwl81 with config:\n",
            "\u001b[34m\u001b[1mwandb\u001b[0m: \treview_length: 200\n",
            "\u001b[34m\u001b[1mwandb\u001b[0m: \ttraining_set_name: Arts_Crafts_and_Sewing\n",
            "\u001b[34m\u001b[1mwandb\u001b[0m: \tvocab_size: 2000\n"
          ]
        },
        {
          "output_type": "display_data",
          "data": {
            "text/plain": [
              "<IPython.core.display.HTML object>"
            ],
            "text/html": [
              "Tracking run with wandb version 0.16.2"
            ]
          },
          "metadata": {}
        },
        {
          "output_type": "display_data",
          "data": {
            "text/plain": [
              "<IPython.core.display.HTML object>"
            ],
            "text/html": [
              "Run data is saved locally in <code>/content/gdrive/.shortcut-targets-by-id/1osKmyrDLORFSpes1mwrU-W7OXM-to6bK/AML_Exam/Problem2/wandb/run-20240128_160142-a8brwl81</code>"
            ]
          },
          "metadata": {}
        },
        {
          "output_type": "display_data",
          "data": {
            "text/plain": [
              "<IPython.core.display.HTML object>"
            ],
            "text/html": [
              "Syncing run <strong><a href='https://wandb.ai/coffeegang/RNN_preliminary_tests/runs/a8brwl81' target=\"_blank\">fragrant-sweep-36</a></strong> to <a href='https://wandb.ai/coffeegang/RNN_preliminary_tests' target=\"_blank\">Weights & Biases</a> (<a href='https://wandb.me/run' target=\"_blank\">docs</a>)<br/>Sweep page: <a href='https://wandb.ai/coffeegang/RNN_preliminary_tests/sweeps/rd1v16t6' target=\"_blank\">https://wandb.ai/coffeegang/RNN_preliminary_tests/sweeps/rd1v16t6</a>"
            ]
          },
          "metadata": {}
        },
        {
          "output_type": "display_data",
          "data": {
            "text/plain": [
              "<IPython.core.display.HTML object>"
            ],
            "text/html": [
              " View project at <a href='https://wandb.ai/coffeegang/RNN_preliminary_tests' target=\"_blank\">https://wandb.ai/coffeegang/RNN_preliminary_tests</a>"
            ]
          },
          "metadata": {}
        },
        {
          "output_type": "display_data",
          "data": {
            "text/plain": [
              "<IPython.core.display.HTML object>"
            ],
            "text/html": [
              " View sweep at <a href='https://wandb.ai/coffeegang/RNN_preliminary_tests/sweeps/rd1v16t6' target=\"_blank\">https://wandb.ai/coffeegang/RNN_preliminary_tests/sweeps/rd1v16t6</a>"
            ]
          },
          "metadata": {}
        },
        {
          "output_type": "display_data",
          "data": {
            "text/plain": [
              "<IPython.core.display.HTML object>"
            ],
            "text/html": [
              " View run at <a href='https://wandb.ai/coffeegang/RNN_preliminary_tests/runs/a8brwl81' target=\"_blank\">https://wandb.ai/coffeegang/RNN_preliminary_tests/runs/a8brwl81</a>"
            ]
          },
          "metadata": {}
        },
        {
          "output_type": "stream",
          "name": "stdout",
          "text": [
            "Epoch 1/50\n",
            "782/782 [==============================] - 38s 45ms/step - loss: 1.1843 - accuracy: 0.4731 - val_loss: 1.1257 - val_accuracy: 0.6269\n",
            "Epoch 2/50\n",
            "782/782 [==============================] - 16s 20ms/step - loss: 1.0538 - accuracy: 0.5368 - val_loss: 0.9015 - val_accuracy: 0.6996\n",
            "Epoch 3/50\n",
            "782/782 [==============================] - 15s 19ms/step - loss: 0.9976 - accuracy: 0.5680 - val_loss: 0.9706 - val_accuracy: 0.6845\n",
            "Epoch 4/50\n",
            "782/782 [==============================] - 14s 18ms/step - loss: 0.9538 - accuracy: 0.5895 - val_loss: 1.0471 - val_accuracy: 0.6560\n",
            "Epoch 5/50\n",
            "782/782 [==============================] - 13s 17ms/step - loss: 0.9187 - accuracy: 0.6076 - val_loss: 0.9978 - val_accuracy: 0.6629\n",
            "Epoch 6/50\n",
            "782/782 [==============================] - 13s 17ms/step - loss: 0.8908 - accuracy: 0.6207 - val_loss: 0.9335 - val_accuracy: 0.6925\n",
            "Epoch 7/50\n",
            "782/782 [==============================] - 13s 17ms/step - loss: 0.8655 - accuracy: 0.6329 - val_loss: 1.0637 - val_accuracy: 0.6743\n",
            "Epoch 8/50\n",
            "782/782 [==============================] - 13s 17ms/step - loss: 0.8382 - accuracy: 0.6470 - val_loss: 1.0626 - val_accuracy: 0.6701\n",
            "Epoch 9/50\n",
            "782/782 [==============================] - 13s 16ms/step - loss: 0.8229 - accuracy: 0.6558 - val_loss: 1.0907 - val_accuracy: 0.6712\n",
            "Epoch 10/50\n",
            "782/782 [==============================] - 14s 18ms/step - loss: 0.8102 - accuracy: 0.6595 - val_loss: 1.1548 - val_accuracy: 0.6220\n",
            "Epoch 11/50\n",
            "782/782 [==============================] - 13s 17ms/step - loss: 0.7983 - accuracy: 0.6669 - val_loss: 1.1934 - val_accuracy: 0.6477\n",
            "Epoch 12/50\n",
            "782/782 [==============================] - 13s 17ms/step - loss: 0.7915 - accuracy: 0.6727 - val_loss: 1.0434 - val_accuracy: 0.6813\n",
            "Epoch 13/50\n",
            "782/782 [==============================] - 13s 17ms/step - loss: 0.7902 - accuracy: 0.6723 - val_loss: 1.1044 - val_accuracy: 0.6528\n",
            "Epoch 14/50\n",
            "782/782 [==============================] - 13s 17ms/step - loss: 0.7791 - accuracy: 0.6771 - val_loss: 1.2934 - val_accuracy: 0.6092\n",
            "Epoch 15/50\n",
            "782/782 [==============================] - 13s 16ms/step - loss: 0.7786 - accuracy: 0.6787 - val_loss: 1.2476 - val_accuracy: 0.6448\n",
            "Epoch 16/50\n",
            "782/782 [==============================] - 13s 17ms/step - loss: 0.7725 - accuracy: 0.6795 - val_loss: 1.2724 - val_accuracy: 0.5910\n",
            "Epoch 17/50\n",
            "782/782 [==============================] - 13s 17ms/step - loss: 0.7770 - accuracy: 0.6784 - val_loss: 1.1841 - val_accuracy: 0.6300\n",
            "Epoch 18/50\n",
            "782/782 [==============================] - 13s 16ms/step - loss: 0.7756 - accuracy: 0.6770 - val_loss: 1.2309 - val_accuracy: 0.6077\n",
            "Epoch 19/50\n",
            "782/782 [==============================] - 13s 17ms/step - loss: 0.7750 - accuracy: 0.6780 - val_loss: 1.3098 - val_accuracy: 0.6132\n"
          ]
        },
        {
          "output_type": "display_data",
          "data": {
            "text/plain": [
              "VBox(children=(Label(value='0.015 MB of 0.015 MB uploaded\\r'), FloatProgress(value=1.0, max=1.0)))"
            ],
            "application/vnd.jupyter.widget-view+json": {
              "version_major": 2,
              "version_minor": 0,
              "model_id": "59d4939c37d1412dac4dc05e85ea019a"
            }
          },
          "metadata": {}
        },
        {
          "output_type": "display_data",
          "data": {
            "text/plain": [
              "<IPython.core.display.HTML object>"
            ],
            "text/html": [
              "<style>\n",
              "    table.wandb td:nth-child(1) { padding: 0 10px; text-align: left ; width: auto;} td:nth-child(2) {text-align: left ; width: 100%}\n",
              "    .wandb-row { display: flex; flex-direction: row; flex-wrap: wrap; justify-content: flex-start; width: 100% }\n",
              "    .wandb-col { display: flex; flex-direction: column; flex-basis: 100%; flex: 1; padding: 10px; }\n",
              "    </style>\n",
              "<div class=\"wandb-row\"><div class=\"wandb-col\"><h3>Run history:</h3><br/><table class=\"wandb\"><tr><td>accuracy</td><td>▁▃▄▅▆▆▆▇▇▇█████████</td></tr><tr><td>epoch</td><td>▁▁▂▂▃▃▃▄▄▅▅▅▆▆▆▇▇██</td></tr><tr><td>loss</td><td>█▆▅▄▃▃▃▂▂▂▁▁▁▁▁▁▁▁▁</td></tr><tr><td>size-train</td><td>▁</td></tr><tr><td>size-val</td><td>▁</td></tr><tr><td>val_accuracy</td><td>▃█▇▅▆█▆▆▆▃▅▇▅▂▄▁▄▂▂</td></tr><tr><td>val_loss</td><td>▅▁▂▃▃▂▄▄▄▅▆▃▄█▇▇▆▇█</td></tr></table><br/></div><div class=\"wandb-col\"><h3>Run summary:</h3><br/><table class=\"wandb\"><tr><td>accuracy</td><td>0.67802</td></tr><tr><td>best_epoch</td><td>1</td></tr><tr><td>best_val_loss</td><td>0.90149</td></tr><tr><td>epoch</td><td>18</td></tr><tr><td>loss</td><td>0.77503</td></tr><tr><td>size-train</td><td>50000</td></tr><tr><td>size-val</td><td>5259</td></tr><tr><td>val_accuracy</td><td>0.61323</td></tr><tr><td>val_loss</td><td>1.30978</td></tr></table><br/></div></div>"
            ]
          },
          "metadata": {}
        },
        {
          "output_type": "display_data",
          "data": {
            "text/plain": [
              "<IPython.core.display.HTML object>"
            ],
            "text/html": [
              " View run <strong style=\"color:#cdcd00\">fragrant-sweep-36</strong> at: <a href='https://wandb.ai/coffeegang/RNN_preliminary_tests/runs/a8brwl81' target=\"_blank\">https://wandb.ai/coffeegang/RNN_preliminary_tests/runs/a8brwl81</a><br/>Synced 5 W&B file(s), 1 media file(s), 0 artifact file(s) and 0 other file(s)"
            ]
          },
          "metadata": {}
        },
        {
          "output_type": "display_data",
          "data": {
            "text/plain": [
              "<IPython.core.display.HTML object>"
            ],
            "text/html": [
              "Find logs at: <code>./wandb/run-20240128_160142-a8brwl81/logs</code>"
            ]
          },
          "metadata": {}
        },
        {
          "output_type": "stream",
          "name": "stderr",
          "text": [
            "\u001b[34m\u001b[1mwandb\u001b[0m: Agent Starting Run: m5j8eof6 with config:\n",
            "\u001b[34m\u001b[1mwandb\u001b[0m: \treview_length: 200\n",
            "\u001b[34m\u001b[1mwandb\u001b[0m: \ttraining_set_name: Prime_Pantry\n",
            "\u001b[34m\u001b[1mwandb\u001b[0m: \tvocab_size: 500\n"
          ]
        },
        {
          "output_type": "display_data",
          "data": {
            "text/plain": [
              "<IPython.core.display.HTML object>"
            ],
            "text/html": [
              "Tracking run with wandb version 0.16.2"
            ]
          },
          "metadata": {}
        },
        {
          "output_type": "display_data",
          "data": {
            "text/plain": [
              "<IPython.core.display.HTML object>"
            ],
            "text/html": [
              "Run data is saved locally in <code>/content/gdrive/.shortcut-targets-by-id/1osKmyrDLORFSpes1mwrU-W7OXM-to6bK/AML_Exam/Problem2/wandb/run-20240128_160646-m5j8eof6</code>"
            ]
          },
          "metadata": {}
        },
        {
          "output_type": "display_data",
          "data": {
            "text/plain": [
              "<IPython.core.display.HTML object>"
            ],
            "text/html": [
              "Syncing run <strong><a href='https://wandb.ai/coffeegang/RNN_preliminary_tests/runs/m5j8eof6' target=\"_blank\">major-sweep-37</a></strong> to <a href='https://wandb.ai/coffeegang/RNN_preliminary_tests' target=\"_blank\">Weights & Biases</a> (<a href='https://wandb.me/run' target=\"_blank\">docs</a>)<br/>Sweep page: <a href='https://wandb.ai/coffeegang/RNN_preliminary_tests/sweeps/rd1v16t6' target=\"_blank\">https://wandb.ai/coffeegang/RNN_preliminary_tests/sweeps/rd1v16t6</a>"
            ]
          },
          "metadata": {}
        },
        {
          "output_type": "display_data",
          "data": {
            "text/plain": [
              "<IPython.core.display.HTML object>"
            ],
            "text/html": [
              " View project at <a href='https://wandb.ai/coffeegang/RNN_preliminary_tests' target=\"_blank\">https://wandb.ai/coffeegang/RNN_preliminary_tests</a>"
            ]
          },
          "metadata": {}
        },
        {
          "output_type": "display_data",
          "data": {
            "text/plain": [
              "<IPython.core.display.HTML object>"
            ],
            "text/html": [
              " View sweep at <a href='https://wandb.ai/coffeegang/RNN_preliminary_tests/sweeps/rd1v16t6' target=\"_blank\">https://wandb.ai/coffeegang/RNN_preliminary_tests/sweeps/rd1v16t6</a>"
            ]
          },
          "metadata": {}
        },
        {
          "output_type": "display_data",
          "data": {
            "text/plain": [
              "<IPython.core.display.HTML object>"
            ],
            "text/html": [
              " View run at <a href='https://wandb.ai/coffeegang/RNN_preliminary_tests/runs/m5j8eof6' target=\"_blank\">https://wandb.ai/coffeegang/RNN_preliminary_tests/runs/m5j8eof6</a>"
            ]
          },
          "metadata": {}
        },
        {
          "output_type": "stream",
          "name": "stdout",
          "text": [
            "Epoch 1/50\n",
            "556/556 [==============================] - 24s 36ms/step - loss: 1.2177 - accuracy: 0.4673 - val_loss: 0.8530 - val_accuracy: 0.7184\n",
            "Epoch 2/50\n",
            "556/556 [==============================] - 11s 19ms/step - loss: 1.1142 - accuracy: 0.5170 - val_loss: 0.8111 - val_accuracy: 0.7114\n",
            "Epoch 3/50\n",
            "556/556 [==============================] - 11s 19ms/step - loss: 1.0775 - accuracy: 0.5305 - val_loss: 0.7848 - val_accuracy: 0.7060\n",
            "Epoch 4/50\n",
            "556/556 [==============================] - 10s 17ms/step - loss: 1.0446 - accuracy: 0.5432 - val_loss: 0.8402 - val_accuracy: 0.7102\n",
            "Epoch 5/50\n",
            "556/556 [==============================] - 10s 17ms/step - loss: 1.0199 - accuracy: 0.5562 - val_loss: 0.8350 - val_accuracy: 0.6895\n",
            "Epoch 6/50\n",
            "556/556 [==============================] - 10s 18ms/step - loss: 0.9998 - accuracy: 0.5691 - val_loss: 0.8606 - val_accuracy: 0.6773\n",
            "Epoch 7/50\n",
            "556/556 [==============================] - 9s 17ms/step - loss: 0.9758 - accuracy: 0.5802 - val_loss: 0.8080 - val_accuracy: 0.6967\n",
            "Epoch 8/50\n",
            "556/556 [==============================] - 9s 17ms/step - loss: 0.9569 - accuracy: 0.5840 - val_loss: 0.8587 - val_accuracy: 0.6735\n",
            "Epoch 9/50\n",
            "556/556 [==============================] - 10s 17ms/step - loss: 0.9427 - accuracy: 0.5936 - val_loss: 0.9850 - val_accuracy: 0.6176\n",
            "Epoch 10/50\n",
            "556/556 [==============================] - 10s 17ms/step - loss: 0.9270 - accuracy: 0.6009 - val_loss: 0.8871 - val_accuracy: 0.6560\n",
            "Epoch 11/50\n",
            "556/556 [==============================] - 9s 17ms/step - loss: 0.9116 - accuracy: 0.6090 - val_loss: 0.9764 - val_accuracy: 0.6362\n",
            "Epoch 12/50\n",
            "556/556 [==============================] - 9s 17ms/step - loss: 0.9076 - accuracy: 0.6095 - val_loss: 0.9791 - val_accuracy: 0.6165\n",
            "Epoch 13/50\n",
            "556/556 [==============================] - 10s 17ms/step - loss: 0.9019 - accuracy: 0.6128 - val_loss: 0.9601 - val_accuracy: 0.6380\n",
            "Epoch 14/50\n",
            "556/556 [==============================] - 9s 17ms/step - loss: 0.8903 - accuracy: 0.6204 - val_loss: 0.9713 - val_accuracy: 0.6490\n",
            "Epoch 15/50\n",
            "556/556 [==============================] - 9s 17ms/step - loss: 0.8885 - accuracy: 0.6210 - val_loss: 1.0381 - val_accuracy: 0.5836\n",
            "Epoch 16/50\n",
            "556/556 [==============================] - 9s 17ms/step - loss: 0.8819 - accuracy: 0.6255 - val_loss: 1.0306 - val_accuracy: 0.6134\n",
            "Epoch 17/50\n",
            "556/556 [==============================] - 9s 17ms/step - loss: 0.8829 - accuracy: 0.6248 - val_loss: 0.9253 - val_accuracy: 0.6579\n",
            "Epoch 18/50\n",
            "556/556 [==============================] - 9s 17ms/step - loss: 0.8837 - accuracy: 0.6221 - val_loss: 1.0487 - val_accuracy: 0.6092\n",
            "Epoch 19/50\n",
            "556/556 [==============================] - 9s 17ms/step - loss: 0.8814 - accuracy: 0.6225 - val_loss: 1.1510 - val_accuracy: 0.6330\n"
          ]
        },
        {
          "output_type": "display_data",
          "data": {
            "text/plain": [
              "VBox(children=(Label(value='0.003 MB of 0.003 MB uploaded\\r'), FloatProgress(value=1.0, max=1.0)))"
            ],
            "application/vnd.jupyter.widget-view+json": {
              "version_major": 2,
              "version_minor": 0,
              "model_id": "0e87a398258241188435827c3166c7eb"
            }
          },
          "metadata": {}
        },
        {
          "output_type": "display_data",
          "data": {
            "text/plain": [
              "<IPython.core.display.HTML object>"
            ],
            "text/html": [
              "<style>\n",
              "    table.wandb td:nth-child(1) { padding: 0 10px; text-align: left ; width: auto;} td:nth-child(2) {text-align: left ; width: 100%}\n",
              "    .wandb-row { display: flex; flex-direction: row; flex-wrap: wrap; justify-content: flex-start; width: 100% }\n",
              "    .wandb-col { display: flex; flex-direction: column; flex-basis: 100%; flex: 1; padding: 10px; }\n",
              "    </style>\n",
              "<div class=\"wandb-row\"><div class=\"wandb-col\"><h3>Run history:</h3><br/><table class=\"wandb\"><tr><td>accuracy</td><td>▁▃▄▄▅▆▆▆▇▇▇▇▇██████</td></tr><tr><td>epoch</td><td>▁▁▂▂▃▃▃▄▄▅▅▅▆▆▆▇▇██</td></tr><tr><td>loss</td><td>█▆▅▄▄▃▃▃▂▂▂▂▁▁▁▁▁▁▁</td></tr><tr><td>size-train</td><td>▁</td></tr><tr><td>size-val</td><td>▁</td></tr><tr><td>val_accuracy</td><td>██▇█▆▆▇▆▃▅▄▃▄▄▁▃▅▂▄</td></tr><tr><td>val_loss</td><td>▂▂▁▂▂▂▁▂▅▃▅▅▄▅▆▆▄▆█</td></tr></table><br/></div><div class=\"wandb-col\"><h3>Run summary:</h3><br/><table class=\"wandb\"><tr><td>accuracy</td><td>0.62253</td></tr><tr><td>best_epoch</td><td>2</td></tr><tr><td>best_val_loss</td><td>0.78476</td></tr><tr><td>epoch</td><td>18</td></tr><tr><td>loss</td><td>0.88135</td></tr><tr><td>size-train</td><td>35521</td></tr><tr><td>size-val</td><td>5259</td></tr><tr><td>val_accuracy</td><td>0.63301</td></tr><tr><td>val_loss</td><td>1.15095</td></tr></table><br/></div></div>"
            ]
          },
          "metadata": {}
        },
        {
          "output_type": "display_data",
          "data": {
            "text/plain": [
              "<IPython.core.display.HTML object>"
            ],
            "text/html": [
              " View run <strong style=\"color:#cdcd00\">major-sweep-37</strong> at: <a href='https://wandb.ai/coffeegang/RNN_preliminary_tests/runs/m5j8eof6' target=\"_blank\">https://wandb.ai/coffeegang/RNN_preliminary_tests/runs/m5j8eof6</a><br/>Synced 5 W&B file(s), 1 media file(s), 0 artifact file(s) and 0 other file(s)"
            ]
          },
          "metadata": {}
        },
        {
          "output_type": "display_data",
          "data": {
            "text/plain": [
              "<IPython.core.display.HTML object>"
            ],
            "text/html": [
              "Find logs at: <code>./wandb/run-20240128_160646-m5j8eof6/logs</code>"
            ]
          },
          "metadata": {}
        },
        {
          "output_type": "stream",
          "name": "stderr",
          "text": [
            "\u001b[34m\u001b[1mwandb\u001b[0m: Agent Starting Run: rym14h0q with config:\n",
            "\u001b[34m\u001b[1mwandb\u001b[0m: \treview_length: 200\n",
            "\u001b[34m\u001b[1mwandb\u001b[0m: \ttraining_set_name: Prime_Pantry\n",
            "\u001b[34m\u001b[1mwandb\u001b[0m: \tvocab_size: 1000\n"
          ]
        },
        {
          "output_type": "display_data",
          "data": {
            "text/plain": [
              "<IPython.core.display.HTML object>"
            ],
            "text/html": [
              "Tracking run with wandb version 0.16.2"
            ]
          },
          "metadata": {}
        },
        {
          "output_type": "display_data",
          "data": {
            "text/plain": [
              "<IPython.core.display.HTML object>"
            ],
            "text/html": [
              "Run data is saved locally in <code>/content/gdrive/.shortcut-targets-by-id/1osKmyrDLORFSpes1mwrU-W7OXM-to6bK/AML_Exam/Problem2/wandb/run-20240128_161022-rym14h0q</code>"
            ]
          },
          "metadata": {}
        },
        {
          "output_type": "display_data",
          "data": {
            "text/plain": [
              "<IPython.core.display.HTML object>"
            ],
            "text/html": [
              "Syncing run <strong><a href='https://wandb.ai/coffeegang/RNN_preliminary_tests/runs/rym14h0q' target=\"_blank\">sparkling-sweep-38</a></strong> to <a href='https://wandb.ai/coffeegang/RNN_preliminary_tests' target=\"_blank\">Weights & Biases</a> (<a href='https://wandb.me/run' target=\"_blank\">docs</a>)<br/>Sweep page: <a href='https://wandb.ai/coffeegang/RNN_preliminary_tests/sweeps/rd1v16t6' target=\"_blank\">https://wandb.ai/coffeegang/RNN_preliminary_tests/sweeps/rd1v16t6</a>"
            ]
          },
          "metadata": {}
        },
        {
          "output_type": "display_data",
          "data": {
            "text/plain": [
              "<IPython.core.display.HTML object>"
            ],
            "text/html": [
              " View project at <a href='https://wandb.ai/coffeegang/RNN_preliminary_tests' target=\"_blank\">https://wandb.ai/coffeegang/RNN_preliminary_tests</a>"
            ]
          },
          "metadata": {}
        },
        {
          "output_type": "display_data",
          "data": {
            "text/plain": [
              "<IPython.core.display.HTML object>"
            ],
            "text/html": [
              " View sweep at <a href='https://wandb.ai/coffeegang/RNN_preliminary_tests/sweeps/rd1v16t6' target=\"_blank\">https://wandb.ai/coffeegang/RNN_preliminary_tests/sweeps/rd1v16t6</a>"
            ]
          },
          "metadata": {}
        },
        {
          "output_type": "display_data",
          "data": {
            "text/plain": [
              "<IPython.core.display.HTML object>"
            ],
            "text/html": [
              " View run at <a href='https://wandb.ai/coffeegang/RNN_preliminary_tests/runs/rym14h0q' target=\"_blank\">https://wandb.ai/coffeegang/RNN_preliminary_tests/runs/rym14h0q</a>"
            ]
          },
          "metadata": {}
        },
        {
          "output_type": "stream",
          "name": "stdout",
          "text": [
            "Epoch 1/50\n",
            "556/556 [==============================] - 29s 46ms/step - loss: 1.1730 - accuracy: 0.4875 - val_loss: 0.9125 - val_accuracy: 0.6385\n",
            "Epoch 2/50\n",
            "556/556 [==============================] - 12s 22ms/step - loss: 1.0576 - accuracy: 0.5420 - val_loss: 0.8177 - val_accuracy: 0.6830\n",
            "Epoch 3/50\n",
            "556/556 [==============================] - 10s 18ms/step - loss: 1.0074 - accuracy: 0.5640 - val_loss: 0.8682 - val_accuracy: 0.6842\n",
            "Epoch 4/50\n",
            "556/556 [==============================] - 10s 19ms/step - loss: 0.9768 - accuracy: 0.5801 - val_loss: 0.7865 - val_accuracy: 0.7199\n",
            "Epoch 5/50\n",
            "556/556 [==============================] - 10s 19ms/step - loss: 0.9395 - accuracy: 0.5957 - val_loss: 0.8930 - val_accuracy: 0.6859\n",
            "Epoch 6/50\n",
            "556/556 [==============================] - 10s 19ms/step - loss: 0.9118 - accuracy: 0.6077 - val_loss: 0.8837 - val_accuracy: 0.6482\n",
            "Epoch 7/50\n",
            "556/556 [==============================] - 9s 17ms/step - loss: 0.9040 - accuracy: 0.6125 - val_loss: 0.8368 - val_accuracy: 0.6783\n",
            "Epoch 8/50\n",
            "556/556 [==============================] - 10s 18ms/step - loss: 0.8658 - accuracy: 0.6301 - val_loss: 0.8668 - val_accuracy: 0.6613\n",
            "Epoch 9/50\n",
            "556/556 [==============================] - 10s 17ms/step - loss: 0.8558 - accuracy: 0.6342 - val_loss: 0.9876 - val_accuracy: 0.5995\n",
            "Epoch 10/50\n",
            "556/556 [==============================] - 9s 17ms/step - loss: 0.8334 - accuracy: 0.6466 - val_loss: 0.9360 - val_accuracy: 0.6404\n",
            "Epoch 11/50\n",
            "556/556 [==============================] - 9s 17ms/step - loss: 0.8130 - accuracy: 0.6572 - val_loss: 0.9345 - val_accuracy: 0.6570\n",
            "Epoch 12/50\n",
            "556/556 [==============================] - 9s 16ms/step - loss: 0.8030 - accuracy: 0.6604 - val_loss: 0.9461 - val_accuracy: 0.6547\n",
            "Epoch 13/50\n",
            "556/556 [==============================] - 9s 17ms/step - loss: 0.8043 - accuracy: 0.6608 - val_loss: 1.0252 - val_accuracy: 0.6155\n",
            "Epoch 14/50\n",
            "556/556 [==============================] - 9s 17ms/step - loss: 0.7909 - accuracy: 0.6689 - val_loss: 0.9869 - val_accuracy: 0.6596\n",
            "Epoch 15/50\n",
            "556/556 [==============================] - 9s 17ms/step - loss: 0.7805 - accuracy: 0.6741 - val_loss: 0.9929 - val_accuracy: 0.6412\n",
            "Epoch 16/50\n",
            "556/556 [==============================] - 9s 17ms/step - loss: 0.7834 - accuracy: 0.6693 - val_loss: 1.1478 - val_accuracy: 0.5910\n",
            "Epoch 17/50\n",
            "556/556 [==============================] - 9s 17ms/step - loss: 0.7847 - accuracy: 0.6692 - val_loss: 1.0430 - val_accuracy: 0.6338\n",
            "Epoch 18/50\n",
            "556/556 [==============================] - 9s 17ms/step - loss: 0.7722 - accuracy: 0.6742 - val_loss: 1.1107 - val_accuracy: 0.5975\n",
            "Epoch 19/50\n",
            "556/556 [==============================] - 10s 17ms/step - loss: 0.7646 - accuracy: 0.6796 - val_loss: 0.9616 - val_accuracy: 0.6425\n",
            "Epoch 20/50\n",
            "556/556 [==============================] - 10s 17ms/step - loss: 0.7736 - accuracy: 0.6745 - val_loss: 1.0257 - val_accuracy: 0.6516\n",
            "Epoch 21/50\n",
            "556/556 [==============================] - 9s 17ms/step - loss: 0.7559 - accuracy: 0.6797 - val_loss: 1.0656 - val_accuracy: 0.6467\n",
            "Epoch 22/50\n",
            "556/556 [==============================] - 9s 17ms/step - loss: 0.7625 - accuracy: 0.6792 - val_loss: 1.0267 - val_accuracy: 0.6484\n",
            "Epoch 23/50\n",
            "556/556 [==============================] - 9s 17ms/step - loss: 0.7727 - accuracy: 0.6770 - val_loss: 1.1099 - val_accuracy: 0.6387\n",
            "Epoch 24/50\n",
            "556/556 [==============================] - 9s 17ms/step - loss: 0.7800 - accuracy: 0.6763 - val_loss: 1.0401 - val_accuracy: 0.6233\n"
          ]
        },
        {
          "output_type": "display_data",
          "data": {
            "text/plain": [
              "VBox(children=(Label(value='0.003 MB of 0.016 MB uploaded\\r'), FloatProgress(value=0.17246497269057232, max=1.…"
            ],
            "application/vnd.jupyter.widget-view+json": {
              "version_major": 2,
              "version_minor": 0,
              "model_id": "8c16b7e1919c4c8d8162f0c8ed680314"
            }
          },
          "metadata": {}
        },
        {
          "output_type": "display_data",
          "data": {
            "text/plain": [
              "<IPython.core.display.HTML object>"
            ],
            "text/html": [
              "<style>\n",
              "    table.wandb td:nth-child(1) { padding: 0 10px; text-align: left ; width: auto;} td:nth-child(2) {text-align: left ; width: 100%}\n",
              "    .wandb-row { display: flex; flex-direction: row; flex-wrap: wrap; justify-content: flex-start; width: 100% }\n",
              "    .wandb-col { display: flex; flex-direction: column; flex-basis: 100%; flex: 1; padding: 10px; }\n",
              "    </style>\n",
              "<div class=\"wandb-row\"><div class=\"wandb-col\"><h3>Run history:</h3><br/><table class=\"wandb\"><tr><td>accuracy</td><td>▁▃▄▄▅▅▆▆▆▇▇▇▇███████████</td></tr><tr><td>epoch</td><td>▁▁▂▂▂▃▃▃▃▄▄▄▅▅▅▆▆▆▆▇▇▇██</td></tr><tr><td>loss</td><td>█▆▅▅▄▄▃▃▃▂▂▂▂▂▁▁▁▁▁▁▁▁▁▁</td></tr><tr><td>size-train</td><td>▁</td></tr><tr><td>size-val</td><td>▁</td></tr><tr><td>val_accuracy</td><td>▄▆▆█▆▄▆▅▁▄▅▄▂▅▄▁▃▁▄▄▄▄▄▃</td></tr><tr><td>val_loss</td><td>▃▂▃▁▃▃▂▃▅▄▄▄▆▅▅█▆▇▄▆▆▆▇▆</td></tr></table><br/></div><div class=\"wandb-col\"><h3>Run summary:</h3><br/><table class=\"wandb\"><tr><td>accuracy</td><td>0.67633</td></tr><tr><td>best_epoch</td><td>3</td></tr><tr><td>best_val_loss</td><td>0.78647</td></tr><tr><td>epoch</td><td>23</td></tr><tr><td>loss</td><td>0.77997</td></tr><tr><td>size-train</td><td>35521</td></tr><tr><td>size-val</td><td>5259</td></tr><tr><td>val_accuracy</td><td>0.62331</td></tr><tr><td>val_loss</td><td>1.04014</td></tr></table><br/></div></div>"
            ]
          },
          "metadata": {}
        },
        {
          "output_type": "display_data",
          "data": {
            "text/plain": [
              "<IPython.core.display.HTML object>"
            ],
            "text/html": [
              " View run <strong style=\"color:#cdcd00\">sparkling-sweep-38</strong> at: <a href='https://wandb.ai/coffeegang/RNN_preliminary_tests/runs/rym14h0q' target=\"_blank\">https://wandb.ai/coffeegang/RNN_preliminary_tests/runs/rym14h0q</a><br/>Synced 5 W&B file(s), 1 media file(s), 0 artifact file(s) and 0 other file(s)"
            ]
          },
          "metadata": {}
        },
        {
          "output_type": "display_data",
          "data": {
            "text/plain": [
              "<IPython.core.display.HTML object>"
            ],
            "text/html": [
              "Find logs at: <code>./wandb/run-20240128_161022-rym14h0q/logs</code>"
            ]
          },
          "metadata": {}
        },
        {
          "output_type": "stream",
          "name": "stderr",
          "text": [
            "\u001b[34m\u001b[1mwandb\u001b[0m: Agent Starting Run: 3ju9plhy with config:\n",
            "\u001b[34m\u001b[1mwandb\u001b[0m: \treview_length: 200\n",
            "\u001b[34m\u001b[1mwandb\u001b[0m: \ttraining_set_name: Prime_Pantry\n",
            "\u001b[34m\u001b[1mwandb\u001b[0m: \tvocab_size: 1500\n"
          ]
        },
        {
          "output_type": "display_data",
          "data": {
            "text/plain": [
              "<IPython.core.display.HTML object>"
            ],
            "text/html": [
              "Tracking run with wandb version 0.16.2"
            ]
          },
          "metadata": {}
        },
        {
          "output_type": "display_data",
          "data": {
            "text/plain": [
              "<IPython.core.display.HTML object>"
            ],
            "text/html": [
              "Run data is saved locally in <code>/content/gdrive/.shortcut-targets-by-id/1osKmyrDLORFSpes1mwrU-W7OXM-to6bK/AML_Exam/Problem2/wandb/run-20240128_161452-3ju9plhy</code>"
            ]
          },
          "metadata": {}
        },
        {
          "output_type": "display_data",
          "data": {
            "text/plain": [
              "<IPython.core.display.HTML object>"
            ],
            "text/html": [
              "Syncing run <strong><a href='https://wandb.ai/coffeegang/RNN_preliminary_tests/runs/3ju9plhy' target=\"_blank\">amber-sweep-39</a></strong> to <a href='https://wandb.ai/coffeegang/RNN_preliminary_tests' target=\"_blank\">Weights & Biases</a> (<a href='https://wandb.me/run' target=\"_blank\">docs</a>)<br/>Sweep page: <a href='https://wandb.ai/coffeegang/RNN_preliminary_tests/sweeps/rd1v16t6' target=\"_blank\">https://wandb.ai/coffeegang/RNN_preliminary_tests/sweeps/rd1v16t6</a>"
            ]
          },
          "metadata": {}
        },
        {
          "output_type": "display_data",
          "data": {
            "text/plain": [
              "<IPython.core.display.HTML object>"
            ],
            "text/html": [
              " View project at <a href='https://wandb.ai/coffeegang/RNN_preliminary_tests' target=\"_blank\">https://wandb.ai/coffeegang/RNN_preliminary_tests</a>"
            ]
          },
          "metadata": {}
        },
        {
          "output_type": "display_data",
          "data": {
            "text/plain": [
              "<IPython.core.display.HTML object>"
            ],
            "text/html": [
              " View sweep at <a href='https://wandb.ai/coffeegang/RNN_preliminary_tests/sweeps/rd1v16t6' target=\"_blank\">https://wandb.ai/coffeegang/RNN_preliminary_tests/sweeps/rd1v16t6</a>"
            ]
          },
          "metadata": {}
        },
        {
          "output_type": "display_data",
          "data": {
            "text/plain": [
              "<IPython.core.display.HTML object>"
            ],
            "text/html": [
              " View run at <a href='https://wandb.ai/coffeegang/RNN_preliminary_tests/runs/3ju9plhy' target=\"_blank\">https://wandb.ai/coffeegang/RNN_preliminary_tests/runs/3ju9plhy</a>"
            ]
          },
          "metadata": {}
        },
        {
          "output_type": "stream",
          "name": "stdout",
          "text": [
            "Epoch 1/50\n",
            "556/556 [==============================] - 31s 50ms/step - loss: 1.1713 - accuracy: 0.4861 - val_loss: 0.7523 - val_accuracy: 0.7576\n",
            "Epoch 2/50\n",
            "556/556 [==============================] - 13s 23ms/step - loss: 1.0462 - accuracy: 0.5454 - val_loss: 0.7630 - val_accuracy: 0.6998\n",
            "Epoch 3/50\n",
            "556/556 [==============================] - 11s 20ms/step - loss: 0.9960 - accuracy: 0.5689 - val_loss: 0.7213 - val_accuracy: 0.7536\n",
            "Epoch 4/50\n",
            "556/556 [==============================] - 11s 20ms/step - loss: 0.9520 - accuracy: 0.5903 - val_loss: 0.9782 - val_accuracy: 0.6091\n",
            "Epoch 5/50\n",
            "556/556 [==============================] - 10s 18ms/step - loss: 0.9087 - accuracy: 0.6099 - val_loss: 0.8465 - val_accuracy: 0.6697\n",
            "Epoch 6/50\n",
            "556/556 [==============================] - 10s 18ms/step - loss: 0.8715 - accuracy: 0.6273 - val_loss: 0.9683 - val_accuracy: 0.6722\n",
            "Epoch 7/50\n",
            "556/556 [==============================] - 10s 18ms/step - loss: 0.8385 - accuracy: 0.6449 - val_loss: 0.8143 - val_accuracy: 0.7150\n",
            "Epoch 8/50\n",
            "556/556 [==============================] - 9s 17ms/step - loss: 0.8152 - accuracy: 0.6554 - val_loss: 0.9343 - val_accuracy: 0.6515\n",
            "Epoch 9/50\n",
            "556/556 [==============================] - 10s 17ms/step - loss: 0.7826 - accuracy: 0.6693 - val_loss: 0.9558 - val_accuracy: 0.6710\n",
            "Epoch 10/50\n",
            "556/556 [==============================] - 10s 18ms/step - loss: 0.7740 - accuracy: 0.6725 - val_loss: 1.1082 - val_accuracy: 0.6060\n",
            "Epoch 11/50\n",
            "556/556 [==============================] - 9s 17ms/step - loss: 0.7524 - accuracy: 0.6869 - val_loss: 0.9617 - val_accuracy: 0.6739\n",
            "Epoch 12/50\n",
            "556/556 [==============================] - 9s 17ms/step - loss: 0.7340 - accuracy: 0.6941 - val_loss: 1.1802 - val_accuracy: 0.5956\n",
            "Epoch 13/50\n",
            "556/556 [==============================] - 10s 17ms/step - loss: 0.7105 - accuracy: 0.7042 - val_loss: 1.1459 - val_accuracy: 0.5957\n",
            "Epoch 14/50\n",
            "556/556 [==============================] - 9s 17ms/step - loss: 0.7069 - accuracy: 0.7065 - val_loss: 1.1187 - val_accuracy: 0.6189\n",
            "Epoch 15/50\n",
            "556/556 [==============================] - 9s 17ms/step - loss: 0.6929 - accuracy: 0.7128 - val_loss: 1.1734 - val_accuracy: 0.6303\n",
            "Epoch 16/50\n",
            "556/556 [==============================] - 10s 18ms/step - loss: 0.6842 - accuracy: 0.7172 - val_loss: 1.0654 - val_accuracy: 0.6606\n",
            "Epoch 17/50\n",
            "556/556 [==============================] - 9s 17ms/step - loss: 0.6870 - accuracy: 0.7163 - val_loss: 1.1633 - val_accuracy: 0.6049\n",
            "Epoch 18/50\n",
            "556/556 [==============================] - 10s 17ms/step - loss: 0.6831 - accuracy: 0.7175 - val_loss: 1.2015 - val_accuracy: 0.6279\n",
            "Epoch 19/50\n",
            "556/556 [==============================] - 10s 17ms/step - loss: 0.6765 - accuracy: 0.7204 - val_loss: 1.1649 - val_accuracy: 0.6659\n",
            "Epoch 20/50\n",
            "556/556 [==============================] - 10s 17ms/step - loss: 0.6575 - accuracy: 0.7276 - val_loss: 1.3966 - val_accuracy: 0.5819\n",
            "Epoch 21/50\n",
            "556/556 [==============================] - 10s 17ms/step - loss: 0.6581 - accuracy: 0.7269 - val_loss: 1.2067 - val_accuracy: 0.6094\n",
            "Epoch 22/50\n",
            "556/556 [==============================] - 9s 17ms/step - loss: 0.6670 - accuracy: 0.7243 - val_loss: 1.1636 - val_accuracy: 0.6370\n",
            "Epoch 23/50\n",
            "556/556 [==============================] - 9s 17ms/step - loss: 0.6521 - accuracy: 0.7297 - val_loss: 1.2014 - val_accuracy: 0.6410\n",
            "Epoch 24/50\n",
            "556/556 [==============================] - 9s 17ms/step - loss: 0.6547 - accuracy: 0.7301 - val_loss: 1.2928 - val_accuracy: 0.6026\n",
            "Epoch 25/50\n",
            "556/556 [==============================] - 9s 17ms/step - loss: 0.6657 - accuracy: 0.7222 - val_loss: 1.2630 - val_accuracy: 0.6039\n",
            "Epoch 26/50\n",
            "556/556 [==============================] - 9s 17ms/step - loss: 0.6509 - accuracy: 0.7336 - val_loss: 1.2444 - val_accuracy: 0.6389\n",
            "Epoch 27/50\n",
            "556/556 [==============================] - 9s 17ms/step - loss: 0.6636 - accuracy: 0.7279 - val_loss: 1.2567 - val_accuracy: 0.6296\n",
            "Epoch 28/50\n",
            "556/556 [==============================] - 9s 17ms/step - loss: 0.6717 - accuracy: 0.7252 - val_loss: 1.3264 - val_accuracy: 0.6254\n",
            "Epoch 29/50\n",
            "556/556 [==============================] - 9s 17ms/step - loss: 0.6537 - accuracy: 0.7311 - val_loss: 1.2791 - val_accuracy: 0.6235\n"
          ]
        },
        {
          "output_type": "display_data",
          "data": {
            "text/plain": [
              "VBox(children=(Label(value='0.003 MB of 0.003 MB uploaded\\r'), FloatProgress(value=1.0, max=1.0)))"
            ],
            "application/vnd.jupyter.widget-view+json": {
              "version_major": 2,
              "version_minor": 0,
              "model_id": "093cf10bb95343aca2de1dac915ab66b"
            }
          },
          "metadata": {}
        },
        {
          "output_type": "display_data",
          "data": {
            "text/plain": [
              "<IPython.core.display.HTML object>"
            ],
            "text/html": [
              "<style>\n",
              "    table.wandb td:nth-child(1) { padding: 0 10px; text-align: left ; width: auto;} td:nth-child(2) {text-align: left ; width: 100%}\n",
              "    .wandb-row { display: flex; flex-direction: row; flex-wrap: wrap; justify-content: flex-start; width: 100% }\n",
              "    .wandb-col { display: flex; flex-direction: column; flex-basis: 100%; flex: 1; padding: 10px; }\n",
              "    </style>\n",
              "<div class=\"wandb-row\"><div class=\"wandb-col\"><h3>Run history:</h3><br/><table class=\"wandb\"><tr><td>accuracy</td><td>▁▃▃▄▄▅▅▆▆▆▇▇▇▇▇██████████████</td></tr><tr><td>epoch</td><td>▁▁▁▂▂▂▃▃▃▃▃▄▄▄▅▅▅▅▅▆▆▆▇▇▇▇▇██</td></tr><tr><td>loss</td><td>█▆▆▅▄▄▄▃▃▃▂▂▂▂▂▁▁▁▁▁▁▁▁▁▁▁▁▁▁</td></tr><tr><td>size-train</td><td>▁</td></tr><tr><td>size-val</td><td>▁</td></tr><tr><td>val_accuracy</td><td>█▆█▂▅▅▆▄▅▂▅▂▂▂▃▄▂▃▄▁▂▃▃▂▂▃▃▃▃</td></tr><tr><td>val_loss</td><td>▁▁▁▄▂▄▂▃▃▅▃▆▅▅▆▅▆▆▆█▆▆▆▇▇▆▇▇▇</td></tr></table><br/></div><div class=\"wandb-col\"><h3>Run summary:</h3><br/><table class=\"wandb\"><tr><td>accuracy</td><td>0.73106</td></tr><tr><td>best_epoch</td><td>2</td></tr><tr><td>best_val_loss</td><td>0.72125</td></tr><tr><td>epoch</td><td>28</td></tr><tr><td>loss</td><td>0.65366</td></tr><tr><td>size-train</td><td>35521</td></tr><tr><td>size-val</td><td>5259</td></tr><tr><td>val_accuracy</td><td>0.6235</td></tr><tr><td>val_loss</td><td>1.2791</td></tr></table><br/></div></div>"
            ]
          },
          "metadata": {}
        },
        {
          "output_type": "display_data",
          "data": {
            "text/plain": [
              "<IPython.core.display.HTML object>"
            ],
            "text/html": [
              " View run <strong style=\"color:#cdcd00\">amber-sweep-39</strong> at: <a href='https://wandb.ai/coffeegang/RNN_preliminary_tests/runs/3ju9plhy' target=\"_blank\">https://wandb.ai/coffeegang/RNN_preliminary_tests/runs/3ju9plhy</a><br/>Synced 5 W&B file(s), 1 media file(s), 0 artifact file(s) and 0 other file(s)"
            ]
          },
          "metadata": {}
        },
        {
          "output_type": "display_data",
          "data": {
            "text/plain": [
              "<IPython.core.display.HTML object>"
            ],
            "text/html": [
              "Find logs at: <code>./wandb/run-20240128_161452-3ju9plhy/logs</code>"
            ]
          },
          "metadata": {}
        },
        {
          "output_type": "stream",
          "name": "stderr",
          "text": [
            "\u001b[34m\u001b[1mwandb\u001b[0m: Agent Starting Run: andkuxs3 with config:\n",
            "\u001b[34m\u001b[1mwandb\u001b[0m: \treview_length: 200\n",
            "\u001b[34m\u001b[1mwandb\u001b[0m: \ttraining_set_name: Prime_Pantry\n",
            "\u001b[34m\u001b[1mwandb\u001b[0m: \tvocab_size: 2000\n"
          ]
        },
        {
          "output_type": "display_data",
          "data": {
            "text/plain": [
              "VBox(children=(Label(value='Waiting for wandb.init()...\\r'), FloatProgress(value=0.011112462388902915, max=1.0…"
            ],
            "application/vnd.jupyter.widget-view+json": {
              "version_major": 2,
              "version_minor": 0,
              "model_id": "d82117f460c340a69fad8d209baacb5b"
            }
          },
          "metadata": {}
        },
        {
          "output_type": "display_data",
          "data": {
            "text/plain": [
              "<IPython.core.display.HTML object>"
            ],
            "text/html": [
              "Tracking run with wandb version 0.16.2"
            ]
          },
          "metadata": {}
        },
        {
          "output_type": "display_data",
          "data": {
            "text/plain": [
              "<IPython.core.display.HTML object>"
            ],
            "text/html": [
              "Run data is saved locally in <code>/content/gdrive/.shortcut-targets-by-id/1osKmyrDLORFSpes1mwrU-W7OXM-to6bK/AML_Exam/Problem2/wandb/run-20240128_162023-andkuxs3</code>"
            ]
          },
          "metadata": {}
        },
        {
          "output_type": "display_data",
          "data": {
            "text/plain": [
              "<IPython.core.display.HTML object>"
            ],
            "text/html": [
              "Syncing run <strong><a href='https://wandb.ai/coffeegang/RNN_preliminary_tests/runs/andkuxs3' target=\"_blank\">icy-sweep-40</a></strong> to <a href='https://wandb.ai/coffeegang/RNN_preliminary_tests' target=\"_blank\">Weights & Biases</a> (<a href='https://wandb.me/run' target=\"_blank\">docs</a>)<br/>Sweep page: <a href='https://wandb.ai/coffeegang/RNN_preliminary_tests/sweeps/rd1v16t6' target=\"_blank\">https://wandb.ai/coffeegang/RNN_preliminary_tests/sweeps/rd1v16t6</a>"
            ]
          },
          "metadata": {}
        },
        {
          "output_type": "display_data",
          "data": {
            "text/plain": [
              "<IPython.core.display.HTML object>"
            ],
            "text/html": [
              " View project at <a href='https://wandb.ai/coffeegang/RNN_preliminary_tests' target=\"_blank\">https://wandb.ai/coffeegang/RNN_preliminary_tests</a>"
            ]
          },
          "metadata": {}
        },
        {
          "output_type": "display_data",
          "data": {
            "text/plain": [
              "<IPython.core.display.HTML object>"
            ],
            "text/html": [
              " View sweep at <a href='https://wandb.ai/coffeegang/RNN_preliminary_tests/sweeps/rd1v16t6' target=\"_blank\">https://wandb.ai/coffeegang/RNN_preliminary_tests/sweeps/rd1v16t6</a>"
            ]
          },
          "metadata": {}
        },
        {
          "output_type": "display_data",
          "data": {
            "text/plain": [
              "<IPython.core.display.HTML object>"
            ],
            "text/html": [
              " View run at <a href='https://wandb.ai/coffeegang/RNN_preliminary_tests/runs/andkuxs3' target=\"_blank\">https://wandb.ai/coffeegang/RNN_preliminary_tests/runs/andkuxs3</a>"
            ]
          },
          "metadata": {}
        },
        {
          "output_type": "stream",
          "name": "stdout",
          "text": [
            "Epoch 1/50\n",
            "556/556 [==============================] - 33s 53ms/step - loss: 1.1665 - accuracy: 0.4898 - val_loss: 0.9088 - val_accuracy: 0.6887\n",
            "Epoch 2/50\n",
            "556/556 [==============================] - 13s 23ms/step - loss: 1.0341 - accuracy: 0.5499 - val_loss: 0.8397 - val_accuracy: 0.6899\n",
            "Epoch 3/50\n",
            "556/556 [==============================] - 12s 21ms/step - loss: 0.9741 - accuracy: 0.5804 - val_loss: 1.0296 - val_accuracy: 0.6106\n",
            "Epoch 4/50\n",
            "556/556 [==============================] - 11s 19ms/step - loss: 0.9212 - accuracy: 0.6049 - val_loss: 0.9095 - val_accuracy: 0.6524\n",
            "Epoch 5/50\n",
            "556/556 [==============================] - 10s 18ms/step - loss: 0.8761 - accuracy: 0.6237 - val_loss: 1.0190 - val_accuracy: 0.6222\n",
            "Epoch 6/50\n",
            "556/556 [==============================] - 10s 18ms/step - loss: 0.8497 - accuracy: 0.6398 - val_loss: 0.8651 - val_accuracy: 0.6705\n",
            "Epoch 7/50\n",
            "556/556 [==============================] - 10s 18ms/step - loss: 0.8026 - accuracy: 0.6636 - val_loss: 1.0216 - val_accuracy: 0.6222\n",
            "Epoch 8/50\n",
            "556/556 [==============================] - 10s 17ms/step - loss: 0.7680 - accuracy: 0.6770 - val_loss: 0.9820 - val_accuracy: 0.6452\n",
            "Epoch 9/50\n",
            "556/556 [==============================] - 10s 17ms/step - loss: 0.7640 - accuracy: 0.6790 - val_loss: 1.0215 - val_accuracy: 0.6515\n",
            "Epoch 10/50\n",
            "556/556 [==============================] - 10s 17ms/step - loss: 0.7426 - accuracy: 0.6911 - val_loss: 1.0653 - val_accuracy: 0.6117\n",
            "Epoch 11/50\n",
            "556/556 [==============================] - 9s 17ms/step - loss: 0.7068 - accuracy: 0.7091 - val_loss: 1.0977 - val_accuracy: 0.5982\n",
            "Epoch 12/50\n",
            "556/556 [==============================] - 10s 18ms/step - loss: 0.6921 - accuracy: 0.7148 - val_loss: 1.2274 - val_accuracy: 0.5916\n",
            "Epoch 13/50\n",
            "556/556 [==============================] - 10s 18ms/step - loss: 0.6824 - accuracy: 0.7201 - val_loss: 1.1919 - val_accuracy: 0.6001\n",
            "Epoch 14/50\n",
            "556/556 [==============================] - 9s 17ms/step - loss: 0.6950 - accuracy: 0.7142 - val_loss: 1.0874 - val_accuracy: 0.6404\n",
            "Epoch 15/50\n",
            "556/556 [==============================] - 9s 17ms/step - loss: 0.6598 - accuracy: 0.7300 - val_loss: 1.1732 - val_accuracy: 0.6170\n",
            "Epoch 16/50\n",
            "556/556 [==============================] - 10s 17ms/step - loss: 0.6483 - accuracy: 0.7346 - val_loss: 1.2251 - val_accuracy: 0.6018\n",
            "Epoch 17/50\n",
            "556/556 [==============================] - 9s 17ms/step - loss: 0.6428 - accuracy: 0.7364 - val_loss: 1.1354 - val_accuracy: 0.6400\n",
            "Epoch 18/50\n",
            "556/556 [==============================] - 10s 17ms/step - loss: 0.6517 - accuracy: 0.7313 - val_loss: 1.2254 - val_accuracy: 0.6226\n",
            "Epoch 19/50\n",
            "556/556 [==============================] - 9s 17ms/step - loss: 0.6371 - accuracy: 0.7387 - val_loss: 1.2875 - val_accuracy: 0.6087\n",
            "Epoch 20/50\n",
            "556/556 [==============================] - 9s 17ms/step - loss: 0.6227 - accuracy: 0.7458 - val_loss: 1.2498 - val_accuracy: 0.6051\n",
            "Epoch 21/50\n",
            "556/556 [==============================] - 9s 17ms/step - loss: 0.6182 - accuracy: 0.7486 - val_loss: 1.2439 - val_accuracy: 0.6168\n",
            "Epoch 22/50\n",
            "556/556 [==============================] - 9s 17ms/step - loss: 0.6149 - accuracy: 0.7487 - val_loss: 1.2944 - val_accuracy: 0.6102\n",
            "Epoch 23/50\n",
            "556/556 [==============================] - 9s 17ms/step - loss: 0.6317 - accuracy: 0.7411 - val_loss: 1.2950 - val_accuracy: 0.5876\n",
            "Epoch 24/50\n",
            "556/556 [==============================] - 9s 17ms/step - loss: 0.6284 - accuracy: 0.7405 - val_loss: 1.2877 - val_accuracy: 0.6083\n",
            "Epoch 25/50\n",
            "556/556 [==============================] - 9s 17ms/step - loss: 0.6371 - accuracy: 0.7385 - val_loss: 1.2009 - val_accuracy: 0.6260\n"
          ]
        },
        {
          "output_type": "display_data",
          "data": {
            "text/plain": [
              "VBox(children=(Label(value='0.003 MB of 0.003 MB uploaded\\r'), FloatProgress(value=1.0, max=1.0)))"
            ],
            "application/vnd.jupyter.widget-view+json": {
              "version_major": 2,
              "version_minor": 0,
              "model_id": "2f70c27ff1b342e48db66726cb84729c"
            }
          },
          "metadata": {}
        },
        {
          "output_type": "display_data",
          "data": {
            "text/plain": [
              "<IPython.core.display.HTML object>"
            ],
            "text/html": [
              "<style>\n",
              "    table.wandb td:nth-child(1) { padding: 0 10px; text-align: left ; width: auto;} td:nth-child(2) {text-align: left ; width: 100%}\n",
              "    .wandb-row { display: flex; flex-direction: row; flex-wrap: wrap; justify-content: flex-start; width: 100% }\n",
              "    .wandb-col { display: flex; flex-direction: column; flex-basis: 100%; flex: 1; padding: 10px; }\n",
              "    </style>\n",
              "<div class=\"wandb-row\"><div class=\"wandb-col\"><h3>Run history:</h3><br/><table class=\"wandb\"><tr><td>accuracy</td><td>▁▃▃▄▅▅▆▆▆▆▇▇▇▇▇██████████</td></tr><tr><td>epoch</td><td>▁▁▂▂▂▂▃▃▃▄▄▄▅▅▅▅▆▆▆▇▇▇▇██</td></tr><tr><td>loss</td><td>█▆▆▅▄▄▃▃▃▃▂▂▂▂▂▁▁▁▁▁▁▁▁▁▁</td></tr><tr><td>size-train</td><td>▁</td></tr><tr><td>size-val</td><td>▁</td></tr><tr><td>val_accuracy</td><td>██▃▅▃▇▃▅▅▃▂▁▂▅▃▂▅▃▂▂▃▃▁▂▄</td></tr><tr><td>val_loss</td><td>▂▁▄▂▄▁▄▃▄▄▅▇▆▅▆▇▆▇█▇▇███▇</td></tr></table><br/></div><div class=\"wandb-col\"><h3>Run summary:</h3><br/><table class=\"wandb\"><tr><td>accuracy</td><td>0.73852</td></tr><tr><td>best_epoch</td><td>1</td></tr><tr><td>best_val_loss</td><td>0.8397</td></tr><tr><td>epoch</td><td>24</td></tr><tr><td>loss</td><td>0.63714</td></tr><tr><td>size-train</td><td>35521</td></tr><tr><td>size-val</td><td>5259</td></tr><tr><td>val_accuracy</td><td>0.62597</td></tr><tr><td>val_loss</td><td>1.20092</td></tr></table><br/></div></div>"
            ]
          },
          "metadata": {}
        },
        {
          "output_type": "display_data",
          "data": {
            "text/plain": [
              "<IPython.core.display.HTML object>"
            ],
            "text/html": [
              " View run <strong style=\"color:#cdcd00\">icy-sweep-40</strong> at: <a href='https://wandb.ai/coffeegang/RNN_preliminary_tests/runs/andkuxs3' target=\"_blank\">https://wandb.ai/coffeegang/RNN_preliminary_tests/runs/andkuxs3</a><br/>Synced 5 W&B file(s), 1 media file(s), 0 artifact file(s) and 0 other file(s)"
            ]
          },
          "metadata": {}
        },
        {
          "output_type": "display_data",
          "data": {
            "text/plain": [
              "<IPython.core.display.HTML object>"
            ],
            "text/html": [
              "Find logs at: <code>./wandb/run-20240128_162023-andkuxs3/logs</code>"
            ]
          },
          "metadata": {}
        },
        {
          "output_type": "stream",
          "name": "stderr",
          "text": [
            "\u001b[34m\u001b[1mwandb\u001b[0m: Sweep Agent: Waiting for job.\n",
            "\u001b[34m\u001b[1mwandb\u001b[0m: Sweep Agent: Exiting.\n"
          ]
        }
      ]
    }
  ],
  "metadata": {
    "colab": {
      "provenance": [],
      "gpuType": "T4",
      "machine_shape": "hm",
      "include_colab_link": true
    },
    "kernelspec": {
      "display_name": "Python 3",
      "name": "python3"
    },
    "language_info": {
      "name": "python"
    },
    "accelerator": "GPU",
    "widgets": {
      "application/vnd.jupyter.widget-state+json": {
        "13354681e3bd4bbba624c4ea0888769d": {
          "model_module": "@jupyter-widgets/controls",
          "model_name": "VBoxModel",
          "model_module_version": "1.5.0",
          "state": {
            "_dom_classes": [],
            "_model_module": "@jupyter-widgets/controls",
            "_model_module_version": "1.5.0",
            "_model_name": "VBoxModel",
            "_view_count": null,
            "_view_module": "@jupyter-widgets/controls",
            "_view_module_version": "1.5.0",
            "_view_name": "VBoxView",
            "box_style": "",
            "children": [
              "IPY_MODEL_7ca3be93a89845c3872e22bf732aa8bd",
              "IPY_MODEL_0ec92ac5a35d4606950dfcc7a305bef4"
            ],
            "layout": "IPY_MODEL_0d446c1f56ba4f63a6fede374e706332"
          }
        },
        "7ca3be93a89845c3872e22bf732aa8bd": {
          "model_module": "@jupyter-widgets/controls",
          "model_name": "LabelModel",
          "model_module_version": "1.5.0",
          "state": {
            "_dom_classes": [],
            "_model_module": "@jupyter-widgets/controls",
            "_model_module_version": "1.5.0",
            "_model_name": "LabelModel",
            "_view_count": null,
            "_view_module": "@jupyter-widgets/controls",
            "_view_module_version": "1.5.0",
            "_view_name": "LabelView",
            "description": "",
            "description_tooltip": null,
            "layout": "IPY_MODEL_49c73c1a651543f3889e490e75aa26c0",
            "placeholder": "​",
            "style": "IPY_MODEL_3442da96d465402eb8cebd6625fbc2d8",
            "value": "0.016 MB of 0.016 MB uploaded\r"
          }
        },
        "0ec92ac5a35d4606950dfcc7a305bef4": {
          "model_module": "@jupyter-widgets/controls",
          "model_name": "FloatProgressModel",
          "model_module_version": "1.5.0",
          "state": {
            "_dom_classes": [],
            "_model_module": "@jupyter-widgets/controls",
            "_model_module_version": "1.5.0",
            "_model_name": "FloatProgressModel",
            "_view_count": null,
            "_view_module": "@jupyter-widgets/controls",
            "_view_module_version": "1.5.0",
            "_view_name": "ProgressView",
            "bar_style": "",
            "description": "",
            "description_tooltip": null,
            "layout": "IPY_MODEL_d030970bbf5e420894e7918a25206815",
            "max": 1,
            "min": 0,
            "orientation": "horizontal",
            "style": "IPY_MODEL_d761f1c4936a470eb49398a9288e3a10",
            "value": 1
          }
        },
        "0d446c1f56ba4f63a6fede374e706332": {
          "model_module": "@jupyter-widgets/base",
          "model_name": "LayoutModel",
          "model_module_version": "1.2.0",
          "state": {
            "_model_module": "@jupyter-widgets/base",
            "_model_module_version": "1.2.0",
            "_model_name": "LayoutModel",
            "_view_count": null,
            "_view_module": "@jupyter-widgets/base",
            "_view_module_version": "1.2.0",
            "_view_name": "LayoutView",
            "align_content": null,
            "align_items": null,
            "align_self": null,
            "border": null,
            "bottom": null,
            "display": null,
            "flex": null,
            "flex_flow": null,
            "grid_area": null,
            "grid_auto_columns": null,
            "grid_auto_flow": null,
            "grid_auto_rows": null,
            "grid_column": null,
            "grid_gap": null,
            "grid_row": null,
            "grid_template_areas": null,
            "grid_template_columns": null,
            "grid_template_rows": null,
            "height": null,
            "justify_content": null,
            "justify_items": null,
            "left": null,
            "margin": null,
            "max_height": null,
            "max_width": null,
            "min_height": null,
            "min_width": null,
            "object_fit": null,
            "object_position": null,
            "order": null,
            "overflow": null,
            "overflow_x": null,
            "overflow_y": null,
            "padding": null,
            "right": null,
            "top": null,
            "visibility": null,
            "width": null
          }
        },
        "49c73c1a651543f3889e490e75aa26c0": {
          "model_module": "@jupyter-widgets/base",
          "model_name": "LayoutModel",
          "model_module_version": "1.2.0",
          "state": {
            "_model_module": "@jupyter-widgets/base",
            "_model_module_version": "1.2.0",
            "_model_name": "LayoutModel",
            "_view_count": null,
            "_view_module": "@jupyter-widgets/base",
            "_view_module_version": "1.2.0",
            "_view_name": "LayoutView",
            "align_content": null,
            "align_items": null,
            "align_self": null,
            "border": null,
            "bottom": null,
            "display": null,
            "flex": null,
            "flex_flow": null,
            "grid_area": null,
            "grid_auto_columns": null,
            "grid_auto_flow": null,
            "grid_auto_rows": null,
            "grid_column": null,
            "grid_gap": null,
            "grid_row": null,
            "grid_template_areas": null,
            "grid_template_columns": null,
            "grid_template_rows": null,
            "height": null,
            "justify_content": null,
            "justify_items": null,
            "left": null,
            "margin": null,
            "max_height": null,
            "max_width": null,
            "min_height": null,
            "min_width": null,
            "object_fit": null,
            "object_position": null,
            "order": null,
            "overflow": null,
            "overflow_x": null,
            "overflow_y": null,
            "padding": null,
            "right": null,
            "top": null,
            "visibility": null,
            "width": null
          }
        },
        "3442da96d465402eb8cebd6625fbc2d8": {
          "model_module": "@jupyter-widgets/controls",
          "model_name": "DescriptionStyleModel",
          "model_module_version": "1.5.0",
          "state": {
            "_model_module": "@jupyter-widgets/controls",
            "_model_module_version": "1.5.0",
            "_model_name": "DescriptionStyleModel",
            "_view_count": null,
            "_view_module": "@jupyter-widgets/base",
            "_view_module_version": "1.2.0",
            "_view_name": "StyleView",
            "description_width": ""
          }
        },
        "d030970bbf5e420894e7918a25206815": {
          "model_module": "@jupyter-widgets/base",
          "model_name": "LayoutModel",
          "model_module_version": "1.2.0",
          "state": {
            "_model_module": "@jupyter-widgets/base",
            "_model_module_version": "1.2.0",
            "_model_name": "LayoutModel",
            "_view_count": null,
            "_view_module": "@jupyter-widgets/base",
            "_view_module_version": "1.2.0",
            "_view_name": "LayoutView",
            "align_content": null,
            "align_items": null,
            "align_self": null,
            "border": null,
            "bottom": null,
            "display": null,
            "flex": null,
            "flex_flow": null,
            "grid_area": null,
            "grid_auto_columns": null,
            "grid_auto_flow": null,
            "grid_auto_rows": null,
            "grid_column": null,
            "grid_gap": null,
            "grid_row": null,
            "grid_template_areas": null,
            "grid_template_columns": null,
            "grid_template_rows": null,
            "height": null,
            "justify_content": null,
            "justify_items": null,
            "left": null,
            "margin": null,
            "max_height": null,
            "max_width": null,
            "min_height": null,
            "min_width": null,
            "object_fit": null,
            "object_position": null,
            "order": null,
            "overflow": null,
            "overflow_x": null,
            "overflow_y": null,
            "padding": null,
            "right": null,
            "top": null,
            "visibility": null,
            "width": null
          }
        },
        "d761f1c4936a470eb49398a9288e3a10": {
          "model_module": "@jupyter-widgets/controls",
          "model_name": "ProgressStyleModel",
          "model_module_version": "1.5.0",
          "state": {
            "_model_module": "@jupyter-widgets/controls",
            "_model_module_version": "1.5.0",
            "_model_name": "ProgressStyleModel",
            "_view_count": null,
            "_view_module": "@jupyter-widgets/base",
            "_view_module_version": "1.2.0",
            "_view_name": "StyleView",
            "bar_color": null,
            "description_width": ""
          }
        },
        "2a87a13ba3ab48679f57e34a7ca547bb": {
          "model_module": "@jupyter-widgets/controls",
          "model_name": "VBoxModel",
          "model_module_version": "1.5.0",
          "state": {
            "_dom_classes": [],
            "_model_module": "@jupyter-widgets/controls",
            "_model_module_version": "1.5.0",
            "_model_name": "VBoxModel",
            "_view_count": null,
            "_view_module": "@jupyter-widgets/controls",
            "_view_module_version": "1.5.0",
            "_view_name": "VBoxView",
            "box_style": "",
            "children": [
              "IPY_MODEL_135b37e8b6774a408a58ee9e80aec0ca",
              "IPY_MODEL_d3745bdd6e2141e8893f5f9289f97d77"
            ],
            "layout": "IPY_MODEL_8b45d0c9a8af44b69c35cead828c3e6c"
          }
        },
        "135b37e8b6774a408a58ee9e80aec0ca": {
          "model_module": "@jupyter-widgets/controls",
          "model_name": "LabelModel",
          "model_module_version": "1.5.0",
          "state": {
            "_dom_classes": [],
            "_model_module": "@jupyter-widgets/controls",
            "_model_module_version": "1.5.0",
            "_model_name": "LabelModel",
            "_view_count": null,
            "_view_module": "@jupyter-widgets/controls",
            "_view_module_version": "1.5.0",
            "_view_name": "LabelView",
            "description": "",
            "description_tooltip": null,
            "layout": "IPY_MODEL_2d8f787636da4b64a3802f1d9e961973",
            "placeholder": "​",
            "style": "IPY_MODEL_46495e401580424a93b5ad0e98b0cff5",
            "value": "0.016 MB of 0.016 MB uploaded\r"
          }
        },
        "d3745bdd6e2141e8893f5f9289f97d77": {
          "model_module": "@jupyter-widgets/controls",
          "model_name": "FloatProgressModel",
          "model_module_version": "1.5.0",
          "state": {
            "_dom_classes": [],
            "_model_module": "@jupyter-widgets/controls",
            "_model_module_version": "1.5.0",
            "_model_name": "FloatProgressModel",
            "_view_count": null,
            "_view_module": "@jupyter-widgets/controls",
            "_view_module_version": "1.5.0",
            "_view_name": "ProgressView",
            "bar_style": "",
            "description": "",
            "description_tooltip": null,
            "layout": "IPY_MODEL_4c995991d5044af39a514f68b7aea492",
            "max": 1,
            "min": 0,
            "orientation": "horizontal",
            "style": "IPY_MODEL_71aa17e2a429457586e63d88f9362c1d",
            "value": 1
          }
        },
        "8b45d0c9a8af44b69c35cead828c3e6c": {
          "model_module": "@jupyter-widgets/base",
          "model_name": "LayoutModel",
          "model_module_version": "1.2.0",
          "state": {
            "_model_module": "@jupyter-widgets/base",
            "_model_module_version": "1.2.0",
            "_model_name": "LayoutModel",
            "_view_count": null,
            "_view_module": "@jupyter-widgets/base",
            "_view_module_version": "1.2.0",
            "_view_name": "LayoutView",
            "align_content": null,
            "align_items": null,
            "align_self": null,
            "border": null,
            "bottom": null,
            "display": null,
            "flex": null,
            "flex_flow": null,
            "grid_area": null,
            "grid_auto_columns": null,
            "grid_auto_flow": null,
            "grid_auto_rows": null,
            "grid_column": null,
            "grid_gap": null,
            "grid_row": null,
            "grid_template_areas": null,
            "grid_template_columns": null,
            "grid_template_rows": null,
            "height": null,
            "justify_content": null,
            "justify_items": null,
            "left": null,
            "margin": null,
            "max_height": null,
            "max_width": null,
            "min_height": null,
            "min_width": null,
            "object_fit": null,
            "object_position": null,
            "order": null,
            "overflow": null,
            "overflow_x": null,
            "overflow_y": null,
            "padding": null,
            "right": null,
            "top": null,
            "visibility": null,
            "width": null
          }
        },
        "2d8f787636da4b64a3802f1d9e961973": {
          "model_module": "@jupyter-widgets/base",
          "model_name": "LayoutModel",
          "model_module_version": "1.2.0",
          "state": {
            "_model_module": "@jupyter-widgets/base",
            "_model_module_version": "1.2.0",
            "_model_name": "LayoutModel",
            "_view_count": null,
            "_view_module": "@jupyter-widgets/base",
            "_view_module_version": "1.2.0",
            "_view_name": "LayoutView",
            "align_content": null,
            "align_items": null,
            "align_self": null,
            "border": null,
            "bottom": null,
            "display": null,
            "flex": null,
            "flex_flow": null,
            "grid_area": null,
            "grid_auto_columns": null,
            "grid_auto_flow": null,
            "grid_auto_rows": null,
            "grid_column": null,
            "grid_gap": null,
            "grid_row": null,
            "grid_template_areas": null,
            "grid_template_columns": null,
            "grid_template_rows": null,
            "height": null,
            "justify_content": null,
            "justify_items": null,
            "left": null,
            "margin": null,
            "max_height": null,
            "max_width": null,
            "min_height": null,
            "min_width": null,
            "object_fit": null,
            "object_position": null,
            "order": null,
            "overflow": null,
            "overflow_x": null,
            "overflow_y": null,
            "padding": null,
            "right": null,
            "top": null,
            "visibility": null,
            "width": null
          }
        },
        "46495e401580424a93b5ad0e98b0cff5": {
          "model_module": "@jupyter-widgets/controls",
          "model_name": "DescriptionStyleModel",
          "model_module_version": "1.5.0",
          "state": {
            "_model_module": "@jupyter-widgets/controls",
            "_model_module_version": "1.5.0",
            "_model_name": "DescriptionStyleModel",
            "_view_count": null,
            "_view_module": "@jupyter-widgets/base",
            "_view_module_version": "1.2.0",
            "_view_name": "StyleView",
            "description_width": ""
          }
        },
        "4c995991d5044af39a514f68b7aea492": {
          "model_module": "@jupyter-widgets/base",
          "model_name": "LayoutModel",
          "model_module_version": "1.2.0",
          "state": {
            "_model_module": "@jupyter-widgets/base",
            "_model_module_version": "1.2.0",
            "_model_name": "LayoutModel",
            "_view_count": null,
            "_view_module": "@jupyter-widgets/base",
            "_view_module_version": "1.2.0",
            "_view_name": "LayoutView",
            "align_content": null,
            "align_items": null,
            "align_self": null,
            "border": null,
            "bottom": null,
            "display": null,
            "flex": null,
            "flex_flow": null,
            "grid_area": null,
            "grid_auto_columns": null,
            "grid_auto_flow": null,
            "grid_auto_rows": null,
            "grid_column": null,
            "grid_gap": null,
            "grid_row": null,
            "grid_template_areas": null,
            "grid_template_columns": null,
            "grid_template_rows": null,
            "height": null,
            "justify_content": null,
            "justify_items": null,
            "left": null,
            "margin": null,
            "max_height": null,
            "max_width": null,
            "min_height": null,
            "min_width": null,
            "object_fit": null,
            "object_position": null,
            "order": null,
            "overflow": null,
            "overflow_x": null,
            "overflow_y": null,
            "padding": null,
            "right": null,
            "top": null,
            "visibility": null,
            "width": null
          }
        },
        "71aa17e2a429457586e63d88f9362c1d": {
          "model_module": "@jupyter-widgets/controls",
          "model_name": "ProgressStyleModel",
          "model_module_version": "1.5.0",
          "state": {
            "_model_module": "@jupyter-widgets/controls",
            "_model_module_version": "1.5.0",
            "_model_name": "ProgressStyleModel",
            "_view_count": null,
            "_view_module": "@jupyter-widgets/base",
            "_view_module_version": "1.2.0",
            "_view_name": "StyleView",
            "bar_color": null,
            "description_width": ""
          }
        },
        "8e42e073cfa749e7b775ba9a14d4201f": {
          "model_module": "@jupyter-widgets/controls",
          "model_name": "VBoxModel",
          "model_module_version": "1.5.0",
          "state": {
            "_dom_classes": [],
            "_model_module": "@jupyter-widgets/controls",
            "_model_module_version": "1.5.0",
            "_model_name": "VBoxModel",
            "_view_count": null,
            "_view_module": "@jupyter-widgets/controls",
            "_view_module_version": "1.5.0",
            "_view_name": "VBoxView",
            "box_style": "",
            "children": [
              "IPY_MODEL_0ca34bcb3a5c428c861969855c4b103b",
              "IPY_MODEL_2b0f5a4cb24d4dfaa5e6001a8510ccfa"
            ],
            "layout": "IPY_MODEL_9b2d7c97170842218a7afec35dd4922f"
          }
        },
        "0ca34bcb3a5c428c861969855c4b103b": {
          "model_module": "@jupyter-widgets/controls",
          "model_name": "LabelModel",
          "model_module_version": "1.5.0",
          "state": {
            "_dom_classes": [],
            "_model_module": "@jupyter-widgets/controls",
            "_model_module_version": "1.5.0",
            "_model_name": "LabelModel",
            "_view_count": null,
            "_view_module": "@jupyter-widgets/controls",
            "_view_module_version": "1.5.0",
            "_view_name": "LabelView",
            "description": "",
            "description_tooltip": null,
            "layout": "IPY_MODEL_91d7a3d5433e44eba55ab4c445265b67",
            "placeholder": "​",
            "style": "IPY_MODEL_298a5d49246e47dd8920cdaa85b57197",
            "value": "0.016 MB of 0.016 MB uploaded\r"
          }
        },
        "2b0f5a4cb24d4dfaa5e6001a8510ccfa": {
          "model_module": "@jupyter-widgets/controls",
          "model_name": "FloatProgressModel",
          "model_module_version": "1.5.0",
          "state": {
            "_dom_classes": [],
            "_model_module": "@jupyter-widgets/controls",
            "_model_module_version": "1.5.0",
            "_model_name": "FloatProgressModel",
            "_view_count": null,
            "_view_module": "@jupyter-widgets/controls",
            "_view_module_version": "1.5.0",
            "_view_name": "ProgressView",
            "bar_style": "",
            "description": "",
            "description_tooltip": null,
            "layout": "IPY_MODEL_ad9a4907bb8046c6a482ba0f3278c2f2",
            "max": 1,
            "min": 0,
            "orientation": "horizontal",
            "style": "IPY_MODEL_8f9566bde92c48288deb741333a8d8ae",
            "value": 1
          }
        },
        "9b2d7c97170842218a7afec35dd4922f": {
          "model_module": "@jupyter-widgets/base",
          "model_name": "LayoutModel",
          "model_module_version": "1.2.0",
          "state": {
            "_model_module": "@jupyter-widgets/base",
            "_model_module_version": "1.2.0",
            "_model_name": "LayoutModel",
            "_view_count": null,
            "_view_module": "@jupyter-widgets/base",
            "_view_module_version": "1.2.0",
            "_view_name": "LayoutView",
            "align_content": null,
            "align_items": null,
            "align_self": null,
            "border": null,
            "bottom": null,
            "display": null,
            "flex": null,
            "flex_flow": null,
            "grid_area": null,
            "grid_auto_columns": null,
            "grid_auto_flow": null,
            "grid_auto_rows": null,
            "grid_column": null,
            "grid_gap": null,
            "grid_row": null,
            "grid_template_areas": null,
            "grid_template_columns": null,
            "grid_template_rows": null,
            "height": null,
            "justify_content": null,
            "justify_items": null,
            "left": null,
            "margin": null,
            "max_height": null,
            "max_width": null,
            "min_height": null,
            "min_width": null,
            "object_fit": null,
            "object_position": null,
            "order": null,
            "overflow": null,
            "overflow_x": null,
            "overflow_y": null,
            "padding": null,
            "right": null,
            "top": null,
            "visibility": null,
            "width": null
          }
        },
        "91d7a3d5433e44eba55ab4c445265b67": {
          "model_module": "@jupyter-widgets/base",
          "model_name": "LayoutModel",
          "model_module_version": "1.2.0",
          "state": {
            "_model_module": "@jupyter-widgets/base",
            "_model_module_version": "1.2.0",
            "_model_name": "LayoutModel",
            "_view_count": null,
            "_view_module": "@jupyter-widgets/base",
            "_view_module_version": "1.2.0",
            "_view_name": "LayoutView",
            "align_content": null,
            "align_items": null,
            "align_self": null,
            "border": null,
            "bottom": null,
            "display": null,
            "flex": null,
            "flex_flow": null,
            "grid_area": null,
            "grid_auto_columns": null,
            "grid_auto_flow": null,
            "grid_auto_rows": null,
            "grid_column": null,
            "grid_gap": null,
            "grid_row": null,
            "grid_template_areas": null,
            "grid_template_columns": null,
            "grid_template_rows": null,
            "height": null,
            "justify_content": null,
            "justify_items": null,
            "left": null,
            "margin": null,
            "max_height": null,
            "max_width": null,
            "min_height": null,
            "min_width": null,
            "object_fit": null,
            "object_position": null,
            "order": null,
            "overflow": null,
            "overflow_x": null,
            "overflow_y": null,
            "padding": null,
            "right": null,
            "top": null,
            "visibility": null,
            "width": null
          }
        },
        "298a5d49246e47dd8920cdaa85b57197": {
          "model_module": "@jupyter-widgets/controls",
          "model_name": "DescriptionStyleModel",
          "model_module_version": "1.5.0",
          "state": {
            "_model_module": "@jupyter-widgets/controls",
            "_model_module_version": "1.5.0",
            "_model_name": "DescriptionStyleModel",
            "_view_count": null,
            "_view_module": "@jupyter-widgets/base",
            "_view_module_version": "1.2.0",
            "_view_name": "StyleView",
            "description_width": ""
          }
        },
        "ad9a4907bb8046c6a482ba0f3278c2f2": {
          "model_module": "@jupyter-widgets/base",
          "model_name": "LayoutModel",
          "model_module_version": "1.2.0",
          "state": {
            "_model_module": "@jupyter-widgets/base",
            "_model_module_version": "1.2.0",
            "_model_name": "LayoutModel",
            "_view_count": null,
            "_view_module": "@jupyter-widgets/base",
            "_view_module_version": "1.2.0",
            "_view_name": "LayoutView",
            "align_content": null,
            "align_items": null,
            "align_self": null,
            "border": null,
            "bottom": null,
            "display": null,
            "flex": null,
            "flex_flow": null,
            "grid_area": null,
            "grid_auto_columns": null,
            "grid_auto_flow": null,
            "grid_auto_rows": null,
            "grid_column": null,
            "grid_gap": null,
            "grid_row": null,
            "grid_template_areas": null,
            "grid_template_columns": null,
            "grid_template_rows": null,
            "height": null,
            "justify_content": null,
            "justify_items": null,
            "left": null,
            "margin": null,
            "max_height": null,
            "max_width": null,
            "min_height": null,
            "min_width": null,
            "object_fit": null,
            "object_position": null,
            "order": null,
            "overflow": null,
            "overflow_x": null,
            "overflow_y": null,
            "padding": null,
            "right": null,
            "top": null,
            "visibility": null,
            "width": null
          }
        },
        "8f9566bde92c48288deb741333a8d8ae": {
          "model_module": "@jupyter-widgets/controls",
          "model_name": "ProgressStyleModel",
          "model_module_version": "1.5.0",
          "state": {
            "_model_module": "@jupyter-widgets/controls",
            "_model_module_version": "1.5.0",
            "_model_name": "ProgressStyleModel",
            "_view_count": null,
            "_view_module": "@jupyter-widgets/base",
            "_view_module_version": "1.2.0",
            "_view_name": "StyleView",
            "bar_color": null,
            "description_width": ""
          }
        },
        "a161a5653b824ac69cf5686d8e82678d": {
          "model_module": "@jupyter-widgets/controls",
          "model_name": "VBoxModel",
          "model_module_version": "1.5.0",
          "state": {
            "_dom_classes": [],
            "_model_module": "@jupyter-widgets/controls",
            "_model_module_version": "1.5.0",
            "_model_name": "VBoxModel",
            "_view_count": null,
            "_view_module": "@jupyter-widgets/controls",
            "_view_module_version": "1.5.0",
            "_view_name": "VBoxView",
            "box_style": "",
            "children": [
              "IPY_MODEL_75c1f3fe50264ca198961384e4d2f688",
              "IPY_MODEL_ed13ac900d7947a1aa742a2782f4beab"
            ],
            "layout": "IPY_MODEL_f53491db427042ae80ebb2abf708b3c8"
          }
        },
        "75c1f3fe50264ca198961384e4d2f688": {
          "model_module": "@jupyter-widgets/controls",
          "model_name": "LabelModel",
          "model_module_version": "1.5.0",
          "state": {
            "_dom_classes": [],
            "_model_module": "@jupyter-widgets/controls",
            "_model_module_version": "1.5.0",
            "_model_name": "LabelModel",
            "_view_count": null,
            "_view_module": "@jupyter-widgets/controls",
            "_view_module_version": "1.5.0",
            "_view_name": "LabelView",
            "description": "",
            "description_tooltip": null,
            "layout": "IPY_MODEL_d959d7c3b92e41119c936509002c6c8e",
            "placeholder": "​",
            "style": "IPY_MODEL_0792b198f052478698a13159da87f896",
            "value": "0.016 MB of 0.016 MB uploaded\r"
          }
        },
        "ed13ac900d7947a1aa742a2782f4beab": {
          "model_module": "@jupyter-widgets/controls",
          "model_name": "FloatProgressModel",
          "model_module_version": "1.5.0",
          "state": {
            "_dom_classes": [],
            "_model_module": "@jupyter-widgets/controls",
            "_model_module_version": "1.5.0",
            "_model_name": "FloatProgressModel",
            "_view_count": null,
            "_view_module": "@jupyter-widgets/controls",
            "_view_module_version": "1.5.0",
            "_view_name": "ProgressView",
            "bar_style": "",
            "description": "",
            "description_tooltip": null,
            "layout": "IPY_MODEL_d0e7f44933b946158de59c09ee9b701d",
            "max": 1,
            "min": 0,
            "orientation": "horizontal",
            "style": "IPY_MODEL_5bbfa7dceb014638b923fb8e3c7ad12d",
            "value": 1
          }
        },
        "f53491db427042ae80ebb2abf708b3c8": {
          "model_module": "@jupyter-widgets/base",
          "model_name": "LayoutModel",
          "model_module_version": "1.2.0",
          "state": {
            "_model_module": "@jupyter-widgets/base",
            "_model_module_version": "1.2.0",
            "_model_name": "LayoutModel",
            "_view_count": null,
            "_view_module": "@jupyter-widgets/base",
            "_view_module_version": "1.2.0",
            "_view_name": "LayoutView",
            "align_content": null,
            "align_items": null,
            "align_self": null,
            "border": null,
            "bottom": null,
            "display": null,
            "flex": null,
            "flex_flow": null,
            "grid_area": null,
            "grid_auto_columns": null,
            "grid_auto_flow": null,
            "grid_auto_rows": null,
            "grid_column": null,
            "grid_gap": null,
            "grid_row": null,
            "grid_template_areas": null,
            "grid_template_columns": null,
            "grid_template_rows": null,
            "height": null,
            "justify_content": null,
            "justify_items": null,
            "left": null,
            "margin": null,
            "max_height": null,
            "max_width": null,
            "min_height": null,
            "min_width": null,
            "object_fit": null,
            "object_position": null,
            "order": null,
            "overflow": null,
            "overflow_x": null,
            "overflow_y": null,
            "padding": null,
            "right": null,
            "top": null,
            "visibility": null,
            "width": null
          }
        },
        "d959d7c3b92e41119c936509002c6c8e": {
          "model_module": "@jupyter-widgets/base",
          "model_name": "LayoutModel",
          "model_module_version": "1.2.0",
          "state": {
            "_model_module": "@jupyter-widgets/base",
            "_model_module_version": "1.2.0",
            "_model_name": "LayoutModel",
            "_view_count": null,
            "_view_module": "@jupyter-widgets/base",
            "_view_module_version": "1.2.0",
            "_view_name": "LayoutView",
            "align_content": null,
            "align_items": null,
            "align_self": null,
            "border": null,
            "bottom": null,
            "display": null,
            "flex": null,
            "flex_flow": null,
            "grid_area": null,
            "grid_auto_columns": null,
            "grid_auto_flow": null,
            "grid_auto_rows": null,
            "grid_column": null,
            "grid_gap": null,
            "grid_row": null,
            "grid_template_areas": null,
            "grid_template_columns": null,
            "grid_template_rows": null,
            "height": null,
            "justify_content": null,
            "justify_items": null,
            "left": null,
            "margin": null,
            "max_height": null,
            "max_width": null,
            "min_height": null,
            "min_width": null,
            "object_fit": null,
            "object_position": null,
            "order": null,
            "overflow": null,
            "overflow_x": null,
            "overflow_y": null,
            "padding": null,
            "right": null,
            "top": null,
            "visibility": null,
            "width": null
          }
        },
        "0792b198f052478698a13159da87f896": {
          "model_module": "@jupyter-widgets/controls",
          "model_name": "DescriptionStyleModel",
          "model_module_version": "1.5.0",
          "state": {
            "_model_module": "@jupyter-widgets/controls",
            "_model_module_version": "1.5.0",
            "_model_name": "DescriptionStyleModel",
            "_view_count": null,
            "_view_module": "@jupyter-widgets/base",
            "_view_module_version": "1.2.0",
            "_view_name": "StyleView",
            "description_width": ""
          }
        },
        "d0e7f44933b946158de59c09ee9b701d": {
          "model_module": "@jupyter-widgets/base",
          "model_name": "LayoutModel",
          "model_module_version": "1.2.0",
          "state": {
            "_model_module": "@jupyter-widgets/base",
            "_model_module_version": "1.2.0",
            "_model_name": "LayoutModel",
            "_view_count": null,
            "_view_module": "@jupyter-widgets/base",
            "_view_module_version": "1.2.0",
            "_view_name": "LayoutView",
            "align_content": null,
            "align_items": null,
            "align_self": null,
            "border": null,
            "bottom": null,
            "display": null,
            "flex": null,
            "flex_flow": null,
            "grid_area": null,
            "grid_auto_columns": null,
            "grid_auto_flow": null,
            "grid_auto_rows": null,
            "grid_column": null,
            "grid_gap": null,
            "grid_row": null,
            "grid_template_areas": null,
            "grid_template_columns": null,
            "grid_template_rows": null,
            "height": null,
            "justify_content": null,
            "justify_items": null,
            "left": null,
            "margin": null,
            "max_height": null,
            "max_width": null,
            "min_height": null,
            "min_width": null,
            "object_fit": null,
            "object_position": null,
            "order": null,
            "overflow": null,
            "overflow_x": null,
            "overflow_y": null,
            "padding": null,
            "right": null,
            "top": null,
            "visibility": null,
            "width": null
          }
        },
        "5bbfa7dceb014638b923fb8e3c7ad12d": {
          "model_module": "@jupyter-widgets/controls",
          "model_name": "ProgressStyleModel",
          "model_module_version": "1.5.0",
          "state": {
            "_model_module": "@jupyter-widgets/controls",
            "_model_module_version": "1.5.0",
            "_model_name": "ProgressStyleModel",
            "_view_count": null,
            "_view_module": "@jupyter-widgets/base",
            "_view_module_version": "1.2.0",
            "_view_name": "StyleView",
            "bar_color": null,
            "description_width": ""
          }
        },
        "f3c7ecabce0c4f038a8b95bee3894a26": {
          "model_module": "@jupyter-widgets/controls",
          "model_name": "VBoxModel",
          "model_module_version": "1.5.0",
          "state": {
            "_dom_classes": [],
            "_model_module": "@jupyter-widgets/controls",
            "_model_module_version": "1.5.0",
            "_model_name": "VBoxModel",
            "_view_count": null,
            "_view_module": "@jupyter-widgets/controls",
            "_view_module_version": "1.5.0",
            "_view_name": "VBoxView",
            "box_style": "",
            "children": [
              "IPY_MODEL_72862152f1604363a0cb6bfbe5170706",
              "IPY_MODEL_d3ce239ff7344273b6d265800108fea1"
            ],
            "layout": "IPY_MODEL_cfa3d34534294aaaad41aa26f223730d"
          }
        },
        "72862152f1604363a0cb6bfbe5170706": {
          "model_module": "@jupyter-widgets/controls",
          "model_name": "LabelModel",
          "model_module_version": "1.5.0",
          "state": {
            "_dom_classes": [],
            "_model_module": "@jupyter-widgets/controls",
            "_model_module_version": "1.5.0",
            "_model_name": "LabelModel",
            "_view_count": null,
            "_view_module": "@jupyter-widgets/controls",
            "_view_module_version": "1.5.0",
            "_view_name": "LabelView",
            "description": "",
            "description_tooltip": null,
            "layout": "IPY_MODEL_a8318475c9bf42ef9ff3b289c1a2031b",
            "placeholder": "​",
            "style": "IPY_MODEL_5baaf753790d45a08cd74f8b4badd5ca",
            "value": "Waiting for wandb.init()...\r"
          }
        },
        "d3ce239ff7344273b6d265800108fea1": {
          "model_module": "@jupyter-widgets/controls",
          "model_name": "FloatProgressModel",
          "model_module_version": "1.5.0",
          "state": {
            "_dom_classes": [],
            "_model_module": "@jupyter-widgets/controls",
            "_model_module_version": "1.5.0",
            "_model_name": "FloatProgressModel",
            "_view_count": null,
            "_view_module": "@jupyter-widgets/controls",
            "_view_module_version": "1.5.0",
            "_view_name": "ProgressView",
            "bar_style": "",
            "description": "",
            "description_tooltip": null,
            "layout": "IPY_MODEL_ca4552f159e24f95969201ab12d384fa",
            "max": 1,
            "min": 0,
            "orientation": "horizontal",
            "style": "IPY_MODEL_4957275056504b99bf6da43d4a3d6e1c",
            "value": 1
          }
        },
        "cfa3d34534294aaaad41aa26f223730d": {
          "model_module": "@jupyter-widgets/base",
          "model_name": "LayoutModel",
          "model_module_version": "1.2.0",
          "state": {
            "_model_module": "@jupyter-widgets/base",
            "_model_module_version": "1.2.0",
            "_model_name": "LayoutModel",
            "_view_count": null,
            "_view_module": "@jupyter-widgets/base",
            "_view_module_version": "1.2.0",
            "_view_name": "LayoutView",
            "align_content": null,
            "align_items": null,
            "align_self": null,
            "border": null,
            "bottom": null,
            "display": null,
            "flex": null,
            "flex_flow": null,
            "grid_area": null,
            "grid_auto_columns": null,
            "grid_auto_flow": null,
            "grid_auto_rows": null,
            "grid_column": null,
            "grid_gap": null,
            "grid_row": null,
            "grid_template_areas": null,
            "grid_template_columns": null,
            "grid_template_rows": null,
            "height": null,
            "justify_content": null,
            "justify_items": null,
            "left": null,
            "margin": null,
            "max_height": null,
            "max_width": null,
            "min_height": null,
            "min_width": null,
            "object_fit": null,
            "object_position": null,
            "order": null,
            "overflow": null,
            "overflow_x": null,
            "overflow_y": null,
            "padding": null,
            "right": null,
            "top": null,
            "visibility": null,
            "width": null
          }
        },
        "a8318475c9bf42ef9ff3b289c1a2031b": {
          "model_module": "@jupyter-widgets/base",
          "model_name": "LayoutModel",
          "model_module_version": "1.2.0",
          "state": {
            "_model_module": "@jupyter-widgets/base",
            "_model_module_version": "1.2.0",
            "_model_name": "LayoutModel",
            "_view_count": null,
            "_view_module": "@jupyter-widgets/base",
            "_view_module_version": "1.2.0",
            "_view_name": "LayoutView",
            "align_content": null,
            "align_items": null,
            "align_self": null,
            "border": null,
            "bottom": null,
            "display": null,
            "flex": null,
            "flex_flow": null,
            "grid_area": null,
            "grid_auto_columns": null,
            "grid_auto_flow": null,
            "grid_auto_rows": null,
            "grid_column": null,
            "grid_gap": null,
            "grid_row": null,
            "grid_template_areas": null,
            "grid_template_columns": null,
            "grid_template_rows": null,
            "height": null,
            "justify_content": null,
            "justify_items": null,
            "left": null,
            "margin": null,
            "max_height": null,
            "max_width": null,
            "min_height": null,
            "min_width": null,
            "object_fit": null,
            "object_position": null,
            "order": null,
            "overflow": null,
            "overflow_x": null,
            "overflow_y": null,
            "padding": null,
            "right": null,
            "top": null,
            "visibility": null,
            "width": null
          }
        },
        "5baaf753790d45a08cd74f8b4badd5ca": {
          "model_module": "@jupyter-widgets/controls",
          "model_name": "DescriptionStyleModel",
          "model_module_version": "1.5.0",
          "state": {
            "_model_module": "@jupyter-widgets/controls",
            "_model_module_version": "1.5.0",
            "_model_name": "DescriptionStyleModel",
            "_view_count": null,
            "_view_module": "@jupyter-widgets/base",
            "_view_module_version": "1.2.0",
            "_view_name": "StyleView",
            "description_width": ""
          }
        },
        "ca4552f159e24f95969201ab12d384fa": {
          "model_module": "@jupyter-widgets/base",
          "model_name": "LayoutModel",
          "model_module_version": "1.2.0",
          "state": {
            "_model_module": "@jupyter-widgets/base",
            "_model_module_version": "1.2.0",
            "_model_name": "LayoutModel",
            "_view_count": null,
            "_view_module": "@jupyter-widgets/base",
            "_view_module_version": "1.2.0",
            "_view_name": "LayoutView",
            "align_content": null,
            "align_items": null,
            "align_self": null,
            "border": null,
            "bottom": null,
            "display": null,
            "flex": null,
            "flex_flow": null,
            "grid_area": null,
            "grid_auto_columns": null,
            "grid_auto_flow": null,
            "grid_auto_rows": null,
            "grid_column": null,
            "grid_gap": null,
            "grid_row": null,
            "grid_template_areas": null,
            "grid_template_columns": null,
            "grid_template_rows": null,
            "height": null,
            "justify_content": null,
            "justify_items": null,
            "left": null,
            "margin": null,
            "max_height": null,
            "max_width": null,
            "min_height": null,
            "min_width": null,
            "object_fit": null,
            "object_position": null,
            "order": null,
            "overflow": null,
            "overflow_x": null,
            "overflow_y": null,
            "padding": null,
            "right": null,
            "top": null,
            "visibility": null,
            "width": null
          }
        },
        "4957275056504b99bf6da43d4a3d6e1c": {
          "model_module": "@jupyter-widgets/controls",
          "model_name": "ProgressStyleModel",
          "model_module_version": "1.5.0",
          "state": {
            "_model_module": "@jupyter-widgets/controls",
            "_model_module_version": "1.5.0",
            "_model_name": "ProgressStyleModel",
            "_view_count": null,
            "_view_module": "@jupyter-widgets/base",
            "_view_module_version": "1.2.0",
            "_view_name": "StyleView",
            "bar_color": null,
            "description_width": ""
          }
        },
        "9435323b6f354cc9afa241aeb670da5b": {
          "model_module": "@jupyter-widgets/controls",
          "model_name": "VBoxModel",
          "model_module_version": "1.5.0",
          "state": {
            "_dom_classes": [],
            "_model_module": "@jupyter-widgets/controls",
            "_model_module_version": "1.5.0",
            "_model_name": "VBoxModel",
            "_view_count": null,
            "_view_module": "@jupyter-widgets/controls",
            "_view_module_version": "1.5.0",
            "_view_name": "VBoxView",
            "box_style": "",
            "children": [
              "IPY_MODEL_98410063700f46088c9494c582574845",
              "IPY_MODEL_5e856d8a3bd743a2ae46893ba88b3e39"
            ],
            "layout": "IPY_MODEL_bbf3119c90074f1799fa964df741384a"
          }
        },
        "98410063700f46088c9494c582574845": {
          "model_module": "@jupyter-widgets/controls",
          "model_name": "LabelModel",
          "model_module_version": "1.5.0",
          "state": {
            "_dom_classes": [],
            "_model_module": "@jupyter-widgets/controls",
            "_model_module_version": "1.5.0",
            "_model_name": "LabelModel",
            "_view_count": null,
            "_view_module": "@jupyter-widgets/controls",
            "_view_module_version": "1.5.0",
            "_view_name": "LabelView",
            "description": "",
            "description_tooltip": null,
            "layout": "IPY_MODEL_4fb3545bc38940538d5e282a0d6528fb",
            "placeholder": "​",
            "style": "IPY_MODEL_d67fc397d1e84877ac832a85df555c24",
            "value": "0.017 MB of 0.017 MB uploaded\r"
          }
        },
        "5e856d8a3bd743a2ae46893ba88b3e39": {
          "model_module": "@jupyter-widgets/controls",
          "model_name": "FloatProgressModel",
          "model_module_version": "1.5.0",
          "state": {
            "_dom_classes": [],
            "_model_module": "@jupyter-widgets/controls",
            "_model_module_version": "1.5.0",
            "_model_name": "FloatProgressModel",
            "_view_count": null,
            "_view_module": "@jupyter-widgets/controls",
            "_view_module_version": "1.5.0",
            "_view_name": "ProgressView",
            "bar_style": "",
            "description": "",
            "description_tooltip": null,
            "layout": "IPY_MODEL_72c70a5b79d447cd901a636076415d7c",
            "max": 1,
            "min": 0,
            "orientation": "horizontal",
            "style": "IPY_MODEL_d131bc30258b49609a71fa9ec896f574",
            "value": 1
          }
        },
        "bbf3119c90074f1799fa964df741384a": {
          "model_module": "@jupyter-widgets/base",
          "model_name": "LayoutModel",
          "model_module_version": "1.2.0",
          "state": {
            "_model_module": "@jupyter-widgets/base",
            "_model_module_version": "1.2.0",
            "_model_name": "LayoutModel",
            "_view_count": null,
            "_view_module": "@jupyter-widgets/base",
            "_view_module_version": "1.2.0",
            "_view_name": "LayoutView",
            "align_content": null,
            "align_items": null,
            "align_self": null,
            "border": null,
            "bottom": null,
            "display": null,
            "flex": null,
            "flex_flow": null,
            "grid_area": null,
            "grid_auto_columns": null,
            "grid_auto_flow": null,
            "grid_auto_rows": null,
            "grid_column": null,
            "grid_gap": null,
            "grid_row": null,
            "grid_template_areas": null,
            "grid_template_columns": null,
            "grid_template_rows": null,
            "height": null,
            "justify_content": null,
            "justify_items": null,
            "left": null,
            "margin": null,
            "max_height": null,
            "max_width": null,
            "min_height": null,
            "min_width": null,
            "object_fit": null,
            "object_position": null,
            "order": null,
            "overflow": null,
            "overflow_x": null,
            "overflow_y": null,
            "padding": null,
            "right": null,
            "top": null,
            "visibility": null,
            "width": null
          }
        },
        "4fb3545bc38940538d5e282a0d6528fb": {
          "model_module": "@jupyter-widgets/base",
          "model_name": "LayoutModel",
          "model_module_version": "1.2.0",
          "state": {
            "_model_module": "@jupyter-widgets/base",
            "_model_module_version": "1.2.0",
            "_model_name": "LayoutModel",
            "_view_count": null,
            "_view_module": "@jupyter-widgets/base",
            "_view_module_version": "1.2.0",
            "_view_name": "LayoutView",
            "align_content": null,
            "align_items": null,
            "align_self": null,
            "border": null,
            "bottom": null,
            "display": null,
            "flex": null,
            "flex_flow": null,
            "grid_area": null,
            "grid_auto_columns": null,
            "grid_auto_flow": null,
            "grid_auto_rows": null,
            "grid_column": null,
            "grid_gap": null,
            "grid_row": null,
            "grid_template_areas": null,
            "grid_template_columns": null,
            "grid_template_rows": null,
            "height": null,
            "justify_content": null,
            "justify_items": null,
            "left": null,
            "margin": null,
            "max_height": null,
            "max_width": null,
            "min_height": null,
            "min_width": null,
            "object_fit": null,
            "object_position": null,
            "order": null,
            "overflow": null,
            "overflow_x": null,
            "overflow_y": null,
            "padding": null,
            "right": null,
            "top": null,
            "visibility": null,
            "width": null
          }
        },
        "d67fc397d1e84877ac832a85df555c24": {
          "model_module": "@jupyter-widgets/controls",
          "model_name": "DescriptionStyleModel",
          "model_module_version": "1.5.0",
          "state": {
            "_model_module": "@jupyter-widgets/controls",
            "_model_module_version": "1.5.0",
            "_model_name": "DescriptionStyleModel",
            "_view_count": null,
            "_view_module": "@jupyter-widgets/base",
            "_view_module_version": "1.2.0",
            "_view_name": "StyleView",
            "description_width": ""
          }
        },
        "72c70a5b79d447cd901a636076415d7c": {
          "model_module": "@jupyter-widgets/base",
          "model_name": "LayoutModel",
          "model_module_version": "1.2.0",
          "state": {
            "_model_module": "@jupyter-widgets/base",
            "_model_module_version": "1.2.0",
            "_model_name": "LayoutModel",
            "_view_count": null,
            "_view_module": "@jupyter-widgets/base",
            "_view_module_version": "1.2.0",
            "_view_name": "LayoutView",
            "align_content": null,
            "align_items": null,
            "align_self": null,
            "border": null,
            "bottom": null,
            "display": null,
            "flex": null,
            "flex_flow": null,
            "grid_area": null,
            "grid_auto_columns": null,
            "grid_auto_flow": null,
            "grid_auto_rows": null,
            "grid_column": null,
            "grid_gap": null,
            "grid_row": null,
            "grid_template_areas": null,
            "grid_template_columns": null,
            "grid_template_rows": null,
            "height": null,
            "justify_content": null,
            "justify_items": null,
            "left": null,
            "margin": null,
            "max_height": null,
            "max_width": null,
            "min_height": null,
            "min_width": null,
            "object_fit": null,
            "object_position": null,
            "order": null,
            "overflow": null,
            "overflow_x": null,
            "overflow_y": null,
            "padding": null,
            "right": null,
            "top": null,
            "visibility": null,
            "width": null
          }
        },
        "d131bc30258b49609a71fa9ec896f574": {
          "model_module": "@jupyter-widgets/controls",
          "model_name": "ProgressStyleModel",
          "model_module_version": "1.5.0",
          "state": {
            "_model_module": "@jupyter-widgets/controls",
            "_model_module_version": "1.5.0",
            "_model_name": "ProgressStyleModel",
            "_view_count": null,
            "_view_module": "@jupyter-widgets/base",
            "_view_module_version": "1.2.0",
            "_view_name": "StyleView",
            "bar_color": null,
            "description_width": ""
          }
        },
        "10b33732302b46b3bd2e293abec5d686": {
          "model_module": "@jupyter-widgets/controls",
          "model_name": "VBoxModel",
          "model_module_version": "1.5.0",
          "state": {
            "_dom_classes": [],
            "_model_module": "@jupyter-widgets/controls",
            "_model_module_version": "1.5.0",
            "_model_name": "VBoxModel",
            "_view_count": null,
            "_view_module": "@jupyter-widgets/controls",
            "_view_module_version": "1.5.0",
            "_view_name": "VBoxView",
            "box_style": "",
            "children": [
              "IPY_MODEL_3057f257ac5d46a08373ea62dbdaaa27",
              "IPY_MODEL_8aeb6bb810b74bd8a576efc0adb33d5c"
            ],
            "layout": "IPY_MODEL_cb522da8797548f2bb208da71fae94f5"
          }
        },
        "3057f257ac5d46a08373ea62dbdaaa27": {
          "model_module": "@jupyter-widgets/controls",
          "model_name": "LabelModel",
          "model_module_version": "1.5.0",
          "state": {
            "_dom_classes": [],
            "_model_module": "@jupyter-widgets/controls",
            "_model_module_version": "1.5.0",
            "_model_name": "LabelModel",
            "_view_count": null,
            "_view_module": "@jupyter-widgets/controls",
            "_view_module_version": "1.5.0",
            "_view_name": "LabelView",
            "description": "",
            "description_tooltip": null,
            "layout": "IPY_MODEL_f2a7d6a44a014b16a83a89f8a3be6964",
            "placeholder": "​",
            "style": "IPY_MODEL_831e268788d64ed78ade78e1d1244181",
            "value": "0.017 MB of 0.017 MB uploaded\r"
          }
        },
        "8aeb6bb810b74bd8a576efc0adb33d5c": {
          "model_module": "@jupyter-widgets/controls",
          "model_name": "FloatProgressModel",
          "model_module_version": "1.5.0",
          "state": {
            "_dom_classes": [],
            "_model_module": "@jupyter-widgets/controls",
            "_model_module_version": "1.5.0",
            "_model_name": "FloatProgressModel",
            "_view_count": null,
            "_view_module": "@jupyter-widgets/controls",
            "_view_module_version": "1.5.0",
            "_view_name": "ProgressView",
            "bar_style": "",
            "description": "",
            "description_tooltip": null,
            "layout": "IPY_MODEL_fa4c2977e35e4543aff0f58964084b5f",
            "max": 1,
            "min": 0,
            "orientation": "horizontal",
            "style": "IPY_MODEL_ec06f85fad0742238366dd7b514f18fd",
            "value": 1
          }
        },
        "cb522da8797548f2bb208da71fae94f5": {
          "model_module": "@jupyter-widgets/base",
          "model_name": "LayoutModel",
          "model_module_version": "1.2.0",
          "state": {
            "_model_module": "@jupyter-widgets/base",
            "_model_module_version": "1.2.0",
            "_model_name": "LayoutModel",
            "_view_count": null,
            "_view_module": "@jupyter-widgets/base",
            "_view_module_version": "1.2.0",
            "_view_name": "LayoutView",
            "align_content": null,
            "align_items": null,
            "align_self": null,
            "border": null,
            "bottom": null,
            "display": null,
            "flex": null,
            "flex_flow": null,
            "grid_area": null,
            "grid_auto_columns": null,
            "grid_auto_flow": null,
            "grid_auto_rows": null,
            "grid_column": null,
            "grid_gap": null,
            "grid_row": null,
            "grid_template_areas": null,
            "grid_template_columns": null,
            "grid_template_rows": null,
            "height": null,
            "justify_content": null,
            "justify_items": null,
            "left": null,
            "margin": null,
            "max_height": null,
            "max_width": null,
            "min_height": null,
            "min_width": null,
            "object_fit": null,
            "object_position": null,
            "order": null,
            "overflow": null,
            "overflow_x": null,
            "overflow_y": null,
            "padding": null,
            "right": null,
            "top": null,
            "visibility": null,
            "width": null
          }
        },
        "f2a7d6a44a014b16a83a89f8a3be6964": {
          "model_module": "@jupyter-widgets/base",
          "model_name": "LayoutModel",
          "model_module_version": "1.2.0",
          "state": {
            "_model_module": "@jupyter-widgets/base",
            "_model_module_version": "1.2.0",
            "_model_name": "LayoutModel",
            "_view_count": null,
            "_view_module": "@jupyter-widgets/base",
            "_view_module_version": "1.2.0",
            "_view_name": "LayoutView",
            "align_content": null,
            "align_items": null,
            "align_self": null,
            "border": null,
            "bottom": null,
            "display": null,
            "flex": null,
            "flex_flow": null,
            "grid_area": null,
            "grid_auto_columns": null,
            "grid_auto_flow": null,
            "grid_auto_rows": null,
            "grid_column": null,
            "grid_gap": null,
            "grid_row": null,
            "grid_template_areas": null,
            "grid_template_columns": null,
            "grid_template_rows": null,
            "height": null,
            "justify_content": null,
            "justify_items": null,
            "left": null,
            "margin": null,
            "max_height": null,
            "max_width": null,
            "min_height": null,
            "min_width": null,
            "object_fit": null,
            "object_position": null,
            "order": null,
            "overflow": null,
            "overflow_x": null,
            "overflow_y": null,
            "padding": null,
            "right": null,
            "top": null,
            "visibility": null,
            "width": null
          }
        },
        "831e268788d64ed78ade78e1d1244181": {
          "model_module": "@jupyter-widgets/controls",
          "model_name": "DescriptionStyleModel",
          "model_module_version": "1.5.0",
          "state": {
            "_model_module": "@jupyter-widgets/controls",
            "_model_module_version": "1.5.0",
            "_model_name": "DescriptionStyleModel",
            "_view_count": null,
            "_view_module": "@jupyter-widgets/base",
            "_view_module_version": "1.2.0",
            "_view_name": "StyleView",
            "description_width": ""
          }
        },
        "fa4c2977e35e4543aff0f58964084b5f": {
          "model_module": "@jupyter-widgets/base",
          "model_name": "LayoutModel",
          "model_module_version": "1.2.0",
          "state": {
            "_model_module": "@jupyter-widgets/base",
            "_model_module_version": "1.2.0",
            "_model_name": "LayoutModel",
            "_view_count": null,
            "_view_module": "@jupyter-widgets/base",
            "_view_module_version": "1.2.0",
            "_view_name": "LayoutView",
            "align_content": null,
            "align_items": null,
            "align_self": null,
            "border": null,
            "bottom": null,
            "display": null,
            "flex": null,
            "flex_flow": null,
            "grid_area": null,
            "grid_auto_columns": null,
            "grid_auto_flow": null,
            "grid_auto_rows": null,
            "grid_column": null,
            "grid_gap": null,
            "grid_row": null,
            "grid_template_areas": null,
            "grid_template_columns": null,
            "grid_template_rows": null,
            "height": null,
            "justify_content": null,
            "justify_items": null,
            "left": null,
            "margin": null,
            "max_height": null,
            "max_width": null,
            "min_height": null,
            "min_width": null,
            "object_fit": null,
            "object_position": null,
            "order": null,
            "overflow": null,
            "overflow_x": null,
            "overflow_y": null,
            "padding": null,
            "right": null,
            "top": null,
            "visibility": null,
            "width": null
          }
        },
        "ec06f85fad0742238366dd7b514f18fd": {
          "model_module": "@jupyter-widgets/controls",
          "model_name": "ProgressStyleModel",
          "model_module_version": "1.5.0",
          "state": {
            "_model_module": "@jupyter-widgets/controls",
            "_model_module_version": "1.5.0",
            "_model_name": "ProgressStyleModel",
            "_view_count": null,
            "_view_module": "@jupyter-widgets/base",
            "_view_module_version": "1.2.0",
            "_view_name": "StyleView",
            "bar_color": null,
            "description_width": ""
          }
        },
        "6bb9884c643d40aca404ea2be1227766": {
          "model_module": "@jupyter-widgets/controls",
          "model_name": "VBoxModel",
          "model_module_version": "1.5.0",
          "state": {
            "_dom_classes": [],
            "_model_module": "@jupyter-widgets/controls",
            "_model_module_version": "1.5.0",
            "_model_name": "VBoxModel",
            "_view_count": null,
            "_view_module": "@jupyter-widgets/controls",
            "_view_module_version": "1.5.0",
            "_view_name": "VBoxView",
            "box_style": "",
            "children": [
              "IPY_MODEL_6aef8bf0c1b64fbb9dd08dd5f2cd34f5",
              "IPY_MODEL_4b90bd4b1b3e494980efaea7c8afc079"
            ],
            "layout": "IPY_MODEL_1b2613004d6141e58129d4f64ecfbee8"
          }
        },
        "6aef8bf0c1b64fbb9dd08dd5f2cd34f5": {
          "model_module": "@jupyter-widgets/controls",
          "model_name": "LabelModel",
          "model_module_version": "1.5.0",
          "state": {
            "_dom_classes": [],
            "_model_module": "@jupyter-widgets/controls",
            "_model_module_version": "1.5.0",
            "_model_name": "LabelModel",
            "_view_count": null,
            "_view_module": "@jupyter-widgets/controls",
            "_view_module_version": "1.5.0",
            "_view_name": "LabelView",
            "description": "",
            "description_tooltip": null,
            "layout": "IPY_MODEL_860c503ed5c347858319a165856d7f4c",
            "placeholder": "​",
            "style": "IPY_MODEL_13375b55cc3a43dbaa237b41d17417ec",
            "value": "0.016 MB of 0.016 MB uploaded\r"
          }
        },
        "4b90bd4b1b3e494980efaea7c8afc079": {
          "model_module": "@jupyter-widgets/controls",
          "model_name": "FloatProgressModel",
          "model_module_version": "1.5.0",
          "state": {
            "_dom_classes": [],
            "_model_module": "@jupyter-widgets/controls",
            "_model_module_version": "1.5.0",
            "_model_name": "FloatProgressModel",
            "_view_count": null,
            "_view_module": "@jupyter-widgets/controls",
            "_view_module_version": "1.5.0",
            "_view_name": "ProgressView",
            "bar_style": "",
            "description": "",
            "description_tooltip": null,
            "layout": "IPY_MODEL_6f95d832943049d98c133cd5d87d9fd3",
            "max": 1,
            "min": 0,
            "orientation": "horizontal",
            "style": "IPY_MODEL_84a34689230945c5b786e9c17e2f4eb2",
            "value": 1
          }
        },
        "1b2613004d6141e58129d4f64ecfbee8": {
          "model_module": "@jupyter-widgets/base",
          "model_name": "LayoutModel",
          "model_module_version": "1.2.0",
          "state": {
            "_model_module": "@jupyter-widgets/base",
            "_model_module_version": "1.2.0",
            "_model_name": "LayoutModel",
            "_view_count": null,
            "_view_module": "@jupyter-widgets/base",
            "_view_module_version": "1.2.0",
            "_view_name": "LayoutView",
            "align_content": null,
            "align_items": null,
            "align_self": null,
            "border": null,
            "bottom": null,
            "display": null,
            "flex": null,
            "flex_flow": null,
            "grid_area": null,
            "grid_auto_columns": null,
            "grid_auto_flow": null,
            "grid_auto_rows": null,
            "grid_column": null,
            "grid_gap": null,
            "grid_row": null,
            "grid_template_areas": null,
            "grid_template_columns": null,
            "grid_template_rows": null,
            "height": null,
            "justify_content": null,
            "justify_items": null,
            "left": null,
            "margin": null,
            "max_height": null,
            "max_width": null,
            "min_height": null,
            "min_width": null,
            "object_fit": null,
            "object_position": null,
            "order": null,
            "overflow": null,
            "overflow_x": null,
            "overflow_y": null,
            "padding": null,
            "right": null,
            "top": null,
            "visibility": null,
            "width": null
          }
        },
        "860c503ed5c347858319a165856d7f4c": {
          "model_module": "@jupyter-widgets/base",
          "model_name": "LayoutModel",
          "model_module_version": "1.2.0",
          "state": {
            "_model_module": "@jupyter-widgets/base",
            "_model_module_version": "1.2.0",
            "_model_name": "LayoutModel",
            "_view_count": null,
            "_view_module": "@jupyter-widgets/base",
            "_view_module_version": "1.2.0",
            "_view_name": "LayoutView",
            "align_content": null,
            "align_items": null,
            "align_self": null,
            "border": null,
            "bottom": null,
            "display": null,
            "flex": null,
            "flex_flow": null,
            "grid_area": null,
            "grid_auto_columns": null,
            "grid_auto_flow": null,
            "grid_auto_rows": null,
            "grid_column": null,
            "grid_gap": null,
            "grid_row": null,
            "grid_template_areas": null,
            "grid_template_columns": null,
            "grid_template_rows": null,
            "height": null,
            "justify_content": null,
            "justify_items": null,
            "left": null,
            "margin": null,
            "max_height": null,
            "max_width": null,
            "min_height": null,
            "min_width": null,
            "object_fit": null,
            "object_position": null,
            "order": null,
            "overflow": null,
            "overflow_x": null,
            "overflow_y": null,
            "padding": null,
            "right": null,
            "top": null,
            "visibility": null,
            "width": null
          }
        },
        "13375b55cc3a43dbaa237b41d17417ec": {
          "model_module": "@jupyter-widgets/controls",
          "model_name": "DescriptionStyleModel",
          "model_module_version": "1.5.0",
          "state": {
            "_model_module": "@jupyter-widgets/controls",
            "_model_module_version": "1.5.0",
            "_model_name": "DescriptionStyleModel",
            "_view_count": null,
            "_view_module": "@jupyter-widgets/base",
            "_view_module_version": "1.2.0",
            "_view_name": "StyleView",
            "description_width": ""
          }
        },
        "6f95d832943049d98c133cd5d87d9fd3": {
          "model_module": "@jupyter-widgets/base",
          "model_name": "LayoutModel",
          "model_module_version": "1.2.0",
          "state": {
            "_model_module": "@jupyter-widgets/base",
            "_model_module_version": "1.2.0",
            "_model_name": "LayoutModel",
            "_view_count": null,
            "_view_module": "@jupyter-widgets/base",
            "_view_module_version": "1.2.0",
            "_view_name": "LayoutView",
            "align_content": null,
            "align_items": null,
            "align_self": null,
            "border": null,
            "bottom": null,
            "display": null,
            "flex": null,
            "flex_flow": null,
            "grid_area": null,
            "grid_auto_columns": null,
            "grid_auto_flow": null,
            "grid_auto_rows": null,
            "grid_column": null,
            "grid_gap": null,
            "grid_row": null,
            "grid_template_areas": null,
            "grid_template_columns": null,
            "grid_template_rows": null,
            "height": null,
            "justify_content": null,
            "justify_items": null,
            "left": null,
            "margin": null,
            "max_height": null,
            "max_width": null,
            "min_height": null,
            "min_width": null,
            "object_fit": null,
            "object_position": null,
            "order": null,
            "overflow": null,
            "overflow_x": null,
            "overflow_y": null,
            "padding": null,
            "right": null,
            "top": null,
            "visibility": null,
            "width": null
          }
        },
        "84a34689230945c5b786e9c17e2f4eb2": {
          "model_module": "@jupyter-widgets/controls",
          "model_name": "ProgressStyleModel",
          "model_module_version": "1.5.0",
          "state": {
            "_model_module": "@jupyter-widgets/controls",
            "_model_module_version": "1.5.0",
            "_model_name": "ProgressStyleModel",
            "_view_count": null,
            "_view_module": "@jupyter-widgets/base",
            "_view_module_version": "1.2.0",
            "_view_name": "StyleView",
            "bar_color": null,
            "description_width": ""
          }
        },
        "4923695ee3d9439f8beb78bfcbf33ce1": {
          "model_module": "@jupyter-widgets/controls",
          "model_name": "VBoxModel",
          "model_module_version": "1.5.0",
          "state": {
            "_dom_classes": [],
            "_model_module": "@jupyter-widgets/controls",
            "_model_module_version": "1.5.0",
            "_model_name": "VBoxModel",
            "_view_count": null,
            "_view_module": "@jupyter-widgets/controls",
            "_view_module_version": "1.5.0",
            "_view_name": "VBoxView",
            "box_style": "",
            "children": [
              "IPY_MODEL_721333a8680149bf9aefc8d723ca6685",
              "IPY_MODEL_ce04b4502de94554a37918e32f9ec08f"
            ],
            "layout": "IPY_MODEL_98013418e7764ac4bc7b032a865cb03f"
          }
        },
        "721333a8680149bf9aefc8d723ca6685": {
          "model_module": "@jupyter-widgets/controls",
          "model_name": "LabelModel",
          "model_module_version": "1.5.0",
          "state": {
            "_dom_classes": [],
            "_model_module": "@jupyter-widgets/controls",
            "_model_module_version": "1.5.0",
            "_model_name": "LabelModel",
            "_view_count": null,
            "_view_module": "@jupyter-widgets/controls",
            "_view_module_version": "1.5.0",
            "_view_name": "LabelView",
            "description": "",
            "description_tooltip": null,
            "layout": "IPY_MODEL_d5b6112c880b44e6a81e9378028b1885",
            "placeholder": "​",
            "style": "IPY_MODEL_0491e1337bf04297b45c884941f9ad6a",
            "value": "0.016 MB of 0.016 MB uploaded\r"
          }
        },
        "ce04b4502de94554a37918e32f9ec08f": {
          "model_module": "@jupyter-widgets/controls",
          "model_name": "FloatProgressModel",
          "model_module_version": "1.5.0",
          "state": {
            "_dom_classes": [],
            "_model_module": "@jupyter-widgets/controls",
            "_model_module_version": "1.5.0",
            "_model_name": "FloatProgressModel",
            "_view_count": null,
            "_view_module": "@jupyter-widgets/controls",
            "_view_module_version": "1.5.0",
            "_view_name": "ProgressView",
            "bar_style": "",
            "description": "",
            "description_tooltip": null,
            "layout": "IPY_MODEL_e0666f60ca8e4d6a8f73b8b62d3a96c9",
            "max": 1,
            "min": 0,
            "orientation": "horizontal",
            "style": "IPY_MODEL_d79a50abc52049fdb09509ba0799b023",
            "value": 1
          }
        },
        "98013418e7764ac4bc7b032a865cb03f": {
          "model_module": "@jupyter-widgets/base",
          "model_name": "LayoutModel",
          "model_module_version": "1.2.0",
          "state": {
            "_model_module": "@jupyter-widgets/base",
            "_model_module_version": "1.2.0",
            "_model_name": "LayoutModel",
            "_view_count": null,
            "_view_module": "@jupyter-widgets/base",
            "_view_module_version": "1.2.0",
            "_view_name": "LayoutView",
            "align_content": null,
            "align_items": null,
            "align_self": null,
            "border": null,
            "bottom": null,
            "display": null,
            "flex": null,
            "flex_flow": null,
            "grid_area": null,
            "grid_auto_columns": null,
            "grid_auto_flow": null,
            "grid_auto_rows": null,
            "grid_column": null,
            "grid_gap": null,
            "grid_row": null,
            "grid_template_areas": null,
            "grid_template_columns": null,
            "grid_template_rows": null,
            "height": null,
            "justify_content": null,
            "justify_items": null,
            "left": null,
            "margin": null,
            "max_height": null,
            "max_width": null,
            "min_height": null,
            "min_width": null,
            "object_fit": null,
            "object_position": null,
            "order": null,
            "overflow": null,
            "overflow_x": null,
            "overflow_y": null,
            "padding": null,
            "right": null,
            "top": null,
            "visibility": null,
            "width": null
          }
        },
        "d5b6112c880b44e6a81e9378028b1885": {
          "model_module": "@jupyter-widgets/base",
          "model_name": "LayoutModel",
          "model_module_version": "1.2.0",
          "state": {
            "_model_module": "@jupyter-widgets/base",
            "_model_module_version": "1.2.0",
            "_model_name": "LayoutModel",
            "_view_count": null,
            "_view_module": "@jupyter-widgets/base",
            "_view_module_version": "1.2.0",
            "_view_name": "LayoutView",
            "align_content": null,
            "align_items": null,
            "align_self": null,
            "border": null,
            "bottom": null,
            "display": null,
            "flex": null,
            "flex_flow": null,
            "grid_area": null,
            "grid_auto_columns": null,
            "grid_auto_flow": null,
            "grid_auto_rows": null,
            "grid_column": null,
            "grid_gap": null,
            "grid_row": null,
            "grid_template_areas": null,
            "grid_template_columns": null,
            "grid_template_rows": null,
            "height": null,
            "justify_content": null,
            "justify_items": null,
            "left": null,
            "margin": null,
            "max_height": null,
            "max_width": null,
            "min_height": null,
            "min_width": null,
            "object_fit": null,
            "object_position": null,
            "order": null,
            "overflow": null,
            "overflow_x": null,
            "overflow_y": null,
            "padding": null,
            "right": null,
            "top": null,
            "visibility": null,
            "width": null
          }
        },
        "0491e1337bf04297b45c884941f9ad6a": {
          "model_module": "@jupyter-widgets/controls",
          "model_name": "DescriptionStyleModel",
          "model_module_version": "1.5.0",
          "state": {
            "_model_module": "@jupyter-widgets/controls",
            "_model_module_version": "1.5.0",
            "_model_name": "DescriptionStyleModel",
            "_view_count": null,
            "_view_module": "@jupyter-widgets/base",
            "_view_module_version": "1.2.0",
            "_view_name": "StyleView",
            "description_width": ""
          }
        },
        "e0666f60ca8e4d6a8f73b8b62d3a96c9": {
          "model_module": "@jupyter-widgets/base",
          "model_name": "LayoutModel",
          "model_module_version": "1.2.0",
          "state": {
            "_model_module": "@jupyter-widgets/base",
            "_model_module_version": "1.2.0",
            "_model_name": "LayoutModel",
            "_view_count": null,
            "_view_module": "@jupyter-widgets/base",
            "_view_module_version": "1.2.0",
            "_view_name": "LayoutView",
            "align_content": null,
            "align_items": null,
            "align_self": null,
            "border": null,
            "bottom": null,
            "display": null,
            "flex": null,
            "flex_flow": null,
            "grid_area": null,
            "grid_auto_columns": null,
            "grid_auto_flow": null,
            "grid_auto_rows": null,
            "grid_column": null,
            "grid_gap": null,
            "grid_row": null,
            "grid_template_areas": null,
            "grid_template_columns": null,
            "grid_template_rows": null,
            "height": null,
            "justify_content": null,
            "justify_items": null,
            "left": null,
            "margin": null,
            "max_height": null,
            "max_width": null,
            "min_height": null,
            "min_width": null,
            "object_fit": null,
            "object_position": null,
            "order": null,
            "overflow": null,
            "overflow_x": null,
            "overflow_y": null,
            "padding": null,
            "right": null,
            "top": null,
            "visibility": null,
            "width": null
          }
        },
        "d79a50abc52049fdb09509ba0799b023": {
          "model_module": "@jupyter-widgets/controls",
          "model_name": "ProgressStyleModel",
          "model_module_version": "1.5.0",
          "state": {
            "_model_module": "@jupyter-widgets/controls",
            "_model_module_version": "1.5.0",
            "_model_name": "ProgressStyleModel",
            "_view_count": null,
            "_view_module": "@jupyter-widgets/base",
            "_view_module_version": "1.2.0",
            "_view_name": "StyleView",
            "bar_color": null,
            "description_width": ""
          }
        },
        "e6dc24aef61f4a2e865b500b63c6882f": {
          "model_module": "@jupyter-widgets/controls",
          "model_name": "VBoxModel",
          "model_module_version": "1.5.0",
          "state": {
            "_dom_classes": [],
            "_model_module": "@jupyter-widgets/controls",
            "_model_module_version": "1.5.0",
            "_model_name": "VBoxModel",
            "_view_count": null,
            "_view_module": "@jupyter-widgets/controls",
            "_view_module_version": "1.5.0",
            "_view_name": "VBoxView",
            "box_style": "",
            "children": [
              "IPY_MODEL_865dc71a88da488aaa20afeb83c0a4cc",
              "IPY_MODEL_442c478b223e413b9b02d583210ebd7b"
            ],
            "layout": "IPY_MODEL_91063fdc9c994d9f8ceca8b4899dbad5"
          }
        },
        "865dc71a88da488aaa20afeb83c0a4cc": {
          "model_module": "@jupyter-widgets/controls",
          "model_name": "LabelModel",
          "model_module_version": "1.5.0",
          "state": {
            "_dom_classes": [],
            "_model_module": "@jupyter-widgets/controls",
            "_model_module_version": "1.5.0",
            "_model_name": "LabelModel",
            "_view_count": null,
            "_view_module": "@jupyter-widgets/controls",
            "_view_module_version": "1.5.0",
            "_view_name": "LabelView",
            "description": "",
            "description_tooltip": null,
            "layout": "IPY_MODEL_55a6e4a4f45c41e6bc12262a05b9c254",
            "placeholder": "​",
            "style": "IPY_MODEL_ea72aa54aa26487fac2c8dadba30ee11",
            "value": "0.015 MB of 0.015 MB uploaded\r"
          }
        },
        "442c478b223e413b9b02d583210ebd7b": {
          "model_module": "@jupyter-widgets/controls",
          "model_name": "FloatProgressModel",
          "model_module_version": "1.5.0",
          "state": {
            "_dom_classes": [],
            "_model_module": "@jupyter-widgets/controls",
            "_model_module_version": "1.5.0",
            "_model_name": "FloatProgressModel",
            "_view_count": null,
            "_view_module": "@jupyter-widgets/controls",
            "_view_module_version": "1.5.0",
            "_view_name": "ProgressView",
            "bar_style": "",
            "description": "",
            "description_tooltip": null,
            "layout": "IPY_MODEL_4a661f344a214944b6932d58a8ebcdd7",
            "max": 1,
            "min": 0,
            "orientation": "horizontal",
            "style": "IPY_MODEL_a832122dbabe4dff97a44a96ce260b2c",
            "value": 1
          }
        },
        "91063fdc9c994d9f8ceca8b4899dbad5": {
          "model_module": "@jupyter-widgets/base",
          "model_name": "LayoutModel",
          "model_module_version": "1.2.0",
          "state": {
            "_model_module": "@jupyter-widgets/base",
            "_model_module_version": "1.2.0",
            "_model_name": "LayoutModel",
            "_view_count": null,
            "_view_module": "@jupyter-widgets/base",
            "_view_module_version": "1.2.0",
            "_view_name": "LayoutView",
            "align_content": null,
            "align_items": null,
            "align_self": null,
            "border": null,
            "bottom": null,
            "display": null,
            "flex": null,
            "flex_flow": null,
            "grid_area": null,
            "grid_auto_columns": null,
            "grid_auto_flow": null,
            "grid_auto_rows": null,
            "grid_column": null,
            "grid_gap": null,
            "grid_row": null,
            "grid_template_areas": null,
            "grid_template_columns": null,
            "grid_template_rows": null,
            "height": null,
            "justify_content": null,
            "justify_items": null,
            "left": null,
            "margin": null,
            "max_height": null,
            "max_width": null,
            "min_height": null,
            "min_width": null,
            "object_fit": null,
            "object_position": null,
            "order": null,
            "overflow": null,
            "overflow_x": null,
            "overflow_y": null,
            "padding": null,
            "right": null,
            "top": null,
            "visibility": null,
            "width": null
          }
        },
        "55a6e4a4f45c41e6bc12262a05b9c254": {
          "model_module": "@jupyter-widgets/base",
          "model_name": "LayoutModel",
          "model_module_version": "1.2.0",
          "state": {
            "_model_module": "@jupyter-widgets/base",
            "_model_module_version": "1.2.0",
            "_model_name": "LayoutModel",
            "_view_count": null,
            "_view_module": "@jupyter-widgets/base",
            "_view_module_version": "1.2.0",
            "_view_name": "LayoutView",
            "align_content": null,
            "align_items": null,
            "align_self": null,
            "border": null,
            "bottom": null,
            "display": null,
            "flex": null,
            "flex_flow": null,
            "grid_area": null,
            "grid_auto_columns": null,
            "grid_auto_flow": null,
            "grid_auto_rows": null,
            "grid_column": null,
            "grid_gap": null,
            "grid_row": null,
            "grid_template_areas": null,
            "grid_template_columns": null,
            "grid_template_rows": null,
            "height": null,
            "justify_content": null,
            "justify_items": null,
            "left": null,
            "margin": null,
            "max_height": null,
            "max_width": null,
            "min_height": null,
            "min_width": null,
            "object_fit": null,
            "object_position": null,
            "order": null,
            "overflow": null,
            "overflow_x": null,
            "overflow_y": null,
            "padding": null,
            "right": null,
            "top": null,
            "visibility": null,
            "width": null
          }
        },
        "ea72aa54aa26487fac2c8dadba30ee11": {
          "model_module": "@jupyter-widgets/controls",
          "model_name": "DescriptionStyleModel",
          "model_module_version": "1.5.0",
          "state": {
            "_model_module": "@jupyter-widgets/controls",
            "_model_module_version": "1.5.0",
            "_model_name": "DescriptionStyleModel",
            "_view_count": null,
            "_view_module": "@jupyter-widgets/base",
            "_view_module_version": "1.2.0",
            "_view_name": "StyleView",
            "description_width": ""
          }
        },
        "4a661f344a214944b6932d58a8ebcdd7": {
          "model_module": "@jupyter-widgets/base",
          "model_name": "LayoutModel",
          "model_module_version": "1.2.0",
          "state": {
            "_model_module": "@jupyter-widgets/base",
            "_model_module_version": "1.2.0",
            "_model_name": "LayoutModel",
            "_view_count": null,
            "_view_module": "@jupyter-widgets/base",
            "_view_module_version": "1.2.0",
            "_view_name": "LayoutView",
            "align_content": null,
            "align_items": null,
            "align_self": null,
            "border": null,
            "bottom": null,
            "display": null,
            "flex": null,
            "flex_flow": null,
            "grid_area": null,
            "grid_auto_columns": null,
            "grid_auto_flow": null,
            "grid_auto_rows": null,
            "grid_column": null,
            "grid_gap": null,
            "grid_row": null,
            "grid_template_areas": null,
            "grid_template_columns": null,
            "grid_template_rows": null,
            "height": null,
            "justify_content": null,
            "justify_items": null,
            "left": null,
            "margin": null,
            "max_height": null,
            "max_width": null,
            "min_height": null,
            "min_width": null,
            "object_fit": null,
            "object_position": null,
            "order": null,
            "overflow": null,
            "overflow_x": null,
            "overflow_y": null,
            "padding": null,
            "right": null,
            "top": null,
            "visibility": null,
            "width": null
          }
        },
        "a832122dbabe4dff97a44a96ce260b2c": {
          "model_module": "@jupyter-widgets/controls",
          "model_name": "ProgressStyleModel",
          "model_module_version": "1.5.0",
          "state": {
            "_model_module": "@jupyter-widgets/controls",
            "_model_module_version": "1.5.0",
            "_model_name": "ProgressStyleModel",
            "_view_count": null,
            "_view_module": "@jupyter-widgets/base",
            "_view_module_version": "1.2.0",
            "_view_name": "StyleView",
            "bar_color": null,
            "description_width": ""
          }
        },
        "ceda8324366a469b9b6ddb3372db9704": {
          "model_module": "@jupyter-widgets/controls",
          "model_name": "VBoxModel",
          "model_module_version": "1.5.0",
          "state": {
            "_dom_classes": [],
            "_model_module": "@jupyter-widgets/controls",
            "_model_module_version": "1.5.0",
            "_model_name": "VBoxModel",
            "_view_count": null,
            "_view_module": "@jupyter-widgets/controls",
            "_view_module_version": "1.5.0",
            "_view_name": "VBoxView",
            "box_style": "",
            "children": [
              "IPY_MODEL_01c1d52b9128422ba4473f2dc06965ae",
              "IPY_MODEL_7033912519094210ae964227c065e3b8"
            ],
            "layout": "IPY_MODEL_1d15cf6c22354c30af3e725e98019791"
          }
        },
        "01c1d52b9128422ba4473f2dc06965ae": {
          "model_module": "@jupyter-widgets/controls",
          "model_name": "LabelModel",
          "model_module_version": "1.5.0",
          "state": {
            "_dom_classes": [],
            "_model_module": "@jupyter-widgets/controls",
            "_model_module_version": "1.5.0",
            "_model_name": "LabelModel",
            "_view_count": null,
            "_view_module": "@jupyter-widgets/controls",
            "_view_module_version": "1.5.0",
            "_view_name": "LabelView",
            "description": "",
            "description_tooltip": null,
            "layout": "IPY_MODEL_fe839137fbf54d1480a807f50db0a06d",
            "placeholder": "​",
            "style": "IPY_MODEL_fe02a067b8ef403f8c446bb7d6772365",
            "value": "Waiting for wandb.init()...\r"
          }
        },
        "7033912519094210ae964227c065e3b8": {
          "model_module": "@jupyter-widgets/controls",
          "model_name": "FloatProgressModel",
          "model_module_version": "1.5.0",
          "state": {
            "_dom_classes": [],
            "_model_module": "@jupyter-widgets/controls",
            "_model_module_version": "1.5.0",
            "_model_name": "FloatProgressModel",
            "_view_count": null,
            "_view_module": "@jupyter-widgets/controls",
            "_view_module_version": "1.5.0",
            "_view_name": "ProgressView",
            "bar_style": "",
            "description": "",
            "description_tooltip": null,
            "layout": "IPY_MODEL_0c8541b5f833492ca72b0ae53c209fd5",
            "max": 1,
            "min": 0,
            "orientation": "horizontal",
            "style": "IPY_MODEL_5c71bf18b19345a1bb7895e2b295e1b6",
            "value": 1
          }
        },
        "1d15cf6c22354c30af3e725e98019791": {
          "model_module": "@jupyter-widgets/base",
          "model_name": "LayoutModel",
          "model_module_version": "1.2.0",
          "state": {
            "_model_module": "@jupyter-widgets/base",
            "_model_module_version": "1.2.0",
            "_model_name": "LayoutModel",
            "_view_count": null,
            "_view_module": "@jupyter-widgets/base",
            "_view_module_version": "1.2.0",
            "_view_name": "LayoutView",
            "align_content": null,
            "align_items": null,
            "align_self": null,
            "border": null,
            "bottom": null,
            "display": null,
            "flex": null,
            "flex_flow": null,
            "grid_area": null,
            "grid_auto_columns": null,
            "grid_auto_flow": null,
            "grid_auto_rows": null,
            "grid_column": null,
            "grid_gap": null,
            "grid_row": null,
            "grid_template_areas": null,
            "grid_template_columns": null,
            "grid_template_rows": null,
            "height": null,
            "justify_content": null,
            "justify_items": null,
            "left": null,
            "margin": null,
            "max_height": null,
            "max_width": null,
            "min_height": null,
            "min_width": null,
            "object_fit": null,
            "object_position": null,
            "order": null,
            "overflow": null,
            "overflow_x": null,
            "overflow_y": null,
            "padding": null,
            "right": null,
            "top": null,
            "visibility": null,
            "width": null
          }
        },
        "fe839137fbf54d1480a807f50db0a06d": {
          "model_module": "@jupyter-widgets/base",
          "model_name": "LayoutModel",
          "model_module_version": "1.2.0",
          "state": {
            "_model_module": "@jupyter-widgets/base",
            "_model_module_version": "1.2.0",
            "_model_name": "LayoutModel",
            "_view_count": null,
            "_view_module": "@jupyter-widgets/base",
            "_view_module_version": "1.2.0",
            "_view_name": "LayoutView",
            "align_content": null,
            "align_items": null,
            "align_self": null,
            "border": null,
            "bottom": null,
            "display": null,
            "flex": null,
            "flex_flow": null,
            "grid_area": null,
            "grid_auto_columns": null,
            "grid_auto_flow": null,
            "grid_auto_rows": null,
            "grid_column": null,
            "grid_gap": null,
            "grid_row": null,
            "grid_template_areas": null,
            "grid_template_columns": null,
            "grid_template_rows": null,
            "height": null,
            "justify_content": null,
            "justify_items": null,
            "left": null,
            "margin": null,
            "max_height": null,
            "max_width": null,
            "min_height": null,
            "min_width": null,
            "object_fit": null,
            "object_position": null,
            "order": null,
            "overflow": null,
            "overflow_x": null,
            "overflow_y": null,
            "padding": null,
            "right": null,
            "top": null,
            "visibility": null,
            "width": null
          }
        },
        "fe02a067b8ef403f8c446bb7d6772365": {
          "model_module": "@jupyter-widgets/controls",
          "model_name": "DescriptionStyleModel",
          "model_module_version": "1.5.0",
          "state": {
            "_model_module": "@jupyter-widgets/controls",
            "_model_module_version": "1.5.0",
            "_model_name": "DescriptionStyleModel",
            "_view_count": null,
            "_view_module": "@jupyter-widgets/base",
            "_view_module_version": "1.2.0",
            "_view_name": "StyleView",
            "description_width": ""
          }
        },
        "0c8541b5f833492ca72b0ae53c209fd5": {
          "model_module": "@jupyter-widgets/base",
          "model_name": "LayoutModel",
          "model_module_version": "1.2.0",
          "state": {
            "_model_module": "@jupyter-widgets/base",
            "_model_module_version": "1.2.0",
            "_model_name": "LayoutModel",
            "_view_count": null,
            "_view_module": "@jupyter-widgets/base",
            "_view_module_version": "1.2.0",
            "_view_name": "LayoutView",
            "align_content": null,
            "align_items": null,
            "align_self": null,
            "border": null,
            "bottom": null,
            "display": null,
            "flex": null,
            "flex_flow": null,
            "grid_area": null,
            "grid_auto_columns": null,
            "grid_auto_flow": null,
            "grid_auto_rows": null,
            "grid_column": null,
            "grid_gap": null,
            "grid_row": null,
            "grid_template_areas": null,
            "grid_template_columns": null,
            "grid_template_rows": null,
            "height": null,
            "justify_content": null,
            "justify_items": null,
            "left": null,
            "margin": null,
            "max_height": null,
            "max_width": null,
            "min_height": null,
            "min_width": null,
            "object_fit": null,
            "object_position": null,
            "order": null,
            "overflow": null,
            "overflow_x": null,
            "overflow_y": null,
            "padding": null,
            "right": null,
            "top": null,
            "visibility": null,
            "width": null
          }
        },
        "5c71bf18b19345a1bb7895e2b295e1b6": {
          "model_module": "@jupyter-widgets/controls",
          "model_name": "ProgressStyleModel",
          "model_module_version": "1.5.0",
          "state": {
            "_model_module": "@jupyter-widgets/controls",
            "_model_module_version": "1.5.0",
            "_model_name": "ProgressStyleModel",
            "_view_count": null,
            "_view_module": "@jupyter-widgets/base",
            "_view_module_version": "1.2.0",
            "_view_name": "StyleView",
            "bar_color": null,
            "description_width": ""
          }
        },
        "6492989034ea4c498e5c381299bb8206": {
          "model_module": "@jupyter-widgets/controls",
          "model_name": "VBoxModel",
          "model_module_version": "1.5.0",
          "state": {
            "_dom_classes": [],
            "_model_module": "@jupyter-widgets/controls",
            "_model_module_version": "1.5.0",
            "_model_name": "VBoxModel",
            "_view_count": null,
            "_view_module": "@jupyter-widgets/controls",
            "_view_module_version": "1.5.0",
            "_view_name": "VBoxView",
            "box_style": "",
            "children": [
              "IPY_MODEL_7dfe21160011489ba4251a54c39bdee6",
              "IPY_MODEL_a5c5c792deb64c68a9483d69744c9c82"
            ],
            "layout": "IPY_MODEL_e74a6f71bd1a488896dbab7c8384e0a9"
          }
        },
        "7dfe21160011489ba4251a54c39bdee6": {
          "model_module": "@jupyter-widgets/controls",
          "model_name": "LabelModel",
          "model_module_version": "1.5.0",
          "state": {
            "_dom_classes": [],
            "_model_module": "@jupyter-widgets/controls",
            "_model_module_version": "1.5.0",
            "_model_name": "LabelModel",
            "_view_count": null,
            "_view_module": "@jupyter-widgets/controls",
            "_view_module_version": "1.5.0",
            "_view_name": "LabelView",
            "description": "",
            "description_tooltip": null,
            "layout": "IPY_MODEL_7d3d2ba549934cd0bfcb236252467f9a",
            "placeholder": "​",
            "style": "IPY_MODEL_492eb289a8844affb426de2f72f8ca5e",
            "value": "0.015 MB of 0.015 MB uploaded\r"
          }
        },
        "a5c5c792deb64c68a9483d69744c9c82": {
          "model_module": "@jupyter-widgets/controls",
          "model_name": "FloatProgressModel",
          "model_module_version": "1.5.0",
          "state": {
            "_dom_classes": [],
            "_model_module": "@jupyter-widgets/controls",
            "_model_module_version": "1.5.0",
            "_model_name": "FloatProgressModel",
            "_view_count": null,
            "_view_module": "@jupyter-widgets/controls",
            "_view_module_version": "1.5.0",
            "_view_name": "ProgressView",
            "bar_style": "",
            "description": "",
            "description_tooltip": null,
            "layout": "IPY_MODEL_8259360ad79a416a8dfb6b25a84b30d0",
            "max": 1,
            "min": 0,
            "orientation": "horizontal",
            "style": "IPY_MODEL_8e0dcf7e7193403db8da8720d6d33ed1",
            "value": 1
          }
        },
        "e74a6f71bd1a488896dbab7c8384e0a9": {
          "model_module": "@jupyter-widgets/base",
          "model_name": "LayoutModel",
          "model_module_version": "1.2.0",
          "state": {
            "_model_module": "@jupyter-widgets/base",
            "_model_module_version": "1.2.0",
            "_model_name": "LayoutModel",
            "_view_count": null,
            "_view_module": "@jupyter-widgets/base",
            "_view_module_version": "1.2.0",
            "_view_name": "LayoutView",
            "align_content": null,
            "align_items": null,
            "align_self": null,
            "border": null,
            "bottom": null,
            "display": null,
            "flex": null,
            "flex_flow": null,
            "grid_area": null,
            "grid_auto_columns": null,
            "grid_auto_flow": null,
            "grid_auto_rows": null,
            "grid_column": null,
            "grid_gap": null,
            "grid_row": null,
            "grid_template_areas": null,
            "grid_template_columns": null,
            "grid_template_rows": null,
            "height": null,
            "justify_content": null,
            "justify_items": null,
            "left": null,
            "margin": null,
            "max_height": null,
            "max_width": null,
            "min_height": null,
            "min_width": null,
            "object_fit": null,
            "object_position": null,
            "order": null,
            "overflow": null,
            "overflow_x": null,
            "overflow_y": null,
            "padding": null,
            "right": null,
            "top": null,
            "visibility": null,
            "width": null
          }
        },
        "7d3d2ba549934cd0bfcb236252467f9a": {
          "model_module": "@jupyter-widgets/base",
          "model_name": "LayoutModel",
          "model_module_version": "1.2.0",
          "state": {
            "_model_module": "@jupyter-widgets/base",
            "_model_module_version": "1.2.0",
            "_model_name": "LayoutModel",
            "_view_count": null,
            "_view_module": "@jupyter-widgets/base",
            "_view_module_version": "1.2.0",
            "_view_name": "LayoutView",
            "align_content": null,
            "align_items": null,
            "align_self": null,
            "border": null,
            "bottom": null,
            "display": null,
            "flex": null,
            "flex_flow": null,
            "grid_area": null,
            "grid_auto_columns": null,
            "grid_auto_flow": null,
            "grid_auto_rows": null,
            "grid_column": null,
            "grid_gap": null,
            "grid_row": null,
            "grid_template_areas": null,
            "grid_template_columns": null,
            "grid_template_rows": null,
            "height": null,
            "justify_content": null,
            "justify_items": null,
            "left": null,
            "margin": null,
            "max_height": null,
            "max_width": null,
            "min_height": null,
            "min_width": null,
            "object_fit": null,
            "object_position": null,
            "order": null,
            "overflow": null,
            "overflow_x": null,
            "overflow_y": null,
            "padding": null,
            "right": null,
            "top": null,
            "visibility": null,
            "width": null
          }
        },
        "492eb289a8844affb426de2f72f8ca5e": {
          "model_module": "@jupyter-widgets/controls",
          "model_name": "DescriptionStyleModel",
          "model_module_version": "1.5.0",
          "state": {
            "_model_module": "@jupyter-widgets/controls",
            "_model_module_version": "1.5.0",
            "_model_name": "DescriptionStyleModel",
            "_view_count": null,
            "_view_module": "@jupyter-widgets/base",
            "_view_module_version": "1.2.0",
            "_view_name": "StyleView",
            "description_width": ""
          }
        },
        "8259360ad79a416a8dfb6b25a84b30d0": {
          "model_module": "@jupyter-widgets/base",
          "model_name": "LayoutModel",
          "model_module_version": "1.2.0",
          "state": {
            "_model_module": "@jupyter-widgets/base",
            "_model_module_version": "1.2.0",
            "_model_name": "LayoutModel",
            "_view_count": null,
            "_view_module": "@jupyter-widgets/base",
            "_view_module_version": "1.2.0",
            "_view_name": "LayoutView",
            "align_content": null,
            "align_items": null,
            "align_self": null,
            "border": null,
            "bottom": null,
            "display": null,
            "flex": null,
            "flex_flow": null,
            "grid_area": null,
            "grid_auto_columns": null,
            "grid_auto_flow": null,
            "grid_auto_rows": null,
            "grid_column": null,
            "grid_gap": null,
            "grid_row": null,
            "grid_template_areas": null,
            "grid_template_columns": null,
            "grid_template_rows": null,
            "height": null,
            "justify_content": null,
            "justify_items": null,
            "left": null,
            "margin": null,
            "max_height": null,
            "max_width": null,
            "min_height": null,
            "min_width": null,
            "object_fit": null,
            "object_position": null,
            "order": null,
            "overflow": null,
            "overflow_x": null,
            "overflow_y": null,
            "padding": null,
            "right": null,
            "top": null,
            "visibility": null,
            "width": null
          }
        },
        "8e0dcf7e7193403db8da8720d6d33ed1": {
          "model_module": "@jupyter-widgets/controls",
          "model_name": "ProgressStyleModel",
          "model_module_version": "1.5.0",
          "state": {
            "_model_module": "@jupyter-widgets/controls",
            "_model_module_version": "1.5.0",
            "_model_name": "ProgressStyleModel",
            "_view_count": null,
            "_view_module": "@jupyter-widgets/base",
            "_view_module_version": "1.2.0",
            "_view_name": "StyleView",
            "bar_color": null,
            "description_width": ""
          }
        },
        "d4560a72ce394eb48f9282cb8309df83": {
          "model_module": "@jupyter-widgets/controls",
          "model_name": "VBoxModel",
          "model_module_version": "1.5.0",
          "state": {
            "_dom_classes": [],
            "_model_module": "@jupyter-widgets/controls",
            "_model_module_version": "1.5.0",
            "_model_name": "VBoxModel",
            "_view_count": null,
            "_view_module": "@jupyter-widgets/controls",
            "_view_module_version": "1.5.0",
            "_view_name": "VBoxView",
            "box_style": "",
            "children": [
              "IPY_MODEL_951fe23a27374899bf0919757f9cc18f",
              "IPY_MODEL_7ae93df66ac647219d1acd12e9fc298c"
            ],
            "layout": "IPY_MODEL_75b57823de844f098a3b3fb8d44482b5"
          }
        },
        "951fe23a27374899bf0919757f9cc18f": {
          "model_module": "@jupyter-widgets/controls",
          "model_name": "LabelModel",
          "model_module_version": "1.5.0",
          "state": {
            "_dom_classes": [],
            "_model_module": "@jupyter-widgets/controls",
            "_model_module_version": "1.5.0",
            "_model_name": "LabelModel",
            "_view_count": null,
            "_view_module": "@jupyter-widgets/controls",
            "_view_module_version": "1.5.0",
            "_view_name": "LabelView",
            "description": "",
            "description_tooltip": null,
            "layout": "IPY_MODEL_1b11d93a8b8848b4aa094d245377f1eb",
            "placeholder": "​",
            "style": "IPY_MODEL_b32c40b9d7b24d2e9c694e29cf4b0b5a",
            "value": "0.016 MB of 0.016 MB uploaded\r"
          }
        },
        "7ae93df66ac647219d1acd12e9fc298c": {
          "model_module": "@jupyter-widgets/controls",
          "model_name": "FloatProgressModel",
          "model_module_version": "1.5.0",
          "state": {
            "_dom_classes": [],
            "_model_module": "@jupyter-widgets/controls",
            "_model_module_version": "1.5.0",
            "_model_name": "FloatProgressModel",
            "_view_count": null,
            "_view_module": "@jupyter-widgets/controls",
            "_view_module_version": "1.5.0",
            "_view_name": "ProgressView",
            "bar_style": "",
            "description": "",
            "description_tooltip": null,
            "layout": "IPY_MODEL_08bcff56e3124695a32ab13bb752d761",
            "max": 1,
            "min": 0,
            "orientation": "horizontal",
            "style": "IPY_MODEL_116ec239090e4474be41c17953751957",
            "value": 1
          }
        },
        "75b57823de844f098a3b3fb8d44482b5": {
          "model_module": "@jupyter-widgets/base",
          "model_name": "LayoutModel",
          "model_module_version": "1.2.0",
          "state": {
            "_model_module": "@jupyter-widgets/base",
            "_model_module_version": "1.2.0",
            "_model_name": "LayoutModel",
            "_view_count": null,
            "_view_module": "@jupyter-widgets/base",
            "_view_module_version": "1.2.0",
            "_view_name": "LayoutView",
            "align_content": null,
            "align_items": null,
            "align_self": null,
            "border": null,
            "bottom": null,
            "display": null,
            "flex": null,
            "flex_flow": null,
            "grid_area": null,
            "grid_auto_columns": null,
            "grid_auto_flow": null,
            "grid_auto_rows": null,
            "grid_column": null,
            "grid_gap": null,
            "grid_row": null,
            "grid_template_areas": null,
            "grid_template_columns": null,
            "grid_template_rows": null,
            "height": null,
            "justify_content": null,
            "justify_items": null,
            "left": null,
            "margin": null,
            "max_height": null,
            "max_width": null,
            "min_height": null,
            "min_width": null,
            "object_fit": null,
            "object_position": null,
            "order": null,
            "overflow": null,
            "overflow_x": null,
            "overflow_y": null,
            "padding": null,
            "right": null,
            "top": null,
            "visibility": null,
            "width": null
          }
        },
        "1b11d93a8b8848b4aa094d245377f1eb": {
          "model_module": "@jupyter-widgets/base",
          "model_name": "LayoutModel",
          "model_module_version": "1.2.0",
          "state": {
            "_model_module": "@jupyter-widgets/base",
            "_model_module_version": "1.2.0",
            "_model_name": "LayoutModel",
            "_view_count": null,
            "_view_module": "@jupyter-widgets/base",
            "_view_module_version": "1.2.0",
            "_view_name": "LayoutView",
            "align_content": null,
            "align_items": null,
            "align_self": null,
            "border": null,
            "bottom": null,
            "display": null,
            "flex": null,
            "flex_flow": null,
            "grid_area": null,
            "grid_auto_columns": null,
            "grid_auto_flow": null,
            "grid_auto_rows": null,
            "grid_column": null,
            "grid_gap": null,
            "grid_row": null,
            "grid_template_areas": null,
            "grid_template_columns": null,
            "grid_template_rows": null,
            "height": null,
            "justify_content": null,
            "justify_items": null,
            "left": null,
            "margin": null,
            "max_height": null,
            "max_width": null,
            "min_height": null,
            "min_width": null,
            "object_fit": null,
            "object_position": null,
            "order": null,
            "overflow": null,
            "overflow_x": null,
            "overflow_y": null,
            "padding": null,
            "right": null,
            "top": null,
            "visibility": null,
            "width": null
          }
        },
        "b32c40b9d7b24d2e9c694e29cf4b0b5a": {
          "model_module": "@jupyter-widgets/controls",
          "model_name": "DescriptionStyleModel",
          "model_module_version": "1.5.0",
          "state": {
            "_model_module": "@jupyter-widgets/controls",
            "_model_module_version": "1.5.0",
            "_model_name": "DescriptionStyleModel",
            "_view_count": null,
            "_view_module": "@jupyter-widgets/base",
            "_view_module_version": "1.2.0",
            "_view_name": "StyleView",
            "description_width": ""
          }
        },
        "08bcff56e3124695a32ab13bb752d761": {
          "model_module": "@jupyter-widgets/base",
          "model_name": "LayoutModel",
          "model_module_version": "1.2.0",
          "state": {
            "_model_module": "@jupyter-widgets/base",
            "_model_module_version": "1.2.0",
            "_model_name": "LayoutModel",
            "_view_count": null,
            "_view_module": "@jupyter-widgets/base",
            "_view_module_version": "1.2.0",
            "_view_name": "LayoutView",
            "align_content": null,
            "align_items": null,
            "align_self": null,
            "border": null,
            "bottom": null,
            "display": null,
            "flex": null,
            "flex_flow": null,
            "grid_area": null,
            "grid_auto_columns": null,
            "grid_auto_flow": null,
            "grid_auto_rows": null,
            "grid_column": null,
            "grid_gap": null,
            "grid_row": null,
            "grid_template_areas": null,
            "grid_template_columns": null,
            "grid_template_rows": null,
            "height": null,
            "justify_content": null,
            "justify_items": null,
            "left": null,
            "margin": null,
            "max_height": null,
            "max_width": null,
            "min_height": null,
            "min_width": null,
            "object_fit": null,
            "object_position": null,
            "order": null,
            "overflow": null,
            "overflow_x": null,
            "overflow_y": null,
            "padding": null,
            "right": null,
            "top": null,
            "visibility": null,
            "width": null
          }
        },
        "116ec239090e4474be41c17953751957": {
          "model_module": "@jupyter-widgets/controls",
          "model_name": "ProgressStyleModel",
          "model_module_version": "1.5.0",
          "state": {
            "_model_module": "@jupyter-widgets/controls",
            "_model_module_version": "1.5.0",
            "_model_name": "ProgressStyleModel",
            "_view_count": null,
            "_view_module": "@jupyter-widgets/base",
            "_view_module_version": "1.2.0",
            "_view_name": "StyleView",
            "bar_color": null,
            "description_width": ""
          }
        },
        "dd75b7034a9c41da81fc6eb32c1b9dbb": {
          "model_module": "@jupyter-widgets/controls",
          "model_name": "VBoxModel",
          "model_module_version": "1.5.0",
          "state": {
            "_dom_classes": [],
            "_model_module": "@jupyter-widgets/controls",
            "_model_module_version": "1.5.0",
            "_model_name": "VBoxModel",
            "_view_count": null,
            "_view_module": "@jupyter-widgets/controls",
            "_view_module_version": "1.5.0",
            "_view_name": "VBoxView",
            "box_style": "",
            "children": [
              "IPY_MODEL_9fb4aa5cf5274ef2b213b0ab79653f88",
              "IPY_MODEL_90287507329143d38c0dd3205c8689c9"
            ],
            "layout": "IPY_MODEL_184b85b494e847e091c3d639bf21ece9"
          }
        },
        "9fb4aa5cf5274ef2b213b0ab79653f88": {
          "model_module": "@jupyter-widgets/controls",
          "model_name": "LabelModel",
          "model_module_version": "1.5.0",
          "state": {
            "_dom_classes": [],
            "_model_module": "@jupyter-widgets/controls",
            "_model_module_version": "1.5.0",
            "_model_name": "LabelModel",
            "_view_count": null,
            "_view_module": "@jupyter-widgets/controls",
            "_view_module_version": "1.5.0",
            "_view_name": "LabelView",
            "description": "",
            "description_tooltip": null,
            "layout": "IPY_MODEL_6700e50c530d4888b6aaa1dc37964bc9",
            "placeholder": "​",
            "style": "IPY_MODEL_9a795e9354034f18a754f140ded17257",
            "value": "0.016 MB of 0.016 MB uploaded\r"
          }
        },
        "90287507329143d38c0dd3205c8689c9": {
          "model_module": "@jupyter-widgets/controls",
          "model_name": "FloatProgressModel",
          "model_module_version": "1.5.0",
          "state": {
            "_dom_classes": [],
            "_model_module": "@jupyter-widgets/controls",
            "_model_module_version": "1.5.0",
            "_model_name": "FloatProgressModel",
            "_view_count": null,
            "_view_module": "@jupyter-widgets/controls",
            "_view_module_version": "1.5.0",
            "_view_name": "ProgressView",
            "bar_style": "",
            "description": "",
            "description_tooltip": null,
            "layout": "IPY_MODEL_8c36518af5b8479b865fcc328f30f5b6",
            "max": 1,
            "min": 0,
            "orientation": "horizontal",
            "style": "IPY_MODEL_8b36b490f7f742fabf06dbe8ae1a2077",
            "value": 1
          }
        },
        "184b85b494e847e091c3d639bf21ece9": {
          "model_module": "@jupyter-widgets/base",
          "model_name": "LayoutModel",
          "model_module_version": "1.2.0",
          "state": {
            "_model_module": "@jupyter-widgets/base",
            "_model_module_version": "1.2.0",
            "_model_name": "LayoutModel",
            "_view_count": null,
            "_view_module": "@jupyter-widgets/base",
            "_view_module_version": "1.2.0",
            "_view_name": "LayoutView",
            "align_content": null,
            "align_items": null,
            "align_self": null,
            "border": null,
            "bottom": null,
            "display": null,
            "flex": null,
            "flex_flow": null,
            "grid_area": null,
            "grid_auto_columns": null,
            "grid_auto_flow": null,
            "grid_auto_rows": null,
            "grid_column": null,
            "grid_gap": null,
            "grid_row": null,
            "grid_template_areas": null,
            "grid_template_columns": null,
            "grid_template_rows": null,
            "height": null,
            "justify_content": null,
            "justify_items": null,
            "left": null,
            "margin": null,
            "max_height": null,
            "max_width": null,
            "min_height": null,
            "min_width": null,
            "object_fit": null,
            "object_position": null,
            "order": null,
            "overflow": null,
            "overflow_x": null,
            "overflow_y": null,
            "padding": null,
            "right": null,
            "top": null,
            "visibility": null,
            "width": null
          }
        },
        "6700e50c530d4888b6aaa1dc37964bc9": {
          "model_module": "@jupyter-widgets/base",
          "model_name": "LayoutModel",
          "model_module_version": "1.2.0",
          "state": {
            "_model_module": "@jupyter-widgets/base",
            "_model_module_version": "1.2.0",
            "_model_name": "LayoutModel",
            "_view_count": null,
            "_view_module": "@jupyter-widgets/base",
            "_view_module_version": "1.2.0",
            "_view_name": "LayoutView",
            "align_content": null,
            "align_items": null,
            "align_self": null,
            "border": null,
            "bottom": null,
            "display": null,
            "flex": null,
            "flex_flow": null,
            "grid_area": null,
            "grid_auto_columns": null,
            "grid_auto_flow": null,
            "grid_auto_rows": null,
            "grid_column": null,
            "grid_gap": null,
            "grid_row": null,
            "grid_template_areas": null,
            "grid_template_columns": null,
            "grid_template_rows": null,
            "height": null,
            "justify_content": null,
            "justify_items": null,
            "left": null,
            "margin": null,
            "max_height": null,
            "max_width": null,
            "min_height": null,
            "min_width": null,
            "object_fit": null,
            "object_position": null,
            "order": null,
            "overflow": null,
            "overflow_x": null,
            "overflow_y": null,
            "padding": null,
            "right": null,
            "top": null,
            "visibility": null,
            "width": null
          }
        },
        "9a795e9354034f18a754f140ded17257": {
          "model_module": "@jupyter-widgets/controls",
          "model_name": "DescriptionStyleModel",
          "model_module_version": "1.5.0",
          "state": {
            "_model_module": "@jupyter-widgets/controls",
            "_model_module_version": "1.5.0",
            "_model_name": "DescriptionStyleModel",
            "_view_count": null,
            "_view_module": "@jupyter-widgets/base",
            "_view_module_version": "1.2.0",
            "_view_name": "StyleView",
            "description_width": ""
          }
        },
        "8c36518af5b8479b865fcc328f30f5b6": {
          "model_module": "@jupyter-widgets/base",
          "model_name": "LayoutModel",
          "model_module_version": "1.2.0",
          "state": {
            "_model_module": "@jupyter-widgets/base",
            "_model_module_version": "1.2.0",
            "_model_name": "LayoutModel",
            "_view_count": null,
            "_view_module": "@jupyter-widgets/base",
            "_view_module_version": "1.2.0",
            "_view_name": "LayoutView",
            "align_content": null,
            "align_items": null,
            "align_self": null,
            "border": null,
            "bottom": null,
            "display": null,
            "flex": null,
            "flex_flow": null,
            "grid_area": null,
            "grid_auto_columns": null,
            "grid_auto_flow": null,
            "grid_auto_rows": null,
            "grid_column": null,
            "grid_gap": null,
            "grid_row": null,
            "grid_template_areas": null,
            "grid_template_columns": null,
            "grid_template_rows": null,
            "height": null,
            "justify_content": null,
            "justify_items": null,
            "left": null,
            "margin": null,
            "max_height": null,
            "max_width": null,
            "min_height": null,
            "min_width": null,
            "object_fit": null,
            "object_position": null,
            "order": null,
            "overflow": null,
            "overflow_x": null,
            "overflow_y": null,
            "padding": null,
            "right": null,
            "top": null,
            "visibility": null,
            "width": null
          }
        },
        "8b36b490f7f742fabf06dbe8ae1a2077": {
          "model_module": "@jupyter-widgets/controls",
          "model_name": "ProgressStyleModel",
          "model_module_version": "1.5.0",
          "state": {
            "_model_module": "@jupyter-widgets/controls",
            "_model_module_version": "1.5.0",
            "_model_name": "ProgressStyleModel",
            "_view_count": null,
            "_view_module": "@jupyter-widgets/base",
            "_view_module_version": "1.2.0",
            "_view_name": "StyleView",
            "bar_color": null,
            "description_width": ""
          }
        },
        "f624added9e8421ba125d2557bf96bae": {
          "model_module": "@jupyter-widgets/controls",
          "model_name": "VBoxModel",
          "model_module_version": "1.5.0",
          "state": {
            "_dom_classes": [],
            "_model_module": "@jupyter-widgets/controls",
            "_model_module_version": "1.5.0",
            "_model_name": "VBoxModel",
            "_view_count": null,
            "_view_module": "@jupyter-widgets/controls",
            "_view_module_version": "1.5.0",
            "_view_name": "VBoxView",
            "box_style": "",
            "children": [
              "IPY_MODEL_770d6ed29fef48299f526e797eed18f6",
              "IPY_MODEL_495be25acb3a4ca1b7df51cc053950b0"
            ],
            "layout": "IPY_MODEL_d2ced712297e4fb89f6f3209e76025dd"
          }
        },
        "770d6ed29fef48299f526e797eed18f6": {
          "model_module": "@jupyter-widgets/controls",
          "model_name": "LabelModel",
          "model_module_version": "1.5.0",
          "state": {
            "_dom_classes": [],
            "_model_module": "@jupyter-widgets/controls",
            "_model_module_version": "1.5.0",
            "_model_name": "LabelModel",
            "_view_count": null,
            "_view_module": "@jupyter-widgets/controls",
            "_view_module_version": "1.5.0",
            "_view_name": "LabelView",
            "description": "",
            "description_tooltip": null,
            "layout": "IPY_MODEL_9e90786077a0440282e58630061b0911",
            "placeholder": "​",
            "style": "IPY_MODEL_9bd923e6bc0e4657af97997906025a1c",
            "value": "0.016 MB of 0.016 MB uploaded\r"
          }
        },
        "495be25acb3a4ca1b7df51cc053950b0": {
          "model_module": "@jupyter-widgets/controls",
          "model_name": "FloatProgressModel",
          "model_module_version": "1.5.0",
          "state": {
            "_dom_classes": [],
            "_model_module": "@jupyter-widgets/controls",
            "_model_module_version": "1.5.0",
            "_model_name": "FloatProgressModel",
            "_view_count": null,
            "_view_module": "@jupyter-widgets/controls",
            "_view_module_version": "1.5.0",
            "_view_name": "ProgressView",
            "bar_style": "",
            "description": "",
            "description_tooltip": null,
            "layout": "IPY_MODEL_0b49fe9baa544612b8602cb5d5653181",
            "max": 1,
            "min": 0,
            "orientation": "horizontal",
            "style": "IPY_MODEL_ec9158ea88594a7ebaaa99d8c683dec4",
            "value": 1
          }
        },
        "d2ced712297e4fb89f6f3209e76025dd": {
          "model_module": "@jupyter-widgets/base",
          "model_name": "LayoutModel",
          "model_module_version": "1.2.0",
          "state": {
            "_model_module": "@jupyter-widgets/base",
            "_model_module_version": "1.2.0",
            "_model_name": "LayoutModel",
            "_view_count": null,
            "_view_module": "@jupyter-widgets/base",
            "_view_module_version": "1.2.0",
            "_view_name": "LayoutView",
            "align_content": null,
            "align_items": null,
            "align_self": null,
            "border": null,
            "bottom": null,
            "display": null,
            "flex": null,
            "flex_flow": null,
            "grid_area": null,
            "grid_auto_columns": null,
            "grid_auto_flow": null,
            "grid_auto_rows": null,
            "grid_column": null,
            "grid_gap": null,
            "grid_row": null,
            "grid_template_areas": null,
            "grid_template_columns": null,
            "grid_template_rows": null,
            "height": null,
            "justify_content": null,
            "justify_items": null,
            "left": null,
            "margin": null,
            "max_height": null,
            "max_width": null,
            "min_height": null,
            "min_width": null,
            "object_fit": null,
            "object_position": null,
            "order": null,
            "overflow": null,
            "overflow_x": null,
            "overflow_y": null,
            "padding": null,
            "right": null,
            "top": null,
            "visibility": null,
            "width": null
          }
        },
        "9e90786077a0440282e58630061b0911": {
          "model_module": "@jupyter-widgets/base",
          "model_name": "LayoutModel",
          "model_module_version": "1.2.0",
          "state": {
            "_model_module": "@jupyter-widgets/base",
            "_model_module_version": "1.2.0",
            "_model_name": "LayoutModel",
            "_view_count": null,
            "_view_module": "@jupyter-widgets/base",
            "_view_module_version": "1.2.0",
            "_view_name": "LayoutView",
            "align_content": null,
            "align_items": null,
            "align_self": null,
            "border": null,
            "bottom": null,
            "display": null,
            "flex": null,
            "flex_flow": null,
            "grid_area": null,
            "grid_auto_columns": null,
            "grid_auto_flow": null,
            "grid_auto_rows": null,
            "grid_column": null,
            "grid_gap": null,
            "grid_row": null,
            "grid_template_areas": null,
            "grid_template_columns": null,
            "grid_template_rows": null,
            "height": null,
            "justify_content": null,
            "justify_items": null,
            "left": null,
            "margin": null,
            "max_height": null,
            "max_width": null,
            "min_height": null,
            "min_width": null,
            "object_fit": null,
            "object_position": null,
            "order": null,
            "overflow": null,
            "overflow_x": null,
            "overflow_y": null,
            "padding": null,
            "right": null,
            "top": null,
            "visibility": null,
            "width": null
          }
        },
        "9bd923e6bc0e4657af97997906025a1c": {
          "model_module": "@jupyter-widgets/controls",
          "model_name": "DescriptionStyleModel",
          "model_module_version": "1.5.0",
          "state": {
            "_model_module": "@jupyter-widgets/controls",
            "_model_module_version": "1.5.0",
            "_model_name": "DescriptionStyleModel",
            "_view_count": null,
            "_view_module": "@jupyter-widgets/base",
            "_view_module_version": "1.2.0",
            "_view_name": "StyleView",
            "description_width": ""
          }
        },
        "0b49fe9baa544612b8602cb5d5653181": {
          "model_module": "@jupyter-widgets/base",
          "model_name": "LayoutModel",
          "model_module_version": "1.2.0",
          "state": {
            "_model_module": "@jupyter-widgets/base",
            "_model_module_version": "1.2.0",
            "_model_name": "LayoutModel",
            "_view_count": null,
            "_view_module": "@jupyter-widgets/base",
            "_view_module_version": "1.2.0",
            "_view_name": "LayoutView",
            "align_content": null,
            "align_items": null,
            "align_self": null,
            "border": null,
            "bottom": null,
            "display": null,
            "flex": null,
            "flex_flow": null,
            "grid_area": null,
            "grid_auto_columns": null,
            "grid_auto_flow": null,
            "grid_auto_rows": null,
            "grid_column": null,
            "grid_gap": null,
            "grid_row": null,
            "grid_template_areas": null,
            "grid_template_columns": null,
            "grid_template_rows": null,
            "height": null,
            "justify_content": null,
            "justify_items": null,
            "left": null,
            "margin": null,
            "max_height": null,
            "max_width": null,
            "min_height": null,
            "min_width": null,
            "object_fit": null,
            "object_position": null,
            "order": null,
            "overflow": null,
            "overflow_x": null,
            "overflow_y": null,
            "padding": null,
            "right": null,
            "top": null,
            "visibility": null,
            "width": null
          }
        },
        "ec9158ea88594a7ebaaa99d8c683dec4": {
          "model_module": "@jupyter-widgets/controls",
          "model_name": "ProgressStyleModel",
          "model_module_version": "1.5.0",
          "state": {
            "_model_module": "@jupyter-widgets/controls",
            "_model_module_version": "1.5.0",
            "_model_name": "ProgressStyleModel",
            "_view_count": null,
            "_view_module": "@jupyter-widgets/base",
            "_view_module_version": "1.2.0",
            "_view_name": "StyleView",
            "bar_color": null,
            "description_width": ""
          }
        },
        "1bf44828fdfc437687657d8e94326dc4": {
          "model_module": "@jupyter-widgets/controls",
          "model_name": "VBoxModel",
          "model_module_version": "1.5.0",
          "state": {
            "_dom_classes": [],
            "_model_module": "@jupyter-widgets/controls",
            "_model_module_version": "1.5.0",
            "_model_name": "VBoxModel",
            "_view_count": null,
            "_view_module": "@jupyter-widgets/controls",
            "_view_module_version": "1.5.0",
            "_view_name": "VBoxView",
            "box_style": "",
            "children": [
              "IPY_MODEL_fd64406951bb4a779796c5e962f3d634",
              "IPY_MODEL_51fe70dcd84f4c6da8279f83613af9ae"
            ],
            "layout": "IPY_MODEL_1888d05aaf6544c0acc06ff7a6d7b0ca"
          }
        },
        "fd64406951bb4a779796c5e962f3d634": {
          "model_module": "@jupyter-widgets/controls",
          "model_name": "LabelModel",
          "model_module_version": "1.5.0",
          "state": {
            "_dom_classes": [],
            "_model_module": "@jupyter-widgets/controls",
            "_model_module_version": "1.5.0",
            "_model_name": "LabelModel",
            "_view_count": null,
            "_view_module": "@jupyter-widgets/controls",
            "_view_module_version": "1.5.0",
            "_view_name": "LabelView",
            "description": "",
            "description_tooltip": null,
            "layout": "IPY_MODEL_550685f4067946ada82527f2cdb114b7",
            "placeholder": "​",
            "style": "IPY_MODEL_734cd68b17d94e7ab3c2e7eb5a2764a8",
            "value": "0.016 MB of 0.016 MB uploaded\r"
          }
        },
        "51fe70dcd84f4c6da8279f83613af9ae": {
          "model_module": "@jupyter-widgets/controls",
          "model_name": "FloatProgressModel",
          "model_module_version": "1.5.0",
          "state": {
            "_dom_classes": [],
            "_model_module": "@jupyter-widgets/controls",
            "_model_module_version": "1.5.0",
            "_model_name": "FloatProgressModel",
            "_view_count": null,
            "_view_module": "@jupyter-widgets/controls",
            "_view_module_version": "1.5.0",
            "_view_name": "ProgressView",
            "bar_style": "",
            "description": "",
            "description_tooltip": null,
            "layout": "IPY_MODEL_84260e84c2f64c85afb55f714b63e9b7",
            "max": 1,
            "min": 0,
            "orientation": "horizontal",
            "style": "IPY_MODEL_0fdee1c6b245435fa77bb4f212f78b76",
            "value": 1
          }
        },
        "1888d05aaf6544c0acc06ff7a6d7b0ca": {
          "model_module": "@jupyter-widgets/base",
          "model_name": "LayoutModel",
          "model_module_version": "1.2.0",
          "state": {
            "_model_module": "@jupyter-widgets/base",
            "_model_module_version": "1.2.0",
            "_model_name": "LayoutModel",
            "_view_count": null,
            "_view_module": "@jupyter-widgets/base",
            "_view_module_version": "1.2.0",
            "_view_name": "LayoutView",
            "align_content": null,
            "align_items": null,
            "align_self": null,
            "border": null,
            "bottom": null,
            "display": null,
            "flex": null,
            "flex_flow": null,
            "grid_area": null,
            "grid_auto_columns": null,
            "grid_auto_flow": null,
            "grid_auto_rows": null,
            "grid_column": null,
            "grid_gap": null,
            "grid_row": null,
            "grid_template_areas": null,
            "grid_template_columns": null,
            "grid_template_rows": null,
            "height": null,
            "justify_content": null,
            "justify_items": null,
            "left": null,
            "margin": null,
            "max_height": null,
            "max_width": null,
            "min_height": null,
            "min_width": null,
            "object_fit": null,
            "object_position": null,
            "order": null,
            "overflow": null,
            "overflow_x": null,
            "overflow_y": null,
            "padding": null,
            "right": null,
            "top": null,
            "visibility": null,
            "width": null
          }
        },
        "550685f4067946ada82527f2cdb114b7": {
          "model_module": "@jupyter-widgets/base",
          "model_name": "LayoutModel",
          "model_module_version": "1.2.0",
          "state": {
            "_model_module": "@jupyter-widgets/base",
            "_model_module_version": "1.2.0",
            "_model_name": "LayoutModel",
            "_view_count": null,
            "_view_module": "@jupyter-widgets/base",
            "_view_module_version": "1.2.0",
            "_view_name": "LayoutView",
            "align_content": null,
            "align_items": null,
            "align_self": null,
            "border": null,
            "bottom": null,
            "display": null,
            "flex": null,
            "flex_flow": null,
            "grid_area": null,
            "grid_auto_columns": null,
            "grid_auto_flow": null,
            "grid_auto_rows": null,
            "grid_column": null,
            "grid_gap": null,
            "grid_row": null,
            "grid_template_areas": null,
            "grid_template_columns": null,
            "grid_template_rows": null,
            "height": null,
            "justify_content": null,
            "justify_items": null,
            "left": null,
            "margin": null,
            "max_height": null,
            "max_width": null,
            "min_height": null,
            "min_width": null,
            "object_fit": null,
            "object_position": null,
            "order": null,
            "overflow": null,
            "overflow_x": null,
            "overflow_y": null,
            "padding": null,
            "right": null,
            "top": null,
            "visibility": null,
            "width": null
          }
        },
        "734cd68b17d94e7ab3c2e7eb5a2764a8": {
          "model_module": "@jupyter-widgets/controls",
          "model_name": "DescriptionStyleModel",
          "model_module_version": "1.5.0",
          "state": {
            "_model_module": "@jupyter-widgets/controls",
            "_model_module_version": "1.5.0",
            "_model_name": "DescriptionStyleModel",
            "_view_count": null,
            "_view_module": "@jupyter-widgets/base",
            "_view_module_version": "1.2.0",
            "_view_name": "StyleView",
            "description_width": ""
          }
        },
        "84260e84c2f64c85afb55f714b63e9b7": {
          "model_module": "@jupyter-widgets/base",
          "model_name": "LayoutModel",
          "model_module_version": "1.2.0",
          "state": {
            "_model_module": "@jupyter-widgets/base",
            "_model_module_version": "1.2.0",
            "_model_name": "LayoutModel",
            "_view_count": null,
            "_view_module": "@jupyter-widgets/base",
            "_view_module_version": "1.2.0",
            "_view_name": "LayoutView",
            "align_content": null,
            "align_items": null,
            "align_self": null,
            "border": null,
            "bottom": null,
            "display": null,
            "flex": null,
            "flex_flow": null,
            "grid_area": null,
            "grid_auto_columns": null,
            "grid_auto_flow": null,
            "grid_auto_rows": null,
            "grid_column": null,
            "grid_gap": null,
            "grid_row": null,
            "grid_template_areas": null,
            "grid_template_columns": null,
            "grid_template_rows": null,
            "height": null,
            "justify_content": null,
            "justify_items": null,
            "left": null,
            "margin": null,
            "max_height": null,
            "max_width": null,
            "min_height": null,
            "min_width": null,
            "object_fit": null,
            "object_position": null,
            "order": null,
            "overflow": null,
            "overflow_x": null,
            "overflow_y": null,
            "padding": null,
            "right": null,
            "top": null,
            "visibility": null,
            "width": null
          }
        },
        "0fdee1c6b245435fa77bb4f212f78b76": {
          "model_module": "@jupyter-widgets/controls",
          "model_name": "ProgressStyleModel",
          "model_module_version": "1.5.0",
          "state": {
            "_model_module": "@jupyter-widgets/controls",
            "_model_module_version": "1.5.0",
            "_model_name": "ProgressStyleModel",
            "_view_count": null,
            "_view_module": "@jupyter-widgets/base",
            "_view_module_version": "1.2.0",
            "_view_name": "StyleView",
            "bar_color": null,
            "description_width": ""
          }
        },
        "52a5230205704628a94cf2157c787f25": {
          "model_module": "@jupyter-widgets/controls",
          "model_name": "VBoxModel",
          "model_module_version": "1.5.0",
          "state": {
            "_dom_classes": [],
            "_model_module": "@jupyter-widgets/controls",
            "_model_module_version": "1.5.0",
            "_model_name": "VBoxModel",
            "_view_count": null,
            "_view_module": "@jupyter-widgets/controls",
            "_view_module_version": "1.5.0",
            "_view_name": "VBoxView",
            "box_style": "",
            "children": [
              "IPY_MODEL_63c197da84544a21856e97b86606e8d4",
              "IPY_MODEL_df52c2fd397d4196a8a566d435a9c53a"
            ],
            "layout": "IPY_MODEL_2463325bd4e6463781333452ec272534"
          }
        },
        "63c197da84544a21856e97b86606e8d4": {
          "model_module": "@jupyter-widgets/controls",
          "model_name": "LabelModel",
          "model_module_version": "1.5.0",
          "state": {
            "_dom_classes": [],
            "_model_module": "@jupyter-widgets/controls",
            "_model_module_version": "1.5.0",
            "_model_name": "LabelModel",
            "_view_count": null,
            "_view_module": "@jupyter-widgets/controls",
            "_view_module_version": "1.5.0",
            "_view_name": "LabelView",
            "description": "",
            "description_tooltip": null,
            "layout": "IPY_MODEL_39af3e17e80847e19a14cc5373f088c5",
            "placeholder": "​",
            "style": "IPY_MODEL_469a97a09a4d4d8492d4b40c15879142",
            "value": "Waiting for wandb.init()...\r"
          }
        },
        "df52c2fd397d4196a8a566d435a9c53a": {
          "model_module": "@jupyter-widgets/controls",
          "model_name": "FloatProgressModel",
          "model_module_version": "1.5.0",
          "state": {
            "_dom_classes": [],
            "_model_module": "@jupyter-widgets/controls",
            "_model_module_version": "1.5.0",
            "_model_name": "FloatProgressModel",
            "_view_count": null,
            "_view_module": "@jupyter-widgets/controls",
            "_view_module_version": "1.5.0",
            "_view_name": "ProgressView",
            "bar_style": "",
            "description": "",
            "description_tooltip": null,
            "layout": "IPY_MODEL_8a6f5add1b28461887578ee18cca7d79",
            "max": 1,
            "min": 0,
            "orientation": "horizontal",
            "style": "IPY_MODEL_2a4fd5a3b2314cf5a7456ce5e4f170a7",
            "value": 1
          }
        },
        "2463325bd4e6463781333452ec272534": {
          "model_module": "@jupyter-widgets/base",
          "model_name": "LayoutModel",
          "model_module_version": "1.2.0",
          "state": {
            "_model_module": "@jupyter-widgets/base",
            "_model_module_version": "1.2.0",
            "_model_name": "LayoutModel",
            "_view_count": null,
            "_view_module": "@jupyter-widgets/base",
            "_view_module_version": "1.2.0",
            "_view_name": "LayoutView",
            "align_content": null,
            "align_items": null,
            "align_self": null,
            "border": null,
            "bottom": null,
            "display": null,
            "flex": null,
            "flex_flow": null,
            "grid_area": null,
            "grid_auto_columns": null,
            "grid_auto_flow": null,
            "grid_auto_rows": null,
            "grid_column": null,
            "grid_gap": null,
            "grid_row": null,
            "grid_template_areas": null,
            "grid_template_columns": null,
            "grid_template_rows": null,
            "height": null,
            "justify_content": null,
            "justify_items": null,
            "left": null,
            "margin": null,
            "max_height": null,
            "max_width": null,
            "min_height": null,
            "min_width": null,
            "object_fit": null,
            "object_position": null,
            "order": null,
            "overflow": null,
            "overflow_x": null,
            "overflow_y": null,
            "padding": null,
            "right": null,
            "top": null,
            "visibility": null,
            "width": null
          }
        },
        "39af3e17e80847e19a14cc5373f088c5": {
          "model_module": "@jupyter-widgets/base",
          "model_name": "LayoutModel",
          "model_module_version": "1.2.0",
          "state": {
            "_model_module": "@jupyter-widgets/base",
            "_model_module_version": "1.2.0",
            "_model_name": "LayoutModel",
            "_view_count": null,
            "_view_module": "@jupyter-widgets/base",
            "_view_module_version": "1.2.0",
            "_view_name": "LayoutView",
            "align_content": null,
            "align_items": null,
            "align_self": null,
            "border": null,
            "bottom": null,
            "display": null,
            "flex": null,
            "flex_flow": null,
            "grid_area": null,
            "grid_auto_columns": null,
            "grid_auto_flow": null,
            "grid_auto_rows": null,
            "grid_column": null,
            "grid_gap": null,
            "grid_row": null,
            "grid_template_areas": null,
            "grid_template_columns": null,
            "grid_template_rows": null,
            "height": null,
            "justify_content": null,
            "justify_items": null,
            "left": null,
            "margin": null,
            "max_height": null,
            "max_width": null,
            "min_height": null,
            "min_width": null,
            "object_fit": null,
            "object_position": null,
            "order": null,
            "overflow": null,
            "overflow_x": null,
            "overflow_y": null,
            "padding": null,
            "right": null,
            "top": null,
            "visibility": null,
            "width": null
          }
        },
        "469a97a09a4d4d8492d4b40c15879142": {
          "model_module": "@jupyter-widgets/controls",
          "model_name": "DescriptionStyleModel",
          "model_module_version": "1.5.0",
          "state": {
            "_model_module": "@jupyter-widgets/controls",
            "_model_module_version": "1.5.0",
            "_model_name": "DescriptionStyleModel",
            "_view_count": null,
            "_view_module": "@jupyter-widgets/base",
            "_view_module_version": "1.2.0",
            "_view_name": "StyleView",
            "description_width": ""
          }
        },
        "8a6f5add1b28461887578ee18cca7d79": {
          "model_module": "@jupyter-widgets/base",
          "model_name": "LayoutModel",
          "model_module_version": "1.2.0",
          "state": {
            "_model_module": "@jupyter-widgets/base",
            "_model_module_version": "1.2.0",
            "_model_name": "LayoutModel",
            "_view_count": null,
            "_view_module": "@jupyter-widgets/base",
            "_view_module_version": "1.2.0",
            "_view_name": "LayoutView",
            "align_content": null,
            "align_items": null,
            "align_self": null,
            "border": null,
            "bottom": null,
            "display": null,
            "flex": null,
            "flex_flow": null,
            "grid_area": null,
            "grid_auto_columns": null,
            "grid_auto_flow": null,
            "grid_auto_rows": null,
            "grid_column": null,
            "grid_gap": null,
            "grid_row": null,
            "grid_template_areas": null,
            "grid_template_columns": null,
            "grid_template_rows": null,
            "height": null,
            "justify_content": null,
            "justify_items": null,
            "left": null,
            "margin": null,
            "max_height": null,
            "max_width": null,
            "min_height": null,
            "min_width": null,
            "object_fit": null,
            "object_position": null,
            "order": null,
            "overflow": null,
            "overflow_x": null,
            "overflow_y": null,
            "padding": null,
            "right": null,
            "top": null,
            "visibility": null,
            "width": null
          }
        },
        "2a4fd5a3b2314cf5a7456ce5e4f170a7": {
          "model_module": "@jupyter-widgets/controls",
          "model_name": "ProgressStyleModel",
          "model_module_version": "1.5.0",
          "state": {
            "_model_module": "@jupyter-widgets/controls",
            "_model_module_version": "1.5.0",
            "_model_name": "ProgressStyleModel",
            "_view_count": null,
            "_view_module": "@jupyter-widgets/base",
            "_view_module_version": "1.2.0",
            "_view_name": "StyleView",
            "bar_color": null,
            "description_width": ""
          }
        },
        "c497a0937639440f9fd9b72107d2b923": {
          "model_module": "@jupyter-widgets/controls",
          "model_name": "VBoxModel",
          "model_module_version": "1.5.0",
          "state": {
            "_dom_classes": [],
            "_model_module": "@jupyter-widgets/controls",
            "_model_module_version": "1.5.0",
            "_model_name": "VBoxModel",
            "_view_count": null,
            "_view_module": "@jupyter-widgets/controls",
            "_view_module_version": "1.5.0",
            "_view_name": "VBoxView",
            "box_style": "",
            "children": [
              "IPY_MODEL_9a6b89a62e0c4c03876239d15ff3dbf2",
              "IPY_MODEL_dd12e1190a974f03bd78576b4e2da0de"
            ],
            "layout": "IPY_MODEL_f576099890eb45f0a645593668ec16bb"
          }
        },
        "9a6b89a62e0c4c03876239d15ff3dbf2": {
          "model_module": "@jupyter-widgets/controls",
          "model_name": "LabelModel",
          "model_module_version": "1.5.0",
          "state": {
            "_dom_classes": [],
            "_model_module": "@jupyter-widgets/controls",
            "_model_module_version": "1.5.0",
            "_model_name": "LabelModel",
            "_view_count": null,
            "_view_module": "@jupyter-widgets/controls",
            "_view_module_version": "1.5.0",
            "_view_name": "LabelView",
            "description": "",
            "description_tooltip": null,
            "layout": "IPY_MODEL_0952030ae93246cdadb39ab213c225d5",
            "placeholder": "​",
            "style": "IPY_MODEL_985f71f86ef14c318755daeb90c409ae",
            "value": "0.016 MB of 0.016 MB uploaded\r"
          }
        },
        "dd12e1190a974f03bd78576b4e2da0de": {
          "model_module": "@jupyter-widgets/controls",
          "model_name": "FloatProgressModel",
          "model_module_version": "1.5.0",
          "state": {
            "_dom_classes": [],
            "_model_module": "@jupyter-widgets/controls",
            "_model_module_version": "1.5.0",
            "_model_name": "FloatProgressModel",
            "_view_count": null,
            "_view_module": "@jupyter-widgets/controls",
            "_view_module_version": "1.5.0",
            "_view_name": "ProgressView",
            "bar_style": "",
            "description": "",
            "description_tooltip": null,
            "layout": "IPY_MODEL_c83bc6df1cbf4b30951cc0f42cbb0e84",
            "max": 1,
            "min": 0,
            "orientation": "horizontal",
            "style": "IPY_MODEL_361d8ac80afc4c1691a60d6e98aaf60d",
            "value": 1
          }
        },
        "f576099890eb45f0a645593668ec16bb": {
          "model_module": "@jupyter-widgets/base",
          "model_name": "LayoutModel",
          "model_module_version": "1.2.0",
          "state": {
            "_model_module": "@jupyter-widgets/base",
            "_model_module_version": "1.2.0",
            "_model_name": "LayoutModel",
            "_view_count": null,
            "_view_module": "@jupyter-widgets/base",
            "_view_module_version": "1.2.0",
            "_view_name": "LayoutView",
            "align_content": null,
            "align_items": null,
            "align_self": null,
            "border": null,
            "bottom": null,
            "display": null,
            "flex": null,
            "flex_flow": null,
            "grid_area": null,
            "grid_auto_columns": null,
            "grid_auto_flow": null,
            "grid_auto_rows": null,
            "grid_column": null,
            "grid_gap": null,
            "grid_row": null,
            "grid_template_areas": null,
            "grid_template_columns": null,
            "grid_template_rows": null,
            "height": null,
            "justify_content": null,
            "justify_items": null,
            "left": null,
            "margin": null,
            "max_height": null,
            "max_width": null,
            "min_height": null,
            "min_width": null,
            "object_fit": null,
            "object_position": null,
            "order": null,
            "overflow": null,
            "overflow_x": null,
            "overflow_y": null,
            "padding": null,
            "right": null,
            "top": null,
            "visibility": null,
            "width": null
          }
        },
        "0952030ae93246cdadb39ab213c225d5": {
          "model_module": "@jupyter-widgets/base",
          "model_name": "LayoutModel",
          "model_module_version": "1.2.0",
          "state": {
            "_model_module": "@jupyter-widgets/base",
            "_model_module_version": "1.2.0",
            "_model_name": "LayoutModel",
            "_view_count": null,
            "_view_module": "@jupyter-widgets/base",
            "_view_module_version": "1.2.0",
            "_view_name": "LayoutView",
            "align_content": null,
            "align_items": null,
            "align_self": null,
            "border": null,
            "bottom": null,
            "display": null,
            "flex": null,
            "flex_flow": null,
            "grid_area": null,
            "grid_auto_columns": null,
            "grid_auto_flow": null,
            "grid_auto_rows": null,
            "grid_column": null,
            "grid_gap": null,
            "grid_row": null,
            "grid_template_areas": null,
            "grid_template_columns": null,
            "grid_template_rows": null,
            "height": null,
            "justify_content": null,
            "justify_items": null,
            "left": null,
            "margin": null,
            "max_height": null,
            "max_width": null,
            "min_height": null,
            "min_width": null,
            "object_fit": null,
            "object_position": null,
            "order": null,
            "overflow": null,
            "overflow_x": null,
            "overflow_y": null,
            "padding": null,
            "right": null,
            "top": null,
            "visibility": null,
            "width": null
          }
        },
        "985f71f86ef14c318755daeb90c409ae": {
          "model_module": "@jupyter-widgets/controls",
          "model_name": "DescriptionStyleModel",
          "model_module_version": "1.5.0",
          "state": {
            "_model_module": "@jupyter-widgets/controls",
            "_model_module_version": "1.5.0",
            "_model_name": "DescriptionStyleModel",
            "_view_count": null,
            "_view_module": "@jupyter-widgets/base",
            "_view_module_version": "1.2.0",
            "_view_name": "StyleView",
            "description_width": ""
          }
        },
        "c83bc6df1cbf4b30951cc0f42cbb0e84": {
          "model_module": "@jupyter-widgets/base",
          "model_name": "LayoutModel",
          "model_module_version": "1.2.0",
          "state": {
            "_model_module": "@jupyter-widgets/base",
            "_model_module_version": "1.2.0",
            "_model_name": "LayoutModel",
            "_view_count": null,
            "_view_module": "@jupyter-widgets/base",
            "_view_module_version": "1.2.0",
            "_view_name": "LayoutView",
            "align_content": null,
            "align_items": null,
            "align_self": null,
            "border": null,
            "bottom": null,
            "display": null,
            "flex": null,
            "flex_flow": null,
            "grid_area": null,
            "grid_auto_columns": null,
            "grid_auto_flow": null,
            "grid_auto_rows": null,
            "grid_column": null,
            "grid_gap": null,
            "grid_row": null,
            "grid_template_areas": null,
            "grid_template_columns": null,
            "grid_template_rows": null,
            "height": null,
            "justify_content": null,
            "justify_items": null,
            "left": null,
            "margin": null,
            "max_height": null,
            "max_width": null,
            "min_height": null,
            "min_width": null,
            "object_fit": null,
            "object_position": null,
            "order": null,
            "overflow": null,
            "overflow_x": null,
            "overflow_y": null,
            "padding": null,
            "right": null,
            "top": null,
            "visibility": null,
            "width": null
          }
        },
        "361d8ac80afc4c1691a60d6e98aaf60d": {
          "model_module": "@jupyter-widgets/controls",
          "model_name": "ProgressStyleModel",
          "model_module_version": "1.5.0",
          "state": {
            "_model_module": "@jupyter-widgets/controls",
            "_model_module_version": "1.5.0",
            "_model_name": "ProgressStyleModel",
            "_view_count": null,
            "_view_module": "@jupyter-widgets/base",
            "_view_module_version": "1.2.0",
            "_view_name": "StyleView",
            "bar_color": null,
            "description_width": ""
          }
        },
        "7e7f2627ecb049ba82de4cda992ce809": {
          "model_module": "@jupyter-widgets/controls",
          "model_name": "VBoxModel",
          "model_module_version": "1.5.0",
          "state": {
            "_dom_classes": [],
            "_model_module": "@jupyter-widgets/controls",
            "_model_module_version": "1.5.0",
            "_model_name": "VBoxModel",
            "_view_count": null,
            "_view_module": "@jupyter-widgets/controls",
            "_view_module_version": "1.5.0",
            "_view_name": "VBoxView",
            "box_style": "",
            "children": [
              "IPY_MODEL_b6b5b4d1d734462c9e6ca96c2c47e469",
              "IPY_MODEL_536db95735934d87810f4f51732be9db"
            ],
            "layout": "IPY_MODEL_6583a50237c44d38b4f282b052783854"
          }
        },
        "b6b5b4d1d734462c9e6ca96c2c47e469": {
          "model_module": "@jupyter-widgets/controls",
          "model_name": "LabelModel",
          "model_module_version": "1.5.0",
          "state": {
            "_dom_classes": [],
            "_model_module": "@jupyter-widgets/controls",
            "_model_module_version": "1.5.0",
            "_model_name": "LabelModel",
            "_view_count": null,
            "_view_module": "@jupyter-widgets/controls",
            "_view_module_version": "1.5.0",
            "_view_name": "LabelView",
            "description": "",
            "description_tooltip": null,
            "layout": "IPY_MODEL_3ed7a800a62d41b2a964542512d2c2a8",
            "placeholder": "​",
            "style": "IPY_MODEL_16b4a644d65a4d91aa4a4a7af19cb79a",
            "value": "0.017 MB of 0.017 MB uploaded\r"
          }
        },
        "536db95735934d87810f4f51732be9db": {
          "model_module": "@jupyter-widgets/controls",
          "model_name": "FloatProgressModel",
          "model_module_version": "1.5.0",
          "state": {
            "_dom_classes": [],
            "_model_module": "@jupyter-widgets/controls",
            "_model_module_version": "1.5.0",
            "_model_name": "FloatProgressModel",
            "_view_count": null,
            "_view_module": "@jupyter-widgets/controls",
            "_view_module_version": "1.5.0",
            "_view_name": "ProgressView",
            "bar_style": "",
            "description": "",
            "description_tooltip": null,
            "layout": "IPY_MODEL_65960174deb141d2b6c6fb7e4d842ba1",
            "max": 1,
            "min": 0,
            "orientation": "horizontal",
            "style": "IPY_MODEL_f797f44fa46540e795d02d0d715e147d",
            "value": 1
          }
        },
        "6583a50237c44d38b4f282b052783854": {
          "model_module": "@jupyter-widgets/base",
          "model_name": "LayoutModel",
          "model_module_version": "1.2.0",
          "state": {
            "_model_module": "@jupyter-widgets/base",
            "_model_module_version": "1.2.0",
            "_model_name": "LayoutModel",
            "_view_count": null,
            "_view_module": "@jupyter-widgets/base",
            "_view_module_version": "1.2.0",
            "_view_name": "LayoutView",
            "align_content": null,
            "align_items": null,
            "align_self": null,
            "border": null,
            "bottom": null,
            "display": null,
            "flex": null,
            "flex_flow": null,
            "grid_area": null,
            "grid_auto_columns": null,
            "grid_auto_flow": null,
            "grid_auto_rows": null,
            "grid_column": null,
            "grid_gap": null,
            "grid_row": null,
            "grid_template_areas": null,
            "grid_template_columns": null,
            "grid_template_rows": null,
            "height": null,
            "justify_content": null,
            "justify_items": null,
            "left": null,
            "margin": null,
            "max_height": null,
            "max_width": null,
            "min_height": null,
            "min_width": null,
            "object_fit": null,
            "object_position": null,
            "order": null,
            "overflow": null,
            "overflow_x": null,
            "overflow_y": null,
            "padding": null,
            "right": null,
            "top": null,
            "visibility": null,
            "width": null
          }
        },
        "3ed7a800a62d41b2a964542512d2c2a8": {
          "model_module": "@jupyter-widgets/base",
          "model_name": "LayoutModel",
          "model_module_version": "1.2.0",
          "state": {
            "_model_module": "@jupyter-widgets/base",
            "_model_module_version": "1.2.0",
            "_model_name": "LayoutModel",
            "_view_count": null,
            "_view_module": "@jupyter-widgets/base",
            "_view_module_version": "1.2.0",
            "_view_name": "LayoutView",
            "align_content": null,
            "align_items": null,
            "align_self": null,
            "border": null,
            "bottom": null,
            "display": null,
            "flex": null,
            "flex_flow": null,
            "grid_area": null,
            "grid_auto_columns": null,
            "grid_auto_flow": null,
            "grid_auto_rows": null,
            "grid_column": null,
            "grid_gap": null,
            "grid_row": null,
            "grid_template_areas": null,
            "grid_template_columns": null,
            "grid_template_rows": null,
            "height": null,
            "justify_content": null,
            "justify_items": null,
            "left": null,
            "margin": null,
            "max_height": null,
            "max_width": null,
            "min_height": null,
            "min_width": null,
            "object_fit": null,
            "object_position": null,
            "order": null,
            "overflow": null,
            "overflow_x": null,
            "overflow_y": null,
            "padding": null,
            "right": null,
            "top": null,
            "visibility": null,
            "width": null
          }
        },
        "16b4a644d65a4d91aa4a4a7af19cb79a": {
          "model_module": "@jupyter-widgets/controls",
          "model_name": "DescriptionStyleModel",
          "model_module_version": "1.5.0",
          "state": {
            "_model_module": "@jupyter-widgets/controls",
            "_model_module_version": "1.5.0",
            "_model_name": "DescriptionStyleModel",
            "_view_count": null,
            "_view_module": "@jupyter-widgets/base",
            "_view_module_version": "1.2.0",
            "_view_name": "StyleView",
            "description_width": ""
          }
        },
        "65960174deb141d2b6c6fb7e4d842ba1": {
          "model_module": "@jupyter-widgets/base",
          "model_name": "LayoutModel",
          "model_module_version": "1.2.0",
          "state": {
            "_model_module": "@jupyter-widgets/base",
            "_model_module_version": "1.2.0",
            "_model_name": "LayoutModel",
            "_view_count": null,
            "_view_module": "@jupyter-widgets/base",
            "_view_module_version": "1.2.0",
            "_view_name": "LayoutView",
            "align_content": null,
            "align_items": null,
            "align_self": null,
            "border": null,
            "bottom": null,
            "display": null,
            "flex": null,
            "flex_flow": null,
            "grid_area": null,
            "grid_auto_columns": null,
            "grid_auto_flow": null,
            "grid_auto_rows": null,
            "grid_column": null,
            "grid_gap": null,
            "grid_row": null,
            "grid_template_areas": null,
            "grid_template_columns": null,
            "grid_template_rows": null,
            "height": null,
            "justify_content": null,
            "justify_items": null,
            "left": null,
            "margin": null,
            "max_height": null,
            "max_width": null,
            "min_height": null,
            "min_width": null,
            "object_fit": null,
            "object_position": null,
            "order": null,
            "overflow": null,
            "overflow_x": null,
            "overflow_y": null,
            "padding": null,
            "right": null,
            "top": null,
            "visibility": null,
            "width": null
          }
        },
        "f797f44fa46540e795d02d0d715e147d": {
          "model_module": "@jupyter-widgets/controls",
          "model_name": "ProgressStyleModel",
          "model_module_version": "1.5.0",
          "state": {
            "_model_module": "@jupyter-widgets/controls",
            "_model_module_version": "1.5.0",
            "_model_name": "ProgressStyleModel",
            "_view_count": null,
            "_view_module": "@jupyter-widgets/base",
            "_view_module_version": "1.2.0",
            "_view_name": "StyleView",
            "bar_color": null,
            "description_width": ""
          }
        },
        "42f8c268df4941b1b7bd0a18b8b444da": {
          "model_module": "@jupyter-widgets/controls",
          "model_name": "VBoxModel",
          "model_module_version": "1.5.0",
          "state": {
            "_dom_classes": [],
            "_model_module": "@jupyter-widgets/controls",
            "_model_module_version": "1.5.0",
            "_model_name": "VBoxModel",
            "_view_count": null,
            "_view_module": "@jupyter-widgets/controls",
            "_view_module_version": "1.5.0",
            "_view_name": "VBoxView",
            "box_style": "",
            "children": [
              "IPY_MODEL_9471255e306d4943952dc9ac95476ab2",
              "IPY_MODEL_a81e903a1cbc4d31828dad41b3d9491e"
            ],
            "layout": "IPY_MODEL_ec20cc7a139b4c4a9b989ad4659a3b93"
          }
        },
        "9471255e306d4943952dc9ac95476ab2": {
          "model_module": "@jupyter-widgets/controls",
          "model_name": "LabelModel",
          "model_module_version": "1.5.0",
          "state": {
            "_dom_classes": [],
            "_model_module": "@jupyter-widgets/controls",
            "_model_module_version": "1.5.0",
            "_model_name": "LabelModel",
            "_view_count": null,
            "_view_module": "@jupyter-widgets/controls",
            "_view_module_version": "1.5.0",
            "_view_name": "LabelView",
            "description": "",
            "description_tooltip": null,
            "layout": "IPY_MODEL_9e3b83217a9a424fa6a7bcc322736957",
            "placeholder": "​",
            "style": "IPY_MODEL_bf0584cc92694d0d8e094e8dba6b2b2f",
            "value": "0.015 MB of 0.015 MB uploaded\r"
          }
        },
        "a81e903a1cbc4d31828dad41b3d9491e": {
          "model_module": "@jupyter-widgets/controls",
          "model_name": "FloatProgressModel",
          "model_module_version": "1.5.0",
          "state": {
            "_dom_classes": [],
            "_model_module": "@jupyter-widgets/controls",
            "_model_module_version": "1.5.0",
            "_model_name": "FloatProgressModel",
            "_view_count": null,
            "_view_module": "@jupyter-widgets/controls",
            "_view_module_version": "1.5.0",
            "_view_name": "ProgressView",
            "bar_style": "",
            "description": "",
            "description_tooltip": null,
            "layout": "IPY_MODEL_75684c22837c4eaf9c73cdb90c1e8948",
            "max": 1,
            "min": 0,
            "orientation": "horizontal",
            "style": "IPY_MODEL_8c562846561f4a20ba5247a840596ea1",
            "value": 1
          }
        },
        "ec20cc7a139b4c4a9b989ad4659a3b93": {
          "model_module": "@jupyter-widgets/base",
          "model_name": "LayoutModel",
          "model_module_version": "1.2.0",
          "state": {
            "_model_module": "@jupyter-widgets/base",
            "_model_module_version": "1.2.0",
            "_model_name": "LayoutModel",
            "_view_count": null,
            "_view_module": "@jupyter-widgets/base",
            "_view_module_version": "1.2.0",
            "_view_name": "LayoutView",
            "align_content": null,
            "align_items": null,
            "align_self": null,
            "border": null,
            "bottom": null,
            "display": null,
            "flex": null,
            "flex_flow": null,
            "grid_area": null,
            "grid_auto_columns": null,
            "grid_auto_flow": null,
            "grid_auto_rows": null,
            "grid_column": null,
            "grid_gap": null,
            "grid_row": null,
            "grid_template_areas": null,
            "grid_template_columns": null,
            "grid_template_rows": null,
            "height": null,
            "justify_content": null,
            "justify_items": null,
            "left": null,
            "margin": null,
            "max_height": null,
            "max_width": null,
            "min_height": null,
            "min_width": null,
            "object_fit": null,
            "object_position": null,
            "order": null,
            "overflow": null,
            "overflow_x": null,
            "overflow_y": null,
            "padding": null,
            "right": null,
            "top": null,
            "visibility": null,
            "width": null
          }
        },
        "9e3b83217a9a424fa6a7bcc322736957": {
          "model_module": "@jupyter-widgets/base",
          "model_name": "LayoutModel",
          "model_module_version": "1.2.0",
          "state": {
            "_model_module": "@jupyter-widgets/base",
            "_model_module_version": "1.2.0",
            "_model_name": "LayoutModel",
            "_view_count": null,
            "_view_module": "@jupyter-widgets/base",
            "_view_module_version": "1.2.0",
            "_view_name": "LayoutView",
            "align_content": null,
            "align_items": null,
            "align_self": null,
            "border": null,
            "bottom": null,
            "display": null,
            "flex": null,
            "flex_flow": null,
            "grid_area": null,
            "grid_auto_columns": null,
            "grid_auto_flow": null,
            "grid_auto_rows": null,
            "grid_column": null,
            "grid_gap": null,
            "grid_row": null,
            "grid_template_areas": null,
            "grid_template_columns": null,
            "grid_template_rows": null,
            "height": null,
            "justify_content": null,
            "justify_items": null,
            "left": null,
            "margin": null,
            "max_height": null,
            "max_width": null,
            "min_height": null,
            "min_width": null,
            "object_fit": null,
            "object_position": null,
            "order": null,
            "overflow": null,
            "overflow_x": null,
            "overflow_y": null,
            "padding": null,
            "right": null,
            "top": null,
            "visibility": null,
            "width": null
          }
        },
        "bf0584cc92694d0d8e094e8dba6b2b2f": {
          "model_module": "@jupyter-widgets/controls",
          "model_name": "DescriptionStyleModel",
          "model_module_version": "1.5.0",
          "state": {
            "_model_module": "@jupyter-widgets/controls",
            "_model_module_version": "1.5.0",
            "_model_name": "DescriptionStyleModel",
            "_view_count": null,
            "_view_module": "@jupyter-widgets/base",
            "_view_module_version": "1.2.0",
            "_view_name": "StyleView",
            "description_width": ""
          }
        },
        "75684c22837c4eaf9c73cdb90c1e8948": {
          "model_module": "@jupyter-widgets/base",
          "model_name": "LayoutModel",
          "model_module_version": "1.2.0",
          "state": {
            "_model_module": "@jupyter-widgets/base",
            "_model_module_version": "1.2.0",
            "_model_name": "LayoutModel",
            "_view_count": null,
            "_view_module": "@jupyter-widgets/base",
            "_view_module_version": "1.2.0",
            "_view_name": "LayoutView",
            "align_content": null,
            "align_items": null,
            "align_self": null,
            "border": null,
            "bottom": null,
            "display": null,
            "flex": null,
            "flex_flow": null,
            "grid_area": null,
            "grid_auto_columns": null,
            "grid_auto_flow": null,
            "grid_auto_rows": null,
            "grid_column": null,
            "grid_gap": null,
            "grid_row": null,
            "grid_template_areas": null,
            "grid_template_columns": null,
            "grid_template_rows": null,
            "height": null,
            "justify_content": null,
            "justify_items": null,
            "left": null,
            "margin": null,
            "max_height": null,
            "max_width": null,
            "min_height": null,
            "min_width": null,
            "object_fit": null,
            "object_position": null,
            "order": null,
            "overflow": null,
            "overflow_x": null,
            "overflow_y": null,
            "padding": null,
            "right": null,
            "top": null,
            "visibility": null,
            "width": null
          }
        },
        "8c562846561f4a20ba5247a840596ea1": {
          "model_module": "@jupyter-widgets/controls",
          "model_name": "ProgressStyleModel",
          "model_module_version": "1.5.0",
          "state": {
            "_model_module": "@jupyter-widgets/controls",
            "_model_module_version": "1.5.0",
            "_model_name": "ProgressStyleModel",
            "_view_count": null,
            "_view_module": "@jupyter-widgets/base",
            "_view_module_version": "1.2.0",
            "_view_name": "StyleView",
            "bar_color": null,
            "description_width": ""
          }
        },
        "ed2607e52a274fc29624fdc8c842d806": {
          "model_module": "@jupyter-widgets/controls",
          "model_name": "VBoxModel",
          "model_module_version": "1.5.0",
          "state": {
            "_dom_classes": [],
            "_model_module": "@jupyter-widgets/controls",
            "_model_module_version": "1.5.0",
            "_model_name": "VBoxModel",
            "_view_count": null,
            "_view_module": "@jupyter-widgets/controls",
            "_view_module_version": "1.5.0",
            "_view_name": "VBoxView",
            "box_style": "",
            "children": [
              "IPY_MODEL_07901b5405dc4eb4b38e58b42fae3335",
              "IPY_MODEL_480ed7d41995476f9bae9c4435201ac1"
            ],
            "layout": "IPY_MODEL_3aaca0645315424ea0d2b41df0795f42"
          }
        },
        "07901b5405dc4eb4b38e58b42fae3335": {
          "model_module": "@jupyter-widgets/controls",
          "model_name": "LabelModel",
          "model_module_version": "1.5.0",
          "state": {
            "_dom_classes": [],
            "_model_module": "@jupyter-widgets/controls",
            "_model_module_version": "1.5.0",
            "_model_name": "LabelModel",
            "_view_count": null,
            "_view_module": "@jupyter-widgets/controls",
            "_view_module_version": "1.5.0",
            "_view_name": "LabelView",
            "description": "",
            "description_tooltip": null,
            "layout": "IPY_MODEL_aad44e6a15a24973bb4379b9bb3c9523",
            "placeholder": "​",
            "style": "IPY_MODEL_c78e18b6592741f6b1c9f5cf23365c53",
            "value": "0.015 MB of 0.015 MB uploaded\r"
          }
        },
        "480ed7d41995476f9bae9c4435201ac1": {
          "model_module": "@jupyter-widgets/controls",
          "model_name": "FloatProgressModel",
          "model_module_version": "1.5.0",
          "state": {
            "_dom_classes": [],
            "_model_module": "@jupyter-widgets/controls",
            "_model_module_version": "1.5.0",
            "_model_name": "FloatProgressModel",
            "_view_count": null,
            "_view_module": "@jupyter-widgets/controls",
            "_view_module_version": "1.5.0",
            "_view_name": "ProgressView",
            "bar_style": "",
            "description": "",
            "description_tooltip": null,
            "layout": "IPY_MODEL_b72df14b014541c59b279cecbf96a3cc",
            "max": 1,
            "min": 0,
            "orientation": "horizontal",
            "style": "IPY_MODEL_169c8e27993e495d80d4659872e54dbd",
            "value": 1
          }
        },
        "3aaca0645315424ea0d2b41df0795f42": {
          "model_module": "@jupyter-widgets/base",
          "model_name": "LayoutModel",
          "model_module_version": "1.2.0",
          "state": {
            "_model_module": "@jupyter-widgets/base",
            "_model_module_version": "1.2.0",
            "_model_name": "LayoutModel",
            "_view_count": null,
            "_view_module": "@jupyter-widgets/base",
            "_view_module_version": "1.2.0",
            "_view_name": "LayoutView",
            "align_content": null,
            "align_items": null,
            "align_self": null,
            "border": null,
            "bottom": null,
            "display": null,
            "flex": null,
            "flex_flow": null,
            "grid_area": null,
            "grid_auto_columns": null,
            "grid_auto_flow": null,
            "grid_auto_rows": null,
            "grid_column": null,
            "grid_gap": null,
            "grid_row": null,
            "grid_template_areas": null,
            "grid_template_columns": null,
            "grid_template_rows": null,
            "height": null,
            "justify_content": null,
            "justify_items": null,
            "left": null,
            "margin": null,
            "max_height": null,
            "max_width": null,
            "min_height": null,
            "min_width": null,
            "object_fit": null,
            "object_position": null,
            "order": null,
            "overflow": null,
            "overflow_x": null,
            "overflow_y": null,
            "padding": null,
            "right": null,
            "top": null,
            "visibility": null,
            "width": null
          }
        },
        "aad44e6a15a24973bb4379b9bb3c9523": {
          "model_module": "@jupyter-widgets/base",
          "model_name": "LayoutModel",
          "model_module_version": "1.2.0",
          "state": {
            "_model_module": "@jupyter-widgets/base",
            "_model_module_version": "1.2.0",
            "_model_name": "LayoutModel",
            "_view_count": null,
            "_view_module": "@jupyter-widgets/base",
            "_view_module_version": "1.2.0",
            "_view_name": "LayoutView",
            "align_content": null,
            "align_items": null,
            "align_self": null,
            "border": null,
            "bottom": null,
            "display": null,
            "flex": null,
            "flex_flow": null,
            "grid_area": null,
            "grid_auto_columns": null,
            "grid_auto_flow": null,
            "grid_auto_rows": null,
            "grid_column": null,
            "grid_gap": null,
            "grid_row": null,
            "grid_template_areas": null,
            "grid_template_columns": null,
            "grid_template_rows": null,
            "height": null,
            "justify_content": null,
            "justify_items": null,
            "left": null,
            "margin": null,
            "max_height": null,
            "max_width": null,
            "min_height": null,
            "min_width": null,
            "object_fit": null,
            "object_position": null,
            "order": null,
            "overflow": null,
            "overflow_x": null,
            "overflow_y": null,
            "padding": null,
            "right": null,
            "top": null,
            "visibility": null,
            "width": null
          }
        },
        "c78e18b6592741f6b1c9f5cf23365c53": {
          "model_module": "@jupyter-widgets/controls",
          "model_name": "DescriptionStyleModel",
          "model_module_version": "1.5.0",
          "state": {
            "_model_module": "@jupyter-widgets/controls",
            "_model_module_version": "1.5.0",
            "_model_name": "DescriptionStyleModel",
            "_view_count": null,
            "_view_module": "@jupyter-widgets/base",
            "_view_module_version": "1.2.0",
            "_view_name": "StyleView",
            "description_width": ""
          }
        },
        "b72df14b014541c59b279cecbf96a3cc": {
          "model_module": "@jupyter-widgets/base",
          "model_name": "LayoutModel",
          "model_module_version": "1.2.0",
          "state": {
            "_model_module": "@jupyter-widgets/base",
            "_model_module_version": "1.2.0",
            "_model_name": "LayoutModel",
            "_view_count": null,
            "_view_module": "@jupyter-widgets/base",
            "_view_module_version": "1.2.0",
            "_view_name": "LayoutView",
            "align_content": null,
            "align_items": null,
            "align_self": null,
            "border": null,
            "bottom": null,
            "display": null,
            "flex": null,
            "flex_flow": null,
            "grid_area": null,
            "grid_auto_columns": null,
            "grid_auto_flow": null,
            "grid_auto_rows": null,
            "grid_column": null,
            "grid_gap": null,
            "grid_row": null,
            "grid_template_areas": null,
            "grid_template_columns": null,
            "grid_template_rows": null,
            "height": null,
            "justify_content": null,
            "justify_items": null,
            "left": null,
            "margin": null,
            "max_height": null,
            "max_width": null,
            "min_height": null,
            "min_width": null,
            "object_fit": null,
            "object_position": null,
            "order": null,
            "overflow": null,
            "overflow_x": null,
            "overflow_y": null,
            "padding": null,
            "right": null,
            "top": null,
            "visibility": null,
            "width": null
          }
        },
        "169c8e27993e495d80d4659872e54dbd": {
          "model_module": "@jupyter-widgets/controls",
          "model_name": "ProgressStyleModel",
          "model_module_version": "1.5.0",
          "state": {
            "_model_module": "@jupyter-widgets/controls",
            "_model_module_version": "1.5.0",
            "_model_name": "ProgressStyleModel",
            "_view_count": null,
            "_view_module": "@jupyter-widgets/base",
            "_view_module_version": "1.2.0",
            "_view_name": "StyleView",
            "bar_color": null,
            "description_width": ""
          }
        },
        "efc932ddfb5a4c229131ce79111e12f5": {
          "model_module": "@jupyter-widgets/controls",
          "model_name": "VBoxModel",
          "model_module_version": "1.5.0",
          "state": {
            "_dom_classes": [],
            "_model_module": "@jupyter-widgets/controls",
            "_model_module_version": "1.5.0",
            "_model_name": "VBoxModel",
            "_view_count": null,
            "_view_module": "@jupyter-widgets/controls",
            "_view_module_version": "1.5.0",
            "_view_name": "VBoxView",
            "box_style": "",
            "children": [
              "IPY_MODEL_b8b8dffa7ce74792ad5e9dc10c4b6b00",
              "IPY_MODEL_1ff50ff7f0874e4ebd72ecb1bdff7a33"
            ],
            "layout": "IPY_MODEL_bf16dd5c7828448290ee68d84392e93a"
          }
        },
        "b8b8dffa7ce74792ad5e9dc10c4b6b00": {
          "model_module": "@jupyter-widgets/controls",
          "model_name": "LabelModel",
          "model_module_version": "1.5.0",
          "state": {
            "_dom_classes": [],
            "_model_module": "@jupyter-widgets/controls",
            "_model_module_version": "1.5.0",
            "_model_name": "LabelModel",
            "_view_count": null,
            "_view_module": "@jupyter-widgets/controls",
            "_view_module_version": "1.5.0",
            "_view_name": "LabelView",
            "description": "",
            "description_tooltip": null,
            "layout": "IPY_MODEL_811fc2c1fa544894aa688342265e3bf8",
            "placeholder": "​",
            "style": "IPY_MODEL_4cd64e21da084e729b0096660e8551a7",
            "value": "0.015 MB of 0.015 MB uploaded\r"
          }
        },
        "1ff50ff7f0874e4ebd72ecb1bdff7a33": {
          "model_module": "@jupyter-widgets/controls",
          "model_name": "FloatProgressModel",
          "model_module_version": "1.5.0",
          "state": {
            "_dom_classes": [],
            "_model_module": "@jupyter-widgets/controls",
            "_model_module_version": "1.5.0",
            "_model_name": "FloatProgressModel",
            "_view_count": null,
            "_view_module": "@jupyter-widgets/controls",
            "_view_module_version": "1.5.0",
            "_view_name": "ProgressView",
            "bar_style": "",
            "description": "",
            "description_tooltip": null,
            "layout": "IPY_MODEL_dc7e998a07644707af12df01ab3687e4",
            "max": 1,
            "min": 0,
            "orientation": "horizontal",
            "style": "IPY_MODEL_77c91427e4044e1b97f80bc3d143d7db",
            "value": 1
          }
        },
        "bf16dd5c7828448290ee68d84392e93a": {
          "model_module": "@jupyter-widgets/base",
          "model_name": "LayoutModel",
          "model_module_version": "1.2.0",
          "state": {
            "_model_module": "@jupyter-widgets/base",
            "_model_module_version": "1.2.0",
            "_model_name": "LayoutModel",
            "_view_count": null,
            "_view_module": "@jupyter-widgets/base",
            "_view_module_version": "1.2.0",
            "_view_name": "LayoutView",
            "align_content": null,
            "align_items": null,
            "align_self": null,
            "border": null,
            "bottom": null,
            "display": null,
            "flex": null,
            "flex_flow": null,
            "grid_area": null,
            "grid_auto_columns": null,
            "grid_auto_flow": null,
            "grid_auto_rows": null,
            "grid_column": null,
            "grid_gap": null,
            "grid_row": null,
            "grid_template_areas": null,
            "grid_template_columns": null,
            "grid_template_rows": null,
            "height": null,
            "justify_content": null,
            "justify_items": null,
            "left": null,
            "margin": null,
            "max_height": null,
            "max_width": null,
            "min_height": null,
            "min_width": null,
            "object_fit": null,
            "object_position": null,
            "order": null,
            "overflow": null,
            "overflow_x": null,
            "overflow_y": null,
            "padding": null,
            "right": null,
            "top": null,
            "visibility": null,
            "width": null
          }
        },
        "811fc2c1fa544894aa688342265e3bf8": {
          "model_module": "@jupyter-widgets/base",
          "model_name": "LayoutModel",
          "model_module_version": "1.2.0",
          "state": {
            "_model_module": "@jupyter-widgets/base",
            "_model_module_version": "1.2.0",
            "_model_name": "LayoutModel",
            "_view_count": null,
            "_view_module": "@jupyter-widgets/base",
            "_view_module_version": "1.2.0",
            "_view_name": "LayoutView",
            "align_content": null,
            "align_items": null,
            "align_self": null,
            "border": null,
            "bottom": null,
            "display": null,
            "flex": null,
            "flex_flow": null,
            "grid_area": null,
            "grid_auto_columns": null,
            "grid_auto_flow": null,
            "grid_auto_rows": null,
            "grid_column": null,
            "grid_gap": null,
            "grid_row": null,
            "grid_template_areas": null,
            "grid_template_columns": null,
            "grid_template_rows": null,
            "height": null,
            "justify_content": null,
            "justify_items": null,
            "left": null,
            "margin": null,
            "max_height": null,
            "max_width": null,
            "min_height": null,
            "min_width": null,
            "object_fit": null,
            "object_position": null,
            "order": null,
            "overflow": null,
            "overflow_x": null,
            "overflow_y": null,
            "padding": null,
            "right": null,
            "top": null,
            "visibility": null,
            "width": null
          }
        },
        "4cd64e21da084e729b0096660e8551a7": {
          "model_module": "@jupyter-widgets/controls",
          "model_name": "DescriptionStyleModel",
          "model_module_version": "1.5.0",
          "state": {
            "_model_module": "@jupyter-widgets/controls",
            "_model_module_version": "1.5.0",
            "_model_name": "DescriptionStyleModel",
            "_view_count": null,
            "_view_module": "@jupyter-widgets/base",
            "_view_module_version": "1.2.0",
            "_view_name": "StyleView",
            "description_width": ""
          }
        },
        "dc7e998a07644707af12df01ab3687e4": {
          "model_module": "@jupyter-widgets/base",
          "model_name": "LayoutModel",
          "model_module_version": "1.2.0",
          "state": {
            "_model_module": "@jupyter-widgets/base",
            "_model_module_version": "1.2.0",
            "_model_name": "LayoutModel",
            "_view_count": null,
            "_view_module": "@jupyter-widgets/base",
            "_view_module_version": "1.2.0",
            "_view_name": "LayoutView",
            "align_content": null,
            "align_items": null,
            "align_self": null,
            "border": null,
            "bottom": null,
            "display": null,
            "flex": null,
            "flex_flow": null,
            "grid_area": null,
            "grid_auto_columns": null,
            "grid_auto_flow": null,
            "grid_auto_rows": null,
            "grid_column": null,
            "grid_gap": null,
            "grid_row": null,
            "grid_template_areas": null,
            "grid_template_columns": null,
            "grid_template_rows": null,
            "height": null,
            "justify_content": null,
            "justify_items": null,
            "left": null,
            "margin": null,
            "max_height": null,
            "max_width": null,
            "min_height": null,
            "min_width": null,
            "object_fit": null,
            "object_position": null,
            "order": null,
            "overflow": null,
            "overflow_x": null,
            "overflow_y": null,
            "padding": null,
            "right": null,
            "top": null,
            "visibility": null,
            "width": null
          }
        },
        "77c91427e4044e1b97f80bc3d143d7db": {
          "model_module": "@jupyter-widgets/controls",
          "model_name": "ProgressStyleModel",
          "model_module_version": "1.5.0",
          "state": {
            "_model_module": "@jupyter-widgets/controls",
            "_model_module_version": "1.5.0",
            "_model_name": "ProgressStyleModel",
            "_view_count": null,
            "_view_module": "@jupyter-widgets/base",
            "_view_module_version": "1.2.0",
            "_view_name": "StyleView",
            "bar_color": null,
            "description_width": ""
          }
        },
        "d97c3320df7d4dc08d2df0379cef9106": {
          "model_module": "@jupyter-widgets/controls",
          "model_name": "VBoxModel",
          "model_module_version": "1.5.0",
          "state": {
            "_dom_classes": [],
            "_model_module": "@jupyter-widgets/controls",
            "_model_module_version": "1.5.0",
            "_model_name": "VBoxModel",
            "_view_count": null,
            "_view_module": "@jupyter-widgets/controls",
            "_view_module_version": "1.5.0",
            "_view_name": "VBoxView",
            "box_style": "",
            "children": [
              "IPY_MODEL_a2fd43d604e4491397f271034f80ab0e",
              "IPY_MODEL_a5dc2982ea2e44b88c7a0e1ed8da64e4"
            ],
            "layout": "IPY_MODEL_9159da01ae544584bae2fd9d5a20e56c"
          }
        },
        "a2fd43d604e4491397f271034f80ab0e": {
          "model_module": "@jupyter-widgets/controls",
          "model_name": "LabelModel",
          "model_module_version": "1.5.0",
          "state": {
            "_dom_classes": [],
            "_model_module": "@jupyter-widgets/controls",
            "_model_module_version": "1.5.0",
            "_model_name": "LabelModel",
            "_view_count": null,
            "_view_module": "@jupyter-widgets/controls",
            "_view_module_version": "1.5.0",
            "_view_name": "LabelView",
            "description": "",
            "description_tooltip": null,
            "layout": "IPY_MODEL_63ecffb46a5343d18d4eed730b0b4c7a",
            "placeholder": "​",
            "style": "IPY_MODEL_f972b7d63c8343b7b8c12c542c5c41a8",
            "value": "0.016 MB of 0.016 MB uploaded\r"
          }
        },
        "a5dc2982ea2e44b88c7a0e1ed8da64e4": {
          "model_module": "@jupyter-widgets/controls",
          "model_name": "FloatProgressModel",
          "model_module_version": "1.5.0",
          "state": {
            "_dom_classes": [],
            "_model_module": "@jupyter-widgets/controls",
            "_model_module_version": "1.5.0",
            "_model_name": "FloatProgressModel",
            "_view_count": null,
            "_view_module": "@jupyter-widgets/controls",
            "_view_module_version": "1.5.0",
            "_view_name": "ProgressView",
            "bar_style": "",
            "description": "",
            "description_tooltip": null,
            "layout": "IPY_MODEL_49595744b7364bbb993b562cc2e046f4",
            "max": 1,
            "min": 0,
            "orientation": "horizontal",
            "style": "IPY_MODEL_26223aa433fb465798a8a99f5a439b99",
            "value": 1
          }
        },
        "9159da01ae544584bae2fd9d5a20e56c": {
          "model_module": "@jupyter-widgets/base",
          "model_name": "LayoutModel",
          "model_module_version": "1.2.0",
          "state": {
            "_model_module": "@jupyter-widgets/base",
            "_model_module_version": "1.2.0",
            "_model_name": "LayoutModel",
            "_view_count": null,
            "_view_module": "@jupyter-widgets/base",
            "_view_module_version": "1.2.0",
            "_view_name": "LayoutView",
            "align_content": null,
            "align_items": null,
            "align_self": null,
            "border": null,
            "bottom": null,
            "display": null,
            "flex": null,
            "flex_flow": null,
            "grid_area": null,
            "grid_auto_columns": null,
            "grid_auto_flow": null,
            "grid_auto_rows": null,
            "grid_column": null,
            "grid_gap": null,
            "grid_row": null,
            "grid_template_areas": null,
            "grid_template_columns": null,
            "grid_template_rows": null,
            "height": null,
            "justify_content": null,
            "justify_items": null,
            "left": null,
            "margin": null,
            "max_height": null,
            "max_width": null,
            "min_height": null,
            "min_width": null,
            "object_fit": null,
            "object_position": null,
            "order": null,
            "overflow": null,
            "overflow_x": null,
            "overflow_y": null,
            "padding": null,
            "right": null,
            "top": null,
            "visibility": null,
            "width": null
          }
        },
        "63ecffb46a5343d18d4eed730b0b4c7a": {
          "model_module": "@jupyter-widgets/base",
          "model_name": "LayoutModel",
          "model_module_version": "1.2.0",
          "state": {
            "_model_module": "@jupyter-widgets/base",
            "_model_module_version": "1.2.0",
            "_model_name": "LayoutModel",
            "_view_count": null,
            "_view_module": "@jupyter-widgets/base",
            "_view_module_version": "1.2.0",
            "_view_name": "LayoutView",
            "align_content": null,
            "align_items": null,
            "align_self": null,
            "border": null,
            "bottom": null,
            "display": null,
            "flex": null,
            "flex_flow": null,
            "grid_area": null,
            "grid_auto_columns": null,
            "grid_auto_flow": null,
            "grid_auto_rows": null,
            "grid_column": null,
            "grid_gap": null,
            "grid_row": null,
            "grid_template_areas": null,
            "grid_template_columns": null,
            "grid_template_rows": null,
            "height": null,
            "justify_content": null,
            "justify_items": null,
            "left": null,
            "margin": null,
            "max_height": null,
            "max_width": null,
            "min_height": null,
            "min_width": null,
            "object_fit": null,
            "object_position": null,
            "order": null,
            "overflow": null,
            "overflow_x": null,
            "overflow_y": null,
            "padding": null,
            "right": null,
            "top": null,
            "visibility": null,
            "width": null
          }
        },
        "f972b7d63c8343b7b8c12c542c5c41a8": {
          "model_module": "@jupyter-widgets/controls",
          "model_name": "DescriptionStyleModel",
          "model_module_version": "1.5.0",
          "state": {
            "_model_module": "@jupyter-widgets/controls",
            "_model_module_version": "1.5.0",
            "_model_name": "DescriptionStyleModel",
            "_view_count": null,
            "_view_module": "@jupyter-widgets/base",
            "_view_module_version": "1.2.0",
            "_view_name": "StyleView",
            "description_width": ""
          }
        },
        "49595744b7364bbb993b562cc2e046f4": {
          "model_module": "@jupyter-widgets/base",
          "model_name": "LayoutModel",
          "model_module_version": "1.2.0",
          "state": {
            "_model_module": "@jupyter-widgets/base",
            "_model_module_version": "1.2.0",
            "_model_name": "LayoutModel",
            "_view_count": null,
            "_view_module": "@jupyter-widgets/base",
            "_view_module_version": "1.2.0",
            "_view_name": "LayoutView",
            "align_content": null,
            "align_items": null,
            "align_self": null,
            "border": null,
            "bottom": null,
            "display": null,
            "flex": null,
            "flex_flow": null,
            "grid_area": null,
            "grid_auto_columns": null,
            "grid_auto_flow": null,
            "grid_auto_rows": null,
            "grid_column": null,
            "grid_gap": null,
            "grid_row": null,
            "grid_template_areas": null,
            "grid_template_columns": null,
            "grid_template_rows": null,
            "height": null,
            "justify_content": null,
            "justify_items": null,
            "left": null,
            "margin": null,
            "max_height": null,
            "max_width": null,
            "min_height": null,
            "min_width": null,
            "object_fit": null,
            "object_position": null,
            "order": null,
            "overflow": null,
            "overflow_x": null,
            "overflow_y": null,
            "padding": null,
            "right": null,
            "top": null,
            "visibility": null,
            "width": null
          }
        },
        "26223aa433fb465798a8a99f5a439b99": {
          "model_module": "@jupyter-widgets/controls",
          "model_name": "ProgressStyleModel",
          "model_module_version": "1.5.0",
          "state": {
            "_model_module": "@jupyter-widgets/controls",
            "_model_module_version": "1.5.0",
            "_model_name": "ProgressStyleModel",
            "_view_count": null,
            "_view_module": "@jupyter-widgets/base",
            "_view_module_version": "1.2.0",
            "_view_name": "StyleView",
            "bar_color": null,
            "description_width": ""
          }
        },
        "aa58bfe0ebd24dde9ac5742c005730be": {
          "model_module": "@jupyter-widgets/controls",
          "model_name": "VBoxModel",
          "model_module_version": "1.5.0",
          "state": {
            "_dom_classes": [],
            "_model_module": "@jupyter-widgets/controls",
            "_model_module_version": "1.5.0",
            "_model_name": "VBoxModel",
            "_view_count": null,
            "_view_module": "@jupyter-widgets/controls",
            "_view_module_version": "1.5.0",
            "_view_name": "VBoxView",
            "box_style": "",
            "children": [
              "IPY_MODEL_2587e34ed77a49ceb61fd537da2e538c",
              "IPY_MODEL_a7a57db7ed95495bb8d54db630a6f7d3"
            ],
            "layout": "IPY_MODEL_163aa4bb372346afa61ed3dd540c8864"
          }
        },
        "2587e34ed77a49ceb61fd537da2e538c": {
          "model_module": "@jupyter-widgets/controls",
          "model_name": "LabelModel",
          "model_module_version": "1.5.0",
          "state": {
            "_dom_classes": [],
            "_model_module": "@jupyter-widgets/controls",
            "_model_module_version": "1.5.0",
            "_model_name": "LabelModel",
            "_view_count": null,
            "_view_module": "@jupyter-widgets/controls",
            "_view_module_version": "1.5.0",
            "_view_name": "LabelView",
            "description": "",
            "description_tooltip": null,
            "layout": "IPY_MODEL_a546c560cbb644058fe1bdc26d955fd6",
            "placeholder": "​",
            "style": "IPY_MODEL_611cb7a905df44f7bd9616ac3ebd0bea",
            "value": "0.016 MB of 0.016 MB uploaded\r"
          }
        },
        "a7a57db7ed95495bb8d54db630a6f7d3": {
          "model_module": "@jupyter-widgets/controls",
          "model_name": "FloatProgressModel",
          "model_module_version": "1.5.0",
          "state": {
            "_dom_classes": [],
            "_model_module": "@jupyter-widgets/controls",
            "_model_module_version": "1.5.0",
            "_model_name": "FloatProgressModel",
            "_view_count": null,
            "_view_module": "@jupyter-widgets/controls",
            "_view_module_version": "1.5.0",
            "_view_name": "ProgressView",
            "bar_style": "",
            "description": "",
            "description_tooltip": null,
            "layout": "IPY_MODEL_8ffb33b561e74da1b1fd85df294410b1",
            "max": 1,
            "min": 0,
            "orientation": "horizontal",
            "style": "IPY_MODEL_3b619aa29379441d9258dd261c7cbb3d",
            "value": 1
          }
        },
        "163aa4bb372346afa61ed3dd540c8864": {
          "model_module": "@jupyter-widgets/base",
          "model_name": "LayoutModel",
          "model_module_version": "1.2.0",
          "state": {
            "_model_module": "@jupyter-widgets/base",
            "_model_module_version": "1.2.0",
            "_model_name": "LayoutModel",
            "_view_count": null,
            "_view_module": "@jupyter-widgets/base",
            "_view_module_version": "1.2.0",
            "_view_name": "LayoutView",
            "align_content": null,
            "align_items": null,
            "align_self": null,
            "border": null,
            "bottom": null,
            "display": null,
            "flex": null,
            "flex_flow": null,
            "grid_area": null,
            "grid_auto_columns": null,
            "grid_auto_flow": null,
            "grid_auto_rows": null,
            "grid_column": null,
            "grid_gap": null,
            "grid_row": null,
            "grid_template_areas": null,
            "grid_template_columns": null,
            "grid_template_rows": null,
            "height": null,
            "justify_content": null,
            "justify_items": null,
            "left": null,
            "margin": null,
            "max_height": null,
            "max_width": null,
            "min_height": null,
            "min_width": null,
            "object_fit": null,
            "object_position": null,
            "order": null,
            "overflow": null,
            "overflow_x": null,
            "overflow_y": null,
            "padding": null,
            "right": null,
            "top": null,
            "visibility": null,
            "width": null
          }
        },
        "a546c560cbb644058fe1bdc26d955fd6": {
          "model_module": "@jupyter-widgets/base",
          "model_name": "LayoutModel",
          "model_module_version": "1.2.0",
          "state": {
            "_model_module": "@jupyter-widgets/base",
            "_model_module_version": "1.2.0",
            "_model_name": "LayoutModel",
            "_view_count": null,
            "_view_module": "@jupyter-widgets/base",
            "_view_module_version": "1.2.0",
            "_view_name": "LayoutView",
            "align_content": null,
            "align_items": null,
            "align_self": null,
            "border": null,
            "bottom": null,
            "display": null,
            "flex": null,
            "flex_flow": null,
            "grid_area": null,
            "grid_auto_columns": null,
            "grid_auto_flow": null,
            "grid_auto_rows": null,
            "grid_column": null,
            "grid_gap": null,
            "grid_row": null,
            "grid_template_areas": null,
            "grid_template_columns": null,
            "grid_template_rows": null,
            "height": null,
            "justify_content": null,
            "justify_items": null,
            "left": null,
            "margin": null,
            "max_height": null,
            "max_width": null,
            "min_height": null,
            "min_width": null,
            "object_fit": null,
            "object_position": null,
            "order": null,
            "overflow": null,
            "overflow_x": null,
            "overflow_y": null,
            "padding": null,
            "right": null,
            "top": null,
            "visibility": null,
            "width": null
          }
        },
        "611cb7a905df44f7bd9616ac3ebd0bea": {
          "model_module": "@jupyter-widgets/controls",
          "model_name": "DescriptionStyleModel",
          "model_module_version": "1.5.0",
          "state": {
            "_model_module": "@jupyter-widgets/controls",
            "_model_module_version": "1.5.0",
            "_model_name": "DescriptionStyleModel",
            "_view_count": null,
            "_view_module": "@jupyter-widgets/base",
            "_view_module_version": "1.2.0",
            "_view_name": "StyleView",
            "description_width": ""
          }
        },
        "8ffb33b561e74da1b1fd85df294410b1": {
          "model_module": "@jupyter-widgets/base",
          "model_name": "LayoutModel",
          "model_module_version": "1.2.0",
          "state": {
            "_model_module": "@jupyter-widgets/base",
            "_model_module_version": "1.2.0",
            "_model_name": "LayoutModel",
            "_view_count": null,
            "_view_module": "@jupyter-widgets/base",
            "_view_module_version": "1.2.0",
            "_view_name": "LayoutView",
            "align_content": null,
            "align_items": null,
            "align_self": null,
            "border": null,
            "bottom": null,
            "display": null,
            "flex": null,
            "flex_flow": null,
            "grid_area": null,
            "grid_auto_columns": null,
            "grid_auto_flow": null,
            "grid_auto_rows": null,
            "grid_column": null,
            "grid_gap": null,
            "grid_row": null,
            "grid_template_areas": null,
            "grid_template_columns": null,
            "grid_template_rows": null,
            "height": null,
            "justify_content": null,
            "justify_items": null,
            "left": null,
            "margin": null,
            "max_height": null,
            "max_width": null,
            "min_height": null,
            "min_width": null,
            "object_fit": null,
            "object_position": null,
            "order": null,
            "overflow": null,
            "overflow_x": null,
            "overflow_y": null,
            "padding": null,
            "right": null,
            "top": null,
            "visibility": null,
            "width": null
          }
        },
        "3b619aa29379441d9258dd261c7cbb3d": {
          "model_module": "@jupyter-widgets/controls",
          "model_name": "ProgressStyleModel",
          "model_module_version": "1.5.0",
          "state": {
            "_model_module": "@jupyter-widgets/controls",
            "_model_module_version": "1.5.0",
            "_model_name": "ProgressStyleModel",
            "_view_count": null,
            "_view_module": "@jupyter-widgets/base",
            "_view_module_version": "1.2.0",
            "_view_name": "StyleView",
            "bar_color": null,
            "description_width": ""
          }
        },
        "745eadeeb20f4f9b817e38e9935d350c": {
          "model_module": "@jupyter-widgets/controls",
          "model_name": "VBoxModel",
          "model_module_version": "1.5.0",
          "state": {
            "_dom_classes": [],
            "_model_module": "@jupyter-widgets/controls",
            "_model_module_version": "1.5.0",
            "_model_name": "VBoxModel",
            "_view_count": null,
            "_view_module": "@jupyter-widgets/controls",
            "_view_module_version": "1.5.0",
            "_view_name": "VBoxView",
            "box_style": "",
            "children": [
              "IPY_MODEL_b5ce8acdd1984e3697f3019bb57fcb38",
              "IPY_MODEL_6dc7e47478504f5a8ed61ebc4a8942a0"
            ],
            "layout": "IPY_MODEL_e3a6064a8f1d457098ec81aa914396df"
          }
        },
        "b5ce8acdd1984e3697f3019bb57fcb38": {
          "model_module": "@jupyter-widgets/controls",
          "model_name": "LabelModel",
          "model_module_version": "1.5.0",
          "state": {
            "_dom_classes": [],
            "_model_module": "@jupyter-widgets/controls",
            "_model_module_version": "1.5.0",
            "_model_name": "LabelModel",
            "_view_count": null,
            "_view_module": "@jupyter-widgets/controls",
            "_view_module_version": "1.5.0",
            "_view_name": "LabelView",
            "description": "",
            "description_tooltip": null,
            "layout": "IPY_MODEL_c6c2da66198544b7be3df775ba864bf6",
            "placeholder": "​",
            "style": "IPY_MODEL_d14a162f80974721bf68b0f707ca51eb",
            "value": "0.016 MB of 0.016 MB uploaded\r"
          }
        },
        "6dc7e47478504f5a8ed61ebc4a8942a0": {
          "model_module": "@jupyter-widgets/controls",
          "model_name": "FloatProgressModel",
          "model_module_version": "1.5.0",
          "state": {
            "_dom_classes": [],
            "_model_module": "@jupyter-widgets/controls",
            "_model_module_version": "1.5.0",
            "_model_name": "FloatProgressModel",
            "_view_count": null,
            "_view_module": "@jupyter-widgets/controls",
            "_view_module_version": "1.5.0",
            "_view_name": "ProgressView",
            "bar_style": "",
            "description": "",
            "description_tooltip": null,
            "layout": "IPY_MODEL_dcb50fd3e072429b96945d3f49c90f22",
            "max": 1,
            "min": 0,
            "orientation": "horizontal",
            "style": "IPY_MODEL_de90f79bed2b4fff95c5a37fd2b3474b",
            "value": 1
          }
        },
        "e3a6064a8f1d457098ec81aa914396df": {
          "model_module": "@jupyter-widgets/base",
          "model_name": "LayoutModel",
          "model_module_version": "1.2.0",
          "state": {
            "_model_module": "@jupyter-widgets/base",
            "_model_module_version": "1.2.0",
            "_model_name": "LayoutModel",
            "_view_count": null,
            "_view_module": "@jupyter-widgets/base",
            "_view_module_version": "1.2.0",
            "_view_name": "LayoutView",
            "align_content": null,
            "align_items": null,
            "align_self": null,
            "border": null,
            "bottom": null,
            "display": null,
            "flex": null,
            "flex_flow": null,
            "grid_area": null,
            "grid_auto_columns": null,
            "grid_auto_flow": null,
            "grid_auto_rows": null,
            "grid_column": null,
            "grid_gap": null,
            "grid_row": null,
            "grid_template_areas": null,
            "grid_template_columns": null,
            "grid_template_rows": null,
            "height": null,
            "justify_content": null,
            "justify_items": null,
            "left": null,
            "margin": null,
            "max_height": null,
            "max_width": null,
            "min_height": null,
            "min_width": null,
            "object_fit": null,
            "object_position": null,
            "order": null,
            "overflow": null,
            "overflow_x": null,
            "overflow_y": null,
            "padding": null,
            "right": null,
            "top": null,
            "visibility": null,
            "width": null
          }
        },
        "c6c2da66198544b7be3df775ba864bf6": {
          "model_module": "@jupyter-widgets/base",
          "model_name": "LayoutModel",
          "model_module_version": "1.2.0",
          "state": {
            "_model_module": "@jupyter-widgets/base",
            "_model_module_version": "1.2.0",
            "_model_name": "LayoutModel",
            "_view_count": null,
            "_view_module": "@jupyter-widgets/base",
            "_view_module_version": "1.2.0",
            "_view_name": "LayoutView",
            "align_content": null,
            "align_items": null,
            "align_self": null,
            "border": null,
            "bottom": null,
            "display": null,
            "flex": null,
            "flex_flow": null,
            "grid_area": null,
            "grid_auto_columns": null,
            "grid_auto_flow": null,
            "grid_auto_rows": null,
            "grid_column": null,
            "grid_gap": null,
            "grid_row": null,
            "grid_template_areas": null,
            "grid_template_columns": null,
            "grid_template_rows": null,
            "height": null,
            "justify_content": null,
            "justify_items": null,
            "left": null,
            "margin": null,
            "max_height": null,
            "max_width": null,
            "min_height": null,
            "min_width": null,
            "object_fit": null,
            "object_position": null,
            "order": null,
            "overflow": null,
            "overflow_x": null,
            "overflow_y": null,
            "padding": null,
            "right": null,
            "top": null,
            "visibility": null,
            "width": null
          }
        },
        "d14a162f80974721bf68b0f707ca51eb": {
          "model_module": "@jupyter-widgets/controls",
          "model_name": "DescriptionStyleModel",
          "model_module_version": "1.5.0",
          "state": {
            "_model_module": "@jupyter-widgets/controls",
            "_model_module_version": "1.5.0",
            "_model_name": "DescriptionStyleModel",
            "_view_count": null,
            "_view_module": "@jupyter-widgets/base",
            "_view_module_version": "1.2.0",
            "_view_name": "StyleView",
            "description_width": ""
          }
        },
        "dcb50fd3e072429b96945d3f49c90f22": {
          "model_module": "@jupyter-widgets/base",
          "model_name": "LayoutModel",
          "model_module_version": "1.2.0",
          "state": {
            "_model_module": "@jupyter-widgets/base",
            "_model_module_version": "1.2.0",
            "_model_name": "LayoutModel",
            "_view_count": null,
            "_view_module": "@jupyter-widgets/base",
            "_view_module_version": "1.2.0",
            "_view_name": "LayoutView",
            "align_content": null,
            "align_items": null,
            "align_self": null,
            "border": null,
            "bottom": null,
            "display": null,
            "flex": null,
            "flex_flow": null,
            "grid_area": null,
            "grid_auto_columns": null,
            "grid_auto_flow": null,
            "grid_auto_rows": null,
            "grid_column": null,
            "grid_gap": null,
            "grid_row": null,
            "grid_template_areas": null,
            "grid_template_columns": null,
            "grid_template_rows": null,
            "height": null,
            "justify_content": null,
            "justify_items": null,
            "left": null,
            "margin": null,
            "max_height": null,
            "max_width": null,
            "min_height": null,
            "min_width": null,
            "object_fit": null,
            "object_position": null,
            "order": null,
            "overflow": null,
            "overflow_x": null,
            "overflow_y": null,
            "padding": null,
            "right": null,
            "top": null,
            "visibility": null,
            "width": null
          }
        },
        "de90f79bed2b4fff95c5a37fd2b3474b": {
          "model_module": "@jupyter-widgets/controls",
          "model_name": "ProgressStyleModel",
          "model_module_version": "1.5.0",
          "state": {
            "_model_module": "@jupyter-widgets/controls",
            "_model_module_version": "1.5.0",
            "_model_name": "ProgressStyleModel",
            "_view_count": null,
            "_view_module": "@jupyter-widgets/base",
            "_view_module_version": "1.2.0",
            "_view_name": "StyleView",
            "bar_color": null,
            "description_width": ""
          }
        },
        "3900a9c428e84d2489dddd64a338400b": {
          "model_module": "@jupyter-widgets/controls",
          "model_name": "VBoxModel",
          "model_module_version": "1.5.0",
          "state": {
            "_dom_classes": [],
            "_model_module": "@jupyter-widgets/controls",
            "_model_module_version": "1.5.0",
            "_model_name": "VBoxModel",
            "_view_count": null,
            "_view_module": "@jupyter-widgets/controls",
            "_view_module_version": "1.5.0",
            "_view_name": "VBoxView",
            "box_style": "",
            "children": [
              "IPY_MODEL_3fcb21977ec44b659c721648f49c75a7",
              "IPY_MODEL_eee35aab6ad5444093caf4c2c980faf3"
            ],
            "layout": "IPY_MODEL_cf589fc99dbe46c0b181bea12af9ec57"
          }
        },
        "3fcb21977ec44b659c721648f49c75a7": {
          "model_module": "@jupyter-widgets/controls",
          "model_name": "LabelModel",
          "model_module_version": "1.5.0",
          "state": {
            "_dom_classes": [],
            "_model_module": "@jupyter-widgets/controls",
            "_model_module_version": "1.5.0",
            "_model_name": "LabelModel",
            "_view_count": null,
            "_view_module": "@jupyter-widgets/controls",
            "_view_module_version": "1.5.0",
            "_view_name": "LabelView",
            "description": "",
            "description_tooltip": null,
            "layout": "IPY_MODEL_8ef0817e267d412183e67f62acad914b",
            "placeholder": "​",
            "style": "IPY_MODEL_a4eb9fbdc51d42008cbba74707d2d9b6",
            "value": "0.016 MB of 0.016 MB uploaded\r"
          }
        },
        "eee35aab6ad5444093caf4c2c980faf3": {
          "model_module": "@jupyter-widgets/controls",
          "model_name": "FloatProgressModel",
          "model_module_version": "1.5.0",
          "state": {
            "_dom_classes": [],
            "_model_module": "@jupyter-widgets/controls",
            "_model_module_version": "1.5.0",
            "_model_name": "FloatProgressModel",
            "_view_count": null,
            "_view_module": "@jupyter-widgets/controls",
            "_view_module_version": "1.5.0",
            "_view_name": "ProgressView",
            "bar_style": "",
            "description": "",
            "description_tooltip": null,
            "layout": "IPY_MODEL_6408c0f8e8244db89e68779a0bb426b2",
            "max": 1,
            "min": 0,
            "orientation": "horizontal",
            "style": "IPY_MODEL_350cc7b7d34d44038b688f58522b2456",
            "value": 1
          }
        },
        "cf589fc99dbe46c0b181bea12af9ec57": {
          "model_module": "@jupyter-widgets/base",
          "model_name": "LayoutModel",
          "model_module_version": "1.2.0",
          "state": {
            "_model_module": "@jupyter-widgets/base",
            "_model_module_version": "1.2.0",
            "_model_name": "LayoutModel",
            "_view_count": null,
            "_view_module": "@jupyter-widgets/base",
            "_view_module_version": "1.2.0",
            "_view_name": "LayoutView",
            "align_content": null,
            "align_items": null,
            "align_self": null,
            "border": null,
            "bottom": null,
            "display": null,
            "flex": null,
            "flex_flow": null,
            "grid_area": null,
            "grid_auto_columns": null,
            "grid_auto_flow": null,
            "grid_auto_rows": null,
            "grid_column": null,
            "grid_gap": null,
            "grid_row": null,
            "grid_template_areas": null,
            "grid_template_columns": null,
            "grid_template_rows": null,
            "height": null,
            "justify_content": null,
            "justify_items": null,
            "left": null,
            "margin": null,
            "max_height": null,
            "max_width": null,
            "min_height": null,
            "min_width": null,
            "object_fit": null,
            "object_position": null,
            "order": null,
            "overflow": null,
            "overflow_x": null,
            "overflow_y": null,
            "padding": null,
            "right": null,
            "top": null,
            "visibility": null,
            "width": null
          }
        },
        "8ef0817e267d412183e67f62acad914b": {
          "model_module": "@jupyter-widgets/base",
          "model_name": "LayoutModel",
          "model_module_version": "1.2.0",
          "state": {
            "_model_module": "@jupyter-widgets/base",
            "_model_module_version": "1.2.0",
            "_model_name": "LayoutModel",
            "_view_count": null,
            "_view_module": "@jupyter-widgets/base",
            "_view_module_version": "1.2.0",
            "_view_name": "LayoutView",
            "align_content": null,
            "align_items": null,
            "align_self": null,
            "border": null,
            "bottom": null,
            "display": null,
            "flex": null,
            "flex_flow": null,
            "grid_area": null,
            "grid_auto_columns": null,
            "grid_auto_flow": null,
            "grid_auto_rows": null,
            "grid_column": null,
            "grid_gap": null,
            "grid_row": null,
            "grid_template_areas": null,
            "grid_template_columns": null,
            "grid_template_rows": null,
            "height": null,
            "justify_content": null,
            "justify_items": null,
            "left": null,
            "margin": null,
            "max_height": null,
            "max_width": null,
            "min_height": null,
            "min_width": null,
            "object_fit": null,
            "object_position": null,
            "order": null,
            "overflow": null,
            "overflow_x": null,
            "overflow_y": null,
            "padding": null,
            "right": null,
            "top": null,
            "visibility": null,
            "width": null
          }
        },
        "a4eb9fbdc51d42008cbba74707d2d9b6": {
          "model_module": "@jupyter-widgets/controls",
          "model_name": "DescriptionStyleModel",
          "model_module_version": "1.5.0",
          "state": {
            "_model_module": "@jupyter-widgets/controls",
            "_model_module_version": "1.5.0",
            "_model_name": "DescriptionStyleModel",
            "_view_count": null,
            "_view_module": "@jupyter-widgets/base",
            "_view_module_version": "1.2.0",
            "_view_name": "StyleView",
            "description_width": ""
          }
        },
        "6408c0f8e8244db89e68779a0bb426b2": {
          "model_module": "@jupyter-widgets/base",
          "model_name": "LayoutModel",
          "model_module_version": "1.2.0",
          "state": {
            "_model_module": "@jupyter-widgets/base",
            "_model_module_version": "1.2.0",
            "_model_name": "LayoutModel",
            "_view_count": null,
            "_view_module": "@jupyter-widgets/base",
            "_view_module_version": "1.2.0",
            "_view_name": "LayoutView",
            "align_content": null,
            "align_items": null,
            "align_self": null,
            "border": null,
            "bottom": null,
            "display": null,
            "flex": null,
            "flex_flow": null,
            "grid_area": null,
            "grid_auto_columns": null,
            "grid_auto_flow": null,
            "grid_auto_rows": null,
            "grid_column": null,
            "grid_gap": null,
            "grid_row": null,
            "grid_template_areas": null,
            "grid_template_columns": null,
            "grid_template_rows": null,
            "height": null,
            "justify_content": null,
            "justify_items": null,
            "left": null,
            "margin": null,
            "max_height": null,
            "max_width": null,
            "min_height": null,
            "min_width": null,
            "object_fit": null,
            "object_position": null,
            "order": null,
            "overflow": null,
            "overflow_x": null,
            "overflow_y": null,
            "padding": null,
            "right": null,
            "top": null,
            "visibility": null,
            "width": null
          }
        },
        "350cc7b7d34d44038b688f58522b2456": {
          "model_module": "@jupyter-widgets/controls",
          "model_name": "ProgressStyleModel",
          "model_module_version": "1.5.0",
          "state": {
            "_model_module": "@jupyter-widgets/controls",
            "_model_module_version": "1.5.0",
            "_model_name": "ProgressStyleModel",
            "_view_count": null,
            "_view_module": "@jupyter-widgets/base",
            "_view_module_version": "1.2.0",
            "_view_name": "StyleView",
            "bar_color": null,
            "description_width": ""
          }
        },
        "d012f59310384d428286c429d2b253bf": {
          "model_module": "@jupyter-widgets/controls",
          "model_name": "VBoxModel",
          "model_module_version": "1.5.0",
          "state": {
            "_dom_classes": [],
            "_model_module": "@jupyter-widgets/controls",
            "_model_module_version": "1.5.0",
            "_model_name": "VBoxModel",
            "_view_count": null,
            "_view_module": "@jupyter-widgets/controls",
            "_view_module_version": "1.5.0",
            "_view_name": "VBoxView",
            "box_style": "",
            "children": [
              "IPY_MODEL_5769a166858146249fcd3222ee771eaf",
              "IPY_MODEL_97fe9927ca3645b6978c1edb836ce46c"
            ],
            "layout": "IPY_MODEL_f152b728afbd4fa293d9efc2d1d8efdb"
          }
        },
        "5769a166858146249fcd3222ee771eaf": {
          "model_module": "@jupyter-widgets/controls",
          "model_name": "LabelModel",
          "model_module_version": "1.5.0",
          "state": {
            "_dom_classes": [],
            "_model_module": "@jupyter-widgets/controls",
            "_model_module_version": "1.5.0",
            "_model_name": "LabelModel",
            "_view_count": null,
            "_view_module": "@jupyter-widgets/controls",
            "_view_module_version": "1.5.0",
            "_view_name": "LabelView",
            "description": "",
            "description_tooltip": null,
            "layout": "IPY_MODEL_83662d67552647de9b587aa284cbe56c",
            "placeholder": "​",
            "style": "IPY_MODEL_66b46aa57b2a49dfbd45c5f1c55558c6",
            "value": "0.016 MB of 0.016 MB uploaded\r"
          }
        },
        "97fe9927ca3645b6978c1edb836ce46c": {
          "model_module": "@jupyter-widgets/controls",
          "model_name": "FloatProgressModel",
          "model_module_version": "1.5.0",
          "state": {
            "_dom_classes": [],
            "_model_module": "@jupyter-widgets/controls",
            "_model_module_version": "1.5.0",
            "_model_name": "FloatProgressModel",
            "_view_count": null,
            "_view_module": "@jupyter-widgets/controls",
            "_view_module_version": "1.5.0",
            "_view_name": "ProgressView",
            "bar_style": "",
            "description": "",
            "description_tooltip": null,
            "layout": "IPY_MODEL_ccc999f6ed86400d96d7704c93c226fb",
            "max": 1,
            "min": 0,
            "orientation": "horizontal",
            "style": "IPY_MODEL_b151fe9507a941ee81872beeaa6eb16e",
            "value": 1
          }
        },
        "f152b728afbd4fa293d9efc2d1d8efdb": {
          "model_module": "@jupyter-widgets/base",
          "model_name": "LayoutModel",
          "model_module_version": "1.2.0",
          "state": {
            "_model_module": "@jupyter-widgets/base",
            "_model_module_version": "1.2.0",
            "_model_name": "LayoutModel",
            "_view_count": null,
            "_view_module": "@jupyter-widgets/base",
            "_view_module_version": "1.2.0",
            "_view_name": "LayoutView",
            "align_content": null,
            "align_items": null,
            "align_self": null,
            "border": null,
            "bottom": null,
            "display": null,
            "flex": null,
            "flex_flow": null,
            "grid_area": null,
            "grid_auto_columns": null,
            "grid_auto_flow": null,
            "grid_auto_rows": null,
            "grid_column": null,
            "grid_gap": null,
            "grid_row": null,
            "grid_template_areas": null,
            "grid_template_columns": null,
            "grid_template_rows": null,
            "height": null,
            "justify_content": null,
            "justify_items": null,
            "left": null,
            "margin": null,
            "max_height": null,
            "max_width": null,
            "min_height": null,
            "min_width": null,
            "object_fit": null,
            "object_position": null,
            "order": null,
            "overflow": null,
            "overflow_x": null,
            "overflow_y": null,
            "padding": null,
            "right": null,
            "top": null,
            "visibility": null,
            "width": null
          }
        },
        "83662d67552647de9b587aa284cbe56c": {
          "model_module": "@jupyter-widgets/base",
          "model_name": "LayoutModel",
          "model_module_version": "1.2.0",
          "state": {
            "_model_module": "@jupyter-widgets/base",
            "_model_module_version": "1.2.0",
            "_model_name": "LayoutModel",
            "_view_count": null,
            "_view_module": "@jupyter-widgets/base",
            "_view_module_version": "1.2.0",
            "_view_name": "LayoutView",
            "align_content": null,
            "align_items": null,
            "align_self": null,
            "border": null,
            "bottom": null,
            "display": null,
            "flex": null,
            "flex_flow": null,
            "grid_area": null,
            "grid_auto_columns": null,
            "grid_auto_flow": null,
            "grid_auto_rows": null,
            "grid_column": null,
            "grid_gap": null,
            "grid_row": null,
            "grid_template_areas": null,
            "grid_template_columns": null,
            "grid_template_rows": null,
            "height": null,
            "justify_content": null,
            "justify_items": null,
            "left": null,
            "margin": null,
            "max_height": null,
            "max_width": null,
            "min_height": null,
            "min_width": null,
            "object_fit": null,
            "object_position": null,
            "order": null,
            "overflow": null,
            "overflow_x": null,
            "overflow_y": null,
            "padding": null,
            "right": null,
            "top": null,
            "visibility": null,
            "width": null
          }
        },
        "66b46aa57b2a49dfbd45c5f1c55558c6": {
          "model_module": "@jupyter-widgets/controls",
          "model_name": "DescriptionStyleModel",
          "model_module_version": "1.5.0",
          "state": {
            "_model_module": "@jupyter-widgets/controls",
            "_model_module_version": "1.5.0",
            "_model_name": "DescriptionStyleModel",
            "_view_count": null,
            "_view_module": "@jupyter-widgets/base",
            "_view_module_version": "1.2.0",
            "_view_name": "StyleView",
            "description_width": ""
          }
        },
        "ccc999f6ed86400d96d7704c93c226fb": {
          "model_module": "@jupyter-widgets/base",
          "model_name": "LayoutModel",
          "model_module_version": "1.2.0",
          "state": {
            "_model_module": "@jupyter-widgets/base",
            "_model_module_version": "1.2.0",
            "_model_name": "LayoutModel",
            "_view_count": null,
            "_view_module": "@jupyter-widgets/base",
            "_view_module_version": "1.2.0",
            "_view_name": "LayoutView",
            "align_content": null,
            "align_items": null,
            "align_self": null,
            "border": null,
            "bottom": null,
            "display": null,
            "flex": null,
            "flex_flow": null,
            "grid_area": null,
            "grid_auto_columns": null,
            "grid_auto_flow": null,
            "grid_auto_rows": null,
            "grid_column": null,
            "grid_gap": null,
            "grid_row": null,
            "grid_template_areas": null,
            "grid_template_columns": null,
            "grid_template_rows": null,
            "height": null,
            "justify_content": null,
            "justify_items": null,
            "left": null,
            "margin": null,
            "max_height": null,
            "max_width": null,
            "min_height": null,
            "min_width": null,
            "object_fit": null,
            "object_position": null,
            "order": null,
            "overflow": null,
            "overflow_x": null,
            "overflow_y": null,
            "padding": null,
            "right": null,
            "top": null,
            "visibility": null,
            "width": null
          }
        },
        "b151fe9507a941ee81872beeaa6eb16e": {
          "model_module": "@jupyter-widgets/controls",
          "model_name": "ProgressStyleModel",
          "model_module_version": "1.5.0",
          "state": {
            "_model_module": "@jupyter-widgets/controls",
            "_model_module_version": "1.5.0",
            "_model_name": "ProgressStyleModel",
            "_view_count": null,
            "_view_module": "@jupyter-widgets/base",
            "_view_module_version": "1.2.0",
            "_view_name": "StyleView",
            "bar_color": null,
            "description_width": ""
          }
        },
        "65ecf12102d44292a355dfaea986eccc": {
          "model_module": "@jupyter-widgets/controls",
          "model_name": "VBoxModel",
          "model_module_version": "1.5.0",
          "state": {
            "_dom_classes": [],
            "_model_module": "@jupyter-widgets/controls",
            "_model_module_version": "1.5.0",
            "_model_name": "VBoxModel",
            "_view_count": null,
            "_view_module": "@jupyter-widgets/controls",
            "_view_module_version": "1.5.0",
            "_view_name": "VBoxView",
            "box_style": "",
            "children": [
              "IPY_MODEL_f106bdfa64e74540aedeb31ba993f9f0",
              "IPY_MODEL_bf42d4da593248a2a64b124a4247d61e"
            ],
            "layout": "IPY_MODEL_af1f1a84eb344167a70a2fe37418b32a"
          }
        },
        "f106bdfa64e74540aedeb31ba993f9f0": {
          "model_module": "@jupyter-widgets/controls",
          "model_name": "LabelModel",
          "model_module_version": "1.5.0",
          "state": {
            "_dom_classes": [],
            "_model_module": "@jupyter-widgets/controls",
            "_model_module_version": "1.5.0",
            "_model_name": "LabelModel",
            "_view_count": null,
            "_view_module": "@jupyter-widgets/controls",
            "_view_module_version": "1.5.0",
            "_view_name": "LabelView",
            "description": "",
            "description_tooltip": null,
            "layout": "IPY_MODEL_47383549620e470393ccfb823fc65b34",
            "placeholder": "​",
            "style": "IPY_MODEL_e66d120b4e0545e7b7bc4c525fec3211",
            "value": "0.015 MB of 0.015 MB uploaded\r"
          }
        },
        "bf42d4da593248a2a64b124a4247d61e": {
          "model_module": "@jupyter-widgets/controls",
          "model_name": "FloatProgressModel",
          "model_module_version": "1.5.0",
          "state": {
            "_dom_classes": [],
            "_model_module": "@jupyter-widgets/controls",
            "_model_module_version": "1.5.0",
            "_model_name": "FloatProgressModel",
            "_view_count": null,
            "_view_module": "@jupyter-widgets/controls",
            "_view_module_version": "1.5.0",
            "_view_name": "ProgressView",
            "bar_style": "",
            "description": "",
            "description_tooltip": null,
            "layout": "IPY_MODEL_a9f7b933867048429a2257cb0b503de5",
            "max": 1,
            "min": 0,
            "orientation": "horizontal",
            "style": "IPY_MODEL_6f2b1bad692b435f9dd39bacc345a846",
            "value": 1
          }
        },
        "af1f1a84eb344167a70a2fe37418b32a": {
          "model_module": "@jupyter-widgets/base",
          "model_name": "LayoutModel",
          "model_module_version": "1.2.0",
          "state": {
            "_model_module": "@jupyter-widgets/base",
            "_model_module_version": "1.2.0",
            "_model_name": "LayoutModel",
            "_view_count": null,
            "_view_module": "@jupyter-widgets/base",
            "_view_module_version": "1.2.0",
            "_view_name": "LayoutView",
            "align_content": null,
            "align_items": null,
            "align_self": null,
            "border": null,
            "bottom": null,
            "display": null,
            "flex": null,
            "flex_flow": null,
            "grid_area": null,
            "grid_auto_columns": null,
            "grid_auto_flow": null,
            "grid_auto_rows": null,
            "grid_column": null,
            "grid_gap": null,
            "grid_row": null,
            "grid_template_areas": null,
            "grid_template_columns": null,
            "grid_template_rows": null,
            "height": null,
            "justify_content": null,
            "justify_items": null,
            "left": null,
            "margin": null,
            "max_height": null,
            "max_width": null,
            "min_height": null,
            "min_width": null,
            "object_fit": null,
            "object_position": null,
            "order": null,
            "overflow": null,
            "overflow_x": null,
            "overflow_y": null,
            "padding": null,
            "right": null,
            "top": null,
            "visibility": null,
            "width": null
          }
        },
        "47383549620e470393ccfb823fc65b34": {
          "model_module": "@jupyter-widgets/base",
          "model_name": "LayoutModel",
          "model_module_version": "1.2.0",
          "state": {
            "_model_module": "@jupyter-widgets/base",
            "_model_module_version": "1.2.0",
            "_model_name": "LayoutModel",
            "_view_count": null,
            "_view_module": "@jupyter-widgets/base",
            "_view_module_version": "1.2.0",
            "_view_name": "LayoutView",
            "align_content": null,
            "align_items": null,
            "align_self": null,
            "border": null,
            "bottom": null,
            "display": null,
            "flex": null,
            "flex_flow": null,
            "grid_area": null,
            "grid_auto_columns": null,
            "grid_auto_flow": null,
            "grid_auto_rows": null,
            "grid_column": null,
            "grid_gap": null,
            "grid_row": null,
            "grid_template_areas": null,
            "grid_template_columns": null,
            "grid_template_rows": null,
            "height": null,
            "justify_content": null,
            "justify_items": null,
            "left": null,
            "margin": null,
            "max_height": null,
            "max_width": null,
            "min_height": null,
            "min_width": null,
            "object_fit": null,
            "object_position": null,
            "order": null,
            "overflow": null,
            "overflow_x": null,
            "overflow_y": null,
            "padding": null,
            "right": null,
            "top": null,
            "visibility": null,
            "width": null
          }
        },
        "e66d120b4e0545e7b7bc4c525fec3211": {
          "model_module": "@jupyter-widgets/controls",
          "model_name": "DescriptionStyleModel",
          "model_module_version": "1.5.0",
          "state": {
            "_model_module": "@jupyter-widgets/controls",
            "_model_module_version": "1.5.0",
            "_model_name": "DescriptionStyleModel",
            "_view_count": null,
            "_view_module": "@jupyter-widgets/base",
            "_view_module_version": "1.2.0",
            "_view_name": "StyleView",
            "description_width": ""
          }
        },
        "a9f7b933867048429a2257cb0b503de5": {
          "model_module": "@jupyter-widgets/base",
          "model_name": "LayoutModel",
          "model_module_version": "1.2.0",
          "state": {
            "_model_module": "@jupyter-widgets/base",
            "_model_module_version": "1.2.0",
            "_model_name": "LayoutModel",
            "_view_count": null,
            "_view_module": "@jupyter-widgets/base",
            "_view_module_version": "1.2.0",
            "_view_name": "LayoutView",
            "align_content": null,
            "align_items": null,
            "align_self": null,
            "border": null,
            "bottom": null,
            "display": null,
            "flex": null,
            "flex_flow": null,
            "grid_area": null,
            "grid_auto_columns": null,
            "grid_auto_flow": null,
            "grid_auto_rows": null,
            "grid_column": null,
            "grid_gap": null,
            "grid_row": null,
            "grid_template_areas": null,
            "grid_template_columns": null,
            "grid_template_rows": null,
            "height": null,
            "justify_content": null,
            "justify_items": null,
            "left": null,
            "margin": null,
            "max_height": null,
            "max_width": null,
            "min_height": null,
            "min_width": null,
            "object_fit": null,
            "object_position": null,
            "order": null,
            "overflow": null,
            "overflow_x": null,
            "overflow_y": null,
            "padding": null,
            "right": null,
            "top": null,
            "visibility": null,
            "width": null
          }
        },
        "6f2b1bad692b435f9dd39bacc345a846": {
          "model_module": "@jupyter-widgets/controls",
          "model_name": "ProgressStyleModel",
          "model_module_version": "1.5.0",
          "state": {
            "_model_module": "@jupyter-widgets/controls",
            "_model_module_version": "1.5.0",
            "_model_name": "ProgressStyleModel",
            "_view_count": null,
            "_view_module": "@jupyter-widgets/base",
            "_view_module_version": "1.2.0",
            "_view_name": "StyleView",
            "bar_color": null,
            "description_width": ""
          }
        },
        "781679a2354649aea4e5d14cae878a0a": {
          "model_module": "@jupyter-widgets/controls",
          "model_name": "VBoxModel",
          "model_module_version": "1.5.0",
          "state": {
            "_dom_classes": [],
            "_model_module": "@jupyter-widgets/controls",
            "_model_module_version": "1.5.0",
            "_model_name": "VBoxModel",
            "_view_count": null,
            "_view_module": "@jupyter-widgets/controls",
            "_view_module_version": "1.5.0",
            "_view_name": "VBoxView",
            "box_style": "",
            "children": [
              "IPY_MODEL_26511639319d45068bd2161f6baa8866",
              "IPY_MODEL_64f31b9af463465e8ecc24a5925d696a"
            ],
            "layout": "IPY_MODEL_72aa5d3f1106436fabd187b80eea7f07"
          }
        },
        "26511639319d45068bd2161f6baa8866": {
          "model_module": "@jupyter-widgets/controls",
          "model_name": "LabelModel",
          "model_module_version": "1.5.0",
          "state": {
            "_dom_classes": [],
            "_model_module": "@jupyter-widgets/controls",
            "_model_module_version": "1.5.0",
            "_model_name": "LabelModel",
            "_view_count": null,
            "_view_module": "@jupyter-widgets/controls",
            "_view_module_version": "1.5.0",
            "_view_name": "LabelView",
            "description": "",
            "description_tooltip": null,
            "layout": "IPY_MODEL_efd6a97bd5de4c6f8c903c91a6d66094",
            "placeholder": "​",
            "style": "IPY_MODEL_517f9ea51dd1437db60460da228c4943",
            "value": "0.015 MB of 0.015 MB uploaded\r"
          }
        },
        "64f31b9af463465e8ecc24a5925d696a": {
          "model_module": "@jupyter-widgets/controls",
          "model_name": "FloatProgressModel",
          "model_module_version": "1.5.0",
          "state": {
            "_dom_classes": [],
            "_model_module": "@jupyter-widgets/controls",
            "_model_module_version": "1.5.0",
            "_model_name": "FloatProgressModel",
            "_view_count": null,
            "_view_module": "@jupyter-widgets/controls",
            "_view_module_version": "1.5.0",
            "_view_name": "ProgressView",
            "bar_style": "",
            "description": "",
            "description_tooltip": null,
            "layout": "IPY_MODEL_4b1ffefa6f1f444da78cb56936422ff1",
            "max": 1,
            "min": 0,
            "orientation": "horizontal",
            "style": "IPY_MODEL_a3926e898c834e71883f9e58f89ec92a",
            "value": 1
          }
        },
        "72aa5d3f1106436fabd187b80eea7f07": {
          "model_module": "@jupyter-widgets/base",
          "model_name": "LayoutModel",
          "model_module_version": "1.2.0",
          "state": {
            "_model_module": "@jupyter-widgets/base",
            "_model_module_version": "1.2.0",
            "_model_name": "LayoutModel",
            "_view_count": null,
            "_view_module": "@jupyter-widgets/base",
            "_view_module_version": "1.2.0",
            "_view_name": "LayoutView",
            "align_content": null,
            "align_items": null,
            "align_self": null,
            "border": null,
            "bottom": null,
            "display": null,
            "flex": null,
            "flex_flow": null,
            "grid_area": null,
            "grid_auto_columns": null,
            "grid_auto_flow": null,
            "grid_auto_rows": null,
            "grid_column": null,
            "grid_gap": null,
            "grid_row": null,
            "grid_template_areas": null,
            "grid_template_columns": null,
            "grid_template_rows": null,
            "height": null,
            "justify_content": null,
            "justify_items": null,
            "left": null,
            "margin": null,
            "max_height": null,
            "max_width": null,
            "min_height": null,
            "min_width": null,
            "object_fit": null,
            "object_position": null,
            "order": null,
            "overflow": null,
            "overflow_x": null,
            "overflow_y": null,
            "padding": null,
            "right": null,
            "top": null,
            "visibility": null,
            "width": null
          }
        },
        "efd6a97bd5de4c6f8c903c91a6d66094": {
          "model_module": "@jupyter-widgets/base",
          "model_name": "LayoutModel",
          "model_module_version": "1.2.0",
          "state": {
            "_model_module": "@jupyter-widgets/base",
            "_model_module_version": "1.2.0",
            "_model_name": "LayoutModel",
            "_view_count": null,
            "_view_module": "@jupyter-widgets/base",
            "_view_module_version": "1.2.0",
            "_view_name": "LayoutView",
            "align_content": null,
            "align_items": null,
            "align_self": null,
            "border": null,
            "bottom": null,
            "display": null,
            "flex": null,
            "flex_flow": null,
            "grid_area": null,
            "grid_auto_columns": null,
            "grid_auto_flow": null,
            "grid_auto_rows": null,
            "grid_column": null,
            "grid_gap": null,
            "grid_row": null,
            "grid_template_areas": null,
            "grid_template_columns": null,
            "grid_template_rows": null,
            "height": null,
            "justify_content": null,
            "justify_items": null,
            "left": null,
            "margin": null,
            "max_height": null,
            "max_width": null,
            "min_height": null,
            "min_width": null,
            "object_fit": null,
            "object_position": null,
            "order": null,
            "overflow": null,
            "overflow_x": null,
            "overflow_y": null,
            "padding": null,
            "right": null,
            "top": null,
            "visibility": null,
            "width": null
          }
        },
        "517f9ea51dd1437db60460da228c4943": {
          "model_module": "@jupyter-widgets/controls",
          "model_name": "DescriptionStyleModel",
          "model_module_version": "1.5.0",
          "state": {
            "_model_module": "@jupyter-widgets/controls",
            "_model_module_version": "1.5.0",
            "_model_name": "DescriptionStyleModel",
            "_view_count": null,
            "_view_module": "@jupyter-widgets/base",
            "_view_module_version": "1.2.0",
            "_view_name": "StyleView",
            "description_width": ""
          }
        },
        "4b1ffefa6f1f444da78cb56936422ff1": {
          "model_module": "@jupyter-widgets/base",
          "model_name": "LayoutModel",
          "model_module_version": "1.2.0",
          "state": {
            "_model_module": "@jupyter-widgets/base",
            "_model_module_version": "1.2.0",
            "_model_name": "LayoutModel",
            "_view_count": null,
            "_view_module": "@jupyter-widgets/base",
            "_view_module_version": "1.2.0",
            "_view_name": "LayoutView",
            "align_content": null,
            "align_items": null,
            "align_self": null,
            "border": null,
            "bottom": null,
            "display": null,
            "flex": null,
            "flex_flow": null,
            "grid_area": null,
            "grid_auto_columns": null,
            "grid_auto_flow": null,
            "grid_auto_rows": null,
            "grid_column": null,
            "grid_gap": null,
            "grid_row": null,
            "grid_template_areas": null,
            "grid_template_columns": null,
            "grid_template_rows": null,
            "height": null,
            "justify_content": null,
            "justify_items": null,
            "left": null,
            "margin": null,
            "max_height": null,
            "max_width": null,
            "min_height": null,
            "min_width": null,
            "object_fit": null,
            "object_position": null,
            "order": null,
            "overflow": null,
            "overflow_x": null,
            "overflow_y": null,
            "padding": null,
            "right": null,
            "top": null,
            "visibility": null,
            "width": null
          }
        },
        "a3926e898c834e71883f9e58f89ec92a": {
          "model_module": "@jupyter-widgets/controls",
          "model_name": "ProgressStyleModel",
          "model_module_version": "1.5.0",
          "state": {
            "_model_module": "@jupyter-widgets/controls",
            "_model_module_version": "1.5.0",
            "_model_name": "ProgressStyleModel",
            "_view_count": null,
            "_view_module": "@jupyter-widgets/base",
            "_view_module_version": "1.2.0",
            "_view_name": "StyleView",
            "bar_color": null,
            "description_width": ""
          }
        },
        "4bf01f03bed44236b7f5c2be7f2e0b20": {
          "model_module": "@jupyter-widgets/controls",
          "model_name": "VBoxModel",
          "model_module_version": "1.5.0",
          "state": {
            "_dom_classes": [],
            "_model_module": "@jupyter-widgets/controls",
            "_model_module_version": "1.5.0",
            "_model_name": "VBoxModel",
            "_view_count": null,
            "_view_module": "@jupyter-widgets/controls",
            "_view_module_version": "1.5.0",
            "_view_name": "VBoxView",
            "box_style": "",
            "children": [
              "IPY_MODEL_1d34830f296449d6b24d72c212065a07",
              "IPY_MODEL_467f30bbfec74962b3d605e693b7f9ca"
            ],
            "layout": "IPY_MODEL_ea277ce83d3c4550921418d7e500c11a"
          }
        },
        "1d34830f296449d6b24d72c212065a07": {
          "model_module": "@jupyter-widgets/controls",
          "model_name": "LabelModel",
          "model_module_version": "1.5.0",
          "state": {
            "_dom_classes": [],
            "_model_module": "@jupyter-widgets/controls",
            "_model_module_version": "1.5.0",
            "_model_name": "LabelModel",
            "_view_count": null,
            "_view_module": "@jupyter-widgets/controls",
            "_view_module_version": "1.5.0",
            "_view_name": "LabelView",
            "description": "",
            "description_tooltip": null,
            "layout": "IPY_MODEL_b3d6678b11ae435180c7c71b54593593",
            "placeholder": "​",
            "style": "IPY_MODEL_f894e108660c47b198893ee1f070a689",
            "value": "0.016 MB of 0.016 MB uploaded\r"
          }
        },
        "467f30bbfec74962b3d605e693b7f9ca": {
          "model_module": "@jupyter-widgets/controls",
          "model_name": "FloatProgressModel",
          "model_module_version": "1.5.0",
          "state": {
            "_dom_classes": [],
            "_model_module": "@jupyter-widgets/controls",
            "_model_module_version": "1.5.0",
            "_model_name": "FloatProgressModel",
            "_view_count": null,
            "_view_module": "@jupyter-widgets/controls",
            "_view_module_version": "1.5.0",
            "_view_name": "ProgressView",
            "bar_style": "",
            "description": "",
            "description_tooltip": null,
            "layout": "IPY_MODEL_5d38acd6433c4fe8a9a59ceb330e9db8",
            "max": 1,
            "min": 0,
            "orientation": "horizontal",
            "style": "IPY_MODEL_bb4258bb23be4be59b6e686bca21ad73",
            "value": 1
          }
        },
        "ea277ce83d3c4550921418d7e500c11a": {
          "model_module": "@jupyter-widgets/base",
          "model_name": "LayoutModel",
          "model_module_version": "1.2.0",
          "state": {
            "_model_module": "@jupyter-widgets/base",
            "_model_module_version": "1.2.0",
            "_model_name": "LayoutModel",
            "_view_count": null,
            "_view_module": "@jupyter-widgets/base",
            "_view_module_version": "1.2.0",
            "_view_name": "LayoutView",
            "align_content": null,
            "align_items": null,
            "align_self": null,
            "border": null,
            "bottom": null,
            "display": null,
            "flex": null,
            "flex_flow": null,
            "grid_area": null,
            "grid_auto_columns": null,
            "grid_auto_flow": null,
            "grid_auto_rows": null,
            "grid_column": null,
            "grid_gap": null,
            "grid_row": null,
            "grid_template_areas": null,
            "grid_template_columns": null,
            "grid_template_rows": null,
            "height": null,
            "justify_content": null,
            "justify_items": null,
            "left": null,
            "margin": null,
            "max_height": null,
            "max_width": null,
            "min_height": null,
            "min_width": null,
            "object_fit": null,
            "object_position": null,
            "order": null,
            "overflow": null,
            "overflow_x": null,
            "overflow_y": null,
            "padding": null,
            "right": null,
            "top": null,
            "visibility": null,
            "width": null
          }
        },
        "b3d6678b11ae435180c7c71b54593593": {
          "model_module": "@jupyter-widgets/base",
          "model_name": "LayoutModel",
          "model_module_version": "1.2.0",
          "state": {
            "_model_module": "@jupyter-widgets/base",
            "_model_module_version": "1.2.0",
            "_model_name": "LayoutModel",
            "_view_count": null,
            "_view_module": "@jupyter-widgets/base",
            "_view_module_version": "1.2.0",
            "_view_name": "LayoutView",
            "align_content": null,
            "align_items": null,
            "align_self": null,
            "border": null,
            "bottom": null,
            "display": null,
            "flex": null,
            "flex_flow": null,
            "grid_area": null,
            "grid_auto_columns": null,
            "grid_auto_flow": null,
            "grid_auto_rows": null,
            "grid_column": null,
            "grid_gap": null,
            "grid_row": null,
            "grid_template_areas": null,
            "grid_template_columns": null,
            "grid_template_rows": null,
            "height": null,
            "justify_content": null,
            "justify_items": null,
            "left": null,
            "margin": null,
            "max_height": null,
            "max_width": null,
            "min_height": null,
            "min_width": null,
            "object_fit": null,
            "object_position": null,
            "order": null,
            "overflow": null,
            "overflow_x": null,
            "overflow_y": null,
            "padding": null,
            "right": null,
            "top": null,
            "visibility": null,
            "width": null
          }
        },
        "f894e108660c47b198893ee1f070a689": {
          "model_module": "@jupyter-widgets/controls",
          "model_name": "DescriptionStyleModel",
          "model_module_version": "1.5.0",
          "state": {
            "_model_module": "@jupyter-widgets/controls",
            "_model_module_version": "1.5.0",
            "_model_name": "DescriptionStyleModel",
            "_view_count": null,
            "_view_module": "@jupyter-widgets/base",
            "_view_module_version": "1.2.0",
            "_view_name": "StyleView",
            "description_width": ""
          }
        },
        "5d38acd6433c4fe8a9a59ceb330e9db8": {
          "model_module": "@jupyter-widgets/base",
          "model_name": "LayoutModel",
          "model_module_version": "1.2.0",
          "state": {
            "_model_module": "@jupyter-widgets/base",
            "_model_module_version": "1.2.0",
            "_model_name": "LayoutModel",
            "_view_count": null,
            "_view_module": "@jupyter-widgets/base",
            "_view_module_version": "1.2.0",
            "_view_name": "LayoutView",
            "align_content": null,
            "align_items": null,
            "align_self": null,
            "border": null,
            "bottom": null,
            "display": null,
            "flex": null,
            "flex_flow": null,
            "grid_area": null,
            "grid_auto_columns": null,
            "grid_auto_flow": null,
            "grid_auto_rows": null,
            "grid_column": null,
            "grid_gap": null,
            "grid_row": null,
            "grid_template_areas": null,
            "grid_template_columns": null,
            "grid_template_rows": null,
            "height": null,
            "justify_content": null,
            "justify_items": null,
            "left": null,
            "margin": null,
            "max_height": null,
            "max_width": null,
            "min_height": null,
            "min_width": null,
            "object_fit": null,
            "object_position": null,
            "order": null,
            "overflow": null,
            "overflow_x": null,
            "overflow_y": null,
            "padding": null,
            "right": null,
            "top": null,
            "visibility": null,
            "width": null
          }
        },
        "bb4258bb23be4be59b6e686bca21ad73": {
          "model_module": "@jupyter-widgets/controls",
          "model_name": "ProgressStyleModel",
          "model_module_version": "1.5.0",
          "state": {
            "_model_module": "@jupyter-widgets/controls",
            "_model_module_version": "1.5.0",
            "_model_name": "ProgressStyleModel",
            "_view_count": null,
            "_view_module": "@jupyter-widgets/base",
            "_view_module_version": "1.2.0",
            "_view_name": "StyleView",
            "bar_color": null,
            "description_width": ""
          }
        },
        "9e612b2016664f74a811bd47a7f41651": {
          "model_module": "@jupyter-widgets/controls",
          "model_name": "VBoxModel",
          "model_module_version": "1.5.0",
          "state": {
            "_dom_classes": [],
            "_model_module": "@jupyter-widgets/controls",
            "_model_module_version": "1.5.0",
            "_model_name": "VBoxModel",
            "_view_count": null,
            "_view_module": "@jupyter-widgets/controls",
            "_view_module_version": "1.5.0",
            "_view_name": "VBoxView",
            "box_style": "",
            "children": [
              "IPY_MODEL_c269e0e98df84e2baa11ccfdb585bf08",
              "IPY_MODEL_63a2f84c1d654490a388546a5d7b2d43"
            ],
            "layout": "IPY_MODEL_e2dedbf347f7419baa58da42a0bf69ce"
          }
        },
        "c269e0e98df84e2baa11ccfdb585bf08": {
          "model_module": "@jupyter-widgets/controls",
          "model_name": "LabelModel",
          "model_module_version": "1.5.0",
          "state": {
            "_dom_classes": [],
            "_model_module": "@jupyter-widgets/controls",
            "_model_module_version": "1.5.0",
            "_model_name": "LabelModel",
            "_view_count": null,
            "_view_module": "@jupyter-widgets/controls",
            "_view_module_version": "1.5.0",
            "_view_name": "LabelView",
            "description": "",
            "description_tooltip": null,
            "layout": "IPY_MODEL_1ec55b28993740d594f5e61579bfef5f",
            "placeholder": "​",
            "style": "IPY_MODEL_4e0761fe5eea46f8a822bf9bb9045d60",
            "value": "0.016 MB of 0.016 MB uploaded\r"
          }
        },
        "63a2f84c1d654490a388546a5d7b2d43": {
          "model_module": "@jupyter-widgets/controls",
          "model_name": "FloatProgressModel",
          "model_module_version": "1.5.0",
          "state": {
            "_dom_classes": [],
            "_model_module": "@jupyter-widgets/controls",
            "_model_module_version": "1.5.0",
            "_model_name": "FloatProgressModel",
            "_view_count": null,
            "_view_module": "@jupyter-widgets/controls",
            "_view_module_version": "1.5.0",
            "_view_name": "ProgressView",
            "bar_style": "",
            "description": "",
            "description_tooltip": null,
            "layout": "IPY_MODEL_74fc6f4dfba640a0af4a57b220581d42",
            "max": 1,
            "min": 0,
            "orientation": "horizontal",
            "style": "IPY_MODEL_9370b0c8e50c41d989042a8adc243a6a",
            "value": 1
          }
        },
        "e2dedbf347f7419baa58da42a0bf69ce": {
          "model_module": "@jupyter-widgets/base",
          "model_name": "LayoutModel",
          "model_module_version": "1.2.0",
          "state": {
            "_model_module": "@jupyter-widgets/base",
            "_model_module_version": "1.2.0",
            "_model_name": "LayoutModel",
            "_view_count": null,
            "_view_module": "@jupyter-widgets/base",
            "_view_module_version": "1.2.0",
            "_view_name": "LayoutView",
            "align_content": null,
            "align_items": null,
            "align_self": null,
            "border": null,
            "bottom": null,
            "display": null,
            "flex": null,
            "flex_flow": null,
            "grid_area": null,
            "grid_auto_columns": null,
            "grid_auto_flow": null,
            "grid_auto_rows": null,
            "grid_column": null,
            "grid_gap": null,
            "grid_row": null,
            "grid_template_areas": null,
            "grid_template_columns": null,
            "grid_template_rows": null,
            "height": null,
            "justify_content": null,
            "justify_items": null,
            "left": null,
            "margin": null,
            "max_height": null,
            "max_width": null,
            "min_height": null,
            "min_width": null,
            "object_fit": null,
            "object_position": null,
            "order": null,
            "overflow": null,
            "overflow_x": null,
            "overflow_y": null,
            "padding": null,
            "right": null,
            "top": null,
            "visibility": null,
            "width": null
          }
        },
        "1ec55b28993740d594f5e61579bfef5f": {
          "model_module": "@jupyter-widgets/base",
          "model_name": "LayoutModel",
          "model_module_version": "1.2.0",
          "state": {
            "_model_module": "@jupyter-widgets/base",
            "_model_module_version": "1.2.0",
            "_model_name": "LayoutModel",
            "_view_count": null,
            "_view_module": "@jupyter-widgets/base",
            "_view_module_version": "1.2.0",
            "_view_name": "LayoutView",
            "align_content": null,
            "align_items": null,
            "align_self": null,
            "border": null,
            "bottom": null,
            "display": null,
            "flex": null,
            "flex_flow": null,
            "grid_area": null,
            "grid_auto_columns": null,
            "grid_auto_flow": null,
            "grid_auto_rows": null,
            "grid_column": null,
            "grid_gap": null,
            "grid_row": null,
            "grid_template_areas": null,
            "grid_template_columns": null,
            "grid_template_rows": null,
            "height": null,
            "justify_content": null,
            "justify_items": null,
            "left": null,
            "margin": null,
            "max_height": null,
            "max_width": null,
            "min_height": null,
            "min_width": null,
            "object_fit": null,
            "object_position": null,
            "order": null,
            "overflow": null,
            "overflow_x": null,
            "overflow_y": null,
            "padding": null,
            "right": null,
            "top": null,
            "visibility": null,
            "width": null
          }
        },
        "4e0761fe5eea46f8a822bf9bb9045d60": {
          "model_module": "@jupyter-widgets/controls",
          "model_name": "DescriptionStyleModel",
          "model_module_version": "1.5.0",
          "state": {
            "_model_module": "@jupyter-widgets/controls",
            "_model_module_version": "1.5.0",
            "_model_name": "DescriptionStyleModel",
            "_view_count": null,
            "_view_module": "@jupyter-widgets/base",
            "_view_module_version": "1.2.0",
            "_view_name": "StyleView",
            "description_width": ""
          }
        },
        "74fc6f4dfba640a0af4a57b220581d42": {
          "model_module": "@jupyter-widgets/base",
          "model_name": "LayoutModel",
          "model_module_version": "1.2.0",
          "state": {
            "_model_module": "@jupyter-widgets/base",
            "_model_module_version": "1.2.0",
            "_model_name": "LayoutModel",
            "_view_count": null,
            "_view_module": "@jupyter-widgets/base",
            "_view_module_version": "1.2.0",
            "_view_name": "LayoutView",
            "align_content": null,
            "align_items": null,
            "align_self": null,
            "border": null,
            "bottom": null,
            "display": null,
            "flex": null,
            "flex_flow": null,
            "grid_area": null,
            "grid_auto_columns": null,
            "grid_auto_flow": null,
            "grid_auto_rows": null,
            "grid_column": null,
            "grid_gap": null,
            "grid_row": null,
            "grid_template_areas": null,
            "grid_template_columns": null,
            "grid_template_rows": null,
            "height": null,
            "justify_content": null,
            "justify_items": null,
            "left": null,
            "margin": null,
            "max_height": null,
            "max_width": null,
            "min_height": null,
            "min_width": null,
            "object_fit": null,
            "object_position": null,
            "order": null,
            "overflow": null,
            "overflow_x": null,
            "overflow_y": null,
            "padding": null,
            "right": null,
            "top": null,
            "visibility": null,
            "width": null
          }
        },
        "9370b0c8e50c41d989042a8adc243a6a": {
          "model_module": "@jupyter-widgets/controls",
          "model_name": "ProgressStyleModel",
          "model_module_version": "1.5.0",
          "state": {
            "_model_module": "@jupyter-widgets/controls",
            "_model_module_version": "1.5.0",
            "_model_name": "ProgressStyleModel",
            "_view_count": null,
            "_view_module": "@jupyter-widgets/base",
            "_view_module_version": "1.2.0",
            "_view_name": "StyleView",
            "bar_color": null,
            "description_width": ""
          }
        },
        "d618bb15007645a4b79d4c66f41cce1b": {
          "model_module": "@jupyter-widgets/controls",
          "model_name": "VBoxModel",
          "model_module_version": "1.5.0",
          "state": {
            "_dom_classes": [],
            "_model_module": "@jupyter-widgets/controls",
            "_model_module_version": "1.5.0",
            "_model_name": "VBoxModel",
            "_view_count": null,
            "_view_module": "@jupyter-widgets/controls",
            "_view_module_version": "1.5.0",
            "_view_name": "VBoxView",
            "box_style": "",
            "children": [
              "IPY_MODEL_3c6c90bd27f94f0ea6dc794b6bdbe002",
              "IPY_MODEL_0a9e10a24cb043b1a47785fa5c5f2b5a"
            ],
            "layout": "IPY_MODEL_be2eef0a335f4e409062eb4e7cfda256"
          }
        },
        "3c6c90bd27f94f0ea6dc794b6bdbe002": {
          "model_module": "@jupyter-widgets/controls",
          "model_name": "LabelModel",
          "model_module_version": "1.5.0",
          "state": {
            "_dom_classes": [],
            "_model_module": "@jupyter-widgets/controls",
            "_model_module_version": "1.5.0",
            "_model_name": "LabelModel",
            "_view_count": null,
            "_view_module": "@jupyter-widgets/controls",
            "_view_module_version": "1.5.0",
            "_view_name": "LabelView",
            "description": "",
            "description_tooltip": null,
            "layout": "IPY_MODEL_b72a436f948543c9b8dd2e00dc8b15e6",
            "placeholder": "​",
            "style": "IPY_MODEL_a619ce9ca1604d96b278f50dab54076d",
            "value": "0.016 MB of 0.016 MB uploaded\r"
          }
        },
        "0a9e10a24cb043b1a47785fa5c5f2b5a": {
          "model_module": "@jupyter-widgets/controls",
          "model_name": "FloatProgressModel",
          "model_module_version": "1.5.0",
          "state": {
            "_dom_classes": [],
            "_model_module": "@jupyter-widgets/controls",
            "_model_module_version": "1.5.0",
            "_model_name": "FloatProgressModel",
            "_view_count": null,
            "_view_module": "@jupyter-widgets/controls",
            "_view_module_version": "1.5.0",
            "_view_name": "ProgressView",
            "bar_style": "",
            "description": "",
            "description_tooltip": null,
            "layout": "IPY_MODEL_5251ba3421404ab0a10643586fde4473",
            "max": 1,
            "min": 0,
            "orientation": "horizontal",
            "style": "IPY_MODEL_817d73f291dd471099986ae7ac40ac83",
            "value": 1
          }
        },
        "be2eef0a335f4e409062eb4e7cfda256": {
          "model_module": "@jupyter-widgets/base",
          "model_name": "LayoutModel",
          "model_module_version": "1.2.0",
          "state": {
            "_model_module": "@jupyter-widgets/base",
            "_model_module_version": "1.2.0",
            "_model_name": "LayoutModel",
            "_view_count": null,
            "_view_module": "@jupyter-widgets/base",
            "_view_module_version": "1.2.0",
            "_view_name": "LayoutView",
            "align_content": null,
            "align_items": null,
            "align_self": null,
            "border": null,
            "bottom": null,
            "display": null,
            "flex": null,
            "flex_flow": null,
            "grid_area": null,
            "grid_auto_columns": null,
            "grid_auto_flow": null,
            "grid_auto_rows": null,
            "grid_column": null,
            "grid_gap": null,
            "grid_row": null,
            "grid_template_areas": null,
            "grid_template_columns": null,
            "grid_template_rows": null,
            "height": null,
            "justify_content": null,
            "justify_items": null,
            "left": null,
            "margin": null,
            "max_height": null,
            "max_width": null,
            "min_height": null,
            "min_width": null,
            "object_fit": null,
            "object_position": null,
            "order": null,
            "overflow": null,
            "overflow_x": null,
            "overflow_y": null,
            "padding": null,
            "right": null,
            "top": null,
            "visibility": null,
            "width": null
          }
        },
        "b72a436f948543c9b8dd2e00dc8b15e6": {
          "model_module": "@jupyter-widgets/base",
          "model_name": "LayoutModel",
          "model_module_version": "1.2.0",
          "state": {
            "_model_module": "@jupyter-widgets/base",
            "_model_module_version": "1.2.0",
            "_model_name": "LayoutModel",
            "_view_count": null,
            "_view_module": "@jupyter-widgets/base",
            "_view_module_version": "1.2.0",
            "_view_name": "LayoutView",
            "align_content": null,
            "align_items": null,
            "align_self": null,
            "border": null,
            "bottom": null,
            "display": null,
            "flex": null,
            "flex_flow": null,
            "grid_area": null,
            "grid_auto_columns": null,
            "grid_auto_flow": null,
            "grid_auto_rows": null,
            "grid_column": null,
            "grid_gap": null,
            "grid_row": null,
            "grid_template_areas": null,
            "grid_template_columns": null,
            "grid_template_rows": null,
            "height": null,
            "justify_content": null,
            "justify_items": null,
            "left": null,
            "margin": null,
            "max_height": null,
            "max_width": null,
            "min_height": null,
            "min_width": null,
            "object_fit": null,
            "object_position": null,
            "order": null,
            "overflow": null,
            "overflow_x": null,
            "overflow_y": null,
            "padding": null,
            "right": null,
            "top": null,
            "visibility": null,
            "width": null
          }
        },
        "a619ce9ca1604d96b278f50dab54076d": {
          "model_module": "@jupyter-widgets/controls",
          "model_name": "DescriptionStyleModel",
          "model_module_version": "1.5.0",
          "state": {
            "_model_module": "@jupyter-widgets/controls",
            "_model_module_version": "1.5.0",
            "_model_name": "DescriptionStyleModel",
            "_view_count": null,
            "_view_module": "@jupyter-widgets/base",
            "_view_module_version": "1.2.0",
            "_view_name": "StyleView",
            "description_width": ""
          }
        },
        "5251ba3421404ab0a10643586fde4473": {
          "model_module": "@jupyter-widgets/base",
          "model_name": "LayoutModel",
          "model_module_version": "1.2.0",
          "state": {
            "_model_module": "@jupyter-widgets/base",
            "_model_module_version": "1.2.0",
            "_model_name": "LayoutModel",
            "_view_count": null,
            "_view_module": "@jupyter-widgets/base",
            "_view_module_version": "1.2.0",
            "_view_name": "LayoutView",
            "align_content": null,
            "align_items": null,
            "align_self": null,
            "border": null,
            "bottom": null,
            "display": null,
            "flex": null,
            "flex_flow": null,
            "grid_area": null,
            "grid_auto_columns": null,
            "grid_auto_flow": null,
            "grid_auto_rows": null,
            "grid_column": null,
            "grid_gap": null,
            "grid_row": null,
            "grid_template_areas": null,
            "grid_template_columns": null,
            "grid_template_rows": null,
            "height": null,
            "justify_content": null,
            "justify_items": null,
            "left": null,
            "margin": null,
            "max_height": null,
            "max_width": null,
            "min_height": null,
            "min_width": null,
            "object_fit": null,
            "object_position": null,
            "order": null,
            "overflow": null,
            "overflow_x": null,
            "overflow_y": null,
            "padding": null,
            "right": null,
            "top": null,
            "visibility": null,
            "width": null
          }
        },
        "817d73f291dd471099986ae7ac40ac83": {
          "model_module": "@jupyter-widgets/controls",
          "model_name": "ProgressStyleModel",
          "model_module_version": "1.5.0",
          "state": {
            "_model_module": "@jupyter-widgets/controls",
            "_model_module_version": "1.5.0",
            "_model_name": "ProgressStyleModel",
            "_view_count": null,
            "_view_module": "@jupyter-widgets/base",
            "_view_module_version": "1.2.0",
            "_view_name": "StyleView",
            "bar_color": null,
            "description_width": ""
          }
        },
        "d5c995ed62a34782aef280562c23d1f9": {
          "model_module": "@jupyter-widgets/controls",
          "model_name": "VBoxModel",
          "model_module_version": "1.5.0",
          "state": {
            "_dom_classes": [],
            "_model_module": "@jupyter-widgets/controls",
            "_model_module_version": "1.5.0",
            "_model_name": "VBoxModel",
            "_view_count": null,
            "_view_module": "@jupyter-widgets/controls",
            "_view_module_version": "1.5.0",
            "_view_name": "VBoxView",
            "box_style": "",
            "children": [
              "IPY_MODEL_f6b1f4023ad24054a6d1717882dbdecb",
              "IPY_MODEL_2835589a15ca4383a053df3b90d7c357"
            ],
            "layout": "IPY_MODEL_ec024138de3a4670bf61552831df1f9f"
          }
        },
        "f6b1f4023ad24054a6d1717882dbdecb": {
          "model_module": "@jupyter-widgets/controls",
          "model_name": "LabelModel",
          "model_module_version": "1.5.0",
          "state": {
            "_dom_classes": [],
            "_model_module": "@jupyter-widgets/controls",
            "_model_module_version": "1.5.0",
            "_model_name": "LabelModel",
            "_view_count": null,
            "_view_module": "@jupyter-widgets/controls",
            "_view_module_version": "1.5.0",
            "_view_name": "LabelView",
            "description": "",
            "description_tooltip": null,
            "layout": "IPY_MODEL_abc58f244e5d4ef690446e737e78775e",
            "placeholder": "​",
            "style": "IPY_MODEL_0c10bdd7b3504889ae5459d43402cde1",
            "value": "0.015 MB of 0.015 MB uploaded\r"
          }
        },
        "2835589a15ca4383a053df3b90d7c357": {
          "model_module": "@jupyter-widgets/controls",
          "model_name": "FloatProgressModel",
          "model_module_version": "1.5.0",
          "state": {
            "_dom_classes": [],
            "_model_module": "@jupyter-widgets/controls",
            "_model_module_version": "1.5.0",
            "_model_name": "FloatProgressModel",
            "_view_count": null,
            "_view_module": "@jupyter-widgets/controls",
            "_view_module_version": "1.5.0",
            "_view_name": "ProgressView",
            "bar_style": "",
            "description": "",
            "description_tooltip": null,
            "layout": "IPY_MODEL_becf41f40b8a447299ee6f00c6d7f77e",
            "max": 1,
            "min": 0,
            "orientation": "horizontal",
            "style": "IPY_MODEL_712dc99cb73940f4b591af39ca1a1fa8",
            "value": 1
          }
        },
        "ec024138de3a4670bf61552831df1f9f": {
          "model_module": "@jupyter-widgets/base",
          "model_name": "LayoutModel",
          "model_module_version": "1.2.0",
          "state": {
            "_model_module": "@jupyter-widgets/base",
            "_model_module_version": "1.2.0",
            "_model_name": "LayoutModel",
            "_view_count": null,
            "_view_module": "@jupyter-widgets/base",
            "_view_module_version": "1.2.0",
            "_view_name": "LayoutView",
            "align_content": null,
            "align_items": null,
            "align_self": null,
            "border": null,
            "bottom": null,
            "display": null,
            "flex": null,
            "flex_flow": null,
            "grid_area": null,
            "grid_auto_columns": null,
            "grid_auto_flow": null,
            "grid_auto_rows": null,
            "grid_column": null,
            "grid_gap": null,
            "grid_row": null,
            "grid_template_areas": null,
            "grid_template_columns": null,
            "grid_template_rows": null,
            "height": null,
            "justify_content": null,
            "justify_items": null,
            "left": null,
            "margin": null,
            "max_height": null,
            "max_width": null,
            "min_height": null,
            "min_width": null,
            "object_fit": null,
            "object_position": null,
            "order": null,
            "overflow": null,
            "overflow_x": null,
            "overflow_y": null,
            "padding": null,
            "right": null,
            "top": null,
            "visibility": null,
            "width": null
          }
        },
        "abc58f244e5d4ef690446e737e78775e": {
          "model_module": "@jupyter-widgets/base",
          "model_name": "LayoutModel",
          "model_module_version": "1.2.0",
          "state": {
            "_model_module": "@jupyter-widgets/base",
            "_model_module_version": "1.2.0",
            "_model_name": "LayoutModel",
            "_view_count": null,
            "_view_module": "@jupyter-widgets/base",
            "_view_module_version": "1.2.0",
            "_view_name": "LayoutView",
            "align_content": null,
            "align_items": null,
            "align_self": null,
            "border": null,
            "bottom": null,
            "display": null,
            "flex": null,
            "flex_flow": null,
            "grid_area": null,
            "grid_auto_columns": null,
            "grid_auto_flow": null,
            "grid_auto_rows": null,
            "grid_column": null,
            "grid_gap": null,
            "grid_row": null,
            "grid_template_areas": null,
            "grid_template_columns": null,
            "grid_template_rows": null,
            "height": null,
            "justify_content": null,
            "justify_items": null,
            "left": null,
            "margin": null,
            "max_height": null,
            "max_width": null,
            "min_height": null,
            "min_width": null,
            "object_fit": null,
            "object_position": null,
            "order": null,
            "overflow": null,
            "overflow_x": null,
            "overflow_y": null,
            "padding": null,
            "right": null,
            "top": null,
            "visibility": null,
            "width": null
          }
        },
        "0c10bdd7b3504889ae5459d43402cde1": {
          "model_module": "@jupyter-widgets/controls",
          "model_name": "DescriptionStyleModel",
          "model_module_version": "1.5.0",
          "state": {
            "_model_module": "@jupyter-widgets/controls",
            "_model_module_version": "1.5.0",
            "_model_name": "DescriptionStyleModel",
            "_view_count": null,
            "_view_module": "@jupyter-widgets/base",
            "_view_module_version": "1.2.0",
            "_view_name": "StyleView",
            "description_width": ""
          }
        },
        "becf41f40b8a447299ee6f00c6d7f77e": {
          "model_module": "@jupyter-widgets/base",
          "model_name": "LayoutModel",
          "model_module_version": "1.2.0",
          "state": {
            "_model_module": "@jupyter-widgets/base",
            "_model_module_version": "1.2.0",
            "_model_name": "LayoutModel",
            "_view_count": null,
            "_view_module": "@jupyter-widgets/base",
            "_view_module_version": "1.2.0",
            "_view_name": "LayoutView",
            "align_content": null,
            "align_items": null,
            "align_self": null,
            "border": null,
            "bottom": null,
            "display": null,
            "flex": null,
            "flex_flow": null,
            "grid_area": null,
            "grid_auto_columns": null,
            "grid_auto_flow": null,
            "grid_auto_rows": null,
            "grid_column": null,
            "grid_gap": null,
            "grid_row": null,
            "grid_template_areas": null,
            "grid_template_columns": null,
            "grid_template_rows": null,
            "height": null,
            "justify_content": null,
            "justify_items": null,
            "left": null,
            "margin": null,
            "max_height": null,
            "max_width": null,
            "min_height": null,
            "min_width": null,
            "object_fit": null,
            "object_position": null,
            "order": null,
            "overflow": null,
            "overflow_x": null,
            "overflow_y": null,
            "padding": null,
            "right": null,
            "top": null,
            "visibility": null,
            "width": null
          }
        },
        "712dc99cb73940f4b591af39ca1a1fa8": {
          "model_module": "@jupyter-widgets/controls",
          "model_name": "ProgressStyleModel",
          "model_module_version": "1.5.0",
          "state": {
            "_model_module": "@jupyter-widgets/controls",
            "_model_module_version": "1.5.0",
            "_model_name": "ProgressStyleModel",
            "_view_count": null,
            "_view_module": "@jupyter-widgets/base",
            "_view_module_version": "1.2.0",
            "_view_name": "StyleView",
            "bar_color": null,
            "description_width": ""
          }
        },
        "0f703cdd64fc48acbd35771cf32579bd": {
          "model_module": "@jupyter-widgets/controls",
          "model_name": "VBoxModel",
          "model_module_version": "1.5.0",
          "state": {
            "_dom_classes": [],
            "_model_module": "@jupyter-widgets/controls",
            "_model_module_version": "1.5.0",
            "_model_name": "VBoxModel",
            "_view_count": null,
            "_view_module": "@jupyter-widgets/controls",
            "_view_module_version": "1.5.0",
            "_view_name": "VBoxView",
            "box_style": "",
            "children": [
              "IPY_MODEL_5e49817c115c4caf8b89ae8516d7addb",
              "IPY_MODEL_b776af1c176b4b249ab7b705220d2cfc"
            ],
            "layout": "IPY_MODEL_67e8be2eee8a456fa4e998d69e97e89d"
          }
        },
        "5e49817c115c4caf8b89ae8516d7addb": {
          "model_module": "@jupyter-widgets/controls",
          "model_name": "LabelModel",
          "model_module_version": "1.5.0",
          "state": {
            "_dom_classes": [],
            "_model_module": "@jupyter-widgets/controls",
            "_model_module_version": "1.5.0",
            "_model_name": "LabelModel",
            "_view_count": null,
            "_view_module": "@jupyter-widgets/controls",
            "_view_module_version": "1.5.0",
            "_view_name": "LabelView",
            "description": "",
            "description_tooltip": null,
            "layout": "IPY_MODEL_fc90a2cdaf9447ae89c0f9b4ec1b9d0c",
            "placeholder": "​",
            "style": "IPY_MODEL_c87dd19c9bdb41eabc6494126e263508",
            "value": "0.017 MB of 0.017 MB uploaded\r"
          }
        },
        "b776af1c176b4b249ab7b705220d2cfc": {
          "model_module": "@jupyter-widgets/controls",
          "model_name": "FloatProgressModel",
          "model_module_version": "1.5.0",
          "state": {
            "_dom_classes": [],
            "_model_module": "@jupyter-widgets/controls",
            "_model_module_version": "1.5.0",
            "_model_name": "FloatProgressModel",
            "_view_count": null,
            "_view_module": "@jupyter-widgets/controls",
            "_view_module_version": "1.5.0",
            "_view_name": "ProgressView",
            "bar_style": "",
            "description": "",
            "description_tooltip": null,
            "layout": "IPY_MODEL_3d5f0988e8d64c46b00f5579ccd91f44",
            "max": 1,
            "min": 0,
            "orientation": "horizontal",
            "style": "IPY_MODEL_31811399547245888bf0a14f214cf796",
            "value": 1
          }
        },
        "67e8be2eee8a456fa4e998d69e97e89d": {
          "model_module": "@jupyter-widgets/base",
          "model_name": "LayoutModel",
          "model_module_version": "1.2.0",
          "state": {
            "_model_module": "@jupyter-widgets/base",
            "_model_module_version": "1.2.0",
            "_model_name": "LayoutModel",
            "_view_count": null,
            "_view_module": "@jupyter-widgets/base",
            "_view_module_version": "1.2.0",
            "_view_name": "LayoutView",
            "align_content": null,
            "align_items": null,
            "align_self": null,
            "border": null,
            "bottom": null,
            "display": null,
            "flex": null,
            "flex_flow": null,
            "grid_area": null,
            "grid_auto_columns": null,
            "grid_auto_flow": null,
            "grid_auto_rows": null,
            "grid_column": null,
            "grid_gap": null,
            "grid_row": null,
            "grid_template_areas": null,
            "grid_template_columns": null,
            "grid_template_rows": null,
            "height": null,
            "justify_content": null,
            "justify_items": null,
            "left": null,
            "margin": null,
            "max_height": null,
            "max_width": null,
            "min_height": null,
            "min_width": null,
            "object_fit": null,
            "object_position": null,
            "order": null,
            "overflow": null,
            "overflow_x": null,
            "overflow_y": null,
            "padding": null,
            "right": null,
            "top": null,
            "visibility": null,
            "width": null
          }
        },
        "fc90a2cdaf9447ae89c0f9b4ec1b9d0c": {
          "model_module": "@jupyter-widgets/base",
          "model_name": "LayoutModel",
          "model_module_version": "1.2.0",
          "state": {
            "_model_module": "@jupyter-widgets/base",
            "_model_module_version": "1.2.0",
            "_model_name": "LayoutModel",
            "_view_count": null,
            "_view_module": "@jupyter-widgets/base",
            "_view_module_version": "1.2.0",
            "_view_name": "LayoutView",
            "align_content": null,
            "align_items": null,
            "align_self": null,
            "border": null,
            "bottom": null,
            "display": null,
            "flex": null,
            "flex_flow": null,
            "grid_area": null,
            "grid_auto_columns": null,
            "grid_auto_flow": null,
            "grid_auto_rows": null,
            "grid_column": null,
            "grid_gap": null,
            "grid_row": null,
            "grid_template_areas": null,
            "grid_template_columns": null,
            "grid_template_rows": null,
            "height": null,
            "justify_content": null,
            "justify_items": null,
            "left": null,
            "margin": null,
            "max_height": null,
            "max_width": null,
            "min_height": null,
            "min_width": null,
            "object_fit": null,
            "object_position": null,
            "order": null,
            "overflow": null,
            "overflow_x": null,
            "overflow_y": null,
            "padding": null,
            "right": null,
            "top": null,
            "visibility": null,
            "width": null
          }
        },
        "c87dd19c9bdb41eabc6494126e263508": {
          "model_module": "@jupyter-widgets/controls",
          "model_name": "DescriptionStyleModel",
          "model_module_version": "1.5.0",
          "state": {
            "_model_module": "@jupyter-widgets/controls",
            "_model_module_version": "1.5.0",
            "_model_name": "DescriptionStyleModel",
            "_view_count": null,
            "_view_module": "@jupyter-widgets/base",
            "_view_module_version": "1.2.0",
            "_view_name": "StyleView",
            "description_width": ""
          }
        },
        "3d5f0988e8d64c46b00f5579ccd91f44": {
          "model_module": "@jupyter-widgets/base",
          "model_name": "LayoutModel",
          "model_module_version": "1.2.0",
          "state": {
            "_model_module": "@jupyter-widgets/base",
            "_model_module_version": "1.2.0",
            "_model_name": "LayoutModel",
            "_view_count": null,
            "_view_module": "@jupyter-widgets/base",
            "_view_module_version": "1.2.0",
            "_view_name": "LayoutView",
            "align_content": null,
            "align_items": null,
            "align_self": null,
            "border": null,
            "bottom": null,
            "display": null,
            "flex": null,
            "flex_flow": null,
            "grid_area": null,
            "grid_auto_columns": null,
            "grid_auto_flow": null,
            "grid_auto_rows": null,
            "grid_column": null,
            "grid_gap": null,
            "grid_row": null,
            "grid_template_areas": null,
            "grid_template_columns": null,
            "grid_template_rows": null,
            "height": null,
            "justify_content": null,
            "justify_items": null,
            "left": null,
            "margin": null,
            "max_height": null,
            "max_width": null,
            "min_height": null,
            "min_width": null,
            "object_fit": null,
            "object_position": null,
            "order": null,
            "overflow": null,
            "overflow_x": null,
            "overflow_y": null,
            "padding": null,
            "right": null,
            "top": null,
            "visibility": null,
            "width": null
          }
        },
        "31811399547245888bf0a14f214cf796": {
          "model_module": "@jupyter-widgets/controls",
          "model_name": "ProgressStyleModel",
          "model_module_version": "1.5.0",
          "state": {
            "_model_module": "@jupyter-widgets/controls",
            "_model_module_version": "1.5.0",
            "_model_name": "ProgressStyleModel",
            "_view_count": null,
            "_view_module": "@jupyter-widgets/base",
            "_view_module_version": "1.2.0",
            "_view_name": "StyleView",
            "bar_color": null,
            "description_width": ""
          }
        },
        "58c5d708ab5c482f8e3e57ff386b257f": {
          "model_module": "@jupyter-widgets/controls",
          "model_name": "VBoxModel",
          "model_module_version": "1.5.0",
          "state": {
            "_dom_classes": [],
            "_model_module": "@jupyter-widgets/controls",
            "_model_module_version": "1.5.0",
            "_model_name": "VBoxModel",
            "_view_count": null,
            "_view_module": "@jupyter-widgets/controls",
            "_view_module_version": "1.5.0",
            "_view_name": "VBoxView",
            "box_style": "",
            "children": [
              "IPY_MODEL_e512145ccfd84a67bbd017b1d2141428",
              "IPY_MODEL_3458dc75ce7a4b6c98907c1f46a4ebd0"
            ],
            "layout": "IPY_MODEL_876ba5a697784e32ab5bf6d61b485734"
          }
        },
        "e512145ccfd84a67bbd017b1d2141428": {
          "model_module": "@jupyter-widgets/controls",
          "model_name": "LabelModel",
          "model_module_version": "1.5.0",
          "state": {
            "_dom_classes": [],
            "_model_module": "@jupyter-widgets/controls",
            "_model_module_version": "1.5.0",
            "_model_name": "LabelModel",
            "_view_count": null,
            "_view_module": "@jupyter-widgets/controls",
            "_view_module_version": "1.5.0",
            "_view_name": "LabelView",
            "description": "",
            "description_tooltip": null,
            "layout": "IPY_MODEL_8ae98cbec57744ee952b217dbef77a66",
            "placeholder": "​",
            "style": "IPY_MODEL_96376bf5d494415583a7d473ad87a183",
            "value": "0.016 MB of 0.016 MB uploaded\r"
          }
        },
        "3458dc75ce7a4b6c98907c1f46a4ebd0": {
          "model_module": "@jupyter-widgets/controls",
          "model_name": "FloatProgressModel",
          "model_module_version": "1.5.0",
          "state": {
            "_dom_classes": [],
            "_model_module": "@jupyter-widgets/controls",
            "_model_module_version": "1.5.0",
            "_model_name": "FloatProgressModel",
            "_view_count": null,
            "_view_module": "@jupyter-widgets/controls",
            "_view_module_version": "1.5.0",
            "_view_name": "ProgressView",
            "bar_style": "",
            "description": "",
            "description_tooltip": null,
            "layout": "IPY_MODEL_6fc8c30a79fc4a939c74a29f143884ee",
            "max": 1,
            "min": 0,
            "orientation": "horizontal",
            "style": "IPY_MODEL_a71dec94bc3440c98fd2607fdc9a943d",
            "value": 1
          }
        },
        "876ba5a697784e32ab5bf6d61b485734": {
          "model_module": "@jupyter-widgets/base",
          "model_name": "LayoutModel",
          "model_module_version": "1.2.0",
          "state": {
            "_model_module": "@jupyter-widgets/base",
            "_model_module_version": "1.2.0",
            "_model_name": "LayoutModel",
            "_view_count": null,
            "_view_module": "@jupyter-widgets/base",
            "_view_module_version": "1.2.0",
            "_view_name": "LayoutView",
            "align_content": null,
            "align_items": null,
            "align_self": null,
            "border": null,
            "bottom": null,
            "display": null,
            "flex": null,
            "flex_flow": null,
            "grid_area": null,
            "grid_auto_columns": null,
            "grid_auto_flow": null,
            "grid_auto_rows": null,
            "grid_column": null,
            "grid_gap": null,
            "grid_row": null,
            "grid_template_areas": null,
            "grid_template_columns": null,
            "grid_template_rows": null,
            "height": null,
            "justify_content": null,
            "justify_items": null,
            "left": null,
            "margin": null,
            "max_height": null,
            "max_width": null,
            "min_height": null,
            "min_width": null,
            "object_fit": null,
            "object_position": null,
            "order": null,
            "overflow": null,
            "overflow_x": null,
            "overflow_y": null,
            "padding": null,
            "right": null,
            "top": null,
            "visibility": null,
            "width": null
          }
        },
        "8ae98cbec57744ee952b217dbef77a66": {
          "model_module": "@jupyter-widgets/base",
          "model_name": "LayoutModel",
          "model_module_version": "1.2.0",
          "state": {
            "_model_module": "@jupyter-widgets/base",
            "_model_module_version": "1.2.0",
            "_model_name": "LayoutModel",
            "_view_count": null,
            "_view_module": "@jupyter-widgets/base",
            "_view_module_version": "1.2.0",
            "_view_name": "LayoutView",
            "align_content": null,
            "align_items": null,
            "align_self": null,
            "border": null,
            "bottom": null,
            "display": null,
            "flex": null,
            "flex_flow": null,
            "grid_area": null,
            "grid_auto_columns": null,
            "grid_auto_flow": null,
            "grid_auto_rows": null,
            "grid_column": null,
            "grid_gap": null,
            "grid_row": null,
            "grid_template_areas": null,
            "grid_template_columns": null,
            "grid_template_rows": null,
            "height": null,
            "justify_content": null,
            "justify_items": null,
            "left": null,
            "margin": null,
            "max_height": null,
            "max_width": null,
            "min_height": null,
            "min_width": null,
            "object_fit": null,
            "object_position": null,
            "order": null,
            "overflow": null,
            "overflow_x": null,
            "overflow_y": null,
            "padding": null,
            "right": null,
            "top": null,
            "visibility": null,
            "width": null
          }
        },
        "96376bf5d494415583a7d473ad87a183": {
          "model_module": "@jupyter-widgets/controls",
          "model_name": "DescriptionStyleModel",
          "model_module_version": "1.5.0",
          "state": {
            "_model_module": "@jupyter-widgets/controls",
            "_model_module_version": "1.5.0",
            "_model_name": "DescriptionStyleModel",
            "_view_count": null,
            "_view_module": "@jupyter-widgets/base",
            "_view_module_version": "1.2.0",
            "_view_name": "StyleView",
            "description_width": ""
          }
        },
        "6fc8c30a79fc4a939c74a29f143884ee": {
          "model_module": "@jupyter-widgets/base",
          "model_name": "LayoutModel",
          "model_module_version": "1.2.0",
          "state": {
            "_model_module": "@jupyter-widgets/base",
            "_model_module_version": "1.2.0",
            "_model_name": "LayoutModel",
            "_view_count": null,
            "_view_module": "@jupyter-widgets/base",
            "_view_module_version": "1.2.0",
            "_view_name": "LayoutView",
            "align_content": null,
            "align_items": null,
            "align_self": null,
            "border": null,
            "bottom": null,
            "display": null,
            "flex": null,
            "flex_flow": null,
            "grid_area": null,
            "grid_auto_columns": null,
            "grid_auto_flow": null,
            "grid_auto_rows": null,
            "grid_column": null,
            "grid_gap": null,
            "grid_row": null,
            "grid_template_areas": null,
            "grid_template_columns": null,
            "grid_template_rows": null,
            "height": null,
            "justify_content": null,
            "justify_items": null,
            "left": null,
            "margin": null,
            "max_height": null,
            "max_width": null,
            "min_height": null,
            "min_width": null,
            "object_fit": null,
            "object_position": null,
            "order": null,
            "overflow": null,
            "overflow_x": null,
            "overflow_y": null,
            "padding": null,
            "right": null,
            "top": null,
            "visibility": null,
            "width": null
          }
        },
        "a71dec94bc3440c98fd2607fdc9a943d": {
          "model_module": "@jupyter-widgets/controls",
          "model_name": "ProgressStyleModel",
          "model_module_version": "1.5.0",
          "state": {
            "_model_module": "@jupyter-widgets/controls",
            "_model_module_version": "1.5.0",
            "_model_name": "ProgressStyleModel",
            "_view_count": null,
            "_view_module": "@jupyter-widgets/base",
            "_view_module_version": "1.2.0",
            "_view_name": "StyleView",
            "bar_color": null,
            "description_width": ""
          }
        },
        "51840525b896424887ee407449c99bab": {
          "model_module": "@jupyter-widgets/controls",
          "model_name": "VBoxModel",
          "model_module_version": "1.5.0",
          "state": {
            "_dom_classes": [],
            "_model_module": "@jupyter-widgets/controls",
            "_model_module_version": "1.5.0",
            "_model_name": "VBoxModel",
            "_view_count": null,
            "_view_module": "@jupyter-widgets/controls",
            "_view_module_version": "1.5.0",
            "_view_name": "VBoxView",
            "box_style": "",
            "children": [
              "IPY_MODEL_cc8fbdf19623410abbc3cc706bd48f30",
              "IPY_MODEL_552d98771030441b83fc879f1e0ea91c"
            ],
            "layout": "IPY_MODEL_d2c6e5760c774614a443b9cecefff7ee"
          }
        },
        "cc8fbdf19623410abbc3cc706bd48f30": {
          "model_module": "@jupyter-widgets/controls",
          "model_name": "LabelModel",
          "model_module_version": "1.5.0",
          "state": {
            "_dom_classes": [],
            "_model_module": "@jupyter-widgets/controls",
            "_model_module_version": "1.5.0",
            "_model_name": "LabelModel",
            "_view_count": null,
            "_view_module": "@jupyter-widgets/controls",
            "_view_module_version": "1.5.0",
            "_view_name": "LabelView",
            "description": "",
            "description_tooltip": null,
            "layout": "IPY_MODEL_72683c19d4b845d098d3e73ff4d2a1f7",
            "placeholder": "​",
            "style": "IPY_MODEL_051b9caea2ad47209386237a71bfd2de",
            "value": "0.015 MB of 0.015 MB uploaded\r"
          }
        },
        "552d98771030441b83fc879f1e0ea91c": {
          "model_module": "@jupyter-widgets/controls",
          "model_name": "FloatProgressModel",
          "model_module_version": "1.5.0",
          "state": {
            "_dom_classes": [],
            "_model_module": "@jupyter-widgets/controls",
            "_model_module_version": "1.5.0",
            "_model_name": "FloatProgressModel",
            "_view_count": null,
            "_view_module": "@jupyter-widgets/controls",
            "_view_module_version": "1.5.0",
            "_view_name": "ProgressView",
            "bar_style": "",
            "description": "",
            "description_tooltip": null,
            "layout": "IPY_MODEL_a1035934c6be422d8da699a8fb5142ea",
            "max": 1,
            "min": 0,
            "orientation": "horizontal",
            "style": "IPY_MODEL_234dfd02669045eabd65af8035224a7d",
            "value": 1
          }
        },
        "d2c6e5760c774614a443b9cecefff7ee": {
          "model_module": "@jupyter-widgets/base",
          "model_name": "LayoutModel",
          "model_module_version": "1.2.0",
          "state": {
            "_model_module": "@jupyter-widgets/base",
            "_model_module_version": "1.2.0",
            "_model_name": "LayoutModel",
            "_view_count": null,
            "_view_module": "@jupyter-widgets/base",
            "_view_module_version": "1.2.0",
            "_view_name": "LayoutView",
            "align_content": null,
            "align_items": null,
            "align_self": null,
            "border": null,
            "bottom": null,
            "display": null,
            "flex": null,
            "flex_flow": null,
            "grid_area": null,
            "grid_auto_columns": null,
            "grid_auto_flow": null,
            "grid_auto_rows": null,
            "grid_column": null,
            "grid_gap": null,
            "grid_row": null,
            "grid_template_areas": null,
            "grid_template_columns": null,
            "grid_template_rows": null,
            "height": null,
            "justify_content": null,
            "justify_items": null,
            "left": null,
            "margin": null,
            "max_height": null,
            "max_width": null,
            "min_height": null,
            "min_width": null,
            "object_fit": null,
            "object_position": null,
            "order": null,
            "overflow": null,
            "overflow_x": null,
            "overflow_y": null,
            "padding": null,
            "right": null,
            "top": null,
            "visibility": null,
            "width": null
          }
        },
        "72683c19d4b845d098d3e73ff4d2a1f7": {
          "model_module": "@jupyter-widgets/base",
          "model_name": "LayoutModel",
          "model_module_version": "1.2.0",
          "state": {
            "_model_module": "@jupyter-widgets/base",
            "_model_module_version": "1.2.0",
            "_model_name": "LayoutModel",
            "_view_count": null,
            "_view_module": "@jupyter-widgets/base",
            "_view_module_version": "1.2.0",
            "_view_name": "LayoutView",
            "align_content": null,
            "align_items": null,
            "align_self": null,
            "border": null,
            "bottom": null,
            "display": null,
            "flex": null,
            "flex_flow": null,
            "grid_area": null,
            "grid_auto_columns": null,
            "grid_auto_flow": null,
            "grid_auto_rows": null,
            "grid_column": null,
            "grid_gap": null,
            "grid_row": null,
            "grid_template_areas": null,
            "grid_template_columns": null,
            "grid_template_rows": null,
            "height": null,
            "justify_content": null,
            "justify_items": null,
            "left": null,
            "margin": null,
            "max_height": null,
            "max_width": null,
            "min_height": null,
            "min_width": null,
            "object_fit": null,
            "object_position": null,
            "order": null,
            "overflow": null,
            "overflow_x": null,
            "overflow_y": null,
            "padding": null,
            "right": null,
            "top": null,
            "visibility": null,
            "width": null
          }
        },
        "051b9caea2ad47209386237a71bfd2de": {
          "model_module": "@jupyter-widgets/controls",
          "model_name": "DescriptionStyleModel",
          "model_module_version": "1.5.0",
          "state": {
            "_model_module": "@jupyter-widgets/controls",
            "_model_module_version": "1.5.0",
            "_model_name": "DescriptionStyleModel",
            "_view_count": null,
            "_view_module": "@jupyter-widgets/base",
            "_view_module_version": "1.2.0",
            "_view_name": "StyleView",
            "description_width": ""
          }
        },
        "a1035934c6be422d8da699a8fb5142ea": {
          "model_module": "@jupyter-widgets/base",
          "model_name": "LayoutModel",
          "model_module_version": "1.2.0",
          "state": {
            "_model_module": "@jupyter-widgets/base",
            "_model_module_version": "1.2.0",
            "_model_name": "LayoutModel",
            "_view_count": null,
            "_view_module": "@jupyter-widgets/base",
            "_view_module_version": "1.2.0",
            "_view_name": "LayoutView",
            "align_content": null,
            "align_items": null,
            "align_self": null,
            "border": null,
            "bottom": null,
            "display": null,
            "flex": null,
            "flex_flow": null,
            "grid_area": null,
            "grid_auto_columns": null,
            "grid_auto_flow": null,
            "grid_auto_rows": null,
            "grid_column": null,
            "grid_gap": null,
            "grid_row": null,
            "grid_template_areas": null,
            "grid_template_columns": null,
            "grid_template_rows": null,
            "height": null,
            "justify_content": null,
            "justify_items": null,
            "left": null,
            "margin": null,
            "max_height": null,
            "max_width": null,
            "min_height": null,
            "min_width": null,
            "object_fit": null,
            "object_position": null,
            "order": null,
            "overflow": null,
            "overflow_x": null,
            "overflow_y": null,
            "padding": null,
            "right": null,
            "top": null,
            "visibility": null,
            "width": null
          }
        },
        "234dfd02669045eabd65af8035224a7d": {
          "model_module": "@jupyter-widgets/controls",
          "model_name": "ProgressStyleModel",
          "model_module_version": "1.5.0",
          "state": {
            "_model_module": "@jupyter-widgets/controls",
            "_model_module_version": "1.5.0",
            "_model_name": "ProgressStyleModel",
            "_view_count": null,
            "_view_module": "@jupyter-widgets/base",
            "_view_module_version": "1.2.0",
            "_view_name": "StyleView",
            "bar_color": null,
            "description_width": ""
          }
        },
        "2479a4bc80af4af686485903dce4adce": {
          "model_module": "@jupyter-widgets/controls",
          "model_name": "VBoxModel",
          "model_module_version": "1.5.0",
          "state": {
            "_dom_classes": [],
            "_model_module": "@jupyter-widgets/controls",
            "_model_module_version": "1.5.0",
            "_model_name": "VBoxModel",
            "_view_count": null,
            "_view_module": "@jupyter-widgets/controls",
            "_view_module_version": "1.5.0",
            "_view_name": "VBoxView",
            "box_style": "",
            "children": [
              "IPY_MODEL_120e8525cc8942b4b4b48a86128dce27",
              "IPY_MODEL_272020bc451b47a3b93e860e6aeac440"
            ],
            "layout": "IPY_MODEL_a017bca470e54143a61af9b2fedbe542"
          }
        },
        "120e8525cc8942b4b4b48a86128dce27": {
          "model_module": "@jupyter-widgets/controls",
          "model_name": "LabelModel",
          "model_module_version": "1.5.0",
          "state": {
            "_dom_classes": [],
            "_model_module": "@jupyter-widgets/controls",
            "_model_module_version": "1.5.0",
            "_model_name": "LabelModel",
            "_view_count": null,
            "_view_module": "@jupyter-widgets/controls",
            "_view_module_version": "1.5.0",
            "_view_name": "LabelView",
            "description": "",
            "description_tooltip": null,
            "layout": "IPY_MODEL_0f396af2923a40b190de70f01ee3b89e",
            "placeholder": "​",
            "style": "IPY_MODEL_4afdced14b2c4097bd16f9c9141ffa1e",
            "value": "0.015 MB of 0.015 MB uploaded\r"
          }
        },
        "272020bc451b47a3b93e860e6aeac440": {
          "model_module": "@jupyter-widgets/controls",
          "model_name": "FloatProgressModel",
          "model_module_version": "1.5.0",
          "state": {
            "_dom_classes": [],
            "_model_module": "@jupyter-widgets/controls",
            "_model_module_version": "1.5.0",
            "_model_name": "FloatProgressModel",
            "_view_count": null,
            "_view_module": "@jupyter-widgets/controls",
            "_view_module_version": "1.5.0",
            "_view_name": "ProgressView",
            "bar_style": "",
            "description": "",
            "description_tooltip": null,
            "layout": "IPY_MODEL_333b97eacb5f424993f9f1b7290d34ce",
            "max": 1,
            "min": 0,
            "orientation": "horizontal",
            "style": "IPY_MODEL_7aacb372d2474a7ba75ba1e1bee9d2d5",
            "value": 1
          }
        },
        "a017bca470e54143a61af9b2fedbe542": {
          "model_module": "@jupyter-widgets/base",
          "model_name": "LayoutModel",
          "model_module_version": "1.2.0",
          "state": {
            "_model_module": "@jupyter-widgets/base",
            "_model_module_version": "1.2.0",
            "_model_name": "LayoutModel",
            "_view_count": null,
            "_view_module": "@jupyter-widgets/base",
            "_view_module_version": "1.2.0",
            "_view_name": "LayoutView",
            "align_content": null,
            "align_items": null,
            "align_self": null,
            "border": null,
            "bottom": null,
            "display": null,
            "flex": null,
            "flex_flow": null,
            "grid_area": null,
            "grid_auto_columns": null,
            "grid_auto_flow": null,
            "grid_auto_rows": null,
            "grid_column": null,
            "grid_gap": null,
            "grid_row": null,
            "grid_template_areas": null,
            "grid_template_columns": null,
            "grid_template_rows": null,
            "height": null,
            "justify_content": null,
            "justify_items": null,
            "left": null,
            "margin": null,
            "max_height": null,
            "max_width": null,
            "min_height": null,
            "min_width": null,
            "object_fit": null,
            "object_position": null,
            "order": null,
            "overflow": null,
            "overflow_x": null,
            "overflow_y": null,
            "padding": null,
            "right": null,
            "top": null,
            "visibility": null,
            "width": null
          }
        },
        "0f396af2923a40b190de70f01ee3b89e": {
          "model_module": "@jupyter-widgets/base",
          "model_name": "LayoutModel",
          "model_module_version": "1.2.0",
          "state": {
            "_model_module": "@jupyter-widgets/base",
            "_model_module_version": "1.2.0",
            "_model_name": "LayoutModel",
            "_view_count": null,
            "_view_module": "@jupyter-widgets/base",
            "_view_module_version": "1.2.0",
            "_view_name": "LayoutView",
            "align_content": null,
            "align_items": null,
            "align_self": null,
            "border": null,
            "bottom": null,
            "display": null,
            "flex": null,
            "flex_flow": null,
            "grid_area": null,
            "grid_auto_columns": null,
            "grid_auto_flow": null,
            "grid_auto_rows": null,
            "grid_column": null,
            "grid_gap": null,
            "grid_row": null,
            "grid_template_areas": null,
            "grid_template_columns": null,
            "grid_template_rows": null,
            "height": null,
            "justify_content": null,
            "justify_items": null,
            "left": null,
            "margin": null,
            "max_height": null,
            "max_width": null,
            "min_height": null,
            "min_width": null,
            "object_fit": null,
            "object_position": null,
            "order": null,
            "overflow": null,
            "overflow_x": null,
            "overflow_y": null,
            "padding": null,
            "right": null,
            "top": null,
            "visibility": null,
            "width": null
          }
        },
        "4afdced14b2c4097bd16f9c9141ffa1e": {
          "model_module": "@jupyter-widgets/controls",
          "model_name": "DescriptionStyleModel",
          "model_module_version": "1.5.0",
          "state": {
            "_model_module": "@jupyter-widgets/controls",
            "_model_module_version": "1.5.0",
            "_model_name": "DescriptionStyleModel",
            "_view_count": null,
            "_view_module": "@jupyter-widgets/base",
            "_view_module_version": "1.2.0",
            "_view_name": "StyleView",
            "description_width": ""
          }
        },
        "333b97eacb5f424993f9f1b7290d34ce": {
          "model_module": "@jupyter-widgets/base",
          "model_name": "LayoutModel",
          "model_module_version": "1.2.0",
          "state": {
            "_model_module": "@jupyter-widgets/base",
            "_model_module_version": "1.2.0",
            "_model_name": "LayoutModel",
            "_view_count": null,
            "_view_module": "@jupyter-widgets/base",
            "_view_module_version": "1.2.0",
            "_view_name": "LayoutView",
            "align_content": null,
            "align_items": null,
            "align_self": null,
            "border": null,
            "bottom": null,
            "display": null,
            "flex": null,
            "flex_flow": null,
            "grid_area": null,
            "grid_auto_columns": null,
            "grid_auto_flow": null,
            "grid_auto_rows": null,
            "grid_column": null,
            "grid_gap": null,
            "grid_row": null,
            "grid_template_areas": null,
            "grid_template_columns": null,
            "grid_template_rows": null,
            "height": null,
            "justify_content": null,
            "justify_items": null,
            "left": null,
            "margin": null,
            "max_height": null,
            "max_width": null,
            "min_height": null,
            "min_width": null,
            "object_fit": null,
            "object_position": null,
            "order": null,
            "overflow": null,
            "overflow_x": null,
            "overflow_y": null,
            "padding": null,
            "right": null,
            "top": null,
            "visibility": null,
            "width": null
          }
        },
        "7aacb372d2474a7ba75ba1e1bee9d2d5": {
          "model_module": "@jupyter-widgets/controls",
          "model_name": "ProgressStyleModel",
          "model_module_version": "1.5.0",
          "state": {
            "_model_module": "@jupyter-widgets/controls",
            "_model_module_version": "1.5.0",
            "_model_name": "ProgressStyleModel",
            "_view_count": null,
            "_view_module": "@jupyter-widgets/base",
            "_view_module_version": "1.2.0",
            "_view_name": "StyleView",
            "bar_color": null,
            "description_width": ""
          }
        },
        "6c1674c2523d4921b6ac1ad249b0853e": {
          "model_module": "@jupyter-widgets/controls",
          "model_name": "VBoxModel",
          "model_module_version": "1.5.0",
          "state": {
            "_dom_classes": [],
            "_model_module": "@jupyter-widgets/controls",
            "_model_module_version": "1.5.0",
            "_model_name": "VBoxModel",
            "_view_count": null,
            "_view_module": "@jupyter-widgets/controls",
            "_view_module_version": "1.5.0",
            "_view_name": "VBoxView",
            "box_style": "",
            "children": [
              "IPY_MODEL_2a63572e05eb4427b027b0acf1570506",
              "IPY_MODEL_2dc21d5946764b67bc48b802fdb5d2dd"
            ],
            "layout": "IPY_MODEL_57aab38e592c41189a78d48bdb9ca127"
          }
        },
        "2a63572e05eb4427b027b0acf1570506": {
          "model_module": "@jupyter-widgets/controls",
          "model_name": "LabelModel",
          "model_module_version": "1.5.0",
          "state": {
            "_dom_classes": [],
            "_model_module": "@jupyter-widgets/controls",
            "_model_module_version": "1.5.0",
            "_model_name": "LabelModel",
            "_view_count": null,
            "_view_module": "@jupyter-widgets/controls",
            "_view_module_version": "1.5.0",
            "_view_name": "LabelView",
            "description": "",
            "description_tooltip": null,
            "layout": "IPY_MODEL_ff4397d43f724ddc824993af96126ff1",
            "placeholder": "​",
            "style": "IPY_MODEL_7f353f78705644b290c36c9cee53ace9",
            "value": "0.016 MB of 0.016 MB uploaded\r"
          }
        },
        "2dc21d5946764b67bc48b802fdb5d2dd": {
          "model_module": "@jupyter-widgets/controls",
          "model_name": "FloatProgressModel",
          "model_module_version": "1.5.0",
          "state": {
            "_dom_classes": [],
            "_model_module": "@jupyter-widgets/controls",
            "_model_module_version": "1.5.0",
            "_model_name": "FloatProgressModel",
            "_view_count": null,
            "_view_module": "@jupyter-widgets/controls",
            "_view_module_version": "1.5.0",
            "_view_name": "ProgressView",
            "bar_style": "",
            "description": "",
            "description_tooltip": null,
            "layout": "IPY_MODEL_50e8c255ce294ecd94854215de0b0594",
            "max": 1,
            "min": 0,
            "orientation": "horizontal",
            "style": "IPY_MODEL_7e9ce1d478e1469db291133a5aeacf5b",
            "value": 1
          }
        },
        "57aab38e592c41189a78d48bdb9ca127": {
          "model_module": "@jupyter-widgets/base",
          "model_name": "LayoutModel",
          "model_module_version": "1.2.0",
          "state": {
            "_model_module": "@jupyter-widgets/base",
            "_model_module_version": "1.2.0",
            "_model_name": "LayoutModel",
            "_view_count": null,
            "_view_module": "@jupyter-widgets/base",
            "_view_module_version": "1.2.0",
            "_view_name": "LayoutView",
            "align_content": null,
            "align_items": null,
            "align_self": null,
            "border": null,
            "bottom": null,
            "display": null,
            "flex": null,
            "flex_flow": null,
            "grid_area": null,
            "grid_auto_columns": null,
            "grid_auto_flow": null,
            "grid_auto_rows": null,
            "grid_column": null,
            "grid_gap": null,
            "grid_row": null,
            "grid_template_areas": null,
            "grid_template_columns": null,
            "grid_template_rows": null,
            "height": null,
            "justify_content": null,
            "justify_items": null,
            "left": null,
            "margin": null,
            "max_height": null,
            "max_width": null,
            "min_height": null,
            "min_width": null,
            "object_fit": null,
            "object_position": null,
            "order": null,
            "overflow": null,
            "overflow_x": null,
            "overflow_y": null,
            "padding": null,
            "right": null,
            "top": null,
            "visibility": null,
            "width": null
          }
        },
        "ff4397d43f724ddc824993af96126ff1": {
          "model_module": "@jupyter-widgets/base",
          "model_name": "LayoutModel",
          "model_module_version": "1.2.0",
          "state": {
            "_model_module": "@jupyter-widgets/base",
            "_model_module_version": "1.2.0",
            "_model_name": "LayoutModel",
            "_view_count": null,
            "_view_module": "@jupyter-widgets/base",
            "_view_module_version": "1.2.0",
            "_view_name": "LayoutView",
            "align_content": null,
            "align_items": null,
            "align_self": null,
            "border": null,
            "bottom": null,
            "display": null,
            "flex": null,
            "flex_flow": null,
            "grid_area": null,
            "grid_auto_columns": null,
            "grid_auto_flow": null,
            "grid_auto_rows": null,
            "grid_column": null,
            "grid_gap": null,
            "grid_row": null,
            "grid_template_areas": null,
            "grid_template_columns": null,
            "grid_template_rows": null,
            "height": null,
            "justify_content": null,
            "justify_items": null,
            "left": null,
            "margin": null,
            "max_height": null,
            "max_width": null,
            "min_height": null,
            "min_width": null,
            "object_fit": null,
            "object_position": null,
            "order": null,
            "overflow": null,
            "overflow_x": null,
            "overflow_y": null,
            "padding": null,
            "right": null,
            "top": null,
            "visibility": null,
            "width": null
          }
        },
        "7f353f78705644b290c36c9cee53ace9": {
          "model_module": "@jupyter-widgets/controls",
          "model_name": "DescriptionStyleModel",
          "model_module_version": "1.5.0",
          "state": {
            "_model_module": "@jupyter-widgets/controls",
            "_model_module_version": "1.5.0",
            "_model_name": "DescriptionStyleModel",
            "_view_count": null,
            "_view_module": "@jupyter-widgets/base",
            "_view_module_version": "1.2.0",
            "_view_name": "StyleView",
            "description_width": ""
          }
        },
        "50e8c255ce294ecd94854215de0b0594": {
          "model_module": "@jupyter-widgets/base",
          "model_name": "LayoutModel",
          "model_module_version": "1.2.0",
          "state": {
            "_model_module": "@jupyter-widgets/base",
            "_model_module_version": "1.2.0",
            "_model_name": "LayoutModel",
            "_view_count": null,
            "_view_module": "@jupyter-widgets/base",
            "_view_module_version": "1.2.0",
            "_view_name": "LayoutView",
            "align_content": null,
            "align_items": null,
            "align_self": null,
            "border": null,
            "bottom": null,
            "display": null,
            "flex": null,
            "flex_flow": null,
            "grid_area": null,
            "grid_auto_columns": null,
            "grid_auto_flow": null,
            "grid_auto_rows": null,
            "grid_column": null,
            "grid_gap": null,
            "grid_row": null,
            "grid_template_areas": null,
            "grid_template_columns": null,
            "grid_template_rows": null,
            "height": null,
            "justify_content": null,
            "justify_items": null,
            "left": null,
            "margin": null,
            "max_height": null,
            "max_width": null,
            "min_height": null,
            "min_width": null,
            "object_fit": null,
            "object_position": null,
            "order": null,
            "overflow": null,
            "overflow_x": null,
            "overflow_y": null,
            "padding": null,
            "right": null,
            "top": null,
            "visibility": null,
            "width": null
          }
        },
        "7e9ce1d478e1469db291133a5aeacf5b": {
          "model_module": "@jupyter-widgets/controls",
          "model_name": "ProgressStyleModel",
          "model_module_version": "1.5.0",
          "state": {
            "_model_module": "@jupyter-widgets/controls",
            "_model_module_version": "1.5.0",
            "_model_name": "ProgressStyleModel",
            "_view_count": null,
            "_view_module": "@jupyter-widgets/base",
            "_view_module_version": "1.2.0",
            "_view_name": "StyleView",
            "bar_color": null,
            "description_width": ""
          }
        },
        "59d4939c37d1412dac4dc05e85ea019a": {
          "model_module": "@jupyter-widgets/controls",
          "model_name": "VBoxModel",
          "model_module_version": "1.5.0",
          "state": {
            "_dom_classes": [],
            "_model_module": "@jupyter-widgets/controls",
            "_model_module_version": "1.5.0",
            "_model_name": "VBoxModel",
            "_view_count": null,
            "_view_module": "@jupyter-widgets/controls",
            "_view_module_version": "1.5.0",
            "_view_name": "VBoxView",
            "box_style": "",
            "children": [
              "IPY_MODEL_6409069f6dbb4e56bbd4de9f2e10347a",
              "IPY_MODEL_f8903df566b440fcb7ce4cbb29a82fa2"
            ],
            "layout": "IPY_MODEL_7fdecd56e57742f6a3227b554dfd660f"
          }
        },
        "6409069f6dbb4e56bbd4de9f2e10347a": {
          "model_module": "@jupyter-widgets/controls",
          "model_name": "LabelModel",
          "model_module_version": "1.5.0",
          "state": {
            "_dom_classes": [],
            "_model_module": "@jupyter-widgets/controls",
            "_model_module_version": "1.5.0",
            "_model_name": "LabelModel",
            "_view_count": null,
            "_view_module": "@jupyter-widgets/controls",
            "_view_module_version": "1.5.0",
            "_view_name": "LabelView",
            "description": "",
            "description_tooltip": null,
            "layout": "IPY_MODEL_0ba85ffbf4364a6da228c9bb528886b8",
            "placeholder": "​",
            "style": "IPY_MODEL_ec7548cb9d014fd59b1019ee66c1fac0",
            "value": "0.015 MB of 0.015 MB uploaded\r"
          }
        },
        "f8903df566b440fcb7ce4cbb29a82fa2": {
          "model_module": "@jupyter-widgets/controls",
          "model_name": "FloatProgressModel",
          "model_module_version": "1.5.0",
          "state": {
            "_dom_classes": [],
            "_model_module": "@jupyter-widgets/controls",
            "_model_module_version": "1.5.0",
            "_model_name": "FloatProgressModel",
            "_view_count": null,
            "_view_module": "@jupyter-widgets/controls",
            "_view_module_version": "1.5.0",
            "_view_name": "ProgressView",
            "bar_style": "",
            "description": "",
            "description_tooltip": null,
            "layout": "IPY_MODEL_677dd95af6c445bca56897779d391c32",
            "max": 1,
            "min": 0,
            "orientation": "horizontal",
            "style": "IPY_MODEL_9c4b9c2c5bf34d3588b5cbe64420a87c",
            "value": 1
          }
        },
        "7fdecd56e57742f6a3227b554dfd660f": {
          "model_module": "@jupyter-widgets/base",
          "model_name": "LayoutModel",
          "model_module_version": "1.2.0",
          "state": {
            "_model_module": "@jupyter-widgets/base",
            "_model_module_version": "1.2.0",
            "_model_name": "LayoutModel",
            "_view_count": null,
            "_view_module": "@jupyter-widgets/base",
            "_view_module_version": "1.2.0",
            "_view_name": "LayoutView",
            "align_content": null,
            "align_items": null,
            "align_self": null,
            "border": null,
            "bottom": null,
            "display": null,
            "flex": null,
            "flex_flow": null,
            "grid_area": null,
            "grid_auto_columns": null,
            "grid_auto_flow": null,
            "grid_auto_rows": null,
            "grid_column": null,
            "grid_gap": null,
            "grid_row": null,
            "grid_template_areas": null,
            "grid_template_columns": null,
            "grid_template_rows": null,
            "height": null,
            "justify_content": null,
            "justify_items": null,
            "left": null,
            "margin": null,
            "max_height": null,
            "max_width": null,
            "min_height": null,
            "min_width": null,
            "object_fit": null,
            "object_position": null,
            "order": null,
            "overflow": null,
            "overflow_x": null,
            "overflow_y": null,
            "padding": null,
            "right": null,
            "top": null,
            "visibility": null,
            "width": null
          }
        },
        "0ba85ffbf4364a6da228c9bb528886b8": {
          "model_module": "@jupyter-widgets/base",
          "model_name": "LayoutModel",
          "model_module_version": "1.2.0",
          "state": {
            "_model_module": "@jupyter-widgets/base",
            "_model_module_version": "1.2.0",
            "_model_name": "LayoutModel",
            "_view_count": null,
            "_view_module": "@jupyter-widgets/base",
            "_view_module_version": "1.2.0",
            "_view_name": "LayoutView",
            "align_content": null,
            "align_items": null,
            "align_self": null,
            "border": null,
            "bottom": null,
            "display": null,
            "flex": null,
            "flex_flow": null,
            "grid_area": null,
            "grid_auto_columns": null,
            "grid_auto_flow": null,
            "grid_auto_rows": null,
            "grid_column": null,
            "grid_gap": null,
            "grid_row": null,
            "grid_template_areas": null,
            "grid_template_columns": null,
            "grid_template_rows": null,
            "height": null,
            "justify_content": null,
            "justify_items": null,
            "left": null,
            "margin": null,
            "max_height": null,
            "max_width": null,
            "min_height": null,
            "min_width": null,
            "object_fit": null,
            "object_position": null,
            "order": null,
            "overflow": null,
            "overflow_x": null,
            "overflow_y": null,
            "padding": null,
            "right": null,
            "top": null,
            "visibility": null,
            "width": null
          }
        },
        "ec7548cb9d014fd59b1019ee66c1fac0": {
          "model_module": "@jupyter-widgets/controls",
          "model_name": "DescriptionStyleModel",
          "model_module_version": "1.5.0",
          "state": {
            "_model_module": "@jupyter-widgets/controls",
            "_model_module_version": "1.5.0",
            "_model_name": "DescriptionStyleModel",
            "_view_count": null,
            "_view_module": "@jupyter-widgets/base",
            "_view_module_version": "1.2.0",
            "_view_name": "StyleView",
            "description_width": ""
          }
        },
        "677dd95af6c445bca56897779d391c32": {
          "model_module": "@jupyter-widgets/base",
          "model_name": "LayoutModel",
          "model_module_version": "1.2.0",
          "state": {
            "_model_module": "@jupyter-widgets/base",
            "_model_module_version": "1.2.0",
            "_model_name": "LayoutModel",
            "_view_count": null,
            "_view_module": "@jupyter-widgets/base",
            "_view_module_version": "1.2.0",
            "_view_name": "LayoutView",
            "align_content": null,
            "align_items": null,
            "align_self": null,
            "border": null,
            "bottom": null,
            "display": null,
            "flex": null,
            "flex_flow": null,
            "grid_area": null,
            "grid_auto_columns": null,
            "grid_auto_flow": null,
            "grid_auto_rows": null,
            "grid_column": null,
            "grid_gap": null,
            "grid_row": null,
            "grid_template_areas": null,
            "grid_template_columns": null,
            "grid_template_rows": null,
            "height": null,
            "justify_content": null,
            "justify_items": null,
            "left": null,
            "margin": null,
            "max_height": null,
            "max_width": null,
            "min_height": null,
            "min_width": null,
            "object_fit": null,
            "object_position": null,
            "order": null,
            "overflow": null,
            "overflow_x": null,
            "overflow_y": null,
            "padding": null,
            "right": null,
            "top": null,
            "visibility": null,
            "width": null
          }
        },
        "9c4b9c2c5bf34d3588b5cbe64420a87c": {
          "model_module": "@jupyter-widgets/controls",
          "model_name": "ProgressStyleModel",
          "model_module_version": "1.5.0",
          "state": {
            "_model_module": "@jupyter-widgets/controls",
            "_model_module_version": "1.5.0",
            "_model_name": "ProgressStyleModel",
            "_view_count": null,
            "_view_module": "@jupyter-widgets/base",
            "_view_module_version": "1.2.0",
            "_view_name": "StyleView",
            "bar_color": null,
            "description_width": ""
          }
        },
        "0e87a398258241188435827c3166c7eb": {
          "model_module": "@jupyter-widgets/controls",
          "model_name": "VBoxModel",
          "model_module_version": "1.5.0",
          "state": {
            "_dom_classes": [],
            "_model_module": "@jupyter-widgets/controls",
            "_model_module_version": "1.5.0",
            "_model_name": "VBoxModel",
            "_view_count": null,
            "_view_module": "@jupyter-widgets/controls",
            "_view_module_version": "1.5.0",
            "_view_name": "VBoxView",
            "box_style": "",
            "children": [
              "IPY_MODEL_dc0892e00b4b40e294caffc6107836e0",
              "IPY_MODEL_0e6e60ab4cec40c28868766786a63bc4"
            ],
            "layout": "IPY_MODEL_a0a44039bf3243238135e070c8e949b5"
          }
        },
        "dc0892e00b4b40e294caffc6107836e0": {
          "model_module": "@jupyter-widgets/controls",
          "model_name": "LabelModel",
          "model_module_version": "1.5.0",
          "state": {
            "_dom_classes": [],
            "_model_module": "@jupyter-widgets/controls",
            "_model_module_version": "1.5.0",
            "_model_name": "LabelModel",
            "_view_count": null,
            "_view_module": "@jupyter-widgets/controls",
            "_view_module_version": "1.5.0",
            "_view_name": "LabelView",
            "description": "",
            "description_tooltip": null,
            "layout": "IPY_MODEL_8add697e3d3b4ffc81cb4e5cfe6d8c02",
            "placeholder": "​",
            "style": "IPY_MODEL_3760b65ea7a34440a7bb6fe8ac471c4a",
            "value": "0.015 MB of 0.015 MB uploaded\r"
          }
        },
        "0e6e60ab4cec40c28868766786a63bc4": {
          "model_module": "@jupyter-widgets/controls",
          "model_name": "FloatProgressModel",
          "model_module_version": "1.5.0",
          "state": {
            "_dom_classes": [],
            "_model_module": "@jupyter-widgets/controls",
            "_model_module_version": "1.5.0",
            "_model_name": "FloatProgressModel",
            "_view_count": null,
            "_view_module": "@jupyter-widgets/controls",
            "_view_module_version": "1.5.0",
            "_view_name": "ProgressView",
            "bar_style": "",
            "description": "",
            "description_tooltip": null,
            "layout": "IPY_MODEL_6cf2bd54507849cd9e44f88b670c613b",
            "max": 1,
            "min": 0,
            "orientation": "horizontal",
            "style": "IPY_MODEL_5cdbb989f3944c59be2a65342dad34a6",
            "value": 1
          }
        },
        "a0a44039bf3243238135e070c8e949b5": {
          "model_module": "@jupyter-widgets/base",
          "model_name": "LayoutModel",
          "model_module_version": "1.2.0",
          "state": {
            "_model_module": "@jupyter-widgets/base",
            "_model_module_version": "1.2.0",
            "_model_name": "LayoutModel",
            "_view_count": null,
            "_view_module": "@jupyter-widgets/base",
            "_view_module_version": "1.2.0",
            "_view_name": "LayoutView",
            "align_content": null,
            "align_items": null,
            "align_self": null,
            "border": null,
            "bottom": null,
            "display": null,
            "flex": null,
            "flex_flow": null,
            "grid_area": null,
            "grid_auto_columns": null,
            "grid_auto_flow": null,
            "grid_auto_rows": null,
            "grid_column": null,
            "grid_gap": null,
            "grid_row": null,
            "grid_template_areas": null,
            "grid_template_columns": null,
            "grid_template_rows": null,
            "height": null,
            "justify_content": null,
            "justify_items": null,
            "left": null,
            "margin": null,
            "max_height": null,
            "max_width": null,
            "min_height": null,
            "min_width": null,
            "object_fit": null,
            "object_position": null,
            "order": null,
            "overflow": null,
            "overflow_x": null,
            "overflow_y": null,
            "padding": null,
            "right": null,
            "top": null,
            "visibility": null,
            "width": null
          }
        },
        "8add697e3d3b4ffc81cb4e5cfe6d8c02": {
          "model_module": "@jupyter-widgets/base",
          "model_name": "LayoutModel",
          "model_module_version": "1.2.0",
          "state": {
            "_model_module": "@jupyter-widgets/base",
            "_model_module_version": "1.2.0",
            "_model_name": "LayoutModel",
            "_view_count": null,
            "_view_module": "@jupyter-widgets/base",
            "_view_module_version": "1.2.0",
            "_view_name": "LayoutView",
            "align_content": null,
            "align_items": null,
            "align_self": null,
            "border": null,
            "bottom": null,
            "display": null,
            "flex": null,
            "flex_flow": null,
            "grid_area": null,
            "grid_auto_columns": null,
            "grid_auto_flow": null,
            "grid_auto_rows": null,
            "grid_column": null,
            "grid_gap": null,
            "grid_row": null,
            "grid_template_areas": null,
            "grid_template_columns": null,
            "grid_template_rows": null,
            "height": null,
            "justify_content": null,
            "justify_items": null,
            "left": null,
            "margin": null,
            "max_height": null,
            "max_width": null,
            "min_height": null,
            "min_width": null,
            "object_fit": null,
            "object_position": null,
            "order": null,
            "overflow": null,
            "overflow_x": null,
            "overflow_y": null,
            "padding": null,
            "right": null,
            "top": null,
            "visibility": null,
            "width": null
          }
        },
        "3760b65ea7a34440a7bb6fe8ac471c4a": {
          "model_module": "@jupyter-widgets/controls",
          "model_name": "DescriptionStyleModel",
          "model_module_version": "1.5.0",
          "state": {
            "_model_module": "@jupyter-widgets/controls",
            "_model_module_version": "1.5.0",
            "_model_name": "DescriptionStyleModel",
            "_view_count": null,
            "_view_module": "@jupyter-widgets/base",
            "_view_module_version": "1.2.0",
            "_view_name": "StyleView",
            "description_width": ""
          }
        },
        "6cf2bd54507849cd9e44f88b670c613b": {
          "model_module": "@jupyter-widgets/base",
          "model_name": "LayoutModel",
          "model_module_version": "1.2.0",
          "state": {
            "_model_module": "@jupyter-widgets/base",
            "_model_module_version": "1.2.0",
            "_model_name": "LayoutModel",
            "_view_count": null,
            "_view_module": "@jupyter-widgets/base",
            "_view_module_version": "1.2.0",
            "_view_name": "LayoutView",
            "align_content": null,
            "align_items": null,
            "align_self": null,
            "border": null,
            "bottom": null,
            "display": null,
            "flex": null,
            "flex_flow": null,
            "grid_area": null,
            "grid_auto_columns": null,
            "grid_auto_flow": null,
            "grid_auto_rows": null,
            "grid_column": null,
            "grid_gap": null,
            "grid_row": null,
            "grid_template_areas": null,
            "grid_template_columns": null,
            "grid_template_rows": null,
            "height": null,
            "justify_content": null,
            "justify_items": null,
            "left": null,
            "margin": null,
            "max_height": null,
            "max_width": null,
            "min_height": null,
            "min_width": null,
            "object_fit": null,
            "object_position": null,
            "order": null,
            "overflow": null,
            "overflow_x": null,
            "overflow_y": null,
            "padding": null,
            "right": null,
            "top": null,
            "visibility": null,
            "width": null
          }
        },
        "5cdbb989f3944c59be2a65342dad34a6": {
          "model_module": "@jupyter-widgets/controls",
          "model_name": "ProgressStyleModel",
          "model_module_version": "1.5.0",
          "state": {
            "_model_module": "@jupyter-widgets/controls",
            "_model_module_version": "1.5.0",
            "_model_name": "ProgressStyleModel",
            "_view_count": null,
            "_view_module": "@jupyter-widgets/base",
            "_view_module_version": "1.2.0",
            "_view_name": "StyleView",
            "bar_color": null,
            "description_width": ""
          }
        },
        "8c16b7e1919c4c8d8162f0c8ed680314": {
          "model_module": "@jupyter-widgets/controls",
          "model_name": "VBoxModel",
          "model_module_version": "1.5.0",
          "state": {
            "_dom_classes": [],
            "_model_module": "@jupyter-widgets/controls",
            "_model_module_version": "1.5.0",
            "_model_name": "VBoxModel",
            "_view_count": null,
            "_view_module": "@jupyter-widgets/controls",
            "_view_module_version": "1.5.0",
            "_view_name": "VBoxView",
            "box_style": "",
            "children": [
              "IPY_MODEL_85e48cd50daa4e76a6a3ea762c277c86",
              "IPY_MODEL_c43495c19cb446efb3fff2ecf1b1de4e"
            ],
            "layout": "IPY_MODEL_25d1934f0db641eba19df16638853b41"
          }
        },
        "85e48cd50daa4e76a6a3ea762c277c86": {
          "model_module": "@jupyter-widgets/controls",
          "model_name": "LabelModel",
          "model_module_version": "1.5.0",
          "state": {
            "_dom_classes": [],
            "_model_module": "@jupyter-widgets/controls",
            "_model_module_version": "1.5.0",
            "_model_name": "LabelModel",
            "_view_count": null,
            "_view_module": "@jupyter-widgets/controls",
            "_view_module_version": "1.5.0",
            "_view_name": "LabelView",
            "description": "",
            "description_tooltip": null,
            "layout": "IPY_MODEL_e4cf53c8b8d744708167d937b14457a2",
            "placeholder": "​",
            "style": "IPY_MODEL_d5883447ccf44af2a63986def8086c3b",
            "value": "0.016 MB of 0.016 MB uploaded\r"
          }
        },
        "c43495c19cb446efb3fff2ecf1b1de4e": {
          "model_module": "@jupyter-widgets/controls",
          "model_name": "FloatProgressModel",
          "model_module_version": "1.5.0",
          "state": {
            "_dom_classes": [],
            "_model_module": "@jupyter-widgets/controls",
            "_model_module_version": "1.5.0",
            "_model_name": "FloatProgressModel",
            "_view_count": null,
            "_view_module": "@jupyter-widgets/controls",
            "_view_module_version": "1.5.0",
            "_view_name": "ProgressView",
            "bar_style": "",
            "description": "",
            "description_tooltip": null,
            "layout": "IPY_MODEL_cbf851f4078340638a5e94c191aad565",
            "max": 1,
            "min": 0,
            "orientation": "horizontal",
            "style": "IPY_MODEL_0d6bb09f44b5495c8da4991b2ba3f1a1",
            "value": 1
          }
        },
        "25d1934f0db641eba19df16638853b41": {
          "model_module": "@jupyter-widgets/base",
          "model_name": "LayoutModel",
          "model_module_version": "1.2.0",
          "state": {
            "_model_module": "@jupyter-widgets/base",
            "_model_module_version": "1.2.0",
            "_model_name": "LayoutModel",
            "_view_count": null,
            "_view_module": "@jupyter-widgets/base",
            "_view_module_version": "1.2.0",
            "_view_name": "LayoutView",
            "align_content": null,
            "align_items": null,
            "align_self": null,
            "border": null,
            "bottom": null,
            "display": null,
            "flex": null,
            "flex_flow": null,
            "grid_area": null,
            "grid_auto_columns": null,
            "grid_auto_flow": null,
            "grid_auto_rows": null,
            "grid_column": null,
            "grid_gap": null,
            "grid_row": null,
            "grid_template_areas": null,
            "grid_template_columns": null,
            "grid_template_rows": null,
            "height": null,
            "justify_content": null,
            "justify_items": null,
            "left": null,
            "margin": null,
            "max_height": null,
            "max_width": null,
            "min_height": null,
            "min_width": null,
            "object_fit": null,
            "object_position": null,
            "order": null,
            "overflow": null,
            "overflow_x": null,
            "overflow_y": null,
            "padding": null,
            "right": null,
            "top": null,
            "visibility": null,
            "width": null
          }
        },
        "e4cf53c8b8d744708167d937b14457a2": {
          "model_module": "@jupyter-widgets/base",
          "model_name": "LayoutModel",
          "model_module_version": "1.2.0",
          "state": {
            "_model_module": "@jupyter-widgets/base",
            "_model_module_version": "1.2.0",
            "_model_name": "LayoutModel",
            "_view_count": null,
            "_view_module": "@jupyter-widgets/base",
            "_view_module_version": "1.2.0",
            "_view_name": "LayoutView",
            "align_content": null,
            "align_items": null,
            "align_self": null,
            "border": null,
            "bottom": null,
            "display": null,
            "flex": null,
            "flex_flow": null,
            "grid_area": null,
            "grid_auto_columns": null,
            "grid_auto_flow": null,
            "grid_auto_rows": null,
            "grid_column": null,
            "grid_gap": null,
            "grid_row": null,
            "grid_template_areas": null,
            "grid_template_columns": null,
            "grid_template_rows": null,
            "height": null,
            "justify_content": null,
            "justify_items": null,
            "left": null,
            "margin": null,
            "max_height": null,
            "max_width": null,
            "min_height": null,
            "min_width": null,
            "object_fit": null,
            "object_position": null,
            "order": null,
            "overflow": null,
            "overflow_x": null,
            "overflow_y": null,
            "padding": null,
            "right": null,
            "top": null,
            "visibility": null,
            "width": null
          }
        },
        "d5883447ccf44af2a63986def8086c3b": {
          "model_module": "@jupyter-widgets/controls",
          "model_name": "DescriptionStyleModel",
          "model_module_version": "1.5.0",
          "state": {
            "_model_module": "@jupyter-widgets/controls",
            "_model_module_version": "1.5.0",
            "_model_name": "DescriptionStyleModel",
            "_view_count": null,
            "_view_module": "@jupyter-widgets/base",
            "_view_module_version": "1.2.0",
            "_view_name": "StyleView",
            "description_width": ""
          }
        },
        "cbf851f4078340638a5e94c191aad565": {
          "model_module": "@jupyter-widgets/base",
          "model_name": "LayoutModel",
          "model_module_version": "1.2.0",
          "state": {
            "_model_module": "@jupyter-widgets/base",
            "_model_module_version": "1.2.0",
            "_model_name": "LayoutModel",
            "_view_count": null,
            "_view_module": "@jupyter-widgets/base",
            "_view_module_version": "1.2.0",
            "_view_name": "LayoutView",
            "align_content": null,
            "align_items": null,
            "align_self": null,
            "border": null,
            "bottom": null,
            "display": null,
            "flex": null,
            "flex_flow": null,
            "grid_area": null,
            "grid_auto_columns": null,
            "grid_auto_flow": null,
            "grid_auto_rows": null,
            "grid_column": null,
            "grid_gap": null,
            "grid_row": null,
            "grid_template_areas": null,
            "grid_template_columns": null,
            "grid_template_rows": null,
            "height": null,
            "justify_content": null,
            "justify_items": null,
            "left": null,
            "margin": null,
            "max_height": null,
            "max_width": null,
            "min_height": null,
            "min_width": null,
            "object_fit": null,
            "object_position": null,
            "order": null,
            "overflow": null,
            "overflow_x": null,
            "overflow_y": null,
            "padding": null,
            "right": null,
            "top": null,
            "visibility": null,
            "width": null
          }
        },
        "0d6bb09f44b5495c8da4991b2ba3f1a1": {
          "model_module": "@jupyter-widgets/controls",
          "model_name": "ProgressStyleModel",
          "model_module_version": "1.5.0",
          "state": {
            "_model_module": "@jupyter-widgets/controls",
            "_model_module_version": "1.5.0",
            "_model_name": "ProgressStyleModel",
            "_view_count": null,
            "_view_module": "@jupyter-widgets/base",
            "_view_module_version": "1.2.0",
            "_view_name": "StyleView",
            "bar_color": null,
            "description_width": ""
          }
        },
        "093cf10bb95343aca2de1dac915ab66b": {
          "model_module": "@jupyter-widgets/controls",
          "model_name": "VBoxModel",
          "model_module_version": "1.5.0",
          "state": {
            "_dom_classes": [],
            "_model_module": "@jupyter-widgets/controls",
            "_model_module_version": "1.5.0",
            "_model_name": "VBoxModel",
            "_view_count": null,
            "_view_module": "@jupyter-widgets/controls",
            "_view_module_version": "1.5.0",
            "_view_name": "VBoxView",
            "box_style": "",
            "children": [
              "IPY_MODEL_38f1eb7d47844bccb01125f8e655046e",
              "IPY_MODEL_4cf257923cb04c62946b05a37bb5868c"
            ],
            "layout": "IPY_MODEL_6f25678a25fa4eac9e12d7aa7dbed4fe"
          }
        },
        "38f1eb7d47844bccb01125f8e655046e": {
          "model_module": "@jupyter-widgets/controls",
          "model_name": "LabelModel",
          "model_module_version": "1.5.0",
          "state": {
            "_dom_classes": [],
            "_model_module": "@jupyter-widgets/controls",
            "_model_module_version": "1.5.0",
            "_model_name": "LabelModel",
            "_view_count": null,
            "_view_module": "@jupyter-widgets/controls",
            "_view_module_version": "1.5.0",
            "_view_name": "LabelView",
            "description": "",
            "description_tooltip": null,
            "layout": "IPY_MODEL_a5cf623bffe34c0392266f49d32f1bc9",
            "placeholder": "​",
            "style": "IPY_MODEL_864363d3d8d9425690bb442989508fb5",
            "value": "0.017 MB of 0.017 MB uploaded\r"
          }
        },
        "4cf257923cb04c62946b05a37bb5868c": {
          "model_module": "@jupyter-widgets/controls",
          "model_name": "FloatProgressModel",
          "model_module_version": "1.5.0",
          "state": {
            "_dom_classes": [],
            "_model_module": "@jupyter-widgets/controls",
            "_model_module_version": "1.5.0",
            "_model_name": "FloatProgressModel",
            "_view_count": null,
            "_view_module": "@jupyter-widgets/controls",
            "_view_module_version": "1.5.0",
            "_view_name": "ProgressView",
            "bar_style": "",
            "description": "",
            "description_tooltip": null,
            "layout": "IPY_MODEL_6ac475c0a8f0400a89b322c9676738fc",
            "max": 1,
            "min": 0,
            "orientation": "horizontal",
            "style": "IPY_MODEL_a509571fe10e4211902391b6cee9e204",
            "value": 1
          }
        },
        "6f25678a25fa4eac9e12d7aa7dbed4fe": {
          "model_module": "@jupyter-widgets/base",
          "model_name": "LayoutModel",
          "model_module_version": "1.2.0",
          "state": {
            "_model_module": "@jupyter-widgets/base",
            "_model_module_version": "1.2.0",
            "_model_name": "LayoutModel",
            "_view_count": null,
            "_view_module": "@jupyter-widgets/base",
            "_view_module_version": "1.2.0",
            "_view_name": "LayoutView",
            "align_content": null,
            "align_items": null,
            "align_self": null,
            "border": null,
            "bottom": null,
            "display": null,
            "flex": null,
            "flex_flow": null,
            "grid_area": null,
            "grid_auto_columns": null,
            "grid_auto_flow": null,
            "grid_auto_rows": null,
            "grid_column": null,
            "grid_gap": null,
            "grid_row": null,
            "grid_template_areas": null,
            "grid_template_columns": null,
            "grid_template_rows": null,
            "height": null,
            "justify_content": null,
            "justify_items": null,
            "left": null,
            "margin": null,
            "max_height": null,
            "max_width": null,
            "min_height": null,
            "min_width": null,
            "object_fit": null,
            "object_position": null,
            "order": null,
            "overflow": null,
            "overflow_x": null,
            "overflow_y": null,
            "padding": null,
            "right": null,
            "top": null,
            "visibility": null,
            "width": null
          }
        },
        "a5cf623bffe34c0392266f49d32f1bc9": {
          "model_module": "@jupyter-widgets/base",
          "model_name": "LayoutModel",
          "model_module_version": "1.2.0",
          "state": {
            "_model_module": "@jupyter-widgets/base",
            "_model_module_version": "1.2.0",
            "_model_name": "LayoutModel",
            "_view_count": null,
            "_view_module": "@jupyter-widgets/base",
            "_view_module_version": "1.2.0",
            "_view_name": "LayoutView",
            "align_content": null,
            "align_items": null,
            "align_self": null,
            "border": null,
            "bottom": null,
            "display": null,
            "flex": null,
            "flex_flow": null,
            "grid_area": null,
            "grid_auto_columns": null,
            "grid_auto_flow": null,
            "grid_auto_rows": null,
            "grid_column": null,
            "grid_gap": null,
            "grid_row": null,
            "grid_template_areas": null,
            "grid_template_columns": null,
            "grid_template_rows": null,
            "height": null,
            "justify_content": null,
            "justify_items": null,
            "left": null,
            "margin": null,
            "max_height": null,
            "max_width": null,
            "min_height": null,
            "min_width": null,
            "object_fit": null,
            "object_position": null,
            "order": null,
            "overflow": null,
            "overflow_x": null,
            "overflow_y": null,
            "padding": null,
            "right": null,
            "top": null,
            "visibility": null,
            "width": null
          }
        },
        "864363d3d8d9425690bb442989508fb5": {
          "model_module": "@jupyter-widgets/controls",
          "model_name": "DescriptionStyleModel",
          "model_module_version": "1.5.0",
          "state": {
            "_model_module": "@jupyter-widgets/controls",
            "_model_module_version": "1.5.0",
            "_model_name": "DescriptionStyleModel",
            "_view_count": null,
            "_view_module": "@jupyter-widgets/base",
            "_view_module_version": "1.2.0",
            "_view_name": "StyleView",
            "description_width": ""
          }
        },
        "6ac475c0a8f0400a89b322c9676738fc": {
          "model_module": "@jupyter-widgets/base",
          "model_name": "LayoutModel",
          "model_module_version": "1.2.0",
          "state": {
            "_model_module": "@jupyter-widgets/base",
            "_model_module_version": "1.2.0",
            "_model_name": "LayoutModel",
            "_view_count": null,
            "_view_module": "@jupyter-widgets/base",
            "_view_module_version": "1.2.0",
            "_view_name": "LayoutView",
            "align_content": null,
            "align_items": null,
            "align_self": null,
            "border": null,
            "bottom": null,
            "display": null,
            "flex": null,
            "flex_flow": null,
            "grid_area": null,
            "grid_auto_columns": null,
            "grid_auto_flow": null,
            "grid_auto_rows": null,
            "grid_column": null,
            "grid_gap": null,
            "grid_row": null,
            "grid_template_areas": null,
            "grid_template_columns": null,
            "grid_template_rows": null,
            "height": null,
            "justify_content": null,
            "justify_items": null,
            "left": null,
            "margin": null,
            "max_height": null,
            "max_width": null,
            "min_height": null,
            "min_width": null,
            "object_fit": null,
            "object_position": null,
            "order": null,
            "overflow": null,
            "overflow_x": null,
            "overflow_y": null,
            "padding": null,
            "right": null,
            "top": null,
            "visibility": null,
            "width": null
          }
        },
        "a509571fe10e4211902391b6cee9e204": {
          "model_module": "@jupyter-widgets/controls",
          "model_name": "ProgressStyleModel",
          "model_module_version": "1.5.0",
          "state": {
            "_model_module": "@jupyter-widgets/controls",
            "_model_module_version": "1.5.0",
            "_model_name": "ProgressStyleModel",
            "_view_count": null,
            "_view_module": "@jupyter-widgets/base",
            "_view_module_version": "1.2.0",
            "_view_name": "StyleView",
            "bar_color": null,
            "description_width": ""
          }
        },
        "d82117f460c340a69fad8d209baacb5b": {
          "model_module": "@jupyter-widgets/controls",
          "model_name": "VBoxModel",
          "model_module_version": "1.5.0",
          "state": {
            "_dom_classes": [],
            "_model_module": "@jupyter-widgets/controls",
            "_model_module_version": "1.5.0",
            "_model_name": "VBoxModel",
            "_view_count": null,
            "_view_module": "@jupyter-widgets/controls",
            "_view_module_version": "1.5.0",
            "_view_name": "VBoxView",
            "box_style": "",
            "children": [
              "IPY_MODEL_2b78ff73805d4c0c998353ffc31ae0df",
              "IPY_MODEL_0a076826a6ae4ba8a68b435d2a4410f1"
            ],
            "layout": "IPY_MODEL_2b7dc2f1d6ab4ecabcac8467a37c12fb"
          }
        },
        "2b78ff73805d4c0c998353ffc31ae0df": {
          "model_module": "@jupyter-widgets/controls",
          "model_name": "LabelModel",
          "model_module_version": "1.5.0",
          "state": {
            "_dom_classes": [],
            "_model_module": "@jupyter-widgets/controls",
            "_model_module_version": "1.5.0",
            "_model_name": "LabelModel",
            "_view_count": null,
            "_view_module": "@jupyter-widgets/controls",
            "_view_module_version": "1.5.0",
            "_view_name": "LabelView",
            "description": "",
            "description_tooltip": null,
            "layout": "IPY_MODEL_f87b62ae259d4ca49f62b9b9f4a8bc80",
            "placeholder": "​",
            "style": "IPY_MODEL_d3e5583c944a4ca29eee5fbb1bd71181",
            "value": "Waiting for wandb.init()...\r"
          }
        },
        "0a076826a6ae4ba8a68b435d2a4410f1": {
          "model_module": "@jupyter-widgets/controls",
          "model_name": "FloatProgressModel",
          "model_module_version": "1.5.0",
          "state": {
            "_dom_classes": [],
            "_model_module": "@jupyter-widgets/controls",
            "_model_module_version": "1.5.0",
            "_model_name": "FloatProgressModel",
            "_view_count": null,
            "_view_module": "@jupyter-widgets/controls",
            "_view_module_version": "1.5.0",
            "_view_name": "ProgressView",
            "bar_style": "",
            "description": "",
            "description_tooltip": null,
            "layout": "IPY_MODEL_889392ae2fb34370b9205ba4a7d87040",
            "max": 1,
            "min": 0,
            "orientation": "horizontal",
            "style": "IPY_MODEL_9c7de6c90bf04d179b4b54bb74ff953b",
            "value": 1
          }
        },
        "2b7dc2f1d6ab4ecabcac8467a37c12fb": {
          "model_module": "@jupyter-widgets/base",
          "model_name": "LayoutModel",
          "model_module_version": "1.2.0",
          "state": {
            "_model_module": "@jupyter-widgets/base",
            "_model_module_version": "1.2.0",
            "_model_name": "LayoutModel",
            "_view_count": null,
            "_view_module": "@jupyter-widgets/base",
            "_view_module_version": "1.2.0",
            "_view_name": "LayoutView",
            "align_content": null,
            "align_items": null,
            "align_self": null,
            "border": null,
            "bottom": null,
            "display": null,
            "flex": null,
            "flex_flow": null,
            "grid_area": null,
            "grid_auto_columns": null,
            "grid_auto_flow": null,
            "grid_auto_rows": null,
            "grid_column": null,
            "grid_gap": null,
            "grid_row": null,
            "grid_template_areas": null,
            "grid_template_columns": null,
            "grid_template_rows": null,
            "height": null,
            "justify_content": null,
            "justify_items": null,
            "left": null,
            "margin": null,
            "max_height": null,
            "max_width": null,
            "min_height": null,
            "min_width": null,
            "object_fit": null,
            "object_position": null,
            "order": null,
            "overflow": null,
            "overflow_x": null,
            "overflow_y": null,
            "padding": null,
            "right": null,
            "top": null,
            "visibility": null,
            "width": null
          }
        },
        "f87b62ae259d4ca49f62b9b9f4a8bc80": {
          "model_module": "@jupyter-widgets/base",
          "model_name": "LayoutModel",
          "model_module_version": "1.2.0",
          "state": {
            "_model_module": "@jupyter-widgets/base",
            "_model_module_version": "1.2.0",
            "_model_name": "LayoutModel",
            "_view_count": null,
            "_view_module": "@jupyter-widgets/base",
            "_view_module_version": "1.2.0",
            "_view_name": "LayoutView",
            "align_content": null,
            "align_items": null,
            "align_self": null,
            "border": null,
            "bottom": null,
            "display": null,
            "flex": null,
            "flex_flow": null,
            "grid_area": null,
            "grid_auto_columns": null,
            "grid_auto_flow": null,
            "grid_auto_rows": null,
            "grid_column": null,
            "grid_gap": null,
            "grid_row": null,
            "grid_template_areas": null,
            "grid_template_columns": null,
            "grid_template_rows": null,
            "height": null,
            "justify_content": null,
            "justify_items": null,
            "left": null,
            "margin": null,
            "max_height": null,
            "max_width": null,
            "min_height": null,
            "min_width": null,
            "object_fit": null,
            "object_position": null,
            "order": null,
            "overflow": null,
            "overflow_x": null,
            "overflow_y": null,
            "padding": null,
            "right": null,
            "top": null,
            "visibility": null,
            "width": null
          }
        },
        "d3e5583c944a4ca29eee5fbb1bd71181": {
          "model_module": "@jupyter-widgets/controls",
          "model_name": "DescriptionStyleModel",
          "model_module_version": "1.5.0",
          "state": {
            "_model_module": "@jupyter-widgets/controls",
            "_model_module_version": "1.5.0",
            "_model_name": "DescriptionStyleModel",
            "_view_count": null,
            "_view_module": "@jupyter-widgets/base",
            "_view_module_version": "1.2.0",
            "_view_name": "StyleView",
            "description_width": ""
          }
        },
        "889392ae2fb34370b9205ba4a7d87040": {
          "model_module": "@jupyter-widgets/base",
          "model_name": "LayoutModel",
          "model_module_version": "1.2.0",
          "state": {
            "_model_module": "@jupyter-widgets/base",
            "_model_module_version": "1.2.0",
            "_model_name": "LayoutModel",
            "_view_count": null,
            "_view_module": "@jupyter-widgets/base",
            "_view_module_version": "1.2.0",
            "_view_name": "LayoutView",
            "align_content": null,
            "align_items": null,
            "align_self": null,
            "border": null,
            "bottom": null,
            "display": null,
            "flex": null,
            "flex_flow": null,
            "grid_area": null,
            "grid_auto_columns": null,
            "grid_auto_flow": null,
            "grid_auto_rows": null,
            "grid_column": null,
            "grid_gap": null,
            "grid_row": null,
            "grid_template_areas": null,
            "grid_template_columns": null,
            "grid_template_rows": null,
            "height": null,
            "justify_content": null,
            "justify_items": null,
            "left": null,
            "margin": null,
            "max_height": null,
            "max_width": null,
            "min_height": null,
            "min_width": null,
            "object_fit": null,
            "object_position": null,
            "order": null,
            "overflow": null,
            "overflow_x": null,
            "overflow_y": null,
            "padding": null,
            "right": null,
            "top": null,
            "visibility": null,
            "width": null
          }
        },
        "9c7de6c90bf04d179b4b54bb74ff953b": {
          "model_module": "@jupyter-widgets/controls",
          "model_name": "ProgressStyleModel",
          "model_module_version": "1.5.0",
          "state": {
            "_model_module": "@jupyter-widgets/controls",
            "_model_module_version": "1.5.0",
            "_model_name": "ProgressStyleModel",
            "_view_count": null,
            "_view_module": "@jupyter-widgets/base",
            "_view_module_version": "1.2.0",
            "_view_name": "StyleView",
            "bar_color": null,
            "description_width": ""
          }
        },
        "2f70c27ff1b342e48db66726cb84729c": {
          "model_module": "@jupyter-widgets/controls",
          "model_name": "VBoxModel",
          "model_module_version": "1.5.0",
          "state": {
            "_dom_classes": [],
            "_model_module": "@jupyter-widgets/controls",
            "_model_module_version": "1.5.0",
            "_model_name": "VBoxModel",
            "_view_count": null,
            "_view_module": "@jupyter-widgets/controls",
            "_view_module_version": "1.5.0",
            "_view_name": "VBoxView",
            "box_style": "",
            "children": [
              "IPY_MODEL_dde1df6d10c746f282b9cf7d8ed9ab26",
              "IPY_MODEL_14820ecb24a048bd84ddeeba53264956"
            ],
            "layout": "IPY_MODEL_dc12c3114f464992a1b4b982c3b168d7"
          }
        },
        "dde1df6d10c746f282b9cf7d8ed9ab26": {
          "model_module": "@jupyter-widgets/controls",
          "model_name": "LabelModel",
          "model_module_version": "1.5.0",
          "state": {
            "_dom_classes": [],
            "_model_module": "@jupyter-widgets/controls",
            "_model_module_version": "1.5.0",
            "_model_name": "LabelModel",
            "_view_count": null,
            "_view_module": "@jupyter-widgets/controls",
            "_view_module_version": "1.5.0",
            "_view_name": "LabelView",
            "description": "",
            "description_tooltip": null,
            "layout": "IPY_MODEL_7447bdb1b6764a03a7621043da14baa2",
            "placeholder": "​",
            "style": "IPY_MODEL_1606d2838e6b4b13a54aae715f413ff4",
            "value": "0.016 MB of 0.016 MB uploaded\r"
          }
        },
        "14820ecb24a048bd84ddeeba53264956": {
          "model_module": "@jupyter-widgets/controls",
          "model_name": "FloatProgressModel",
          "model_module_version": "1.5.0",
          "state": {
            "_dom_classes": [],
            "_model_module": "@jupyter-widgets/controls",
            "_model_module_version": "1.5.0",
            "_model_name": "FloatProgressModel",
            "_view_count": null,
            "_view_module": "@jupyter-widgets/controls",
            "_view_module_version": "1.5.0",
            "_view_name": "ProgressView",
            "bar_style": "",
            "description": "",
            "description_tooltip": null,
            "layout": "IPY_MODEL_4bd80e6b5bfd499fa7e9adfd17e6120b",
            "max": 1,
            "min": 0,
            "orientation": "horizontal",
            "style": "IPY_MODEL_8d31c9ac7a444bb6969c0730e985e96f",
            "value": 1
          }
        },
        "dc12c3114f464992a1b4b982c3b168d7": {
          "model_module": "@jupyter-widgets/base",
          "model_name": "LayoutModel",
          "model_module_version": "1.2.0",
          "state": {
            "_model_module": "@jupyter-widgets/base",
            "_model_module_version": "1.2.0",
            "_model_name": "LayoutModel",
            "_view_count": null,
            "_view_module": "@jupyter-widgets/base",
            "_view_module_version": "1.2.0",
            "_view_name": "LayoutView",
            "align_content": null,
            "align_items": null,
            "align_self": null,
            "border": null,
            "bottom": null,
            "display": null,
            "flex": null,
            "flex_flow": null,
            "grid_area": null,
            "grid_auto_columns": null,
            "grid_auto_flow": null,
            "grid_auto_rows": null,
            "grid_column": null,
            "grid_gap": null,
            "grid_row": null,
            "grid_template_areas": null,
            "grid_template_columns": null,
            "grid_template_rows": null,
            "height": null,
            "justify_content": null,
            "justify_items": null,
            "left": null,
            "margin": null,
            "max_height": null,
            "max_width": null,
            "min_height": null,
            "min_width": null,
            "object_fit": null,
            "object_position": null,
            "order": null,
            "overflow": null,
            "overflow_x": null,
            "overflow_y": null,
            "padding": null,
            "right": null,
            "top": null,
            "visibility": null,
            "width": null
          }
        },
        "7447bdb1b6764a03a7621043da14baa2": {
          "model_module": "@jupyter-widgets/base",
          "model_name": "LayoutModel",
          "model_module_version": "1.2.0",
          "state": {
            "_model_module": "@jupyter-widgets/base",
            "_model_module_version": "1.2.0",
            "_model_name": "LayoutModel",
            "_view_count": null,
            "_view_module": "@jupyter-widgets/base",
            "_view_module_version": "1.2.0",
            "_view_name": "LayoutView",
            "align_content": null,
            "align_items": null,
            "align_self": null,
            "border": null,
            "bottom": null,
            "display": null,
            "flex": null,
            "flex_flow": null,
            "grid_area": null,
            "grid_auto_columns": null,
            "grid_auto_flow": null,
            "grid_auto_rows": null,
            "grid_column": null,
            "grid_gap": null,
            "grid_row": null,
            "grid_template_areas": null,
            "grid_template_columns": null,
            "grid_template_rows": null,
            "height": null,
            "justify_content": null,
            "justify_items": null,
            "left": null,
            "margin": null,
            "max_height": null,
            "max_width": null,
            "min_height": null,
            "min_width": null,
            "object_fit": null,
            "object_position": null,
            "order": null,
            "overflow": null,
            "overflow_x": null,
            "overflow_y": null,
            "padding": null,
            "right": null,
            "top": null,
            "visibility": null,
            "width": null
          }
        },
        "1606d2838e6b4b13a54aae715f413ff4": {
          "model_module": "@jupyter-widgets/controls",
          "model_name": "DescriptionStyleModel",
          "model_module_version": "1.5.0",
          "state": {
            "_model_module": "@jupyter-widgets/controls",
            "_model_module_version": "1.5.0",
            "_model_name": "DescriptionStyleModel",
            "_view_count": null,
            "_view_module": "@jupyter-widgets/base",
            "_view_module_version": "1.2.0",
            "_view_name": "StyleView",
            "description_width": ""
          }
        },
        "4bd80e6b5bfd499fa7e9adfd17e6120b": {
          "model_module": "@jupyter-widgets/base",
          "model_name": "LayoutModel",
          "model_module_version": "1.2.0",
          "state": {
            "_model_module": "@jupyter-widgets/base",
            "_model_module_version": "1.2.0",
            "_model_name": "LayoutModel",
            "_view_count": null,
            "_view_module": "@jupyter-widgets/base",
            "_view_module_version": "1.2.0",
            "_view_name": "LayoutView",
            "align_content": null,
            "align_items": null,
            "align_self": null,
            "border": null,
            "bottom": null,
            "display": null,
            "flex": null,
            "flex_flow": null,
            "grid_area": null,
            "grid_auto_columns": null,
            "grid_auto_flow": null,
            "grid_auto_rows": null,
            "grid_column": null,
            "grid_gap": null,
            "grid_row": null,
            "grid_template_areas": null,
            "grid_template_columns": null,
            "grid_template_rows": null,
            "height": null,
            "justify_content": null,
            "justify_items": null,
            "left": null,
            "margin": null,
            "max_height": null,
            "max_width": null,
            "min_height": null,
            "min_width": null,
            "object_fit": null,
            "object_position": null,
            "order": null,
            "overflow": null,
            "overflow_x": null,
            "overflow_y": null,
            "padding": null,
            "right": null,
            "top": null,
            "visibility": null,
            "width": null
          }
        },
        "8d31c9ac7a444bb6969c0730e985e96f": {
          "model_module": "@jupyter-widgets/controls",
          "model_name": "ProgressStyleModel",
          "model_module_version": "1.5.0",
          "state": {
            "_model_module": "@jupyter-widgets/controls",
            "_model_module_version": "1.5.0",
            "_model_name": "ProgressStyleModel",
            "_view_count": null,
            "_view_module": "@jupyter-widgets/base",
            "_view_module_version": "1.2.0",
            "_view_name": "StyleView",
            "bar_color": null,
            "description_width": ""
          }
        }
      }
    }
  },
  "nbformat": 4,
  "nbformat_minor": 0
}